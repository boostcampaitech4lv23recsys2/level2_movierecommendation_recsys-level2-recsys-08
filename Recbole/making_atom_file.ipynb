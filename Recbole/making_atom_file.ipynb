{
 "cells": [
  {
   "cell_type": "markdown",
   "id": "a10a8ff3-a894-460d-a0df-9fed7196092a",
   "metadata": {},
   "source": [
    "## make inter file"
   ]
  },
  {
   "cell_type": "code",
   "execution_count": 29,
   "id": "c4aa3aae-1173-4173-bc9c-fc32a6ddcdb1",
   "metadata": {},
   "outputs": [],
   "source": [
    "import torch\n",
    "import pandas as pd\n",
    "import numpy as np\n",
    "import os\n",
    "# 만약 주피터 노트북에서 아래와 관계있는 에러가 발생한다면\n",
    "# pip install ipywidgets"
   ]
  },
  {
   "cell_type": "markdown",
   "id": "c401d012-9111-494b-875d-d5b833f27fc7",
   "metadata": {},
   "source": [
    "# FFM_0.0999"
   ]
  },
  {
   "cell_type": "code",
   "execution_count": 47,
   "id": "fe35290e-a15b-4197-bc8e-7d68aafb801e",
   "metadata": {},
   "outputs": [],
   "source": [
    "train_data = pd.read_csv('/opt/ml/input/data/train/train_ratings.csv') # user-item-time\n",
    "user_data = pd.read_csv('/opt/ml/input/fighting/FE/user/user_director3_fe.csv') # user-director1-director2-director3\n",
    "item_data = pd.read_csv('/opt/ml/input/fighting/FE/director/director_str.csv') # item-director_oneline\n"
   ]
  },
  {
   "cell_type": "code",
   "execution_count": null,
   "id": "ae2bbc8d-463b-4e15-a804-16d907a43fc8",
   "metadata": {},
   "outputs": [],
   "source": [
    "# user, item indexing"
   ]
  },
  {
   "cell_type": "code",
   "execution_count": 48,
   "id": "7cbf549c-648a-4ad2-b99e-e20bf86eebd2",
   "metadata": {},
   "outputs": [],
   "source": [
    "user2idx = {v:k for k,v in enumerate(sorted(set(train_data.user)))}\n",
    "item2idx = {v:k for k,v in enumerate(sorted(set(train_data.item)))}\n",
    "uidx2user = {k:v for k,v in enumerate(sorted(set(train_data.user)))}\n",
    "iidx2item = {k:v for k,v in enumerate(sorted(set(train_data.item)))}"
   ]
  },
  {
   "cell_type": "code",
   "execution_count": 49,
   "id": "85ec7ac6-ebaf-401d-aa69-95a390b5e826",
   "metadata": {
    "ExecuteTime": {
     "end_time": "2022-12-21T14:43:39.800650Z",
     "start_time": "2022-12-21T14:43:39.383554Z"
    }
   },
   "outputs": [],
   "source": [
    "train_data.user = train_data.user.map(user2idx)\n",
    "train_data.item = train_data.item.map(item2idx)\n",
    "user_data.user = user_data.user.map(user2idx)\n",
    "item_data.item = item_data.item.map(item2idx)"
   ]
  },
  {
   "cell_type": "code",
   "execution_count": null,
   "id": "d1d73212-09c5-436e-9067-58566db043ef",
   "metadata": {},
   "outputs": [],
   "source": [
    "# 컬럼명 바꾸기"
   ]
  },
  {
   "cell_type": "code",
   "execution_count": 50,
   "id": "3e276d07-bf8f-4a96-8714-342a414e892f",
   "metadata": {},
   "outputs": [],
   "source": [
    "train_data.columns=['user_id:token', 'item_id:token', 'timestamp:float']\n",
    "user_data.columns=['user_id:token', 'director1:token', 'director2:token', 'director3:token']\n",
    "item_data.columns=['item_id:token', 'director_str:token_seq']"
   ]
  },
  {
   "cell_type": "code",
   "execution_count": 51,
   "id": "64964f91-54c4-48ac-bf64-29dbe353aad2",
   "metadata": {},
   "outputs": [
    {
     "data": {
      "text/plain": [
       "((5154471, 3), (31360, 4), (6807, 2))"
      ]
     },
     "execution_count": 51,
     "metadata": {},
     "output_type": "execute_result"
    }
   ],
   "source": [
    "train_data.shape, user_data.shape, item_data.shape"
   ]
  },
  {
   "cell_type": "code",
   "execution_count": 52,
   "id": "4cf55866-89f7-4b4b-a530-2ce283bdcc3f",
   "metadata": {},
   "outputs": [
    {
     "data": {
      "text/html": [
       "<div>\n",
       "<style scoped>\n",
       "    .dataframe tbody tr th:only-of-type {\n",
       "        vertical-align: middle;\n",
       "    }\n",
       "\n",
       "    .dataframe tbody tr th {\n",
       "        vertical-align: top;\n",
       "    }\n",
       "\n",
       "    .dataframe thead th {\n",
       "        text-align: right;\n",
       "    }\n",
       "</style>\n",
       "<table border=\"1\" class=\"dataframe\">\n",
       "  <thead>\n",
       "    <tr style=\"text-align: right;\">\n",
       "      <th></th>\n",
       "      <th>user_id:token</th>\n",
       "      <th>item_id:token</th>\n",
       "      <th>timestamp:float</th>\n",
       "    </tr>\n",
       "  </thead>\n",
       "  <tbody>\n",
       "    <tr>\n",
       "      <th>0</th>\n",
       "      <td>0</td>\n",
       "      <td>2505</td>\n",
       "      <td>1230782529</td>\n",
       "    </tr>\n",
       "    <tr>\n",
       "      <th>1</th>\n",
       "      <td>0</td>\n",
       "      <td>109</td>\n",
       "      <td>1230782534</td>\n",
       "    </tr>\n",
       "  </tbody>\n",
       "</table>\n",
       "</div>"
      ],
      "text/plain": [
       "   user_id:token  item_id:token  timestamp:float\n",
       "0              0           2505       1230782529\n",
       "1              0            109       1230782534"
      ]
     },
     "execution_count": 52,
     "metadata": {},
     "output_type": "execute_result"
    }
   ],
   "source": [
    "train_data[:2]"
   ]
  },
  {
   "cell_type": "code",
   "execution_count": 53,
   "id": "15e57921-df4e-42b4-b9b4-4044412f2d10",
   "metadata": {},
   "outputs": [
    {
     "data": {
      "text/html": [
       "<div>\n",
       "<style scoped>\n",
       "    .dataframe tbody tr th:only-of-type {\n",
       "        vertical-align: middle;\n",
       "    }\n",
       "\n",
       "    .dataframe tbody tr th {\n",
       "        vertical-align: top;\n",
       "    }\n",
       "\n",
       "    .dataframe thead th {\n",
       "        text-align: right;\n",
       "    }\n",
       "</style>\n",
       "<table border=\"1\" class=\"dataframe\">\n",
       "  <thead>\n",
       "    <tr style=\"text-align: right;\">\n",
       "      <th></th>\n",
       "      <th>user_id:token</th>\n",
       "      <th>director1:token</th>\n",
       "      <th>director2:token</th>\n",
       "      <th>director3:token</th>\n",
       "    </tr>\n",
       "  </thead>\n",
       "  <tbody>\n",
       "    <tr>\n",
       "      <th>0</th>\n",
       "      <td>0</td>\n",
       "      <td>nm0000229</td>\n",
       "      <td>nm0000318</td>\n",
       "      <td>nm0000709</td>\n",
       "    </tr>\n",
       "    <tr>\n",
       "      <th>1</th>\n",
       "      <td>1</td>\n",
       "      <td>nm0000229</td>\n",
       "      <td>nm0000709</td>\n",
       "      <td>nm0414144</td>\n",
       "    </tr>\n",
       "  </tbody>\n",
       "</table>\n",
       "</div>"
      ],
      "text/plain": [
       "   user_id:token director1:token director2:token director3:token\n",
       "0              0       nm0000229       nm0000318       nm0000709\n",
       "1              1       nm0000229       nm0000709       nm0414144"
      ]
     },
     "execution_count": 53,
     "metadata": {},
     "output_type": "execute_result"
    }
   ],
   "source": [
    "user_data[:2]"
   ]
  },
  {
   "cell_type": "code",
   "execution_count": 56,
   "id": "42c73563-d7dc-4fa7-9022-c460dc117277",
   "metadata": {},
   "outputs": [
    {
     "data": {
      "text/html": [
       "<div>\n",
       "<style scoped>\n",
       "    .dataframe tbody tr th:only-of-type {\n",
       "        vertical-align: middle;\n",
       "    }\n",
       "\n",
       "    .dataframe tbody tr th {\n",
       "        vertical-align: top;\n",
       "    }\n",
       "\n",
       "    .dataframe thead th {\n",
       "        text-align: right;\n",
       "    }\n",
       "</style>\n",
       "<table border=\"1\" class=\"dataframe\">\n",
       "  <thead>\n",
       "    <tr style=\"text-align: right;\">\n",
       "      <th></th>\n",
       "      <th>item_id:token</th>\n",
       "      <th>director_str:token_seq</th>\n",
       "    </tr>\n",
       "  </thead>\n",
       "  <tbody>\n",
       "    <tr>\n",
       "      <th>0</th>\n",
       "      <td>685</td>\n",
       "      <td>nm0000005</td>\n",
       "    </tr>\n",
       "    <tr>\n",
       "      <th>1</th>\n",
       "      <td>2750</td>\n",
       "      <td>nm0000005</td>\n",
       "    </tr>\n",
       "  </tbody>\n",
       "</table>\n",
       "</div>"
      ],
      "text/plain": [
       "   item_id:token director_str:token_seq\n",
       "0            685              nm0000005\n",
       "1           2750              nm0000005"
      ]
     },
     "execution_count": 56,
     "metadata": {},
     "output_type": "execute_result"
    }
   ],
   "source": [
    "item_data[:2]"
   ]
  },
  {
   "cell_type": "code",
   "execution_count": null,
   "id": "d4bd541b-ff3a-43e5-8093-e381ee3b570d",
   "metadata": {},
   "outputs": [],
   "source": [
    "# 내보내기"
   ]
  },
  {
   "cell_type": "code",
   "execution_count": 57,
   "id": "0c7284dc-1c20-4353-85bf-430a052cbc30",
   "metadata": {
    "ExecuteTime": {
     "end_time": "2022-12-21T14:43:49.121245Z",
     "start_time": "2022-12-21T14:43:39.817982Z"
    }
   },
   "outputs": [],
   "source": [
    "outpath = f\"dataset/train_data\"\n",
    "os.makedirs(outpath, exist_ok=True)\n",
    "# sub_train=train.groupby(\"user\").sample(n=10, random_state=SEED)\n",
    "# sub_train.shape\n",
    "train_data.to_csv(os.path.join(outpath,\"train_data.inter\"),sep='\\t',index=False)\n",
    "user_data.to_csv(os.path.join(outpath,\"train_data.user\"),sep='\\t',index=False)\n",
    "item_data.to_csv(os.path.join(outpath,\"train_data.item\"),sep='\\t',index=False)"
   ]
  },
  {
   "cell_type": "code",
   "execution_count": null,
   "id": "9118960c-4a12-4cf1-93cb-f2b2a85ce7e9",
   "metadata": {},
   "outputs": [],
   "source": []
  },
  {
   "cell_type": "markdown",
   "id": "81079da1-3e66-4c0b-9fbd-0f3d97b0506d",
   "metadata": {},
   "source": [
    "# FE 결과파일"
   ]
  },
  {
   "cell_type": "code",
   "execution_count": 79,
   "id": "00daaff3-ecd7-4311-bc3d-1cd5d52abe26",
   "metadata": {},
   "outputs": [],
   "source": [
    "train_data = pd.read_csv('/opt/ml/input/data/train/train_ratings.csv') # user-item-time\n",
    "user_data = pd.read_csv('/opt/ml/input/fighting/FE/user/user_director3_fe.csv') # user-director1-director2-director3\n",
    "item_data = pd.read_csv('/opt/ml/input/fighting/FE/director/director_str.csv') # item-director_oneline\n"
   ]
  },
  {
   "cell_type": "code",
   "execution_count": 80,
   "id": "6097f3db-c64e-451d-bd9b-99b79e4cc090",
   "metadata": {},
   "outputs": [],
   "source": [
    "year_df = pd.read_csv(\"/opt/ml/input/fighting/FE/year/year_missingno.csv\")\n",
    "genre_df = pd.read_csv(\"/opt/ml/input/fighting/FE/genre/genre_bert_fe.csv\")\n",
    "director_inter_cnt = pd.read_csv(\"/opt/ml/input/fighting/FE/director/director_inter_cnt.csv\")\n",
    "writer_inter_cnt = pd.read_csv(\"/opt/ml/input/fighting/FE/writer/writer_inter_cnt.csv\")\n",
    "item_interaction = pd.read_csv(\"/opt/ml/input/fighting/FE/item/item_interaction_cnt.csv\")\n",
    "item_popular_dir_max_sum_cnt = pd.read_csv(\"/opt/ml/input/fighting/FE/director/item_popular_dir_max_sum_cnt.csv\")\n",
    "item_popular_wri_max_sum_cnt = pd.read_csv(\"/opt/ml/input/fighting/FE/writer/item_popular_wri_max_sum_cnt.csv\")\n",
    "user_seen_item_statistic = pd.read_csv(\"/opt/ml/input/fighting/FE/user/user_seen_item_statistic.csv\")"
   ]
  },
  {
   "cell_type": "code",
   "execution_count": 65,
   "id": "8a570848-dad7-4b91-99ea-03e44e26a674",
   "metadata": {},
   "outputs": [],
   "source": [
    "# user_data"
   ]
  },
  {
   "cell_type": "code",
   "execution_count": 66,
   "id": "d36fd7ef-f3d4-47e3-844e-b145acab3f3c",
   "metadata": {},
   "outputs": [],
   "source": [
    "# item_data"
   ]
  },
  {
   "cell_type": "code",
   "execution_count": 81,
   "id": "3ac0cac3-2246-4787-9ab6-93c6e858b49c",
   "metadata": {},
   "outputs": [],
   "source": [
    "user_data = user_data.merge(user_seen_item_statistic, how='left', on='user')\n",
    "item_data = item_data.merge(year_df, how='left', on='item')\n",
    "item_data = item_data.merge(genre_df, how='left', on='item')\n",
    "item_data = item_data.merge(director_inter_cnt, how='left', on='item')\n",
    "item_data = item_data.merge(writer_inter_cnt, how='left', on='item')\n",
    "item_data = item_data.merge(item_interaction, how='left', on='item')\n",
    "item_data = item_data.merge(item_popular_dir_max_sum_cnt, how='left', on='item')\n",
    "item_data = item_data.merge(item_popular_wri_max_sum_cnt, how='left', on='item')"
   ]
  },
  {
   "cell_type": "code",
   "execution_count": 82,
   "id": "cf4559fd-770f-47ae-a482-b4a77469f10e",
   "metadata": {},
   "outputs": [
    {
     "data": {
      "text/html": [
       "<div>\n",
       "<style scoped>\n",
       "    .dataframe tbody tr th:only-of-type {\n",
       "        vertical-align: middle;\n",
       "    }\n",
       "\n",
       "    .dataframe tbody tr th {\n",
       "        vertical-align: top;\n",
       "    }\n",
       "\n",
       "    .dataframe thead th {\n",
       "        text-align: right;\n",
       "    }\n",
       "</style>\n",
       "<table border=\"1\" class=\"dataframe\">\n",
       "  <thead>\n",
       "    <tr style=\"text-align: right;\">\n",
       "      <th></th>\n",
       "      <th>user</th>\n",
       "      <th>director1</th>\n",
       "      <th>director2</th>\n",
       "      <th>director3</th>\n",
       "      <th>seen_item_inter_mean</th>\n",
       "      <th>seen_item_inter_std</th>\n",
       "    </tr>\n",
       "  </thead>\n",
       "  <tbody>\n",
       "    <tr>\n",
       "      <th>0</th>\n",
       "      <td>11</td>\n",
       "      <td>nm0000229</td>\n",
       "      <td>nm0000318</td>\n",
       "      <td>nm0000709</td>\n",
       "      <td>3719.351064</td>\n",
       "      <td>4316.497874</td>\n",
       "    </tr>\n",
       "    <tr>\n",
       "      <th>1</th>\n",
       "      <td>14</td>\n",
       "      <td>nm0000229</td>\n",
       "      <td>nm0000709</td>\n",
       "      <td>nm0414144</td>\n",
       "      <td>3073.027778</td>\n",
       "      <td>3768.996954</td>\n",
       "    </tr>\n",
       "    <tr>\n",
       "      <th>2</th>\n",
       "      <td>18</td>\n",
       "      <td>nm0000264</td>\n",
       "      <td>nm0001466</td>\n",
       "      <td>nm0600546</td>\n",
       "      <td>3769.766234</td>\n",
       "      <td>4812.976459</td>\n",
       "    </tr>\n",
       "    <tr>\n",
       "      <th>3</th>\n",
       "      <td>25</td>\n",
       "      <td>nm0000229</td>\n",
       "      <td>nm0000116</td>\n",
       "      <td>nm0000416</td>\n",
       "      <td>7721.142857</td>\n",
       "      <td>4926.058635</td>\n",
       "    </tr>\n",
       "    <tr>\n",
       "      <th>4</th>\n",
       "      <td>31</td>\n",
       "      <td>nm0001392</td>\n",
       "      <td>nm0893659</td>\n",
       "      <td>nm0946734</td>\n",
       "      <td>3304.058442</td>\n",
       "      <td>4207.146662</td>\n",
       "    </tr>\n",
       "    <tr>\n",
       "      <th>...</th>\n",
       "      <td>...</td>\n",
       "      <td>...</td>\n",
       "      <td>...</td>\n",
       "      <td>...</td>\n",
       "      <td>...</td>\n",
       "      <td>...</td>\n",
       "    </tr>\n",
       "    <tr>\n",
       "      <th>31355</th>\n",
       "      <td>138473</td>\n",
       "      <td>nm0594503</td>\n",
       "      <td>nm0000233</td>\n",
       "      <td>nm0000318</td>\n",
       "      <td>7041.571429</td>\n",
       "      <td>5419.559584</td>\n",
       "    </tr>\n",
       "    <tr>\n",
       "      <th>31356</th>\n",
       "      <td>138475</td>\n",
       "      <td>nm0000033</td>\n",
       "      <td>nm0001328</td>\n",
       "      <td>nm0000485</td>\n",
       "      <td>1339.217742</td>\n",
       "      <td>2048.243886</td>\n",
       "    </tr>\n",
       "    <tr>\n",
       "      <th>31357</th>\n",
       "      <td>138486</td>\n",
       "      <td>nm0000709</td>\n",
       "      <td>nm0001681</td>\n",
       "      <td>nm0000229</td>\n",
       "      <td>4972.875912</td>\n",
       "      <td>4182.405810</td>\n",
       "    </tr>\n",
       "    <tr>\n",
       "      <th>31358</th>\n",
       "      <td>138492</td>\n",
       "      <td>nm0001054</td>\n",
       "      <td>nm0001554</td>\n",
       "      <td>nm0001661</td>\n",
       "      <td>5347.294118</td>\n",
       "      <td>4487.995092</td>\n",
       "    </tr>\n",
       "    <tr>\n",
       "      <th>31359</th>\n",
       "      <td>138493</td>\n",
       "      <td>nm0000229</td>\n",
       "      <td>nm0000318</td>\n",
       "      <td>nm0001149</td>\n",
       "      <td>3701.936306</td>\n",
       "      <td>4167.737972</td>\n",
       "    </tr>\n",
       "  </tbody>\n",
       "</table>\n",
       "<p>31360 rows × 6 columns</p>\n",
       "</div>"
      ],
      "text/plain": [
       "         user  director1  director2  director3  seen_item_inter_mean  \\\n",
       "0          11  nm0000229  nm0000318  nm0000709           3719.351064   \n",
       "1          14  nm0000229  nm0000709  nm0414144           3073.027778   \n",
       "2          18  nm0000264  nm0001466  nm0600546           3769.766234   \n",
       "3          25  nm0000229  nm0000116  nm0000416           7721.142857   \n",
       "4          31  nm0001392  nm0893659  nm0946734           3304.058442   \n",
       "...       ...        ...        ...        ...                   ...   \n",
       "31355  138473  nm0594503  nm0000233  nm0000318           7041.571429   \n",
       "31356  138475  nm0000033  nm0001328  nm0000485           1339.217742   \n",
       "31357  138486  nm0000709  nm0001681  nm0000229           4972.875912   \n",
       "31358  138492  nm0001054  nm0001554  nm0001661           5347.294118   \n",
       "31359  138493  nm0000229  nm0000318  nm0001149           3701.936306   \n",
       "\n",
       "       seen_item_inter_std  \n",
       "0              4316.497874  \n",
       "1              3768.996954  \n",
       "2              4812.976459  \n",
       "3              4926.058635  \n",
       "4              4207.146662  \n",
       "...                    ...  \n",
       "31355          5419.559584  \n",
       "31356          2048.243886  \n",
       "31357          4182.405810  \n",
       "31358          4487.995092  \n",
       "31359          4167.737972  \n",
       "\n",
       "[31360 rows x 6 columns]"
      ]
     },
     "execution_count": 82,
     "metadata": {},
     "output_type": "execute_result"
    }
   ],
   "source": [
    "user_data"
   ]
  },
  {
   "cell_type": "code",
   "execution_count": 83,
   "id": "a312691b-061e-4d4c-9f84-584b9b79cafa",
   "metadata": {},
   "outputs": [
    {
     "data": {
      "text/html": [
       "<div>\n",
       "<style scoped>\n",
       "    .dataframe tbody tr th:only-of-type {\n",
       "        vertical-align: middle;\n",
       "    }\n",
       "\n",
       "    .dataframe tbody tr th {\n",
       "        vertical-align: top;\n",
       "    }\n",
       "\n",
       "    .dataframe thead th {\n",
       "        text-align: right;\n",
       "    }\n",
       "</style>\n",
       "<table border=\"1\" class=\"dataframe\">\n",
       "  <thead>\n",
       "    <tr style=\"text-align: right;\">\n",
       "      <th></th>\n",
       "      <th>item</th>\n",
       "      <th>director_str</th>\n",
       "      <th>year</th>\n",
       "      <th>genre_embedding</th>\n",
       "      <th>director_info</th>\n",
       "      <th>writer_info</th>\n",
       "      <th>item_cnt</th>\n",
       "      <th>dir_max_cnt</th>\n",
       "      <th>dir_sum_cnt</th>\n",
       "      <th>wri_max_cnt</th>\n",
       "      <th>wri_sum_cnt</th>\n",
       "    </tr>\n",
       "  </thead>\n",
       "  <tbody>\n",
       "    <tr>\n",
       "      <th>0</th>\n",
       "      <td>1237</td>\n",
       "      <td>nm0000005</td>\n",
       "      <td>1957.0</td>\n",
       "      <td>-0.010508</td>\n",
       "      <td>318.000000</td>\n",
       "      <td>316.842105</td>\n",
       "      <td>1383</td>\n",
       "      <td>1383</td>\n",
       "      <td>6360</td>\n",
       "      <td>1383</td>\n",
       "      <td>6020</td>\n",
       "    </tr>\n",
       "    <tr>\n",
       "      <th>1</th>\n",
       "      <td>5147</td>\n",
       "      <td>nm0000005</td>\n",
       "      <td>1957.0</td>\n",
       "      <td>-0.010508</td>\n",
       "      <td>318.000000</td>\n",
       "      <td>316.842105</td>\n",
       "      <td>949</td>\n",
       "      <td>1383</td>\n",
       "      <td>6360</td>\n",
       "      <td>1383</td>\n",
       "      <td>6020</td>\n",
       "    </tr>\n",
       "    <tr>\n",
       "      <th>2</th>\n",
       "      <td>7327</td>\n",
       "      <td>nm0000005</td>\n",
       "      <td>1966.0</td>\n",
       "      <td>-0.010508</td>\n",
       "      <td>318.000000</td>\n",
       "      <td>316.842105</td>\n",
       "      <td>751</td>\n",
       "      <td>1383</td>\n",
       "      <td>6360</td>\n",
       "      <td>1383</td>\n",
       "      <td>6020</td>\n",
       "    </tr>\n",
       "    <tr>\n",
       "      <th>3</th>\n",
       "      <td>2068</td>\n",
       "      <td>nm0000005</td>\n",
       "      <td>1982.0</td>\n",
       "      <td>-0.010365</td>\n",
       "      <td>318.000000</td>\n",
       "      <td>316.842105</td>\n",
       "      <td>502</td>\n",
       "      <td>1383</td>\n",
       "      <td>6360</td>\n",
       "      <td>1383</td>\n",
       "      <td>6020</td>\n",
       "    </tr>\n",
       "    <tr>\n",
       "      <th>4</th>\n",
       "      <td>7396</td>\n",
       "      <td>nm0000005</td>\n",
       "      <td>1973.0</td>\n",
       "      <td>-0.010508</td>\n",
       "      <td>318.000000</td>\n",
       "      <td>316.842105</td>\n",
       "      <td>335</td>\n",
       "      <td>1383</td>\n",
       "      <td>6360</td>\n",
       "      <td>1383</td>\n",
       "      <td>6020</td>\n",
       "    </tr>\n",
       "    <tr>\n",
       "      <th>...</th>\n",
       "      <td>...</td>\n",
       "      <td>...</td>\n",
       "      <td>...</td>\n",
       "      <td>...</td>\n",
       "      <td>...</td>\n",
       "      <td>...</td>\n",
       "      <td>...</td>\n",
       "      <td>...</td>\n",
       "      <td>...</td>\n",
       "      <td>...</td>\n",
       "      <td>...</td>\n",
       "    </tr>\n",
       "    <tr>\n",
       "      <th>6802</th>\n",
       "      <td>73681</td>\n",
       "      <td>nm0000000</td>\n",
       "      <td>2009.0</td>\n",
       "      <td>-0.010281</td>\n",
       "      <td>230.992337</td>\n",
       "      <td>3172.857143</td>\n",
       "      <td>58</td>\n",
       "      <td>58</td>\n",
       "      <td>58</td>\n",
       "      <td>3734</td>\n",
       "      <td>4683</td>\n",
       "    </tr>\n",
       "    <tr>\n",
       "      <th>6803</th>\n",
       "      <td>32728</td>\n",
       "      <td>nm0000000</td>\n",
       "      <td>1976.0</td>\n",
       "      <td>-0.010344</td>\n",
       "      <td>230.992337</td>\n",
       "      <td>269.562069</td>\n",
       "      <td>50</td>\n",
       "      <td>50</td>\n",
       "      <td>50</td>\n",
       "      <td>50</td>\n",
       "      <td>50</td>\n",
       "    </tr>\n",
       "    <tr>\n",
       "      <th>6804</th>\n",
       "      <td>32743</td>\n",
       "      <td>nm0000000</td>\n",
       "      <td>2000.0</td>\n",
       "      <td>-0.010353</td>\n",
       "      <td>230.992337</td>\n",
       "      <td>2189.000000</td>\n",
       "      <td>48</td>\n",
       "      <td>48</td>\n",
       "      <td>48</td>\n",
       "      <td>3326</td>\n",
       "      <td>5213</td>\n",
       "    </tr>\n",
       "    <tr>\n",
       "      <th>6805</th>\n",
       "      <td>106491</td>\n",
       "      <td>nm0000000</td>\n",
       "      <td>2013.0</td>\n",
       "      <td>-0.010352</td>\n",
       "      <td>230.992337</td>\n",
       "      <td>998.125000</td>\n",
       "      <td>74</td>\n",
       "      <td>74</td>\n",
       "      <td>74</td>\n",
       "      <td>2087</td>\n",
       "      <td>2899</td>\n",
       "    </tr>\n",
       "    <tr>\n",
       "      <th>6806</th>\n",
       "      <td>8191</td>\n",
       "      <td>nm0000000</td>\n",
       "      <td>1969.0</td>\n",
       "      <td>-0.010508</td>\n",
       "      <td>230.992337</td>\n",
       "      <td>4221.444444</td>\n",
       "      <td>145</td>\n",
       "      <td>145</td>\n",
       "      <td>145</td>\n",
       "      <td>4065</td>\n",
       "      <td>8840</td>\n",
       "    </tr>\n",
       "  </tbody>\n",
       "</table>\n",
       "<p>6807 rows × 11 columns</p>\n",
       "</div>"
      ],
      "text/plain": [
       "        item director_str    year  genre_embedding  director_info  \\\n",
       "0       1237    nm0000005  1957.0        -0.010508     318.000000   \n",
       "1       5147    nm0000005  1957.0        -0.010508     318.000000   \n",
       "2       7327    nm0000005  1966.0        -0.010508     318.000000   \n",
       "3       2068    nm0000005  1982.0        -0.010365     318.000000   \n",
       "4       7396    nm0000005  1973.0        -0.010508     318.000000   \n",
       "...      ...          ...     ...              ...            ...   \n",
       "6802   73681    nm0000000  2009.0        -0.010281     230.992337   \n",
       "6803   32728    nm0000000  1976.0        -0.010344     230.992337   \n",
       "6804   32743    nm0000000  2000.0        -0.010353     230.992337   \n",
       "6805  106491    nm0000000  2013.0        -0.010352     230.992337   \n",
       "6806    8191    nm0000000  1969.0        -0.010508     230.992337   \n",
       "\n",
       "      writer_info  item_cnt  dir_max_cnt  dir_sum_cnt  wri_max_cnt  \\\n",
       "0      316.842105      1383         1383         6360         1383   \n",
       "1      316.842105       949         1383         6360         1383   \n",
       "2      316.842105       751         1383         6360         1383   \n",
       "3      316.842105       502         1383         6360         1383   \n",
       "4      316.842105       335         1383         6360         1383   \n",
       "...           ...       ...          ...          ...          ...   \n",
       "6802  3172.857143        58           58           58         3734   \n",
       "6803   269.562069        50           50           50           50   \n",
       "6804  2189.000000        48           48           48         3326   \n",
       "6805   998.125000        74           74           74         2087   \n",
       "6806  4221.444444       145          145          145         4065   \n",
       "\n",
       "      wri_sum_cnt  \n",
       "0            6020  \n",
       "1            6020  \n",
       "2            6020  \n",
       "3            6020  \n",
       "4            6020  \n",
       "...           ...  \n",
       "6802         4683  \n",
       "6803           50  \n",
       "6804         5213  \n",
       "6805         2899  \n",
       "6806         8840  \n",
       "\n",
       "[6807 rows x 11 columns]"
      ]
     },
     "execution_count": 83,
     "metadata": {},
     "output_type": "execute_result"
    }
   ],
   "source": [
    "item_data"
   ]
  },
  {
   "cell_type": "code",
   "execution_count": null,
   "id": "118bd10b-17b6-4771-89c1-1af455dc49c2",
   "metadata": {},
   "outputs": [],
   "source": [
    "# user, item indexing"
   ]
  },
  {
   "cell_type": "code",
   "execution_count": 84,
   "id": "d42c65f0-f0e5-4a79-b8c2-f7fb6811e7a2",
   "metadata": {},
   "outputs": [],
   "source": [
    "user2idx = {v:k for k,v in enumerate(sorted(set(train_data.user)))}\n",
    "item2idx = {v:k for k,v in enumerate(sorted(set(train_data.item)))}\n",
    "uidx2user = {k:v for k,v in enumerate(sorted(set(train_data.user)))}\n",
    "iidx2item = {k:v for k,v in enumerate(sorted(set(train_data.item)))}"
   ]
  },
  {
   "cell_type": "code",
   "execution_count": 85,
   "id": "4360a7da-2d5f-4d49-9d38-907be79f2b9b",
   "metadata": {},
   "outputs": [],
   "source": [
    "train_data.user = train_data.user.map(user2idx)\n",
    "train_data.item = train_data.item.map(item2idx)\n",
    "user_data.user = user_data.user.map(user2idx)\n",
    "item_data.item = item_data.item.map(item2idx)"
   ]
  },
  {
   "cell_type": "code",
   "execution_count": null,
   "id": "b23959e5-f404-4df9-aa70-a42a57ab78f4",
   "metadata": {},
   "outputs": [],
   "source": [
    "# 컬럼명 바꾸기"
   ]
  },
  {
   "cell_type": "code",
   "execution_count": 86,
   "id": "a551dcbe-c6d9-4010-ab66-4de4a004448b",
   "metadata": {},
   "outputs": [
    {
     "data": {
      "text/plain": [
       "Index(['user', 'director1', 'director2', 'director3', 'seen_item_inter_mean',\n",
       "       'seen_item_inter_std'],\n",
       "      dtype='object')"
      ]
     },
     "execution_count": 86,
     "metadata": {},
     "output_type": "execute_result"
    }
   ],
   "source": [
    "user_data.columns"
   ]
  },
  {
   "cell_type": "code",
   "execution_count": 87,
   "id": "98904987-45b4-409d-924a-ddf19caf80d7",
   "metadata": {},
   "outputs": [],
   "source": [
    "user_data.columns = ['user_id:token', 'director1:token', 'director2:token', 'director3:token', 'seen_item_inter_mean:float', 'seen_item_inter_std:float']"
   ]
  },
  {
   "cell_type": "code",
   "execution_count": 88,
   "id": "d7557124-827a-48d0-b81e-8d1e22c9b54d",
   "metadata": {},
   "outputs": [
    {
     "data": {
      "text/plain": [
       "Index(['item', 'director_str', 'year', 'genre_embedding', 'director_info',\n",
       "       'writer_info', 'item_cnt', 'dir_max_cnt', 'dir_sum_cnt', 'wri_max_cnt',\n",
       "       'wri_sum_cnt'],\n",
       "      dtype='object')"
      ]
     },
     "execution_count": 88,
     "metadata": {},
     "output_type": "execute_result"
    }
   ],
   "source": [
    "item_data.columns"
   ]
  },
  {
   "cell_type": "code",
   "execution_count": 89,
   "id": "d63e3864-40c6-479f-9b93-b33f8f62c36c",
   "metadata": {},
   "outputs": [],
   "source": [
    "item_data.columns = ['item_id:token', 'director_str:token_seq', 'year:token', 'genre_embedding:float',' director_info:float','writer_info:float','item_cnt:float','dir_max_cnt:float','dir_sum_cnt:float','wri_max_cnt:float','wri_sum_cnt:float']\n",
    "                     "
   ]
  },
  {
   "cell_type": "code",
   "execution_count": 90,
   "id": "ee812b05-ccda-4f85-ab4b-8f23f5365c32",
   "metadata": {},
   "outputs": [
    {
     "data": {
      "text/plain": [
       "Index(['item_id:token', 'director_str:token_seq', 'year:token',\n",
       "       'genre_embedding:float', ' director_info:float', 'writer_info:float',\n",
       "       'item_cnt:float', 'dir_max_cnt:float', 'dir_sum_cnt:float',\n",
       "       'wri_max_cnt:float', 'wri_sum_cnt:float'],\n",
       "      dtype='object')"
      ]
     },
     "execution_count": 90,
     "metadata": {},
     "output_type": "execute_result"
    }
   ],
   "source": [
    "item_data.columns"
   ]
  },
  {
   "cell_type": "code",
   "execution_count": null,
   "id": "ecb6d57c-b1af-4e67-85d6-bda19bea1bfd",
   "metadata": {},
   "outputs": [],
   "source": [
    "# 내보내기"
   ]
  },
  {
   "cell_type": "code",
   "execution_count": 91,
   "id": "4876aa97-aea8-41c8-ac8a-57010d9d76f2",
   "metadata": {},
   "outputs": [],
   "source": [
    "outpath = f\"dataset/train_data/FE\"\n",
    "os.makedirs(outpath, exist_ok=True)\n",
    "# sub_train=train.groupby(\"user\").sample(n=10, random_state=SEED)\n",
    "# sub_train.shape\n",
    "train_data.to_csv(os.path.join(outpath,\"train_data.inter\"),sep='\\t',index=False)\n",
    "user_data.to_csv(os.path.join(outpath,\"train_data.user\"),sep='\\t',index=False)\n",
    "item_data.to_csv(os.path.join(outpath,\"train_data.item\"),sep='\\t',index=False)"
   ]
  },
  {
   "cell_type": "code",
   "execution_count": null,
   "id": "7b640076-f572-4e77-ae0c-147b64134897",
   "metadata": {},
   "outputs": [],
   "source": []
  }
 ],
 "metadata": {
  "kernelspec": {
   "display_name": "Python 3 (ipykernel)",
   "language": "python",
   "name": "python3"
  },
  "language_info": {
   "codemirror_mode": {
    "name": "ipython",
    "version": 3
   },
   "file_extension": ".py",
   "mimetype": "text/x-python",
   "name": "python",
   "nbconvert_exporter": "python",
   "pygments_lexer": "ipython3",
   "version": "3.8.5"
  }
 },
 "nbformat": 4,
 "nbformat_minor": 5
}

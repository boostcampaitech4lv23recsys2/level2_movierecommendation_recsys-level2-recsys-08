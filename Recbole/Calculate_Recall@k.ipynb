{
 "cells": [
  {
   "cell_type": "code",
   "execution_count": 4,
   "id": "12d1f5bc",
   "metadata": {
    "ExecuteTime": {
     "end_time": "2023-01-05T05:44:44.819489Z",
     "start_time": "2023-01-05T05:44:43.171647Z"
    }
   },
   "outputs": [],
   "source": [
    "from IPython.core.interactiveshell import InteractiveShell\n",
    "InteractiveShell.ast_node_interactivity=\"all\"\n",
    "\n",
    "import os\n",
    "import json\n",
    "import argparse\n",
    "import pandas as pd\n",
    "import numpy as np\n",
    "import time, datetime\n",
    "from tqdm import tqdm\n",
    "from logging import getLogger\n",
    "import torch\n",
    "\n",
    "from recbole.model.general_recommender.ease import EASE\n",
    "from recbole.model.context_aware_recommender.ffm import FFM\n",
    "\n",
    "from recbole.config import Config\n",
    "from recbole.data import create_dataset, data_preparation, Interaction\n",
    "from recbole.utils import init_logger, get_trainer, get_model, init_seed, set_color\n",
    "\n",
    "\n",
    "SEED=13"
   ]
  },
  {
   "cell_type": "code",
   "execution_count": 8,
   "id": "f2244c81",
   "metadata": {
    "ExecuteTime": {
     "end_time": "2023-01-05T05:54:43.493391Z",
     "start_time": "2023-01-05T05:54:43.490147Z"
    }
   },
   "outputs": [],
   "source": [
    "init_seed(config['seed'], config['reproducibility'])"
   ]
  },
  {
   "cell_type": "code",
   "execution_count": 5,
   "id": "8d551714",
   "metadata": {
    "ExecuteTime": {
     "end_time": "2023-01-05T05:44:44.824636Z",
     "start_time": "2023-01-05T05:44:44.822091Z"
    }
   },
   "outputs": [],
   "source": [
    "model_path='/opt/ml/input/code/Recbole/baseline/saved/NeuMF-Jan-02-2023_15-01-29.pth'\n",
    "model_path='/opt/ml/input/code/Recbole/saved/EASE-Dec-21-2022_15-02-10.pth'"
   ]
  },
  {
   "cell_type": "code",
   "execution_count": 6,
   "id": "a880a3e7",
   "metadata": {
    "ExecuteTime": {
     "end_time": "2023-01-05T05:44:50.681099Z",
     "start_time": "2023-01-05T05:44:44.826259Z"
    }
   },
   "outputs": [],
   "source": [
    "# config, model, dataset 불러오기\n",
    "checkpoint = torch.load(model_path)\n",
    "config = checkpoint['config']\n",
    "config['dataset'] = 'train_data'\n",
    "\n",
    "# device 설정\n",
    "device = config.final_config_dict['device']\n",
    "\n",
    "config['eval_args'] = {'split': {'RS': [8, 1, 1]},\n",
    "                         'group_by': 'user',\n",
    "                         'order': 'RO',\n",
    "                         'mode': 'full'}\n",
    "\n",
    "dataset = create_dataset(config)\n",
    "train_data, valid_data, test_data = data_preparation(config, dataset)"
   ]
  },
  {
   "cell_type": "code",
   "execution_count": 11,
   "id": "049efd6e",
   "metadata": {
    "ExecuteTime": {
     "end_time": "2023-01-04T14:07:42.995435Z",
     "start_time": "2023-01-04T14:07:42.992293Z"
    }
   },
   "outputs": [],
   "source": [
    "# user, item id -> token 변환 array\n",
    "user_id = config['USER_ID_FIELD']\n",
    "item_id = config['ITEM_ID_FIELD']\n",
    "user_id2token = dataset.field2id_token[user_id]\n",
    "item_id2token = dataset.field2id_token[item_id]"
   ]
  },
  {
   "cell_type": "code",
   "execution_count": 37,
   "id": "44f8f9b5",
   "metadata": {
    "ExecuteTime": {
     "end_time": "2023-01-04T16:41:30.074168Z",
     "start_time": "2023-01-04T16:41:21.686076Z"
    }
   },
   "outputs": [],
   "source": [
    "model = get_model(config['model'])(config, test_data.dataset).to(config['device'])\n",
    "model.load_state_dict(checkpoint['state_dict'])\n",
    "model.load_other_parameter(checkpoint.get('other_parameter'))\n",
    "\n",
    "# user id list\n",
    "all_user_list = torch.arange(1, len(user_id2token)).view(-1,128) # 245, 128\n",
    "\n",
    "# user, item 길이\n",
    "user_len = len(user_id2token) # 31361 (PAD 포함)\n",
    "item_len = len(item_id2token) # 6808 (PAD 포함)"
   ]
  },
  {
   "cell_type": "code",
   "execution_count": 38,
   "id": "87f9edb1",
   "metadata": {
    "ExecuteTime": {
     "end_time": "2023-01-04T16:41:30.287763Z",
     "start_time": "2023-01-04T16:41:30.076770Z"
    }
   },
   "outputs": [
    {
     "data": {
      "text/plain": [
       "\u001b[1;35mtrain_data\u001b[0m\n",
       "\u001b[1;34mThe number of users\u001b[0m: 31361\n",
       "\u001b[1;34mAverage actions of users\u001b[0m: 15.981855867346939\n",
       "\u001b[1;34mThe number of items\u001b[0m: 6808\n",
       "\u001b[1;34mAverage actions of items\u001b[0m: 73.66122868900646\n",
       "\u001b[1;34mThe number of inters\u001b[0m: 501191\n",
       "\u001b[1;34mThe sparsity of the dataset\u001b[0m: 99.76525637106212%\n",
       "\u001b[1;34mRemain Fields\u001b[0m: ['user_id', 'item_id', 'timestamp', 'label']"
      ]
     },
     "execution_count": 38,
     "metadata": {},
     "output_type": "execute_result"
    }
   ],
   "source": [
    "valid_data.dataset"
   ]
  },
  {
   "cell_type": "code",
   "execution_count": 39,
   "id": "28cee219",
   "metadata": {
    "ExecuteTime": {
     "end_time": "2023-01-04T16:41:34.354275Z",
     "start_time": "2023-01-04T16:41:33.432490Z"
    }
   },
   "outputs": [],
   "source": [
    "matrix = valid_data.dataset.inter_matrix(form='csr')\n",
    "rows, cols = matrix.nonzero()\n",
    "valid = pd.DataFrame({'user':rows,'item':cols})\n",
    "\n",
    "valid.user = valid.user.map(lambda x: int(user_id2token[x]))\n",
    "valid.item = valid.item.map(lambda x: int(item_id2token[x]))"
   ]
  },
  {
   "cell_type": "code",
   "execution_count": 40,
   "id": "136b2f18",
   "metadata": {
    "ExecuteTime": {
     "end_time": "2023-01-04T16:41:37.420410Z",
     "start_time": "2023-01-04T16:41:37.417331Z"
    }
   },
   "outputs": [],
   "source": [
    "from IPython.core.interactiveshell import InteractiveShell\n",
    "InteractiveShell.ast_node_interactivity=\"last\""
   ]
  },
  {
   "cell_type": "code",
   "execution_count": 45,
   "id": "ab761f78",
   "metadata": {
    "ExecuteTime": {
     "end_time": "2023-01-04T16:44:18.770834Z",
     "start_time": "2023-01-04T16:43:42.732867Z"
    }
   },
   "outputs": [
    {
     "name": "stderr",
     "output_type": "stream",
     "text": [
      "\u001b[1;35mInference\u001b[0m:   0%|                                                           | 0/245 [00:00<?, ?it/s]\u001b[0m/opt/conda/lib/python3.8/site-packages/recbole/utils/case_study.py:39: UserWarning: To copy construct from a tensor, it is recommended to use sourceTensor.clone().detach() or sourceTensor.clone().detach().requires_grad_(True), rather than torch.tensor(sourceTensor).\n",
      "  uid_series = torch.tensor(uid_series)\n",
      "\u001b[1;35mInference\u001b[0m: 100%|█████████████████████████████████████████████████| 245/245 [00:34<00:00,  7.10it/s]\u001b[0m\n"
     ]
    }
   ],
   "source": [
    "# rank K 설정\n",
    "K = 20\n",
    "\n",
    "# model 평가모드 전환\n",
    "model.eval()\n",
    "\n",
    "# progress bar 설정\n",
    "tbar = tqdm(all_user_list, desc=set_color(f\"Inference\", 'pink')) # 245, 128\n",
    "\n",
    "pred_list2 = None\n",
    "user_list2 = []\n",
    "from recbole.utils.case_study import full_sort_topk\n",
    "for data in tbar:\n",
    "    batch_pred_list2 = full_sort_topk(data, model, valid_data, K, device=device)[1]\n",
    "    batch_pred_list2 = batch_pred_list2.clone().detach().cpu().numpy()\n",
    "    if pred_list2 is None:\n",
    "        pred_list2 = batch_pred_list2\n",
    "        user_list2 = data.numpy()\n",
    "    else:\n",
    "        pred_list2 = np.append(pred_list2, batch_pred_list2, axis=0)\n",
    "        user_list2 = np.append(\n",
    "            user_list2, data.numpy(), axis=0\n",
    "        )\n",
    "tbar.close()\n",
    "\n",
    "# user별 item 추천 결과 하나로 합쳐주기\n",
    "result2 = []\n",
    "for user, pred in zip(user_list2, pred_list2):\n",
    "    for item in pred:\n",
    "        result2.append((int(user_id2token[user]), int(item_id2token[item])))"
   ]
  },
  {
   "cell_type": "markdown",
   "id": "5c24b328",
   "metadata": {},
   "source": [
    "## 재현성 테스트"
   ]
  },
  {
   "cell_type": "code",
   "execution_count": null,
   "id": "2e039247",
   "metadata": {},
   "outputs": [],
   "source": []
  },
  {
   "cell_type": "code",
   "execution_count": null,
   "id": "87338406",
   "metadata": {},
   "outputs": [],
   "source": []
  },
  {
   "cell_type": "markdown",
   "id": "98bbcee8",
   "metadata": {},
   "source": [
    "## NeuMF 모델"
   ]
  },
  {
   "cell_type": "code",
   "execution_count": 32,
   "id": "18edd750",
   "metadata": {
    "ExecuteTime": {
     "end_time": "2023-01-04T14:33:38.148227Z",
     "start_time": "2023-01-04T14:33:29.305887Z"
    }
   },
   "outputs": [
    {
     "name": "stdout",
     "output_type": "stream",
     "text": [
      "Recall@300 = 0.6900423191956759\n"
     ]
    }
   ],
   "source": [
    "## valid는 train:valid=9:1 -> 가져온 모델은 train:valid=1:0\n",
    "## NeuMF - valid 0.1307 -> 여기선 0.09957\n",
    "sub = pd.DataFrame(result2, columns=[\"user\", \"item\"])\n",
    "\n",
    "intersect = valid.merge(sub,on=['user','item'])\n",
    "\n",
    "print(f\"Recall@{K} = {intersect.shape[0] / valid.shape[0]}\")"
   ]
  },
  {
   "cell_type": "code",
   "execution_count": 30,
   "id": "efb268e0",
   "metadata": {
    "ExecuteTime": {
     "end_time": "2023-01-04T14:32:08.573488Z",
     "start_time": "2023-01-04T14:32:05.575056Z"
    }
   },
   "outputs": [
    {
     "name": "stdout",
     "output_type": "stream",
     "text": [
      "Recall@100 = 0.43237208968237656\n"
     ]
    }
   ],
   "source": [
    "## valid는 train:valid=9:1 -> 가져온 모델은 train:valid=1:0\n",
    "## NeuMF - valid 0.1307 -> 여기선 0.09957\n",
    "sub = pd.DataFrame(result2, columns=[\"user\", \"item\"])\n",
    "\n",
    "intersect = valid.merge(sub,on=['user','item'])\n",
    "\n",
    "print(f\"Recall@{K} = {intersect.shape[0] / valid.shape[0]}\")"
   ]
  },
  {
   "cell_type": "code",
   "execution_count": 34,
   "id": "5632a651",
   "metadata": {
    "ExecuteTime": {
     "end_time": "2023-01-04T14:46:59.402778Z",
     "start_time": "2023-01-04T14:46:58.649614Z"
    }
   },
   "outputs": [
    {
     "name": "stdout",
     "output_type": "stream",
     "text": [
      "Recall@30 = 0.21601345594793203\n"
     ]
    }
   ],
   "source": [
    "## valid는 train:valid=9:1 -> 가져온 모델은 train:valid=1:0\n",
    "## NeuMF - valid 0.1307 -> 여기선 0.09957\n",
    "sub = pd.DataFrame(result2, columns=[\"user\", \"item\"])\n",
    "\n",
    "intersect = valid.merge(sub,on=['user','item'])\n",
    "\n",
    "print(f\"Recall@{K} = {intersect.shape[0] / valid.shape[0]}\")"
   ]
  },
  {
   "cell_type": "code",
   "execution_count": 28,
   "id": "15411a9a",
   "metadata": {
    "ExecuteTime": {
     "end_time": "2023-01-04T14:30:48.977131Z",
     "start_time": "2023-01-04T14:30:48.668013Z"
    }
   },
   "outputs": [
    {
     "name": "stdout",
     "output_type": "stream",
     "text": [
      "Recall@10 = 0.09957082230127835\n"
     ]
    }
   ],
   "source": [
    "## valid는 train:valid=9:1 -> 가져온 모델은 train:valid=1:0\n",
    "## NeuMF - valid 0.1307 -> 여기선 0.09957\n",
    "sub = pd.DataFrame(result2, columns=[\"user\", \"item\"])\n",
    "\n",
    "intersect = valid.merge(sub,on=['user','item'])\n",
    "\n",
    "print(f\"Recall@{K} = {intersect.shape[0] / valid.shape[0]}\")"
   ]
  },
  {
   "cell_type": "markdown",
   "id": "dd6ef7f9",
   "metadata": {},
   "source": [
    "## EASE 모델"
   ]
  },
  {
   "cell_type": "code",
   "execution_count": 23,
   "id": "11720692",
   "metadata": {
    "ExecuteTime": {
     "end_time": "2023-01-04T14:27:11.570046Z",
     "start_time": "2023-01-04T14:26:56.478762Z"
    }
   },
   "outputs": [
    {
     "name": "stdout",
     "output_type": "stream",
     "text": [
      "Recall@500 = 0.978974083732549\n"
     ]
    }
   ],
   "source": [
    "## K=500\n",
    "## valid는 train:valid=9:1 -> 가져온 모델은 train:valid=1:0\n",
    "## EASE - valid 0.1966 -> 여기선 0.1674 (dataset을 정의할때마다 달라짐)\n",
    "sub = pd.DataFrame(result2, columns=[\"user\", \"item\"])\n",
    "\n",
    "intersect = valid.merge(sub,on=['user','item'])\n",
    "\n",
    "print(f\"Recall@{K} = {intersect.shape[0] / valid.shape[0]}\")"
   ]
  },
  {
   "cell_type": "code",
   "execution_count": 21,
   "id": "6ad28561",
   "metadata": {
    "ExecuteTime": {
     "end_time": "2023-01-04T14:25:21.711726Z",
     "start_time": "2023-01-04T14:25:12.873754Z"
    }
   },
   "outputs": [
    {
     "name": "stdout",
     "output_type": "stream",
     "text": [
      "Recall@300 = 0.9369282369396098\n"
     ]
    }
   ],
   "source": [
    "## K=300\n",
    "## valid는 train:valid=9:1 -> 가져온 모델은 train:valid=1:0\n",
    "## EASE - valid 0.1966 -> 여기선 0.1674 (dataset을 정의할때마다 달라짐)\n",
    "sub = pd.DataFrame(result2, columns=[\"user\", \"item\"])\n",
    "\n",
    "intersect = valid.merge(sub,on=['user','item'])\n",
    "\n",
    "print(f\"Recall@{K} = {intersect.shape[0] / valid.shape[0]}\")"
   ]
  },
  {
   "cell_type": "code",
   "execution_count": 19,
   "id": "ca4d2bdf",
   "metadata": {
    "ExecuteTime": {
     "end_time": "2023-01-04T14:24:01.314206Z",
     "start_time": "2023-01-04T14:23:58.347785Z"
    }
   },
   "outputs": [
    {
     "name": "stdout",
     "output_type": "stream",
     "text": [
      "Recall@100 = 0.6760436639923701\n"
     ]
    }
   ],
   "source": [
    "## K=100\n",
    "## valid는 train:valid=9:1 -> 가져온 모델은 train:valid=1:0\n",
    "## EASE - valid 0.1966 -> 여기선 0.1674 (dataset을 정의할때마다 달라짐)\n",
    "sub = pd.DataFrame(result2, columns=[\"user\", \"item\"])\n",
    "\n",
    "intersect = valid.merge(sub,on=['user','item'])\n",
    "\n",
    "print(f\"Recall@{K} = {intersect.shape[0] / valid.shape[0]}\")"
   ]
  },
  {
   "cell_type": "code",
   "execution_count": 44,
   "id": "2a2efa1d",
   "metadata": {
    "ExecuteTime": {
     "end_time": "2023-01-04T16:43:15.940945Z",
     "start_time": "2023-01-04T16:43:14.560316Z"
    }
   },
   "outputs": [
    {
     "name": "stdout",
     "output_type": "stream",
     "text": [
      "Recall@50 = 0.4801163628237538\n"
     ]
    }
   ],
   "source": [
    "## valid는 train:valid=9:1 -> 가져온 모델은 train:valid=1:0\n",
    "## EASE - valid 0.1966 -> 여기선 0.2296\n",
    "sub = pd.DataFrame(result2, columns=[\"user\", \"item\"])\n",
    "\n",
    "intersect = valid.merge(sub,on=['user','item'])\n",
    "\n",
    "print(f\"Recall@{K} = {intersect.shape[0] / valid.shape[0]}\")"
   ]
  },
  {
   "cell_type": "code",
   "execution_count": 42,
   "id": "68852ca9",
   "metadata": {
    "ExecuteTime": {
     "end_time": "2023-01-04T16:42:18.630389Z",
     "start_time": "2023-01-04T16:42:17.865511Z"
    }
   },
   "outputs": [
    {
     "name": "stdout",
     "output_type": "stream",
     "text": [
      "Recall@30 = 0.35656067247815704\n"
     ]
    }
   ],
   "source": [
    "## valid는 train:valid=9:1 -> 가져온 모델은 train:valid=1:0\n",
    "## EASE - valid 0.1966 -> 여기선 0.2296\n",
    "sub = pd.DataFrame(result2, columns=[\"user\", \"item\"])\n",
    "\n",
    "intersect = valid.merge(sub,on=['user','item'])\n",
    "\n",
    "print(f\"Recall@{K} = {intersect.shape[0] / valid.shape[0]}\")"
   ]
  },
  {
   "cell_type": "code",
   "execution_count": 46,
   "id": "f198b735",
   "metadata": {
    "ExecuteTime": {
     "end_time": "2023-01-04T16:44:19.340836Z",
     "start_time": "2023-01-04T16:44:18.773224Z"
    }
   },
   "outputs": [
    {
     "name": "stdout",
     "output_type": "stream",
     "text": [
      "Recall@20 = 0.27451809789082404\n"
     ]
    }
   ],
   "source": [
    "## valid는 train:valid=9:1 -> 가져온 모델은 train:valid=1:0\n",
    "## EASE - valid 0.1966 -> 여기선 0.2296\n",
    "sub = pd.DataFrame(result2, columns=[\"user\", \"item\"])\n",
    "\n",
    "intersect = valid.merge(sub,on=['user','item'])\n",
    "\n",
    "print(f\"Recall@{K} = {intersect.shape[0] / valid.shape[0]}\")"
   ]
  },
  {
   "cell_type": "code",
   "execution_count": 17,
   "id": "9daf5c86",
   "metadata": {
    "ExecuteTime": {
     "end_time": "2023-01-04T14:22:49.727960Z",
     "start_time": "2023-01-04T14:22:49.398975Z"
    }
   },
   "outputs": [
    {
     "name": "stdout",
     "output_type": "stream",
     "text": [
      "Recall@10 = 0.16745911239427683\n"
     ]
    }
   ],
   "source": [
    "## valid는 train:valid=9:1 -> 가져온 모델은 train:valid=1:0\n",
    "## dataset 다시 불러오니 수치가 2296 -> 1674로 변경\n",
    "sub = pd.DataFrame(result2, columns=[\"user\", \"item\"])\n",
    "\n",
    "intersect = valid.merge(sub,on=['user','item'])\n",
    "\n",
    "print(f\"Recall@{K} = {intersect.shape[0] / valid.shape[0]}\")"
   ]
  },
  {
   "cell_type": "code",
   "execution_count": 78,
   "id": "55f42037",
   "metadata": {
    "ExecuteTime": {
     "end_time": "2023-01-04T13:46:57.238771Z",
     "start_time": "2023-01-04T13:46:56.933697Z"
    }
   },
   "outputs": [
    {
     "name": "stdout",
     "output_type": "stream",
     "text": [
      "Recall@10 = 0.22968289534329228\n"
     ]
    }
   ],
   "source": [
    "## valid는 train:valid=9:1 -> 가져온 모델은 train:valid=1:0\n",
    "## EASE - valid 0.1966 -> 여기선 0.2296\n",
    "sub = pd.DataFrame(result2, columns=[\"user\", \"item\"])\n",
    "\n",
    "intersect = valid.merge(sub,on=['user','item'])\n",
    "\n",
    "print(f\"Recall@{K} = {intersect.shape[0] / valid.shape[0]}\")"
   ]
  }
 ],
 "metadata": {
  "kernelspec": {
   "display_name": "Python 3 (ipykernel)",
   "language": "python",
   "name": "python3"
  },
  "language_info": {
   "codemirror_mode": {
    "name": "ipython",
    "version": 3
   },
   "file_extension": ".py",
   "mimetype": "text/x-python",
   "name": "python",
   "nbconvert_exporter": "python",
   "pygments_lexer": "ipython3",
   "version": "3.8.5"
  },
  "toc": {
   "base_numbering": 1,
   "nav_menu": {},
   "number_sections": true,
   "sideBar": true,
   "skip_h1_title": false,
   "title_cell": "Table of Contents",
   "title_sidebar": "Contents",
   "toc_cell": false,
   "toc_position": {},
   "toc_section_display": true,
   "toc_window_display": false
  }
 },
 "nbformat": 4,
 "nbformat_minor": 5
}

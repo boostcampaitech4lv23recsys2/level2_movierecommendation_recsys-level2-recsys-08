{
 "cells": [
  {
   "cell_type": "code",
   "execution_count": 1,
   "id": "86f8d677",
   "metadata": {
    "ExecuteTime": {
     "end_time": "2023-01-04T14:05:19.947175Z",
     "start_time": "2023-01-04T14:05:18.001356Z"
    }
   },
   "outputs": [],
   "source": [
    "from IPython.core.interactiveshell import InteractiveShell\n",
    "InteractiveShell.ast_node_interactivity=\"all\"\n",
    "\n",
    "import os\n",
    "import json\n",
    "import argparse\n",
    "import pandas as pd\n",
    "import numpy as np\n",
    "import time, datetime\n",
    "from tqdm import tqdm\n",
    "from logging import getLogger\n",
    "import torch\n",
    "\n",
    "from recbole.model.general_recommender.ease import EASE\n",
    "from recbole.model.context_aware_recommender.ffm import FFM\n",
    "\n",
    "from recbole.config import Config\n",
    "from recbole.data import create_dataset, data_preparation, Interaction\n",
    "from recbole.utils import init_logger, get_trainer, get_model, init_seed, set_color\n",
    "\n",
    "\n",
    "SEED=13"
   ]
  },
  {
   "cell_type": "code",
   "execution_count": 24,
   "id": "05020afe",
   "metadata": {
    "ExecuteTime": {
     "end_time": "2023-01-04T14:29:48.055569Z",
     "start_time": "2023-01-04T14:29:48.052507Z"
    }
   },
   "outputs": [],
   "source": [
    "model_path='/opt/ml/input/code/Recbole/baseline/saved/NeuMF-Jan-02-2023_15-01-29.pth'\n",
    "# model_path='/opt/ml/input/code/Recbole/saved/EASE-Dec-21-2022_15-02-10.pth'"
   ]
  },
  {
   "cell_type": "code",
   "execution_count": 25,
   "id": "b8ea1ddd",
   "metadata": {
    "ExecuteTime": {
     "end_time": "2023-01-04T14:29:49.518092Z",
     "start_time": "2023-01-04T14:29:49.460428Z"
    }
   },
   "outputs": [],
   "source": [
    "# config, model, dataset 불러오기\n",
    "checkpoint = torch.load(model_path)\n",
    "config = checkpoint['config']\n",
    "config['dataset'] = 'train_data'\n",
    "\n",
    "# device 설정\n",
    "device = config.final_config_dict['device']\n",
    "\n",
    "config['eval_args'] = {'split': {'RS': [8, 1, 1]},\n",
    "                         'group_by': 'user',\n",
    "                         'order': 'RO',\n",
    "                         'mode': 'full'}"
   ]
  },
  {
   "cell_type": "code",
   "execution_count": 10,
   "id": "109905d5",
   "metadata": {
    "ExecuteTime": {
     "end_time": "2023-01-04T14:07:42.989971Z",
     "start_time": "2023-01-04T14:06:51.682802Z"
    }
   },
   "outputs": [],
   "source": [
    "dataset = create_dataset(config)\n",
    "train_data, valid_data, test_data = data_preparation(config, dataset)"
   ]
  },
  {
   "cell_type": "code",
   "execution_count": 11,
   "id": "83416b15",
   "metadata": {
    "ExecuteTime": {
     "end_time": "2023-01-04T14:07:42.995435Z",
     "start_time": "2023-01-04T14:07:42.992293Z"
    }
   },
   "outputs": [],
   "source": [
    "# user, item id -> token 변환 array\n",
    "user_id = config['USER_ID_FIELD']\n",
    "item_id = config['ITEM_ID_FIELD']\n",
    "user_id2token = dataset.field2id_token[user_id]\n",
    "item_id2token = dataset.field2id_token[item_id]"
   ]
  },
  {
   "cell_type": "code",
   "execution_count": 26,
   "id": "b127ddc6",
   "metadata": {
    "ExecuteTime": {
     "end_time": "2023-01-04T14:29:53.853136Z",
     "start_time": "2023-01-04T14:29:53.713310Z"
    }
   },
   "outputs": [
    {
     "name": "stdout",
     "output_type": "stream",
     "text": [
      "<class 'list'>\n",
      "[1024, 512, 256]\n"
     ]
    }
   ],
   "source": [
    "model = get_model(config['model'])(config, test_data.dataset).to(config['device'])\n",
    "model.load_state_dict(checkpoint['state_dict'])\n",
    "model.load_other_parameter(checkpoint.get('other_parameter'))\n",
    "\n",
    "# user id list\n",
    "all_user_list = torch.arange(1, len(user_id2token)).view(-1,128) # 245, 128\n",
    "\n",
    "# user, item 길이\n",
    "user_len = len(user_id2token) # 31361 (PAD 포함)\n",
    "item_len = len(item_id2token) # 6808 (PAD 포함)"
   ]
  },
  {
   "cell_type": "code",
   "execution_count": 13,
   "id": "59b9e78d",
   "metadata": {
    "ExecuteTime": {
     "end_time": "2023-01-04T14:07:52.902204Z",
     "start_time": "2023-01-04T14:07:52.610019Z"
    }
   },
   "outputs": [
    {
     "data": {
      "text/plain": [
       "\u001b[1;35mtrain_data\u001b[0m\n",
       "\u001b[1;34mThe number of users\u001b[0m: 31361\n",
       "\u001b[1;34mAverage actions of users\u001b[0m: 15.981855867346939\n",
       "\u001b[1;34mThe number of items\u001b[0m: 6808\n",
       "\u001b[1;34mAverage actions of items\u001b[0m: 73.66122868900646\n",
       "\u001b[1;34mThe number of inters\u001b[0m: 501191\n",
       "\u001b[1;34mThe sparsity of the dataset\u001b[0m: 99.76525637106212%\n",
       "\u001b[1;34mRemain Fields\u001b[0m: ['user_id', 'item_id', 'timestamp', 'label']"
      ]
     },
     "execution_count": 13,
     "metadata": {},
     "output_type": "execute_result"
    }
   ],
   "source": [
    "valid_data.dataset"
   ]
  },
  {
   "cell_type": "code",
   "execution_count": 14,
   "id": "078f7d8d",
   "metadata": {
    "ExecuteTime": {
     "end_time": "2023-01-04T14:07:53.919173Z",
     "start_time": "2023-01-04T14:07:52.903989Z"
    }
   },
   "outputs": [],
   "source": [
    "matrix = valid_data.dataset.inter_matrix(form='csr')\n",
    "rows, cols = matrix.nonzero()\n",
    "valid = pd.DataFrame({'user':rows,'item':cols})\n",
    "\n",
    "valid.user = valid.user.map(lambda x: int(user_id2token[x]))\n",
    "valid.item = valid.item.map(lambda x: int(item_id2token[x]))"
   ]
  },
  {
   "cell_type": "code",
   "execution_count": 15,
   "id": "67977f8a",
   "metadata": {
    "ExecuteTime": {
     "end_time": "2023-01-04T14:07:53.923787Z",
     "start_time": "2023-01-04T14:07:53.921116Z"
    }
   },
   "outputs": [],
   "source": [
    "from IPython.core.interactiveshell import InteractiveShell\n",
    "InteractiveShell.ast_node_interactivity=\"last\""
   ]
  },
  {
   "cell_type": "code",
   "execution_count": 33,
   "id": "70314277",
   "metadata": {
    "ExecuteTime": {
     "end_time": "2023-01-04T14:46:58.647135Z",
     "start_time": "2023-01-04T14:46:10.617869Z"
    }
   },
   "outputs": [
    {
     "name": "stderr",
     "output_type": "stream",
     "text": [
      "\u001b[1;35mInference\u001b[0m:   0%|                                                           | 0/245 [00:00<?, ?it/s]\u001b[0m/opt/conda/lib/python3.8/site-packages/recbole/utils/case_study.py:39: UserWarning: To copy construct from a tensor, it is recommended to use sourceTensor.clone().detach() or sourceTensor.clone().detach().requires_grad_(True), rather than torch.tensor(sourceTensor).\n",
      "  uid_series = torch.tensor(uid_series)\n",
      "\u001b[1;35mInference\u001b[0m: 100%|█████████████████████████████████████████████████| 245/245 [00:45<00:00,  5.40it/s]\u001b[0m\n"
     ]
    }
   ],
   "source": [
    "# rank K 설정\n",
    "K = 30\n",
    "\n",
    "# model 평가모드 전환\n",
    "model.eval()\n",
    "\n",
    "# progress bar 설정\n",
    "tbar = tqdm(all_user_list, desc=set_color(f\"Inference\", 'pink')) # 245, 128\n",
    "\n",
    "pred_list2 = None\n",
    "user_list2 = []\n",
    "from recbole.utils.case_study import full_sort_topk\n",
    "for data in tbar:\n",
    "    batch_pred_list2 = full_sort_topk(data, model, valid_data, K, device=device)[1]\n",
    "    batch_pred_list2 = batch_pred_list2.clone().detach().cpu().numpy()\n",
    "    if pred_list2 is None:\n",
    "        pred_list2 = batch_pred_list2\n",
    "        user_list2 = data.numpy()\n",
    "    else:\n",
    "        pred_list2 = np.append(pred_list2, batch_pred_list2, axis=0)\n",
    "        user_list2 = np.append(\n",
    "            user_list2, data.numpy(), axis=0\n",
    "        )\n",
    "tbar.close()\n",
    "\n",
    "# user별 item 추천 결과 하나로 합쳐주기\n",
    "result2 = []\n",
    "for user, pred in zip(user_list2, pred_list2):\n",
    "    for item in pred:\n",
    "        result2.append((int(user_id2token[user]), int(item_id2token[item])))"
   ]
  },
  {
   "cell_type": "markdown",
   "id": "a4bf76cc",
   "metadata": {},
   "source": [
    "## NeuMF 모델"
   ]
  },
  {
   "cell_type": "code",
   "execution_count": 32,
   "id": "15d1c7a2",
   "metadata": {
    "ExecuteTime": {
     "end_time": "2023-01-04T14:33:38.148227Z",
     "start_time": "2023-01-04T14:33:29.305887Z"
    }
   },
   "outputs": [
    {
     "name": "stdout",
     "output_type": "stream",
     "text": [
      "Recall@300 = 0.6900423191956759\n"
     ]
    }
   ],
   "source": [
    "## valid는 train:valid=9:1 -> 가져온 모델은 train:valid=1:0\n",
    "## NeuMF - valid 0.1307 -> 여기선 0.09957\n",
    "sub = pd.DataFrame(result2, columns=[\"user\", \"item\"])\n",
    "\n",
    "intersect = valid.merge(sub,on=['user','item'])\n",
    "\n",
    "print(f\"Recall@{K} = {intersect.shape[0] / valid.shape[0]}\")"
   ]
  },
  {
   "cell_type": "code",
   "execution_count": 30,
   "id": "a2f189be",
   "metadata": {
    "ExecuteTime": {
     "end_time": "2023-01-04T14:32:08.573488Z",
     "start_time": "2023-01-04T14:32:05.575056Z"
    }
   },
   "outputs": [
    {
     "name": "stdout",
     "output_type": "stream",
     "text": [
      "Recall@100 = 0.43237208968237656\n"
     ]
    }
   ],
   "source": [
    "## valid는 train:valid=9:1 -> 가져온 모델은 train:valid=1:0\n",
    "## NeuMF - valid 0.1307 -> 여기선 0.09957\n",
    "sub = pd.DataFrame(result2, columns=[\"user\", \"item\"])\n",
    "\n",
    "intersect = valid.merge(sub,on=['user','item'])\n",
    "\n",
    "print(f\"Recall@{K} = {intersect.shape[0] / valid.shape[0]}\")"
   ]
  },
  {
   "cell_type": "code",
   "execution_count": 34,
   "id": "22ac1d0f",
   "metadata": {
    "ExecuteTime": {
     "end_time": "2023-01-04T14:46:59.402778Z",
     "start_time": "2023-01-04T14:46:58.649614Z"
    }
   },
   "outputs": [
    {
     "name": "stdout",
     "output_type": "stream",
     "text": [
      "Recall@30 = 0.21601345594793203\n"
     ]
    }
   ],
   "source": [
    "## valid는 train:valid=9:1 -> 가져온 모델은 train:valid=1:0\n",
    "## NeuMF - valid 0.1307 -> 여기선 0.09957\n",
    "sub = pd.DataFrame(result2, columns=[\"user\", \"item\"])\n",
    "\n",
    "intersect = valid.merge(sub,on=['user','item'])\n",
    "\n",
    "print(f\"Recall@{K} = {intersect.shape[0] / valid.shape[0]}\")"
   ]
  },
  {
   "cell_type": "code",
   "execution_count": 28,
   "id": "786e2a71",
   "metadata": {
    "ExecuteTime": {
     "end_time": "2023-01-04T14:30:48.977131Z",
     "start_time": "2023-01-04T14:30:48.668013Z"
    }
   },
   "outputs": [
    {
     "name": "stdout",
     "output_type": "stream",
     "text": [
      "Recall@10 = 0.09957082230127835\n"
     ]
    }
   ],
   "source": [
    "## valid는 train:valid=9:1 -> 가져온 모델은 train:valid=1:0\n",
    "## NeuMF - valid 0.1307 -> 여기선 0.09957\n",
    "sub = pd.DataFrame(result2, columns=[\"user\", \"item\"])\n",
    "\n",
    "intersect = valid.merge(sub,on=['user','item'])\n",
    "\n",
    "print(f\"Recall@{K} = {intersect.shape[0] / valid.shape[0]}\")"
   ]
  },
  {
   "cell_type": "code",
   "execution_count": null,
   "id": "13a7a091",
   "metadata": {},
   "outputs": [],
   "source": []
  },
  {
   "cell_type": "code",
   "execution_count": null,
   "id": "8a17d5f0",
   "metadata": {},
   "outputs": [],
   "source": []
  },
  {
   "cell_type": "markdown",
   "id": "7c023ec5",
   "metadata": {},
   "source": [
    "## EASE 모델"
   ]
  },
  {
   "cell_type": "code",
   "execution_count": 23,
   "id": "beb9e806",
   "metadata": {
    "ExecuteTime": {
     "end_time": "2023-01-04T14:27:11.570046Z",
     "start_time": "2023-01-04T14:26:56.478762Z"
    }
   },
   "outputs": [
    {
     "name": "stdout",
     "output_type": "stream",
     "text": [
      "Recall@500 = 0.978974083732549\n"
     ]
    }
   ],
   "source": [
    "## K=500\n",
    "## valid는 train:valid=9:1 -> 가져온 모델은 train:valid=1:0\n",
    "## EASE - valid 0.1966 -> 여기선 0.1674 (dataset을 정의할때마다 달라짐)\n",
    "sub = pd.DataFrame(result2, columns=[\"user\", \"item\"])\n",
    "\n",
    "intersect = valid.merge(sub,on=['user','item'])\n",
    "\n",
    "print(f\"Recall@{K} = {intersect.shape[0] / valid.shape[0]}\")"
   ]
  },
  {
   "cell_type": "code",
   "execution_count": 21,
   "id": "3ebccdbd",
   "metadata": {
    "ExecuteTime": {
     "end_time": "2023-01-04T14:25:21.711726Z",
     "start_time": "2023-01-04T14:25:12.873754Z"
    }
   },
   "outputs": [
    {
     "name": "stdout",
     "output_type": "stream",
     "text": [
      "Recall@300 = 0.9369282369396098\n"
     ]
    }
   ],
   "source": [
    "## K=300\n",
    "## valid는 train:valid=9:1 -> 가져온 모델은 train:valid=1:0\n",
    "## EASE - valid 0.1966 -> 여기선 0.1674 (dataset을 정의할때마다 달라짐)\n",
    "sub = pd.DataFrame(result2, columns=[\"user\", \"item\"])\n",
    "\n",
    "intersect = valid.merge(sub,on=['user','item'])\n",
    "\n",
    "print(f\"Recall@{K} = {intersect.shape[0] / valid.shape[0]}\")"
   ]
  },
  {
   "cell_type": "code",
   "execution_count": 19,
   "id": "7e543d8a",
   "metadata": {
    "ExecuteTime": {
     "end_time": "2023-01-04T14:24:01.314206Z",
     "start_time": "2023-01-04T14:23:58.347785Z"
    }
   },
   "outputs": [
    {
     "name": "stdout",
     "output_type": "stream",
     "text": [
      "Recall@100 = 0.6760436639923701\n"
     ]
    }
   ],
   "source": [
    "## K=100\n",
    "## valid는 train:valid=9:1 -> 가져온 모델은 train:valid=1:0\n",
    "## EASE - valid 0.1966 -> 여기선 0.1674 (dataset을 정의할때마다 달라짐)\n",
    "sub = pd.DataFrame(result2, columns=[\"user\", \"item\"])\n",
    "\n",
    "intersect = valid.merge(sub,on=['user','item'])\n",
    "\n",
    "print(f\"Recall@{K} = {intersect.shape[0] / valid.shape[0]}\")"
   ]
  },
  {
   "cell_type": "code",
   "execution_count": 17,
   "id": "aa195774",
   "metadata": {
    "ExecuteTime": {
     "end_time": "2023-01-04T14:22:49.727960Z",
     "start_time": "2023-01-04T14:22:49.398975Z"
    }
   },
   "outputs": [
    {
     "name": "stdout",
     "output_type": "stream",
     "text": [
      "Recall@10 = 0.16745911239427683\n"
     ]
    }
   ],
   "source": [
    "## valid는 train:valid=9:1 -> 가져온 모델은 train:valid=1:0\n",
    "## EASE - valid 0.1966 -> 여기선 0.2296\n",
    "sub = pd.DataFrame(result2, columns=[\"user\", \"item\"])\n",
    "\n",
    "intersect = valid.merge(sub,on=['user','item'])\n",
    "\n",
    "print(f\"Recall@{K} = {intersect.shape[0] / valid.shape[0]}\")"
   ]
  },
  {
   "cell_type": "code",
   "execution_count": null,
   "id": "29a7608b",
   "metadata": {
    "ExecuteTime": {
     "end_time": "2023-01-04T14:00:19.618149Z",
     "start_time": "2023-01-04T14:00:19.618132Z"
    }
   },
   "outputs": [],
   "source": [
    "## valid는 train:valid=9:1 -> 가져온 모델은 train:valid=1:0\n",
    "## SLIMElastic - valid 0.1768 -> 여기선 0.\n",
    "sub = pd.DataFrame(result2, columns=[\"user\", \"item\"])\n",
    "\n",
    "intersect = valid.merge(sub,on=['user','item'])\n",
    "\n",
    "print(f\"Recall@{K} = {intersect.shape[0] / valid.shape[0]}\")"
   ]
  },
  {
   "cell_type": "code",
   "execution_count": 78,
   "id": "7277ae46",
   "metadata": {
    "ExecuteTime": {
     "end_time": "2023-01-04T13:46:57.238771Z",
     "start_time": "2023-01-04T13:46:56.933697Z"
    }
   },
   "outputs": [
    {
     "name": "stdout",
     "output_type": "stream",
     "text": [
      "Recall@10 = 0.22968289534329228\n"
     ]
    }
   ],
   "source": [
    "## valid는 train:valid=9:1 -> 가져온 모델은 train:valid=1:0\n",
    "## EASE - valid 0.1966 -> 여기선 0.2296\n",
    "sub = pd.DataFrame(result2, columns=[\"user\", \"item\"])\n",
    "\n",
    "intersect = valid.merge(sub,on=['user','item'])\n",
    "\n",
    "print(f\"Recall@{K} = {intersect.shape[0] / valid.shape[0]}\")"
   ]
  }
 ],
 "metadata": {
  "kernelspec": {
   "display_name": "Python 3 (ipykernel)",
   "language": "python",
   "name": "python3"
  },
  "language_info": {
   "codemirror_mode": {
    "name": "ipython",
    "version": 3
   },
   "file_extension": ".py",
   "mimetype": "text/x-python",
   "name": "python",
   "nbconvert_exporter": "python",
   "pygments_lexer": "ipython3",
   "version": "3.8.5"
  },
  "toc": {
   "base_numbering": 1,
   "nav_menu": {},
   "number_sections": true,
   "sideBar": true,
   "skip_h1_title": false,
   "title_cell": "Table of Contents",
   "title_sidebar": "Contents",
   "toc_cell": false,
   "toc_position": {},
   "toc_section_display": true,
   "toc_window_display": false
  }
 },
 "nbformat": 4,
 "nbformat_minor": 5
}

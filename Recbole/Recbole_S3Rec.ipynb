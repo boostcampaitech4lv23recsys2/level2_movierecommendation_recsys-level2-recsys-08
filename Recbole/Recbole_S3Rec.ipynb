{
 "cells": [
  {
   "cell_type": "code",
   "execution_count": 1,
   "id": "4fba14e6",
   "metadata": {
    "ExecuteTime": {
     "end_time": "2022-12-22T13:00:51.649121Z",
     "start_time": "2022-12-22T13:00:49.482949Z"
    }
   },
   "outputs": [],
   "source": [
    "import warnings\n",
    "warnings.filterwarnings('ignore')\n",
    "\n",
    "from IPython.core.interactiveshell import InteractiveShell\n",
    "InteractiveShell.ast_node_interactivity=\"all\"\n",
    "\n",
    "import os\n",
    "import json\n",
    "import argparse\n",
    "import pandas as pd\n",
    "import numpy as np\n",
    "import time, datetime\n",
    "from tqdm import tqdm\n",
    "from logging import getLogger\n",
    "import torch\n",
    "import missingno\n",
    "\n",
    "from recbole.model.general_recommender.ease import EASE\n",
    "from recbole.model.context_aware_recommender.ffm import FFM\n",
    "from recbole.model.sequential_recommender.s3rec import S3Rec\n",
    "\n",
    "from recbole.config import Config\n",
    "from recbole.data import create_dataset, data_preparation, Interaction\n",
    "from recbole.utils import init_logger, get_trainer, get_model, init_seed, set_color\n",
    "\n",
    "\n",
    "SEED=13"
   ]
  },
  {
   "cell_type": "code",
   "execution_count": 2,
   "id": "c169d301",
   "metadata": {
    "ExecuteTime": {
     "end_time": "2022-12-22T13:00:51.896462Z",
     "start_time": "2022-12-22T13:00:51.651448Z"
    }
   },
   "outputs": [
    {
     "name": "stdout",
     "output_type": "stream",
     "text": [
      "Ml_item2attributes.json  genres.tsv  train_ratings.csv\tyears.tsv\n",
      "directors.tsv\t\t titles.tsv  writers.tsv\n",
      "/opt/ml/input/data/train/train_ratings.csv\n"
     ]
    }
   ],
   "source": [
    "!ls ../../data/train\n",
    "!readlink -ef ../../data/train/train_ratings.csv"
   ]
  },
  {
   "cell_type": "markdown",
   "id": "91ba6987",
   "metadata": {},
   "source": [
    "## 데이터 로드"
   ]
  },
  {
   "cell_type": "code",
   "execution_count": 5,
   "id": "e8bbba30",
   "metadata": {
    "ExecuteTime": {
     "end_time": "2022-12-22T12:52:48.041666Z",
     "start_time": "2022-12-22T12:52:46.613806Z"
    }
   },
   "outputs": [],
   "source": [
    "data_path = '../../data/train'\n",
    "year_data = pd.read_csv(os.path.join(data_path, 'years.tsv'), sep='\\t')\n",
    "writer_data = pd.read_csv(os.path.join(data_path, 'writers.tsv'), sep='\\t')\n",
    "title_data = pd.read_csv(os.path.join(data_path, 'titles.tsv'), sep='\\t')\n",
    "genre_data = pd.read_csv(os.path.join(data_path, 'genres.tsv'), sep='\\t')\n",
    "director_data = pd.read_csv(os.path.join(data_path, 'directors.tsv'), sep='\\t')\n",
    "\n",
    "genre_dict = dict(genre_data.groupby('item').genre.apply(lambda x: \" \".join(list(x))))\n",
    "\n",
    "title_data['genre'] = title_data.item.map(genre_dict)\n",
    "\n",
    "title_data = title_data.merge(year_data, on='item', how='left')\n",
    "\n",
    "title_data.year = title_data.year.fillna(title_data.title.map(lambda x: x[-5:-1])).astype(int)\n",
    "\n",
    "director_data.item.nunique()\n",
    "\n",
    "writer_data.item.nunique()\n",
    "\n",
    "title_data[title_data.title.str.contains(\"(2007-)\")]\n",
    "\n",
    "# print(title_data.title.str.extract(r\"(\\(\\d+-*\\d*\\))\")[0].value_counts().index.tolist())\n",
    "\n",
    "title_data.title = title_data.title.str.replace(r\"(\\(\\d+-*\\d*\\))\",\"\").str.strip()\n",
    "\n",
    "title_data.item = title_data.item.map(item2idx)\n",
    "\n",
    "title_data\n",
    "\n",
    "title_data.columns=['item:token','title:token_seq','genre:token_seq','year:token']\n",
    "\n",
    "title_data.to_csv(os.path.join(outpath,\"sequential_data.item\"),sep='\\t',index=False)"
   ]
  },
  {
   "cell_type": "code",
   "execution_count": 4,
   "id": "063a7792",
   "metadata": {
    "ExecuteTime": {
     "end_time": "2022-12-22T13:01:20.135152Z",
     "start_time": "2022-12-22T13:01:15.865735Z"
    }
   },
   "outputs": [],
   "source": [
    "data_path = '../../data/train'\n",
    "train = pd.read_csv(os.path.join(data_path, 'train_ratings.csv'))\n",
    "\n",
    "user2idx = {v:k for k,v in enumerate(sorted(set(train.user)))}\n",
    "item2idx = {v:k for k,v in enumerate(sorted(set(train.item)))}\n",
    "uidx2user = {k:v for k,v in enumerate(sorted(set(train.user)))}\n",
    "iidx2item = {k:v for k,v in enumerate(sorted(set(train.item)))}"
   ]
  },
  {
   "cell_type": "markdown",
   "id": "1dcea99e",
   "metadata": {},
   "source": [
    "## make inter file"
   ]
  },
  {
   "cell_type": "code",
   "execution_count": 5,
   "id": "930038a2",
   "metadata": {
    "ExecuteTime": {
     "end_time": "2022-12-22T13:01:20.599775Z",
     "start_time": "2022-12-22T13:01:20.152593Z"
    }
   },
   "outputs": [],
   "source": [
    "train.user = train.user.map(user2idx)\n",
    "train.item = train.item.map(item2idx)"
   ]
  },
  {
   "cell_type": "code",
   "execution_count": 6,
   "id": "4aed392f",
   "metadata": {
    "ExecuteTime": {
     "end_time": "2022-12-22T13:01:20.607039Z",
     "start_time": "2022-12-22T13:01:20.602305Z"
    }
   },
   "outputs": [],
   "source": [
    "train.columns=['user_id:token','item_id:token','timestamp:float']"
   ]
  },
  {
   "cell_type": "code",
   "execution_count": 7,
   "id": "3d5f8092",
   "metadata": {
    "ExecuteTime": {
     "end_time": "2022-12-22T13:01:21.430858Z",
     "start_time": "2022-12-22T13:01:21.411441Z"
    }
   },
   "outputs": [
    {
     "data": {
      "text/html": [
       "<div>\n",
       "<style scoped>\n",
       "    .dataframe tbody tr th:only-of-type {\n",
       "        vertical-align: middle;\n",
       "    }\n",
       "\n",
       "    .dataframe tbody tr th {\n",
       "        vertical-align: top;\n",
       "    }\n",
       "\n",
       "    .dataframe thead th {\n",
       "        text-align: right;\n",
       "    }\n",
       "</style>\n",
       "<table border=\"1\" class=\"dataframe\">\n",
       "  <thead>\n",
       "    <tr style=\"text-align: right;\">\n",
       "      <th></th>\n",
       "      <th>user_id:token</th>\n",
       "      <th>item_id:token</th>\n",
       "      <th>timestamp:float</th>\n",
       "    </tr>\n",
       "  </thead>\n",
       "  <tbody>\n",
       "    <tr>\n",
       "      <th>0</th>\n",
       "      <td>0</td>\n",
       "      <td>2505</td>\n",
       "      <td>1230782529</td>\n",
       "    </tr>\n",
       "    <tr>\n",
       "      <th>1</th>\n",
       "      <td>0</td>\n",
       "      <td>109</td>\n",
       "      <td>1230782534</td>\n",
       "    </tr>\n",
       "  </tbody>\n",
       "</table>\n",
       "</div>"
      ],
      "text/plain": [
       "   user_id:token  item_id:token  timestamp:float\n",
       "0              0           2505       1230782529\n",
       "1              0            109       1230782534"
      ]
     },
     "execution_count": 7,
     "metadata": {},
     "output_type": "execute_result"
    }
   ],
   "source": [
    "train[:2]"
   ]
  },
  {
   "cell_type": "code",
   "execution_count": 8,
   "id": "286c0b14",
   "metadata": {
    "ExecuteTime": {
     "end_time": "2022-12-22T13:01:28.135550Z",
     "start_time": "2022-12-22T13:01:25.540212Z"
    }
   },
   "outputs": [
    {
     "data": {
      "text/plain": [
       "(62720, 3)"
      ]
     },
     "execution_count": 8,
     "metadata": {},
     "output_type": "execute_result"
    }
   ],
   "source": [
    "outpath = f\"dataset/sequential_data\"\n",
    "os.makedirs(outpath, exist_ok=True)\n",
    "sub_train=train.groupby(\"user_id:token\").sample(n=2, random_state=SEED)\n",
    "sub_train.shape\n",
    "sub_train.to_csv(os.path.join(outpath,\"sequential_data.inter\"),sep='\\t',index=False)"
   ]
  },
  {
   "cell_type": "code",
   "execution_count": 9,
   "id": "48dfc28b",
   "metadata": {
    "ExecuteTime": {
     "end_time": "2022-12-22T13:01:28.143415Z",
     "start_time": "2022-12-22T13:01:28.137778Z"
    }
   },
   "outputs": [
    {
     "data": {
      "text/plain": [
       "((62720, 3), (5154471, 3))"
      ]
     },
     "execution_count": 9,
     "metadata": {},
     "output_type": "execute_result"
    }
   ],
   "source": [
    "sub_train.shape, train.shape"
   ]
  },
  {
   "cell_type": "markdown",
   "id": "f2d8b45f",
   "metadata": {},
   "source": [
    "## make yaml file"
   ]
  },
  {
   "cell_type": "code",
   "execution_count": 10,
   "id": "fc936e99",
   "metadata": {
    "ExecuteTime": {
     "end_time": "2022-12-22T13:01:33.293123Z",
     "start_time": "2022-12-22T13:01:33.284693Z"
    }
   },
   "outputs": [
    {
     "data": {
      "text/plain": [
       "231"
      ]
     },
     "execution_count": 10,
     "metadata": {},
     "output_type": "execute_result"
    }
   ],
   "source": [
    "yamldata=\"\"\"\n",
    "USER_ID_FIELD: user_id\n",
    "ITEM_ID_FIELD: item_id\n",
    "TIME_FIELD: timestamp\n",
    "\n",
    "load_col:\n",
    "    inter: [user_id, item_id, timestamp]\n",
    "    \n",
    "train_neg_sample_args: ~\n",
    "ITEM_LIST_LENGTH_FIELD: item_length\n",
    "LIST_SUFFIX: _list\n",
    "MAX_ITEM_LIST_LENGTH: 50\n",
    "\"\"\"\n",
    "with open(\"s3rec_data.yaml\", \"w\") as f:\n",
    "    f.write(yamldata)"
   ]
  },
  {
   "cell_type": "code",
   "execution_count": 11,
   "id": "4f80bd4c",
   "metadata": {
    "ExecuteTime": {
     "end_time": "2022-12-22T13:01:34.698741Z",
     "start_time": "2022-12-22T13:01:34.560843Z"
    }
   },
   "outputs": [
    {
     "name": "stdout",
     "output_type": "stream",
     "text": [
      "sequential_data.inter\r\n"
     ]
    }
   ],
   "source": [
    "!ls dataset/sequential_data/"
   ]
  },
  {
   "cell_type": "markdown",
   "id": "729f6f4f",
   "metadata": {},
   "source": [
    "## make config, logger"
   ]
  },
  {
   "cell_type": "code",
   "execution_count": 12,
   "id": "41efa260",
   "metadata": {
    "ExecuteTime": {
     "end_time": "2022-12-22T13:01:48.384144Z",
     "start_time": "2022-12-22T13:01:47.481391Z"
    },
    "scrolled": true
   },
   "outputs": [
    {
     "name": "stderr",
     "output_type": "stream",
     "text": [
      "22 Dec 22:01    INFO  \n",
      "General Hyper Parameters:\n",
      "gpu_id = 0\n",
      "use_gpu = True\n",
      "seed = 2020\n",
      "state = INFO\n",
      "reproducibility = True\n",
      "data_path = dataset/sequential_data\n",
      "checkpoint_dir = saved\n",
      "show_progress = False\n",
      "save_dataset = False\n",
      "dataset_save_path = None\n",
      "save_dataloaders = False\n",
      "dataloaders_save_path = None\n",
      "log_wandb = False\n",
      "\n",
      "Training Hyper Parameters:\n",
      "epochs = 1\n",
      "train_batch_size = 2048\n",
      "learner = adam\n",
      "learning_rate = 0.001\n",
      "train_neg_sample_args = {'distribution': 'none', 'sample_num': 'none', 'alpha': 'none', 'dynamic': False, 'candidate_num': 0}\n",
      "eval_step = 1\n",
      "stopping_step = 10\n",
      "clip_grad_norm = None\n",
      "weight_decay = 0.0\n",
      "loss_decimal_place = 4\n",
      "\n",
      "Evaluation Hyper Parameters:\n",
      "eval_args = {'split': {'LS': 'valid_and_test'}, 'order': 'TO', 'mode': 'full', 'group_by': 'user'}\n",
      "repeatable = True\n",
      "metrics = ['Recall', 'MRR', 'NDCG', 'Hit', 'Precision']\n",
      "topk = [10]\n",
      "valid_metric = Recall@10\n",
      "valid_metric_bigger = True\n",
      "eval_batch_size = 4096\n",
      "metric_decimal_place = 4\n",
      "\n",
      "Dataset Hyper Parameters:\n",
      "field_separator = \t\n",
      "seq_separator =  \n",
      "USER_ID_FIELD = user_id\n",
      "ITEM_ID_FIELD = item_id\n",
      "RATING_FIELD = rating\n",
      "TIME_FIELD = timestamp\n",
      "seq_len = None\n",
      "LABEL_FIELD = label\n",
      "threshold = None\n",
      "NEG_PREFIX = neg_\n",
      "load_col = {'inter': ['user_id', 'item_id', 'timestamp']}\n",
      "unload_col = None\n",
      "unused_col = None\n",
      "additional_feat_suffix = None\n",
      "rm_dup_inter = None\n",
      "val_interval = None\n",
      "filter_inter_by_user_or_item = True\n",
      "user_inter_num_interval = [0,inf)\n",
      "item_inter_num_interval = [0,inf)\n",
      "alias_of_user_id = None\n",
      "alias_of_item_id = None\n",
      "alias_of_entity_id = None\n",
      "alias_of_relation_id = None\n",
      "preload_weight = None\n",
      "normalize_field = None\n",
      "normalize_all = None\n",
      "ITEM_LIST_LENGTH_FIELD = item_length\n",
      "LIST_SUFFIX = _list\n",
      "MAX_ITEM_LIST_LENGTH = 50\n",
      "POSITION_FIELD = position_id\n",
      "HEAD_ENTITY_ID_FIELD = head_id\n",
      "TAIL_ENTITY_ID_FIELD = tail_id\n",
      "RELATION_ID_FIELD = relation_id\n",
      "ENTITY_ID_FIELD = entity_id\n",
      "benchmark_filename = None\n",
      "\n",
      "Other Hyper Parameters: \n",
      "worker = 0\n",
      "wandb_project = recbole\n",
      "shuffle = True\n",
      "require_pow = False\n",
      "enable_amp = False\n",
      "enable_scaler = False\n",
      "transform = None\n",
      "n_layers = 2\n",
      "n_heads = 2\n",
      "hidden_size = 64\n",
      "inner_size = 256\n",
      "hidden_dropout_prob = 0.5\n",
      "attn_dropout_prob = 0.5\n",
      "hidden_act = gelu\n",
      "layer_norm_eps = 1e-12\n",
      "initializer_range = 0.02\n",
      "item_attribute = item_id\n",
      "mask_ratio = 0.2\n",
      "aap_weight = 1.0\n",
      "mip_weight = 0.2\n",
      "map_weight = 1.0\n",
      "sp_weight = 0.5\n",
      "train_stage = pretrain\n",
      "pretrain_epochs = 500\n",
      "save_step = 10\n",
      "pre_model_path = \n",
      "loss_type = CE\n",
      "numerical_features = []\n",
      "discretization = None\n",
      "kg_reverse_r = False\n",
      "entity_kg_num_interval = [0,inf)\n",
      "relation_kg_num_interval = [0,inf)\n",
      "MODEL_TYPE = ModelType.SEQUENTIAL\n",
      "MODEL_INPUT_TYPE = InputType.POINTWISE\n",
      "eval_type = EvaluatorType.RANKING\n",
      "single_spec = True\n",
      "local_rank = 0\n",
      "device = cuda\n",
      "eval_neg_sample_args = {'distribution': 'uniform', 'sample_num': 'none'}\n",
      "\n",
      "\n"
     ]
    }
   ],
   "source": [
    "logger = getLogger()\n",
    "\n",
    "# configurations initialization\n",
    "config = Config(model='S3Rec', dataset=\"sequential_data\", config_file_list=[f's3rec_data.yaml'])\n",
    "config['epochs'] = 1\n",
    "config['show_progress'] = False\n",
    "config['device'] = torch.device(\"cuda\" if torch.cuda.is_available() else \"cpu\")\n",
    "config['valid_metric'] = \"Recall@10\"\n",
    "config['topk']=[10]\n",
    "config['item_attribute'] = 'item_id'\n",
    "init_seed(config['seed'], config['reproducibility'])\n",
    "# logger initialization\n",
    "init_logger(config)\n",
    "logger.info(config)"
   ]
  },
  {
   "cell_type": "markdown",
   "id": "e5c4ee8a",
   "metadata": {},
   "source": [
    "## make dataset"
   ]
  },
  {
   "cell_type": "code",
   "execution_count": 13,
   "id": "4b8abda8",
   "metadata": {
    "ExecuteTime": {
     "end_time": "2022-12-22T13:01:55.860666Z",
     "start_time": "2022-12-22T13:01:54.698945Z"
    }
   },
   "outputs": [
    {
     "name": "stderr",
     "output_type": "stream",
     "text": [
      "22 Dec 22:01    INFO  sequential_data\n",
      "The number of users: 31361\n",
      "Average actions of users: 2.0\n",
      "The number of items: 5203\n",
      "Average actions of items: 12.056901191849288\n",
      "The number of inters: 62720\n",
      "The sparsity of the dataset: 99.96156186379929%\n",
      "Remain Fields: ['user_id', 'item_id', 'timestamp']\n",
      "22 Dec 22:01    INFO  [Training]: train_batch_size = [2048] train_neg_sample_args: [{'distribution': 'none', 'sample_num': 'none', 'alpha': 'none', 'dynamic': False, 'candidate_num': 0}]\n",
      "22 Dec 22:01    INFO  [Evaluation]: eval_batch_size = [4096] eval_args: [{'split': {'LS': 'valid_and_test'}, 'order': 'TO', 'mode': 'full', 'group_by': 'user'}]\n"
     ]
    }
   ],
   "source": [
    "# dataset filtering\n",
    "dataset = create_dataset(config)\n",
    "logger.info(dataset)\n",
    "\n",
    "# dataset splitting\n",
    "train_data, valid_data, test_data = data_preparation(config, dataset)"
   ]
  },
  {
   "cell_type": "code",
   "execution_count": 14,
   "id": "90215db4",
   "metadata": {
    "ExecuteTime": {
     "end_time": "2022-12-22T13:01:55.884004Z",
     "start_time": "2022-12-22T13:01:55.863182Z"
    }
   },
   "outputs": [
    {
     "data": {
      "text/plain": [
       "\u001b[1;35msequential_data\u001b[0m\n",
       "\u001b[1;34mThe number of users\u001b[0m: 31361\n",
       "\u001b[1;34mAverage actions of users\u001b[0m: 1.0\n",
       "\u001b[1;34mThe number of items\u001b[0m: 5203\n",
       "\u001b[1;34mAverage actions of items\u001b[0m: 7.1288929302114115\n",
       "\u001b[1;34mThe number of inters\u001b[0m: 31360\n",
       "\u001b[1;34mThe sparsity of the dataset\u001b[0m: 99.98078093189963%\n",
       "\u001b[1;34mRemain Fields\u001b[0m: ['user_id', 'item_id', 'timestamp', 'item_id_list', 'timestamp_list', 'item_length']"
      ]
     },
     "execution_count": 14,
     "metadata": {},
     "output_type": "execute_result"
    },
    {
     "data": {
      "text/plain": [
       "\u001b[1;35msequential_data\u001b[0m\n",
       "\u001b[1;34mThe number of users\u001b[0m: 31361\n",
       "\u001b[1;34mAverage actions of users\u001b[0m: nan\n",
       "\u001b[1;34mThe number of items\u001b[0m: 5203\n",
       "\u001b[1;34mAverage actions of items\u001b[0m: nan\n",
       "\u001b[1;34mThe number of inters\u001b[0m: 0\n",
       "\u001b[1;34mThe sparsity of the dataset\u001b[0m: 100.0%\n",
       "\u001b[1;34mRemain Fields\u001b[0m: ['user_id', 'item_id', 'timestamp', 'item_id_list', 'timestamp_list', 'item_length']"
      ]
     },
     "execution_count": 14,
     "metadata": {},
     "output_type": "execute_result"
    },
    {
     "data": {
      "text/plain": [
       "\u001b[1;35msequential_data\u001b[0m\n",
       "\u001b[1;34mThe number of users\u001b[0m: 31361\n",
       "\u001b[1;34mAverage actions of users\u001b[0m: nan\n",
       "\u001b[1;34mThe number of items\u001b[0m: 5203\n",
       "\u001b[1;34mAverage actions of items\u001b[0m: nan\n",
       "\u001b[1;34mThe number of inters\u001b[0m: 0\n",
       "\u001b[1;34mThe sparsity of the dataset\u001b[0m: 100.0%\n",
       "\u001b[1;34mRemain Fields\u001b[0m: ['user_id', 'item_id', 'timestamp', 'item_id_list', 'timestamp_list', 'item_length']"
      ]
     },
     "execution_count": 14,
     "metadata": {},
     "output_type": "execute_result"
    }
   ],
   "source": [
    "train_data.dataset\n",
    "valid_data.dataset\n",
    "test_data.dataset"
   ]
  },
  {
   "cell_type": "markdown",
   "id": "ee19f483",
   "metadata": {},
   "source": [
    "## make model"
   ]
  },
  {
   "cell_type": "code",
   "execution_count": 16,
   "id": "4ee187fa",
   "metadata": {
    "ExecuteTime": {
     "end_time": "2022-12-22T13:02:15.012822Z",
     "start_time": "2022-12-22T13:02:09.362866Z"
    }
   },
   "outputs": [
    {
     "name": "stderr",
     "output_type": "stream",
     "text": [
      "22 Dec 22:02    INFO  S3Rec(\n",
      "  (item_embedding): Embedding(5204, 64, padding_idx=0)\n",
      "  (position_embedding): Embedding(50, 64)\n",
      "  (feature_embedding): Embedding(5202, 64, padding_idx=0)\n",
      "  (trm_encoder): TransformerEncoder(\n",
      "    (layer): ModuleList(\n",
      "      (0): TransformerLayer(\n",
      "        (multi_head_attention): MultiHeadAttention(\n",
      "          (query): Linear(in_features=64, out_features=64, bias=True)\n",
      "          (key): Linear(in_features=64, out_features=64, bias=True)\n",
      "          (value): Linear(in_features=64, out_features=64, bias=True)\n",
      "          (softmax): Softmax(dim=-1)\n",
      "          (attn_dropout): Dropout(p=0.5, inplace=False)\n",
      "          (dense): Linear(in_features=64, out_features=64, bias=True)\n",
      "          (LayerNorm): LayerNorm((64,), eps=1e-12, elementwise_affine=True)\n",
      "          (out_dropout): Dropout(p=0.5, inplace=False)\n",
      "        )\n",
      "        (feed_forward): FeedForward(\n",
      "          (dense_1): Linear(in_features=64, out_features=256, bias=True)\n",
      "          (dense_2): Linear(in_features=256, out_features=64, bias=True)\n",
      "          (LayerNorm): LayerNorm((64,), eps=1e-12, elementwise_affine=True)\n",
      "          (dropout): Dropout(p=0.5, inplace=False)\n",
      "        )\n",
      "      )\n",
      "      (1): TransformerLayer(\n",
      "        (multi_head_attention): MultiHeadAttention(\n",
      "          (query): Linear(in_features=64, out_features=64, bias=True)\n",
      "          (key): Linear(in_features=64, out_features=64, bias=True)\n",
      "          (value): Linear(in_features=64, out_features=64, bias=True)\n",
      "          (softmax): Softmax(dim=-1)\n",
      "          (attn_dropout): Dropout(p=0.5, inplace=False)\n",
      "          (dense): Linear(in_features=64, out_features=64, bias=True)\n",
      "          (LayerNorm): LayerNorm((64,), eps=1e-12, elementwise_affine=True)\n",
      "          (out_dropout): Dropout(p=0.5, inplace=False)\n",
      "        )\n",
      "        (feed_forward): FeedForward(\n",
      "          (dense_1): Linear(in_features=64, out_features=256, bias=True)\n",
      "          (dense_2): Linear(in_features=256, out_features=64, bias=True)\n",
      "          (LayerNorm): LayerNorm((64,), eps=1e-12, elementwise_affine=True)\n",
      "          (dropout): Dropout(p=0.5, inplace=False)\n",
      "        )\n",
      "      )\n",
      "    )\n",
      "  )\n",
      "  (LayerNorm): LayerNorm((64,), eps=1e-12, elementwise_affine=True)\n",
      "  (dropout): Dropout(p=0.5, inplace=False)\n",
      "  (aap_norm): Linear(in_features=64, out_features=64, bias=True)\n",
      "  (mip_norm): Linear(in_features=64, out_features=64, bias=True)\n",
      "  (map_norm): Linear(in_features=64, out_features=64, bias=True)\n",
      "  (sp_norm): Linear(in_features=64, out_features=64, bias=True)\n",
      "  (loss_fct): BCEWithLogitsLoss()\n",
      ")\n",
      "Trainable parameters: 785920\n"
     ]
    }
   ],
   "source": [
    "# model loading and initialization\n",
    "init_seed(config['seed'], config['reproducibility'])\n",
    "model = S3Rec(config, train_data.dataset).to(config['device'])\n",
    "logger.info(model)"
   ]
  },
  {
   "cell_type": "markdown",
   "id": "03bd695a",
   "metadata": {},
   "source": [
    "## train"
   ]
  },
  {
   "cell_type": "code",
   "execution_count": 24,
   "id": "2879e5ea",
   "metadata": {
    "ExecuteTime": {
     "end_time": "2022-12-22T13:40:13.430551Z",
     "start_time": "2022-12-22T13:40:13.427320Z"
    }
   },
   "outputs": [],
   "source": [
    "config['pretrain_epochs']=1\n",
    "config['save_step']=1"
   ]
  },
  {
   "cell_type": "code",
   "execution_count": 25,
   "id": "93b8e13e",
   "metadata": {
    "ExecuteTime": {
     "end_time": "2022-12-22T13:43:43.046624Z",
     "start_time": "2022-12-22T13:40:13.923984Z"
    },
    "scrolled": false
   },
   "outputs": [
    {
     "name": "stderr",
     "output_type": "stream",
     "text": [
      "22 Dec 22:43    INFO  epoch 0 training [time: 209.07s, train loss: 277064.3521]\n",
      "22 Dec 22:43    INFO  Saving current: saved/S3Rec-sequential_data-1.pth\n"
     ]
    }
   ],
   "source": [
    "# trainer loading and initialization\n",
    "trainer = get_trainer(config['MODEL_TYPE'], config['model'])(config, model)\n",
    "\n",
    "# model training\n",
    "best_valid_score, best_valid_result = trainer.fit(\n",
    "    train_data, valid_data, saved=True, show_progress=False\n",
    ")"
   ]
  },
  {
   "cell_type": "code",
   "execution_count": 27,
   "id": "ac427cb3",
   "metadata": {
    "ExecuteTime": {
     "end_time": "2022-12-22T13:45:18.586383Z",
     "start_time": "2022-12-22T13:45:18.581112Z"
    }
   },
   "outputs": [],
   "source": [
    "config['pre_model_path'] = 'saved/S3Rec-sequential_data-1.pth'"
   ]
  },
  {
   "cell_type": "code",
   "execution_count": 28,
   "id": "a6a6bade",
   "metadata": {
    "ExecuteTime": {
     "end_time": "2022-12-22T13:45:19.224406Z",
     "start_time": "2022-12-22T13:45:19.219101Z"
    }
   },
   "outputs": [],
   "source": [
    "config['train_stage'] = 'finetune'"
   ]
  },
  {
   "cell_type": "code",
   "execution_count": 29,
   "id": "ff1e99a4",
   "metadata": {
    "ExecuteTime": {
     "end_time": "2022-12-22T13:48:56.806787Z",
     "start_time": "2022-12-22T13:45:28.533674Z"
    }
   },
   "outputs": [
    {
     "name": "stderr",
     "output_type": "stream",
     "text": [
      "22 Dec 22:48    INFO  epoch 0 training [time: 208.20s, train loss: 276676.5093]\n",
      "22 Dec 22:48    INFO  Saving current: saved/S3Rec-sequential_data-1.pth\n"
     ]
    }
   ],
   "source": [
    "# trainer loading and initialization\n",
    "trainer = get_trainer(config['MODEL_TYPE'], config['model'])(config, model)\n",
    "\n",
    "# model training\n",
    "best_valid_score, best_valid_result = trainer.fit(\n",
    "    train_data, valid_data, saved=True, show_progress=False\n",
    ")"
   ]
  },
  {
   "cell_type": "code",
   "execution_count": 254,
   "id": "cec8a633",
   "metadata": {
    "ExecuteTime": {
     "end_time": "2022-12-21T16:31:48.425918Z",
     "start_time": "2022-12-21T16:31:48.423244Z"
    }
   },
   "outputs": [],
   "source": [
    "from IPython.core.interactiveshell import InteractiveShell\n",
    "InteractiveShell.ast_node_interactivity=\"last\""
   ]
  },
  {
   "cell_type": "markdown",
   "id": "b79572b1",
   "metadata": {},
   "source": [
    "## inference"
   ]
  },
  {
   "cell_type": "code",
   "execution_count": 2,
   "id": "a90de7dc",
   "metadata": {
    "ExecuteTime": {
     "end_time": "2022-12-22T16:21:29.383501Z",
     "start_time": "2022-12-22T16:21:27.186663Z"
    }
   },
   "outputs": [],
   "source": [
    "import warnings\n",
    "warnings.filterwarnings('ignore')\n",
    "from IPython.core.interactiveshell import InteractiveShell\n",
    "InteractiveShell.ast_node_interactivity=\"all\"\n",
    "\n",
    "import os\n",
    "import json\n",
    "import argparse\n",
    "import pandas as pd\n",
    "import numpy as np\n",
    "import time, datetime\n",
    "from tqdm import tqdm\n",
    "from logging import getLogger\n",
    "import torch\n",
    "import missingno\n",
    "\n",
    "from recbole.model.general_recommender.ease import EASE\n",
    "from recbole.model.context_aware_recommender.ffm import FFM\n",
    "from recbole.model.sequential_recommender.s3rec import S3Rec\n",
    "\n",
    "from recbole.config import Config\n",
    "from recbole.data import create_dataset, data_preparation, Interaction\n",
    "from recbole.utils import init_logger, get_trainer, get_model, init_seed, set_color\n",
    "\n",
    "\n",
    "SEED=13"
   ]
  },
  {
   "cell_type": "code",
   "execution_count": 3,
   "id": "17417a9f",
   "metadata": {
    "ExecuteTime": {
     "end_time": "2022-12-22T16:21:52.983956Z",
     "start_time": "2022-12-22T16:21:46.169061Z"
    }
   },
   "outputs": [
    {
     "data": {
      "text/plain": [
       "<All keys matched successfully>"
      ]
     },
     "execution_count": 3,
     "metadata": {},
     "output_type": "execute_result"
    }
   ],
   "source": [
    "model_path='saved/S3Rec-sequential_data-1.pth'\n",
    "# rank K 설정\n",
    "K = 10\n",
    "\n",
    "# config, model, dataset 불러오기\n",
    "checkpoint = torch.load(model_path)\n",
    "config = checkpoint['config']\n",
    "config['dataset'] = 'sequential_data'\n",
    "\n",
    "dataset = create_dataset(config)\n",
    "train_data, valid_data, test_data = data_preparation(config, dataset)\n",
    "\n",
    "model = get_model(config['model'])(config, test_data.dataset).to(config['device'])\n",
    "model.load_state_dict(checkpoint['state_dict'])\n",
    "model.load_other_parameter(checkpoint.get('other_parameter'))"
   ]
  },
  {
   "cell_type": "code",
   "execution_count": 4,
   "id": "50000fd0",
   "metadata": {
    "ExecuteTime": {
     "end_time": "2022-12-22T16:21:55.662388Z",
     "start_time": "2022-12-22T16:21:55.645277Z"
    }
   },
   "outputs": [
    {
     "data": {
      "text/plain": [
       "\u001b[1;35msequential_data\u001b[0m\n",
       "\u001b[1;34mThe number of users\u001b[0m: 31361\n",
       "\u001b[1;34mAverage actions of users\u001b[0m: 1.0\n",
       "\u001b[1;34mThe number of items\u001b[0m: 5203\n",
       "\u001b[1;34mAverage actions of items\u001b[0m: 7.1288929302114115\n",
       "\u001b[1;34mThe number of inters\u001b[0m: 31360\n",
       "\u001b[1;34mThe sparsity of the dataset\u001b[0m: 99.98078093189963%\n",
       "\u001b[1;34mRemain Fields\u001b[0m: ['user_id', 'item_id', 'timestamp', 'item_id_list', 'timestamp_list', 'item_length']"
      ]
     },
     "execution_count": 4,
     "metadata": {},
     "output_type": "execute_result"
    }
   ],
   "source": [
    "train_data.dataset"
   ]
  },
  {
   "cell_type": "code",
   "execution_count": 32,
   "id": "82660f88",
   "metadata": {
    "ExecuteTime": {
     "end_time": "2022-12-23T02:02:09.891106Z",
     "start_time": "2022-12-23T02:02:09.887310Z"
    }
   },
   "outputs": [
    {
     "data": {
      "text/plain": [
       "array(['[PAD]', '0', '1', ..., '31357', '31358', '31359'], dtype='<U5')"
      ]
     },
     "execution_count": 32,
     "metadata": {},
     "output_type": "execute_result"
    }
   ],
   "source": [
    "user_id2token"
   ]
  },
  {
   "cell_type": "code",
   "execution_count": null,
   "id": "54c9f3b7",
   "metadata": {
    "ExecuteTime": {
     "end_time": "2022-12-22T16:22:41.333843Z",
     "start_time": "2022-12-22T16:22:41.238940Z"
    }
   },
   "outputs": [],
   "source": [
    "# device 설정\n",
    "device = config.final_config_dict['device']\n",
    "\n",
    "# user, item id -> token 변환 array\n",
    "user_id = config['USER_ID_FIELD']\n",
    "item_id = config['ITEM_ID_FIELD']\n",
    "user_id2token = dataset.field2id_token[user_id]\n",
    "item_id2token = dataset.field2id_token[item_id]\n",
    "\n",
    "# user id list\n",
    "all_user_list = torch.arange(1, len(user_id2token)).view(-1,128)\n",
    "\n",
    "# user, item 길이\n",
    "user_len = len(user_id2token)\n",
    "item_len = len(item_id2token)\n",
    "\n",
    "# user-item sparse matrix\n",
    "matrix = dataset.inter_matrix(form='csr')\n",
    "\n",
    "# user id, predict item id 저장 변수\n",
    "pred_list = None\n",
    "user_list = None\n",
    "\n",
    "# model 평가모드 전환\n",
    "model.eval()\n",
    "\n",
    "# progress bar 설정\n",
    "tbar = tqdm(all_user_list, desc=set_color(f\"Inference\", 'pink'))\n",
    "\n",
    "for data in tbar:\n",
    "    # interaction 생성\n",
    "    interaction = dict()\n",
    "    interaction = Interaction(interaction)\n",
    "    interaction[user_id] = data\n",
    "    interaction = interaction.to(device)\n",
    "    break\n",
    "    # user item별 score 예측\n",
    "    score = model.full_sort_predict(interaction)\n",
    "    score = score.view(-1, item_len)\n",
    "\n",
    "    rating_pred = score.cpu().data.numpy().copy()\n",
    "\n",
    "    user_index = data.numpy()\n",
    "\n",
    "    idx = matrix[user_index].toarray() > 0\n",
    "\n",
    "    rating_pred[idx] = -np.inf\n",
    "    rating_pred[:, 0] = -np.inf\n",
    "    ind = np.argpartition(rating_pred, -K)[:, -K:] #\n",
    "\n",
    "    arr_ind = rating_pred[np.arange(len(rating_pred))[:, None], ind]\n",
    "\n",
    "    arr_ind_argsort = np.argsort(arr_ind)[np.arange(len(rating_pred)), ::-1]\n",
    "\n",
    "    batch_pred_list = ind[\n",
    "        np.arange(len(rating_pred))[:, None], arr_ind_argsort\n",
    "    ]\n",
    "\n",
    "    if pred_list is None:\n",
    "        pred_list = batch_pred_list\n",
    "        user_list = user_index\n",
    "    else:\n",
    "        pred_list = np.append(pred_list, batch_pred_list, axis=0)\n",
    "        user_list = np.append(\n",
    "            user_list, user_index, axis=0\n",
    "        )\n",
    "\n",
    "result = []\n",
    "for user, pred in zip(user_list, pred_list):\n",
    "    for item in pred:\n",
    "        result.append((int(user_id2token[user]), int(item_id2token[item])))\n",
    "\n",
    "# 데이터 저장\n",
    "sub = pd.DataFrame(result, columns=[\"user\", \"item\"])\n",
    "sub.to_csv(\n",
    "    \"submission.csv\", index=False\n",
    ")\n",
    "print('inference done!')"
   ]
  },
  {
   "cell_type": "code",
   "execution_count": 11,
   "id": "5cc4ddcd",
   "metadata": {
    "ExecuteTime": {
     "end_time": "2022-12-22T16:24:13.588735Z",
     "start_time": "2022-12-22T16:24:13.578449Z"
    }
   },
   "outputs": [],
   "source": [
    "# https://github.com/RUCAIBox/RecBole/blob/master/run_example/recbole-using-all-items-for-prediction.ipynb\n",
    "def add_last_item(old_interaction, last_item_id, max_len=50):\n",
    "    new_seq_items = old_interaction['item_id_list'][-1]\n",
    "    if old_interaction['item_length'][-1].item() < max_len:\n",
    "        new_seq_items[old_interaction['item_length'][-1].item()] = last_item_id\n",
    "    else:\n",
    "        new_seq_items = torch.roll(new_seq_items, -1)\n",
    "        new_seq_items[-1] = last_item_id\n",
    "    return new_seq_items.view(1, len(new_seq_items))\n",
    "\n",
    "def predict_for_all_item(external_user_id, dataset, model):\n",
    "    model.eval()\n",
    "    with torch.no_grad():\n",
    "        uid_series = dataset.token2id(dataset.uid_field, [external_user_id])\n",
    "        index = np.isin(dataset[dataset.uid_field].numpy(), uid_series)\n",
    "        input_interaction = dataset[index]\n",
    "        test = {\n",
    "            'item_id_list': add_last_item(input_interaction, \n",
    "                                          input_interaction['item_id'][-1].item(), model.max_seq_length),\n",
    "            'item_length': torch.tensor(\n",
    "                [input_interaction['item_length'][-1].item() + 1\n",
    "                 if input_interaction['item_length'][-1].item() < model.max_seq_length else model.max_seq_length])\n",
    "        }\n",
    "        new_inter = Interaction(test)\n",
    "        new_inter = new_inter.to(config['device'])\n",
    "        new_scores = model.full_sort_predict(new_inter)\n",
    "        new_scores = new_scores.view(-1, test_data.dataset.item_num)\n",
    "        new_scores[:, 0] = -np.inf  # set scores of [pad] to -inf\n",
    "    return torch.topk(new_scores, 10),new_inter"
   ]
  },
  {
   "cell_type": "code",
   "execution_count": 64,
   "id": "6330bb31",
   "metadata": {
    "ExecuteTime": {
     "end_time": "2022-12-23T02:11:43.156234Z",
     "start_time": "2022-12-23T02:11:43.131223Z"
    }
   },
   "outputs": [
    {
     "data": {
      "text/plain": [
       "{'user_id': tensor([1]),\n",
       " 'item_id': tensor([2]),\n",
       " 'timestamp': tensor([1.2308e+09]),\n",
       " 'item_length': tensor([1]),\n",
       " 'item_id_list': tensor([[1, 0, 0, 0, 0, 0, 0, 0, 0, 0, 0, 0, 0, 0, 0, 0, 0, 0, 0, 0, 0, 0, 0, 0,\n",
       "          0, 0, 0, 0, 0, 0, 0, 0, 0, 0, 0, 0, 0, 0, 0, 0, 0, 0, 0, 0, 0, 0, 0, 0,\n",
       "          0, 0]]),\n",
       " 'timestamp_list': tensor([[1.2308e+09, 0.0000e+00, 0.0000e+00, 0.0000e+00, 0.0000e+00, 0.0000e+00,\n",
       "          0.0000e+00, 0.0000e+00, 0.0000e+00, 0.0000e+00, 0.0000e+00, 0.0000e+00,\n",
       "          0.0000e+00, 0.0000e+00, 0.0000e+00, 0.0000e+00, 0.0000e+00, 0.0000e+00,\n",
       "          0.0000e+00, 0.0000e+00, 0.0000e+00, 0.0000e+00, 0.0000e+00, 0.0000e+00,\n",
       "          0.0000e+00, 0.0000e+00, 0.0000e+00, 0.0000e+00, 0.0000e+00, 0.0000e+00,\n",
       "          0.0000e+00, 0.0000e+00, 0.0000e+00, 0.0000e+00, 0.0000e+00, 0.0000e+00,\n",
       "          0.0000e+00, 0.0000e+00, 0.0000e+00, 0.0000e+00, 0.0000e+00, 0.0000e+00,\n",
       "          0.0000e+00, 0.0000e+00, 0.0000e+00, 0.0000e+00, 0.0000e+00, 0.0000e+00,\n",
       "          0.0000e+00, 0.0000e+00]])}"
      ]
     },
     "execution_count": 64,
     "metadata": {},
     "output_type": "execute_result"
    }
   ],
   "source": [
    "dict(input_interaction.interaction)"
   ]
  },
  {
   "cell_type": "code",
   "execution_count": 58,
   "id": "06600130",
   "metadata": {
    "ExecuteTime": {
     "end_time": "2022-12-23T02:09:01.285323Z",
     "start_time": "2022-12-23T02:09:01.281302Z"
    }
   },
   "outputs": [
    {
     "data": {
      "text/plain": [
       "2"
      ]
     },
     "execution_count": 58,
     "metadata": {},
     "output_type": "execute_result"
    }
   ],
   "source": [
    "input_interaction['item_id']"
   ]
  },
  {
   "cell_type": "code",
   "execution_count": null,
   "id": "e2b95a69",
   "metadata": {},
   "outputs": [],
   "source": [
    "add_last_item(input_interaction, input_interaction['item_id'][-1].item(), model.max_seq_length)"
   ]
  },
  {
   "cell_type": "code",
   "execution_count": null,
   "id": "d4635093",
   "metadata": {},
   "outputs": [],
   "source": [
    "model.eval()\n",
    "with torch.no_grad():\n",
    "    uid_series = dataset.token2id(dataset.uid_field, [external_user_id])\n",
    "    index = np.isin(dataset[dataset.uid_field].numpy(), uid_series) # list, element -> True index\n",
    "    input_interaction = dataset[index] # one interaction 추출\n",
    "    test = {\n",
    "        'item_id_list': add_last_item(input_interaction, \n",
    "                                      input_interaction['item_id'][-1].item(), model.max_seq_length),\n",
    "        'item_length': torch.tensor(\n",
    "            [input_interaction['item_length'][-1].item() + 1\n",
    "             if input_interaction['item_length'][-1].item() < model.max_seq_length else model.max_seq_length])\n",
    "    }\n",
    "    new_inter = Interaction(test)\n",
    "    new_inter = new_inter.to(config['device'])\n",
    "    new_scores = model.full_sort_predict(new_inter)\n",
    "    new_scores = new_scores.view(-1, test_data.dataset.item_num)\n",
    "    new_scores[:, 0] = -np.inf  # set scores of [pad] to -inf"
   ]
  },
  {
   "cell_type": "code",
   "execution_count": 45,
   "id": "7711ca1d",
   "metadata": {
    "ExecuteTime": {
     "end_time": "2022-12-22T15:06:57.269994Z",
     "start_time": "2022-12-22T15:06:57.258296Z"
    }
   },
   "outputs": [],
   "source": [
    "all_users = list(map(str,range(1,len(user_id2token)-1)))"
   ]
  },
  {
   "cell_type": "code",
   "execution_count": 13,
   "id": "b95db91b",
   "metadata": {
    "ExecuteTime": {
     "end_time": "2022-12-22T16:24:22.625600Z",
     "start_time": "2022-12-22T16:24:22.617787Z"
    }
   },
   "outputs": [],
   "source": [
    "b,new_inter = predict_for_all_item('1', dataset, model)"
   ]
  },
  {
   "cell_type": "code",
   "execution_count": 25,
   "id": "60626e44",
   "metadata": {
    "ExecuteTime": {
     "end_time": "2022-12-22T16:26:45.426208Z",
     "start_time": "2022-12-22T16:26:45.421898Z"
    }
   },
   "outputs": [
    {
     "data": {
      "text/plain": [
       "tensor([[   3,  910, 2418, 1360,  988,  485, 1189,  383, 3627, 1939]],\n",
       "       device='cuda:0')"
      ]
     },
     "execution_count": 25,
     "metadata": {},
     "output_type": "execute_result"
    }
   ],
   "source": [
    "b[1]"
   ]
  },
  {
   "cell_type": "code",
   "execution_count": 26,
   "id": "ec0017b1",
   "metadata": {
    "ExecuteTime": {
     "end_time": "2022-12-22T16:27:05.715135Z",
     "start_time": "2022-12-22T16:27:05.693066Z"
    }
   },
   "outputs": [
    {
     "data": {
      "text/plain": [
       "{'user_id': tensor(1493),\n",
       " 'item_id': tensor(88),\n",
       " 'timestamp': tensor(1.1132e+09),\n",
       " 'item_length': tensor(1),\n",
       " 'item_id_list': tensor([361,   0,   0,   0,   0,   0,   0,   0,   0,   0,   0,   0,   0,   0,\n",
       "           0,   0,   0,   0,   0,   0,   0,   0,   0,   0,   0,   0,   0,   0,\n",
       "           0,   0,   0,   0,   0,   0,   0,   0,   0,   0,   0,   0,   0,   0,\n",
       "           0,   0,   0,   0,   0,   0,   0,   0]),\n",
       " 'timestamp_list': tensor([1.1132e+09, 0.0000e+00, 0.0000e+00, 0.0000e+00, 0.0000e+00, 0.0000e+00,\n",
       "         0.0000e+00, 0.0000e+00, 0.0000e+00, 0.0000e+00, 0.0000e+00, 0.0000e+00,\n",
       "         0.0000e+00, 0.0000e+00, 0.0000e+00, 0.0000e+00, 0.0000e+00, 0.0000e+00,\n",
       "         0.0000e+00, 0.0000e+00, 0.0000e+00, 0.0000e+00, 0.0000e+00, 0.0000e+00,\n",
       "         0.0000e+00, 0.0000e+00, 0.0000e+00, 0.0000e+00, 0.0000e+00, 0.0000e+00,\n",
       "         0.0000e+00, 0.0000e+00, 0.0000e+00, 0.0000e+00, 0.0000e+00, 0.0000e+00,\n",
       "         0.0000e+00, 0.0000e+00, 0.0000e+00, 0.0000e+00, 0.0000e+00, 0.0000e+00,\n",
       "         0.0000e+00, 0.0000e+00, 0.0000e+00, 0.0000e+00, 0.0000e+00, 0.0000e+00,\n",
       "         0.0000e+00, 0.0000e+00])}"
      ]
     },
     "execution_count": 26,
     "metadata": {},
     "output_type": "execute_result"
    }
   ],
   "source": [
    "train_data.dataset[1].interaction"
   ]
  },
  {
   "cell_type": "code",
   "execution_count": 17,
   "id": "c86e3b7b",
   "metadata": {
    "ExecuteTime": {
     "end_time": "2022-12-22T16:24:57.162706Z",
     "start_time": "2022-12-22T16:24:57.155483Z"
    }
   },
   "outputs": [
    {
     "data": {
      "text/plain": [
       "{'item_id_list': tensor([[4, 3, 0, 0, 0, 0, 0, 0, 0, 0, 0, 0, 0, 0, 0, 0, 0, 0, 0, 0, 0, 0, 0, 0,\n",
       "          0, 0, 0, 0, 0, 0, 0, 0, 0, 0, 0, 0, 0, 0, 0, 0, 0, 0, 0, 0, 0, 0, 0, 0,\n",
       "          0, 0]], device='cuda:0'),\n",
       " 'item_length': tensor([2], device='cuda:0')}"
      ]
     },
     "execution_count": 17,
     "metadata": {},
     "output_type": "execute_result"
    }
   ],
   "source": [
    "new_inter.interaction"
   ]
  },
  {
   "cell_type": "code",
   "execution_count": 56,
   "id": "cf522cd5",
   "metadata": {
    "ExecuteTime": {
     "end_time": "2022-12-22T15:10:07.723579Z",
     "start_time": "2022-12-22T15:10:07.719365Z"
    }
   },
   "outputs": [
    {
     "data": {
      "text/plain": [
       "tensor([[   3,  910, 2418, 1360,  988,  485, 1189,  383, 3627, 1939]],\n",
       "       device='cuda:0')"
      ]
     },
     "execution_count": 56,
     "metadata": {},
     "output_type": "execute_result"
    }
   ],
   "source": [
    "result = []\n",
    "for user, pred in zip(user_list, pred_list):\n",
    "    for item in pred:\n",
    "        result.append((int(user_id2token[user]), int(item_id2token[item])))\n",
    "\n",
    "# 데이터 저장\n",
    "sub = pd.DataFrame(result, columns=[\"user\", \"item\"])"
   ]
  },
  {
   "cell_type": "code",
   "execution_count": null,
   "id": "0bd6d5ca",
   "metadata": {
    "ExecuteTime": {
     "end_time": "2022-12-22T15:08:53.803201Z",
     "start_time": "2022-12-22T15:07:48.213000Z"
    }
   },
   "outputs": [],
   "source": [
    "for i in all_users:\n",
    "    predict_for_all_item(i, dataset, model)"
   ]
  }
 ],
 "metadata": {
  "kernelspec": {
   "display_name": "Python 3 (ipykernel)",
   "language": "python",
   "name": "python3"
  },
  "language_info": {
   "codemirror_mode": {
    "name": "ipython",
    "version": 3
   },
   "file_extension": ".py",
   "mimetype": "text/x-python",
   "name": "python",
   "nbconvert_exporter": "python",
   "pygments_lexer": "ipython3",
   "version": "3.8.5"
  },
  "toc": {
   "base_numbering": 1,
   "nav_menu": {},
   "number_sections": true,
   "sideBar": true,
   "skip_h1_title": false,
   "title_cell": "Table of Contents",
   "title_sidebar": "Contents",
   "toc_cell": false,
   "toc_position": {
    "height": "764px",
    "left": "26px",
    "top": "111.141px",
    "width": "393.391px"
   },
   "toc_section_display": true,
   "toc_window_display": true
  }
 },
 "nbformat": 4,
 "nbformat_minor": 5
}

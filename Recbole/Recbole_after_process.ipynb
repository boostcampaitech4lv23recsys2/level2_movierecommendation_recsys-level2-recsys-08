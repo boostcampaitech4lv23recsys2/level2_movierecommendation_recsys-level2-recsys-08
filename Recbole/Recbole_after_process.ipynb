{
 "cells": [
  {
   "cell_type": "code",
   "execution_count": 1,
   "id": "58b9e771",
   "metadata": {
    "ExecuteTime": {
     "end_time": "2022-12-28T04:03:54.298006Z",
     "start_time": "2022-12-28T04:03:48.429971Z"
    }
   },
   "outputs": [],
   "source": [
    "from IPython.core.interactiveshell import InteractiveShell\n",
    "InteractiveShell.ast_node_interactivity=\"all\"\n",
    "\n",
    "import os\n",
    "import json\n",
    "import argparse\n",
    "import pandas as pd\n",
    "import numpy as np\n",
    "import time, datetime\n",
    "from tqdm import tqdm\n",
    "from logging import getLogger\n",
    "import torch\n",
    "\n",
    "from recbole.model.general_recommender.ease import EASE\n",
    "from recbole.model.context_aware_recommender.ffm import FFM\n",
    "\n",
    "from recbole.config import Config\n",
    "from recbole.data import create_dataset, data_preparation, Interaction\n",
    "from recbole.utils import init_logger, get_trainer, get_model, init_seed, set_color\n",
    "\n",
    "\n",
    "SEED=13\n",
    "\n",
    "train = pd.read_csv(\"/opt/ml/input/data/train/train_ratings.csv\")\n",
    "\n",
    "user2idx = {v:k for k,v in enumerate(sorted(set(train.user)))}\n",
    "item2idx = {v:k for k,v in enumerate(sorted(set(train.item)))}\n",
    "uidx2user = {k:v for k,v in enumerate(sorted(set(train.user)))}\n",
    "iidx2item = {k:v for k,v in enumerate(sorted(set(train.item)))}"
   ]
  },
  {
   "cell_type": "code",
   "execution_count": 2,
   "id": "bff10ad3",
   "metadata": {
    "ExecuteTime": {
     "end_time": "2022-12-28T04:04:13.442123Z",
     "start_time": "2022-12-28T04:04:13.375485Z"
    }
   },
   "outputs": [],
   "source": [
    "df1 = pd.read_csv('EASE_1_0_Top20_remove_review_after_movie.csv')"
   ]
  },
  {
   "cell_type": "code",
   "execution_count": 10,
   "id": "2c7cb212",
   "metadata": {
    "ExecuteTime": {
     "end_time": "2022-12-28T04:13:26.513172Z",
     "start_time": "2022-12-28T04:13:26.446613Z"
    }
   },
   "outputs": [],
   "source": [
    "sub = pd.read_csv('baseline/submission/EASE-Dec-21-2022_15-02-10.csv')"
   ]
  },
  {
   "cell_type": "code",
   "execution_count": 12,
   "id": "154b45f0",
   "metadata": {
    "ExecuteTime": {
     "end_time": "2022-12-28T04:13:43.818330Z",
     "start_time": "2022-12-28T04:13:42.127192Z"
    }
   },
   "outputs": [],
   "source": [
    "sub = sub.merge(train,on=['user','item'],how='left')"
   ]
  },
  {
   "cell_type": "code",
   "execution_count": 15,
   "id": "012c44c8",
   "metadata": {
    "ExecuteTime": {
     "end_time": "2022-12-28T04:14:15.886277Z",
     "start_time": "2022-12-28T04:14:15.872403Z"
    }
   },
   "outputs": [],
   "source": [
    "sub = sub[sub.time.isna()]"
   ]
  },
  {
   "cell_type": "code",
   "execution_count": 16,
   "id": "da738958",
   "metadata": {
    "ExecuteTime": {
     "end_time": "2022-12-28T04:14:16.208653Z",
     "start_time": "2022-12-28T04:14:16.202231Z"
    }
   },
   "outputs": [
    {
     "data": {
      "text/plain": [
       "313600"
      ]
     },
     "execution_count": 16,
     "metadata": {},
     "output_type": "execute_result"
    }
   ],
   "source": [
    "sub.shape[0]+10515"
   ]
  },
  {
   "cell_type": "code",
   "execution_count": 6,
   "id": "9ea5a477",
   "metadata": {
    "ExecuteTime": {
     "end_time": "2022-12-28T04:04:46.697325Z",
     "start_time": "2022-12-28T04:04:45.029279Z"
    }
   },
   "outputs": [
    {
     "data": {
      "text/html": [
       "<div>\n",
       "<style scoped>\n",
       "    .dataframe tbody tr th:only-of-type {\n",
       "        vertical-align: middle;\n",
       "    }\n",
       "\n",
       "    .dataframe tbody tr th {\n",
       "        vertical-align: top;\n",
       "    }\n",
       "\n",
       "    .dataframe thead th {\n",
       "        text-align: right;\n",
       "    }\n",
       "</style>\n",
       "<table border=\"1\" class=\"dataframe\">\n",
       "  <thead>\n",
       "    <tr style=\"text-align: right;\">\n",
       "      <th></th>\n",
       "      <th>user</th>\n",
       "      <th>item</th>\n",
       "      <th>time</th>\n",
       "    </tr>\n",
       "  </thead>\n",
       "  <tbody>\n",
       "    <tr>\n",
       "      <th>0</th>\n",
       "      <td>14</td>\n",
       "      <td>4306</td>\n",
       "      <td>1225311315</td>\n",
       "    </tr>\n",
       "    <tr>\n",
       "      <th>1</th>\n",
       "      <td>18</td>\n",
       "      <td>7034</td>\n",
       "      <td>1196423419</td>\n",
       "    </tr>\n",
       "    <tr>\n",
       "      <th>2</th>\n",
       "      <td>31</td>\n",
       "      <td>6365</td>\n",
       "      <td>1424734544</td>\n",
       "    </tr>\n",
       "    <tr>\n",
       "      <th>3</th>\n",
       "      <td>72</td>\n",
       "      <td>1136</td>\n",
       "      <td>1199066312</td>\n",
       "    </tr>\n",
       "    <tr>\n",
       "      <th>4</th>\n",
       "      <td>116</td>\n",
       "      <td>1291</td>\n",
       "      <td>1132761789</td>\n",
       "    </tr>\n",
       "    <tr>\n",
       "      <th>...</th>\n",
       "      <td>...</td>\n",
       "      <td>...</td>\n",
       "      <td>...</td>\n",
       "    </tr>\n",
       "    <tr>\n",
       "      <th>10510</th>\n",
       "      <td>138443</td>\n",
       "      <td>5952</td>\n",
       "      <td>1231034827</td>\n",
       "    </tr>\n",
       "    <tr>\n",
       "      <th>10511</th>\n",
       "      <td>138461</td>\n",
       "      <td>1198</td>\n",
       "      <td>1180759990</td>\n",
       "    </tr>\n",
       "    <tr>\n",
       "      <th>10512</th>\n",
       "      <td>138472</td>\n",
       "      <td>33794</td>\n",
       "      <td>1194039500</td>\n",
       "    </tr>\n",
       "    <tr>\n",
       "      <th>10513</th>\n",
       "      <td>138473</td>\n",
       "      <td>2329</td>\n",
       "      <td>1274234457</td>\n",
       "    </tr>\n",
       "    <tr>\n",
       "      <th>10514</th>\n",
       "      <td>138475</td>\n",
       "      <td>4426</td>\n",
       "      <td>1126812543</td>\n",
       "    </tr>\n",
       "  </tbody>\n",
       "</table>\n",
       "<p>10515 rows × 3 columns</p>\n",
       "</div>"
      ],
      "text/plain": [
       "         user   item        time\n",
       "0          14   4306  1225311315\n",
       "1          18   7034  1196423419\n",
       "2          31   6365  1424734544\n",
       "3          72   1136  1199066312\n",
       "4         116   1291  1132761789\n",
       "...       ...    ...         ...\n",
       "10510  138443   5952  1231034827\n",
       "10511  138461   1198  1180759990\n",
       "10512  138472  33794  1194039500\n",
       "10513  138473   2329  1274234457\n",
       "10514  138475   4426  1126812543\n",
       "\n",
       "[10515 rows x 3 columns]"
      ]
     },
     "execution_count": 6,
     "metadata": {},
     "output_type": "execute_result"
    }
   ],
   "source": [
    "train.merge(df2,on=['user','item'])"
   ]
  },
  {
   "cell_type": "code",
   "execution_count": 7,
   "id": "9044800c",
   "metadata": {
    "ExecuteTime": {
     "end_time": "2022-12-28T04:05:13.691080Z",
     "start_time": "2022-12-28T04:05:12.073637Z"
    }
   },
   "outputs": [
    {
     "data": {
      "text/html": [
       "<div>\n",
       "<style scoped>\n",
       "    .dataframe tbody tr th:only-of-type {\n",
       "        vertical-align: middle;\n",
       "    }\n",
       "\n",
       "    .dataframe tbody tr th {\n",
       "        vertical-align: top;\n",
       "    }\n",
       "\n",
       "    .dataframe thead th {\n",
       "        text-align: right;\n",
       "    }\n",
       "</style>\n",
       "<table border=\"1\" class=\"dataframe\">\n",
       "  <thead>\n",
       "    <tr style=\"text-align: right;\">\n",
       "      <th></th>\n",
       "      <th>user</th>\n",
       "      <th>item</th>\n",
       "      <th>time</th>\n",
       "    </tr>\n",
       "  </thead>\n",
       "  <tbody>\n",
       "  </tbody>\n",
       "</table>\n",
       "</div>"
      ],
      "text/plain": [
       "Empty DataFrame\n",
       "Columns: [user, item, time]\n",
       "Index: []"
      ]
     },
     "execution_count": 7,
     "metadata": {},
     "output_type": "execute_result"
    }
   ],
   "source": [
    "train.merge(df1,on=['user','item'])"
   ]
  },
  {
   "cell_type": "code",
   "execution_count": 4,
   "id": "a0aa179e",
   "metadata": {
    "ExecuteTime": {
     "end_time": "2022-12-28T04:04:30.485520Z",
     "start_time": "2022-12-28T04:04:30.468372Z"
    }
   },
   "outputs": [
    {
     "data": {
      "text/html": [
       "<div>\n",
       "<style scoped>\n",
       "    .dataframe tbody tr th:only-of-type {\n",
       "        vertical-align: middle;\n",
       "    }\n",
       "\n",
       "    .dataframe tbody tr th {\n",
       "        vertical-align: top;\n",
       "    }\n",
       "\n",
       "    .dataframe thead th {\n",
       "        text-align: right;\n",
       "    }\n",
       "</style>\n",
       "<table border=\"1\" class=\"dataframe\">\n",
       "  <thead>\n",
       "    <tr style=\"text-align: right;\">\n",
       "      <th></th>\n",
       "      <th>user</th>\n",
       "      <th>item</th>\n",
       "    </tr>\n",
       "  </thead>\n",
       "  <tbody>\n",
       "    <tr>\n",
       "      <th>0</th>\n",
       "      <td>11</td>\n",
       "      <td>4370</td>\n",
       "    </tr>\n",
       "    <tr>\n",
       "      <th>1</th>\n",
       "      <td>11</td>\n",
       "      <td>4886</td>\n",
       "    </tr>\n",
       "    <tr>\n",
       "      <th>2</th>\n",
       "      <td>11</td>\n",
       "      <td>47</td>\n",
       "    </tr>\n",
       "    <tr>\n",
       "      <th>3</th>\n",
       "      <td>11</td>\n",
       "      <td>32587</td>\n",
       "    </tr>\n",
       "    <tr>\n",
       "      <th>4</th>\n",
       "      <td>11</td>\n",
       "      <td>40815</td>\n",
       "    </tr>\n",
       "    <tr>\n",
       "      <th>...</th>\n",
       "      <td>...</td>\n",
       "      <td>...</td>\n",
       "    </tr>\n",
       "    <tr>\n",
       "      <th>313595</th>\n",
       "      <td>138493</td>\n",
       "      <td>8961</td>\n",
       "    </tr>\n",
       "    <tr>\n",
       "      <th>313596</th>\n",
       "      <td>138493</td>\n",
       "      <td>5349</td>\n",
       "    </tr>\n",
       "    <tr>\n",
       "      <th>313597</th>\n",
       "      <td>138493</td>\n",
       "      <td>4022</td>\n",
       "    </tr>\n",
       "    <tr>\n",
       "      <th>313598</th>\n",
       "      <td>138493</td>\n",
       "      <td>32587</td>\n",
       "    </tr>\n",
       "    <tr>\n",
       "      <th>313599</th>\n",
       "      <td>138493</td>\n",
       "      <td>53125</td>\n",
       "    </tr>\n",
       "  </tbody>\n",
       "</table>\n",
       "<p>313600 rows × 2 columns</p>\n",
       "</div>"
      ],
      "text/plain": [
       "          user   item\n",
       "0           11   4370\n",
       "1           11   4886\n",
       "2           11     47\n",
       "3           11  32587\n",
       "4           11  40815\n",
       "...        ...    ...\n",
       "313595  138493   8961\n",
       "313596  138493   5349\n",
       "313597  138493   4022\n",
       "313598  138493  32587\n",
       "313599  138493  53125\n",
       "\n",
       "[313600 rows x 2 columns]"
      ]
     },
     "execution_count": 4,
     "metadata": {},
     "output_type": "execute_result"
    }
   ],
   "source": [
    "df2"
   ]
  }
 ],
 "metadata": {
  "kernelspec": {
   "display_name": "Python 3 (ipykernel)",
   "language": "python",
   "name": "python3"
  },
  "language_info": {
   "codemirror_mode": {
    "name": "ipython",
    "version": 3
   },
   "file_extension": ".py",
   "mimetype": "text/x-python",
   "name": "python",
   "nbconvert_exporter": "python",
   "pygments_lexer": "ipython3",
   "version": "3.8.5"
  },
  "toc": {
   "base_numbering": 1,
   "nav_menu": {},
   "number_sections": true,
   "sideBar": true,
   "skip_h1_title": false,
   "title_cell": "Table of Contents",
   "title_sidebar": "Contents",
   "toc_cell": false,
   "toc_position": {},
   "toc_section_display": true,
   "toc_window_display": false
  }
 },
 "nbformat": 4,
 "nbformat_minor": 5
}

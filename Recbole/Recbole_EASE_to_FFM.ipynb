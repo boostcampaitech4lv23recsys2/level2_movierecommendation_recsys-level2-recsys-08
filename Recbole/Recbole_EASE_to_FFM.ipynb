{
 "cells": [
  {
   "cell_type": "markdown",
   "id": "2cd73963",
   "metadata": {},
   "source": [
    "## FMM Recbole 구현"
   ]
  },
  {
   "cell_type": "markdown",
   "id": "61e884e8",
   "metadata": {},
   "source": [
    "### Recbole 라이브러리 로딩"
   ]
  },
  {
   "cell_type": "code",
   "execution_count": 1,
   "id": "656860e8",
   "metadata": {
    "ExecuteTime": {
     "end_time": "2022-12-25T05:52:43.078180Z",
     "start_time": "2022-12-25T05:52:40.567230Z"
    }
   },
   "outputs": [],
   "source": [
    "from IPython.core.interactiveshell import InteractiveShell\n",
    "InteractiveShell.ast_node_interactivity=\"all\"\n",
    "\n",
    "from logging import getLogger\n",
    "import os\n",
    "import json\n",
    "import numpy as np\n",
    "import pandas as pd\n",
    "import time, datetime\n",
    "from tqdm import tqdm\n",
    "\n",
    "from recbole.model.context_aware_recommender.ffm import FFM\n",
    "\n",
    "from recbole.config import Config\n",
    "from recbole.data import create_dataset, data_preparation\n",
    "from recbole.data.interaction import Interaction\n",
    "from recbole.utils import init_logger, get_trainer, init_seed, set_color, get_model\n",
    "from recbole.quick_start.quick_start import load_data_and_model\n",
    "\n",
    "from recbole.config import Config\n",
    "from recbole.data import create_dataset\n",
    "\n",
    "from sklearn.metrics import accuracy_score, roc_auc_score\n",
    "from sklearn.metrics import ndcg_score, recall_score\n",
    "\n",
    "import torch"
   ]
  },
  {
   "cell_type": "markdown",
   "id": "d043e6eb",
   "metadata": {},
   "source": [
    "### 데이터 파일 변환\n",
    "\n",
    "기존 데이터 파일을 Recbole 데이터 파일로 변환시키는 과정"
   ]
  },
  {
   "cell_type": "code",
   "execution_count": 4,
   "id": "dd4f31f8",
   "metadata": {
    "ExecuteTime": {
     "end_time": "2022-12-25T05:54:19.542057Z",
     "start_time": "2022-12-25T05:54:15.237120Z"
    }
   },
   "outputs": [],
   "source": [
    "train = pd.read_csv(\"/opt/ml/input/data/train/train_ratings.csv\")\n",
    "user2idx = {v:k for k,v in enumerate(sorted(set(train.user)))}\n",
    "item2idx = {v:k for k,v in enumerate(sorted(set(train.item)))}\n",
    "uidx2user = {k:v for k,v in enumerate(sorted(set(train.user)))}\n",
    "iidx2item = {k:v for k,v in enumerate(sorted(set(train.item)))}"
   ]
  },
  {
   "cell_type": "code",
   "execution_count": 5,
   "id": "921af69e",
   "metadata": {
    "ExecuteTime": {
     "end_time": "2022-12-25T05:55:45.561653Z",
     "start_time": "2022-12-25T05:55:45.558096Z"
    }
   },
   "outputs": [],
   "source": [
    "yamldata = \"\"\"\n",
    "field_separator: \"\\t\"\n",
    "USER_ID_FIELD: user_id\n",
    "ITEM_ID_FIELD: item_id\n",
    "TIME_FIELD: timestamp\n",
    "\n",
    "load_col:\n",
    "    inter: [user_id, item_id, timestamp]\n",
    "    user: [user_id]\n",
    "    item: [item_id, title, genre, year, writer, director]\n",
    "\n",
    "train_neg_sample_args:\n",
    "    uniform: 1\n",
    "    \n",
    "eval_args:\n",
    "    split: {'RS': [8, 1, 1]}\n",
    "    group_by: user\n",
    "    order: RO\n",
    "    mode: full\n",
    "metrics: ['Recall', 'MRR', 'NDCG', 'Hit', 'Precision', 'MAP']\n",
    "topk: 10\n",
    "valid_metric: Recall@10\n",
    "\"\"\""
   ]
  },
  {
   "cell_type": "code",
   "execution_count": 29,
   "id": "7dd6e5b1",
   "metadata": {
    "ExecuteTime": {
     "end_time": "2022-12-25T06:06:52.015102Z",
     "start_time": "2022-12-25T06:06:51.886055Z"
    }
   },
   "outputs": [],
   "source": [
    "!cp dataset/train_data.item dataset/ease_data20/ease_data20.item"
   ]
  },
  {
   "cell_type": "code",
   "execution_count": 30,
   "id": "08d7e66c",
   "metadata": {
    "ExecuteTime": {
     "end_time": "2022-12-25T06:06:52.767007Z",
     "start_time": "2022-12-25T06:06:52.637770Z"
    }
   },
   "outputs": [
    {
     "name": "stdout",
     "output_type": "stream",
     "text": [
      "dataset/ease_data20\n",
      "├── ease_data20.inter\n",
      "└── ease_data20.item\n",
      "\n",
      "0 directories, 2 files\n"
     ]
    }
   ],
   "source": [
    "!tree dataset/ease*"
   ]
  },
  {
   "cell_type": "code",
   "execution_count": 23,
   "id": "5f344922",
   "metadata": {
    "ExecuteTime": {
     "end_time": "2022-12-25T06:04:32.871269Z",
     "start_time": "2022-12-25T06:04:32.863997Z"
    }
   },
   "outputs": [
    {
     "name": "stdout",
     "output_type": "stream",
     "text": [
      "Dump Start\n"
     ]
    },
    {
     "data": {
      "text/plain": [
       "447"
      ]
     },
     "execution_count": 23,
     "metadata": {},
     "output_type": "execute_result"
    },
    {
     "name": "stdout",
     "output_type": "stream",
     "text": [
      "Dump Complete\n"
     ]
    }
   ],
   "source": [
    "outpath = f\"dataset/ease_data20\"\n",
    "yamlfile = f\"ease_data20.yaml\"\n",
    "os.makedirs(outpath, exist_ok=True)\n",
    "print(\"Dump Start\")\n",
    "# 데이터 설정 파일 저장\n",
    "with open(yamlfile, \"w\") as f:\n",
    "    f.write(yamldata) \n",
    "print(\"Dump Complete\")"
   ]
  },
  {
   "cell_type": "markdown",
   "id": "bf654e50",
   "metadata": {},
   "source": [
    "### 로거 생성"
   ]
  },
  {
   "cell_type": "code",
   "execution_count": 24,
   "id": "448113f1",
   "metadata": {
    "ExecuteTime": {
     "end_time": "2022-12-25T06:04:34.968160Z",
     "start_time": "2022-12-25T06:04:34.965809Z"
    }
   },
   "outputs": [],
   "source": [
    "logger = getLogger()"
   ]
  },
  {
   "cell_type": "markdown",
   "id": "ac5c55e3",
   "metadata": {},
   "source": [
    "### 설정 인스턴스 생성"
   ]
  },
  {
   "cell_type": "code",
   "execution_count": 27,
   "id": "c21f27c7",
   "metadata": {
    "ExecuteTime": {
     "end_time": "2022-12-25T06:05:36.271650Z",
     "start_time": "2022-12-25T06:05:35.995004Z"
    },
    "collapsed": true
   },
   "outputs": [
    {
     "name": "stderr",
     "output_type": "stream",
     "text": [
      "25 Dec 15:05    INFO  \n",
      "General Hyper Parameters:\n",
      "gpu_id = 0\n",
      "use_gpu = True\n",
      "seed = 2020\n",
      "state = INFO\n",
      "reproducibility = True\n",
      "data_path = dataset/ease_data20\n",
      "checkpoint_dir = saved\n",
      "show_progress = False\n",
      "save_dataset = False\n",
      "dataset_save_path = None\n",
      "save_dataloaders = False\n",
      "dataloaders_save_path = None\n",
      "log_wandb = False\n",
      "\n",
      "Training Hyper Parameters:\n",
      "epochs = 10\n",
      "train_batch_size = 2048\n",
      "learner = adam\n",
      "learning_rate = 0.001\n",
      "train_neg_sample_args = {'uniform': 1, 'distribution': 'uniform', 'sample_num': 1, 'alpha': 1.0, 'dynamic': False, 'candidate_num': 0}\n",
      "eval_step = 1\n",
      "stopping_step = 10\n",
      "clip_grad_norm = None\n",
      "weight_decay = 0.0\n",
      "loss_decimal_place = 4\n",
      "\n",
      "Evaluation Hyper Parameters:\n",
      "eval_args = {'split': {'RS': [8, 1, 1]}, 'group_by': 'user', 'order': 'RO', 'mode': 'full'}\n",
      "repeatable = False\n",
      "metrics = ['Recall', 'MRR', 'NDCG', 'Hit', 'Precision', 'MAP']\n",
      "topk = [10]\n",
      "valid_metric = Recall@10\n",
      "valid_metric_bigger = True\n",
      "eval_batch_size = 4096\n",
      "metric_decimal_place = 4\n",
      "\n",
      "Dataset Hyper Parameters:\n",
      "field_separator = \t\n",
      "seq_separator =  \n",
      "USER_ID_FIELD = user_id\n",
      "ITEM_ID_FIELD = item_id\n",
      "RATING_FIELD = rating\n",
      "TIME_FIELD = timestamp\n",
      "seq_len = None\n",
      "LABEL_FIELD = label\n",
      "threshold = None\n",
      "NEG_PREFIX = neg_\n",
      "load_col = {'inter': ['user_id', 'item_id', 'timestamp'], 'user': ['user_id'], 'item': ['item_id', 'title', 'genre', 'year', 'writer', 'director']}\n",
      "unload_col = None\n",
      "unused_col = None\n",
      "additional_feat_suffix = None\n",
      "rm_dup_inter = None\n",
      "val_interval = None\n",
      "filter_inter_by_user_or_item = True\n",
      "user_inter_num_interval = [0,inf)\n",
      "item_inter_num_interval = [0,inf)\n",
      "alias_of_user_id = None\n",
      "alias_of_item_id = None\n",
      "alias_of_entity_id = None\n",
      "alias_of_relation_id = None\n",
      "preload_weight = None\n",
      "normalize_field = None\n",
      "normalize_all = None\n",
      "ITEM_LIST_LENGTH_FIELD = item_length\n",
      "LIST_SUFFIX = _list\n",
      "MAX_ITEM_LIST_LENGTH = 50\n",
      "POSITION_FIELD = position_id\n",
      "HEAD_ENTITY_ID_FIELD = head_id\n",
      "TAIL_ENTITY_ID_FIELD = tail_id\n",
      "RELATION_ID_FIELD = relation_id\n",
      "ENTITY_ID_FIELD = entity_id\n",
      "benchmark_filename = None\n",
      "\n",
      "Other Hyper Parameters: \n",
      "worker = 0\n",
      "wandb_project = recbole\n",
      "shuffle = True\n",
      "require_pow = False\n",
      "enable_amp = False\n",
      "enable_scaler = False\n",
      "transform = None\n",
      "embedding_size = 10\n",
      "fields = None\n",
      "numerical_features = []\n",
      "discretization = None\n",
      "kg_reverse_r = False\n",
      "entity_kg_num_interval = [0,inf)\n",
      "relation_kg_num_interval = [0,inf)\n",
      "MODEL_TYPE = ModelType.CONTEXT\n",
      "MODEL_INPUT_TYPE = InputType.POINTWISE\n",
      "eval_type = EvaluatorType.RANKING\n",
      "single_spec = True\n",
      "local_rank = 0\n",
      "device = cuda\n",
      "eval_neg_sample_args = {'distribution': 'uniform', 'sample_num': 'none'}\n",
      "\n",
      "\n"
     ]
    }
   ],
   "source": [
    "# configurations initialization\n",
    "config = Config(model='FFM', dataset=\"ease_data20\", config_file_list=[f'ease_data20.yaml'])\n",
    "config['epochs'] = 10\n",
    "config['show_progress'] = False\n",
    "config['device'] = torch.device(\"cuda\" if torch.cuda.is_available() else \"cpu\")\n",
    "init_seed(config['seed'], config['reproducibility'])\n",
    "# logger initialization\n",
    "init_logger(config)\n",
    "logger.info(config)"
   ]
  },
  {
   "cell_type": "markdown",
   "id": "a62100b4",
   "metadata": {},
   "source": [
    "### 데이터 로드"
   ]
  },
  {
   "cell_type": "code",
   "execution_count": 31,
   "id": "bd284775",
   "metadata": {
    "ExecuteTime": {
     "end_time": "2022-12-25T06:07:02.983901Z",
     "start_time": "2022-12-25T06:06:55.992592Z"
    }
   },
   "outputs": [
    {
     "name": "stderr",
     "output_type": "stream",
     "text": [
      "25 Dec 15:06    INFO  ease_data20\n",
      "The number of users: 31361\n",
      "Average actions of users: 20.0\n",
      "The number of items: 6808\n",
      "Average actions of items: 230.84284136915716\n",
      "The number of inters: 627200\n",
      "The sparsity of the dataset: 99.70623733452946%\n",
      "Remain Fields: ['user_id', 'item_id', 'timestamp', 'title', 'genre', 'year', 'writer', 'director']\n",
      "25 Dec 15:07    INFO  [Training]: train_batch_size = [2048] train_neg_sample_args: [{'uniform': 1, 'distribution': 'uniform', 'sample_num': 1, 'alpha': 1.0, 'dynamic': False, 'candidate_num': 0}]\n",
      "25 Dec 15:07    INFO  [Evaluation]: eval_batch_size = [4096] eval_args: [{'split': {'RS': [8, 1, 1]}, 'group_by': 'user', 'order': 'RO', 'mode': 'full'}]\n"
     ]
    }
   ],
   "source": [
    "# dataset filtering\n",
    "dataset = create_dataset(config)\n",
    "logger.info(dataset)\n",
    "\n",
    "# dataset splitting\n",
    "train_data, valid_data, test_data = data_preparation(config, dataset)"
   ]
  },
  {
   "cell_type": "code",
   "execution_count": 32,
   "id": "aa7da7a0",
   "metadata": {
    "ExecuteTime": {
     "end_time": "2022-12-25T06:07:04.905975Z",
     "start_time": "2022-12-25T06:07:04.686013Z"
    }
   },
   "outputs": [
    {
     "data": {
      "text/plain": [
       "\u001b[1;35mease_data20\u001b[0m\n",
       "\u001b[1;34mThe number of users\u001b[0m: 31361\n",
       "\u001b[1;34mAverage actions of users\u001b[0m: 16.0\n",
       "\u001b[1;34mThe number of items\u001b[0m: 6808\n",
       "\u001b[1;34mAverage actions of items\u001b[0m: 191.95103289977047\n",
       "\u001b[1;34mThe number of inters\u001b[0m: 501760\n",
       "\u001b[1;34mThe sparsity of the dataset\u001b[0m: 99.76498986762358%\n",
       "\u001b[1;34mRemain Fields\u001b[0m: ['user_id', 'item_id', 'timestamp', 'title', 'genre', 'year', 'writer', 'director', 'label']"
      ]
     },
     "execution_count": 32,
     "metadata": {},
     "output_type": "execute_result"
    },
    {
     "data": {
      "text/plain": [
       "\u001b[1;35mease_data20\u001b[0m\n",
       "\u001b[1;34mThe number of users\u001b[0m: 31361\n",
       "\u001b[1;34mAverage actions of users\u001b[0m: 2.0\n",
       "\u001b[1;34mThe number of items\u001b[0m: 6808\n",
       "\u001b[1;34mAverage actions of items\u001b[0m: 35.295441755768145\n",
       "\u001b[1;34mThe number of inters\u001b[0m: 62720\n",
       "\u001b[1;34mThe sparsity of the dataset\u001b[0m: 99.97062373345294%\n",
       "\u001b[1;34mRemain Fields\u001b[0m: ['user_id', 'item_id', 'timestamp', 'title', 'genre', 'year', 'writer', 'director', 'label']"
      ]
     },
     "execution_count": 32,
     "metadata": {},
     "output_type": "execute_result"
    },
    {
     "data": {
      "text/plain": [
       "\u001b[1;35mease_data20\u001b[0m\n",
       "\u001b[1;34mThe number of users\u001b[0m: 31361\n",
       "\u001b[1;34mAverage actions of users\u001b[0m: 2.0\n",
       "\u001b[1;34mThe number of items\u001b[0m: 6808\n",
       "\u001b[1;34mAverage actions of items\u001b[0m: 35.216170690623244\n",
       "\u001b[1;34mThe number of inters\u001b[0m: 62720\n",
       "\u001b[1;34mThe sparsity of the dataset\u001b[0m: 99.97062373345294%\n",
       "\u001b[1;34mRemain Fields\u001b[0m: ['user_id', 'item_id', 'timestamp', 'title', 'genre', 'year', 'writer', 'director', 'label']"
      ]
     },
     "execution_count": 32,
     "metadata": {},
     "output_type": "execute_result"
    }
   ],
   "source": [
    "train_data.dataset\n",
    "valid_data.dataset\n",
    "test_data.dataset"
   ]
  },
  {
   "cell_type": "markdown",
   "id": "39da2a0e",
   "metadata": {},
   "source": [
    "### 모델 인스턴스 생성"
   ]
  },
  {
   "cell_type": "code",
   "execution_count": 33,
   "id": "419bdaa1",
   "metadata": {
    "ExecuteTime": {
     "end_time": "2022-12-25T06:07:20.910431Z",
     "start_time": "2022-12-25T06:07:16.026301Z"
    },
    "scrolled": true
   },
   "outputs": [
    {
     "name": "stderr",
     "output_type": "stream",
     "text": [
      "25 Dec 15:07    INFO  FFM(\n",
      "  (token_embedding_table): FMEmbedding(\n",
      "    (embedding): Embedding(38271, 10)\n",
      "  )\n",
      "  (token_seq_embedding_table): ModuleList(\n",
      "    (0): Embedding(9062, 10)\n",
      "    (1): Embedding(19, 10)\n",
      "    (2): Embedding(2990, 10)\n",
      "    (3): Embedding(1341, 10)\n",
      "  )\n",
      "  (first_order_linear): FMFirstOrderLinear(\n",
      "    (token_embedding_table): FMEmbedding(\n",
      "      (embedding): Embedding(38271, 1)\n",
      "    )\n",
      "    (token_seq_embedding_table): ModuleList(\n",
      "      (0): Embedding(9062, 1)\n",
      "      (1): Embedding(19, 1)\n",
      "      (2): Embedding(2990, 1)\n",
      "      (3): Embedding(1341, 1)\n",
      "    )\n",
      "  )\n",
      "  (sigmoid): Sigmoid()\n",
      "  (ffm): FieldAwareFactorizationMachine(\n",
      "    (token_embeddings): ModuleList(\n",
      "      (0): Embedding(38271, 10)\n",
      "      (1): Embedding(38271, 10)\n",
      "      (2): Embedding(38271, 10)\n",
      "      (3): Embedding(38271, 10)\n",
      "      (4): Embedding(38271, 10)\n",
      "      (5): Embedding(38271, 10)\n",
      "      (6): Embedding(38271, 10)\n",
      "    )\n",
      "    (token_seq_embeddings): ModuleList(\n",
      "      (0): ModuleList(\n",
      "        (0): Embedding(9062, 10)\n",
      "        (1): Embedding(19, 10)\n",
      "        (2): Embedding(2990, 10)\n",
      "        (3): Embedding(1341, 10)\n",
      "        (4): Embedding(9062, 10)\n",
      "        (5): Embedding(19, 10)\n",
      "        (6): Embedding(2990, 10)\n",
      "        (7): Embedding(1341, 10)\n",
      "        (8): Embedding(9062, 10)\n",
      "        (9): Embedding(19, 10)\n",
      "        (10): Embedding(2990, 10)\n",
      "        (11): Embedding(1341, 10)\n",
      "        (12): Embedding(9062, 10)\n",
      "        (13): Embedding(19, 10)\n",
      "        (14): Embedding(2990, 10)\n",
      "        (15): Embedding(1341, 10)\n",
      "        (16): Embedding(9062, 10)\n",
      "        (17): Embedding(19, 10)\n",
      "        (18): Embedding(2990, 10)\n",
      "        (19): Embedding(1341, 10)\n",
      "        (20): Embedding(9062, 10)\n",
      "        (21): Embedding(19, 10)\n",
      "        (22): Embedding(2990, 10)\n",
      "        (23): Embedding(1341, 10)\n",
      "        (24): Embedding(9062, 10)\n",
      "        (25): Embedding(19, 10)\n",
      "        (26): Embedding(2990, 10)\n",
      "        (27): Embedding(1341, 10)\n",
      "      )\n",
      "      (1): ModuleList(\n",
      "        (0): Embedding(9062, 10)\n",
      "        (1): Embedding(19, 10)\n",
      "        (2): Embedding(2990, 10)\n",
      "        (3): Embedding(1341, 10)\n",
      "        (4): Embedding(9062, 10)\n",
      "        (5): Embedding(19, 10)\n",
      "        (6): Embedding(2990, 10)\n",
      "        (7): Embedding(1341, 10)\n",
      "        (8): Embedding(9062, 10)\n",
      "        (9): Embedding(19, 10)\n",
      "        (10): Embedding(2990, 10)\n",
      "        (11): Embedding(1341, 10)\n",
      "        (12): Embedding(9062, 10)\n",
      "        (13): Embedding(19, 10)\n",
      "        (14): Embedding(2990, 10)\n",
      "        (15): Embedding(1341, 10)\n",
      "        (16): Embedding(9062, 10)\n",
      "        (17): Embedding(19, 10)\n",
      "        (18): Embedding(2990, 10)\n",
      "        (19): Embedding(1341, 10)\n",
      "        (20): Embedding(9062, 10)\n",
      "        (21): Embedding(19, 10)\n",
      "        (22): Embedding(2990, 10)\n",
      "        (23): Embedding(1341, 10)\n",
      "        (24): Embedding(9062, 10)\n",
      "        (25): Embedding(19, 10)\n",
      "        (26): Embedding(2990, 10)\n",
      "        (27): Embedding(1341, 10)\n",
      "      )\n",
      "      (2): ModuleList(\n",
      "        (0): Embedding(9062, 10)\n",
      "        (1): Embedding(19, 10)\n",
      "        (2): Embedding(2990, 10)\n",
      "        (3): Embedding(1341, 10)\n",
      "        (4): Embedding(9062, 10)\n",
      "        (5): Embedding(19, 10)\n",
      "        (6): Embedding(2990, 10)\n",
      "        (7): Embedding(1341, 10)\n",
      "        (8): Embedding(9062, 10)\n",
      "        (9): Embedding(19, 10)\n",
      "        (10): Embedding(2990, 10)\n",
      "        (11): Embedding(1341, 10)\n",
      "        (12): Embedding(9062, 10)\n",
      "        (13): Embedding(19, 10)\n",
      "        (14): Embedding(2990, 10)\n",
      "        (15): Embedding(1341, 10)\n",
      "        (16): Embedding(9062, 10)\n",
      "        (17): Embedding(19, 10)\n",
      "        (18): Embedding(2990, 10)\n",
      "        (19): Embedding(1341, 10)\n",
      "        (20): Embedding(9062, 10)\n",
      "        (21): Embedding(19, 10)\n",
      "        (22): Embedding(2990, 10)\n",
      "        (23): Embedding(1341, 10)\n",
      "        (24): Embedding(9062, 10)\n",
      "        (25): Embedding(19, 10)\n",
      "        (26): Embedding(2990, 10)\n",
      "        (27): Embedding(1341, 10)\n",
      "      )\n",
      "      (3): ModuleList(\n",
      "        (0): Embedding(9062, 10)\n",
      "        (1): Embedding(19, 10)\n",
      "        (2): Embedding(2990, 10)\n",
      "        (3): Embedding(1341, 10)\n",
      "        (4): Embedding(9062, 10)\n",
      "        (5): Embedding(19, 10)\n",
      "        (6): Embedding(2990, 10)\n",
      "        (7): Embedding(1341, 10)\n",
      "        (8): Embedding(9062, 10)\n",
      "        (9): Embedding(19, 10)\n",
      "        (10): Embedding(2990, 10)\n",
      "        (11): Embedding(1341, 10)\n",
      "        (12): Embedding(9062, 10)\n",
      "        (13): Embedding(19, 10)\n",
      "        (14): Embedding(2990, 10)\n",
      "        (15): Embedding(1341, 10)\n",
      "        (16): Embedding(9062, 10)\n",
      "        (17): Embedding(19, 10)\n",
      "        (18): Embedding(2990, 10)\n",
      "        (19): Embedding(1341, 10)\n",
      "        (20): Embedding(9062, 10)\n",
      "        (21): Embedding(19, 10)\n",
      "        (22): Embedding(2990, 10)\n",
      "        (23): Embedding(1341, 10)\n",
      "        (24): Embedding(9062, 10)\n",
      "        (25): Embedding(19, 10)\n",
      "        (26): Embedding(2990, 10)\n",
      "        (27): Embedding(1341, 10)\n",
      "      )\n",
      "      (4): ModuleList(\n",
      "        (0): Embedding(9062, 10)\n",
      "        (1): Embedding(19, 10)\n",
      "        (2): Embedding(2990, 10)\n",
      "        (3): Embedding(1341, 10)\n",
      "        (4): Embedding(9062, 10)\n",
      "        (5): Embedding(19, 10)\n",
      "        (6): Embedding(2990, 10)\n",
      "        (7): Embedding(1341, 10)\n",
      "        (8): Embedding(9062, 10)\n",
      "        (9): Embedding(19, 10)\n",
      "        (10): Embedding(2990, 10)\n",
      "        (11): Embedding(1341, 10)\n",
      "        (12): Embedding(9062, 10)\n",
      "        (13): Embedding(19, 10)\n",
      "        (14): Embedding(2990, 10)\n",
      "        (15): Embedding(1341, 10)\n",
      "        (16): Embedding(9062, 10)\n",
      "        (17): Embedding(19, 10)\n",
      "        (18): Embedding(2990, 10)\n",
      "        (19): Embedding(1341, 10)\n",
      "        (20): Embedding(9062, 10)\n",
      "        (21): Embedding(19, 10)\n",
      "        (22): Embedding(2990, 10)\n",
      "        (23): Embedding(1341, 10)\n",
      "        (24): Embedding(9062, 10)\n",
      "        (25): Embedding(19, 10)\n",
      "        (26): Embedding(2990, 10)\n",
      "        (27): Embedding(1341, 10)\n",
      "      )\n",
      "      (5): ModuleList(\n",
      "        (0): Embedding(9062, 10)\n",
      "        (1): Embedding(19, 10)\n",
      "        (2): Embedding(2990, 10)\n",
      "        (3): Embedding(1341, 10)\n",
      "        (4): Embedding(9062, 10)\n",
      "        (5): Embedding(19, 10)\n",
      "        (6): Embedding(2990, 10)\n",
      "        (7): Embedding(1341, 10)\n",
      "        (8): Embedding(9062, 10)\n",
      "        (9): Embedding(19, 10)\n",
      "        (10): Embedding(2990, 10)\n",
      "        (11): Embedding(1341, 10)\n",
      "        (12): Embedding(9062, 10)\n",
      "        (13): Embedding(19, 10)\n",
      "        (14): Embedding(2990, 10)\n",
      "        (15): Embedding(1341, 10)\n",
      "        (16): Embedding(9062, 10)\n",
      "        (17): Embedding(19, 10)\n",
      "        (18): Embedding(2990, 10)\n",
      "        (19): Embedding(1341, 10)\n",
      "        (20): Embedding(9062, 10)\n",
      "        (21): Embedding(19, 10)\n",
      "        (22): Embedding(2990, 10)\n",
      "        (23): Embedding(1341, 10)\n",
      "        (24): Embedding(9062, 10)\n",
      "        (25): Embedding(19, 10)\n",
      "        (26): Embedding(2990, 10)\n",
      "        (27): Embedding(1341, 10)\n",
      "      )\n",
      "      (6): ModuleList(\n",
      "        (0): Embedding(9062, 10)\n",
      "        (1): Embedding(19, 10)\n",
      "        (2): Embedding(2990, 10)\n",
      "        (3): Embedding(1341, 10)\n",
      "        (4): Embedding(9062, 10)\n",
      "        (5): Embedding(19, 10)\n",
      "        (6): Embedding(2990, 10)\n",
      "        (7): Embedding(1341, 10)\n",
      "        (8): Embedding(9062, 10)\n",
      "        (9): Embedding(19, 10)\n",
      "        (10): Embedding(2990, 10)\n",
      "        (11): Embedding(1341, 10)\n",
      "        (12): Embedding(9062, 10)\n",
      "        (13): Embedding(19, 10)\n",
      "        (14): Embedding(2990, 10)\n",
      "        (15): Embedding(1341, 10)\n",
      "        (16): Embedding(9062, 10)\n",
      "        (17): Embedding(19, 10)\n",
      "        (18): Embedding(2990, 10)\n",
      "        (19): Embedding(1341, 10)\n",
      "        (20): Embedding(9062, 10)\n",
      "        (21): Embedding(19, 10)\n",
      "        (22): Embedding(2990, 10)\n",
      "        (23): Embedding(1341, 10)\n",
      "        (24): Embedding(9062, 10)\n",
      "        (25): Embedding(19, 10)\n",
      "        (26): Embedding(2990, 10)\n",
      "        (27): Embedding(1341, 10)\n",
      "      )\n",
      "    )\n",
      "    (token_seq_embedding): ModuleList(\n",
      "      (0): Embedding(9062, 10)\n",
      "      (1): Embedding(19, 10)\n",
      "      (2): Embedding(2990, 10)\n",
      "      (3): Embedding(1341, 10)\n",
      "      (4): Embedding(9062, 10)\n",
      "      (5): Embedding(19, 10)\n",
      "      (6): Embedding(2990, 10)\n",
      "      (7): Embedding(1341, 10)\n",
      "      (8): Embedding(9062, 10)\n",
      "      (9): Embedding(19, 10)\n",
      "      (10): Embedding(2990, 10)\n",
      "      (11): Embedding(1341, 10)\n",
      "      (12): Embedding(9062, 10)\n",
      "      (13): Embedding(19, 10)\n",
      "      (14): Embedding(2990, 10)\n",
      "      (15): Embedding(1341, 10)\n",
      "      (16): Embedding(9062, 10)\n",
      "      (17): Embedding(19, 10)\n",
      "      (18): Embedding(2990, 10)\n",
      "      (19): Embedding(1341, 10)\n",
      "      (20): Embedding(9062, 10)\n",
      "      (21): Embedding(19, 10)\n",
      "      (22): Embedding(2990, 10)\n",
      "      (23): Embedding(1341, 10)\n",
      "      (24): Embedding(9062, 10)\n",
      "      (25): Embedding(19, 10)\n",
      "      (26): Embedding(2990, 10)\n",
      "      (27): Embedding(1341, 10)\n",
      "    )\n",
      "  )\n",
      "  (loss): BCEWithLogitsLoss()\n"
     ]
    },
    {
     "name": "stderr",
     "output_type": "stream",
     "text": [
      ")\n",
      "Trainable parameters: 4186324\n"
     ]
    }
   ],
   "source": [
    "# model loading and initialization\n",
    "init_seed(config['seed'], config['reproducibility'])\n",
    "model = FFM(config, train_data.dataset).to(config['device'])\n",
    "logger.info(model)"
   ]
  },
  {
   "cell_type": "markdown",
   "id": "c05bfd1e",
   "metadata": {},
   "source": [
    "### 모델 학습"
   ]
  },
  {
   "cell_type": "code",
   "execution_count": 34,
   "id": "7bb1b9e9",
   "metadata": {
    "ExecuteTime": {
     "end_time": "2022-12-25T07:43:44.943921Z",
     "start_time": "2022-12-25T06:07:28.725608Z"
    }
   },
   "outputs": [
    {
     "name": "stderr",
     "output_type": "stream",
     "text": [
      "25 Dec 15:07    INFO  epoch 0 training [time: 23.82s, train loss: 150.3774]\n",
      "25 Dec 15:17    INFO  epoch 0 evaluating [time: 557.60s, valid_score: 0.089200]\n",
      "25 Dec 15:17    INFO  valid result: \n",
      "recall@10 : 0.0892    mrr@10 : 0.0532    ndcg@10 : 0.0509    hit@10 : 0.1688    precision@10 : 0.0178    map@10 : 0.0282\n",
      "25 Dec 15:17    INFO  Saving current: saved/FFM-Dec-25-2022_15-07-28.pth\n",
      "25 Dec 15:17    INFO  epoch 1 training [time: 27.47s, train loss: 94.1129]\n",
      "25 Dec 15:26    INFO  epoch 1 evaluating [time: 558.32s, valid_score: 0.093700]\n",
      "25 Dec 15:26    INFO  valid result: \n",
      "recall@10 : 0.0937    mrr@10 : 0.0558    ndcg@10 : 0.0535    hit@10 : 0.1771    precision@10 : 0.0187    map@10 : 0.0296\n",
      "25 Dec 15:26    INFO  Saving current: saved/FFM-Dec-25-2022_15-07-28.pth\n",
      "25 Dec 15:27    INFO  epoch 2 training [time: 23.05s, train loss: 85.5196]\n",
      "25 Dec 15:36    INFO  epoch 2 evaluating [time: 550.52s, valid_score: 0.094100]\n",
      "25 Dec 15:36    INFO  valid result: \n",
      "recall@10 : 0.0941    mrr@10 : 0.0562    ndcg@10 : 0.0537    hit@10 : 0.1788    precision@10 : 0.0188    map@10 : 0.0296\n",
      "25 Dec 15:36    INFO  Saving current: saved/FFM-Dec-25-2022_15-07-28.pth\n",
      "25 Dec 15:36    INFO  epoch 3 training [time: 22.49s, train loss: 79.3486]\n",
      "25 Dec 15:46    INFO  epoch 3 evaluating [time: 548.05s, valid_score: 0.095600]\n",
      "25 Dec 15:46    INFO  valid result: \n",
      "recall@10 : 0.0956    mrr@10 : 0.0565    ndcg@10 : 0.0544    hit@10 : 0.1804    precision@10 : 0.0191    map@10 : 0.03\n",
      "25 Dec 15:46    INFO  Saving current: saved/FFM-Dec-25-2022_15-07-28.pth\n",
      "25 Dec 15:46    INFO  epoch 4 training [time: 28.94s, train loss: 74.2645]\n",
      "25 Dec 15:55    INFO  epoch 4 evaluating [time: 557.84s, valid_score: 0.096500]\n",
      "25 Dec 15:55    INFO  valid result: \n",
      "recall@10 : 0.0965    mrr@10 : 0.0561    ndcg@10 : 0.0544    hit@10 : 0.1828    precision@10 : 0.0193    map@10 : 0.0298\n",
      "25 Dec 15:55    INFO  Saving current: saved/FFM-Dec-25-2022_15-07-28.pth\n",
      "25 Dec 15:56    INFO  epoch 5 training [time: 24.15s, train loss: 69.9761]\n",
      "25 Dec 16:05    INFO  epoch 5 evaluating [time: 553.05s, valid_score: 0.093500]\n",
      "25 Dec 16:05    INFO  valid result: \n",
      "recall@10 : 0.0935    mrr@10 : 0.0552    ndcg@10 : 0.0531    hit@10 : 0.1779    precision@10 : 0.0187    map@10 : 0.0291\n",
      "25 Dec 16:05    INFO  epoch 6 training [time: 23.19s, train loss: 66.6280]\n",
      "25 Dec 16:15    INFO  epoch 7 training [time: 20.67s, train loss: 63.8660]\n",
      "25 Dec 16:24    INFO  epoch 7 evaluating [time: 558.19s, valid_score: 0.095800]\n",
      "25 Dec 16:24    INFO  valid result: \n",
      "recall@10 : 0.0958    mrr@10 : 0.0567    ndcg@10 : 0.0544    hit@10 : 0.1817    precision@10 : 0.0192    map@10 : 0.0299\n",
      "25 Dec 16:25    INFO  epoch 8 training [time: 23.25s, train loss: 60.5902]\n",
      "25 Dec 16:34    INFO  epoch 8 evaluating [time: 552.86s, valid_score: 0.097200]\n",
      "25 Dec 16:34    INFO  valid result: \n",
      "recall@10 : 0.0972    mrr@10 : 0.058    ndcg@10 : 0.0555    hit@10 : 0.1846    precision@10 : 0.0194    map@10 : 0.0307\n",
      "25 Dec 16:34    INFO  Saving current: saved/FFM-Dec-25-2022_15-07-28.pth\n",
      "25 Dec 16:34    INFO  epoch 9 training [time: 22.40s, train loss: 58.0557]\n",
      "25 Dec 16:43    INFO  epoch 9 evaluating [time: 545.88s, valid_score: 0.097500]\n",
      "25 Dec 16:43    INFO  valid result: \n",
      "recall@10 : 0.0975    mrr@10 : 0.0562    ndcg@10 : 0.0547    hit@10 : 0.1852    precision@10 : 0.0195    map@10 : 0.0297\n",
      "25 Dec 16:43    INFO  Saving current: saved/FFM-Dec-25-2022_15-07-28.pth\n"
     ]
    }
   ],
   "source": [
    "# trainer loading and initialization\n",
    "trainer = get_trainer(config['MODEL_TYPE'], config['model'])(config, model)\n",
    "\n",
    "# model training\n",
    "best_valid_score, best_valid_result = trainer.fit(\n",
    "    train_data, valid_data, saved=True, show_progress=config['show_progress']\n",
    ")"
   ]
  },
  {
   "cell_type": "markdown",
   "id": "baf0ea34",
   "metadata": {},
   "source": [
    "### 학습 결과 출력"
   ]
  },
  {
   "cell_type": "code",
   "execution_count": null,
   "id": "40d5e294",
   "metadata": {
    "ExecuteTime": {
     "start_time": "2022-12-25T09:25:20.090Z"
    }
   },
   "outputs": [],
   "source": [
    "# model evaluation\n",
    "test_result = trainer.evaluate(test_data, load_best_model=\"True\", show_progress=config['show_progress'])\n",
    "\n",
    "logger.info(set_color('best valid ', 'yellow') + f': {best_valid_result}')\n",
    "logger.info(set_color('test result', 'yellow') + f': {test_result}')\n",
    "\n",
    "result = {\n",
    "    'best_valid_score': best_valid_score,\n",
    "    'valid_score_bigger': config['valid_metric_bigger'],\n",
    "    'best_valid_result': best_valid_result,\n",
    "    'test_result': test_result\n",
    "}\n",
    "\n",
    "print(json.dumps(result, indent=4))"
   ]
  },
  {
   "cell_type": "code",
   "execution_count": 36,
   "id": "fefa4735",
   "metadata": {
    "ExecuteTime": {
     "end_time": "2022-12-25T09:25:34.043760Z",
     "start_time": "2022-12-25T09:25:26.651649Z"
    }
   },
   "outputs": [
    {
     "name": "stderr",
     "output_type": "stream",
     "text": [
      "25 Dec 18:25    INFO  \n",
      "General Hyper Parameters:\n",
      "gpu_id = 0\n",
      "use_gpu = True\n",
      "seed = 2020\n",
      "state = INFO\n",
      "reproducibility = True\n",
      "data_path = dataset/ease_data20\n",
      "checkpoint_dir = saved\n",
      "show_progress = False\n",
      "save_dataset = False\n",
      "dataset_save_path = None\n",
      "save_dataloaders = False\n",
      "dataloaders_save_path = None\n",
      "log_wandb = False\n",
      "\n",
      "Training Hyper Parameters:\n",
      "epochs = 10\n",
      "train_batch_size = 2048\n",
      "learner = adam\n",
      "learning_rate = 0.001\n",
      "train_neg_sample_args = {'uniform': 1, 'distribution': 'uniform', 'sample_num': 1, 'alpha': 1.0, 'dynamic': False, 'candidate_num': 0}\n",
      "eval_step = 1\n",
      "stopping_step = 10\n",
      "clip_grad_norm = None\n",
      "weight_decay = 0.0\n",
      "loss_decimal_place = 4\n",
      "\n",
      "Evaluation Hyper Parameters:\n",
      "eval_args = {'split': {'RS': [8, 1, 1]}, 'group_by': 'user', 'order': 'RO', 'mode': 'full'}\n",
      "repeatable = False\n",
      "metrics = ['Recall', 'MRR', 'NDCG', 'Hit', 'Precision', 'MAP']\n",
      "topk = [10]\n",
      "valid_metric = Recall@10\n",
      "valid_metric_bigger = True\n",
      "eval_batch_size = 4096\n",
      "metric_decimal_place = 4\n",
      "\n",
      "Dataset Hyper Parameters:\n",
      "field_separator = \t\n",
      "seq_separator =  \n",
      "USER_ID_FIELD = user_id\n",
      "ITEM_ID_FIELD = item_id\n",
      "RATING_FIELD = rating\n",
      "TIME_FIELD = timestamp\n",
      "seq_len = None\n",
      "LABEL_FIELD = label\n",
      "threshold = None\n",
      "NEG_PREFIX = neg_\n",
      "load_col = {'inter': ['user_id', 'item_id', 'timestamp'], 'user': ['user_id'], 'item': ['item_id', 'title', 'genre', 'year', 'writer', 'director']}\n",
      "unload_col = None\n",
      "unused_col = None\n",
      "additional_feat_suffix = None\n",
      "rm_dup_inter = None\n",
      "val_interval = None\n",
      "filter_inter_by_user_or_item = True\n",
      "user_inter_num_interval = [0,inf)\n",
      "item_inter_num_interval = [0,inf)\n",
      "alias_of_user_id = None\n",
      "alias_of_item_id = None\n",
      "alias_of_entity_id = None\n",
      "alias_of_relation_id = None\n",
      "preload_weight = None\n",
      "normalize_field = None\n",
      "normalize_all = None\n",
      "ITEM_LIST_LENGTH_FIELD = item_length\n",
      "LIST_SUFFIX = _list\n",
      "MAX_ITEM_LIST_LENGTH = 50\n",
      "POSITION_FIELD = position_id\n",
      "HEAD_ENTITY_ID_FIELD = head_id\n",
      "TAIL_ENTITY_ID_FIELD = tail_id\n",
      "RELATION_ID_FIELD = relation_id\n",
      "ENTITY_ID_FIELD = entity_id\n",
      "benchmark_filename = None\n",
      "\n",
      "Other Hyper Parameters: \n",
      "worker = 0\n",
      "wandb_project = recbole\n",
      "shuffle = True\n",
      "require_pow = False\n",
      "enable_amp = False\n",
      "enable_scaler = False\n",
      "transform = None\n",
      "embedding_size = 10\n",
      "fields = None\n",
      "numerical_features = []\n",
      "discretization = None\n",
      "kg_reverse_r = False\n",
      "entity_kg_num_interval = [0,inf)\n",
      "relation_kg_num_interval = [0,inf)\n",
      "MODEL_TYPE = ModelType.CONTEXT\n",
      "MODEL_INPUT_TYPE = InputType.POINTWISE\n",
      "eval_type = EvaluatorType.RANKING\n",
      "single_spec = True\n",
      "local_rank = 0\n",
      "device = cuda\n",
      "eval_neg_sample_args = {'distribution': 'uniform', 'sample_num': 'none'}\n",
      "\n",
      "\n",
      "25 Dec 18:25    INFO  ease_data20\n",
      "The number of users: 31361\n",
      "Average actions of users: 20.0\n",
      "The number of items: 6808\n",
      "Average actions of items: 230.84284136915716\n",
      "The number of inters: 627200\n",
      "The sparsity of the dataset: 99.70623733452946%\n",
      "Remain Fields: ['user_id', 'item_id', 'timestamp', 'title', 'genre', 'year', 'writer', 'director']\n",
      "25 Dec 18:25    INFO  [Training]: train_batch_size = [2048] train_neg_sample_args: [{'uniform': 1, 'distribution': 'uniform', 'sample_num': 1, 'alpha': 1.0, 'dynamic': False, 'candidate_num': 0}]\n",
      "25 Dec 18:25    INFO  [Evaluation]: eval_batch_size = [4096] eval_args: [{'split': {'RS': [8, 1, 1]}, 'group_by': 'user', 'order': 'RO', 'mode': 'full'}]\n"
     ]
    }
   ],
   "source": [
    "# 모델 불러오기\n",
    "model_path='saved/FFM-Dec-25-2022_15-07-28.pth'\n",
    "config, model, dataset, train_data, valid_data, test_data = load_data_and_model(model_path)"
   ]
  },
  {
   "cell_type": "markdown",
   "id": "5d96a06f",
   "metadata": {},
   "source": [
    "## Inference"
   ]
  },
  {
   "cell_type": "code",
   "execution_count": 75,
   "id": "48d02245",
   "metadata": {
    "ExecuteTime": {
     "end_time": "2022-12-25T10:59:07.030019Z",
     "start_time": "2022-12-25T10:59:07.026485Z"
    }
   },
   "outputs": [],
   "source": [
    "# user, item id -> token 변환 array\n",
    "user_id = config['USER_ID_FIELD']\n",
    "item_id = config['ITEM_ID_FIELD']\n",
    "user_id2token = dataset.field2id_token[user_id]\n",
    "item_id2token = dataset.field2id_token[item_id]"
   ]
  },
  {
   "cell_type": "code",
   "execution_count": null,
   "id": "c594376a",
   "metadata": {},
   "outputs": [],
   "source": [
    " 11(user_id) -> 0(token=idx) -> 1(dataset_id) -> 0(field2id_token) -> 11(idx2userid)"
   ]
  },
  {
   "cell_type": "code",
   "execution_count": 88,
   "id": "25930d84",
   "metadata": {
    "ExecuteTime": {
     "end_time": "2022-12-25T11:09:55.404505Z",
     "start_time": "2022-12-25T11:09:55.395102Z"
    }
   },
   "outputs": [
    {
     "data": {
      "text/html": [
       "<div>\n",
       "<style scoped>\n",
       "    .dataframe tbody tr th:only-of-type {\n",
       "        vertical-align: middle;\n",
       "    }\n",
       "\n",
       "    .dataframe tbody tr th {\n",
       "        vertical-align: top;\n",
       "    }\n",
       "\n",
       "    .dataframe thead th {\n",
       "        text-align: right;\n",
       "    }\n",
       "</style>\n",
       "<table border=\"1\" class=\"dataframe\">\n",
       "  <thead>\n",
       "    <tr style=\"text-align: right;\">\n",
       "      <th></th>\n",
       "      <th>user</th>\n",
       "      <th>item</th>\n",
       "      <th>time</th>\n",
       "    </tr>\n",
       "  </thead>\n",
       "  <tbody>\n",
       "    <tr>\n",
       "      <th>0</th>\n",
       "      <td>11</td>\n",
       "      <td>4643</td>\n",
       "      <td>1230782529</td>\n",
       "    </tr>\n",
       "    <tr>\n",
       "      <th>1</th>\n",
       "      <td>11</td>\n",
       "      <td>170</td>\n",
       "      <td>1230782534</td>\n",
       "    </tr>\n",
       "    <tr>\n",
       "      <th>2</th>\n",
       "      <td>11</td>\n",
       "      <td>531</td>\n",
       "      <td>1230782539</td>\n",
       "    </tr>\n",
       "    <tr>\n",
       "      <th>3</th>\n",
       "      <td>11</td>\n",
       "      <td>616</td>\n",
       "      <td>1230782542</td>\n",
       "    </tr>\n",
       "    <tr>\n",
       "      <th>4</th>\n",
       "      <td>11</td>\n",
       "      <td>2140</td>\n",
       "      <td>1230782563</td>\n",
       "    </tr>\n",
       "    <tr>\n",
       "      <th>...</th>\n",
       "      <td>...</td>\n",
       "      <td>...</td>\n",
       "      <td>...</td>\n",
       "    </tr>\n",
       "    <tr>\n",
       "      <th>5154466</th>\n",
       "      <td>138493</td>\n",
       "      <td>44022</td>\n",
       "      <td>1260209449</td>\n",
       "    </tr>\n",
       "    <tr>\n",
       "      <th>5154467</th>\n",
       "      <td>138493</td>\n",
       "      <td>4958</td>\n",
       "      <td>1260209482</td>\n",
       "    </tr>\n",
       "    <tr>\n",
       "      <th>5154468</th>\n",
       "      <td>138493</td>\n",
       "      <td>68319</td>\n",
       "      <td>1260209720</td>\n",
       "    </tr>\n",
       "    <tr>\n",
       "      <th>5154469</th>\n",
       "      <td>138493</td>\n",
       "      <td>40819</td>\n",
       "      <td>1260209726</td>\n",
       "    </tr>\n",
       "    <tr>\n",
       "      <th>5154470</th>\n",
       "      <td>138493</td>\n",
       "      <td>27311</td>\n",
       "      <td>1260209807</td>\n",
       "    </tr>\n",
       "  </tbody>\n",
       "</table>\n",
       "<p>5154471 rows × 3 columns</p>\n",
       "</div>"
      ],
      "text/plain": [
       "           user   item        time\n",
       "0            11   4643  1230782529\n",
       "1            11    170  1230782534\n",
       "2            11    531  1230782539\n",
       "3            11    616  1230782542\n",
       "4            11   2140  1230782563\n",
       "...         ...    ...         ...\n",
       "5154466  138493  44022  1260209449\n",
       "5154467  138493   4958  1260209482\n",
       "5154468  138493  68319  1260209720\n",
       "5154469  138493  40819  1260209726\n",
       "5154470  138493  27311  1260209807\n",
       "\n",
       "[5154471 rows x 3 columns]"
      ]
     },
     "execution_count": 88,
     "metadata": {},
     "output_type": "execute_result"
    }
   ],
   "source": [
    "train"
   ]
  },
  {
   "cell_type": "code",
   "execution_count": 97,
   "id": "2b14f11e",
   "metadata": {
    "ExecuteTime": {
     "end_time": "2022-12-26T14:36:01.260353Z",
     "start_time": "2022-12-26T14:36:01.256117Z"
    }
   },
   "outputs": [
    {
     "data": {
      "text/plain": [
       "6808"
      ]
     },
     "execution_count": 97,
     "metadata": {},
     "output_type": "execute_result"
    }
   ],
   "source": [
    "test_data.dataset.item_num"
   ]
  },
  {
   "cell_type": "code",
   "execution_count": 96,
   "id": "e7503ba2",
   "metadata": {
    "ExecuteTime": {
     "end_time": "2022-12-26T14:35:41.106958Z",
     "start_time": "2022-12-26T14:35:40.908906Z"
    }
   },
   "outputs": [
    {
     "name": "stderr",
     "output_type": "stream",
     "text": [
      "/opt/conda/lib/python3.8/site-packages/recbole/utils/case_study.py:39: UserWarning: To copy construct from a tensor, it is recommended to use sourceTensor.clone().detach() or sourceTensor.clone().detach().requires_grad_(True), rather than torch.tensor(sourceTensor).\n",
      "  uid_series = torch.tensor(uid_series)\n"
     ]
    },
    {
     "data": {
      "text/plain": [
       "tensor([[184, 120,  76,  ..., 168,  89,  98],\n",
       "        [567, 977,  27,  ..., 805, 161, 452],\n",
       "        [184,  99,   4,  ..., 110, 154, 319],\n",
       "        ...,\n",
       "        [ 42,   9, 123,  ..., 243, 103,  96],\n",
       "        [120,  80,  83,  ..., 247, 233, 101],\n",
       "        [184,  99,   8,  ...,  74, 105, 119]], device='cuda:0')"
      ]
     },
     "execution_count": 96,
     "metadata": {},
     "output_type": "execute_result"
    }
   ],
   "source": [
    "full_sort_topk(data, model, test_data, 10, device=device)[1]"
   ]
  },
  {
   "cell_type": "code",
   "execution_count": 81,
   "id": "7c01e26f",
   "metadata": {
    "ExecuteTime": {
     "end_time": "2022-12-25T11:00:35.866430Z",
     "start_time": "2022-12-25T10:59:50.675279Z"
    }
   },
   "outputs": [
    {
     "name": "stderr",
     "output_type": "stream",
     "text": [
      "Inference:   0%|                                                           | 0/245 [00:00<?, ?it/s]/opt/conda/lib/python3.8/site-packages/recbole/utils/case_study.py:39: UserWarning: To copy construct from a tensor, it is recommended to use sourceTensor.clone().detach() or sourceTensor.clone().detach().requires_grad_(True), rather than torch.tensor(sourceTensor).\n",
      "  uid_series = torch.tensor(uid_series)\n",
      "Inference:   2%|█▏                                                 | 6/245 [00:01<00:44,  5.40it/s]:   5%|██▍                                               | 12/245 [00:02<00:42,  5.42it/s]:   7%|███▋                                              | 18/245 [00:03<00:41,  5.43it/s]:  10%|████▉                                             | 24/245 [00:04<00:40,  5.43it/s]:  12%|██████                                            | 30/245 [00:05<00:39,  5.43it/s]:  15%|███████▎                                          | 36/245 [00:06<00:38,  5.43it/s]:  17%|████████▌                                         | 42/245 [00:07<00:37,  5.43it/s]:  20%|█████████▊                                        | 48/245 [00:08<00:36,  5.43it/s]:  22%|███████████                                       | 54/245 [00:09<00:35,  5.43it/s]:  24%|████████████▏                                     | 60/245 [00:11<00:34,  5.43it/s]:  27%|█████████████▍                                    | 66/245 [00:12<00:32,  5.43it/s]:  29%|██████████████▋                                   | 72/245 [00:13<00:31,  5.43it/s]:  32%|███████████████▉                                  | 78/245 [00:14<00:30,  5.43it/s]:  34%|█████████████████▏                                | 84/245 [00:15<00:29,  5.43it/s]:  37%|██████████████████▎                               | 90/245 [00:16<00:28,  5.43it/s]:  39%|███████████████████▌                              | 96/245 [00:17<00:27,  5.43it/s]:  42%|████████████████████▍                            | 102/245 [00:18<00:26,  5.43it/s]:  44%|█████████████████████▌                           | 108/245 [00:19<00:25,  5.43it/s]:  47%|██████████████████████▊                          | 114/245 [00:21<00:24,  5.43it/s]:  49%|████████████████████████                         | 120/245 [00:22<00:23,  5.42it/s]:  51%|█████████████████████████▏                       | 126/245 [00:23<00:21,  5.43it/s]:  54%|██████████████████████████▍                      | 132/245 [00:24<00:20,  5.42it/s]:  56%|███████████████████████████▌                     | 138/245 [00:25<00:19,  5.42it/s]:  59%|████████████████████████████▊                    | 144/245 [00:26<00:18,  5.42it/s]:  61%|██████████████████████████████                   | 150/245 [00:27<00:17,  5.42it/s]:  64%|███████████████████████████████▏                 | 156/245 [00:28<00:16,  5.42it/s]:  66%|████████████████████████████████▍                | 162/245 [00:29<00:15,  5.42it/s]:  69%|█████████████████████████████████▌               | 168/245 [00:30<00:14,  5.42it/s]:  71%|██████████████████████████████████▊              | 174/245 [00:32<00:13,  5.42it/s]:  73%|████████████████████████████████████             | 180/245 [00:33<00:11,  5.42it/s]:  76%|█████████████████████████████████████▏           | 186/245 [00:34<00:10,  5.42it/s]:  78%|██████████████████████████████████████▍          | 192/245 [00:35<00:09,  5.42it/s]:  81%|███████████████████████████████████████▌         | 198/245 [00:36<00:08,  5.42it/s]:  83%|████████████████████████████████████████▊        | 204/245 [00:37<00:07,  5.42it/s]:  86%|██████████████████████████████████████████       | 210/245 [00:38<00:06,  5.42it/s]:  88%|███████████████████████████████████████████▏     | 216/245 [00:39<00:05,  5.42it/s]:  91%|████████████████████████████████████████████▍    | 222/245 [00:40<00:04,  5.42it/s]:  93%|█████████████████████████████████████████████▌   | 228/245 [00:42<00:03,  5.42it/s]:  96%|██████████████████████████████████████████████▊  | 234/245 [00:43<00:02,  5.42it/s]:  98%|████████████████████████████████████████████████ | 240/245 [00:44<00:00,  5.42it/s]: 100%|█████████████████████████████████████████████████| 245/245 [00:45<00:00,  5.42it/s]\n"
     ]
    }
   ],
   "source": [
    "from recbole.utils.case_study import full_sort_topk\n",
    "\n",
    "user_id = config['USER_ID_FIELD']\n",
    "user_id2token = dataset.field2id_token[user_id]\n",
    "all_user_list = torch.arange(1, len(user_id2token)).view(-1,128)\n",
    "\n",
    "device = config.final_config_dict['device']\n",
    "\n",
    "tbar = tqdm(all_user_list, desc=set_color(f\"Inference\", 'pink'), leave=True, mininterval=1)\n",
    "\n",
    "pred_list = None\n",
    "user_list = []\n",
    "for data in tbar:\n",
    "    batch_pred_list = full_sort_topk(data, model, test_data, 10, device=device)[1]\n",
    "    batch_pred_list = batch_pred_list.clone().detach().cpu().numpy()\n",
    "    if pred_list is None:\n",
    "        pred_list = batch_pred_list\n",
    "        user_list = data.numpy()\n",
    "    else:\n",
    "        pred_list = np.append(pred_list, batch_pred_list, axis=0)\n",
    "        user_list = np.append(\n",
    "            user_list, data.numpy(), axis=0\n",
    "        )\n",
    "tbar.close()\n"
   ]
  },
  {
   "cell_type": "code",
   "execution_count": 82,
   "id": "d8283509",
   "metadata": {
    "ExecuteTime": {
     "end_time": "2022-12-25T11:00:43.181430Z",
     "start_time": "2022-12-25T11:00:42.509164Z"
    }
   },
   "outputs": [],
   "source": [
    "# user별 item 추천 결과 하나로 합쳐주기\n",
    "result = []\n",
    "for user, pred in zip(user_list, pred_list):\n",
    "    for item in pred:\n",
    "        result.append((user_id2token[user],item_id2token[item]))"
   ]
  },
  {
   "cell_type": "code",
   "execution_count": 83,
   "id": "7e602473",
   "metadata": {
    "ExecuteTime": {
     "end_time": "2022-12-25T11:00:43.244825Z",
     "start_time": "2022-12-25T11:00:43.183540Z"
    }
   },
   "outputs": [],
   "source": [
    "# submission file 제작하기\n",
    "sub = pd.DataFrame(result, columns=[\"user\", \"item\"])"
   ]
  },
  {
   "cell_type": "code",
   "execution_count": 89,
   "id": "38798f47",
   "metadata": {
    "ExecuteTime": {
     "end_time": "2022-12-26T14:06:45.651075Z",
     "start_time": "2022-12-26T14:06:45.641499Z"
    }
   },
   "outputs": [
    {
     "data": {
      "text/html": [
       "<div>\n",
       "<style scoped>\n",
       "    .dataframe tbody tr th:only-of-type {\n",
       "        vertical-align: middle;\n",
       "    }\n",
       "\n",
       "    .dataframe tbody tr th {\n",
       "        vertical-align: top;\n",
       "    }\n",
       "\n",
       "    .dataframe thead th {\n",
       "        text-align: right;\n",
       "    }\n",
       "</style>\n",
       "<table border=\"1\" class=\"dataframe\">\n",
       "  <thead>\n",
       "    <tr style=\"text-align: right;\">\n",
       "      <th></th>\n",
       "      <th>user</th>\n",
       "      <th>item</th>\n",
       "    </tr>\n",
       "  </thead>\n",
       "  <tbody>\n",
       "    <tr>\n",
       "      <th>0</th>\n",
       "      <td>0</td>\n",
       "      <td>3654</td>\n",
       "    </tr>\n",
       "    <tr>\n",
       "      <th>1</th>\n",
       "      <td>0</td>\n",
       "      <td>5461</td>\n",
       "    </tr>\n",
       "    <tr>\n",
       "      <th>2</th>\n",
       "      <td>0</td>\n",
       "      <td>3200</td>\n",
       "    </tr>\n",
       "    <tr>\n",
       "      <th>3</th>\n",
       "      <td>0</td>\n",
       "      <td>2659</td>\n",
       "    </tr>\n",
       "    <tr>\n",
       "      <th>4</th>\n",
       "      <td>0</td>\n",
       "      <td>4646</td>\n",
       "    </tr>\n",
       "    <tr>\n",
       "      <th>...</th>\n",
       "      <td>...</td>\n",
       "      <td>...</td>\n",
       "    </tr>\n",
       "    <tr>\n",
       "      <th>313595</th>\n",
       "      <td>31359</td>\n",
       "      <td>2659</td>\n",
       "    </tr>\n",
       "    <tr>\n",
       "      <th>313596</th>\n",
       "      <td>31359</td>\n",
       "      <td>179</td>\n",
       "    </tr>\n",
       "    <tr>\n",
       "      <th>313597</th>\n",
       "      <td>31359</td>\n",
       "      <td>2304</td>\n",
       "    </tr>\n",
       "    <tr>\n",
       "      <th>313598</th>\n",
       "      <td>31359</td>\n",
       "      <td>931</td>\n",
       "    </tr>\n",
       "    <tr>\n",
       "      <th>313599</th>\n",
       "      <td>31359</td>\n",
       "      <td>2923</td>\n",
       "    </tr>\n",
       "  </tbody>\n",
       "</table>\n",
       "<p>313600 rows × 2 columns</p>\n",
       "</div>"
      ],
      "text/plain": [
       "         user  item\n",
       "0           0  3654\n",
       "1           0  5461\n",
       "2           0  3200\n",
       "3           0  2659\n",
       "4           0  4646\n",
       "...       ...   ...\n",
       "313595  31359  2659\n",
       "313596  31359   179\n",
       "313597  31359  2304\n",
       "313598  31359   931\n",
       "313599  31359  2923\n",
       "\n",
       "[313600 rows x 2 columns]"
      ]
     },
     "execution_count": 89,
     "metadata": {},
     "output_type": "execute_result"
    }
   ],
   "source": [
    "sub"
   ]
  },
  {
   "cell_type": "code",
   "execution_count": 91,
   "id": "18dd9544",
   "metadata": {
    "ExecuteTime": {
     "end_time": "2022-12-26T14:06:56.000055Z",
     "start_time": "2022-12-26T14:06:55.956252Z"
    }
   },
   "outputs": [
    {
     "data": {
      "text/html": [
       "<div>\n",
       "<style scoped>\n",
       "    .dataframe tbody tr th:only-of-type {\n",
       "        vertical-align: middle;\n",
       "    }\n",
       "\n",
       "    .dataframe tbody tr th {\n",
       "        vertical-align: top;\n",
       "    }\n",
       "\n",
       "    .dataframe thead th {\n",
       "        text-align: right;\n",
       "    }\n",
       "</style>\n",
       "<table border=\"1\" class=\"dataframe\">\n",
       "  <thead>\n",
       "    <tr style=\"text-align: right;\">\n",
       "      <th></th>\n",
       "      <th>user</th>\n",
       "      <th>item</th>\n",
       "    </tr>\n",
       "  </thead>\n",
       "  <tbody>\n",
       "    <tr>\n",
       "      <th>0</th>\n",
       "      <td>0</td>\n",
       "      <td>3654</td>\n",
       "    </tr>\n",
       "    <tr>\n",
       "      <th>1</th>\n",
       "      <td>0</td>\n",
       "      <td>5461</td>\n",
       "    </tr>\n",
       "    <tr>\n",
       "      <th>2</th>\n",
       "      <td>0</td>\n",
       "      <td>3200</td>\n",
       "    </tr>\n",
       "    <tr>\n",
       "      <th>3</th>\n",
       "      <td>0</td>\n",
       "      <td>2659</td>\n",
       "    </tr>\n",
       "    <tr>\n",
       "      <th>4</th>\n",
       "      <td>0</td>\n",
       "      <td>4646</td>\n",
       "    </tr>\n",
       "    <tr>\n",
       "      <th>5</th>\n",
       "      <td>0</td>\n",
       "      <td>3909</td>\n",
       "    </tr>\n",
       "    <tr>\n",
       "      <th>6</th>\n",
       "      <td>0</td>\n",
       "      <td>3255</td>\n",
       "    </tr>\n",
       "    <tr>\n",
       "      <th>7</th>\n",
       "      <td>0</td>\n",
       "      <td>3989</td>\n",
       "    </tr>\n",
       "    <tr>\n",
       "      <th>8</th>\n",
       "      <td>0</td>\n",
       "      <td>3994</td>\n",
       "    </tr>\n",
       "    <tr>\n",
       "      <th>9</th>\n",
       "      <td>0</td>\n",
       "      <td>4886</td>\n",
       "    </tr>\n",
       "  </tbody>\n",
       "</table>\n",
       "</div>"
      ],
      "text/plain": [
       "  user  item\n",
       "0    0  3654\n",
       "1    0  5461\n",
       "2    0  3200\n",
       "3    0  2659\n",
       "4    0  4646\n",
       "5    0  3909\n",
       "6    0  3255\n",
       "7    0  3989\n",
       "8    0  3994\n",
       "9    0  4886"
      ]
     },
     "execution_count": 91,
     "metadata": {},
     "output_type": "execute_result"
    }
   ],
   "source": [
    "sub[sub.user=='0']"
   ]
  },
  {
   "cell_type": "code",
   "execution_count": 85,
   "id": "54b1545d",
   "metadata": {
    "ExecuteTime": {
     "end_time": "2022-12-25T11:01:03.945846Z",
     "start_time": "2022-12-25T11:01:03.837602Z"
    }
   },
   "outputs": [],
   "source": [
    "df = pd.read_csv('dataset/ease_data20/ease_data20.inter',sep='\\t')"
   ]
  },
  {
   "cell_type": "code",
   "execution_count": 92,
   "id": "e1e01dd1",
   "metadata": {
    "ExecuteTime": {
     "end_time": "2022-12-26T14:07:18.945389Z",
     "start_time": "2022-12-26T14:07:18.933838Z"
    }
   },
   "outputs": [
    {
     "data": {
      "text/html": [
       "<div>\n",
       "<style scoped>\n",
       "    .dataframe tbody tr th:only-of-type {\n",
       "        vertical-align: middle;\n",
       "    }\n",
       "\n",
       "    .dataframe tbody tr th {\n",
       "        vertical-align: top;\n",
       "    }\n",
       "\n",
       "    .dataframe thead th {\n",
       "        text-align: right;\n",
       "    }\n",
       "</style>\n",
       "<table border=\"1\" class=\"dataframe\">\n",
       "  <thead>\n",
       "    <tr style=\"text-align: right;\">\n",
       "      <th></th>\n",
       "      <th>user_id:token</th>\n",
       "      <th>item_id:token</th>\n",
       "      <th>timestamp:float</th>\n",
       "    </tr>\n",
       "  </thead>\n",
       "  <tbody>\n",
       "    <tr>\n",
       "      <th>0</th>\n",
       "      <td>0</td>\n",
       "      <td>2381</td>\n",
       "      <td>NaN</td>\n",
       "    </tr>\n",
       "    <tr>\n",
       "      <th>1</th>\n",
       "      <td>0</td>\n",
       "      <td>2619</td>\n",
       "      <td>NaN</td>\n",
       "    </tr>\n",
       "    <tr>\n",
       "      <th>2</th>\n",
       "      <td>0</td>\n",
       "      <td>41</td>\n",
       "      <td>NaN</td>\n",
       "    </tr>\n",
       "    <tr>\n",
       "      <th>3</th>\n",
       "      <td>0</td>\n",
       "      <td>4581</td>\n",
       "      <td>NaN</td>\n",
       "    </tr>\n",
       "    <tr>\n",
       "      <th>4</th>\n",
       "      <td>0</td>\n",
       "      <td>4790</td>\n",
       "      <td>NaN</td>\n",
       "    </tr>\n",
       "    <tr>\n",
       "      <th>5</th>\n",
       "      <td>0</td>\n",
       "      <td>3663</td>\n",
       "      <td>NaN</td>\n",
       "    </tr>\n",
       "    <tr>\n",
       "      <th>6</th>\n",
       "      <td>0</td>\n",
       "      <td>4597</td>\n",
       "      <td>NaN</td>\n",
       "    </tr>\n",
       "    <tr>\n",
       "      <th>7</th>\n",
       "      <td>0</td>\n",
       "      <td>3679</td>\n",
       "      <td>NaN</td>\n",
       "    </tr>\n",
       "    <tr>\n",
       "      <th>8</th>\n",
       "      <td>0</td>\n",
       "      <td>4101</td>\n",
       "      <td>NaN</td>\n",
       "    </tr>\n",
       "    <tr>\n",
       "      <th>9</th>\n",
       "      <td>0</td>\n",
       "      <td>1284</td>\n",
       "      <td>NaN</td>\n",
       "    </tr>\n",
       "    <tr>\n",
       "      <th>10</th>\n",
       "      <td>0</td>\n",
       "      <td>1</td>\n",
       "      <td>NaN</td>\n",
       "    </tr>\n",
       "    <tr>\n",
       "      <th>11</th>\n",
       "      <td>0</td>\n",
       "      <td>4717</td>\n",
       "      <td>NaN</td>\n",
       "    </tr>\n",
       "    <tr>\n",
       "      <th>12</th>\n",
       "      <td>0</td>\n",
       "      <td>1658</td>\n",
       "      <td>NaN</td>\n",
       "    </tr>\n",
       "    <tr>\n",
       "      <th>13</th>\n",
       "      <td>0</td>\n",
       "      <td>2036</td>\n",
       "      <td>NaN</td>\n",
       "    </tr>\n",
       "    <tr>\n",
       "      <th>14</th>\n",
       "      <td>0</td>\n",
       "      <td>2187</td>\n",
       "      <td>NaN</td>\n",
       "    </tr>\n",
       "    <tr>\n",
       "      <th>15</th>\n",
       "      <td>0</td>\n",
       "      <td>2366</td>\n",
       "      <td>NaN</td>\n",
       "    </tr>\n",
       "    <tr>\n",
       "      <th>16</th>\n",
       "      <td>0</td>\n",
       "      <td>1206</td>\n",
       "      <td>NaN</td>\n",
       "    </tr>\n",
       "    <tr>\n",
       "      <th>17</th>\n",
       "      <td>0</td>\n",
       "      <td>177</td>\n",
       "      <td>NaN</td>\n",
       "    </tr>\n",
       "    <tr>\n",
       "      <th>18</th>\n",
       "      <td>0</td>\n",
       "      <td>2614</td>\n",
       "      <td>NaN</td>\n",
       "    </tr>\n",
       "    <tr>\n",
       "      <th>19</th>\n",
       "      <td>0</td>\n",
       "      <td>5432</td>\n",
       "      <td>NaN</td>\n",
       "    </tr>\n",
       "  </tbody>\n",
       "</table>\n",
       "</div>"
      ],
      "text/plain": [
       "    user_id:token  item_id:token  timestamp:float\n",
       "0               0           2381              NaN\n",
       "1               0           2619              NaN\n",
       "2               0             41              NaN\n",
       "3               0           4581              NaN\n",
       "4               0           4790              NaN\n",
       "5               0           3663              NaN\n",
       "6               0           4597              NaN\n",
       "7               0           3679              NaN\n",
       "8               0           4101              NaN\n",
       "9               0           1284              NaN\n",
       "10              0              1              NaN\n",
       "11              0           4717              NaN\n",
       "12              0           1658              NaN\n",
       "13              0           2036              NaN\n",
       "14              0           2187              NaN\n",
       "15              0           2366              NaN\n",
       "16              0           1206              NaN\n",
       "17              0            177              NaN\n",
       "18              0           2614              NaN\n",
       "19              0           5432              NaN"
      ]
     },
     "execution_count": 92,
     "metadata": {},
     "output_type": "execute_result"
    }
   ],
   "source": [
    "df[df['user_id:token']==0]"
   ]
  },
  {
   "cell_type": "code",
   "execution_count": 58,
   "id": "3c49a3e5",
   "metadata": {
    "ExecuteTime": {
     "end_time": "2022-12-25T09:33:05.149698Z",
     "start_time": "2022-12-25T09:33:05.141361Z"
    }
   },
   "outputs": [
    {
     "data": {
      "text/html": [
       "<div>\n",
       "<style scoped>\n",
       "    .dataframe tbody tr th:only-of-type {\n",
       "        vertical-align: middle;\n",
       "    }\n",
       "\n",
       "    .dataframe tbody tr th {\n",
       "        vertical-align: top;\n",
       "    }\n",
       "\n",
       "    .dataframe thead th {\n",
       "        text-align: right;\n",
       "    }\n",
       "</style>\n",
       "<table border=\"1\" class=\"dataframe\">\n",
       "  <thead>\n",
       "    <tr style=\"text-align: right;\">\n",
       "      <th></th>\n",
       "      <th>user</th>\n",
       "      <th>item</th>\n",
       "    </tr>\n",
       "  </thead>\n",
       "  <tbody>\n",
       "    <tr>\n",
       "      <th>0</th>\n",
       "      <td>11</td>\n",
       "      <td>303</td>\n",
       "    </tr>\n",
       "    <tr>\n",
       "      <th>1</th>\n",
       "      <td>11</td>\n",
       "      <td>186</td>\n",
       "    </tr>\n",
       "    <tr>\n",
       "      <th>2</th>\n",
       "      <td>11</td>\n",
       "      <td>107</td>\n",
       "    </tr>\n",
       "    <tr>\n",
       "      <th>3</th>\n",
       "      <td>11</td>\n",
       "      <td>170</td>\n",
       "    </tr>\n",
       "    <tr>\n",
       "      <th>4</th>\n",
       "      <td>11</td>\n",
       "      <td>158</td>\n",
       "    </tr>\n",
       "    <tr>\n",
       "      <th>5</th>\n",
       "      <td>11</td>\n",
       "      <td>111</td>\n",
       "    </tr>\n",
       "    <tr>\n",
       "      <th>6</th>\n",
       "      <td>11</td>\n",
       "      <td>43</td>\n",
       "    </tr>\n",
       "    <tr>\n",
       "      <th>7</th>\n",
       "      <td>11</td>\n",
       "      <td>272</td>\n",
       "    </tr>\n",
       "    <tr>\n",
       "      <th>8</th>\n",
       "      <td>11</td>\n",
       "      <td>144</td>\n",
       "    </tr>\n",
       "    <tr>\n",
       "      <th>9</th>\n",
       "      <td>11</td>\n",
       "      <td>157</td>\n",
       "    </tr>\n",
       "  </tbody>\n",
       "</table>\n",
       "</div>"
      ],
      "text/plain": [
       "   user  item\n",
       "0    11   303\n",
       "1    11   186\n",
       "2    11   107\n",
       "3    11   170\n",
       "4    11   158\n",
       "5    11   111\n",
       "6    11    43\n",
       "7    11   272\n",
       "8    11   144\n",
       "9    11   157"
      ]
     },
     "execution_count": 58,
     "metadata": {},
     "output_type": "execute_result"
    }
   ],
   "source": [
    "sub[sub.user==11]"
   ]
  },
  {
   "cell_type": "code",
   "execution_count": null,
   "id": "90fd850b",
   "metadata": {},
   "outputs": [],
   "source": []
  },
  {
   "cell_type": "code",
   "execution_count": 97,
   "id": "7bed700d",
   "metadata": {},
   "outputs": [
    {
     "name": "stdout",
     "output_type": "stream",
     "text": [
      "inference done!\n"
     ]
    }
   ],
   "source": [
    "sub.to_csv(\n",
    "    \"submission_ffm.csv\", index=False\n",
    ")\n",
    "print('inference done!')"
   ]
  }
 ],
 "metadata": {
  "kernelspec": {
   "display_name": "Python 3 (ipykernel)",
   "language": "python",
   "name": "python3"
  },
  "language_info": {
   "codemirror_mode": {
    "name": "ipython",
    "version": 3
   },
   "file_extension": ".py",
   "mimetype": "text/x-python",
   "name": "python",
   "nbconvert_exporter": "python",
   "pygments_lexer": "ipython3",
   "version": "3.8.5"
  },
  "toc": {
   "base_numbering": 1,
   "nav_menu": {},
   "number_sections": true,
   "sideBar": true,
   "skip_h1_title": false,
   "title_cell": "Table of Contents",
   "title_sidebar": "Contents",
   "toc_cell": false,
   "toc_position": {
    "height": "calc(100% - 180px)",
    "left": "10px",
    "top": "150px",
    "width": "384px"
   },
   "toc_section_display": true,
   "toc_window_display": true
  },
  "vscode": {
   "interpreter": {
    "hash": "3d4ebc8f5be3b9760b7b8c89820e25f6cc4c8c3873d1ecd46134e38c918e05a9"
   }
  }
 },
 "nbformat": 4,
 "nbformat_minor": 5
}

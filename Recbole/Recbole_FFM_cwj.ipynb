{
 "cells": [
  {
   "cell_type": "markdown",
   "id": "2cd73963",
   "metadata": {},
   "source": [
    "# FMM Recbole 구현"
   ]
  },
  {
   "cell_type": "markdown",
   "id": "61e884e8",
   "metadata": {},
   "source": [
    "### Recbole 라이브러리 로딩"
   ]
  },
  {
   "cell_type": "code",
   "execution_count": 135,
   "id": "656860e8",
   "metadata": {
    "ExecuteTime": {
     "end_time": "2022-12-22T17:15:25.132449Z",
     "start_time": "2022-12-22T17:15:25.126424Z"
    }
   },
   "outputs": [],
   "source": [
    "from IPython.core.interactiveshell import InteractiveShell\n",
    "InteractiveShell.ast_node_interactivity=\"all\"\n",
    "\n",
    "from logging import getLogger\n",
    "import os\n",
    "import json\n",
    "import numpy as np\n",
    "import pandas as pd\n",
    "import time, datetime\n",
    "from tqdm import tqdm\n",
    "\n",
    "from recbole.model.context_aware_recommender.ffm import FFM\n",
    "\n",
    "from recbole.config import Config\n",
    "from recbole.data import create_dataset, data_preparation\n",
    "from recbole.data.interaction import Interaction\n",
    "from recbole.utils import init_logger, get_trainer, init_seed, set_color, get_model\n",
    "from recbole.quick_start.quick_start import load_data_and_model\n",
    "\n",
    "from recbole.config import Config\n",
    "from recbole.data import create_dataset\n",
    "\n",
    "from sklearn.metrics import accuracy_score, roc_auc_score\n",
    "from sklearn.metrics import ndcg_score, recall_score\n",
    "\n",
    "import torch"
   ]
  },
  {
   "cell_type": "markdown",
   "id": "049a025e",
   "metadata": {},
   "source": [
    "### 데이터 로드"
   ]
  },
  {
   "cell_type": "code",
   "execution_count": 136,
   "id": "7bf1eb53",
   "metadata": {
    "ExecuteTime": {
     "end_time": "2022-12-22T17:15:27.018550Z",
     "start_time": "2022-12-22T17:15:25.636857Z"
    }
   },
   "outputs": [],
   "source": [
    "train_df = pd.read_csv('/opt/ml/input/data/train/train_ratings.csv')"
   ]
  },
  {
   "cell_type": "code",
   "execution_count": 172,
   "id": "ee53ca74",
   "metadata": {
    "ExecuteTime": {
     "end_time": "2022-12-22T17:34:16.188631Z",
     "start_time": "2022-12-22T17:34:14.149598Z"
    }
   },
   "outputs": [],
   "source": [
    "user_grp = dict(train_df.groupby('user').item.apply(list))"
   ]
  },
  {
   "cell_type": "code",
   "execution_count": 137,
   "id": "4eeda3be",
   "metadata": {
    "ExecuteTime": {
     "end_time": "2022-12-22T17:15:27.037113Z",
     "start_time": "2022-12-22T17:15:27.020848Z"
    }
   },
   "outputs": [
    {
     "name": "stdout",
     "output_type": "stream",
     "text": [
      "<class 'pandas.core.frame.DataFrame'>\n",
      "RangeIndex: 5154471 entries, 0 to 5154470\n",
      "Data columns (total 3 columns):\n",
      " #   Column  Dtype\n",
      "---  ------  -----\n",
      " 0   user    int64\n",
      " 1   item    int64\n",
      " 2   time    int64\n",
      "dtypes: int64(3)\n",
      "memory usage: 118.0 MB\n"
     ]
    }
   ],
   "source": [
    "train_df.info()"
   ]
  },
  {
   "cell_type": "code",
   "execution_count": 138,
   "id": "754874f6",
   "metadata": {
    "ExecuteTime": {
     "end_time": "2022-12-22T17:15:27.065976Z",
     "start_time": "2022-12-22T17:15:27.038845Z"
    }
   },
   "outputs": [],
   "source": [
    "data_path = '/opt/ml/input/data/train'\n",
    "year_data = pd.read_csv(os.path.join(data_path, 'years.tsv'), sep='\\t')\n",
    "writer_data = pd.read_csv(os.path.join(data_path, 'writers.tsv'), sep='\\t')\n",
    "title_data = pd.read_csv(os.path.join(data_path, 'titles.tsv'), sep='\\t')\n",
    "genre_data = pd.read_csv(os.path.join(data_path, 'genres.tsv'), sep='\\t')\n",
    "director_data = pd.read_csv(os.path.join(data_path, 'directors.tsv'), sep='\\t')"
   ]
  },
  {
   "cell_type": "code",
   "execution_count": 139,
   "id": "80736508",
   "metadata": {
    "ExecuteTime": {
     "end_time": "2022-12-22T17:15:31.631391Z",
     "start_time": "2022-12-22T17:15:27.067994Z"
    }
   },
   "outputs": [],
   "source": [
    "df_merge = pd.merge(train_df, year_data.drop_duplicates(subset=['item']), on='item', how='inner')\n",
    "df_merge = pd.merge(df_merge, writer_data.drop_duplicates(subset=['item']), on='item', how='inner')\n",
    "df_merge = pd.merge(df_merge, title_data.drop_duplicates(subset=['item']), on='item', how='inner')\n",
    "df_merge = pd.merge(df_merge, genre_data.drop_duplicates(subset=['item']), on='item', how='inner')\n",
    "df_merge = pd.merge(df_merge, director_data.drop_duplicates(subset=['item']), on='item', how='inner')"
   ]
  },
  {
   "cell_type": "code",
   "execution_count": 140,
   "id": "eaa10731",
   "metadata": {
    "ExecuteTime": {
     "end_time": "2022-12-22T17:15:32.251018Z",
     "start_time": "2022-12-22T17:15:31.633653Z"
    }
   },
   "outputs": [],
   "source": [
    "train = df_merge[['user', 'item', 'time']]"
   ]
  },
  {
   "cell_type": "code",
   "execution_count": 141,
   "id": "940e39f2",
   "metadata": {
    "ExecuteTime": {
     "end_time": "2022-12-22T17:15:32.283012Z",
     "start_time": "2022-12-22T17:15:32.252856Z"
    }
   },
   "outputs": [],
   "source": [
    "user_data = df_merge[['user']]"
   ]
  },
  {
   "cell_type": "code",
   "execution_count": 142,
   "id": "d7b2c7b8",
   "metadata": {
    "ExecuteTime": {
     "end_time": "2022-12-22T17:15:32.756278Z",
     "start_time": "2022-12-22T17:15:32.285400Z"
    }
   },
   "outputs": [],
   "source": [
    "item_data = df_merge[['item', 'year', 'writer', 'title', 'genre', 'director']].drop_duplicates(subset=['item'])"
   ]
  },
  {
   "cell_type": "code",
   "execution_count": 143,
   "id": "bd414cdc",
   "metadata": {
    "ExecuteTime": {
     "end_time": "2022-12-22T17:15:32.770221Z",
     "start_time": "2022-12-22T17:15:32.758019Z"
    }
   },
   "outputs": [
    {
     "name": "stdout",
     "output_type": "stream",
     "text": [
      "<class 'pandas.core.frame.DataFrame'>\n",
      "Int64Index: 4658299 entries, 0 to 4658298\n",
      "Data columns (total 3 columns):\n",
      " #   Column  Dtype\n",
      "---  ------  -----\n",
      " 0   user    int64\n",
      " 1   item    int64\n",
      " 2   time    int64\n",
      "dtypes: int64(3)\n",
      "memory usage: 142.2 MB\n"
     ]
    }
   ],
   "source": [
    "train.info()"
   ]
  },
  {
   "cell_type": "code",
   "execution_count": 144,
   "id": "b31ea219",
   "metadata": {
    "ExecuteTime": {
     "end_time": "2022-12-22T17:15:34.141265Z",
     "start_time": "2022-12-22T17:15:32.772112Z"
    }
   },
   "outputs": [
    {
     "name": "stdout",
     "output_type": "stream",
     "text": [
      "n_user : 31360\n",
      "n_item : 4967\n"
     ]
    }
   ],
   "source": [
    "userid, itemid = list(set(train.user)), list(set(train.item))\n",
    "n_user, n_item = len(userid), len(itemid)\n",
    "print(f'n_user : {n_user}')\n",
    "print(f'n_item : {n_item}')"
   ]
  },
  {
   "cell_type": "markdown",
   "id": "d043e6eb",
   "metadata": {},
   "source": [
    "### 데이터 파일 변환\n",
    "\n",
    "기존 데이터 파일을 Recbole 데이터 파일로 변환시키는 과정"
   ]
  },
  {
   "cell_type": "code",
   "execution_count": 145,
   "id": "dd4f31f8",
   "metadata": {
    "ExecuteTime": {
     "end_time": "2022-12-22T17:15:34.159166Z",
     "start_time": "2022-12-22T17:15:34.143580Z"
    }
   },
   "outputs": [],
   "source": [
    "userid, itemid = sorted(userid), sorted(itemid)\n",
    "n_user, n_item = len(userid), len(itemid)\n",
    "\n",
    "userid_2_index = {v:i for i,v in enumerate(userid)}\n",
    "itemid_2_index = {v:i for i,v in enumerate(itemid)}\n",
    "index_2_userid = {i:v for i,v in enumerate(userid)}\n",
    "index_2_itemid = {i:v for i,v in enumerate(itemid)}"
   ]
  },
  {
   "cell_type": "code",
   "execution_count": 146,
   "id": "a6b7236c",
   "metadata": {
    "ExecuteTime": {
     "end_time": "2022-12-22T17:15:34.778493Z",
     "start_time": "2022-12-22T17:15:34.160948Z"
    }
   },
   "outputs": [
    {
     "name": "stderr",
     "output_type": "stream",
     "text": [
      "/tmp/ipykernel_312/3662396382.py:1: SettingWithCopyWarning: \n",
      "A value is trying to be set on a copy of a slice from a DataFrame.\n",
      "Try using .loc[row_indexer,col_indexer] = value instead\n",
      "\n",
      "See the caveats in the documentation: https://pandas.pydata.org/pandas-docs/stable/user_guide/indexing.html#returning-a-view-versus-a-copy\n",
      "  train.user = train.user.map(userid_2_index)\n",
      "/tmp/ipykernel_312/3662396382.py:2: SettingWithCopyWarning: \n",
      "A value is trying to be set on a copy of a slice from a DataFrame.\n",
      "Try using .loc[row_indexer,col_indexer] = value instead\n",
      "\n",
      "See the caveats in the documentation: https://pandas.pydata.org/pandas-docs/stable/user_guide/indexing.html#returning-a-view-versus-a-copy\n",
      "  train.item = train.item.map(itemid_2_index)\n",
      "/tmp/ipykernel_312/3662396382.py:4: SettingWithCopyWarning: \n",
      "A value is trying to be set on a copy of a slice from a DataFrame.\n",
      "Try using .loc[row_indexer,col_indexer] = value instead\n",
      "\n",
      "See the caveats in the documentation: https://pandas.pydata.org/pandas-docs/stable/user_guide/indexing.html#returning-a-view-versus-a-copy\n",
      "  user_data.user = user_data.user.map(userid_2_index)\n"
     ]
    }
   ],
   "source": [
    "train.user = train.user.map(userid_2_index)\n",
    "train.item = train.item.map(itemid_2_index)\n",
    "\n",
    "user_data.user = user_data.user.map(userid_2_index)\n",
    "item_data.item = item_data.item.map(itemid_2_index)"
   ]
  },
  {
   "cell_type": "code",
   "execution_count": 147,
   "id": "921af69e",
   "metadata": {
    "ExecuteTime": {
     "end_time": "2022-12-22T17:15:44.420472Z",
     "start_time": "2022-12-22T17:15:44.416956Z"
    }
   },
   "outputs": [],
   "source": [
    "yamldata = \"\"\"\n",
    "field_separator: \"\\t\"\n",
    "USER_ID_FIELD: user_id\n",
    "ITEM_ID_FIELD: item_id\n",
    "TIME_FIELD: timestamp\n",
    "\n",
    "load_col:\n",
    "    inter: [user_id, item_id, timestamp]\n",
    "\n",
    "train_neg_sample_args:\n",
    "    uniform: 1\n",
    "    \n",
    "eval_args:\n",
    "    split: {'RS': [8, 2, 0]}\n",
    "    group_by: user\n",
    "    order: RO\n",
    "    mode: full\n",
    "metrics: ['Recall', 'MRR', 'NDCG', 'Hit', 'Precision', 'MAP']\n",
    "topk: 10\n",
    "valid_metric: Recall@10\n",
    "\"\"\""
   ]
  },
  {
   "cell_type": "code",
   "execution_count": 148,
   "id": "dd5f3b92",
   "metadata": {
    "ExecuteTime": {
     "end_time": "2022-12-22T17:15:51.689556Z",
     "start_time": "2022-12-22T17:15:51.684975Z"
    }
   },
   "outputs": [],
   "source": [
    "train.columns=['user_id:token', 'item_id:token', 'timestamp:float']\n",
    "user_data.columns=['user_id:token']\n",
    "item_data.columns=['item_id:token', 'year:float', 'writer:token', 'title:token', 'genre:token', 'director:token']\n"
   ]
  },
  {
   "cell_type": "code",
   "execution_count": 149,
   "id": "f127de5e",
   "metadata": {
    "ExecuteTime": {
     "end_time": "2022-12-22T17:16:08.162260Z",
     "start_time": "2022-12-22T17:16:05.321900Z"
    }
   },
   "outputs": [
    {
     "data": {
      "text/plain": [
       "(62720, 3)"
      ]
     },
     "execution_count": 149,
     "metadata": {},
     "output_type": "execute_result"
    },
    {
     "data": {
      "text/plain": [
       "369"
      ]
     },
     "execution_count": 149,
     "metadata": {},
     "output_type": "execute_result"
    }
   ],
   "source": [
    "outpath = f\"dataset/context_data\"\n",
    "# outfile = f\"dataset/context_data/context_data.inter\"\n",
    "yamlfile = f\"context_data.yaml\"\n",
    "\n",
    "os.makedirs(outpath, exist_ok=True)\n",
    "SEED=13\n",
    "sub_train=train.groupby(\"user_id:token\").sample(n=2, random_state=SEED)\n",
    "sub_train.shape\n",
    "# 데이터 설정 파일 저장\n",
    "with open(yamlfile, \"w\") as f:\n",
    "    f.write(yamldata) "
   ]
  },
  {
   "cell_type": "code",
   "execution_count": 58,
   "id": "5f344922",
   "metadata": {
    "ExecuteTime": {
     "end_time": "2022-12-22T15:29:42.588403Z",
     "start_time": "2022-12-22T15:29:34.821680Z"
    }
   },
   "outputs": [
    {
     "data": {
      "text/plain": [
       "(62720, 3)"
      ]
     },
     "execution_count": 58,
     "metadata": {},
     "output_type": "execute_result"
    },
    {
     "data": {
      "text/plain": [
       "447"
      ]
     },
     "execution_count": 58,
     "metadata": {},
     "output_type": "execute_result"
    },
    {
     "name": "stdout",
     "output_type": "stream",
     "text": [
      "Dump Complete\n"
     ]
    }
   ],
   "source": [
    "# 데이터 파일 저장\n",
    "sub_train.to_csv(os.path.join(outpath,\"context_data.inter\"),sep='\\t',index=False)\n",
    "# user_data.to_csv(os.path.join(outpath,\"context_data.user\"),sep='\\t',index=False)\n",
    "# item_data.to_csv(os.path.join(outpath,\"context_data.item\"),sep='\\t',index=False)\n",
    "print(\"Dump Complete\")"
   ]
  },
  {
   "cell_type": "code",
   "execution_count": 152,
   "id": "9a01e89d",
   "metadata": {
    "ExecuteTime": {
     "end_time": "2022-12-22T17:16:26.226075Z",
     "start_time": "2022-12-22T17:16:25.989291Z"
    }
   },
   "outputs": [
    {
     "name": "stdout",
     "output_type": "stream",
     "text": [
      "context_data.inter  context_data.item  context_data.user\r\n"
     ]
    }
   ],
   "source": [
    "# !rm dataset/context_data/ context_data."
   ]
  },
  {
   "cell_type": "markdown",
   "id": "bf654e50",
   "metadata": {},
   "source": [
    "### 로거 생성"
   ]
  },
  {
   "cell_type": "code",
   "execution_count": 153,
   "id": "448113f1",
   "metadata": {
    "ExecuteTime": {
     "end_time": "2022-12-22T17:16:39.528381Z",
     "start_time": "2022-12-22T17:16:39.521969Z"
    }
   },
   "outputs": [],
   "source": [
    "logger = getLogger()"
   ]
  },
  {
   "cell_type": "markdown",
   "id": "ac5c55e3",
   "metadata": {},
   "source": [
    "### 설정 인스턴스 생성"
   ]
  },
  {
   "cell_type": "code",
   "execution_count": 154,
   "id": "c21f27c7",
   "metadata": {
    "ExecuteTime": {
     "end_time": "2022-12-22T17:16:44.765250Z",
     "start_time": "2022-12-22T17:16:44.618638Z"
    }
   },
   "outputs": [
    {
     "name": "stderr",
     "output_type": "stream",
     "text": [
      "23 Dec 02:16    INFO  \n",
      "General Hyper Parameters:\n",
      "gpu_id = 0\n",
      "use_gpu = True\n",
      "seed = 2020\n",
      "state = INFO\n",
      "reproducibility = True\n",
      "data_path = dataset/context_data\n",
      "checkpoint_dir = saved\n",
      "show_progress = False\n",
      "save_dataset = False\n",
      "dataset_save_path = None\n",
      "save_dataloaders = False\n",
      "dataloaders_save_path = None\n",
      "log_wandb = False\n",
      "\n",
      "Training Hyper Parameters:\n",
      "epochs = 1\n",
      "train_batch_size = 2048\n",
      "learner = adam\n",
      "learning_rate = 0.001\n",
      "train_neg_sample_args = {'uniform': 1, 'distribution': 'uniform', 'sample_num': 1, 'alpha': 1.0, 'dynamic': False, 'candidate_num': 0}\n",
      "eval_step = 1\n",
      "stopping_step = 10\n",
      "clip_grad_norm = None\n",
      "weight_decay = 0.0\n",
      "loss_decimal_place = 4\n",
      "\n",
      "Evaluation Hyper Parameters:\n",
      "eval_args = {'split': {'RS': [8, 2, 0]}, 'group_by': 'user', 'order': 'RO', 'mode': 'full'}\n",
      "repeatable = False\n",
      "metrics = ['Recall', 'MRR', 'NDCG', 'Hit', 'Precision', 'MAP']\n",
      "topk = [10]\n",
      "valid_metric = Recall@10\n",
      "valid_metric_bigger = True\n",
      "eval_batch_size = 4096\n",
      "metric_decimal_place = 4\n",
      "\n",
      "Dataset Hyper Parameters:\n",
      "field_separator = \t\n",
      "seq_separator =  \n",
      "USER_ID_FIELD = user_id\n",
      "ITEM_ID_FIELD = item_id\n",
      "RATING_FIELD = rating\n",
      "TIME_FIELD = timestamp\n",
      "seq_len = None\n",
      "LABEL_FIELD = label\n",
      "threshold = None\n",
      "NEG_PREFIX = neg_\n",
      "load_col = {'inter': ['user_id', 'item_id', 'timestamp']}\n",
      "unload_col = None\n",
      "unused_col = None\n",
      "additional_feat_suffix = None\n",
      "rm_dup_inter = None\n",
      "val_interval = None\n",
      "filter_inter_by_user_or_item = True\n",
      "user_inter_num_interval = [0,inf)\n",
      "item_inter_num_interval = [0,inf)\n",
      "alias_of_user_id = None\n",
      "alias_of_item_id = None\n",
      "alias_of_entity_id = None\n",
      "alias_of_relation_id = None\n",
      "preload_weight = None\n",
      "normalize_field = None\n",
      "normalize_all = None\n",
      "ITEM_LIST_LENGTH_FIELD = item_length\n",
      "LIST_SUFFIX = _list\n",
      "MAX_ITEM_LIST_LENGTH = 50\n",
      "POSITION_FIELD = position_id\n",
      "HEAD_ENTITY_ID_FIELD = head_id\n",
      "TAIL_ENTITY_ID_FIELD = tail_id\n",
      "RELATION_ID_FIELD = relation_id\n",
      "ENTITY_ID_FIELD = entity_id\n",
      "benchmark_filename = None\n",
      "\n",
      "Other Hyper Parameters: \n",
      "worker = 0\n",
      "wandb_project = recbole\n",
      "shuffle = True\n",
      "require_pow = False\n",
      "enable_amp = False\n",
      "enable_scaler = False\n",
      "transform = None\n",
      "embedding_size = 10\n",
      "fields = None\n",
      "numerical_features = []\n",
      "discretization = None\n",
      "kg_reverse_r = False\n",
      "entity_kg_num_interval = [0,inf)\n",
      "relation_kg_num_interval = [0,inf)\n",
      "MODEL_TYPE = ModelType.CONTEXT\n",
      "MODEL_INPUT_TYPE = InputType.POINTWISE\n",
      "eval_type = EvaluatorType.RANKING\n",
      "single_spec = True\n",
      "local_rank = 0\n",
      "device = cuda\n",
      "eval_neg_sample_args = {'distribution': 'uniform', 'sample_num': 'none'}\n",
      "\n",
      "\n"
     ]
    }
   ],
   "source": [
    "# configurations initialization\n",
    "config = Config(model='FFM', dataset=\"context_data\", config_file_list=[f'context_data.yaml'])\n",
    "config['epochs'] = 1\n",
    "config['show_progress'] = False\n",
    "config['device'] = torch.device(\"cuda\" if torch.cuda.is_available() else \"cpu\")\n",
    "init_seed(config['seed'], config['reproducibility'])\n",
    "# logger initialization\n",
    "init_logger(config)\n",
    "logger.info(config)"
   ]
  },
  {
   "cell_type": "markdown",
   "id": "a62100b4",
   "metadata": {},
   "source": [
    "### 데이터 로드"
   ]
  },
  {
   "cell_type": "code",
   "execution_count": 155,
   "id": "bd284775",
   "metadata": {
    "ExecuteTime": {
     "end_time": "2022-12-22T17:16:48.521512Z",
     "start_time": "2022-12-22T17:16:46.441623Z"
    }
   },
   "outputs": [
    {
     "name": "stderr",
     "output_type": "stream",
     "text": [
      "23 Dec 02:16    INFO  context_data\n",
      "The number of users: 31361\n",
      "Average actions of users: 2.0\n",
      "The number of items: 4036\n",
      "Average actions of items: 15.543990086741015\n",
      "The number of inters: 62720\n",
      "The sparsity of the dataset: 99.95044756624075%\n",
      "Remain Fields: ['user_id', 'item_id', 'timestamp']\n",
      "23 Dec 02:16    INFO  [Training]: train_batch_size = [2048] train_neg_sample_args: [{'uniform': 1, 'distribution': 'uniform', 'sample_num': 1, 'alpha': 1.0, 'dynamic': False, 'candidate_num': 0}]\n",
      "23 Dec 02:16    INFO  [Evaluation]: eval_batch_size = [4096] eval_args: [{'split': {'RS': [8, 2, 0]}, 'group_by': 'user', 'order': 'RO', 'mode': 'full'}]\n"
     ]
    }
   ],
   "source": [
    "# dataset filtering\n",
    "dataset = create_dataset(config)\n",
    "logger.info(dataset)\n",
    "\n",
    "# dataset splitting\n",
    "train_data, valid_data, test_data = data_preparation(config, dataset)"
   ]
  },
  {
   "cell_type": "code",
   "execution_count": 156,
   "id": "aa7da7a0",
   "metadata": {
    "ExecuteTime": {
     "end_time": "2022-12-22T17:16:49.312741Z",
     "start_time": "2022-12-22T17:16:49.274412Z"
    }
   },
   "outputs": [
    {
     "data": {
      "text/plain": [
       "\u001b[1;35mcontext_data\u001b[0m\n",
       "\u001b[1;34mThe number of users\u001b[0m: 31361\n",
       "\u001b[1;34mAverage actions of users\u001b[0m: 1.0\n",
       "\u001b[1;34mThe number of items\u001b[0m: 4036\n",
       "\u001b[1;34mAverage actions of items\u001b[0m: 9.145523476232137\n",
       "\u001b[1;34mThe number of inters\u001b[0m: 31360\n",
       "\u001b[1;34mThe sparsity of the dataset\u001b[0m: 99.97522378312037%\n",
       "\u001b[1;34mRemain Fields\u001b[0m: ['user_id', 'item_id', 'timestamp', 'label']"
      ]
     },
     "execution_count": 156,
     "metadata": {},
     "output_type": "execute_result"
    },
    {
     "data": {
      "text/plain": [
       "\u001b[1;35mcontext_data\u001b[0m\n",
       "\u001b[1;34mThe number of users\u001b[0m: 31361\n",
       "\u001b[1;34mAverage actions of users\u001b[0m: 1.0\n",
       "\u001b[1;34mThe number of items\u001b[0m: 4036\n",
       "\u001b[1;34mAverage actions of items\u001b[0m: 9.311163895486937\n",
       "\u001b[1;34mThe number of inters\u001b[0m: 31360\n",
       "\u001b[1;34mThe sparsity of the dataset\u001b[0m: 99.97522378312037%\n",
       "\u001b[1;34mRemain Fields\u001b[0m: ['user_id', 'item_id', 'timestamp', 'label']"
      ]
     },
     "execution_count": 156,
     "metadata": {},
     "output_type": "execute_result"
    },
    {
     "name": "stderr",
     "output_type": "stream",
     "text": [
      "/opt/conda/lib/python3.8/site-packages/numpy/core/fromnumeric.py:3474: RuntimeWarning: Mean of empty slice.\n",
      "  return _methods._mean(a, axis=axis, dtype=dtype,\n",
      "/opt/conda/lib/python3.8/site-packages/numpy/core/_methods.py:189: RuntimeWarning: invalid value encountered in double_scalars\n",
      "  ret = ret.dtype.type(ret / rcount)\n"
     ]
    },
    {
     "data": {
      "text/plain": [
       "\u001b[1;35mcontext_data\u001b[0m\n",
       "\u001b[1;34mThe number of users\u001b[0m: 31361\n",
       "\u001b[1;34mAverage actions of users\u001b[0m: nan\n",
       "\u001b[1;34mThe number of items\u001b[0m: 4036\n",
       "\u001b[1;34mAverage actions of items\u001b[0m: nan\n",
       "\u001b[1;34mThe number of inters\u001b[0m: 0\n",
       "\u001b[1;34mThe sparsity of the dataset\u001b[0m: 100.0%\n",
       "\u001b[1;34mRemain Fields\u001b[0m: ['user_id', 'item_id', 'timestamp', 'label']"
      ]
     },
     "execution_count": 156,
     "metadata": {},
     "output_type": "execute_result"
    }
   ],
   "source": [
    "train_data.dataset\n",
    "valid_data.dataset\n",
    "test_data.dataset"
   ]
  },
  {
   "cell_type": "markdown",
   "id": "39da2a0e",
   "metadata": {},
   "source": [
    "### 모델 인스턴스 생성"
   ]
  },
  {
   "cell_type": "code",
   "execution_count": 157,
   "id": "419bdaa1",
   "metadata": {
    "ExecuteTime": {
     "end_time": "2022-12-22T17:16:54.411103Z",
     "start_time": "2022-12-22T17:16:54.378466Z"
    }
   },
   "outputs": [
    {
     "name": "stderr",
     "output_type": "stream",
     "text": [
      "23 Dec 02:16    INFO  FFM(\n",
      "  (token_embedding_table): FMEmbedding(\n",
      "    (embedding): Embedding(35397, 10)\n",
      "  )\n",
      "  (first_order_linear): FMFirstOrderLinear(\n",
      "    (token_embedding_table): FMEmbedding(\n",
      "      (embedding): Embedding(35397, 1)\n",
      "    )\n",
      "  )\n",
      "  (sigmoid): Sigmoid()\n",
      "  (ffm): FieldAwareFactorizationMachine(\n",
      "    (token_embeddings): ModuleList(\n",
      "      (0): Embedding(35397, 10)\n",
      "      (1): Embedding(35397, 10)\n",
      "    )\n",
      "  )\n",
      "  (loss): BCEWithLogitsLoss()\n",
      ")\n",
      "Trainable parameters: 1097308\n"
     ]
    }
   ],
   "source": [
    "# model loading and initialization\n",
    "init_seed(config['seed'], config['reproducibility'])\n",
    "model = FFM(config, train_data.dataset).to(config['device'])\n",
    "logger.info(model)"
   ]
  },
  {
   "cell_type": "markdown",
   "id": "c05bfd1e",
   "metadata": {},
   "source": [
    "### 모델 학습"
   ]
  },
  {
   "cell_type": "code",
   "execution_count": 158,
   "id": "46988a38",
   "metadata": {
    "ExecuteTime": {
     "end_time": "2022-12-22T17:16:58.583184Z",
     "start_time": "2022-12-22T17:16:58.580133Z"
    }
   },
   "outputs": [],
   "source": [
    "config['epochs'] = 10\n",
    "config['eval_step'] = 10"
   ]
  },
  {
   "cell_type": "code",
   "execution_count": 159,
   "id": "7bb1b9e9",
   "metadata": {
    "ExecuteTime": {
     "end_time": "2022-12-22T17:18:00.200117Z",
     "start_time": "2022-12-22T17:17:01.446506Z"
    }
   },
   "outputs": [
    {
     "name": "stderr",
     "output_type": "stream",
     "text": [
      "23 Dec 02:17    INFO  epoch 0 training [time: 0.16s, train loss: 21.4237]\n",
      "23 Dec 02:17    INFO  epoch 1 training [time: 0.16s, train loss: 21.2819]\n",
      "23 Dec 02:17    INFO  epoch 2 training [time: 0.15s, train loss: 21.1360]\n",
      "23 Dec 02:17    INFO  epoch 3 training [time: 0.16s, train loss: 20.9768]\n",
      "23 Dec 02:17    INFO  epoch 4 training [time: 0.15s, train loss: 20.7927]\n",
      "23 Dec 02:17    INFO  epoch 5 training [time: 0.17s, train loss: 20.5800]\n",
      "23 Dec 02:17    INFO  epoch 6 training [time: 0.17s, train loss: 20.3369]\n",
      "23 Dec 02:17    INFO  epoch 7 training [time: 0.18s, train loss: 20.0529]\n",
      "23 Dec 02:17    INFO  epoch 8 training [time: 0.17s, train loss: 19.7512]\n",
      "23 Dec 02:17    INFO  epoch 9 training [time: 0.17s, train loss: 19.4186]\n",
      "23 Dec 02:18    INFO  epoch 9 evaluating [time: 56.99s, valid_score: 0.032800]\n",
      "23 Dec 02:18    INFO  valid result: \n",
      "recall@10 : 0.0328    mrr@10 : 0.0106    ndcg@10 : 0.0157    hit@10 : 0.0328    precision@10 : 0.0033    map@10 : 0.0106\n",
      "23 Dec 02:18    INFO  Saving current: saved/FFM-Dec-23-2022_02-17-01.pth\n"
     ]
    }
   ],
   "source": [
    "# trainer loading and initialization\n",
    "trainer = get_trainer(config['MODEL_TYPE'], config['model'])(config, model)\n",
    "\n",
    "# model training\n",
    "best_valid_score, best_valid_result = trainer.fit(\n",
    "    train_data, valid_data, saved=True, show_progress=config['show_progress']\n",
    ")"
   ]
  },
  {
   "cell_type": "markdown",
   "id": "baf0ea34",
   "metadata": {},
   "source": [
    "### 학습 결과 출력"
   ]
  },
  {
   "cell_type": "code",
   "execution_count": 160,
   "id": "a576f172",
   "metadata": {
    "ExecuteTime": {
     "end_time": "2022-12-22T17:18:12.532242Z",
     "start_time": "2022-12-22T17:18:12.529428Z"
    }
   },
   "outputs": [],
   "source": [
    "model_path='saved/FFM-Dec-23-2022_02-17-01.pth'\n",
    "# rank K 설정\n",
    "K = 10"
   ]
  },
  {
   "cell_type": "code",
   "execution_count": 161,
   "id": "bc43437c",
   "metadata": {
    "ExecuteTime": {
     "end_time": "2022-12-22T17:18:17.999171Z",
     "start_time": "2022-12-22T17:18:15.902096Z"
    }
   },
   "outputs": [
    {
     "name": "stderr",
     "output_type": "stream",
     "text": [
      "23 Dec 02:18    INFO  [Training]: train_batch_size = [2048] train_neg_sample_args: [{'uniform': 1, 'distribution': 'uniform', 'sample_num': 1, 'alpha': 1.0, 'dynamic': False, 'candidate_num': 0}]\n",
      "23 Dec 02:18    INFO  [Evaluation]: eval_batch_size = [4096] eval_args: [{'split': {'RS': [8, 2, 0]}, 'group_by': 'user', 'order': 'RO', 'mode': 'full'}]\n"
     ]
    },
    {
     "data": {
      "text/plain": [
       "<All keys matched successfully>"
      ]
     },
     "execution_count": 161,
     "metadata": {},
     "output_type": "execute_result"
    },
    {
     "data": {
      "text/plain": [
       "FFM(\n",
       "  (token_embedding_table): FMEmbedding(\n",
       "    (embedding): Embedding(35397, 10)\n",
       "  )\n",
       "  (first_order_linear): FMFirstOrderLinear(\n",
       "    (token_embedding_table): FMEmbedding(\n",
       "      (embedding): Embedding(35397, 1)\n",
       "    )\n",
       "  )\n",
       "  (sigmoid): Sigmoid()\n",
       "  (ffm): FieldAwareFactorizationMachine(\n",
       "    (token_embeddings): ModuleList(\n",
       "      (0): Embedding(35397, 10)\n",
       "      (1): Embedding(35397, 10)\n",
       "    )\n",
       "  )\n",
       "  (loss): BCEWithLogitsLoss()\n",
       ")"
      ]
     },
     "execution_count": 161,
     "metadata": {},
     "output_type": "execute_result"
    }
   ],
   "source": [
    "# config, model, dataset 불러오기\n",
    "checkpoint = torch.load(model_path)\n",
    "config = checkpoint['config']\n",
    "config['dataset'] = 'context_data'\n",
    "\n",
    "dataset = create_dataset(config)\n",
    "train_data, valid_data, test_data = data_preparation(config, dataset)\n",
    "\n",
    "model = get_model(config['model'])(config, test_data.dataset).to(config['device'])\n",
    "model.load_state_dict(checkpoint['state_dict'])\n",
    "model.load_other_parameter(checkpoint.get('other_parameter'))\n",
    "\n",
    "# device 설정\n",
    "device = config.final_config_dict['device']\n",
    "\n",
    "# user, item id -> token 변환 array\n",
    "user_id = config['USER_ID_FIELD']\n",
    "item_id = config['ITEM_ID_FIELD']\n",
    "user_id2token = dataset.field2id_token[user_id]\n",
    "item_id2token = dataset.field2id_token[item_id]\n",
    "\n",
    "# user id list\n",
    "all_user_list = torch.arange(1, len(user_id2token)).view(-1,128)\n",
    "\n",
    "# user, item 길이\n",
    "user_len = len(user_id2token)\n",
    "item_len = len(item_id2token)\n",
    "\n",
    "# user-item sparse matrix\n",
    "matrix = dataset.inter_matrix(form='csr')\n",
    "\n",
    "# user id, predict item id 저장 변수\n",
    "pred_list = None\n",
    "user_list = None\n",
    "\n",
    "# model 평가모드 전환\n",
    "model.eval()"
   ]
  },
  {
   "cell_type": "code",
   "execution_count": 162,
   "id": "0327f3fa",
   "metadata": {
    "ExecuteTime": {
     "end_time": "2022-12-22T17:18:45.703623Z",
     "start_time": "2022-12-22T17:18:45.699889Z"
    }
   },
   "outputs": [],
   "source": [
    "all_user_list = torch.arange(1, len(user_id2token))[:2]\n",
    "all_item_list = torch.arange(1, len(item_id2token))[:2]"
   ]
  },
  {
   "cell_type": "code",
   "execution_count": 163,
   "id": "5cdfb9e5",
   "metadata": {
    "ExecuteTime": {
     "end_time": "2022-12-22T17:18:45.948196Z",
     "start_time": "2022-12-22T17:18:45.944561Z"
    }
   },
   "outputs": [],
   "source": [
    "interaction = dict()\n",
    "interaction = Interaction(interaction)\n",
    "interaction[user_id] = all_user_list\n",
    "interaction[item_id] = all_item_list\n",
    "interaction = interaction.to(device)"
   ]
  },
  {
   "cell_type": "code",
   "execution_count": 164,
   "id": "4aa8ca17",
   "metadata": {
    "ExecuteTime": {
     "end_time": "2022-12-22T17:18:46.673192Z",
     "start_time": "2022-12-22T17:18:46.668655Z"
    }
   },
   "outputs": [
    {
     "data": {
      "text/plain": [
       "{'user_id': tensor([1, 2], device='cuda:0'),\n",
       " 'item_id': tensor([1, 2], device='cuda:0')}"
      ]
     },
     "execution_count": 164,
     "metadata": {},
     "output_type": "execute_result"
    }
   ],
   "source": [
    "interaction.interaction"
   ]
  },
  {
   "cell_type": "code",
   "execution_count": 166,
   "id": "25139da6",
   "metadata": {
    "ExecuteTime": {
     "end_time": "2022-12-22T17:18:53.160154Z",
     "start_time": "2022-12-22T17:18:53.153415Z"
    }
   },
   "outputs": [
    {
     "data": {
      "text/plain": [
       "tensor([0.5018, 0.4682], device='cuda:0', grad_fn=<SigmoidBackward0>)"
      ]
     },
     "execution_count": 166,
     "metadata": {},
     "output_type": "execute_result"
    }
   ],
   "source": [
    "model.predict(interaction)"
   ]
  },
  {
   "cell_type": "code",
   "execution_count": null,
   "id": "99c82fa1",
   "metadata": {
    "ExecuteTime": {
     "end_time": "2022-12-22T15:36:51.815110Z",
     "start_time": "2022-12-22T15:36:51.636255Z"
    }
   },
   "outputs": [],
   "source": [
    "# progress bar 설정\n",
    "tbar = tqdm(all_user_list, desc=set_color(f\"Inference\", 'pink'))\n",
    "\n",
    "for data in tbar:\n",
    "    # interaction 생성\n",
    "    interaction = dict()\n",
    "    interaction = Interaction(interaction)\n",
    "    interaction[user_id] = data\n",
    "    interaction = interaction.to(device)\n",
    "\n",
    "    # user item별 score 예측\n",
    "    score = model.full_sort_predict(interaction)\n",
    "    score = score.view(-1, item_len)\n",
    "\n",
    "    rating_pred = score.cpu().data.numpy().copy()\n",
    "\n",
    "    user_index = data.numpy()\n",
    "\n",
    "    idx = matrix[user_index].toarray() > 0\n",
    "\n",
    "    rating_pred[idx] = -np.inf\n",
    "    rating_pred[:, 0] = -np.inf\n",
    "    ind = np.argpartition(rating_pred, -K)[:, -K:] #\n",
    "\n",
    "    arr_ind = rating_pred[np.arange(len(rating_pred))[:, None], ind]\n",
    "\n",
    "    arr_ind_argsort = np.argsort(arr_ind)[np.arange(len(rating_pred)), ::-1]\n",
    "\n",
    "    batch_pred_list = ind[\n",
    "        np.arange(len(rating_pred))[:, None], arr_ind_argsort\n",
    "    ]\n",
    "\n",
    "    if pred_list is None:\n",
    "        pred_list = batch_pred_list\n",
    "        user_list = user_index\n",
    "    else:\n",
    "        pred_list = np.append(pred_list, batch_pred_list, axis=0)\n",
    "        user_list = np.append(\n",
    "            user_list, user_index, axis=0\n",
    "        )\n",
    "\n",
    "result = []\n",
    "for user, pred in zip(user_list, pred_list):\n",
    "    for item in pred:\n",
    "        result.append((int(user_id2token[user]), int(item_id2token[item])))\n",
    "\n",
    "# 데이터 저장\n",
    "sub = pd.DataFrame(result, columns=[\"user\", \"item\"])\n",
    "sub.to_csv(\n",
    "    \"submission.csv\", index=False\n",
    ")\n",
    "print('inference done!')"
   ]
  },
  {
   "cell_type": "markdown",
   "id": "22ad13f8",
   "metadata": {},
   "source": [
    "### Inference"
   ]
  },
  {
   "cell_type": "code",
   "execution_count": 31,
   "id": "e03fb084",
   "metadata": {},
   "outputs": [],
   "source": [
    "model_path='saved/FFM-Dec-22-2022_08-26-29.pth'"
   ]
  }
 ],
 "metadata": {
  "kernelspec": {
   "display_name": "Python 3 (ipykernel)",
   "language": "python",
   "name": "python3"
  },
  "language_info": {
   "codemirror_mode": {
    "name": "ipython",
    "version": 3
   },
   "file_extension": ".py",
   "mimetype": "text/x-python",
   "name": "python",
   "nbconvert_exporter": "python",
   "pygments_lexer": "ipython3",
   "version": "3.8.5"
  },
  "toc": {
   "base_numbering": 1,
   "nav_menu": {},
   "number_sections": true,
   "sideBar": true,
   "skip_h1_title": false,
   "title_cell": "Table of Contents",
   "title_sidebar": "Contents",
   "toc_cell": false,
   "toc_position": {
    "height": "calc(100% - 180px)",
    "left": "10px",
    "top": "150px",
    "width": "384px"
   },
   "toc_section_display": true,
   "toc_window_display": true
  },
  "vscode": {
   "interpreter": {
    "hash": "3d4ebc8f5be3b9760b7b8c89820e25f6cc4c8c3873d1ecd46134e38c918e05a9"
   }
  }
 },
 "nbformat": 4,
 "nbformat_minor": 5
}

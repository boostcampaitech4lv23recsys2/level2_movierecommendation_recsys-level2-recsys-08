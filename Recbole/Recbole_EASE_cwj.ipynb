{
 "cells": [
  {
   "cell_type": "markdown",
   "id": "91ba6987",
   "metadata": {},
   "source": [
    "## 데이터 로드"
   ]
  },
  {
   "cell_type": "code",
   "execution_count": 148,
   "id": "1c53ab74",
   "metadata": {
    "ExecuteTime": {
     "end_time": "2022-12-26T14:07:55.268483Z",
     "start_time": "2022-12-26T14:07:51.088219Z"
    }
   },
   "outputs": [],
   "source": [
    "from IPython.core.interactiveshell import InteractiveShell\n",
    "InteractiveShell.ast_node_interactivity=\"all\"\n",
    "\n",
    "import os\n",
    "import json\n",
    "import argparse\n",
    "import pandas as pd\n",
    "import numpy as np\n",
    "import time, datetime\n",
    "from tqdm import tqdm\n",
    "from logging import getLogger\n",
    "import torch\n",
    "\n",
    "from recbole.model.general_recommender.ease import EASE\n",
    "from recbole.model.context_aware_recommender.ffm import FFM\n",
    "\n",
    "from recbole.config import Config\n",
    "from recbole.data import create_dataset, data_preparation, Interaction\n",
    "from recbole.utils import init_logger, get_trainer, get_model, init_seed, set_color\n",
    "\n",
    "\n",
    "SEED=13\n",
    "\n",
    "train = pd.read_csv(\"/opt/ml/input/data/train/train_ratings.csv\")\n",
    "\n",
    "user2idx = {v:k for k,v in enumerate(sorted(set(train.user)))}\n",
    "item2idx = {v:k for k,v in enumerate(sorted(set(train.item)))}\n",
    "uidx2user = {k:v for k,v in enumerate(sorted(set(train.user)))}\n",
    "iidx2item = {k:v for k,v in enumerate(sorted(set(train.item)))}"
   ]
  },
  {
   "cell_type": "markdown",
   "id": "1dcea99e",
   "metadata": {},
   "source": [
    "## make inter file"
   ]
  },
  {
   "cell_type": "code",
   "execution_count": 180,
   "id": "930038a2",
   "metadata": {
    "ExecuteTime": {
     "end_time": "2022-12-26T14:41:19.637618Z",
     "start_time": "2022-12-26T14:41:19.225721Z"
    }
   },
   "outputs": [],
   "source": [
    "train.user = train.user.map(user2idx)\n",
    "train.item = train.item.map(item2idx)"
   ]
  },
  {
   "cell_type": "code",
   "execution_count": 11,
   "id": "4aed392f",
   "metadata": {
    "ExecuteTime": {
     "end_time": "2022-12-23T06:51:12.286795Z",
     "start_time": "2022-12-23T06:51:12.283008Z"
    }
   },
   "outputs": [],
   "source": [
    "train.columns=['user_id:token','item_id:token','timestamp:float']"
   ]
  },
  {
   "cell_type": "code",
   "execution_count": 12,
   "id": "3d5f8092",
   "metadata": {
    "ExecuteTime": {
     "end_time": "2022-12-23T06:51:12.305595Z",
     "start_time": "2022-12-23T06:51:12.288827Z"
    }
   },
   "outputs": [
    {
     "data": {
      "text/html": [
       "<div>\n",
       "<style scoped>\n",
       "    .dataframe tbody tr th:only-of-type {\n",
       "        vertical-align: middle;\n",
       "    }\n",
       "\n",
       "    .dataframe tbody tr th {\n",
       "        vertical-align: top;\n",
       "    }\n",
       "\n",
       "    .dataframe thead th {\n",
       "        text-align: right;\n",
       "    }\n",
       "</style>\n",
       "<table border=\"1\" class=\"dataframe\">\n",
       "  <thead>\n",
       "    <tr style=\"text-align: right;\">\n",
       "      <th></th>\n",
       "      <th>user_id:token</th>\n",
       "      <th>item_id:token</th>\n",
       "      <th>timestamp:float</th>\n",
       "    </tr>\n",
       "  </thead>\n",
       "  <tbody>\n",
       "    <tr>\n",
       "      <th>0</th>\n",
       "      <td>0</td>\n",
       "      <td>2505</td>\n",
       "      <td>1230782529</td>\n",
       "    </tr>\n",
       "    <tr>\n",
       "      <th>1</th>\n",
       "      <td>0</td>\n",
       "      <td>109</td>\n",
       "      <td>1230782534</td>\n",
       "    </tr>\n",
       "  </tbody>\n",
       "</table>\n",
       "</div>"
      ],
      "text/plain": [
       "   user_id:token  item_id:token  timestamp:float\n",
       "0              0           2505       1230782529\n",
       "1              0            109       1230782534"
      ]
     },
     "execution_count": 12,
     "metadata": {},
     "output_type": "execute_result"
    }
   ],
   "source": [
    "train[:2]"
   ]
  },
  {
   "cell_type": "code",
   "execution_count": 14,
   "id": "286c0b14",
   "metadata": {
    "ExecuteTime": {
     "end_time": "2022-12-23T06:53:41.566235Z",
     "start_time": "2022-12-23T06:53:32.937279Z"
    }
   },
   "outputs": [],
   "source": [
    "outpath = f\"dataset/train_data\"\n",
    "os.makedirs(outpath, exist_ok=True)\n",
    "# sub_train=train.groupby(\"user\").sample(n=10, random_state=SEED)\n",
    "# sub_train.shape\n",
    "train.to_csv(os.path.join(outpath,\"train_data.inter\"),sep='\\t',index=False)"
   ]
  },
  {
   "cell_type": "code",
   "execution_count": 15,
   "id": "48dfc28b",
   "metadata": {
    "ExecuteTime": {
     "end_time": "2022-12-23T06:53:41.572703Z",
     "start_time": "2022-12-23T06:53:41.569091Z"
    }
   },
   "outputs": [
    {
     "data": {
      "text/plain": [
       "(5154471, 3)"
      ]
     },
     "execution_count": 15,
     "metadata": {},
     "output_type": "execute_result"
    }
   ],
   "source": [
    "train.shape"
   ]
  },
  {
   "cell_type": "markdown",
   "id": "f2d8b45f",
   "metadata": {},
   "source": [
    "## make yaml file"
   ]
  },
  {
   "cell_type": "code",
   "execution_count": 16,
   "id": "fc936e99",
   "metadata": {
    "ExecuteTime": {
     "end_time": "2022-12-23T06:53:41.578979Z",
     "start_time": "2022-12-23T06:53:41.574905Z"
    }
   },
   "outputs": [
    {
     "data": {
      "text/plain": [
       "121"
      ]
     },
     "execution_count": 16,
     "metadata": {},
     "output_type": "execute_result"
    }
   ],
   "source": [
    "yamldata=\"\"\"\n",
    "USER_ID_FIELD: user_id\n",
    "ITEM_ID_FIELD: item_id\n",
    "TIME_FIELD: timestamp\n",
    "\n",
    "load_col:\n",
    "    inter: [user_id, item_id, timestamp]\n",
    "\"\"\"\n",
    "with open(\"ease.yaml\", \"w\") as f:\n",
    "    f.write(yamldata)"
   ]
  },
  {
   "cell_type": "markdown",
   "id": "729f6f4f",
   "metadata": {},
   "source": [
    "## make config, logger"
   ]
  },
  {
   "cell_type": "code",
   "execution_count": 17,
   "id": "41efa260",
   "metadata": {
    "ExecuteTime": {
     "end_time": "2022-12-23T06:53:42.771394Z",
     "start_time": "2022-12-23T06:53:41.581254Z"
    },
    "collapsed": true
   },
   "outputs": [
    {
     "name": "stderr",
     "output_type": "stream",
     "text": [
      "23 Dec 15:53    INFO  \n",
      "General Hyper Parameters:\n",
      "gpu_id = 0\n",
      "use_gpu = True\n",
      "seed = 2020\n",
      "state = INFO\n",
      "reproducibility = True\n",
      "data_path = dataset/train_data\n",
      "checkpoint_dir = saved\n",
      "show_progress = False\n",
      "save_dataset = False\n",
      "dataset_save_path = None\n",
      "save_dataloaders = False\n",
      "dataloaders_save_path = None\n",
      "log_wandb = False\n",
      "\n",
      "Training Hyper Parameters:\n",
      "epochs = 300\n",
      "train_batch_size = 2048\n",
      "learner = adam\n",
      "learning_rate = 0.001\n",
      "train_neg_sample_args = {'distribution': 'uniform', 'sample_num': 1, 'alpha': 1.0, 'dynamic': False, 'candidate_num': 0}\n",
      "eval_step = 1\n",
      "stopping_step = 10\n",
      "clip_grad_norm = None\n",
      "weight_decay = 0.0\n",
      "loss_decimal_place = 4\n",
      "\n",
      "Evaluation Hyper Parameters:\n",
      "eval_args = {'split': {'RS': [1, 0, 0]}, 'group_by': 'user', 'order': 'RO', 'mode': 'full'}\n",
      "repeatable = False\n",
      "metrics = ['Recall', 'MRR', 'NDCG', 'Hit', 'Precision']\n",
      "topk = [20]\n",
      "valid_metric = Recall@10\n",
      "valid_metric_bigger = True\n",
      "eval_batch_size = 4096\n",
      "metric_decimal_place = 4\n",
      "\n",
      "Dataset Hyper Parameters:\n",
      "field_separator = \t\n",
      "seq_separator =  \n",
      "USER_ID_FIELD = user_id\n",
      "ITEM_ID_FIELD = item_id\n",
      "RATING_FIELD = rating\n",
      "TIME_FIELD = timestamp\n",
      "seq_len = None\n",
      "LABEL_FIELD = label\n",
      "threshold = None\n",
      "NEG_PREFIX = neg_\n",
      "load_col = {'inter': ['user_id', 'item_id', 'timestamp']}\n",
      "unload_col = None\n",
      "unused_col = None\n",
      "additional_feat_suffix = None\n",
      "rm_dup_inter = None\n",
      "val_interval = None\n",
      "filter_inter_by_user_or_item = True\n",
      "user_inter_num_interval = [0,inf)\n",
      "item_inter_num_interval = [0,inf)\n",
      "alias_of_user_id = None\n",
      "alias_of_item_id = None\n",
      "alias_of_entity_id = None\n",
      "alias_of_relation_id = None\n",
      "preload_weight = None\n",
      "normalize_field = None\n",
      "normalize_all = None\n",
      "ITEM_LIST_LENGTH_FIELD = item_length\n",
      "LIST_SUFFIX = _list\n",
      "MAX_ITEM_LIST_LENGTH = 50\n",
      "POSITION_FIELD = position_id\n",
      "HEAD_ENTITY_ID_FIELD = head_id\n",
      "TAIL_ENTITY_ID_FIELD = tail_id\n",
      "RELATION_ID_FIELD = relation_id\n",
      "ENTITY_ID_FIELD = entity_id\n",
      "benchmark_filename = None\n",
      "\n",
      "Other Hyper Parameters: \n",
      "worker = 0\n",
      "wandb_project = recbole\n",
      "shuffle = True\n",
      "require_pow = False\n",
      "enable_amp = False\n",
      "enable_scaler = False\n",
      "transform = None\n",
      "reg_weight = 250.0\n",
      "numerical_features = []\n",
      "discretization = None\n",
      "kg_reverse_r = False\n",
      "entity_kg_num_interval = [0,inf)\n",
      "relation_kg_num_interval = [0,inf)\n",
      "MODEL_TYPE = ModelType.TRADITIONAL\n",
      "MODEL_INPUT_TYPE = InputType.POINTWISE\n",
      "eval_type = EvaluatorType.RANKING\n",
      "single_spec = True\n",
      "local_rank = 0\n",
      "device = cuda\n",
      "eval_neg_sample_args = {'distribution': 'uniform', 'sample_num': 'none'}\n",
      "\n",
      "\n"
     ]
    }
   ],
   "source": [
    "logger = getLogger()\n",
    "\n",
    "# configurations initialization\n",
    "config = Config(model='EASE', dataset=\"train_data\", config_file_list=[f'ease.yaml'])\n",
    "# config['epochs'] = 100\n",
    "config['show_progress'] = False\n",
    "config['device'] = torch.device(\"cuda\" if torch.cuda.is_available() else \"cpu\")\n",
    "config['valid_metric'] = \"Recall@10\"\n",
    "config['eval_args'] = {'split': {'RS': [1, 0, 0]},\n",
    "                         'group_by': 'user',\n",
    "                         'order': 'RO',\n",
    "                         'mode': 'full'}\n",
    "config['topk']=[20]\n",
    "init_seed(config['seed'], config['reproducibility'])\n",
    "# logger initialization\n",
    "init_logger(config)\n",
    "logger.info(config)"
   ]
  },
  {
   "cell_type": "markdown",
   "id": "e5c4ee8a",
   "metadata": {},
   "source": [
    "## make dataset"
   ]
  },
  {
   "cell_type": "code",
   "execution_count": 18,
   "id": "4b8abda8",
   "metadata": {
    "ExecuteTime": {
     "end_time": "2022-12-23T06:54:25.066199Z",
     "start_time": "2022-12-23T06:53:43.271187Z"
    }
   },
   "outputs": [
    {
     "name": "stderr",
     "output_type": "stream",
     "text": [
      "23 Dec 15:54    INFO  train_data\n",
      "The number of users: 31361\n",
      "Average actions of users: 164.36450892857144\n",
      "The number of items: 6808\n",
      "Average actions of items: 757.2309387395328\n",
      "The number of inters: 5154471\n",
      "The sparsity of the dataset: 97.58579218741939%\n",
      "Remain Fields: ['user_id', 'item_id', 'timestamp']\n",
      "23 Dec 15:54    INFO  [Training]: train_batch_size = [2048] train_neg_sample_args: [{'distribution': 'uniform', 'sample_num': 1, 'alpha': 1.0, 'dynamic': False, 'candidate_num': 0}]\n",
      "23 Dec 15:54    INFO  [Evaluation]: eval_batch_size = [4096] eval_args: [{'split': {'RS': [1, 0, 0]}, 'group_by': 'user', 'order': 'RO', 'mode': 'full'}]\n"
     ]
    }
   ],
   "source": [
    "# dataset filtering\n",
    "dataset = create_dataset(config)\n",
    "logger.info(dataset)\n",
    "\n",
    "# dataset splitting\n",
    "train_data, valid_data, test_data = data_preparation(config, dataset)"
   ]
  },
  {
   "cell_type": "code",
   "execution_count": 19,
   "id": "90215db4",
   "metadata": {
    "ExecuteTime": {
     "end_time": "2022-12-23T06:54:26.812308Z",
     "start_time": "2022-12-23T06:54:25.068691Z"
    }
   },
   "outputs": [
    {
     "data": {
      "text/plain": [
       "\u001b[1;35mtrain_data\u001b[0m\n",
       "\u001b[1;34mThe number of users\u001b[0m: 31361\n",
       "\u001b[1;34mAverage actions of users\u001b[0m: 164.36450892857144\n",
       "\u001b[1;34mThe number of items\u001b[0m: 6808\n",
       "\u001b[1;34mAverage actions of items\u001b[0m: 757.2309387395328\n",
       "\u001b[1;34mThe number of inters\u001b[0m: 5154471\n",
       "\u001b[1;34mThe sparsity of the dataset\u001b[0m: 97.58579218741939%\n",
       "\u001b[1;34mRemain Fields\u001b[0m: ['user_id', 'item_id', 'timestamp', 'label']"
      ]
     },
     "execution_count": 19,
     "metadata": {},
     "output_type": "execute_result"
    },
    {
     "name": "stderr",
     "output_type": "stream",
     "text": [
      "/opt/conda/lib/python3.8/site-packages/numpy/core/fromnumeric.py:3474: RuntimeWarning: Mean of empty slice.\n",
      "  return _methods._mean(a, axis=axis, dtype=dtype,\n",
      "/opt/conda/lib/python3.8/site-packages/numpy/core/_methods.py:189: RuntimeWarning: invalid value encountered in double_scalars\n",
      "  ret = ret.dtype.type(ret / rcount)\n"
     ]
    },
    {
     "data": {
      "text/plain": [
       "\u001b[1;35mtrain_data\u001b[0m\n",
       "\u001b[1;34mThe number of users\u001b[0m: 31361\n",
       "\u001b[1;34mAverage actions of users\u001b[0m: nan\n",
       "\u001b[1;34mThe number of items\u001b[0m: 6808\n",
       "\u001b[1;34mAverage actions of items\u001b[0m: nan\n",
       "\u001b[1;34mThe number of inters\u001b[0m: 0\n",
       "\u001b[1;34mThe sparsity of the dataset\u001b[0m: 100.0%\n",
       "\u001b[1;34mRemain Fields\u001b[0m: ['user_id', 'item_id', 'timestamp', 'label']"
      ]
     },
     "execution_count": 19,
     "metadata": {},
     "output_type": "execute_result"
    },
    {
     "data": {
      "text/plain": [
       "\u001b[1;35mtrain_data\u001b[0m\n",
       "\u001b[1;34mThe number of users\u001b[0m: 31361\n",
       "\u001b[1;34mAverage actions of users\u001b[0m: nan\n",
       "\u001b[1;34mThe number of items\u001b[0m: 6808\n",
       "\u001b[1;34mAverage actions of items\u001b[0m: nan\n",
       "\u001b[1;34mThe number of inters\u001b[0m: 0\n",
       "\u001b[1;34mThe sparsity of the dataset\u001b[0m: 100.0%\n",
       "\u001b[1;34mRemain Fields\u001b[0m: ['user_id', 'item_id', 'timestamp', 'label']"
      ]
     },
     "execution_count": 19,
     "metadata": {},
     "output_type": "execute_result"
    }
   ],
   "source": [
    "train_data.dataset\n",
    "valid_data.dataset\n",
    "test_data.dataset"
   ]
  },
  {
   "cell_type": "markdown",
   "id": "ee19f483",
   "metadata": {},
   "source": [
    "## make model"
   ]
  },
  {
   "cell_type": "code",
   "execution_count": 20,
   "id": "4ee187fa",
   "metadata": {
    "ExecuteTime": {
     "end_time": "2022-12-23T06:54:55.239195Z",
     "start_time": "2022-12-23T06:54:26.814385Z"
    }
   },
   "outputs": [
    {
     "name": "stderr",
     "output_type": "stream",
     "text": [
      "23 Dec 15:54    INFO  EASE()\n",
      "Trainable parameters: 1\n"
     ]
    }
   ],
   "source": [
    "# model loading and initialization\n",
    "init_seed(config['seed'], config['reproducibility'])\n",
    "model = EASE(config, train_data.dataset).to(config['device'])\n",
    "logger.info(model)"
   ]
  },
  {
   "cell_type": "markdown",
   "id": "03bd695a",
   "metadata": {},
   "source": [
    "## train"
   ]
  },
  {
   "cell_type": "code",
   "execution_count": 21,
   "id": "9a2e35d5",
   "metadata": {
    "ExecuteTime": {
     "end_time": "2022-12-23T06:55:09.380447Z",
     "start_time": "2022-12-23T06:54:55.242022Z"
    },
    "scrolled": false
   },
   "outputs": [
    {
     "name": "stderr",
     "output_type": "stream",
     "text": [
      "23 Dec 15:55    INFO  epoch 0 training [time: 12.03s, train loss: 0.0000]\n",
      "23 Dec 15:55    INFO  Saving current: saved/EASE-Dec-23-2022_15-54-55.pth\n"
     ]
    }
   ],
   "source": [
    "# trainer loading and initialization\n",
    "trainer = get_trainer(config['MODEL_TYPE'], config['model'])(config, model)\n",
    "\n",
    "# model training\n",
    "best_valid_score, best_valid_result = trainer.fit(\n",
    "    train_data, valid_data, saved=True, show_progress=config['show_progress']\n",
    ")"
   ]
  },
  {
   "cell_type": "code",
   "execution_count": 253,
   "id": "93b8e13e",
   "metadata": {
    "ExecuteTime": {
     "end_time": "2022-12-21T16:29:03.667702Z",
     "start_time": "2022-12-21T16:28:47.580417Z"
    },
    "scrolled": false
   },
   "outputs": [
    {
     "name": "stderr",
     "output_type": "stream",
     "text": [
      "21 Dec 16:29    INFO  epoch 0 training [time: 14.01s, train loss: 0.0000]\n",
      "21 Dec 16:29    INFO  Saving current: saved/EASE-Dec-21-2022_16-28-47.pth\n"
     ]
    }
   ],
   "source": [
    "# trainer loading and initialization\n",
    "trainer = get_trainer(config['MODEL_TYPE'], config['model'])(config, model)\n",
    "\n",
    "# model training\n",
    "best_valid_score, best_valid_result = trainer.fit(\n",
    "    train_data, valid_data, saved=True, show_progress=config['show_progress']\n",
    ")"
   ]
  },
  {
   "cell_type": "code",
   "execution_count": 22,
   "id": "cec8a633",
   "metadata": {
    "ExecuteTime": {
     "end_time": "2022-12-23T06:55:09.385714Z",
     "start_time": "2022-12-23T06:55:09.382683Z"
    }
   },
   "outputs": [],
   "source": [
    "from IPython.core.interactiveshell import InteractiveShell\n",
    "InteractiveShell.ast_node_interactivity=\"last\""
   ]
  },
  {
   "cell_type": "markdown",
   "id": "b79572b1",
   "metadata": {},
   "source": [
    "## inference"
   ]
  },
  {
   "cell_type": "code",
   "execution_count": 8,
   "id": "1d1b53be",
   "metadata": {
    "ExecuteTime": {
     "end_time": "2022-12-24T02:55:28.267619Z",
     "start_time": "2022-12-24T02:55:24.060535Z"
    }
   },
   "outputs": [],
   "source": [
    "from IPython.core.interactiveshell import InteractiveShell\n",
    "InteractiveShell.ast_node_interactivity=\"all\"\n",
    "\n",
    "import os\n",
    "import json\n",
    "import argparse\n",
    "import pandas as pd\n",
    "import numpy as np\n",
    "import time, datetime\n",
    "from tqdm import tqdm\n",
    "from logging import getLogger\n",
    "import torch\n",
    "\n",
    "from recbole.model.general_recommender.ease import EASE\n",
    "from recbole.model.context_aware_recommender.ffm import FFM\n",
    "\n",
    "from recbole.config import Config\n",
    "from recbole.data import create_dataset, data_preparation, Interaction\n",
    "from recbole.utils import init_logger, get_trainer, get_model, init_seed, set_color\n",
    "\n",
    "\n",
    "SEED=13\n",
    "\n",
    "train = pd.read_csv(\"/opt/ml/input/data/train/train_ratings.csv\")\n",
    "\n",
    "user2idx = {v:k for k,v in enumerate(sorted(set(train.user)))}\n",
    "item2idx = {v:k for k,v in enumerate(sorted(set(train.item)))}\n",
    "uidx2user = {k:v for k,v in enumerate(sorted(set(train.user)))}\n",
    "iidx2item = {k:v for k,v in enumerate(sorted(set(train.item)))}"
   ]
  },
  {
   "cell_type": "code",
   "execution_count": 149,
   "id": "54c9f3b7",
   "metadata": {
    "ExecuteTime": {
     "end_time": "2022-12-26T14:08:02.462857Z",
     "start_time": "2022-12-26T14:08:02.460178Z"
    }
   },
   "outputs": [],
   "source": [
    "model_path='saved/EASE-Dec-21-2022_15-02-10.pth'\n",
    "# rank K 설정\n",
    "K = 20\n",
    "\n",
    "# config, model, dataset 불러오기\n",
    "checkpoint = torch.load(model_path)\n",
    "config = checkpoint['config']\n",
    "config['dataset'] = 'train_data'\n",
    "\n",
    "dataset = create_dataset(config)\n",
    "train_data, valid_data, test_data = data_preparation(config, dataset)\n",
    "\n",
    "model = get_model(config['model'])(config, test_data.dataset).to(config['device'])\n",
    "model.load_state_dict(checkpoint['state_dict'])\n",
    "model.load_other_parameter(checkpoint.get('other_parameter'))\n",
    "\n",
    "# device 설정\n",
    "device = config.final_config_dict['device']\n",
    "\n",
    "# user, item id -> token 변환 array\n",
    "user_id = config['USER_ID_FIELD']\n",
    "item_id = config['ITEM_ID_FIELD']\n",
    "user_id2token = dataset.field2id_token[user_id]\n",
    "item_id2token = dataset.field2id_token[item_id]\n",
    "\n",
    "# user id list\n",
    "all_user_list = torch.arange(1, len(user_id2token)).view(-1,128) # 245, 128\n",
    "\n",
    "# user, item 길이\n",
    "user_len = len(user_id2token) # 31361 (PAD 포함)\n",
    "item_len = len(item_id2token) # 6808 (PAD 포함)\n",
    "\n",
    "# user-item sparse matrix\n",
    "matrix = dataset.inter_matrix(form='csr') # (31361, 6808)\n",
    "\n",
    "# user id, predict item id 저장 변수\n",
    "pred_list = None\n",
    "user_list = None\n",
    "\n",
    "# model 평가모드 전환\n",
    "model.eval()\n",
    "\n",
    "# progress bar 설정\n",
    "tbar = tqdm(all_user_list, desc=set_color(f\"Inference\", 'pink')) # 245, 128\n",
    "\n",
    "for data in tbar: # data: 128, \n",
    "    # interaction 생성\n",
    "    interaction = dict()\n",
    "    interaction = Interaction(interaction)\n",
    "    interaction[user_id] = data\n",
    "    interaction = interaction.to(device)\n",
    "\n",
    "    # user item별 score 예측\n",
    "    score = model.full_sort_predict(interaction) # [1, 871424]\n",
    "    score = score.view(-1, item_len) # 128, 6808\n",
    "\n",
    "    rating_pred = score.cpu().data.numpy().copy() # 128, 6808\n",
    "\n",
    "    user_index = data.numpy() # 128,\n",
    "\n",
    "    # idx에는 128명의 영화상호작용이 True, False로 있다.\n",
    "    idx = matrix[user_index].toarray() > 0 # idx shape: 128, 6808\n",
    "\n",
    "    rating_pred[idx] = -np.inf # idx에서 True부분이 -inf로 변경\n",
    "    rating_pred[:, 0] = -np.inf # 첫번째 PAD 열도 -inf로 변경\n",
    "    \n",
    "    # np.argpartition(배열, -K) : 배열에서 순서 상관없이 큰 값 K개를 뽑아 오른쪽에 놓겠다 -> 인덱스반환\n",
    "    # rating_pred에서 각 행마다 K개의 score가 큰 인덱스를 오른쪽에 두고, 그 K개만 가져오기\n",
    "    ind = np.argpartition(rating_pred, -K)[:, -K:] # rating_pred: (128, 6808) -> ind: (128, 20)\n",
    "\n",
    "    user_row_index = np.arange(len(rating_pred)).reshape(-1,1) # [[0],[1],...,[127]]\n",
    "    arr_ind = rating_pred[user_row_index, ind] # 128, 6808 -> 128, 20\n",
    "\n",
    "    # arr_ind 내부에서 행별로, 내림차순 정렬해서 index 나오도록\n",
    "    arr_ind_argsort = np.argsort(arr_ind)[np.arange(len(rating_pred)), ::-1]\n",
    "\n",
    "    # ind는 item의 real index를 갖는 128,20 -> arr_ind_argsort를 통해 pred가 높은 상위 20개 read index 추출\n",
    "    batch_pred_list = ind[user_row_index, arr_ind_argsort] # 128,20 -> 128,20\n",
    "\n",
    "    if pred_list is None: # 처음에는 직접 정의\n",
    "        pred_list = batch_pred_list\n",
    "        user_list = user_index\n",
    "    else: # pred_list가 있을 때는, append\n",
    "        pred_list = np.append(pred_list, batch_pred_list, axis=0)\n",
    "        user_list = np.append(\n",
    "            user_list, user_index, axis=0\n",
    "        )\n",
    "\n",
    "result = []\n",
    "for user, pred in zip(user_list, pred_list):\n",
    "    for item in pred:\n",
    "        result.append((int(user_id2token[user]), int(item_id2token[item])))\n",
    "\n",
    "# 데이터 저장\n",
    "sub = pd.DataFrame(result, columns=[\"user\", \"item\"])\n",
    "print('inference done!')"
   ]
  },
  {
   "cell_type": "code",
   "execution_count": 152,
   "id": "f6ed83d6",
   "metadata": {
    "ExecuteTime": {
     "end_time": "2022-12-26T14:09:33.710065Z",
     "start_time": "2022-12-26T14:09:33.701437Z"
    }
   },
   "outputs": [
    {
     "data": {
      "text/html": [
       "<div>\n",
       "<style scoped>\n",
       "    .dataframe tbody tr th:only-of-type {\n",
       "        vertical-align: middle;\n",
       "    }\n",
       "\n",
       "    .dataframe tbody tr th {\n",
       "        vertical-align: top;\n",
       "    }\n",
       "\n",
       "    .dataframe thead th {\n",
       "        text-align: right;\n",
       "    }\n",
       "</style>\n",
       "<table border=\"1\" class=\"dataframe\">\n",
       "  <thead>\n",
       "    <tr style=\"text-align: right;\">\n",
       "      <th></th>\n",
       "      <th>user</th>\n",
       "      <th>item</th>\n",
       "    </tr>\n",
       "  </thead>\n",
       "  <tbody>\n",
       "    <tr>\n",
       "      <th>0</th>\n",
       "      <td>0</td>\n",
       "      <td>2381</td>\n",
       "    </tr>\n",
       "    <tr>\n",
       "      <th>1</th>\n",
       "      <td>0</td>\n",
       "      <td>2619</td>\n",
       "    </tr>\n",
       "    <tr>\n",
       "      <th>2</th>\n",
       "      <td>0</td>\n",
       "      <td>41</td>\n",
       "    </tr>\n",
       "    <tr>\n",
       "      <th>3</th>\n",
       "      <td>0</td>\n",
       "      <td>4581</td>\n",
       "    </tr>\n",
       "    <tr>\n",
       "      <th>4</th>\n",
       "      <td>0</td>\n",
       "      <td>4790</td>\n",
       "    </tr>\n",
       "    <tr>\n",
       "      <th>...</th>\n",
       "      <td>...</td>\n",
       "      <td>...</td>\n",
       "    </tr>\n",
       "    <tr>\n",
       "      <th>627195</th>\n",
       "      <td>31359</td>\n",
       "      <td>2541</td>\n",
       "    </tr>\n",
       "    <tr>\n",
       "      <th>627196</th>\n",
       "      <td>31359</td>\n",
       "      <td>178</td>\n",
       "    </tr>\n",
       "    <tr>\n",
       "      <th>627197</th>\n",
       "      <td>31359</td>\n",
       "      <td>1206</td>\n",
       "    </tr>\n",
       "    <tr>\n",
       "      <th>627198</th>\n",
       "      <td>31359</td>\n",
       "      <td>2603</td>\n",
       "    </tr>\n",
       "    <tr>\n",
       "      <th>627199</th>\n",
       "      <td>31359</td>\n",
       "      <td>2653</td>\n",
       "    </tr>\n",
       "  </tbody>\n",
       "</table>\n",
       "<p>627200 rows × 2 columns</p>\n",
       "</div>"
      ],
      "text/plain": [
       "         user  item\n",
       "0           0  2381\n",
       "1           0  2619\n",
       "2           0    41\n",
       "3           0  4581\n",
       "4           0  4790\n",
       "...       ...   ...\n",
       "627195  31359  2541\n",
       "627196  31359   178\n",
       "627197  31359  1206\n",
       "627198  31359  2603\n",
       "627199  31359  2653\n",
       "\n",
       "[627200 rows x 2 columns]"
      ]
     },
     "execution_count": 152,
     "metadata": {},
     "output_type": "execute_result"
    }
   ],
   "source": [
    "sub"
   ]
  },
  {
   "cell_type": "code",
   "execution_count": 97,
   "id": "856b7569",
   "metadata": {
    "ExecuteTime": {
     "end_time": "2022-12-23T02:53:05.332006Z",
     "start_time": "2022-12-23T02:53:05.327410Z"
    }
   },
   "outputs": [
    {
     "data": {
      "text/plain": [
       "array([[13,  2, 16, ..., 11, 10,  0],\n",
       "       [13, 17, 11, ...,  2,  1,  0],\n",
       "       [13, 12, 14, ...,  1,  2,  0],\n",
       "       ...,\n",
       "       [19, 18, 16, ...,  1,  2,  0],\n",
       "       [19, 12, 10, ...,  2,  1,  0],\n",
       "       [11, 14,  7, ...,  2,  1,  0]])"
      ]
     },
     "execution_count": 97,
     "metadata": {},
     "output_type": "execute_result"
    }
   ],
   "source": [
    "arr_ind_argsort"
   ]
  },
  {
   "cell_type": "code",
   "execution_count": 100,
   "id": "f29bdc95",
   "metadata": {
    "ExecuteTime": {
     "end_time": "2022-12-23T02:55:01.752993Z",
     "start_time": "2022-12-23T02:55:01.748886Z"
    }
   },
   "outputs": [
    {
     "data": {
      "text/plain": [
       "array([[ 960,  202,  290, ...,  391,  274,  281],\n",
       "       [ 554,  743,  573, ...,   83,  158,  377],\n",
       "       [1329, 1162,  274, ...,  814, 3478,  287],\n",
       "       ...,\n",
       "       [ 265,  339,  626, ...,  962,  298,  139],\n",
       "       [  73,  199,  629, ...,  377,  505,   85],\n",
       "       [1328,  965,  622, ...,  158,  377,   73]])"
      ]
     },
     "execution_count": 100,
     "metadata": {},
     "output_type": "execute_result"
    }
   ],
   "source": [
    "ind"
   ]
  },
  {
   "cell_type": "code",
   "execution_count": 133,
   "id": "8d0352a9",
   "metadata": {
    "ExecuteTime": {
     "end_time": "2022-12-23T03:16:52.813393Z",
     "start_time": "2022-12-23T03:16:52.802285Z"
    }
   },
   "outputs": [
    {
     "data": {
      "text/plain": [
       "(376, 3)"
      ]
     },
     "execution_count": 133,
     "metadata": {},
     "output_type": "execute_result"
    }
   ],
   "source": [
    "train[train.user==0].shape"
   ]
  },
  {
   "cell_type": "code",
   "execution_count": 130,
   "id": "36f3cebd",
   "metadata": {
    "ExecuteTime": {
     "end_time": "2022-12-23T03:16:40.668670Z",
     "start_time": "2022-12-23T03:16:39.338967Z"
    }
   },
   "outputs": [
    {
     "data": {
      "text/plain": [
       "376.0"
      ]
     },
     "execution_count": 130,
     "metadata": {},
     "output_type": "execute_result"
    }
   ],
   "source": [
    "sum(matrix.toarray()[1])"
   ]
  },
  {
   "cell_type": "code",
   "execution_count": 236,
   "id": "1e86af47",
   "metadata": {
    "ExecuteTime": {
     "end_time": "2022-12-23T06:29:42.488806Z",
     "start_time": "2022-12-23T06:29:42.019190Z"
    }
   },
   "outputs": [],
   "source": [
    "matrix = dataset.inter_matrix(form='csr') # (31361, 6808)"
   ]
  },
  {
   "cell_type": "code",
   "execution_count": 238,
   "id": "9538abc7",
   "metadata": {
    "ExecuteTime": {
     "end_time": "2022-12-23T06:30:19.954705Z",
     "start_time": "2022-12-23T06:30:19.929795Z"
    }
   },
   "outputs": [],
   "source": [
    "coo = matrix.tocoo(copy=False)"
   ]
  },
  {
   "cell_type": "code",
   "execution_count": 241,
   "id": "5ae82db2",
   "metadata": {
    "ExecuteTime": {
     "end_time": "2022-12-23T06:30:33.828995Z",
     "start_time": "2022-12-23T06:30:33.825113Z"
    }
   },
   "outputs": [
    {
     "data": {
      "text/plain": [
       "5154471"
      ]
     },
     "execution_count": 241,
     "metadata": {},
     "output_type": "execute_result"
    }
   ],
   "source": [
    "len(coo.data)"
   ]
  },
  {
   "cell_type": "code",
   "execution_count": 242,
   "id": "9bdef1a7",
   "metadata": {
    "ExecuteTime": {
     "end_time": "2022-12-23T06:31:32.083430Z",
     "start_time": "2022-12-23T06:31:31.414343Z"
    }
   },
   "outputs": [],
   "source": [
    "df = pd.DataFrame({'index': coo.row, 'col': coo.col, 'data': coo.data}).set_index([\"index\", \"col\"])"
   ]
  },
  {
   "cell_type": "code",
   "execution_count": 244,
   "id": "9f9c133d",
   "metadata": {
    "ExecuteTime": {
     "end_time": "2022-12-23T06:37:44.310995Z",
     "start_time": "2022-12-23T06:31:48.348676Z"
    }
   },
   "outputs": [],
   "source": [
    "n_rows, n_cols = coo.shape\n",
    "rows, cols = map(np.ndarray.flatten, np.mgrid[:n_rows, :n_cols])\n",
    "filling = pd.DataFrame({\"index\": rows, \"col\": cols, \"data\": np.repeat(0, n_rows * n_cols)}) \\\n",
    "    .set_index([\"index\", \"col\"])\n",
    "\n",
    "res = df.combine_first(filling).reset_index()"
   ]
  },
  {
   "cell_type": "code",
   "execution_count": null,
   "id": "8e41d021",
   "metadata": {
    "ExecuteTime": {
     "start_time": "2022-12-23T06:38:44.266Z"
    }
   },
   "outputs": [],
   "source": [
    "res.data.value_counts()"
   ]
  },
  {
   "cell_type": "code",
   "execution_count": 225,
   "id": "5d6944aa",
   "metadata": {
    "ExecuteTime": {
     "end_time": "2022-12-23T06:22:03.996426Z",
     "start_time": "2022-12-23T06:22:03.581517Z"
    }
   },
   "outputs": [],
   "source": [
    "train.user = train.user.map(user2idx)\n",
    "train.item = train.item.map(item2idx)"
   ]
  },
  {
   "cell_type": "code",
   "execution_count": null,
   "id": "19dbf2a5",
   "metadata": {},
   "outputs": [],
   "source": [
    "['user_id:token','item_id:token','timestamp:float']"
   ]
  },
  {
   "cell_type": "markdown",
   "id": "653a26ac",
   "metadata": {},
   "source": [
    "## test dataset 만들기"
   ]
  },
  {
   "cell_type": "code",
   "execution_count": 24,
   "id": "6485cf17",
   "metadata": {
    "ExecuteTime": {
     "end_time": "2022-12-24T04:33:10.031504Z",
     "start_time": "2022-12-24T04:33:09.770712Z"
    }
   },
   "outputs": [],
   "source": [
    "!mkdir -p dataset/test_data20"
   ]
  },
  {
   "cell_type": "code",
   "execution_count": 94,
   "id": "138ad5e8",
   "metadata": {
    "ExecuteTime": {
     "end_time": "2022-12-24T06:37:26.685457Z",
     "start_time": "2022-12-24T06:37:26.349534Z"
    }
   },
   "outputs": [],
   "source": [
    "sub = pd.DataFrame(result, columns=[\"user\", \"item\"])\n",
    "sub2 = sub.copy()"
   ]
  },
  {
   "cell_type": "code",
   "execution_count": 95,
   "id": "ef408e78",
   "metadata": {
    "ExecuteTime": {
     "end_time": "2022-12-24T06:37:30.871137Z",
     "start_time": "2022-12-24T06:37:30.863170Z"
    }
   },
   "outputs": [
    {
     "data": {
      "text/html": [
       "<div>\n",
       "<style scoped>\n",
       "    .dataframe tbody tr th:only-of-type {\n",
       "        vertical-align: middle;\n",
       "    }\n",
       "\n",
       "    .dataframe tbody tr th {\n",
       "        vertical-align: top;\n",
       "    }\n",
       "\n",
       "    .dataframe thead th {\n",
       "        text-align: right;\n",
       "    }\n",
       "</style>\n",
       "<table border=\"1\" class=\"dataframe\">\n",
       "  <thead>\n",
       "    <tr style=\"text-align: right;\">\n",
       "      <th></th>\n",
       "      <th>user</th>\n",
       "      <th>item</th>\n",
       "    </tr>\n",
       "  </thead>\n",
       "  <tbody>\n",
       "    <tr>\n",
       "      <th>0</th>\n",
       "      <td>0</td>\n",
       "      <td>2381</td>\n",
       "    </tr>\n",
       "    <tr>\n",
       "      <th>1</th>\n",
       "      <td>0</td>\n",
       "      <td>2619</td>\n",
       "    </tr>\n",
       "    <tr>\n",
       "      <th>2</th>\n",
       "      <td>0</td>\n",
       "      <td>41</td>\n",
       "    </tr>\n",
       "    <tr>\n",
       "      <th>3</th>\n",
       "      <td>0</td>\n",
       "      <td>4581</td>\n",
       "    </tr>\n",
       "    <tr>\n",
       "      <th>4</th>\n",
       "      <td>0</td>\n",
       "      <td>4790</td>\n",
       "    </tr>\n",
       "    <tr>\n",
       "      <th>...</th>\n",
       "      <td>...</td>\n",
       "      <td>...</td>\n",
       "    </tr>\n",
       "    <tr>\n",
       "      <th>627195</th>\n",
       "      <td>31359</td>\n",
       "      <td>2541</td>\n",
       "    </tr>\n",
       "    <tr>\n",
       "      <th>627196</th>\n",
       "      <td>31359</td>\n",
       "      <td>178</td>\n",
       "    </tr>\n",
       "    <tr>\n",
       "      <th>627197</th>\n",
       "      <td>31359</td>\n",
       "      <td>1206</td>\n",
       "    </tr>\n",
       "    <tr>\n",
       "      <th>627198</th>\n",
       "      <td>31359</td>\n",
       "      <td>2603</td>\n",
       "    </tr>\n",
       "    <tr>\n",
       "      <th>627199</th>\n",
       "      <td>31359</td>\n",
       "      <td>2653</td>\n",
       "    </tr>\n",
       "  </tbody>\n",
       "</table>\n",
       "<p>627200 rows × 2 columns</p>\n",
       "</div>"
      ],
      "text/plain": [
       "         user  item\n",
       "0           0  2381\n",
       "1           0  2619\n",
       "2           0    41\n",
       "3           0  4581\n",
       "4           0  4790\n",
       "...       ...   ...\n",
       "627195  31359  2541\n",
       "627196  31359   178\n",
       "627197  31359  1206\n",
       "627198  31359  2603\n",
       "627199  31359  2653\n",
       "\n",
       "[627200 rows x 2 columns]"
      ]
     },
     "execution_count": 95,
     "metadata": {},
     "output_type": "execute_result"
    }
   ],
   "source": [
    "sub"
   ]
  },
  {
   "cell_type": "code",
   "execution_count": 96,
   "id": "ecea4073",
   "metadata": {
    "ExecuteTime": {
     "end_time": "2022-12-24T06:37:31.485747Z",
     "start_time": "2022-12-24T06:37:31.398441Z"
    }
   },
   "outputs": [],
   "source": [
    "exist_item = sorted(set(sub2.item))"
   ]
  },
  {
   "cell_type": "code",
   "execution_count": 97,
   "id": "bf6d18f1",
   "metadata": {
    "ExecuteTime": {
     "end_time": "2022-12-24T06:37:32.210902Z",
     "start_time": "2022-12-24T06:37:31.921528Z"
    }
   },
   "outputs": [],
   "source": [
    "n_exist_item = [i for i in range(6807) if i not in exist_item]"
   ]
  },
  {
   "cell_type": "code",
   "execution_count": 80,
   "id": "bd62cf97",
   "metadata": {
    "ExecuteTime": {
     "end_time": "2022-12-24T06:35:06.117836Z",
     "start_time": "2022-12-24T06:35:06.114042Z"
    }
   },
   "outputs": [
    {
     "data": {
      "text/plain": [
       "4090"
      ]
     },
     "execution_count": 80,
     "metadata": {},
     "output_type": "execute_result"
    }
   ],
   "source": [
    "len(n_exist_item)"
   ]
  },
  {
   "cell_type": "code",
   "execution_count": 98,
   "id": "661e9654",
   "metadata": {
    "ExecuteTime": {
     "end_time": "2022-12-24T06:37:43.965558Z",
     "start_time": "2022-12-24T06:37:33.436916Z"
    }
   },
   "outputs": [
    {
     "name": "stderr",
     "output_type": "stream",
     "text": [
      "100%|█████████████████████████████████████████████████████████| 4090/4090 [00:10<00:00, 388.71it/s]\n"
     ]
    }
   ],
   "source": [
    "for i in tqdm(n_exist_item):\n",
    "    sub2.loc[len(sub2),]=[31359,int(i)]"
   ]
  },
  {
   "cell_type": "code",
   "execution_count": 103,
   "id": "ccb12402",
   "metadata": {
    "ExecuteTime": {
     "end_time": "2022-12-24T06:38:12.384301Z",
     "start_time": "2022-12-24T06:38:12.378182Z"
    }
   },
   "outputs": [],
   "source": [
    "sub2 = sub2.astype(int)"
   ]
  },
  {
   "cell_type": "code",
   "execution_count": 105,
   "id": "022fe374",
   "metadata": {
    "ExecuteTime": {
     "end_time": "2022-12-24T06:38:21.445736Z",
     "start_time": "2022-12-24T06:38:20.362680Z"
    }
   },
   "outputs": [],
   "source": [
    "sub2['time']=np.nan\n",
    "\n",
    "sub2.columns = ['user_id:token','item_id:token','timestamp:float']\n",
    "\n",
    "sub2.to_csv(\"dataset/test_data20/train_data.inter\",sep='\\t',index=False)"
   ]
  },
  {
   "cell_type": "code",
   "execution_count": 53,
   "id": "ce92148c",
   "metadata": {
    "ExecuteTime": {
     "end_time": "2022-12-24T06:23:12.578455Z",
     "start_time": "2022-12-24T06:23:12.320332Z"
    }
   },
   "outputs": [
    {
     "name": "stdout",
     "output_type": "stream",
     "text": [
      "test_data20.inter  train_data.inter\r\n"
     ]
    }
   ],
   "source": [
    "!ls dataset/test_data20"
   ]
  },
  {
   "cell_type": "code",
   "execution_count": 48,
   "id": "f0173c8b",
   "metadata": {
    "ExecuteTime": {
     "end_time": "2022-12-24T06:22:41.881851Z",
     "start_time": "2022-12-24T06:22:41.878749Z"
    }
   },
   "outputs": [],
   "source": [
    "config['data_path']=\"dataset/test_data20\""
   ]
  },
  {
   "cell_type": "code",
   "execution_count": 49,
   "id": "ee2a72f5",
   "metadata": {
    "ExecuteTime": {
     "end_time": "2022-12-24T06:22:43.442443Z",
     "start_time": "2022-12-24T06:22:43.439785Z"
    }
   },
   "outputs": [],
   "source": [
    "config['dataset_save_path']=\"\""
   ]
  },
  {
   "cell_type": "code",
   "execution_count": 55,
   "id": "ecbaf4ce",
   "metadata": {
    "ExecuteTime": {
     "end_time": "2022-12-24T06:24:00.152152Z",
     "start_time": "2022-12-24T06:24:00.149212Z"
    }
   },
   "outputs": [],
   "source": [
    "config['eval_args']['split']['RS']=[1,0,99]"
   ]
  },
  {
   "cell_type": "code",
   "execution_count": 56,
   "id": "829a0d7d",
   "metadata": {
    "ExecuteTime": {
     "end_time": "2022-12-24T06:24:01.355529Z",
     "start_time": "2022-12-24T06:24:01.351632Z"
    }
   },
   "outputs": [
    {
     "data": {
      "text/plain": [
       "{'split': {'RS': [1, 0, 99]},\n",
       " 'group_by': 'user',\n",
       " 'order': 'RO',\n",
       " 'mode': 'full'}"
      ]
     },
     "execution_count": 56,
     "metadata": {},
     "output_type": "execute_result"
    }
   ],
   "source": [
    "config['eval_args']"
   ]
  },
  {
   "cell_type": "code",
   "execution_count": 106,
   "id": "98be1b94",
   "metadata": {
    "ExecuteTime": {
     "end_time": "2022-12-24T06:38:32.831863Z",
     "start_time": "2022-12-24T06:38:25.296447Z"
    }
   },
   "outputs": [],
   "source": [
    "dataset = create_dataset(config)\n",
    "train_data, valid_data, test_data = data_preparation(config, dataset)"
   ]
  },
  {
   "cell_type": "code",
   "execution_count": 107,
   "id": "d2b11f5c",
   "metadata": {
    "ExecuteTime": {
     "end_time": "2022-12-24T06:38:34.301515Z",
     "start_time": "2022-12-24T06:38:34.282337Z"
    }
   },
   "outputs": [
    {
     "data": {
      "text/plain": [
       "\u001b[1;35mtrain_data\u001b[0m\n",
       "\u001b[1;34mThe number of users\u001b[0m: 31361\n",
       "\u001b[1;34mAverage actions of users\u001b[0m: 1.0013073979591838\n",
       "\u001b[1;34mThe number of items\u001b[0m: 6808\n",
       "\u001b[1;34mAverage actions of items\u001b[0m: 20.430058555627845\n",
       "\u001b[1;34mThe number of inters\u001b[0m: 31401\n",
       "\u001b[1;34mThe sparsity of the dataset\u001b[0m: 99.98529266349101%\n",
       "\u001b[1;34mRemain Fields\u001b[0m: ['user_id', 'item_id', 'timestamp', 'label']"
      ]
     },
     "execution_count": 107,
     "metadata": {},
     "output_type": "execute_result"
    }
   ],
   "source": [
    "train_data.dataset"
   ]
  },
  {
   "cell_type": "code",
   "execution_count": 162,
   "id": "732c656a",
   "metadata": {
    "ExecuteTime": {
     "end_time": "2022-12-26T14:36:55.188639Z",
     "start_time": "2022-12-26T14:36:55.184505Z"
    }
   },
   "outputs": [
    {
     "data": {
      "text/plain": [
       "\u001b[1;35mtrain_data\u001b[0m\n",
       "\u001b[1;34mThe number of users\u001b[0m: 31361\n",
       "\u001b[1;34mAverage actions of users\u001b[0m: nan\n",
       "\u001b[1;34mThe number of items\u001b[0m: 6808\n",
       "\u001b[1;34mAverage actions of items\u001b[0m: nan\n",
       "\u001b[1;34mThe number of inters\u001b[0m: 0\n",
       "\u001b[1;34mThe sparsity of the dataset\u001b[0m: 100.0%\n",
       "\u001b[1;34mRemain Fields\u001b[0m: ['user_id', 'item_id', 'timestamp', 'label']"
      ]
     },
     "execution_count": 162,
     "metadata": {},
     "output_type": "execute_result"
    }
   ],
   "source": [
    "valid_data.dataset"
   ]
  },
  {
   "cell_type": "code",
   "execution_count": 161,
   "id": "2f345e1d",
   "metadata": {
    "ExecuteTime": {
     "end_time": "2022-12-26T14:36:47.987316Z",
     "start_time": "2022-12-26T14:36:47.982642Z"
    }
   },
   "outputs": [
    {
     "name": "stderr",
     "output_type": "stream",
     "text": [
      "/opt/conda/lib/python3.8/site-packages/numpy/core/fromnumeric.py:3474: RuntimeWarning: Mean of empty slice.\n",
      "  return _methods._mean(a, axis=axis, dtype=dtype,\n",
      "/opt/conda/lib/python3.8/site-packages/numpy/core/_methods.py:189: RuntimeWarning: invalid value encountered in double_scalars\n",
      "  ret = ret.dtype.type(ret / rcount)\n"
     ]
    },
    {
     "data": {
      "text/plain": [
       "\u001b[1;35mtrain_data\u001b[0m\n",
       "\u001b[1;34mThe number of users\u001b[0m: 31361\n",
       "\u001b[1;34mAverage actions of users\u001b[0m: nan\n",
       "\u001b[1;34mThe number of items\u001b[0m: 6808\n",
       "\u001b[1;34mAverage actions of items\u001b[0m: nan\n",
       "\u001b[1;34mThe number of inters\u001b[0m: 0\n",
       "\u001b[1;34mThe sparsity of the dataset\u001b[0m: 100.0%\n",
       "\u001b[1;34mRemain Fields\u001b[0m: ['user_id', 'item_id', 'timestamp', 'label']"
      ]
     },
     "execution_count": 161,
     "metadata": {},
     "output_type": "execute_result"
    }
   ],
   "source": [
    "test_data.dataset"
   ]
  },
  {
   "cell_type": "markdown",
   "id": "a62b4df6",
   "metadata": {},
   "source": [
    "## sub 파일 train_dataset.inter로 쓰기"
   ]
  },
  {
   "cell_type": "code",
   "execution_count": 143,
   "id": "a72411b9",
   "metadata": {
    "ExecuteTime": {
     "end_time": "2022-12-25T09:31:57.007523Z",
     "start_time": "2022-12-25T09:31:56.639054Z"
    }
   },
   "outputs": [],
   "source": [
    "sub = pd.DataFrame(result, columns=[\"user\", \"item\"])"
   ]
  },
  {
   "cell_type": "code",
   "execution_count": 145,
   "id": "a8aa066b",
   "metadata": {
    "ExecuteTime": {
     "end_time": "2022-12-25T09:32:21.774651Z",
     "start_time": "2022-12-25T09:32:21.742090Z"
    }
   },
   "outputs": [],
   "source": [
    "sub.user = sub.user.map(uidx2user)"
   ]
  },
  {
   "cell_type": "code",
   "execution_count": 146,
   "id": "160306f8",
   "metadata": {
    "ExecuteTime": {
     "end_time": "2022-12-25T09:32:22.503204Z",
     "start_time": "2022-12-25T09:32:22.488550Z"
    }
   },
   "outputs": [],
   "source": [
    "sub.item = sub.item.map(iidx2item)"
   ]
  },
  {
   "cell_type": "code",
   "execution_count": 147,
   "id": "ca19ebba",
   "metadata": {
    "ExecuteTime": {
     "end_time": "2022-12-25T09:32:23.909534Z",
     "start_time": "2022-12-25T09:32:23.900913Z"
    }
   },
   "outputs": [
    {
     "data": {
      "text/html": [
       "<div>\n",
       "<style scoped>\n",
       "    .dataframe tbody tr th:only-of-type {\n",
       "        vertical-align: middle;\n",
       "    }\n",
       "\n",
       "    .dataframe tbody tr th {\n",
       "        vertical-align: top;\n",
       "    }\n",
       "\n",
       "    .dataframe thead th {\n",
       "        text-align: right;\n",
       "    }\n",
       "</style>\n",
       "<table border=\"1\" class=\"dataframe\">\n",
       "  <thead>\n",
       "    <tr style=\"text-align: right;\">\n",
       "      <th></th>\n",
       "      <th>user</th>\n",
       "      <th>item</th>\n",
       "    </tr>\n",
       "  </thead>\n",
       "  <tbody>\n",
       "    <tr>\n",
       "      <th>0</th>\n",
       "      <td>11</td>\n",
       "      <td>4370</td>\n",
       "    </tr>\n",
       "    <tr>\n",
       "      <th>1</th>\n",
       "      <td>11</td>\n",
       "      <td>4886</td>\n",
       "    </tr>\n",
       "    <tr>\n",
       "      <th>2</th>\n",
       "      <td>11</td>\n",
       "      <td>47</td>\n",
       "    </tr>\n",
       "    <tr>\n",
       "      <th>3</th>\n",
       "      <td>11</td>\n",
       "      <td>32587</td>\n",
       "    </tr>\n",
       "    <tr>\n",
       "      <th>4</th>\n",
       "      <td>11</td>\n",
       "      <td>40815</td>\n",
       "    </tr>\n",
       "    <tr>\n",
       "      <th>...</th>\n",
       "      <td>...</td>\n",
       "      <td>...</td>\n",
       "    </tr>\n",
       "    <tr>\n",
       "      <th>627195</th>\n",
       "      <td>138493</td>\n",
       "      <td>4720</td>\n",
       "    </tr>\n",
       "    <tr>\n",
       "      <th>627196</th>\n",
       "      <td>138493</td>\n",
       "      <td>293</td>\n",
       "    </tr>\n",
       "    <tr>\n",
       "      <th>627197</th>\n",
       "      <td>138493</td>\n",
       "      <td>2174</td>\n",
       "    </tr>\n",
       "    <tr>\n",
       "      <th>627198</th>\n",
       "      <td>138493</td>\n",
       "      <td>4848</td>\n",
       "    </tr>\n",
       "    <tr>\n",
       "      <th>627199</th>\n",
       "      <td>138493</td>\n",
       "      <td>4963</td>\n",
       "    </tr>\n",
       "  </tbody>\n",
       "</table>\n",
       "<p>627200 rows × 2 columns</p>\n",
       "</div>"
      ],
      "text/plain": [
       "          user   item\n",
       "0           11   4370\n",
       "1           11   4886\n",
       "2           11     47\n",
       "3           11  32587\n",
       "4           11  40815\n",
       "...        ...    ...\n",
       "627195  138493   4720\n",
       "627196  138493    293\n",
       "627197  138493   2174\n",
       "627198  138493   4848\n",
       "627199  138493   4963\n",
       "\n",
       "[627200 rows x 2 columns]"
      ]
     },
     "execution_count": 147,
     "metadata": {},
     "output_type": "execute_result"
    }
   ],
   "source": [
    "sub"
   ]
  },
  {
   "cell_type": "code",
   "execution_count": 141,
   "id": "08f0e0e6",
   "metadata": {
    "ExecuteTime": {
     "end_time": "2022-12-25T09:31:13.811502Z",
     "start_time": "2022-12-25T09:31:13.801881Z"
    }
   },
   "outputs": [
    {
     "data": {
      "text/html": [
       "<div>\n",
       "<style scoped>\n",
       "    .dataframe tbody tr th:only-of-type {\n",
       "        vertical-align: middle;\n",
       "    }\n",
       "\n",
       "    .dataframe tbody tr th {\n",
       "        vertical-align: top;\n",
       "    }\n",
       "\n",
       "    .dataframe thead th {\n",
       "        text-align: right;\n",
       "    }\n",
       "</style>\n",
       "<table border=\"1\" class=\"dataframe\">\n",
       "  <thead>\n",
       "    <tr style=\"text-align: right;\">\n",
       "      <th></th>\n",
       "      <th>user_id:token</th>\n",
       "      <th>item_id:token</th>\n",
       "      <th>timestamp:float</th>\n",
       "    </tr>\n",
       "  </thead>\n",
       "  <tbody>\n",
       "    <tr>\n",
       "      <th>0</th>\n",
       "      <td>0</td>\n",
       "      <td>2381</td>\n",
       "      <td>NaN</td>\n",
       "    </tr>\n",
       "    <tr>\n",
       "      <th>1</th>\n",
       "      <td>0</td>\n",
       "      <td>2619</td>\n",
       "      <td>NaN</td>\n",
       "    </tr>\n",
       "    <tr>\n",
       "      <th>2</th>\n",
       "      <td>0</td>\n",
       "      <td>41</td>\n",
       "      <td>NaN</td>\n",
       "    </tr>\n",
       "    <tr>\n",
       "      <th>3</th>\n",
       "      <td>0</td>\n",
       "      <td>4581</td>\n",
       "      <td>NaN</td>\n",
       "    </tr>\n",
       "    <tr>\n",
       "      <th>4</th>\n",
       "      <td>0</td>\n",
       "      <td>4790</td>\n",
       "      <td>NaN</td>\n",
       "    </tr>\n",
       "    <tr>\n",
       "      <th>...</th>\n",
       "      <td>...</td>\n",
       "      <td>...</td>\n",
       "      <td>...</td>\n",
       "    </tr>\n",
       "    <tr>\n",
       "      <th>627195</th>\n",
       "      <td>31359</td>\n",
       "      <td>2541</td>\n",
       "      <td>NaN</td>\n",
       "    </tr>\n",
       "    <tr>\n",
       "      <th>627196</th>\n",
       "      <td>31359</td>\n",
       "      <td>178</td>\n",
       "      <td>NaN</td>\n",
       "    </tr>\n",
       "    <tr>\n",
       "      <th>627197</th>\n",
       "      <td>31359</td>\n",
       "      <td>1206</td>\n",
       "      <td>NaN</td>\n",
       "    </tr>\n",
       "    <tr>\n",
       "      <th>627198</th>\n",
       "      <td>31359</td>\n",
       "      <td>2603</td>\n",
       "      <td>NaN</td>\n",
       "    </tr>\n",
       "    <tr>\n",
       "      <th>627199</th>\n",
       "      <td>31359</td>\n",
       "      <td>2653</td>\n",
       "      <td>NaN</td>\n",
       "    </tr>\n",
       "  </tbody>\n",
       "</table>\n",
       "<p>627200 rows × 3 columns</p>\n",
       "</div>"
      ],
      "text/plain": [
       "        user_id:token  item_id:token  timestamp:float\n",
       "0                   0           2381              NaN\n",
       "1                   0           2619              NaN\n",
       "2                   0             41              NaN\n",
       "3                   0           4581              NaN\n",
       "4                   0           4790              NaN\n",
       "...               ...            ...              ...\n",
       "627195          31359           2541              NaN\n",
       "627196          31359            178              NaN\n",
       "627197          31359           1206              NaN\n",
       "627198          31359           2603              NaN\n",
       "627199          31359           2653              NaN\n",
       "\n",
       "[627200 rows x 3 columns]"
      ]
     },
     "execution_count": 141,
     "metadata": {},
     "output_type": "execute_result"
    }
   ],
   "source": [
    "sub"
   ]
  },
  {
   "cell_type": "code",
   "execution_count": null,
   "id": "6e617b88",
   "metadata": {
    "ExecuteTime": {
     "end_time": "2022-12-25T05:28:23.123705Z",
     "start_time": "2022-12-25T05:28:21.744606Z"
    }
   },
   "outputs": [],
   "source": [
    "sub['time']=np.nan\n",
    "\n",
    "sub.columns = ['user_id:token','item_id:token','timestamp:float']\n",
    "!mkdir dataset/ease_data20\n",
    "sub.to_csv(\"dataset/ease_data20/ease_data20.inter\",sep='\\t',index=False)"
   ]
  },
  {
   "cell_type": "code",
   "execution_count": null,
   "id": "920d583f",
   "metadata": {},
   "outputs": [],
   "source": []
  },
  {
   "cell_type": "markdown",
   "id": "7b21b842",
   "metadata": {},
   "source": [
    "## full_sort_topk"
   ]
  },
  {
   "cell_type": "code",
   "execution_count": 181,
   "id": "014ab717",
   "metadata": {
    "ExecuteTime": {
     "end_time": "2022-12-26T14:41:37.943626Z",
     "start_time": "2022-12-26T14:41:37.934219Z"
    }
   },
   "outputs": [
    {
     "data": {
      "text/html": [
       "<div>\n",
       "<style scoped>\n",
       "    .dataframe tbody tr th:only-of-type {\n",
       "        vertical-align: middle;\n",
       "    }\n",
       "\n",
       "    .dataframe tbody tr th {\n",
       "        vertical-align: top;\n",
       "    }\n",
       "\n",
       "    .dataframe thead th {\n",
       "        text-align: right;\n",
       "    }\n",
       "</style>\n",
       "<table border=\"1\" class=\"dataframe\">\n",
       "  <thead>\n",
       "    <tr style=\"text-align: right;\">\n",
       "      <th></th>\n",
       "      <th>user</th>\n",
       "      <th>item</th>\n",
       "      <th>time</th>\n",
       "    </tr>\n",
       "  </thead>\n",
       "  <tbody>\n",
       "    <tr>\n",
       "      <th>0</th>\n",
       "      <td>0</td>\n",
       "      <td>2505</td>\n",
       "      <td>1230782529</td>\n",
       "    </tr>\n",
       "    <tr>\n",
       "      <th>1</th>\n",
       "      <td>0</td>\n",
       "      <td>109</td>\n",
       "      <td>1230782534</td>\n",
       "    </tr>\n",
       "    <tr>\n",
       "      <th>2</th>\n",
       "      <td>0</td>\n",
       "      <td>319</td>\n",
       "      <td>1230782539</td>\n",
       "    </tr>\n",
       "    <tr>\n",
       "      <th>3</th>\n",
       "      <td>0</td>\n",
       "      <td>368</td>\n",
       "      <td>1230782542</td>\n",
       "    </tr>\n",
       "    <tr>\n",
       "      <th>4</th>\n",
       "      <td>0</td>\n",
       "      <td>1183</td>\n",
       "      <td>1230782563</td>\n",
       "    </tr>\n",
       "    <tr>\n",
       "      <th>...</th>\n",
       "      <td>...</td>\n",
       "      <td>...</td>\n",
       "      <td>...</td>\n",
       "    </tr>\n",
       "    <tr>\n",
       "      <th>5154466</th>\n",
       "      <td>31359</td>\n",
       "      <td>4882</td>\n",
       "      <td>1260209449</td>\n",
       "    </tr>\n",
       "    <tr>\n",
       "      <th>5154467</th>\n",
       "      <td>31359</td>\n",
       "      <td>2652</td>\n",
       "      <td>1260209482</td>\n",
       "    </tr>\n",
       "    <tr>\n",
       "      <th>5154468</th>\n",
       "      <td>31359</td>\n",
       "      <td>5768</td>\n",
       "      <td>1260209720</td>\n",
       "    </tr>\n",
       "    <tr>\n",
       "      <th>5154469</th>\n",
       "      <td>31359</td>\n",
       "      <td>4791</td>\n",
       "      <td>1260209726</td>\n",
       "    </tr>\n",
       "    <tr>\n",
       "      <th>5154470</th>\n",
       "      <td>31359</td>\n",
       "      <td>4363</td>\n",
       "      <td>1260209807</td>\n",
       "    </tr>\n",
       "  </tbody>\n",
       "</table>\n",
       "<p>5154471 rows × 3 columns</p>\n",
       "</div>"
      ],
      "text/plain": [
       "          user  item        time\n",
       "0            0  2505  1230782529\n",
       "1            0   109  1230782534\n",
       "2            0   319  1230782539\n",
       "3            0   368  1230782542\n",
       "4            0  1183  1230782563\n",
       "...        ...   ...         ...\n",
       "5154466  31359  4882  1260209449\n",
       "5154467  31359  2652  1260209482\n",
       "5154468  31359  5768  1260209720\n",
       "5154469  31359  4791  1260209726\n",
       "5154470  31359  4363  1260209807\n",
       "\n",
       "[5154471 rows x 3 columns]"
      ]
     },
     "execution_count": 181,
     "metadata": {},
     "output_type": "execute_result"
    }
   ],
   "source": [
    "train"
   ]
  },
  {
   "cell_type": "code",
   "execution_count": 167,
   "id": "d3665e0a",
   "metadata": {
    "ExecuteTime": {
     "end_time": "2022-12-26T14:38:11.707044Z",
     "start_time": "2022-12-26T14:38:11.704135Z"
    }
   },
   "outputs": [],
   "source": [
    "config['eval_args']['split']['RS']=[8,1,1]\n",
    "\n",
    "dataset = create_dataset(config)\n",
    "train_data, valid_data, test_data = data_preparation(config, dataset)"
   ]
  },
  {
   "cell_type": "code",
   "execution_count": 170,
   "id": "6cf22884",
   "metadata": {
    "ExecuteTime": {
     "end_time": "2022-12-26T14:39:08.681951Z",
     "start_time": "2022-12-26T14:39:08.509974Z"
    }
   },
   "outputs": [
    {
     "data": {
      "text/plain": [
       "\u001b[1;35mtrain_data\u001b[0m\n",
       "\u001b[1;34mThe number of users\u001b[0m: 31361\n",
       "\u001b[1;34mAverage actions of users\u001b[0m: 15.981855867346939\n",
       "\u001b[1;34mThe number of items\u001b[0m: 6808\n",
       "\u001b[1;34mAverage actions of items\u001b[0m: 73.68288738606292\n",
       "\u001b[1;34mThe number of inters\u001b[0m: 501191\n",
       "\u001b[1;34mThe sparsity of the dataset\u001b[0m: 99.76525637106212%\n",
       "\u001b[1;34mRemain Fields\u001b[0m: ['user_id', 'item_id', 'timestamp', 'label']"
      ]
     },
     "execution_count": 170,
     "metadata": {},
     "output_type": "execute_result"
    }
   ],
   "source": [
    "test_data.dataset"
   ]
  },
  {
   "cell_type": "code",
   "execution_count": 171,
   "id": "ccc0dee9",
   "metadata": {
    "ExecuteTime": {
     "end_time": "2022-12-26T14:39:10.004969Z",
     "start_time": "2022-12-26T14:39:09.835232Z"
    }
   },
   "outputs": [
    {
     "data": {
      "text/plain": [
       "\u001b[1;35mtrain_data\u001b[0m\n",
       "\u001b[1;34mThe number of users\u001b[0m: 31361\n",
       "\u001b[1;34mAverage actions of users\u001b[0m: 15.981855867346939\n",
       "\u001b[1;34mThe number of items\u001b[0m: 6808\n",
       "\u001b[1;34mAverage actions of items\u001b[0m: 73.63958272112842\n",
       "\u001b[1;34mThe number of inters\u001b[0m: 501191\n",
       "\u001b[1;34mThe sparsity of the dataset\u001b[0m: 99.76525637106212%\n",
       "\u001b[1;34mRemain Fields\u001b[0m: ['user_id', 'item_id', 'timestamp', 'label']"
      ]
     },
     "execution_count": 171,
     "metadata": {},
     "output_type": "execute_result"
    }
   ],
   "source": [
    "valid_data.dataset"
   ]
  },
  {
   "cell_type": "code",
   "execution_count": 172,
   "id": "d1c060a1",
   "metadata": {
    "ExecuteTime": {
     "end_time": "2022-12-26T14:39:11.843425Z",
     "start_time": "2022-12-26T14:39:11.680820Z"
    }
   },
   "outputs": [
    {
     "name": "stderr",
     "output_type": "stream",
     "text": [
      "/opt/conda/lib/python3.8/site-packages/recbole/utils/case_study.py:39: UserWarning: To copy construct from a tensor, it is recommended to use sourceTensor.clone().detach() or sourceTensor.clone().detach().requires_grad_(True), rather than torch.tensor(sourceTensor).\n",
      "  uid_series = torch.tensor(uid_series)\n"
     ]
    },
    {
     "data": {
      "text/plain": [
       "torch.return_types.topk(\n",
       "values=tensor([[1.2123, 1.0779, 1.0422,  ..., 0.8778, 0.8621, 0.8151],\n",
       "        [0.7155, 0.6466, 0.6000,  ..., 0.5113, 0.4922, 0.4918],\n",
       "        [0.6584, 0.6403, 0.6158,  ..., 0.4063, 0.3620, 0.3482],\n",
       "        ...,\n",
       "        [0.5309, 0.4816, 0.4163,  ..., 0.3179, 0.2975, 0.2974],\n",
       "        [1.0423, 1.0132, 0.9649,  ..., 0.6417, 0.6149, 0.6103],\n",
       "        [0.8704, 0.7527, 0.6028,  ..., 0.4454, 0.4451, 0.4445]],\n",
       "       dtype=torch.float64),\n",
       "indices=tensor([[ 127,  118,  375,  ...,  113,  310,  485],\n",
       "        [ 272,   74,  723,  ..., 1328, 2481,  470],\n",
       "        [ 529,  605,  265,  ..., 1284,   83,  629],\n",
       "        ...,\n",
       "        [ 225,  219, 2278,  ...,  314,  342,   47],\n",
       "        [ 342,  632,  149,  ..., 1319,  159,  199],\n",
       "        [ 377,  210,  565,  ..., 1110,  313,  569]]))"
      ]
     },
     "execution_count": 172,
     "metadata": {},
     "output_type": "execute_result"
    }
   ],
   "source": [
    "full_sort_topk(data, model, test_data, 10, device=device)"
   ]
  },
  {
   "cell_type": "code",
   "execution_count": 173,
   "id": "0067cf13",
   "metadata": {
    "ExecuteTime": {
     "end_time": "2022-12-26T14:39:20.407147Z",
     "start_time": "2022-12-26T14:39:20.265232Z"
    }
   },
   "outputs": [
    {
     "name": "stderr",
     "output_type": "stream",
     "text": [
      "/opt/conda/lib/python3.8/site-packages/recbole/utils/case_study.py:39: UserWarning: To copy construct from a tensor, it is recommended to use sourceTensor.clone().detach() or sourceTensor.clone().detach().requires_grad_(True), rather than torch.tensor(sourceTensor).\n",
      "  uid_series = torch.tensor(uid_series)\n"
     ]
    },
    {
     "data": {
      "text/plain": [
       "torch.return_types.topk(\n",
       "values=tensor([[1.2131, 1.2123, 1.0963,  ..., 1.0033, 0.9646, 0.9450],\n",
       "        [0.8679, 0.8007, 0.7155,  ..., 0.5643, 0.5376, 0.5303],\n",
       "        [0.6584, 0.6403, 0.6158,  ..., 0.4063, 0.3620, 0.3482],\n",
       "        ...,\n",
       "        [0.5309, 0.4816, 0.4163,  ..., 0.3179, 0.2975, 0.2974],\n",
       "        [1.0423, 1.0132, 1.0013,  ..., 0.7582, 0.7536, 0.6992],\n",
       "        [0.8704, 0.7527, 0.6503,  ..., 0.4972, 0.4615, 0.4563]],\n",
       "       dtype=torch.float64),\n",
       "indices=tensor([[  41,  127,  126,  ...,   42,  271,   65],\n",
       "        [  62,  388,  272,  ...,  614, 1732,  204],\n",
       "        [ 529,  605,  265,  ..., 1284,   83,  629],\n",
       "        ...,\n",
       "        [ 225,  219, 2278,  ...,  314,  342,   47],\n",
       "        [ 342,  632,  669,  ...,  227,  141,  717],\n",
       "        [ 377,  210, 1099,  ...,  792, 1085,  207]]))"
      ]
     },
     "execution_count": 173,
     "metadata": {},
     "output_type": "execute_result"
    }
   ],
   "source": [
    "full_sort_topk(data, model, valid_data, 10, device=device)"
   ]
  },
  {
   "cell_type": "markdown",
   "id": "930b4730",
   "metadata": {},
   "source": [
    "### full_sort_topk에서 test_dataset의 역할 확인"
   ]
  },
  {
   "cell_type": "code",
   "execution_count": 222,
   "id": "8225b7e2",
   "metadata": {
    "ExecuteTime": {
     "end_time": "2022-12-26T14:50:24.168112Z",
     "start_time": "2022-12-26T14:49:50.496820Z"
    }
   },
   "outputs": [
    {
     "name": "stderr",
     "output_type": "stream",
     "text": [
      "/opt/conda/lib/python3.8/site-packages/recbole/utils/case_study.py:39: UserWarning: To copy construct from a tensor, it is recommended to use sourceTensor.clone().detach() or sourceTensor.clone().detach().requires_grad_(True), rather than torch.tensor(sourceTensor).\n",
      "  uid_series = torch.tensor(uid_series)\n"
     ]
    }
   ],
   "source": [
    "pred_list2 = None\n",
    "user_list2 = []\n",
    "from recbole.utils.case_study import full_sort_topk\n",
    "for data in tbar:\n",
    "    batch_pred_list2 = full_sort_topk(data, model, test_data, 47, device=device)[1]\n",
    "    batch_pred_list2 = batch_pred_list2.clone().detach().cpu().numpy()\n",
    "    if pred_list2 is None:\n",
    "        pred_list2 = batch_pred_list2\n",
    "        user_list2 = data.numpy()\n",
    "    else:\n",
    "        pred_list2 = np.append(pred_list2, batch_pred_list2, axis=0)\n",
    "        user_list2 = np.append(\n",
    "            user_list2, data.numpy(), axis=0\n",
    "        )\n",
    "tbar.close()"
   ]
  },
  {
   "cell_type": "code",
   "execution_count": 223,
   "id": "f16aac3d",
   "metadata": {
    "ExecuteTime": {
     "end_time": "2022-12-26T14:50:27.440518Z",
     "start_time": "2022-12-26T14:50:24.171080Z"
    }
   },
   "outputs": [],
   "source": [
    "# user별 item 추천 결과 하나로 합쳐주기\n",
    "result2 = []\n",
    "for user, pred in zip(user_list2, pred_list2):\n",
    "    for item in pred:\n",
    "        result2.append((int(user_id2token[user]), int(item_id2token[item])))"
   ]
  },
  {
   "cell_type": "code",
   "execution_count": 237,
   "id": "cb12acb9",
   "metadata": {
    "ExecuteTime": {
     "end_time": "2022-12-26T14:53:55.598821Z",
     "start_time": "2022-12-26T14:53:54.830080Z"
    }
   },
   "outputs": [],
   "source": [
    "sub2 = pd.DataFrame(result2, columns=[\"user\", \"item\"])"
   ]
  },
  {
   "cell_type": "code",
   "execution_count": null,
   "id": "b5de54a7",
   "metadata": {
    "ExecuteTime": {
     "end_time": "2022-12-26T14:53:55.752779Z",
     "start_time": "2022-12-26T14:53:55.600757Z"
    }
   },
   "outputs": [],
   "source": [
    "train_sub2 = train[(train.user==0) & (train.item.isin(sub2[sub2.user==0].item))].sort_values('item')\n",
    "print(train_sub2.shape)\n",
    "train_sub2"
   ]
  },
  {
   "cell_type": "code",
   "execution_count": null,
   "id": "b3d0b250",
   "metadata": {
    "ExecuteTime": {
     "end_time": "2022-12-26T14:53:55.783421Z",
     "start_time": "2022-12-26T14:53:55.755488Z"
    }
   },
   "outputs": [],
   "source": [
    "sub_sub2 = sub[(sub.user==0) & (sub.item.isin(sub2[sub2.user==0].item))].sort_values('item')\n",
    "print(sub_sub2.shape)\n",
    "sub_sub2"
   ]
  },
  {
   "cell_type": "code",
   "execution_count": 240,
   "id": "af66a71b",
   "metadata": {
    "ExecuteTime": {
     "end_time": "2022-12-26T14:53:55.789468Z",
     "start_time": "2022-12-26T14:53:55.785488Z"
    }
   },
   "outputs": [
    {
     "data": {
      "text/plain": [
       "set()"
      ]
     },
     "execution_count": 240,
     "metadata": {},
     "output_type": "execute_result"
    }
   ],
   "source": [
    "set(train_sub2.item).intersection(set(sub_sub2.item))"
   ]
  },
  {
   "cell_type": "code",
   "execution_count": null,
   "id": "6b5b9130",
   "metadata": {
    "ExecuteTime": {
     "end_time": "2022-12-26T14:53:55.804906Z",
     "start_time": "2022-12-26T14:53:55.791049Z"
    }
   },
   "outputs": [],
   "source": [
    "sub2[sub2.user==0].sort_values('item')"
   ]
  },
  {
   "cell_type": "markdown",
   "id": "8532874a",
   "metadata": {},
   "source": [
    "### test dataset 전체로 수정"
   ]
  },
  {
   "cell_type": "code",
   "execution_count": 400,
   "id": "88db4f36",
   "metadata": {
    "ExecuteTime": {
     "end_time": "2022-12-26T17:25:16.166776Z",
     "start_time": "2022-12-26T17:24:24.953307Z"
    }
   },
   "outputs": [],
   "source": [
    "config['eval_args']['split']['RS']=[1,0,999999999]\n",
    "\n",
    "dataset = create_dataset(config)\n",
    "train_data, valid_data, test_data = data_preparation(config, dataset)"
   ]
  },
  {
   "cell_type": "code",
   "execution_count": 401,
   "id": "4eecb76b",
   "metadata": {
    "ExecuteTime": {
     "end_time": "2022-12-26T17:25:16.188037Z",
     "start_time": "2022-12-26T17:25:16.169638Z"
    }
   },
   "outputs": [
    {
     "data": {
      "text/plain": [
       "\u001b[1;35mtrain_data\u001b[0m\n",
       "\u001b[1;34mThe number of users\u001b[0m: 31361\n",
       "\u001b[1;34mAverage actions of users\u001b[0m: 1.0\n",
       "\u001b[1;34mThe number of items\u001b[0m: 6808\n",
       "\u001b[1;34mAverage actions of items\u001b[0m: 7.452471482889734\n",
       "\u001b[1;34mThe number of inters\u001b[0m: 31360\n",
       "\u001b[1;34mThe sparsity of the dataset\u001b[0m: 99.98531186672648%\n",
       "\u001b[1;34mRemain Fields\u001b[0m: ['user_id', 'item_id', 'timestamp', 'label']"
      ]
     },
     "execution_count": 401,
     "metadata": {},
     "output_type": "execute_result"
    }
   ],
   "source": [
    "train_data.dataset"
   ]
  },
  {
   "cell_type": "code",
   "execution_count": 402,
   "id": "a1a7a4f1",
   "metadata": {
    "ExecuteTime": {
     "end_time": "2022-12-26T17:25:17.927277Z",
     "start_time": "2022-12-26T17:25:16.190021Z"
    }
   },
   "outputs": [
    {
     "data": {
      "text/plain": [
       "\u001b[1;35mtrain_data\u001b[0m\n",
       "\u001b[1;34mThe number of users\u001b[0m: 31361\n",
       "\u001b[1;34mAverage actions of users\u001b[0m: 163.36450892857144\n",
       "\u001b[1;34mThe number of items\u001b[0m: 6808\n",
       "\u001b[1;34mAverage actions of items\u001b[0m: 752.6239165564859\n",
       "\u001b[1;34mThe number of inters\u001b[0m: 5123111\n",
       "\u001b[1;34mThe sparsity of the dataset\u001b[0m: 97.60048032069291%\n",
       "\u001b[1;34mRemain Fields\u001b[0m: ['user_id', 'item_id', 'timestamp', 'label']"
      ]
     },
     "execution_count": 402,
     "metadata": {},
     "output_type": "execute_result"
    }
   ],
   "source": [
    "test_data.dataset"
   ]
  },
  {
   "cell_type": "code",
   "execution_count": 403,
   "id": "eb0bbb50",
   "metadata": {
    "ExecuteTime": {
     "end_time": "2022-12-26T17:25:17.937270Z",
     "start_time": "2022-12-26T17:25:17.930390Z"
    }
   },
   "outputs": [
    {
     "data": {
      "text/plain": [
       "tensor([1])"
      ]
     },
     "execution_count": 403,
     "metadata": {},
     "output_type": "execute_result"
    }
   ],
   "source": [
    "data[:1]"
   ]
  },
  {
   "cell_type": "code",
   "execution_count": 419,
   "id": "c7f63746",
   "metadata": {
    "ExecuteTime": {
     "end_time": "2022-12-26T17:25:57.836327Z",
     "start_time": "2022-12-26T17:25:57.825884Z"
    }
   },
   "outputs": [
    {
     "name": "stderr",
     "output_type": "stream",
     "text": [
      "/opt/conda/lib/python3.8/site-packages/recbole/utils/case_study.py:39: UserWarning: To copy construct from a tensor, it is recommended to use sourceTensor.clone().detach() or sourceTensor.clone().detach().requires_grad_(True), rather than torch.tensor(sourceTensor).\n",
      "  uid_series = torch.tensor(uid_series)\n"
     ]
    }
   ],
   "source": [
    "pred_list3 = full_sort_topk(data[:1], model, test_data, 200, device=device)[1]\n",
    "\n",
    "result3 = []\n",
    "for item in pred_list3[0]:\n",
    "    result3.append((0, int(item_id2token[item])))\n",
    "\n",
    "sub3 = pd.DataFrame(result3, columns=[\"user\", \"item\"])"
   ]
  },
  {
   "cell_type": "code",
   "execution_count": 420,
   "id": "d50b5db3",
   "metadata": {
    "ExecuteTime": {
     "end_time": "2022-12-26T17:25:58.003581Z",
     "start_time": "2022-12-26T17:25:57.994656Z"
    }
   },
   "outputs": [
    {
     "data": {
      "text/html": [
       "<div>\n",
       "<style scoped>\n",
       "    .dataframe tbody tr th:only-of-type {\n",
       "        vertical-align: middle;\n",
       "    }\n",
       "\n",
       "    .dataframe tbody tr th {\n",
       "        vertical-align: top;\n",
       "    }\n",
       "\n",
       "    .dataframe thead th {\n",
       "        text-align: right;\n",
       "    }\n",
       "</style>\n",
       "<table border=\"1\" class=\"dataframe\">\n",
       "  <thead>\n",
       "    <tr style=\"text-align: right;\">\n",
       "      <th></th>\n",
       "      <th>user</th>\n",
       "      <th>item</th>\n",
       "    </tr>\n",
       "  </thead>\n",
       "  <tbody>\n",
       "    <tr>\n",
       "      <th>0</th>\n",
       "      <td>0</td>\n",
       "      <td>424</td>\n",
       "    </tr>\n",
       "    <tr>\n",
       "      <th>1</th>\n",
       "      <td>0</td>\n",
       "      <td>287</td>\n",
       "    </tr>\n",
       "    <tr>\n",
       "      <th>2</th>\n",
       "      <td>0</td>\n",
       "      <td>717</td>\n",
       "    </tr>\n",
       "    <tr>\n",
       "      <th>3</th>\n",
       "      <td>0</td>\n",
       "      <td>663</td>\n",
       "    </tr>\n",
       "    <tr>\n",
       "      <th>4</th>\n",
       "      <td>0</td>\n",
       "      <td>4659</td>\n",
       "    </tr>\n",
       "    <tr>\n",
       "      <th>...</th>\n",
       "      <td>...</td>\n",
       "      <td>...</td>\n",
       "    </tr>\n",
       "    <tr>\n",
       "      <th>195</th>\n",
       "      <td>0</td>\n",
       "      <td>5768</td>\n",
       "    </tr>\n",
       "    <tr>\n",
       "      <th>196</th>\n",
       "      <td>0</td>\n",
       "      <td>908</td>\n",
       "    </tr>\n",
       "    <tr>\n",
       "      <th>197</th>\n",
       "      <td>0</td>\n",
       "      <td>4717</td>\n",
       "    </tr>\n",
       "    <tr>\n",
       "      <th>198</th>\n",
       "      <td>0</td>\n",
       "      <td>5218</td>\n",
       "    </tr>\n",
       "    <tr>\n",
       "      <th>199</th>\n",
       "      <td>0</td>\n",
       "      <td>5665</td>\n",
       "    </tr>\n",
       "  </tbody>\n",
       "</table>\n",
       "<p>200 rows × 2 columns</p>\n",
       "</div>"
      ],
      "text/plain": [
       "     user  item\n",
       "0       0   424\n",
       "1       0   287\n",
       "2       0   717\n",
       "3       0   663\n",
       "4       0  4659\n",
       "..    ...   ...\n",
       "195     0  5768\n",
       "196     0   908\n",
       "197     0  4717\n",
       "198     0  5218\n",
       "199     0  5665\n",
       "\n",
       "[200 rows x 2 columns]"
      ]
     },
     "execution_count": 420,
     "metadata": {},
     "output_type": "execute_result"
    }
   ],
   "source": [
    "sub3"
   ]
  },
  {
   "cell_type": "code",
   "execution_count": 421,
   "id": "61d45cd1",
   "metadata": {
    "ExecuteTime": {
     "end_time": "2022-12-26T17:25:58.328067Z",
     "start_time": "2022-12-26T17:25:58.316846Z"
    }
   },
   "outputs": [
    {
     "data": {
      "text/plain": [
       "(376, 3)"
      ]
     },
     "execution_count": 421,
     "metadata": {},
     "output_type": "execute_result"
    }
   ],
   "source": [
    "train[train.user==0].shape"
   ]
  },
  {
   "cell_type": "code",
   "execution_count": 422,
   "id": "983eb809",
   "metadata": {
    "ExecuteTime": {
     "end_time": "2022-12-26T17:25:59.146143Z",
     "start_time": "2022-12-26T17:25:59.124600Z"
    }
   },
   "outputs": [
    {
     "name": "stdout",
     "output_type": "stream",
     "text": [
      "(12, 2)\n"
     ]
    },
    {
     "data": {
      "text/html": [
       "<div>\n",
       "<style scoped>\n",
       "    .dataframe tbody tr th:only-of-type {\n",
       "        vertical-align: middle;\n",
       "    }\n",
       "\n",
       "    .dataframe tbody tr th {\n",
       "        vertical-align: top;\n",
       "    }\n",
       "\n",
       "    .dataframe thead th {\n",
       "        text-align: right;\n",
       "    }\n",
       "</style>\n",
       "<table border=\"1\" class=\"dataframe\">\n",
       "  <thead>\n",
       "    <tr style=\"text-align: right;\">\n",
       "      <th></th>\n",
       "      <th>user</th>\n",
       "      <th>item</th>\n",
       "    </tr>\n",
       "  </thead>\n",
       "  <tbody>\n",
       "    <tr>\n",
       "      <th>10</th>\n",
       "      <td>0</td>\n",
       "      <td>1</td>\n",
       "    </tr>\n",
       "    <tr>\n",
       "      <th>2</th>\n",
       "      <td>0</td>\n",
       "      <td>41</td>\n",
       "    </tr>\n",
       "    <tr>\n",
       "      <th>9</th>\n",
       "      <td>0</td>\n",
       "      <td>1284</td>\n",
       "    </tr>\n",
       "    <tr>\n",
       "      <th>0</th>\n",
       "      <td>0</td>\n",
       "      <td>2381</td>\n",
       "    </tr>\n",
       "    <tr>\n",
       "      <th>1</th>\n",
       "      <td>0</td>\n",
       "      <td>2619</td>\n",
       "    </tr>\n",
       "    <tr>\n",
       "      <th>5</th>\n",
       "      <td>0</td>\n",
       "      <td>3663</td>\n",
       "    </tr>\n",
       "    <tr>\n",
       "      <th>7</th>\n",
       "      <td>0</td>\n",
       "      <td>3679</td>\n",
       "    </tr>\n",
       "    <tr>\n",
       "      <th>8</th>\n",
       "      <td>0</td>\n",
       "      <td>4101</td>\n",
       "    </tr>\n",
       "    <tr>\n",
       "      <th>3</th>\n",
       "      <td>0</td>\n",
       "      <td>4581</td>\n",
       "    </tr>\n",
       "    <tr>\n",
       "      <th>6</th>\n",
       "      <td>0</td>\n",
       "      <td>4597</td>\n",
       "    </tr>\n",
       "    <tr>\n",
       "      <th>11</th>\n",
       "      <td>0</td>\n",
       "      <td>4717</td>\n",
       "    </tr>\n",
       "    <tr>\n",
       "      <th>4</th>\n",
       "      <td>0</td>\n",
       "      <td>4790</td>\n",
       "    </tr>\n",
       "  </tbody>\n",
       "</table>\n",
       "</div>"
      ],
      "text/plain": [
       "    user  item\n",
       "10     0     1\n",
       "2      0    41\n",
       "9      0  1284\n",
       "0      0  2381\n",
       "1      0  2619\n",
       "5      0  3663\n",
       "7      0  3679\n",
       "8      0  4101\n",
       "3      0  4581\n",
       "6      0  4597\n",
       "11     0  4717\n",
       "4      0  4790"
      ]
     },
     "execution_count": 422,
     "metadata": {},
     "output_type": "execute_result"
    }
   ],
   "source": [
    "## 기존 EASE 결과에 포함되는 정도\n",
    "sub_sub3 = sub[(sub.user==0) & (sub.item.isin(sub3[sub3.user==0].item))].sort_values('item')\n",
    "print(sub_sub3.shape)\n",
    "sub_sub3"
   ]
  },
  {
   "cell_type": "code",
   "execution_count": 423,
   "id": "c92171a7",
   "metadata": {
    "ExecuteTime": {
     "end_time": "2022-12-26T17:25:59.926233Z",
     "start_time": "2022-12-26T17:25:59.817129Z"
    }
   },
   "outputs": [
    {
     "name": "stdout",
     "output_type": "stream",
     "text": [
      "(188, 3)\n"
     ]
    },
    {
     "data": {
      "text/html": [
       "<div>\n",
       "<style scoped>\n",
       "    .dataframe tbody tr th:only-of-type {\n",
       "        vertical-align: middle;\n",
       "    }\n",
       "\n",
       "    .dataframe tbody tr th {\n",
       "        vertical-align: top;\n",
       "    }\n",
       "\n",
       "    .dataframe thead th {\n",
       "        text-align: right;\n",
       "    }\n",
       "</style>\n",
       "<table border=\"1\" class=\"dataframe\">\n",
       "  <thead>\n",
       "    <tr style=\"text-align: right;\">\n",
       "      <th></th>\n",
       "      <th>user</th>\n",
       "      <th>item</th>\n",
       "      <th>time</th>\n",
       "    </tr>\n",
       "  </thead>\n",
       "  <tbody>\n",
       "    <tr>\n",
       "      <th>267</th>\n",
       "      <td>0</td>\n",
       "      <td>0</td>\n",
       "      <td>1230858821</td>\n",
       "    </tr>\n",
       "    <tr>\n",
       "      <th>33</th>\n",
       "      <td>0</td>\n",
       "      <td>18</td>\n",
       "      <td>1230783704</td>\n",
       "    </tr>\n",
       "    <tr>\n",
       "      <th>17</th>\n",
       "      <td>0</td>\n",
       "      <td>31</td>\n",
       "      <td>1230783095</td>\n",
       "    </tr>\n",
       "    <tr>\n",
       "      <th>205</th>\n",
       "      <td>0</td>\n",
       "      <td>76</td>\n",
       "      <td>1230853748</td>\n",
       "    </tr>\n",
       "    <tr>\n",
       "      <th>61</th>\n",
       "      <td>0</td>\n",
       "      <td>92</td>\n",
       "      <td>1230785343</td>\n",
       "    </tr>\n",
       "    <tr>\n",
       "      <th>...</th>\n",
       "      <td>...</td>\n",
       "      <td>...</td>\n",
       "      <td>...</td>\n",
       "    </tr>\n",
       "    <tr>\n",
       "      <th>86</th>\n",
       "      <td>0</td>\n",
       "      <td>5522</td>\n",
       "      <td>1230787565</td>\n",
       "    </tr>\n",
       "    <tr>\n",
       "      <th>343</th>\n",
       "      <td>0</td>\n",
       "      <td>5547</td>\n",
       "      <td>1251170254</td>\n",
       "    </tr>\n",
       "    <tr>\n",
       "      <th>346</th>\n",
       "      <td>0</td>\n",
       "      <td>5665</td>\n",
       "      <td>1251170364</td>\n",
       "    </tr>\n",
       "    <tr>\n",
       "      <th>350</th>\n",
       "      <td>0</td>\n",
       "      <td>5741</td>\n",
       "      <td>1251170472</td>\n",
       "    </tr>\n",
       "    <tr>\n",
       "      <th>331</th>\n",
       "      <td>0</td>\n",
       "      <td>5768</td>\n",
       "      <td>1251169682</td>\n",
       "    </tr>\n",
       "  </tbody>\n",
       "</table>\n",
       "<p>188 rows × 3 columns</p>\n",
       "</div>"
      ],
      "text/plain": [
       "     user  item        time\n",
       "267     0     0  1230858821\n",
       "33      0    18  1230783704\n",
       "17      0    31  1230783095\n",
       "205     0    76  1230853748\n",
       "61      0    92  1230785343\n",
       "..    ...   ...         ...\n",
       "86      0  5522  1230787565\n",
       "343     0  5547  1251170254\n",
       "346     0  5665  1251170364\n",
       "350     0  5741  1251170472\n",
       "331     0  5768  1251169682\n",
       "\n",
       "[188 rows x 3 columns]"
      ]
     },
     "execution_count": 423,
     "metadata": {},
     "output_type": "execute_result"
    }
   ],
   "source": [
    "# train 결과에 포함되는 정도\n",
    "train_sub3 = train[(train.user==0) & (train.item.isin(sub3[sub3.user==0].item))].sort_values('item')\n",
    "print(train_sub3.shape)\n",
    "train_sub3"
   ]
  },
  {
   "cell_type": "markdown",
   "id": "7dfa5875",
   "metadata": {},
   "source": [
    "### test dataset을 매우적게 한 유저 예측"
   ]
  },
  {
   "cell_type": "code",
   "execution_count": 276,
   "id": "e0816601",
   "metadata": {
    "ExecuteTime": {
     "end_time": "2022-12-26T15:23:13.777673Z",
     "start_time": "2022-12-26T15:22:31.719257Z"
    }
   },
   "outputs": [],
   "source": [
    "config['eval_args']['split']['RS']=[999999,0,1]\n",
    "\n",
    "dataset = create_dataset(config)\n",
    "train_data, valid_data, test_data = data_preparation(config, dataset)"
   ]
  },
  {
   "cell_type": "code",
   "execution_count": 277,
   "id": "d83779c9",
   "metadata": {
    "ExecuteTime": {
     "end_time": "2022-12-26T15:23:15.537784Z",
     "start_time": "2022-12-26T15:23:13.782746Z"
    }
   },
   "outputs": [
    {
     "data": {
      "text/plain": [
       "\u001b[1;35mtrain_data\u001b[0m\n",
       "\u001b[1;34mThe number of users\u001b[0m: 31361\n",
       "\u001b[1;34mAverage actions of users\u001b[0m: 163.36450892857144\n",
       "\u001b[1;34mThe number of items\u001b[0m: 6808\n",
       "\u001b[1;34mAverage actions of items\u001b[0m: 752.6239165564859\n",
       "\u001b[1;34mThe number of inters\u001b[0m: 5123111\n",
       "\u001b[1;34mThe sparsity of the dataset\u001b[0m: 97.60048032069291%\n",
       "\u001b[1;34mRemain Fields\u001b[0m: ['user_id', 'item_id', 'timestamp', 'label']"
      ]
     },
     "execution_count": 277,
     "metadata": {},
     "output_type": "execute_result"
    }
   ],
   "source": [
    "train_data.dataset"
   ]
  },
  {
   "cell_type": "code",
   "execution_count": 278,
   "id": "e1be853e",
   "metadata": {
    "ExecuteTime": {
     "end_time": "2022-12-26T15:23:15.557616Z",
     "start_time": "2022-12-26T15:23:15.539781Z"
    }
   },
   "outputs": [
    {
     "data": {
      "text/plain": [
       "\u001b[1;35mtrain_data\u001b[0m\n",
       "\u001b[1;34mThe number of users\u001b[0m: 31361\n",
       "\u001b[1;34mAverage actions of users\u001b[0m: 1.0\n",
       "\u001b[1;34mThe number of items\u001b[0m: 6808\n",
       "\u001b[1;34mAverage actions of items\u001b[0m: 7.5675675675675675\n",
       "\u001b[1;34mThe number of inters\u001b[0m: 31360\n",
       "\u001b[1;34mThe sparsity of the dataset\u001b[0m: 99.98531186672648%\n",
       "\u001b[1;34mRemain Fields\u001b[0m: ['user_id', 'item_id', 'timestamp', 'label']"
      ]
     },
     "execution_count": 278,
     "metadata": {},
     "output_type": "execute_result"
    }
   ],
   "source": [
    "test_data.dataset"
   ]
  },
  {
   "cell_type": "code",
   "execution_count": 387,
   "id": "434f39da",
   "metadata": {
    "ExecuteTime": {
     "end_time": "2022-12-26T17:22:56.102746Z",
     "start_time": "2022-12-26T17:22:56.086965Z"
    }
   },
   "outputs": [
    {
     "name": "stdout",
     "output_type": "stream",
     "text": [
      "tensor([1])\n"
     ]
    },
    {
     "name": "stderr",
     "output_type": "stream",
     "text": [
      "/opt/conda/lib/python3.8/site-packages/recbole/utils/case_study.py:39: UserWarning: To copy construct from a tensor, it is recommended to use sourceTensor.clone().detach() or sourceTensor.clone().detach().requires_grad_(True), rather than torch.tensor(sourceTensor).\n",
      "  uid_series = torch.tensor(uid_series)\n"
     ]
    },
    {
     "data": {
      "text/html": [
       "<div>\n",
       "<style scoped>\n",
       "    .dataframe tbody tr th:only-of-type {\n",
       "        vertical-align: middle;\n",
       "    }\n",
       "\n",
       "    .dataframe tbody tr th {\n",
       "        vertical-align: top;\n",
       "    }\n",
       "\n",
       "    .dataframe thead th {\n",
       "        text-align: right;\n",
       "    }\n",
       "</style>\n",
       "<table border=\"1\" class=\"dataframe\">\n",
       "  <thead>\n",
       "    <tr style=\"text-align: right;\">\n",
       "      <th></th>\n",
       "      <th>user</th>\n",
       "      <th>item</th>\n",
       "    </tr>\n",
       "  </thead>\n",
       "  <tbody>\n",
       "    <tr>\n",
       "      <th>0</th>\n",
       "      <td>0</td>\n",
       "      <td>2381</td>\n",
       "    </tr>\n",
       "    <tr>\n",
       "      <th>1</th>\n",
       "      <td>0</td>\n",
       "      <td>916</td>\n",
       "    </tr>\n",
       "    <tr>\n",
       "      <th>2</th>\n",
       "      <td>0</td>\n",
       "      <td>2619</td>\n",
       "    </tr>\n",
       "    <tr>\n",
       "      <th>3</th>\n",
       "      <td>0</td>\n",
       "      <td>41</td>\n",
       "    </tr>\n",
       "    <tr>\n",
       "      <th>4</th>\n",
       "      <td>0</td>\n",
       "      <td>4581</td>\n",
       "    </tr>\n",
       "    <tr>\n",
       "      <th>5</th>\n",
       "      <td>0</td>\n",
       "      <td>4790</td>\n",
       "    </tr>\n",
       "    <tr>\n",
       "      <th>6</th>\n",
       "      <td>0</td>\n",
       "      <td>3663</td>\n",
       "    </tr>\n",
       "    <tr>\n",
       "      <th>7</th>\n",
       "      <td>0</td>\n",
       "      <td>4597</td>\n",
       "    </tr>\n",
       "    <tr>\n",
       "      <th>8</th>\n",
       "      <td>0</td>\n",
       "      <td>3679</td>\n",
       "    </tr>\n",
       "    <tr>\n",
       "      <th>9</th>\n",
       "      <td>0</td>\n",
       "      <td>4101</td>\n",
       "    </tr>\n",
       "    <tr>\n",
       "      <th>10</th>\n",
       "      <td>0</td>\n",
       "      <td>1284</td>\n",
       "    </tr>\n",
       "    <tr>\n",
       "      <th>11</th>\n",
       "      <td>0</td>\n",
       "      <td>1</td>\n",
       "    </tr>\n",
       "    <tr>\n",
       "      <th>12</th>\n",
       "      <td>0</td>\n",
       "      <td>4717</td>\n",
       "    </tr>\n",
       "    <tr>\n",
       "      <th>13</th>\n",
       "      <td>0</td>\n",
       "      <td>1658</td>\n",
       "    </tr>\n",
       "    <tr>\n",
       "      <th>14</th>\n",
       "      <td>0</td>\n",
       "      <td>2036</td>\n",
       "    </tr>\n",
       "    <tr>\n",
       "      <th>15</th>\n",
       "      <td>0</td>\n",
       "      <td>2187</td>\n",
       "    </tr>\n",
       "    <tr>\n",
       "      <th>16</th>\n",
       "      <td>0</td>\n",
       "      <td>2366</td>\n",
       "    </tr>\n",
       "    <tr>\n",
       "      <th>17</th>\n",
       "      <td>0</td>\n",
       "      <td>1206</td>\n",
       "    </tr>\n",
       "    <tr>\n",
       "      <th>18</th>\n",
       "      <td>0</td>\n",
       "      <td>177</td>\n",
       "    </tr>\n",
       "    <tr>\n",
       "      <th>19</th>\n",
       "      <td>0</td>\n",
       "      <td>2614</td>\n",
       "    </tr>\n",
       "  </tbody>\n",
       "</table>\n",
       "</div>"
      ],
      "text/plain": [
       "    user  item\n",
       "0      0  2381\n",
       "1      0   916\n",
       "2      0  2619\n",
       "3      0    41\n",
       "4      0  4581\n",
       "5      0  4790\n",
       "6      0  3663\n",
       "7      0  4597\n",
       "8      0  3679\n",
       "9      0  4101\n",
       "10     0  1284\n",
       "11     0     1\n",
       "12     0  4717\n",
       "13     0  1658\n",
       "14     0  2036\n",
       "15     0  2187\n",
       "16     0  2366\n",
       "17     0  1206\n",
       "18     0   177\n",
       "19     0  2614"
      ]
     },
     "execution_count": 387,
     "metadata": {},
     "output_type": "execute_result"
    }
   ],
   "source": [
    "n=0 # n번 유저\n",
    "k=20 # top k 추천\n",
    "\n",
    "\n",
    "data=all_user_list[0]\n",
    "print(data[n:n+1])\n",
    "pred_list3 = full_sort_topk(data[n:n+1], model, test_data, k, device=device)[1]\n",
    "\n",
    "result3 = []\n",
    "for item in pred_list3[0]:\n",
    "    result3.append((n, int(item_id2token[item])))\n",
    "\n",
    "sub3 = pd.DataFrame(result3, columns=[\"user\", \"item\"])\n",
    "sub3"
   ]
  },
  {
   "cell_type": "code",
   "execution_count": 388,
   "id": "ab40f71e",
   "metadata": {
    "ExecuteTime": {
     "end_time": "2022-12-26T17:22:57.068271Z",
     "start_time": "2022-12-26T17:22:57.043791Z"
    }
   },
   "outputs": [
    {
     "name": "stdout",
     "output_type": "stream",
     "text": [
      "(19, 2)\n"
     ]
    },
    {
     "data": {
      "text/html": [
       "<div>\n",
       "<style scoped>\n",
       "    .dataframe tbody tr th:only-of-type {\n",
       "        vertical-align: middle;\n",
       "    }\n",
       "\n",
       "    .dataframe tbody tr th {\n",
       "        vertical-align: top;\n",
       "    }\n",
       "\n",
       "    .dataframe thead th {\n",
       "        text-align: right;\n",
       "    }\n",
       "</style>\n",
       "<table border=\"1\" class=\"dataframe\">\n",
       "  <thead>\n",
       "    <tr style=\"text-align: right;\">\n",
       "      <th></th>\n",
       "      <th>user</th>\n",
       "      <th>item</th>\n",
       "    </tr>\n",
       "  </thead>\n",
       "  <tbody>\n",
       "    <tr>\n",
       "      <th>10</th>\n",
       "      <td>0</td>\n",
       "      <td>1</td>\n",
       "    </tr>\n",
       "    <tr>\n",
       "      <th>2</th>\n",
       "      <td>0</td>\n",
       "      <td>41</td>\n",
       "    </tr>\n",
       "    <tr>\n",
       "      <th>17</th>\n",
       "      <td>0</td>\n",
       "      <td>177</td>\n",
       "    </tr>\n",
       "    <tr>\n",
       "      <th>16</th>\n",
       "      <td>0</td>\n",
       "      <td>1206</td>\n",
       "    </tr>\n",
       "    <tr>\n",
       "      <th>9</th>\n",
       "      <td>0</td>\n",
       "      <td>1284</td>\n",
       "    </tr>\n",
       "    <tr>\n",
       "      <th>12</th>\n",
       "      <td>0</td>\n",
       "      <td>1658</td>\n",
       "    </tr>\n",
       "    <tr>\n",
       "      <th>13</th>\n",
       "      <td>0</td>\n",
       "      <td>2036</td>\n",
       "    </tr>\n",
       "    <tr>\n",
       "      <th>14</th>\n",
       "      <td>0</td>\n",
       "      <td>2187</td>\n",
       "    </tr>\n",
       "    <tr>\n",
       "      <th>15</th>\n",
       "      <td>0</td>\n",
       "      <td>2366</td>\n",
       "    </tr>\n",
       "    <tr>\n",
       "      <th>0</th>\n",
       "      <td>0</td>\n",
       "      <td>2381</td>\n",
       "    </tr>\n",
       "    <tr>\n",
       "      <th>18</th>\n",
       "      <td>0</td>\n",
       "      <td>2614</td>\n",
       "    </tr>\n",
       "    <tr>\n",
       "      <th>1</th>\n",
       "      <td>0</td>\n",
       "      <td>2619</td>\n",
       "    </tr>\n",
       "    <tr>\n",
       "      <th>5</th>\n",
       "      <td>0</td>\n",
       "      <td>3663</td>\n",
       "    </tr>\n",
       "    <tr>\n",
       "      <th>7</th>\n",
       "      <td>0</td>\n",
       "      <td>3679</td>\n",
       "    </tr>\n",
       "    <tr>\n",
       "      <th>8</th>\n",
       "      <td>0</td>\n",
       "      <td>4101</td>\n",
       "    </tr>\n",
       "    <tr>\n",
       "      <th>3</th>\n",
       "      <td>0</td>\n",
       "      <td>4581</td>\n",
       "    </tr>\n",
       "    <tr>\n",
       "      <th>6</th>\n",
       "      <td>0</td>\n",
       "      <td>4597</td>\n",
       "    </tr>\n",
       "    <tr>\n",
       "      <th>11</th>\n",
       "      <td>0</td>\n",
       "      <td>4717</td>\n",
       "    </tr>\n",
       "    <tr>\n",
       "      <th>4</th>\n",
       "      <td>0</td>\n",
       "      <td>4790</td>\n",
       "    </tr>\n",
       "  </tbody>\n",
       "</table>\n",
       "</div>"
      ],
      "text/plain": [
       "    user  item\n",
       "10     0     1\n",
       "2      0    41\n",
       "17     0   177\n",
       "16     0  1206\n",
       "9      0  1284\n",
       "12     0  1658\n",
       "13     0  2036\n",
       "14     0  2187\n",
       "15     0  2366\n",
       "0      0  2381\n",
       "18     0  2614\n",
       "1      0  2619\n",
       "5      0  3663\n",
       "7      0  3679\n",
       "8      0  4101\n",
       "3      0  4581\n",
       "6      0  4597\n",
       "11     0  4717\n",
       "4      0  4790"
      ]
     },
     "execution_count": 388,
     "metadata": {},
     "output_type": "execute_result"
    }
   ],
   "source": [
    "sub_sub3 = sub[(sub.user==n) & (sub.item.isin(sub3[sub3.user==n].item))].sort_values('item')\n",
    "print(sub_sub3.shape)\n",
    "sub_sub3"
   ]
  },
  {
   "cell_type": "code",
   "execution_count": 389,
   "id": "49ee61ce",
   "metadata": {
    "ExecuteTime": {
     "end_time": "2022-12-26T17:22:58.034684Z",
     "start_time": "2022-12-26T17:22:57.911677Z"
    }
   },
   "outputs": [
    {
     "name": "stdout",
     "output_type": "stream",
     "text": [
      "(1, 3)\n"
     ]
    },
    {
     "data": {
      "text/html": [
       "<div>\n",
       "<style scoped>\n",
       "    .dataframe tbody tr th:only-of-type {\n",
       "        vertical-align: middle;\n",
       "    }\n",
       "\n",
       "    .dataframe tbody tr th {\n",
       "        vertical-align: top;\n",
       "    }\n",
       "\n",
       "    .dataframe thead th {\n",
       "        text-align: right;\n",
       "    }\n",
       "</style>\n",
       "<table border=\"1\" class=\"dataframe\">\n",
       "  <thead>\n",
       "    <tr style=\"text-align: right;\">\n",
       "      <th></th>\n",
       "      <th>user</th>\n",
       "      <th>item</th>\n",
       "      <th>time</th>\n",
       "    </tr>\n",
       "  </thead>\n",
       "  <tbody>\n",
       "    <tr>\n",
       "      <th>192</th>\n",
       "      <td>0</td>\n",
       "      <td>916</td>\n",
       "      <td>1230789404</td>\n",
       "    </tr>\n",
       "  </tbody>\n",
       "</table>\n",
       "</div>"
      ],
      "text/plain": [
       "     user  item        time\n",
       "192     0   916  1230789404"
      ]
     },
     "execution_count": 389,
     "metadata": {},
     "output_type": "execute_result"
    }
   ],
   "source": [
    "train_sub3 = train[(train.user==n) & (train.item.isin(sub3[sub3.user==n].item))].sort_values('item')\n",
    "print(train_sub3.shape)\n",
    "train_sub3"
   ]
  },
  {
   "cell_type": "code",
   "execution_count": 334,
   "id": "baf492b7",
   "metadata": {
    "ExecuteTime": {
     "end_time": "2022-12-26T15:30:21.200557Z",
     "start_time": "2022-12-26T15:30:21.188691Z"
    }
   },
   "outputs": [
    {
     "data": {
      "text/plain": [
       "(172, 3)"
      ]
     },
     "execution_count": 334,
     "metadata": {},
     "output_type": "execute_result"
    }
   ],
   "source": [
    "train[train.user==n].shape"
   ]
  },
  {
   "cell_type": "markdown",
   "id": "2d03630b",
   "metadata": {},
   "source": [
    "### test_dataset 매우 적게 전체 예측 - full_sort_topk 확인"
   ]
  },
  {
   "cell_type": "code",
   "execution_count": 276,
   "id": "574d3714",
   "metadata": {
    "ExecuteTime": {
     "end_time": "2022-12-26T15:23:13.777673Z",
     "start_time": "2022-12-26T15:22:31.719257Z"
    }
   },
   "outputs": [],
   "source": [
    "config['eval_args']['split']['RS']=[999999,0,1]\n",
    "\n",
    "dataset = create_dataset(config)\n",
    "train_data, valid_data, test_data = data_preparation(config, dataset)"
   ]
  },
  {
   "cell_type": "code",
   "execution_count": 277,
   "id": "1700d12e",
   "metadata": {
    "ExecuteTime": {
     "end_time": "2022-12-26T15:23:15.537784Z",
     "start_time": "2022-12-26T15:23:13.782746Z"
    }
   },
   "outputs": [
    {
     "data": {
      "text/plain": [
       "\u001b[1;35mtrain_data\u001b[0m\n",
       "\u001b[1;34mThe number of users\u001b[0m: 31361\n",
       "\u001b[1;34mAverage actions of users\u001b[0m: 163.36450892857144\n",
       "\u001b[1;34mThe number of items\u001b[0m: 6808\n",
       "\u001b[1;34mAverage actions of items\u001b[0m: 752.6239165564859\n",
       "\u001b[1;34mThe number of inters\u001b[0m: 5123111\n",
       "\u001b[1;34mThe sparsity of the dataset\u001b[0m: 97.60048032069291%\n",
       "\u001b[1;34mRemain Fields\u001b[0m: ['user_id', 'item_id', 'timestamp', 'label']"
      ]
     },
     "execution_count": 277,
     "metadata": {},
     "output_type": "execute_result"
    }
   ],
   "source": [
    "train_data.dataset"
   ]
  },
  {
   "cell_type": "code",
   "execution_count": 278,
   "id": "115addce",
   "metadata": {
    "ExecuteTime": {
     "end_time": "2022-12-26T15:23:15.557616Z",
     "start_time": "2022-12-26T15:23:15.539781Z"
    }
   },
   "outputs": [
    {
     "data": {
      "text/plain": [
       "\u001b[1;35mtrain_data\u001b[0m\n",
       "\u001b[1;34mThe number of users\u001b[0m: 31361\n",
       "\u001b[1;34mAverage actions of users\u001b[0m: 1.0\n",
       "\u001b[1;34mThe number of items\u001b[0m: 6808\n",
       "\u001b[1;34mAverage actions of items\u001b[0m: 7.5675675675675675\n",
       "\u001b[1;34mThe number of inters\u001b[0m: 31360\n",
       "\u001b[1;34mThe sparsity of the dataset\u001b[0m: 99.98531186672648%\n",
       "\u001b[1;34mRemain Fields\u001b[0m: ['user_id', 'item_id', 'timestamp', 'label']"
      ]
     },
     "execution_count": 278,
     "metadata": {},
     "output_type": "execute_result"
    }
   ],
   "source": [
    "test_data.dataset"
   ]
  },
  {
   "cell_type": "code",
   "execution_count": 340,
   "id": "a3d1c2a9",
   "metadata": {
    "ExecuteTime": {
     "end_time": "2022-12-26T16:26:07.732982Z",
     "start_time": "2022-12-26T16:25:30.713459Z"
    }
   },
   "outputs": [
    {
     "name": "stderr",
     "output_type": "stream",
     "text": [
      "\u001b[1;35mInference\u001b[0m: 100%|█████████████████████████████████████████████████| 245/245 [00:34<00:00,  7.10it/s]\u001b[0m\n"
     ]
    }
   ],
   "source": [
    "pred_list4 = None\n",
    "user_list4 = []\n",
    "from recbole.utils.case_study import full_sort_topk\n",
    "\n",
    "# user id list\n",
    "all_user_list = torch.arange(1, len(user_id2token)).view(-1,128) # 245, 128\n",
    "\n",
    "tbar = tqdm(all_user_list, desc=set_color(f\"Inference\", 'pink')) # 245, 128\n",
    "\n",
    "for data in tbar:\n",
    "    batch_pred_list4 = full_sort_topk(data, model, test_data, 30, device=device)[1]\n",
    "    batch_pred_list4 = batch_pred_list4.clone().detach().cpu().numpy()\n",
    "    if pred_list4 is None:\n",
    "        pred_list4 = batch_pred_list4\n",
    "        user_list4 = data.numpy()\n",
    "    else:\n",
    "        pred_list4 = np.append(pred_list4, batch_pred_list4, axis=0)\n",
    "        user_list4 = np.append(\n",
    "            user_list4, data.numpy(), axis=0\n",
    "        )\n",
    "tbar.close()\n",
    "# user별 item 추천 결과 하나로 합쳐주기\n",
    "result4 = []\n",
    "for user, pred in zip(user_list4, pred_list4):\n",
    "    for item in pred:\n",
    "        result4.append((int(user_id2token[user]), int(item_id2token[item])))\n",
    "\n",
    "sub4 = pd.DataFrame(result4, columns=[\"user\", \"item\"])"
   ]
  },
  {
   "cell_type": "code",
   "execution_count": 381,
   "id": "9097a8a6",
   "metadata": {
    "ExecuteTime": {
     "end_time": "2022-12-26T16:42:54.713243Z",
     "start_time": "2022-12-26T16:42:54.709396Z"
    }
   },
   "outputs": [
    {
     "data": {
      "text/plain": [
       "(940800, 2)"
      ]
     },
     "execution_count": 381,
     "metadata": {},
     "output_type": "execute_result"
    }
   ],
   "source": [
    "sub4.shape"
   ]
  },
  {
   "cell_type": "code",
   "execution_count": 343,
   "id": "45efadd1",
   "metadata": {
    "ExecuteTime": {
     "end_time": "2022-12-26T16:26:34.676713Z",
     "start_time": "2022-12-26T16:26:34.626633Z"
    },
    "scrolled": false
   },
   "outputs": [
    {
     "data": {
      "text/html": [
       "<div>\n",
       "<style scoped>\n",
       "    .dataframe tbody tr th:only-of-type {\n",
       "        vertical-align: middle;\n",
       "    }\n",
       "\n",
       "    .dataframe tbody tr th {\n",
       "        vertical-align: top;\n",
       "    }\n",
       "\n",
       "    .dataframe thead th {\n",
       "        text-align: right;\n",
       "    }\n",
       "</style>\n",
       "<table border=\"1\" class=\"dataframe\">\n",
       "  <thead>\n",
       "    <tr style=\"text-align: right;\">\n",
       "      <th></th>\n",
       "      <th>user</th>\n",
       "      <th>item</th>\n",
       "    </tr>\n",
       "  </thead>\n",
       "  <tbody>\n",
       "    <tr>\n",
       "      <th>0</th>\n",
       "      <td>0</td>\n",
       "      <td>2381</td>\n",
       "    </tr>\n",
       "    <tr>\n",
       "      <th>1</th>\n",
       "      <td>0</td>\n",
       "      <td>2619</td>\n",
       "    </tr>\n",
       "    <tr>\n",
       "      <th>2</th>\n",
       "      <td>0</td>\n",
       "      <td>41</td>\n",
       "    </tr>\n",
       "    <tr>\n",
       "      <th>3</th>\n",
       "      <td>0</td>\n",
       "      <td>4581</td>\n",
       "    </tr>\n",
       "    <tr>\n",
       "      <th>4</th>\n",
       "      <td>0</td>\n",
       "      <td>4790</td>\n",
       "    </tr>\n",
       "    <tr>\n",
       "      <th>...</th>\n",
       "      <td>...</td>\n",
       "      <td>...</td>\n",
       "    </tr>\n",
       "    <tr>\n",
       "      <th>313595</th>\n",
       "      <td>31359</td>\n",
       "      <td>4101</td>\n",
       "    </tr>\n",
       "    <tr>\n",
       "      <th>313596</th>\n",
       "      <td>31359</td>\n",
       "      <td>2812</td>\n",
       "    </tr>\n",
       "    <tr>\n",
       "      <th>313597</th>\n",
       "      <td>31359</td>\n",
       "      <td>2208</td>\n",
       "    </tr>\n",
       "    <tr>\n",
       "      <th>313598</th>\n",
       "      <td>31359</td>\n",
       "      <td>4581</td>\n",
       "    </tr>\n",
       "    <tr>\n",
       "      <th>313599</th>\n",
       "      <td>31359</td>\n",
       "      <td>5233</td>\n",
       "    </tr>\n",
       "  </tbody>\n",
       "</table>\n",
       "<p>313600 rows × 2 columns</p>\n",
       "</div>"
      ],
      "text/plain": [
       "         user  item\n",
       "0           0  2381\n",
       "1           0  2619\n",
       "2           0    41\n",
       "3           0  4581\n",
       "4           0  4790\n",
       "...       ...   ...\n",
       "313595  31359  4101\n",
       "313596  31359  2812\n",
       "313597  31359  2208\n",
       "313598  31359  4581\n",
       "313599  31359  5233\n",
       "\n",
       "[313600 rows x 2 columns]"
      ]
     },
     "execution_count": 343,
     "metadata": {},
     "output_type": "execute_result"
    }
   ],
   "source": [
    "sub_top10 = sub.groupby('user').head(10).reset_index(drop=True)\n",
    "sub_top10"
   ]
  },
  {
   "cell_type": "code",
   "execution_count": 349,
   "id": "ab18dc29",
   "metadata": {
    "ExecuteTime": {
     "end_time": "2022-12-26T16:27:27.727433Z",
     "start_time": "2022-12-26T16:27:27.551652Z"
    },
    "scrolled": false
   },
   "outputs": [
    {
     "data": {
      "text/html": [
       "<div>\n",
       "<style scoped>\n",
       "    .dataframe tbody tr th:only-of-type {\n",
       "        vertical-align: middle;\n",
       "    }\n",
       "\n",
       "    .dataframe tbody tr th {\n",
       "        vertical-align: top;\n",
       "    }\n",
       "\n",
       "    .dataframe thead th {\n",
       "        text-align: right;\n",
       "    }\n",
       "</style>\n",
       "<table border=\"1\" class=\"dataframe\">\n",
       "  <thead>\n",
       "    <tr style=\"text-align: right;\">\n",
       "      <th></th>\n",
       "      <th>user</th>\n",
       "      <th>item</th>\n",
       "    </tr>\n",
       "  </thead>\n",
       "  <tbody>\n",
       "    <tr>\n",
       "      <th>0</th>\n",
       "      <td>0</td>\n",
       "      <td>2381</td>\n",
       "    </tr>\n",
       "    <tr>\n",
       "      <th>1</th>\n",
       "      <td>0</td>\n",
       "      <td>2619</td>\n",
       "    </tr>\n",
       "    <tr>\n",
       "      <th>2</th>\n",
       "      <td>0</td>\n",
       "      <td>41</td>\n",
       "    </tr>\n",
       "    <tr>\n",
       "      <th>3</th>\n",
       "      <td>0</td>\n",
       "      <td>4581</td>\n",
       "    </tr>\n",
       "    <tr>\n",
       "      <th>4</th>\n",
       "      <td>0</td>\n",
       "      <td>4790</td>\n",
       "    </tr>\n",
       "    <tr>\n",
       "      <th>...</th>\n",
       "      <td>...</td>\n",
       "      <td>...</td>\n",
       "    </tr>\n",
       "    <tr>\n",
       "      <th>313595</th>\n",
       "      <td>31359</td>\n",
       "      <td>4101</td>\n",
       "    </tr>\n",
       "    <tr>\n",
       "      <th>313596</th>\n",
       "      <td>31359</td>\n",
       "      <td>2812</td>\n",
       "    </tr>\n",
       "    <tr>\n",
       "      <th>313597</th>\n",
       "      <td>31359</td>\n",
       "      <td>2208</td>\n",
       "    </tr>\n",
       "    <tr>\n",
       "      <th>313598</th>\n",
       "      <td>31359</td>\n",
       "      <td>4581</td>\n",
       "    </tr>\n",
       "    <tr>\n",
       "      <th>313599</th>\n",
       "      <td>31359</td>\n",
       "      <td>5233</td>\n",
       "    </tr>\n",
       "  </tbody>\n",
       "</table>\n",
       "<p>313600 rows × 2 columns</p>\n",
       "</div>"
      ],
      "text/plain": [
       "         user  item\n",
       "0           0  2381\n",
       "1           0  2619\n",
       "2           0    41\n",
       "3           0  4581\n",
       "4           0  4790\n",
       "...       ...   ...\n",
       "313595  31359  4101\n",
       "313596  31359  2812\n",
       "313597  31359  2208\n",
       "313598  31359  4581\n",
       "313599  31359  5233\n",
       "\n",
       "[313600 rows x 2 columns]"
      ]
     },
     "execution_count": 349,
     "metadata": {},
     "output_type": "execute_result"
    }
   ],
   "source": [
    "sub_top10.merge(sub4, on=['user','item'])"
   ]
  },
  {
   "cell_type": "code",
   "execution_count": 352,
   "id": "988ad866",
   "metadata": {
    "ExecuteTime": {
     "end_time": "2022-12-26T16:28:20.960907Z",
     "start_time": "2022-12-26T16:28:20.895205Z"
    }
   },
   "outputs": [
    {
     "data": {
      "text/html": [
       "<div>\n",
       "<style scoped>\n",
       "    .dataframe tbody tr th:only-of-type {\n",
       "        vertical-align: middle;\n",
       "    }\n",
       "\n",
       "    .dataframe tbody tr th {\n",
       "        vertical-align: top;\n",
       "    }\n",
       "\n",
       "    .dataframe thead th {\n",
       "        text-align: right;\n",
       "    }\n",
       "</style>\n",
       "<table border=\"1\" class=\"dataframe\">\n",
       "  <thead>\n",
       "    <tr style=\"text-align: right;\">\n",
       "      <th></th>\n",
       "      <th>user</th>\n",
       "      <th>item</th>\n",
       "    </tr>\n",
       "  </thead>\n",
       "  <tbody>\n",
       "    <tr>\n",
       "      <th>0</th>\n",
       "      <td>0</td>\n",
       "      <td>2381</td>\n",
       "    </tr>\n",
       "    <tr>\n",
       "      <th>1</th>\n",
       "      <td>0</td>\n",
       "      <td>916</td>\n",
       "    </tr>\n",
       "    <tr>\n",
       "      <th>2</th>\n",
       "      <td>0</td>\n",
       "      <td>2619</td>\n",
       "    </tr>\n",
       "    <tr>\n",
       "      <th>3</th>\n",
       "      <td>0</td>\n",
       "      <td>41</td>\n",
       "    </tr>\n",
       "    <tr>\n",
       "      <th>4</th>\n",
       "      <td>0</td>\n",
       "      <td>4581</td>\n",
       "    </tr>\n",
       "    <tr>\n",
       "      <th>...</th>\n",
       "      <td>...</td>\n",
       "      <td>...</td>\n",
       "    </tr>\n",
       "    <tr>\n",
       "      <th>313595</th>\n",
       "      <td>31359</td>\n",
       "      <td>4101</td>\n",
       "    </tr>\n",
       "    <tr>\n",
       "      <th>313596</th>\n",
       "      <td>31359</td>\n",
       "      <td>2812</td>\n",
       "    </tr>\n",
       "    <tr>\n",
       "      <th>313597</th>\n",
       "      <td>31359</td>\n",
       "      <td>2208</td>\n",
       "    </tr>\n",
       "    <tr>\n",
       "      <th>313598</th>\n",
       "      <td>31359</td>\n",
       "      <td>4581</td>\n",
       "    </tr>\n",
       "    <tr>\n",
       "      <th>313599</th>\n",
       "      <td>31359</td>\n",
       "      <td>5233</td>\n",
       "    </tr>\n",
       "  </tbody>\n",
       "</table>\n",
       "<p>313600 rows × 2 columns</p>\n",
       "</div>"
      ],
      "text/plain": [
       "         user  item\n",
       "0           0  2381\n",
       "1           0   916\n",
       "2           0  2619\n",
       "3           0    41\n",
       "4           0  4581\n",
       "...       ...   ...\n",
       "313595  31359  4101\n",
       "313596  31359  2812\n",
       "313597  31359  2208\n",
       "313598  31359  4581\n",
       "313599  31359  5233\n",
       "\n",
       "[313600 rows x 2 columns]"
      ]
     },
     "execution_count": 352,
     "metadata": {},
     "output_type": "execute_result"
    }
   ],
   "source": [
    "sub4_top10 = sub4.groupby('user').head(10).reset_index(drop=True)\n",
    "sub4_top10"
   ]
  },
  {
   "cell_type": "code",
   "execution_count": 353,
   "id": "980617a1",
   "metadata": {
    "ExecuteTime": {
     "end_time": "2022-12-26T16:28:32.380102Z",
     "start_time": "2022-12-26T16:28:32.305285Z"
    }
   },
   "outputs": [
    {
     "data": {
      "text/html": [
       "<div>\n",
       "<style scoped>\n",
       "    .dataframe tbody tr th:only-of-type {\n",
       "        vertical-align: middle;\n",
       "    }\n",
       "\n",
       "    .dataframe tbody tr th {\n",
       "        vertical-align: top;\n",
       "    }\n",
       "\n",
       "    .dataframe thead th {\n",
       "        text-align: right;\n",
       "    }\n",
       "</style>\n",
       "<table border=\"1\" class=\"dataframe\">\n",
       "  <thead>\n",
       "    <tr style=\"text-align: right;\">\n",
       "      <th></th>\n",
       "      <th>user</th>\n",
       "      <th>item</th>\n",
       "    </tr>\n",
       "  </thead>\n",
       "  <tbody>\n",
       "    <tr>\n",
       "      <th>0</th>\n",
       "      <td>0</td>\n",
       "      <td>2381</td>\n",
       "    </tr>\n",
       "    <tr>\n",
       "      <th>1</th>\n",
       "      <td>0</td>\n",
       "      <td>2619</td>\n",
       "    </tr>\n",
       "    <tr>\n",
       "      <th>2</th>\n",
       "      <td>0</td>\n",
       "      <td>41</td>\n",
       "    </tr>\n",
       "    <tr>\n",
       "      <th>3</th>\n",
       "      <td>0</td>\n",
       "      <td>4581</td>\n",
       "    </tr>\n",
       "    <tr>\n",
       "      <th>4</th>\n",
       "      <td>0</td>\n",
       "      <td>4790</td>\n",
       "    </tr>\n",
       "    <tr>\n",
       "      <th>...</th>\n",
       "      <td>...</td>\n",
       "      <td>...</td>\n",
       "    </tr>\n",
       "    <tr>\n",
       "      <th>303185</th>\n",
       "      <td>31359</td>\n",
       "      <td>4101</td>\n",
       "    </tr>\n",
       "    <tr>\n",
       "      <th>303186</th>\n",
       "      <td>31359</td>\n",
       "      <td>2812</td>\n",
       "    </tr>\n",
       "    <tr>\n",
       "      <th>303187</th>\n",
       "      <td>31359</td>\n",
       "      <td>2208</td>\n",
       "    </tr>\n",
       "    <tr>\n",
       "      <th>303188</th>\n",
       "      <td>31359</td>\n",
       "      <td>4581</td>\n",
       "    </tr>\n",
       "    <tr>\n",
       "      <th>303189</th>\n",
       "      <td>31359</td>\n",
       "      <td>5233</td>\n",
       "    </tr>\n",
       "  </tbody>\n",
       "</table>\n",
       "<p>303190 rows × 2 columns</p>\n",
       "</div>"
      ],
      "text/plain": [
       "         user  item\n",
       "0           0  2381\n",
       "1           0  2619\n",
       "2           0    41\n",
       "3           0  4581\n",
       "4           0  4790\n",
       "...       ...   ...\n",
       "303185  31359  4101\n",
       "303186  31359  2812\n",
       "303187  31359  2208\n",
       "303188  31359  4581\n",
       "303189  31359  5233\n",
       "\n",
       "[303190 rows x 2 columns]"
      ]
     },
     "execution_count": 353,
     "metadata": {},
     "output_type": "execute_result"
    }
   ],
   "source": [
    "sub_top10.merge(sub4_top10, on=['user','item'])"
   ]
  },
  {
   "cell_type": "code",
   "execution_count": 367,
   "id": "72f5163a",
   "metadata": {
    "ExecuteTime": {
     "end_time": "2022-12-26T16:35:53.699091Z",
     "start_time": "2022-12-26T16:35:53.695579Z"
    }
   },
   "outputs": [],
   "source": [
    "sub_top10['sub']=1\n",
    "sub4_top10['sub4']=1"
   ]
  },
  {
   "cell_type": "code",
   "execution_count": 368,
   "id": "c1f17006",
   "metadata": {
    "ExecuteTime": {
     "end_time": "2022-12-26T16:35:55.488353Z",
     "start_time": "2022-12-26T16:35:55.383893Z"
    },
    "collapsed": true
   },
   "outputs": [
    {
     "data": {
      "text/html": [
       "<div>\n",
       "<style scoped>\n",
       "    .dataframe tbody tr th:only-of-type {\n",
       "        vertical-align: middle;\n",
       "    }\n",
       "\n",
       "    .dataframe tbody tr th {\n",
       "        vertical-align: top;\n",
       "    }\n",
       "\n",
       "    .dataframe thead th {\n",
       "        text-align: right;\n",
       "    }\n",
       "</style>\n",
       "<table border=\"1\" class=\"dataframe\">\n",
       "  <thead>\n",
       "    <tr style=\"text-align: right;\">\n",
       "      <th></th>\n",
       "      <th>user</th>\n",
       "      <th>item</th>\n",
       "      <th>sub</th>\n",
       "      <th>sub4</th>\n",
       "    </tr>\n",
       "  </thead>\n",
       "  <tbody>\n",
       "    <tr>\n",
       "      <th>0</th>\n",
       "      <td>0</td>\n",
       "      <td>2381</td>\n",
       "      <td>1.0</td>\n",
       "      <td>1</td>\n",
       "    </tr>\n",
       "    <tr>\n",
       "      <th>1</th>\n",
       "      <td>0</td>\n",
       "      <td>916</td>\n",
       "      <td>NaN</td>\n",
       "      <td>1</td>\n",
       "    </tr>\n",
       "    <tr>\n",
       "      <th>2</th>\n",
       "      <td>0</td>\n",
       "      <td>2619</td>\n",
       "      <td>1.0</td>\n",
       "      <td>1</td>\n",
       "    </tr>\n",
       "    <tr>\n",
       "      <th>3</th>\n",
       "      <td>0</td>\n",
       "      <td>41</td>\n",
       "      <td>1.0</td>\n",
       "      <td>1</td>\n",
       "    </tr>\n",
       "    <tr>\n",
       "      <th>4</th>\n",
       "      <td>0</td>\n",
       "      <td>4581</td>\n",
       "      <td>1.0</td>\n",
       "      <td>1</td>\n",
       "    </tr>\n",
       "    <tr>\n",
       "      <th>...</th>\n",
       "      <td>...</td>\n",
       "      <td>...</td>\n",
       "      <td>...</td>\n",
       "      <td>...</td>\n",
       "    </tr>\n",
       "    <tr>\n",
       "      <th>313595</th>\n",
       "      <td>31359</td>\n",
       "      <td>4101</td>\n",
       "      <td>1.0</td>\n",
       "      <td>1</td>\n",
       "    </tr>\n",
       "    <tr>\n",
       "      <th>313596</th>\n",
       "      <td>31359</td>\n",
       "      <td>2812</td>\n",
       "      <td>1.0</td>\n",
       "      <td>1</td>\n",
       "    </tr>\n",
       "    <tr>\n",
       "      <th>313597</th>\n",
       "      <td>31359</td>\n",
       "      <td>2208</td>\n",
       "      <td>1.0</td>\n",
       "      <td>1</td>\n",
       "    </tr>\n",
       "    <tr>\n",
       "      <th>313598</th>\n",
       "      <td>31359</td>\n",
       "      <td>4581</td>\n",
       "      <td>1.0</td>\n",
       "      <td>1</td>\n",
       "    </tr>\n",
       "    <tr>\n",
       "      <th>313599</th>\n",
       "      <td>31359</td>\n",
       "      <td>5233</td>\n",
       "      <td>1.0</td>\n",
       "      <td>1</td>\n",
       "    </tr>\n",
       "  </tbody>\n",
       "</table>\n",
       "<p>313600 rows × 4 columns</p>\n",
       "</div>"
      ],
      "text/plain": [
       "         user  item  sub  sub4\n",
       "0           0  2381  1.0     1\n",
       "1           0   916  NaN     1\n",
       "2           0  2619  1.0     1\n",
       "3           0    41  1.0     1\n",
       "4           0  4581  1.0     1\n",
       "...       ...   ...  ...   ...\n",
       "313595  31359  4101  1.0     1\n",
       "313596  31359  2812  1.0     1\n",
       "313597  31359  2208  1.0     1\n",
       "313598  31359  4581  1.0     1\n",
       "313599  31359  5233  1.0     1\n",
       "\n",
       "[313600 rows x 4 columns]"
      ]
     },
     "execution_count": 368,
     "metadata": {},
     "output_type": "execute_result"
    }
   ],
   "source": [
    "sub_sub4 = sub_top10.merge(sub4_top10, on=['user','item'],how='right')\n",
    "sub_sub4"
   ]
  },
  {
   "cell_type": "code",
   "execution_count": 374,
   "id": "38ee57d5",
   "metadata": {
    "ExecuteTime": {
     "end_time": "2022-12-26T16:37:20.619914Z",
     "start_time": "2022-12-26T16:37:20.606863Z"
    }
   },
   "outputs": [
    {
     "data": {
      "text/html": [
       "<div>\n",
       "<style scoped>\n",
       "    .dataframe tbody tr th:only-of-type {\n",
       "        vertical-align: middle;\n",
       "    }\n",
       "\n",
       "    .dataframe tbody tr th {\n",
       "        vertical-align: top;\n",
       "    }\n",
       "\n",
       "    .dataframe thead th {\n",
       "        text-align: right;\n",
       "    }\n",
       "</style>\n",
       "<table border=\"1\" class=\"dataframe\">\n",
       "  <thead>\n",
       "    <tr style=\"text-align: right;\">\n",
       "      <th></th>\n",
       "      <th>user</th>\n",
       "      <th>item</th>\n",
       "      <th>sub</th>\n",
       "      <th>sub4</th>\n",
       "    </tr>\n",
       "  </thead>\n",
       "  <tbody>\n",
       "    <tr>\n",
       "      <th>1</th>\n",
       "      <td>0</td>\n",
       "      <td>916</td>\n",
       "      <td>NaN</td>\n",
       "      <td>1</td>\n",
       "    </tr>\n",
       "    <tr>\n",
       "      <th>23</th>\n",
       "      <td>2</td>\n",
       "      <td>3010</td>\n",
       "      <td>NaN</td>\n",
       "      <td>1</td>\n",
       "    </tr>\n",
       "    <tr>\n",
       "      <th>32</th>\n",
       "      <td>3</td>\n",
       "      <td>1642</td>\n",
       "      <td>NaN</td>\n",
       "      <td>1</td>\n",
       "    </tr>\n",
       "    <tr>\n",
       "      <th>42</th>\n",
       "      <td>4</td>\n",
       "      <td>5936</td>\n",
       "      <td>NaN</td>\n",
       "      <td>1</td>\n",
       "    </tr>\n",
       "    <tr>\n",
       "      <th>71</th>\n",
       "      <td>7</td>\n",
       "      <td>1580</td>\n",
       "      <td>NaN</td>\n",
       "      <td>1</td>\n",
       "    </tr>\n",
       "    <tr>\n",
       "      <th>...</th>\n",
       "      <td>...</td>\n",
       "      <td>...</td>\n",
       "      <td>...</td>\n",
       "      <td>...</td>\n",
       "    </tr>\n",
       "    <tr>\n",
       "      <th>313511</th>\n",
       "      <td>31351</td>\n",
       "      <td>647</td>\n",
       "      <td>NaN</td>\n",
       "      <td>1</td>\n",
       "    </tr>\n",
       "    <tr>\n",
       "      <th>313534</th>\n",
       "      <td>31353</td>\n",
       "      <td>1089</td>\n",
       "      <td>NaN</td>\n",
       "      <td>1</td>\n",
       "    </tr>\n",
       "    <tr>\n",
       "      <th>313540</th>\n",
       "      <td>31354</td>\n",
       "      <td>1435</td>\n",
       "      <td>NaN</td>\n",
       "      <td>1</td>\n",
       "    </tr>\n",
       "    <tr>\n",
       "      <th>313554</th>\n",
       "      <td>31355</td>\n",
       "      <td>4522</td>\n",
       "      <td>NaN</td>\n",
       "      <td>1</td>\n",
       "    </tr>\n",
       "    <tr>\n",
       "      <th>313579</th>\n",
       "      <td>31357</td>\n",
       "      <td>350</td>\n",
       "      <td>NaN</td>\n",
       "      <td>1</td>\n",
       "    </tr>\n",
       "  </tbody>\n",
       "</table>\n",
       "<p>10410 rows × 4 columns</p>\n",
       "</div>"
      ],
      "text/plain": [
       "         user  item  sub  sub4\n",
       "1           0   916  NaN     1\n",
       "23          2  3010  NaN     1\n",
       "32          3  1642  NaN     1\n",
       "42          4  5936  NaN     1\n",
       "71          7  1580  NaN     1\n",
       "...       ...   ...  ...   ...\n",
       "313511  31351   647  NaN     1\n",
       "313534  31353  1089  NaN     1\n",
       "313540  31354  1435  NaN     1\n",
       "313554  31355  4522  NaN     1\n",
       "313579  31357   350  NaN     1\n",
       "\n",
       "[10410 rows x 4 columns]"
      ]
     },
     "execution_count": 374,
     "metadata": {},
     "output_type": "execute_result"
    }
   ],
   "source": [
    "only_sub4 = sub_sub4[(sub_sub4['sub'].isna()) & (sub_sub4.sub4.notna())]\n",
    "only_sub4"
   ]
  },
  {
   "cell_type": "code",
   "execution_count": 382,
   "id": "0574c16d",
   "metadata": {
    "ExecuteTime": {
     "end_time": "2022-12-26T16:46:02.723581Z",
     "start_time": "2022-12-26T16:46:02.719861Z"
    }
   },
   "outputs": [
    {
     "data": {
      "text/plain": [
       "(5154471, 3)"
      ]
     },
     "execution_count": 382,
     "metadata": {},
     "output_type": "execute_result"
    }
   ],
   "source": [
    "train.shape"
   ]
  },
  {
   "cell_type": "code",
   "execution_count": 378,
   "id": "3a271590",
   "metadata": {
    "ExecuteTime": {
     "end_time": "2022-12-26T16:37:59.603990Z",
     "start_time": "2022-12-26T16:37:58.056716Z"
    }
   },
   "outputs": [
    {
     "data": {
      "text/html": [
       "<div>\n",
       "<style scoped>\n",
       "    .dataframe tbody tr th:only-of-type {\n",
       "        vertical-align: middle;\n",
       "    }\n",
       "\n",
       "    .dataframe tbody tr th {\n",
       "        vertical-align: top;\n",
       "    }\n",
       "\n",
       "    .dataframe thead th {\n",
       "        text-align: right;\n",
       "    }\n",
       "</style>\n",
       "<table border=\"1\" class=\"dataframe\">\n",
       "  <thead>\n",
       "    <tr style=\"text-align: right;\">\n",
       "      <th></th>\n",
       "      <th>user</th>\n",
       "      <th>item</th>\n",
       "      <th>sub</th>\n",
       "      <th>sub4</th>\n",
       "      <th>time</th>\n",
       "    </tr>\n",
       "  </thead>\n",
       "  <tbody>\n",
       "    <tr>\n",
       "      <th>0</th>\n",
       "      <td>0</td>\n",
       "      <td>916</td>\n",
       "      <td>NaN</td>\n",
       "      <td>1</td>\n",
       "      <td>1230789404</td>\n",
       "    </tr>\n",
       "    <tr>\n",
       "      <th>1</th>\n",
       "      <td>2</td>\n",
       "      <td>3010</td>\n",
       "      <td>NaN</td>\n",
       "      <td>1</td>\n",
       "      <td>1195573950</td>\n",
       "    </tr>\n",
       "    <tr>\n",
       "      <th>2</th>\n",
       "      <td>3</td>\n",
       "      <td>1642</td>\n",
       "      <td>NaN</td>\n",
       "      <td>1</td>\n",
       "      <td>1277963517</td>\n",
       "    </tr>\n",
       "    <tr>\n",
       "      <th>3</th>\n",
       "      <td>4</td>\n",
       "      <td>5936</td>\n",
       "      <td>NaN</td>\n",
       "      <td>1</td>\n",
       "      <td>1424734588</td>\n",
       "    </tr>\n",
       "    <tr>\n",
       "      <th>4</th>\n",
       "      <td>7</td>\n",
       "      <td>1580</td>\n",
       "      <td>NaN</td>\n",
       "      <td>1</td>\n",
       "      <td>1182349131</td>\n",
       "    </tr>\n",
       "    <tr>\n",
       "      <th>...</th>\n",
       "      <td>...</td>\n",
       "      <td>...</td>\n",
       "      <td>...</td>\n",
       "      <td>...</td>\n",
       "      <td>...</td>\n",
       "    </tr>\n",
       "    <tr>\n",
       "      <th>10405</th>\n",
       "      <td>31351</td>\n",
       "      <td>647</td>\n",
       "      <td>NaN</td>\n",
       "      <td>1</td>\n",
       "      <td>1180760864</td>\n",
       "    </tr>\n",
       "    <tr>\n",
       "      <th>10406</th>\n",
       "      <td>31353</td>\n",
       "      <td>1089</td>\n",
       "      <td>NaN</td>\n",
       "      <td>1</td>\n",
       "      <td>1355632199</td>\n",
       "    </tr>\n",
       "    <tr>\n",
       "      <th>10407</th>\n",
       "      <td>31354</td>\n",
       "      <td>1435</td>\n",
       "      <td>NaN</td>\n",
       "      <td>1</td>\n",
       "      <td>1194038965</td>\n",
       "    </tr>\n",
       "    <tr>\n",
       "      <th>10408</th>\n",
       "      <td>31355</td>\n",
       "      <td>4522</td>\n",
       "      <td>NaN</td>\n",
       "      <td>1</td>\n",
       "      <td>1274233896</td>\n",
       "    </tr>\n",
       "    <tr>\n",
       "      <th>10409</th>\n",
       "      <td>31357</td>\n",
       "      <td>350</td>\n",
       "      <td>NaN</td>\n",
       "      <td>1</td>\n",
       "      <td>1207075765</td>\n",
       "    </tr>\n",
       "  </tbody>\n",
       "</table>\n",
       "<p>10410 rows × 5 columns</p>\n",
       "</div>"
      ],
      "text/plain": [
       "        user  item  sub  sub4        time\n",
       "0          0   916  NaN     1  1230789404\n",
       "1          2  3010  NaN     1  1195573950\n",
       "2          3  1642  NaN     1  1277963517\n",
       "3          4  5936  NaN     1  1424734588\n",
       "4          7  1580  NaN     1  1182349131\n",
       "...      ...   ...  ...   ...         ...\n",
       "10405  31351   647  NaN     1  1180760864\n",
       "10406  31353  1089  NaN     1  1355632199\n",
       "10407  31354  1435  NaN     1  1194038965\n",
       "10408  31355  4522  NaN     1  1274233896\n",
       "10409  31357   350  NaN     1  1207075765\n",
       "\n",
       "[10410 rows x 5 columns]"
      ]
     },
     "execution_count": 378,
     "metadata": {},
     "output_type": "execute_result"
    }
   ],
   "source": [
    "only_sub4_train = only_sub4.merge(train, on=['user','item'], how='left')\n",
    "only_sub4_train"
   ]
  },
  {
   "cell_type": "code",
   "execution_count": 380,
   "id": "be61f44b",
   "metadata": {
    "ExecuteTime": {
     "end_time": "2022-12-26T16:38:16.061272Z",
     "start_time": "2022-12-26T16:38:16.056281Z"
    }
   },
   "outputs": [
    {
     "data": {
      "text/plain": [
       "nan"
      ]
     },
     "execution_count": 380,
     "metadata": {},
     "output_type": "execute_result"
    }
   ],
   "source": [
    "sum(only_sub4_train['sub'])"
   ]
  },
  {
   "cell_type": "code",
   "execution_count": 379,
   "id": "f7c90b72",
   "metadata": {
    "ExecuteTime": {
     "end_time": "2022-12-26T16:38:10.375399Z",
     "start_time": "2022-12-26T16:38:10.370464Z"
    }
   },
   "outputs": [
    {
     "data": {
      "text/plain": [
       "10410"
      ]
     },
     "execution_count": 379,
     "metadata": {},
     "output_type": "execute_result"
    }
   ],
   "source": [
    "sum(only_sub4_train.sub4)"
   ]
  },
  {
   "cell_type": "code",
   "execution_count": null,
   "id": "fd79592a",
   "metadata": {},
   "outputs": [],
   "source": []
  },
  {
   "cell_type": "code",
   "execution_count": null,
   "id": "49a701d1",
   "metadata": {},
   "outputs": [],
   "source": []
  },
  {
   "cell_type": "code",
   "execution_count": null,
   "id": "4b5d83bf",
   "metadata": {},
   "outputs": [],
   "source": []
  },
  {
   "cell_type": "code",
   "execution_count": 124,
   "id": "ca93af24",
   "metadata": {
    "ExecuteTime": {
     "end_time": "2022-12-24T07:23:40.174969Z",
     "start_time": "2022-12-24T07:23:40.166640Z"
    }
   },
   "outputs": [
    {
     "data": {
      "text/html": [
       "<div>\n",
       "<style scoped>\n",
       "    .dataframe tbody tr th:only-of-type {\n",
       "        vertical-align: middle;\n",
       "    }\n",
       "\n",
       "    .dataframe tbody tr th {\n",
       "        vertical-align: top;\n",
       "    }\n",
       "\n",
       "    .dataframe thead th {\n",
       "        text-align: right;\n",
       "    }\n",
       "</style>\n",
       "<table border=\"1\" class=\"dataframe\">\n",
       "  <thead>\n",
       "    <tr style=\"text-align: right;\">\n",
       "      <th></th>\n",
       "      <th>user</th>\n",
       "      <th>item</th>\n",
       "    </tr>\n",
       "  </thead>\n",
       "  <tbody>\n",
       "    <tr>\n",
       "      <th>6</th>\n",
       "      <td>0</td>\n",
       "      <td>0</td>\n",
       "    </tr>\n",
       "    <tr>\n",
       "      <th>7</th>\n",
       "      <td>0</td>\n",
       "      <td>229</td>\n",
       "    </tr>\n",
       "    <tr>\n",
       "      <th>1</th>\n",
       "      <td>0</td>\n",
       "      <td>287</td>\n",
       "    </tr>\n",
       "    <tr>\n",
       "      <th>0</th>\n",
       "      <td>0</td>\n",
       "      <td>424</td>\n",
       "    </tr>\n",
       "    <tr>\n",
       "      <th>3</th>\n",
       "      <td>0</td>\n",
       "      <td>663</td>\n",
       "    </tr>\n",
       "    <tr>\n",
       "      <th>2</th>\n",
       "      <td>0</td>\n",
       "      <td>717</td>\n",
       "    </tr>\n",
       "    <tr>\n",
       "      <th>9</th>\n",
       "      <td>0</td>\n",
       "      <td>2812</td>\n",
       "    </tr>\n",
       "    <tr>\n",
       "      <th>8</th>\n",
       "      <td>0</td>\n",
       "      <td>3240</td>\n",
       "    </tr>\n",
       "    <tr>\n",
       "      <th>5</th>\n",
       "      <td>0</td>\n",
       "      <td>3994</td>\n",
       "    </tr>\n",
       "    <tr>\n",
       "      <th>4</th>\n",
       "      <td>0</td>\n",
       "      <td>4659</td>\n",
       "    </tr>\n",
       "  </tbody>\n",
       "</table>\n",
       "</div>"
      ],
      "text/plain": [
       "   user  item\n",
       "6     0     0\n",
       "7     0   229\n",
       "1     0   287\n",
       "0     0   424\n",
       "3     0   663\n",
       "2     0   717\n",
       "9     0  2812\n",
       "8     0  3240\n",
       "5     0  3994\n",
       "4     0  4659"
      ]
     },
     "execution_count": 124,
     "metadata": {},
     "output_type": "execute_result"
    }
   ],
   "source": [
    "sub3[sub3.user==0].sort_values('item')"
   ]
  },
  {
   "cell_type": "code",
   "execution_count": 126,
   "id": "06bd8e8a",
   "metadata": {
    "ExecuteTime": {
     "end_time": "2022-12-24T07:24:48.439135Z",
     "start_time": "2022-12-24T07:24:48.004898Z"
    }
   },
   "outputs": [],
   "source": [
    "train.user = train.user.map(user2idx)\n",
    "train.item = train.item.map(item2idx)"
   ]
  },
  {
   "cell_type": "code",
   "execution_count": 129,
   "id": "fc42b042",
   "metadata": {
    "ExecuteTime": {
     "end_time": "2022-12-24T07:25:32.432366Z",
     "start_time": "2022-12-24T07:25:32.349573Z"
    }
   },
   "outputs": [
    {
     "data": {
      "text/html": [
       "<div>\n",
       "<style scoped>\n",
       "    .dataframe tbody tr th:only-of-type {\n",
       "        vertical-align: middle;\n",
       "    }\n",
       "\n",
       "    .dataframe tbody tr th {\n",
       "        vertical-align: top;\n",
       "    }\n",
       "\n",
       "    .dataframe thead th {\n",
       "        text-align: right;\n",
       "    }\n",
       "</style>\n",
       "<table border=\"1\" class=\"dataframe\">\n",
       "  <thead>\n",
       "    <tr style=\"text-align: right;\">\n",
       "      <th></th>\n",
       "      <th>user</th>\n",
       "      <th>item</th>\n",
       "      <th>time</th>\n",
       "    </tr>\n",
       "  </thead>\n",
       "  <tbody>\n",
       "    <tr>\n",
       "      <th>267</th>\n",
       "      <td>0</td>\n",
       "      <td>0</td>\n",
       "      <td>1230858821</td>\n",
       "    </tr>\n",
       "    <tr>\n",
       "      <th>279</th>\n",
       "      <td>0</td>\n",
       "      <td>229</td>\n",
       "      <td>1230858954</td>\n",
       "    </tr>\n",
       "    <tr>\n",
       "      <th>149</th>\n",
       "      <td>0</td>\n",
       "      <td>287</td>\n",
       "      <td>1230788713</td>\n",
       "    </tr>\n",
       "    <tr>\n",
       "      <th>116</th>\n",
       "      <td>0</td>\n",
       "      <td>424</td>\n",
       "      <td>1230788340</td>\n",
       "    </tr>\n",
       "    <tr>\n",
       "      <th>40</th>\n",
       "      <td>0</td>\n",
       "      <td>663</td>\n",
       "      <td>1230784258</td>\n",
       "    </tr>\n",
       "    <tr>\n",
       "      <th>72</th>\n",
       "      <td>0</td>\n",
       "      <td>717</td>\n",
       "      <td>1230785922</td>\n",
       "    </tr>\n",
       "    <tr>\n",
       "      <th>157</th>\n",
       "      <td>0</td>\n",
       "      <td>2812</td>\n",
       "      <td>1230788806</td>\n",
       "    </tr>\n",
       "    <tr>\n",
       "      <th>22</th>\n",
       "      <td>0</td>\n",
       "      <td>3240</td>\n",
       "      <td>1230783392</td>\n",
       "    </tr>\n",
       "    <tr>\n",
       "      <th>124</th>\n",
       "      <td>0</td>\n",
       "      <td>3994</td>\n",
       "      <td>1230788473</td>\n",
       "    </tr>\n",
       "    <tr>\n",
       "      <th>126</th>\n",
       "      <td>0</td>\n",
       "      <td>4659</td>\n",
       "      <td>1230788489</td>\n",
       "    </tr>\n",
       "  </tbody>\n",
       "</table>\n",
       "</div>"
      ],
      "text/plain": [
       "     user  item        time\n",
       "267     0     0  1230858821\n",
       "279     0   229  1230858954\n",
       "149     0   287  1230788713\n",
       "116     0   424  1230788340\n",
       "40      0   663  1230784258\n",
       "72      0   717  1230785922\n",
       "157     0  2812  1230788806\n",
       "22      0  3240  1230783392\n",
       "124     0  3994  1230788473\n",
       "126     0  4659  1230788489"
      ]
     },
     "execution_count": 129,
     "metadata": {},
     "output_type": "execute_result"
    }
   ],
   "source": [
    "train[(train.user==0) & (train.item.isin(sub3[sub3.user==0].item))].sort_values('item')"
   ]
  },
  {
   "cell_type": "code",
   "execution_count": 118,
   "id": "6bd6c209",
   "metadata": {
    "ExecuteTime": {
     "end_time": "2022-12-24T06:47:20.906008Z",
     "start_time": "2022-12-24T06:47:20.897202Z"
    }
   },
   "outputs": [
    {
     "data": {
      "text/html": [
       "<div>\n",
       "<style scoped>\n",
       "    .dataframe tbody tr th:only-of-type {\n",
       "        vertical-align: middle;\n",
       "    }\n",
       "\n",
       "    .dataframe tbody tr th {\n",
       "        vertical-align: top;\n",
       "    }\n",
       "\n",
       "    .dataframe thead th {\n",
       "        text-align: right;\n",
       "    }\n",
       "</style>\n",
       "<table border=\"1\" class=\"dataframe\">\n",
       "  <thead>\n",
       "    <tr style=\"text-align: right;\">\n",
       "      <th></th>\n",
       "      <th>user</th>\n",
       "      <th>item</th>\n",
       "    </tr>\n",
       "  </thead>\n",
       "  <tbody>\n",
       "    <tr>\n",
       "      <th>6</th>\n",
       "      <td>0</td>\n",
       "      <td>0</td>\n",
       "    </tr>\n",
       "    <tr>\n",
       "      <th>7</th>\n",
       "      <td>0</td>\n",
       "      <td>229</td>\n",
       "    </tr>\n",
       "    <tr>\n",
       "      <th>1</th>\n",
       "      <td>0</td>\n",
       "      <td>287</td>\n",
       "    </tr>\n",
       "    <tr>\n",
       "      <th>0</th>\n",
       "      <td>0</td>\n",
       "      <td>424</td>\n",
       "    </tr>\n",
       "    <tr>\n",
       "      <th>3</th>\n",
       "      <td>0</td>\n",
       "      <td>663</td>\n",
       "    </tr>\n",
       "    <tr>\n",
       "      <th>2</th>\n",
       "      <td>0</td>\n",
       "      <td>717</td>\n",
       "    </tr>\n",
       "    <tr>\n",
       "      <th>9</th>\n",
       "      <td>0</td>\n",
       "      <td>2812</td>\n",
       "    </tr>\n",
       "    <tr>\n",
       "      <th>8</th>\n",
       "      <td>0</td>\n",
       "      <td>3240</td>\n",
       "    </tr>\n",
       "    <tr>\n",
       "      <th>5</th>\n",
       "      <td>0</td>\n",
       "      <td>3994</td>\n",
       "    </tr>\n",
       "    <tr>\n",
       "      <th>4</th>\n",
       "      <td>0</td>\n",
       "      <td>4659</td>\n",
       "    </tr>\n",
       "  </tbody>\n",
       "</table>\n",
       "</div>"
      ],
      "text/plain": [
       "   user  item\n",
       "6     0     0\n",
       "7     0   229\n",
       "1     0   287\n",
       "0     0   424\n",
       "3     0   663\n",
       "2     0   717\n",
       "9     0  2812\n",
       "8     0  3240\n",
       "5     0  3994\n",
       "4     0  4659"
      ]
     },
     "execution_count": 118,
     "metadata": {},
     "output_type": "execute_result"
    }
   ],
   "source": [
    "sub3[sub3.user==0].sort_valuesalues('item')"
   ]
  },
  {
   "cell_type": "code",
   "execution_count": 218,
   "id": "0eec196c",
   "metadata": {
    "ExecuteTime": {
     "end_time": "2022-12-23T05:43:27.455395Z",
     "start_time": "2022-12-23T05:43:27.419044Z"
    }
   },
   "outputs": [],
   "source": [
    "sub2.user = sub2.user.map(uidx2user)\n",
    "sub2.item = sub2.item.map(iidx2item)"
   ]
  },
  {
   "cell_type": "code",
   "execution_count": 219,
   "id": "ab8280d0",
   "metadata": {
    "ExecuteTime": {
     "end_time": "2022-12-23T05:43:29.037970Z",
     "start_time": "2022-12-23T05:43:29.029143Z"
    }
   },
   "outputs": [
    {
     "data": {
      "text/html": [
       "<div>\n",
       "<style scoped>\n",
       "    .dataframe tbody tr th:only-of-type {\n",
       "        vertical-align: middle;\n",
       "    }\n",
       "\n",
       "    .dataframe tbody tr th {\n",
       "        vertical-align: top;\n",
       "    }\n",
       "\n",
       "    .dataframe thead th {\n",
       "        text-align: right;\n",
       "    }\n",
       "</style>\n",
       "<table border=\"1\" class=\"dataframe\">\n",
       "  <thead>\n",
       "    <tr style=\"text-align: right;\">\n",
       "      <th></th>\n",
       "      <th>user</th>\n",
       "      <th>item</th>\n",
       "    </tr>\n",
       "  </thead>\n",
       "  <tbody>\n",
       "    <tr>\n",
       "      <th>0</th>\n",
       "      <td>11</td>\n",
       "      <td>780</td>\n",
       "    </tr>\n",
       "    <tr>\n",
       "      <th>1</th>\n",
       "      <td>11</td>\n",
       "      <td>480</td>\n",
       "    </tr>\n",
       "    <tr>\n",
       "      <th>2</th>\n",
       "      <td>11</td>\n",
       "      <td>1270</td>\n",
       "    </tr>\n",
       "    <tr>\n",
       "      <th>3</th>\n",
       "      <td>11</td>\n",
       "      <td>1214</td>\n",
       "    </tr>\n",
       "    <tr>\n",
       "      <th>4</th>\n",
       "      <td>11</td>\n",
       "      <td>34048</td>\n",
       "    </tr>\n",
       "    <tr>\n",
       "      <th>...</th>\n",
       "      <td>...</td>\n",
       "      <td>...</td>\n",
       "    </tr>\n",
       "    <tr>\n",
       "      <th>313595</th>\n",
       "      <td>138493</td>\n",
       "      <td>4306</td>\n",
       "    </tr>\n",
       "    <tr>\n",
       "      <th>313596</th>\n",
       "      <td>138493</td>\n",
       "      <td>5218</td>\n",
       "    </tr>\n",
       "    <tr>\n",
       "      <th>313597</th>\n",
       "      <td>138493</td>\n",
       "      <td>7361</td>\n",
       "    </tr>\n",
       "    <tr>\n",
       "      <th>313598</th>\n",
       "      <td>138493</td>\n",
       "      <td>4973</td>\n",
       "    </tr>\n",
       "    <tr>\n",
       "      <th>313599</th>\n",
       "      <td>138493</td>\n",
       "      <td>1210</td>\n",
       "    </tr>\n",
       "  </tbody>\n",
       "</table>\n",
       "<p>313600 rows × 2 columns</p>\n",
       "</div>"
      ],
      "text/plain": [
       "          user   item\n",
       "0           11    780\n",
       "1           11    480\n",
       "2           11   1270\n",
       "3           11   1214\n",
       "4           11  34048\n",
       "...        ...    ...\n",
       "313595  138493   4306\n",
       "313596  138493   5218\n",
       "313597  138493   7361\n",
       "313598  138493   4973\n",
       "313599  138493   1210\n",
       "\n",
       "[313600 rows x 2 columns]"
      ]
     },
     "execution_count": 219,
     "metadata": {},
     "output_type": "execute_result"
    }
   ],
   "source": [
    "sub2"
   ]
  },
  {
   "cell_type": "code",
   "execution_count": 220,
   "id": "49153186",
   "metadata": {
    "ExecuteTime": {
     "end_time": "2022-12-23T05:43:33.743066Z",
     "start_time": "2022-12-23T05:43:33.730181Z"
    }
   },
   "outputs": [
    {
     "data": {
      "text/plain": [
       "False"
      ]
     },
     "execution_count": 220,
     "metadata": {},
     "output_type": "execute_result"
    }
   ],
   "source": [
    "sub2.item[0] in train[train.user==11].item"
   ]
  },
  {
   "cell_type": "code",
   "execution_count": 223,
   "id": "ab176bc0",
   "metadata": {
    "ExecuteTime": {
     "end_time": "2022-12-23T05:43:49.750233Z",
     "start_time": "2022-12-23T05:43:49.678648Z"
    }
   },
   "outputs": [
    {
     "data": {
      "text/html": [
       "<div>\n",
       "<style scoped>\n",
       "    .dataframe tbody tr th:only-of-type {\n",
       "        vertical-align: middle;\n",
       "    }\n",
       "\n",
       "    .dataframe tbody tr th {\n",
       "        vertical-align: top;\n",
       "    }\n",
       "\n",
       "    .dataframe thead th {\n",
       "        text-align: right;\n",
       "    }\n",
       "</style>\n",
       "<table border=\"1\" class=\"dataframe\">\n",
       "  <thead>\n",
       "    <tr style=\"text-align: right;\">\n",
       "      <th></th>\n",
       "      <th>user</th>\n",
       "      <th>item</th>\n",
       "    </tr>\n",
       "  </thead>\n",
       "  <tbody>\n",
       "    <tr>\n",
       "      <th>0</th>\n",
       "      <td>11</td>\n",
       "      <td>780</td>\n",
       "    </tr>\n",
       "    <tr>\n",
       "      <th>1</th>\n",
       "      <td>11</td>\n",
       "      <td>480</td>\n",
       "    </tr>\n",
       "    <tr>\n",
       "      <th>2</th>\n",
       "      <td>11</td>\n",
       "      <td>1270</td>\n",
       "    </tr>\n",
       "    <tr>\n",
       "      <th>3</th>\n",
       "      <td>11</td>\n",
       "      <td>1214</td>\n",
       "    </tr>\n",
       "    <tr>\n",
       "      <th>4</th>\n",
       "      <td>11</td>\n",
       "      <td>34048</td>\n",
       "    </tr>\n",
       "    <tr>\n",
       "      <th>5</th>\n",
       "      <td>11</td>\n",
       "      <td>8644</td>\n",
       "    </tr>\n",
       "    <tr>\n",
       "      <th>6</th>\n",
       "      <td>11</td>\n",
       "      <td>1</td>\n",
       "    </tr>\n",
       "    <tr>\n",
       "      <th>7</th>\n",
       "      <td>11</td>\n",
       "      <td>367</td>\n",
       "    </tr>\n",
       "    <tr>\n",
       "      <th>8</th>\n",
       "      <td>11</td>\n",
       "      <td>6502</td>\n",
       "    </tr>\n",
       "    <tr>\n",
       "      <th>9</th>\n",
       "      <td>11</td>\n",
       "      <td>5349</td>\n",
       "    </tr>\n",
       "  </tbody>\n",
       "</table>\n",
       "</div>"
      ],
      "text/plain": [
       "   user   item\n",
       "0    11    780\n",
       "1    11    480\n",
       "2    11   1270\n",
       "3    11   1214\n",
       "4    11  34048\n",
       "5    11   8644\n",
       "6    11      1\n",
       "7    11    367\n",
       "8    11   6502\n",
       "9    11   5349"
      ]
     },
     "execution_count": 223,
     "metadata": {},
     "output_type": "execute_result"
    }
   ],
   "source": [
    "for uid in sorted(set(sub2.user)):\n",
    "    sub2[(sub2.user==uid) & sub2.item.isin(train[train.user==uid].item)]\n",
    "    break"
   ]
  },
  {
   "cell_type": "markdown",
   "id": "934a19ad",
   "metadata": {},
   "source": [
    "## 제출파일 생성"
   ]
  },
  {
   "cell_type": "code",
   "execution_count": null,
   "id": "694acad4",
   "metadata": {},
   "outputs": [],
   "source": [
    "sub"
   ]
  },
  {
   "cell_type": "code",
   "execution_count": null,
   "id": "c221cde8",
   "metadata": {
    "ExecuteTime": {
     "end_time": "2022-12-21T15:04:20.200880Z",
     "start_time": "2022-12-21T15:04:19.735937Z"
    }
   },
   "outputs": [],
   "source": [
    "sub.user = sub.user.map(uidx2user)\n",
    "sub.item = sub.item.map(iidx2item)"
   ]
  },
  {
   "cell_type": "code",
   "execution_count": 132,
   "id": "5e53b487",
   "metadata": {
    "ExecuteTime": {
     "end_time": "2022-12-21T15:04:20.200880Z",
     "start_time": "2022-12-21T15:04:19.735937Z"
    }
   },
   "outputs": [],
   "source": [
    "sub.to_csv('EASE_1_0.csv',index=False)"
   ]
  },
  {
   "cell_type": "code",
   "execution_count": 133,
   "id": "ab3190bb",
   "metadata": {
    "ExecuteTime": {
     "end_time": "2022-12-21T15:04:20.213053Z",
     "start_time": "2022-12-21T15:04:20.203992Z"
    }
   },
   "outputs": [
    {
     "data": {
      "text/html": [
       "<div>\n",
       "<style scoped>\n",
       "    .dataframe tbody tr th:only-of-type {\n",
       "        vertical-align: middle;\n",
       "    }\n",
       "\n",
       "    .dataframe tbody tr th {\n",
       "        vertical-align: top;\n",
       "    }\n",
       "\n",
       "    .dataframe thead th {\n",
       "        text-align: right;\n",
       "    }\n",
       "</style>\n",
       "<table border=\"1\" class=\"dataframe\">\n",
       "  <thead>\n",
       "    <tr style=\"text-align: right;\">\n",
       "      <th></th>\n",
       "      <th>user</th>\n",
       "      <th>item</th>\n",
       "    </tr>\n",
       "  </thead>\n",
       "  <tbody>\n",
       "    <tr>\n",
       "      <th>0</th>\n",
       "      <td>11</td>\n",
       "      <td>4370</td>\n",
       "    </tr>\n",
       "    <tr>\n",
       "      <th>1</th>\n",
       "      <td>11</td>\n",
       "      <td>4886</td>\n",
       "    </tr>\n",
       "    <tr>\n",
       "      <th>2</th>\n",
       "      <td>11</td>\n",
       "      <td>47</td>\n",
       "    </tr>\n",
       "    <tr>\n",
       "      <th>3</th>\n",
       "      <td>11</td>\n",
       "      <td>32587</td>\n",
       "    </tr>\n",
       "    <tr>\n",
       "      <th>4</th>\n",
       "      <td>11</td>\n",
       "      <td>40815</td>\n",
       "    </tr>\n",
       "    <tr>\n",
       "      <th>...</th>\n",
       "      <td>...</td>\n",
       "      <td>...</td>\n",
       "    </tr>\n",
       "    <tr>\n",
       "      <th>313595</th>\n",
       "      <td>138493</td>\n",
       "      <td>8961</td>\n",
       "    </tr>\n",
       "    <tr>\n",
       "      <th>313596</th>\n",
       "      <td>138493</td>\n",
       "      <td>5349</td>\n",
       "    </tr>\n",
       "    <tr>\n",
       "      <th>313597</th>\n",
       "      <td>138493</td>\n",
       "      <td>4022</td>\n",
       "    </tr>\n",
       "    <tr>\n",
       "      <th>313598</th>\n",
       "      <td>138493</td>\n",
       "      <td>32587</td>\n",
       "    </tr>\n",
       "    <tr>\n",
       "      <th>313599</th>\n",
       "      <td>138493</td>\n",
       "      <td>53125</td>\n",
       "    </tr>\n",
       "  </tbody>\n",
       "</table>\n",
       "<p>313600 rows × 2 columns</p>\n",
       "</div>"
      ],
      "text/plain": [
       "          user   item\n",
       "0           11   4370\n",
       "1           11   4886\n",
       "2           11     47\n",
       "3           11  32587\n",
       "4           11  40815\n",
       "...        ...    ...\n",
       "313595  138493   8961\n",
       "313596  138493   5349\n",
       "313597  138493   4022\n",
       "313598  138493  32587\n",
       "313599  138493  53125\n",
       "\n",
       "[313600 rows x 2 columns]"
      ]
     },
     "execution_count": 133,
     "metadata": {},
     "output_type": "execute_result"
    }
   ],
   "source": [
    "sub"
   ]
  },
  {
   "cell_type": "code",
   "execution_count": 137,
   "id": "70286f5d",
   "metadata": {
    "ExecuteTime": {
     "end_time": "2022-12-21T15:05:21.943304Z",
     "start_time": "2022-12-21T15:05:21.906462Z"
    }
   },
   "outputs": [],
   "source": [
    "sub.user = sub.user.map(user2idx)\n",
    "sub.item = sub.item.map(item2idx)"
   ]
  },
  {
   "cell_type": "code",
   "execution_count": 144,
   "id": "0bf1ebf1",
   "metadata": {
    "ExecuteTime": {
     "end_time": "2022-12-21T15:18:58.572093Z",
     "start_time": "2022-12-21T15:18:58.563656Z"
    }
   },
   "outputs": [
    {
     "data": {
      "text/html": [
       "<div>\n",
       "<style scoped>\n",
       "    .dataframe tbody tr th:only-of-type {\n",
       "        vertical-align: middle;\n",
       "    }\n",
       "\n",
       "    .dataframe tbody tr th {\n",
       "        vertical-align: top;\n",
       "    }\n",
       "\n",
       "    .dataframe thead th {\n",
       "        text-align: right;\n",
       "    }\n",
       "</style>\n",
       "<table border=\"1\" class=\"dataframe\">\n",
       "  <thead>\n",
       "    <tr style=\"text-align: right;\">\n",
       "      <th></th>\n",
       "      <th>user</th>\n",
       "      <th>item</th>\n",
       "      <th>time</th>\n",
       "    </tr>\n",
       "  </thead>\n",
       "  <tbody>\n",
       "    <tr>\n",
       "      <th>0</th>\n",
       "      <td>0</td>\n",
       "      <td>2505</td>\n",
       "      <td>1230782529</td>\n",
       "    </tr>\n",
       "    <tr>\n",
       "      <th>1</th>\n",
       "      <td>0</td>\n",
       "      <td>109</td>\n",
       "      <td>1230782534</td>\n",
       "    </tr>\n",
       "    <tr>\n",
       "      <th>2</th>\n",
       "      <td>0</td>\n",
       "      <td>319</td>\n",
       "      <td>1230782539</td>\n",
       "    </tr>\n",
       "  </tbody>\n",
       "</table>\n",
       "</div>"
      ],
      "text/plain": [
       "   user  item        time\n",
       "0     0  2505  1230782529\n",
       "1     0   109  1230782534\n",
       "2     0   319  1230782539"
      ]
     },
     "execution_count": 144,
     "metadata": {},
     "output_type": "execute_result"
    }
   ],
   "source": [
    "train.columns=['user','item','time']\n",
    "train[:3]"
   ]
  },
  {
   "cell_type": "code",
   "execution_count": 138,
   "id": "cb8398ff",
   "metadata": {
    "ExecuteTime": {
     "end_time": "2022-12-21T15:05:25.644540Z",
     "start_time": "2022-12-21T15:05:23.939273Z"
    }
   },
   "outputs": [],
   "source": [
    "afterdf = sub.merge(train[['user','item','time']], on=['user','item'], how='left')"
   ]
  },
  {
   "cell_type": "code",
   "execution_count": 139,
   "id": "9d982a91",
   "metadata": {
    "ExecuteTime": {
     "end_time": "2022-12-21T15:05:25.908082Z",
     "start_time": "2022-12-21T15:05:25.900161Z"
    }
   },
   "outputs": [
    {
     "data": {
      "text/html": [
       "<div>\n",
       "<style scoped>\n",
       "    .dataframe tbody tr th:only-of-type {\n",
       "        vertical-align: middle;\n",
       "    }\n",
       "\n",
       "    .dataframe tbody tr th {\n",
       "        vertical-align: top;\n",
       "    }\n",
       "\n",
       "    .dataframe thead th {\n",
       "        text-align: right;\n",
       "    }\n",
       "</style>\n",
       "<table border=\"1\" class=\"dataframe\">\n",
       "  <thead>\n",
       "    <tr style=\"text-align: right;\">\n",
       "      <th></th>\n",
       "      <th>user</th>\n",
       "      <th>item</th>\n",
       "      <th>timestamp:float</th>\n",
       "    </tr>\n",
       "  </thead>\n",
       "  <tbody>\n",
       "  </tbody>\n",
       "</table>\n",
       "</div>"
      ],
      "text/plain": [
       "Empty DataFrame\n",
       "Columns: [user, item, timestamp:float]\n",
       "Index: []"
      ]
     },
     "execution_count": 139,
     "metadata": {},
     "output_type": "execute_result"
    }
   ],
   "source": [
    "afterdf[afterdf['timestamp:float'].notna()]"
   ]
  },
  {
   "cell_type": "markdown",
   "id": "76506ae7",
   "metadata": {},
   "source": [
    "## 시간 순서 잘 지켜졌는지 확인해보기"
   ]
  },
  {
   "cell_type": "code",
   "execution_count": 446,
   "id": "3ef26d81",
   "metadata": {
    "ExecuteTime": {
     "end_time": "2022-12-27T18:46:43.259680Z",
     "start_time": "2022-12-27T18:46:42.839988Z"
    }
   },
   "outputs": [],
   "source": [
    "train.user = train.user.map(uidx2user)\n",
    "train.item = train.item.map(iidx2item)"
   ]
  },
  {
   "cell_type": "code",
   "execution_count": 441,
   "id": "fab932ec",
   "metadata": {
    "ExecuteTime": {
     "end_time": "2022-12-27T18:45:51.185634Z",
     "start_time": "2022-12-27T18:45:51.182720Z"
    }
   },
   "outputs": [],
   "source": [
    "import time\n",
    "from time import localtime"
   ]
  },
  {
   "cell_type": "code",
   "execution_count": 442,
   "id": "5a4a7f14",
   "metadata": {
    "ExecuteTime": {
     "end_time": "2022-12-27T18:45:51.482105Z",
     "start_time": "2022-12-27T18:45:51.452113Z"
    }
   },
   "outputs": [],
   "source": [
    "data_path = '../../data/train'\n",
    "year_data = pd.read_csv(os.path.join(data_path, 'years.tsv'), sep='\\t')\n",
    "writer_data = pd.read_csv(os.path.join(data_path, 'writers.tsv'), sep='\\t')\n",
    "title_data = pd.read_csv(os.path.join(data_path, 'titles.tsv'), sep='\\t')\n",
    "genre_data = pd.read_csv(os.path.join(data_path, 'genres.tsv'), sep='\\t')\n",
    "director_data = pd.read_csv(os.path.join(data_path, 'directors.tsv'), sep='\\t')"
   ]
  },
  {
   "cell_type": "code",
   "execution_count": 469,
   "id": "3b0a680f",
   "metadata": {
    "ExecuteTime": {
     "end_time": "2022-12-27T19:20:23.855294Z",
     "start_time": "2022-12-27T19:20:11.804947Z"
    }
   },
   "outputs": [],
   "source": [
    "train['review_year'] = train['time'].apply(lambda x : localtime(x).tm_year)\n",
    "train.sort_values(['user','time'],inplace=True)\n",
    "user2lastyear = dict(train.groupby('user').review_year.max())"
   ]
  },
  {
   "cell_type": "markdown",
   "id": "a263311f",
   "metadata": {},
   "source": [
    "### train에 review_year, month, day, year_month 추가"
   ]
  },
  {
   "cell_type": "code",
   "execution_count": 153,
   "id": "1e85d4e3",
   "metadata": {
    "ExecuteTime": {
     "end_time": "2022-12-21T15:40:31.275714Z",
     "start_time": "2022-12-21T15:40:25.781666Z"
    }
   },
   "outputs": [],
   "source": [
    "train['review_year'] = train['time'].apply(lambda x : localtime(x).tm_year)"
   ]
  },
  {
   "cell_type": "code",
   "execution_count": 155,
   "id": "7f2e489c",
   "metadata": {
    "ExecuteTime": {
     "end_time": "2022-12-21T15:40:51.473586Z",
     "start_time": "2022-12-21T15:40:45.776149Z"
    }
   },
   "outputs": [],
   "source": [
    "train['month'] = train['time'].apply(lambda x : localtime(x).tm_mon)"
   ]
  },
  {
   "cell_type": "code",
   "execution_count": 156,
   "id": "b6d31858",
   "metadata": {
    "ExecuteTime": {
     "end_time": "2022-12-21T15:40:57.016193Z",
     "start_time": "2022-12-21T15:40:51.476743Z"
    }
   },
   "outputs": [],
   "source": [
    "train['day'] = train['time'].apply(lambda x : localtime(x).tm_mday)"
   ]
  },
  {
   "cell_type": "code",
   "execution_count": 166,
   "id": "26e44e2f",
   "metadata": {
    "ExecuteTime": {
     "end_time": "2022-12-21T16:04:34.188614Z",
     "start_time": "2022-12-21T16:04:26.152369Z"
    }
   },
   "outputs": [],
   "source": [
    "train['year_month'] = train['time'].apply(lambda x : time.strftime('%Y-%m',localtime(x)))"
   ]
  },
  {
   "cell_type": "code",
   "execution_count": 168,
   "id": "e97ef3c2",
   "metadata": {
    "ExecuteTime": {
     "end_time": "2022-12-21T16:04:52.690134Z",
     "start_time": "2022-12-21T16:04:47.387754Z"
    }
   },
   "outputs": [],
   "source": [
    "train.sort_values(['user','time'],inplace=True)"
   ]
  },
  {
   "cell_type": "code",
   "execution_count": 172,
   "id": "fde34908",
   "metadata": {
    "ExecuteTime": {
     "end_time": "2022-12-21T16:05:43.898586Z",
     "start_time": "2022-12-21T16:05:43.588994Z"
    }
   },
   "outputs": [],
   "source": [
    "user2lastyear = dict(train.groupby('user').review_year.max())"
   ]
  },
  {
   "cell_type": "code",
   "execution_count": 173,
   "id": "7d16d273",
   "metadata": {
    "ExecuteTime": {
     "end_time": "2022-12-21T16:05:48.642649Z",
     "start_time": "2022-12-21T16:05:44.450809Z"
    }
   },
   "outputs": [],
   "source": [
    "user2lastyearmonth = dict(train.groupby('user').year_month.max())"
   ]
  },
  {
   "cell_type": "code",
   "execution_count": 176,
   "id": "370e8f58",
   "metadata": {
    "ExecuteTime": {
     "end_time": "2022-12-21T16:06:26.122897Z",
     "start_time": "2022-12-21T16:06:26.107413Z"
    }
   },
   "outputs": [
    {
     "data": {
      "text/html": [
       "<div>\n",
       "<style scoped>\n",
       "    .dataframe tbody tr th:only-of-type {\n",
       "        vertical-align: middle;\n",
       "    }\n",
       "\n",
       "    .dataframe tbody tr th {\n",
       "        vertical-align: top;\n",
       "    }\n",
       "\n",
       "    .dataframe thead th {\n",
       "        text-align: right;\n",
       "    }\n",
       "</style>\n",
       "<table border=\"1\" class=\"dataframe\">\n",
       "  <thead>\n",
       "    <tr style=\"text-align: right;\">\n",
       "      <th></th>\n",
       "      <th>user</th>\n",
       "      <th>item</th>\n",
       "      <th>time</th>\n",
       "      <th>year</th>\n",
       "      <th>month</th>\n",
       "      <th>day</th>\n",
       "      <th>year_month</th>\n",
       "      <th>lastyear</th>\n",
       "      <th>last_yearmonth</th>\n",
       "    </tr>\n",
       "  </thead>\n",
       "  <tbody>\n",
       "    <tr>\n",
       "      <th>0</th>\n",
       "      <td>11</td>\n",
       "      <td>4643</td>\n",
       "      <td>1230782529</td>\n",
       "      <td>2009</td>\n",
       "      <td>1</td>\n",
       "      <td>1</td>\n",
       "      <td>2009-01</td>\n",
       "      <td>2011</td>\n",
       "      <td>2011-01</td>\n",
       "    </tr>\n",
       "    <tr>\n",
       "      <th>1</th>\n",
       "      <td>11</td>\n",
       "      <td>170</td>\n",
       "      <td>1230782534</td>\n",
       "      <td>2009</td>\n",
       "      <td>1</td>\n",
       "      <td>1</td>\n",
       "      <td>2009-01</td>\n",
       "      <td>2011</td>\n",
       "      <td>2011-01</td>\n",
       "    </tr>\n",
       "    <tr>\n",
       "      <th>2</th>\n",
       "      <td>11</td>\n",
       "      <td>531</td>\n",
       "      <td>1230782539</td>\n",
       "      <td>2009</td>\n",
       "      <td>1</td>\n",
       "      <td>1</td>\n",
       "      <td>2009-01</td>\n",
       "      <td>2011</td>\n",
       "      <td>2011-01</td>\n",
       "    </tr>\n",
       "    <tr>\n",
       "      <th>3</th>\n",
       "      <td>11</td>\n",
       "      <td>616</td>\n",
       "      <td>1230782542</td>\n",
       "      <td>2009</td>\n",
       "      <td>1</td>\n",
       "      <td>1</td>\n",
       "      <td>2009-01</td>\n",
       "      <td>2011</td>\n",
       "      <td>2011-01</td>\n",
       "    </tr>\n",
       "    <tr>\n",
       "      <th>4</th>\n",
       "      <td>11</td>\n",
       "      <td>2140</td>\n",
       "      <td>1230782563</td>\n",
       "      <td>2009</td>\n",
       "      <td>1</td>\n",
       "      <td>1</td>\n",
       "      <td>2009-01</td>\n",
       "      <td>2011</td>\n",
       "      <td>2011-01</td>\n",
       "    </tr>\n",
       "    <tr>\n",
       "      <th>...</th>\n",
       "      <td>...</td>\n",
       "      <td>...</td>\n",
       "      <td>...</td>\n",
       "      <td>...</td>\n",
       "      <td>...</td>\n",
       "      <td>...</td>\n",
       "      <td>...</td>\n",
       "      <td>...</td>\n",
       "      <td>...</td>\n",
       "    </tr>\n",
       "    <tr>\n",
       "      <th>5154466</th>\n",
       "      <td>138493</td>\n",
       "      <td>44022</td>\n",
       "      <td>1260209449</td>\n",
       "      <td>2009</td>\n",
       "      <td>12</td>\n",
       "      <td>7</td>\n",
       "      <td>2009-12</td>\n",
       "      <td>2009</td>\n",
       "      <td>2009-12</td>\n",
       "    </tr>\n",
       "    <tr>\n",
       "      <th>5154467</th>\n",
       "      <td>138493</td>\n",
       "      <td>4958</td>\n",
       "      <td>1260209482</td>\n",
       "      <td>2009</td>\n",
       "      <td>12</td>\n",
       "      <td>7</td>\n",
       "      <td>2009-12</td>\n",
       "      <td>2009</td>\n",
       "      <td>2009-12</td>\n",
       "    </tr>\n",
       "    <tr>\n",
       "      <th>5154468</th>\n",
       "      <td>138493</td>\n",
       "      <td>68319</td>\n",
       "      <td>1260209720</td>\n",
       "      <td>2009</td>\n",
       "      <td>12</td>\n",
       "      <td>7</td>\n",
       "      <td>2009-12</td>\n",
       "      <td>2009</td>\n",
       "      <td>2009-12</td>\n",
       "    </tr>\n",
       "    <tr>\n",
       "      <th>5154469</th>\n",
       "      <td>138493</td>\n",
       "      <td>40819</td>\n",
       "      <td>1260209726</td>\n",
       "      <td>2009</td>\n",
       "      <td>12</td>\n",
       "      <td>7</td>\n",
       "      <td>2009-12</td>\n",
       "      <td>2009</td>\n",
       "      <td>2009-12</td>\n",
       "    </tr>\n",
       "    <tr>\n",
       "      <th>5154470</th>\n",
       "      <td>138493</td>\n",
       "      <td>27311</td>\n",
       "      <td>1260209807</td>\n",
       "      <td>2009</td>\n",
       "      <td>12</td>\n",
       "      <td>7</td>\n",
       "      <td>2009-12</td>\n",
       "      <td>2009</td>\n",
       "      <td>2009-12</td>\n",
       "    </tr>\n",
       "  </tbody>\n",
       "</table>\n",
       "<p>5154471 rows × 9 columns</p>\n",
       "</div>"
      ],
      "text/plain": [
       "           user   item        time  year  month  day year_month  lastyear  \\\n",
       "0            11   4643  1230782529  2009      1    1    2009-01      2011   \n",
       "1            11    170  1230782534  2009      1    1    2009-01      2011   \n",
       "2            11    531  1230782539  2009      1    1    2009-01      2011   \n",
       "3            11    616  1230782542  2009      1    1    2009-01      2011   \n",
       "4            11   2140  1230782563  2009      1    1    2009-01      2011   \n",
       "...         ...    ...         ...   ...    ...  ...        ...       ...   \n",
       "5154466  138493  44022  1260209449  2009     12    7    2009-12      2009   \n",
       "5154467  138493   4958  1260209482  2009     12    7    2009-12      2009   \n",
       "5154468  138493  68319  1260209720  2009     12    7    2009-12      2009   \n",
       "5154469  138493  40819  1260209726  2009     12    7    2009-12      2009   \n",
       "5154470  138493  27311  1260209807  2009     12    7    2009-12      2009   \n",
       "\n",
       "        last_yearmonth  \n",
       "0              2011-01  \n",
       "1              2011-01  \n",
       "2              2011-01  \n",
       "3              2011-01  \n",
       "4              2011-01  \n",
       "...                ...  \n",
       "5154466        2009-12  \n",
       "5154467        2009-12  \n",
       "5154468        2009-12  \n",
       "5154469        2009-12  \n",
       "5154470        2009-12  \n",
       "\n",
       "[5154471 rows x 9 columns]"
      ]
     },
     "execution_count": 176,
     "metadata": {},
     "output_type": "execute_result"
    }
   ],
   "source": [
    "train"
   ]
  },
  {
   "cell_type": "markdown",
   "id": "27c6e034",
   "metadata": {},
   "source": [
    "### year 채워넣기"
   ]
  },
  {
   "cell_type": "code",
   "execution_count": 448,
   "id": "171162e2",
   "metadata": {
    "ExecuteTime": {
     "end_time": "2022-12-27T18:46:56.045328Z",
     "start_time": "2022-12-27T18:46:53.346466Z"
    }
   },
   "outputs": [
    {
     "data": {
      "text/html": [
       "<div>\n",
       "<style scoped>\n",
       "    .dataframe tbody tr th:only-of-type {\n",
       "        vertical-align: middle;\n",
       "    }\n",
       "\n",
       "    .dataframe tbody tr th {\n",
       "        vertical-align: top;\n",
       "    }\n",
       "\n",
       "    .dataframe thead th {\n",
       "        text-align: right;\n",
       "    }\n",
       "</style>\n",
       "<table border=\"1\" class=\"dataframe\">\n",
       "  <thead>\n",
       "    <tr style=\"text-align: right;\">\n",
       "      <th></th>\n",
       "      <th>user</th>\n",
       "      <th>item</th>\n",
       "      <th>time</th>\n",
       "      <th>review_year</th>\n",
       "      <th>title</th>\n",
       "      <th>year</th>\n",
       "    </tr>\n",
       "  </thead>\n",
       "  <tbody>\n",
       "    <tr>\n",
       "      <th>0</th>\n",
       "      <td>11</td>\n",
       "      <td>4643</td>\n",
       "      <td>1230782529</td>\n",
       "      <td>2009</td>\n",
       "      <td>Planet of the Apes (2001)</td>\n",
       "      <td>2001.0</td>\n",
       "    </tr>\n",
       "    <tr>\n",
       "      <th>1</th>\n",
       "      <td>11</td>\n",
       "      <td>170</td>\n",
       "      <td>1230782534</td>\n",
       "      <td>2009</td>\n",
       "      <td>Hackers (1995)</td>\n",
       "      <td>1995.0</td>\n",
       "    </tr>\n",
       "    <tr>\n",
       "      <th>2</th>\n",
       "      <td>11</td>\n",
       "      <td>531</td>\n",
       "      <td>1230782539</td>\n",
       "      <td>2009</td>\n",
       "      <td>Secret Garden, The (1993)</td>\n",
       "      <td>1993.0</td>\n",
       "    </tr>\n",
       "    <tr>\n",
       "      <th>3</th>\n",
       "      <td>11</td>\n",
       "      <td>616</td>\n",
       "      <td>1230782542</td>\n",
       "      <td>2009</td>\n",
       "      <td>Aristocats, The (1970)</td>\n",
       "      <td>1970.0</td>\n",
       "    </tr>\n",
       "    <tr>\n",
       "      <th>4</th>\n",
       "      <td>11</td>\n",
       "      <td>2140</td>\n",
       "      <td>1230782563</td>\n",
       "      <td>2009</td>\n",
       "      <td>Dark Crystal, The (1982)</td>\n",
       "      <td>1982.0</td>\n",
       "    </tr>\n",
       "  </tbody>\n",
       "</table>\n",
       "</div>"
      ],
      "text/plain": [
       "   user  item        time  review_year                      title    year\n",
       "0    11  4643  1230782529         2009  Planet of the Apes (2001)  2001.0\n",
       "1    11   170  1230782534         2009             Hackers (1995)  1995.0\n",
       "2    11   531  1230782539         2009  Secret Garden, The (1993)  1993.0\n",
       "3    11   616  1230782542         2009     Aristocats, The (1970)  1970.0\n",
       "4    11  2140  1230782563         2009   Dark Crystal, The (1982)  1982.0"
      ]
     },
     "execution_count": 448,
     "metadata": {},
     "output_type": "execute_result"
    }
   ],
   "source": [
    "merge_df = train.copy()\n",
    "side_info = [title_data,year_data]\n",
    "for side in side_info:\n",
    "    merge_df = merge_df.merge(side,how = 'left',on='item')\n",
    "merge_df.head()"
   ]
  },
  {
   "cell_type": "code",
   "execution_count": 449,
   "id": "191d1ea7",
   "metadata": {
    "ExecuteTime": {
     "end_time": "2022-12-27T18:46:57.695935Z",
     "start_time": "2022-12-27T18:46:56.048153Z"
    }
   },
   "outputs": [],
   "source": [
    "merge_df['year_from_title'] = merge_df['title'].apply(lambda x : (x[-5:-1]))"
   ]
  },
  {
   "cell_type": "code",
   "execution_count": 450,
   "id": "382ccb15",
   "metadata": {
    "ExecuteTime": {
     "end_time": "2022-12-27T18:46:58.055831Z",
     "start_time": "2022-12-27T18:46:57.697952Z"
    }
   },
   "outputs": [],
   "source": [
    "merge_df.loc[merge_df['year_from_title']=='007-','year_from_title'] = 2007"
   ]
  },
  {
   "cell_type": "code",
   "execution_count": 451,
   "id": "4c297be5",
   "metadata": {
    "ExecuteTime": {
     "end_time": "2022-12-27T18:47:02.580192Z",
     "start_time": "2022-12-27T18:47:01.902354Z"
    }
   },
   "outputs": [],
   "source": [
    "merge_df.year_from_title=merge_df.year_from_title.astype(int)"
   ]
  },
  {
   "cell_type": "code",
   "execution_count": 452,
   "id": "b825e518",
   "metadata": {
    "ExecuteTime": {
     "end_time": "2022-12-27T18:47:02.597094Z",
     "start_time": "2022-12-27T18:47:02.582699Z"
    }
   },
   "outputs": [],
   "source": [
    "cond = merge_df.year_from_title == merge_df.year"
   ]
  },
  {
   "cell_type": "code",
   "execution_count": 453,
   "id": "9b4afdbd",
   "metadata": {
    "ExecuteTime": {
     "end_time": "2022-12-27T18:47:02.996928Z",
     "start_time": "2022-12-27T18:47:02.599184Z"
    }
   },
   "outputs": [
    {
     "data": {
      "text/plain": [
       "Fawlty Towers (1975-1979)    163\n",
       "Name: title, dtype: int64"
      ]
     },
     "execution_count": 453,
     "metadata": {},
     "output_type": "execute_result"
    }
   ],
   "source": [
    "merge_df[~cond & merge_df.year.notna()].title.value_counts()"
   ]
  },
  {
   "cell_type": "code",
   "execution_count": 454,
   "id": "2aa627c6",
   "metadata": {
    "ExecuteTime": {
     "end_time": "2022-12-27T18:47:03.117586Z",
     "start_time": "2022-12-27T18:47:02.999601Z"
    }
   },
   "outputs": [],
   "source": [
    "merge_df.year = merge_df.year.fillna(merge_df.year_from_title)"
   ]
  },
  {
   "cell_type": "code",
   "execution_count": 455,
   "id": "909ff5c4",
   "metadata": {
    "ExecuteTime": {
     "end_time": "2022-12-27T18:47:03.197060Z",
     "start_time": "2022-12-27T18:47:03.119870Z"
    }
   },
   "outputs": [],
   "source": [
    "merge_df.year = merge_df.year.astype(int)"
   ]
  },
  {
   "cell_type": "code",
   "execution_count": null,
   "id": "4ae107aa",
   "metadata": {
    "ExecuteTime": {
     "end_time": "2022-12-27T18:47:04.062830Z",
     "start_time": "2022-12-27T18:47:04.035908Z"
    }
   },
   "outputs": [],
   "source": [
    "merge_df[merge_df.lastyear < merge_df.year]"
   ]
  },
  {
   "cell_type": "code",
   "execution_count": 460,
   "id": "58ec6d59",
   "metadata": {
    "ExecuteTime": {
     "end_time": "2022-12-27T18:47:55.470321Z",
     "start_time": "2022-12-27T18:47:55.075118Z"
    }
   },
   "outputs": [
    {
     "data": {
      "text/plain": [
       "6807"
      ]
     },
     "execution_count": 460,
     "metadata": {},
     "output_type": "execute_result"
    }
   ],
   "source": [
    "## item별 year이 모두 동일한지 첫번째값과 평균값이 같은 아이템들 확인 -> 모두 일치\n",
    "sum(merge_df.groupby('item').year.first() == merge_df.groupby('item').year.mean())"
   ]
  },
  {
   "cell_type": "code",
   "execution_count": 458,
   "id": "9de46561",
   "metadata": {
    "ExecuteTime": {
     "end_time": "2022-12-27T18:47:22.526898Z",
     "start_time": "2022-12-27T18:47:22.307924Z"
    }
   },
   "outputs": [],
   "source": [
    "item2year = dict(merge_df.groupby('item').year.first())"
   ]
  },
  {
   "cell_type": "code",
   "execution_count": 467,
   "id": "68ab688a",
   "metadata": {
    "ExecuteTime": {
     "end_time": "2022-12-27T19:19:46.511306Z",
     "start_time": "2022-12-27T19:19:46.198721Z"
    }
   },
   "outputs": [
    {
     "name": "stdout",
     "output_type": "stream",
     "text": [
      "iidx2item.pickle  item2year.pickle  user2idx.pickle\r\n",
      "item2idx.pickle   uidx2user.pickle\r\n"
     ]
    }
   ],
   "source": [
    "!ls baseline/index"
   ]
  },
  {
   "cell_type": "code",
   "execution_count": 464,
   "id": "f075c692",
   "metadata": {
    "ExecuteTime": {
     "end_time": "2022-12-27T19:19:26.141662Z",
     "start_time": "2022-12-27T19:19:26.138403Z"
    }
   },
   "outputs": [],
   "source": [
    "import pickle\n",
    "\n",
    "with open('baseline/index/item2year.pickle','wb') as f:\n",
    "    pickle.dump(item2year,f)"
   ]
  },
  {
   "cell_type": "code",
   "execution_count": 472,
   "id": "3efbd7e7",
   "metadata": {
    "ExecuteTime": {
     "end_time": "2022-12-27T19:21:08.851088Z",
     "start_time": "2022-12-27T19:21:08.772028Z"
    }
   },
   "outputs": [],
   "source": [
    "import pickle\n",
    "\n",
    "with open('baseline/index/userid2lastyear.pickle','wb') as f:\n",
    "    pickle.dump(user2lastyear,f)"
   ]
  },
  {
   "cell_type": "markdown",
   "id": "614bfa19",
   "metadata": {},
   "source": [
    "## sub 보기"
   ]
  },
  {
   "cell_type": "code",
   "execution_count": 474,
   "id": "e9b0029e",
   "metadata": {
    "ExecuteTime": {
     "end_time": "2022-12-27T19:29:45.157355Z",
     "start_time": "2022-12-27T19:29:45.114388Z"
    }
   },
   "outputs": [],
   "source": [
    "sub.user = sub.user.map(uidx2user)\n",
    "sub.item = sub.item.map(iidx2item)"
   ]
  },
  {
   "cell_type": "code",
   "execution_count": 475,
   "id": "458091f5",
   "metadata": {
    "ExecuteTime": {
     "end_time": "2022-12-27T19:29:47.408306Z",
     "start_time": "2022-12-27T19:29:47.362426Z"
    }
   },
   "outputs": [],
   "source": [
    "# sub['last_yearmonth']=sub.user.map(user2lastyearmonth)\n",
    "sub['lastyear']=sub.user.map(user2lastyear)\n",
    "sub['m_year'] = sub.item.map(item2year)"
   ]
  },
  {
   "cell_type": "code",
   "execution_count": 476,
   "id": "8381ee69",
   "metadata": {
    "ExecuteTime": {
     "end_time": "2022-12-27T19:29:47.750540Z",
     "start_time": "2022-12-27T19:29:47.740943Z"
    }
   },
   "outputs": [
    {
     "data": {
      "text/html": [
       "<div>\n",
       "<style scoped>\n",
       "    .dataframe tbody tr th:only-of-type {\n",
       "        vertical-align: middle;\n",
       "    }\n",
       "\n",
       "    .dataframe tbody tr th {\n",
       "        vertical-align: top;\n",
       "    }\n",
       "\n",
       "    .dataframe thead th {\n",
       "        text-align: right;\n",
       "    }\n",
       "</style>\n",
       "<table border=\"1\" class=\"dataframe\">\n",
       "  <thead>\n",
       "    <tr style=\"text-align: right;\">\n",
       "      <th></th>\n",
       "      <th>user</th>\n",
       "      <th>item</th>\n",
       "      <th>lastyear</th>\n",
       "      <th>m_year</th>\n",
       "    </tr>\n",
       "  </thead>\n",
       "  <tbody>\n",
       "    <tr>\n",
       "      <th>0</th>\n",
       "      <td>11</td>\n",
       "      <td>4370</td>\n",
       "      <td>2011</td>\n",
       "      <td>2001</td>\n",
       "    </tr>\n",
       "    <tr>\n",
       "      <th>1</th>\n",
       "      <td>11</td>\n",
       "      <td>4886</td>\n",
       "      <td>2011</td>\n",
       "      <td>2001</td>\n",
       "    </tr>\n",
       "    <tr>\n",
       "      <th>2</th>\n",
       "      <td>11</td>\n",
       "      <td>47</td>\n",
       "      <td>2011</td>\n",
       "      <td>1995</td>\n",
       "    </tr>\n",
       "    <tr>\n",
       "      <th>3</th>\n",
       "      <td>11</td>\n",
       "      <td>32587</td>\n",
       "      <td>2011</td>\n",
       "      <td>2005</td>\n",
       "    </tr>\n",
       "    <tr>\n",
       "      <th>4</th>\n",
       "      <td>11</td>\n",
       "      <td>40815</td>\n",
       "      <td>2011</td>\n",
       "      <td>2005</td>\n",
       "    </tr>\n",
       "    <tr>\n",
       "      <th>...</th>\n",
       "      <td>...</td>\n",
       "      <td>...</td>\n",
       "      <td>...</td>\n",
       "      <td>...</td>\n",
       "    </tr>\n",
       "    <tr>\n",
       "      <th>627195</th>\n",
       "      <td>138493</td>\n",
       "      <td>4720</td>\n",
       "      <td>2009</td>\n",
       "      <td>2001</td>\n",
       "    </tr>\n",
       "    <tr>\n",
       "      <th>627196</th>\n",
       "      <td>138493</td>\n",
       "      <td>293</td>\n",
       "      <td>2009</td>\n",
       "      <td>1994</td>\n",
       "    </tr>\n",
       "    <tr>\n",
       "      <th>627197</th>\n",
       "      <td>138493</td>\n",
       "      <td>2174</td>\n",
       "      <td>2009</td>\n",
       "      <td>1988</td>\n",
       "    </tr>\n",
       "    <tr>\n",
       "      <th>627198</th>\n",
       "      <td>138493</td>\n",
       "      <td>4848</td>\n",
       "      <td>2009</td>\n",
       "      <td>2001</td>\n",
       "    </tr>\n",
       "    <tr>\n",
       "      <th>627199</th>\n",
       "      <td>138493</td>\n",
       "      <td>4963</td>\n",
       "      <td>2009</td>\n",
       "      <td>2001</td>\n",
       "    </tr>\n",
       "  </tbody>\n",
       "</table>\n",
       "<p>627200 rows × 4 columns</p>\n",
       "</div>"
      ],
      "text/plain": [
       "          user   item  lastyear  m_year\n",
       "0           11   4370      2011    2001\n",
       "1           11   4886      2011    2001\n",
       "2           11     47      2011    1995\n",
       "3           11  32587      2011    2005\n",
       "4           11  40815      2011    2005\n",
       "...        ...    ...       ...     ...\n",
       "627195  138493   4720      2009    2001\n",
       "627196  138493    293      2009    1994\n",
       "627197  138493   2174      2009    1988\n",
       "627198  138493   4848      2009    2001\n",
       "627199  138493   4963      2009    2001\n",
       "\n",
       "[627200 rows x 4 columns]"
      ]
     },
     "execution_count": 476,
     "metadata": {},
     "output_type": "execute_result"
    }
   ],
   "source": [
    "sub"
   ]
  },
  {
   "cell_type": "code",
   "execution_count": 477,
   "id": "063f4921",
   "metadata": {
    "ExecuteTime": {
     "end_time": "2022-12-27T19:29:50.708087Z",
     "start_time": "2022-12-27T19:29:50.662619Z"
    }
   },
   "outputs": [],
   "source": [
    "sub2 = sub[sub.lastyear >= sub.m_year]"
   ]
  },
  {
   "cell_type": "code",
   "execution_count": 478,
   "id": "e0c41856",
   "metadata": {
    "ExecuteTime": {
     "end_time": "2022-12-27T19:29:51.902132Z",
     "start_time": "2022-12-27T19:29:51.892915Z"
    }
   },
   "outputs": [
    {
     "data": {
      "text/html": [
       "<div>\n",
       "<style scoped>\n",
       "    .dataframe tbody tr th:only-of-type {\n",
       "        vertical-align: middle;\n",
       "    }\n",
       "\n",
       "    .dataframe tbody tr th {\n",
       "        vertical-align: top;\n",
       "    }\n",
       "\n",
       "    .dataframe thead th {\n",
       "        text-align: right;\n",
       "    }\n",
       "</style>\n",
       "<table border=\"1\" class=\"dataframe\">\n",
       "  <thead>\n",
       "    <tr style=\"text-align: right;\">\n",
       "      <th></th>\n",
       "      <th>user</th>\n",
       "      <th>item</th>\n",
       "      <th>lastyear</th>\n",
       "      <th>m_year</th>\n",
       "    </tr>\n",
       "  </thead>\n",
       "  <tbody>\n",
       "    <tr>\n",
       "      <th>0</th>\n",
       "      <td>11</td>\n",
       "      <td>4370</td>\n",
       "      <td>2011</td>\n",
       "      <td>2001</td>\n",
       "    </tr>\n",
       "    <tr>\n",
       "      <th>1</th>\n",
       "      <td>11</td>\n",
       "      <td>4886</td>\n",
       "      <td>2011</td>\n",
       "      <td>2001</td>\n",
       "    </tr>\n",
       "    <tr>\n",
       "      <th>2</th>\n",
       "      <td>11</td>\n",
       "      <td>47</td>\n",
       "      <td>2011</td>\n",
       "      <td>1995</td>\n",
       "    </tr>\n",
       "    <tr>\n",
       "      <th>3</th>\n",
       "      <td>11</td>\n",
       "      <td>32587</td>\n",
       "      <td>2011</td>\n",
       "      <td>2005</td>\n",
       "    </tr>\n",
       "    <tr>\n",
       "      <th>4</th>\n",
       "      <td>11</td>\n",
       "      <td>40815</td>\n",
       "      <td>2011</td>\n",
       "      <td>2005</td>\n",
       "    </tr>\n",
       "    <tr>\n",
       "      <th>...</th>\n",
       "      <td>...</td>\n",
       "      <td>...</td>\n",
       "      <td>...</td>\n",
       "      <td>...</td>\n",
       "    </tr>\n",
       "    <tr>\n",
       "      <th>627195</th>\n",
       "      <td>138493</td>\n",
       "      <td>4720</td>\n",
       "      <td>2009</td>\n",
       "      <td>2001</td>\n",
       "    </tr>\n",
       "    <tr>\n",
       "      <th>627196</th>\n",
       "      <td>138493</td>\n",
       "      <td>293</td>\n",
       "      <td>2009</td>\n",
       "      <td>1994</td>\n",
       "    </tr>\n",
       "    <tr>\n",
       "      <th>627197</th>\n",
       "      <td>138493</td>\n",
       "      <td>2174</td>\n",
       "      <td>2009</td>\n",
       "      <td>1988</td>\n",
       "    </tr>\n",
       "    <tr>\n",
       "      <th>627198</th>\n",
       "      <td>138493</td>\n",
       "      <td>4848</td>\n",
       "      <td>2009</td>\n",
       "      <td>2001</td>\n",
       "    </tr>\n",
       "    <tr>\n",
       "      <th>627199</th>\n",
       "      <td>138493</td>\n",
       "      <td>4963</td>\n",
       "      <td>2009</td>\n",
       "      <td>2001</td>\n",
       "    </tr>\n",
       "  </tbody>\n",
       "</table>\n",
       "<p>626357 rows × 4 columns</p>\n",
       "</div>"
      ],
      "text/plain": [
       "          user   item  lastyear  m_year\n",
       "0           11   4370      2011    2001\n",
       "1           11   4886      2011    2001\n",
       "2           11     47      2011    1995\n",
       "3           11  32587      2011    2005\n",
       "4           11  40815      2011    2005\n",
       "...        ...    ...       ...     ...\n",
       "627195  138493   4720      2009    2001\n",
       "627196  138493    293      2009    1994\n",
       "627197  138493   2174      2009    1988\n",
       "627198  138493   4848      2009    2001\n",
       "627199  138493   4963      2009    2001\n",
       "\n",
       "[626357 rows x 4 columns]"
      ]
     },
     "execution_count": 478,
     "metadata": {},
     "output_type": "execute_result"
    }
   ],
   "source": [
    "sub2"
   ]
  },
  {
   "cell_type": "code",
   "execution_count": 485,
   "id": "628e4366",
   "metadata": {
    "ExecuteTime": {
     "end_time": "2022-12-27T19:32:30.806377Z",
     "start_time": "2022-12-27T19:32:30.764505Z"
    }
   },
   "outputs": [],
   "source": [
    "users = sub2.groupby('user').user.head(10).reset_index(drop=True)\n",
    "\n",
    "items = sub2.groupby('user').item.head(10).reset_index(drop=True)\n",
    "\n",
    "sub = pd.concat([users,items],axis=1)"
   ]
  },
  {
   "cell_type": "code",
   "execution_count": 276,
   "id": "0a856c54",
   "metadata": {
    "ExecuteTime": {
     "end_time": "2022-12-21T16:37:51.278536Z",
     "start_time": "2022-12-21T16:37:51.222509Z"
    }
   },
   "outputs": [],
   "source": [
    "df = pd.read_csv('EASE_1_0.csv')"
   ]
  },
  {
   "cell_type": "code",
   "execution_count": 282,
   "id": "575d5324",
   "metadata": {
    "ExecuteTime": {
     "end_time": "2022-12-21T16:38:36.735473Z",
     "start_time": "2022-12-21T16:38:36.690150Z"
    }
   },
   "outputs": [],
   "source": [
    "df['item2']= sub2.groupby('user').item.head(10).reset_index(drop=True)"
   ]
  },
  {
   "cell_type": "markdown",
   "id": "ad547288",
   "metadata": {},
   "source": [
    "### 이전 제출(1594)대비 현재 제출(1595)에서 달라진 부분 보기"
   ]
  },
  {
   "cell_type": "code",
   "execution_count": 324,
   "id": "0423bfe1",
   "metadata": {
    "ExecuteTime": {
     "end_time": "2022-12-21T17:08:12.245084Z",
     "start_time": "2022-12-21T17:08:10.690484Z"
    }
   },
   "outputs": [
    {
     "name": "stderr",
     "output_type": "stream",
     "text": [
      "100%|██████████████████████████████████████████████████| 313600/313600 [00:00<00:00, 562116.84it/s]\n"
     ]
    }
   ],
   "source": [
    "## 이전 제출(1594)대비 현재 제출(1595)에서 달라진 부분 보기\n",
    "idx_list=[]\n",
    "user_item2 = dict(df.groupby('user').item2.apply(list))\n",
    "for i in tqdm(df.itertuples(), total=df.shape[0]):\n",
    "    if i.item not in user_item2[i.user]:\n",
    "        idx_list.append(i.Index)"
   ]
  },
  {
   "cell_type": "code",
   "execution_count": 329,
   "id": "b0bef36c",
   "metadata": {
    "ExecuteTime": {
     "end_time": "2022-12-21T17:09:16.372543Z",
     "start_time": "2022-12-21T17:09:16.308170Z"
    }
   },
   "outputs": [],
   "source": [
    "df['lastyear'] = df.user.map(user2lastyear)\n",
    "df['last_yearmonth'] = df.user.map(user2lastyearmonth)\n",
    "df['m_year'] = df.item.map(item2year)"
   ]
  },
  {
   "cell_type": "code",
   "execution_count": 330,
   "id": "70a6f63b",
   "metadata": {
    "ExecuteTime": {
     "end_time": "2022-12-21T17:09:17.092727Z",
     "start_time": "2022-12-21T17:09:17.063107Z"
    }
   },
   "outputs": [
    {
     "data": {
      "text/html": [
       "<div>\n",
       "<style scoped>\n",
       "    .dataframe tbody tr th:only-of-type {\n",
       "        vertical-align: middle;\n",
       "    }\n",
       "\n",
       "    .dataframe tbody tr th {\n",
       "        vertical-align: top;\n",
       "    }\n",
       "\n",
       "    .dataframe thead th {\n",
       "        text-align: right;\n",
       "    }\n",
       "</style>\n",
       "<table border=\"1\" class=\"dataframe\">\n",
       "  <thead>\n",
       "    <tr style=\"text-align: right;\">\n",
       "      <th></th>\n",
       "      <th>user</th>\n",
       "      <th>item</th>\n",
       "      <th>item2</th>\n",
       "      <th>lastyear</th>\n",
       "      <th>last_yearmonth</th>\n",
       "      <th>m_year</th>\n",
       "    </tr>\n",
       "  </thead>\n",
       "  <tbody>\n",
       "    <tr>\n",
       "      <th>109</th>\n",
       "      <td>61</td>\n",
       "      <td>58559</td>\n",
       "      <td>48780</td>\n",
       "      <td>2007</td>\n",
       "      <td>2007-12</td>\n",
       "      <td>2008</td>\n",
       "    </tr>\n",
       "    <tr>\n",
       "      <th>1559</th>\n",
       "      <td>664</td>\n",
       "      <td>63436</td>\n",
       "      <td>8528</td>\n",
       "      <td>2007</td>\n",
       "      <td>2007-11</td>\n",
       "      <td>2008</td>\n",
       "    </tr>\n",
       "    <tr>\n",
       "      <th>2144</th>\n",
       "      <td>915</td>\n",
       "      <td>54286</td>\n",
       "      <td>4027</td>\n",
       "      <td>2006</td>\n",
       "      <td>2006-08</td>\n",
       "      <td>2007</td>\n",
       "    </tr>\n",
       "    <tr>\n",
       "      <th>3504</th>\n",
       "      <td>1539</td>\n",
       "      <td>79132</td>\n",
       "      <td>3949</td>\n",
       "      <td>2009</td>\n",
       "      <td>2009-07</td>\n",
       "      <td>2010</td>\n",
       "    </tr>\n",
       "    <tr>\n",
       "      <th>5019</th>\n",
       "      <td>2160</td>\n",
       "      <td>58559</td>\n",
       "      <td>111</td>\n",
       "      <td>2007</td>\n",
       "      <td>2007-01</td>\n",
       "      <td>2008</td>\n",
       "    </tr>\n",
       "    <tr>\n",
       "      <th>...</th>\n",
       "      <td>...</td>\n",
       "      <td>...</td>\n",
       "      <td>...</td>\n",
       "      <td>...</td>\n",
       "      <td>...</td>\n",
       "      <td>...</td>\n",
       "    </tr>\n",
       "    <tr>\n",
       "      <th>300758</th>\n",
       "      <td>132448</td>\n",
       "      <td>69844</td>\n",
       "      <td>2542</td>\n",
       "      <td>2007</td>\n",
       "      <td>2007-10</td>\n",
       "      <td>2009</td>\n",
       "    </tr>\n",
       "    <tr>\n",
       "      <th>307115</th>\n",
       "      <td>135535</td>\n",
       "      <td>58559</td>\n",
       "      <td>318</td>\n",
       "      <td>2005</td>\n",
       "      <td>2005-12</td>\n",
       "      <td>2008</td>\n",
       "    </tr>\n",
       "    <tr>\n",
       "      <th>307702</th>\n",
       "      <td>135798</td>\n",
       "      <td>88125</td>\n",
       "      <td>6539</td>\n",
       "      <td>2010</td>\n",
       "      <td>2010-12</td>\n",
       "      <td>2011</td>\n",
       "    </tr>\n",
       "    <tr>\n",
       "      <th>311225</th>\n",
       "      <td>137460</td>\n",
       "      <td>58559</td>\n",
       "      <td>745</td>\n",
       "      <td>2007</td>\n",
       "      <td>2007-09</td>\n",
       "      <td>2008</td>\n",
       "    </tr>\n",
       "    <tr>\n",
       "      <th>312617</th>\n",
       "      <td>138094</td>\n",
       "      <td>79132</td>\n",
       "      <td>4973</td>\n",
       "      <td>2009</td>\n",
       "      <td>2009-10</td>\n",
       "      <td>2010</td>\n",
       "    </tr>\n",
       "  </tbody>\n",
       "</table>\n",
       "<p>213 rows × 6 columns</p>\n",
       "</div>"
      ],
      "text/plain": [
       "          user   item  item2  lastyear last_yearmonth  m_year\n",
       "109         61  58559  48780      2007        2007-12    2008\n",
       "1559       664  63436   8528      2007        2007-11    2008\n",
       "2144       915  54286   4027      2006        2006-08    2007\n",
       "3504      1539  79132   3949      2009        2009-07    2010\n",
       "5019      2160  58559    111      2007        2007-01    2008\n",
       "...        ...    ...    ...       ...            ...     ...\n",
       "300758  132448  69844   2542      2007        2007-10    2009\n",
       "307115  135535  58559    318      2005        2005-12    2008\n",
       "307702  135798  88125   6539      2010        2010-12    2011\n",
       "311225  137460  58559    745      2007        2007-09    2008\n",
       "312617  138094  79132   4973      2009        2009-10    2010\n",
       "\n",
       "[213 rows x 6 columns]"
      ]
     },
     "execution_count": 330,
     "metadata": {},
     "output_type": "execute_result"
    }
   ],
   "source": [
    "df.iloc[idx_list,:]"
   ]
  },
  {
   "cell_type": "markdown",
   "id": "99cb6494",
   "metadata": {},
   "source": [
    "## 최종 제출 -> 1595"
   ]
  },
  {
   "cell_type": "code",
   "execution_count": 288,
   "id": "b9e0806a",
   "metadata": {
    "ExecuteTime": {
     "end_time": "2022-12-21T16:40:18.486363Z",
     "start_time": "2022-12-21T16:40:18.058834Z"
    }
   },
   "outputs": [],
   "source": [
    "df[['user','item2']].rename(columns={'item2':'item'}).to_csv(\"EASE_1_0_Top20_remove_review_after_movie.csv\",index=False)"
   ]
  }
 ],
 "metadata": {
  "kernelspec": {
   "display_name": "Python 3 (ipykernel)",
   "language": "python",
   "name": "python3"
  },
  "language_info": {
   "codemirror_mode": {
    "name": "ipython",
    "version": 3
   },
   "file_extension": ".py",
   "mimetype": "text/x-python",
   "name": "python",
   "nbconvert_exporter": "python",
   "pygments_lexer": "ipython3",
   "version": "3.8.5"
  },
  "toc": {
   "base_numbering": 1,
   "nav_menu": {},
   "number_sections": true,
   "sideBar": true,
   "skip_h1_title": false,
   "title_cell": "Table of Contents",
   "title_sidebar": "Contents",
   "toc_cell": false,
   "toc_position": {
    "height": "764px",
    "left": "26px",
    "top": "111.141px",
    "width": "386.391px"
   },
   "toc_section_display": true,
   "toc_window_display": true
  }
 },
 "nbformat": 4,
 "nbformat_minor": 5
}

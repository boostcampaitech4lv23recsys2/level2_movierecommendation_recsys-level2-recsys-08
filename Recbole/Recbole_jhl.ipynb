{
 "cells": [
  {
   "attachments": {},
   "cell_type": "markdown",
   "id": "2cd73963",
   "metadata": {},
   "source": [
    "# FMM Recbole 구현"
   ]
  },
  {
   "attachments": {},
   "cell_type": "markdown",
   "id": "61e884e8",
   "metadata": {},
   "source": [
    "### Recbole 라이브러리 로딩"
   ]
  },
  {
   "cell_type": "code",
   "execution_count": 2,
   "id": "5f451253",
   "metadata": {},
   "outputs": [
    {
     "name": "stdout",
     "output_type": "stream",
     "text": [
      "Requirement already satisfied: recbole in /opt/conda/envs/movie_rec/lib/python3.10/site-packages (1.1.1)\n",
      "Requirement already satisfied: tensorboard>=2.5.0 in /opt/conda/envs/movie_rec/lib/python3.10/site-packages (from recbole) (2.11.0)\n",
      "Requirement already satisfied: plotly>=4.0.0 in /opt/conda/envs/movie_rec/lib/python3.10/site-packages (from recbole) (5.11.0)\n",
      "Requirement already satisfied: pyyaml>=5.1.0 in /opt/conda/envs/movie_rec/lib/python3.10/site-packages (from recbole) (6.0)\n",
      "Requirement already satisfied: thop>=0.1.1.post2207130030 in /opt/conda/envs/movie_rec/lib/python3.10/site-packages (from recbole) (0.1.1.post2209072238)\n",
      "Requirement already satisfied: tqdm>=4.48.2 in /opt/conda/envs/movie_rec/lib/python3.10/site-packages (from recbole) (4.62.3)\n",
      "Requirement already satisfied: colorama==0.4.4 in /opt/conda/envs/movie_rec/lib/python3.10/site-packages (from recbole) (0.4.4)\n",
      "Requirement already satisfied: torch>=1.10.0 in /opt/conda/envs/movie_rec/lib/python3.10/site-packages (from recbole) (1.11.0)\n",
      "Requirement already satisfied: tabulate>=0.8.10 in /opt/conda/envs/movie_rec/lib/python3.10/site-packages (from recbole) (0.9.0)\n",
      "Requirement already satisfied: pandas>=1.0.5 in /opt/conda/envs/movie_rec/lib/python3.10/site-packages (from recbole) (1.5.2)\n",
      "Requirement already satisfied: scikit-learn>=0.23.2 in /opt/conda/envs/movie_rec/lib/python3.10/site-packages (from recbole) (1.2.0)\n",
      "Requirement already satisfied: scipy>=1.6.0 in /opt/conda/envs/movie_rec/lib/python3.10/site-packages (from recbole) (1.9.3)\n",
      "Requirement already satisfied: colorlog==4.7.2 in /opt/conda/envs/movie_rec/lib/python3.10/site-packages (from recbole) (4.7.2)\n",
      "Requirement already satisfied: numpy>=1.17.2 in /opt/conda/envs/movie_rec/lib/python3.10/site-packages (from recbole) (1.23.4)\n",
      "Requirement already satisfied: python-dateutil>=2.8.1 in /opt/conda/envs/movie_rec/lib/python3.10/site-packages (from pandas>=1.0.5->recbole) (2.8.2)\n",
      "Requirement already satisfied: pytz>=2020.1 in /opt/conda/envs/movie_rec/lib/python3.10/site-packages (from pandas>=1.0.5->recbole) (2022.1)\n",
      "Requirement already satisfied: tenacity>=6.2.0 in /opt/conda/envs/movie_rec/lib/python3.10/site-packages (from plotly>=4.0.0->recbole) (8.1.0)\n",
      "Requirement already satisfied: threadpoolctl>=2.0.0 in /opt/conda/envs/movie_rec/lib/python3.10/site-packages (from scikit-learn>=0.23.2->recbole) (3.1.0)\n",
      "Requirement already satisfied: joblib>=1.1.1 in /opt/conda/envs/movie_rec/lib/python3.10/site-packages (from scikit-learn>=0.23.2->recbole) (1.2.0)\n",
      "Requirement already satisfied: google-auth<3,>=1.6.3 in /opt/conda/envs/movie_rec/lib/python3.10/site-packages (from tensorboard>=2.5.0->recbole) (2.15.0)\n",
      "Requirement already satisfied: grpcio>=1.24.3 in /opt/conda/envs/movie_rec/lib/python3.10/site-packages (from tensorboard>=2.5.0->recbole) (1.51.1)\n",
      "Requirement already satisfied: markdown>=2.6.8 in /opt/conda/envs/movie_rec/lib/python3.10/site-packages (from tensorboard>=2.5.0->recbole) (3.4.1)\n",
      "Requirement already satisfied: setuptools>=41.0.0 in /opt/conda/envs/movie_rec/lib/python3.10/site-packages (from tensorboard>=2.5.0->recbole) (65.5.0)\n",
      "Requirement already satisfied: protobuf<4,>=3.9.2 in /opt/conda/envs/movie_rec/lib/python3.10/site-packages (from tensorboard>=2.5.0->recbole) (3.20.3)\n",
      "Requirement already satisfied: werkzeug>=1.0.1 in /opt/conda/envs/movie_rec/lib/python3.10/site-packages (from tensorboard>=2.5.0->recbole) (2.2.2)\n",
      "Requirement already satisfied: requests<3,>=2.21.0 in /opt/conda/envs/movie_rec/lib/python3.10/site-packages (from tensorboard>=2.5.0->recbole) (2.28.1)\n",
      "Requirement already satisfied: wheel>=0.26 in /opt/conda/envs/movie_rec/lib/python3.10/site-packages (from tensorboard>=2.5.0->recbole) (0.37.1)\n",
      "Requirement already satisfied: google-auth-oauthlib<0.5,>=0.4.1 in /opt/conda/envs/movie_rec/lib/python3.10/site-packages (from tensorboard>=2.5.0->recbole) (0.4.6)\n",
      "Requirement already satisfied: tensorboard-data-server<0.7.0,>=0.6.0 in /opt/conda/envs/movie_rec/lib/python3.10/site-packages (from tensorboard>=2.5.0->recbole) (0.6.1)\n",
      "Requirement already satisfied: absl-py>=0.4 in /opt/conda/envs/movie_rec/lib/python3.10/site-packages (from tensorboard>=2.5.0->recbole) (1.3.0)\n",
      "Requirement already satisfied: tensorboard-plugin-wit>=1.6.0 in /opt/conda/envs/movie_rec/lib/python3.10/site-packages (from tensorboard>=2.5.0->recbole) (1.8.1)\n",
      "Requirement already satisfied: typing-extensions in /opt/conda/envs/movie_rec/lib/python3.10/site-packages (from torch>=1.10.0->recbole) (4.1.1)\n",
      "Requirement already satisfied: cachetools<6.0,>=2.0.0 in /opt/conda/envs/movie_rec/lib/python3.10/site-packages (from google-auth<3,>=1.6.3->tensorboard>=2.5.0->recbole) (5.2.0)\n",
      "Requirement already satisfied: pyasn1-modules>=0.2.1 in /opt/conda/envs/movie_rec/lib/python3.10/site-packages (from google-auth<3,>=1.6.3->tensorboard>=2.5.0->recbole) (0.2.8)\n",
      "Requirement already satisfied: rsa<5,>=3.1.4 in /opt/conda/envs/movie_rec/lib/python3.10/site-packages (from google-auth<3,>=1.6.3->tensorboard>=2.5.0->recbole) (4.9)\n",
      "Requirement already satisfied: six>=1.9.0 in /opt/conda/envs/movie_rec/lib/python3.10/site-packages (from google-auth<3,>=1.6.3->tensorboard>=2.5.0->recbole) (1.16.0)\n",
      "Requirement already satisfied: requests-oauthlib>=0.7.0 in /opt/conda/envs/movie_rec/lib/python3.10/site-packages (from google-auth-oauthlib<0.5,>=0.4.1->tensorboard>=2.5.0->recbole) (1.3.1)\n",
      "Requirement already satisfied: certifi>=2017.4.17 in /opt/conda/envs/movie_rec/lib/python3.10/site-packages (from requests<3,>=2.21.0->tensorboard>=2.5.0->recbole) (2022.9.24)\n",
      "Requirement already satisfied: urllib3<1.27,>=1.21.1 in /opt/conda/envs/movie_rec/lib/python3.10/site-packages (from requests<3,>=2.21.0->tensorboard>=2.5.0->recbole) (1.26.13)\n",
      "Requirement already satisfied: idna<4,>=2.5 in /opt/conda/envs/movie_rec/lib/python3.10/site-packages (from requests<3,>=2.21.0->tensorboard>=2.5.0->recbole) (3.4)\n",
      "Requirement already satisfied: charset-normalizer<3,>=2 in /opt/conda/envs/movie_rec/lib/python3.10/site-packages (from requests<3,>=2.21.0->tensorboard>=2.5.0->recbole) (2.1.1)\n",
      "Requirement already satisfied: MarkupSafe>=2.1.1 in /opt/conda/envs/movie_rec/lib/python3.10/site-packages (from werkzeug>=1.0.1->tensorboard>=2.5.0->recbole) (2.1.1)\n",
      "Requirement already satisfied: pyasn1<0.5.0,>=0.4.6 in /opt/conda/envs/movie_rec/lib/python3.10/site-packages (from pyasn1-modules>=0.2.1->google-auth<3,>=1.6.3->tensorboard>=2.5.0->recbole) (0.4.8)\n",
      "Requirement already satisfied: oauthlib>=3.0.0 in /opt/conda/envs/movie_rec/lib/python3.10/site-packages (from requests-oauthlib>=0.7.0->google-auth-oauthlib<0.5,>=0.4.1->tensorboard>=2.5.0->recbole) (3.2.2)\n",
      "\u001b[33mWARNING: Running pip as the 'root' user can result in broken permissions and conflicting behaviour with the system package manager. It is recommended to use a virtual environment instead: https://pip.pypa.io/warnings/venv\u001b[0m\u001b[33m\n",
      "\u001b[0m"
     ]
    }
   ],
   "source": [
    "# !pip install recbole"
   ]
  },
  {
   "cell_type": "code",
   "execution_count": 44,
   "id": "0037a9f1",
   "metadata": {},
   "outputs": [
    {
     "name": "stdout",
     "output_type": "stream",
     "text": [
      "Collecting ray\n",
      "  Downloading ray-2.2.0-cp310-cp310-manylinux2014_x86_64.whl (57.4 MB)\n",
      "     l     ━━━━━━━━━━━━━━━━━━━━━━━━━━━━━━━━━━━━━━━━ 0.0/57.4 MB ? eta -:--:--━╺━━━━━━━━━━━━━━━━━━━━━━━━━━━━━━━━━━━━━━ 2.1/57.4 MB 118.4 MB/s eta 0:00:01━━╸━━━━━━━━━━━━━━━━━━━━━━━━━━━━━━━━━━━━━ 4.2/57.4 MB 61.8 MB/s eta 0:00:01━━━━━━╸━━━━━━━━━━━━━━━━━━━━━━━━━━━━━━━━━ 9.7/57.4 MB 93.1 MB/s eta 0:00:01━━━━━━━━━━╺━━━━━━━━━━━━━━━━━━━━━━━━━━━━ 15.4/57.4 MB 160.3 MB/s eta 0:00:01━━━━━━━━━━━━━━╸━━━━━━━━━━━━━━━━━━━━━━━━ 21.5/57.4 MB 174.8 MB/s eta 0:00:01━━━━━━━━━━━━━━━━━━╸━━━━━━━━━━━━━━━━━━━━ 27.7/57.4 MB 177.9 MB/s eta 0:00:01━━━━━━━━━━━━━━━━━━━━━━╸━━━━━━━━━━━━━━━━ 33.7/57.4 MB 172.7 MB/s eta 0:00:01━━━━━━━━━━━━━━━━━━━━━━━━━━━╺━━━━━━━━━━━ 39.8/57.4 MB 174.2 MB/s eta 0:00:01━━━━━━━━━━━━━━━━━━━━━━━━━━━━━━━╺━━━━━━━ 45.9/57.4 MB 173.1 MB/s eta 0:00:01━━━━━━━━━━━━━━━━━━━━━━━━━━━━━━━━━━━╺━━━ 52.1/57.4 MB 178.2 MB/s eta 0:00:01━━━━━━━━━━━━━━━━━━━━━━━━━━━━━━━━━━━━━━╸ 57.4/57.4 MB 181.0 MB/s eta 0:00:01━━━━━━━━━━━━━━━━━━━━━━━━━━━━━━━━━━━━━━╸ 57.4/57.4 MB 181.0 MB/s eta 0:00:01━━━━━━━━━━━━━━━━━━━━━━━━━━━━━━━━━━━━━━╸ 57.4/57.4 MB 181.0 MB/s eta 0:00:01━━━━━━━━━━━━━━━━━━━━━━━━━━━━━━━━━━━━━━╸ 57.4/57.4 MB 181.0 MB/s eta 0:00:01━━━━━━━━━━━━━━━━━━━━━━━━━━━━━━━━━━━━━━╸ 57.4/57.4 MB 181.0 MB/s eta 0:00:01━━━━━━━━━━━━━━━━━━━━━━━━━━━━━━━━━━━━━━╸ 57.4/57.4 MB 181.0 MB/s eta 0:00:01━━━━━━━━━━━━━━━━━━━━━━━━━━━━━━━━━━━━━━╸ 57.4/57.4 MB 181.0 MB/s eta 0:00:01━━━━━━━━━━━━━━━━━━━━━━━━━━━━━━━━━━━━━━━━ 57.4/57.4 MB 32.7 MB/s eta 0:00:00\n",
      "\u001b[?25hCollecting jsonschema\n",
      "  Downloading jsonschema-4.17.3-py3-none-any.whl (90 kB)\n",
      "     l     ━━━━━━━━━━━━━━━━━━━━━━━━━━━━━━━━━━━━━━━━ 0.0/90.4 kB ? eta -:--:--━━━━━━━━━━━━━━━━━━━━━━━━━━━━━━━━━━━━━━━━ 90.4/90.4 kB 18.2 MB/s eta 0:00:00\n",
      "\u001b[?25hRequirement already satisfied: packaging in /opt/conda/envs/movie_rec/lib/python3.10/site-packages (from ray) (21.3)\n",
      "Collecting attrs\n",
      "  Downloading attrs-22.2.0-py3-none-any.whl (60 kB)\n",
      "     l     ━━━━━━━━━━━━━━━━━━━━━━━━━━━━━━━━━━━━━━━━ 0.0/60.0 kB ? eta -:--:--━━━━━━━━━━━━━━━━━━━━━━━━━━━━━━━━━━━━━━━━ 60.0/60.0 kB 15.4 MB/s eta 0:00:00\n",
      "\u001b[?25hCollecting virtualenv>=20.0.24\n",
      "  Downloading virtualenv-20.17.1-py3-none-any.whl (8.8 MB)\n",
      "     l     ━━━━━━━━━━━━━━━━━━━━━━━━━━━━━━━━━━━━━━━━ 0.0/8.8 MB ? eta -:--:--━━━━━━━━━━━━━━━━━━━━━━━━━━━╺━━━━━━━━━━━━ 6.0/8.8 MB 181.2 MB/s eta 0:00:01━━━━━━━━━━━━━━━━━━━━━━━━━━━━━━━━━━━━━━━╸ 8.8/8.8 MB 181.7 MB/s eta 0:00:01━━━━━━━━━━━━━━━━━━━━━━━━━━━━━━━━━━━━━━━━ 8.8/8.8 MB 93.6 MB/s eta 0:00:00\n",
      "\u001b[?25hRequirement already satisfied: grpcio>=1.42.0 in /opt/conda/envs/movie_rec/lib/python3.10/site-packages (from ray) (1.51.1)\n",
      "Requirement already satisfied: numpy>=1.19.3 in /opt/conda/envs/movie_rec/lib/python3.10/site-packages (from ray) (1.23.4)\n",
      "Requirement already satisfied: protobuf!=3.19.5,>=3.15.3 in /opt/conda/envs/movie_rec/lib/python3.10/site-packages (from ray) (3.20.3)\n",
      "Collecting filelock\n",
      "  Downloading filelock-3.8.2-py3-none-any.whl (10 kB)\n",
      "Collecting click>=7.0\n",
      "  Downloading click-8.1.3-py3-none-any.whl (96 kB)\n",
      "     l     ━━━━━━━━━━━━━━━━━━━━━━━━━━━━━━━━━━━━━━━━ 0.0/96.6 kB ? eta -:--:--━━━━━━━━━━━━━━━━━━━━━━━━━━━━━━━━━━━━━━━━ 96.6/96.6 kB 19.8 MB/s eta 0:00:00\n",
      "\u001b[?25hCollecting frozenlist\n",
      "  Downloading frozenlist-1.3.3-cp310-cp310-manylinux_2_5_x86_64.manylinux1_x86_64.manylinux_2_17_x86_64.manylinux2014_x86_64.whl (149 kB)\n",
      "     l     ━━━━━━━━━━━━━━━━━━━━━━━━━━━━━━━━━━━━━━━━ 0.0/149.6 kB ? eta -:--:--━━━━━━━━━━━━━━━━━━━━━━━━━━━━━━━━━━━━━━ 149.6/149.6 kB 23.2 MB/s eta 0:00:00\n",
      "\u001b[?25hRequirement already satisfied: pyyaml in /opt/conda/envs/movie_rec/lib/python3.10/site-packages (from ray) (6.0)\n",
      "Collecting msgpack<2.0.0,>=1.0.0\n",
      "  Downloading msgpack-1.0.4-cp310-cp310-manylinux_2_17_x86_64.manylinux2014_x86_64.whl (316 kB)\n",
      "     l     ━━━━━━━━━━━━━━━━━━━━━━━━━━━━━━━━━━━━━━━━ 0.0/317.0 kB ? eta -:--:--━━━━━━━━━━━━━━━━━━━━━━━━━━━━━━━━━━━━━━ 317.0/317.0 kB 49.9 MB/s eta 0:00:00\n",
      "\u001b[?25hRequirement already satisfied: requests in /opt/conda/envs/movie_rec/lib/python3.10/site-packages (from ray) (2.28.1)\n",
      "Collecting aiosignal\n",
      "  Downloading aiosignal-1.3.1-py3-none-any.whl (7.6 kB)\n",
      "Collecting distlib<1,>=0.3.6\n",
      "  Downloading distlib-0.3.6-py2.py3-none-any.whl (468 kB)\n",
      "     l     ━━━━━━━━━━━━━━━━━━━━━━━━━━━━━━━━━━━━━━━━ 0.0/468.5 kB ? eta -:--:--━━━━━━━━━━━━━━━━━━━━━━━━━━━━━━━━━━━━━━ 468.5/468.5 kB 46.6 MB/s eta 0:00:00\n",
      "\u001b[?25hCollecting platformdirs<3,>=2.4\n",
      "  Downloading platformdirs-2.6.0-py3-none-any.whl (14 kB)\n",
      "Collecting pyrsistent!=0.17.0,!=0.17.1,!=0.17.2,>=0.14.0\n",
      "  Downloading pyrsistent-0.19.2-py3-none-any.whl (57 kB)\n",
      "     l     ━━━━━━━━━━━━━━━━━━━━━━━━━━━━━━━━━━━━━━━━ 0.0/57.5 kB ? eta -:--:--━━━━━━━━━━━━━━━━━━━━━━━━━━━━━━━━━━━━━━━━ 57.5/57.5 kB 7.8 MB/s eta 0:00:00\n",
      "\u001b[?25hRequirement already satisfied: pyparsing!=3.0.5,>=2.0.2 in /opt/conda/envs/movie_rec/lib/python3.10/site-packages (from packaging->ray) (3.0.9)\n",
      "Requirement already satisfied: charset-normalizer<3,>=2 in /opt/conda/envs/movie_rec/lib/python3.10/site-packages (from requests->ray) (2.1.1)\n",
      "Requirement already satisfied: certifi>=2017.4.17 in /opt/conda/envs/movie_rec/lib/python3.10/site-packages (from requests->ray) (2022.9.24)\n",
      "Requirement already satisfied: idna<4,>=2.5 in /opt/conda/envs/movie_rec/lib/python3.10/site-packages (from requests->ray) (3.4)\n",
      "Requirement already satisfied: urllib3<1.27,>=1.21.1 in /opt/conda/envs/movie_rec/lib/python3.10/site-packages (from requests->ray) (1.26.13)\n",
      "Installing collected packages: msgpack, distlib, pyrsistent, platformdirs, frozenlist, filelock, click, attrs, virtualenv, jsonschema, aiosignal, ray\n",
      "Successfully installed aiosignal-1.3.1 attrs-22.2.0 click-8.1.3 distlib-0.3.6 filelock-3.8.2 frozenlist-1.3.3 jsonschema-4.17.3 msgpack-1.0.4 platformdirs-2.6.0 pyrsistent-0.19.2 ray-2.2.0 virtualenv-20.17.1\n",
      "WARNING: Running pip as the 'root' user can result in broken permissions and conflicting behaviour with the system package manager. It is recommended to use a virtual environment instead: https://pip.pypa.io/warnings/venv\n"
     ]
    }
   ],
   "source": [
    "# !pip install ray"
   ]
  },
  {
   "cell_type": "code",
   "execution_count": 58,
   "id": "656860e8",
   "metadata": {},
   "outputs": [],
   "source": [
    "from IPython.core.interactiveshell import InteractiveShell\n",
    "InteractiveShell.ast_node_interactivity=\"all\"\n",
    "\n",
    "from logging import getLogger\n",
    "import os\n",
    "import json\n",
    "import numpy as np\n",
    "import pandas as pd\n",
    "import time, datetime\n",
    "from tqdm import tqdm\n",
    "\n",
    "from recbole.model.context_aware_recommender.ffm import FFM\n",
    "\n",
    "from recbole.config import Config\n",
    "from recbole.data import create_dataset, data_preparation\n",
    "from recbole.data.interaction import Interaction\n",
    "from recbole.utils import init_logger, get_trainer, init_seed, set_color, get_model\n",
    "from recbole.quick_start.quick_start import load_data_and_model\n",
    "\n",
    "from recbole.config import Config\n",
    "from recbole.data import create_dataset\n",
    "\n",
    "from sklearn.metrics import accuracy_score, roc_auc_score\n",
    "from sklearn.metrics import ndcg_score, recall_score\n",
    "\n",
    "import torch"
   ]
  },
  {
   "attachments": {},
   "cell_type": "markdown",
   "id": "049a025e",
   "metadata": {},
   "source": [
    "### 데이터 로드"
   ]
  },
  {
   "cell_type": "code",
   "execution_count": 59,
   "id": "7bf1eb53",
   "metadata": {},
   "outputs": [],
   "source": [
    "train_df = pd.read_csv('/opt/ml/input/data/train/train_ratings.csv')"
   ]
  },
  {
   "cell_type": "code",
   "execution_count": 60,
   "id": "4eeda3be",
   "metadata": {},
   "outputs": [
    {
     "name": "stdout",
     "output_type": "stream",
     "text": [
      "<class 'pandas.core.frame.DataFrame'>\n",
      "RangeIndex: 5154471 entries, 0 to 5154470\n",
      "Data columns (total 3 columns):\n",
      " #   Column  Dtype\n",
      "---  ------  -----\n",
      " 0   user    int64\n",
      " 1   item    int64\n",
      " 2   time    int64\n",
      "dtypes: int64(3)\n",
      "memory usage: 118.0 MB\n"
     ]
    }
   ],
   "source": [
    "train_df.info()"
   ]
  },
  {
   "cell_type": "code",
   "execution_count": 63,
   "id": "754874f6",
   "metadata": {},
   "outputs": [],
   "source": [
    "data_path = '/opt/ml/input/data/train'\n",
    "year_data = pd.read_csv(os.path.join(data_path, 'years.tsv'), sep='\\t')\n",
    "writer_data = pd.read_csv(os.path.join(data_path, 'writers.tsv'), sep='\\t')\n",
    "title_data = pd.read_csv(os.path.join(data_path, 'titles.tsv'), sep='\\t')\n",
    "genre_data = pd.read_csv(os.path.join(data_path, 'genres.tsv'), sep='\\t')\n",
    "director_data = pd.read_csv(os.path.join(data_path, 'directors.tsv'), sep='\\t')"
   ]
  },
  {
   "cell_type": "code",
   "execution_count": 64,
   "id": "80736508",
   "metadata": {},
   "outputs": [],
   "source": [
    "df_merge = pd.merge(train_df, year_data.drop_duplicates(subset=['item']), on='item', how='inner')\n",
    "df_merge = pd.merge(df_merge, writer_data.drop_duplicates(subset=['item']), on='item', how='inner')\n",
    "df_merge = pd.merge(df_merge, title_data.drop_duplicates(subset=['item']), on='item', how='inner')\n",
    "df_merge = pd.merge(df_merge, genre_data.drop_duplicates(subset=['item']), on='item', how='inner')\n",
    "df_merge = pd.merge(df_merge, director_data.drop_duplicates(subset=['item']), on='item', how='inner')"
   ]
  },
  {
   "cell_type": "code",
   "execution_count": 65,
   "id": "eaa10731",
   "metadata": {},
   "outputs": [],
   "source": [
    "train_data = df_merge[['user', 'item', 'time']]"
   ]
  },
  {
   "cell_type": "code",
   "execution_count": 66,
   "id": "940e39f2",
   "metadata": {},
   "outputs": [],
   "source": [
    "user_data = df_merge[['user']]"
   ]
  },
  {
   "cell_type": "code",
   "execution_count": 67,
   "id": "d7b2c7b8",
   "metadata": {},
   "outputs": [],
   "source": [
    "item_data = df_merge[['item', 'year', 'writer', 'title', 'genre', 'director']].drop_duplicates(subset=['item'])"
   ]
  },
  {
   "cell_type": "code",
   "execution_count": 68,
   "id": "bd414cdc",
   "metadata": {},
   "outputs": [
    {
     "name": "stdout",
     "output_type": "stream",
     "text": [
      "<class 'pandas.core.frame.DataFrame'>\n",
      "Int64Index: 4658299 entries, 0 to 4658298\n",
      "Data columns (total 3 columns):\n",
      " #   Column  Dtype\n",
      "---  ------  -----\n",
      " 0   user    int64\n",
      " 1   item    int64\n",
      " 2   time    int64\n",
      "dtypes: int64(3)\n",
      "memory usage: 142.2 MB\n"
     ]
    }
   ],
   "source": [
    "train_data.info()"
   ]
  },
  {
   "cell_type": "code",
   "execution_count": 69,
   "id": "b31ea219",
   "metadata": {},
   "outputs": [
    {
     "name": "stdout",
     "output_type": "stream",
     "text": [
      "n_user : 31360\n",
      "n_item : 4967\n"
     ]
    }
   ],
   "source": [
    "userid, itemid = list(set(train_data.user)), list(set(train_data.item))\n",
    "n_user, n_item = len(userid), len(itemid)\n",
    "print(f'n_user : {n_user}')\n",
    "print(f'n_item : {n_item}')"
   ]
  },
  {
   "attachments": {},
   "cell_type": "markdown",
   "id": "043f7e24",
   "metadata": {},
   "source": [
    "### 데이터 전처리"
   ]
  },
  {
   "cell_type": "code",
   "execution_count": null,
   "id": "bd17ee70",
   "metadata": {},
   "outputs": [],
   "source": []
  },
  {
   "attachments": {},
   "cell_type": "markdown",
   "id": "d043e6eb",
   "metadata": {},
   "source": [
    "### 데이터 파일 변환\n",
    "\n",
    "기존 데이터 파일을 Recbole 데이터 파일로 변환시키는 과정"
   ]
  },
  {
   "cell_type": "code",
   "execution_count": 70,
   "id": "dd4f31f8",
   "metadata": {},
   "outputs": [],
   "source": [
    "userid, itemid = sorted(userid), sorted(itemid)\n",
    "n_user, n_item = len(userid), len(itemid)\n",
    "\n",
    "userid_2_index = {v:i for i,v in enumerate(userid)}\n",
    "itemid_2_index = {v:i for i,v in enumerate(itemid)}\n",
    "index_2_userid = {i:v for i,v in enumerate(userid)}\n",
    "index_2_itemid = {i:v for i,v in enumerate(itemid)}"
   ]
  },
  {
   "cell_type": "code",
   "execution_count": 71,
   "id": "921af69e",
   "metadata": {},
   "outputs": [],
   "source": [
    "yamldata = \"\"\"\n",
    "field_separator: \"\\t\"\n",
    "USER_ID_FIELD: user_id\n",
    "ITEM_ID_FIELD: item_id\n",
    "TIME_FIELD: timestamp\n",
    "\n",
    "load_col:\n",
    "    inter: [user_id, item_id, timestamp]\n",
    "    user: [user_id]\n",
    "    item: [item_id, year, writer, title, genre, director]\n",
    "\n",
    "train_neg_sample_args:\n",
    "    uniform: 1\n",
    "    \n",
    "eval_args:\n",
    "    split: {'RS': [4, 1, 1]}\n",
    "    group_by: user\n",
    "    order: RO\n",
    "    mode: full\n",
    "metrics: ['Recall', 'MRR', 'NDCG', 'Hit', 'Precision', 'MAP']\n",
    "topk: 10\n",
    "valid_metric: Recall@10\n",
    "\"\"\""
   ]
  },
  {
   "cell_type": "code",
   "execution_count": 72,
   "id": "a6b7236c",
   "metadata": {},
   "outputs": [
    {
     "name": "stderr",
     "output_type": "stream",
     "text": [
      "/tmp/ipykernel_31790/1297655130.py:1: SettingWithCopyWarning: \n",
      "A value is trying to be set on a copy of a slice from a DataFrame.\n",
      "Try using .loc[row_indexer,col_indexer] = value instead\n",
      "\n",
      "See the caveats in the documentation: https://pandas.pydata.org/pandas-docs/stable/user_guide/indexing.html#returning-a-view-versus-a-copy\n",
      "  train_data.user = train_data.user.map(userid_2_index)\n",
      "/tmp/ipykernel_31790/1297655130.py:2: SettingWithCopyWarning: \n",
      "A value is trying to be set on a copy of a slice from a DataFrame.\n",
      "Try using .loc[row_indexer,col_indexer] = value instead\n",
      "\n",
      "See the caveats in the documentation: https://pandas.pydata.org/pandas-docs/stable/user_guide/indexing.html#returning-a-view-versus-a-copy\n",
      "  train_data.item = train_data.item.map(itemid_2_index)\n",
      "/tmp/ipykernel_31790/1297655130.py:4: SettingWithCopyWarning: \n",
      "A value is trying to be set on a copy of a slice from a DataFrame.\n",
      "Try using .loc[row_indexer,col_indexer] = value instead\n",
      "\n",
      "See the caveats in the documentation: https://pandas.pydata.org/pandas-docs/stable/user_guide/indexing.html#returning-a-view-versus-a-copy\n",
      "  user_data.user = user_data.user.map(userid_2_index)\n"
     ]
    }
   ],
   "source": [
    "train_data.user = train_data.user.map(userid_2_index)\n",
    "train_data.item = train_data.item.map(itemid_2_index)\n",
    "\n",
    "user_data.user = user_data.user.map(userid_2_index)\n",
    "item_data.item = item_data.item.map(itemid_2_index)"
   ]
  },
  {
   "cell_type": "code",
   "execution_count": 73,
   "id": "dd5f3b92",
   "metadata": {},
   "outputs": [],
   "source": [
    "train_data.columns=['user_id:token', 'item_id:token', 'timestamp:float']\n",
    "user_data.columns=['user_id:token']\n",
    "item_data.columns=['item_id:token', 'year:float', 'writer:token', 'title:token', 'genre:token', 'director:token']\n"
   ]
  },
  {
   "cell_type": "code",
   "execution_count": 74,
   "id": "5f344922",
   "metadata": {},
   "outputs": [
    {
     "name": "stdout",
     "output_type": "stream",
     "text": [
      "Dump Start\n"
     ]
    },
    {
     "data": {
      "text/plain": [
       "447"
      ]
     },
     "execution_count": 74,
     "metadata": {},
     "output_type": "execute_result"
    },
    {
     "name": "stdout",
     "output_type": "stream",
     "text": [
      "Dump Complete\n"
     ]
    }
   ],
   "source": [
    "outpath = f\"dataset/train_data\"\n",
    "# outfile = f\"dataset/train_data/train_data.inter\"\n",
    "yamlfile = f\"train_data.yaml\"\n",
    "\n",
    "os.makedirs(outpath, exist_ok=True)\n",
    "# sub_train=train.groupby(\"user\").sample(n=10, random_state=SEED)\n",
    "# sub_train.shape\n",
    "\n",
    "# print(\"Processing Start\")\n",
    "# inter_table = []\n",
    "# for user, item, time in zip(train_data.user, train_data.item, train_data.time):\n",
    "#     uid, iid = userid_2_index[user], itemid_2_index[item]\n",
    "#     # tval = int(time.mktime(datetime.datetime.strptime(time, \"%Y-%m-%d %H:%M:%S\").timetuple()))\n",
    "#     inter_table.append( [uid, iid, time] )\n",
    "\n",
    "# print(\"Processing Complete\")\n",
    "\n",
    "print(\"Dump Start\")\n",
    "# 데이터 설정 파일 저장\n",
    "with open(yamlfile, \"w\") as f:\n",
    "    f.write(yamldata) \n",
    "\n",
    "# 데이터 파일 저장\n",
    "train_data.to_csv(os.path.join(outpath,\"train_data.inter\"),sep='\\t',index=False)\n",
    "user_data.to_csv(os.path.join(outpath,\"train_data.user\"),sep='\\t',index=False)\n",
    "item_data.to_csv(os.path.join(outpath,\"train_data.item\"),sep='\\t',index=False)\n",
    "# with open(outfile, \"w\") as f:\n",
    "#     # write header\n",
    "#     f.write(\"user_id:token\\titem_id:token\\ttimestamp:float\\n\")\n",
    "#     for row in inter_table:\n",
    "#         f.write(\"\\t\".join([str(x) for x in row])+\"\\n\")\n",
    "\n",
    "print(\"Dump Complete\")"
   ]
  },
  {
   "attachments": {},
   "cell_type": "markdown",
   "id": "bf654e50",
   "metadata": {},
   "source": [
    "### 로거 생성"
   ]
  },
  {
   "cell_type": "code",
   "execution_count": 75,
   "id": "448113f1",
   "metadata": {},
   "outputs": [],
   "source": [
    "logger = getLogger()"
   ]
  },
  {
   "attachments": {},
   "cell_type": "markdown",
   "id": "ac5c55e3",
   "metadata": {},
   "source": [
    "### 설정 인스턴스 생성"
   ]
  },
  {
   "cell_type": "code",
   "execution_count": 76,
   "id": "c21f27c7",
   "metadata": {},
   "outputs": [
    {
     "name": "stderr",
     "output_type": "stream",
     "text": [
      "22 Dec 10:40    INFO  \n",
      "General Hyper Parameters:\n",
      "gpu_id = 0\n",
      "use_gpu = True\n",
      "seed = 2020\n",
      "state = INFO\n",
      "reproducibility = True\n",
      "data_path = dataset/train_data\n",
      "checkpoint_dir = saved\n",
      "show_progress = False\n",
      "save_dataset = False\n",
      "dataset_save_path = None\n",
      "save_dataloaders = False\n",
      "dataloaders_save_path = None\n",
      "log_wandb = False\n",
      "\n",
      "Training Hyper Parameters:\n",
      "epochs = 1\n",
      "train_batch_size = 2048\n",
      "learner = adam\n",
      "learning_rate = 0.001\n",
      "train_neg_sample_args = {'uniform': 1, 'distribution': 'uniform', 'sample_num': 1, 'alpha': 1.0, 'dynamic': False, 'candidate_num': 0}\n",
      "eval_step = 1\n",
      "stopping_step = 10\n",
      "clip_grad_norm = None\n",
      "weight_decay = 0.0\n",
      "loss_decimal_place = 4\n",
      "\n",
      "Evaluation Hyper Parameters:\n",
      "eval_args = {'split': {'RS': [4, 1, 1]}, 'group_by': 'user', 'order': 'RO', 'mode': 'full'}\n",
      "repeatable = False\n",
      "metrics = ['Recall', 'MRR', 'NDCG', 'Hit', 'Precision', 'MAP']\n",
      "topk = [10]\n",
      "valid_metric = Recall@10\n",
      "valid_metric_bigger = True\n",
      "eval_batch_size = 4096\n",
      "metric_decimal_place = 4\n",
      "\n",
      "Dataset Hyper Parameters:\n",
      "field_separator = \t\n",
      "seq_separator =  \n",
      "USER_ID_FIELD = user_id\n",
      "ITEM_ID_FIELD = item_id\n",
      "RATING_FIELD = rating\n",
      "TIME_FIELD = timestamp\n",
      "seq_len = None\n",
      "LABEL_FIELD = label\n",
      "threshold = None\n",
      "NEG_PREFIX = neg_\n",
      "load_col = {'inter': ['user_id', 'item_id', 'timestamp'], 'user': ['user_id'], 'item': ['item_id', 'year', 'writer', 'title', 'genre', 'director']}\n",
      "unload_col = None\n",
      "unused_col = None\n",
      "additional_feat_suffix = None\n",
      "rm_dup_inter = None\n",
      "val_interval = None\n",
      "filter_inter_by_user_or_item = True\n",
      "user_inter_num_interval = [0,inf)\n",
      "item_inter_num_interval = [0,inf)\n",
      "alias_of_user_id = None\n",
      "alias_of_item_id = None\n",
      "alias_of_entity_id = None\n",
      "alias_of_relation_id = None\n",
      "preload_weight = None\n",
      "normalize_field = None\n",
      "normalize_all = None\n",
      "ITEM_LIST_LENGTH_FIELD = item_length\n",
      "LIST_SUFFIX = _list\n",
      "MAX_ITEM_LIST_LENGTH = 50\n",
      "POSITION_FIELD = position_id\n",
      "HEAD_ENTITY_ID_FIELD = head_id\n",
      "TAIL_ENTITY_ID_FIELD = tail_id\n",
      "RELATION_ID_FIELD = relation_id\n",
      "ENTITY_ID_FIELD = entity_id\n",
      "benchmark_filename = None\n",
      "\n",
      "Other Hyper Parameters: \n",
      "worker = 0\n",
      "wandb_project = recbole\n",
      "shuffle = True\n",
      "require_pow = False\n",
      "enable_amp = False\n",
      "enable_scaler = False\n",
      "transform = None\n",
      "embedding_size = 10\n",
      "fields = None\n",
      "numerical_features = []\n",
      "discretization = None\n",
      "kg_reverse_r = False\n",
      "entity_kg_num_interval = [0,inf)\n",
      "relation_kg_num_interval = [0,inf)\n",
      "MODEL_TYPE = ModelType.CONTEXT\n",
      "MODEL_INPUT_TYPE = InputType.POINTWISE\n",
      "eval_type = EvaluatorType.RANKING\n",
      "single_spec = True\n",
      "local_rank = 0\n",
      "device = cuda\n",
      "eval_neg_sample_args = {'distribution': 'uniform', 'sample_num': 'none'}\n",
      "\n",
      "\n"
     ]
    }
   ],
   "source": [
    "# configurations initialization\n",
    "config = Config(model='FFM', dataset=\"train_data\", config_file_list=[f'train_data.yaml'])\n",
    "config['epochs'] = 1\n",
    "config['show_progress'] = False\n",
    "config['device'] = torch.device(\"cuda\" if torch.cuda.is_available() else \"cpu\")\n",
    "init_seed(config['seed'], config['reproducibility'])\n",
    "# logger initialization\n",
    "init_logger(config)\n",
    "\n",
    "logger.info(config)"
   ]
  },
  {
   "attachments": {},
   "cell_type": "markdown",
   "id": "a62100b4",
   "metadata": {},
   "source": [
    "### 데이터 로드"
   ]
  },
  {
   "cell_type": "code",
   "execution_count": 78,
   "id": "bd284775",
   "metadata": {},
   "outputs": [
    {
     "name": "stderr",
     "output_type": "stream",
     "text": [
      "22 Dec 10:41    INFO  train_data\n",
      "The number of users: 31361\n",
      "Average actions of users: 148.54269770408163\n",
      "The number of items: 4968\n",
      "Average actions of items: 937.8496074088987\n",
      "The number of inters: 4658299\n",
      "The sparsity of the dataset: 97.01010545165151%\n",
      "Remain Fields: ['user_id', 'item_id', 'timestamp', 'year', 'writer', 'title', 'genre', 'director']\n",
      "22 Dec 10:41    INFO  [Training]: train_batch_size = [2048] train_neg_sample_args: [{'uniform': 1, 'distribution': 'uniform', 'sample_num': 1, 'alpha': 1.0, 'dynamic': False, 'candidate_num': 0}]\n",
      "22 Dec 10:41    INFO  [Evaluation]: eval_batch_size = [4096] eval_args: [{'split': {'RS': [4, 1, 1]}, 'group_by': 'user', 'order': 'RO', 'mode': 'full'}]\n"
     ]
    }
   ],
   "source": [
    "# dataset filtering\n",
    "dataset = create_dataset(config)\n",
    "logger.info(dataset)\n",
    "\n",
    "# dataset splitting\n",
    "train_data, valid_data, test_data = data_preparation(config, dataset)"
   ]
  },
  {
   "cell_type": "code",
   "execution_count": 79,
   "id": "aa7da7a0",
   "metadata": {},
   "outputs": [
    {
     "data": {
      "text/plain": [
       "\u001b[1;35mtrain_data\u001b[0m\n",
       "\u001b[1;34mThe number of users\u001b[0m: 31361\n",
       "\u001b[1;34mAverage actions of users\u001b[0m: 99.86195790816326\n",
       "\u001b[1;34mThe number of items\u001b[0m: 4968\n",
       "\u001b[1;34mAverage actions of items\u001b[0m: 630.4954701026777\n",
       "\u001b[1;34mThe number of inters\u001b[0m: 3131671\n",
       "\u001b[1;34mThe sparsity of the dataset\u001b[0m: 97.98996027302648%\n",
       "\u001b[1;34mRemain Fields\u001b[0m: ['user_id', 'item_id', 'timestamp', 'year', 'writer', 'title', 'genre', 'director', 'label']"
      ]
     },
     "execution_count": 79,
     "metadata": {},
     "output_type": "execute_result"
    },
    {
     "data": {
      "text/plain": [
       "\u001b[1;35mtrain_data\u001b[0m\n",
       "\u001b[1;34mThe number of users\u001b[0m: 31361\n",
       "\u001b[1;34mAverage actions of users\u001b[0m: 24.340369897959185\n",
       "\u001b[1;34mThe number of items\u001b[0m: 4968\n",
       "\u001b[1;34mAverage actions of items\u001b[0m: 153.67706865311052\n",
       "\u001b[1;34mThe number of inters\u001b[0m: 763314\n",
       "\u001b[1;34mThe sparsity of the dataset\u001b[0m: 99.51007258931251%\n",
       "\u001b[1;34mRemain Fields\u001b[0m: ['user_id', 'item_id', 'timestamp', 'year', 'writer', 'title', 'genre', 'director', 'label']"
      ]
     },
     "execution_count": 79,
     "metadata": {},
     "output_type": "execute_result"
    },
    {
     "data": {
      "text/plain": [
       "\u001b[1;35mtrain_data\u001b[0m\n",
       "\u001b[1;34mThe number of users\u001b[0m: 31361\n",
       "\u001b[1;34mAverage actions of users\u001b[0m: 24.340369897959185\n",
       "\u001b[1;34mThe number of items\u001b[0m: 4968\n",
       "\u001b[1;34mAverage actions of items\u001b[0m: 153.67706865311052\n",
       "\u001b[1;34mThe number of inters\u001b[0m: 763314\n",
       "\u001b[1;34mThe sparsity of the dataset\u001b[0m: 99.51007258931251%\n",
       "\u001b[1;34mRemain Fields\u001b[0m: ['user_id', 'item_id', 'timestamp', 'year', 'writer', 'title', 'genre', 'director', 'label']"
      ]
     },
     "execution_count": 79,
     "metadata": {},
     "output_type": "execute_result"
    }
   ],
   "source": [
    "train_data.dataset\n",
    "valid_data.dataset\n",
    "test_data.dataset"
   ]
  },
  {
   "attachments": {},
   "cell_type": "markdown",
   "id": "39da2a0e",
   "metadata": {},
   "source": [
    "### 모델 인스턴스 생성"
   ]
  },
  {
   "cell_type": "code",
   "execution_count": 80,
   "id": "419bdaa1",
   "metadata": {},
   "outputs": [
    {
     "name": "stderr",
     "output_type": "stream",
     "text": [
      "22 Dec 10:41    INFO  FFM(\n",
      "  (token_embedding_table): FMEmbedding(\n",
      "    (embedding): Embedding(44399, 10)\n",
      "  )\n",
      "  (first_order_linear): FMFirstOrderLinear(\n",
      "    (token_embedding_table): FMEmbedding(\n",
      "      (embedding): Embedding(44399, 1)\n",
      "    )\n",
      "  )\n",
      "  (sigmoid): Sigmoid()\n",
      "  (ffm): FieldAwareFactorizationMachine(\n",
      "    (token_embeddings): ModuleList(\n",
      "      (0): Embedding(44399, 10)\n",
      "      (1): Embedding(44399, 10)\n",
      "      (2): Embedding(44399, 10)\n",
      "      (3): Embedding(44399, 10)\n",
      "      (4): Embedding(44399, 10)\n",
      "      (5): Embedding(44399, 10)\n",
      "    )\n",
      "  )\n",
      "  (loss): BCEWithLogitsLoss()\n",
      ")\n",
      "Trainable parameters: 3152330\n"
     ]
    }
   ],
   "source": [
    "# model loading and initialization\n",
    "init_seed(config['seed'], config['reproducibility'])\n",
    "model = FFM(config, train_data.dataset).to(config['device'])\n",
    "logger.info(model)"
   ]
  },
  {
   "attachments": {},
   "cell_type": "markdown",
   "id": "c05bfd1e",
   "metadata": {},
   "source": [
    "### 모델 학습"
   ]
  },
  {
   "cell_type": "code",
   "execution_count": 81,
   "id": "7bb1b9e9",
   "metadata": {},
   "outputs": [
    {
     "name": "stderr",
     "output_type": "stream",
     "text": [
      "22 Dec 10:42    INFO  epoch 0 training [time: 34.38s, train loss: 1302.9981]\n",
      "22 Dec 10:43    INFO  epoch 0 evaluating [time: 99.88s, valid_score: 0.086800]\n",
      "22 Dec 10:43    INFO  valid result: \n",
      "recall@10 : 0.0868    mrr@10 : 0.382    ndcg@10 : 0.1879    hit@10 : 0.7531    precision@10 : 0.1746    map@10 : 0.0898\n",
      "22 Dec 10:43    INFO  Saving current: saved/FFM-Dec-22-2022_10-41-38.pth\n"
     ]
    }
   ],
   "source": [
    "# trainer loading and initialization\n",
    "trainer = get_trainer(config['MODEL_TYPE'], config['model'])(config, model)\n",
    "\n",
    "# model training\n",
    "best_valid_score, best_valid_result = trainer.fit(\n",
    "    train_data, valid_data, saved=True, show_progress=config['show_progress']\n",
    ")"
   ]
  },
  {
   "attachments": {},
   "cell_type": "markdown",
   "id": "baf0ea34",
   "metadata": {},
   "source": [
    "### 학습 결과 출력"
   ]
  },
  {
   "cell_type": "code",
   "execution_count": 82,
   "id": "40d5e294",
   "metadata": {},
   "outputs": [
    {
     "name": "stderr",
     "output_type": "stream",
     "text": [
      "22 Dec 10:43    INFO  Loading model structure and parameters from saved/FFM-Dec-22-2022_10-41-38.pth\n",
      "22 Dec 10:45    INFO  best valid : OrderedDict([('recall@10', 0.0868), ('mrr@10', 0.382), ('ndcg@10', 0.1879), ('hit@10', 0.7531), ('precision@10', 0.1746), ('map@10', 0.0898)])\n",
      "22 Dec 10:45    INFO  test result: OrderedDict([('recall@10', 0.1023), ('mrr@10', 0.4591), ('ndcg@10', 0.2405), ('hit@10', 0.7815), ('precision@10', 0.2181), ('map@10', 0.1329)])\n"
     ]
    },
    {
     "name": "stdout",
     "output_type": "stream",
     "text": [
      "{\n",
      "    \"best_valid_score\": 0.0868,\n",
      "    \"valid_score_bigger\": true,\n",
      "    \"best_valid_result\": {\n",
      "        \"recall@10\": 0.0868,\n",
      "        \"mrr@10\": 0.382,\n",
      "        \"ndcg@10\": 0.1879,\n",
      "        \"hit@10\": 0.7531,\n",
      "        \"precision@10\": 0.1746,\n",
      "        \"map@10\": 0.0898\n",
      "    },\n",
      "    \"test_result\": {\n",
      "        \"recall@10\": 0.1023,\n",
      "        \"mrr@10\": 0.4591,\n",
      "        \"ndcg@10\": 0.2405,\n",
      "        \"hit@10\": 0.7815,\n",
      "        \"precision@10\": 0.2181,\n",
      "        \"map@10\": 0.1329\n",
      "    }\n",
      "}\n"
     ]
    }
   ],
   "source": [
    "# model evaluation\n",
    "test_result = trainer.evaluate(test_data, load_best_model=\"True\", show_progress=config['show_progress'])\n",
    "\n",
    "logger.info(set_color('best valid ', 'yellow') + f': {best_valid_result}')\n",
    "logger.info(set_color('test result', 'yellow') + f': {test_result}')\n",
    "\n",
    "result = {\n",
    "    'best_valid_score': best_valid_score,\n",
    "    'valid_score_bigger': config['valid_metric_bigger'],\n",
    "    'best_valid_result': best_valid_result,\n",
    "    'test_result': test_result\n",
    "}\n",
    "\n",
    "print(json.dumps(result, indent=4))"
   ]
  },
  {
   "cell_type": "markdown",
   "id": "cfbd9c0d",
   "metadata": {},
   "source": []
  },
  {
   "cell_type": "markdown",
   "id": "4a7de652",
   "metadata": {},
   "source": []
  },
  {
   "cell_type": "markdown",
   "id": "0b3773fd",
   "metadata": {},
   "source": []
  },
  {
   "attachments": {},
   "cell_type": "markdown",
   "id": "22ad13f8",
   "metadata": {},
   "source": [
    "### Inference"
   ]
  },
  {
   "cell_type": "code",
   "execution_count": 31,
   "id": "e03fb084",
   "metadata": {},
   "outputs": [],
   "source": [
    "model_path='saved/FFM-Dec-22-2022_08-26-29.pth'"
   ]
  }
 ],
 "metadata": {
  "kernelspec": {
   "display_name": "movie_rec",
   "language": "python",
   "name": "python3"
  },
  "language_info": {
   "codemirror_mode": {
    "name": "ipython",
    "version": 3
   },
   "file_extension": ".py",
   "mimetype": "text/x-python",
   "name": "python",
   "nbconvert_exporter": "python",
   "pygments_lexer": "ipython3",
   "version": "3.10.8"
  },
  "toc": {
   "base_numbering": 1,
   "nav_menu": {},
   "number_sections": true,
   "sideBar": true,
   "skip_h1_title": false,
   "title_cell": "Table of Contents",
   "title_sidebar": "Contents",
   "toc_cell": false,
   "toc_position": {},
   "toc_section_display": true,
   "toc_window_display": false
  },
  "vscode": {
   "interpreter": {
    "hash": "3d4ebc8f5be3b9760b7b8c89820e25f6cc4c8c3873d1ecd46134e38c918e05a9"
   }
  }
 },
 "nbformat": 4,
 "nbformat_minor": 5
}

{
 "cells": [
  {
   "cell_type": "code",
   "execution_count": 2,
   "id": "1c53ab74",
   "metadata": {
    "ExecuteTime": {
     "end_time": "2022-12-21T14:09:09.390341Z",
     "start_time": "2022-12-21T14:09:07.491493Z"
    }
   },
   "outputs": [],
   "source": [
    "from IPython.core.interactiveshell import InteractiveShell\n",
    "InteractiveShell.ast_node_interactivity=\"all\"\n",
    "\n",
    "import os\n",
    "import json\n",
    "import argparse\n",
    "import pandas as pd\n",
    "import numpy as np\n",
    "import time, datetime\n",
    "from tqdm import tqdm\n",
    "from logging import getLogger\n",
    "import torch\n",
    "\n",
    "from recbole.model.general_recommender.ease import EASE\n",
    "from recbole.model.context_aware_recommender.ffm import FFM\n",
    "\n",
    "from recbole.config import Config\n",
    "from recbole.data import create_dataset, data_preparation, Interaction\n",
    "from recbole.utils import init_logger, get_trainer, get_model, init_seed, set_color\n",
    "\n",
    "\n",
    "SEED=13"
   ]
  },
  {
   "cell_type": "code",
   "execution_count": 3,
   "id": "c169d301",
   "metadata": {
    "ExecuteTime": {
     "end_time": "2022-12-21T14:09:09.644479Z",
     "start_time": "2022-12-21T14:09:09.392754Z"
    }
   },
   "outputs": [
    {
     "name": "stdout",
     "output_type": "stream",
     "text": [
      "Ml_item2attributes.json  genres.tsv  titles.tsv\t\twriters.tsv\n",
      "directors.tsv\t\t pro_sg      train_ratings.csv\tyears.tsv\n",
      "/opt/ml/input/data/train/train_ratings.csv\n"
     ]
    }
   ],
   "source": [
    "!ls ../../data/train\n",
    "!readlink -ef ../../data/train/train_ratings.csv"
   ]
  },
  {
   "cell_type": "markdown",
   "id": "91ba6987",
   "metadata": {},
   "source": [
    "## 데이터 로드"
   ]
  },
  {
   "cell_type": "code",
   "execution_count": 5,
   "id": "673f023d-5b3b-4b19-8c61-7f9e88d3a744",
   "metadata": {},
   "outputs": [
    {
     "name": "stdout",
     "output_type": "stream",
     "text": [
      "/opt/ml/input/fighting/Recbole\n"
     ]
    }
   ],
   "source": [
    "!pwd"
   ]
  },
  {
   "cell_type": "code",
   "execution_count": 8,
   "id": "e8bbba30",
   "metadata": {
    "ExecuteTime": {
     "end_time": "2022-12-21T15:20:47.192480Z",
     "start_time": "2022-12-21T15:20:45.822322Z"
    }
   },
   "outputs": [],
   "source": [
    "data_path = '../../data/train'\n",
    "train = pd.read_csv(os.path.join(data_path, 'train_ratings.csv')) # 전체 학습 데이터\n",
    "year_data = pd.read_csv(os.path.join(data_path, 'years.tsv'), sep='\\t')\n",
    "writer_data = pd.read_csv(os.path.join(data_path, 'writers.tsv'), sep='\\t')\n",
    "title_data = pd.read_csv(os.path.join(data_path, 'titles.tsv'), sep='\\t')\n",
    "genre_data = pd.read_csv(os.path.join(data_path, 'genres.tsv'), sep='\\t')\n",
    "director_data = pd.read_csv(os.path.join(data_path, 'directors.tsv'), sep='\\t')"
   ]
  },
  {
   "cell_type": "code",
   "execution_count": 9,
   "id": "6954c698",
   "metadata": {
    "ExecuteTime": {
     "end_time": "2022-12-21T14:43:39.381345Z",
     "start_time": "2022-12-21T14:43:36.542463Z"
    }
   },
   "outputs": [],
   "source": [
    "user2idx = {v:k for k,v in enumerate(sorted(set(train.user)))}\n",
    "item2idx = {v:k for k,v in enumerate(sorted(set(train.item)))}\n",
    "uidx2user = {k:v for k,v in enumerate(sorted(set(train.user)))}\n",
    "iidx2item = {k:v for k,v in enumerate(sorted(set(train.item)))}"
   ]
  },
  {
   "cell_type": "markdown",
   "id": "1dcea99e",
   "metadata": {},
   "source": [
    "## make inter file"
   ]
  },
  {
   "cell_type": "code",
   "execution_count": 10,
   "id": "09d2d429-5624-41f2-b368-b894a01a0961",
   "metadata": {},
   "outputs": [
    {
     "data": {
      "text/html": [
       "<div>\n",
       "<style scoped>\n",
       "    .dataframe tbody tr th:only-of-type {\n",
       "        vertical-align: middle;\n",
       "    }\n",
       "\n",
       "    .dataframe tbody tr th {\n",
       "        vertical-align: top;\n",
       "    }\n",
       "\n",
       "    .dataframe thead th {\n",
       "        text-align: right;\n",
       "    }\n",
       "</style>\n",
       "<table border=\"1\" class=\"dataframe\">\n",
       "  <thead>\n",
       "    <tr style=\"text-align: right;\">\n",
       "      <th></th>\n",
       "      <th>user</th>\n",
       "      <th>item</th>\n",
       "      <th>time</th>\n",
       "    </tr>\n",
       "  </thead>\n",
       "  <tbody>\n",
       "    <tr>\n",
       "      <th>0</th>\n",
       "      <td>11</td>\n",
       "      <td>4643</td>\n",
       "      <td>1230782529</td>\n",
       "    </tr>\n",
       "    <tr>\n",
       "      <th>1</th>\n",
       "      <td>11</td>\n",
       "      <td>170</td>\n",
       "      <td>1230782534</td>\n",
       "    </tr>\n",
       "    <tr>\n",
       "      <th>2</th>\n",
       "      <td>11</td>\n",
       "      <td>531</td>\n",
       "      <td>1230782539</td>\n",
       "    </tr>\n",
       "    <tr>\n",
       "      <th>3</th>\n",
       "      <td>11</td>\n",
       "      <td>616</td>\n",
       "      <td>1230782542</td>\n",
       "    </tr>\n",
       "    <tr>\n",
       "      <th>4</th>\n",
       "      <td>11</td>\n",
       "      <td>2140</td>\n",
       "      <td>1230782563</td>\n",
       "    </tr>\n",
       "    <tr>\n",
       "      <th>...</th>\n",
       "      <td>...</td>\n",
       "      <td>...</td>\n",
       "      <td>...</td>\n",
       "    </tr>\n",
       "    <tr>\n",
       "      <th>5154466</th>\n",
       "      <td>138493</td>\n",
       "      <td>44022</td>\n",
       "      <td>1260209449</td>\n",
       "    </tr>\n",
       "    <tr>\n",
       "      <th>5154467</th>\n",
       "      <td>138493</td>\n",
       "      <td>4958</td>\n",
       "      <td>1260209482</td>\n",
       "    </tr>\n",
       "    <tr>\n",
       "      <th>5154468</th>\n",
       "      <td>138493</td>\n",
       "      <td>68319</td>\n",
       "      <td>1260209720</td>\n",
       "    </tr>\n",
       "    <tr>\n",
       "      <th>5154469</th>\n",
       "      <td>138493</td>\n",
       "      <td>40819</td>\n",
       "      <td>1260209726</td>\n",
       "    </tr>\n",
       "    <tr>\n",
       "      <th>5154470</th>\n",
       "      <td>138493</td>\n",
       "      <td>27311</td>\n",
       "      <td>1260209807</td>\n",
       "    </tr>\n",
       "  </tbody>\n",
       "</table>\n",
       "<p>5154471 rows × 3 columns</p>\n",
       "</div>"
      ],
      "text/plain": [
       "           user   item        time\n",
       "0            11   4643  1230782529\n",
       "1            11    170  1230782534\n",
       "2            11    531  1230782539\n",
       "3            11    616  1230782542\n",
       "4            11   2140  1230782563\n",
       "...         ...    ...         ...\n",
       "5154466  138493  44022  1260209449\n",
       "5154467  138493   4958  1260209482\n",
       "5154468  138493  68319  1260209720\n",
       "5154469  138493  40819  1260209726\n",
       "5154470  138493  27311  1260209807\n",
       "\n",
       "[5154471 rows x 3 columns]"
      ]
     },
     "execution_count": 10,
     "metadata": {},
     "output_type": "execute_result"
    }
   ],
   "source": [
    "train"
   ]
  },
  {
   "cell_type": "code",
   "execution_count": 78,
   "id": "930038a2",
   "metadata": {
    "ExecuteTime": {
     "end_time": "2022-12-21T14:43:39.800650Z",
     "start_time": "2022-12-21T14:43:39.383554Z"
    }
   },
   "outputs": [],
   "source": [
    "train.user = train.user.map(user2idx)\n",
    "train.item = train.item.map(item2idx)"
   ]
  },
  {
   "cell_type": "code",
   "execution_count": 79,
   "id": "4aed392f",
   "metadata": {
    "ExecuteTime": {
     "end_time": "2022-12-21T14:43:39.807135Z",
     "start_time": "2022-12-21T14:43:39.803862Z"
    }
   },
   "outputs": [],
   "source": [
    "train.columns=['user_id:token','item_id:token','timestamp:float']"
   ]
  },
  {
   "cell_type": "code",
   "execution_count": 80,
   "id": "286c0b14",
   "metadata": {
    "ExecuteTime": {
     "end_time": "2022-12-21T14:43:49.121245Z",
     "start_time": "2022-12-21T14:43:39.817982Z"
    }
   },
   "outputs": [],
   "source": [
    "outpath = f\"dataset/train_data\"\n",
    "os.makedirs(outpath, exist_ok=True)\n",
    "# sub_train=train.groupby(\"user\").sample(n=10, random_state=SEED)\n",
    "# sub_train.shape\n",
    "train.to_csv(os.path.join(outpath,\"train_data.inter\"),sep='\\t',index=False)"
   ]
  },
  {
   "cell_type": "code",
   "execution_count": 83,
   "id": "985b86c0-e4e2-458b-889d-fdbc6d186b6c",
   "metadata": {},
   "outputs": [
    {
     "name": "stderr",
     "output_type": "stream",
     "text": [
      "/tmp/ipykernel_15637/3159987671.py:2: UserWarning: Pandas doesn't allow columns to be created via a new attribute name - see https://pandas.pydata.org/pandas-docs/stable/indexing.html#attribute-access\n",
      "  user.user = user['user_id:token'].map(user2idx)\n",
      "/tmp/ipykernel_15637/3159987671.py:4: SettingWithCopyWarning: \n",
      "A value is trying to be set on a copy of a slice from a DataFrame\n",
      "\n",
      "See the caveats in the documentation: https://pandas.pydata.org/pandas-docs/stable/user_guide/indexing.html#returning-a-view-versus-a-copy\n",
      "  user.drop_duplicates(\n"
     ]
    }
   ],
   "source": [
    "user = train[['user_id:token']]\n",
    "user.user = user['user_id:token'].map(user2idx)\n",
    "#중복 처리\n",
    "user.drop_duplicates(\n",
    "        # subset=[\"userID\", \"assessmentItemID\"], \n",
    "        keep=\"last\", inplace=True)"
   ]
  },
  {
   "cell_type": "code",
   "execution_count": 69,
   "id": "29a11954-0252-48e3-b00e-5832c8b4492f",
   "metadata": {},
   "outputs": [],
   "source": [
    "# user.columns=['user_id:token']"
   ]
  },
  {
   "cell_type": "code",
   "execution_count": 84,
   "id": "93759182-449e-4e67-8a16-562bf1844f1c",
   "metadata": {},
   "outputs": [
    {
     "name": "stderr",
     "output_type": "stream",
     "text": [
      "/tmp/ipykernel_15637/3194365416.py:1: SettingWithCopyWarning: \n",
      "A value is trying to be set on a copy of a slice from a DataFrame.\n",
      "Try using .loc[row_indexer,col_indexer] = value instead\n",
      "\n",
      "See the caveats in the documentation: https://pandas.pydata.org/pandas-docs/stable/user_guide/indexing.html#returning-a-view-versus-a-copy\n",
      "  user['tmp:token'] = 1\n"
     ]
    }
   ],
   "source": [
    "user['tmp:token'] = 1"
   ]
  },
  {
   "cell_type": "code",
   "execution_count": 72,
   "id": "f3ed8ed8-7388-4734-8f81-a18ad1604ec0",
   "metadata": {},
   "outputs": [
    {
     "data": {
      "text/html": [
       "<div>\n",
       "<style scoped>\n",
       "    .dataframe tbody tr th:only-of-type {\n",
       "        vertical-align: middle;\n",
       "    }\n",
       "\n",
       "    .dataframe tbody tr th {\n",
       "        vertical-align: top;\n",
       "    }\n",
       "\n",
       "    .dataframe thead th {\n",
       "        text-align: right;\n",
       "    }\n",
       "</style>\n",
       "<table border=\"1\" class=\"dataframe\">\n",
       "  <thead>\n",
       "    <tr style=\"text-align: right;\">\n",
       "      <th></th>\n",
       "      <th>user_id:token</th>\n",
       "      <th>tmp:token</th>\n",
       "    </tr>\n",
       "  </thead>\n",
       "  <tbody>\n",
       "    <tr>\n",
       "      <th>375</th>\n",
       "      <td>11</td>\n",
       "      <td>1</td>\n",
       "    </tr>\n",
       "    <tr>\n",
       "      <th>555</th>\n",
       "      <td>14</td>\n",
       "      <td>1</td>\n",
       "    </tr>\n",
       "    <tr>\n",
       "      <th>632</th>\n",
       "      <td>18</td>\n",
       "      <td>1</td>\n",
       "    </tr>\n",
       "  </tbody>\n",
       "</table>\n",
       "</div>"
      ],
      "text/plain": [
       "     user_id:token  tmp:token\n",
       "375             11          1\n",
       "555             14          1\n",
       "632             18          1"
      ]
     },
     "execution_count": 72,
     "metadata": {},
     "output_type": "execute_result"
    }
   ],
   "source": [
    "user.head(3)"
   ]
  },
  {
   "cell_type": "code",
   "execution_count": 73,
   "id": "53eb47f3-2423-4c19-8462-29353b428f10",
   "metadata": {},
   "outputs": [],
   "source": [
    "outpath = f\"dataset/train_data\"\n",
    "os.makedirs(outpath, exist_ok=True)\n",
    "# sub_train=train.groupby(\"user\").sample(n=10, random_state=SEED)\n",
    "# sub_train.shape\n",
    "user.to_csv(os.path.join(outpath,\"train_data.user\"),sep='\\t',index=False)"
   ]
  },
  {
   "cell_type": "code",
   "execution_count": null,
   "id": "df93f65c-caa2-4780-b502-ade91dc0d705",
   "metadata": {},
   "outputs": [],
   "source": []
  },
  {
   "cell_type": "code",
   "execution_count": 86,
   "id": "2e0c2c35-9315-4c52-8ee1-be6e2cd6adea",
   "metadata": {},
   "outputs": [],
   "source": [
    "item = year_data.merge(writer_data, how='left')\n",
    "item = item.merge(title_data, how='left')\n",
    "item = item.merge(genre_data, how='left')\n",
    "item = item.merge(director_data, how='left')\n",
    "item['item'] = item['item'].map(item2idx)"
   ]
  },
  {
   "cell_type": "code",
   "execution_count": 87,
   "id": "c5d94ca0-13e9-41d2-8767-144c303a3493",
   "metadata": {},
   "outputs": [],
   "source": [
    "item.columns=['item_id:token','year:token','write:token_seq','title:token_seq','genre:token','director:token']"
   ]
  },
  {
   "cell_type": "code",
   "execution_count": 88,
   "id": "f94a49f7-a893-4cd5-9f37-03a3f16f07c4",
   "metadata": {},
   "outputs": [
    {
     "name": "stdout",
     "output_type": "stream",
     "text": [
      "(37634, 6)\n"
     ]
    },
    {
     "data": {
      "text/html": [
       "<div>\n",
       "<style scoped>\n",
       "    .dataframe tbody tr th:only-of-type {\n",
       "        vertical-align: middle;\n",
       "    }\n",
       "\n",
       "    .dataframe tbody tr th {\n",
       "        vertical-align: top;\n",
       "    }\n",
       "\n",
       "    .dataframe thead th {\n",
       "        text-align: right;\n",
       "    }\n",
       "</style>\n",
       "<table border=\"1\" class=\"dataframe\">\n",
       "  <thead>\n",
       "    <tr style=\"text-align: right;\">\n",
       "      <th></th>\n",
       "      <th>item_id:token</th>\n",
       "      <th>year:token</th>\n",
       "      <th>write:token_seq</th>\n",
       "      <th>title:token_seq</th>\n",
       "      <th>genre:token</th>\n",
       "      <th>director:token</th>\n",
       "    </tr>\n",
       "  </thead>\n",
       "  <tbody>\n",
       "    <tr>\n",
       "      <th>0</th>\n",
       "      <td>768</td>\n",
       "      <td>1922</td>\n",
       "      <td>nm0831290</td>\n",
       "      <td>Nosferatu (Nosferatu, eine Symphonie des Graue...</td>\n",
       "      <td>Horror</td>\n",
       "      <td>nm0003638</td>\n",
       "    </tr>\n",
       "    <tr>\n",
       "      <th>1</th>\n",
       "      <td>4897</td>\n",
       "      <td>1922</td>\n",
       "      <td>NaN</td>\n",
       "      <td>Nanook of the North (1922)</td>\n",
       "      <td>Documentary</td>\n",
       "      <td>NaN</td>\n",
       "    </tr>\n",
       "    <tr>\n",
       "      <th>2</th>\n",
       "      <td>4897</td>\n",
       "      <td>1922</td>\n",
       "      <td>NaN</td>\n",
       "      <td>Nanook of the North (1922)</td>\n",
       "      <td>Drama</td>\n",
       "      <td>NaN</td>\n",
       "    </tr>\n",
       "  </tbody>\n",
       "</table>\n",
       "</div>"
      ],
      "text/plain": [
       "   item_id:token  year:token write:token_seq  \\\n",
       "0            768        1922       nm0831290   \n",
       "1           4897        1922             NaN   \n",
       "2           4897        1922             NaN   \n",
       "\n",
       "                                     title:token_seq  genre:token  \\\n",
       "0  Nosferatu (Nosferatu, eine Symphonie des Graue...       Horror   \n",
       "1                         Nanook of the North (1922)  Documentary   \n",
       "2                         Nanook of the North (1922)        Drama   \n",
       "\n",
       "  director:token  \n",
       "0      nm0003638  \n",
       "1            NaN  \n",
       "2            NaN  "
      ]
     },
     "execution_count": 88,
     "metadata": {},
     "output_type": "execute_result"
    }
   ],
   "source": [
    "print(item.shape)\n",
    "item.head(3)"
   ]
  },
  {
   "cell_type": "code",
   "execution_count": 89,
   "id": "1fd3a0f7-96fa-4147-b74d-d5ee5de6b5cd",
   "metadata": {},
   "outputs": [
    {
     "name": "stdout",
     "output_type": "stream",
     "text": [
      "(32210, 6)\n"
     ]
    },
    {
     "data": {
      "text/html": [
       "<div>\n",
       "<style scoped>\n",
       "    .dataframe tbody tr th:only-of-type {\n",
       "        vertical-align: middle;\n",
       "    }\n",
       "\n",
       "    .dataframe tbody tr th {\n",
       "        vertical-align: top;\n",
       "    }\n",
       "\n",
       "    .dataframe thead th {\n",
       "        text-align: right;\n",
       "    }\n",
       "</style>\n",
       "<table border=\"1\" class=\"dataframe\">\n",
       "  <thead>\n",
       "    <tr style=\"text-align: right;\">\n",
       "      <th></th>\n",
       "      <th>item_id:token</th>\n",
       "      <th>year:token</th>\n",
       "      <th>write:token_seq</th>\n",
       "      <th>title:token_seq</th>\n",
       "      <th>genre:token</th>\n",
       "      <th>director:token</th>\n",
       "    </tr>\n",
       "  </thead>\n",
       "  <tbody>\n",
       "    <tr>\n",
       "      <th>0</th>\n",
       "      <td>768</td>\n",
       "      <td>1922</td>\n",
       "      <td>nm0831290</td>\n",
       "      <td>Nosferatu (Nosferatu, eine Symphonie des Graue...</td>\n",
       "      <td>Horror</td>\n",
       "      <td>nm0003638</td>\n",
       "    </tr>\n",
       "    <tr>\n",
       "      <th>3</th>\n",
       "      <td>2562</td>\n",
       "      <td>1922</td>\n",
       "      <td>nm0000485</td>\n",
       "      <td>Dr. Mabuse: The Gambler (Dr. Mabuse, der Spiel...</td>\n",
       "      <td>Crime</td>\n",
       "      <td>nm0000485</td>\n",
       "    </tr>\n",
       "    <tr>\n",
       "      <th>4</th>\n",
       "      <td>2562</td>\n",
       "      <td>1922</td>\n",
       "      <td>nm0000485</td>\n",
       "      <td>Dr. Mabuse: The Gambler (Dr. Mabuse, der Spiel...</td>\n",
       "      <td>Mystery</td>\n",
       "      <td>nm0000485</td>\n",
       "    </tr>\n",
       "  </tbody>\n",
       "</table>\n",
       "</div>"
      ],
      "text/plain": [
       "   item_id:token  year:token write:token_seq  \\\n",
       "0            768        1922       nm0831290   \n",
       "3           2562        1922       nm0000485   \n",
       "4           2562        1922       nm0000485   \n",
       "\n",
       "                                     title:token_seq genre:token  \\\n",
       "0  Nosferatu (Nosferatu, eine Symphonie des Graue...      Horror   \n",
       "3  Dr. Mabuse: The Gambler (Dr. Mabuse, der Spiel...       Crime   \n",
       "4  Dr. Mabuse: The Gambler (Dr. Mabuse, der Spiel...     Mystery   \n",
       "\n",
       "  director:token  \n",
       "0      nm0003638  \n",
       "3      nm0000485  \n",
       "4      nm0000485  "
      ]
     },
     "execution_count": 89,
     "metadata": {},
     "output_type": "execute_result"
    }
   ],
   "source": [
    "item = item.dropna()\n",
    "print(item.shape)\n",
    "item.head(3)"
   ]
  },
  {
   "cell_type": "code",
   "execution_count": 90,
   "id": "2c93d0b2-f07b-4679-9264-c0b78d4a3bd2",
   "metadata": {},
   "outputs": [],
   "source": [
    "outpath = f\"dataset/train_data\"\n",
    "os.makedirs(outpath, exist_ok=True)\n",
    "# sub_train=train.groupby(\"user\").sample(n=10, random_state=SEED)\n",
    "# sub_train.shape\n",
    "item.to_csv(os.path.join(outpath,\"train_data.item\"),sep='\\t',index=False)"
   ]
  },
  {
   "cell_type": "markdown",
   "id": "f2d8b45f",
   "metadata": {},
   "source": [
    "## make yaml file"
   ]
  },
  {
   "cell_type": "code",
   "execution_count": 95,
   "id": "fc936e99",
   "metadata": {
    "ExecuteTime": {
     "end_time": "2022-12-21T14:43:49.140130Z",
     "start_time": "2022-12-21T14:43:49.135015Z"
    }
   },
   "outputs": [
    {
     "data": {
      "text/plain": [
       "241"
      ]
     },
     "execution_count": 95,
     "metadata": {},
     "output_type": "execute_result"
    }
   ],
   "source": [
    "yamldata=\"\"\"\n",
    "USER_ID_FIELD: user_id\n",
    "ITEM_ID_FIELD: item_id\n",
    "TIME_FIELD: timestamp\n",
    "\n",
    "load_col:\n",
    "    inter: [user_id, item_id, timestamp]\n",
    "    user: [user_id]\n",
    "    item: [item_id, year, write, title, genre, director]\n",
    "    \n",
    "train_neg_sample_args:\n",
    "    uniform: 1\n",
    "\"\"\"\n",
    "with open(\"train_data.yaml\", \"w\") as f:\n",
    "    f.write(yamldata)"
   ]
  },
  {
   "cell_type": "markdown",
   "id": "729f6f4f",
   "metadata": {},
   "source": [
    "## make config, logger"
   ]
  },
  {
   "cell_type": "code",
   "execution_count": 98,
   "id": "41efa260",
   "metadata": {
    "ExecuteTime": {
     "end_time": "2022-12-21T16:27:34.755572Z",
     "start_time": "2022-12-21T16:27:34.570446Z"
    },
    "scrolled": true
   },
   "outputs": [
    {
     "name": "stderr",
     "output_type": "stream",
     "text": [
      "22 Dec 07:34    INFO  \n",
      "General Hyper Parameters:\n",
      "gpu_id = 0\n",
      "use_gpu = True\n",
      "seed = 2020\n",
      "state = INFO\n",
      "reproducibility = True\n",
      "data_path = dataset/train_data\n",
      "checkpoint_dir = saved\n",
      "show_progress = False\n",
      "save_dataset = False\n",
      "dataset_save_path = None\n",
      "save_dataloaders = False\n",
      "dataloaders_save_path = None\n",
      "log_wandb = False\n",
      "\n",
      "Training Hyper Parameters:\n",
      "epochs = 100\n",
      "train_batch_size = 2048\n",
      "learner = adam\n",
      "learning_rate = 0.001\n",
      "train_neg_sample_args = {'uniform': 1, 'distribution': 'uniform', 'sample_num': 1, 'alpha': 1.0, 'dynamic': False, 'candidate_num': 0}\n",
      "eval_step = 1\n",
      "stopping_step = 10\n",
      "clip_grad_norm = None\n",
      "weight_decay = 0.0\n",
      "loss_decimal_place = 4\n",
      "\n",
      "Evaluation Hyper Parameters:\n",
      "eval_args = {'split': {'RS': [9, 0.5, 0.5]}, 'group_by': 'user', 'order': 'RO', 'mode': 'full'}\n",
      "repeatable = False\n",
      "metrics = ['AUC', 'LogLoss']\n",
      "topk = [20]\n",
      "valid_metric = Recall@10\n",
      "valid_metric_bigger = True\n",
      "eval_batch_size = 4096\n",
      "metric_decimal_place = 4\n",
      "\n",
      "Dataset Hyper Parameters:\n",
      "field_separator = \t\n",
      "seq_separator =  \n",
      "USER_ID_FIELD = user_id\n",
      "ITEM_ID_FIELD = item_id\n",
      "RATING_FIELD = rating\n",
      "TIME_FIELD = timestamp\n",
      "seq_len = None\n",
      "LABEL_FIELD = label\n",
      "threshold = None\n",
      "NEG_PREFIX = neg_\n",
      "load_col = {'inter': ['user_id', 'item_id', 'timestamp'], 'user': ['user_id'], 'item': ['item_id', 'year', 'write', 'title', 'genre', 'director']}\n",
      "unload_col = None\n",
      "unused_col = None\n",
      "additional_feat_suffix = None\n",
      "rm_dup_inter = None\n",
      "val_interval = None\n",
      "filter_inter_by_user_or_item = True\n",
      "user_inter_num_interval = [0,inf)\n",
      "item_inter_num_interval = [0,inf)\n",
      "alias_of_user_id = None\n",
      "alias_of_item_id = None\n",
      "alias_of_entity_id = None\n",
      "alias_of_relation_id = None\n",
      "preload_weight = None\n",
      "normalize_field = None\n",
      "normalize_all = None\n",
      "ITEM_LIST_LENGTH_FIELD = item_length\n",
      "LIST_SUFFIX = _list\n",
      "MAX_ITEM_LIST_LENGTH = 50\n",
      "POSITION_FIELD = position_id\n",
      "HEAD_ENTITY_ID_FIELD = head_id\n",
      "TAIL_ENTITY_ID_FIELD = tail_id\n",
      "RELATION_ID_FIELD = relation_id\n",
      "ENTITY_ID_FIELD = entity_id\n",
      "benchmark_filename = None\n",
      "\n",
      "Other Hyper Parameters: \n",
      "worker = 0\n",
      "wandb_project = recbole\n",
      "shuffle = True\n",
      "require_pow = False\n",
      "enable_amp = False\n",
      "enable_scaler = False\n",
      "transform = None\n",
      "embedding_size = 10\n",
      "fields = None\n",
      "numerical_features = []\n",
      "discretization = None\n",
      "kg_reverse_r = False\n",
      "entity_kg_num_interval = [0,inf)\n",
      "relation_kg_num_interval = [0,inf)\n",
      "MODEL_TYPE = ModelType.CONTEXT\n",
      "MODEL_INPUT_TYPE = InputType.POINTWISE\n",
      "eval_type = EvaluatorType.VALUE\n",
      "single_spec = True\n",
      "local_rank = 0\n",
      "device = cuda\n",
      "eval_neg_sample_args = {'distribution': 'none', 'sample_num': 'none'}\n",
      "\n",
      "\n"
     ]
    }
   ],
   "source": [
    "logger = getLogger()\n",
    "\n",
    "# configurations initialization\n",
    "config = Config(model='FFM', dataset=\"train_data\", config_file_list=[f'train_data.yaml'])\n",
    "config['epochs'] = 100\n",
    "config['show_progress'] = False\n",
    "config['device'] = torch.device(\"cuda\" if torch.cuda.is_available() else \"cpu\")\n",
    "config['valid_metric'] = \"Recall@10\"\n",
    "config['eval_args'] = {'split': {'RS': [9, 0.5, 0.5]},\n",
    "                         'group_by': 'user',\n",
    "                         'order': 'RO',\n",
    "                         'mode': 'full'}\n",
    "config['topk']=[20]\n",
    "init_seed(config['seed'], config['reproducibility'])\n",
    "# logger initialization\n",
    "init_logger(config)\n",
    "logger.info(config)"
   ]
  },
  {
   "cell_type": "markdown",
   "id": "e5c4ee8a",
   "metadata": {},
   "source": [
    "## make dataset"
   ]
  },
  {
   "cell_type": "code",
   "execution_count": 99,
   "id": "09c3a224-bf83-4877-aecb-425215e990fe",
   "metadata": {},
   "outputs": [
    {
     "data": {
      "text/plain": [
       "\u001b[1;35mtrain_data\u001b[0m\n",
       "\u001b[1;34mThe number of users\u001b[0m: 31361\n",
       "\u001b[1;34mAverage actions of users\u001b[0m: 150.1978542566532\n",
       "\u001b[1;34mThe number of items\u001b[0m: 4968\n",
       "\u001b[1;34mAverage actions of items\u001b[0m: 217.02637406885444\n",
       "\u001b[1;34mThe number of inters\u001b[0m: 1077970\n",
       "\u001b[1;34mThe sparsity of the dataset\u001b[0m: 99.30811297722984%\n",
       "\u001b[1;34mRemain Fields\u001b[0m: ['user_id', 'item_id', 'timestamp', 'tmp', 'year', 'write', 'title', 'genre', 'director', 'label']"
      ]
     },
     "execution_count": 99,
     "metadata": {},
     "output_type": "execute_result"
    }
   ],
   "source": [
    "dataset"
   ]
  },
  {
   "cell_type": "code",
   "execution_count": 100,
   "id": "4b8abda8",
   "metadata": {
    "ExecuteTime": {
     "end_time": "2022-12-21T16:28:28.241885Z",
     "start_time": "2022-12-21T16:27:35.531720Z"
    }
   },
   "outputs": [
    {
     "name": "stderr",
     "output_type": "stream",
     "text": [
      "22 Dec 07:35    INFO  train_data\n",
      "The number of users: 31361\n",
      "Average actions of users: 150.1978542566532\n",
      "The number of items: 4968\n",
      "Average actions of items: 217.02637406885444\n",
      "The number of inters: 1077970\n",
      "The sparsity of the dataset: 99.30811297722984%\n",
      "Remain Fields: ['user_id', 'item_id', 'timestamp', 'year', 'write', 'title', 'genre', 'director']\n"
     ]
    },
    {
     "ename": "AttributeError",
     "evalue": "'NoneType' object has no attribute 'used_ids'",
     "output_type": "error",
     "traceback": [
      "\u001b[0;31m---------------------------------------------------------------------------\u001b[0m",
      "\u001b[0;31mAttributeError\u001b[0m                            Traceback (most recent call last)",
      "Input \u001b[0;32mIn [100]\u001b[0m, in \u001b[0;36m<cell line: 6>\u001b[0;34m()\u001b[0m\n\u001b[1;32m      3\u001b[0m logger\u001b[38;5;241m.\u001b[39minfo(dataset)\n\u001b[1;32m      5\u001b[0m \u001b[38;5;66;03m# dataset splitting\u001b[39;00m\n\u001b[0;32m----> 6\u001b[0m train_data, valid_data, test_data \u001b[38;5;241m=\u001b[39m \u001b[43mdata_preparation\u001b[49m\u001b[43m(\u001b[49m\u001b[43mconfig\u001b[49m\u001b[43m,\u001b[49m\u001b[43m \u001b[49m\u001b[43mdataset\u001b[49m\u001b[43m)\u001b[49m\n",
      "File \u001b[0;32m/opt/conda/lib/python3.8/site-packages/recbole/data/utils.py:184\u001b[0m, in \u001b[0;36mdata_preparation\u001b[0;34m(config, dataset)\u001b[0m\n\u001b[1;32m    175\u001b[0m     kg_sampler \u001b[38;5;241m=\u001b[39m KGSampler(\n\u001b[1;32m    176\u001b[0m         dataset,\n\u001b[1;32m    177\u001b[0m         config[\u001b[38;5;124m\"\u001b[39m\u001b[38;5;124mtrain_neg_sample_args\u001b[39m\u001b[38;5;124m\"\u001b[39m][\u001b[38;5;124m\"\u001b[39m\u001b[38;5;124mdistribution\u001b[39m\u001b[38;5;124m\"\u001b[39m],\n\u001b[1;32m    178\u001b[0m         config[\u001b[38;5;124m\"\u001b[39m\u001b[38;5;124mtrain_neg_sample_args\u001b[39m\u001b[38;5;124m\"\u001b[39m][\u001b[38;5;124m\"\u001b[39m\u001b[38;5;124malpha\u001b[39m\u001b[38;5;124m\"\u001b[39m],\n\u001b[1;32m    179\u001b[0m     )\n\u001b[1;32m    180\u001b[0m     train_data \u001b[38;5;241m=\u001b[39m get_dataloader(config, \u001b[38;5;124m\"\u001b[39m\u001b[38;5;124mtrain\u001b[39m\u001b[38;5;124m\"\u001b[39m)(\n\u001b[1;32m    181\u001b[0m         config, train_dataset, train_sampler, kg_sampler, shuffle\u001b[38;5;241m=\u001b[39m\u001b[38;5;28;01mTrue\u001b[39;00m\n\u001b[1;32m    182\u001b[0m     )\n\u001b[0;32m--> 184\u001b[0m valid_data \u001b[38;5;241m=\u001b[39m \u001b[43mget_dataloader\u001b[49m\u001b[43m(\u001b[49m\u001b[43mconfig\u001b[49m\u001b[43m,\u001b[49m\u001b[43m \u001b[49m\u001b[38;5;124;43m\"\u001b[39;49m\u001b[38;5;124;43mevaluation\u001b[39;49m\u001b[38;5;124;43m\"\u001b[39;49m\u001b[43m)\u001b[49m\u001b[43m(\u001b[49m\n\u001b[1;32m    185\u001b[0m \u001b[43m    \u001b[49m\u001b[43mconfig\u001b[49m\u001b[43m,\u001b[49m\u001b[43m \u001b[49m\u001b[43mvalid_dataset\u001b[49m\u001b[43m,\u001b[49m\u001b[43m \u001b[49m\u001b[43mvalid_sampler\u001b[49m\u001b[43m,\u001b[49m\u001b[43m \u001b[49m\u001b[43mshuffle\u001b[49m\u001b[38;5;241;43m=\u001b[39;49m\u001b[38;5;28;43;01mFalse\u001b[39;49;00m\n\u001b[1;32m    186\u001b[0m \u001b[43m\u001b[49m\u001b[43m)\u001b[49m\n\u001b[1;32m    187\u001b[0m test_data \u001b[38;5;241m=\u001b[39m get_dataloader(config, \u001b[38;5;124m\"\u001b[39m\u001b[38;5;124mevaluation\u001b[39m\u001b[38;5;124m\"\u001b[39m)(\n\u001b[1;32m    188\u001b[0m     config, test_dataset, test_sampler, shuffle\u001b[38;5;241m=\u001b[39m\u001b[38;5;28;01mFalse\u001b[39;00m\n\u001b[1;32m    189\u001b[0m )\n\u001b[1;32m    190\u001b[0m \u001b[38;5;28;01mif\u001b[39;00m config[\u001b[38;5;124m\"\u001b[39m\u001b[38;5;124msave_dataloaders\u001b[39m\u001b[38;5;124m\"\u001b[39m]:\n",
      "File \u001b[0;32m/opt/conda/lib/python3.8/site-packages/recbole/data/dataloader/general_dataloader.py:206\u001b[0m, in \u001b[0;36mFullSortEvalDataLoader.__init__\u001b[0;34m(self, config, dataset, sampler, shuffle)\u001b[0m\n\u001b[1;32m    204\u001b[0m last_uid \u001b[38;5;241m=\u001b[39m \u001b[38;5;28;01mNone\u001b[39;00m\n\u001b[1;32m    205\u001b[0m positive_item \u001b[38;5;241m=\u001b[39m \u001b[38;5;28mset\u001b[39m()\n\u001b[0;32m--> 206\u001b[0m uid2used_item \u001b[38;5;241m=\u001b[39m \u001b[43msampler\u001b[49m\u001b[38;5;241;43m.\u001b[39;49m\u001b[43mused_ids\u001b[49m\n\u001b[1;32m    207\u001b[0m \u001b[38;5;28;01mfor\u001b[39;00m uid, iid \u001b[38;5;129;01min\u001b[39;00m \u001b[38;5;28mzip\u001b[39m(\n\u001b[1;32m    208\u001b[0m     dataset\u001b[38;5;241m.\u001b[39minter_feat[\u001b[38;5;28mself\u001b[39m\u001b[38;5;241m.\u001b[39muid_field]\u001b[38;5;241m.\u001b[39mnumpy(),\n\u001b[1;32m    209\u001b[0m     dataset\u001b[38;5;241m.\u001b[39minter_feat[\u001b[38;5;28mself\u001b[39m\u001b[38;5;241m.\u001b[39miid_field]\u001b[38;5;241m.\u001b[39mnumpy(),\n\u001b[1;32m    210\u001b[0m ):\n\u001b[1;32m    211\u001b[0m     \u001b[38;5;28;01mif\u001b[39;00m uid \u001b[38;5;241m!=\u001b[39m last_uid:\n",
      "\u001b[0;31mAttributeError\u001b[0m: 'NoneType' object has no attribute 'used_ids'"
     ]
    }
   ],
   "source": [
    "# dataset filtering\n",
    "dataset = create_dataset(config)\n",
    "logger.info(dataset)\n",
    "\n",
    "# dataset splitting\n",
    "train_data, valid_data, test_data = data_preparation(config, dataset)"
   ]
  },
  {
   "cell_type": "code",
   "execution_count": null,
   "id": "90215db4",
   "metadata": {
    "ExecuteTime": {
     "end_time": "2022-12-21T16:28:30.032618Z",
     "start_time": "2022-12-21T16:28:28.249765Z"
    }
   },
   "outputs": [],
   "source": [
    "train_data.dataset\n",
    "valid_data.dataset\n",
    "test_data.dataset"
   ]
  },
  {
   "cell_type": "markdown",
   "id": "ee19f483",
   "metadata": {},
   "source": [
    "## make model"
   ]
  },
  {
   "cell_type": "code",
   "execution_count": null,
   "id": "4ee187fa",
   "metadata": {
    "ExecuteTime": {
     "end_time": "2022-12-21T16:28:47.569715Z",
     "start_time": "2022-12-21T16:28:30.035142Z"
    }
   },
   "outputs": [],
   "source": [
    "# model loading and initialization\n",
    "init_seed(config['seed'], config['reproducibility'])\n",
    "model = FFM(config, train_data.dataset).to(config['device'])\n",
    "logger.info(model)"
   ]
  },
  {
   "cell_type": "markdown",
   "id": "03bd695a",
   "metadata": {},
   "source": [
    "## train"
   ]
  },
  {
   "cell_type": "code",
   "execution_count": null,
   "id": "93b8e13e",
   "metadata": {
    "ExecuteTime": {
     "end_time": "2022-12-21T16:29:03.667702Z",
     "start_time": "2022-12-21T16:28:47.580417Z"
    }
   },
   "outputs": [],
   "source": [
    "# trainer loading and initialization\n",
    "trainer = get_trainer(config['MODEL_TYPE'], config['model'])(config, model)\n",
    "\n",
    "# model training\n",
    "best_valid_score, best_valid_result = trainer.fit(\n",
    "    train_data, valid_data, saved=True, verbose=1, show_progress=config['show_progress']\n",
    ")"
   ]
  },
  {
   "cell_type": "markdown",
   "id": "38908ced",
   "metadata": {},
   "source": [
    "### before train"
   ]
  },
  {
   "cell_type": "code",
   "execution_count": null,
   "id": "53c8f1a5",
   "metadata": {
    "ExecuteTime": {
     "end_time": "2022-12-21T15:02:27.239472Z",
     "start_time": "2022-12-21T15:02:10.684761Z"
    }
   },
   "outputs": [],
   "source": [
    "# trainer loading and initialization\n",
    "trainer = get_trainer(config['MODEL_TYPE'], config['model'])(config, model)\n",
    "\n",
    "# model training\n",
    "best_valid_score, best_valid_result = trainer.fit(\n",
    "    train_data, valid_data, saved=True, verbose=1, show_progress=config['show_progress']\n",
    ")"
   ]
  },
  {
   "cell_type": "code",
   "execution_count": null,
   "id": "85a0ac83",
   "metadata": {
    "ExecuteTime": {
     "end_time": "2022-12-21T14:57:24.934068Z",
     "start_time": "2022-12-21T14:56:03.450343Z"
    }
   },
   "outputs": [],
   "source": [
    "# trainer loading and initialization\n",
    "trainer = get_trainer(config['MODEL_TYPE'], config['model'])(config, model)\n",
    "\n",
    "# model training\n",
    "best_valid_score, best_valid_result = trainer.fit(\n",
    "    train_data, valid_data, saved=True, verbose=1, show_progress=config['show_progress']\n",
    ")"
   ]
  },
  {
   "cell_type": "code",
   "execution_count": 18,
   "id": "50849ca6",
   "metadata": {
    "ExecuteTime": {
     "end_time": "2022-12-21T14:38:55.913239Z",
     "start_time": "2022-12-21T14:37:34.858245Z"
    }
   },
   "outputs": [
    {
     "name": "stderr",
     "output_type": "stream",
     "text": [
      "22 Dec 02:15    INFO  epoch 0 training [time: 11.61s, train loss: 0.0000]\n",
      "22 Dec 02:15    INFO  Saving current: saved/EASE-Dec-22-2022_02-14-52.pth\n"
     ]
    }
   ],
   "source": [
    "# trainer loading and initialization\n",
    "trainer = get_trainer(config['MODEL_TYPE'], config['model'])(config, model)\n",
    "\n",
    "# model training\n",
    "best_valid_score, best_valid_result = trainer.fit(\n",
    "    train_data, valid_data, saved=True, verbose=1, show_progress=config['show_progress']\n",
    ")"
   ]
  },
  {
   "cell_type": "code",
   "execution_count": null,
   "id": "cec8a633",
   "metadata": {
    "ExecuteTime": {
     "end_time": "2022-12-21T16:31:48.425918Z",
     "start_time": "2022-12-21T16:31:48.423244Z"
    }
   },
   "outputs": [],
   "source": [
    "from IPython.core.interactiveshell import InteractiveShell\n",
    "InteractiveShell.ast_node_interactivity=\"last\""
   ]
  },
  {
   "cell_type": "markdown",
   "id": "b79572b1",
   "metadata": {},
   "source": [
    "## inference"
   ]
  },
  {
   "cell_type": "code",
   "execution_count": 22,
   "id": "54c9f3b7",
   "metadata": {
    "ExecuteTime": {
     "end_time": "2022-12-21T16:32:04.410486Z",
     "start_time": "2022-12-21T16:32:04.404286Z"
    }
   },
   "outputs": [],
   "source": [
    "model_path='saved/EASE-Dec-22-2022_02-14-52.pth'\n",
    "# rank K 설정\n",
    "K = 20"
   ]
  },
  {
   "cell_type": "code",
   "execution_count": 33,
   "id": "9753e240",
   "metadata": {
    "ExecuteTime": {
     "end_time": "2022-12-21T16:33:53.717439Z",
     "start_time": "2022-12-21T16:32:10.348573Z"
    },
    "tags": []
   },
   "outputs": [
    {
     "name": "stderr",
     "output_type": "stream",
     "text": [
      "22 Dec 02:23    INFO  [Training]: train_batch_size = [2048] train_neg_sample_args: [{'distribution': 'uniform', 'sample_num': 1, 'alpha': 1.0, 'dynamic': False, 'candidate_num': 0}]\n",
      "22 Dec 02:23    INFO  [Evaluation]: eval_batch_size = [4096] eval_args: [{'split': {'RS': [1, 0, 0]}, 'group_by': 'user', 'order': 'RO', 'mode': 'full'}]\n",
      "Inference:   0%|          | 0/245 [00:00<?, ?it/s]:   0%|          | 1/245 [00:00<00:50,  4.86it/s]:   1%|          | 2/245 [00:00<00:47,  5.17it/s]:   1%|          | 3/245 [00:00<00:43,  5.56it/s]:   2%|▏         | 4/245 [00:00<00:41,  5.80it/s]:   2%|▏         | 5/245 [00:00<00:41,  5.80it/s]:   2%|▏         | 6/245 [00:01<00:40,  5.85it/s]:   3%|▎         | 7/245 [00:01<00:39,  5.98it/s]:   3%|▎         | 8/245 [00:01<00:39,  6.06it/s]:   4%|▎         | 9/245 [00:01<00:38,  6.16it/s]:   4%|▍         | 10/245 [00:01<00:37,  6.26it/s]:   4%|▍         | 11/245 [00:01<00:35,  6.59it/s]:   5%|▍         | 12/245 [00:01<00:33,  6.96it/s]:   5%|▌         | 13/245 [00:02<00:32,  7.05it/s]:   6%|▌         | 14/245 [00:02<00:33,  6.91it/s]:   6%|▌         | 15/245 [00:02<00:34,  6.71it/s]:   7%|▋         | 16/245 [00:02<00:33,  6.86it/s]:   7%|▋         | 17/245 [00:02<00:32,  7.00it/s]:   7%|▋         | 18/245 [00:02<00:33,  6.84it/s]:   8%|▊         | 19/245 [00:02<00:33,  6.67it/s]:   8%|▊         | 20/245 [00:03<00:33,  6.65it/s]:   9%|▊         | 21/245 [00:03<00:33,  6.59it/s]:   9%|▉         | 22/245 [00:03<00:33,  6.56it/s]:   9%|▉         | 23/245 [00:03<00:32,  6.77it/s]:  10%|▉         | 24/245 [00:03<00:32,  6.73it/s]:  10%|█         | 25/245 [00:03<00:32,  6.73it/s]:  11%|█         | 26/245 [00:03<00:32,  6.64it/s]:  11%|█         | 27/245 [00:04<00:32,  6.74it/s]:  11%|█▏        | 28/245 [00:04<00:33,  6.45it/s]:  12%|█▏        | 29/245 [00:04<00:32,  6.55it/s]:  12%|█▏        | 30/245 [00:04<00:32,  6.61it/s]:  13%|█▎        | 31/245 [00:04<00:32,  6.62it/s]:  13%|█▎        | 32/245 [00:04<00:31,  6.69it/s]:  13%|█▎        | 33/245 [00:05<00:32,  6.58it/s]:  14%|█▍        | 34/245 [00:05<00:31,  6.60it/s]:  14%|█▍        | 35/245 [00:05<00:31,  6.66it/s]:  15%|█▍        | 36/245 [00:05<00:32,  6.47it/s]:  15%|█▌        | 37/245 [00:05<00:31,  6.55it/s]:  16%|█▌        | 38/245 [00:05<00:30,  6.68it/s]:  16%|█▌        | 39/245 [00:05<00:30,  6.80it/s]:  16%|█▋        | 40/245 [00:06<00:30,  6.78it/s]:  17%|█▋        | 41/245 [00:06<00:30,  6.80it/s]:  17%|█▋        | 42/245 [00:06<00:30,  6.57it/s]:  18%|█▊        | 43/245 [00:06<00:30,  6.59it/s]:  18%|█▊        | 44/245 [00:06<00:30,  6.61it/s]:  18%|█▊        | 45/245 [00:06<00:30,  6.62it/s]:  19%|█▉        | 46/245 [00:07<00:30,  6.49it/s]:  19%|█▉        | 47/245 [00:07<00:31,  6.20it/s]:  20%|█▉        | 48/245 [00:07<00:31,  6.27it/s]:  20%|██        | 49/245 [00:07<00:30,  6.53it/s]:  20%|██        | 50/245 [00:07<00:30,  6.44it/s]:  21%|██        | 51/245 [00:07<00:29,  6.55it/s]:  21%|██        | 52/245 [00:07<00:29,  6.44it/s]:  22%|██▏       | 53/245 [00:08<00:29,  6.56it/s]:  22%|██▏       | 54/245 [00:08<00:28,  6.77it/s]:  22%|██▏       | 55/245 [00:08<00:28,  6.62it/s]:  23%|██▎       | 56/245 [00:08<00:28,  6.61it/s]:  23%|██▎       | 57/245 [00:08<00:27,  6.82it/s]:  24%|██▎       | 58/245 [00:08<00:28,  6.52it/s]:  24%|██▍       | 59/245 [00:09<00:28,  6.48it/s]:  24%|██▍       | 60/245 [00:09<00:27,  6.69it/s]:  25%|██▍       | 61/245 [00:09<00:27,  6.65it/s]:  25%|██▌       | 62/245 [00:09<00:29,  6.28it/s]:  26%|██▌       | 63/245 [00:09<00:28,  6.32it/s]:  26%|██▌       | 64/245 [00:09<00:28,  6.42it/s]:  27%|██▋       | 65/245 [00:09<00:28,  6.38it/s]:  27%|██▋       | 66/245 [00:10<00:26,  6.73it/s]:  27%|██▋       | 67/245 [00:10<00:26,  6.74it/s]:  28%|██▊       | 68/245 [00:10<00:26,  6.76it/s]:  28%|██▊       | 69/245 [00:10<00:26,  6.60it/s]:  29%|██▊       | 70/245 [00:10<00:26,  6.59it/s]:  29%|██▉       | 71/245 [00:10<00:25,  6.94it/s]:  29%|██▉       | 72/245 [00:10<00:24,  6.97it/s]:  30%|██▉       | 73/245 [00:11<00:24,  7.14it/s]:  30%|███       | 74/245 [00:11<00:25,  6.66it/s]:  31%|███       | 75/245 [00:11<00:25,  6.77it/s]:  31%|███       | 76/245 [00:11<00:26,  6.40it/s]:  31%|███▏      | 77/245 [00:11<00:25,  6.50it/s]:  32%|███▏      | 78/245 [00:11<00:25,  6.47it/s]:  32%|███▏      | 79/245 [00:12<00:25,  6.56it/s]:  33%|███▎      | 80/245 [00:12<00:25,  6.54it/s]:  33%|███▎      | 81/245 [00:12<00:25,  6.56it/s]:  33%|███▎      | 82/245 [00:12<00:24,  6.74it/s]:  34%|███▍      | 83/245 [00:12<00:24,  6.66it/s]:  34%|███▍      | 84/245 [00:12<00:24,  6.57it/s]:  35%|███▍      | 85/245 [00:12<00:24,  6.46it/s]:  35%|███▌      | 86/245 [00:13<00:24,  6.50it/s]:  36%|███▌      | 87/245 [00:13<00:23,  6.60it/s]:  36%|███▌      | 88/245 [00:13<00:23,  6.55it/s]:  36%|███▋      | 89/245 [00:13<00:23,  6.61it/s]:  37%|███▋      | 90/245 [00:13<00:23,  6.64it/s]:  37%|███▋      | 91/245 [00:13<00:23,  6.65it/s]:  38%|███▊      | 92/245 [00:13<00:23,  6.57it/s]:  38%|███▊      | 93/245 [00:14<00:23,  6.38it/s]:  38%|███▊      | 94/245 [00:14<00:24,  6.23it/s]:  39%|███▉      | 95/245 [00:14<00:23,  6.34it/s]:  39%|███▉      | 96/245 [00:14<00:23,  6.38it/s]:  40%|███▉      | 97/245 [00:14<00:24,  6.15it/s]:  40%|████      | 98/245 [00:14<00:24,  6.09it/s]:  40%|████      | 99/245 [00:15<00:22,  6.36it/s]:  41%|████      | 100/245 [00:15<00:21,  6.64it/s]:  41%|████      | 101/245 [00:15<00:21,  6.64it/s]:  42%|████▏     | 102/245 [00:15<00:22,  6.43it/s]:  42%|████▏     | 103/245 [00:15<00:21,  6.51it/s]:  42%|████▏     | 104/245 [00:15<00:21,  6.50it/s]:  43%|████▎     | 105/245 [00:16<00:21,  6.59it/s]:  43%|████▎     | 106/245 [00:16<00:21,  6.49it/s]:  44%|████▎     | 107/245 [00:16<00:21,  6.46it/s]:  44%|████▍     | 108/245 [00:16<00:20,  6.53it/s]:  44%|████▍     | 109/245 [00:16<00:20,  6.54it/s]:  45%|████▍     | 110/245 [00:16<00:20,  6.57it/s]:  45%|████▌     | 111/245 [00:16<00:20,  6.67it/s]:  46%|████▌     | 112/245 [00:17<00:19,  6.71it/s]:  46%|████▌     | 113/245 [00:17<00:19,  6.63it/s]:  47%|████▋     | 114/245 [00:17<00:19,  6.70it/s]:  47%|████▋     | 115/245 [00:17<00:19,  6.60it/s]:  47%|████▋     | 116/245 [00:17<00:19,  6.64it/s]:  48%|████▊     | 117/245 [00:17<00:19,  6.67it/s]:  48%|████▊     | 118/245 [00:17<00:18,  6.86it/s]:  49%|████▊     | 119/245 [00:18<00:19,  6.49it/s]:  49%|████▉     | 120/245 [00:18<00:19,  6.48it/s]:  49%|████▉     | 121/245 [00:18<00:18,  6.59it/s]:  50%|████▉     | 122/245 [00:18<00:18,  6.70it/s]:  50%|█████     | 123/245 [00:18<00:18,  6.66it/s]:  51%|█████     | 124/245 [00:18<00:18,  6.59it/s]:  51%|█████     | 125/245 [00:19<00:18,  6.63it/s]:  51%|█████▏    | 126/245 [00:19<00:17,  6.84it/s]:  52%|█████▏    | 127/245 [00:19<00:18,  6.51it/s]:  52%|█████▏    | 128/245 [00:19<00:18,  6.49it/s]:  53%|█████▎    | 129/245 [00:19<00:17,  6.73it/s]:  53%|█████▎    | 130/245 [00:19<00:16,  6.88it/s]:  53%|█████▎    | 131/245 [00:19<00:16,  6.91it/s]:  54%|█████▍    | 132/245 [00:20<00:16,  6.72it/s]:  54%|█████▍    | 133/245 [00:20<00:16,  6.84it/s]:  55%|█████▍    | 134/245 [00:20<00:16,  6.90it/s]:  55%|█████▌    | 135/245 [00:20<00:16,  6.73it/s]:  56%|█████▌    | 136/245 [00:20<00:16,  6.69it/s]:  56%|█████▌    | 137/245 [00:20<00:16,  6.55it/s]:  56%|█████▋    | 138/245 [00:21<00:16,  6.38it/s]:  57%|█████▋    | 139/245 [00:21<00:16,  6.38it/s]:  57%|█████▋    | 140/245 [00:21<00:16,  6.19it/s]:  58%|█████▊    | 141/245 [00:21<00:16,  6.42it/s]:  58%|█████▊    | 142/245 [00:21<00:15,  6.52it/s]:  58%|█████▊    | 143/245 [00:21<00:15,  6.63it/s]:  59%|█████▉    | 144/245 [00:21<00:15,  6.43it/s]:  59%|█████▉    | 145/245 [00:22<00:15,  6.57it/s]:  60%|█████▉    | 146/245 [00:22<00:14,  6.76it/s]:  60%|██████    | 147/245 [00:22<00:14,  6.79it/s]:  60%|██████    | 148/245 [00:22<00:14,  6.89it/s]:  61%|██████    | 149/245 [00:22<00:13,  6.95it/s]:  61%|██████    | 150/245 [00:22<00:13,  6.86it/s]:  62%|██████▏   | 151/245 [00:22<00:13,  6.84it/s]:  62%|██████▏   | 152/245 [00:23<00:13,  6.79it/s]:  62%|██████▏   | 153/245 [00:23<00:13,  6.67it/s]:  63%|██████▎   | 154/245 [00:23<00:13,  6.78it/s]:  63%|██████▎   | 155/245 [00:23<00:13,  6.83it/s]:  64%|██████▎   | 156/245 [00:23<00:13,  6.78it/s]:  64%|██████▍   | 157/245 [00:23<00:13,  6.52it/s]:  64%|██████▍   | 158/245 [00:23<00:13,  6.62it/s]:  65%|██████▍   | 159/245 [00:24<00:13,  6.50it/s]:  65%|██████▌   | 160/245 [00:24<00:13,  6.54it/s]:  66%|██████▌   | 161/245 [00:24<00:12,  6.70it/s]:  66%|██████▌   | 162/245 [00:24<00:12,  6.69it/s]:  67%|██████▋   | 163/245 [00:24<00:12,  6.76it/s]:  67%|██████▋   | 164/245 [00:24<00:11,  6.95it/s]:  67%|██████▋   | 165/245 [00:25<00:12,  6.61it/s]:  68%|██████▊   | 166/245 [00:25<00:11,  6.81it/s]:  68%|██████▊   | 167/245 [00:25<00:11,  6.71it/s]:  69%|██████▊   | 168/245 [00:25<00:11,  6.77it/s]:  69%|██████▉   | 169/245 [00:25<00:11,  6.89it/s]:  69%|██████▉   | 170/245 [00:25<00:10,  6.85it/s]:  70%|██████▉   | 171/245 [00:25<00:10,  6.98it/s]:  70%|███████   | 172/245 [00:26<00:10,  6.83it/s]:  71%|███████   | 173/245 [00:26<00:10,  6.56it/s]:  71%|███████   | 174/245 [00:26<00:10,  6.58it/s]:  71%|███████▏  | 175/245 [00:26<00:11,  6.31it/s]:  72%|███████▏  | 176/245 [00:26<00:10,  6.54it/s]:  72%|███████▏  | 177/245 [00:26<00:10,  6.73it/s]:  73%|███████▎  | 178/245 [00:26<00:09,  6.70it/s]:  73%|███████▎  | 179/245 [00:27<00:10,  6.51it/s]:  73%|███████▎  | 180/245 [00:27<00:09,  6.59it/s]:  74%|███████▍  | 181/245 [00:27<00:09,  6.62it/s]:  74%|███████▍  | 182/245 [00:27<00:09,  6.55it/s]:  75%|███████▍  | 183/245 [00:27<00:09,  6.66it/s]:  75%|███████▌  | 184/245 [00:27<00:09,  6.48it/s]:  76%|███████▌  | 185/245 [00:28<00:09,  6.59it/s]:  76%|███████▌  | 186/245 [00:28<00:08,  6.57it/s]:  76%|███████▋  | 187/245 [00:28<00:08,  6.69it/s]:  77%|███████▋  | 188/245 [00:28<00:08,  6.60it/s]:  77%|███████▋  | 189/245 [00:28<00:08,  6.62it/s]:  78%|███████▊  | 190/245 [00:28<00:08,  6.73it/s]:  78%|███████▊  | 191/245 [00:28<00:08,  6.72it/s]:  78%|███████▊  | 192/245 [00:29<00:07,  6.92it/s]:  79%|███████▉  | 193/245 [00:29<00:07,  6.77it/s]:  79%|███████▉  | 194/245 [00:29<00:07,  6.82it/s]:  80%|███████▉  | 195/245 [00:29<00:07,  6.84it/s]:  80%|████████  | 196/245 [00:29<00:07,  6.85it/s]:  80%|████████  | 197/245 [00:29<00:07,  6.77it/s]:  81%|████████  | 198/245 [00:29<00:06,  6.80it/s]:  81%|████████  | 199/245 [00:30<00:06,  6.73it/s]:  82%|████████▏ | 200/245 [00:30<00:06,  6.73it/s]:  82%|████████▏ | 201/245 [00:30<00:06,  6.52it/s]:  82%|████████▏ | 202/245 [00:30<00:06,  6.61it/s]:  83%|████████▎ | 203/245 [00:30<00:06,  6.49it/s]:  83%|████████▎ | 204/245 [00:30<00:06,  6.16it/s]:  84%|████████▎ | 205/245 [00:31<00:06,  6.09it/s]:  84%|████████▍ | 206/245 [00:31<00:06,  6.31it/s]:  84%|████████▍ | 207/245 [00:31<00:06,  6.12it/s]:  85%|████████▍ | 208/245 [00:31<00:05,  6.37it/s]:  85%|████████▌ | 209/245 [00:31<00:05,  6.32it/s]:  86%|████████▌ | 210/245 [00:31<00:05,  6.67it/s]:  86%|████████▌ | 211/245 [00:31<00:05,  6.79it/s]:  87%|████████▋ | 212/245 [00:32<00:05,  6.46it/s]:  87%|████████▋ | 213/245 [00:32<00:04,  6.81it/s]:  87%|████████▋ | 214/245 [00:32<00:04,  6.93it/s]:  88%|████████▊ | 215/245 [00:32<00:04,  6.60it/s]:  88%|████████▊ | 216/245 [00:32<00:04,  6.85it/s]:  89%|████████▊ | 217/245 [00:32<00:04,  6.70it/s]:  89%|████████▉ | 218/245 [00:33<00:04,  6.59it/s]:  89%|████████▉ | 219/245 [00:33<00:03,  6.60it/s]:  90%|████████▉ | 220/245 [00:33<00:03,  6.95it/s]:  90%|█████████ | 221/245 [00:33<00:03,  6.92it/s]:  91%|█████████ | 222/245 [00:33<00:03,  6.92it/s]:  91%|█████████ | 223/245 [00:33<00:03,  6.98it/s]:  91%|█████████▏| 224/245 [00:33<00:03,  6.66it/s]:  92%|█████████▏| 225/245 [00:34<00:02,  6.90it/s]:  92%|█████████▏| 226/245 [00:34<00:02,  6.88it/s]:  93%|█████████▎| 227/245 [00:34<00:02,  6.92it/s]:  93%|█████████▎| 228/245 [00:34<00:02,  6.74it/s]:  93%|█████████▎| 229/245 [00:34<00:02,  6.80it/s]:  94%|█████████▍| 230/245 [00:34<00:02,  6.78it/s]:  94%|█████████▍| 231/245 [00:34<00:02,  6.80it/s]:  95%|█████████▍| 232/245 [00:35<00:02,  6.43it/s]:  95%|█████████▌| 233/245 [00:35<00:01,  6.33it/s]:  96%|█████████▌| 234/245 [00:35<00:01,  6.45it/s]:  96%|█████████▌| 235/245 [00:35<00:01,  6.53it/s]:  96%|█████████▋| 236/245 [00:35<00:01,  6.67it/s]:  97%|█████████▋| 237/245 [00:35<00:01,  6.76it/s]:  97%|█████████▋| 238/245 [00:35<00:01,  6.85it/s]:  98%|█████████▊| 239/245 [00:36<00:00,  6.74it/s]:  98%|█████████▊| 240/245 [00:36<00:00,  6.49it/s]:  98%|█████████▊| 241/245 [00:36<00:00,  6.58it/s]:  99%|█████████▉| 242/245 [00:36<00:00,  6.60it/s]:  99%|█████████▉| 243/245 [00:36<00:00,  6.54it/s]: 100%|█████████▉| 244/245 [00:36<00:00,  6.77it/s]: 100%|██████████| 245/245 [00:37<00:00,  6.60it/s]: 100%|██████████| 245/245 [00:37<00:00,  6.61it/s]\n"
     ]
    },
    {
     "name": "stdout",
     "output_type": "stream",
     "text": [
      "inference done!\n"
     ]
    }
   ],
   "source": [
    "# config, model, dataset 불러오기\n",
    "checkpoint = torch.load(model_path)\n",
    "config = checkpoint['config']\n",
    "config['dataset'] = 'train_data'\n",
    "\n",
    "dataset = create_dataset(config)\n",
    "train_data, valid_data, test_data = data_preparation(config, dataset)\n",
    "\n",
    "model = get_model(config['model'])(config, test_data.dataset).to(config['device'])\n",
    "model.load_state_dict(checkpoint['state_dict'])\n",
    "model.load_other_parameter(checkpoint.get('other_parameter'))\n",
    "\n",
    "# device 설정\n",
    "device = config.final_config_dict['device']\n",
    "\n",
    "# user, item id -> token 변환 array\n",
    "user_id = config['USER_ID_FIELD']\n",
    "item_id = config['ITEM_ID_FIELD']\n",
    "user_id2token = dataset.field2id_token[user_id]\n",
    "item_id2token = dataset.field2id_token[item_id]\n",
    "\n",
    "# user id list\n",
    "all_user_list = torch.arange(1, len(user_id2token)).view(-1,128)\n",
    "\n",
    "# user, item 길이\n",
    "user_len = len(user_id2token)\n",
    "item_len = len(item_id2token)\n",
    "\n",
    "# user-item sparse matrix\n",
    "matrix = dataset.inter_matrix(form='csr')\n",
    "\n",
    "# user id, predict item id 저장 변수\n",
    "pred_list = None\n",
    "user_list = None\n",
    "\n",
    "# model 평가모드 전환\n",
    "model.eval()\n",
    "\n",
    "# progress bar 설정\n",
    "tbar = tqdm(all_user_list, desc=set_color(f\"Inference\", 'pink'))\n",
    "\n",
    "for data in tbar:\n",
    "    # interaction 생성\n",
    "    interaction = dict()\n",
    "    interaction = Interaction(interaction)\n",
    "    interaction[user_id] = data\n",
    "    interaction = interaction.to(device)\n",
    "\n",
    "    # user item별 score 예측\n",
    "    score = model.full_sort_predict(interaction)\n",
    "    score = score.view(-1, item_len)\n",
    "\n",
    "    rating_pred = score.cpu().data.numpy().copy()\n",
    "\n",
    "    user_index = data.numpy()\n",
    "\n",
    "    idx = matrix[user_index].toarray() > 0\n",
    "\n",
    "    rating_pred[idx] = -np.inf\n",
    "    rating_pred[:, 0] = -np.inf\n",
    "    ind = np.argpartition(rating_pred, -K)[:, -K:]\n",
    "\n",
    "    arr_ind = rating_pred[np.arange(len(rating_pred))[:, None], ind]\n",
    "\n",
    "    arr_ind_argsort = np.argsort(arr_ind)[np.arange(len(rating_pred)), ::-1]\n",
    "\n",
    "    batch_pred_list = ind[\n",
    "        np.arange(len(rating_pred))[:, None], arr_ind_argsort\n",
    "    ]\n",
    "\n",
    "    if pred_list is None:\n",
    "        pred_list = batch_pred_list\n",
    "        user_list = user_index\n",
    "    else:\n",
    "        pred_list = np.append(pred_list, batch_pred_list, axis=0)\n",
    "        user_list = np.append(\n",
    "            user_list, user_index, axis=0\n",
    "        )\n",
    "\n",
    "result = []\n",
    "for user, pred in zip(user_list, pred_list):\n",
    "    for item in pred:\n",
    "        result.append((int(user_id2token[user]), int(item_id2token[item])))\n",
    "\n",
    "# 데이터 저장\n",
    "sub = pd.DataFrame(result, columns=[\"user\", \"item\"])\n",
    "sub.to_csv(\n",
    "    \"submission.csv\", index=False\n",
    ")\n",
    "print('inference done!')"
   ]
  },
  {
   "cell_type": "markdown",
   "id": "934a19ad",
   "metadata": {},
   "source": [
    "## 제출파일 생성"
   ]
  },
  {
   "cell_type": "code",
   "execution_count": 34,
   "id": "b16d1766",
   "metadata": {
    "ExecuteTime": {
     "end_time": "2022-12-21T16:33:53.729198Z",
     "start_time": "2022-12-21T16:33:53.719754Z"
    }
   },
   "outputs": [
    {
     "data": {
      "text/html": [
       "<div>\n",
       "<style scoped>\n",
       "    .dataframe tbody tr th:only-of-type {\n",
       "        vertical-align: middle;\n",
       "    }\n",
       "\n",
       "    .dataframe tbody tr th {\n",
       "        vertical-align: top;\n",
       "    }\n",
       "\n",
       "    .dataframe thead th {\n",
       "        text-align: right;\n",
       "    }\n",
       "</style>\n",
       "<table border=\"1\" class=\"dataframe\">\n",
       "  <thead>\n",
       "    <tr style=\"text-align: right;\">\n",
       "      <th></th>\n",
       "      <th>user</th>\n",
       "      <th>item</th>\n",
       "    </tr>\n",
       "  </thead>\n",
       "  <tbody>\n",
       "    <tr>\n",
       "      <th>0</th>\n",
       "      <td>0</td>\n",
       "      <td>2381</td>\n",
       "    </tr>\n",
       "    <tr>\n",
       "      <th>1</th>\n",
       "      <td>0</td>\n",
       "      <td>2619</td>\n",
       "    </tr>\n",
       "    <tr>\n",
       "      <th>2</th>\n",
       "      <td>0</td>\n",
       "      <td>41</td>\n",
       "    </tr>\n",
       "    <tr>\n",
       "      <th>3</th>\n",
       "      <td>0</td>\n",
       "      <td>4581</td>\n",
       "    </tr>\n",
       "    <tr>\n",
       "      <th>4</th>\n",
       "      <td>0</td>\n",
       "      <td>4790</td>\n",
       "    </tr>\n",
       "    <tr>\n",
       "      <th>...</th>\n",
       "      <td>...</td>\n",
       "      <td>...</td>\n",
       "    </tr>\n",
       "    <tr>\n",
       "      <th>627195</th>\n",
       "      <td>31359</td>\n",
       "      <td>2541</td>\n",
       "    </tr>\n",
       "    <tr>\n",
       "      <th>627196</th>\n",
       "      <td>31359</td>\n",
       "      <td>178</td>\n",
       "    </tr>\n",
       "    <tr>\n",
       "      <th>627197</th>\n",
       "      <td>31359</td>\n",
       "      <td>1206</td>\n",
       "    </tr>\n",
       "    <tr>\n",
       "      <th>627198</th>\n",
       "      <td>31359</td>\n",
       "      <td>2603</td>\n",
       "    </tr>\n",
       "    <tr>\n",
       "      <th>627199</th>\n",
       "      <td>31359</td>\n",
       "      <td>2653</td>\n",
       "    </tr>\n",
       "  </tbody>\n",
       "</table>\n",
       "<p>627200 rows × 2 columns</p>\n",
       "</div>"
      ],
      "text/plain": [
       "         user  item\n",
       "0           0  2381\n",
       "1           0  2619\n",
       "2           0    41\n",
       "3           0  4581\n",
       "4           0  4790\n",
       "...       ...   ...\n",
       "627195  31359  2541\n",
       "627196  31359   178\n",
       "627197  31359  1206\n",
       "627198  31359  2603\n",
       "627199  31359  2653\n",
       "\n",
       "[627200 rows x 2 columns]"
      ]
     },
     "execution_count": 34,
     "metadata": {},
     "output_type": "execute_result"
    }
   ],
   "source": [
    "sub"
   ]
  },
  {
   "cell_type": "markdown",
   "id": "75fe936e-d9f3-46b7-8651-128d03b79316",
   "metadata": {},
   "source": [
    "## 제출파일에 기존 interaction 중복 확인 및 제거\n",
    "-> 중복 없었다."
   ]
  },
  {
   "cell_type": "code",
   "execution_count": 35,
   "id": "ccd7a05d-4409-4224-bf71-428575b0da8e",
   "metadata": {},
   "outputs": [],
   "source": [
    "train_check = train[['user_id:token','item_id:token']]"
   ]
  },
  {
   "cell_type": "code",
   "execution_count": 37,
   "id": "5d979e64-50a0-4309-9518-b6a9906cf3a4",
   "metadata": {},
   "outputs": [],
   "source": [
    "train_check.columns = ['user','item']"
   ]
  },
  {
   "cell_type": "code",
   "execution_count": 42,
   "id": "3e62d552-9006-4d36-ab06-cf51dcfc5be2",
   "metadata": {
    "collapsed": true,
    "jupyter": {
     "outputs_hidden": true
    },
    "tags": []
   },
   "outputs": [
    {
     "data": {
      "text/html": [
       "<div>\n",
       "<style scoped>\n",
       "    .dataframe tbody tr th:only-of-type {\n",
       "        vertical-align: middle;\n",
       "    }\n",
       "\n",
       "    .dataframe tbody tr th {\n",
       "        vertical-align: top;\n",
       "    }\n",
       "\n",
       "    .dataframe thead th {\n",
       "        text-align: right;\n",
       "    }\n",
       "</style>\n",
       "<table border=\"1\" class=\"dataframe\">\n",
       "  <thead>\n",
       "    <tr style=\"text-align: right;\">\n",
       "      <th></th>\n",
       "      <th>user</th>\n",
       "      <th>item</th>\n",
       "      <th>_merge</th>\n",
       "    </tr>\n",
       "  </thead>\n",
       "  <tbody>\n",
       "    <tr>\n",
       "      <th>0</th>\n",
       "      <td>0</td>\n",
       "      <td>2381</td>\n",
       "      <td>left_only</td>\n",
       "    </tr>\n",
       "    <tr>\n",
       "      <th>1</th>\n",
       "      <td>0</td>\n",
       "      <td>2619</td>\n",
       "      <td>left_only</td>\n",
       "    </tr>\n",
       "    <tr>\n",
       "      <th>2</th>\n",
       "      <td>0</td>\n",
       "      <td>41</td>\n",
       "      <td>left_only</td>\n",
       "    </tr>\n",
       "    <tr>\n",
       "      <th>3</th>\n",
       "      <td>0</td>\n",
       "      <td>4581</td>\n",
       "      <td>left_only</td>\n",
       "    </tr>\n",
       "    <tr>\n",
       "      <th>4</th>\n",
       "      <td>0</td>\n",
       "      <td>4790</td>\n",
       "      <td>left_only</td>\n",
       "    </tr>\n",
       "    <tr>\n",
       "      <th>...</th>\n",
       "      <td>...</td>\n",
       "      <td>...</td>\n",
       "      <td>...</td>\n",
       "    </tr>\n",
       "    <tr>\n",
       "      <th>5781666</th>\n",
       "      <td>31359</td>\n",
       "      <td>4882</td>\n",
       "      <td>right_only</td>\n",
       "    </tr>\n",
       "    <tr>\n",
       "      <th>5781667</th>\n",
       "      <td>31359</td>\n",
       "      <td>2652</td>\n",
       "      <td>right_only</td>\n",
       "    </tr>\n",
       "    <tr>\n",
       "      <th>5781668</th>\n",
       "      <td>31359</td>\n",
       "      <td>5768</td>\n",
       "      <td>right_only</td>\n",
       "    </tr>\n",
       "    <tr>\n",
       "      <th>5781669</th>\n",
       "      <td>31359</td>\n",
       "      <td>4791</td>\n",
       "      <td>right_only</td>\n",
       "    </tr>\n",
       "    <tr>\n",
       "      <th>5781670</th>\n",
       "      <td>31359</td>\n",
       "      <td>4363</td>\n",
       "      <td>right_only</td>\n",
       "    </tr>\n",
       "  </tbody>\n",
       "</table>\n",
       "<p>5781671 rows × 3 columns</p>\n",
       "</div>"
      ],
      "text/plain": [
       "          user  item      _merge\n",
       "0            0  2381   left_only\n",
       "1            0  2619   left_only\n",
       "2            0    41   left_only\n",
       "3            0  4581   left_only\n",
       "4            0  4790   left_only\n",
       "...        ...   ...         ...\n",
       "5781666  31359  4882  right_only\n",
       "5781667  31359  2652  right_only\n",
       "5781668  31359  5768  right_only\n",
       "5781669  31359  4791  right_only\n",
       "5781670  31359  4363  right_only\n",
       "\n",
       "[5781671 rows x 3 columns]"
      ]
     },
     "execution_count": 42,
     "metadata": {},
     "output_type": "execute_result"
    }
   ],
   "source": [
    "sub_nodup = sub.merge(train_check, how='outer', indicator=True)\n",
    "sub_nodup"
   ]
  },
  {
   "cell_type": "code",
   "execution_count": 45,
   "id": "f3321920-cac1-4ea1-a428-b8c956981bbe",
   "metadata": {},
   "outputs": [
    {
     "data": {
      "text/html": [
       "<div>\n",
       "<style scoped>\n",
       "    .dataframe tbody tr th:only-of-type {\n",
       "        vertical-align: middle;\n",
       "    }\n",
       "\n",
       "    .dataframe tbody tr th {\n",
       "        vertical-align: top;\n",
       "    }\n",
       "\n",
       "    .dataframe thead th {\n",
       "        text-align: right;\n",
       "    }\n",
       "</style>\n",
       "<table border=\"1\" class=\"dataframe\">\n",
       "  <thead>\n",
       "    <tr style=\"text-align: right;\">\n",
       "      <th></th>\n",
       "      <th>user</th>\n",
       "      <th>item</th>\n",
       "    </tr>\n",
       "  </thead>\n",
       "  <tbody>\n",
       "    <tr>\n",
       "      <th>0</th>\n",
       "      <td>0</td>\n",
       "      <td>2381</td>\n",
       "    </tr>\n",
       "    <tr>\n",
       "      <th>1</th>\n",
       "      <td>0</td>\n",
       "      <td>2619</td>\n",
       "    </tr>\n",
       "    <tr>\n",
       "      <th>2</th>\n",
       "      <td>0</td>\n",
       "      <td>41</td>\n",
       "    </tr>\n",
       "    <tr>\n",
       "      <th>3</th>\n",
       "      <td>0</td>\n",
       "      <td>4581</td>\n",
       "    </tr>\n",
       "    <tr>\n",
       "      <th>4</th>\n",
       "      <td>0</td>\n",
       "      <td>4790</td>\n",
       "    </tr>\n",
       "    <tr>\n",
       "      <th>...</th>\n",
       "      <td>...</td>\n",
       "      <td>...</td>\n",
       "    </tr>\n",
       "    <tr>\n",
       "      <th>627195</th>\n",
       "      <td>31359</td>\n",
       "      <td>2541</td>\n",
       "    </tr>\n",
       "    <tr>\n",
       "      <th>627196</th>\n",
       "      <td>31359</td>\n",
       "      <td>178</td>\n",
       "    </tr>\n",
       "    <tr>\n",
       "      <th>627197</th>\n",
       "      <td>31359</td>\n",
       "      <td>1206</td>\n",
       "    </tr>\n",
       "    <tr>\n",
       "      <th>627198</th>\n",
       "      <td>31359</td>\n",
       "      <td>2603</td>\n",
       "    </tr>\n",
       "    <tr>\n",
       "      <th>627199</th>\n",
       "      <td>31359</td>\n",
       "      <td>2653</td>\n",
       "    </tr>\n",
       "  </tbody>\n",
       "</table>\n",
       "<p>627200 rows × 2 columns</p>\n",
       "</div>"
      ],
      "text/plain": [
       "         user  item\n",
       "0           0  2381\n",
       "1           0  2619\n",
       "2           0    41\n",
       "3           0  4581\n",
       "4           0  4790\n",
       "...       ...   ...\n",
       "627195  31359  2541\n",
       "627196  31359   178\n",
       "627197  31359  1206\n",
       "627198  31359  2603\n",
       "627199  31359  2653\n",
       "\n",
       "[627200 rows x 2 columns]"
      ]
     },
     "execution_count": 45,
     "metadata": {},
     "output_type": "execute_result"
    }
   ],
   "source": [
    "sub_nodup = sub_nodup.query('_merge == \"left_only\"').drop(columns=['_merge'])\n",
    "sub_nodup"
   ]
  },
  {
   "cell_type": "code",
   "execution_count": null,
   "id": "c9ebe00e-f72c-4439-9e7e-6b5e237d6957",
   "metadata": {},
   "outputs": [],
   "source": []
  },
  {
   "cell_type": "code",
   "execution_count": 25,
   "id": "c221cde8",
   "metadata": {
    "ExecuteTime": {
     "end_time": "2022-12-21T15:04:20.200880Z",
     "start_time": "2022-12-21T15:04:19.735937Z"
    }
   },
   "outputs": [],
   "source": [
    "sub.user = sub.user.map(uidx2user)\n",
    "sub.item = sub.item.map(iidx2item)"
   ]
  },
  {
   "cell_type": "code",
   "execution_count": 26,
   "id": "5e53b487",
   "metadata": {
    "ExecuteTime": {
     "end_time": "2022-12-21T15:04:20.200880Z",
     "start_time": "2022-12-21T15:04:19.735937Z"
    }
   },
   "outputs": [],
   "source": [
    "sub.to_csv('EASE_1_0.csv',index=False)"
   ]
  },
  {
   "cell_type": "code",
   "execution_count": 28,
   "id": "ab3190bb",
   "metadata": {
    "ExecuteTime": {
     "end_time": "2022-12-21T15:04:20.213053Z",
     "start_time": "2022-12-21T15:04:20.203992Z"
    }
   },
   "outputs": [
    {
     "data": {
      "text/html": [
       "<div>\n",
       "<style scoped>\n",
       "    .dataframe tbody tr th:only-of-type {\n",
       "        vertical-align: middle;\n",
       "    }\n",
       "\n",
       "    .dataframe tbody tr th {\n",
       "        vertical-align: top;\n",
       "    }\n",
       "\n",
       "    .dataframe thead th {\n",
       "        text-align: right;\n",
       "    }\n",
       "</style>\n",
       "<table border=\"1\" class=\"dataframe\">\n",
       "  <thead>\n",
       "    <tr style=\"text-align: right;\">\n",
       "      <th></th>\n",
       "      <th>user_id:token</th>\n",
       "      <th>item_id:token</th>\n",
       "      <th>timestamp:float</th>\n",
       "    </tr>\n",
       "  </thead>\n",
       "  <tbody>\n",
       "    <tr>\n",
       "      <th>0</th>\n",
       "      <td>0</td>\n",
       "      <td>2505</td>\n",
       "      <td>1230782529</td>\n",
       "    </tr>\n",
       "    <tr>\n",
       "      <th>1</th>\n",
       "      <td>0</td>\n",
       "      <td>109</td>\n",
       "      <td>1230782534</td>\n",
       "    </tr>\n",
       "    <tr>\n",
       "      <th>2</th>\n",
       "      <td>0</td>\n",
       "      <td>319</td>\n",
       "      <td>1230782539</td>\n",
       "    </tr>\n",
       "    <tr>\n",
       "      <th>3</th>\n",
       "      <td>0</td>\n",
       "      <td>368</td>\n",
       "      <td>1230782542</td>\n",
       "    </tr>\n",
       "    <tr>\n",
       "      <th>4</th>\n",
       "      <td>0</td>\n",
       "      <td>1183</td>\n",
       "      <td>1230782563</td>\n",
       "    </tr>\n",
       "    <tr>\n",
       "      <th>...</th>\n",
       "      <td>...</td>\n",
       "      <td>...</td>\n",
       "      <td>...</td>\n",
       "    </tr>\n",
       "    <tr>\n",
       "      <th>5154466</th>\n",
       "      <td>31359</td>\n",
       "      <td>4882</td>\n",
       "      <td>1260209449</td>\n",
       "    </tr>\n",
       "    <tr>\n",
       "      <th>5154467</th>\n",
       "      <td>31359</td>\n",
       "      <td>2652</td>\n",
       "      <td>1260209482</td>\n",
       "    </tr>\n",
       "    <tr>\n",
       "      <th>5154468</th>\n",
       "      <td>31359</td>\n",
       "      <td>5768</td>\n",
       "      <td>1260209720</td>\n",
       "    </tr>\n",
       "    <tr>\n",
       "      <th>5154469</th>\n",
       "      <td>31359</td>\n",
       "      <td>4791</td>\n",
       "      <td>1260209726</td>\n",
       "    </tr>\n",
       "    <tr>\n",
       "      <th>5154470</th>\n",
       "      <td>31359</td>\n",
       "      <td>4363</td>\n",
       "      <td>1260209807</td>\n",
       "    </tr>\n",
       "  </tbody>\n",
       "</table>\n",
       "<p>5154471 rows × 3 columns</p>\n",
       "</div>"
      ],
      "text/plain": [
       "         user_id:token  item_id:token  timestamp:float\n",
       "0                    0           2505       1230782529\n",
       "1                    0            109       1230782534\n",
       "2                    0            319       1230782539\n",
       "3                    0            368       1230782542\n",
       "4                    0           1183       1230782563\n",
       "...                ...            ...              ...\n",
       "5154466          31359           4882       1260209449\n",
       "5154467          31359           2652       1260209482\n",
       "5154468          31359           5768       1260209720\n",
       "5154469          31359           4791       1260209726\n",
       "5154470          31359           4363       1260209807\n",
       "\n",
       "[5154471 rows x 3 columns]"
      ]
     },
     "execution_count": 28,
     "metadata": {},
     "output_type": "execute_result"
    }
   ],
   "source": [
    "train"
   ]
  },
  {
   "cell_type": "code",
   "execution_count": null,
   "id": "c425973a-d8c1-4128-98bc-e717cf700c9b",
   "metadata": {},
   "outputs": [],
   "source": []
  },
  {
   "cell_type": "code",
   "execution_count": null,
   "id": "a89fd108-61dc-4307-be7e-2991c4e69ac8",
   "metadata": {},
   "outputs": [],
   "source": []
  },
  {
   "cell_type": "code",
   "execution_count": null,
   "id": "a97c8e3d-5a70-46a1-af59-166f81b6d60e",
   "metadata": {},
   "outputs": [],
   "source": []
  },
  {
   "cell_type": "code",
   "execution_count": null,
   "id": "70286f5d",
   "metadata": {
    "ExecuteTime": {
     "end_time": "2022-12-21T15:05:21.943304Z",
     "start_time": "2022-12-21T15:05:21.906462Z"
    }
   },
   "outputs": [],
   "source": [
    "sub.user = sub.user.map(user2idx)\n",
    "sub.item = sub.item.map(item2idx)"
   ]
  },
  {
   "cell_type": "code",
   "execution_count": null,
   "id": "0bf1ebf1",
   "metadata": {
    "ExecuteTime": {
     "end_time": "2022-12-21T15:18:58.572093Z",
     "start_time": "2022-12-21T15:18:58.563656Z"
    }
   },
   "outputs": [],
   "source": [
    "train.columns=['user','item','time']\n",
    "train[:3]"
   ]
  },
  {
   "cell_type": "code",
   "execution_count": null,
   "id": "cb8398ff",
   "metadata": {
    "ExecuteTime": {
     "end_time": "2022-12-21T15:05:25.644540Z",
     "start_time": "2022-12-21T15:05:23.939273Z"
    }
   },
   "outputs": [],
   "source": [
    "afterdf = sub.merge(train[['user','item','time']], on=['user','item'], how='left')"
   ]
  },
  {
   "cell_type": "code",
   "execution_count": null,
   "id": "9d982a91",
   "metadata": {
    "ExecuteTime": {
     "end_time": "2022-12-21T15:05:25.908082Z",
     "start_time": "2022-12-21T15:05:25.900161Z"
    }
   },
   "outputs": [],
   "source": [
    "afterdf[afterdf['timestamp:float'].notna()]"
   ]
  },
  {
   "cell_type": "markdown",
   "id": "76506ae7",
   "metadata": {},
   "source": [
    "## 시간 순서 잘 지켜졌는지 확인해보기"
   ]
  },
  {
   "cell_type": "code",
   "execution_count": null,
   "id": "3ef26d81",
   "metadata": {
    "ExecuteTime": {
     "end_time": "2022-12-21T15:20:27.027886Z",
     "start_time": "2022-12-21T15:20:26.716689Z"
    }
   },
   "outputs": [],
   "source": [
    "train.user = train.user.map(uidx2user)\n",
    "train.item = train.item.map(iidx2item)"
   ]
  },
  {
   "cell_type": "code",
   "execution_count": null,
   "id": "fab932ec",
   "metadata": {
    "ExecuteTime": {
     "end_time": "2022-12-21T15:39:03.101594Z",
     "start_time": "2022-12-21T15:39:03.098416Z"
    }
   },
   "outputs": [],
   "source": [
    "import time\n",
    "from time import localtime"
   ]
  },
  {
   "cell_type": "code",
   "execution_count": null,
   "id": "5a4a7f14",
   "metadata": {
    "ExecuteTime": {
     "end_time": "2022-12-21T15:59:09.403221Z",
     "start_time": "2022-12-21T15:59:09.361733Z"
    }
   },
   "outputs": [],
   "source": [
    "data_path = '../../data/train'\n",
    "year_data = pd.read_csv(os.path.join(data_path, 'years.tsv'), sep='\\t')\n",
    "writer_data = pd.read_csv(os.path.join(data_path, 'writers.tsv'), sep='\\t')\n",
    "title_data = pd.read_csv(os.path.join(data_path, 'titles.tsv'), sep='\\t')\n",
    "genre_data = pd.read_csv(os.path.join(data_path, 'genres.tsv'), sep='\\t')\n",
    "director_data = pd.read_csv(os.path.join(data_path, 'directors.tsv'), sep='\\t')"
   ]
  },
  {
   "cell_type": "markdown",
   "id": "a263311f",
   "metadata": {},
   "source": [
    "### train에 review_year, month, day, year_month 추가"
   ]
  },
  {
   "cell_type": "code",
   "execution_count": null,
   "id": "1e85d4e3",
   "metadata": {
    "ExecuteTime": {
     "end_time": "2022-12-21T15:40:31.275714Z",
     "start_time": "2022-12-21T15:40:25.781666Z"
    }
   },
   "outputs": [],
   "source": [
    "train['review_year'] = train['time'].apply(lambda x : localtime(x).tm_year)"
   ]
  },
  {
   "cell_type": "code",
   "execution_count": null,
   "id": "7f2e489c",
   "metadata": {
    "ExecuteTime": {
     "end_time": "2022-12-21T15:40:51.473586Z",
     "start_time": "2022-12-21T15:40:45.776149Z"
    }
   },
   "outputs": [],
   "source": [
    "train['month'] = train['time'].apply(lambda x : localtime(x).tm_mon)"
   ]
  },
  {
   "cell_type": "code",
   "execution_count": null,
   "id": "b6d31858",
   "metadata": {
    "ExecuteTime": {
     "end_time": "2022-12-21T15:40:57.016193Z",
     "start_time": "2022-12-21T15:40:51.476743Z"
    }
   },
   "outputs": [],
   "source": [
    "train['day'] = train['time'].apply(lambda x : localtime(x).tm_mday)"
   ]
  },
  {
   "cell_type": "code",
   "execution_count": null,
   "id": "26e44e2f",
   "metadata": {
    "ExecuteTime": {
     "end_time": "2022-12-21T16:04:34.188614Z",
     "start_time": "2022-12-21T16:04:26.152369Z"
    }
   },
   "outputs": [],
   "source": [
    "train['year_month'] = train['time'].apply(lambda x : time.strftime('%Y-%m',localtime(x)))"
   ]
  },
  {
   "cell_type": "code",
   "execution_count": null,
   "id": "e97ef3c2",
   "metadata": {
    "ExecuteTime": {
     "end_time": "2022-12-21T16:04:52.690134Z",
     "start_time": "2022-12-21T16:04:47.387754Z"
    }
   },
   "outputs": [],
   "source": [
    "train.sort_values(['user','time'],inplace=True)"
   ]
  },
  {
   "cell_type": "code",
   "execution_count": null,
   "id": "fde34908",
   "metadata": {
    "ExecuteTime": {
     "end_time": "2022-12-21T16:05:43.898586Z",
     "start_time": "2022-12-21T16:05:43.588994Z"
    }
   },
   "outputs": [],
   "source": [
    "user2lastyear = dict(train.groupby('user').year.max())"
   ]
  },
  {
   "cell_type": "code",
   "execution_count": null,
   "id": "7d16d273",
   "metadata": {
    "ExecuteTime": {
     "end_time": "2022-12-21T16:05:48.642649Z",
     "start_time": "2022-12-21T16:05:44.450809Z"
    }
   },
   "outputs": [],
   "source": [
    "user2lastyearmonth = dict(train.groupby('user').year_month.max())"
   ]
  },
  {
   "cell_type": "code",
   "execution_count": null,
   "id": "e4bd5b04",
   "metadata": {
    "ExecuteTime": {
     "end_time": "2022-12-21T16:06:07.704108Z",
     "start_time": "2022-12-21T16:06:07.545014Z"
    }
   },
   "outputs": [],
   "source": [
    "train['lastyear']=train.user.map(user2lastyear)\n",
    "train['last_yearmonth']=train.user.map(user2lastyearmonth)"
   ]
  },
  {
   "cell_type": "code",
   "execution_count": null,
   "id": "370e8f58",
   "metadata": {
    "ExecuteTime": {
     "end_time": "2022-12-21T16:06:26.122897Z",
     "start_time": "2022-12-21T16:06:26.107413Z"
    }
   },
   "outputs": [],
   "source": [
    "train"
   ]
  },
  {
   "cell_type": "markdown",
   "id": "27c6e034",
   "metadata": {},
   "source": [
    "### year 채워넣기"
   ]
  },
  {
   "cell_type": "code",
   "execution_count": null,
   "id": "171162e2",
   "metadata": {
    "ExecuteTime": {
     "end_time": "2022-12-21T16:13:31.878514Z",
     "start_time": "2022-12-21T16:13:31.865559Z"
    }
   },
   "outputs": [],
   "source": [
    "merge_df = train.copy()\n",
    "side_info = [title_data,year_data]\n",
    "for side in side_info:\n",
    "    merge_df = merge_df.merge(side,how = 'left',on='item')\n",
    "merge_df.head()"
   ]
  },
  {
   "cell_type": "code",
   "execution_count": null,
   "id": "191d1ea7",
   "metadata": {
    "ExecuteTime": {
     "end_time": "2022-12-21T16:15:00.337846Z",
     "start_time": "2022-12-21T16:14:58.654866Z"
    }
   },
   "outputs": [],
   "source": [
    "merge_df['year_from_title'] = merge_df['title'].apply(lambda x : (x[-5:-1]))"
   ]
  },
  {
   "cell_type": "code",
   "execution_count": null,
   "id": "382ccb15",
   "metadata": {
    "ExecuteTime": {
     "end_time": "2022-12-21T16:15:08.267235Z",
     "start_time": "2022-12-21T16:15:07.916134Z"
    }
   },
   "outputs": [],
   "source": [
    "merge_df.loc[merge_df['year_from_title']=='007-','year_from_title'] = 2007"
   ]
  },
  {
   "cell_type": "code",
   "execution_count": null,
   "id": "4c297be5",
   "metadata": {
    "ExecuteTime": {
     "end_time": "2022-12-21T16:15:29.614558Z",
     "start_time": "2022-12-21T16:15:29.007110Z"
    }
   },
   "outputs": [],
   "source": [
    "merge_df.year_from_title=merge_df.year_from_title.astype(int)"
   ]
  },
  {
   "cell_type": "code",
   "execution_count": null,
   "id": "b825e518",
   "metadata": {
    "ExecuteTime": {
     "end_time": "2022-12-21T16:15:52.333958Z",
     "start_time": "2022-12-21T16:15:52.317870Z"
    }
   },
   "outputs": [],
   "source": [
    "cond = merge_df.year_from_title == merge_df.year"
   ]
  },
  {
   "cell_type": "code",
   "execution_count": null,
   "id": "9b4afdbd",
   "metadata": {
    "ExecuteTime": {
     "end_time": "2022-12-21T16:19:15.657657Z",
     "start_time": "2022-12-21T16:19:15.635197Z"
    }
   },
   "outputs": [],
   "source": [
    "merge_df[~cond & merge_df.year.notna()].title.value_counts()"
   ]
  },
  {
   "cell_type": "code",
   "execution_count": null,
   "id": "2aa627c6",
   "metadata": {
    "ExecuteTime": {
     "end_time": "2022-12-21T16:19:44.286699Z",
     "start_time": "2022-12-21T16:19:44.165906Z"
    }
   },
   "outputs": [],
   "source": [
    "merge_df.year = merge_df.year.fillna(merge_df.year_from_title)"
   ]
  },
  {
   "cell_type": "code",
   "execution_count": null,
   "id": "909ff5c4",
   "metadata": {
    "ExecuteTime": {
     "end_time": "2022-12-21T16:21:59.685339Z",
     "start_time": "2022-12-21T16:21:59.604779Z"
    }
   },
   "outputs": [],
   "source": [
    "merge_df.year = merge_df.year.astype(int)"
   ]
  },
  {
   "cell_type": "code",
   "execution_count": null,
   "id": "4ae107aa",
   "metadata": {
    "ExecuteTime": {
     "end_time": "2022-12-21T16:25:24.129697Z",
     "start_time": "2022-12-21T16:25:24.104178Z"
    }
   },
   "outputs": [],
   "source": [
    "merge_df[merge_df.lastyear < merge_df.year]"
   ]
  },
  {
   "cell_type": "code",
   "execution_count": null,
   "id": "58ec6d59",
   "metadata": {
    "ExecuteTime": {
     "end_time": "2022-12-21T16:23:03.437285Z",
     "start_time": "2022-12-21T16:23:03.039795Z"
    }
   },
   "outputs": [],
   "source": [
    "## item별 year이 모두 동일한지 첫번째값과 평균값이 같은 아이템들 확인 -> 모두 일치\n",
    "sum(merge_df.groupby('item').year.first() == merge_df.groupby('item').year.mean())"
   ]
  },
  {
   "cell_type": "code",
   "execution_count": null,
   "id": "9de46561",
   "metadata": {
    "ExecuteTime": {
     "end_time": "2022-12-21T16:23:26.643743Z",
     "start_time": "2022-12-21T16:23:26.425009Z"
    }
   },
   "outputs": [],
   "source": [
    "item2year = dict(merge_df.groupby('item').year.first())"
   ]
  },
  {
   "cell_type": "markdown",
   "id": "614bfa19",
   "metadata": {},
   "source": [
    "## sub 보기"
   ]
  },
  {
   "cell_type": "code",
   "execution_count": 262,
   "id": "e9b0029e",
   "metadata": {
    "ExecuteTime": {
     "end_time": "2022-12-21T16:34:41.301630Z",
     "start_time": "2022-12-21T16:34:41.255076Z"
    }
   },
   "outputs": [],
   "source": [
    "sub.user = sub.user.map(uidx2user)\n",
    "sub.item = sub.item.map(iidx2item)"
   ]
  },
  {
   "cell_type": "code",
   "execution_count": 263,
   "id": "458091f5",
   "metadata": {
    "ExecuteTime": {
     "end_time": "2022-12-21T16:34:42.082243Z",
     "start_time": "2022-12-21T16:34:42.010828Z"
    }
   },
   "outputs": [],
   "source": [
    "sub['lastyear']=sub.user.map(user2lastyear)\n",
    "sub['last_yearmonth']=sub.user.map(user2lastyearmonth)\n",
    "sub['m_year'] = sub.item.map(item2year)"
   ]
  },
  {
   "cell_type": "code",
   "execution_count": 265,
   "id": "8381ee69",
   "metadata": {
    "ExecuteTime": {
     "end_time": "2022-12-21T16:34:42.794898Z",
     "start_time": "2022-12-21T16:34:42.784216Z"
    }
   },
   "outputs": [
    {
     "data": {
      "text/html": [
       "<div>\n",
       "<style scoped>\n",
       "    .dataframe tbody tr th:only-of-type {\n",
       "        vertical-align: middle;\n",
       "    }\n",
       "\n",
       "    .dataframe tbody tr th {\n",
       "        vertical-align: top;\n",
       "    }\n",
       "\n",
       "    .dataframe thead th {\n",
       "        text-align: right;\n",
       "    }\n",
       "</style>\n",
       "<table border=\"1\" class=\"dataframe\">\n",
       "  <thead>\n",
       "    <tr style=\"text-align: right;\">\n",
       "      <th></th>\n",
       "      <th>user</th>\n",
       "      <th>item</th>\n",
       "      <th>lastyear</th>\n",
       "      <th>last_yearmonth</th>\n",
       "      <th>m_year</th>\n",
       "    </tr>\n",
       "  </thead>\n",
       "  <tbody>\n",
       "    <tr>\n",
       "      <th>0</th>\n",
       "      <td>11</td>\n",
       "      <td>4370</td>\n",
       "      <td>2011</td>\n",
       "      <td>2011-01</td>\n",
       "      <td>2001</td>\n",
       "    </tr>\n",
       "    <tr>\n",
       "      <th>1</th>\n",
       "      <td>11</td>\n",
       "      <td>4886</td>\n",
       "      <td>2011</td>\n",
       "      <td>2011-01</td>\n",
       "      <td>2001</td>\n",
       "    </tr>\n",
       "    <tr>\n",
       "      <th>2</th>\n",
       "      <td>11</td>\n",
       "      <td>47</td>\n",
       "      <td>2011</td>\n",
       "      <td>2011-01</td>\n",
       "      <td>1995</td>\n",
       "    </tr>\n",
       "    <tr>\n",
       "      <th>3</th>\n",
       "      <td>11</td>\n",
       "      <td>32587</td>\n",
       "      <td>2011</td>\n",
       "      <td>2011-01</td>\n",
       "      <td>2005</td>\n",
       "    </tr>\n",
       "    <tr>\n",
       "      <th>4</th>\n",
       "      <td>11</td>\n",
       "      <td>40815</td>\n",
       "      <td>2011</td>\n",
       "      <td>2011-01</td>\n",
       "      <td>2005</td>\n",
       "    </tr>\n",
       "    <tr>\n",
       "      <th>...</th>\n",
       "      <td>...</td>\n",
       "      <td>...</td>\n",
       "      <td>...</td>\n",
       "      <td>...</td>\n",
       "      <td>...</td>\n",
       "    </tr>\n",
       "    <tr>\n",
       "      <th>627195</th>\n",
       "      <td>138493</td>\n",
       "      <td>4720</td>\n",
       "      <td>2009</td>\n",
       "      <td>2009-12</td>\n",
       "      <td>2001</td>\n",
       "    </tr>\n",
       "    <tr>\n",
       "      <th>627196</th>\n",
       "      <td>138493</td>\n",
       "      <td>293</td>\n",
       "      <td>2009</td>\n",
       "      <td>2009-12</td>\n",
       "      <td>1994</td>\n",
       "    </tr>\n",
       "    <tr>\n",
       "      <th>627197</th>\n",
       "      <td>138493</td>\n",
       "      <td>2174</td>\n",
       "      <td>2009</td>\n",
       "      <td>2009-12</td>\n",
       "      <td>1988</td>\n",
       "    </tr>\n",
       "    <tr>\n",
       "      <th>627198</th>\n",
       "      <td>138493</td>\n",
       "      <td>4848</td>\n",
       "      <td>2009</td>\n",
       "      <td>2009-12</td>\n",
       "      <td>2001</td>\n",
       "    </tr>\n",
       "    <tr>\n",
       "      <th>627199</th>\n",
       "      <td>138493</td>\n",
       "      <td>4963</td>\n",
       "      <td>2009</td>\n",
       "      <td>2009-12</td>\n",
       "      <td>2001</td>\n",
       "    </tr>\n",
       "  </tbody>\n",
       "</table>\n",
       "<p>627200 rows × 5 columns</p>\n",
       "</div>"
      ],
      "text/plain": [
       "          user   item  lastyear last_yearmonth  m_year\n",
       "0           11   4370      2011        2011-01    2001\n",
       "1           11   4886      2011        2011-01    2001\n",
       "2           11     47      2011        2011-01    1995\n",
       "3           11  32587      2011        2011-01    2005\n",
       "4           11  40815      2011        2011-01    2005\n",
       "...        ...    ...       ...            ...     ...\n",
       "627195  138493   4720      2009        2009-12    2001\n",
       "627196  138493    293      2009        2009-12    1994\n",
       "627197  138493   2174      2009        2009-12    1988\n",
       "627198  138493   4848      2009        2009-12    2001\n",
       "627199  138493   4963      2009        2009-12    2001\n",
       "\n",
       "[627200 rows x 5 columns]"
      ]
     },
     "execution_count": 265,
     "metadata": {},
     "output_type": "execute_result"
    }
   ],
   "source": [
    "sub"
   ]
  },
  {
   "cell_type": "code",
   "execution_count": 268,
   "id": "063f4921",
   "metadata": {
    "ExecuteTime": {
     "end_time": "2022-12-21T16:35:21.577364Z",
     "start_time": "2022-12-21T16:35:21.540878Z"
    }
   },
   "outputs": [],
   "source": [
    "sub2 = sub[sub.lastyear >= sub.m_year]"
   ]
  },
  {
   "cell_type": "code",
   "execution_count": 276,
   "id": "0a856c54",
   "metadata": {
    "ExecuteTime": {
     "end_time": "2022-12-21T16:37:51.278536Z",
     "start_time": "2022-12-21T16:37:51.222509Z"
    }
   },
   "outputs": [],
   "source": [
    "df = pd.read_csv('EASE_1_0.csv')"
   ]
  },
  {
   "cell_type": "code",
   "execution_count": 282,
   "id": "575d5324",
   "metadata": {
    "ExecuteTime": {
     "end_time": "2022-12-21T16:38:36.735473Z",
     "start_time": "2022-12-21T16:38:36.690150Z"
    }
   },
   "outputs": [],
   "source": [
    "df['item2']= sub2.groupby('user').item.head(10).reset_index(drop=True)"
   ]
  },
  {
   "cell_type": "markdown",
   "id": "ad547288",
   "metadata": {},
   "source": [
    "### 이전 제출(1594)대비 현재 제출(1595)에서 달라진 부분 보기"
   ]
  },
  {
   "cell_type": "code",
   "execution_count": 324,
   "id": "0423bfe1",
   "metadata": {
    "ExecuteTime": {
     "end_time": "2022-12-21T17:08:12.245084Z",
     "start_time": "2022-12-21T17:08:10.690484Z"
    }
   },
   "outputs": [
    {
     "name": "stderr",
     "output_type": "stream",
     "text": [
      "100%|██████████████████████████████████████████████████| 313600/313600 [00:00<00:00, 562116.84it/s]\n"
     ]
    }
   ],
   "source": [
    "## 이전 제출(1594)대비 현재 제출(1595)에서 달라진 부분 보기\n",
    "idx_list=[]\n",
    "user_item2 = dict(df.groupby('user').item2.apply(list))\n",
    "for i in tqdm(df.itertuples(), total=df.shape[0]):\n",
    "    if i.item not in user_item2[i.user]:\n",
    "        idx_list.append(i.Index)"
   ]
  },
  {
   "cell_type": "code",
   "execution_count": 329,
   "id": "b0bef36c",
   "metadata": {
    "ExecuteTime": {
     "end_time": "2022-12-21T17:09:16.372543Z",
     "start_time": "2022-12-21T17:09:16.308170Z"
    }
   },
   "outputs": [],
   "source": [
    "df['lastyear']=df.user.map(user2lastyear)\n",
    "df['last_yearmonth']=df.user.map(user2lastyearmonth)\n",
    "df['m_year'] = df.item.map(item2year)"
   ]
  },
  {
   "cell_type": "code",
   "execution_count": 330,
   "id": "70a6f63b",
   "metadata": {
    "ExecuteTime": {
     "end_time": "2022-12-21T17:09:17.092727Z",
     "start_time": "2022-12-21T17:09:17.063107Z"
    }
   },
   "outputs": [
    {
     "data": {
      "text/html": [
       "<div>\n",
       "<style scoped>\n",
       "    .dataframe tbody tr th:only-of-type {\n",
       "        vertical-align: middle;\n",
       "    }\n",
       "\n",
       "    .dataframe tbody tr th {\n",
       "        vertical-align: top;\n",
       "    }\n",
       "\n",
       "    .dataframe thead th {\n",
       "        text-align: right;\n",
       "    }\n",
       "</style>\n",
       "<table border=\"1\" class=\"dataframe\">\n",
       "  <thead>\n",
       "    <tr style=\"text-align: right;\">\n",
       "      <th></th>\n",
       "      <th>user</th>\n",
       "      <th>item</th>\n",
       "      <th>item2</th>\n",
       "      <th>lastyear</th>\n",
       "      <th>last_yearmonth</th>\n",
       "      <th>m_year</th>\n",
       "    </tr>\n",
       "  </thead>\n",
       "  <tbody>\n",
       "    <tr>\n",
       "      <th>109</th>\n",
       "      <td>61</td>\n",
       "      <td>58559</td>\n",
       "      <td>48780</td>\n",
       "      <td>2007</td>\n",
       "      <td>2007-12</td>\n",
       "      <td>2008</td>\n",
       "    </tr>\n",
       "    <tr>\n",
       "      <th>1559</th>\n",
       "      <td>664</td>\n",
       "      <td>63436</td>\n",
       "      <td>8528</td>\n",
       "      <td>2007</td>\n",
       "      <td>2007-11</td>\n",
       "      <td>2008</td>\n",
       "    </tr>\n",
       "    <tr>\n",
       "      <th>2144</th>\n",
       "      <td>915</td>\n",
       "      <td>54286</td>\n",
       "      <td>4027</td>\n",
       "      <td>2006</td>\n",
       "      <td>2006-08</td>\n",
       "      <td>2007</td>\n",
       "    </tr>\n",
       "    <tr>\n",
       "      <th>3504</th>\n",
       "      <td>1539</td>\n",
       "      <td>79132</td>\n",
       "      <td>3949</td>\n",
       "      <td>2009</td>\n",
       "      <td>2009-07</td>\n",
       "      <td>2010</td>\n",
       "    </tr>\n",
       "    <tr>\n",
       "      <th>5019</th>\n",
       "      <td>2160</td>\n",
       "      <td>58559</td>\n",
       "      <td>111</td>\n",
       "      <td>2007</td>\n",
       "      <td>2007-01</td>\n",
       "      <td>2008</td>\n",
       "    </tr>\n",
       "    <tr>\n",
       "      <th>...</th>\n",
       "      <td>...</td>\n",
       "      <td>...</td>\n",
       "      <td>...</td>\n",
       "      <td>...</td>\n",
       "      <td>...</td>\n",
       "      <td>...</td>\n",
       "    </tr>\n",
       "    <tr>\n",
       "      <th>300758</th>\n",
       "      <td>132448</td>\n",
       "      <td>69844</td>\n",
       "      <td>2542</td>\n",
       "      <td>2007</td>\n",
       "      <td>2007-10</td>\n",
       "      <td>2009</td>\n",
       "    </tr>\n",
       "    <tr>\n",
       "      <th>307115</th>\n",
       "      <td>135535</td>\n",
       "      <td>58559</td>\n",
       "      <td>318</td>\n",
       "      <td>2005</td>\n",
       "      <td>2005-12</td>\n",
       "      <td>2008</td>\n",
       "    </tr>\n",
       "    <tr>\n",
       "      <th>307702</th>\n",
       "      <td>135798</td>\n",
       "      <td>88125</td>\n",
       "      <td>6539</td>\n",
       "      <td>2010</td>\n",
       "      <td>2010-12</td>\n",
       "      <td>2011</td>\n",
       "    </tr>\n",
       "    <tr>\n",
       "      <th>311225</th>\n",
       "      <td>137460</td>\n",
       "      <td>58559</td>\n",
       "      <td>745</td>\n",
       "      <td>2007</td>\n",
       "      <td>2007-09</td>\n",
       "      <td>2008</td>\n",
       "    </tr>\n",
       "    <tr>\n",
       "      <th>312617</th>\n",
       "      <td>138094</td>\n",
       "      <td>79132</td>\n",
       "      <td>4973</td>\n",
       "      <td>2009</td>\n",
       "      <td>2009-10</td>\n",
       "      <td>2010</td>\n",
       "    </tr>\n",
       "  </tbody>\n",
       "</table>\n",
       "<p>213 rows × 6 columns</p>\n",
       "</div>"
      ],
      "text/plain": [
       "          user   item  item2  lastyear last_yearmonth  m_year\n",
       "109         61  58559  48780      2007        2007-12    2008\n",
       "1559       664  63436   8528      2007        2007-11    2008\n",
       "2144       915  54286   4027      2006        2006-08    2007\n",
       "3504      1539  79132   3949      2009        2009-07    2010\n",
       "5019      2160  58559    111      2007        2007-01    2008\n",
       "...        ...    ...    ...       ...            ...     ...\n",
       "300758  132448  69844   2542      2007        2007-10    2009\n",
       "307115  135535  58559    318      2005        2005-12    2008\n",
       "307702  135798  88125   6539      2010        2010-12    2011\n",
       "311225  137460  58559    745      2007        2007-09    2008\n",
       "312617  138094  79132   4973      2009        2009-10    2010\n",
       "\n",
       "[213 rows x 6 columns]"
      ]
     },
     "execution_count": 330,
     "metadata": {},
     "output_type": "execute_result"
    }
   ],
   "source": [
    "df.iloc[idx_list,:]"
   ]
  },
  {
   "cell_type": "markdown",
   "id": "99cb6494",
   "metadata": {},
   "source": [
    "## 최종 제출 -> 1595"
   ]
  },
  {
   "cell_type": "code",
   "execution_count": 288,
   "id": "b9e0806a",
   "metadata": {
    "ExecuteTime": {
     "end_time": "2022-12-21T16:40:18.486363Z",
     "start_time": "2022-12-21T16:40:18.058834Z"
    }
   },
   "outputs": [],
   "source": [
    "df[['user','item2']].rename(columns={'item2':'item'}).to_csv(\"EASE_1_0_Top20_remove_review_after_movie.csv\",index=False)"
   ]
  }
 ],
 "metadata": {
  "kernelspec": {
   "display_name": "Python 3 (ipykernel)",
   "language": "python",
   "name": "python3"
  },
  "language_info": {
   "codemirror_mode": {
    "name": "ipython",
    "version": 3
   },
   "file_extension": ".py",
   "mimetype": "text/x-python",
   "name": "python",
   "nbconvert_exporter": "python",
   "pygments_lexer": "ipython3",
   "version": "3.8.5"
  },
  "toc": {
   "base_numbering": 1,
   "nav_menu": {},
   "number_sections": true,
   "sideBar": true,
   "skip_h1_title": false,
   "title_cell": "Table of Contents",
   "title_sidebar": "Contents",
   "toc_cell": false,
   "toc_position": {
    "height": "calc(100% - 180px)",
    "left": "10px",
    "top": "150px",
    "width": "393.391px"
   },
   "toc_section_display": true,
   "toc_window_display": true
  }
 },
 "nbformat": 4,
 "nbformat_minor": 5
}

{
 "cells": [
  {
   "cell_type": "code",
   "execution_count": 1,
   "id": "1c53ab74",
   "metadata": {
    "ExecuteTime": {
     "end_time": "2022-12-23T06:51:07.340566Z",
     "start_time": "2022-12-23T06:51:01.208792Z"
    }
   },
   "outputs": [],
   "source": [
    "from IPython.core.interactiveshell import InteractiveShell\n",
    "InteractiveShell.ast_node_interactivity=\"all\"\n",
    "\n",
    "import os\n",
    "import json\n",
    "import argparse\n",
    "import pandas as pd\n",
    "import numpy as np\n",
    "import time, datetime\n",
    "from tqdm import tqdm\n",
    "from logging import getLogger\n",
    "import torch\n",
    "\n",
    "from recbole.model.general_recommender.ease import EASE\n",
    "from recbole.model.context_aware_recommender.ffm import FFM\n",
    "\n",
    "from recbole.config import Config\n",
    "from recbole.data import create_dataset, data_preparation, Interaction\n",
    "from recbole.utils import init_logger, get_trainer, get_model, init_seed, set_color\n",
    "\n",
    "\n",
    "SEED=13"
   ]
  },
  {
   "cell_type": "code",
   "execution_count": 2,
   "id": "c169d301",
   "metadata": {
    "ExecuteTime": {
     "end_time": "2022-12-23T06:51:07.603222Z",
     "start_time": "2022-12-23T06:51:07.343232Z"
    }
   },
   "outputs": [
    {
     "name": "stdout",
     "output_type": "stream",
     "text": [
      "Ml_item2attributes.json  genres.tsv  titles.tsv\t\twriters.tsv\n",
      "directors.tsv\t\t pro_sg      train_ratings.csv\tyears.tsv\n",
      "/opt/ml/input/data/train/train_ratings.csv\n"
     ]
    }
   ],
   "source": [
    "!ls ../../data/train\n",
    "!readlink -ef ../../data/train/train_ratings.csv"
   ]
  },
  {
   "cell_type": "markdown",
   "id": "91ba6987",
   "metadata": {},
   "source": [
    "## 데이터 로드"
   ]
  },
  {
   "cell_type": "code",
   "execution_count": 3,
   "id": "e8bbba30",
   "metadata": {
    "ExecuteTime": {
     "end_time": "2022-12-23T06:51:08.996003Z",
     "start_time": "2022-12-23T06:51:07.605399Z"
    }
   },
   "outputs": [],
   "source": [
    "train = pd.read_csv(\"/opt/ml/input/data/train/train_ratings.csv\")"
   ]
  },
  {
   "cell_type": "code",
   "execution_count": 4,
   "id": "6954c698",
   "metadata": {
    "ExecuteTime": {
     "end_time": "2022-12-23T06:51:11.858012Z",
     "start_time": "2022-12-23T06:51:08.998778Z"
    }
   },
   "outputs": [],
   "source": [
    "user2idx = {v:k for k,v in enumerate(sorted(set(train.user)))}\n",
    "item2idx = {v:k for k,v in enumerate(sorted(set(train.item)))}\n",
    "uidx2user = {k:v for k,v in enumerate(sorted(set(train.user)))}\n",
    "iidx2item = {k:v for k,v in enumerate(sorted(set(train.item)))}"
   ]
  },
  {
   "cell_type": "markdown",
   "id": "1dcea99e",
   "metadata": {},
   "source": [
    "## make inter file"
   ]
  },
  {
   "cell_type": "code",
   "execution_count": 5,
   "id": "930038a2",
   "metadata": {
    "ExecuteTime": {
     "end_time": "2022-12-23T06:51:12.280952Z",
     "start_time": "2022-12-23T06:51:11.860073Z"
    }
   },
   "outputs": [],
   "source": [
    "train.user = train.user.map(user2idx)\n",
    "train.item = train.item.map(item2idx)"
   ]
  },
  {
   "cell_type": "code",
   "execution_count": 6,
   "id": "4aed392f",
   "metadata": {
    "ExecuteTime": {
     "end_time": "2022-12-23T06:51:12.286795Z",
     "start_time": "2022-12-23T06:51:12.283008Z"
    }
   },
   "outputs": [],
   "source": [
    "train.columns=['user_id:token','item_id:token','timestamp:float']"
   ]
  },
  {
   "cell_type": "code",
   "execution_count": 7,
   "id": "3d5f8092",
   "metadata": {
    "ExecuteTime": {
     "end_time": "2022-12-23T06:51:12.305595Z",
     "start_time": "2022-12-23T06:51:12.288827Z"
    }
   },
   "outputs": [
    {
     "data": {
      "text/html": [
       "<div>\n",
       "<style scoped>\n",
       "    .dataframe tbody tr th:only-of-type {\n",
       "        vertical-align: middle;\n",
       "    }\n",
       "\n",
       "    .dataframe tbody tr th {\n",
       "        vertical-align: top;\n",
       "    }\n",
       "\n",
       "    .dataframe thead th {\n",
       "        text-align: right;\n",
       "    }\n",
       "</style>\n",
       "<table border=\"1\" class=\"dataframe\">\n",
       "  <thead>\n",
       "    <tr style=\"text-align: right;\">\n",
       "      <th></th>\n",
       "      <th>user_id:token</th>\n",
       "      <th>item_id:token</th>\n",
       "      <th>timestamp:float</th>\n",
       "    </tr>\n",
       "  </thead>\n",
       "  <tbody>\n",
       "    <tr>\n",
       "      <th>0</th>\n",
       "      <td>0</td>\n",
       "      <td>2505</td>\n",
       "      <td>1230782529</td>\n",
       "    </tr>\n",
       "    <tr>\n",
       "      <th>1</th>\n",
       "      <td>0</td>\n",
       "      <td>109</td>\n",
       "      <td>1230782534</td>\n",
       "    </tr>\n",
       "  </tbody>\n",
       "</table>\n",
       "</div>"
      ],
      "text/plain": [
       "   user_id:token  item_id:token  timestamp:float\n",
       "0              0           2505       1230782529\n",
       "1              0            109       1230782534"
      ]
     },
     "execution_count": 7,
     "metadata": {},
     "output_type": "execute_result"
    }
   ],
   "source": [
    "train[:2]"
   ]
  },
  {
   "cell_type": "code",
   "execution_count": 8,
   "id": "286c0b14",
   "metadata": {
    "ExecuteTime": {
     "end_time": "2022-12-23T06:53:41.566235Z",
     "start_time": "2022-12-23T06:53:32.937279Z"
    }
   },
   "outputs": [],
   "source": [
    "outpath = f\"dataset/train_data\"\n",
    "os.makedirs(outpath, exist_ok=True)\n",
    "# sub_train=train.groupby(\"user\").sample(n=10, random_state=SEED)\n",
    "# sub_train.shape\n",
    "train.to_csv(os.path.join(outpath,\"train_data.inter\"),sep='\\t',index=False)"
   ]
  },
  {
   "cell_type": "code",
   "execution_count": 9,
   "id": "48dfc28b",
   "metadata": {
    "ExecuteTime": {
     "end_time": "2022-12-23T06:53:41.572703Z",
     "start_time": "2022-12-23T06:53:41.569091Z"
    }
   },
   "outputs": [
    {
     "data": {
      "text/plain": [
       "(5154471, 3)"
      ]
     },
     "execution_count": 9,
     "metadata": {},
     "output_type": "execute_result"
    }
   ],
   "source": [
    "train.shape"
   ]
  },
  {
   "cell_type": "markdown",
   "id": "f2d8b45f",
   "metadata": {},
   "source": [
    "## make yaml file"
   ]
  },
  {
   "cell_type": "code",
   "execution_count": 10,
   "id": "fc936e99",
   "metadata": {
    "ExecuteTime": {
     "end_time": "2022-12-23T06:53:41.578979Z",
     "start_time": "2022-12-23T06:53:41.574905Z"
    }
   },
   "outputs": [
    {
     "data": {
      "text/plain": [
       "121"
      ]
     },
     "execution_count": 10,
     "metadata": {},
     "output_type": "execute_result"
    }
   ],
   "source": [
    "yamldata=\"\"\"\n",
    "USER_ID_FIELD: user_id\n",
    "ITEM_ID_FIELD: item_id\n",
    "TIME_FIELD: timestamp\n",
    "\n",
    "load_col:\n",
    "    inter: [user_id, item_id, timestamp]\n",
    "\"\"\"\n",
    "with open(\"ease.yaml\", \"w\") as f:\n",
    "    f.write(yamldata)"
   ]
  },
  {
   "cell_type": "markdown",
   "id": "729f6f4f",
   "metadata": {},
   "source": [
    "## make config, logger"
   ]
  },
  {
   "cell_type": "code",
   "execution_count": 11,
   "id": "41efa260",
   "metadata": {
    "ExecuteTime": {
     "end_time": "2022-12-23T06:53:42.771394Z",
     "start_time": "2022-12-23T06:53:41.581254Z"
    },
    "scrolled": true
   },
   "outputs": [
    {
     "name": "stderr",
     "output_type": "stream",
     "text": [
      "28 Dec 07:12    INFO  \n",
      "General Hyper Parameters:\n",
      "gpu_id = 0\n",
      "use_gpu = True\n",
      "seed = 2020\n",
      "state = INFO\n",
      "reproducibility = True\n",
      "data_path = dataset/train_data\n",
      "checkpoint_dir = saved\n",
      "show_progress = False\n",
      "save_dataset = False\n",
      "dataset_save_path = None\n",
      "save_dataloaders = False\n",
      "dataloaders_save_path = None\n",
      "log_wandb = False\n",
      "\n",
      "Training Hyper Parameters:\n",
      "epochs = 300\n",
      "train_batch_size = 2048\n",
      "learner = adam\n",
      "learning_rate = 0.001\n",
      "train_neg_sample_args = {'distribution': 'uniform', 'sample_num': 1, 'alpha': 1.0, 'dynamic': False, 'candidate_num': 0}\n",
      "eval_step = 1\n",
      "stopping_step = 10\n",
      "clip_grad_norm = None\n",
      "weight_decay = 0.0\n",
      "loss_decimal_place = 4\n",
      "\n",
      "Evaluation Hyper Parameters:\n",
      "eval_args = {'split': {'RS': [1, 0, 0]}, 'group_by': 'user', 'order': 'RO', 'mode': 'full'}\n",
      "repeatable = False\n",
      "metrics = ['Recall', 'MRR', 'NDCG', 'Hit', 'Precision']\n",
      "topk = [20]\n",
      "valid_metric = Recall@10\n",
      "valid_metric_bigger = True\n",
      "eval_batch_size = 4096\n",
      "metric_decimal_place = 4\n",
      "\n",
      "Dataset Hyper Parameters:\n",
      "field_separator = \t\n",
      "seq_separator =  \n",
      "USER_ID_FIELD = user_id\n",
      "ITEM_ID_FIELD = item_id\n",
      "RATING_FIELD = rating\n",
      "TIME_FIELD = timestamp\n",
      "seq_len = None\n",
      "LABEL_FIELD = label\n",
      "threshold = None\n",
      "NEG_PREFIX = neg_\n",
      "load_col = {'inter': ['user_id', 'item_id', 'timestamp']}\n",
      "unload_col = None\n",
      "unused_col = None\n",
      "additional_feat_suffix = None\n",
      "rm_dup_inter = None\n",
      "val_interval = None\n",
      "filter_inter_by_user_or_item = True\n",
      "user_inter_num_interval = [0,inf)\n",
      "item_inter_num_interval = [0,inf)\n",
      "alias_of_user_id = None\n",
      "alias_of_item_id = None\n",
      "alias_of_entity_id = None\n",
      "alias_of_relation_id = None\n",
      "preload_weight = None\n",
      "normalize_field = None\n",
      "normalize_all = None\n",
      "ITEM_LIST_LENGTH_FIELD = item_length\n",
      "LIST_SUFFIX = _list\n",
      "MAX_ITEM_LIST_LENGTH = 50\n",
      "POSITION_FIELD = position_id\n",
      "HEAD_ENTITY_ID_FIELD = head_id\n",
      "TAIL_ENTITY_ID_FIELD = tail_id\n",
      "RELATION_ID_FIELD = relation_id\n",
      "ENTITY_ID_FIELD = entity_id\n",
      "benchmark_filename = None\n",
      "\n",
      "Other Hyper Parameters: \n",
      "worker = 0\n",
      "wandb_project = recbole\n",
      "shuffle = True\n",
      "require_pow = False\n",
      "enable_amp = False\n",
      "enable_scaler = False\n",
      "transform = None\n",
      "reg_weight = 250.0\n",
      "numerical_features = []\n",
      "discretization = None\n",
      "kg_reverse_r = False\n",
      "entity_kg_num_interval = [0,inf)\n",
      "relation_kg_num_interval = [0,inf)\n",
      "MODEL_TYPE = ModelType.TRADITIONAL\n",
      "MODEL_INPUT_TYPE = InputType.POINTWISE\n",
      "eval_type = EvaluatorType.RANKING\n",
      "single_spec = True\n",
      "local_rank = 0\n",
      "device = cuda\n",
      "eval_neg_sample_args = {'distribution': 'uniform', 'sample_num': 'none'}\n",
      "\n",
      "\n"
     ]
    }
   ],
   "source": [
    "logger = getLogger()\n",
    "\n",
    "# configurations initialization\n",
    "config = Config(model='EASE', dataset=\"train_data\", config_file_list=[f'ease.yaml'])\n",
    "# config['epochs'] = 100\n",
    "config['show_progress'] = False\n",
    "config['device'] = torch.device(\"cuda\" if torch.cuda.is_available() else \"cpu\")\n",
    "config['valid_metric'] = \"Recall@10\"\n",
    "config['eval_args'] = {'split': {'RS': [1, 0, 0]},\n",
    "                         'group_by': 'user',\n",
    "                         'order': 'RO',\n",
    "                         'mode': 'full'}\n",
    "config['topk']=[20]\n",
    "init_seed(config['seed'], config['reproducibility'])\n",
    "# logger initialization\n",
    "init_logger(config)\n",
    "logger.info(config)"
   ]
  },
  {
   "cell_type": "markdown",
   "id": "e5c4ee8a",
   "metadata": {},
   "source": [
    "## make dataset"
   ]
  },
  {
   "cell_type": "code",
   "execution_count": 12,
   "id": "4b8abda8",
   "metadata": {
    "ExecuteTime": {
     "end_time": "2022-12-23T06:54:25.066199Z",
     "start_time": "2022-12-23T06:53:43.271187Z"
    }
   },
   "outputs": [
    {
     "name": "stderr",
     "output_type": "stream",
     "text": [
      "28 Dec 07:13    INFO  train_data\n",
      "The number of users: 31361\n",
      "Average actions of users: 164.36450892857144\n",
      "The number of items: 6808\n",
      "Average actions of items: 757.2309387395328\n",
      "The number of inters: 5154471\n",
      "The sparsity of the dataset: 97.58579218741939%\n",
      "Remain Fields: ['user_id', 'item_id', 'timestamp']\n",
      "28 Dec 07:13    INFO  [Training]: train_batch_size = [2048] train_neg_sample_args: [{'distribution': 'uniform', 'sample_num': 1, 'alpha': 1.0, 'dynamic': False, 'candidate_num': 0}]\n",
      "28 Dec 07:13    INFO  [Evaluation]: eval_batch_size = [4096] eval_args: [{'split': {'RS': [1, 0, 0]}, 'group_by': 'user', 'order': 'RO', 'mode': 'full'}]\n"
     ]
    }
   ],
   "source": [
    "# dataset filtering\n",
    "dataset = create_dataset(config)\n",
    "logger.info(dataset)\n",
    "\n",
    "# dataset splitting\n",
    "train_data, valid_data, test_data = data_preparation(config, dataset)"
   ]
  },
  {
   "cell_type": "code",
   "execution_count": 13,
   "id": "90215db4",
   "metadata": {
    "ExecuteTime": {
     "end_time": "2022-12-23T06:54:26.812308Z",
     "start_time": "2022-12-23T06:54:25.068691Z"
    }
   },
   "outputs": [
    {
     "data": {
      "text/plain": [
       "\u001b[1;35mtrain_data\u001b[0m\n",
       "\u001b[1;34mThe number of users\u001b[0m: 31361\n",
       "\u001b[1;34mAverage actions of users\u001b[0m: 164.36450892857144\n",
       "\u001b[1;34mThe number of items\u001b[0m: 6808\n",
       "\u001b[1;34mAverage actions of items\u001b[0m: 757.2309387395328\n",
       "\u001b[1;34mThe number of inters\u001b[0m: 5154471\n",
       "\u001b[1;34mThe sparsity of the dataset\u001b[0m: 97.58579218741939%\n",
       "\u001b[1;34mRemain Fields\u001b[0m: ['user_id', 'item_id', 'timestamp', 'label']"
      ]
     },
     "execution_count": 13,
     "metadata": {},
     "output_type": "execute_result"
    },
    {
     "name": "stderr",
     "output_type": "stream",
     "text": [
      "/opt/conda/lib/python3.8/site-packages/numpy/core/fromnumeric.py:3432: RuntimeWarning: Mean of empty slice.\n",
      "  return _methods._mean(a, axis=axis, dtype=dtype,\n",
      "/opt/conda/lib/python3.8/site-packages/numpy/core/_methods.py:190: RuntimeWarning: invalid value encountered in double_scalars\n",
      "  ret = ret.dtype.type(ret / rcount)\n"
     ]
    },
    {
     "data": {
      "text/plain": [
       "\u001b[1;35mtrain_data\u001b[0m\n",
       "\u001b[1;34mThe number of users\u001b[0m: 31361\n",
       "\u001b[1;34mAverage actions of users\u001b[0m: nan\n",
       "\u001b[1;34mThe number of items\u001b[0m: 6808\n",
       "\u001b[1;34mAverage actions of items\u001b[0m: nan\n",
       "\u001b[1;34mThe number of inters\u001b[0m: 0\n",
       "\u001b[1;34mThe sparsity of the dataset\u001b[0m: 100.0%\n",
       "\u001b[1;34mRemain Fields\u001b[0m: ['user_id', 'item_id', 'timestamp', 'label']"
      ]
     },
     "execution_count": 13,
     "metadata": {},
     "output_type": "execute_result"
    },
    {
     "data": {
      "text/plain": [
       "\u001b[1;35mtrain_data\u001b[0m\n",
       "\u001b[1;34mThe number of users\u001b[0m: 31361\n",
       "\u001b[1;34mAverage actions of users\u001b[0m: nan\n",
       "\u001b[1;34mThe number of items\u001b[0m: 6808\n",
       "\u001b[1;34mAverage actions of items\u001b[0m: nan\n",
       "\u001b[1;34mThe number of inters\u001b[0m: 0\n",
       "\u001b[1;34mThe sparsity of the dataset\u001b[0m: 100.0%\n",
       "\u001b[1;34mRemain Fields\u001b[0m: ['user_id', 'item_id', 'timestamp', 'label']"
      ]
     },
     "execution_count": 13,
     "metadata": {},
     "output_type": "execute_result"
    }
   ],
   "source": [
    "train_data.dataset\n",
    "valid_data.dataset\n",
    "test_data.dataset"
   ]
  },
  {
   "cell_type": "markdown",
   "id": "ee19f483",
   "metadata": {},
   "source": [
    "## make model"
   ]
  },
  {
   "cell_type": "code",
   "execution_count": 14,
   "id": "4ee187fa",
   "metadata": {
    "ExecuteTime": {
     "end_time": "2022-12-23T06:54:55.239195Z",
     "start_time": "2022-12-23T06:54:26.814385Z"
    }
   },
   "outputs": [
    {
     "name": "stderr",
     "output_type": "stream",
     "text": [
      "28 Dec 07:13    INFO  EASE()\n",
      "Trainable parameters: 1\n"
     ]
    }
   ],
   "source": [
    "# model loading and initialization\n",
    "init_seed(config['seed'], config['reproducibility'])\n",
    "model = EASE(config, train_data.dataset).to(config['device'])\n",
    "logger.info(model)"
   ]
  },
  {
   "cell_type": "markdown",
   "id": "03bd695a",
   "metadata": {},
   "source": [
    "## train"
   ]
  },
  {
   "cell_type": "code",
   "execution_count": 21,
   "id": "9a2e35d5",
   "metadata": {
    "ExecuteTime": {
     "end_time": "2022-12-23T06:55:09.380447Z",
     "start_time": "2022-12-23T06:54:55.242022Z"
    }
   },
   "outputs": [
    {
     "name": "stderr",
     "output_type": "stream",
     "text": [
      "23 Dec 15:55    INFO  epoch 0 training [time: 12.03s, train loss: 0.0000]\n",
      "23 Dec 15:55    INFO  Saving current: saved/EASE-Dec-23-2022_15-54-55.pth\n"
     ]
    }
   ],
   "source": [
    "# trainer loading and initialization\n",
    "trainer = get_trainer(config['MODEL_TYPE'], config['model'])(config, model)\n",
    "\n",
    "# model training\n",
    "best_valid_score, best_valid_result = trainer.fit(\n",
    "    train_data, valid_data, saved=True, show_progress=config['show_progress']\n",
    ")"
   ]
  },
  {
   "cell_type": "code",
   "execution_count": 253,
   "id": "93b8e13e",
   "metadata": {
    "ExecuteTime": {
     "end_time": "2022-12-21T16:29:03.667702Z",
     "start_time": "2022-12-21T16:28:47.580417Z"
    }
   },
   "outputs": [
    {
     "name": "stderr",
     "output_type": "stream",
     "text": [
      "21 Dec 16:29    INFO  epoch 0 training [time: 14.01s, train loss: 0.0000]\n",
      "21 Dec 16:29    INFO  Saving current: saved/EASE-Dec-21-2022_16-28-47.pth\n"
     ]
    }
   ],
   "source": [
    "# trainer loading and initialization\n",
    "trainer = get_trainer(config['MODEL_TYPE'], config['model'])(config, model)\n",
    "\n",
    "# model training\n",
    "best_valid_score, best_valid_result = trainer.fit(\n",
    "    train_data, valid_data, saved=True, show_progress=config['show_progress']\n",
    ")"
   ]
  },
  {
   "cell_type": "code",
   "execution_count": 22,
   "id": "cec8a633",
   "metadata": {
    "ExecuteTime": {
     "end_time": "2022-12-23T06:55:09.385714Z",
     "start_time": "2022-12-23T06:55:09.382683Z"
    }
   },
   "outputs": [],
   "source": [
    "from IPython.core.interactiveshell import InteractiveShell\n",
    "InteractiveShell.ast_node_interactivity=\"last\""
   ]
  },
  {
   "cell_type": "markdown",
   "id": "b79572b1",
   "metadata": {},
   "source": [
    "## inference"
   ]
  },
  {
   "cell_type": "code",
   "execution_count": 21,
   "id": "54c9f3b7",
   "metadata": {
    "ExecuteTime": {
     "end_time": "2022-12-23T06:56:10.435390Z",
     "start_time": "2022-12-23T06:56:10.432244Z"
    }
   },
   "outputs": [],
   "source": [
    "model_path='./baseline/EASE-Dec-21-2022_15-02-10.pth'\n",
    "# rank K 설정\n",
    "K = 300"
   ]
  },
  {
   "cell_type": "code",
   "execution_count": 22,
   "id": "1384563a-9216-4b40-a0c1-ad45aa3fd6e8",
   "metadata": {},
   "outputs": [
    {
     "data": {
      "text/plain": [
       "300"
      ]
     },
     "execution_count": 22,
     "metadata": {},
     "output_type": "execute_result"
    }
   ],
   "source": []
  },
  {
   "cell_type": "code",
   "execution_count": 23,
   "id": "9753e240",
   "metadata": {
    "ExecuteTime": {
     "end_time": "2022-12-23T02:01:25.573389Z",
     "start_time": "2022-12-23T01:59:54.577168Z"
    }
   },
   "outputs": [
    {
     "name": "stderr",
     "output_type": "stream",
     "text": [
      "28 Dec 07:19    INFO  [Training]: train_batch_size = [2048] train_neg_sample_args: [{'distribution': 'uniform', 'sample_num': 1, 'alpha': 1.0, 'dynamic': False, 'candidate_num': 0}]\n",
      "28 Dec 07:19    INFO  [Evaluation]: eval_batch_size = [4096] eval_args: [{'split': {'RS': [1, 0, 0]}, 'group_by': 'user', 'order': 'RO', 'mode': 'full'}]\n"
     ]
    },
    {
     "data": {
      "text/plain": [
       "<All keys matched successfully>"
      ]
     },
     "execution_count": 23,
     "metadata": {},
     "output_type": "execute_result"
    },
    {
     "data": {
      "text/plain": [
       "EASE()"
      ]
     },
     "execution_count": 23,
     "metadata": {},
     "output_type": "execute_result"
    },
    {
     "name": "stderr",
     "output_type": "stream",
     "text": [
      "Inference:   0%|          | 0/245 [00:00<?, ?it/s]:   0%|          | 1/245 [00:00<00:33,  7.38it/s]:   1%|          | 2/245 [00:00<00:34,  6.97it/s]:   1%|          | 3/245 [00:00<00:34,  6.92it/s]:   2%|▏         | 4/245 [00:00<00:35,  6.80it/s]:   2%|▏         | 5/245 [00:00<00:36,  6.49it/s]:   2%|▏         | 6/245 [00:00<00:37,  6.33it/s]:   3%|▎         | 7/245 [00:01<00:37,  6.30it/s]:   3%|▎         | 8/245 [00:01<00:37,  6.27it/s]:   4%|▎         | 9/245 [00:01<00:37,  6.30it/s]:   4%|▍         | 10/245 [00:01<00:37,  6.34it/s]:   4%|▍         | 11/245 [00:01<00:35,  6.60it/s]:   5%|▍         | 12/245 [00:01<00:33,  6.94it/s]:   5%|▌         | 13/245 [00:01<00:33,  7.01it/s]:   6%|▌         | 14/245 [00:02<00:33,  6.83it/s]:   6%|▌         | 15/245 [00:02<00:34,  6.60it/s]:   7%|▋         | 16/245 [00:02<00:34,  6.73it/s]:   7%|▋         | 17/245 [00:02<00:33,  6.86it/s]:   7%|▋         | 18/245 [00:02<00:33,  6.70it/s]:   8%|▊         | 19/245 [00:02<00:34,  6.53it/s]:   8%|▊         | 20/245 [00:03<00:34,  6.53it/s]:   9%|▊         | 21/245 [00:03<00:34,  6.46it/s]:   9%|▉         | 22/245 [00:03<00:34,  6.42it/s]:   9%|▉         | 23/245 [00:03<00:33,  6.62it/s]:  10%|▉         | 24/245 [00:03<00:33,  6.56it/s]:  10%|█         | 25/245 [00:03<00:33,  6.57it/s]:  11%|█         | 26/245 [00:03<00:33,  6.48it/s]:  11%|█         | 27/245 [00:04<00:33,  6.59it/s]:  11%|█▏        | 28/245 [00:04<00:34,  6.33it/s]:  12%|█▏        | 29/245 [00:04<00:33,  6.43it/s]:  12%|█▏        | 30/245 [00:04<00:33,  6.49it/s]:  13%|█▎        | 31/245 [00:04<00:32,  6.50it/s]:  13%|█▎        | 32/245 [00:04<00:32,  6.59it/s]:  13%|█▎        | 33/245 [00:05<00:32,  6.48it/s]:  14%|█▍        | 34/245 [00:05<00:32,  6.48it/s]:  14%|█▍        | 35/245 [00:05<00:32,  6.53it/s]:  15%|█▍        | 36/245 [00:05<00:32,  6.34it/s]:  15%|█▌        | 37/245 [00:05<00:32,  6.40it/s]:  16%|█▌        | 38/245 [00:05<00:31,  6.51it/s]:  16%|█▌        | 39/245 [00:05<00:31,  6.60it/s]:  16%|█▋        | 40/245 [00:06<00:31,  6.56it/s]:  17%|█▋        | 41/245 [00:06<00:31,  6.57it/s]:  17%|█▋        | 42/245 [00:06<00:31,  6.38it/s]:  18%|█▊        | 43/245 [00:06<00:31,  6.41it/s]:  18%|█▊        | 44/245 [00:06<00:31,  6.44it/s]:  18%|█▊        | 45/245 [00:06<00:31,  6.44it/s]:  19%|█▉        | 46/245 [00:07<00:31,  6.31it/s]:  19%|█▉        | 47/245 [00:07<00:32,  6.04it/s]:  20%|█▉        | 48/245 [00:07<00:32,  6.12it/s]:  20%|██        | 49/245 [00:07<00:30,  6.35it/s]:  20%|██        | 50/245 [00:07<00:31,  6.27it/s]:  21%|██        | 51/245 [00:07<00:30,  6.38it/s]:  21%|██        | 52/245 [00:08<00:31,  6.21it/s]:  22%|██▏       | 53/245 [00:08<00:30,  6.35it/s]:  22%|██▏       | 54/245 [00:08<00:29,  6.57it/s]:  22%|██▏       | 55/245 [00:08<00:29,  6.45it/s]:  23%|██▎       | 56/245 [00:08<00:29,  6.47it/s]:  23%|██▎       | 57/245 [00:08<00:28,  6.67it/s]:  24%|██▎       | 58/245 [00:08<00:29,  6.38it/s]:  24%|██▍       | 59/245 [00:09<00:29,  6.35it/s]:  24%|██▍       | 60/245 [00:09<00:28,  6.52it/s]:  25%|██▍       | 61/245 [00:09<00:28,  6.46it/s]:  25%|██▌       | 62/245 [00:09<00:29,  6.14it/s]:  26%|██▌       | 63/245 [00:09<00:29,  6.19it/s]:  26%|██▌       | 64/245 [00:09<00:28,  6.31it/s]:  27%|██▋       | 65/245 [00:10<00:28,  6.29it/s]:  27%|██▋       | 66/245 [00:10<00:27,  6.62it/s]:  27%|██▋       | 67/245 [00:10<00:26,  6.63it/s]:  28%|██▊       | 68/245 [00:10<00:26,  6.66it/s]:  28%|██▊       | 69/245 [00:10<00:27,  6.49it/s]:  29%|██▊       | 70/245 [00:10<00:27,  6.48it/s]:  29%|██▉       | 71/245 [00:10<00:25,  6.78it/s]:  29%|██▉       | 72/245 [00:11<00:25,  6.83it/s]:  30%|██▉       | 73/245 [00:11<00:24,  6.97it/s]:  30%|███       | 74/245 [00:11<00:26,  6.51it/s]:  31%|███       | 75/245 [00:11<00:25,  6.59it/s]:  31%|███       | 76/245 [00:11<00:27,  6.23it/s]:  31%|███▏      | 77/245 [00:11<00:26,  6.32it/s]:  32%|███▏      | 78/245 [00:12<00:26,  6.28it/s]:  32%|███▏      | 79/245 [00:12<00:26,  6.35it/s]:  33%|███▎      | 80/245 [00:12<00:26,  6.32it/s]:  33%|███▎      | 81/245 [00:12<00:25,  6.34it/s]:  33%|███▎      | 82/245 [00:12<00:25,  6.52it/s]:  34%|███▍      | 83/245 [00:12<00:25,  6.43it/s]:  34%|███▍      | 84/245 [00:12<00:25,  6.39it/s]:  35%|███▍      | 85/245 [00:13<00:25,  6.29it/s]:  35%|███▌      | 86/245 [00:13<00:25,  6.33it/s]:  36%|███▌      | 87/245 [00:13<00:24,  6.44it/s]:  36%|███▌      | 88/245 [00:13<00:24,  6.43it/s]:  36%|███▋      | 89/245 [00:13<00:24,  6.47it/s]:  37%|███▋      | 90/245 [00:13<00:23,  6.53it/s]:  37%|███▋      | 91/245 [00:14<00:23,  6.54it/s]:  38%|███▊      | 92/245 [00:14<00:23,  6.48it/s]:  38%|███▊      | 93/245 [00:14<00:24,  6.28it/s]:  38%|███▊      | 94/245 [00:14<00:24,  6.15it/s]:  39%|███▉      | 95/245 [00:14<00:23,  6.26it/s]:  39%|███▉      | 96/245 [00:14<00:23,  6.30it/s]:  40%|███▉      | 97/245 [00:15<00:24,  6.04it/s]:  40%|████      | 98/245 [00:15<00:24,  5.99it/s]:  40%|████      | 99/245 [00:15<00:23,  6.23it/s]:  41%|████      | 100/245 [00:15<00:22,  6.50it/s]:  41%|████      | 101/245 [00:15<00:21,  6.55it/s]:  42%|████▏     | 102/245 [00:15<00:22,  6.41it/s]:  42%|████▏     | 103/245 [00:15<00:22,  6.32it/s]:  42%|████▏     | 104/245 [00:16<00:22,  6.37it/s]:  43%|████▎     | 105/245 [00:16<00:22,  6.34it/s]:  43%|████▎     | 106/245 [00:16<00:22,  6.29it/s]:  44%|████▎     | 107/245 [00:16<00:22,  6.15it/s]:  44%|████▍     | 108/245 [00:16<00:21,  6.24it/s]:  44%|████▍     | 109/245 [00:16<00:22,  6.15it/s]:  45%|████▍     | 110/245 [00:17<00:21,  6.22it/s]:  45%|████▌     | 111/245 [00:17<00:21,  6.20it/s]:  46%|████▌     | 112/245 [00:17<00:21,  6.31it/s]:  46%|████▌     | 113/245 [00:17<00:21,  6.15it/s]:  47%|████▋     | 114/245 [00:17<00:20,  6.29it/s]:  47%|████▋     | 115/245 [00:17<00:21,  6.12it/s]:  47%|████▋     | 116/245 [00:18<00:20,  6.25it/s]:  48%|████▊     | 117/245 [00:18<00:20,  6.23it/s]:  48%|████▊     | 118/245 [00:18<00:19,  6.49it/s]:  49%|████▊     | 119/245 [00:18<00:20,  6.07it/s]:  49%|████▉     | 120/245 [00:18<00:20,  6.19it/s]:  49%|████▉     | 121/245 [00:18<00:20,  6.14it/s]:  50%|████▉     | 122/245 [00:19<00:19,  6.30it/s]:  50%|█████     | 123/245 [00:19<00:19,  6.15it/s]:  51%|█████     | 124/245 [00:19<00:19,  6.15it/s]:  51%|█████     | 125/245 [00:19<00:19,  6.06it/s]:  51%|█████▏    | 126/245 [00:19<00:18,  6.32it/s]:  52%|█████▏    | 127/245 [00:19<00:19,  5.94it/s]:  52%|█████▏    | 128/245 [00:20<00:20,  5.81it/s]:  53%|█████▎    | 129/245 [00:20<00:19,  5.95it/s]:  53%|█████▎    | 130/245 [00:20<00:18,  6.21it/s]:  53%|█████▎    | 131/245 [00:20<00:18,  6.14it/s]:  54%|█████▍    | 132/245 [00:20<00:18,  6.12it/s]:  54%|█████▍    | 133/245 [00:20<00:18,  6.14it/s]:  55%|█████▍    | 134/245 [00:20<00:17,  6.29it/s]:  55%|█████▌    | 135/245 [00:21<00:18,  6.04it/s]:  56%|█████▌    | 136/245 [00:21<00:18,  5.90it/s]:  56%|█████▌    | 137/245 [00:21<00:18,  5.76it/s]:  56%|█████▋    | 138/245 [00:21<00:19,  5.58it/s]:  57%|█████▋    | 139/245 [00:21<00:19,  5.57it/s]:  57%|█████▋    | 140/245 [00:22<00:19,  5.41it/s]:  58%|█████▊    | 141/245 [00:22<00:18,  5.56it/s]:  58%|█████▊    | 142/245 [00:22<00:18,  5.61it/s]:  58%|█████▊    | 143/245 [00:22<00:17,  5.67it/s]:  59%|█████▉    | 144/245 [00:22<00:18,  5.50it/s]:  59%|█████▉    | 145/245 [00:22<00:17,  5.60it/s]:  60%|█████▉    | 146/245 [00:23<00:17,  5.72it/s]:  60%|██████    | 147/245 [00:23<00:17,  5.75it/s]:  60%|██████    | 148/245 [00:23<00:16,  5.81it/s]:  61%|██████    | 149/245 [00:23<00:16,  5.84it/s]:  61%|██████    | 150/245 [00:23<00:16,  5.78it/s]:  62%|██████▏   | 151/245 [00:24<00:16,  5.68it/s]:  62%|██████▏   | 152/245 [00:24<00:16,  5.57it/s]:  62%|██████▏   | 153/245 [00:24<00:16,  5.50it/s]:  63%|██████▎   | 154/245 [00:24<00:16,  5.58it/s]:  63%|██████▎   | 155/245 [00:24<00:16,  5.58it/s]:  64%|██████▎   | 156/245 [00:24<00:16,  5.55it/s]:  64%|██████▍   | 157/245 [00:25<00:16,  5.34it/s]:  64%|██████▍   | 158/245 [00:25<00:16,  5.41it/s]:  65%|██████▍   | 159/245 [00:25<00:16,  5.34it/s]:  65%|██████▌   | 160/245 [00:25<00:15,  5.35it/s]:  66%|██████▌   | 161/245 [00:25<00:15,  5.49it/s]:  66%|██████▌   | 162/245 [00:26<00:15,  5.49it/s]:  67%|██████▋   | 163/245 [00:26<00:14,  5.53it/s]:  67%|██████▋   | 164/245 [00:26<00:14,  5.65it/s]:  67%|██████▋   | 165/245 [00:26<00:14,  5.42it/s]:  68%|██████▊   | 166/245 [00:26<00:14,  5.55it/s]:  68%|██████▊   | 167/245 [00:26<00:14,  5.49it/s]:  69%|██████▊   | 168/245 [00:27<00:13,  5.53it/s]:  69%|██████▉   | 169/245 [00:27<00:13,  5.63it/s]:  69%|██████▉   | 170/245 [00:27<00:13,  5.54it/s]:  70%|██████▉   | 171/245 [00:27<00:13,  5.66it/s]:  70%|███████   | 172/245 [00:27<00:13,  5.54it/s]:  71%|███████   | 173/245 [00:28<00:13,  5.40it/s]:  71%|███████   | 174/245 [00:30<01:00,  1.16it/s]:  71%|███████▏  | 175/245 [00:30<00:46,  1.52it/s]:  72%|███████▏  | 176/245 [00:30<00:35,  1.97it/s]:  72%|███████▏  | 177/245 [00:30<00:27,  2.48it/s]:  73%|███████▎  | 178/245 [00:31<00:22,  3.02it/s]:  73%|███████▎  | 179/245 [00:31<00:18,  3.49it/s]:  73%|███████▎  | 180/245 [00:31<00:16,  4.01it/s]:  74%|███████▍  | 181/245 [00:31<00:14,  4.45it/s]:  74%|███████▍  | 182/245 [00:31<00:13,  4.80it/s]:  75%|███████▍  | 183/245 [00:31<00:12,  5.17it/s]:  75%|███████▌  | 184/245 [00:32<00:11,  5.31it/s]:  76%|███████▌  | 185/245 [00:32<00:10,  5.58it/s]:  76%|███████▌  | 186/245 [00:32<00:10,  5.71it/s]:  76%|███████▋  | 187/245 [00:32<00:09,  5.91it/s]:  77%|███████▋  | 188/245 [00:32<00:09,  5.92it/s]:  77%|███████▋  | 189/245 [00:32<00:09,  5.99it/s]:  78%|███████▊  | 190/245 [00:33<00:08,  6.12it/s]:  78%|███████▊  | 191/245 [00:33<00:08,  6.12it/s]:  78%|███████▊  | 192/245 [00:33<00:08,  6.31it/s]:  79%|███████▉  | 193/245 [00:33<00:08,  6.20it/s]:  79%|███████▉  | 194/245 [00:33<00:08,  6.25it/s]:  80%|███████▉  | 195/245 [00:33<00:08,  6.25it/s]:  80%|████████  | 196/245 [00:34<00:07,  6.26it/s]:  80%|████████  | 197/245 [00:34<00:07,  6.13it/s]:  81%|████████  | 198/245 [00:34<00:07,  6.19it/s]:  81%|████████  | 199/245 [00:34<00:07,  6.17it/s]:  82%|████████▏ | 200/245 [00:34<00:07,  6.19it/s]:  82%|████████▏ | 201/245 [00:34<00:07,  6.03it/s]:  82%|████████▏ | 202/245 [00:35<00:07,  6.14it/s]:  83%|████████▎ | 203/245 [00:35<00:06,  6.03it/s]:  83%|████████▎ | 204/245 [00:35<00:07,  5.74it/s]:  84%|████████▎ | 205/245 [00:35<00:07,  5.69it/s]:  84%|████████▍ | 206/245 [00:35<00:06,  5.93it/s]:  84%|████████▍ | 207/245 [00:35<00:06,  5.75it/s]:  85%|████████▍ | 208/245 [00:36<00:06,  5.97it/s]:  85%|████████▌ | 209/245 [00:36<00:06,  5.92it/s]:  86%|████████▌ | 210/245 [00:36<00:05,  6.23it/s]:  86%|████████▌ | 211/245 [00:36<00:05,  6.31it/s]:  87%|████████▋ | 212/245 [00:36<00:05,  6.02it/s]:  87%|████████▋ | 213/245 [00:36<00:05,  6.30it/s]:  87%|████████▋ | 214/245 [00:37<00:04,  6.41it/s]:  88%|████████▊ | 215/245 [00:37<00:04,  6.10it/s]:  88%|████████▊ | 216/245 [00:37<00:04,  6.32it/s]:  89%|████████▊ | 217/245 [00:37<00:04,  6.18it/s]:  89%|████████▉ | 218/245 [00:37<00:04,  6.09it/s]:  89%|████████▉ | 219/245 [00:37<00:04,  6.09it/s]:  90%|████████▉ | 220/245 [00:38<00:03,  6.36it/s]:  90%|█████████ | 221/245 [00:38<00:03,  6.35it/s]:  91%|█████████ | 222/245 [00:38<00:03,  6.35it/s]:  91%|█████████ | 223/245 [00:38<00:03,  6.40it/s]:  91%|█████████▏| 224/245 [00:38<00:03,  6.14it/s]:  92%|█████████▏| 225/245 [00:38<00:03,  6.34it/s]:  92%|█████████▏| 226/245 [00:38<00:03,  6.30it/s]:  93%|█████████▎| 227/245 [00:39<00:02,  6.33it/s]:  93%|█████████▎| 228/245 [00:39<00:02,  6.19it/s]:  93%|█████████▎| 229/245 [00:39<00:02,  6.21it/s]:  94%|█████████▍| 230/245 [00:39<00:02,  6.22it/s]:  94%|█████████▍| 231/245 [00:39<00:02,  6.22it/s]:  95%|█████████▍| 232/245 [00:39<00:02,  5.91it/s]:  95%|█████████▌| 233/245 [00:40<00:02,  5.83it/s]:  96%|█████████▌| 234/245 [00:40<00:01,  5.94it/s]:  96%|█████████▌| 235/245 [00:40<00:01,  5.99it/s]:  96%|█████████▋| 236/245 [00:40<00:01,  6.15it/s]:  97%|█████████▋| 237/245 [00:40<00:01,  6.20it/s]:  97%|█████████▋| 238/245 [00:40<00:01,  6.27it/s]:  98%|█████████▊| 239/245 [00:41<00:00,  6.14it/s]:  98%|█████████▊| 240/245 [00:41<00:00,  5.96it/s]:  98%|█████████▊| 241/245 [00:41<00:00,  6.03it/s]:  99%|█████████▉| 242/245 [00:41<00:00,  6.06it/s]:  99%|█████████▉| 243/245 [00:41<00:00,  5.98it/s]: 100%|█████████▉| 244/245 [00:41<00:00,  5.83it/s]: 100%|██████████| 245/245 [00:42<00:00,  5.81it/s]: 100%|██████████| 245/245 [00:42<00:00,  5.81it/s]\n"
     ]
    },
    {
     "name": "stdout",
     "output_type": "stream",
     "text": [
      "inference done!\n"
     ]
    }
   ],
   "source": [
    "# config, model, dataset 불러오기\n",
    "checkpoint = torch.load(model_path)\n",
    "config = checkpoint['config']\n",
    "config['dataset'] = 'train_data'\n",
    "\n",
    "dataset = create_dataset(config)\n",
    "train_data, valid_data, test_data = data_preparation(config, dataset)\n",
    "\n",
    "model = get_model(config['model'])(config, test_data.dataset).to(config['device'])\n",
    "model.load_state_dict(checkpoint['state_dict'])\n",
    "model.load_other_parameter(checkpoint.get('other_parameter'))\n",
    "\n",
    "# device 설정\n",
    "device = config.final_config_dict['device']\n",
    "\n",
    "# user, item id -> token 변환 array\n",
    "user_id = config['USER_ID_FIELD']\n",
    "item_id = config['ITEM_ID_FIELD']\n",
    "user_id2token = dataset.field2id_token[user_id]\n",
    "item_id2token = dataset.field2id_token[item_id]\n",
    "\n",
    "# user id list\n",
    "all_user_list = torch.arange(1, len(user_id2token)).view(-1,128) # 245, 128\n",
    "\n",
    "# user, item 길이\n",
    "user_len = len(user_id2token) # 31361 (PAD 포함)\n",
    "item_len = len(item_id2token) # 6808 (PAD 포함)\n",
    "\n",
    "# user-item sparse matrix\n",
    "matrix = dataset.inter_matrix(form='csr') # (31361, 6808)\n",
    "\n",
    "# user id, predict item id 저장 변수\n",
    "pred_list = None\n",
    "user_list = None\n",
    "\n",
    "# model 평가모드 전환\n",
    "model.eval()\n",
    "\n",
    "# progress bar 설정\n",
    "tbar = tqdm(all_user_list, desc=set_color(f\"Inference\", 'pink')) # 245, 128\n",
    "\n",
    "for data in tbar: # data: 128, \n",
    "    # interaction 생성\n",
    "    interaction = dict()\n",
    "    interaction = Interaction(interaction)\n",
    "    interaction[user_id] = data\n",
    "    interaction = interaction.to(device)\n",
    "\n",
    "    # user item별 score 예측\n",
    "    score = model.full_sort_predict(interaction) # [1, 871424]\n",
    "    score = score.view(-1, item_len) # 128, 6808\n",
    "\n",
    "    rating_pred = score.cpu().data.numpy().copy() # 128, 6808\n",
    "\n",
    "    user_index = data.numpy() # 128,\n",
    "\n",
    "    # idx에는 128명의 영화상호작용이 True, False로 있다.\n",
    "    idx = matrix[user_index].toarray() > 0 # idx shape: 128, 6808\n",
    "\n",
    "    rating_pred[idx] = -np.inf # idx에서 True부분이 -inf로 변경\n",
    "    rating_pred[:, 0] = -np.inf # 첫번째 PAD 열도 -inf로 변경\n",
    "    \n",
    "    # np.argpartition(배열, -K) : 배열에서 순서 상관없이 큰 값 K개를 뽑아 오른쪽에 놓겠다 -> 인덱스반환\n",
    "    # rating_pred에서 각 행마다 K개의 score가 큰 인덱스를 오른쪽에 두고, 그 K개만 가져오기\n",
    "    ind = np.argpartition(rating_pred, -K)[:, -K:] # rating_pred: (128, 6808) -> ind: (128, 20)\n",
    "\n",
    "    user_row_index = np.arange(len(rating_pred)).reshape(-1,1) # [[0],[1],...,[127]]\n",
    "    arr_ind = rating_pred[user_row_index, ind] # 128, 6808 -> 128, 20\n",
    "\n",
    "    # arr_ind 내부에서 행별로, 내림차순 정렬해서 index 나오도록\n",
    "    arr_ind_argsort = np.argsort(arr_ind)[np.arange(len(rating_pred)), ::-1]\n",
    "\n",
    "    # ind는 item의 real index를 갖는 128,20 -> arr_ind_argsort를 통해 pred가 높은 상위 20개 read index 추출\n",
    "    batch_pred_list = ind[user_row_index, arr_ind_argsort] # 128,20 -> 128,20\n",
    "\n",
    "    if pred_list is None: # 처음에는 직접 정의\n",
    "        pred_list = batch_pred_list\n",
    "        user_list = user_index\n",
    "    else: # pred_list가 있을 때는, append\n",
    "        pred_list = np.append(pred_list, batch_pred_list, axis=0)\n",
    "        user_list = np.append(\n",
    "            user_list, user_index, axis=0\n",
    "        )\n",
    "\n",
    "result = []\n",
    "for user, pred in zip(user_list, pred_list):\n",
    "    for item in pred:\n",
    "        result.append((int(user_id2token[user]), int(item_id2token[item])))\n",
    "\n",
    "# 데이터 저장\n",
    "sub = pd.DataFrame(result, columns=[\"user\", \"item\"])\n",
    "sub.to_csv(\n",
    "    \"submission.csv\", index=False\n",
    ")\n",
    "print('inference done!')"
   ]
  },
  {
   "cell_type": "markdown",
   "id": "934a19ad",
   "metadata": {},
   "source": [
    "## 제출파일 생성"
   ]
  },
  {
   "cell_type": "code",
   "execution_count": 24,
   "id": "694acad4",
   "metadata": {},
   "outputs": [
    {
     "data": {
      "text/html": [
       "<div>\n",
       "<style scoped>\n",
       "    .dataframe tbody tr th:only-of-type {\n",
       "        vertical-align: middle;\n",
       "    }\n",
       "\n",
       "    .dataframe tbody tr th {\n",
       "        vertical-align: top;\n",
       "    }\n",
       "\n",
       "    .dataframe thead th {\n",
       "        text-align: right;\n",
       "    }\n",
       "</style>\n",
       "<table border=\"1\" class=\"dataframe\">\n",
       "  <thead>\n",
       "    <tr style=\"text-align: right;\">\n",
       "      <th></th>\n",
       "      <th>user</th>\n",
       "      <th>item</th>\n",
       "    </tr>\n",
       "  </thead>\n",
       "  <tbody>\n",
       "    <tr>\n",
       "      <th>0</th>\n",
       "      <td>0</td>\n",
       "      <td>2381</td>\n",
       "    </tr>\n",
       "    <tr>\n",
       "      <th>1</th>\n",
       "      <td>0</td>\n",
       "      <td>2619</td>\n",
       "    </tr>\n",
       "    <tr>\n",
       "      <th>2</th>\n",
       "      <td>0</td>\n",
       "      <td>41</td>\n",
       "    </tr>\n",
       "    <tr>\n",
       "      <th>3</th>\n",
       "      <td>0</td>\n",
       "      <td>4581</td>\n",
       "    </tr>\n",
       "    <tr>\n",
       "      <th>4</th>\n",
       "      <td>0</td>\n",
       "      <td>4790</td>\n",
       "    </tr>\n",
       "    <tr>\n",
       "      <th>...</th>\n",
       "      <td>...</td>\n",
       "      <td>...</td>\n",
       "    </tr>\n",
       "    <tr>\n",
       "      <th>9407995</th>\n",
       "      <td>31359</td>\n",
       "      <td>651</td>\n",
       "    </tr>\n",
       "    <tr>\n",
       "      <th>9407996</th>\n",
       "      <td>31359</td>\n",
       "      <td>1797</td>\n",
       "    </tr>\n",
       "    <tr>\n",
       "      <th>9407997</th>\n",
       "      <td>31359</td>\n",
       "      <td>4524</td>\n",
       "    </tr>\n",
       "    <tr>\n",
       "      <th>9407998</th>\n",
       "      <td>31359</td>\n",
       "      <td>2687</td>\n",
       "    </tr>\n",
       "    <tr>\n",
       "      <th>9407999</th>\n",
       "      <td>31359</td>\n",
       "      <td>3253</td>\n",
       "    </tr>\n",
       "  </tbody>\n",
       "</table>\n",
       "<p>9408000 rows × 2 columns</p>\n",
       "</div>"
      ],
      "text/plain": [
       "          user  item\n",
       "0            0  2381\n",
       "1            0  2619\n",
       "2            0    41\n",
       "3            0  4581\n",
       "4            0  4790\n",
       "...        ...   ...\n",
       "9407995  31359   651\n",
       "9407996  31359  1797\n",
       "9407997  31359  4524\n",
       "9407998  31359  2687\n",
       "9407999  31359  3253\n",
       "\n",
       "[9408000 rows x 2 columns]"
      ]
     },
     "execution_count": 24,
     "metadata": {},
     "output_type": "execute_result"
    }
   ],
   "source": [
    "sub"
   ]
  },
  {
   "cell_type": "code",
   "execution_count": 25,
   "id": "c221cde8",
   "metadata": {
    "ExecuteTime": {
     "end_time": "2022-12-21T15:04:20.200880Z",
     "start_time": "2022-12-21T15:04:19.735937Z"
    }
   },
   "outputs": [],
   "source": [
    "sub.user = sub.user.map(uidx2user)\n",
    "sub.item = sub.item.map(iidx2item)"
   ]
  },
  {
   "cell_type": "code",
   "execution_count": 26,
   "id": "5e53b487",
   "metadata": {
    "ExecuteTime": {
     "end_time": "2022-12-21T15:04:20.200880Z",
     "start_time": "2022-12-21T15:04:19.735937Z"
    }
   },
   "outputs": [],
   "source": [
    "sub.to_csv('EASE_best.csv',index=False)"
   ]
  },
  {
   "cell_type": "code",
   "execution_count": 27,
   "id": "ab3190bb",
   "metadata": {
    "ExecuteTime": {
     "end_time": "2022-12-21T15:04:20.213053Z",
     "start_time": "2022-12-21T15:04:20.203992Z"
    }
   },
   "outputs": [
    {
     "data": {
      "text/html": [
       "<div>\n",
       "<style scoped>\n",
       "    .dataframe tbody tr th:only-of-type {\n",
       "        vertical-align: middle;\n",
       "    }\n",
       "\n",
       "    .dataframe tbody tr th {\n",
       "        vertical-align: top;\n",
       "    }\n",
       "\n",
       "    .dataframe thead th {\n",
       "        text-align: right;\n",
       "    }\n",
       "</style>\n",
       "<table border=\"1\" class=\"dataframe\">\n",
       "  <thead>\n",
       "    <tr style=\"text-align: right;\">\n",
       "      <th></th>\n",
       "      <th>user</th>\n",
       "      <th>item</th>\n",
       "    </tr>\n",
       "  </thead>\n",
       "  <tbody>\n",
       "    <tr>\n",
       "      <th>0</th>\n",
       "      <td>11</td>\n",
       "      <td>4370</td>\n",
       "    </tr>\n",
       "    <tr>\n",
       "      <th>1</th>\n",
       "      <td>11</td>\n",
       "      <td>4886</td>\n",
       "    </tr>\n",
       "    <tr>\n",
       "      <th>2</th>\n",
       "      <td>11</td>\n",
       "      <td>47</td>\n",
       "    </tr>\n",
       "    <tr>\n",
       "      <th>3</th>\n",
       "      <td>11</td>\n",
       "      <td>32587</td>\n",
       "    </tr>\n",
       "    <tr>\n",
       "      <th>4</th>\n",
       "      <td>11</td>\n",
       "      <td>40815</td>\n",
       "    </tr>\n",
       "    <tr>\n",
       "      <th>...</th>\n",
       "      <td>...</td>\n",
       "      <td>...</td>\n",
       "    </tr>\n",
       "    <tr>\n",
       "      <th>9407995</th>\n",
       "      <td>138493</td>\n",
       "      <td>1201</td>\n",
       "    </tr>\n",
       "    <tr>\n",
       "      <th>9407996</th>\n",
       "      <td>138493</td>\n",
       "      <td>3213</td>\n",
       "    </tr>\n",
       "    <tr>\n",
       "      <th>9407997</th>\n",
       "      <td>138493</td>\n",
       "      <td>31685</td>\n",
       "    </tr>\n",
       "    <tr>\n",
       "      <th>9407998</th>\n",
       "      <td>138493</td>\n",
       "      <td>5014</td>\n",
       "    </tr>\n",
       "    <tr>\n",
       "      <th>9407999</th>\n",
       "      <td>138493</td>\n",
       "      <td>6537</td>\n",
       "    </tr>\n",
       "  </tbody>\n",
       "</table>\n",
       "<p>9408000 rows × 2 columns</p>\n",
       "</div>"
      ],
      "text/plain": [
       "           user   item\n",
       "0            11   4370\n",
       "1            11   4886\n",
       "2            11     47\n",
       "3            11  32587\n",
       "4            11  40815\n",
       "...         ...    ...\n",
       "9407995  138493   1201\n",
       "9407996  138493   3213\n",
       "9407997  138493  31685\n",
       "9407998  138493   5014\n",
       "9407999  138493   6537\n",
       "\n",
       "[9408000 rows x 2 columns]"
      ]
     },
     "execution_count": 27,
     "metadata": {},
     "output_type": "execute_result"
    }
   ],
   "source": [
    "sub"
   ]
  },
  {
   "cell_type": "code",
   "execution_count": 137,
   "id": "70286f5d",
   "metadata": {
    "ExecuteTime": {
     "end_time": "2022-12-21T15:05:21.943304Z",
     "start_time": "2022-12-21T15:05:21.906462Z"
    }
   },
   "outputs": [],
   "source": [
    "sub.user = sub.user.map(user2idx)\n",
    "sub.item = sub.item.map(item2idx)"
   ]
  },
  {
   "cell_type": "code",
   "execution_count": 144,
   "id": "0bf1ebf1",
   "metadata": {
    "ExecuteTime": {
     "end_time": "2022-12-21T15:18:58.572093Z",
     "start_time": "2022-12-21T15:18:58.563656Z"
    }
   },
   "outputs": [
    {
     "data": {
      "text/html": [
       "<div>\n",
       "<style scoped>\n",
       "    .dataframe tbody tr th:only-of-type {\n",
       "        vertical-align: middle;\n",
       "    }\n",
       "\n",
       "    .dataframe tbody tr th {\n",
       "        vertical-align: top;\n",
       "    }\n",
       "\n",
       "    .dataframe thead th {\n",
       "        text-align: right;\n",
       "    }\n",
       "</style>\n",
       "<table border=\"1\" class=\"dataframe\">\n",
       "  <thead>\n",
       "    <tr style=\"text-align: right;\">\n",
       "      <th></th>\n",
       "      <th>user</th>\n",
       "      <th>item</th>\n",
       "      <th>time</th>\n",
       "    </tr>\n",
       "  </thead>\n",
       "  <tbody>\n",
       "    <tr>\n",
       "      <th>0</th>\n",
       "      <td>0</td>\n",
       "      <td>2505</td>\n",
       "      <td>1230782529</td>\n",
       "    </tr>\n",
       "    <tr>\n",
       "      <th>1</th>\n",
       "      <td>0</td>\n",
       "      <td>109</td>\n",
       "      <td>1230782534</td>\n",
       "    </tr>\n",
       "    <tr>\n",
       "      <th>2</th>\n",
       "      <td>0</td>\n",
       "      <td>319</td>\n",
       "      <td>1230782539</td>\n",
       "    </tr>\n",
       "  </tbody>\n",
       "</table>\n",
       "</div>"
      ],
      "text/plain": [
       "   user  item        time\n",
       "0     0  2505  1230782529\n",
       "1     0   109  1230782534\n",
       "2     0   319  1230782539"
      ]
     },
     "execution_count": 144,
     "metadata": {},
     "output_type": "execute_result"
    }
   ],
   "source": [
    "train.columns=['user','item','time']\n",
    "train[:3]"
   ]
  },
  {
   "cell_type": "code",
   "execution_count": 138,
   "id": "cb8398ff",
   "metadata": {
    "ExecuteTime": {
     "end_time": "2022-12-21T15:05:25.644540Z",
     "start_time": "2022-12-21T15:05:23.939273Z"
    }
   },
   "outputs": [],
   "source": [
    "afterdf = sub.merge(train[['user','item','time']], on=['user','item'], how='left')"
   ]
  },
  {
   "cell_type": "code",
   "execution_count": 139,
   "id": "9d982a91",
   "metadata": {
    "ExecuteTime": {
     "end_time": "2022-12-21T15:05:25.908082Z",
     "start_time": "2022-12-21T15:05:25.900161Z"
    }
   },
   "outputs": [
    {
     "data": {
      "text/html": [
       "<div>\n",
       "<style scoped>\n",
       "    .dataframe tbody tr th:only-of-type {\n",
       "        vertical-align: middle;\n",
       "    }\n",
       "\n",
       "    .dataframe tbody tr th {\n",
       "        vertical-align: top;\n",
       "    }\n",
       "\n",
       "    .dataframe thead th {\n",
       "        text-align: right;\n",
       "    }\n",
       "</style>\n",
       "<table border=\"1\" class=\"dataframe\">\n",
       "  <thead>\n",
       "    <tr style=\"text-align: right;\">\n",
       "      <th></th>\n",
       "      <th>user</th>\n",
       "      <th>item</th>\n",
       "      <th>timestamp:float</th>\n",
       "    </tr>\n",
       "  </thead>\n",
       "  <tbody>\n",
       "  </tbody>\n",
       "</table>\n",
       "</div>"
      ],
      "text/plain": [
       "Empty DataFrame\n",
       "Columns: [user, item, timestamp:float]\n",
       "Index: []"
      ]
     },
     "execution_count": 139,
     "metadata": {},
     "output_type": "execute_result"
    }
   ],
   "source": [
    "afterdf[afterdf['timestamp:float'].notna()]"
   ]
  },
  {
   "cell_type": "markdown",
   "id": "b29f3972",
   "metadata": {},
   "source": [
    "## full_sort_topk"
   ]
  },
  {
   "cell_type": "code",
   "execution_count": 172,
   "id": "f028083e",
   "metadata": {
    "ExecuteTime": {
     "end_time": "2022-12-23T05:27:56.495456Z",
     "start_time": "2022-12-23T05:27:56.157658Z"
    }
   },
   "outputs": [
    {
     "name": "stdout",
     "output_type": "stream",
     "text": [
      "total 1.3M\n",
      "drwxr-xr-x 2 root root 4.0K Dec 22 21:53 .\n",
      "drwxr-xr-x 5 root root 4.0K Dec 23 00:19 ..\n",
      "-rw-r--r-- 1 root root 1.3M Dec 22 22:01 sequential_data.inter\n"
     ]
    }
   ],
   "source": [
    "!ls -alh dataset/sequential_data/"
   ]
  },
  {
   "cell_type": "code",
   "execution_count": 182,
   "id": "b6236429",
   "metadata": {
    "ExecuteTime": {
     "end_time": "2022-12-23T05:29:39.635079Z",
     "start_time": "2022-12-23T05:29:39.632016Z"
    }
   },
   "outputs": [],
   "source": [
    "config['eval_args'] = {'split': {'RS': [1, 0, 99]},\n",
    "                         'group_by': 'user',\n",
    "                         'order': 'RO',\n",
    "                         'mode': 'full'}"
   ]
  },
  {
   "cell_type": "code",
   "execution_count": 183,
   "id": "0501192a",
   "metadata": {
    "ExecuteTime": {
     "end_time": "2022-12-23T05:30:25.284207Z",
     "start_time": "2022-12-23T05:29:40.007161Z"
    }
   },
   "outputs": [],
   "source": [
    "dataset = create_dataset(config)\n",
    "train_data, valid_data, test_data = data_preparation(config, dataset)"
   ]
  },
  {
   "cell_type": "code",
   "execution_count": 184,
   "id": "3cf1c40e",
   "metadata": {
    "ExecuteTime": {
     "end_time": "2022-12-23T05:30:27.114403Z",
     "start_time": "2022-12-23T05:30:25.286511Z"
    }
   },
   "outputs": [
    {
     "data": {
      "text/plain": [
       "\u001b[1;35mtrain_data\u001b[0m\n",
       "\u001b[1;34mThe number of users\u001b[0m: 31361\n",
       "\u001b[1;34mAverage actions of users\u001b[0m: 162.26514668367346\n",
       "\u001b[1;34mThe number of items\u001b[0m: 6808\n",
       "\u001b[1;34mAverage actions of items\u001b[0m: 747.5591303070369\n",
       "\u001b[1;34mThe number of inters\u001b[0m: 5088635\n",
       "\u001b[1;34mThe sparsity of the dataset\u001b[0m: 97.61662789986185%\n",
       "\u001b[1;34mRemain Fields\u001b[0m: ['user_id', 'item_id', 'timestamp', 'label']"
      ]
     },
     "execution_count": 184,
     "metadata": {},
     "output_type": "execute_result"
    }
   ],
   "source": [
    "test_data.dataset"
   ]
  },
  {
   "cell_type": "code",
   "execution_count": 192,
   "id": "ffa3909f",
   "metadata": {
    "ExecuteTime": {
     "end_time": "2022-12-23T05:33:04.298711Z",
     "start_time": "2022-12-23T05:32:31.410615Z"
    }
   },
   "outputs": [],
   "source": [
    "pred_list2 = None\n",
    "user_list2 = []\n",
    "from recbole.utils.case_study import full_sort_topk\n",
    "for data in tbar:\n",
    "    batch_pred_list2 = full_sort_topk(data, model, test_data, 10, device=device)[1]\n",
    "    batch_pred_list2 = batch_pred_list2.clone().detach().cpu().numpy()\n",
    "    if pred_list2 is None:\n",
    "        pred_list2 = batch_pred_list2\n",
    "        user_list2 = data.numpy()\n",
    "    else:\n",
    "        pred_list2 = np.append(pred_list2, batch_pred_list2, axis=0)\n",
    "        user_list2 = np.append(\n",
    "            user_list2, data.numpy(), axis=0\n",
    "        )\n",
    "tbar.close()"
   ]
  },
  {
   "cell_type": "code",
   "execution_count": null,
   "id": "3fecbb66",
   "metadata": {},
   "outputs": [],
   "source": []
  },
  {
   "cell_type": "code",
   "execution_count": 194,
   "id": "e52dc8c5",
   "metadata": {
    "ExecuteTime": {
     "end_time": "2022-12-23T05:37:25.199548Z",
     "start_time": "2022-12-23T05:37:24.455931Z"
    }
   },
   "outputs": [],
   "source": [
    "# user별 item 추천 결과 하나로 합쳐주기\n",
    "result2 = []\n",
    "for user, pred in zip(user_list2, pred_list2):\n",
    "    for item in pred:\n",
    "        result2.append((int(user_id2token[user]), int(item_id2token[item])))"
   ]
  },
  {
   "cell_type": "code",
   "execution_count": 217,
   "id": "a38598ee",
   "metadata": {
    "ExecuteTime": {
     "end_time": "2022-12-23T05:43:26.662260Z",
     "start_time": "2022-12-23T05:43:26.479789Z"
    }
   },
   "outputs": [],
   "source": [
    "sub2 = pd.DataFrame(result2, columns=[\"user\", \"item\"])"
   ]
  },
  {
   "cell_type": "code",
   "execution_count": 218,
   "id": "3526794d",
   "metadata": {
    "ExecuteTime": {
     "end_time": "2022-12-23T05:43:27.455395Z",
     "start_time": "2022-12-23T05:43:27.419044Z"
    }
   },
   "outputs": [],
   "source": [
    "sub2.user = sub2.user.map(uidx2user)\n",
    "sub2.item = sub2.item.map(iidx2item)"
   ]
  },
  {
   "cell_type": "code",
   "execution_count": 219,
   "id": "05b549c7",
   "metadata": {
    "ExecuteTime": {
     "end_time": "2022-12-23T05:43:29.037970Z",
     "start_time": "2022-12-23T05:43:29.029143Z"
    }
   },
   "outputs": [
    {
     "data": {
      "text/html": [
       "<div>\n",
       "<style scoped>\n",
       "    .dataframe tbody tr th:only-of-type {\n",
       "        vertical-align: middle;\n",
       "    }\n",
       "\n",
       "    .dataframe tbody tr th {\n",
       "        vertical-align: top;\n",
       "    }\n",
       "\n",
       "    .dataframe thead th {\n",
       "        text-align: right;\n",
       "    }\n",
       "</style>\n",
       "<table border=\"1\" class=\"dataframe\">\n",
       "  <thead>\n",
       "    <tr style=\"text-align: right;\">\n",
       "      <th></th>\n",
       "      <th>user</th>\n",
       "      <th>item</th>\n",
       "    </tr>\n",
       "  </thead>\n",
       "  <tbody>\n",
       "    <tr>\n",
       "      <th>0</th>\n",
       "      <td>11</td>\n",
       "      <td>780</td>\n",
       "    </tr>\n",
       "    <tr>\n",
       "      <th>1</th>\n",
       "      <td>11</td>\n",
       "      <td>480</td>\n",
       "    </tr>\n",
       "    <tr>\n",
       "      <th>2</th>\n",
       "      <td>11</td>\n",
       "      <td>1270</td>\n",
       "    </tr>\n",
       "    <tr>\n",
       "      <th>3</th>\n",
       "      <td>11</td>\n",
       "      <td>1214</td>\n",
       "    </tr>\n",
       "    <tr>\n",
       "      <th>4</th>\n",
       "      <td>11</td>\n",
       "      <td>34048</td>\n",
       "    </tr>\n",
       "    <tr>\n",
       "      <th>...</th>\n",
       "      <td>...</td>\n",
       "      <td>...</td>\n",
       "    </tr>\n",
       "    <tr>\n",
       "      <th>313595</th>\n",
       "      <td>138493</td>\n",
       "      <td>4306</td>\n",
       "    </tr>\n",
       "    <tr>\n",
       "      <th>313596</th>\n",
       "      <td>138493</td>\n",
       "      <td>5218</td>\n",
       "    </tr>\n",
       "    <tr>\n",
       "      <th>313597</th>\n",
       "      <td>138493</td>\n",
       "      <td>7361</td>\n",
       "    </tr>\n",
       "    <tr>\n",
       "      <th>313598</th>\n",
       "      <td>138493</td>\n",
       "      <td>4973</td>\n",
       "    </tr>\n",
       "    <tr>\n",
       "      <th>313599</th>\n",
       "      <td>138493</td>\n",
       "      <td>1210</td>\n",
       "    </tr>\n",
       "  </tbody>\n",
       "</table>\n",
       "<p>313600 rows × 2 columns</p>\n",
       "</div>"
      ],
      "text/plain": [
       "          user   item\n",
       "0           11    780\n",
       "1           11    480\n",
       "2           11   1270\n",
       "3           11   1214\n",
       "4           11  34048\n",
       "...        ...    ...\n",
       "313595  138493   4306\n",
       "313596  138493   5218\n",
       "313597  138493   7361\n",
       "313598  138493   4973\n",
       "313599  138493   1210\n",
       "\n",
       "[313600 rows x 2 columns]"
      ]
     },
     "execution_count": 219,
     "metadata": {},
     "output_type": "execute_result"
    }
   ],
   "source": [
    "sub2"
   ]
  },
  {
   "cell_type": "code",
   "execution_count": 220,
   "id": "6fb5c944",
   "metadata": {
    "ExecuteTime": {
     "end_time": "2022-12-23T05:43:33.743066Z",
     "start_time": "2022-12-23T05:43:33.730181Z"
    }
   },
   "outputs": [
    {
     "data": {
      "text/plain": [
       "False"
      ]
     },
     "execution_count": 220,
     "metadata": {},
     "output_type": "execute_result"
    }
   ],
   "source": [
    "sub2.item[0] in train[train.user==11].item"
   ]
  },
  {
   "cell_type": "code",
   "execution_count": 223,
   "id": "50f55d01",
   "metadata": {
    "ExecuteTime": {
     "end_time": "2022-12-23T05:43:49.750233Z",
     "start_time": "2022-12-23T05:43:49.678648Z"
    }
   },
   "outputs": [
    {
     "data": {
      "text/html": [
       "<div>\n",
       "<style scoped>\n",
       "    .dataframe tbody tr th:only-of-type {\n",
       "        vertical-align: middle;\n",
       "    }\n",
       "\n",
       "    .dataframe tbody tr th {\n",
       "        vertical-align: top;\n",
       "    }\n",
       "\n",
       "    .dataframe thead th {\n",
       "        text-align: right;\n",
       "    }\n",
       "</style>\n",
       "<table border=\"1\" class=\"dataframe\">\n",
       "  <thead>\n",
       "    <tr style=\"text-align: right;\">\n",
       "      <th></th>\n",
       "      <th>user</th>\n",
       "      <th>item</th>\n",
       "    </tr>\n",
       "  </thead>\n",
       "  <tbody>\n",
       "    <tr>\n",
       "      <th>0</th>\n",
       "      <td>11</td>\n",
       "      <td>780</td>\n",
       "    </tr>\n",
       "    <tr>\n",
       "      <th>1</th>\n",
       "      <td>11</td>\n",
       "      <td>480</td>\n",
       "    </tr>\n",
       "    <tr>\n",
       "      <th>2</th>\n",
       "      <td>11</td>\n",
       "      <td>1270</td>\n",
       "    </tr>\n",
       "    <tr>\n",
       "      <th>3</th>\n",
       "      <td>11</td>\n",
       "      <td>1214</td>\n",
       "    </tr>\n",
       "    <tr>\n",
       "      <th>4</th>\n",
       "      <td>11</td>\n",
       "      <td>34048</td>\n",
       "    </tr>\n",
       "    <tr>\n",
       "      <th>5</th>\n",
       "      <td>11</td>\n",
       "      <td>8644</td>\n",
       "    </tr>\n",
       "    <tr>\n",
       "      <th>6</th>\n",
       "      <td>11</td>\n",
       "      <td>1</td>\n",
       "    </tr>\n",
       "    <tr>\n",
       "      <th>7</th>\n",
       "      <td>11</td>\n",
       "      <td>367</td>\n",
       "    </tr>\n",
       "    <tr>\n",
       "      <th>8</th>\n",
       "      <td>11</td>\n",
       "      <td>6502</td>\n",
       "    </tr>\n",
       "    <tr>\n",
       "      <th>9</th>\n",
       "      <td>11</td>\n",
       "      <td>5349</td>\n",
       "    </tr>\n",
       "  </tbody>\n",
       "</table>\n",
       "</div>"
      ],
      "text/plain": [
       "   user   item\n",
       "0    11    780\n",
       "1    11    480\n",
       "2    11   1270\n",
       "3    11   1214\n",
       "4    11  34048\n",
       "5    11   8644\n",
       "6    11      1\n",
       "7    11    367\n",
       "8    11   6502\n",
       "9    11   5349"
      ]
     },
     "execution_count": 223,
     "metadata": {},
     "output_type": "execute_result"
    }
   ],
   "source": [
    "for uid in sorted(set(sub2.user)):\n",
    "    sub2[(sub2.user==uid) & sub2.item.isin(train[train.user==uid].item)]\n",
    "    break"
   ]
  },
  {
   "cell_type": "markdown",
   "id": "76506ae7",
   "metadata": {},
   "source": [
    "## 시간 순서 잘 지켜졌는지 확인해보기"
   ]
  },
  {
   "cell_type": "code",
   "execution_count": 146,
   "id": "3ef26d81",
   "metadata": {
    "ExecuteTime": {
     "end_time": "2022-12-21T15:20:27.027886Z",
     "start_time": "2022-12-21T15:20:26.716689Z"
    }
   },
   "outputs": [],
   "source": [
    "train.user = train.user.map(uidx2user)\n",
    "train.item = train.item.map(iidx2item)"
   ]
  },
  {
   "cell_type": "code",
   "execution_count": 150,
   "id": "fab932ec",
   "metadata": {
    "ExecuteTime": {
     "end_time": "2022-12-21T15:39:03.101594Z",
     "start_time": "2022-12-21T15:39:03.098416Z"
    }
   },
   "outputs": [],
   "source": [
    "import time\n",
    "from time import localtime"
   ]
  },
  {
   "cell_type": "code",
   "execution_count": 160,
   "id": "5a4a7f14",
   "metadata": {
    "ExecuteTime": {
     "end_time": "2022-12-21T15:59:09.403221Z",
     "start_time": "2022-12-21T15:59:09.361733Z"
    }
   },
   "outputs": [],
   "source": [
    "data_path = '../../data/train'\n",
    "year_data = pd.read_csv(os.path.join(data_path, 'years.tsv'), sep='\\t')\n",
    "writer_data = pd.read_csv(os.path.join(data_path, 'writers.tsv'), sep='\\t')\n",
    "title_data = pd.read_csv(os.path.join(data_path, 'titles.tsv'), sep='\\t')\n",
    "genre_data = pd.read_csv(os.path.join(data_path, 'genres.tsv'), sep='\\t')\n",
    "director_data = pd.read_csv(os.path.join(data_path, 'directors.tsv'), sep='\\t')"
   ]
  },
  {
   "cell_type": "markdown",
   "id": "a263311f",
   "metadata": {},
   "source": [
    "### train에 review_year, month, day, year_month 추가"
   ]
  },
  {
   "cell_type": "code",
   "execution_count": 153,
   "id": "1e85d4e3",
   "metadata": {
    "ExecuteTime": {
     "end_time": "2022-12-21T15:40:31.275714Z",
     "start_time": "2022-12-21T15:40:25.781666Z"
    }
   },
   "outputs": [],
   "source": [
    "train['review_year'] = train['time'].apply(lambda x : localtime(x).tm_year)"
   ]
  },
  {
   "cell_type": "code",
   "execution_count": 155,
   "id": "7f2e489c",
   "metadata": {
    "ExecuteTime": {
     "end_time": "2022-12-21T15:40:51.473586Z",
     "start_time": "2022-12-21T15:40:45.776149Z"
    }
   },
   "outputs": [],
   "source": [
    "train['month'] = train['time'].apply(lambda x : localtime(x).tm_mon)"
   ]
  },
  {
   "cell_type": "code",
   "execution_count": 156,
   "id": "b6d31858",
   "metadata": {
    "ExecuteTime": {
     "end_time": "2022-12-21T15:40:57.016193Z",
     "start_time": "2022-12-21T15:40:51.476743Z"
    }
   },
   "outputs": [],
   "source": [
    "train['day'] = train['time'].apply(lambda x : localtime(x).tm_mday)"
   ]
  },
  {
   "cell_type": "code",
   "execution_count": 166,
   "id": "26e44e2f",
   "metadata": {
    "ExecuteTime": {
     "end_time": "2022-12-21T16:04:34.188614Z",
     "start_time": "2022-12-21T16:04:26.152369Z"
    }
   },
   "outputs": [],
   "source": [
    "train['year_month'] = train['time'].apply(lambda x : time.strftime('%Y-%m',localtime(x)))"
   ]
  },
  {
   "cell_type": "code",
   "execution_count": 168,
   "id": "e97ef3c2",
   "metadata": {
    "ExecuteTime": {
     "end_time": "2022-12-21T16:04:52.690134Z",
     "start_time": "2022-12-21T16:04:47.387754Z"
    }
   },
   "outputs": [],
   "source": [
    "train.sort_values(['user','time'],inplace=True)"
   ]
  },
  {
   "cell_type": "code",
   "execution_count": 172,
   "id": "fde34908",
   "metadata": {
    "ExecuteTime": {
     "end_time": "2022-12-21T16:05:43.898586Z",
     "start_time": "2022-12-21T16:05:43.588994Z"
    }
   },
   "outputs": [],
   "source": [
    "user2lastyear = dict(train.groupby('user').year.max())"
   ]
  },
  {
   "cell_type": "code",
   "execution_count": 173,
   "id": "7d16d273",
   "metadata": {
    "ExecuteTime": {
     "end_time": "2022-12-21T16:05:48.642649Z",
     "start_time": "2022-12-21T16:05:44.450809Z"
    }
   },
   "outputs": [],
   "source": [
    "user2lastyearmonth = dict(train.groupby('user').year_month.max())"
   ]
  },
  {
   "cell_type": "code",
   "execution_count": 174,
   "id": "e4bd5b04",
   "metadata": {
    "ExecuteTime": {
     "end_time": "2022-12-21T16:06:07.704108Z",
     "start_time": "2022-12-21T16:06:07.545014Z"
    }
   },
   "outputs": [],
   "source": [
    "train['lastyear']=train.user.map(user2lastyear)\n",
    "train['last_yearmonth']=train.user.map(user2lastyearmonth)"
   ]
  },
  {
   "cell_type": "code",
   "execution_count": 176,
   "id": "370e8f58",
   "metadata": {
    "ExecuteTime": {
     "end_time": "2022-12-21T16:06:26.122897Z",
     "start_time": "2022-12-21T16:06:26.107413Z"
    }
   },
   "outputs": [
    {
     "data": {
      "text/html": [
       "<div>\n",
       "<style scoped>\n",
       "    .dataframe tbody tr th:only-of-type {\n",
       "        vertical-align: middle;\n",
       "    }\n",
       "\n",
       "    .dataframe tbody tr th {\n",
       "        vertical-align: top;\n",
       "    }\n",
       "\n",
       "    .dataframe thead th {\n",
       "        text-align: right;\n",
       "    }\n",
       "</style>\n",
       "<table border=\"1\" class=\"dataframe\">\n",
       "  <thead>\n",
       "    <tr style=\"text-align: right;\">\n",
       "      <th></th>\n",
       "      <th>user</th>\n",
       "      <th>item</th>\n",
       "      <th>time</th>\n",
       "      <th>year</th>\n",
       "      <th>month</th>\n",
       "      <th>day</th>\n",
       "      <th>year_month</th>\n",
       "      <th>lastyear</th>\n",
       "      <th>last_yearmonth</th>\n",
       "    </tr>\n",
       "  </thead>\n",
       "  <tbody>\n",
       "    <tr>\n",
       "      <th>0</th>\n",
       "      <td>11</td>\n",
       "      <td>4643</td>\n",
       "      <td>1230782529</td>\n",
       "      <td>2009</td>\n",
       "      <td>1</td>\n",
       "      <td>1</td>\n",
       "      <td>2009-01</td>\n",
       "      <td>2011</td>\n",
       "      <td>2011-01</td>\n",
       "    </tr>\n",
       "    <tr>\n",
       "      <th>1</th>\n",
       "      <td>11</td>\n",
       "      <td>170</td>\n",
       "      <td>1230782534</td>\n",
       "      <td>2009</td>\n",
       "      <td>1</td>\n",
       "      <td>1</td>\n",
       "      <td>2009-01</td>\n",
       "      <td>2011</td>\n",
       "      <td>2011-01</td>\n",
       "    </tr>\n",
       "    <tr>\n",
       "      <th>2</th>\n",
       "      <td>11</td>\n",
       "      <td>531</td>\n",
       "      <td>1230782539</td>\n",
       "      <td>2009</td>\n",
       "      <td>1</td>\n",
       "      <td>1</td>\n",
       "      <td>2009-01</td>\n",
       "      <td>2011</td>\n",
       "      <td>2011-01</td>\n",
       "    </tr>\n",
       "    <tr>\n",
       "      <th>3</th>\n",
       "      <td>11</td>\n",
       "      <td>616</td>\n",
       "      <td>1230782542</td>\n",
       "      <td>2009</td>\n",
       "      <td>1</td>\n",
       "      <td>1</td>\n",
       "      <td>2009-01</td>\n",
       "      <td>2011</td>\n",
       "      <td>2011-01</td>\n",
       "    </tr>\n",
       "    <tr>\n",
       "      <th>4</th>\n",
       "      <td>11</td>\n",
       "      <td>2140</td>\n",
       "      <td>1230782563</td>\n",
       "      <td>2009</td>\n",
       "      <td>1</td>\n",
       "      <td>1</td>\n",
       "      <td>2009-01</td>\n",
       "      <td>2011</td>\n",
       "      <td>2011-01</td>\n",
       "    </tr>\n",
       "    <tr>\n",
       "      <th>...</th>\n",
       "      <td>...</td>\n",
       "      <td>...</td>\n",
       "      <td>...</td>\n",
       "      <td>...</td>\n",
       "      <td>...</td>\n",
       "      <td>...</td>\n",
       "      <td>...</td>\n",
       "      <td>...</td>\n",
       "      <td>...</td>\n",
       "    </tr>\n",
       "    <tr>\n",
       "      <th>5154466</th>\n",
       "      <td>138493</td>\n",
       "      <td>44022</td>\n",
       "      <td>1260209449</td>\n",
       "      <td>2009</td>\n",
       "      <td>12</td>\n",
       "      <td>7</td>\n",
       "      <td>2009-12</td>\n",
       "      <td>2009</td>\n",
       "      <td>2009-12</td>\n",
       "    </tr>\n",
       "    <tr>\n",
       "      <th>5154467</th>\n",
       "      <td>138493</td>\n",
       "      <td>4958</td>\n",
       "      <td>1260209482</td>\n",
       "      <td>2009</td>\n",
       "      <td>12</td>\n",
       "      <td>7</td>\n",
       "      <td>2009-12</td>\n",
       "      <td>2009</td>\n",
       "      <td>2009-12</td>\n",
       "    </tr>\n",
       "    <tr>\n",
       "      <th>5154468</th>\n",
       "      <td>138493</td>\n",
       "      <td>68319</td>\n",
       "      <td>1260209720</td>\n",
       "      <td>2009</td>\n",
       "      <td>12</td>\n",
       "      <td>7</td>\n",
       "      <td>2009-12</td>\n",
       "      <td>2009</td>\n",
       "      <td>2009-12</td>\n",
       "    </tr>\n",
       "    <tr>\n",
       "      <th>5154469</th>\n",
       "      <td>138493</td>\n",
       "      <td>40819</td>\n",
       "      <td>1260209726</td>\n",
       "      <td>2009</td>\n",
       "      <td>12</td>\n",
       "      <td>7</td>\n",
       "      <td>2009-12</td>\n",
       "      <td>2009</td>\n",
       "      <td>2009-12</td>\n",
       "    </tr>\n",
       "    <tr>\n",
       "      <th>5154470</th>\n",
       "      <td>138493</td>\n",
       "      <td>27311</td>\n",
       "      <td>1260209807</td>\n",
       "      <td>2009</td>\n",
       "      <td>12</td>\n",
       "      <td>7</td>\n",
       "      <td>2009-12</td>\n",
       "      <td>2009</td>\n",
       "      <td>2009-12</td>\n",
       "    </tr>\n",
       "  </tbody>\n",
       "</table>\n",
       "<p>5154471 rows × 9 columns</p>\n",
       "</div>"
      ],
      "text/plain": [
       "           user   item        time  year  month  day year_month  lastyear  \\\n",
       "0            11   4643  1230782529  2009      1    1    2009-01      2011   \n",
       "1            11    170  1230782534  2009      1    1    2009-01      2011   \n",
       "2            11    531  1230782539  2009      1    1    2009-01      2011   \n",
       "3            11    616  1230782542  2009      1    1    2009-01      2011   \n",
       "4            11   2140  1230782563  2009      1    1    2009-01      2011   \n",
       "...         ...    ...         ...   ...    ...  ...        ...       ...   \n",
       "5154466  138493  44022  1260209449  2009     12    7    2009-12      2009   \n",
       "5154467  138493   4958  1260209482  2009     12    7    2009-12      2009   \n",
       "5154468  138493  68319  1260209720  2009     12    7    2009-12      2009   \n",
       "5154469  138493  40819  1260209726  2009     12    7    2009-12      2009   \n",
       "5154470  138493  27311  1260209807  2009     12    7    2009-12      2009   \n",
       "\n",
       "        last_yearmonth  \n",
       "0              2011-01  \n",
       "1              2011-01  \n",
       "2              2011-01  \n",
       "3              2011-01  \n",
       "4              2011-01  \n",
       "...                ...  \n",
       "5154466        2009-12  \n",
       "5154467        2009-12  \n",
       "5154468        2009-12  \n",
       "5154469        2009-12  \n",
       "5154470        2009-12  \n",
       "\n",
       "[5154471 rows x 9 columns]"
      ]
     },
     "execution_count": 176,
     "metadata": {},
     "output_type": "execute_result"
    }
   ],
   "source": [
    "train"
   ]
  },
  {
   "cell_type": "markdown",
   "id": "27c6e034",
   "metadata": {},
   "source": [
    "### year 채워넣기"
   ]
  },
  {
   "cell_type": "code",
   "execution_count": 186,
   "id": "171162e2",
   "metadata": {
    "ExecuteTime": {
     "end_time": "2022-12-21T16:13:31.878514Z",
     "start_time": "2022-12-21T16:13:31.865559Z"
    }
   },
   "outputs": [
    {
     "data": {
      "text/html": [
       "<div>\n",
       "<style scoped>\n",
       "    .dataframe tbody tr th:only-of-type {\n",
       "        vertical-align: middle;\n",
       "    }\n",
       "\n",
       "    .dataframe tbody tr th {\n",
       "        vertical-align: top;\n",
       "    }\n",
       "\n",
       "    .dataframe thead th {\n",
       "        text-align: right;\n",
       "    }\n",
       "</style>\n",
       "<table border=\"1\" class=\"dataframe\">\n",
       "  <thead>\n",
       "    <tr style=\"text-align: right;\">\n",
       "      <th></th>\n",
       "      <th>user</th>\n",
       "      <th>item</th>\n",
       "      <th>time</th>\n",
       "      <th>review_year</th>\n",
       "      <th>month</th>\n",
       "      <th>day</th>\n",
       "      <th>year_month</th>\n",
       "      <th>lastyear</th>\n",
       "      <th>last_yearmonth</th>\n",
       "      <th>title</th>\n",
       "      <th>year</th>\n",
       "    </tr>\n",
       "  </thead>\n",
       "  <tbody>\n",
       "    <tr>\n",
       "      <th>0</th>\n",
       "      <td>11</td>\n",
       "      <td>4643</td>\n",
       "      <td>1230782529</td>\n",
       "      <td>2009</td>\n",
       "      <td>1</td>\n",
       "      <td>1</td>\n",
       "      <td>2009-01</td>\n",
       "      <td>2011</td>\n",
       "      <td>2011-01</td>\n",
       "      <td>Planet of the Apes (2001)</td>\n",
       "      <td>2001.0</td>\n",
       "    </tr>\n",
       "    <tr>\n",
       "      <th>1</th>\n",
       "      <td>11</td>\n",
       "      <td>170</td>\n",
       "      <td>1230782534</td>\n",
       "      <td>2009</td>\n",
       "      <td>1</td>\n",
       "      <td>1</td>\n",
       "      <td>2009-01</td>\n",
       "      <td>2011</td>\n",
       "      <td>2011-01</td>\n",
       "      <td>Hackers (1995)</td>\n",
       "      <td>1995.0</td>\n",
       "    </tr>\n",
       "    <tr>\n",
       "      <th>2</th>\n",
       "      <td>11</td>\n",
       "      <td>531</td>\n",
       "      <td>1230782539</td>\n",
       "      <td>2009</td>\n",
       "      <td>1</td>\n",
       "      <td>1</td>\n",
       "      <td>2009-01</td>\n",
       "      <td>2011</td>\n",
       "      <td>2011-01</td>\n",
       "      <td>Secret Garden, The (1993)</td>\n",
       "      <td>1993.0</td>\n",
       "    </tr>\n",
       "    <tr>\n",
       "      <th>3</th>\n",
       "      <td>11</td>\n",
       "      <td>616</td>\n",
       "      <td>1230782542</td>\n",
       "      <td>2009</td>\n",
       "      <td>1</td>\n",
       "      <td>1</td>\n",
       "      <td>2009-01</td>\n",
       "      <td>2011</td>\n",
       "      <td>2011-01</td>\n",
       "      <td>Aristocats, The (1970)</td>\n",
       "      <td>1970.0</td>\n",
       "    </tr>\n",
       "    <tr>\n",
       "      <th>4</th>\n",
       "      <td>11</td>\n",
       "      <td>2140</td>\n",
       "      <td>1230782563</td>\n",
       "      <td>2009</td>\n",
       "      <td>1</td>\n",
       "      <td>1</td>\n",
       "      <td>2009-01</td>\n",
       "      <td>2011</td>\n",
       "      <td>2011-01</td>\n",
       "      <td>Dark Crystal, The (1982)</td>\n",
       "      <td>1982.0</td>\n",
       "    </tr>\n",
       "  </tbody>\n",
       "</table>\n",
       "</div>"
      ],
      "text/plain": [
       "   user  item        time  review_year  month  day year_month  lastyear  \\\n",
       "0    11  4643  1230782529         2009      1    1    2009-01      2011   \n",
       "1    11   170  1230782534         2009      1    1    2009-01      2011   \n",
       "2    11   531  1230782539         2009      1    1    2009-01      2011   \n",
       "3    11   616  1230782542         2009      1    1    2009-01      2011   \n",
       "4    11  2140  1230782563         2009      1    1    2009-01      2011   \n",
       "\n",
       "  last_yearmonth                      title    year  \n",
       "0        2011-01  Planet of the Apes (2001)  2001.0  \n",
       "1        2011-01             Hackers (1995)  1995.0  \n",
       "2        2011-01  Secret Garden, The (1993)  1993.0  \n",
       "3        2011-01     Aristocats, The (1970)  1970.0  \n",
       "4        2011-01   Dark Crystal, The (1982)  1982.0  "
      ]
     },
     "execution_count": 186,
     "metadata": {},
     "output_type": "execute_result"
    }
   ],
   "source": [
    "merge_df = train.copy()\n",
    "side_info = [title_data,year_data]\n",
    "for side in side_info:\n",
    "    merge_df = merge_df.merge(side,how = 'left',on='item')\n",
    "merge_df.head()"
   ]
  },
  {
   "cell_type": "code",
   "execution_count": 190,
   "id": "191d1ea7",
   "metadata": {
    "ExecuteTime": {
     "end_time": "2022-12-21T16:15:00.337846Z",
     "start_time": "2022-12-21T16:14:58.654866Z"
    }
   },
   "outputs": [],
   "source": [
    "merge_df['year_from_title'] = merge_df['title'].apply(lambda x : (x[-5:-1]))"
   ]
  },
  {
   "cell_type": "code",
   "execution_count": 191,
   "id": "382ccb15",
   "metadata": {
    "ExecuteTime": {
     "end_time": "2022-12-21T16:15:08.267235Z",
     "start_time": "2022-12-21T16:15:07.916134Z"
    }
   },
   "outputs": [],
   "source": [
    "merge_df.loc[merge_df['year_from_title']=='007-','year_from_title'] = 2007"
   ]
  },
  {
   "cell_type": "code",
   "execution_count": 194,
   "id": "4c297be5",
   "metadata": {
    "ExecuteTime": {
     "end_time": "2022-12-21T16:15:29.614558Z",
     "start_time": "2022-12-21T16:15:29.007110Z"
    }
   },
   "outputs": [],
   "source": [
    "merge_df.year_from_title=merge_df.year_from_title.astype(int)"
   ]
  },
  {
   "cell_type": "code",
   "execution_count": 196,
   "id": "b825e518",
   "metadata": {
    "ExecuteTime": {
     "end_time": "2022-12-21T16:15:52.333958Z",
     "start_time": "2022-12-21T16:15:52.317870Z"
    }
   },
   "outputs": [],
   "source": [
    "cond = merge_df.year_from_title == merge_df.year"
   ]
  },
  {
   "cell_type": "code",
   "execution_count": 217,
   "id": "9b4afdbd",
   "metadata": {
    "ExecuteTime": {
     "end_time": "2022-12-21T16:19:15.657657Z",
     "start_time": "2022-12-21T16:19:15.635197Z"
    }
   },
   "outputs": [
    {
     "data": {
      "text/plain": [
       "Fawlty Towers (1975-1979)    163\n",
       "Name: title, dtype: int64"
      ]
     },
     "execution_count": 217,
     "metadata": {},
     "output_type": "execute_result"
    }
   ],
   "source": [
    "merge_df[~cond & merge_df.year.notna()].title.value_counts()"
   ]
  },
  {
   "cell_type": "code",
   "execution_count": 221,
   "id": "2aa627c6",
   "metadata": {
    "ExecuteTime": {
     "end_time": "2022-12-21T16:19:44.286699Z",
     "start_time": "2022-12-21T16:19:44.165906Z"
    }
   },
   "outputs": [],
   "source": [
    "merge_df.year = merge_df.year.fillna(merge_df.year_from_title)"
   ]
  },
  {
   "cell_type": "code",
   "execution_count": 227,
   "id": "909ff5c4",
   "metadata": {
    "ExecuteTime": {
     "end_time": "2022-12-21T16:21:59.685339Z",
     "start_time": "2022-12-21T16:21:59.604779Z"
    }
   },
   "outputs": [],
   "source": [
    "merge_df.year = merge_df.year.astype(int)"
   ]
  },
  {
   "cell_type": "code",
   "execution_count": 246,
   "id": "4ae107aa",
   "metadata": {
    "ExecuteTime": {
     "end_time": "2022-12-21T16:25:24.129697Z",
     "start_time": "2022-12-21T16:25:24.104178Z"
    }
   },
   "outputs": [
    {
     "data": {
      "text/html": [
       "<div>\n",
       "<style scoped>\n",
       "    .dataframe tbody tr th:only-of-type {\n",
       "        vertical-align: middle;\n",
       "    }\n",
       "\n",
       "    .dataframe tbody tr th {\n",
       "        vertical-align: top;\n",
       "    }\n",
       "\n",
       "    .dataframe thead th {\n",
       "        text-align: right;\n",
       "    }\n",
       "</style>\n",
       "<table border=\"1\" class=\"dataframe\">\n",
       "  <thead>\n",
       "    <tr style=\"text-align: right;\">\n",
       "      <th></th>\n",
       "      <th>user</th>\n",
       "      <th>item</th>\n",
       "      <th>time</th>\n",
       "      <th>review_year</th>\n",
       "      <th>month</th>\n",
       "      <th>day</th>\n",
       "      <th>year_month</th>\n",
       "      <th>lastyear</th>\n",
       "      <th>last_yearmonth</th>\n",
       "      <th>title</th>\n",
       "      <th>year</th>\n",
       "      <th>year_from_title</th>\n",
       "    </tr>\n",
       "  </thead>\n",
       "  <tbody>\n",
       "    <tr>\n",
       "      <th>3064009</th>\n",
       "      <td>81663</td>\n",
       "      <td>91535</td>\n",
       "      <td>1323223207</td>\n",
       "      <td>2011</td>\n",
       "      <td>12</td>\n",
       "      <td>7</td>\n",
       "      <td>2011-12</td>\n",
       "      <td>2011</td>\n",
       "      <td>2011-12</td>\n",
       "      <td>Bourne Legacy, The (2012)</td>\n",
       "      <td>2012</td>\n",
       "      <td>2012</td>\n",
       "    </tr>\n",
       "    <tr>\n",
       "      <th>4617327</th>\n",
       "      <td>123609</td>\n",
       "      <td>89745</td>\n",
       "      <td>1316645274</td>\n",
       "      <td>2011</td>\n",
       "      <td>9</td>\n",
       "      <td>21</td>\n",
       "      <td>2011-09</td>\n",
       "      <td>2011</td>\n",
       "      <td>2011-09</td>\n",
       "      <td>Avengers, The (2012)</td>\n",
       "      <td>2012</td>\n",
       "      <td>2012</td>\n",
       "    </tr>\n",
       "  </tbody>\n",
       "</table>\n",
       "</div>"
      ],
      "text/plain": [
       "           user   item        time  review_year  month  day year_month  \\\n",
       "3064009   81663  91535  1323223207         2011     12    7    2011-12   \n",
       "4617327  123609  89745  1316645274         2011      9   21    2011-09   \n",
       "\n",
       "         lastyear last_yearmonth                      title  year  \\\n",
       "3064009      2011        2011-12  Bourne Legacy, The (2012)  2012   \n",
       "4617327      2011        2011-09       Avengers, The (2012)  2012   \n",
       "\n",
       "         year_from_title  \n",
       "3064009             2012  \n",
       "4617327             2012  "
      ]
     },
     "execution_count": 246,
     "metadata": {},
     "output_type": "execute_result"
    }
   ],
   "source": [
    "merge_df[merge_df.lastyear < merge_df.year]"
   ]
  },
  {
   "cell_type": "code",
   "execution_count": 236,
   "id": "58ec6d59",
   "metadata": {
    "ExecuteTime": {
     "end_time": "2022-12-21T16:23:03.437285Z",
     "start_time": "2022-12-21T16:23:03.039795Z"
    }
   },
   "outputs": [
    {
     "data": {
      "text/plain": [
       "6807"
      ]
     },
     "execution_count": 236,
     "metadata": {},
     "output_type": "execute_result"
    }
   ],
   "source": [
    "## item별 year이 모두 동일한지 첫번째값과 평균값이 같은 아이템들 확인 -> 모두 일치\n",
    "sum(merge_df.groupby('item').year.first() == merge_df.groupby('item').year.mean())"
   ]
  },
  {
   "cell_type": "code",
   "execution_count": 239,
   "id": "9de46561",
   "metadata": {
    "ExecuteTime": {
     "end_time": "2022-12-21T16:23:26.643743Z",
     "start_time": "2022-12-21T16:23:26.425009Z"
    }
   },
   "outputs": [],
   "source": [
    "item2year = dict(merge_df.groupby('item').year.first())"
   ]
  },
  {
   "cell_type": "markdown",
   "id": "614bfa19",
   "metadata": {},
   "source": [
    "## sub 보기"
   ]
  },
  {
   "cell_type": "code",
   "execution_count": 262,
   "id": "e9b0029e",
   "metadata": {
    "ExecuteTime": {
     "end_time": "2022-12-21T16:34:41.301630Z",
     "start_time": "2022-12-21T16:34:41.255076Z"
    }
   },
   "outputs": [],
   "source": [
    "sub.user = sub.user.map(uidx2user)\n",
    "sub.item = sub.item.map(iidx2item)"
   ]
  },
  {
   "cell_type": "code",
   "execution_count": 263,
   "id": "458091f5",
   "metadata": {
    "ExecuteTime": {
     "end_time": "2022-12-21T16:34:42.082243Z",
     "start_time": "2022-12-21T16:34:42.010828Z"
    }
   },
   "outputs": [],
   "source": [
    "sub['lastyear']=sub.user.map(user2lastyear)\n",
    "sub['last_yearmonth']=sub.user.map(user2lastyearmonth)\n",
    "sub['m_year'] = sub.item.map(item2year)"
   ]
  },
  {
   "cell_type": "code",
   "execution_count": 265,
   "id": "8381ee69",
   "metadata": {
    "ExecuteTime": {
     "end_time": "2022-12-21T16:34:42.794898Z",
     "start_time": "2022-12-21T16:34:42.784216Z"
    }
   },
   "outputs": [
    {
     "data": {
      "text/html": [
       "<div>\n",
       "<style scoped>\n",
       "    .dataframe tbody tr th:only-of-type {\n",
       "        vertical-align: middle;\n",
       "    }\n",
       "\n",
       "    .dataframe tbody tr th {\n",
       "        vertical-align: top;\n",
       "    }\n",
       "\n",
       "    .dataframe thead th {\n",
       "        text-align: right;\n",
       "    }\n",
       "</style>\n",
       "<table border=\"1\" class=\"dataframe\">\n",
       "  <thead>\n",
       "    <tr style=\"text-align: right;\">\n",
       "      <th></th>\n",
       "      <th>user</th>\n",
       "      <th>item</th>\n",
       "      <th>lastyear</th>\n",
       "      <th>last_yearmonth</th>\n",
       "      <th>m_year</th>\n",
       "    </tr>\n",
       "  </thead>\n",
       "  <tbody>\n",
       "    <tr>\n",
       "      <th>0</th>\n",
       "      <td>11</td>\n",
       "      <td>4370</td>\n",
       "      <td>2011</td>\n",
       "      <td>2011-01</td>\n",
       "      <td>2001</td>\n",
       "    </tr>\n",
       "    <tr>\n",
       "      <th>1</th>\n",
       "      <td>11</td>\n",
       "      <td>4886</td>\n",
       "      <td>2011</td>\n",
       "      <td>2011-01</td>\n",
       "      <td>2001</td>\n",
       "    </tr>\n",
       "    <tr>\n",
       "      <th>2</th>\n",
       "      <td>11</td>\n",
       "      <td>47</td>\n",
       "      <td>2011</td>\n",
       "      <td>2011-01</td>\n",
       "      <td>1995</td>\n",
       "    </tr>\n",
       "    <tr>\n",
       "      <th>3</th>\n",
       "      <td>11</td>\n",
       "      <td>32587</td>\n",
       "      <td>2011</td>\n",
       "      <td>2011-01</td>\n",
       "      <td>2005</td>\n",
       "    </tr>\n",
       "    <tr>\n",
       "      <th>4</th>\n",
       "      <td>11</td>\n",
       "      <td>40815</td>\n",
       "      <td>2011</td>\n",
       "      <td>2011-01</td>\n",
       "      <td>2005</td>\n",
       "    </tr>\n",
       "    <tr>\n",
       "      <th>...</th>\n",
       "      <td>...</td>\n",
       "      <td>...</td>\n",
       "      <td>...</td>\n",
       "      <td>...</td>\n",
       "      <td>...</td>\n",
       "    </tr>\n",
       "    <tr>\n",
       "      <th>627195</th>\n",
       "      <td>138493</td>\n",
       "      <td>4720</td>\n",
       "      <td>2009</td>\n",
       "      <td>2009-12</td>\n",
       "      <td>2001</td>\n",
       "    </tr>\n",
       "    <tr>\n",
       "      <th>627196</th>\n",
       "      <td>138493</td>\n",
       "      <td>293</td>\n",
       "      <td>2009</td>\n",
       "      <td>2009-12</td>\n",
       "      <td>1994</td>\n",
       "    </tr>\n",
       "    <tr>\n",
       "      <th>627197</th>\n",
       "      <td>138493</td>\n",
       "      <td>2174</td>\n",
       "      <td>2009</td>\n",
       "      <td>2009-12</td>\n",
       "      <td>1988</td>\n",
       "    </tr>\n",
       "    <tr>\n",
       "      <th>627198</th>\n",
       "      <td>138493</td>\n",
       "      <td>4848</td>\n",
       "      <td>2009</td>\n",
       "      <td>2009-12</td>\n",
       "      <td>2001</td>\n",
       "    </tr>\n",
       "    <tr>\n",
       "      <th>627199</th>\n",
       "      <td>138493</td>\n",
       "      <td>4963</td>\n",
       "      <td>2009</td>\n",
       "      <td>2009-12</td>\n",
       "      <td>2001</td>\n",
       "    </tr>\n",
       "  </tbody>\n",
       "</table>\n",
       "<p>627200 rows × 5 columns</p>\n",
       "</div>"
      ],
      "text/plain": [
       "          user   item  lastyear last_yearmonth  m_year\n",
       "0           11   4370      2011        2011-01    2001\n",
       "1           11   4886      2011        2011-01    2001\n",
       "2           11     47      2011        2011-01    1995\n",
       "3           11  32587      2011        2011-01    2005\n",
       "4           11  40815      2011        2011-01    2005\n",
       "...        ...    ...       ...            ...     ...\n",
       "627195  138493   4720      2009        2009-12    2001\n",
       "627196  138493    293      2009        2009-12    1994\n",
       "627197  138493   2174      2009        2009-12    1988\n",
       "627198  138493   4848      2009        2009-12    2001\n",
       "627199  138493   4963      2009        2009-12    2001\n",
       "\n",
       "[627200 rows x 5 columns]"
      ]
     },
     "execution_count": 265,
     "metadata": {},
     "output_type": "execute_result"
    }
   ],
   "source": [
    "sub"
   ]
  },
  {
   "cell_type": "code",
   "execution_count": 268,
   "id": "063f4921",
   "metadata": {
    "ExecuteTime": {
     "end_time": "2022-12-21T16:35:21.577364Z",
     "start_time": "2022-12-21T16:35:21.540878Z"
    }
   },
   "outputs": [],
   "source": [
    "sub2 = sub[sub.lastyear >= sub.m_year]"
   ]
  },
  {
   "cell_type": "code",
   "execution_count": 276,
   "id": "0a856c54",
   "metadata": {
    "ExecuteTime": {
     "end_time": "2022-12-21T16:37:51.278536Z",
     "start_time": "2022-12-21T16:37:51.222509Z"
    }
   },
   "outputs": [],
   "source": [
    "df = pd.read_csv('EASE_1_0.csv')"
   ]
  },
  {
   "cell_type": "code",
   "execution_count": 282,
   "id": "575d5324",
   "metadata": {
    "ExecuteTime": {
     "end_time": "2022-12-21T16:38:36.735473Z",
     "start_time": "2022-12-21T16:38:36.690150Z"
    }
   },
   "outputs": [],
   "source": [
    "df['item2']= sub2.groupby('user').item.head(10).reset_index(drop=True)"
   ]
  },
  {
   "cell_type": "markdown",
   "id": "ad547288",
   "metadata": {},
   "source": [
    "### 이전 제출(1594)대비 현재 제출(1595)에서 달라진 부분 보기"
   ]
  },
  {
   "cell_type": "code",
   "execution_count": 324,
   "id": "0423bfe1",
   "metadata": {
    "ExecuteTime": {
     "end_time": "2022-12-21T17:08:12.245084Z",
     "start_time": "2022-12-21T17:08:10.690484Z"
    }
   },
   "outputs": [
    {
     "name": "stderr",
     "output_type": "stream",
     "text": [
      "100%|██████████████████████████████████████████████████| 313600/313600 [00:00<00:00, 562116.84it/s]\n"
     ]
    }
   ],
   "source": [
    "## 이전 제출(1594)대비 현재 제출(1595)에서 달라진 부분 보기\n",
    "idx_list=[]\n",
    "user_item2 = dict(df.groupby('user').item2.apply(list))\n",
    "for i in tqdm(df.itertuples(), total=df.shape[0]):\n",
    "    if i.item not in user_item2[i.user]:\n",
    "        idx_list.append(i.Index)"
   ]
  },
  {
   "cell_type": "code",
   "execution_count": 329,
   "id": "b0bef36c",
   "metadata": {
    "ExecuteTime": {
     "end_time": "2022-12-21T17:09:16.372543Z",
     "start_time": "2022-12-21T17:09:16.308170Z"
    }
   },
   "outputs": [],
   "source": [
    "df['lastyear']=df.user.map(user2lastyear)\n",
    "df['last_yearmonth']=df.user.map(user2lastyearmonth)\n",
    "df['m_year'] = df.item.map(item2year)"
   ]
  },
  {
   "cell_type": "code",
   "execution_count": 330,
   "id": "70a6f63b",
   "metadata": {
    "ExecuteTime": {
     "end_time": "2022-12-21T17:09:17.092727Z",
     "start_time": "2022-12-21T17:09:17.063107Z"
    }
   },
   "outputs": [
    {
     "data": {
      "text/html": [
       "<div>\n",
       "<style scoped>\n",
       "    .dataframe tbody tr th:only-of-type {\n",
       "        vertical-align: middle;\n",
       "    }\n",
       "\n",
       "    .dataframe tbody tr th {\n",
       "        vertical-align: top;\n",
       "    }\n",
       "\n",
       "    .dataframe thead th {\n",
       "        text-align: right;\n",
       "    }\n",
       "</style>\n",
       "<table border=\"1\" class=\"dataframe\">\n",
       "  <thead>\n",
       "    <tr style=\"text-align: right;\">\n",
       "      <th></th>\n",
       "      <th>user</th>\n",
       "      <th>item</th>\n",
       "      <th>item2</th>\n",
       "      <th>lastyear</th>\n",
       "      <th>last_yearmonth</th>\n",
       "      <th>m_year</th>\n",
       "    </tr>\n",
       "  </thead>\n",
       "  <tbody>\n",
       "    <tr>\n",
       "      <th>109</th>\n",
       "      <td>61</td>\n",
       "      <td>58559</td>\n",
       "      <td>48780</td>\n",
       "      <td>2007</td>\n",
       "      <td>2007-12</td>\n",
       "      <td>2008</td>\n",
       "    </tr>\n",
       "    <tr>\n",
       "      <th>1559</th>\n",
       "      <td>664</td>\n",
       "      <td>63436</td>\n",
       "      <td>8528</td>\n",
       "      <td>2007</td>\n",
       "      <td>2007-11</td>\n",
       "      <td>2008</td>\n",
       "    </tr>\n",
       "    <tr>\n",
       "      <th>2144</th>\n",
       "      <td>915</td>\n",
       "      <td>54286</td>\n",
       "      <td>4027</td>\n",
       "      <td>2006</td>\n",
       "      <td>2006-08</td>\n",
       "      <td>2007</td>\n",
       "    </tr>\n",
       "    <tr>\n",
       "      <th>3504</th>\n",
       "      <td>1539</td>\n",
       "      <td>79132</td>\n",
       "      <td>3949</td>\n",
       "      <td>2009</td>\n",
       "      <td>2009-07</td>\n",
       "      <td>2010</td>\n",
       "    </tr>\n",
       "    <tr>\n",
       "      <th>5019</th>\n",
       "      <td>2160</td>\n",
       "      <td>58559</td>\n",
       "      <td>111</td>\n",
       "      <td>2007</td>\n",
       "      <td>2007-01</td>\n",
       "      <td>2008</td>\n",
       "    </tr>\n",
       "    <tr>\n",
       "      <th>...</th>\n",
       "      <td>...</td>\n",
       "      <td>...</td>\n",
       "      <td>...</td>\n",
       "      <td>...</td>\n",
       "      <td>...</td>\n",
       "      <td>...</td>\n",
       "    </tr>\n",
       "    <tr>\n",
       "      <th>300758</th>\n",
       "      <td>132448</td>\n",
       "      <td>69844</td>\n",
       "      <td>2542</td>\n",
       "      <td>2007</td>\n",
       "      <td>2007-10</td>\n",
       "      <td>2009</td>\n",
       "    </tr>\n",
       "    <tr>\n",
       "      <th>307115</th>\n",
       "      <td>135535</td>\n",
       "      <td>58559</td>\n",
       "      <td>318</td>\n",
       "      <td>2005</td>\n",
       "      <td>2005-12</td>\n",
       "      <td>2008</td>\n",
       "    </tr>\n",
       "    <tr>\n",
       "      <th>307702</th>\n",
       "      <td>135798</td>\n",
       "      <td>88125</td>\n",
       "      <td>6539</td>\n",
       "      <td>2010</td>\n",
       "      <td>2010-12</td>\n",
       "      <td>2011</td>\n",
       "    </tr>\n",
       "    <tr>\n",
       "      <th>311225</th>\n",
       "      <td>137460</td>\n",
       "      <td>58559</td>\n",
       "      <td>745</td>\n",
       "      <td>2007</td>\n",
       "      <td>2007-09</td>\n",
       "      <td>2008</td>\n",
       "    </tr>\n",
       "    <tr>\n",
       "      <th>312617</th>\n",
       "      <td>138094</td>\n",
       "      <td>79132</td>\n",
       "      <td>4973</td>\n",
       "      <td>2009</td>\n",
       "      <td>2009-10</td>\n",
       "      <td>2010</td>\n",
       "    </tr>\n",
       "  </tbody>\n",
       "</table>\n",
       "<p>213 rows × 6 columns</p>\n",
       "</div>"
      ],
      "text/plain": [
       "          user   item  item2  lastyear last_yearmonth  m_year\n",
       "109         61  58559  48780      2007        2007-12    2008\n",
       "1559       664  63436   8528      2007        2007-11    2008\n",
       "2144       915  54286   4027      2006        2006-08    2007\n",
       "3504      1539  79132   3949      2009        2009-07    2010\n",
       "5019      2160  58559    111      2007        2007-01    2008\n",
       "...        ...    ...    ...       ...            ...     ...\n",
       "300758  132448  69844   2542      2007        2007-10    2009\n",
       "307115  135535  58559    318      2005        2005-12    2008\n",
       "307702  135798  88125   6539      2010        2010-12    2011\n",
       "311225  137460  58559    745      2007        2007-09    2008\n",
       "312617  138094  79132   4973      2009        2009-10    2010\n",
       "\n",
       "[213 rows x 6 columns]"
      ]
     },
     "execution_count": 330,
     "metadata": {},
     "output_type": "execute_result"
    }
   ],
   "source": [
    "df.iloc[idx_list,:]"
   ]
  },
  {
   "cell_type": "markdown",
   "id": "99cb6494",
   "metadata": {},
   "source": [
    "## 최종 제출 -> 1595"
   ]
  },
  {
   "cell_type": "code",
   "execution_count": 288,
   "id": "b9e0806a",
   "metadata": {
    "ExecuteTime": {
     "end_time": "2022-12-21T16:40:18.486363Z",
     "start_time": "2022-12-21T16:40:18.058834Z"
    }
   },
   "outputs": [],
   "source": [
    "df[['user','item2']].rename(columns={'item2':'item'}).to_csv(\"EASE_1_0_Top20_remove_review_after_movie.csv\",index=False)"
   ]
  }
 ],
 "metadata": {
  "kernelspec": {
   "display_name": "Python 3 (ipykernel)",
   "language": "python",
   "name": "python3"
  },
  "language_info": {
   "codemirror_mode": {
    "name": "ipython",
    "version": 3
   },
   "file_extension": ".py",
   "mimetype": "text/x-python",
   "name": "python",
   "nbconvert_exporter": "python",
   "pygments_lexer": "ipython3",
   "version": "3.8.5"
  },
  "toc": {
   "base_numbering": 1,
   "nav_menu": {},
   "number_sections": true,
   "sideBar": true,
   "skip_h1_title": false,
   "title_cell": "Table of Contents",
   "title_sidebar": "Contents",
   "toc_cell": false,
   "toc_position": {
    "height": "764px",
    "left": "26px",
    "top": "111.141px",
    "width": "393.391px"
   },
   "toc_section_display": true,
   "toc_window_display": true
  }
 },
 "nbformat": 4,
 "nbformat_minor": 5
}

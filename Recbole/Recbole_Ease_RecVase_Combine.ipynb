{
 "cells": [
  {
   "cell_type": "code",
   "execution_count": 1,
   "id": "839dd7be",
   "metadata": {
    "ExecuteTime": {
     "end_time": "2022-12-26T18:13:18.930257Z",
     "start_time": "2022-12-26T18:13:13.148094Z"
    }
   },
   "outputs": [],
   "source": [
    "from IPython.core.interactiveshell import InteractiveShell\n",
    "InteractiveShell.ast_node_interactivity=\"all\"\n",
    "\n",
    "import os\n",
    "import json\n",
    "import argparse\n",
    "import pandas as pd\n",
    "import numpy as np\n",
    "import time, datetime\n",
    "from tqdm import tqdm\n",
    "from logging import getLogger\n",
    "import torch\n",
    "\n",
    "from recbole.model.general_recommender.ease import EASE\n",
    "from recbole.model.context_aware_recommender.ffm import FFM\n",
    "\n",
    "from recbole.config import Config\n",
    "from recbole.data import create_dataset, data_preparation, Interaction\n",
    "from recbole.utils import init_logger, get_trainer, get_model, init_seed, set_color\n",
    "\n",
    "\n",
    "SEED=13\n",
    "\n",
    "train = pd.read_csv(\"/opt/ml/input/data/train/train_ratings.csv\")\n",
    "\n",
    "user2idx = {v:k for k,v in enumerate(sorted(set(train.user)))}\n",
    "item2idx = {v:k for k,v in enumerate(sorted(set(train.item)))}\n",
    "uidx2user = {k:v for k,v in enumerate(sorted(set(train.user)))}\n",
    "iidx2item = {k:v for k,v in enumerate(sorted(set(train.item)))}"
   ]
  },
  {
   "cell_type": "code",
   "execution_count": 2,
   "id": "30959857",
   "metadata": {
    "ExecuteTime": {
     "end_time": "2022-12-26T18:15:12.453594Z",
     "start_time": "2022-12-26T18:13:41.705616Z"
    }
   },
   "outputs": [
    {
     "data": {
      "text/plain": [
       "<All keys matched successfully>"
      ]
     },
     "execution_count": 2,
     "metadata": {},
     "output_type": "execute_result"
    },
    {
     "data": {
      "text/plain": [
       "EASE()"
      ]
     },
     "execution_count": 2,
     "metadata": {},
     "output_type": "execute_result"
    },
    {
     "name": "stderr",
     "output_type": "stream",
     "text": [
      "\u001b[1;35mInference\u001b[0m: 100%|█████████████████████████████████████████████████| 245/245 [00:37<00:00,  6.53it/s]\u001b[0m\n"
     ]
    },
    {
     "name": "stdout",
     "output_type": "stream",
     "text": [
      "inference done!\n"
     ]
    }
   ],
   "source": [
    "model_path='saved/EASE-Dec-21-2022_15-02-10.pth'\n",
    "# rank K 설정\n",
    "K = 20\n",
    "\n",
    "# config, model, dataset 불러오기\n",
    "checkpoint = torch.load(model_path)\n",
    "config = checkpoint['config']\n",
    "config['dataset'] = 'train_data'\n",
    "\n",
    "dataset = create_dataset(config)\n",
    "train_data, valid_data, test_data = data_preparation(config, dataset)\n",
    "\n",
    "model = get_model(config['model'])(config, test_data.dataset).to(config['device'])\n",
    "model.load_state_dict(checkpoint['state_dict'])\n",
    "model.load_other_parameter(checkpoint.get('other_parameter'))\n",
    "\n",
    "# device 설정\n",
    "device = config.final_config_dict['device']\n",
    "\n",
    "# user, item id -> token 변환 array\n",
    "user_id = config['USER_ID_FIELD']\n",
    "item_id = config['ITEM_ID_FIELD']\n",
    "user_id2token = dataset.field2id_token[user_id]\n",
    "item_id2token = dataset.field2id_token[item_id]\n",
    "\n",
    "# user id list\n",
    "all_user_list = torch.arange(1, len(user_id2token)).view(-1,128) # 245, 128\n",
    "\n",
    "# user, item 길이\n",
    "user_len = len(user_id2token) # 31361 (PAD 포함)\n",
    "item_len = len(item_id2token) # 6808 (PAD 포함)\n",
    "\n",
    "# user-item sparse matrix\n",
    "matrix = dataset.inter_matrix(form='csr') # (31361, 6808)\n",
    "\n",
    "# user id, predict item id 저장 변수\n",
    "pred_list = None\n",
    "user_list = None\n",
    "\n",
    "# model 평가모드 전환\n",
    "model.eval()\n",
    "\n",
    "# progress bar 설정\n",
    "tbar = tqdm(all_user_list, desc=set_color(f\"Inference\", 'pink')) # 245, 128\n",
    "\n",
    "for data in tbar: # data: 128, \n",
    "    # interaction 생성\n",
    "    interaction = dict()\n",
    "    interaction = Interaction(interaction)\n",
    "    interaction[user_id] = data\n",
    "    interaction = interaction.to(device)\n",
    "\n",
    "    # user item별 score 예측\n",
    "    score = model.full_sort_predict(interaction) # [1, 871424]\n",
    "    score = score.view(-1, item_len) # 128, 6808\n",
    "\n",
    "    rating_pred = score.cpu().data.numpy().copy() # 128, 6808\n",
    "\n",
    "    user_index = data.numpy() # 128,\n",
    "\n",
    "    # idx에는 128명의 영화상호작용이 True, False로 있다.\n",
    "    idx = matrix[user_index].toarray() > 0 # idx shape: 128, 6808\n",
    "\n",
    "    rating_pred[idx] = -np.inf # idx에서 True부분이 -inf로 변경\n",
    "    rating_pred[:, 0] = -np.inf # 첫번째 PAD 열도 -inf로 변경\n",
    "    \n",
    "    # np.argpartition(배열, -K) : 배열에서 순서 상관없이 큰 값 K개를 뽑아 오른쪽에 놓겠다 -> 인덱스반환\n",
    "    # rating_pred에서 각 행마다 K개의 score가 큰 인덱스를 오른쪽에 두고, 그 K개만 가져오기\n",
    "    ind = np.argpartition(rating_pred, -K)[:, -K:] # rating_pred: (128, 6808) -> ind: (128, 20)\n",
    "\n",
    "    user_row_index = np.arange(len(rating_pred)).reshape(-1,1) # [[0],[1],...,[127]]\n",
    "    arr_ind = rating_pred[user_row_index, ind] # 128, 6808 -> 128, 20\n",
    "\n",
    "    # arr_ind 내부에서 행별로, 내림차순 정렬해서 index 나오도록\n",
    "    arr_ind_argsort = np.argsort(arr_ind)[np.arange(len(rating_pred)), ::-1]\n",
    "\n",
    "    # ind는 item의 real index를 갖는 128,20 -> arr_ind_argsort를 통해 pred가 높은 상위 20개 read index 추출\n",
    "    batch_pred_list = ind[user_row_index, arr_ind_argsort] # 128,20 -> 128,20\n",
    "\n",
    "    if pred_list is None: # 처음에는 직접 정의\n",
    "        pred_list = batch_pred_list\n",
    "        user_list = user_index\n",
    "    else: # pred_list가 있을 때는, append\n",
    "        pred_list = np.append(pred_list, batch_pred_list, axis=0)\n",
    "        user_list = np.append(\n",
    "            user_list, user_index, axis=0\n",
    "        )\n",
    "\n",
    "result = []\n",
    "for user, pred in zip(user_list, pred_list):\n",
    "    for item in pred:\n",
    "        result.append((int(user_id2token[user]), int(item_id2token[item])))\n",
    "\n",
    "# 데이터 저장\n",
    "sub = pd.DataFrame(result, columns=[\"user\", \"item\"])\n",
    "print('inference done!')"
   ]
  },
  {
   "cell_type": "code",
   "execution_count": 63,
   "id": "1312e353",
   "metadata": {
    "ExecuteTime": {
     "end_time": "2022-12-26T18:33:21.670766Z",
     "start_time": "2022-12-26T18:33:21.665365Z"
    }
   },
   "outputs": [],
   "source": [
    "sub2 = sub.copy()"
   ]
  },
  {
   "cell_type": "code",
   "execution_count": 64,
   "id": "f8efb3fa",
   "metadata": {
    "ExecuteTime": {
     "end_time": "2022-12-26T18:33:21.971584Z",
     "start_time": "2022-12-26T18:33:21.935594Z"
    }
   },
   "outputs": [],
   "source": [
    "sub2['rating'] = sub2.groupby('user').item.cumcount()"
   ]
  },
  {
   "cell_type": "code",
   "execution_count": 65,
   "id": "9b84b18d",
   "metadata": {
    "ExecuteTime": {
     "end_time": "2022-12-26T18:33:22.506756Z",
     "start_time": "2022-12-26T18:33:22.241595Z"
    }
   },
   "outputs": [],
   "source": [
    "recvae = pd.read_csv('Recvae_963.csv')\n",
    "\n",
    "recvae['rating']=1\n",
    "\n",
    "common = sub.merge(recvae,on=['user','item'])"
   ]
  },
  {
   "cell_type": "markdown",
   "id": "78b0c124",
   "metadata": {},
   "source": [
    "## 기존 ease_recvase_combine.csv W=10\n",
    "## ease_recvase_combine_5.csv는 W=5"
   ]
  },
  {
   "cell_type": "code",
   "execution_count": 66,
   "id": "1051235a",
   "metadata": {
    "ExecuteTime": {
     "end_time": "2022-12-26T18:33:23.758859Z",
     "start_time": "2022-12-26T18:33:22.712438Z"
    }
   },
   "outputs": [
    {
     "name": "stderr",
     "output_type": "stream",
     "text": [
      "100%|███████████████████████████████████████████████████████████| 414/414 [00:01<00:00, 398.15it/s]\n"
     ]
    }
   ],
   "source": [
    "W=5\n",
    "for i in tqdm(common.itertuples(), total=common.shape[0]):\n",
    "    sub2.loc[(sub2.user==i.user) & (sub2.item==i.item),'rating']-=W"
   ]
  },
  {
   "cell_type": "code",
   "execution_count": 67,
   "id": "f4de6375",
   "metadata": {
    "ExecuteTime": {
     "end_time": "2022-12-26T18:33:23.765505Z",
     "start_time": "2022-12-26T18:33:23.761551Z"
    }
   },
   "outputs": [
    {
     "data": {
      "text/plain": [
       "(31297, 2762)"
      ]
     },
     "execution_count": 67,
     "metadata": {},
     "output_type": "execute_result"
    }
   ],
   "source": [
    "i.user, i.item"
   ]
  },
  {
   "cell_type": "code",
   "execution_count": 68,
   "id": "2a90d2f9",
   "metadata": {
    "ExecuteTime": {
     "end_time": "2022-12-26T18:33:24.418536Z",
     "start_time": "2022-12-26T18:33:24.240893Z"
    }
   },
   "outputs": [],
   "source": [
    "sub_last = sub2.sort_values(['user','rating'], ascending=True).groupby('user').head(10)"
   ]
  },
  {
   "cell_type": "code",
   "execution_count": 69,
   "id": "17a50fe6",
   "metadata": {
    "ExecuteTime": {
     "end_time": "2022-12-26T18:33:25.010721Z",
     "start_time": "2022-12-26T18:33:25.002771Z"
    }
   },
   "outputs": [
    {
     "data": {
      "text/plain": [
       " 1    31368\n",
       " 8    31366\n",
       " 5    31365\n",
       " 4    31363\n",
       " 0    31360\n",
       " 7    31355\n",
       " 6    31351\n",
       " 3    31350\n",
       " 2    31345\n",
       " 9    31254\n",
       "-3       32\n",
       "-2       26\n",
       "-1       23\n",
       "-5       21\n",
       "-4       21\n",
       "Name: rating, dtype: int64"
      ]
     },
     "execution_count": 69,
     "metadata": {},
     "output_type": "execute_result"
    }
   ],
   "source": [
    "sub_last.rating.value_counts()"
   ]
  },
  {
   "cell_type": "code",
   "execution_count": 72,
   "id": "93500b92",
   "metadata": {
    "ExecuteTime": {
     "end_time": "2022-12-26T18:34:07.522663Z",
     "start_time": "2022-12-26T18:34:07.513040Z"
    }
   },
   "outputs": [
    {
     "data": {
      "text/html": [
       "<div>\n",
       "<style scoped>\n",
       "    .dataframe tbody tr th:only-of-type {\n",
       "        vertical-align: middle;\n",
       "    }\n",
       "\n",
       "    .dataframe tbody tr th {\n",
       "        vertical-align: top;\n",
       "    }\n",
       "\n",
       "    .dataframe thead th {\n",
       "        text-align: right;\n",
       "    }\n",
       "</style>\n",
       "<table border=\"1\" class=\"dataframe\">\n",
       "  <thead>\n",
       "    <tr style=\"text-align: right;\">\n",
       "      <th></th>\n",
       "      <th>user</th>\n",
       "      <th>item</th>\n",
       "      <th>rating</th>\n",
       "    </tr>\n",
       "  </thead>\n",
       "  <tbody>\n",
       "    <tr>\n",
       "      <th>5082</th>\n",
       "      <td>254</td>\n",
       "      <td>356</td>\n",
       "      <td>-3</td>\n",
       "    </tr>\n",
       "    <tr>\n",
       "      <th>5883</th>\n",
       "      <td>294</td>\n",
       "      <td>1580</td>\n",
       "      <td>-2</td>\n",
       "    </tr>\n",
       "    <tr>\n",
       "      <th>16543</th>\n",
       "      <td>827</td>\n",
       "      <td>356</td>\n",
       "      <td>-2</td>\n",
       "    </tr>\n",
       "    <tr>\n",
       "      <th>23083</th>\n",
       "      <td>1154</td>\n",
       "      <td>356</td>\n",
       "      <td>-2</td>\n",
       "    </tr>\n",
       "    <tr>\n",
       "      <th>33144</th>\n",
       "      <td>1657</td>\n",
       "      <td>593</td>\n",
       "      <td>-1</td>\n",
       "    </tr>\n",
       "    <tr>\n",
       "      <th>...</th>\n",
       "      <td>...</td>\n",
       "      <td>...</td>\n",
       "      <td>...</td>\n",
       "    </tr>\n",
       "    <tr>\n",
       "      <th>593724</th>\n",
       "      <td>29686</td>\n",
       "      <td>920</td>\n",
       "      <td>-1</td>\n",
       "    </tr>\n",
       "    <tr>\n",
       "      <th>597781</th>\n",
       "      <td>29889</td>\n",
       "      <td>356</td>\n",
       "      <td>-4</td>\n",
       "    </tr>\n",
       "    <tr>\n",
       "      <th>600982</th>\n",
       "      <td>30049</td>\n",
       "      <td>356</td>\n",
       "      <td>-3</td>\n",
       "    </tr>\n",
       "    <tr>\n",
       "      <th>611340</th>\n",
       "      <td>30567</td>\n",
       "      <td>1580</td>\n",
       "      <td>-5</td>\n",
       "    </tr>\n",
       "    <tr>\n",
       "      <th>625244</th>\n",
       "      <td>31262</td>\n",
       "      <td>593</td>\n",
       "      <td>-1</td>\n",
       "    </tr>\n",
       "  </tbody>\n",
       "</table>\n",
       "<p>123 rows × 3 columns</p>\n",
       "</div>"
      ],
      "text/plain": [
       "         user  item  rating\n",
       "5082      254   356      -3\n",
       "5883      294  1580      -2\n",
       "16543     827   356      -2\n",
       "23083    1154   356      -2\n",
       "33144    1657   593      -1\n",
       "...       ...   ...     ...\n",
       "593724  29686   920      -1\n",
       "597781  29889   356      -4\n",
       "600982  30049   356      -3\n",
       "611340  30567  1580      -5\n",
       "625244  31262   593      -1\n",
       "\n",
       "[123 rows x 3 columns]"
      ]
     },
     "execution_count": 72,
     "metadata": {},
     "output_type": "execute_result"
    }
   ],
   "source": [
    "sub_last[sub_last.rating<0]"
   ]
  },
  {
   "cell_type": "code",
   "execution_count": 71,
   "id": "da6a9226",
   "metadata": {
    "ExecuteTime": {
     "end_time": "2022-12-26T18:33:40.288223Z",
     "start_time": "2022-12-26T18:33:40.280174Z"
    }
   },
   "outputs": [
    {
     "data": {
      "text/html": [
       "<div>\n",
       "<style scoped>\n",
       "    .dataframe tbody tr th:only-of-type {\n",
       "        vertical-align: middle;\n",
       "    }\n",
       "\n",
       "    .dataframe tbody tr th {\n",
       "        vertical-align: top;\n",
       "    }\n",
       "\n",
       "    .dataframe thead th {\n",
       "        text-align: right;\n",
       "    }\n",
       "</style>\n",
       "<table border=\"1\" class=\"dataframe\">\n",
       "  <thead>\n",
       "    <tr style=\"text-align: right;\">\n",
       "      <th></th>\n",
       "      <th>user</th>\n",
       "      <th>item</th>\n",
       "      <th>rating</th>\n",
       "    </tr>\n",
       "  </thead>\n",
       "  <tbody>\n",
       "    <tr>\n",
       "      <th>2940</th>\n",
       "      <td>147</td>\n",
       "      <td>3038</td>\n",
       "      <td>0</td>\n",
       "    </tr>\n",
       "    <tr>\n",
       "      <th>2945</th>\n",
       "      <td>147</td>\n",
       "      <td>356</td>\n",
       "      <td>0</td>\n",
       "    </tr>\n",
       "    <tr>\n",
       "      <th>2941</th>\n",
       "      <td>147</td>\n",
       "      <td>1435</td>\n",
       "      <td>1</td>\n",
       "    </tr>\n",
       "    <tr>\n",
       "      <th>2942</th>\n",
       "      <td>147</td>\n",
       "      <td>659</td>\n",
       "      <td>2</td>\n",
       "    </tr>\n",
       "    <tr>\n",
       "      <th>2943</th>\n",
       "      <td>147</td>\n",
       "      <td>179</td>\n",
       "      <td>3</td>\n",
       "    </tr>\n",
       "    <tr>\n",
       "      <th>2944</th>\n",
       "      <td>147</td>\n",
       "      <td>43</td>\n",
       "      <td>4</td>\n",
       "    </tr>\n",
       "    <tr>\n",
       "      <th>2946</th>\n",
       "      <td>147</td>\n",
       "      <td>1580</td>\n",
       "      <td>6</td>\n",
       "    </tr>\n",
       "    <tr>\n",
       "      <th>2947</th>\n",
       "      <td>147</td>\n",
       "      <td>317</td>\n",
       "      <td>7</td>\n",
       "    </tr>\n",
       "    <tr>\n",
       "      <th>2948</th>\n",
       "      <td>147</td>\n",
       "      <td>644</td>\n",
       "      <td>8</td>\n",
       "    </tr>\n",
       "    <tr>\n",
       "      <th>2949</th>\n",
       "      <td>147</td>\n",
       "      <td>5042</td>\n",
       "      <td>9</td>\n",
       "    </tr>\n",
       "  </tbody>\n",
       "</table>\n",
       "</div>"
      ],
      "text/plain": [
       "      user  item  rating\n",
       "2940   147  3038       0\n",
       "2945   147   356       0\n",
       "2941   147  1435       1\n",
       "2942   147   659       2\n",
       "2943   147   179       3\n",
       "2944   147    43       4\n",
       "2946   147  1580       6\n",
       "2947   147   317       7\n",
       "2948   147   644       8\n",
       "2949   147  5042       9"
      ]
     },
     "execution_count": 71,
     "metadata": {},
     "output_type": "execute_result"
    }
   ],
   "source": [
    "sub_last[sub_last.user==147]"
   ]
  },
  {
   "cell_type": "code",
   "execution_count": 73,
   "id": "f392504f",
   "metadata": {
    "ExecuteTime": {
     "end_time": "2022-12-26T18:34:11.092625Z",
     "start_time": "2022-12-26T18:34:11.087998Z"
    }
   },
   "outputs": [],
   "source": [
    "sub_last.drop('rating',axis=1,inplace=True)"
   ]
  },
  {
   "cell_type": "code",
   "execution_count": 74,
   "id": "a2cdbc7d",
   "metadata": {
    "ExecuteTime": {
     "end_time": "2022-12-26T18:34:12.062176Z",
     "start_time": "2022-12-26T18:34:12.054020Z"
    }
   },
   "outputs": [
    {
     "data": {
      "text/html": [
       "<div>\n",
       "<style scoped>\n",
       "    .dataframe tbody tr th:only-of-type {\n",
       "        vertical-align: middle;\n",
       "    }\n",
       "\n",
       "    .dataframe tbody tr th {\n",
       "        vertical-align: top;\n",
       "    }\n",
       "\n",
       "    .dataframe thead th {\n",
       "        text-align: right;\n",
       "    }\n",
       "</style>\n",
       "<table border=\"1\" class=\"dataframe\">\n",
       "  <thead>\n",
       "    <tr style=\"text-align: right;\">\n",
       "      <th></th>\n",
       "      <th>user</th>\n",
       "      <th>item</th>\n",
       "    </tr>\n",
       "  </thead>\n",
       "  <tbody>\n",
       "    <tr>\n",
       "      <th>0</th>\n",
       "      <td>0</td>\n",
       "      <td>2381</td>\n",
       "    </tr>\n",
       "    <tr>\n",
       "      <th>1</th>\n",
       "      <td>0</td>\n",
       "      <td>2619</td>\n",
       "    </tr>\n",
       "    <tr>\n",
       "      <th>2</th>\n",
       "      <td>0</td>\n",
       "      <td>41</td>\n",
       "    </tr>\n",
       "    <tr>\n",
       "      <th>3</th>\n",
       "      <td>0</td>\n",
       "      <td>4581</td>\n",
       "    </tr>\n",
       "    <tr>\n",
       "      <th>4</th>\n",
       "      <td>0</td>\n",
       "      <td>4790</td>\n",
       "    </tr>\n",
       "    <tr>\n",
       "      <th>...</th>\n",
       "      <td>...</td>\n",
       "      <td>...</td>\n",
       "    </tr>\n",
       "    <tr>\n",
       "      <th>627185</th>\n",
       "      <td>31359</td>\n",
       "      <td>4101</td>\n",
       "    </tr>\n",
       "    <tr>\n",
       "      <th>627186</th>\n",
       "      <td>31359</td>\n",
       "      <td>2812</td>\n",
       "    </tr>\n",
       "    <tr>\n",
       "      <th>627187</th>\n",
       "      <td>31359</td>\n",
       "      <td>2208</td>\n",
       "    </tr>\n",
       "    <tr>\n",
       "      <th>627188</th>\n",
       "      <td>31359</td>\n",
       "      <td>4581</td>\n",
       "    </tr>\n",
       "    <tr>\n",
       "      <th>627189</th>\n",
       "      <td>31359</td>\n",
       "      <td>5233</td>\n",
       "    </tr>\n",
       "  </tbody>\n",
       "</table>\n",
       "<p>313600 rows × 2 columns</p>\n",
       "</div>"
      ],
      "text/plain": [
       "         user  item\n",
       "0           0  2381\n",
       "1           0  2619\n",
       "2           0    41\n",
       "3           0  4581\n",
       "4           0  4790\n",
       "...       ...   ...\n",
       "627185  31359  4101\n",
       "627186  31359  2812\n",
       "627187  31359  2208\n",
       "627188  31359  4581\n",
       "627189  31359  5233\n",
       "\n",
       "[313600 rows x 2 columns]"
      ]
     },
     "execution_count": 74,
     "metadata": {},
     "output_type": "execute_result"
    }
   ],
   "source": [
    "sub_last"
   ]
  },
  {
   "cell_type": "code",
   "execution_count": 75,
   "id": "0e3b486d",
   "metadata": {
    "ExecuteTime": {
     "end_time": "2022-12-26T18:34:13.282259Z",
     "start_time": "2022-12-26T18:34:13.248434Z"
    }
   },
   "outputs": [],
   "source": [
    "sub_last.user = sub_last.user.map(uidx2user)\n",
    "sub_last.item = sub_last.item.map(iidx2item)"
   ]
  },
  {
   "cell_type": "code",
   "execution_count": 76,
   "id": "50228a9f",
   "metadata": {
    "ExecuteTime": {
     "end_time": "2022-12-26T18:34:21.510024Z",
     "start_time": "2022-12-26T18:34:21.055574Z"
    }
   },
   "outputs": [],
   "source": [
    "sub_last.to_csv('ease_recvase_combine_5.csv',index=False)"
   ]
  }
 ],
 "metadata": {
  "kernelspec": {
   "display_name": "Python 3 (ipykernel)",
   "language": "python",
   "name": "python3"
  },
  "language_info": {
   "codemirror_mode": {
    "name": "ipython",
    "version": 3
   },
   "file_extension": ".py",
   "mimetype": "text/x-python",
   "name": "python",
   "nbconvert_exporter": "python",
   "pygments_lexer": "ipython3",
   "version": "3.8.5"
  },
  "toc": {
   "base_numbering": 1,
   "nav_menu": {},
   "number_sections": true,
   "sideBar": true,
   "skip_h1_title": false,
   "title_cell": "Table of Contents",
   "title_sidebar": "Contents",
   "toc_cell": false,
   "toc_position": {},
   "toc_section_display": true,
   "toc_window_display": false
  }
 },
 "nbformat": 4,
 "nbformat_minor": 5
}

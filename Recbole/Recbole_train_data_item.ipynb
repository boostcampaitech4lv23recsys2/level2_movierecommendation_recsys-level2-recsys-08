{
 "cells": [
  {
   "cell_type": "code",
   "execution_count": 1,
   "id": "41d168bf",
   "metadata": {
    "ExecuteTime": {
     "end_time": "2022-12-23T06:35:03.329005Z",
     "start_time": "2022-12-23T06:35:01.716755Z"
    }
   },
   "outputs": [],
   "source": [
    "from IPython.core.interactiveshell import InteractiveShell\n",
    "InteractiveShell.ast_node_interactivity=\"all\"\n",
    "\n",
    "import os\n",
    "import json\n",
    "import argparse\n",
    "import pandas as pd\n",
    "import numpy as np\n",
    "import time, datetime\n",
    "from tqdm import tqdm\n",
    "from logging import getLogger\n",
    "import torch\n",
    "\n",
    "from recbole.model.general_recommender.ease import EASE\n",
    "from recbole.model.context_aware_recommender.ffm import FFM\n",
    "\n",
    "from recbole.config import Config\n",
    "from recbole.data import create_dataset, data_preparation, Interaction\n",
    "from recbole.utils import init_logger, get_trainer, get_model, init_seed, set_color\n",
    "\n",
    "\n",
    "SEED=13"
   ]
  },
  {
   "cell_type": "code",
   "execution_count": 41,
   "id": "b584e211",
   "metadata": {
    "ExecuteTime": {
     "end_time": "2022-12-25T05:31:49.293647Z",
     "start_time": "2022-12-25T05:31:47.901863Z"
    }
   },
   "outputs": [],
   "source": [
    "train = pd.read_csv(\"/opt/ml/input/data/train/train_ratings.csv\")\n",
    "\n",
    "user2idx = {v:k for k,v in enumerate(sorted(set(train.user)))}\n",
    "item2idx = {v:k for k,v in enumerate(sorted(set(train.item)))}\n",
    "uidx2user = {k:v for k,v in enumerate(sorted(set(train.user)))}\n",
    "iidx2item = {k:v for k,v in enumerate(sorted(set(train.item)))}"
   ]
  },
  {
   "cell_type": "markdown",
   "id": "98f7023a",
   "metadata": {},
   "source": [
    "## create train_data.item"
   ]
  },
  {
   "cell_type": "code",
   "execution_count": null,
   "id": "0bceb024",
   "metadata": {
    "ExecuteTime": {
     "end_time": "2022-12-25T05:31:58.569583Z",
     "start_time": "2022-12-25T05:31:58.103693Z"
    }
   },
   "outputs": [],
   "source": [
    "data_path = '../../data/train'\n",
    "year_data = pd.read_csv(os.path.join(data_path, 'years.tsv'), sep='\\t')\n",
    "title_data = pd.read_csv(os.path.join(data_path, 'titles.tsv'), sep='\\t')\n",
    "genre_data = pd.read_csv(os.path.join(data_path, 'genres.tsv'), sep='\\t')\n",
    "\n",
    "## genre\n",
    "# genre 공백구분자 딕셔너리\n",
    "genre_dict = dict(genre_data.groupby('item').genre.apply(lambda x: \" \".join(list(x))))\n",
    "title_data['genre'] = title_data.item.map(genre_dict) # 딕셔너리 적용\n",
    "\n",
    "## year\n",
    "title_data = title_data.merge(year_data, on='item', how='left')\n",
    "# year에서 NaN값만, title의 year 데이터에서 채우기\n",
    "title_data.year = title_data.year.fillna(title_data.title.map(lambda x: x[-5:-1])).astype(int)\n",
    "\n",
    "## title\n",
    "# title에서 \"(년도)\" 정보 제거\n",
    "title_data.title = title_data.title.str.replace(r\"(\\(\\d+-*\\d*\\))\",\"\").str.strip()\n",
    "\n",
    "writer_data = pd.read_csv(os.path.join(data_path, 'writers.tsv'), sep='\\t')\n",
    "writer_dict = dict(writer_data.groupby('item').writer.apply(lambda x: \" \".join(list(x)))\n",
    "title_data['writer'] = title_data.item.map(writer_dict)\n",
    "\n",
    "director_data = pd.read_csv(os.path.join(data_path, 'directors.tsv'), sep='\\t')\n",
    "director_dict = dict(director_data.groupby('item').director.apply(lambda x: \" \".join(list(x))))\n",
    "title_data['director'] = title_data.item.map(director_dict)"
   ]
  },
  {
   "cell_type": "code",
   "execution_count": 65,
   "id": "97210477",
   "metadata": {
    "ExecuteTime": {
     "end_time": "2022-12-25T05:47:08.232316Z",
     "start_time": "2022-12-25T05:47:08.223735Z"
    }
   },
   "outputs": [],
   "source": [
    "title_data.item = title_data.item.map(item2idx)"
   ]
  },
  {
   "cell_type": "code",
   "execution_count": 71,
   "id": "5935289d",
   "metadata": {
    "ExecuteTime": {
     "end_time": "2022-12-25T06:06:36.058000Z",
     "start_time": "2022-12-25T06:06:36.054392Z"
    }
   },
   "outputs": [],
   "source": [
    "cols=['item_id:token', 'title:token_seq', 'genre:token_seq', 'year:token', 'writer:token_seq', 'director:token_seq']"
   ]
  },
  {
   "cell_type": "code",
   "execution_count": 72,
   "id": "063868e2",
   "metadata": {
    "ExecuteTime": {
     "end_time": "2022-12-25T06:06:36.576943Z",
     "start_time": "2022-12-25T06:06:36.573824Z"
    }
   },
   "outputs": [],
   "source": [
    "title_data.columns = cols"
   ]
  },
  {
   "cell_type": "code",
   "execution_count": 73,
   "id": "e12e6198",
   "metadata": {
    "ExecuteTime": {
     "end_time": "2022-12-25T06:06:40.256948Z",
     "start_time": "2022-12-25T06:06:40.222186Z"
    }
   },
   "outputs": [],
   "source": [
    "title_data.to_csv(\"dataset/train_data.item\",sep='\\t',index=False)"
   ]
  },
  {
   "cell_type": "code",
   "execution_count": 74,
   "id": "c77a95ed",
   "metadata": {
    "ExecuteTime": {
     "end_time": "2022-12-25T06:06:40.670287Z",
     "start_time": "2022-12-25T06:06:40.657789Z"
    }
   },
   "outputs": [
    {
     "data": {
      "text/html": [
       "<div>\n",
       "<style scoped>\n",
       "    .dataframe tbody tr th:only-of-type {\n",
       "        vertical-align: middle;\n",
       "    }\n",
       "\n",
       "    .dataframe tbody tr th {\n",
       "        vertical-align: top;\n",
       "    }\n",
       "\n",
       "    .dataframe thead th {\n",
       "        text-align: right;\n",
       "    }\n",
       "</style>\n",
       "<table border=\"1\" class=\"dataframe\">\n",
       "  <thead>\n",
       "    <tr style=\"text-align: right;\">\n",
       "      <th></th>\n",
       "      <th>item_id:token</th>\n",
       "      <th>title:token_seq</th>\n",
       "      <th>genre:token_seq</th>\n",
       "      <th>year:token</th>\n",
       "      <th>writer:token_seq</th>\n",
       "      <th>director:token_seq</th>\n",
       "    </tr>\n",
       "  </thead>\n",
       "  <tbody>\n",
       "    <tr>\n",
       "      <th>0</th>\n",
       "      <td>193</td>\n",
       "      <td>Shawshank Redemption, The</td>\n",
       "      <td>Crime Drama</td>\n",
       "      <td>1994</td>\n",
       "      <td>nm0000175 nm0001104</td>\n",
       "      <td>nm0001104</td>\n",
       "    </tr>\n",
       "    <tr>\n",
       "      <th>1</th>\n",
       "      <td>1435</td>\n",
       "      <td>Matrix, The</td>\n",
       "      <td>Action Sci-Fi Thriller</td>\n",
       "      <td>1999</td>\n",
       "      <td>nm0905152 nm0905154</td>\n",
       "      <td>nm0905152 nm0905154</td>\n",
       "    </tr>\n",
       "    <tr>\n",
       "      <th>2</th>\n",
       "      <td>1642</td>\n",
       "      <td>Fight Club</td>\n",
       "      <td>Action Crime Drama Thriller</td>\n",
       "      <td>1999</td>\n",
       "      <td>nm0657333 nm0880243</td>\n",
       "      <td>nm0000399</td>\n",
       "    </tr>\n",
       "    <tr>\n",
       "      <th>3</th>\n",
       "      <td>179</td>\n",
       "      <td>Pulp Fiction</td>\n",
       "      <td>Comedy Crime Drama Thriller</td>\n",
       "      <td>1994</td>\n",
       "      <td>nm0000233 nm0000812</td>\n",
       "      <td>nm0000233</td>\n",
       "    </tr>\n",
       "    <tr>\n",
       "      <th>4</th>\n",
       "      <td>220</td>\n",
       "      <td>Forrest Gump</td>\n",
       "      <td>Comedy Drama Romance War</td>\n",
       "      <td>1994</td>\n",
       "      <td>nm0744839</td>\n",
       "      <td>nm0000709</td>\n",
       "    </tr>\n",
       "    <tr>\n",
       "      <th>...</th>\n",
       "      <td>...</td>\n",
       "      <td>...</td>\n",
       "      <td>...</td>\n",
       "      <td>...</td>\n",
       "      <td>...</td>\n",
       "      <td>...</td>\n",
       "    </tr>\n",
       "    <tr>\n",
       "      <th>6802</th>\n",
       "      <td>5943</td>\n",
       "      <td>American Pie Presents: The Book of Love (Ameri...</td>\n",
       "      <td>Comedy</td>\n",
       "      <td>2009</td>\n",
       "      <td>nm0381221 nm0825738</td>\n",
       "      <td>nm0003289</td>\n",
       "    </tr>\n",
       "    <tr>\n",
       "      <th>6803</th>\n",
       "      <td>6734</td>\n",
       "      <td>Need for Speed</td>\n",
       "      <td>Action Crime Drama</td>\n",
       "      <td>2014</td>\n",
       "      <td>nm0309691</td>\n",
       "      <td>nm0915304</td>\n",
       "    </tr>\n",
       "    <tr>\n",
       "      <th>6804</th>\n",
       "      <td>3979</td>\n",
       "      <td>Taxi 3</td>\n",
       "      <td>Action Comedy</td>\n",
       "      <td>2003</td>\n",
       "      <td>nm0000108</td>\n",
       "      <td>nm0470443</td>\n",
       "    </tr>\n",
       "    <tr>\n",
       "      <th>6805</th>\n",
       "      <td>2027</td>\n",
       "      <td>Porky's II: The Next Day</td>\n",
       "      <td>Comedy</td>\n",
       "      <td>1983</td>\n",
       "      <td>nm0163706 nm0650276</td>\n",
       "      <td>nm0163706</td>\n",
       "    </tr>\n",
       "    <tr>\n",
       "      <th>6806</th>\n",
       "      <td>3856</td>\n",
       "      <td>Girl Next Door, The</td>\n",
       "      <td>Documentary</td>\n",
       "      <td>1999</td>\n",
       "      <td>NaN</td>\n",
       "      <td>NaN</td>\n",
       "    </tr>\n",
       "  </tbody>\n",
       "</table>\n",
       "<p>6807 rows × 6 columns</p>\n",
       "</div>"
      ],
      "text/plain": [
       "      item_id:token                                    title:token_seq  \\\n",
       "0               193                          Shawshank Redemption, The   \n",
       "1              1435                                        Matrix, The   \n",
       "2              1642                                         Fight Club   \n",
       "3               179                                       Pulp Fiction   \n",
       "4               220                                       Forrest Gump   \n",
       "...             ...                                                ...   \n",
       "6802           5943  American Pie Presents: The Book of Love (Ameri...   \n",
       "6803           6734                                     Need for Speed   \n",
       "6804           3979                                             Taxi 3   \n",
       "6805           2027                           Porky's II: The Next Day   \n",
       "6806           3856                                Girl Next Door, The   \n",
       "\n",
       "                  genre:token_seq  year:token     writer:token_seq  \\\n",
       "0                     Crime Drama        1994  nm0000175 nm0001104   \n",
       "1          Action Sci-Fi Thriller        1999  nm0905152 nm0905154   \n",
       "2     Action Crime Drama Thriller        1999  nm0657333 nm0880243   \n",
       "3     Comedy Crime Drama Thriller        1994  nm0000233 nm0000812   \n",
       "4        Comedy Drama Romance War        1994            nm0744839   \n",
       "...                           ...         ...                  ...   \n",
       "6802                       Comedy        2009  nm0381221 nm0825738   \n",
       "6803           Action Crime Drama        2014            nm0309691   \n",
       "6804                Action Comedy        2003            nm0000108   \n",
       "6805                       Comedy        1983  nm0163706 nm0650276   \n",
       "6806                  Documentary        1999                  NaN   \n",
       "\n",
       "       director:token_seq  \n",
       "0               nm0001104  \n",
       "1     nm0905152 nm0905154  \n",
       "2               nm0000399  \n",
       "3               nm0000233  \n",
       "4               nm0000709  \n",
       "...                   ...  \n",
       "6802            nm0003289  \n",
       "6803            nm0915304  \n",
       "6804            nm0470443  \n",
       "6805            nm0163706  \n",
       "6806                  NaN  \n",
       "\n",
       "[6807 rows x 6 columns]"
      ]
     },
     "execution_count": 74,
     "metadata": {},
     "output_type": "execute_result"
    }
   ],
   "source": [
    "title_data"
   ]
  },
  {
   "cell_type": "code",
   "execution_count": 62,
   "id": "5a3df386",
   "metadata": {
    "ExecuteTime": {
     "end_time": "2022-12-25T05:45:40.726568Z",
     "start_time": "2022-12-25T05:45:39.392120Z"
    }
   },
   "outputs": [
    {
     "name": "stdout",
     "output_type": "stream",
     "text": [
      "item_id:token\tyear:float\twriter:token\ttitle:token\tgenre:token\tdirector:token\r\n",
      "2033\t2001\tnm0099541\tPlanet of the Apes (2001)\tAction\tnm0000318\r\n",
      "2433\t2002\tnm0001392\tLord of the Rings: The Two Towers, The (2002)\tAdventure\tnm0001392\r\n",
      "2863\t2004\tnm1286500\t50 First Dates (2004)\tComedy\tnm0781842\r\n",
      "1262\t1984\tnm0000101\tGhostbusters (a.k.a. Ghost Busters) (1984)\tAction\tnm0718645\r\n",
      "3433\t2004\tnm0258268\tGhost in the Shell 2: Innocence (a.k.a. Innocence) (Inosensu) (2004)\tAction\tnm0651900\r\n",
      "1123\t1998\tnm0001779\tShakespeare in Love (1998)\tComedy\tnm0006960\r\n",
      "339\t1995\tnm0411872\tGhost in the Shell (Kôkaku kidôtai) (1995)\tAnimation\tnm0651900\r\n",
      "884\t1988\tnm0060103\tRain Man (1988)\tDrama\tnm0001469\r\n",
      "724\t1997\tnm0000108\tFifth Element, The (1997)\tAction\tnm0000108\r\n"
     ]
    }
   ],
   "source": [
    "!head dataset/train_data/train_data.item"
   ]
  },
  {
   "cell_type": "code",
   "execution_count": 60,
   "id": "c99259b8",
   "metadata": {
    "ExecuteTime": {
     "end_time": "2022-12-25T05:43:00.871704Z",
     "start_time": "2022-12-25T05:42:59.525615Z"
    }
   },
   "outputs": [
    {
     "name": "stdout",
     "output_type": "stream",
     "text": [
      "user_id:token\titem_id:token\ttimestamp:float\r\n",
      "0\t2505\t1230782529\r\n",
      "0\t109\t1230782534\r\n",
      "0\t319\t1230782539\r\n",
      "0\t368\t1230782542\r\n",
      "0\t1183\t1230782563\r\n",
      "0\t1510\t1230782583\r\n",
      "0\t1274\t1230782646\r\n",
      "0\t1486\t1230782656\r\n",
      "0\t1359\t1230782694\r\n"
     ]
    }
   ],
   "source": [
    "!head dataset/general_data/general_data.inter"
   ]
  },
  {
   "cell_type": "markdown",
   "id": "836c019e",
   "metadata": {},
   "source": [
    "## create 2억개의 interaction data"
   ]
  },
  {
   "cell_type": "code",
   "execution_count": 27,
   "id": "c0b48b6a",
   "metadata": {
    "ExecuteTime": {
     "end_time": "2022-12-23T06:47:23.465120Z",
     "start_time": "2022-12-23T06:47:22.999849Z"
    }
   },
   "outputs": [],
   "source": [
    "train.user = train.user.map(user2idx)\n",
    "train.item = train.item.map(item2idx)"
   ]
  },
  {
   "cell_type": "code",
   "execution_count": 16,
   "id": "b2a83444",
   "metadata": {
    "ExecuteTime": {
     "end_time": "2022-12-23T06:40:58.016942Z",
     "start_time": "2022-12-23T06:37:36.488808Z"
    }
   },
   "outputs": [],
   "source": [
    "li=[]\n",
    "for i in np.arange(0,31360):\n",
    "    for j in range(0,6807):\n",
    "        li.append((i,j))"
   ]
  },
  {
   "cell_type": "code",
   "execution_count": 18,
   "id": "61cb077c",
   "metadata": {
    "ExecuteTime": {
     "end_time": "2022-12-23T06:46:24.789333Z",
     "start_time": "2022-12-23T06:44:00.724581Z"
    }
   },
   "outputs": [],
   "source": [
    "df = pd.DataFrame(li)"
   ]
  },
  {
   "cell_type": "code",
   "execution_count": 29,
   "id": "c447e237",
   "metadata": {
    "ExecuteTime": {
     "end_time": "2022-12-23T06:47:35.945362Z",
     "start_time": "2022-12-23T06:47:35.942007Z"
    }
   },
   "outputs": [],
   "source": [
    "df.columns=['user','item']"
   ]
  },
  {
   "cell_type": "code",
   "execution_count": 23,
   "id": "b1de0afc",
   "metadata": {
    "ExecuteTime": {
     "end_time": "2022-12-23T06:46:41.252232Z",
     "start_time": "2022-12-23T06:46:41.246463Z"
    }
   },
   "outputs": [
    {
     "data": {
      "text/plain": [
       "RangeIndex(start=0, stop=2, step=1)"
      ]
     },
     "execution_count": 23,
     "metadata": {},
     "output_type": "execute_result"
    }
   ],
   "source": [
    "df.columns"
   ]
  },
  {
   "cell_type": "code",
   "execution_count": 34,
   "id": "d36e781a",
   "metadata": {
    "ExecuteTime": {
     "end_time": "2022-12-23T06:49:59.634174Z",
     "start_time": "2022-12-23T06:49:59.630476Z"
    }
   },
   "outputs": [
    {
     "data": {
      "text/plain": [
       "(213467520, 2)"
      ]
     },
     "execution_count": 34,
     "metadata": {},
     "output_type": "execute_result"
    }
   ],
   "source": [
    "df.shape"
   ]
  },
  {
   "cell_type": "code",
   "execution_count": 30,
   "id": "c5818915",
   "metadata": {
    "ExecuteTime": {
     "end_time": "2022-12-23T06:49:22.989528Z",
     "start_time": "2022-12-23T06:48:00.452226Z"
    }
   },
   "outputs": [],
   "source": [
    "df2 = df.merge(train, on=['user','item'],how='left')"
   ]
  },
  {
   "cell_type": "code",
   "execution_count": 33,
   "id": "adc69996",
   "metadata": {
    "ExecuteTime": {
     "end_time": "2022-12-23T06:49:59.628370Z",
     "start_time": "2022-12-23T06:49:49.853742Z"
    }
   },
   "outputs": [
    {
     "data": {
      "text/plain": [
       "(208313049, 3)"
      ]
     },
     "execution_count": 33,
     "metadata": {},
     "output_type": "execute_result"
    }
   ],
   "source": [
    "df2[df2.time.isna()].shape"
   ]
  },
  {
   "cell_type": "code",
   "execution_count": 35,
   "id": "425efebd",
   "metadata": {
    "ExecuteTime": {
     "end_time": "2022-12-23T06:50:08.969202Z",
     "start_time": "2022-12-23T06:50:08.965113Z"
    }
   },
   "outputs": [
    {
     "data": {
      "text/plain": [
       "208313049"
      ]
     },
     "execution_count": 35,
     "metadata": {},
     "output_type": "execute_result"
    }
   ],
   "source": [
    "213467520 - train.shape[0]"
   ]
  },
  {
   "cell_type": "code",
   "execution_count": 36,
   "id": "711f57ad",
   "metadata": {
    "ExecuteTime": {
     "end_time": "2022-12-23T06:50:37.750198Z",
     "start_time": "2022-12-23T06:50:28.267087Z"
    }
   },
   "outputs": [],
   "source": [
    "df3 = df2[df2.time.isna()]"
   ]
  },
  {
   "cell_type": "code",
   "execution_count": 38,
   "id": "664d2a46",
   "metadata": {
    "ExecuteTime": {
     "end_time": "2022-12-23T06:51:34.068572Z",
     "start_time": "2022-12-23T06:51:34.064770Z"
    }
   },
   "outputs": [],
   "source": [
    "df3.columns=['user_id:token','item_id:token','timestamp:float']"
   ]
  },
  {
   "cell_type": "code",
   "execution_count": 39,
   "id": "5c064b9a",
   "metadata": {
    "ExecuteTime": {
     "end_time": "2022-12-23T06:51:35.314317Z",
     "start_time": "2022-12-23T06:51:35.304809Z"
    }
   },
   "outputs": [
    {
     "data": {
      "text/html": [
       "<div>\n",
       "<style scoped>\n",
       "    .dataframe tbody tr th:only-of-type {\n",
       "        vertical-align: middle;\n",
       "    }\n",
       "\n",
       "    .dataframe tbody tr th {\n",
       "        vertical-align: top;\n",
       "    }\n",
       "\n",
       "    .dataframe thead th {\n",
       "        text-align: right;\n",
       "    }\n",
       "</style>\n",
       "<table border=\"1\" class=\"dataframe\">\n",
       "  <thead>\n",
       "    <tr style=\"text-align: right;\">\n",
       "      <th></th>\n",
       "      <th>user_id:token</th>\n",
       "      <th>item_id:token</th>\n",
       "      <th>timestamp:float</th>\n",
       "    </tr>\n",
       "  </thead>\n",
       "  <tbody>\n",
       "    <tr>\n",
       "      <th>1</th>\n",
       "      <td>0</td>\n",
       "      <td>1</td>\n",
       "      <td>NaN</td>\n",
       "    </tr>\n",
       "    <tr>\n",
       "      <th>2</th>\n",
       "      <td>0</td>\n",
       "      <td>2</td>\n",
       "      <td>NaN</td>\n",
       "    </tr>\n",
       "    <tr>\n",
       "      <th>3</th>\n",
       "      <td>0</td>\n",
       "      <td>3</td>\n",
       "      <td>NaN</td>\n",
       "    </tr>\n",
       "    <tr>\n",
       "      <th>4</th>\n",
       "      <td>0</td>\n",
       "      <td>4</td>\n",
       "      <td>NaN</td>\n",
       "    </tr>\n",
       "    <tr>\n",
       "      <th>5</th>\n",
       "      <td>0</td>\n",
       "      <td>5</td>\n",
       "      <td>NaN</td>\n",
       "    </tr>\n",
       "    <tr>\n",
       "      <th>...</th>\n",
       "      <td>...</td>\n",
       "      <td>...</td>\n",
       "      <td>...</td>\n",
       "    </tr>\n",
       "    <tr>\n",
       "      <th>213467515</th>\n",
       "      <td>31359</td>\n",
       "      <td>6802</td>\n",
       "      <td>NaN</td>\n",
       "    </tr>\n",
       "    <tr>\n",
       "      <th>213467516</th>\n",
       "      <td>31359</td>\n",
       "      <td>6803</td>\n",
       "      <td>NaN</td>\n",
       "    </tr>\n",
       "    <tr>\n",
       "      <th>213467517</th>\n",
       "      <td>31359</td>\n",
       "      <td>6804</td>\n",
       "      <td>NaN</td>\n",
       "    </tr>\n",
       "    <tr>\n",
       "      <th>213467518</th>\n",
       "      <td>31359</td>\n",
       "      <td>6805</td>\n",
       "      <td>NaN</td>\n",
       "    </tr>\n",
       "    <tr>\n",
       "      <th>213467519</th>\n",
       "      <td>31359</td>\n",
       "      <td>6806</td>\n",
       "      <td>NaN</td>\n",
       "    </tr>\n",
       "  </tbody>\n",
       "</table>\n",
       "<p>208313049 rows × 3 columns</p>\n",
       "</div>"
      ],
      "text/plain": [
       "           user_id:token  item_id:token  timestamp:float\n",
       "1                      0              1              NaN\n",
       "2                      0              2              NaN\n",
       "3                      0              3              NaN\n",
       "4                      0              4              NaN\n",
       "5                      0              5              NaN\n",
       "...                  ...            ...              ...\n",
       "213467515          31359           6802              NaN\n",
       "213467516          31359           6803              NaN\n",
       "213467517          31359           6804              NaN\n",
       "213467518          31359           6805              NaN\n",
       "213467519          31359           6806              NaN\n",
       "\n",
       "[208313049 rows x 3 columns]"
      ]
     },
     "execution_count": 39,
     "metadata": {},
     "output_type": "execute_result"
    }
   ],
   "source": [
    "df3"
   ]
  },
  {
   "cell_type": "code",
   "execution_count": 40,
   "id": "62625075",
   "metadata": {
    "ExecuteTime": {
     "end_time": "2022-12-23T06:57:08.978659Z",
     "start_time": "2022-12-23T06:51:46.110517Z"
    }
   },
   "outputs": [],
   "source": [
    "outpath = f\"dataset/train_data\"\n",
    "os.makedirs(outpath, exist_ok=True)\n",
    "# sub_train=train.groupby(\"user\").sample(n=10, random_state=SEED)\n",
    "# sub_train.shape\n",
    "df3.to_csv(os.path.join(outpath,\"test_data.inter\"),sep='\\t',index=False)"
   ]
  },
  {
   "cell_type": "code",
   "execution_count": null,
   "id": "9cdd3cbe",
   "metadata": {},
   "outputs": [],
   "source": []
  }
 ],
 "metadata": {
  "kernelspec": {
   "display_name": "Python 3 (ipykernel)",
   "language": "python",
   "name": "python3"
  },
  "language_info": {
   "codemirror_mode": {
    "name": "ipython",
    "version": 3
   },
   "file_extension": ".py",
   "mimetype": "text/x-python",
   "name": "python",
   "nbconvert_exporter": "python",
   "pygments_lexer": "ipython3",
   "version": "3.8.5"
  },
  "toc": {
   "base_numbering": 1,
   "nav_menu": {},
   "number_sections": true,
   "sideBar": true,
   "skip_h1_title": false,
   "title_cell": "Table of Contents",
   "title_sidebar": "Contents",
   "toc_cell": false,
   "toc_position": {},
   "toc_section_display": true,
   "toc_window_display": false
  }
 },
 "nbformat": 4,
 "nbformat_minor": 5
}

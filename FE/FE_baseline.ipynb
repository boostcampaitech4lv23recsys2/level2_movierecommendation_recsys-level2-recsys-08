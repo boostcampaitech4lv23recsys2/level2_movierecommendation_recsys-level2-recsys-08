{
 "cells": [
  {
   "cell_type": "code",
   "execution_count": 1,
   "metadata": {},
   "outputs": [],
   "source": [
    "import torch\n",
    "import pandas as pd\n",
    "import numpy as np\n",
    "# pip install transformers\n",
    "from transformers import BertTokenizer, BertModel\n",
    "# 만약 주피터 노트북에서 아래와 관계있는 에러가 발생한다면\n",
    "# pip install ipywidgets"
   ]
  },
  {
   "cell_type": "code",
   "execution_count": 2,
   "metadata": {},
   "outputs": [],
   "source": [
    "main_df = pd.read_csv('/opt/ml/input/data/train/train_ratings.csv') # user-item-time\n",
    "title_df = pd.read_csv('/opt/ml/input/data/train/titles.tsv', sep='\\t') # item-title\n",
    "year_df = pd.read_csv('/opt/ml/input/data/train/years.tsv', sep='\\t') # item-year\n",
    "director_df = pd.read_csv('/opt/ml/input/data/train/directors.tsv', sep='\\t') # item-director\n",
    "genre_df = pd.read_csv('/opt/ml/input/data/train/genres.tsv', sep='\\t') # item-genre(name)\n",
    "writer_df = pd.read_csv('/opt/ml/input/data/train/writers.tsv', sep='\\t') # item-writer"
   ]
  },
  {
   "cell_type": "code",
   "execution_count": 7,
   "metadata": {},
   "outputs": [],
   "source": [
    "year_df = pd.read_csv(\"/opt/ml/input/fighting/FE/year/year_missingno.csv\")\n",
    "genre_df = pd.read_csv(\"/opt/ml/input/fighting/FE/genre/genre_bert_fe.csv\")\n",
    "director_inter_cnt = pd.read_csv(\"/opt/ml/input/fighting/FE/director/director_inter_cnt.csv\")\n",
    "writer_inter_cnt = pd.read_csv(\"/opt/ml/input/fighting/FE/writer/writer_inter_cnt.csv\")\n",
    "item_interaction = pd.read_csv(\"/opt/ml/input/fighting/FE/item/item_interaction_cnt.csv\")\n",
    "item_popular_dir_max_sum_cnt = pd.read_csv(\"/opt/ml/input/fighting/FE/director/item_popular_dir_max_sum_cnt.csv\")\n",
    "item_popular_wri_max_sum_cnt = pd.read_csv(\"/opt/ml/input/fighting/FE/writer/item_popular_wri_max_sum_cnt.csv\")\n",
    "user_seen_item_statistic = pd.read_csv(\"/opt/ml/input/fighting/FE/user/user_seen_item_statistic.csv\")"
   ]
  },
  {
   "cell_type": "code",
   "execution_count": 8,
   "metadata": {},
   "outputs": [],
   "source": [
    "train_df = main_df.merge(year_df, how='left', on='item')\n",
    "train_df = train_df.merge(genre_df, how='left', on='item')\n",
    "train_df = train_df.merge(director_inter_cnt, how='left', on='item')\n",
    "train_df = train_df.merge(writer_inter_cnt, how='left', on='item')\n",
    "train_df = train_df.merge(item_interaction, how='left', on='item')\n",
    "train_df = train_df.merge(item_popular_dir_max_sum_cnt, how='left', on='item')\n",
    "train_df = train_df.merge(item_popular_wri_max_sum_cnt, how='left', on='item')\n",
    "train_df = train_df.merge(user_seen_item_statistic, how='left', on='user')"
   ]
  },
  {
   "cell_type": "code",
   "execution_count": null,
   "metadata": {},
   "outputs": [],
   "source": []
  },
  {
   "cell_type": "code",
   "execution_count": null,
   "metadata": {},
   "outputs": [],
   "source": []
  }
 ],
 "metadata": {
  "kernelspec": {
   "display_name": "Python 3 (ipykernel)",
   "language": "python",
   "name": "python3"
  },
  "language_info": {
   "codemirror_mode": {
    "name": "ipython",
    "version": 3
   },
   "file_extension": ".py",
   "mimetype": "text/x-python",
   "name": "python",
   "nbconvert_exporter": "python",
   "pygments_lexer": "ipython3",
   "version": "3.8.5"
  },
  "vscode": {
   "interpreter": {
    "hash": "d4d1e4263499bec80672ea0156c357c1ee493ec2b1c70f0acce89fc37c4a6abe"
   }
  }
 },
 "nbformat": 4,
 "nbformat_minor": 4
}

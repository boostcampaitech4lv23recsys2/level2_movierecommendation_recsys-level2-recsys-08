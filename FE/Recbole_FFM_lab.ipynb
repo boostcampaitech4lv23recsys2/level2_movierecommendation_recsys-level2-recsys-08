{
 "cells": [
  {
   "cell_type": "markdown",
   "id": "2cd73963",
   "metadata": {},
   "source": [
    "# FMM Recbole 구현"
   ]
  },
  {
   "cell_type": "markdown",
   "id": "61e884e8",
   "metadata": {},
   "source": [
    "### Recbole 라이브러리 로딩"
   ]
  },
  {
   "cell_type": "code",
   "execution_count": 84,
   "id": "5f451253",
   "metadata": {},
   "outputs": [],
   "source": [
    "# !pip install recbole"
   ]
  },
  {
   "cell_type": "code",
   "execution_count": 85,
   "id": "0037a9f1",
   "metadata": {},
   "outputs": [],
   "source": [
    "# !pip install ray"
   ]
  },
  {
   "cell_type": "code",
   "execution_count": 58,
   "id": "656860e8",
   "metadata": {},
   "outputs": [],
   "source": [
    "from IPython.core.interactiveshell import InteractiveShell\n",
    "InteractiveShell.ast_node_interactivity=\"all\"\n",
    "\n",
    "from logging import getLogger\n",
    "import os\n",
    "import json\n",
    "import numpy as np\n",
    "import pandas as pd\n",
    "import time, datetime\n",
    "from tqdm import tqdm\n",
    "\n",
    "from recbole.model.context_aware_recommender.ffm import FFM\n",
    "\n",
    "from recbole.config import Config\n",
    "from recbole.data import create_dataset, data_preparation\n",
    "from recbole.data.interaction import Interaction\n",
    "from recbole.utils import init_logger, get_trainer, init_seed, set_color, get_model\n",
    "from recbole.quick_start.quick_start import load_data_and_model\n",
    "\n",
    "from recbole.config import Config\n",
    "from recbole.data import create_dataset\n",
    "\n",
    "from sklearn.metrics import accuracy_score, roc_auc_score\n",
    "from sklearn.metrics import ndcg_score, recall_score\n",
    "\n",
    "import torch"
   ]
  },
  {
   "cell_type": "markdown",
   "id": "049a025e",
   "metadata": {},
   "source": [
    "### 데이터 로드"
   ]
  },
  {
   "cell_type": "code",
   "execution_count": 59,
   "id": "7bf1eb53",
   "metadata": {},
   "outputs": [],
   "source": [
    "train_df = pd.read_csv('/opt/ml/input/data/train/train_ratings.csv')"
   ]
  },
  {
   "cell_type": "code",
   "execution_count": 60,
   "id": "4eeda3be",
   "metadata": {},
   "outputs": [
    {
     "name": "stdout",
     "output_type": "stream",
     "text": [
      "<class 'pandas.core.frame.DataFrame'>\n",
      "RangeIndex: 5154471 entries, 0 to 5154470\n",
      "Data columns (total 3 columns):\n",
      " #   Column  Dtype\n",
      "---  ------  -----\n",
      " 0   user    int64\n",
      " 1   item    int64\n",
      " 2   time    int64\n",
      "dtypes: int64(3)\n",
      "memory usage: 118.0 MB\n"
     ]
    }
   ],
   "source": [
    "train_df.info()"
   ]
  },
  {
   "cell_type": "code",
   "execution_count": 4,
   "id": "754874f6",
   "metadata": {},
   "outputs": [],
   "source": [
    "data_path = '/opt/ml/input/data/train'\n",
    "year_data = pd.read_csv(os.path.join(data_path, 'years.tsv'), sep='\\t')\n",
    "writer_data = pd.read_csv(os.path.join(data_path, 'writers.tsv'), sep='\\t')\n",
    "title_data = pd.read_csv(os.path.join(data_path, 'titles.tsv'), sep='\\t')\n",
    "genre_data = pd.read_csv(os.path.join(data_path, 'genres.tsv'), sep='\\t')\n",
    "director_data = pd.read_csv(os.path.join(data_path, 'directors.tsv'), sep='\\t')"
   ]
  },
  {
   "cell_type": "code",
   "execution_count": 6,
   "id": "80736508",
   "metadata": {},
   "outputs": [],
   "source": [
    "df_merge = pd.merge(train_df, year_data.drop_duplicates(subset=['item']), on='item', how='inner')\n",
    "df_merge = pd.merge(df_merge, writer_data.drop_duplicates(subset=['item']), on='item', how='inner')\n",
    "df_merge = pd.merge(df_merge, title_data.drop_duplicates(subset=['item']), on='item', how='inner')\n",
    "df_merge = pd.merge(df_merge, genre_data.drop_duplicates(subset=['item']), on='item', how='inner')\n",
    "df_merge = pd.merge(df_merge, director_data.drop_duplicates(subset=['item']), on='item', how='inner')"
   ]
  },
  {
   "cell_type": "code",
   "execution_count": 8,
   "id": "0041c47a-d300-4d6e-a152-3bab72c710ee",
   "metadata": {},
   "outputs": [],
   "source": [
    "# df_merge = pd.read_csv('./uitgyt.csv')\n",
    "# director_data = pd.read_csv('./director_fe.csv')\n",
    "# writer_data = pd.read_csv('./writer_fe.csv')\n",
    "# df_merge = pd.merge(df_merge, director_data, on='item', how='left')\n",
    "# df_merge = pd.merge(df_merge, writer_data, on='item', how='left')"
   ]
  },
  {
   "cell_type": "code",
   "execution_count": 89,
   "id": "b22bcd9e-d87b-423b-9554-3e6e36120679",
   "metadata": {},
   "outputs": [],
   "source": [
    "train_df = pd.read_csv('/opt/ml/input/data/train/train_ratings.csv')\n",
    "user_data = pd.read_csv('/opt/ml/input/fighting/FE/user_director3_fe.csv')\n",
    "item_data = pd.read_csv('/opt/ml/input/fighting/FE/item_direct_str.csv')"
   ]
  },
  {
   "cell_type": "code",
   "execution_count": 62,
   "id": "8cf5b02d",
   "metadata": {},
   "outputs": [],
   "source": [
    "train_df = train_df.sort_values('user')"
   ]
  },
  {
   "cell_type": "code",
   "execution_count": 8,
   "id": "1660352c",
   "metadata": {},
   "outputs": [],
   "source": [
    "# df_merge.head()"
   ]
  },
  {
   "cell_type": "code",
   "execution_count": 63,
   "id": "eaa10731",
   "metadata": {},
   "outputs": [],
   "source": [
    "train_data = train_df[['user', 'item', 'time']]"
   ]
  },
  {
   "cell_type": "code",
   "execution_count": 64,
   "id": "5401624f-c0aa-47af-9627-c15233f76080",
   "metadata": {},
   "outputs": [
    {
     "data": {
      "text/html": [
       "<div>\n",
       "<style scoped>\n",
       "    .dataframe tbody tr th:only-of-type {\n",
       "        vertical-align: middle;\n",
       "    }\n",
       "\n",
       "    .dataframe tbody tr th {\n",
       "        vertical-align: top;\n",
       "    }\n",
       "\n",
       "    .dataframe thead th {\n",
       "        text-align: right;\n",
       "    }\n",
       "</style>\n",
       "<table border=\"1\" class=\"dataframe\">\n",
       "  <thead>\n",
       "    <tr style=\"text-align: right;\">\n",
       "      <th></th>\n",
       "      <th>user</th>\n",
       "      <th>director1</th>\n",
       "      <th>director2</th>\n",
       "      <th>director3</th>\n",
       "    </tr>\n",
       "  </thead>\n",
       "  <tbody>\n",
       "    <tr>\n",
       "      <th>0</th>\n",
       "      <td>11</td>\n",
       "      <td>nm0000229</td>\n",
       "      <td>nm0000318</td>\n",
       "      <td>nm0000709</td>\n",
       "    </tr>\n",
       "    <tr>\n",
       "      <th>1</th>\n",
       "      <td>14</td>\n",
       "      <td>nm0000229</td>\n",
       "      <td>nm0000709</td>\n",
       "      <td>nm0414144</td>\n",
       "    </tr>\n",
       "    <tr>\n",
       "      <th>2</th>\n",
       "      <td>18</td>\n",
       "      <td>nm0000264</td>\n",
       "      <td>nm0001466</td>\n",
       "      <td>nm0600546</td>\n",
       "    </tr>\n",
       "  </tbody>\n",
       "</table>\n",
       "</div>"
      ],
      "text/plain": [
       "   user  director1  director2  director3\n",
       "0    11  nm0000229  nm0000318  nm0000709\n",
       "1    14  nm0000229  nm0000709  nm0414144\n",
       "2    18  nm0000264  nm0001466  nm0600546"
      ]
     },
     "execution_count": 64,
     "metadata": {},
     "output_type": "execute_result"
    }
   ],
   "source": [
    "user_data.head(3)"
   ]
  },
  {
   "cell_type": "code",
   "execution_count": 65,
   "id": "940e39f2",
   "metadata": {},
   "outputs": [],
   "source": [
    "# user_data = train_df[['user']]"
   ]
  },
  {
   "cell_type": "code",
   "execution_count": 66,
   "id": "9e131598-c701-4c3f-83d7-aa56bb8904fb",
   "metadata": {},
   "outputs": [
    {
     "data": {
      "text/html": [
       "<div>\n",
       "<style scoped>\n",
       "    .dataframe tbody tr th:only-of-type {\n",
       "        vertical-align: middle;\n",
       "    }\n",
       "\n",
       "    .dataframe tbody tr th {\n",
       "        vertical-align: top;\n",
       "    }\n",
       "\n",
       "    .dataframe thead th {\n",
       "        text-align: right;\n",
       "    }\n",
       "</style>\n",
       "<table border=\"1\" class=\"dataframe\">\n",
       "  <thead>\n",
       "    <tr style=\"text-align: right;\">\n",
       "      <th></th>\n",
       "      <th>item</th>\n",
       "      <th>director_str</th>\n",
       "    </tr>\n",
       "  </thead>\n",
       "  <tbody>\n",
       "    <tr>\n",
       "      <th>0</th>\n",
       "      <td>1237</td>\n",
       "      <td>nm0000005</td>\n",
       "    </tr>\n",
       "    <tr>\n",
       "      <th>1</th>\n",
       "      <td>5147</td>\n",
       "      <td>nm0000005</td>\n",
       "    </tr>\n",
       "    <tr>\n",
       "      <th>2</th>\n",
       "      <td>7327</td>\n",
       "      <td>nm0000005</td>\n",
       "    </tr>\n",
       "    <tr>\n",
       "      <th>3</th>\n",
       "      <td>2068</td>\n",
       "      <td>nm0000005</td>\n",
       "    </tr>\n",
       "    <tr>\n",
       "      <th>4</th>\n",
       "      <td>7396</td>\n",
       "      <td>nm0000005</td>\n",
       "    </tr>\n",
       "    <tr>\n",
       "      <th>...</th>\n",
       "      <td>...</td>\n",
       "      <td>...</td>\n",
       "    </tr>\n",
       "    <tr>\n",
       "      <th>6802</th>\n",
       "      <td>73681</td>\n",
       "      <td>nm0000000</td>\n",
       "    </tr>\n",
       "    <tr>\n",
       "      <th>6803</th>\n",
       "      <td>32728</td>\n",
       "      <td>nm0000000</td>\n",
       "    </tr>\n",
       "    <tr>\n",
       "      <th>6804</th>\n",
       "      <td>32743</td>\n",
       "      <td>nm0000000</td>\n",
       "    </tr>\n",
       "    <tr>\n",
       "      <th>6805</th>\n",
       "      <td>106491</td>\n",
       "      <td>nm0000000</td>\n",
       "    </tr>\n",
       "    <tr>\n",
       "      <th>6806</th>\n",
       "      <td>8191</td>\n",
       "      <td>nm0000000</td>\n",
       "    </tr>\n",
       "  </tbody>\n",
       "</table>\n",
       "<p>6807 rows × 2 columns</p>\n",
       "</div>"
      ],
      "text/plain": [
       "        item director_str\n",
       "0       1237    nm0000005\n",
       "1       5147    nm0000005\n",
       "2       7327    nm0000005\n",
       "3       2068    nm0000005\n",
       "4       7396    nm0000005\n",
       "...      ...          ...\n",
       "6802   73681    nm0000000\n",
       "6803   32728    nm0000000\n",
       "6804   32743    nm0000000\n",
       "6805  106491    nm0000000\n",
       "6806    8191    nm0000000\n",
       "\n",
       "[6807 rows x 2 columns]"
      ]
     },
     "execution_count": 66,
     "metadata": {},
     "output_type": "execute_result"
    }
   ],
   "source": [
    "item_data"
   ]
  },
  {
   "cell_type": "code",
   "execution_count": 13,
   "id": "d7b2c7b8",
   "metadata": {},
   "outputs": [],
   "source": [
    "# item_data = train_df[['item']]#.drop_duplicates(subset=['item'])"
   ]
  },
  {
   "cell_type": "code",
   "execution_count": 67,
   "id": "bd414cdc",
   "metadata": {},
   "outputs": [
    {
     "name": "stdout",
     "output_type": "stream",
     "text": [
      "<class 'pandas.core.frame.DataFrame'>\n",
      "Int64Index: 5154471 entries, 0 to 5154470\n",
      "Data columns (total 3 columns):\n",
      " #   Column  Dtype\n",
      "---  ------  -----\n",
      " 0   user    int64\n",
      " 1   item    int64\n",
      " 2   time    int64\n",
      "dtypes: int64(3)\n",
      "memory usage: 157.3 MB\n"
     ]
    }
   ],
   "source": [
    "train_data.info()"
   ]
  },
  {
   "cell_type": "code",
   "execution_count": 68,
   "id": "b31ea219",
   "metadata": {},
   "outputs": [
    {
     "name": "stdout",
     "output_type": "stream",
     "text": [
      "n_user : 31360\n",
      "n_item : 6807\n"
     ]
    }
   ],
   "source": [
    "userid, itemid = list(set(train_data.user)), list(set(train_data.item))\n",
    "n_user, n_item = len(userid), len(itemid)\n",
    "print(f'n_user : {n_user}')\n",
    "print(f'n_item : {n_item}')"
   ]
  },
  {
   "cell_type": "markdown",
   "id": "043f7e24",
   "metadata": {},
   "source": [
    "### 데이터 전처리"
   ]
  },
  {
   "cell_type": "code",
   "execution_count": null,
   "id": "bd17ee70",
   "metadata": {},
   "outputs": [],
   "source": []
  },
  {
   "cell_type": "markdown",
   "id": "d043e6eb",
   "metadata": {},
   "source": [
    "### 데이터 파일 변환\n",
    "\n",
    "기존 데이터 파일을 Recbole 데이터 파일로 변환시키는 과정"
   ]
  },
  {
   "cell_type": "code",
   "execution_count": 69,
   "id": "dd4f31f8",
   "metadata": {},
   "outputs": [],
   "source": [
    "userid, itemid = sorted(userid), sorted(itemid)\n",
    "n_user, n_item = len(userid), len(itemid)\n",
    "\n",
    "userid_2_index = {v:i for i,v in enumerate(userid)}\n",
    "itemid_2_index = {v:i for i,v in enumerate(itemid)}\n",
    "index_2_userid = {i:v for i,v in enumerate(userid)}\n",
    "index_2_itemid = {i:v for i,v in enumerate(itemid)}"
   ]
  },
  {
   "cell_type": "code",
   "execution_count": 70,
   "id": "921af69e",
   "metadata": {},
   "outputs": [],
   "source": [
    "yamldata = \"\"\"\n",
    "field_separator: \"\\t\"\n",
    "USER_ID_FIELD: user_id\n",
    "ITEM_ID_FIELD: item_id\n",
    "TIME_FIELD: timestamp\n",
    "\n",
    "load_col:\n",
    "    inter: [user_id, item_id, timestamp]\n",
    "    user: [user_id, director1, director2, director3]\n",
    "    item: [item_id, director_str]\n",
    "\n",
    "train_neg_sample_args:\n",
    "    uniform: 1\n",
    "    \n",
    "eval_args:\n",
    "    split: {'RS': [8, 1, 1]}\n",
    "    group_by: user\n",
    "    order: RO\n",
    "    mode: full\n",
    "metrics: ['Recall', 'MRR', 'NDCG', 'Hit', 'Precision', 'MAP']\n",
    "topk: 10\n",
    "valid_metric: Recall@10\n",
    "\"\"\""
   ]
  },
  {
   "cell_type": "code",
   "execution_count": 71,
   "id": "a6b7236c",
   "metadata": {},
   "outputs": [],
   "source": [
    "train_data.user = train_data.user.map(userid_2_index)\n",
    "train_data.item = train_data.item.map(itemid_2_index)\n",
    "\n",
    "user_data.user = user_data.user.map(userid_2_index)\n",
    "item_data.item = item_data.item.map(itemid_2_index)"
   ]
  },
  {
   "cell_type": "code",
   "execution_count": 72,
   "id": "dd5f3b92",
   "metadata": {},
   "outputs": [],
   "source": [
    "train_data.columns=['user_id:token', 'item_id:token', 'timestamp:float']\n",
    "user_data.columns=['user_id:token', 'director1:token', 'director2:token', 'director3:token']\n",
    "item_data.columns=['item_id:token', 'director_str:token_seq']\n"
   ]
  },
  {
   "cell_type": "code",
   "execution_count": 73,
   "id": "5f344922",
   "metadata": {},
   "outputs": [
    {
     "name": "stdout",
     "output_type": "stream",
     "text": [
      "Dump Start\n"
     ]
    },
    {
     "data": {
      "text/plain": [
       "456"
      ]
     },
     "execution_count": 73,
     "metadata": {},
     "output_type": "execute_result"
    },
    {
     "name": "stdout",
     "output_type": "stream",
     "text": [
      "Dump Complete\n"
     ]
    }
   ],
   "source": [
    "outpath = f\"dataset/train_data\"\n",
    "# outfile = f\"dataset/train_data/train_data.inter\"\n",
    "yamlfile = f\"train_data.yaml\"\n",
    "\n",
    "os.makedirs(outpath, exist_ok=True)\n",
    "# sub_train=train.groupby(\"user\").sample(n=10, random_state=SEED)\n",
    "# sub_train.shape\n",
    "\n",
    "# print(\"Processing Start\")\n",
    "# inter_table = []\n",
    "# for user, item, time in zip(train_data.user, train_data.item, train_data.time):\n",
    "#     uid, iid = userid_2_index[user], itemid_2_index[item]\n",
    "#     # tval = int(time.mktime(datetime.datetime.strptime(time, \"%Y-%m-%d %H:%M:%S\").timetuple()))\n",
    "#     inter_table.append( [uid, iid, time] )\n",
    "\n",
    "# print(\"Processing Complete\")\n",
    "\n",
    "print(\"Dump Start\")\n",
    "# 데이터 설정 파일 저장\n",
    "with open(yamlfile, \"w\") as f:\n",
    "    f.write(yamldata) \n",
    "\n",
    "# 데이터 파일 저장\n",
    "train_data.to_csv(os.path.join(outpath,\"train_data.inter\"),sep='\\t',index=False)\n",
    "user_data.to_csv(os.path.join(outpath,\"train_data.user\"),sep='\\t',index=False)\n",
    "item_data.to_csv(os.path.join(outpath,\"train_data.item\"),sep='\\t',index=False)\n",
    "# with open(outfile, \"w\") as f:\n",
    "#     # write header\n",
    "#     f.write(\"user_id:token\\titem_id:token\\ttimestamp:float\\n\")\n",
    "#     for row in inter_table:\n",
    "#         f.write(\"\\t\".join([str(x) for x in row])+\"\\n\")\n",
    "\n",
    "print(\"Dump Complete\")"
   ]
  },
  {
   "cell_type": "markdown",
   "id": "bf654e50",
   "metadata": {},
   "source": [
    "### 로거 생성"
   ]
  },
  {
   "cell_type": "code",
   "execution_count": 74,
   "id": "448113f1",
   "metadata": {},
   "outputs": [],
   "source": [
    "logger = getLogger()"
   ]
  },
  {
   "cell_type": "markdown",
   "id": "ac5c55e3",
   "metadata": {},
   "source": [
    "### 설정 인스턴스 생성"
   ]
  },
  {
   "cell_type": "code",
   "execution_count": 75,
   "id": "c21f27c7",
   "metadata": {},
   "outputs": [
    {
     "name": "stderr",
     "output_type": "stream",
     "text": [
      "27 Dec 13:36    INFO  \n",
      "General Hyper Parameters:\n",
      "gpu_id = 0\n",
      "use_gpu = True\n",
      "seed = 2020\n",
      "state = INFO\n",
      "reproducibility = True\n",
      "data_path = dataset/train_data\n",
      "checkpoint_dir = saved\n",
      "show_progress = False\n",
      "save_dataset = False\n",
      "dataset_save_path = None\n",
      "save_dataloaders = False\n",
      "dataloaders_save_path = None\n",
      "log_wandb = False\n",
      "\n",
      "Training Hyper Parameters:\n",
      "epochs = 6\n",
      "train_batch_size = 2048\n",
      "learner = adam\n",
      "learning_rate = 0.001\n",
      "train_neg_sample_args = {'uniform': 1, 'distribution': 'uniform', 'sample_num': 1, 'alpha': 1.0, 'dynamic': False, 'candidate_num': 0}\n",
      "eval_step = 1\n",
      "stopping_step = 10\n",
      "clip_grad_norm = None\n",
      "weight_decay = 0.0\n",
      "loss_decimal_place = 4\n",
      "\n",
      "Evaluation Hyper Parameters:\n",
      "eval_args = {'split': {'RS': [8, 1, 1]}, 'group_by': 'user', 'order': 'RO', 'mode': 'full'}\n",
      "repeatable = False\n",
      "metrics = ['Recall', 'MRR', 'NDCG', 'Hit', 'Precision', 'MAP']\n",
      "topk = [10]\n",
      "valid_metric = Recall@10\n",
      "valid_metric_bigger = True\n",
      "eval_batch_size = 4096\n",
      "metric_decimal_place = 4\n",
      "\n",
      "Dataset Hyper Parameters:\n",
      "field_separator = \t\n",
      "seq_separator =  \n",
      "USER_ID_FIELD = user_id\n",
      "ITEM_ID_FIELD = item_id\n",
      "RATING_FIELD = rating\n",
      "TIME_FIELD = timestamp\n",
      "seq_len = None\n",
      "LABEL_FIELD = label\n",
      "threshold = None\n",
      "NEG_PREFIX = neg_\n",
      "load_col = {'inter': ['user_id', 'item_id', 'timestamp'], 'user': ['user_id', 'director1', 'director2', 'director3'], 'item': ['item_id', 'director_str']}\n",
      "unload_col = None\n",
      "unused_col = None\n",
      "additional_feat_suffix = None\n",
      "rm_dup_inter = None\n",
      "val_interval = None\n",
      "filter_inter_by_user_or_item = True\n",
      "user_inter_num_interval = [0,inf)\n",
      "item_inter_num_interval = [0,inf)\n",
      "alias_of_user_id = None\n",
      "alias_of_item_id = None\n",
      "alias_of_entity_id = None\n",
      "alias_of_relation_id = None\n",
      "preload_weight = None\n",
      "normalize_field = None\n",
      "normalize_all = None\n",
      "ITEM_LIST_LENGTH_FIELD = item_length\n",
      "LIST_SUFFIX = _list\n",
      "MAX_ITEM_LIST_LENGTH = 50\n",
      "POSITION_FIELD = position_id\n",
      "HEAD_ENTITY_ID_FIELD = head_id\n",
      "TAIL_ENTITY_ID_FIELD = tail_id\n",
      "RELATION_ID_FIELD = relation_id\n",
      "ENTITY_ID_FIELD = entity_id\n",
      "benchmark_filename = None\n",
      "\n",
      "Other Hyper Parameters: \n",
      "worker = 0\n",
      "wandb_project = recbole\n",
      "shuffle = True\n",
      "require_pow = False\n",
      "enable_amp = False\n",
      "enable_scaler = False\n",
      "transform = None\n",
      "embedding_size = 10\n",
      "fields = None\n",
      "numerical_features = []\n",
      "discretization = None\n",
      "kg_reverse_r = False\n",
      "entity_kg_num_interval = [0,inf)\n",
      "relation_kg_num_interval = [0,inf)\n",
      "MODEL_TYPE = ModelType.CONTEXT\n",
      "MODEL_INPUT_TYPE = InputType.POINTWISE\n",
      "eval_type = EvaluatorType.RANKING\n",
      "single_spec = True\n",
      "local_rank = 0\n",
      "device = cuda\n",
      "eval_neg_sample_args = {'distribution': 'uniform', 'sample_num': 'none'}\n",
      "\n",
      "\n"
     ]
    }
   ],
   "source": [
    "# configurations initialization\n",
    "config = Config(model='FFM', dataset=\"train_data\", config_file_list=[f'train_data.yaml'])\n",
    "config['epochs'] = 6\n",
    "config['show_progress'] = False\n",
    "config['device'] = torch.device(\"cuda\" if torch.cuda.is_available() else \"cpu\")\n",
    "init_seed(config['seed'], config['reproducibility'])\n",
    "# logger initialization\n",
    "init_logger(config)\n",
    "\n",
    "logger.info(config)"
   ]
  },
  {
   "cell_type": "markdown",
   "id": "a62100b4",
   "metadata": {},
   "source": [
    "### 데이터 로드"
   ]
  },
  {
   "cell_type": "code",
   "execution_count": 76,
   "id": "bd284775",
   "metadata": {},
   "outputs": [
    {
     "name": "stderr",
     "output_type": "stream",
     "text": [
      "27 Dec 13:37    INFO  train_data\n",
      "The number of users: 31361\n",
      "Average actions of users: 164.36450892857144\n",
      "The number of items: 6808\n",
      "Average actions of items: 757.2309387395328\n",
      "The number of inters: 5154471\n",
      "The sparsity of the dataset: 97.58579218741939%\n",
      "Remain Fields: ['user_id', 'item_id', 'timestamp', 'director1', 'director2', 'director3', 'director_str']\n",
      "27 Dec 13:37    INFO  [Training]: train_batch_size = [2048] train_neg_sample_args: [{'uniform': 1, 'distribution': 'uniform', 'sample_num': 1, 'alpha': 1.0, 'dynamic': False, 'candidate_num': 0}]\n",
      "27 Dec 13:37    INFO  [Evaluation]: eval_batch_size = [4096] eval_args: [{'split': {'RS': [8, 1, 1]}, 'group_by': 'user', 'order': 'RO', 'mode': 'full'}]\n"
     ]
    }
   ],
   "source": [
    "# dataset filtering\n",
    "dataset = create_dataset(config)\n",
    "logger.info(dataset)\n",
    "\n",
    "# dataset splitting\n",
    "train_data, valid_data, test_data = data_preparation(config, dataset)"
   ]
  },
  {
   "cell_type": "code",
   "execution_count": 77,
   "id": "aa7da7a0",
   "metadata": {},
   "outputs": [
    {
     "data": {
      "text/plain": [
       "\u001b[1;35mtrain_data\u001b[0m\n",
       "\u001b[1;34mThe number of users\u001b[0m: 31361\n",
       "\u001b[1;34mAverage actions of users\u001b[0m: 132.40079719387754\n",
       "\u001b[1;34mThe number of items\u001b[0m: 6808\n",
       "\u001b[1;34mAverage actions of items\u001b[0m: 609.9734097252827\n",
       "\u001b[1;34mThe number of inters\u001b[0m: 4152089\n",
       "\u001b[1;34mThe sparsity of the dataset\u001b[0m: 98.05527944529516%\n",
       "\u001b[1;34mRemain Fields\u001b[0m: ['user_id', 'item_id', 'timestamp', 'director1', 'director2', 'director3', 'director_str', 'label']"
      ]
     },
     "execution_count": 77,
     "metadata": {},
     "output_type": "execute_result"
    },
    {
     "data": {
      "text/plain": [
       "\u001b[1;35mtrain_data\u001b[0m\n",
       "\u001b[1;34mThe number of users\u001b[0m: 31361\n",
       "\u001b[1;34mAverage actions of users\u001b[0m: 15.981855867346939\n",
       "\u001b[1;34mThe number of items\u001b[0m: 6808\n",
       "\u001b[1;34mAverage actions of items\u001b[0m: 73.68288738606292\n",
       "\u001b[1;34mThe number of inters\u001b[0m: 501191\n",
       "\u001b[1;34mThe sparsity of the dataset\u001b[0m: 99.76525637106212%\n",
       "\u001b[1;34mRemain Fields\u001b[0m: ['user_id', 'item_id', 'timestamp', 'director1', 'director2', 'director3', 'director_str', 'label']"
      ]
     },
     "execution_count": 77,
     "metadata": {},
     "output_type": "execute_result"
    },
    {
     "data": {
      "text/plain": [
       "\u001b[1;35mtrain_data\u001b[0m\n",
       "\u001b[1;34mThe number of users\u001b[0m: 31361\n",
       "\u001b[1;34mAverage actions of users\u001b[0m: 15.981855867346939\n",
       "\u001b[1;34mThe number of items\u001b[0m: 6808\n",
       "\u001b[1;34mAverage actions of items\u001b[0m: 73.69372151154242\n",
       "\u001b[1;34mThe number of inters\u001b[0m: 501191\n",
       "\u001b[1;34mThe sparsity of the dataset\u001b[0m: 99.76525637106212%\n",
       "\u001b[1;34mRemain Fields\u001b[0m: ['user_id', 'item_id', 'timestamp', 'director1', 'director2', 'director3', 'director_str', 'label']"
      ]
     },
     "execution_count": 77,
     "metadata": {},
     "output_type": "execute_result"
    }
   ],
   "source": [
    "train_data.dataset\n",
    "valid_data.dataset\n",
    "test_data.dataset"
   ]
  },
  {
   "cell_type": "markdown",
   "id": "39da2a0e",
   "metadata": {},
   "source": [
    "### 모델 인스턴스 생성"
   ]
  },
  {
   "cell_type": "code",
   "execution_count": 78,
   "id": "419bdaa1",
   "metadata": {},
   "outputs": [
    {
     "name": "stderr",
     "output_type": "stream",
     "text": [
      "27 Dec 13:37    INFO  FFM(\n",
      "  (token_embedding_table): FMEmbedding(\n",
      "    (embedding): Embedding(39745, 10)\n",
      "  )\n",
      "  (token_seq_embedding_table): ModuleList(\n",
      "    (0): Embedding(1342, 10)\n",
      "  )\n",
      "  (first_order_linear): FMFirstOrderLinear(\n",
      "    (token_embedding_table): FMEmbedding(\n",
      "      (embedding): Embedding(39745, 1)\n",
      "    )\n",
      "    (token_seq_embedding_table): ModuleList(\n",
      "      (0): Embedding(1342, 1)\n",
      "    )\n",
      "  )\n",
      "  (sigmoid): Sigmoid()\n",
      "  (ffm): FieldAwareFactorizationMachine(\n",
      "    (token_embeddings): ModuleList(\n",
      "      (0): Embedding(39745, 10)\n",
      "      (1): Embedding(39745, 10)\n",
      "      (2): Embedding(39745, 10)\n",
      "      (3): Embedding(39745, 10)\n",
      "      (4): Embedding(39745, 10)\n",
      "      (5): Embedding(39745, 10)\n",
      "    )\n",
      "    (token_seq_embeddings): ModuleList(\n",
      "      (0): ModuleList(\n",
      "        (0): Embedding(1342, 10)\n",
      "        (1): Embedding(1342, 10)\n",
      "        (2): Embedding(1342, 10)\n",
      "        (3): Embedding(1342, 10)\n",
      "        (4): Embedding(1342, 10)\n",
      "        (5): Embedding(1342, 10)\n",
      "      )\n",
      "      (1): ModuleList(\n",
      "        (0): Embedding(1342, 10)\n",
      "        (1): Embedding(1342, 10)\n",
      "        (2): Embedding(1342, 10)\n",
      "        (3): Embedding(1342, 10)\n",
      "        (4): Embedding(1342, 10)\n",
      "        (5): Embedding(1342, 10)\n",
      "      )\n",
      "      (2): ModuleList(\n",
      "        (0): Embedding(1342, 10)\n",
      "        (1): Embedding(1342, 10)\n",
      "        (2): Embedding(1342, 10)\n",
      "        (3): Embedding(1342, 10)\n",
      "        (4): Embedding(1342, 10)\n",
      "        (5): Embedding(1342, 10)\n",
      "      )\n",
      "      (3): ModuleList(\n",
      "        (0): Embedding(1342, 10)\n",
      "        (1): Embedding(1342, 10)\n",
      "        (2): Embedding(1342, 10)\n",
      "        (3): Embedding(1342, 10)\n",
      "        (4): Embedding(1342, 10)\n",
      "        (5): Embedding(1342, 10)\n",
      "      )\n",
      "      (4): ModuleList(\n",
      "        (0): Embedding(1342, 10)\n",
      "        (1): Embedding(1342, 10)\n",
      "        (2): Embedding(1342, 10)\n",
      "        (3): Embedding(1342, 10)\n",
      "        (4): Embedding(1342, 10)\n",
      "        (5): Embedding(1342, 10)\n",
      "      )\n",
      "      (5): ModuleList(\n",
      "        (0): Embedding(1342, 10)\n",
      "        (1): Embedding(1342, 10)\n",
      "        (2): Embedding(1342, 10)\n",
      "        (3): Embedding(1342, 10)\n",
      "        (4): Embedding(1342, 10)\n",
      "        (5): Embedding(1342, 10)\n",
      "      )\n",
      "    )\n",
      "    (token_seq_embedding): ModuleList(\n",
      "      (0): Embedding(1342, 10)\n",
      "      (1): Embedding(1342, 10)\n",
      "      (2): Embedding(1342, 10)\n",
      "      (3): Embedding(1342, 10)\n",
      "      (4): Embedding(1342, 10)\n",
      "      (5): Embedding(1342, 10)\n",
      "    )\n",
      "  )\n",
      "  (loss): BCEWithLogitsLoss()\n",
      ")\n",
      "Trainable parameters: 2917178\n"
     ]
    }
   ],
   "source": [
    "# model loading and initialization\n",
    "init_seed(config['seed'], config['reproducibility'])\n",
    "model = FFM(config, train_data.dataset).to(config['device'])\n",
    "logger.info(model)"
   ]
  },
  {
   "cell_type": "markdown",
   "id": "c05bfd1e",
   "metadata": {},
   "source": [
    "### 모델 학습"
   ]
  },
  {
   "cell_type": "code",
   "execution_count": 79,
   "id": "7bb1b9e9",
   "metadata": {},
   "outputs": [
    {
     "name": "stderr",
     "output_type": "stream",
     "text": [
      "27 Dec 13:38    INFO  epoch 0 training [time: 69.30s, train loss: 1696.1397]\n",
      "27 Dec 13:43    INFO  epoch 0 evaluating [time: 274.13s, valid_score: 0.097400]\n",
      "27 Dec 13:43    INFO  valid result: \n",
      "recall@10 : 0.0974    mrr@10 : 0.3248    ndcg@10 : 0.1512    hit@10 : 0.6573    precision@10 : 0.1269    map@10 : 0.07\n",
      "27 Dec 13:43    INFO  Saving current: saved/FFM-Dec-27-2022_13-37-27.pth\n",
      "27 Dec 13:44    INFO  epoch 1 training [time: 75.69s, train loss: 1456.6774]\n",
      "27 Dec 13:49    INFO  epoch 1 evaluating [time: 275.00s, valid_score: 0.108900]\n",
      "27 Dec 13:49    INFO  valid result: \n",
      "recall@10 : 0.1089    mrr@10 : 0.3546    ndcg@10 : 0.1681    hit@10 : 0.6939    precision@10 : 0.1408    map@10 : 0.0797\n",
      "27 Dec 13:49    INFO  Saving current: saved/FFM-Dec-27-2022_13-37-27.pth\n",
      "27 Dec 13:50    INFO  epoch 2 training [time: 73.82s, train loss: 1365.6169]\n",
      "27 Dec 13:54    INFO  epoch 2 evaluating [time: 283.51s, valid_score: 0.114000]\n",
      "27 Dec 13:54    INFO  valid result: \n",
      "recall@10 : 0.114    mrr@10 : 0.3641    ndcg@10 : 0.1749    hit@10 : 0.7114    precision@10 : 0.1468    map@10 : 0.0835\n",
      "27 Dec 13:54    INFO  Saving current: saved/FFM-Dec-27-2022_13-37-27.pth\n",
      "27 Dec 13:56    INFO  epoch 3 training [time: 73.09s, train loss: 1310.2917]\n",
      "27 Dec 14:00    INFO  epoch 3 evaluating [time: 264.54s, valid_score: 0.116400]\n",
      "27 Dec 14:00    INFO  valid result: \n",
      "recall@10 : 0.1164    mrr@10 : 0.3705    ndcg@10 : 0.1788    hit@10 : 0.7209    precision@10 : 0.1499    map@10 : 0.0857\n",
      "27 Dec 14:00    INFO  Saving current: saved/FFM-Dec-27-2022_13-37-27.pth\n",
      "27 Dec 14:01    INFO  epoch 4 training [time: 75.79s, train loss: 1268.5253]\n",
      "27 Dec 14:06    INFO  epoch 4 evaluating [time: 270.30s, valid_score: 0.119600]\n",
      "27 Dec 14:06    INFO  valid result: \n",
      "recall@10 : 0.1196    mrr@10 : 0.3753    ndcg@10 : 0.1823    hit@10 : 0.7301    precision@10 : 0.1531    map@10 : 0.0876\n",
      "27 Dec 14:06    INFO  Saving current: saved/FFM-Dec-27-2022_13-37-27.pth\n",
      "27 Dec 14:07    INFO  epoch 5 training [time: 70.69s, train loss: 1238.6878]\n",
      "27 Dec 14:12    INFO  epoch 5 evaluating [time: 275.13s, valid_score: 0.120200]\n",
      "27 Dec 14:12    INFO  valid result: \n",
      "recall@10 : 0.1202    mrr@10 : 0.3767    ndcg@10 : 0.183    hit@10 : 0.7321    precision@10 : 0.1538    map@10 : 0.0878\n",
      "27 Dec 14:12    INFO  Saving current: saved/FFM-Dec-27-2022_13-37-27.pth\n"
     ]
    }
   ],
   "source": [
    "# trainer loading and initialization\n",
    "trainer = get_trainer(config['MODEL_TYPE'], config['model'])(config, model)\n",
    "\n",
    "# model training\n",
    "best_valid_score, best_valid_result = trainer.fit(\n",
    "    train_data, valid_data, saved=True, show_progress=config['show_progress']\n",
    ")"
   ]
  },
  {
   "cell_type": "markdown",
   "id": "baf0ea34",
   "metadata": {},
   "source": [
    "### 학습 결과 출력"
   ]
  },
  {
   "cell_type": "code",
   "execution_count": 80,
   "id": "40d5e294",
   "metadata": {},
   "outputs": [
    {
     "name": "stderr",
     "output_type": "stream",
     "text": [
      "27 Dec 14:12    INFO  Loading model structure and parameters from saved/FFM-Dec-27-2022_13-37-27.pth\n",
      "27 Dec 14:16    INFO  best valid : OrderedDict([('recall@10', 0.1202), ('mrr@10', 0.3767), ('ndcg@10', 0.183), ('hit@10', 0.7321), ('precision@10', 0.1538), ('map@10', 0.0878)])\n",
      "27 Dec 14:16    INFO  test result: OrderedDict([('recall@10', 0.1361), ('mrr@10', 0.441), ('ndcg@10', 0.2223), ('hit@10', 0.7583), ('precision@10', 0.1827), ('map@10', 0.1184)])\n"
     ]
    },
    {
     "name": "stdout",
     "output_type": "stream",
     "text": [
      "{\n",
      "    \"best_valid_score\": 0.1202,\n",
      "    \"valid_score_bigger\": true,\n",
      "    \"best_valid_result\": {\n",
      "        \"recall@10\": 0.1202,\n",
      "        \"mrr@10\": 0.3767,\n",
      "        \"ndcg@10\": 0.183,\n",
      "        \"hit@10\": 0.7321,\n",
      "        \"precision@10\": 0.1538,\n",
      "        \"map@10\": 0.0878\n",
      "    },\n",
      "    \"test_result\": {\n",
      "        \"recall@10\": 0.1361,\n",
      "        \"mrr@10\": 0.441,\n",
      "        \"ndcg@10\": 0.2223,\n",
      "        \"hit@10\": 0.7583,\n",
      "        \"precision@10\": 0.1827,\n",
      "        \"map@10\": 0.1184\n",
      "    }\n",
      "}\n"
     ]
    }
   ],
   "source": [
    "# model evaluation\n",
    "test_result = trainer.evaluate(test_data, load_best_model=\"True\", show_progress=config['show_progress'])\n",
    "\n",
    "logger.info(set_color('best valid ', 'yellow') + f': {best_valid_result}')\n",
    "logger.info(set_color('test result', 'yellow') + f': {test_result}')\n",
    "\n",
    "result = {\n",
    "    'best_valid_score': best_valid_score,\n",
    "    'valid_score_bigger': config['valid_metric_bigger'],\n",
    "    'best_valid_result': best_valid_result,\n",
    "    'test_result': test_result\n",
    "}\n",
    "\n",
    "print(json.dumps(result, indent=4))"
   ]
  },
  {
   "cell_type": "code",
   "execution_count": 81,
   "id": "fefa4735",
   "metadata": {},
   "outputs": [
    {
     "name": "stderr",
     "output_type": "stream",
     "text": [
      "27 Dec 14:30    INFO  \n",
      "General Hyper Parameters:\n",
      "gpu_id = 0\n",
      "use_gpu = True\n",
      "seed = 2020\n",
      "state = INFO\n",
      "reproducibility = True\n",
      "data_path = dataset/train_data\n",
      "checkpoint_dir = saved\n",
      "show_progress = False\n",
      "save_dataset = False\n",
      "dataset_save_path = None\n",
      "save_dataloaders = False\n",
      "dataloaders_save_path = None\n",
      "log_wandb = False\n",
      "\n",
      "Training Hyper Parameters:\n",
      "epochs = 6\n",
      "train_batch_size = 2048\n",
      "learner = adam\n",
      "learning_rate = 0.001\n",
      "train_neg_sample_args = {'uniform': 1, 'distribution': 'uniform', 'sample_num': 1, 'alpha': 1.0, 'dynamic': False, 'candidate_num': 0}\n",
      "eval_step = 1\n",
      "stopping_step = 10\n",
      "clip_grad_norm = None\n",
      "weight_decay = 0.0\n",
      "loss_decimal_place = 4\n",
      "\n",
      "Evaluation Hyper Parameters:\n",
      "eval_args = {'split': {'RS': [8, 1, 1]}, 'group_by': 'user', 'order': 'RO', 'mode': 'full'}\n",
      "repeatable = False\n",
      "metrics = ['Recall', 'MRR', 'NDCG', 'Hit', 'Precision', 'MAP']\n",
      "topk = [10]\n",
      "valid_metric = Recall@10\n",
      "valid_metric_bigger = True\n",
      "eval_batch_size = 4096\n",
      "metric_decimal_place = 4\n",
      "\n",
      "Dataset Hyper Parameters:\n",
      "field_separator = \t\n",
      "seq_separator =  \n",
      "USER_ID_FIELD = user_id\n",
      "ITEM_ID_FIELD = item_id\n",
      "RATING_FIELD = rating\n",
      "TIME_FIELD = timestamp\n",
      "seq_len = None\n",
      "LABEL_FIELD = label\n",
      "threshold = None\n",
      "NEG_PREFIX = neg_\n",
      "load_col = {'inter': ['user_id', 'item_id', 'timestamp'], 'user': ['user_id', 'director1', 'director2', 'director3'], 'item': ['item_id', 'director_str']}\n",
      "unload_col = None\n",
      "unused_col = None\n",
      "additional_feat_suffix = None\n",
      "rm_dup_inter = None\n",
      "val_interval = None\n",
      "filter_inter_by_user_or_item = True\n",
      "user_inter_num_interval = [0,inf)\n",
      "item_inter_num_interval = [0,inf)\n",
      "alias_of_user_id = None\n",
      "alias_of_item_id = None\n",
      "alias_of_entity_id = None\n",
      "alias_of_relation_id = None\n",
      "preload_weight = None\n",
      "normalize_field = None\n",
      "normalize_all = None\n",
      "ITEM_LIST_LENGTH_FIELD = item_length\n",
      "LIST_SUFFIX = _list\n",
      "MAX_ITEM_LIST_LENGTH = 50\n",
      "POSITION_FIELD = position_id\n",
      "HEAD_ENTITY_ID_FIELD = head_id\n",
      "TAIL_ENTITY_ID_FIELD = tail_id\n",
      "RELATION_ID_FIELD = relation_id\n",
      "ENTITY_ID_FIELD = entity_id\n",
      "benchmark_filename = None\n",
      "\n",
      "Other Hyper Parameters: \n",
      "worker = 0\n",
      "wandb_project = recbole\n",
      "shuffle = True\n",
      "require_pow = False\n",
      "enable_amp = False\n",
      "enable_scaler = False\n",
      "transform = None\n",
      "embedding_size = 10\n",
      "fields = None\n",
      "numerical_features = []\n",
      "discretization = None\n",
      "kg_reverse_r = False\n",
      "entity_kg_num_interval = [0,inf)\n",
      "relation_kg_num_interval = [0,inf)\n",
      "MODEL_TYPE = ModelType.CONTEXT\n",
      "MODEL_INPUT_TYPE = InputType.POINTWISE\n",
      "eval_type = EvaluatorType.RANKING\n",
      "single_spec = True\n",
      "local_rank = 0\n",
      "device = cuda\n",
      "eval_neg_sample_args = {'distribution': 'uniform', 'sample_num': 'none'}\n",
      "\n",
      "\n",
      "27 Dec 14:30    INFO  train_data\n",
      "The number of users: 31361\n",
      "Average actions of users: 164.36450892857144\n",
      "The number of items: 6808\n",
      "Average actions of items: 757.2309387395328\n",
      "The number of inters: 5154471\n",
      "The sparsity of the dataset: 97.58579218741939%\n",
      "Remain Fields: ['user_id', 'item_id', 'timestamp', 'director1', 'director2', 'director3', 'director_str']\n",
      "27 Dec 14:31    INFO  [Training]: train_batch_size = [2048] train_neg_sample_args: [{'uniform': 1, 'distribution': 'uniform', 'sample_num': 1, 'alpha': 1.0, 'dynamic': False, 'candidate_num': 0}]\n",
      "27 Dec 14:31    INFO  [Evaluation]: eval_batch_size = [4096] eval_args: [{'split': {'RS': [8, 1, 1]}, 'group_by': 'user', 'order': 'RO', 'mode': 'full'}]\n"
     ]
    }
   ],
   "source": [
    "# 모델 불러오기\n",
    "model_path='saved/FFM-Dec-27-2022_13-37-27.pth'\n",
    "config, model, dataset, train_data, valid_data, test_data = load_data_and_model(model_path)"
   ]
  },
  {
   "cell_type": "markdown",
   "id": "5d96a06f",
   "metadata": {},
   "source": [
    "## Inference"
   ]
  },
  {
   "cell_type": "code",
   "execution_count": 134,
   "id": "7c01e26f",
   "metadata": {},
   "outputs": [
    {
     "name": "stderr",
     "output_type": "stream",
     "text": [
      "Inference:   0%|          | 0/245 [00:00<?, ?it/s]:   8%|▊         | 20/245 [00:01<00:11, 19.33it/s]:  16%|█▋        | 40/245 [00:02<00:10, 19.36it/s]:  24%|██▍       | 60/245 [00:03<00:09, 19.38it/s]:  33%|███▎      | 80/245 [00:04<00:08, 19.37it/s]:  41%|████      | 100/245 [00:05<00:07, 19.36it/s]:  49%|████▉     | 120/245 [00:06<00:06, 19.34it/s]:  57%|█████▋    | 140/245 [00:07<00:05, 19.32it/s]:  65%|██████▌   | 160/245 [00:08<00:04, 19.29it/s]:  73%|███████▎  | 180/245 [00:09<00:03, 19.27it/s]:  82%|████████▏ | 200/245 [00:10<00:02, 19.23it/s]:  90%|████████▉ | 220/245 [00:11<00:01, 19.20it/s]:  98%|█████████▊| 240/245 [00:12<00:00, 19.17it/s]: 100%|██████████| 245/245 [00:12<00:00, 19.26it/s]\n"
     ]
    }
   ],
   "source": [
    "from recbole.utils.case_study import full_sort_topk\n",
    "\n",
    "user_id = config['USER_ID_FIELD']\n",
    "item_id = config['ITEM_ID_FIELD']\n",
    "user_id2token = dataset.field2id_token[user_id]\n",
    "item_id2token = dataset.field2id_token[item_id]\n",
    "\n",
    "all_user_list = torch.arange(1, len(user_id2token)).view(-1,128)\n",
    "\n",
    "device = config.final_config_dict['device']\n",
    "\n",
    "tbar = tqdm(all_user_list, desc=set_color(f\"Inference\", 'pink'), leave=True, mininterval=1)\n",
    "\n",
    "pred_list = None\n",
    "user_list = []\n",
    "for data in tbar:\n",
    "    batch_pred_list = full_sort_topk(data, model, test_data, 30, device=device)[1]\n",
    "    batch_pred_list = batch_pred_list.clone().detach().cpu().numpy()\n",
    "    if pred_list is None:\n",
    "        pred_list = batch_pred_list\n",
    "        user_list = data.numpy()\n",
    "    else:\n",
    "        pred_list = np.append(pred_list, batch_pred_list, axis=0)\n",
    "        user_list = np.append(\n",
    "            user_list, data.numpy(), axis=0\n",
    "        )\n",
    "tbar.close()"
   ]
  },
  {
   "cell_type": "code",
   "execution_count": 86,
   "id": "e557d82c-188b-4f81-8fc3-beab136a4786",
   "metadata": {},
   "outputs": [],
   "source": [
    "# pred_list"
   ]
  },
  {
   "cell_type": "code",
   "execution_count": 90,
   "id": "205f0346-8b3c-48e3-af51-00409ad99a94",
   "metadata": {
    "collapsed": true,
    "jupyter": {
     "outputs_hidden": true
    },
    "tags": []
   },
   "outputs": [
    {
     "data": {
      "text/plain": [
       "array([ 4643,   170,   531,   616,  2140,  2722,  2313,  2688,  2428,\n",
       "        3113,  1591,  2600,  8169,  2572, 58293,  7541,  1367,    32,\n",
       "        4792,  7444, 53953, 56949,  6502, 53000, 51662,  5151, 35836,\n",
       "        7293, 33585,  8810, 56801,  5377,   344,    19,   410,  2124,\n",
       "         828,  1274,  8977,  1032,  1214,  1200,  1320,  3897,  7173,\n",
       "        1225,  2858, 59418, 45361,  2706,  1321,  2793, 33085,  4235,\n",
       "        3892,  4340, 27660, 43556, 47124,  2294, 48304,   150, 31184,\n",
       "       34338,  1917, 50162,  2827, 27368,  4366,  2153, 30812,  3525,\n",
       "        1270,  2011,  2012,  8973,  1255,  2018,   541,  4878,  7361,\n",
       "       31658,  2571,  7099,   260,  1196, 60069,   160,  1882, 60037,\n",
       "         880, 36509,   405,  3826,  4133,   673,  6541,   611,   172,\n",
       "        4638,  5171,   208,  4887,  5459, 60760,  8361, 60514,  1544,\n",
       "        1876,   442, 32213,  5219,  1690,  2717, 27608, 52722,   780,\n",
       "        6934, 52287,  3745, 45499, 37830, 60040, 34319,  8644,  6365,\n",
       "       34048,   316,  3300,  7022,  7254, 57368,  1584,  2232,  1748,\n",
       "        1253, 49278, 42718,  1097,  7481,  5903,  1653,   741, 27728,\n",
       "        2716, 52281, 57640,  2761, 59315,   480,  3702,  1580,  5445,\n",
       "       52885,  3527, 44849, 27904,  5349,  8636,   589,  1240,  2916,\n",
       "        3793,  6333,  3054,   546,   256,   173,  2642,  7846,  8870,\n",
       "       54771,  7845, 34150, 51412,  3697,  6534,  7163,  5463,  3438,\n",
       "        3269,  8371,  5046,  6537,  4446,  8865,  5378, 32031,  3704,\n",
       "        4533,  6659,  2134,  1676,  2105,  5502,  3033,   592, 56174,\n",
       "         318, 60832,  4993,  3114,  1136,  1073,   648,   110,  8622,\n",
       "        6874,  6863,  6539,  6377,  5816,  5669,  5618,  5299,  3863,\n",
       "        3752,  2355,  2291,  1339,  1029,  1028,   784,   610,   551,\n",
       "         158, 54001, 50872, 48394, 45722, 33679, 31878, 30793,  6953,\n",
       "        6503,  6281,  5782,  5400,  5266,  4388,  4299,  4054,  3988,\n",
       "        3980,  3969,  3247,  2840,  2720,  2004,   761, 56757, 41571,\n",
       "       36401,  8965,  8907,  8640,  7439,  6996,  5283,  4974,  2959,\n",
       "        2240,  2042,  2028,   296,   356,   593,     1,  1210,   608,\n",
       "         377,  1198,   165,   595,   153,   364,   597,   231,   500,\n",
       "         367,  1721,   587,  1197,  2628,   253,  1291,  3578,  1036,\n",
       "         185,  4306,   586,    39,  5952,  2396,  1961,  1527,  1387,\n",
       "        8368,  6378,  6016,  4896,  3000,  2810,  3159,  7458,  5152,\n",
       "       33493, 41566,  4973, 33794,  4995, 33660, 33166, 58559, 62265,\n",
       "       27441, 67295,   653, 55999, 63859,  3753,  8972, 53125,  3083,\n",
       "        5225,  1046, 64034, 53996, 43932, 26887, 66171, 68319, 51698,\n",
       "        5444,  6731,  2455, 56145,   968, 54995, 52328,  3994, 44191,\n",
       "        6979, 60684,  6250, 44731, 64497,  3864,  6294, 64997, 67197,\n",
       "       69526,  5882, 31660,  1391,  4571,  4492,  2985,   380,   527,\n",
       "         588,   736,  2762, 41569, 72641, 48774, 48516, 71282, 64614,\n",
       "       34542, 65514, 48738,  6291, 46578,  7153,  4226])"
      ]
     },
     "execution_count": 90,
     "metadata": {},
     "output_type": "execute_result"
    }
   ],
   "source": [
    "train_df[train_df['user'] == 11]['item'].unique()"
   ]
  },
  {
   "cell_type": "code",
   "execution_count": 121,
   "id": "fb43e859-b736-4fc1-88b8-6a1edbb8992a",
   "metadata": {},
   "outputs": [
    {
     "data": {
      "text/plain": [
       "(31360, 30)"
      ]
     },
     "execution_count": 121,
     "metadata": {},
     "output_type": "execute_result"
    }
   ],
   "source": [
    "pred_list.shape"
   ]
  },
  {
   "cell_type": "code",
   "execution_count": 131,
   "id": "d8283509",
   "metadata": {},
   "outputs": [],
   "source": [
    "# user별 item 추천 결과 하나로 합쳐주기\n",
    "result = []\n",
    "for user, pred in zip(user_list, pred_list):\n",
    "    item_cnt = 0 # 10개가 되면 다음 유저로 이동\n",
    "    user = int(index_2_userid[user-1])\n",
    "    user_before = train_df[train_df['user'] == user]['item'].unique()\n",
    "    for item in pred:\n",
    "        item = index_2_itemid[int(item_id2token[item])]\n",
    "        if item_cnt >= 10:\n",
    "            continue\n",
    "        if item not in user_before:\n",
    "            result.append((user, item))\n",
    "            item_cnt += 1"
   ]
  },
  {
   "cell_type": "code",
   "execution_count": 132,
   "id": "7bed700d",
   "metadata": {},
   "outputs": [
    {
     "name": "stdout",
     "output_type": "stream",
     "text": [
      "inference done!\n"
     ]
    }
   ],
   "source": [
    "# submission file 제작하기\n",
    "sub = pd.DataFrame(result, columns=[\"user\", \"item\"])\n",
    "sub.to_csv(\n",
    "    \"submission_ffm.csv\", index=False\n",
    ")\n",
    "print('inference done!')"
   ]
  },
  {
   "cell_type": "code",
   "execution_count": 129,
   "id": "5e5ca3c0-0632-4ab2-a43c-dba5664530ca",
   "metadata": {},
   "outputs": [
    {
     "data": {
      "text/plain": [
       "0"
      ]
     },
     "execution_count": 129,
     "metadata": {},
     "output_type": "execute_result"
    }
   ],
   "source": [
    "sub['item'].isna().sum()"
   ]
  },
  {
   "cell_type": "code",
   "execution_count": null,
   "id": "7a2dc396-6bfc-4c8f-810e-3f5be451b31a",
   "metadata": {},
   "outputs": [],
   "source": []
  },
  {
   "cell_type": "code",
   "execution_count": null,
   "id": "40e5b77c-9373-495c-ac85-45fc780a3aa4",
   "metadata": {},
   "outputs": [],
   "source": []
  },
  {
   "cell_type": "code",
   "execution_count": null,
   "id": "cfd09ed2-6e9a-4421-bf11-1c87961e5942",
   "metadata": {},
   "outputs": [],
   "source": [
    "# config, model, dataset 불러오기\n",
    "\n",
    "# device 설정\n",
    "device = config.final_config_dict['device']\n",
    "\n",
    "# user, item id -> token 변환 array\n",
    "user_id = config['USER_ID_FIELD']\n",
    "item_id = config['ITEM_ID_FIELD']\n",
    "user_id2token = dataset.field2id_token[user_id]\n",
    "item_id2token = dataset.field2id_token[item_id]\n",
    "\n",
    "# user id list\n",
    "all_user_list = torch.arange(1, len(user_id2token)).view(-1,128) # 245, 128\n",
    "\n",
    "# user, item 길이\n",
    "user_len = len(user_id2token) # 31361 (PAD 포함)\n",
    "item_len = len(item_id2token) # 6808 (PAD 포함)\n",
    "\n",
    "\n",
    "# user id, predict item id 저장 변수\n",
    "pred_list = None\n",
    "user_list = None\n",
    "\n",
    "# model 평가모드 전환\n",
    "model.eval()\n",
    "\n",
    "# progress bar 설정\n",
    "tbar = tqdm(all_user_list, desc=set_color(f\"Inference\", 'pink')) # 245, 128\n",
    "\n",
    "for data in tbar: # data: 128, \n",
    "    batch_pred_list = full_sort_topk(data, model, test_data, 30, device=device)[1]\n",
    "    batch_pred_list = batch_pred_list.clone().detach().cpu().numpy()\n",
    "    if pred_list is None: # 처음에는 직접 정의\n",
    "        pred_list = batch_pred_list\n",
    "        user_list = data.numpy()\n",
    "    else: # pred_list가 있을 때는, append\n",
    "        pred_list = np.append(pred_list, batch_pred_list, axis=0)\n",
    "        user_list = np.append(\n",
    "            user_list, user_index, axis=0\n",
    "        )"
   ]
  }
 ],
 "metadata": {
  "kernelspec": {
   "display_name": "Python 3 (ipykernel)",
   "language": "python",
   "name": "python3"
  },
  "language_info": {
   "codemirror_mode": {
    "name": "ipython",
    "version": 3
   },
   "file_extension": ".py",
   "mimetype": "text/x-python",
   "name": "python",
   "nbconvert_exporter": "python",
   "pygments_lexer": "ipython3",
   "version": "3.8.5"
  },
  "toc": {
   "base_numbering": 1,
   "nav_menu": {},
   "number_sections": true,
   "sideBar": true,
   "skip_h1_title": false,
   "title_cell": "Table of Contents",
   "title_sidebar": "Contents",
   "toc_cell": false,
   "toc_position": {},
   "toc_section_display": true,
   "toc_window_display": false
  },
  "vscode": {
   "interpreter": {
    "hash": "3d4ebc8f5be3b9760b7b8c89820e25f6cc4c8c3873d1ecd46134e38c918e05a9"
   }
  }
 },
 "nbformat": 4,
 "nbformat_minor": 5
}

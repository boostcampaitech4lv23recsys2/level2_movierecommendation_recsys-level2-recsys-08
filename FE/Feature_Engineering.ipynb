{
 "cells": [
  {
   "cell_type": "code",
   "execution_count": 1,
   "metadata": {},
   "outputs": [],
   "source": [
    "import torch\n",
    "import pandas as pd\n",
    "import numpy as np\n",
    "from transformers import BertTokenizer, BertModel"
   ]
  },
  {
   "cell_type": "code",
   "execution_count": 2,
   "metadata": {},
   "outputs": [],
   "source": [
    "main_df = pd.read_csv('/opt/ml/input/data/train/train_ratings.csv') # user-item-time\n",
    "title_df = pd.read_csv('/opt/ml/input/data/train/titles.tsv', sep='\\t') # item-title\n",
    "year_df = pd.read_csv('/opt/ml/input/data/train/years.tsv', sep='\\t') # item-year\n",
    "director_df = pd.read_csv('/opt/ml/input/data/train/directors.tsv', sep='\\t') # item-director\n",
    "genre_name_df = pd.read_csv('/opt/ml/input/data/train/genres.tsv', sep='\\t') # item-genre(name)\n",
    "writer_df = pd.read_csv('/opt/ml/input/data/train/writers.tsv', sep='\\t') # item-writer"
   ]
  },
  {
   "cell_type": "code",
   "execution_count": 3,
   "metadata": {},
   "outputs": [],
   "source": [
    "# genres_df 생성\n",
    "genres_df = pd.read_csv(\"/opt/ml/input/data/train/genres.tsv\", sep=\"\\t\")\n",
    "array, index = pd.factorize(genres_df[\"genre\"])\n",
    "genres_df[\"genre\"] = array # item-genre(number)"
   ]
  },
  {
   "attachments": {},
   "cell_type": "markdown",
   "metadata": {},
   "source": [
    "# Genre Embedding"
   ]
  },
  {
   "attachments": {},
   "cell_type": "markdown",
   "metadata": {},
   "source": [
    "한 영화에 여러개의 장르가 있다.  \n",
    "장르는 각각의 성질을 가지고 있다고 가정하고 (ex: \"액션\"과 \"범죄\"의 거리는 \"액션\"과 \"드라마\"의 거리보다 가깝다)  \n",
    "각 단어들을 임베딩하여 숫자로 표현한다.\n",
    "이때 각 단어는 크기가 약 760인 벡터로 임베딩 되는데 이 760개의 성분의 평균을 <U>**장르의 임베딩값**</U>으로 설정했다\n",
    "\n",
    "여러 장르를 동시에 갖는 영화는 해당 장르들의 임베딩 값의 평균으로 설정하였다"
   ]
  },
  {
   "cell_type": "code",
   "execution_count": 4,
   "metadata": {},
   "outputs": [
    {
     "name": "stderr",
     "output_type": "stream",
     "text": [
      "Some weights of the model checkpoint at bert-base-uncased were not used when initializing BertModel: ['cls.predictions.transform.dense.bias', 'cls.seq_relationship.bias', 'cls.predictions.transform.LayerNorm.weight', 'cls.seq_relationship.weight', 'cls.predictions.transform.dense.weight', 'cls.predictions.bias', 'cls.predictions.decoder.weight', 'cls.predictions.transform.LayerNorm.bias']\n",
      "- This IS expected if you are initializing BertModel from the checkpoint of a model trained on another task or with another architecture (e.g. initializing a BertForSequenceClassification model from a BertForPreTraining model).\n",
      "- This IS NOT expected if you are initializing BertModel from the checkpoint of a model that you expect to be exactly identical (initializing a BertForSequenceClassification model from a BertForSequenceClassification model).\n"
     ]
    },
    {
     "data": {
      "text/html": [
       "<div>\n",
       "<style scoped>\n",
       "    .dataframe tbody tr th:only-of-type {\n",
       "        vertical-align: middle;\n",
       "    }\n",
       "\n",
       "    .dataframe tbody tr th {\n",
       "        vertical-align: top;\n",
       "    }\n",
       "\n",
       "    .dataframe thead th {\n",
       "        text-align: right;\n",
       "    }\n",
       "</style>\n",
       "<table border=\"1\" class=\"dataframe\">\n",
       "  <thead>\n",
       "    <tr style=\"text-align: right;\">\n",
       "      <th></th>\n",
       "      <th>user</th>\n",
       "      <th>item</th>\n",
       "      <th>time</th>\n",
       "      <th>item_2</th>\n",
       "    </tr>\n",
       "  </thead>\n",
       "  <tbody>\n",
       "    <tr>\n",
       "      <th>0</th>\n",
       "      <td>11</td>\n",
       "      <td>4643</td>\n",
       "      <td>1230782529</td>\n",
       "      <td>-0.009958</td>\n",
       "    </tr>\n",
       "    <tr>\n",
       "      <th>1</th>\n",
       "      <td>11</td>\n",
       "      <td>170</td>\n",
       "      <td>1230782534</td>\n",
       "      <td>-0.010141</td>\n",
       "    </tr>\n",
       "    <tr>\n",
       "      <th>2</th>\n",
       "      <td>11</td>\n",
       "      <td>531</td>\n",
       "      <td>1230782539</td>\n",
       "      <td>-0.010972</td>\n",
       "    </tr>\n",
       "    <tr>\n",
       "      <th>3</th>\n",
       "      <td>11</td>\n",
       "      <td>616</td>\n",
       "      <td>1230782542</td>\n",
       "      <td>-0.010493</td>\n",
       "    </tr>\n",
       "    <tr>\n",
       "      <th>4</th>\n",
       "      <td>11</td>\n",
       "      <td>2140</td>\n",
       "      <td>1230782563</td>\n",
       "      <td>-0.010183</td>\n",
       "    </tr>\n",
       "    <tr>\n",
       "      <th>...</th>\n",
       "      <td>...</td>\n",
       "      <td>...</td>\n",
       "      <td>...</td>\n",
       "      <td>...</td>\n",
       "    </tr>\n",
       "    <tr>\n",
       "      <th>5154466</th>\n",
       "      <td>138493</td>\n",
       "      <td>44022</td>\n",
       "      <td>1260209449</td>\n",
       "      <td>-0.010516</td>\n",
       "    </tr>\n",
       "    <tr>\n",
       "      <th>5154467</th>\n",
       "      <td>138493</td>\n",
       "      <td>4958</td>\n",
       "      <td>1260209482</td>\n",
       "      <td>-0.010298</td>\n",
       "    </tr>\n",
       "    <tr>\n",
       "      <th>5154468</th>\n",
       "      <td>138493</td>\n",
       "      <td>68319</td>\n",
       "      <td>1260209720</td>\n",
       "      <td>-0.009911</td>\n",
       "    </tr>\n",
       "    <tr>\n",
       "      <th>5154469</th>\n",
       "      <td>138493</td>\n",
       "      <td>40819</td>\n",
       "      <td>1260209726</td>\n",
       "      <td>-0.010697</td>\n",
       "    </tr>\n",
       "    <tr>\n",
       "      <th>5154470</th>\n",
       "      <td>138493</td>\n",
       "      <td>27311</td>\n",
       "      <td>1260209807</td>\n",
       "      <td>-0.009940</td>\n",
       "    </tr>\n",
       "  </tbody>\n",
       "</table>\n",
       "<p>5154471 rows × 4 columns</p>\n",
       "</div>"
      ],
      "text/plain": [
       "           user   item        time    item_2\n",
       "0            11   4643  1230782529 -0.009958\n",
       "1            11    170  1230782534 -0.010141\n",
       "2            11    531  1230782539 -0.010972\n",
       "3            11    616  1230782542 -0.010493\n",
       "4            11   2140  1230782563 -0.010183\n",
       "...         ...    ...         ...       ...\n",
       "5154466  138493  44022  1260209449 -0.010516\n",
       "5154467  138493   4958  1260209482 -0.010298\n",
       "5154468  138493  68319  1260209720 -0.009911\n",
       "5154469  138493  40819  1260209726 -0.010697\n",
       "5154470  138493  27311  1260209807 -0.009940\n",
       "\n",
       "[5154471 rows x 4 columns]"
      ]
     },
     "execution_count": 4,
     "metadata": {},
     "output_type": "execute_result"
    }
   ],
   "source": [
    "# Load the BERT model and tokenizer\n",
    "tokenizer = BertTokenizer.from_pretrained('bert-base-uncased')\n",
    "model = BertModel.from_pretrained('bert-base-uncased')\n",
    "\n",
    "genre_vectors = {} # 각 장르의 임베딩 dict\n",
    "\n",
    "# Tokenize a genre\n",
    "for i,j in enumerate(genre_name_df['genre'].unique()):\n",
    "    input_ids = torch.tensor(tokenizer.encode(f\"{j}\")).unsqueeze(0)  # Tokenize a genre\n",
    "    output = model(input_ids)[0]  # Extract the hidden states of the model at the last layer, The last layer hidden states\n",
    "    token_embedding = output[0][0]  # Extract the first token's embedding\n",
    "    np_token_embedding = token_embedding.detach().numpy() # convert to numpy\n",
    "    v = np_token_embedding.mean()\n",
    "    genre_vectors[i] = v\n",
    "\n",
    "\n",
    "ref_genre_dict = {} # 각 영화가 어떤 장르를 가지고 있는지 나타내는 dict\n",
    "for i, j in list(zip(genres_df['item'], genres_df['genre'])):\n",
    "    try:\n",
    "        ref_genre_dict[i].append(j)\n",
    "    except KeyError:\n",
    "        ref_genre_dict[i] = [j]\n",
    "\n",
    "\n",
    "genre_df_dict = {} # 각 영화의 장르 통합 임베딩 dict\n",
    "for i, j in list(zip(ref_genre_dict.keys(), ref_genre_dict.values())):\n",
    "    genre_df_dict[i] = 0\n",
    "    for k in j:\n",
    "        genre_df_dict[i] += genre_vectors[k]\n",
    "    genre_df_dict[i] = (genre_df_dict[i])/len(j)\n",
    "\n",
    "# 데이터 프레임에 적용\n",
    "ref_df = main_df.copy()\n",
    "ref_df['item_2'] = ref_df['item']\n",
    "ref_df.item_2 = ref_df.item_2.map(genre_df_dict)\n",
    "ref_df.rename(columns={'item_2':'genre_embedding'})\n",
    "ref_df"
   ]
  }
 ],
 "metadata": {
  "kernelspec": {
   "display_name": "base",
   "language": "python",
   "name": "python3"
  },
  "language_info": {
   "codemirror_mode": {
    "name": "ipython",
    "version": 3
   },
   "file_extension": ".py",
   "mimetype": "text/x-python",
   "name": "python",
   "nbconvert_exporter": "python",
   "pygments_lexer": "ipython3",
   "version": "3.8.5"
  },
  "orig_nbformat": 4,
  "vscode": {
   "interpreter": {
    "hash": "d4d1e4263499bec80672ea0156c357c1ee493ec2b1c70f0acce89fc37c4a6abe"
   }
  }
 },
 "nbformat": 4,
 "nbformat_minor": 2
}

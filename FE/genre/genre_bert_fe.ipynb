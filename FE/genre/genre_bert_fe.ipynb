{
 "cells": [
  {
   "cell_type": "code",
   "execution_count": 5,
   "metadata": {},
   "outputs": [],
   "source": [
    "import torch\n",
    "import pandas as pd\n",
    "import numpy as np\n",
    "# pip install transformers\n",
    "from transformers import BertTokenizer, BertModel\n",
    "# 만약 주피터 노트북에서 아래와 관계있는 에러가 발생한다면\n",
    "# pip install ipywidgets"
   ]
  },
  {
   "cell_type": "code",
   "execution_count": 6,
   "metadata": {},
   "outputs": [],
   "source": [
    "main_df = pd.read_csv('/opt/ml/input/data/train/train_ratings.csv') # user-item-time"
   ]
  },
  {
   "cell_type": "code",
   "execution_count": 7,
   "metadata": {},
   "outputs": [],
   "source": [
    "# genre_df 생성\n",
    "genre_df = pd.read_csv(\"/opt/ml/input/data/train/genres.tsv\", sep=\"\\t\")\n",
    "array, index = pd.factorize(genre_df[\"genre\"])\n",
    "genre_df[\"genre\"] = array # item-genre(number)"
   ]
  },
  {
   "cell_type": "markdown",
   "metadata": {},
   "source": [
    "# Genre Embedding"
   ]
  },
  {
   "cell_type": "markdown",
   "metadata": {},
   "source": [
    "한 영화에 여러개의 장르가 있다.  \n",
    "장르는 각각의 성질을 가지고 있다고 가정하고 (ex: \"액션\"과 \"범죄\"의 거리는 \"액션\"과 \"드라마\"의 거리보다 가깝다)  \n",
    "각 단어들을 임베딩하여 숫자로 표현한다.\n",
    "이때 각 단어는 크기가 약 760인 벡터로 임베딩 되는데 이 760개의 성분의 평균을 <U>**장르의 임베딩값**</U>으로 설정했다\n",
    "\n",
    "여러 장르를 동시에 갖는 영화는 해당 장르들의 임베딩 값의 평균으로 설정하였다"
   ]
  },
  {
   "cell_type": "code",
   "execution_count": 8,
   "metadata": {
    "tags": []
   },
   "outputs": [
    {
     "name": "stderr",
     "output_type": "stream",
     "text": [
      "Some weights of the model checkpoint at bert-base-uncased were not used when initializing BertModel: ['cls.seq_relationship.weight', 'cls.predictions.decoder.weight', 'cls.predictions.bias', 'cls.seq_relationship.bias', 'cls.predictions.transform.dense.bias', 'cls.predictions.transform.LayerNorm.bias', 'cls.predictions.transform.dense.weight', 'cls.predictions.transform.LayerNorm.weight']\n",
      "- This IS expected if you are initializing BertModel from the checkpoint of a model trained on another task or with another architecture (e.g. initializing a BertForSequenceClassification model from a BertForPreTraining model).\n",
      "- This IS NOT expected if you are initializing BertModel from the checkpoint of a model that you expect to be exactly identical (initializing a BertForSequenceClassification model from a BertForSequenceClassification model).\n"
     ]
    },
    {
     "data": {
      "text/html": [
       "<div>\n",
       "<style scoped>\n",
       "    .dataframe tbody tr th:only-of-type {\n",
       "        vertical-align: middle;\n",
       "    }\n",
       "\n",
       "    .dataframe tbody tr th {\n",
       "        vertical-align: top;\n",
       "    }\n",
       "\n",
       "    .dataframe thead th {\n",
       "        text-align: right;\n",
       "    }\n",
       "</style>\n",
       "<table border=\"1\" class=\"dataframe\">\n",
       "  <thead>\n",
       "    <tr style=\"text-align: right;\">\n",
       "      <th></th>\n",
       "      <th>user</th>\n",
       "      <th>item</th>\n",
       "      <th>time</th>\n",
       "      <th>genre_embedding</th>\n",
       "    </tr>\n",
       "  </thead>\n",
       "  <tbody>\n",
       "    <tr>\n",
       "      <th>0</th>\n",
       "      <td>11</td>\n",
       "      <td>4643</td>\n",
       "      <td>1230782529</td>\n",
       "      <td>-0.010404</td>\n",
       "    </tr>\n",
       "    <tr>\n",
       "      <th>1</th>\n",
       "      <td>11</td>\n",
       "      <td>170</td>\n",
       "      <td>1230782534</td>\n",
       "      <td>-0.010290</td>\n",
       "    </tr>\n",
       "    <tr>\n",
       "      <th>2</th>\n",
       "      <td>11</td>\n",
       "      <td>531</td>\n",
       "      <td>1230782539</td>\n",
       "      <td>-0.010649</td>\n",
       "    </tr>\n",
       "    <tr>\n",
       "      <th>3</th>\n",
       "      <td>11</td>\n",
       "      <td>616</td>\n",
       "      <td>1230782542</td>\n",
       "      <td>-0.010579</td>\n",
       "    </tr>\n",
       "    <tr>\n",
       "      <th>4</th>\n",
       "      <td>11</td>\n",
       "      <td>2140</td>\n",
       "      <td>1230782563</td>\n",
       "      <td>-0.010351</td>\n",
       "    </tr>\n",
       "    <tr>\n",
       "      <th>...</th>\n",
       "      <td>...</td>\n",
       "      <td>...</td>\n",
       "      <td>...</td>\n",
       "      <td>...</td>\n",
       "    </tr>\n",
       "    <tr>\n",
       "      <th>5154466</th>\n",
       "      <td>138493</td>\n",
       "      <td>44022</td>\n",
       "      <td>1260209449</td>\n",
       "      <td>-0.010369</td>\n",
       "    </tr>\n",
       "    <tr>\n",
       "      <th>5154467</th>\n",
       "      <td>138493</td>\n",
       "      <td>4958</td>\n",
       "      <td>1260209482</td>\n",
       "      <td>-0.010321</td>\n",
       "    </tr>\n",
       "    <tr>\n",
       "      <th>5154468</th>\n",
       "      <td>138493</td>\n",
       "      <td>68319</td>\n",
       "      <td>1260209720</td>\n",
       "      <td>-0.010408</td>\n",
       "    </tr>\n",
       "    <tr>\n",
       "      <th>5154469</th>\n",
       "      <td>138493</td>\n",
       "      <td>40819</td>\n",
       "      <td>1260209726</td>\n",
       "      <td>-0.010666</td>\n",
       "    </tr>\n",
       "    <tr>\n",
       "      <th>5154470</th>\n",
       "      <td>138493</td>\n",
       "      <td>27311</td>\n",
       "      <td>1260209807</td>\n",
       "      <td>-0.010351</td>\n",
       "    </tr>\n",
       "  </tbody>\n",
       "</table>\n",
       "<p>5154471 rows × 4 columns</p>\n",
       "</div>"
      ],
      "text/plain": [
       "           user   item        time  genre_embedding\n",
       "0            11   4643  1230782529        -0.010404\n",
       "1            11    170  1230782534        -0.010290\n",
       "2            11    531  1230782539        -0.010649\n",
       "3            11    616  1230782542        -0.010579\n",
       "4            11   2140  1230782563        -0.010351\n",
       "...         ...    ...         ...              ...\n",
       "5154466  138493  44022  1260209449        -0.010369\n",
       "5154467  138493   4958  1260209482        -0.010321\n",
       "5154468  138493  68319  1260209720        -0.010408\n",
       "5154469  138493  40819  1260209726        -0.010666\n",
       "5154470  138493  27311  1260209807        -0.010351\n",
       "\n",
       "[5154471 rows x 4 columns]"
      ]
     },
     "execution_count": 8,
     "metadata": {},
     "output_type": "execute_result"
    }
   ],
   "source": [
    "# Load the BERT model and tokenizer\n",
    "tokenizer = BertTokenizer.from_pretrained('bert-base-uncased')\n",
    "model = BertModel.from_pretrained('bert-base-uncased')\n",
    "\n",
    "genre_vectors = {} # 각 장르의 임베딩 dict\n",
    "\n",
    "# Tokenize a genre\n",
    "for i,j in enumerate(genre_df['genre'].unique()):\n",
    "    input_ids = torch.tensor(tokenizer.encode(f\"{j}\")).unsqueeze(0)  # Tokenize a genre\n",
    "    output = model(input_ids)[0]  # Extract the hidden states of the model at the last layer, The last layer hidden states\n",
    "    token_embedding = output[0][0]  # Extract the first token's embedding\n",
    "    np_token_embedding = token_embedding.detach().numpy() # convert to numpy\n",
    "    v = np_token_embedding.mean()\n",
    "    genre_vectors[i] = v\n",
    "\n",
    "ref_genre_dict = {} # 각 영화가 어떤 장르를 가지고 있는지 나타내는 dict\n",
    "for i, j in list(zip(genre_df['item'], genre_df['genre'])):\n",
    "    try:\n",
    "        ref_genre_dict[i].append(j)\n",
    "    except KeyError:\n",
    "        ref_genre_dict[i] = [j]\n",
    "\n",
    "genre_df_dict = {} # 각 영화의 장르 통합 임베딩 dict\n",
    "for i, j in list(zip(ref_genre_dict.keys(), ref_genre_dict.values())):\n",
    "    genre_df_dict[i] = 0\n",
    "    for k in j:\n",
    "        genre_df_dict[i] += genre_vectors[k]\n",
    "    genre_df_dict[i] = (genre_df_dict[i])/len(j)\n",
    "\n",
    "# # 데이터 프레임에 적용\n",
    "# ref_df = main_df.copy()\n",
    "# ref_df['item_2'] = ref_df['item']\n",
    "# ref_df.item_2 = ref_df.item_2.map(genre_df_dict)\n",
    "# ref_df = ref_df.rename(columns={'item_2':'genre_embedding'})\n",
    "# ref_df"
   ]
  },
  {
   "cell_type": "code",
   "execution_count": 21,
   "metadata": {},
   "outputs": [],
   "source": [
    "result = [(item, embedding) for item, embedding in genre_df_dict.items()]"
   ]
  },
  {
   "cell_type": "code",
   "execution_count": 23,
   "metadata": {},
   "outputs": [],
   "source": [
    "result_df = pd.DataFrame(result)"
   ]
  },
  {
   "cell_type": "code",
   "execution_count": 25,
   "metadata": {},
   "outputs": [
    {
     "data": {
      "text/html": [
       "<div>\n",
       "<style scoped>\n",
       "    .dataframe tbody tr th:only-of-type {\n",
       "        vertical-align: middle;\n",
       "    }\n",
       "\n",
       "    .dataframe tbody tr th {\n",
       "        vertical-align: top;\n",
       "    }\n",
       "\n",
       "    .dataframe thead th {\n",
       "        text-align: right;\n",
       "    }\n",
       "</style>\n",
       "<table border=\"1\" class=\"dataframe\">\n",
       "  <thead>\n",
       "    <tr style=\"text-align: right;\">\n",
       "      <th></th>\n",
       "      <th>item</th>\n",
       "      <th>genre_embedding</th>\n",
       "    </tr>\n",
       "  </thead>\n",
       "  <tbody>\n",
       "    <tr>\n",
       "      <th>0</th>\n",
       "      <td>318</td>\n",
       "      <td>-0.010337</td>\n",
       "    </tr>\n",
       "    <tr>\n",
       "      <th>1</th>\n",
       "      <td>2571</td>\n",
       "      <td>-0.010408</td>\n",
       "    </tr>\n",
       "    <tr>\n",
       "      <th>2</th>\n",
       "      <td>2959</td>\n",
       "      <td>-0.010351</td>\n",
       "    </tr>\n",
       "    <tr>\n",
       "      <th>3</th>\n",
       "      <td>296</td>\n",
       "      <td>-0.010276</td>\n",
       "    </tr>\n",
       "    <tr>\n",
       "      <th>4</th>\n",
       "      <td>356</td>\n",
       "      <td>-0.010311</td>\n",
       "    </tr>\n",
       "    <tr>\n",
       "      <th>...</th>\n",
       "      <td>...</td>\n",
       "      <td>...</td>\n",
       "    </tr>\n",
       "    <tr>\n",
       "      <th>6802</th>\n",
       "      <td>73106</td>\n",
       "      <td>-0.010054</td>\n",
       "    </tr>\n",
       "    <tr>\n",
       "      <th>6803</th>\n",
       "      <td>109850</td>\n",
       "      <td>-0.010343</td>\n",
       "    </tr>\n",
       "    <tr>\n",
       "      <th>6804</th>\n",
       "      <td>8605</td>\n",
       "      <td>-0.010205</td>\n",
       "    </tr>\n",
       "    <tr>\n",
       "      <th>6805</th>\n",
       "      <td>3689</td>\n",
       "      <td>-0.010054</td>\n",
       "    </tr>\n",
       "    <tr>\n",
       "      <th>6806</th>\n",
       "      <td>8130</td>\n",
       "      <td>-0.011301</td>\n",
       "    </tr>\n",
       "  </tbody>\n",
       "</table>\n",
       "<p>6807 rows × 2 columns</p>\n",
       "</div>"
      ],
      "text/plain": [
       "        item  genre_embedding\n",
       "0        318        -0.010337\n",
       "1       2571        -0.010408\n",
       "2       2959        -0.010351\n",
       "3        296        -0.010276\n",
       "4        356        -0.010311\n",
       "...      ...              ...\n",
       "6802   73106        -0.010054\n",
       "6803  109850        -0.010343\n",
       "6804    8605        -0.010205\n",
       "6805    3689        -0.010054\n",
       "6806    8130        -0.011301\n",
       "\n",
       "[6807 rows x 2 columns]"
      ]
     },
     "execution_count": 25,
     "metadata": {},
     "output_type": "execute_result"
    }
   ],
   "source": [
    "result_df.columns = ['item', 'genre_embedding']"
   ]
  },
  {
   "cell_type": "code",
   "execution_count": 26,
   "metadata": {},
   "outputs": [],
   "source": [
    "result_df.to_csv(\n",
    "    \"genre_bert_fe.csv\", index=False\n",
    ")"
   ]
  },
  {
   "cell_type": "code",
   "execution_count": null,
   "metadata": {},
   "outputs": [],
   "source": []
  },
  {
   "cell_type": "code",
   "execution_count": null,
   "metadata": {},
   "outputs": [],
   "source": []
  }
 ],
 "metadata": {
  "kernelspec": {
   "display_name": "lastest",
   "language": "python",
   "name": "latest"
  },
  "language_info": {
   "codemirror_mode": {
    "name": "ipython",
    "version": 3
   },
   "file_extension": ".py",
   "mimetype": "text/x-python",
   "name": "python",
   "nbconvert_exporter": "python",
   "pygments_lexer": "ipython3",
   "version": "3.8.5"
  },
  "vscode": {
   "interpreter": {
    "hash": "d4d1e4263499bec80672ea0156c357c1ee493ec2b1c70f0acce89fc37c4a6abe"
   }
  }
 },
 "nbformat": 4,
 "nbformat_minor": 4
}

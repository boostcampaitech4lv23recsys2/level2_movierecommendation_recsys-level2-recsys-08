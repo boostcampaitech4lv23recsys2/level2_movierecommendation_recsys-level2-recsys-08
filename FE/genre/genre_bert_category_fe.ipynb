{
 "cells": [
  {
   "cell_type": "code",
   "execution_count": 1,
   "metadata": {},
   "outputs": [],
   "source": [
    "import torch\n",
    "import pandas as pd\n",
    "import numpy as np\n",
    "# pip install transformers\n",
    "from transformers import BertTokenizer, BertModel\n",
    "# 만약 주피터 노트북에서 아래와 관계있는 에러가 발생한다면\n",
    "# pip install ipywidgets"
   ]
  },
  {
   "cell_type": "code",
   "execution_count": 2,
   "metadata": {},
   "outputs": [],
   "source": [
    "main_df = pd.read_csv('/opt/ml/input/data/train/train_ratings.csv') # user-item-time"
   ]
  },
  {
   "cell_type": "code",
   "execution_count": 3,
   "metadata": {},
   "outputs": [],
   "source": [
    "# genre_df 생성\n",
    "genre_df = pd.read_csv(\"/opt/ml/input/data/train/genres.tsv\", sep=\"\\t\")\n",
    "array, index = pd.factorize(genre_df[\"genre\"])\n",
    "genre_df[\"genre\"] = array # item-genre(number)"
   ]
  },
  {
   "cell_type": "markdown",
   "metadata": {},
   "source": [
    "# Genre Embedding"
   ]
  },
  {
   "cell_type": "markdown",
   "metadata": {},
   "source": [
    "한 영화에 여러개의 장르가 있다.  \n",
    "장르는 각각의 성질을 가지고 있다고 가정하고 (ex: \"액션\"과 \"범죄\"의 거리는 \"액션\"과 \"드라마\"의 거리보다 가깝다)  \n",
    "각 단어들을 임베딩하여 숫자로 표현한다.\n",
    "이때 각 단어는 크기가 약 760인 벡터로 임베딩 되는데 이 760개의 성분의 평균을 <U>**장르의 임베딩값**</U>으로 설정했다\n",
    "\n",
    "여러 장르를 동시에 갖는 영화는 해당 장르들의 임베딩 값의 평균으로 설정하였다"
   ]
  },
  {
   "cell_type": "code",
   "execution_count": 4,
   "metadata": {
    "tags": []
   },
   "outputs": [
    {
     "name": "stderr",
     "output_type": "stream",
     "text": [
      "Some weights of the model checkpoint at bert-base-uncased were not used when initializing BertModel: ['cls.predictions.transform.dense.weight', 'cls.predictions.bias', 'cls.predictions.transform.dense.bias', 'cls.predictions.transform.LayerNorm.bias', 'cls.seq_relationship.bias', 'cls.predictions.transform.LayerNorm.weight', 'cls.predictions.decoder.weight', 'cls.seq_relationship.weight']\n",
      "- This IS expected if you are initializing BertModel from the checkpoint of a model trained on another task or with another architecture (e.g. initializing a BertForSequenceClassification model from a BertForPreTraining model).\n",
      "- This IS NOT expected if you are initializing BertModel from the checkpoint of a model that you expect to be exactly identical (initializing a BertForSequenceClassification model from a BertForSequenceClassification model).\n"
     ]
    }
   ],
   "source": [
    "# Load the BERT model and tokenizer\n",
    "tokenizer = BertTokenizer.from_pretrained('bert-base-uncased')\n",
    "model = BertModel.from_pretrained('bert-base-uncased')\n",
    "\n",
    "genre_vectors = {} # 각 장르의 임베딩 dict\n",
    "\n",
    "# Tokenize a genre\n",
    "for i,j in enumerate(genre_df['genre'].unique()):\n",
    "    input_ids = torch.tensor(tokenizer.encode(f\"{j}\")).unsqueeze(0)  # Tokenize a genre\n",
    "    output = model(input_ids)[0]  # Extract the hidden states of the model at the last layer, The last layer hidden states\n",
    "    token_embedding = output[0][0]  # Extract the first token's embedding\n",
    "    np_token_embedding = token_embedding.detach().numpy() # convert to numpy\n",
    "    v = np_token_embedding.mean()\n",
    "    genre_vectors[i] = v\n",
    "\n",
    "ref_genre_dict = {} # 각 영화가 어떤 장르를 가지고 있는지 나타내는 dict\n",
    "for i, j in list(zip(genre_df['item'], genre_df['genre'])):\n",
    "    try:\n",
    "        ref_genre_dict[i].append(j)\n",
    "    except KeyError:\n",
    "        ref_genre_dict[i] = [j]\n",
    "\n",
    "genre_df_dict = {} # 각 영화의 장르 통합 임베딩 dict\n",
    "for i, j in list(zip(ref_genre_dict.keys(), ref_genre_dict.values())):\n",
    "    genre_df_dict[i] = 0\n",
    "    for k in j:\n",
    "        genre_df_dict[i] += genre_vectors[k]\n",
    "    genre_df_dict[i] = (genre_df_dict[i])/len(j)\n",
    "\n",
    "# # 데이터 프레임에 적용\n",
    "# ref_df = main_df.copy()\n",
    "# ref_df['item_2'] = ref_df['item']\n",
    "# ref_df.item_2 = ref_df.item_2.map(genre_df_dict)\n",
    "# ref_df = ref_df.rename(columns={'item_2':'genre_embedding'})\n",
    "# ref_df"
   ]
  },
  {
   "cell_type": "code",
   "execution_count": 5,
   "metadata": {},
   "outputs": [],
   "source": [
    "result = [(item, embedding) for item, embedding in genre_df_dict.items()]"
   ]
  },
  {
   "cell_type": "code",
   "execution_count": 6,
   "metadata": {},
   "outputs": [],
   "source": [
    "result_df = pd.DataFrame(result)"
   ]
  },
  {
   "cell_type": "code",
   "execution_count": 7,
   "metadata": {},
   "outputs": [],
   "source": [
    "result_df.columns = ['item', 'genre_embedding']"
   ]
  },
  {
   "cell_type": "code",
   "execution_count": 8,
   "metadata": {},
   "outputs": [],
   "source": [
    "result_df.to_csv(\n",
    "    \"genre_bert_fe.csv\", index=False\n",
    ")"
   ]
  },
  {
   "cell_type": "markdown",
   "metadata": {},
   "source": [
    "# genre_embedding 결과를 10개의 카테고리로 나누기"
   ]
  },
  {
   "cell_type": "code",
   "execution_count": null,
   "metadata": {},
   "outputs": [],
   "source": [
    "# genre_bert_fe 파일이 있다면 바로 read_csv를 해도 된다.\n",
    "result_df = pd.read_csv(\"/opt/ml/input/fighting/FE/genre/genre_bert_fe.csv\")"
   ]
  },
  {
   "cell_type": "code",
   "execution_count": 9,
   "metadata": {},
   "outputs": [
    {
     "data": {
      "text/plain": [
       "count    6807.000000\n",
       "mean       -0.010407\n",
       "std         0.000238\n",
       "min        -0.011394\n",
       "25%        -0.010508\n",
       "50%        -0.010369\n",
       "75%        -0.010281\n",
       "max        -0.010054\n",
       "Name: genre_embedding, dtype: float64"
      ]
     },
     "execution_count": 9,
     "metadata": {},
     "output_type": "execute_result"
    }
   ],
   "source": [
    "result_df['genre_embedding'].describe()"
   ]
  },
  {
   "cell_type": "code",
   "execution_count": 29,
   "metadata": {},
   "outputs": [
    {
     "data": {
      "image/png": "[encoded data removed]",
      "text/plain": [
       "<Figure size 432x288 with 1 Axes>"
      ]
     },
     "metadata": {
      "needs_background": "light"
     },
     "output_type": "display_data"
    }
   ],
   "source": [
    "import matplotlib.pyplot as plt\n",
    "\n",
    "# 실수 리스트\n",
    "values = list(result_df['genre_embedding'])\n",
    "\n",
    "# 히스토그램 그리기\n",
    "plt.hist(values)\n",
    "plt.show()"
   ]
  },
  {
   "cell_type": "code",
   "execution_count": 30,
   "metadata": {},
   "outputs": [],
   "source": [
    "def genre_eight_category(x):\n",
    "    if x <= -0.0112:\n",
    "        return 0\n",
    "    elif x <= -0.0110:\n",
    "        return 1\n",
    "    elif x <= -0.0108:\n",
    "        return 2\n",
    "    elif x <= -0.0106:\n",
    "        return 3\n",
    "    elif x <= -0.0104:\n",
    "        return 4\n",
    "    elif x <= -0.0102:\n",
    "        return 5\n",
    "    else:\n",
    "        return 6"
   ]
  },
  {
   "cell_type": "code",
   "execution_count": 32,
   "metadata": {},
   "outputs": [
    {
     "data": {
      "text/plain": [
       "5    3236\n",
       "4    2221\n",
       "6     778\n",
       "0     257\n",
       "3     237\n",
       "2      56\n",
       "1      22\n",
       "Name: genre_embedding, dtype: int64"
      ]
     },
     "execution_count": 32,
     "metadata": {},
     "output_type": "execute_result"
    }
   ],
   "source": [
    "result_df['genre_embedding'].map(genre_eight_category).value_counts()"
   ]
  },
  {
   "cell_type": "code",
   "execution_count": 33,
   "metadata": {},
   "outputs": [],
   "source": [
    "result_df['genre_category'] = result_df['genre_embedding'].map(genre_eight_category)"
   ]
  },
  {
   "cell_type": "code",
   "execution_count": 34,
   "metadata": {},
   "outputs": [
    {
     "data": {
      "text/html": [
       "<div>\n",
       "<style scoped>\n",
       "    .dataframe tbody tr th:only-of-type {\n",
       "        vertical-align: middle;\n",
       "    }\n",
       "\n",
       "    .dataframe tbody tr th {\n",
       "        vertical-align: top;\n",
       "    }\n",
       "\n",
       "    .dataframe thead th {\n",
       "        text-align: right;\n",
       "    }\n",
       "</style>\n",
       "<table border=\"1\" class=\"dataframe\">\n",
       "  <thead>\n",
       "    <tr style=\"text-align: right;\">\n",
       "      <th></th>\n",
       "      <th>item</th>\n",
       "      <th>genre_embedding</th>\n",
       "      <th>genre_category</th>\n",
       "    </tr>\n",
       "  </thead>\n",
       "  <tbody>\n",
       "    <tr>\n",
       "      <th>0</th>\n",
       "      <td>318</td>\n",
       "      <td>-0.010337</td>\n",
       "      <td>5</td>\n",
       "    </tr>\n",
       "    <tr>\n",
       "      <th>1</th>\n",
       "      <td>2571</td>\n",
       "      <td>-0.010408</td>\n",
       "      <td>4</td>\n",
       "    </tr>\n",
       "    <tr>\n",
       "      <th>2</th>\n",
       "      <td>2959</td>\n",
       "      <td>-0.010351</td>\n",
       "      <td>5</td>\n",
       "    </tr>\n",
       "    <tr>\n",
       "      <th>3</th>\n",
       "      <td>296</td>\n",
       "      <td>-0.010276</td>\n",
       "      <td>5</td>\n",
       "    </tr>\n",
       "    <tr>\n",
       "      <th>4</th>\n",
       "      <td>356</td>\n",
       "      <td>-0.010311</td>\n",
       "      <td>5</td>\n",
       "    </tr>\n",
       "    <tr>\n",
       "      <th>...</th>\n",
       "      <td>...</td>\n",
       "      <td>...</td>\n",
       "      <td>...</td>\n",
       "    </tr>\n",
       "    <tr>\n",
       "      <th>6802</th>\n",
       "      <td>73106</td>\n",
       "      <td>-0.010054</td>\n",
       "      <td>6</td>\n",
       "    </tr>\n",
       "    <tr>\n",
       "      <th>6803</th>\n",
       "      <td>109850</td>\n",
       "      <td>-0.010343</td>\n",
       "      <td>5</td>\n",
       "    </tr>\n",
       "    <tr>\n",
       "      <th>6804</th>\n",
       "      <td>8605</td>\n",
       "      <td>-0.010205</td>\n",
       "      <td>5</td>\n",
       "    </tr>\n",
       "    <tr>\n",
       "      <th>6805</th>\n",
       "      <td>3689</td>\n",
       "      <td>-0.010054</td>\n",
       "      <td>6</td>\n",
       "    </tr>\n",
       "    <tr>\n",
       "      <th>6806</th>\n",
       "      <td>8130</td>\n",
       "      <td>-0.011301</td>\n",
       "      <td>0</td>\n",
       "    </tr>\n",
       "  </tbody>\n",
       "</table>\n",
       "<p>6807 rows × 3 columns</p>\n",
       "</div>"
      ],
      "text/plain": [
       "        item  genre_embedding  genre_category\n",
       "0        318        -0.010337               5\n",
       "1       2571        -0.010408               4\n",
       "2       2959        -0.010351               5\n",
       "3        296        -0.010276               5\n",
       "4        356        -0.010311               5\n",
       "...      ...              ...             ...\n",
       "6802   73106        -0.010054               6\n",
       "6803  109850        -0.010343               5\n",
       "6804    8605        -0.010205               5\n",
       "6805    3689        -0.010054               6\n",
       "6806    8130        -0.011301               0\n",
       "\n",
       "[6807 rows x 3 columns]"
      ]
     },
     "execution_count": 34,
     "metadata": {},
     "output_type": "execute_result"
    }
   ],
   "source": [
    "result_df"
   ]
  },
  {
   "cell_type": "code",
   "execution_count": 37,
   "metadata": {},
   "outputs": [
    {
     "data": {
      "text/html": [
       "<div>\n",
       "<style scoped>\n",
       "    .dataframe tbody tr th:only-of-type {\n",
       "        vertical-align: middle;\n",
       "    }\n",
       "\n",
       "    .dataframe tbody tr th {\n",
       "        vertical-align: top;\n",
       "    }\n",
       "\n",
       "    .dataframe thead th {\n",
       "        text-align: right;\n",
       "    }\n",
       "</style>\n",
       "<table border=\"1\" class=\"dataframe\">\n",
       "  <thead>\n",
       "    <tr style=\"text-align: right;\">\n",
       "      <th></th>\n",
       "      <th>item</th>\n",
       "      <th>genre_embedding</th>\n",
       "      <th>genre_category</th>\n",
       "    </tr>\n",
       "  </thead>\n",
       "  <tbody>\n",
       "    <tr>\n",
       "      <th>0</th>\n",
       "      <td>318</td>\n",
       "      <td>-0.010337</td>\n",
       "      <td>5</td>\n",
       "    </tr>\n",
       "    <tr>\n",
       "      <th>1</th>\n",
       "      <td>2571</td>\n",
       "      <td>-0.010408</td>\n",
       "      <td>4</td>\n",
       "    </tr>\n",
       "    <tr>\n",
       "      <th>2</th>\n",
       "      <td>2959</td>\n",
       "      <td>-0.010351</td>\n",
       "      <td>5</td>\n",
       "    </tr>\n",
       "    <tr>\n",
       "      <th>3</th>\n",
       "      <td>296</td>\n",
       "      <td>-0.010276</td>\n",
       "      <td>5</td>\n",
       "    </tr>\n",
       "    <tr>\n",
       "      <th>4</th>\n",
       "      <td>356</td>\n",
       "      <td>-0.010311</td>\n",
       "      <td>5</td>\n",
       "    </tr>\n",
       "    <tr>\n",
       "      <th>...</th>\n",
       "      <td>...</td>\n",
       "      <td>...</td>\n",
       "      <td>...</td>\n",
       "    </tr>\n",
       "    <tr>\n",
       "      <th>6802</th>\n",
       "      <td>73106</td>\n",
       "      <td>-0.010054</td>\n",
       "      <td>6</td>\n",
       "    </tr>\n",
       "    <tr>\n",
       "      <th>6803</th>\n",
       "      <td>109850</td>\n",
       "      <td>-0.010343</td>\n",
       "      <td>5</td>\n",
       "    </tr>\n",
       "    <tr>\n",
       "      <th>6804</th>\n",
       "      <td>8605</td>\n",
       "      <td>-0.010205</td>\n",
       "      <td>5</td>\n",
       "    </tr>\n",
       "    <tr>\n",
       "      <th>6805</th>\n",
       "      <td>3689</td>\n",
       "      <td>-0.010054</td>\n",
       "      <td>6</td>\n",
       "    </tr>\n",
       "    <tr>\n",
       "      <th>6806</th>\n",
       "      <td>8130</td>\n",
       "      <td>-0.011301</td>\n",
       "      <td>0</td>\n",
       "    </tr>\n",
       "  </tbody>\n",
       "</table>\n",
       "<p>6807 rows × 3 columns</p>\n",
       "</div>"
      ],
      "text/plain": [
       "        item  genre_embedding  genre_category\n",
       "0        318        -0.010337               5\n",
       "1       2571        -0.010408               4\n",
       "2       2959        -0.010351               5\n",
       "3        296        -0.010276               5\n",
       "4        356        -0.010311               5\n",
       "...      ...              ...             ...\n",
       "6802   73106        -0.010054               6\n",
       "6803  109850        -0.010343               5\n",
       "6804    8605        -0.010205               5\n",
       "6805    3689        -0.010054               6\n",
       "6806    8130        -0.011301               0\n",
       "\n",
       "[6807 rows x 3 columns]"
      ]
     },
     "execution_count": 37,
     "metadata": {},
     "output_type": "execute_result"
    }
   ],
   "source": [
    "result_df"
   ]
  },
  {
   "cell_type": "code",
   "execution_count": 38,
   "metadata": {},
   "outputs": [],
   "source": [
    "result_df[['item','genre_category']].to_csv(\n",
    "    \"genre_bert_category_fe.csv\", index=False\n",
    ")"
   ]
  },
  {
   "cell_type": "code",
   "execution_count": null,
   "metadata": {},
   "outputs": [],
   "source": []
  }
 ],
 "metadata": {
  "kernelspec": {
   "display_name": "lastest",
   "language": "python",
   "name": "latest"
  },
  "language_info": {
   "codemirror_mode": {
    "name": "ipython",
    "version": 3
   },
   "file_extension": ".py",
   "mimetype": "text/x-python",
   "name": "python",
   "nbconvert_exporter": "python",
   "pygments_lexer": "ipython3",
   "version": "3.8.5"
  },
  "vscode": {
   "interpreter": {
    "hash": "d4d1e4263499bec80672ea0156c357c1ee493ec2b1c70f0acce89fc37c4a6abe"
   }
  }
 },
 "nbformat": 4,
 "nbformat_minor": 4
}

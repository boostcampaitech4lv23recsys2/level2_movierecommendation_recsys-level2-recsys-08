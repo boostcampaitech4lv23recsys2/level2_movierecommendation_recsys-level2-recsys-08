{
 "cells": [
  {
   "cell_type": "code",
   "execution_count": 91,
   "id": "c51544a0-8e41-41b6-b6e7-2362e150457e",
   "metadata": {},
   "outputs": [],
   "source": [
    "import torch\n",
    "import pandas as pd\n",
    "import numpy as np\n",
    "# pip install transformers\n",
    "from transformers import BertTokenizer, BertModel\n",
    "# 만약 주피터 노트북에서 아래와 관계있는 에러가 발생한다면\n",
    "# pip install ipywidgets"
   ]
  },
  {
   "cell_type": "code",
   "execution_count": 92,
   "id": "8bd6c438-b669-436d-adf1-6e5384084a5a",
   "metadata": {},
   "outputs": [],
   "source": [
    "main_df = pd.read_csv('/opt/ml/input/data/train/train_ratings.csv') # user-item-time\n",
    "director_df = pd.read_csv('/opt/ml/input/data/train/directors.tsv', sep='\\t') # item-director"
   ]
  },
  {
   "cell_type": "markdown",
   "id": "01c1ba4e-9642-45ab-875f-32903cc57f51",
   "metadata": {},
   "source": [
    "# 한 아이템별 여러 감독일 때 하나의 string으로 붙이기"
   ]
  },
  {
   "cell_type": "code",
   "execution_count": 93,
   "id": "4a1317b9-bbe2-44ea-a5df-8858d38c0e4a",
   "metadata": {
    "tags": []
   },
   "outputs": [
    {
     "data": {
      "text/html": [
       "<div>\n",
       "<style scoped>\n",
       "    .dataframe tbody tr th:only-of-type {\n",
       "        vertical-align: middle;\n",
       "    }\n",
       "\n",
       "    .dataframe tbody tr th {\n",
       "        vertical-align: top;\n",
       "    }\n",
       "\n",
       "    .dataframe thead th {\n",
       "        text-align: right;\n",
       "    }\n",
       "</style>\n",
       "<table border=\"1\" class=\"dataframe\">\n",
       "  <thead>\n",
       "    <tr style=\"text-align: right;\">\n",
       "      <th></th>\n",
       "      <th>item</th>\n",
       "      <th>director</th>\n",
       "    </tr>\n",
       "  </thead>\n",
       "  <tbody>\n",
       "    <tr>\n",
       "      <th>0</th>\n",
       "      <td>1237</td>\n",
       "      <td>nm0000005</td>\n",
       "    </tr>\n",
       "    <tr>\n",
       "      <th>1</th>\n",
       "      <td>5147</td>\n",
       "      <td>nm0000005</td>\n",
       "    </tr>\n",
       "    <tr>\n",
       "      <th>2</th>\n",
       "      <td>7327</td>\n",
       "      <td>nm0000005</td>\n",
       "    </tr>\n",
       "    <tr>\n",
       "      <th>3</th>\n",
       "      <td>2068</td>\n",
       "      <td>nm0000005</td>\n",
       "    </tr>\n",
       "    <tr>\n",
       "      <th>4</th>\n",
       "      <td>7396</td>\n",
       "      <td>nm0000005</td>\n",
       "    </tr>\n",
       "    <tr>\n",
       "      <th>...</th>\n",
       "      <td>...</td>\n",
       "      <td>...</td>\n",
       "    </tr>\n",
       "    <tr>\n",
       "      <th>1299</th>\n",
       "      <td>73681</td>\n",
       "      <td>nm0000000</td>\n",
       "    </tr>\n",
       "    <tr>\n",
       "      <th>1300</th>\n",
       "      <td>32728</td>\n",
       "      <td>nm0000000</td>\n",
       "    </tr>\n",
       "    <tr>\n",
       "      <th>1301</th>\n",
       "      <td>32743</td>\n",
       "      <td>nm0000000</td>\n",
       "    </tr>\n",
       "    <tr>\n",
       "      <th>1302</th>\n",
       "      <td>106491</td>\n",
       "      <td>nm0000000</td>\n",
       "    </tr>\n",
       "    <tr>\n",
       "      <th>1303</th>\n",
       "      <td>8191</td>\n",
       "      <td>nm0000000</td>\n",
       "    </tr>\n",
       "  </tbody>\n",
       "</table>\n",
       "<p>7209 rows × 2 columns</p>\n",
       "</div>"
      ],
      "text/plain": [
       "        item   director\n",
       "0       1237  nm0000005\n",
       "1       5147  nm0000005\n",
       "2       7327  nm0000005\n",
       "3       2068  nm0000005\n",
       "4       7396  nm0000005\n",
       "...      ...        ...\n",
       "1299   73681  nm0000000\n",
       "1300   32728  nm0000000\n",
       "1301   32743  nm0000000\n",
       "1302  106491  nm0000000\n",
       "1303    8191  nm0000000\n",
       "\n",
       "[7209 rows x 2 columns]"
      ]
     },
     "execution_count": 93,
     "metadata": {},
     "output_type": "execute_result"
    }
   ],
   "source": [
    "no_dir_item_list = list(set(main_df['item']) - set(director_df['item']))\n",
    "no_dir_item_df = pd.DataFrame([x for x in zip(no_dir_item_list, ['nm0000000']*len(no_dir_item_list))])\n",
    "no_dir_item_df.columns=director_df.columns # 컬럼명 동일하게\n",
    "director_df = pd.concat([director_df, no_dir_item_df]) # 기존 director_df 뒤에 감독없는 영화 추가\n",
    "director_df"
   ]
  },
  {
   "cell_type": "code",
   "execution_count": 94,
   "id": "47bb22e9-aed9-4ebe-a76b-0aa728b05865",
   "metadata": {},
   "outputs": [],
   "source": [
    "item_list = director_df['item'].unique()"
   ]
  },
  {
   "cell_type": "code",
   "execution_count": null,
   "id": "f1a53f08-e4b9-4539-9cda-7bf191d89e91",
   "metadata": {},
   "outputs": [
    {
     "data": {
      "text/plain": [
       "50912    14\n",
       "1282     10\n",
       "27002     8\n",
       "7502      7\n",
       "71823     7\n",
       "         ..\n",
       "4404      1\n",
       "8125      1\n",
       "1348      1\n",
       "7366      1\n",
       "8191      1\n",
       "Name: item, Length: 6807, dtype: int64"
      ]
     },
     "execution_count": 11,
     "metadata": {},
     "output_type": "execute_result"
    }
   ],
   "source": [
    "# director_df['item'].value_counts()"
   ]
  },
  {
   "cell_type": "code",
   "execution_count": null,
   "id": "0db375ab-da96-4863-9f5a-b104dfb974d3",
   "metadata": {},
   "outputs": [],
   "source": [
    "# tmp = director_df[director_df['item']==50912]['director'].value_counts().index"
   ]
  },
  {
   "cell_type": "code",
   "execution_count": null,
   "id": "cd389471-e7fc-473b-a950-3f3f0872f5e3",
   "metadata": {},
   "outputs": [
    {
     "data": {
      "text/plain": [
       "'nm0000127 nm0000801 nm0001053 nm0001054 nm0001814 nm0149446 nm0158984 nm0170043 nm0190859 nm0481418 nm0622112 nm0668247 nm0758574 nm0878756'"
      ]
     },
     "execution_count": 13,
     "metadata": {},
     "output_type": "execute_result"
    }
   ],
   "source": [
    "# \" \".join(tmp)"
   ]
  },
  {
   "cell_type": "code",
   "execution_count": 14,
   "id": "878cb7c8-37e7-4835-a6ac-80709ff81c48",
   "metadata": {},
   "outputs": [],
   "source": [
    "result = []\n",
    "for item in item_list:\n",
    "    tmp = director_df[director_df['item']==item]['director'].value_counts().index\n",
    "    s = \" \".join(tmp)\n",
    "    result.append((item, s))\n",
    "\n",
    "item_direct_df = pd.DataFrame(result)"
   ]
  },
  {
   "cell_type": "code",
   "execution_count": 15,
   "id": "82b849ac-3e5f-4216-884f-a3c125a1faa7",
   "metadata": {},
   "outputs": [],
   "source": [
    "item_direct_df.columns = ['item','director_str']"
   ]
  },
  {
   "cell_type": "code",
   "execution_count": 22,
   "id": "25e75d9e-1fd6-402c-9b5b-37df847f634a",
   "metadata": {},
   "outputs": [],
   "source": [
    "item_direct_df.to_csv(\"item_direct_str.csv\", index=False)"
   ]
  },
  {
   "cell_type": "code",
   "execution_count": null,
   "id": "6d4c256d-dbf9-43bf-9c73-bea98b6445ae",
   "metadata": {},
   "outputs": [],
   "source": []
  },
  {
   "cell_type": "code",
   "execution_count": 21,
   "id": "63e26a67-ea0d-4709-b39c-affc5afa3151",
   "metadata": {},
   "outputs": [
    {
     "data": {
      "text/html": [
       "<div>\n",
       "<style scoped>\n",
       "    .dataframe tbody tr th:only-of-type {\n",
       "        vertical-align: middle;\n",
       "    }\n",
       "\n",
       "    .dataframe tbody tr th {\n",
       "        vertical-align: top;\n",
       "    }\n",
       "\n",
       "    .dataframe thead th {\n",
       "        text-align: right;\n",
       "    }\n",
       "</style>\n",
       "<table border=\"1\" class=\"dataframe\">\n",
       "  <thead>\n",
       "    <tr style=\"text-align: right;\">\n",
       "      <th></th>\n",
       "      <th>item</th>\n",
       "      <th>director_str</th>\n",
       "    </tr>\n",
       "  </thead>\n",
       "  <tbody>\n",
       "    <tr>\n",
       "      <th>239</th>\n",
       "      <td>50912</td>\n",
       "      <td>nm0000127 nm0000801 nm0001053 nm0001054 nm0001...</td>\n",
       "    </tr>\n",
       "  </tbody>\n",
       "</table>\n",
       "</div>"
      ],
      "text/plain": [
       "      item                                       director_str\n",
       "239  50912  nm0000127 nm0000801 nm0001053 nm0001054 nm0001..."
      ]
     },
     "execution_count": 21,
     "metadata": {},
     "output_type": "execute_result"
    }
   ],
   "source": [
    "item_direct_df[item_direct_df['item']==50912]"
   ]
  },
  {
   "cell_type": "code",
   "execution_count": 95,
   "id": "3cfe5d79-5b97-4182-8b44-a304add24cc9",
   "metadata": {},
   "outputs": [
    {
     "data": {
      "text/html": [
       "<div>\n",
       "<style scoped>\n",
       "    .dataframe tbody tr th:only-of-type {\n",
       "        vertical-align: middle;\n",
       "    }\n",
       "\n",
       "    .dataframe tbody tr th {\n",
       "        vertical-align: top;\n",
       "    }\n",
       "\n",
       "    .dataframe thead th {\n",
       "        text-align: right;\n",
       "    }\n",
       "</style>\n",
       "<table border=\"1\" class=\"dataframe\">\n",
       "  <thead>\n",
       "    <tr style=\"text-align: right;\">\n",
       "      <th></th>\n",
       "      <th>item</th>\n",
       "      <th>director_str</th>\n",
       "    </tr>\n",
       "  </thead>\n",
       "  <tbody>\n",
       "    <tr>\n",
       "      <th>0</th>\n",
       "      <td>1237</td>\n",
       "      <td>nm0000005</td>\n",
       "    </tr>\n",
       "    <tr>\n",
       "      <th>1</th>\n",
       "      <td>5147</td>\n",
       "      <td>nm0000005</td>\n",
       "    </tr>\n",
       "    <tr>\n",
       "      <th>2</th>\n",
       "      <td>7327</td>\n",
       "      <td>nm0000005</td>\n",
       "    </tr>\n",
       "    <tr>\n",
       "      <th>3</th>\n",
       "      <td>2068</td>\n",
       "      <td>nm0000005</td>\n",
       "    </tr>\n",
       "    <tr>\n",
       "      <th>4</th>\n",
       "      <td>7396</td>\n",
       "      <td>nm0000005</td>\n",
       "    </tr>\n",
       "    <tr>\n",
       "      <th>...</th>\n",
       "      <td>...</td>\n",
       "      <td>...</td>\n",
       "    </tr>\n",
       "    <tr>\n",
       "      <th>6802</th>\n",
       "      <td>73681</td>\n",
       "      <td>nm0000000</td>\n",
       "    </tr>\n",
       "    <tr>\n",
       "      <th>6803</th>\n",
       "      <td>32728</td>\n",
       "      <td>nm0000000</td>\n",
       "    </tr>\n",
       "    <tr>\n",
       "      <th>6804</th>\n",
       "      <td>32743</td>\n",
       "      <td>nm0000000</td>\n",
       "    </tr>\n",
       "    <tr>\n",
       "      <th>6805</th>\n",
       "      <td>106491</td>\n",
       "      <td>nm0000000</td>\n",
       "    </tr>\n",
       "    <tr>\n",
       "      <th>6806</th>\n",
       "      <td>8191</td>\n",
       "      <td>nm0000000</td>\n",
       "    </tr>\n",
       "  </tbody>\n",
       "</table>\n",
       "<p>6807 rows × 2 columns</p>\n",
       "</div>"
      ],
      "text/plain": [
       "        item director_str\n",
       "0       1237    nm0000005\n",
       "1       5147    nm0000005\n",
       "2       7327    nm0000005\n",
       "3       2068    nm0000005\n",
       "4       7396    nm0000005\n",
       "...      ...          ...\n",
       "6802   73681    nm0000000\n",
       "6803   32728    nm0000000\n",
       "6804   32743    nm0000000\n",
       "6805  106491    nm0000000\n",
       "6806    8191    nm0000000\n",
       "\n",
       "[6807 rows x 2 columns]"
      ]
     },
     "execution_count": 95,
     "metadata": {},
     "output_type": "execute_result"
    }
   ],
   "source": [
    "item_direct_df"
   ]
  },
  {
   "cell_type": "code",
   "execution_count": null,
   "id": "e1757e1b-50ea-4acd-8070-dfd21f9336ae",
   "metadata": {},
   "outputs": [],
   "source": []
  }
 ],
 "metadata": {
  "kernelspec": {
   "display_name": "Python 3 (ipykernel)",
   "language": "python",
   "name": "python3"
  },
  "language_info": {
   "codemirror_mode": {
    "name": "ipython",
    "version": 3
   },
   "file_extension": ".py",
   "mimetype": "text/x-python",
   "name": "python",
   "nbconvert_exporter": "python",
   "pygments_lexer": "ipython3",
   "version": "3.8.5"
  }
 },
 "nbformat": 4,
 "nbformat_minor": 5
}

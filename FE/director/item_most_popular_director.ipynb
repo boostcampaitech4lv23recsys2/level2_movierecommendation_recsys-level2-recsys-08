{
 "cells": [
  {
   "cell_type": "code",
   "execution_count": 18,
   "id": "d72186b7-1bb4-4f17-9faf-860e26a3dde7",
   "metadata": {},
   "outputs": [],
   "source": [
    "import torch\n",
    "import pandas as pd\n",
    "import numpy as np\n",
    "from tqdm import tqdm\n",
    "# 만약 주피터 노트북에서 아래와 관계있는 에러가 발생한다면\n",
    "# pip install ipywidgets\n"
   ]
  },
  {
   "cell_type": "code",
   "execution_count": 3,
   "id": "7aba7b9c-456a-4c56-95a8-957ea6859782",
   "metadata": {},
   "outputs": [],
   "source": [
    "main_df = pd.read_csv('/opt/ml/input/data/train/train_ratings.csv') # user-item-time\n",
    "title_df = pd.read_csv('/opt/ml/input/data/train/titles.tsv', sep='\\t') # item-title\n",
    "year_df = pd.read_csv('/opt/ml/input/data/train/years.tsv', sep='\\t') # item-year\n",
    "director_df = pd.read_csv('/opt/ml/input/data/train/directors.tsv', sep='\\t') # item-director\n",
    "genre_df = pd.read_csv('/opt/ml/input/data/train/genres.tsv', sep='\\t') # item-genre(name)\n",
    "writer_df = pd.read_csv('/opt/ml/input/data/train/writers.tsv', sep='\\t') # item-writer"
   ]
  },
  {
   "cell_type": "markdown",
   "id": "b4a9ceb8-b706-4686-a0d8-129b20757941",
   "metadata": {},
   "source": [
    "# 아이템별 가장 인기있는 감독 이름(대표 감독)"
   ]
  },
  {
   "cell_type": "code",
   "execution_count": 4,
   "id": "a0b85e59-8f00-4126-b691-f607069bdad6",
   "metadata": {},
   "outputs": [],
   "source": [
    "director_info = pd.read_csv('/opt/ml/input/fighting/FE/director/director_max_sum_intercnt.csv')"
   ]
  },
  {
   "cell_type": "code",
   "execution_count": 5,
   "id": "e4301605-9e92-4780-903d-4a99f8b5681e",
   "metadata": {},
   "outputs": [
    {
     "data": {
      "text/html": [
       "<div>\n",
       "<style scoped>\n",
       "    .dataframe tbody tr th:only-of-type {\n",
       "        vertical-align: middle;\n",
       "    }\n",
       "\n",
       "    .dataframe tbody tr th {\n",
       "        vertical-align: top;\n",
       "    }\n",
       "\n",
       "    .dataframe thead th {\n",
       "        text-align: right;\n",
       "    }\n",
       "</style>\n",
       "<table border=\"1\" class=\"dataframe\">\n",
       "  <thead>\n",
       "    <tr style=\"text-align: right;\">\n",
       "      <th></th>\n",
       "      <th>director</th>\n",
       "      <th>dir_max_cnt</th>\n",
       "      <th>dir_sum_cnt</th>\n",
       "    </tr>\n",
       "  </thead>\n",
       "  <tbody>\n",
       "    <tr>\n",
       "      <th>0</th>\n",
       "      <td>nm0000005</td>\n",
       "      <td>1383</td>\n",
       "      <td>6360</td>\n",
       "    </tr>\n",
       "    <tr>\n",
       "      <th>1</th>\n",
       "      <td>nm0000019</td>\n",
       "      <td>905</td>\n",
       "      <td>3290</td>\n",
       "    </tr>\n",
       "    <tr>\n",
       "      <th>2</th>\n",
       "      <td>nm0000033</td>\n",
       "      <td>5953</td>\n",
       "      <td>36859</td>\n",
       "    </tr>\n",
       "    <tr>\n",
       "      <th>3</th>\n",
       "      <td>nm0000036</td>\n",
       "      <td>761</td>\n",
       "      <td>1835</td>\n",
       "    </tr>\n",
       "    <tr>\n",
       "      <th>4</th>\n",
       "      <td>nm0000037</td>\n",
       "      <td>2493</td>\n",
       "      <td>2814</td>\n",
       "    </tr>\n",
       "    <tr>\n",
       "      <th>...</th>\n",
       "      <td>...</td>\n",
       "      <td>...</td>\n",
       "      <td>...</td>\n",
       "    </tr>\n",
       "    <tr>\n",
       "      <th>1336</th>\n",
       "      <td>nm2648685</td>\n",
       "      <td>247</td>\n",
       "      <td>294</td>\n",
       "    </tr>\n",
       "    <tr>\n",
       "      <th>1337</th>\n",
       "      <td>nm2676052</td>\n",
       "      <td>906</td>\n",
       "      <td>1563</td>\n",
       "    </tr>\n",
       "    <tr>\n",
       "      <th>1338</th>\n",
       "      <td>nm2879822</td>\n",
       "      <td>251</td>\n",
       "      <td>471</td>\n",
       "    </tr>\n",
       "    <tr>\n",
       "      <th>1339</th>\n",
       "      <td>nm9054338</td>\n",
       "      <td>1015</td>\n",
       "      <td>1380</td>\n",
       "    </tr>\n",
       "    <tr>\n",
       "      <th>1340</th>\n",
       "      <td>nm0000000</td>\n",
       "      <td>691</td>\n",
       "      <td>691</td>\n",
       "    </tr>\n",
       "  </tbody>\n",
       "</table>\n",
       "<p>1341 rows × 3 columns</p>\n",
       "</div>"
      ],
      "text/plain": [
       "       director  dir_max_cnt  dir_sum_cnt\n",
       "0     nm0000005         1383         6360\n",
       "1     nm0000019          905         3290\n",
       "2     nm0000033         5953        36859\n",
       "3     nm0000036          761         1835\n",
       "4     nm0000037         2493         2814\n",
       "...         ...          ...          ...\n",
       "1336  nm2648685          247          294\n",
       "1337  nm2676052          906         1563\n",
       "1338  nm2879822          251          471\n",
       "1339  nm9054338         1015         1380\n",
       "1340  nm0000000          691          691\n",
       "\n",
       "[1341 rows x 3 columns]"
      ]
     },
     "execution_count": 5,
     "metadata": {},
     "output_type": "execute_result"
    }
   ],
   "source": [
    "director_info"
   ]
  },
  {
   "cell_type": "code",
   "execution_count": 7,
   "id": "258aa03d-e672-42b5-841d-fe4bf661c138",
   "metadata": {},
   "outputs": [],
   "source": [
    "# director 결측 item 감독을 'nm0000000'로 채워주기\n",
    "no_dir_item_list = list(set(main_df['item']) - set(director_df['item']))\n",
    "no_dir_item_df = pd.DataFrame([x for x in zip(no_dir_item_list, ['nm0000000']*len(no_dir_item_list))])\n",
    "no_dir_item_df.columns=director_df.columns # 컬럼명 동일하게\n",
    "director_df = pd.concat([director_df, no_dir_item_df]) # 기존 director_df 뒤에 감독없는 영화 추가"
   ]
  },
  {
   "cell_type": "code",
   "execution_count": 8,
   "id": "1da7650e-2854-4053-9854-7bc57476001a",
   "metadata": {},
   "outputs": [
    {
     "data": {
      "text/html": [
       "<div>\n",
       "<style scoped>\n",
       "    .dataframe tbody tr th:only-of-type {\n",
       "        vertical-align: middle;\n",
       "    }\n",
       "\n",
       "    .dataframe tbody tr th {\n",
       "        vertical-align: top;\n",
       "    }\n",
       "\n",
       "    .dataframe thead th {\n",
       "        text-align: right;\n",
       "    }\n",
       "</style>\n",
       "<table border=\"1\" class=\"dataframe\">\n",
       "  <thead>\n",
       "    <tr style=\"text-align: right;\">\n",
       "      <th></th>\n",
       "      <th>item</th>\n",
       "      <th>director</th>\n",
       "    </tr>\n",
       "  </thead>\n",
       "  <tbody>\n",
       "    <tr>\n",
       "      <th>0</th>\n",
       "      <td>1237</td>\n",
       "      <td>nm0000005</td>\n",
       "    </tr>\n",
       "    <tr>\n",
       "      <th>1</th>\n",
       "      <td>5147</td>\n",
       "      <td>nm0000005</td>\n",
       "    </tr>\n",
       "    <tr>\n",
       "      <th>2</th>\n",
       "      <td>7327</td>\n",
       "      <td>nm0000005</td>\n",
       "    </tr>\n",
       "    <tr>\n",
       "      <th>3</th>\n",
       "      <td>2068</td>\n",
       "      <td>nm0000005</td>\n",
       "    </tr>\n",
       "    <tr>\n",
       "      <th>4</th>\n",
       "      <td>7396</td>\n",
       "      <td>nm0000005</td>\n",
       "    </tr>\n",
       "    <tr>\n",
       "      <th>...</th>\n",
       "      <td>...</td>\n",
       "      <td>...</td>\n",
       "    </tr>\n",
       "    <tr>\n",
       "      <th>1299</th>\n",
       "      <td>73681</td>\n",
       "      <td>nm0000000</td>\n",
       "    </tr>\n",
       "    <tr>\n",
       "      <th>1300</th>\n",
       "      <td>32728</td>\n",
       "      <td>nm0000000</td>\n",
       "    </tr>\n",
       "    <tr>\n",
       "      <th>1301</th>\n",
       "      <td>32743</td>\n",
       "      <td>nm0000000</td>\n",
       "    </tr>\n",
       "    <tr>\n",
       "      <th>1302</th>\n",
       "      <td>106491</td>\n",
       "      <td>nm0000000</td>\n",
       "    </tr>\n",
       "    <tr>\n",
       "      <th>1303</th>\n",
       "      <td>8191</td>\n",
       "      <td>nm0000000</td>\n",
       "    </tr>\n",
       "  </tbody>\n",
       "</table>\n",
       "<p>7209 rows × 2 columns</p>\n",
       "</div>"
      ],
      "text/plain": [
       "        item   director\n",
       "0       1237  nm0000005\n",
       "1       5147  nm0000005\n",
       "2       7327  nm0000005\n",
       "3       2068  nm0000005\n",
       "4       7396  nm0000005\n",
       "...      ...        ...\n",
       "1299   73681  nm0000000\n",
       "1300   32728  nm0000000\n",
       "1301   32743  nm0000000\n",
       "1302  106491  nm0000000\n",
       "1303    8191  nm0000000\n",
       "\n",
       "[7209 rows x 2 columns]"
      ]
     },
     "execution_count": 8,
     "metadata": {},
     "output_type": "execute_result"
    }
   ],
   "source": [
    "director_df"
   ]
  },
  {
   "cell_type": "code",
   "execution_count": 11,
   "id": "e43c15c5-c088-4de7-a553-6679424346f0",
   "metadata": {},
   "outputs": [],
   "source": [
    "df = director_df.merge(director_info, how='left', on='director')"
   ]
  },
  {
   "cell_type": "code",
   "execution_count": 16,
   "id": "b9beba85-a142-4241-9b79-1012f010c181",
   "metadata": {},
   "outputs": [],
   "source": [
    "item_list = director_df['item'].unique()"
   ]
  },
  {
   "cell_type": "code",
   "execution_count": 17,
   "id": "4320a291-e1f9-487e-bd02-c5d8d5fe2778",
   "metadata": {},
   "outputs": [
    {
     "data": {
      "text/plain": [
       "array([  1237,   5147,   7327, ...,  32743, 106491,   8191])"
      ]
     },
     "execution_count": 17,
     "metadata": {},
     "output_type": "execute_result"
    }
   ],
   "source": [
    "item_list"
   ]
  },
  {
   "cell_type": "code",
   "execution_count": 29,
   "id": "7e74b6bf-768b-4f20-b5b6-dd8fee3b3531",
   "metadata": {},
   "outputs": [
    {
     "name": "stderr",
     "output_type": "stream",
     "text": [
      "100%|██████████| 6807/6807 [00:04<00:00, 1370.72it/s]\n"
     ]
    }
   ],
   "source": [
    "result = []\n",
    "for item in tqdm(item_list):\n",
    "    tmp = df[df['item']==item]\n",
    "    # 'dir_max_cnt' 열에서 가장 큰 값과 그 값을 가진 행을 찾기\n",
    "    dir_maxsum_cnt = tmp['dir_sum_cnt'].max()\n",
    "    dir_maxsum_row = df[df['dir_sum_cnt'] == dir_maxsum_cnt]\n",
    "\n",
    "    # 'director' 열에서 'dir_max_cnt' 열에 가장 큰 값을 가진 행에 해당하는 값 찾기\n",
    "    director = dir_maxsum_row['director'].values[0]\n",
    "    result.append((item, director))"
   ]
  },
  {
   "cell_type": "code",
   "execution_count": 33,
   "id": "26889aa8-f248-41ed-8177-292ece36a7c5",
   "metadata": {},
   "outputs": [],
   "source": [
    "result.columns = ['item', 'most_popular_dir']"
   ]
  },
  {
   "cell_type": "code",
   "execution_count": 34,
   "id": "7c147a4f-a85b-4e01-b79f-dea1698c952e",
   "metadata": {
    "tags": []
   },
   "outputs": [],
   "source": [
    "result = pd.DataFrame(result)\n",
    "result.to_csv('item_most_popular_director.csv', index=False)"
   ]
  },
  {
   "cell_type": "code",
   "execution_count": 35,
   "id": "0be3256b-48ae-4ffc-b19e-e3b2d5186923",
   "metadata": {},
   "outputs": [
    {
     "data": {
      "text/html": [
       "<div>\n",
       "<style scoped>\n",
       "    .dataframe tbody tr th:only-of-type {\n",
       "        vertical-align: middle;\n",
       "    }\n",
       "\n",
       "    .dataframe tbody tr th {\n",
       "        vertical-align: top;\n",
       "    }\n",
       "\n",
       "    .dataframe thead th {\n",
       "        text-align: right;\n",
       "    }\n",
       "</style>\n",
       "<table border=\"1\" class=\"dataframe\">\n",
       "  <thead>\n",
       "    <tr style=\"text-align: right;\">\n",
       "      <th></th>\n",
       "      <th>item</th>\n",
       "      <th>most_popular_dir</th>\n",
       "    </tr>\n",
       "  </thead>\n",
       "  <tbody>\n",
       "    <tr>\n",
       "      <th>0</th>\n",
       "      <td>1237</td>\n",
       "      <td>nm0000005</td>\n",
       "    </tr>\n",
       "    <tr>\n",
       "      <th>1</th>\n",
       "      <td>5147</td>\n",
       "      <td>nm0000005</td>\n",
       "    </tr>\n",
       "    <tr>\n",
       "      <th>2</th>\n",
       "      <td>7327</td>\n",
       "      <td>nm0000005</td>\n",
       "    </tr>\n",
       "    <tr>\n",
       "      <th>3</th>\n",
       "      <td>2068</td>\n",
       "      <td>nm0000005</td>\n",
       "    </tr>\n",
       "    <tr>\n",
       "      <th>4</th>\n",
       "      <td>7396</td>\n",
       "      <td>nm0000005</td>\n",
       "    </tr>\n",
       "    <tr>\n",
       "      <th>...</th>\n",
       "      <td>...</td>\n",
       "      <td>...</td>\n",
       "    </tr>\n",
       "    <tr>\n",
       "      <th>6802</th>\n",
       "      <td>73681</td>\n",
       "      <td>nm0000000</td>\n",
       "    </tr>\n",
       "    <tr>\n",
       "      <th>6803</th>\n",
       "      <td>32728</td>\n",
       "      <td>nm0000000</td>\n",
       "    </tr>\n",
       "    <tr>\n",
       "      <th>6804</th>\n",
       "      <td>32743</td>\n",
       "      <td>nm0000000</td>\n",
       "    </tr>\n",
       "    <tr>\n",
       "      <th>6805</th>\n",
       "      <td>106491</td>\n",
       "      <td>nm0000000</td>\n",
       "    </tr>\n",
       "    <tr>\n",
       "      <th>6806</th>\n",
       "      <td>8191</td>\n",
       "      <td>nm0000000</td>\n",
       "    </tr>\n",
       "  </tbody>\n",
       "</table>\n",
       "<p>6807 rows × 2 columns</p>\n",
       "</div>"
      ],
      "text/plain": [
       "        item most_popular_dir\n",
       "0       1237        nm0000005\n",
       "1       5147        nm0000005\n",
       "2       7327        nm0000005\n",
       "3       2068        nm0000005\n",
       "4       7396        nm0000005\n",
       "...      ...              ...\n",
       "6802   73681        nm0000000\n",
       "6803   32728        nm0000000\n",
       "6804   32743        nm0000000\n",
       "6805  106491        nm0000000\n",
       "6806    8191        nm0000000\n",
       "\n",
       "[6807 rows x 2 columns]"
      ]
     },
     "execution_count": 35,
     "metadata": {},
     "output_type": "execute_result"
    }
   ],
   "source": [
    "result"
   ]
  },
  {
   "cell_type": "code",
   "execution_count": null,
   "id": "c954f59f-ca0c-4959-878f-ea2e995aa3d5",
   "metadata": {},
   "outputs": [],
   "source": []
  }
 ],
 "metadata": {
  "kernelspec": {
   "display_name": "Python 3 (ipykernel)",
   "language": "python",
   "name": "python3"
  },
  "language_info": {
   "codemirror_mode": {
    "name": "ipython",
    "version": 3
   },
   "file_extension": ".py",
   "mimetype": "text/x-python",
   "name": "python",
   "nbconvert_exporter": "python",
   "pygments_lexer": "ipython3",
   "version": "3.8.5"
  }
 },
 "nbformat": 4,
 "nbformat_minor": 5
}

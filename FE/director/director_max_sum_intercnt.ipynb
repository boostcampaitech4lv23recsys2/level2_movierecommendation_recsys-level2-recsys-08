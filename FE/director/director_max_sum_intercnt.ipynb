{
 "cells": [
  {
   "cell_type": "code",
   "execution_count": 2,
   "id": "ef6a4c48-8ac2-4dcc-821f-dc6848820f66",
   "metadata": {
    "collapsed": true,
    "jupyter": {
     "outputs_hidden": true
    },
    "tags": []
   },
   "outputs": [
    {
     "name": "stdout",
     "output_type": "stream",
     "text": [
      "Collecting featuretools\n",
      "  Downloading featuretools-1.19.0-py3-none-any.whl (522 kB)\n",
      "\u001b[2K     \u001b[90m━━━━━━━━━━━━━━━━━━━━━━━━━━━━━━━━━━━━━━\u001b[0m \u001b[32m522.5/522.5 kB\u001b[0m \u001b[31m29.8 MB/s\u001b[0m eta \u001b[36m0:00:00\u001b[0m\n",
      "\u001b[?25hRequirement already satisfied: psutil>=5.6.6 in /opt/conda/lib/python3.8/site-packages (from featuretools) (5.9.4)\n",
      "Collecting woodwork[dask]>=0.18.0\n",
      "  Downloading woodwork-0.21.1-py3-none-any.whl (230 kB)\n",
      "\u001b[2K     \u001b[90m━━━━━━━━━━━━━━━━━━━━━━━━━━━━━━━━━━━━━━\u001b[0m \u001b[32m230.5/230.5 kB\u001b[0m \u001b[31m37.6 MB/s\u001b[0m eta \u001b[36m0:00:00\u001b[0m\n",
      "\u001b[?25hRequirement already satisfied: packaging>=20.0 in /opt/conda/lib/python3.8/site-packages (from featuretools) (21.3)\n",
      "Requirement already satisfied: scipy>=1.4.0 in /opt/conda/lib/python3.8/site-packages (from featuretools) (1.8.0)\n",
      "Requirement already satisfied: tqdm>=4.32.0 in /opt/conda/lib/python3.8/site-packages (from featuretools) (4.51.0)\n",
      "Collecting holidays>=0.13\n",
      "  Downloading holidays-0.18-py3-none-any.whl (195 kB)\n",
      "\u001b[2K     \u001b[90m━━━━━━━━━━━━━━━━━━━━━━━━━━━━━━━━━━━━━━\u001b[0m \u001b[32m196.0/196.0 kB\u001b[0m \u001b[31m35.5 MB/s\u001b[0m eta \u001b[36m0:00:00\u001b[0m\n",
      "\u001b[?25hRequirement already satisfied: numpy>=1.21.0 in /opt/conda/lib/python3.8/site-packages (from featuretools) (1.23.5)\n",
      "Collecting distributed!=2022.10.1,>=2022.2.0\n",
      "  Downloading distributed-2022.12.1-py3-none-any.whl (930 kB)\n",
      "\u001b[2K     \u001b[90m━━━━━━━━━━━━━━━━━━━━━━━━━━━━━━━━━━━━━━\u001b[0m \u001b[32m930.1/930.1 kB\u001b[0m \u001b[31m64.6 MB/s\u001b[0m eta \u001b[36m0:00:00\u001b[0m\n",
      "\u001b[?25hCollecting dask[dataframe]!=2022.10.1,>=2022.2.0\n",
      "  Downloading dask-2022.12.1-py3-none-any.whl (1.1 MB)\n",
      "\u001b[2K     \u001b[90m━━━━━━━━━━━━━━━━━━━━━━━━━━━━━━━━━━━━━━━━\u001b[0m \u001b[32m1.1/1.1 MB\u001b[0m \u001b[31m51.6 MB/s\u001b[0m eta \u001b[36m0:00:00\u001b[0m\n",
      "\u001b[?25hRequirement already satisfied: pandas>=1.4.0 in /opt/conda/lib/python3.8/site-packages (from featuretools) (1.5.2)\n",
      "Collecting cloudpickle>=1.5.0\n",
      "  Downloading cloudpickle-2.2.0-py3-none-any.whl (25 kB)\n",
      "Requirement already satisfied: click>=7.0 in /opt/conda/lib/python3.8/site-packages (from dask[dataframe]!=2022.10.1,>=2022.2.0->featuretools) (8.1.3)\n",
      "Collecting fsspec>=0.6.0\n",
      "  Downloading fsspec-2022.11.0-py3-none-any.whl (139 kB)\n",
      "\u001b[2K     \u001b[90m━━━━━━━━━━━━━━━━━━━━━━━━━━━━━━━━━━━━━━\u001b[0m \u001b[32m139.5/139.5 kB\u001b[0m \u001b[31m33.1 MB/s\u001b[0m eta \u001b[36m0:00:00\u001b[0m\n",
      "\u001b[?25hCollecting toolz>=0.8.2\n",
      "  Downloading toolz-0.12.0-py3-none-any.whl (55 kB)\n",
      "\u001b[2K     \u001b[90m━━━━━━━━━━━━━━━━━━━━━━━━━━━━━━━━━━━━━━━━\u001b[0m \u001b[32m55.8/55.8 kB\u001b[0m \u001b[31m13.0 MB/s\u001b[0m eta \u001b[36m0:00:00\u001b[0m\n",
      "\u001b[?25hRequirement already satisfied: pyyaml>=5.3.1 in /opt/conda/lib/python3.8/site-packages (from dask[dataframe]!=2022.10.1,>=2022.2.0->featuretools) (5.3.1)\n",
      "Collecting partd>=0.3.10\n",
      "  Downloading partd-1.3.0-py3-none-any.whl (18 kB)\n",
      "Requirement already satisfied: urllib3 in /opt/conda/lib/python3.8/site-packages (from distributed!=2022.10.1,>=2022.2.0->featuretools) (1.25.11)\n",
      "Requirement already satisfied: tornado>=6.0.3 in /opt/conda/lib/python3.8/site-packages (from distributed!=2022.10.1,>=2022.2.0->featuretools) (6.1)\n",
      "Collecting locket>=1.0.0\n",
      "  Downloading locket-1.0.0-py2.py3-none-any.whl (4.4 kB)\n",
      "Collecting zict>=0.1.3\n",
      "  Downloading zict-2.2.0-py2.py3-none-any.whl (23 kB)\n",
      "Requirement already satisfied: jinja2 in /opt/conda/lib/python3.8/site-packages (from distributed!=2022.10.1,>=2022.2.0->featuretools) (2.11.2)\n",
      "Collecting tblib>=1.6.0\n",
      "  Downloading tblib-1.7.0-py2.py3-none-any.whl (12 kB)\n",
      "Collecting sortedcontainers!=2.0.0,!=2.0.1\n",
      "  Downloading sortedcontainers-2.4.0-py2.py3-none-any.whl (29 kB)\n",
      "Requirement already satisfied: msgpack>=0.6.0 in /opt/conda/lib/python3.8/site-packages (from distributed!=2022.10.1,>=2022.2.0->featuretools) (1.0.4)\n",
      "Collecting hijri-converter\n",
      "  Downloading hijri_converter-2.2.4-py3-none-any.whl (14 kB)\n",
      "Collecting convertdate>=2.3.0\n",
      "  Downloading convertdate-2.4.0-py3-none-any.whl (47 kB)\n",
      "\u001b[2K     \u001b[90m━━━━━━━━━━━━━━━━━━━━━━━━━━━━━━━━━━━━━━━━\u001b[0m \u001b[32m47.9/47.9 kB\u001b[0m \u001b[31m13.4 MB/s\u001b[0m eta \u001b[36m0:00:00\u001b[0m\n",
      "\u001b[?25hCollecting PyMeeus\n",
      "  Downloading PyMeeus-0.5.12.tar.gz (5.8 MB)\n",
      "\u001b[2K     \u001b[90m━━━━━━━━━━━━━━━━━━━━━━━━━━━━━━━━━━━━━━━━\u001b[0m \u001b[32m5.8/5.8 MB\u001b[0m \u001b[31m83.3 MB/s\u001b[0m eta \u001b[36m0:00:00\u001b[0mta \u001b[36m0:00:01\u001b[0m\n",
      "\u001b[?25h  Preparing metadata (setup.py) ... \u001b[?25ldone\n",
      "\u001b[?25hCollecting korean-lunar-calendar\n",
      "  Downloading korean_lunar_calendar-0.3.1-py3-none-any.whl (9.0 kB)\n",
      "Requirement already satisfied: python-dateutil in /opt/conda/lib/python3.8/site-packages (from holidays>=0.13->featuretools) (2.8.2)\n",
      "Requirement already satisfied: pyparsing!=3.0.5,>=2.0.2 in /opt/conda/lib/python3.8/site-packages (from packaging>=20.0->featuretools) (3.0.7)\n",
      "Requirement already satisfied: pytz>=2020.1 in /opt/conda/lib/python3.8/site-packages (from pandas>=1.4.0->featuretools) (2020.5)\n",
      "Requirement already satisfied: scikit-learn>=0.22 in /opt/conda/lib/python3.8/site-packages (from woodwork[dask]>=0.18.0->featuretools) (1.2.0)\n",
      "Collecting importlib-resources>=5.10.0\n",
      "  Downloading importlib_resources-5.10.1-py3-none-any.whl (34 kB)\n",
      "Requirement already satisfied: zipp>=3.1.0 in /opt/conda/lib/python3.8/site-packages (from importlib-resources>=5.10.0->woodwork[dask]>=0.18.0->featuretools) (3.7.0)\n",
      "Requirement already satisfied: six>=1.5 in /opt/conda/lib/python3.8/site-packages (from python-dateutil->holidays>=0.13->featuretools) (1.15.0)\n",
      "Requirement already satisfied: threadpoolctl>=2.0.0 in /opt/conda/lib/python3.8/site-packages (from scikit-learn>=0.22->woodwork[dask]>=0.18.0->featuretools) (3.1.0)\n",
      "Requirement already satisfied: joblib>=1.1.1 in /opt/conda/lib/python3.8/site-packages (from scikit-learn>=0.22->woodwork[dask]>=0.18.0->featuretools) (1.2.0)\n",
      "Collecting heapdict\n",
      "  Downloading HeapDict-1.0.1-py3-none-any.whl (3.9 kB)\n",
      "Requirement already satisfied: MarkupSafe>=0.23 in /opt/conda/lib/python3.8/site-packages (from jinja2->distributed!=2022.10.1,>=2022.2.0->featuretools) (1.1.1)\n",
      "Building wheels for collected packages: PyMeeus\n",
      "  Building wheel for PyMeeus (setup.py) ... \u001b[?25ldone\n",
      "\u001b[?25h  Created wheel for PyMeeus: filename=PyMeeus-0.5.12-py3-none-any.whl size=731999 sha256=90c97ed91cd8881345cf22ef9dc7af1785732ff22eb9f12e2014a6500706dd06\n",
      "  Stored in directory: /opt/ml/.cache/pip/wheels/b9/49/19/1ec4bcf2cc7640c6ee7815d9c02d06eaab89148fcd20e218c5\n",
      "Successfully built PyMeeus\n",
      "Installing collected packages: sortedcontainers, PyMeeus, korean-lunar-calendar, heapdict, zict, toolz, tblib, locket, importlib-resources, hijri-converter, fsspec, convertdate, cloudpickle, partd, holidays, woodwork, dask, distributed, featuretools\n",
      "  Attempting uninstall: importlib-resources\n",
      "    Found existing installation: importlib-resources 5.4.0\n",
      "    Uninstalling importlib-resources-5.4.0:\n",
      "      Successfully uninstalled importlib-resources-5.4.0\n",
      "Successfully installed PyMeeus-0.5.12 cloudpickle-2.2.0 convertdate-2.4.0 dask-2022.12.1 distributed-2022.12.1 featuretools-1.19.0 fsspec-2022.11.0 heapdict-1.0.1 hijri-converter-2.2.4 holidays-0.18 importlib-resources-5.10.1 korean-lunar-calendar-0.3.1 locket-1.0.0 partd-1.3.0 sortedcontainers-2.4.0 tblib-1.7.0 toolz-0.12.0 woodwork-0.21.1 zict-2.2.0\n",
      "\u001b[33mWARNING: Running pip as the 'root' user can result in broken permissions and conflicting behaviour with the system package manager. It is recommended to use a virtual environment instead: https://pip.pypa.io/warnings/venv\u001b[0m\u001b[33m\n",
      "\u001b[0m"
     ]
    }
   ],
   "source": [
    "#!python -m pip install featuretools"
   ]
  },
  {
   "cell_type": "code",
   "execution_count": 11,
   "id": "5a223351-1e77-4947-ae5c-7288915aa446",
   "metadata": {},
   "outputs": [],
   "source": [
    "import torch\n",
    "import pandas as pd\n",
    "import numpy as np\n",
    "# pip install transformers\n",
    "from transformers import BertTokenizer, BertModel\n",
    "# 만약 주피터 노트북에서 아래와 관계있는 에러가 발생한다면\n",
    "# pip install ipywidgets"
   ]
  },
  {
   "cell_type": "code",
   "execution_count": 12,
   "id": "50674d58-949c-4564-ace5-9b4c2e32d52f",
   "metadata": {},
   "outputs": [],
   "source": [
    "main_df = pd.read_csv('/opt/ml/input/data/train/train_ratings.csv') # user-item-time\n",
    "title_df = pd.read_csv('/opt/ml/input/data/train/titles.tsv', sep='\\t') # item-title\n",
    "year_df = pd.read_csv('/opt/ml/input/data/train/years.tsv', sep='\\t') # item-year\n",
    "director_df = pd.read_csv('/opt/ml/input/data/train/directors.tsv', sep='\\t') # item-director\n",
    "genre_df = pd.read_csv('/opt/ml/input/data/train/genres.tsv', sep='\\t') # item-genre(name)\n",
    "writer_df = pd.read_csv('/opt/ml/input/data/train/writers.tsv', sep='\\t') # item-writer"
   ]
  },
  {
   "cell_type": "markdown",
   "id": "6ac357aa-82c3-4ed0-9b49-aa3af3648ce9",
   "metadata": {},
   "source": [
    "### director별 가장 평점을 가장 많이 받은 영화의 평점수(dir_max_cnt)와, 기여했던 모든 영화의 총합 평점수(dir_sum_cnt)"
   ]
  },
  {
   "cell_type": "code",
   "execution_count": 146,
   "id": "3117cc91-ae15-4e6f-8cf4-b4e083f9eb6f",
   "metadata": {},
   "outputs": [],
   "source": [
    "# director 결측 item 감독을 'nm0000000'로 채워주기\n",
    "no_dir_item_list = list(set(main_df['item']) - set(director_df['item']))\n",
    "no_dir_item_df = pd.DataFrame([x for x in zip(no_dir_item_list, ['nm0000000']*len(no_dir_item_list))])\n",
    "no_dir_item_df.columns=director_df.columns # 컬럼명 동일하게\n",
    "director_df = pd.concat([director_df, no_dir_item_df]) # 기존 director_df 뒤에 감독없는 영화 추가"
   ]
  },
  {
   "cell_type": "code",
   "execution_count": 147,
   "id": "e4422f84-ac68-4287-b5ce-2d1bb0406eb2",
   "metadata": {},
   "outputs": [
    {
     "data": {
      "text/plain": [
       "1341"
      ]
     },
     "execution_count": 147,
     "metadata": {},
     "output_type": "execute_result"
    }
   ],
   "source": [
    "director_df['director'].nunique()"
   ]
  },
  {
   "cell_type": "code",
   "execution_count": 148,
   "id": "69af0804-a3db-4e39-aaa4-5ae23e6e65aa",
   "metadata": {},
   "outputs": [],
   "source": [
    "item_popularity = pd.read_csv('/opt/ml/input/fighting/FE/item/item_interaction_cnt.csv')"
   ]
  },
  {
   "cell_type": "code",
   "execution_count": 149,
   "id": "5085ec6e-b9d9-45d0-86f3-597e9fe6bc4a",
   "metadata": {},
   "outputs": [
    {
     "data": {
      "text/html": [
       "<div>\n",
       "<style scoped>\n",
       "    .dataframe tbody tr th:only-of-type {\n",
       "        vertical-align: middle;\n",
       "    }\n",
       "\n",
       "    .dataframe tbody tr th {\n",
       "        vertical-align: top;\n",
       "    }\n",
       "\n",
       "    .dataframe thead th {\n",
       "        text-align: right;\n",
       "    }\n",
       "</style>\n",
       "<table border=\"1\" class=\"dataframe\">\n",
       "  <thead>\n",
       "    <tr style=\"text-align: right;\">\n",
       "      <th></th>\n",
       "      <th>item</th>\n",
       "      <th>item_cnt</th>\n",
       "    </tr>\n",
       "  </thead>\n",
       "  <tbody>\n",
       "    <tr>\n",
       "      <th>0</th>\n",
       "      <td>2571</td>\n",
       "      <td>19699</td>\n",
       "    </tr>\n",
       "    <tr>\n",
       "      <th>1</th>\n",
       "      <td>2959</td>\n",
       "      <td>18437</td>\n",
       "    </tr>\n",
       "    <tr>\n",
       "      <th>2</th>\n",
       "      <td>296</td>\n",
       "      <td>18202</td>\n",
       "    </tr>\n",
       "  </tbody>\n",
       "</table>\n",
       "</div>"
      ],
      "text/plain": [
       "   item  item_cnt\n",
       "0  2571     19699\n",
       "1  2959     18437\n",
       "2   296     18202"
      ]
     },
     "execution_count": 149,
     "metadata": {},
     "output_type": "execute_result"
    }
   ],
   "source": [
    "item_popularity.head(3) #6807 row"
   ]
  },
  {
   "cell_type": "code",
   "execution_count": 150,
   "id": "fb69f516-21ae-4e78-bec9-6e1fdb7808f3",
   "metadata": {},
   "outputs": [
    {
     "data": {
      "text/html": [
       "<div>\n",
       "<style scoped>\n",
       "    .dataframe tbody tr th:only-of-type {\n",
       "        vertical-align: middle;\n",
       "    }\n",
       "\n",
       "    .dataframe tbody tr th {\n",
       "        vertical-align: top;\n",
       "    }\n",
       "\n",
       "    .dataframe thead th {\n",
       "        text-align: right;\n",
       "    }\n",
       "</style>\n",
       "<table border=\"1\" class=\"dataframe\">\n",
       "  <thead>\n",
       "    <tr style=\"text-align: right;\">\n",
       "      <th></th>\n",
       "      <th>item</th>\n",
       "      <th>director</th>\n",
       "      <th>item_cnt</th>\n",
       "    </tr>\n",
       "  </thead>\n",
       "  <tbody>\n",
       "    <tr>\n",
       "      <th>0</th>\n",
       "      <td>1237</td>\n",
       "      <td>nm0000005</td>\n",
       "      <td>1383</td>\n",
       "    </tr>\n",
       "    <tr>\n",
       "      <th>1</th>\n",
       "      <td>5147</td>\n",
       "      <td>nm0000005</td>\n",
       "      <td>949</td>\n",
       "    </tr>\n",
       "    <tr>\n",
       "      <th>2</th>\n",
       "      <td>7327</td>\n",
       "      <td>nm0000005</td>\n",
       "      <td>751</td>\n",
       "    </tr>\n",
       "    <tr>\n",
       "      <th>3</th>\n",
       "      <td>2068</td>\n",
       "      <td>nm0000005</td>\n",
       "      <td>502</td>\n",
       "    </tr>\n",
       "    <tr>\n",
       "      <th>4</th>\n",
       "      <td>7396</td>\n",
       "      <td>nm0000005</td>\n",
       "      <td>335</td>\n",
       "    </tr>\n",
       "    <tr>\n",
       "      <th>...</th>\n",
       "      <td>...</td>\n",
       "      <td>...</td>\n",
       "      <td>...</td>\n",
       "    </tr>\n",
       "    <tr>\n",
       "      <th>7204</th>\n",
       "      <td>73681</td>\n",
       "      <td>nm0000000</td>\n",
       "      <td>58</td>\n",
       "    </tr>\n",
       "    <tr>\n",
       "      <th>7205</th>\n",
       "      <td>32728</td>\n",
       "      <td>nm0000000</td>\n",
       "      <td>50</td>\n",
       "    </tr>\n",
       "    <tr>\n",
       "      <th>7206</th>\n",
       "      <td>32743</td>\n",
       "      <td>nm0000000</td>\n",
       "      <td>48</td>\n",
       "    </tr>\n",
       "    <tr>\n",
       "      <th>7207</th>\n",
       "      <td>106491</td>\n",
       "      <td>nm0000000</td>\n",
       "      <td>74</td>\n",
       "    </tr>\n",
       "    <tr>\n",
       "      <th>7208</th>\n",
       "      <td>8191</td>\n",
       "      <td>nm0000000</td>\n",
       "      <td>145</td>\n",
       "    </tr>\n",
       "  </tbody>\n",
       "</table>\n",
       "<p>7209 rows × 3 columns</p>\n",
       "</div>"
      ],
      "text/plain": [
       "        item   director  item_cnt\n",
       "0       1237  nm0000005      1383\n",
       "1       5147  nm0000005       949\n",
       "2       7327  nm0000005       751\n",
       "3       2068  nm0000005       502\n",
       "4       7396  nm0000005       335\n",
       "...      ...        ...       ...\n",
       "7204   73681  nm0000000        58\n",
       "7205   32728  nm0000000        50\n",
       "7206   32743  nm0000000        48\n",
       "7207  106491  nm0000000        74\n",
       "7208    8191  nm0000000       145\n",
       "\n",
       "[7209 rows x 3 columns]"
      ]
     },
     "execution_count": 150,
     "metadata": {},
     "output_type": "execute_result"
    }
   ],
   "source": [
    "director_df.merge(item_popularity, how='left', on='item')"
   ]
  },
  {
   "cell_type": "code",
   "execution_count": 151,
   "id": "03be83ce-2312-49b5-8d74-901a4b0d0ff8",
   "metadata": {},
   "outputs": [
    {
     "data": {
      "text/plain": [
       "6360"
      ]
     },
     "execution_count": 151,
     "metadata": {},
     "output_type": "execute_result"
    }
   ],
   "source": [
    "sum(director_df[director_df['director']=='nm0000005'].merge(item_popularity, how='left', on='item')['item_cnt'].values)\n"
   ]
  },
  {
   "cell_type": "code",
   "execution_count": 152,
   "id": "7a99787a-c8f7-4a56-ae9b-bd5fbf9d6e82",
   "metadata": {},
   "outputs": [],
   "source": [
    "director_list = list(director_df['director'].unique())"
   ]
  },
  {
   "cell_type": "code",
   "execution_count": 153,
   "id": "6d8e8d42-24e8-4c55-b53f-3d6ba09575eb",
   "metadata": {},
   "outputs": [],
   "source": [
    "result = []\n",
    "for director in director_list:\n",
    "    max_cnt = max(director_df[director_df['director']==director].merge(item_popularity, how='left', on='item')['item_cnt'].values) # 해당 감독이 가장 많이 받은 interaction의 수\n",
    "    sum_cnt = sum(director_df[director_df['director']==director].merge(item_popularity, how='left', on='item')['item_cnt'].values) # 해당 감독이 받은 interaction의 누적수\n",
    "    result.append((director, max_cnt, sum_cnt))\n",
    "result_df = pd.DataFrame(result)"
   ]
  },
  {
   "cell_type": "code",
   "execution_count": 154,
   "id": "87c7cb49-56de-4f19-a1ec-b1ab49c7798c",
   "metadata": {},
   "outputs": [
    {
     "data": {
      "text/html": [
       "<div>\n",
       "<style scoped>\n",
       "    .dataframe tbody tr th:only-of-type {\n",
       "        vertical-align: middle;\n",
       "    }\n",
       "\n",
       "    .dataframe tbody tr th {\n",
       "        vertical-align: top;\n",
       "    }\n",
       "\n",
       "    .dataframe thead th {\n",
       "        text-align: right;\n",
       "    }\n",
       "</style>\n",
       "<table border=\"1\" class=\"dataframe\">\n",
       "  <thead>\n",
       "    <tr style=\"text-align: right;\">\n",
       "      <th></th>\n",
       "      <th>director</th>\n",
       "      <th>dir_max_cnt</th>\n",
       "      <th>dir_sum_cnt</th>\n",
       "    </tr>\n",
       "  </thead>\n",
       "  <tbody>\n",
       "    <tr>\n",
       "      <th>0</th>\n",
       "      <td>nm0000005</td>\n",
       "      <td>1383</td>\n",
       "      <td>6360</td>\n",
       "    </tr>\n",
       "    <tr>\n",
       "      <th>1</th>\n",
       "      <td>nm0000019</td>\n",
       "      <td>905</td>\n",
       "      <td>3290</td>\n",
       "    </tr>\n",
       "    <tr>\n",
       "      <th>2</th>\n",
       "      <td>nm0000033</td>\n",
       "      <td>5953</td>\n",
       "      <td>36859</td>\n",
       "    </tr>\n",
       "    <tr>\n",
       "      <th>3</th>\n",
       "      <td>nm0000036</td>\n",
       "      <td>761</td>\n",
       "      <td>1835</td>\n",
       "    </tr>\n",
       "    <tr>\n",
       "      <th>4</th>\n",
       "      <td>nm0000037</td>\n",
       "      <td>2493</td>\n",
       "      <td>2814</td>\n",
       "    </tr>\n",
       "    <tr>\n",
       "      <th>...</th>\n",
       "      <td>...</td>\n",
       "      <td>...</td>\n",
       "      <td>...</td>\n",
       "    </tr>\n",
       "    <tr>\n",
       "      <th>1336</th>\n",
       "      <td>nm2648685</td>\n",
       "      <td>247</td>\n",
       "      <td>294</td>\n",
       "    </tr>\n",
       "    <tr>\n",
       "      <th>1337</th>\n",
       "      <td>nm2676052</td>\n",
       "      <td>906</td>\n",
       "      <td>1563</td>\n",
       "    </tr>\n",
       "    <tr>\n",
       "      <th>1338</th>\n",
       "      <td>nm2879822</td>\n",
       "      <td>251</td>\n",
       "      <td>471</td>\n",
       "    </tr>\n",
       "    <tr>\n",
       "      <th>1339</th>\n",
       "      <td>nm9054338</td>\n",
       "      <td>1015</td>\n",
       "      <td>1380</td>\n",
       "    </tr>\n",
       "    <tr>\n",
       "      <th>1340</th>\n",
       "      <td>nm0000000</td>\n",
       "      <td>6495</td>\n",
       "      <td>301445</td>\n",
       "    </tr>\n",
       "  </tbody>\n",
       "</table>\n",
       "<p>1341 rows × 3 columns</p>\n",
       "</div>"
      ],
      "text/plain": [
       "       director  dir_max_cnt  dir_sum_cnt\n",
       "0     nm0000005         1383         6360\n",
       "1     nm0000019          905         3290\n",
       "2     nm0000033         5953        36859\n",
       "3     nm0000036          761         1835\n",
       "4     nm0000037         2493         2814\n",
       "...         ...          ...          ...\n",
       "1336  nm2648685          247          294\n",
       "1337  nm2676052          906         1563\n",
       "1338  nm2879822          251          471\n",
       "1339  nm9054338         1015         1380\n",
       "1340  nm0000000         6495       301445\n",
       "\n",
       "[1341 rows x 3 columns]"
      ]
     },
     "execution_count": 154,
     "metadata": {},
     "output_type": "execute_result"
    }
   ],
   "source": [
    "result_df.columns = ['director','dir_max_cnt','dir_sum_cnt']\n",
    "result_df"
   ]
  },
  {
   "cell_type": "code",
   "execution_count": null,
   "id": "f3910ec2-5e65-4e3e-b4e9-7aa928515942",
   "metadata": {},
   "outputs": [],
   "source": [
    "### 'nm0000000'의 경우는 감독정보가 안주어진 경우이다. 따라서 중간값을 취해준다."
   ]
  },
  {
   "cell_type": "code",
   "execution_count": 163,
   "id": "8afff833-0ea8-4c3d-8c43-8a790a0bd7be",
   "metadata": {},
   "outputs": [
    {
     "data": {
      "text/plain": [
       "count     1341.000000\n",
       "mean      1838.779269\n",
       "std       2888.695760\n",
       "min         49.000000\n",
       "25%        248.000000\n",
       "50%        691.000000\n",
       "75%       2061.000000\n",
       "max      19699.000000\n",
       "Name: dir_max_cnt, dtype: float64"
      ]
     },
     "execution_count": 163,
     "metadata": {},
     "output_type": "execute_result"
    }
   ],
   "source": [
    "result_df['dir_max_cnt'].describe()"
   ]
  },
  {
   "cell_type": "code",
   "execution_count": 165,
   "id": "8c2e8984-8dc1-4236-953a-88ecacf36186",
   "metadata": {},
   "outputs": [],
   "source": [
    "result_df.loc[result_df['director'] == 'nm0000000', 'dir_max_cnt'] = 691\n",
    "result_df.loc[result_df['director'] == 'nm0000000', 'dir_sum_cnt'] = 691"
   ]
  },
  {
   "cell_type": "code",
   "execution_count": 169,
   "id": "8e38c9e4-60f9-4e55-ac07-b86a3bc81373",
   "metadata": {},
   "outputs": [
    {
     "data": {
      "text/html": [
       "<div>\n",
       "<style scoped>\n",
       "    .dataframe tbody tr th:only-of-type {\n",
       "        vertical-align: middle;\n",
       "    }\n",
       "\n",
       "    .dataframe tbody tr th {\n",
       "        vertical-align: top;\n",
       "    }\n",
       "\n",
       "    .dataframe thead th {\n",
       "        text-align: right;\n",
       "    }\n",
       "</style>\n",
       "<table border=\"1\" class=\"dataframe\">\n",
       "  <thead>\n",
       "    <tr style=\"text-align: right;\">\n",
       "      <th></th>\n",
       "      <th>director</th>\n",
       "      <th>dir_max_cnt</th>\n",
       "      <th>dir_sum_cnt</th>\n",
       "    </tr>\n",
       "  </thead>\n",
       "  <tbody>\n",
       "    <tr>\n",
       "      <th>0</th>\n",
       "      <td>nm0000005</td>\n",
       "      <td>1383</td>\n",
       "      <td>6360</td>\n",
       "    </tr>\n",
       "    <tr>\n",
       "      <th>1</th>\n",
       "      <td>nm0000019</td>\n",
       "      <td>905</td>\n",
       "      <td>3290</td>\n",
       "    </tr>\n",
       "    <tr>\n",
       "      <th>2</th>\n",
       "      <td>nm0000033</td>\n",
       "      <td>5953</td>\n",
       "      <td>36859</td>\n",
       "    </tr>\n",
       "    <tr>\n",
       "      <th>3</th>\n",
       "      <td>nm0000036</td>\n",
       "      <td>761</td>\n",
       "      <td>1835</td>\n",
       "    </tr>\n",
       "    <tr>\n",
       "      <th>4</th>\n",
       "      <td>nm0000037</td>\n",
       "      <td>2493</td>\n",
       "      <td>2814</td>\n",
       "    </tr>\n",
       "    <tr>\n",
       "      <th>...</th>\n",
       "      <td>...</td>\n",
       "      <td>...</td>\n",
       "      <td>...</td>\n",
       "    </tr>\n",
       "    <tr>\n",
       "      <th>1336</th>\n",
       "      <td>nm2648685</td>\n",
       "      <td>247</td>\n",
       "      <td>294</td>\n",
       "    </tr>\n",
       "    <tr>\n",
       "      <th>1337</th>\n",
       "      <td>nm2676052</td>\n",
       "      <td>906</td>\n",
       "      <td>1563</td>\n",
       "    </tr>\n",
       "    <tr>\n",
       "      <th>1338</th>\n",
       "      <td>nm2879822</td>\n",
       "      <td>251</td>\n",
       "      <td>471</td>\n",
       "    </tr>\n",
       "    <tr>\n",
       "      <th>1339</th>\n",
       "      <td>nm9054338</td>\n",
       "      <td>1015</td>\n",
       "      <td>1380</td>\n",
       "    </tr>\n",
       "    <tr>\n",
       "      <th>1340</th>\n",
       "      <td>nm0000000</td>\n",
       "      <td>691</td>\n",
       "      <td>691</td>\n",
       "    </tr>\n",
       "  </tbody>\n",
       "</table>\n",
       "<p>1341 rows × 3 columns</p>\n",
       "</div>"
      ],
      "text/plain": [
       "       director  dir_max_cnt  dir_sum_cnt\n",
       "0     nm0000005         1383         6360\n",
       "1     nm0000019          905         3290\n",
       "2     nm0000033         5953        36859\n",
       "3     nm0000036          761         1835\n",
       "4     nm0000037         2493         2814\n",
       "...         ...          ...          ...\n",
       "1336  nm2648685          247          294\n",
       "1337  nm2676052          906         1563\n",
       "1338  nm2879822          251          471\n",
       "1339  nm9054338         1015         1380\n",
       "1340  nm0000000          691          691\n",
       "\n",
       "[1341 rows x 3 columns]"
      ]
     },
     "execution_count": 169,
     "metadata": {},
     "output_type": "execute_result"
    }
   ],
   "source": [
    "result_df"
   ]
  },
  {
   "cell_type": "code",
   "execution_count": 170,
   "id": "91cae4a6-2aaa-4a29-bb82-8e3241180d6f",
   "metadata": {},
   "outputs": [],
   "source": [
    "result_df.to_csv(\"director_max_sum_intercnt.csv\", index=False)"
   ]
  },
  {
   "cell_type": "code",
   "execution_count": null,
   "id": "ec0d5b95-215c-4a56-9858-9bc3cfa72666",
   "metadata": {},
   "outputs": [],
   "source": []
  }
 ],
 "metadata": {
  "kernelspec": {
   "display_name": "Python 3 (ipykernel)",
   "language": "python",
   "name": "python3"
  },
  "language_info": {
   "codemirror_mode": {
    "name": "ipython",
    "version": 3
   },
   "file_extension": ".py",
   "mimetype": "text/x-python",
   "name": "python",
   "nbconvert_exporter": "python",
   "pygments_lexer": "ipython3",
   "version": "3.8.5"
  }
 },
 "nbformat": 4,
 "nbformat_minor": 5
}

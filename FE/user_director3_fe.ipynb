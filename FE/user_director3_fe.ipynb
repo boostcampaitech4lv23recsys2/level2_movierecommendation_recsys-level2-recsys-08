{
 "cells": [
  {
   "cell_type": "code",
   "execution_count": 1,
   "id": "ea1e0d50-a94b-4baf-8f03-91da1adf9974",
   "metadata": {},
   "outputs": [],
   "source": [
    "import torch\n",
    "import pandas as pd\n",
    "import numpy as np\n",
    "# pip install transformers\n",
    "from transformers import BertTokenizer, BertModel\n",
    "# 만약 주피터 노트북에서 아래와 관계있는 에러가 발생한다면\n",
    "# pip install ipywidgets"
   ]
  },
  {
   "cell_type": "code",
   "execution_count": 2,
   "id": "cb400525-3869-4d75-b991-664bfde8354a",
   "metadata": {},
   "outputs": [],
   "source": [
    "main_df = pd.read_csv('/opt/ml/input/data/train/train_ratings.csv') # user-item-time\n",
    "title_df = pd.read_csv('/opt/ml/input/data/train/titles.tsv', sep='\\t') # item-title\n",
    "year_df = pd.read_csv('/opt/ml/input/data/train/years.tsv', sep='\\t') # item-year\n",
    "director_df = pd.read_csv('/opt/ml/input/data/train/directors.tsv', sep='\\t') # item-director\n",
    "genre_name_df = pd.read_csv('/opt/ml/input/data/train/genres.tsv', sep='\\t') # item-genre(name)\n",
    "writer_df = pd.read_csv('/opt/ml/input/data/train/writers.tsv', sep='\\t') # item-writer"
   ]
  },
  {
   "cell_type": "code",
   "execution_count": 3,
   "id": "0e06564f-ed0b-44bd-a833-d08c109ca0ee",
   "metadata": {},
   "outputs": [
    {
     "data": {
      "text/html": [
       "<div>\n",
       "<style scoped>\n",
       "    .dataframe tbody tr th:only-of-type {\n",
       "        vertical-align: middle;\n",
       "    }\n",
       "\n",
       "    .dataframe tbody tr th {\n",
       "        vertical-align: top;\n",
       "    }\n",
       "\n",
       "    .dataframe thead th {\n",
       "        text-align: right;\n",
       "    }\n",
       "</style>\n",
       "<table border=\"1\" class=\"dataframe\">\n",
       "  <thead>\n",
       "    <tr style=\"text-align: right;\">\n",
       "      <th></th>\n",
       "      <th>user</th>\n",
       "      <th>item</th>\n",
       "      <th>time</th>\n",
       "    </tr>\n",
       "  </thead>\n",
       "  <tbody>\n",
       "    <tr>\n",
       "      <th>0</th>\n",
       "      <td>11</td>\n",
       "      <td>4643</td>\n",
       "      <td>1230782529</td>\n",
       "    </tr>\n",
       "    <tr>\n",
       "      <th>1</th>\n",
       "      <td>11</td>\n",
       "      <td>170</td>\n",
       "      <td>1230782534</td>\n",
       "    </tr>\n",
       "    <tr>\n",
       "      <th>2</th>\n",
       "      <td>11</td>\n",
       "      <td>531</td>\n",
       "      <td>1230782539</td>\n",
       "    </tr>\n",
       "    <tr>\n",
       "      <th>3</th>\n",
       "      <td>11</td>\n",
       "      <td>616</td>\n",
       "      <td>1230782542</td>\n",
       "    </tr>\n",
       "    <tr>\n",
       "      <th>4</th>\n",
       "      <td>11</td>\n",
       "      <td>2140</td>\n",
       "      <td>1230782563</td>\n",
       "    </tr>\n",
       "    <tr>\n",
       "      <th>...</th>\n",
       "      <td>...</td>\n",
       "      <td>...</td>\n",
       "      <td>...</td>\n",
       "    </tr>\n",
       "    <tr>\n",
       "      <th>5154466</th>\n",
       "      <td>138493</td>\n",
       "      <td>44022</td>\n",
       "      <td>1260209449</td>\n",
       "    </tr>\n",
       "    <tr>\n",
       "      <th>5154467</th>\n",
       "      <td>138493</td>\n",
       "      <td>4958</td>\n",
       "      <td>1260209482</td>\n",
       "    </tr>\n",
       "    <tr>\n",
       "      <th>5154468</th>\n",
       "      <td>138493</td>\n",
       "      <td>68319</td>\n",
       "      <td>1260209720</td>\n",
       "    </tr>\n",
       "    <tr>\n",
       "      <th>5154469</th>\n",
       "      <td>138493</td>\n",
       "      <td>40819</td>\n",
       "      <td>1260209726</td>\n",
       "    </tr>\n",
       "    <tr>\n",
       "      <th>5154470</th>\n",
       "      <td>138493</td>\n",
       "      <td>27311</td>\n",
       "      <td>1260209807</td>\n",
       "    </tr>\n",
       "  </tbody>\n",
       "</table>\n",
       "<p>5154471 rows × 3 columns</p>\n",
       "</div>"
      ],
      "text/plain": [
       "           user   item        time\n",
       "0            11   4643  1230782529\n",
       "1            11    170  1230782534\n",
       "2            11    531  1230782539\n",
       "3            11    616  1230782542\n",
       "4            11   2140  1230782563\n",
       "...         ...    ...         ...\n",
       "5154466  138493  44022  1260209449\n",
       "5154467  138493   4958  1260209482\n",
       "5154468  138493  68319  1260209720\n",
       "5154469  138493  40819  1260209726\n",
       "5154470  138493  27311  1260209807\n",
       "\n",
       "[5154471 rows x 3 columns]"
      ]
     },
     "execution_count": 3,
     "metadata": {},
     "output_type": "execute_result"
    }
   ],
   "source": [
    "main_df"
   ]
  },
  {
   "cell_type": "code",
   "execution_count": 4,
   "id": "1d7e124a-6383-427e-9c94-46300c30d36d",
   "metadata": {},
   "outputs": [],
   "source": [
    "# 유저별 좋아하는 감독 top3"
   ]
  },
  {
   "cell_type": "code",
   "execution_count": 5,
   "id": "a7d5d7ee-0421-4701-8ae2-a1dab0d334fc",
   "metadata": {},
   "outputs": [],
   "source": [
    "no_dir_item_list = list(set(main_df['item']) - set(director_df['item']))\n",
    "no_dir_item_df = pd.DataFrame([x for x in zip(no_dir_item_list, ['nm0000000']*len(no_dir_item_list))])\n",
    "no_dir_item_df.columns=director_df.columns # 컬럼명 동일하게\n",
    "director_df = pd.concat([director_df, no_dir_item_df]) # 기존 director_df 뒤에 감독없는 영화 추가"
   ]
  },
  {
   "cell_type": "code",
   "execution_count": 6,
   "id": "0cf6693c-950e-4985-87cd-08f98e921766",
   "metadata": {},
   "outputs": [],
   "source": [
    "df = main_df.merge(director_df, how='left', on='item')"
   ]
  },
  {
   "cell_type": "code",
   "execution_count": 10,
   "id": "2ce187a0-2afe-46cf-90dc-765ce2f6a539",
   "metadata": {},
   "outputs": [
    {
     "data": {
      "text/plain": [
       "nm0000000    43\n",
       "nm0000229    10\n",
       "nm0000318     6\n",
       "nm0000709     6\n",
       "nm0000386     6\n",
       "             ..\n",
       "nm0942367     1\n",
       "nm0957772     1\n",
       "nm0269463     1\n",
       "nm0812200     1\n",
       "nm0267512     1\n",
       "Name: director, Length: 258, dtype: int64"
      ]
     },
     "execution_count": 10,
     "metadata": {},
     "output_type": "execute_result"
    }
   ],
   "source": [
    "df[df['user']==11]['director'].value_counts()"
   ]
  },
  {
   "cell_type": "code",
   "execution_count": 15,
   "id": "f3a8b0dc-c73e-4ba6-8015-a8d316c78360",
   "metadata": {},
   "outputs": [
    {
     "data": {
      "text/plain": [
       "Index(['nm0000000', 'nm0000229', 'nm0000318', 'nm0000709'], dtype='object')"
      ]
     },
     "execution_count": 15,
     "metadata": {},
     "output_type": "execute_result"
    }
   ],
   "source": [
    "df[df['user']==11]['director'].value_counts().index[:4]"
   ]
  },
  {
   "cell_type": "code",
   "execution_count": 17,
   "id": "fab6cbd5-732f-49c3-ba52-e6bb09d6fbeb",
   "metadata": {},
   "outputs": [],
   "source": [
    "user_list = df['user'].unique()"
   ]
  },
  {
   "cell_type": "code",
   "execution_count": null,
   "id": "66566278-20d3-46c3-845b-4ef010b1edda",
   "metadata": {},
   "outputs": [],
   "source": [
    "#일단 top3명을 뽑는데, 같은 횟수의 감독 -> 인기도기반"
   ]
  },
  {
   "cell_type": "code",
   "execution_count": 18,
   "id": "a1df6bd9-b386-4a09-9cbf-66911393eb75",
   "metadata": {},
   "outputs": [],
   "source": [
    "result = []\n",
    "for user in user_list:\n",
    "    like_director = df[df['user']==user]['director'].value_counts().index[:4]\n",
    "    tmp = []\n",
    "    for direct in like_director:\n",
    "        if direct != 'nm0000000':\n",
    "            tmp.append(direct)\n",
    "    first, second, third = tmp[:3]\n",
    "    result.append((user, first, second, third))\n",
    "    \n",
    "    \n",
    "user_direct3_df = pd.DataFrame(result)"
   ]
  },
  {
   "cell_type": "code",
   "execution_count": 19,
   "id": "c87c855e-a6db-4411-b19d-a58924f99744",
   "metadata": {},
   "outputs": [
    {
     "data": {
      "text/html": [
       "<div>\n",
       "<style scoped>\n",
       "    .dataframe tbody tr th:only-of-type {\n",
       "        vertical-align: middle;\n",
       "    }\n",
       "\n",
       "    .dataframe tbody tr th {\n",
       "        vertical-align: top;\n",
       "    }\n",
       "\n",
       "    .dataframe thead th {\n",
       "        text-align: right;\n",
       "    }\n",
       "</style>\n",
       "<table border=\"1\" class=\"dataframe\">\n",
       "  <thead>\n",
       "    <tr style=\"text-align: right;\">\n",
       "      <th></th>\n",
       "      <th>0</th>\n",
       "      <th>1</th>\n",
       "      <th>2</th>\n",
       "      <th>3</th>\n",
       "    </tr>\n",
       "  </thead>\n",
       "  <tbody>\n",
       "    <tr>\n",
       "      <th>0</th>\n",
       "      <td>11</td>\n",
       "      <td>nm0000229</td>\n",
       "      <td>nm0000318</td>\n",
       "      <td>nm0000709</td>\n",
       "    </tr>\n",
       "    <tr>\n",
       "      <th>1</th>\n",
       "      <td>14</td>\n",
       "      <td>nm0000229</td>\n",
       "      <td>nm0000709</td>\n",
       "      <td>nm0414144</td>\n",
       "    </tr>\n",
       "    <tr>\n",
       "      <th>2</th>\n",
       "      <td>18</td>\n",
       "      <td>nm0000264</td>\n",
       "      <td>nm0001466</td>\n",
       "      <td>nm0600546</td>\n",
       "    </tr>\n",
       "    <tr>\n",
       "      <th>3</th>\n",
       "      <td>25</td>\n",
       "      <td>nm0000229</td>\n",
       "      <td>nm0000116</td>\n",
       "      <td>nm0000416</td>\n",
       "    </tr>\n",
       "    <tr>\n",
       "      <th>4</th>\n",
       "      <td>31</td>\n",
       "      <td>nm0001392</td>\n",
       "      <td>nm0893659</td>\n",
       "      <td>nm0946734</td>\n",
       "    </tr>\n",
       "    <tr>\n",
       "      <th>...</th>\n",
       "      <td>...</td>\n",
       "      <td>...</td>\n",
       "      <td>...</td>\n",
       "      <td>...</td>\n",
       "    </tr>\n",
       "    <tr>\n",
       "      <th>31355</th>\n",
       "      <td>138473</td>\n",
       "      <td>nm0594503</td>\n",
       "      <td>nm0000233</td>\n",
       "      <td>nm0000318</td>\n",
       "    </tr>\n",
       "    <tr>\n",
       "      <th>31356</th>\n",
       "      <td>138475</td>\n",
       "      <td>nm0000033</td>\n",
       "      <td>nm0001328</td>\n",
       "      <td>nm0000485</td>\n",
       "    </tr>\n",
       "    <tr>\n",
       "      <th>31357</th>\n",
       "      <td>138486</td>\n",
       "      <td>nm0000709</td>\n",
       "      <td>nm0001681</td>\n",
       "      <td>nm0000229</td>\n",
       "    </tr>\n",
       "    <tr>\n",
       "      <th>31358</th>\n",
       "      <td>138492</td>\n",
       "      <td>nm0001054</td>\n",
       "      <td>nm0001554</td>\n",
       "      <td>nm0001661</td>\n",
       "    </tr>\n",
       "    <tr>\n",
       "      <th>31359</th>\n",
       "      <td>138493</td>\n",
       "      <td>nm0000229</td>\n",
       "      <td>nm0000318</td>\n",
       "      <td>nm0001149</td>\n",
       "    </tr>\n",
       "  </tbody>\n",
       "</table>\n",
       "<p>31360 rows × 4 columns</p>\n",
       "</div>"
      ],
      "text/plain": [
       "            0          1          2          3\n",
       "0          11  nm0000229  nm0000318  nm0000709\n",
       "1          14  nm0000229  nm0000709  nm0414144\n",
       "2          18  nm0000264  nm0001466  nm0600546\n",
       "3          25  nm0000229  nm0000116  nm0000416\n",
       "4          31  nm0001392  nm0893659  nm0946734\n",
       "...       ...        ...        ...        ...\n",
       "31355  138473  nm0594503  nm0000233  nm0000318\n",
       "31356  138475  nm0000033  nm0001328  nm0000485\n",
       "31357  138486  nm0000709  nm0001681  nm0000229\n",
       "31358  138492  nm0001054  nm0001554  nm0001661\n",
       "31359  138493  nm0000229  nm0000318  nm0001149\n",
       "\n",
       "[31360 rows x 4 columns]"
      ]
     },
     "execution_count": 19,
     "metadata": {},
     "output_type": "execute_result"
    }
   ],
   "source": [
    "user_direct3_df"
   ]
  },
  {
   "cell_type": "code",
   "execution_count": 21,
   "id": "944a45c6-3fa5-4743-9d90-d46e30e29275",
   "metadata": {},
   "outputs": [],
   "source": [
    "user_direct3_df.columns = ['user','director1','director2','director3']"
   ]
  },
  {
   "cell_type": "code",
   "execution_count": 22,
   "id": "2b91d17c-0660-4073-b97c-bd3c7d42afd1",
   "metadata": {},
   "outputs": [],
   "source": [
    "user_direct3_df.to_csv(\n",
    "    \"user_director_fe.csv\", index=False\n",
    ")"
   ]
  },
  {
   "cell_type": "code",
   "execution_count": null,
   "id": "1b526b6c-76fe-49a3-8123-54af88c664cb",
   "metadata": {},
   "outputs": [],
   "source": []
  }
 ],
 "metadata": {
  "kernelspec": {
   "display_name": "Python 3 (ipykernel)",
   "language": "python",
   "name": "python3"
  },
  "language_info": {
   "codemirror_mode": {
    "name": "ipython",
    "version": 3
   },
   "file_extension": ".py",
   "mimetype": "text/x-python",
   "name": "python",
   "nbconvert_exporter": "python",
   "pygments_lexer": "ipython3",
   "version": "3.8.5"
  }
 },
 "nbformat": 4,
 "nbformat_minor": 5
}

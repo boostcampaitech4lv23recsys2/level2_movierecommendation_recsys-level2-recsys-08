{
 "cells": [
  {
   "cell_type": "markdown",
   "id": "7434f7af",
   "metadata": {
    "toc": true
   },
   "source": [
    "<h1>Table of Contents<span class=\"tocSkip\"></span></h1>\n",
    "<div class=\"toc\"><ul class=\"toc-item\"><li><span><a href=\"#Movie-Recommendation---Mission-1\" data-toc-modified-id=\"Movie-Recommendation---Mission-1-1\">Movie Recommendation - Mission 1</a></span><ul class=\"toc-item\"><li><ul class=\"toc-item\"><li><span><a href=\"#Movielense-Dataset-EDA\" data-toc-modified-id=\"Movielense-Dataset-EDA-1.0.1\">Movielense Dataset EDA</a></span></li></ul></li><li><span><a href=\"#대회-데이터셋-구성\" data-toc-modified-id=\"대회-데이터셋-구성-1.1\">대회 데이터셋 구성</a></span><ul class=\"toc-item\"><li><span><a href=\"#data\" data-toc-modified-id=\"data-1.1.1\">data</a></span></li></ul></li><li><span><a href=\"#train/test-데이터셋-알아보기\" data-toc-modified-id=\"train/test-데이터셋-알아보기-1.2\">train/test 데이터셋 알아보기</a></span></li><li><span><a href=\"#데이터-다운로드\" data-toc-modified-id=\"데이터-다운로드-1.3\">데이터 다운로드</a></span></li><li><span><a href=\"#Side-Information(year,-writer,-title,-genre,-director)-알아보기\" data-toc-modified-id=\"Side-Information(year,-writer,-title,-genre,-director)-알아보기-1.4\">Side Information(year, writer, title, genre, director) 알아보기</a></span></li><li><span><a href=\"#데이터-살펴보기\" data-toc-modified-id=\"데이터-살펴보기-1.5\">데이터 살펴보기</a></span><ul class=\"toc-item\"><li><span><a href=\"#감독-총-1340명,-상위-10명의-영화-데이터\" data-toc-modified-id=\"감독-총-1340명,-상위-10명의-영화-데이터-1.5.1\">감독 총 1340명, 상위 10명의 영화 데이터</a></span></li><li><span><a href=\"#wirter-2989명,-상위-10명의-영화-데이터\" data-toc-modified-id=\"wirter-2989명,-상위-10명의-영화-데이터-1.5.2\">wirter 2989명, 상위 10명의 영화 데이터</a></span></li><li><span><a href=\"#상위-영화-10개에-대한-데이터\" data-toc-modified-id=\"상위-영화-10개에-대한-데이터-1.5.3\">상위 영화 10개에 대한 데이터</a></span></li><li><span><a href=\"#year-총-93개,-상위-10개-year-데이터\" data-toc-modified-id=\"year-총-93개,-상위-10개-year-데이터-1.5.4\">year 총 93개, 상위 10개 year 데이터</a></span></li><li><span><a href=\"#장르-총-18개,-상위-10개-영화-데이터\" data-toc-modified-id=\"장르-총-18개,-상위-10개-영화-데이터-1.5.5\">장르 총 18개, 상위 10개 영화 데이터</a></span></li></ul></li><li><span><a href=\"#시각화\" data-toc-modified-id=\"시각화-1.6\">시각화</a></span></li><li><span><a href=\"#마치며\" data-toc-modified-id=\"마치며-1.7\">마치며</a></span></li><li><span><a href=\"#영화-감독-별-영화-개수,-관객수-시각화\" data-toc-modified-id=\"영화-감독-별-영화-개수,-관객수-시각화-1.8\">영화 감독 별 영화 개수, 관객수 시각화</a></span></li><li><span><a href=\"#작가-별-영화-개수,-관객수-시각화\" data-toc-modified-id=\"작가-별-영화-개수,-관객수-시각화-1.9\">작가 별 영화 개수, 관객수 시각화</a></span></li><li><span><a href=\"#년도별-영화-개수,-관객수-시각화\" data-toc-modified-id=\"년도별-영화-개수,-관객수-시각화-1.10\">년도별 영화 개수, 관객수 시각화</a></span></li><li><span><a href=\"#장르별-영화-개수,-관객수-시각화\" data-toc-modified-id=\"장르별-영화-개수,-관객수-시각화-1.11\">장르별 영화 개수, 관객수 시각화</a></span></li><li><span><a href=\"#영화별\" data-toc-modified-id=\"영화별-1.12\">영화별</a></span><ul class=\"toc-item\"><li><span><a href=\"#콘텐츠-라이선스\" data-toc-modified-id=\"콘텐츠-라이선스-1.12.1\"><strong>콘텐츠 라이선스</strong></a></span></li></ul></li></ul></li></ul></div>"
   ]
  },
  {
   "cell_type": "markdown",
   "id": "45053aa1",
   "metadata": {
    "id": "45053aa1"
   },
   "source": [
    "# Movie Recommendation - Mission 1\n",
    "\n",
    "### Movielense Dataset EDA\n",
    "\n",
    "\n",
    "EDA(Exploratory Data Analysis)는 데이터셋을 다양한 각도에서 관찰하고 인사이트를 얻을 수 있는 중요한 데이터 분석 과정입니다. 이를 잘 수행하여 데이터의 특징과 분포에 대해 깊은 이해도를 가진다면, 모델의 성능에도 큰 영향을 끼칠 수 있습니다.\n",
    "\n",
    "본 미션에서는 Movie Recommendation 대회\b를 위해 제공되는 [movielens](https://grouplens.org/datasets/movielens/) 를 재구성한 대회 데이터셋에 대한 EDA를 진행하고, 학습 데이터에 더불어 영화의 side-information 데이터에 대해 이해하는 시간을 가져보겠습니다!"
   ]
  },
  {
   "cell_type": "markdown",
   "id": "b28aa9ba",
   "metadata": {
    "id": "b28aa9ba"
   },
   "source": [
    "## 대회 데이터셋 구성\n",
    "먼저 데이터셋의 구성을 살펴봅니다.\n",
    "\n",
    "### data\n",
    "    ├── directors.tsv\n",
    "    ├── genres.tsv\n",
    "    ├── titles.tsv\n",
    "    ├── train_ratings.csv\n",
    "    ├── writers.tsv\n",
    "    └── years.tsv\n",
    "    \n",
    "1. *train_ratings.csv* : 전체 훈련 데이터.\n",
    "2. *directors.tsv*, *genres.tsv*, *writers.tsv*, *years.tsv*, *titles.tsv* : 영화의 side-information 데이터."
   ]
  },
  {
   "cell_type": "markdown",
   "id": "5ded44aa",
   "metadata": {
    "id": "5ded44aa"
   },
   "source": [
    "## train/test 데이터셋 알아보기"
   ]
  },
  {
   "cell_type": "markdown",
   "id": "1ae0ba40",
   "metadata": {
    "id": "1ae0ba40"
   },
   "source": [
    "Pandas를 이용하여 train 데이터를 로드하고 데이터 구성을 알아봅니다. 이어지는 코드를 실행하면 데이터셋의 간략한 정보와 샘플을 확인할 수 있습니다.\n",
    "\n",
    "train 데이터셋은 *user, item, time* 세개의 column으로 구성된 반면, test 데이터셋은 *user* column과 비어있는 *item* column으로 구성되어 있음을 참고해 주세요. 대회 진행시, 각각의 사용자에게 10개의 영화를 추천하게 됩니다.\n",
    "\n",
    "각 column은 다음을 나타냅니다.\n",
    "- *user*: 사용자 id.\n",
    "- *item*: 영화 id.\n",
    "- *time*: 사용자가 해당 영화와 interact한 시간. (UNIX시간의 초 단위)\n",
    "\n",
    "영화 id는 *directors.tsv, genres.tsv, writers.tsv, years.tsv, titles.tsv*에서도 일관적으로 사용됩니다. 즉, 동일한 영화 id는 side information 데이터셋에서 동일한 영화를 나타냅니다.\n",
    "\n",
    "이어지는 cell들을 실행해서 직접 관찰해보세요!"
   ]
  },
  {
   "cell_type": "markdown",
   "id": "HBz2c1NDjzNx",
   "metadata": {
    "id": "HBz2c1NDjzNx"
   },
   "source": [
    "## 데이터 다운로드\n",
    "이곳에 대회 사이트(AI Stages)에 있는 data의 URL을 입력해주세요. \n",
    "- 데이터 URL은 변경될 수 있습니다.\n",
    "- 예) `!wget https://aistages-prod-server-public.s3.amazonaws.com/app/Competitions/000176/data/data.tar.gz`"
   ]
  },
  {
   "cell_type": "code",
   "execution_count": 1,
   "id": "063a71d8",
   "metadata": {
    "ExecuteTime": {
     "end_time": "2022-12-19T02:22:08.279477Z",
     "start_time": "2022-12-19T02:22:07.822486Z"
    },
    "id": "063a71d8"
   },
   "outputs": [],
   "source": [
    "import pandas as pd\n",
    "import numpy as np\n",
    "import os"
   ]
  },
  {
   "cell_type": "code",
   "execution_count": 2,
   "id": "2395a275",
   "metadata": {
    "ExecuteTime": {
     "end_time": "2022-12-19T02:22:09.899691Z",
     "start_time": "2022-12-19T02:22:08.525316Z"
    },
    "id": "2395a275"
   },
   "outputs": [],
   "source": [
    "data_path = '../../data/train'\n",
    "train_df = pd.read_csv(os.path.join(data_path, 'train_ratings.csv')) # 전체 학습 데이터"
   ]
  },
  {
   "cell_type": "code",
   "execution_count": 8,
   "id": "d82cb038",
   "metadata": {
    "ExecuteTime": {
     "end_time": "2022-12-20T01:50:30.199406Z",
     "start_time": "2022-12-20T01:50:30.186459Z"
    },
    "id": "d82cb038"
   },
   "outputs": [
    {
     "name": "stdout",
     "output_type": "stream",
     "text": [
      "<class 'pandas.core.frame.DataFrame'>\n",
      "RangeIndex: 5154471 entries, 0 to 5154470\n",
      "Data columns (total 3 columns):\n",
      " #   Column  Dtype\n",
      "---  ------  -----\n",
      " 0   user    int64\n",
      " 1   item    int64\n",
      " 2   time    int64\n",
      "dtypes: int64(3)\n",
      "memory usage: 118.0 MB\n"
     ]
    },
    {
     "data": {
      "text/html": [
       "<div>\n",
       "<style scoped>\n",
       "    .dataframe tbody tr th:only-of-type {\n",
       "        vertical-align: middle;\n",
       "    }\n",
       "\n",
       "    .dataframe tbody tr th {\n",
       "        vertical-align: top;\n",
       "    }\n",
       "\n",
       "    .dataframe thead th {\n",
       "        text-align: right;\n",
       "    }\n",
       "</style>\n",
       "<table border=\"1\" class=\"dataframe\">\n",
       "  <thead>\n",
       "    <tr style=\"text-align: right;\">\n",
       "      <th></th>\n",
       "      <th>user</th>\n",
       "      <th>item</th>\n",
       "      <th>time</th>\n",
       "    </tr>\n",
       "  </thead>\n",
       "  <tbody>\n",
       "    <tr>\n",
       "      <th>0</th>\n",
       "      <td>11</td>\n",
       "      <td>4643</td>\n",
       "      <td>1230782529</td>\n",
       "    </tr>\n",
       "    <tr>\n",
       "      <th>1</th>\n",
       "      <td>11</td>\n",
       "      <td>170</td>\n",
       "      <td>1230782534</td>\n",
       "    </tr>\n",
       "    <tr>\n",
       "      <th>2</th>\n",
       "      <td>11</td>\n",
       "      <td>531</td>\n",
       "      <td>1230782539</td>\n",
       "    </tr>\n",
       "    <tr>\n",
       "      <th>3</th>\n",
       "      <td>11</td>\n",
       "      <td>616</td>\n",
       "      <td>1230782542</td>\n",
       "    </tr>\n",
       "    <tr>\n",
       "      <th>4</th>\n",
       "      <td>11</td>\n",
       "      <td>2140</td>\n",
       "      <td>1230782563</td>\n",
       "    </tr>\n",
       "  </tbody>\n",
       "</table>\n",
       "</div>"
      ],
      "text/plain": [
       "   user  item        time\n",
       "0    11  4643  1230782529\n",
       "1    11   170  1230782534\n",
       "2    11   531  1230782539\n",
       "3    11   616  1230782542\n",
       "4    11  2140  1230782563"
      ]
     },
     "execution_count": 8,
     "metadata": {},
     "output_type": "execute_result"
    }
   ],
   "source": [
    "train_df.info()\n",
    "train_df.head(5)"
   ]
  },
  {
   "cell_type": "code",
   "execution_count": 9,
   "id": "ade4818e",
   "metadata": {
    "ExecuteTime": {
     "end_time": "2022-12-20T01:50:38.877268Z",
     "start_time": "2022-12-20T01:50:38.788532Z"
    },
    "id": "ade4818e"
   },
   "outputs": [
    {
     "name": "stdout",
     "output_type": "stream",
     "text": [
      "Number of unique train users:  31360\n",
      "Number of unique train items:  6807\n"
     ]
    }
   ],
   "source": [
    "num_train_users = train_df['user'].nunique()\n",
    "num_train_items = train_df['item'].nunique()\n",
    "\n",
    "print (\"Number of unique train users: \", num_train_users)\n",
    "print (\"Number of unique train items: \", num_train_items)"
   ]
  },
  {
   "cell_type": "code",
   "execution_count": 10,
   "id": "e70feca4",
   "metadata": {
    "ExecuteTime": {
     "end_time": "2022-12-20T01:50:50.340504Z",
     "start_time": "2022-12-20T01:50:50.336822Z"
    },
    "id": "e70feca4"
   },
   "outputs": [
    {
     "name": "stdout",
     "output_type": "stream",
     "text": [
      "Data sparsity ratio:  0.9758536052697853\n"
     ]
    }
   ],
   "source": [
    "print(\"Data sparsity ratio: \", 1 - len(train_df) / (num_train_users * num_train_items))"
   ]
  },
  {
   "cell_type": "markdown",
   "id": "0c59f9d8",
   "metadata": {
    "id": "0c59f9d8"
   },
   "source": [
    "데이터의 sparsity ratio는 약 97.6%로 일반적인 추천 시스템 데이터셋에 비해 굉장히 dense한 (행렬 상 이력의 많은 부분이 채워져 있는) 데이터임을 알 수 있습니다."
   ]
  },
  {
   "cell_type": "markdown",
   "id": "88d60816",
   "metadata": {
    "id": "88d60816"
   },
   "source": [
    "## Side Information(year, writer, title, genre, director) 알아보기"
   ]
  },
  {
   "cell_type": "markdown",
   "id": "55547258",
   "metadata": {
    "id": "55547258"
   },
   "source": [
    "다음은 side information 데이터를 알아봅니다. 일반적으로 추천시스템에서는 side information을 더욱 잘 활용할수록 더 좋은 추천 결과를 얻을 수 있게 됩니다.\n",
    "\n",
    "주어진 year, writer, title, genre, director 데이터를 불러옵니다. 마찬가지로 각 데이터의 간략한 정보를 확인하고 샘플을 미리 저장해보겠습니다. 샘플된 데이터는 뒤에서도 계속 사용할 예정인 점을 참고해주세요! 그럼 다음 코드를 실행해보겠습니다."
   ]
  },
  {
   "cell_type": "code",
   "execution_count": 11,
   "id": "b20edc66",
   "metadata": {
    "ExecuteTime": {
     "end_time": "2022-12-20T01:50:59.885405Z",
     "start_time": "2022-12-20T01:50:59.855246Z"
    },
    "id": "b20edc66"
   },
   "outputs": [],
   "source": [
    "year_data = pd.read_csv(os.path.join(data_path, 'years.tsv'), sep='\\t')\n",
    "writer_data = pd.read_csv(os.path.join(data_path, 'writers.tsv'), sep='\\t')\n",
    "title_data = pd.read_csv(os.path.join(data_path, 'titles.tsv'), sep='\\t')\n",
    "genre_data = pd.read_csv(os.path.join(data_path, 'genres.tsv'), sep='\\t')\n",
    "director_data = pd.read_csv(os.path.join(data_path, 'directors.tsv'), sep='\\t')"
   ]
  },
  {
   "cell_type": "markdown",
   "id": "ca522257",
   "metadata": {
    "id": "ca522257"
   },
   "source": [
    "그러면 먼저 *years.tsv* 데이터를 알아보겠습니다. \n",
    "각 column은 다음과 같은 정보를 담고 있습니다:\n",
    "- *item* : 영화 id.\n",
    "- *year* : 해당 영화가 개봉한 연도.\n",
    "\n",
    "다음 코드를 실행하여 각 column의 data type과 같은 정보를 파악하고, 샘플 데이터를 출력해봅니다.\n",
    "\n",
    "그리고 바로 이어지는 cell을 실행하여 추가적인 통계도 확인합니다. 데이터셋에 한 번 이상 출현하는 영화 작품은 총 6799편이며 평균 개봉 연도는 1992년인 등의 정보를 파악할 수 있습니다."
   ]
  },
  {
   "cell_type": "code",
   "execution_count": 12,
   "id": "49f7373b",
   "metadata": {
    "ExecuteTime": {
     "end_time": "2022-12-20T01:51:03.083754Z",
     "start_time": "2022-12-20T01:51:03.070276Z"
    },
    "id": "49f7373b"
   },
   "outputs": [
    {
     "name": "stdout",
     "output_type": "stream",
     "text": [
      "<class 'pandas.core.frame.DataFrame'>\n",
      "RangeIndex: 6799 entries, 0 to 6798\n",
      "Data columns (total 2 columns):\n",
      " #   Column  Non-Null Count  Dtype\n",
      "---  ------  --------------  -----\n",
      " 0   item    6799 non-null   int64\n",
      " 1   year    6799 non-null   int64\n",
      "dtypes: int64(2)\n",
      "memory usage: 106.4 KB\n"
     ]
    },
    {
     "data": {
      "text/html": [
       "<div>\n",
       "<style scoped>\n",
       "    .dataframe tbody tr th:only-of-type {\n",
       "        vertical-align: middle;\n",
       "    }\n",
       "\n",
       "    .dataframe tbody tr th {\n",
       "        vertical-align: top;\n",
       "    }\n",
       "\n",
       "    .dataframe thead th {\n",
       "        text-align: right;\n",
       "    }\n",
       "</style>\n",
       "<table border=\"1\" class=\"dataframe\">\n",
       "  <thead>\n",
       "    <tr style=\"text-align: right;\">\n",
       "      <th></th>\n",
       "      <th>item</th>\n",
       "      <th>year</th>\n",
       "    </tr>\n",
       "  </thead>\n",
       "  <tbody>\n",
       "    <tr>\n",
       "      <th>0</th>\n",
       "      <td>1348</td>\n",
       "      <td>1922</td>\n",
       "    </tr>\n",
       "    <tr>\n",
       "      <th>1</th>\n",
       "      <td>44587</td>\n",
       "      <td>1922</td>\n",
       "    </tr>\n",
       "    <tr>\n",
       "      <th>2</th>\n",
       "      <td>4768</td>\n",
       "      <td>1922</td>\n",
       "    </tr>\n",
       "    <tr>\n",
       "      <th>3</th>\n",
       "      <td>8235</td>\n",
       "      <td>1923</td>\n",
       "    </tr>\n",
       "    <tr>\n",
       "      <th>4</th>\n",
       "      <td>8609</td>\n",
       "      <td>1923</td>\n",
       "    </tr>\n",
       "  </tbody>\n",
       "</table>\n",
       "</div>"
      ],
      "text/plain": [
       "    item  year\n",
       "0   1348  1922\n",
       "1  44587  1922\n",
       "2   4768  1922\n",
       "3   8235  1923\n",
       "4   8609  1923"
      ]
     },
     "execution_count": 12,
     "metadata": {},
     "output_type": "execute_result"
    }
   ],
   "source": [
    "year_data.info()\n",
    "year_data.head(5)"
   ]
  },
  {
   "cell_type": "code",
   "execution_count": 13,
   "id": "b3a7219e",
   "metadata": {
    "ExecuteTime": {
     "end_time": "2022-12-20T01:51:54.782054Z",
     "start_time": "2022-12-20T01:51:54.770078Z"
    },
    "id": "b3a7219e"
   },
   "outputs": [
    {
     "name": "stdout",
     "output_type": "stream",
     "text": [
      "Year data shape:  (6799, 2)\n",
      "Number of unique items in year_df:  6799\n",
      "Number of unique years:  93\n",
      "\n",
      "Statistics of year data: \n"
     ]
    },
    {
     "data": {
      "text/plain": [
       "count    6799.000000\n",
       "mean     1992.174732\n",
       "std        19.052568\n",
       "min      1922.000000\n",
       "25%      1985.000000\n",
       "50%      1999.000000\n",
       "75%      2006.000000\n",
       "max      2014.000000\n",
       "Name: year, dtype: float64"
      ]
     },
     "execution_count": 13,
     "metadata": {},
     "output_type": "execute_result"
    }
   ],
   "source": [
    "print (\"Year data shape: \", year_data.shape)\n",
    "print(\"Number of unique items in year_df: \", year_data['item'].nunique())\n",
    "print(\"Number of unique years: \", year_data['year'].nunique())\n",
    "print (\"\\nStatistics of year data: \")\n",
    "year_data['year'].describe()"
   ]
  },
  {
   "cell_type": "markdown",
   "id": "b3c7ccda",
   "metadata": {
    "id": "b3c7ccda"
   },
   "source": [
    "다음은 *writers.tsv* 데이터입니다. \n",
    "각 column은 다음과 같은 정보를 담고 있습니다:\n",
    "- *item* : 영화 id.\n",
    "- *writer* : 영화의 각본가. (익명화)\n",
    "\n",
    "다음 코드를 실행하여 각 column의 data type과 같은 정보를 파악하고, 샘플 데이터를 출력해봅니다."
   ]
  },
  {
   "cell_type": "code",
   "execution_count": 14,
   "id": "25f596a7",
   "metadata": {
    "ExecuteTime": {
     "end_time": "2022-12-20T01:52:07.493311Z",
     "start_time": "2022-12-20T01:52:07.477593Z"
    },
    "id": "25f596a7"
   },
   "outputs": [
    {
     "name": "stdout",
     "output_type": "stream",
     "text": [
      "<class 'pandas.core.frame.DataFrame'>\n",
      "RangeIndex: 11306 entries, 0 to 11305\n",
      "Data columns (total 2 columns):\n",
      " #   Column  Non-Null Count  Dtype \n",
      "---  ------  --------------  ----- \n",
      " 0   item    11306 non-null  int64 \n",
      " 1   writer  11306 non-null  object\n",
      "dtypes: int64(1), object(1)\n",
      "memory usage: 176.8+ KB\n"
     ]
    },
    {
     "data": {
      "text/html": [
       "<div>\n",
       "<style scoped>\n",
       "    .dataframe tbody tr th:only-of-type {\n",
       "        vertical-align: middle;\n",
       "    }\n",
       "\n",
       "    .dataframe tbody tr th {\n",
       "        vertical-align: top;\n",
       "    }\n",
       "\n",
       "    .dataframe thead th {\n",
       "        text-align: right;\n",
       "    }\n",
       "</style>\n",
       "<table border=\"1\" class=\"dataframe\">\n",
       "  <thead>\n",
       "    <tr style=\"text-align: right;\">\n",
       "      <th></th>\n",
       "      <th>item</th>\n",
       "      <th>writer</th>\n",
       "    </tr>\n",
       "  </thead>\n",
       "  <tbody>\n",
       "    <tr>\n",
       "      <th>0</th>\n",
       "      <td>1237</td>\n",
       "      <td>nm0000005</td>\n",
       "    </tr>\n",
       "    <tr>\n",
       "      <th>1</th>\n",
       "      <td>5147</td>\n",
       "      <td>nm0000005</td>\n",
       "    </tr>\n",
       "  </tbody>\n",
       "</table>\n",
       "</div>"
      ],
      "text/plain": [
       "   item     writer\n",
       "0  1237  nm0000005\n",
       "1  5147  nm0000005"
      ]
     },
     "execution_count": 14,
     "metadata": {},
     "output_type": "execute_result"
    }
   ],
   "source": [
    "writer_data.info()\n",
    "writer_data.head(2)"
   ]
  },
  {
   "cell_type": "markdown",
   "id": "8395305b",
   "metadata": {
    "id": "8395305b"
   },
   "source": [
    "다음은 *titles.tsv* 데이터입니다. \n",
    "각 column은 다음과 같은 정보를 담고 있습니다:\n",
    "- *item* : 영화 id.\n",
    "- *titles* : 영화 제목.\n",
    "\n",
    "다음 코드를 실행하여 각 column의 data type과 같은 정보를 파악하고, 샘플 데이터를 출력해봅니다."
   ]
  },
  {
   "cell_type": "code",
   "execution_count": 15,
   "id": "46ff3ecf",
   "metadata": {
    "ExecuteTime": {
     "end_time": "2022-12-20T02:57:41.620026Z",
     "start_time": "2022-12-20T02:57:41.605482Z"
    },
    "id": "46ff3ecf"
   },
   "outputs": [
    {
     "name": "stdout",
     "output_type": "stream",
     "text": [
      "<class 'pandas.core.frame.DataFrame'>\n",
      "RangeIndex: 6807 entries, 0 to 6806\n",
      "Data columns (total 2 columns):\n",
      " #   Column  Non-Null Count  Dtype \n",
      "---  ------  --------------  ----- \n",
      " 0   item    6807 non-null   int64 \n",
      " 1   title   6807 non-null   object\n",
      "dtypes: int64(1), object(1)\n",
      "memory usage: 106.5+ KB\n"
     ]
    },
    {
     "data": {
      "text/html": [
       "<div>\n",
       "<style scoped>\n",
       "    .dataframe tbody tr th:only-of-type {\n",
       "        vertical-align: middle;\n",
       "    }\n",
       "\n",
       "    .dataframe tbody tr th {\n",
       "        vertical-align: top;\n",
       "    }\n",
       "\n",
       "    .dataframe thead th {\n",
       "        text-align: right;\n",
       "    }\n",
       "</style>\n",
       "<table border=\"1\" class=\"dataframe\">\n",
       "  <thead>\n",
       "    <tr style=\"text-align: right;\">\n",
       "      <th></th>\n",
       "      <th>item</th>\n",
       "      <th>title</th>\n",
       "    </tr>\n",
       "  </thead>\n",
       "  <tbody>\n",
       "    <tr>\n",
       "      <th>0</th>\n",
       "      <td>318</td>\n",
       "      <td>Shawshank Redemption, The (1994)</td>\n",
       "    </tr>\n",
       "    <tr>\n",
       "      <th>1</th>\n",
       "      <td>2571</td>\n",
       "      <td>Matrix, The (1999)</td>\n",
       "    </tr>\n",
       "    <tr>\n",
       "      <th>2</th>\n",
       "      <td>2959</td>\n",
       "      <td>Fight Club (1999)</td>\n",
       "    </tr>\n",
       "    <tr>\n",
       "      <th>3</th>\n",
       "      <td>296</td>\n",
       "      <td>Pulp Fiction (1994)</td>\n",
       "    </tr>\n",
       "    <tr>\n",
       "      <th>4</th>\n",
       "      <td>356</td>\n",
       "      <td>Forrest Gump (1994)</td>\n",
       "    </tr>\n",
       "  </tbody>\n",
       "</table>\n",
       "</div>"
      ],
      "text/plain": [
       "   item                             title\n",
       "0   318  Shawshank Redemption, The (1994)\n",
       "1  2571                Matrix, The (1999)\n",
       "2  2959                 Fight Club (1999)\n",
       "3   296               Pulp Fiction (1994)\n",
       "4   356               Forrest Gump (1994)"
      ]
     },
     "execution_count": 15,
     "metadata": {},
     "output_type": "execute_result"
    }
   ],
   "source": [
    "title_data.info()\n",
    "title_data.head(5)"
   ]
  },
  {
   "cell_type": "markdown",
   "id": "ca0f3a93",
   "metadata": {
    "id": "ca0f3a93"
   },
   "source": [
    "다음은 *genres.tsv* 데이터입니다. \n",
    "각 column은 다음과 같은 정보를 담고 있습니다:\n",
    "- *item* : 영화 id.\n",
    "- *genre* : 영화의 장르.\n",
    "\n",
    "하나의 영화는 여러 개의 장르를 가질 수 있습니다.\n",
    "다음 코드를 실행하여 각 column의 data type과 같은 정보를 파악하고, 샘플 데이터를 출력해봅니다."
   ]
  },
  {
   "cell_type": "code",
   "execution_count": 16,
   "id": "6280af9c",
   "metadata": {
    "ExecuteTime": {
     "end_time": "2022-12-20T02:57:43.780324Z",
     "start_time": "2022-12-20T02:57:43.765043Z"
    },
    "id": "6280af9c"
   },
   "outputs": [
    {
     "name": "stdout",
     "output_type": "stream",
     "text": [
      "<class 'pandas.core.frame.DataFrame'>\n",
      "RangeIndex: 15933 entries, 0 to 15932\n",
      "Data columns (total 2 columns):\n",
      " #   Column  Non-Null Count  Dtype \n",
      "---  ------  --------------  ----- \n",
      " 0   item    15933 non-null  int64 \n",
      " 1   genre   15933 non-null  object\n",
      "dtypes: int64(1), object(1)\n",
      "memory usage: 249.1+ KB\n"
     ]
    },
    {
     "data": {
      "text/html": [
       "<div>\n",
       "<style scoped>\n",
       "    .dataframe tbody tr th:only-of-type {\n",
       "        vertical-align: middle;\n",
       "    }\n",
       "\n",
       "    .dataframe tbody tr th {\n",
       "        vertical-align: top;\n",
       "    }\n",
       "\n",
       "    .dataframe thead th {\n",
       "        text-align: right;\n",
       "    }\n",
       "</style>\n",
       "<table border=\"1\" class=\"dataframe\">\n",
       "  <thead>\n",
       "    <tr style=\"text-align: right;\">\n",
       "      <th></th>\n",
       "      <th>item</th>\n",
       "      <th>genre</th>\n",
       "    </tr>\n",
       "  </thead>\n",
       "  <tbody>\n",
       "    <tr>\n",
       "      <th>0</th>\n",
       "      <td>318</td>\n",
       "      <td>Crime</td>\n",
       "    </tr>\n",
       "    <tr>\n",
       "      <th>1</th>\n",
       "      <td>318</td>\n",
       "      <td>Drama</td>\n",
       "    </tr>\n",
       "    <tr>\n",
       "      <th>2</th>\n",
       "      <td>2571</td>\n",
       "      <td>Action</td>\n",
       "    </tr>\n",
       "    <tr>\n",
       "      <th>3</th>\n",
       "      <td>2571</td>\n",
       "      <td>Sci-Fi</td>\n",
       "    </tr>\n",
       "    <tr>\n",
       "      <th>4</th>\n",
       "      <td>2571</td>\n",
       "      <td>Thriller</td>\n",
       "    </tr>\n",
       "  </tbody>\n",
       "</table>\n",
       "</div>"
      ],
      "text/plain": [
       "   item     genre\n",
       "0   318     Crime\n",
       "1   318     Drama\n",
       "2  2571    Action\n",
       "3  2571    Sci-Fi\n",
       "4  2571  Thriller"
      ]
     },
     "execution_count": 16,
     "metadata": {},
     "output_type": "execute_result"
    }
   ],
   "source": [
    "genre_data.info()\n",
    "genre_data.head(5)"
   ]
  },
  {
   "cell_type": "markdown",
   "id": "97ba8644",
   "metadata": {
    "id": "97ba8644"
   },
   "source": [
    "마지막으로 *directors.tsv* 데이터입니다. \n",
    "각 column은 다음과 같은 정보를 담고 있습니다:\n",
    "- *item* : 영화 id.\n",
    "- *director* : 영화 감독. (익명화)\n",
    "\n",
    "하나의 영화는 여러 명의 감독을 가질 수 있습니다. 다음 코드를 실행하여 각 column의 data type과 같은 정보를 파악하고, 샘플 데이터를 출력해봅니다."
   ]
  },
  {
   "cell_type": "code",
   "execution_count": 17,
   "id": "4b93f747",
   "metadata": {
    "ExecuteTime": {
     "end_time": "2022-12-20T02:57:44.612847Z",
     "start_time": "2022-12-20T02:57:44.599152Z"
    },
    "id": "4b93f747"
   },
   "outputs": [
    {
     "name": "stdout",
     "output_type": "stream",
     "text": [
      "<class 'pandas.core.frame.DataFrame'>\n",
      "RangeIndex: 5905 entries, 0 to 5904\n",
      "Data columns (total 2 columns):\n",
      " #   Column    Non-Null Count  Dtype \n",
      "---  ------    --------------  ----- \n",
      " 0   item      5905 non-null   int64 \n",
      " 1   director  5905 non-null   object\n",
      "dtypes: int64(1), object(1)\n",
      "memory usage: 92.4+ KB\n"
     ]
    },
    {
     "data": {
      "text/html": [
       "<div>\n",
       "<style scoped>\n",
       "    .dataframe tbody tr th:only-of-type {\n",
       "        vertical-align: middle;\n",
       "    }\n",
       "\n",
       "    .dataframe tbody tr th {\n",
       "        vertical-align: top;\n",
       "    }\n",
       "\n",
       "    .dataframe thead th {\n",
       "        text-align: right;\n",
       "    }\n",
       "</style>\n",
       "<table border=\"1\" class=\"dataframe\">\n",
       "  <thead>\n",
       "    <tr style=\"text-align: right;\">\n",
       "      <th></th>\n",
       "      <th>item</th>\n",
       "      <th>director</th>\n",
       "    </tr>\n",
       "  </thead>\n",
       "  <tbody>\n",
       "    <tr>\n",
       "      <th>0</th>\n",
       "      <td>1237</td>\n",
       "      <td>nm0000005</td>\n",
       "    </tr>\n",
       "    <tr>\n",
       "      <th>1</th>\n",
       "      <td>5147</td>\n",
       "      <td>nm0000005</td>\n",
       "    </tr>\n",
       "    <tr>\n",
       "      <th>2</th>\n",
       "      <td>7327</td>\n",
       "      <td>nm0000005</td>\n",
       "    </tr>\n",
       "    <tr>\n",
       "      <th>3</th>\n",
       "      <td>2068</td>\n",
       "      <td>nm0000005</td>\n",
       "    </tr>\n",
       "    <tr>\n",
       "      <th>4</th>\n",
       "      <td>7396</td>\n",
       "      <td>nm0000005</td>\n",
       "    </tr>\n",
       "  </tbody>\n",
       "</table>\n",
       "</div>"
      ],
      "text/plain": [
       "   item   director\n",
       "0  1237  nm0000005\n",
       "1  5147  nm0000005\n",
       "2  7327  nm0000005\n",
       "3  2068  nm0000005\n",
       "4  7396  nm0000005"
      ]
     },
     "execution_count": 17,
     "metadata": {},
     "output_type": "execute_result"
    }
   ],
   "source": [
    "director_data.info()\n",
    "director_data.head(5)"
   ]
  },
  {
   "cell_type": "markdown",
   "id": "0886c0de",
   "metadata": {
    "id": "0886c0de"
   },
   "source": [
    "## 데이터 살펴보기\n",
    "앞에서 주어진 데이터셋을 먼저 간단히 살펴보았습니다. 이제부터는 다수의 파일을 merge하여 시각화하고, 데이터에 대해 좀 더 깊은 이해를 해보겠습니다."
   ]
  },
  {
   "cell_type": "markdown",
   "id": "76a40230",
   "metadata": {
    "id": "76a40230"
   },
   "source": [
    "먼저 효율적인 데이터 시각화를 위해, 데이터셋에서 빈도수가 높은 movie, user 데이터의 id를 미리 저장하겠습니다.\n",
    "train 데이터에서 데이터의 출현 빈도 순으로 *active_user_ids*와 *popular_movie_ids*에 top 10을 각각 저장합니다.\n",
    "\n",
    "대회 데이터셋에서 빈도수가 높을수록 유명한 영화를 나타내는 것은 아니지만, 편의상 *popular_movie_id* 변수명을 사용하는 점을 당부드립니다.\n",
    "\n",
    "다음 코드를 실행해주세요."
   ]
  },
  {
   "cell_type": "code",
   "execution_count": 18,
   "id": "d4ea74ed",
   "metadata": {
    "ExecuteTime": {
     "end_time": "2022-12-20T02:57:45.800432Z",
     "start_time": "2022-12-20T02:57:45.793983Z"
    }
   },
   "outputs": [
    {
     "data": {
      "text/html": [
       "<div>\n",
       "<style scoped>\n",
       "    .dataframe tbody tr th:only-of-type {\n",
       "        vertical-align: middle;\n",
       "    }\n",
       "\n",
       "    .dataframe tbody tr th {\n",
       "        vertical-align: top;\n",
       "    }\n",
       "\n",
       "    .dataframe thead th {\n",
       "        text-align: right;\n",
       "    }\n",
       "</style>\n",
       "<table border=\"1\" class=\"dataframe\">\n",
       "  <thead>\n",
       "    <tr style=\"text-align: right;\">\n",
       "      <th></th>\n",
       "      <th>user</th>\n",
       "      <th>item</th>\n",
       "      <th>time</th>\n",
       "    </tr>\n",
       "  </thead>\n",
       "  <tbody>\n",
       "    <tr>\n",
       "      <th>0</th>\n",
       "      <td>11</td>\n",
       "      <td>4643</td>\n",
       "      <td>1230782529</td>\n",
       "    </tr>\n",
       "    <tr>\n",
       "      <th>1</th>\n",
       "      <td>11</td>\n",
       "      <td>170</td>\n",
       "      <td>1230782534</td>\n",
       "    </tr>\n",
       "  </tbody>\n",
       "</table>\n",
       "</div>"
      ],
      "text/plain": [
       "   user  item        time\n",
       "0    11  4643  1230782529\n",
       "1    11   170  1230782534"
      ]
     },
     "execution_count": 18,
     "metadata": {},
     "output_type": "execute_result"
    }
   ],
   "source": [
    "train_df[:2]"
   ]
  },
  {
   "cell_type": "code",
   "execution_count": 19,
   "id": "3318b7e8",
   "metadata": {
    "ExecuteTime": {
     "end_time": "2022-12-20T02:57:46.600860Z",
     "start_time": "2022-12-20T02:57:46.175661Z"
    },
    "id": "3318b7e8"
   },
   "outputs": [
    {
     "name": "stdout",
     "output_type": "stream",
     "text": [
      "active user ids:  Int64Index([8405, 54465, 24219, 32514, 91349, 131904, 34576, 99754, 31122,\n",
      "            118754],\n",
      "           dtype='int64', name='user')\n",
      "\n",
      "popular movie ids:  Int64Index([2571, 2959, 296, 318, 356, 4993, 7153, 5952, 593, 2858], dtype='int64', name='item')\n"
     ]
    }
   ],
   "source": [
    "active_user_ids = train_df.value_counts('user').index[:10]\n",
    "popular_movie_ids = train_df.value_counts('item').index[:10]\n",
    "\n",
    "print (\"active user ids: \", active_user_ids)\n",
    "print (\"\\npopular movie ids: \", popular_movie_ids)"
   ]
  },
  {
   "cell_type": "markdown",
   "id": "f6536b69",
   "metadata": {
    "id": "f6536b69"
   },
   "source": [
    "*active_user_ids*와 *popular_movie_ids*에 각각 빈도가 높은 영화와 사용자 id들을 저장했습니다. 뒤에서도 계속 사용할 예정이니 참고해 주세요.\n",
    "\n",
    "이제부터는 train 데이터와 side information 데이터를 merge하고, side information 별 user-item 빈도수가 높은 데이터 샘플을 미리 저장합니다. 위에서 저장한 active user id와 popular movie id와 다르게 여기서는 바로 Pandas Dataframe의 형태로 샘플을 저장합니다. 빈도가 가장 높은 10개 side information data가 해당하는 모든 user-item interaction를 저장할 것이므로, 각 side information 데이터 샘플의 크기는 상이합니다.\n",
    "\n",
    "이어지는 코드 cell들을 실행해보고, 출력된 결과를 충분히 관찰해보시기 바랍니다."
   ]
  },
  {
   "cell_type": "markdown",
   "id": "3fac59b8",
   "metadata": {},
   "source": [
    "### 감독 총 1340명, 상위 10명의 영화 데이터"
   ]
  },
  {
   "cell_type": "code",
   "execution_count": 26,
   "id": "9c6d680e",
   "metadata": {
    "ExecuteTime": {
     "end_time": "2022-12-20T04:32:54.923322Z",
     "start_time": "2022-12-20T04:32:49.305521Z"
    },
    "id": "9c6d680e"
   },
   "outputs": [
    {
     "name": "stdout",
     "output_type": "stream",
     "text": [
      "Number of all unique director ids:  1340\n",
      "\n",
      "top 10 director ids: \n",
      " Index(['nm0000229', 'nm0000233', 'nm0634240', 'nm0000709', 'nm0001392',\n",
      "       'nm0000217', 'nm0001054', 'nm0000116', 'nm0000399', 'nm0000631'],\n",
      "      dtype='object', name='director')\n",
      "\n",
      "sample of top 10 user-director data: \n",
      "            user   item        time   director\n",
      "4179130  107986  64957  1315070582  nm0000399\n",
      "218940    84173    541  1295183787  nm0000631\n",
      "1015495   11585    608  1417189349  nm0001054\n",
      "1021977   54703    608  1161133626  nm0001054\n",
      "4899993  113641   4624  1241472413  nm0001392\n",
      "\n",
      "shape of the data:  (672019, 4)\n"
     ]
    }
   ],
   "source": [
    "director_df = pd.merge(train_df, director_data, on=['item'])\n",
    "director_id = director_df.value_counts('director').index[:10]\n",
    "\n",
    "side_df = []\n",
    "for director in director_id:\n",
    "    side_df.append(director_df.loc[director_df['director'] == director])\n",
    "\n",
    "director_top = pd.concat(side_df) # 상위 감독 10명의 영화(item)에 대한 데이터 - 67만개\n",
    "\n",
    "print (\"Number of all unique director ids: \", director_df['director'].nunique())\n",
    "print (\"\\ntop 10 director ids: \\n\", director_id)\n",
    "print (\"\\nsample of top 10 user-director data: \\n\", director_top.sample(5))\n",
    "print (\"\\nshape of the data: \", director_top.shape)"
   ]
  },
  {
   "cell_type": "markdown",
   "id": "bf175172",
   "metadata": {},
   "source": [
    "### wirter 2989명, 상위 10명의 영화 데이터"
   ]
  },
  {
   "cell_type": "code",
   "execution_count": 27,
   "id": "8eb01464",
   "metadata": {
    "ExecuteTime": {
     "end_time": "2022-12-20T04:33:05.850188Z",
     "start_time": "2022-12-20T04:32:54.925471Z"
    },
    "id": "8eb01464"
   },
   "outputs": [
    {
     "name": "stdout",
     "output_type": "stream",
     "text": [
      "Number of all unique writer ids:  2989\n",
      "\n",
      "top 10 writer ids: \n",
      " Index(['nm0000184', 'nm0000233', 'nm0634240', 'nm0001392', 'nm0909638',\n",
      "       'nm0004056', 'nm0744429', 'nm0101991', 'nm0254645', 'nm0000175'],\n",
      "      dtype='object', name='writer')\n",
      "\n",
      "sample of top 10 user-writer data: \n",
      "            user   item        time     writer\n",
      "3685258   46338   7153  1300058985  nm0001392\n",
      "2708113   88021   1291  1125630924  nm0000184\n",
      "7698946  135425  48780  1172006078  nm0634240\n",
      "3440128   19344    588  1222041535  nm0744429\n",
      "1941679    9389  45722  1283882957  nm0254645\n",
      "\n",
      "shape of the data:  (651286, 4)\n"
     ]
    }
   ],
   "source": [
    "writer_df = pd.merge(train_df, writer_data, on=['item'])\n",
    "writer_id = writer_df.value_counts('writer').index[:10]\n",
    "\n",
    "side_df = []\n",
    "for writer in writer_id:\n",
    "    side_df.append(writer_df.loc[writer_df['writer'] == writer])\n",
    "\n",
    "writer_top = pd.concat(side_df) # 상위 writer 10명의 영화(item)에 대한 평점 데이터 - 65만개\n",
    "\n",
    "print (\"Number of all unique writer ids: \", writer_df['writer'].nunique())\n",
    "print (\"\\ntop 10 writer ids: \\n\", writer_id)\n",
    "print (\"\\nsample of top 10 user-writer data: \\n\", writer_top.sample(5))\n",
    "print (\"\\nshape of the data: \", writer_top.shape)"
   ]
  },
  {
   "cell_type": "markdown",
   "id": "e3134beb",
   "metadata": {},
   "source": [
    "### 상위 영화 10개에 대한 데이터"
   ]
  },
  {
   "cell_type": "code",
   "execution_count": 28,
   "id": "2491c124",
   "metadata": {
    "ExecuteTime": {
     "end_time": "2022-12-20T04:33:11.433103Z",
     "start_time": "2022-12-20T04:33:05.852100Z"
    },
    "id": "2491c124"
   },
   "outputs": [
    {
     "name": "stdout",
     "output_type": "stream",
     "text": [
      "Number of all unique movie titles:  6806\n",
      "\n",
      "top 10 movie titles: \n",
      " Index(['Matrix, The (1999)', 'Fight Club (1999)', 'Pulp Fiction (1994)',\n",
      "       'Shawshank Redemption, The (1994)', 'Forrest Gump (1994)',\n",
      "       'Lord of the Rings: The Fellowship of the Ring, The (2001)',\n",
      "       'Lord of the Rings: The Return of the King, The (2003)',\n",
      "       'Lord of the Rings: The Two Towers, The (2002)',\n",
      "       'Silence of the Lambs, The (1991)', 'American Beauty (1999)'],\n",
      "      dtype='object', name='title')\n",
      "\n",
      "sample of top 10 user-title data: \n",
      "            user  item        time  \\\n",
      "574807    70765   318  1178738906   \n",
      "231701    64593  2571  1175535257   \n",
      "1369922   23425  7153  1155785993   \n",
      "568797    25075   318  1129055987   \n",
      "848805   127906   296  1285649728   \n",
      "\n",
      "                                                     title  \n",
      "574807                    Shawshank Redemption, The (1994)  \n",
      "231701                                  Matrix, The (1999)  \n",
      "1369922  Lord of the Rings: The Return of the King, The...  \n",
      "568797                    Shawshank Redemption, The (1994)  \n",
      "848805                                 Pulp Fiction (1994)  \n",
      "\n",
      "shape of the data:  (173185, 4)\n"
     ]
    }
   ],
   "source": [
    "title_df = pd.merge(train_df, title_data, on=['item'])\n",
    "title_id = title_df.value_counts('title').index[:10]\n",
    "\n",
    "\n",
    "side_df = []\n",
    "for title in title_id:\n",
    "    side_df.append(title_df.loc[title_df['title'] == title])\n",
    "\n",
    "title_top = pd.concat(side_df) # 상위 영화(item) 10개에 대한 영화 데이터 - 17만개\n",
    "\n",
    "print (\"Number of all unique movie titles: \", title_df['title'].nunique())\n",
    "print (\"\\ntop 10 movie titles: \\n\", title_id)\n",
    "print (\"\\nsample of top 10 user-title data: \\n\", title_top.sample(5))\n",
    "print (\"\\nshape of the data: \", title_top.shape)"
   ]
  },
  {
   "cell_type": "markdown",
   "id": "051e5f01",
   "metadata": {},
   "source": [
    "### year 총 93개, 상위 10개 year 데이터"
   ]
  },
  {
   "cell_type": "code",
   "execution_count": 29,
   "id": "4b19e5d4",
   "metadata": {
    "ExecuteTime": {
     "end_time": "2022-12-20T04:33:13.144583Z",
     "start_time": "2022-12-20T04:33:11.435319Z"
    },
    "id": "4b19e5d4"
   },
   "outputs": [
    {
     "name": "stdout",
     "output_type": "stream",
     "text": [
      "All unique years: \n",
      " [1922 1923 1924 1925 1926 1927 1928 1929 1930 1931 1932 1933 1934 1935\n",
      " 1936 1937 1938 1939 1940 1941 1942 1943 1944 1945 1946 1947 1948 1949\n",
      " 1950 1951 1952 1953 1954 1955 1956 1957 1958 1959 1960 1961 1962 1963\n",
      " 1964 1965 1966 1967 1968 1969 1970 1971 1972 1973 1974 1975 1976 1977\n",
      " 1978 1979 1980 1981 1982 1983 1984 1985 1986 1987 1988 1989 1990 1991\n",
      " 1992 1993 1994 1995 1996 1997 1998 1999 2000 2001 2002 2003 2004 2005\n",
      " 2006 2007 2008 2009 2010 2011 2012 2013 2014]\n",
      "\n",
      "Number of all unique years:  93\n",
      "\n",
      "top 10 years: \n",
      " Int64Index([2004, 1999, 2001, 2002, 2006, 2003, 2000, 2005, 1995, 2007], dtype='int64', name='year')\n",
      "\n",
      "sample of top 10 user-year data: \n",
      "           user   item        time  year\n",
      "474428   81493   8636  1215484724  2004\n",
      "3272496  95752   3948  1185650464  2000\n",
      "3293689  22818   2599  1402925957  1999\n",
      "2853019  83964   4734  1173083997  2001\n",
      "3931306   3905  49932  1328650225  2006\n",
      "\n",
      "shape of the data:  (2173226, 4)\n"
     ]
    }
   ],
   "source": [
    "year_df = pd.merge(train_df, year_data, on=['item'])\n",
    "year_id = year_df.value_counts('year').index[:10]\n",
    "\n",
    "side_df = []\n",
    "for year in year_id:\n",
    "    side_df.append(year_df.loc[year_df['year'] == year])\n",
    "\n",
    "year_top = pd.concat(side_df) # 상위 년도 10개의 영화(item)에 대한 평점 데이터 - 21만개\n",
    "\n",
    "print (\"All unique years: \\n\", np.sort(year_df['year'].unique())) \n",
    "print (\"\\nNumber of all unique years: \", year_df['year'].nunique())\n",
    "print (\"\\ntop 10 years: \\n\", year_id)\n",
    "print (\"\\nsample of top 10 user-year data: \\n\", year_top.sample(5))\n",
    "print (\"\\nshape of the data: \", year_top.shape)"
   ]
  },
  {
   "cell_type": "markdown",
   "id": "4d516fdd",
   "metadata": {
    "id": "4d516fdd"
   },
   "source": [
    "여기까지 director, writer, title, year 데이터를 확인해 보았는데요. 이어서 genre 데이터도 관찰해보겠습니다. 데이터셋에서 genre의 수가 총 18개밖에 없으므로 빈도수가 높은 genre를 따로 저장할 필요 없이, train 데이터와의 merge를 바로 진행하겠습니다.\n",
    "\n",
    "다음 코드를 실행하고 genre 데이터의 형태도 관찰해보세요."
   ]
  },
  {
   "cell_type": "markdown",
   "id": "a0a6b3d9",
   "metadata": {},
   "source": [
    "### 장르 총 18개, 상위 10개 영화 데이터"
   ]
  },
  {
   "cell_type": "code",
   "execution_count": 30,
   "id": "d7260a11",
   "metadata": {
    "ExecuteTime": {
     "end_time": "2022-12-20T04:33:17.212193Z",
     "start_time": "2022-12-20T04:33:13.146492Z"
    },
    "id": "d7260a11"
   },
   "outputs": [
    {
     "name": "stdout",
     "output_type": "stream",
     "text": [
      "All unique genres: \n",
      " ['Action' 'Adventure' 'Animation' 'Children' 'Comedy' 'Crime'\n",
      " 'Documentary' 'Drama' 'Fantasy' 'Film-Noir' 'Horror' 'Musical' 'Mystery'\n",
      " 'Romance' 'Sci-Fi' 'Thriller' 'War' 'Western']\n",
      "\n",
      "Number of all unique genres:  18\n",
      "\n",
      "sample of user-genre data: \n",
      "            user   item        time    genre\n",
      "7315547   92183  53322  1208846300    Crime\n",
      "3992401   70704   4571  1223778725   Sci-Fi\n",
      "10602477  31122   8533  1277663116  Romance\n",
      "12885063  29056   1845  1155087445   Comedy\n",
      "13318763  25260   3726  1117098609   Action\n",
      "\n",
      "shape of the data:  (14126324, 4)\n"
     ]
    }
   ],
   "source": [
    "genre_df = pd.merge(train_df, genre_data, on=['item'])\n",
    "\n",
    "genre_top = genre_df # 장르 18개의 영화(item)에 대한 평점 데이터 - 65만개\n",
    "\n",
    "print (\"All unique genres: \\n\", np.sort(genre_df['genre'].unique())) \n",
    "print (\"\\nNumber of all unique genres: \", genre_df['genre'].nunique())\n",
    "print (\"\\nsample of user-genre data: \\n\", genre_top.sample(5))\n",
    "print (\"\\nshape of the data: \", genre_top.shape)"
   ]
  },
  {
   "cell_type": "markdown",
   "id": "ef9ab59e",
   "metadata": {
    "id": "ef9ab59e"
   },
   "source": [
    "여기까지 오셨으면 side information 데이터의 형태를 충분히 파악하셨을 것으로 생각됩니다! 이제\n",
    "matplotlib library를 사용하여 샘플한 데이터를 그래프로 시각화해봅니다. "
   ]
  },
  {
   "cell_type": "markdown",
   "id": "8c2e8d35",
   "metadata": {},
   "source": [
    "## 시각화"
   ]
  },
  {
   "cell_type": "code",
   "execution_count": 33,
   "id": "b32deb81",
   "metadata": {
    "ExecuteTime": {
     "end_time": "2022-12-20T04:33:42.416697Z",
     "start_time": "2022-12-20T04:33:41.663171Z"
    },
    "id": "b32deb81"
   },
   "outputs": [],
   "source": [
    "import matplotlib.pyplot as plt"
   ]
  },
  {
   "cell_type": "code",
   "execution_count": 34,
   "id": "c55623fa",
   "metadata": {
    "ExecuteTime": {
     "end_time": "2022-12-20T04:33:44.913386Z",
     "start_time": "2022-12-20T04:33:43.726503Z"
    },
    "id": "c55623fa"
   },
   "outputs": [
    {
     "data": {
      "text/plain": [
       "<function matplotlib.pyplot.show(close=None, block=None)>"
      ]
     },
     "execution_count": 34,
     "metadata": {},
     "output_type": "execute_result"
    },
    {
     "data": {
      "image/png": "[encoded data removed]",
      "text/plain": [
       "<Figure size 576x504 with 1 Axes>"
      ]
     },
     "metadata": {
      "needs_background": "light"
     },
     "output_type": "display_data"
    }
   ],
   "source": [
    "genre_top['genre'].value_counts().plot(kind = 'bar', figsize = (8,7))\n",
    "plt.xlabel('genre')\n",
    "plt.ylabel('# of users')\n",
    "plt.title('Visualization of genre distribution over all training data')\n",
    "plt.show"
   ]
  },
  {
   "cell_type": "markdown",
   "id": "381aee8a",
   "metadata": {
    "id": "381aee8a"
   },
   "source": [
    "데이터셋에서 가장 많이 출현하는 장르가 *Drama*, 가장 적게 출현하는 장르가 *Film-Noir*임을 확인할 수 있었습니다.\n",
    "\n",
    "그러면 전체 training 데이터에서의 genre 분포 뿐만 아니라, genre 데이터 단독의 분포를 출력하면 어떤지 비교해 봅니다. 코드를 실행해주세요."
   ]
  },
  {
   "cell_type": "code",
   "execution_count": 35,
   "id": "82547687",
   "metadata": {
    "ExecuteTime": {
     "end_time": "2022-12-20T04:33:50.735156Z",
     "start_time": "2022-12-20T04:33:49.658126Z"
    },
    "id": "82547687"
   },
   "outputs": [
    {
     "data": {
      "image/png": "[encoded data removed]",
      "text/plain": [
       "<Figure size 432x288 with 2 Axes>"
      ]
     },
     "metadata": {
      "needs_background": "light"
     },
     "output_type": "display_data"
    }
   ],
   "source": [
    "plt.subplot(2,1,1)\n",
    "genre_data['genre'].value_counts().plot(kind = 'bar')\n",
    "plt.xlabel('genre')\n",
    "plt.ylabel('# of users')\n",
    "plt.title('Visualization of genre distribution over all movies')\n",
    "\n",
    "plt.subplot(2,1,2)\n",
    "genre_top['genre'].value_counts().plot(kind = 'bar')\n",
    "plt.xlabel('genre')\n",
    "plt.ylabel('# of users')\n",
    "plt.title('Visualization of genre distribution over all training data')\n",
    "\n",
    "plt.subplots_adjust(hspace=2.0, top=1.0)"
   ]
  },
  {
   "cell_type": "markdown",
   "id": "2e2103de",
   "metadata": {
    "id": "2e2103de"
   },
   "source": [
    "두 개의 그래프를 확인하면 거의 비슷해보이지만, 두 분포 사이에 작은 차이가 있음을 확인할 수 있습니다. 가령, *Romance* 장르의 영화가 전체 훈련 데이터에서는 7위를 차지하지만, 모든 6807개의 영화 중에서는 4위를 차지합니다. 이는 *Romance* 장르에 해당하는 영화의 갯수에 비해 실제 사용자들이 시청할 확률이 더 높았다는 것을 뜻합니다.\n",
    "\n",
    "다음은 사용자 한명이 시청한 영화 리스트를 확인하고, 해당 사용자가 가장 선호하는 장르를 순위별로 차트로 알아보겠습니다. 다음 코드에서는 데이터가 가장 많은 사용자의 id인 `active_user_ids[0]`를 사용하겠습니다.\n",
    "그럼 코드를 실행해보세요!"
   ]
  },
  {
   "cell_type": "code",
   "execution_count": 36,
   "id": "7322b72f",
   "metadata": {
    "ExecuteTime": {
     "end_time": "2022-12-20T04:33:53.476588Z",
     "start_time": "2022-12-20T04:33:53.194678Z"
    },
    "id": "7322b72f"
   },
   "outputs": [
    {
     "data": {
      "text/plain": [
       "<AxesSubplot: >"
      ]
     },
     "execution_count": 36,
     "metadata": {},
     "output_type": "execute_result"
    },
    {
     "data": {
      "image/png": "[encoded data removed]",
      "text/plain": [
       "<Figure size 576x504 with 1 Axes>"
      ]
     },
     "metadata": {
      "needs_background": "light"
     },
     "output_type": "display_data"
    }
   ],
   "source": [
    "user_id = active_user_ids[0] # specific user id\n",
    "genre_user = genre_top[genre_top['user'] == user_id]\n",
    "\n",
    "genre_user['genre'].value_counts().plot(kind = 'bar', figsize = (8,7))"
   ]
  },
  {
   "cell_type": "markdown",
   "id": "d268df37",
   "metadata": {
    "id": "d268df37"
   },
   "source": [
    "`active_user_ids[0]`에 해당하는 사용자의 시청영화 장르 분포는 전체 데이터의 장르 분포와 크게 차이가 나지 않습니다. 그렇다면 `active_user_ids[1]`에 해당하는 사용자는 어떨까요? 다양한 사용자들의 장르 분포도 한번 비교해 보시기 바랍니다.\n",
    "\n",
    "\n",
    "다음은 사용자가 주로 언제 영화를 시청했는지 알아보려고 합니다.\n",
    "그 전에 먼저 간단히 알고 넘어가면 좋은 내용이 있는데요. train 데이터를 보시면 timestamp column은 유닉스 시간(Unix time)을 초 단위로 표시한 것입니다. 통계를 위해 이것을 우리가 알아볼 수 있는 단위로 변환하는 방법을 알아보겠습니다. 다음 코드를 실행해보세요."
   ]
  },
  {
   "cell_type": "code",
   "execution_count": 37,
   "id": "0c3d80f1",
   "metadata": {
    "ExecuteTime": {
     "end_time": "2022-12-20T04:33:54.246662Z",
     "start_time": "2022-12-20T04:33:54.242429Z"
    },
    "id": "0c3d80f1"
   },
   "outputs": [
    {
     "name": "stdout",
     "output_type": "stream",
     "text": [
      "initial unix-based timestamp: 1230782529\n",
      "converted time: 2009-01-01 04:02:09\n"
     ]
    }
   ],
   "source": [
    "import time\n",
    "unix_time = 1230782529 # some random timestamp from dataset\n",
    "converted_time = time.strftime('%Y-%m-%d %H:%M:%S', time.localtime(unix_time))\n",
    "\n",
    "print (\"initial unix-based timestamp: %s\\nconverted time: %s\"%(unix_time, converted_time))"
   ]
  },
  {
   "cell_type": "markdown",
   "id": "81646dc3",
   "metadata": {
    "id": "81646dc3"
   },
   "source": [
    "파이썬의 time 라이브러리를 사용하여 연-월-일 시간-분-초 단위까지 잘 변환이 되는 것을 확인했습니다. \n",
    "하지만 우리 데이터셋의 영화 연도 분포와 task를 고려했을때 시간-분-초 단위는 크게 중요하지 않을 것 같습니다. 일 단위도 빼고, 연-월 단위만 가지고 사용자의 시청 연-월 그래프를 확인해보겠습니다.\n",
    "\n",
    "즉, 위와 같은 방법으로 timestamp를 변환하여 `active_user_ids[0]`에 해당하는 사용자가 어느 시기에 가장 많은 interaction 활동을 했는지 알아봅니다. 다음 코드를 실행하여 그래프를 확인해봅니다."
   ]
  },
  {
   "cell_type": "code",
   "execution_count": 38,
   "id": "1da11a31",
   "metadata": {
    "ExecuteTime": {
     "end_time": "2022-12-20T04:34:12.849745Z",
     "start_time": "2022-12-20T04:33:54.975332Z"
    },
    "id": "1da11a31"
   },
   "outputs": [
    {
     "name": "stderr",
     "output_type": "stream",
     "text": [
      "/tmp/ipykernel_9805/3998196915.py:6: SettingWithCopyWarning: \n",
      "A value is trying to be set on a copy of a slice from a DataFrame.\n",
      "Try using .loc[row_indexer,col_indexer] = value instead\n",
      "\n",
      "See the caveats in the documentation: https://pandas.pydata.org/pandas-docs/stable/user_guide/indexing.html#returning-a-view-versus-a-copy\n",
      "  converted_df['time'] = old_df['time'].replace([old_time], new_time) # replace the time column\n"
     ]
    },
    {
     "data": {
      "text/plain": [
       "Text(0.5, 1.0, 'Statistics of user activity')"
      ]
     },
     "execution_count": 38,
     "metadata": {},
     "output_type": "execute_result"
    },
    {
     "data": {
      "image/png": "[encoded data removed]",
      "text/plain": [
       "<Figure size 576x504 with 1 Axes>"
      ]
     },
     "metadata": {
      "needs_background": "light"
     },
     "output_type": "display_data"
    }
   ],
   "source": [
    "old_df = train_df[train_df['user'] == active_user_ids[0]] # Specific user id\n",
    "converted_df = old_df\n",
    "\n",
    "for old_time in old_df['time']:\n",
    "    new_time = time.strftime('%Y-%m', time.localtime(old_time))\n",
    "    converted_df['time'] = old_df['time'].replace([old_time], new_time) # replace the time column\n",
    "\n",
    "converted_df['time'].value_counts().plot(kind = 'bar', figsize = (8,7))\n",
    "plt.xlabel('year-month')\n",
    "plt.ylabel('# of movies')\n",
    "plt.title('Statistics of user activity')"
   ]
  },
  {
   "cell_type": "markdown",
   "id": "0cd8606f",
   "metadata": {
    "id": "0cd8606f"
   },
   "source": [
    "해당 사용자는 대략 2007년 전후로 영화 시청을 가장 많이 했고, 시간이 지나면서 시청 기록이 점점 줄어드는 확인할 수 있습니다.\n",
    "\n",
    "이어서 사용자가 처음으로 또는 마지막으로 영화 시청을 한 시기도 직접 출력해볼 수 있겠습니다. 또, 다른 사용자들의 분포는 얼마나 다를까요?\n",
    "혹은, 어떤 영화가 어떤 연도에 가장 많이 소비되었을까요?\n",
    "\n",
    "눈치 채셨을지 모르겠지만, 앞서 저장했던 *popular_movie_id* 변수는 시각화에 사용되지 않았는데요. 선택 과제로 활용해보시기 바랍니다!"
   ]
  },
  {
   "cell_type": "markdown",
   "id": "bfd772c1",
   "metadata": {
    "id": "bfd772c1"
   },
   "source": [
    "## 마치며\n",
    "\n",
    "여기까지 오시느라 모두 수고 많으셨습니다. 본 미션에서는 여러 데이터를 관찰하고, 또 분포를 출력해보면서 데이터에 대해 이해하는 시간을 가져보았는데요.\n",
    "미션에서 제공된 정보 외에도 다른 분석들을 추가로 해보시면 대회를 준비하는데 더 도움이 될 것입니다.\n",
    "많은 인사이트를 얻어가셔서 대회에 충분히 활용하시길 바라겠습니다!"
   ]
  },
  {
   "cell_type": "code",
   "execution_count": 44,
   "id": "46d6273e",
   "metadata": {
    "ExecuteTime": {
     "end_time": "2022-12-20T04:41:57.144824Z",
     "start_time": "2022-12-20T04:41:30.076983Z"
    }
   },
   "outputs": [],
   "source": [
    "all_df = train_df.merge(year_data, on='item',how='left').merge(writer_data, on='item',how='left').merge(\n",
    "    title_data, on='item',how='left').merge(genre_data, on='item',how='left').merge(\n",
    "    director_data, on='item',how='left')"
   ]
  },
  {
   "cell_type": "code",
   "execution_count": 50,
   "id": "3ea51e66",
   "metadata": {
    "ExecuteTime": {
     "end_time": "2022-12-20T04:45:18.367213Z",
     "start_time": "2022-12-20T04:45:18.362103Z"
    }
   },
   "outputs": [
    {
     "data": {
      "text/plain": [
       "((5407508, 4), (11278915, 4), (5154471, 4), (14126324, 4), (5152639, 4))"
      ]
     },
     "execution_count": 50,
     "metadata": {},
     "output_type": "execute_result"
    }
   ],
   "source": [
    "director_df.shape, writer_df.shape, title_df.shape, genre_df.shape, year_df.shape"
   ]
  },
  {
   "cell_type": "code",
   "execution_count": 74,
   "id": "d693ceed",
   "metadata": {
    "ExecuteTime": {
     "end_time": "2022-12-20T04:52:08.551910Z",
     "start_time": "2022-12-20T04:52:08.110342Z"
    }
   },
   "outputs": [
    {
     "data": {
      "text/plain": [
       "<AxesSubplot: >"
      ]
     },
     "execution_count": 74,
     "metadata": {},
     "output_type": "execute_result"
    },
    {
     "data": {
      "image/png": "[encoded data removed]",
      "text/plain": [
       "<Figure size 720x576 with 1 Axes>"
      ]
     },
     "metadata": {
      "needs_background": "light"
     },
     "output_type": "display_data"
    }
   ],
   "source": [
    "train_df.item.value_counts()[100:].hist(bins=100, figsize=(10,8))"
   ]
  },
  {
   "cell_type": "code",
   "execution_count": 64,
   "id": "0785a6cb",
   "metadata": {
    "ExecuteTime": {
     "end_time": "2022-12-20T04:48:52.097605Z",
     "start_time": "2022-12-20T04:48:51.526527Z"
    }
   },
   "outputs": [
    {
     "data": {
      "text/plain": [
       "<AxesSubplot: ylabel='Density'>"
      ]
     },
     "execution_count": 64,
     "metadata": {},
     "output_type": "execute_result"
    },
    {
     "data": {
      "image/png": "[encoded data removed]",
      "text/plain": [
       "<Figure size 432x288 with 1 Axes>"
      ]
     },
     "metadata": {
      "needs_background": "light"
     },
     "output_type": "display_data"
    }
   ],
   "source": [
    "train_df.item.value_counts()[-100:].plot(kind='kde')"
   ]
  },
  {
   "cell_type": "code",
   "execution_count": 86,
   "id": "7bf27c1f",
   "metadata": {
    "ExecuteTime": {
     "end_time": "2022-12-20T04:58:20.111627Z",
     "start_time": "2022-12-20T04:58:19.873798Z"
    }
   },
   "outputs": [
    {
     "data": {
      "text/plain": [
       "nm0000229    130434\n",
       "nm0000233     81880\n",
       "nm0634240     65526\n",
       "nm0000709     63374\n",
       "nm0001392     60938\n",
       "              ...  \n",
       "nm0001814     18205\n",
       "nm0230032     17466\n",
       "nm0000601     17214\n",
       "nm0718645     17171\n",
       "nm0000231     16931\n",
       "Name: director, Length: 70, dtype: int64"
      ]
     },
     "execution_count": 86,
     "metadata": {},
     "output_type": "execute_result"
    }
   ],
   "source": [
    "director_df.director.value_counts()[:70]"
   ]
  },
  {
   "cell_type": "markdown",
   "id": "0c683521",
   "metadata": {},
   "source": [
    "## 영화 감독 별 영화 개수, 관객수 시각화"
   ]
  },
  {
   "cell_type": "code",
   "execution_count": 107,
   "id": "58660146",
   "metadata": {
    "ExecuteTime": {
     "end_time": "2022-12-20T05:26:54.464545Z",
     "start_time": "2022-12-20T05:26:54.456073Z"
    }
   },
   "outputs": [
    {
     "data": {
      "text/plain": [
       "director\n",
       "nm0000095    44\n",
       "nm0000033    33\n",
       "nm0000142    31\n",
       "nm0000229    29\n",
       "nm0000217    26\n",
       "             ..\n",
       "nm0373282     2\n",
       "nm0371890     2\n",
       "nm0371059     2\n",
       "nm0358327     2\n",
       "nm0373429     2\n",
       "Name: item, Length: 1340, dtype: int64"
      ]
     },
     "execution_count": 107,
     "metadata": {},
     "output_type": "execute_result"
    }
   ],
   "source": [
    "director_data.groupby('director').item.count().sort_values()[::-1]"
   ]
  },
  {
   "cell_type": "code",
   "execution_count": 132,
   "id": "04ae0ca5",
   "metadata": {
    "ExecuteTime": {
     "end_time": "2022-12-20T05:30:26.461572Z",
     "start_time": "2022-12-20T05:30:26.252090Z"
    }
   },
   "outputs": [
    {
     "data": {
      "text/plain": [
       "<AxesSubplot: ylabel='Density'>"
      ]
     },
     "execution_count": 132,
     "metadata": {},
     "output_type": "execute_result"
    },
    {
     "data": {
      "image/png": "[encoded data removed]",
      "text/plain": [
       "<Figure size 720x576 with 1 Axes>"
      ]
     },
     "metadata": {
      "needs_background": "light"
     },
     "output_type": "display_data"
    }
   ],
   "source": [
    "# 감독들이 영화 만든 것들의 분포 (0개 ~ 40개)\n",
    "director_data.groupby('director').item.count().sort_values()[::-1].plot(kind='kde', figsize=(10,8))"
   ]
  },
  {
   "cell_type": "code",
   "execution_count": 143,
   "id": "5690a24e",
   "metadata": {
    "ExecuteTime": {
     "end_time": "2022-12-20T05:33:54.664929Z",
     "start_time": "2022-12-20T05:33:54.652231Z"
    }
   },
   "outputs": [
    {
     "data": {
      "text/plain": [
       "director\n",
       "nm0000095    44\n",
       "nm0000033    33\n",
       "nm0000142    31\n",
       "nm0000229    29\n",
       "nm0000217    26\n",
       "nm0001752    23\n",
       "nm0000165    20\n",
       "nm0943758    20\n",
       "nm0000005    19\n",
       "nm0000697    19\n",
       "Name: item, dtype: int64"
      ]
     },
     "execution_count": 143,
     "metadata": {},
     "output_type": "execute_result"
    }
   ],
   "source": [
    "# 상위 10명이 만든 영화 개수\n",
    "top_directors = director_data.groupby('director').item.count().sort_values()[::-1][:10]\n",
    "top_directors"
   ]
  },
  {
   "cell_type": "code",
   "execution_count": 173,
   "id": "6abbd78d",
   "metadata": {
    "ExecuteTime": {
     "end_time": "2022-12-20T05:49:43.713527Z",
     "start_time": "2022-12-20T05:49:39.859704Z"
    }
   },
   "outputs": [
    {
     "name": "stdout",
     "output_type": "stream",
     "text": [
      "nm0000095 감독 - 44개 영화 촬영 - 관객수: 24,185\n",
      "nm0000033 감독 - 33개 영화 촬영 - 관객수: 36,859\n",
      "nm0000142 감독 - 31개 영화 촬영 - 관객수: 32,873\n",
      "nm0000229 감독 - 29개 영화 촬영 - 관객수: 130,434\n",
      "nm0000217 감독 - 26개 영화 촬영 - 관객수: 55,303\n",
      "nm0001752 감독 - 23개 영화 촬영 - 관객수: 31,362\n",
      "nm0000165 감독 - 20개 영화 촬영 - 관객수: 37,916\n",
      "nm0943758 감독 - 20개 영화 촬영 - 관객수: 5,834\n",
      "nm0000005 감독 - 19개 영화 촬영 - 관객수: 6,360\n",
      "nm0000697 감독 - 19개 영화 촬영 - 관객수: 12,112\n"
     ]
    }
   ],
   "source": [
    "for director, nmovie in top_directors.iteritems():\n",
    "    print(f\"{director} 감독 - {nmovie}개 영화 촬영 - 관객수: {director_df[director_df.director == director].shape[0]:,}\")"
   ]
  },
  {
   "cell_type": "code",
   "execution_count": 170,
   "id": "76a34377",
   "metadata": {
    "ExecuteTime": {
     "end_time": "2022-12-20T05:40:24.077029Z",
     "start_time": "2022-12-20T05:40:23.592368Z"
    }
   },
   "outputs": [],
   "source": [
    "director_movie_count = dict(director_data.groupby('director').item.count())\n",
    "director_item = director_df.groupby('director').item.count().sort_values()[::-1].reset_index()\n",
    "director_item['movie_count'] = director_item.director.map(director_movie_count)\n",
    "director_item.columns = ['director', 'seen_count', 'movie_count']"
   ]
  },
  {
   "cell_type": "code",
   "execution_count": 212,
   "id": "8e86970c",
   "metadata": {
    "ExecuteTime": {
     "end_time": "2022-12-20T05:59:40.865992Z",
     "start_time": "2022-12-20T05:59:40.854663Z"
    }
   },
   "outputs": [
    {
     "data": {
      "text/html": [
       "<div>\n",
       "<style scoped>\n",
       "    .dataframe tbody tr th:only-of-type {\n",
       "        vertical-align: middle;\n",
       "    }\n",
       "\n",
       "    .dataframe tbody tr th {\n",
       "        vertical-align: top;\n",
       "    }\n",
       "\n",
       "    .dataframe thead th {\n",
       "        text-align: right;\n",
       "    }\n",
       "</style>\n",
       "<table border=\"1\" class=\"dataframe\">\n",
       "  <thead>\n",
       "    <tr style=\"text-align: right;\">\n",
       "      <th></th>\n",
       "      <th>director</th>\n",
       "      <th>seen_count</th>\n",
       "      <th>movie_count</th>\n",
       "    </tr>\n",
       "  </thead>\n",
       "  <tbody>\n",
       "    <tr>\n",
       "      <th>0</th>\n",
       "      <td>nm0000229</td>\n",
       "      <td>130434</td>\n",
       "      <td>29</td>\n",
       "    </tr>\n",
       "    <tr>\n",
       "      <th>1</th>\n",
       "      <td>nm0000233</td>\n",
       "      <td>81880</td>\n",
       "      <td>11</td>\n",
       "    </tr>\n",
       "    <tr>\n",
       "      <th>2</th>\n",
       "      <td>nm0634240</td>\n",
       "      <td>65526</td>\n",
       "      <td>9</td>\n",
       "    </tr>\n",
       "    <tr>\n",
       "      <th>3</th>\n",
       "      <td>nm0000709</td>\n",
       "      <td>63374</td>\n",
       "      <td>15</td>\n",
       "    </tr>\n",
       "    <tr>\n",
       "      <th>4</th>\n",
       "      <td>nm0001392</td>\n",
       "      <td>60938</td>\n",
       "      <td>14</td>\n",
       "    </tr>\n",
       "    <tr>\n",
       "      <th>5</th>\n",
       "      <td>nm0000217</td>\n",
       "      <td>55303</td>\n",
       "      <td>26</td>\n",
       "    </tr>\n",
       "    <tr>\n",
       "      <th>6</th>\n",
       "      <td>nm0001054</td>\n",
       "      <td>54395</td>\n",
       "      <td>17</td>\n",
       "    </tr>\n",
       "    <tr>\n",
       "      <th>7</th>\n",
       "      <td>nm0000116</td>\n",
       "      <td>53624</td>\n",
       "      <td>7</td>\n",
       "    </tr>\n",
       "    <tr>\n",
       "      <th>8</th>\n",
       "      <td>nm0000399</td>\n",
       "      <td>53385</td>\n",
       "      <td>10</td>\n",
       "    </tr>\n",
       "    <tr>\n",
       "      <th>9</th>\n",
       "      <td>nm0000631</td>\n",
       "      <td>53160</td>\n",
       "      <td>19</td>\n",
       "    </tr>\n",
       "  </tbody>\n",
       "</table>\n",
       "</div>"
      ],
      "text/plain": [
       "    director  seen_count  movie_count\n",
       "0  nm0000229      130434           29\n",
       "1  nm0000233       81880           11\n",
       "2  nm0634240       65526            9\n",
       "3  nm0000709       63374           15\n",
       "4  nm0001392       60938           14\n",
       "5  nm0000217       55303           26\n",
       "6  nm0001054       54395           17\n",
       "7  nm0000116       53624            7\n",
       "8  nm0000399       53385           10\n",
       "9  nm0000631       53160           19"
      ]
     },
     "execution_count": 212,
     "metadata": {},
     "output_type": "execute_result"
    }
   ],
   "source": [
    "director_item[:10]"
   ]
  },
  {
   "cell_type": "code",
   "execution_count": 217,
   "id": "cb1aa639",
   "metadata": {
    "ExecuteTime": {
     "end_time": "2022-12-20T06:02:27.433686Z",
     "start_time": "2022-12-20T06:02:27.425713Z"
    }
   },
   "outputs": [
    {
     "data": {
      "text/html": [
       "<div>\n",
       "<style scoped>\n",
       "    .dataframe tbody tr th:only-of-type {\n",
       "        vertical-align: middle;\n",
       "    }\n",
       "\n",
       "    .dataframe tbody tr th {\n",
       "        vertical-align: top;\n",
       "    }\n",
       "\n",
       "    .dataframe thead th {\n",
       "        text-align: right;\n",
       "    }\n",
       "</style>\n",
       "<table border=\"1\" class=\"dataframe\">\n",
       "  <thead>\n",
       "    <tr style=\"text-align: right;\">\n",
       "      <th></th>\n",
       "      <th>index</th>\n",
       "      <th>seen_count</th>\n",
       "    </tr>\n",
       "  </thead>\n",
       "  <tbody>\n",
       "    <tr>\n",
       "      <th>0</th>\n",
       "      <td>0</td>\n",
       "      <td>130434</td>\n",
       "    </tr>\n",
       "    <tr>\n",
       "      <th>1</th>\n",
       "      <td>1</td>\n",
       "      <td>81880</td>\n",
       "    </tr>\n",
       "  </tbody>\n",
       "</table>\n",
       "</div>"
      ],
      "text/plain": [
       "   index  seen_count\n",
       "0      0      130434\n",
       "1      1       81880"
      ]
     },
     "execution_count": 217,
     "metadata": {},
     "output_type": "execute_result"
    }
   ],
   "source": [
    "director_item.seen_count[:70].reset_index()[:2]"
   ]
  },
  {
   "cell_type": "code",
   "execution_count": 218,
   "id": "70f52112",
   "metadata": {
    "ExecuteTime": {
     "end_time": "2022-12-20T06:02:37.782977Z",
     "start_time": "2022-12-20T06:02:37.773141Z"
    }
   },
   "outputs": [
    {
     "data": {
      "text/plain": [
       "array([[0.        , 1.        ],\n",
       "       [0.01449275, 0.57222276]])"
      ]
     },
     "execution_count": 218,
     "metadata": {},
     "output_type": "execute_result"
    }
   ],
   "source": [
    "std.fit_transform(director_item.seen_count[:70].reset_index())[:2]"
   ]
  },
  {
   "cell_type": "code",
   "execution_count": 207,
   "id": "aef49c3e",
   "metadata": {
    "ExecuteTime": {
     "end_time": "2022-12-20T05:58:31.884320Z",
     "start_time": "2022-12-20T05:58:29.961600Z"
    }
   },
   "outputs": [
    {
     "data": {
      "text/plain": [
       "<AxesSubplot: >"
      ]
     },
     "execution_count": 207,
     "metadata": {},
     "output_type": "execute_result"
    },
    {
     "data": {
      "image/png": "[encoded data removed]",
      "text/plain": [
       "<Figure size 864x576 with 1 Axes>"
      ]
     },
     "metadata": {
      "needs_background": "light"
     },
     "output_type": "display_data"
    }
   ],
   "source": [
    "# 파란색은 만든 횟수\n",
    "# 초록색은 본 횟수\n",
    "from sklearn.preprocessing import MinMaxScaler\n",
    "std = MinMaxScaler()\n",
    "pd.Series(std.fit_transform(director_item.seen_count[:70].reset_index())[:,1]).plot(kind='bar',color='green', figsize=(12,8), alpha=0.5)\n",
    "pd.Series(std.fit_transform(director_item.movie_count[:70].reset_index())[:,1]).plot(kind='bar', figsize=(12,8), alpha=0.5)"
   ]
  },
  {
   "cell_type": "code",
   "execution_count": 134,
   "id": "50ca9f03",
   "metadata": {
    "ExecuteTime": {
     "end_time": "2022-12-20T05:31:29.197439Z",
     "start_time": "2022-12-20T05:31:28.974594Z"
    }
   },
   "outputs": [
    {
     "data": {
      "text/plain": [
       "<AxesSubplot: >"
      ]
     },
     "execution_count": 134,
     "metadata": {},
     "output_type": "execute_result"
    },
    {
     "data": {
      "image/png": "[encoded data removed]",
      "text/plain": [
       "<Figure size 720x576 with 1 Axes>"
      ]
     },
     "metadata": {
      "needs_background": "light"
     },
     "output_type": "display_data"
    }
   ],
   "source": [
    "# 상위 10명 제외, 영화들 만든 횟수\n",
    "director_data.groupby('director').item.count().sort_values()[::-1][10:].hist(bins=15, figsize=(10,8))"
   ]
  },
  {
   "cell_type": "code",
   "execution_count": 96,
   "id": "9f51a362",
   "metadata": {
    "ExecuteTime": {
     "end_time": "2022-12-20T04:59:47.800244Z",
     "start_time": "2022-12-20T04:59:47.226740Z"
    }
   },
   "outputs": [
    {
     "data": {
      "text/plain": [
       "<AxesSubplot: >"
      ]
     },
     "execution_count": 96,
     "metadata": {},
     "output_type": "execute_result"
    },
    {
     "data": {
      "image/png": "[encoded data removed]",
      "text/plain": [
       "<Figure size 720x576 with 1 Axes>"
      ]
     },
     "metadata": {
      "needs_background": "light"
     },
     "output_type": "display_data"
    }
   ],
   "source": [
    "# 관객들이 많이 본 상위 70명의 감독들의 seen count\n",
    "director_df.director.value_counts()[:70].hist(bins=100, figsize=(10,8))"
   ]
  },
  {
   "cell_type": "code",
   "execution_count": 95,
   "id": "f0c5eb2a",
   "metadata": {
    "ExecuteTime": {
     "end_time": "2022-12-20T04:59:30.446472Z",
     "start_time": "2022-12-20T04:59:29.864368Z"
    }
   },
   "outputs": [
    {
     "data": {
      "text/plain": [
       "<AxesSubplot: >"
      ]
     },
     "execution_count": 95,
     "metadata": {},
     "output_type": "execute_result"
    },
    {
     "data": {
      "image/png": "[encoded data removed]",
      "text/plain": [
       "<Figure size 720x576 with 1 Axes>"
      ]
     },
     "metadata": {
      "needs_background": "light"
     },
     "output_type": "display_data"
    }
   ],
   "source": [
    "# 그 외 감독들의 seen count\n",
    "director_df.director.value_counts()[70:].hist(bins=100, figsize=(10,8))"
   ]
  },
  {
   "cell_type": "markdown",
   "id": "6f253de4",
   "metadata": {},
   "source": [
    "## 작가 별 영화 개수, 관객수 시각화"
   ]
  },
  {
   "cell_type": "code",
   "execution_count": 219,
   "id": "751a3654",
   "metadata": {
    "ExecuteTime": {
     "end_time": "2022-12-20T06:05:05.684504Z",
     "start_time": "2022-12-20T06:05:05.681097Z"
    }
   },
   "outputs": [],
   "source": [
    "from IPython.core.interactiveshell import InteractiveShell\n",
    "InteractiveShell.ast_node_interactivity=\"all\""
   ]
  },
  {
   "cell_type": "code",
   "execution_count": 239,
   "id": "657c8e25",
   "metadata": {
    "ExecuteTime": {
     "end_time": "2022-12-20T06:10:55.834814Z",
     "start_time": "2022-12-20T06:10:47.597320Z"
    }
   },
   "outputs": [
    {
     "data": {
      "text/plain": [
       "writer\n",
       "nm0000095    47\n",
       "nm0000636    35\n",
       "nm0000175    32\n",
       "nm0372942    30\n",
       "nm0000108    29\n",
       "             ..\n",
       "nm0527261     2\n",
       "nm0527567     2\n",
       "nm0527582     2\n",
       "nm0529450     2\n",
       "nm0448469     2\n",
       "Name: item, Length: 2989, dtype: int64"
      ]
     },
     "execution_count": 239,
     "metadata": {},
     "output_type": "execute_result"
    },
    {
     "data": {
      "text/plain": [
       "<AxesSubplot: ylabel='Density'>"
      ]
     },
     "execution_count": 239,
     "metadata": {},
     "output_type": "execute_result"
    },
    {
     "data": {
      "text/plain": [
       "writer\n",
       "nm0000095    47\n",
       "nm0000636    35\n",
       "nm0000175    32\n",
       "nm0372942    30\n",
       "nm0000108    29\n",
       "nm0000697    27\n",
       "nm0000455    26\n",
       "nm0001220    25\n",
       "nm0000041    23\n",
       "nm0744429    21\n",
       "Name: item, dtype: int64"
      ]
     },
     "execution_count": 239,
     "metadata": {},
     "output_type": "execute_result"
    },
    {
     "name": "stdout",
     "output_type": "stream",
     "text": [
      "nm0000095 작가 - 47개 영화 - 관객수: 24,827\n",
      "nm0000636 작가 - 35개 영화 - 관객수: 16,749\n",
      "nm0000175 작가 - 32개 영화 - 관객수: 56,153\n",
      "nm0372942 작가 - 30개 영화 - 관객수: 17,777\n",
      "nm0000108 작가 - 29개 영화 - 관객수: 31,807\n",
      "nm0000697 작가 - 27개 영화 - 관객수: 14,563\n",
      "nm0000455 작가 - 26개 영화 - 관객수: 33,297\n",
      "nm0001220 작가 - 25개 영화 - 관객수: 37,370\n",
      "nm0000041 작가 - 23개 영화 - 관객수: 18,917\n",
      "nm0744429 작가 - 21개 영화 - 관객수: 58,490\n"
     ]
    },
    {
     "data": {
      "image/png": "[encoded data removed]",
      "text/plain": [
       "<Figure size 720x576 with 1 Axes>"
      ]
     },
     "metadata": {
      "needs_background": "light"
     },
     "output_type": "display_data"
    }
   ],
   "source": [
    "writer_data.groupby('writer').item.count().sort_values()[::-1]\n",
    "\n",
    "# 작가들이 영화 만든 것들의 분포 (0개 ~ 40개)\n",
    "writer_data.groupby('writer').item.count().sort_values()[::-1].plot(kind='kde', figsize=(10,8))\n",
    "\n",
    "# 상위 10명이 만든 영화 개수\n",
    "top_writers = writer_data.groupby('writer').item.count().sort_values()[::-1][:10]\n",
    "top_writers\n",
    "\n",
    "for writer, nmovie in top_writers.iteritems():\n",
    "    print(f\"{writer} 작가 - {nmovie}개 영화 - 관객수: {writer_df[writer_df.writer == writer].shape[0]:,}\")"
   ]
  },
  {
   "cell_type": "code",
   "execution_count": 223,
   "id": "50e676e0",
   "metadata": {
    "ExecuteTime": {
     "end_time": "2022-12-20T06:06:40.905883Z",
     "start_time": "2022-12-20T06:06:39.877415Z"
    }
   },
   "outputs": [
    {
     "data": {
      "text/html": [
       "<div>\n",
       "<style scoped>\n",
       "    .dataframe tbody tr th:only-of-type {\n",
       "        vertical-align: middle;\n",
       "    }\n",
       "\n",
       "    .dataframe tbody tr th {\n",
       "        vertical-align: top;\n",
       "    }\n",
       "\n",
       "    .dataframe thead th {\n",
       "        text-align: right;\n",
       "    }\n",
       "</style>\n",
       "<table border=\"1\" class=\"dataframe\">\n",
       "  <thead>\n",
       "    <tr style=\"text-align: right;\">\n",
       "      <th></th>\n",
       "      <th>writer</th>\n",
       "      <th>seen_count</th>\n",
       "      <th>movie_count</th>\n",
       "    </tr>\n",
       "  </thead>\n",
       "  <tbody>\n",
       "    <tr>\n",
       "      <th>0</th>\n",
       "      <td>nm0000184</td>\n",
       "      <td>96994</td>\n",
       "      <td>15</td>\n",
       "    </tr>\n",
       "    <tr>\n",
       "      <th>1</th>\n",
       "      <td>nm0000233</td>\n",
       "      <td>80361</td>\n",
       "      <td>13</td>\n",
       "    </tr>\n",
       "    <tr>\n",
       "      <th>2</th>\n",
       "      <td>nm0634240</td>\n",
       "      <td>64298</td>\n",
       "      <td>9</td>\n",
       "    </tr>\n",
       "    <tr>\n",
       "      <th>3</th>\n",
       "      <td>nm0001392</td>\n",
       "      <td>60938</td>\n",
       "      <td>14</td>\n",
       "    </tr>\n",
       "    <tr>\n",
       "      <th>4</th>\n",
       "      <td>nm0909638</td>\n",
       "      <td>60245</td>\n",
       "      <td>12</td>\n",
       "    </tr>\n",
       "    <tr>\n",
       "      <th>5</th>\n",
       "      <td>nm0004056</td>\n",
       "      <td>60006</td>\n",
       "      <td>9</td>\n",
       "    </tr>\n",
       "    <tr>\n",
       "      <th>6</th>\n",
       "      <td>nm0744429</td>\n",
       "      <td>58490</td>\n",
       "      <td>21</td>\n",
       "    </tr>\n",
       "    <tr>\n",
       "      <th>7</th>\n",
       "      <td>nm0101991</td>\n",
       "      <td>56955</td>\n",
       "      <td>8</td>\n",
       "    </tr>\n",
       "    <tr>\n",
       "      <th>8</th>\n",
       "      <td>nm0254645</td>\n",
       "      <td>56846</td>\n",
       "      <td>20</td>\n",
       "    </tr>\n",
       "    <tr>\n",
       "      <th>9</th>\n",
       "      <td>nm0000175</td>\n",
       "      <td>56153</td>\n",
       "      <td>32</td>\n",
       "    </tr>\n",
       "  </tbody>\n",
       "</table>\n",
       "</div>"
      ],
      "text/plain": [
       "      writer  seen_count  movie_count\n",
       "0  nm0000184       96994           15\n",
       "1  nm0000233       80361           13\n",
       "2  nm0634240       64298            9\n",
       "3  nm0001392       60938           14\n",
       "4  nm0909638       60245           12\n",
       "5  nm0004056       60006            9\n",
       "6  nm0744429       58490           21\n",
       "7  nm0101991       56955            8\n",
       "8  nm0254645       56846           20\n",
       "9  nm0000175       56153           32"
      ]
     },
     "execution_count": 223,
     "metadata": {},
     "output_type": "execute_result"
    },
    {
     "data": {
      "text/html": [
       "<div>\n",
       "<style scoped>\n",
       "    .dataframe tbody tr th:only-of-type {\n",
       "        vertical-align: middle;\n",
       "    }\n",
       "\n",
       "    .dataframe tbody tr th {\n",
       "        vertical-align: top;\n",
       "    }\n",
       "\n",
       "    .dataframe thead th {\n",
       "        text-align: right;\n",
       "    }\n",
       "</style>\n",
       "<table border=\"1\" class=\"dataframe\">\n",
       "  <thead>\n",
       "    <tr style=\"text-align: right;\">\n",
       "      <th></th>\n",
       "      <th>index</th>\n",
       "      <th>seen_count</th>\n",
       "    </tr>\n",
       "  </thead>\n",
       "  <tbody>\n",
       "    <tr>\n",
       "      <th>0</th>\n",
       "      <td>0</td>\n",
       "      <td>96994</td>\n",
       "    </tr>\n",
       "    <tr>\n",
       "      <th>1</th>\n",
       "      <td>1</td>\n",
       "      <td>80361</td>\n",
       "    </tr>\n",
       "  </tbody>\n",
       "</table>\n",
       "</div>"
      ],
      "text/plain": [
       "   index  seen_count\n",
       "0      0       96994\n",
       "1      1       80361"
      ]
     },
     "execution_count": 223,
     "metadata": {},
     "output_type": "execute_result"
    },
    {
     "data": {
      "text/plain": [
       "array([[0.        , 1.        ],\n",
       "       [0.01449275, 0.77189758]])"
      ]
     },
     "execution_count": 223,
     "metadata": {},
     "output_type": "execute_result"
    }
   ],
   "source": [
    "writer_movie_count = dict(writer_data.groupby('writer').item.count())\n",
    "writer_item = writer_df.groupby('writer').item.count().sort_values()[::-1].reset_index()\n",
    "writer_item['movie_count'] = writer_item.writer.map(writer_movie_count)\n",
    "writer_item.columns = ['writer', 'seen_count', 'movie_count']\n",
    "\n",
    "writer_item[:10]\n",
    "\n",
    "writer_item.seen_count[:70].reset_index()[:2]\n",
    "\n",
    "std.fit_transform(writer_item.seen_count[:70].reset_index())[:2]"
   ]
  },
  {
   "cell_type": "code",
   "execution_count": 224,
   "id": "28a43003",
   "metadata": {
    "ExecuteTime": {
     "end_time": "2022-12-20T06:06:55.899605Z",
     "start_time": "2022-12-20T06:06:55.138112Z"
    }
   },
   "outputs": [
    {
     "data": {
      "text/plain": [
       "<AxesSubplot: >"
      ]
     },
     "execution_count": 224,
     "metadata": {},
     "output_type": "execute_result"
    },
    {
     "data": {
      "text/plain": [
       "<AxesSubplot: >"
      ]
     },
     "execution_count": 224,
     "metadata": {},
     "output_type": "execute_result"
    },
    {
     "data": {
      "image/png": "[encoded data removed]",
      "text/plain": [
       "<Figure size 864x576 with 1 Axes>"
      ]
     },
     "metadata": {
      "needs_background": "light"
     },
     "output_type": "display_data"
    }
   ],
   "source": [
    "# 파란색은 만든 횟수\n",
    "# 초록색은 본 횟수\n",
    "from sklearn.preprocessing import MinMaxScaler\n",
    "std = MinMaxScaler()\n",
    "pd.Series(std.fit_transform(writer_item.seen_count[:70].reset_index())[:,1]).plot(kind='bar',color='green', figsize=(12,8), alpha=0.5)\n",
    "pd.Series(std.fit_transform(writer_item.movie_count[:70].reset_index())[:,1]).plot(kind='bar', figsize=(12,8), alpha=0.5)"
   ]
  },
  {
   "cell_type": "code",
   "execution_count": 226,
   "id": "96f91e84",
   "metadata": {
    "ExecuteTime": {
     "end_time": "2022-12-20T06:07:11.699095Z",
     "start_time": "2022-12-20T06:07:11.465095Z"
    }
   },
   "outputs": [
    {
     "data": {
      "text/plain": [
       "<AxesSubplot: >"
      ]
     },
     "execution_count": 226,
     "metadata": {},
     "output_type": "execute_result"
    },
    {
     "data": {
      "image/png": "[encoded data removed]",
      "text/plain": [
       "<Figure size 720x576 with 1 Axes>"
      ]
     },
     "metadata": {
      "needs_background": "light"
     },
     "output_type": "display_data"
    }
   ],
   "source": [
    "# 상위 10명 제외, 영화들 만든 횟수\n",
    "writer_data.groupby('writer').item.count().sort_values()[::-1][10:].hist(bins=15, figsize=(10,8))"
   ]
  },
  {
   "cell_type": "code",
   "execution_count": 227,
   "id": "b6feee43",
   "metadata": {
    "ExecuteTime": {
     "end_time": "2022-12-20T06:07:12.589392Z",
     "start_time": "2022-12-20T06:07:11.759207Z"
    }
   },
   "outputs": [
    {
     "data": {
      "text/plain": [
       "<AxesSubplot: >"
      ]
     },
     "execution_count": 227,
     "metadata": {},
     "output_type": "execute_result"
    },
    {
     "data": {
      "image/png": "[encoded data removed]",
      "text/plain": [
       "<Figure size 720x576 with 1 Axes>"
      ]
     },
     "metadata": {
      "needs_background": "light"
     },
     "output_type": "display_data"
    }
   ],
   "source": [
    "# 관객들이 많이 본 상위 70명의 작가들의 seen count\n",
    "writer_df.writer.value_counts()[:70].hist(bins=100, figsize=(10,8))"
   ]
  },
  {
   "cell_type": "code",
   "execution_count": 228,
   "id": "630cdfd9",
   "metadata": {
    "ExecuteTime": {
     "end_time": "2022-12-20T06:07:13.390442Z",
     "start_time": "2022-12-20T06:07:12.592021Z"
    }
   },
   "outputs": [
    {
     "data": {
      "text/plain": [
       "<AxesSubplot: >"
      ]
     },
     "execution_count": 228,
     "metadata": {},
     "output_type": "execute_result"
    },
    {
     "data": {
      "image/png": "[encoded data removed]",
      "text/plain": [
       "<Figure size 720x576 with 1 Axes>"
      ]
     },
     "metadata": {
      "needs_background": "light"
     },
     "output_type": "display_data"
    }
   ],
   "source": [
    "# 그 외 작가들의 seen count\n",
    "writer_df.writer.value_counts()[70:].hist(bins=100, figsize=(10,8))"
   ]
  },
  {
   "cell_type": "markdown",
   "id": "1fb9639a",
   "metadata": {},
   "source": [
    "## 년도별 영화 개수, 관객수 시각화"
   ]
  },
  {
   "cell_type": "code",
   "execution_count": 238,
   "id": "2a1bb2e5",
   "metadata": {
    "ExecuteTime": {
     "end_time": "2022-12-20T06:10:43.869200Z",
     "start_time": "2022-12-20T06:10:43.540746Z"
    }
   },
   "outputs": [
    {
     "data": {
      "text/plain": [
       "year\n",
       "2006    284\n",
       "2007    271\n",
       "2004    262\n",
       "2005    260\n",
       "2008    256\n",
       "       ... \n",
       "1924      5\n",
       "1930      4\n",
       "1922      3\n",
       "1926      2\n",
       "1923      2\n",
       "Name: item, Length: 93, dtype: int64"
      ]
     },
     "execution_count": 238,
     "metadata": {},
     "output_type": "execute_result"
    },
    {
     "data": {
      "text/plain": [
       "<AxesSubplot: ylabel='Density'>"
      ]
     },
     "execution_count": 238,
     "metadata": {},
     "output_type": "execute_result"
    },
    {
     "data": {
      "text/plain": [
       "year\n",
       "2006    284\n",
       "2007    271\n",
       "2004    262\n",
       "2005    260\n",
       "2008    256\n",
       "2009    247\n",
       "2002    242\n",
       "2003    236\n",
       "2001    222\n",
       "2010    213\n",
       "Name: item, dtype: int64"
      ]
     },
     "execution_count": 238,
     "metadata": {},
     "output_type": "execute_result"
    },
    {
     "name": "stdout",
     "output_type": "stream",
     "text": [
      "2006 년도 - 284개 영화 - 관객수: 215,314\n",
      "2007 년도 - 271개 영화 - 관객수: 190,314\n",
      "2004 년도 - 262개 영화 - 관객수: 272,242\n",
      "2005 년도 - 260개 영화 - 관객수: 204,326\n",
      "2008 년도 - 256개 영화 - 관객수: 154,976\n",
      "2009 년도 - 247개 영화 - 관객수: 128,839\n",
      "2002 년도 - 242개 영화 - 관객수: 220,123\n",
      "2003 년도 - 236개 영화 - 관객수: 212,094\n",
      "2001 년도 - 222개 영화 - 관객수: 224,178\n",
      "2010 년도 - 213개 영화 - 관객수: 100,070\n"
     ]
    },
    {
     "data": {
      "image/png": "[encoded data removed]",
      "text/plain": [
       "<Figure size 720x576 with 1 Axes>"
      ]
     },
     "metadata": {
      "needs_background": "light"
     },
     "output_type": "display_data"
    }
   ],
   "source": [
    "year_data.groupby('year').item.count().sort_values()[::-1]\n",
    "\n",
    "# 년도들이 영화 만든 것들의 분포 (0개 ~ 40개)\n",
    "year_data.groupby('year').item.count().sort_values()[::-1].plot(kind='kde', figsize=(10,8))\n",
    "\n",
    "# 상위 10명이 만든 영화 개수\n",
    "top_years = year_data.groupby('year').item.count().sort_values()[::-1][:10]\n",
    "top_years\n",
    "\n",
    "for year, nmovie in top_years.iteritems():\n",
    "    print(f\"{year} 년도 - {nmovie}개 영화 - 관객수: {year_df[year_df.year == year].shape[0]:,}\")"
   ]
  },
  {
   "cell_type": "code",
   "execution_count": 231,
   "id": "fb85b5dc",
   "metadata": {
    "ExecuteTime": {
     "end_time": "2022-12-20T06:08:58.358056Z",
     "start_time": "2022-12-20T06:08:58.200770Z"
    }
   },
   "outputs": [
    {
     "data": {
      "text/html": [
       "<div>\n",
       "<style scoped>\n",
       "    .dataframe tbody tr th:only-of-type {\n",
       "        vertical-align: middle;\n",
       "    }\n",
       "\n",
       "    .dataframe tbody tr th {\n",
       "        vertical-align: top;\n",
       "    }\n",
       "\n",
       "    .dataframe thead th {\n",
       "        text-align: right;\n",
       "    }\n",
       "</style>\n",
       "<table border=\"1\" class=\"dataframe\">\n",
       "  <thead>\n",
       "    <tr style=\"text-align: right;\">\n",
       "      <th></th>\n",
       "      <th>year</th>\n",
       "      <th>seen_count</th>\n",
       "      <th>movie_count</th>\n",
       "    </tr>\n",
       "  </thead>\n",
       "  <tbody>\n",
       "    <tr>\n",
       "      <th>0</th>\n",
       "      <td>2004</td>\n",
       "      <td>272242</td>\n",
       "      <td>262</td>\n",
       "    </tr>\n",
       "    <tr>\n",
       "      <th>1</th>\n",
       "      <td>1999</td>\n",
       "      <td>231320</td>\n",
       "      <td>192</td>\n",
       "    </tr>\n",
       "    <tr>\n",
       "      <th>2</th>\n",
       "      <td>2001</td>\n",
       "      <td>224178</td>\n",
       "      <td>222</td>\n",
       "    </tr>\n",
       "    <tr>\n",
       "      <th>3</th>\n",
       "      <td>2002</td>\n",
       "      <td>220123</td>\n",
       "      <td>242</td>\n",
       "    </tr>\n",
       "    <tr>\n",
       "      <th>4</th>\n",
       "      <td>2006</td>\n",
       "      <td>215314</td>\n",
       "      <td>284</td>\n",
       "    </tr>\n",
       "    <tr>\n",
       "      <th>5</th>\n",
       "      <td>2003</td>\n",
       "      <td>212094</td>\n",
       "      <td>236</td>\n",
       "    </tr>\n",
       "    <tr>\n",
       "      <th>6</th>\n",
       "      <td>2000</td>\n",
       "      <td>209962</td>\n",
       "      <td>197</td>\n",
       "    </tr>\n",
       "    <tr>\n",
       "      <th>7</th>\n",
       "      <td>2005</td>\n",
       "      <td>204326</td>\n",
       "      <td>260</td>\n",
       "    </tr>\n",
       "    <tr>\n",
       "      <th>8</th>\n",
       "      <td>1995</td>\n",
       "      <td>193353</td>\n",
       "      <td>158</td>\n",
       "    </tr>\n",
       "    <tr>\n",
       "      <th>9</th>\n",
       "      <td>2007</td>\n",
       "      <td>190314</td>\n",
       "      <td>271</td>\n",
       "    </tr>\n",
       "  </tbody>\n",
       "</table>\n",
       "</div>"
      ],
      "text/plain": [
       "   year  seen_count  movie_count\n",
       "0  2004      272242          262\n",
       "1  1999      231320          192\n",
       "2  2001      224178          222\n",
       "3  2002      220123          242\n",
       "4  2006      215314          284\n",
       "5  2003      212094          236\n",
       "6  2000      209962          197\n",
       "7  2005      204326          260\n",
       "8  1995      193353          158\n",
       "9  2007      190314          271"
      ]
     },
     "execution_count": 231,
     "metadata": {},
     "output_type": "execute_result"
    },
    {
     "data": {
      "text/html": [
       "<div>\n",
       "<style scoped>\n",
       "    .dataframe tbody tr th:only-of-type {\n",
       "        vertical-align: middle;\n",
       "    }\n",
       "\n",
       "    .dataframe tbody tr th {\n",
       "        vertical-align: top;\n",
       "    }\n",
       "\n",
       "    .dataframe thead th {\n",
       "        text-align: right;\n",
       "    }\n",
       "</style>\n",
       "<table border=\"1\" class=\"dataframe\">\n",
       "  <thead>\n",
       "    <tr style=\"text-align: right;\">\n",
       "      <th></th>\n",
       "      <th>index</th>\n",
       "      <th>seen_count</th>\n",
       "    </tr>\n",
       "  </thead>\n",
       "  <tbody>\n",
       "    <tr>\n",
       "      <th>0</th>\n",
       "      <td>0</td>\n",
       "      <td>272242</td>\n",
       "    </tr>\n",
       "    <tr>\n",
       "      <th>1</th>\n",
       "      <td>1</td>\n",
       "      <td>231320</td>\n",
       "    </tr>\n",
       "  </tbody>\n",
       "</table>\n",
       "</div>"
      ],
      "text/plain": [
       "   index  seen_count\n",
       "0      0      272242\n",
       "1      1      231320"
      ]
     },
     "execution_count": 231,
     "metadata": {},
     "output_type": "execute_result"
    },
    {
     "data": {
      "text/plain": [
       "array([[0.        , 1.        ],\n",
       "       [0.01449275, 0.84596448]])"
      ]
     },
     "execution_count": 231,
     "metadata": {},
     "output_type": "execute_result"
    }
   ],
   "source": [
    "year_movie_count = dict(year_data.groupby('year').item.count())\n",
    "year_item = year_df.groupby('year').item.count().sort_values()[::-1].reset_index()\n",
    "year_item['movie_count'] = year_item.year.map(year_movie_count)\n",
    "year_item.columns = ['year', 'seen_count', 'movie_count']\n",
    "\n",
    "year_item[:10]\n",
    "\n",
    "year_item.seen_count[:70].reset_index()[:2]\n",
    "\n",
    "std.fit_transform(year_item.seen_count[:70].reset_index())[:2]"
   ]
  },
  {
   "cell_type": "code",
   "execution_count": 232,
   "id": "399cd355",
   "metadata": {
    "ExecuteTime": {
     "end_time": "2022-12-20T06:09:01.838818Z",
     "start_time": "2022-12-20T06:09:01.068154Z"
    }
   },
   "outputs": [
    {
     "data": {
      "text/plain": [
       "<AxesSubplot: >"
      ]
     },
     "execution_count": 232,
     "metadata": {},
     "output_type": "execute_result"
    },
    {
     "data": {
      "text/plain": [
       "<AxesSubplot: >"
      ]
     },
     "execution_count": 232,
     "metadata": {},
     "output_type": "execute_result"
    },
    {
     "data": {
      "image/png": "[encoded data removed]",
      "text/plain": [
       "<Figure size 864x576 with 1 Axes>"
      ]
     },
     "metadata": {
      "needs_background": "light"
     },
     "output_type": "display_data"
    }
   ],
   "source": [
    "# 파란색은 만든 횟수\n",
    "# 초록색은 본 횟수\n",
    "from sklearn.preprocessing import MinMaxScaler\n",
    "std = MinMaxScaler()\n",
    "pd.Series(std.fit_transform(year_item.seen_count[:70].reset_index())[:,1]).plot(kind='bar',color='green', figsize=(12,8), alpha=0.5)\n",
    "pd.Series(std.fit_transform(year_item.movie_count[:70].reset_index())[:,1]).plot(kind='bar', figsize=(12,8), alpha=0.5)"
   ]
  },
  {
   "cell_type": "code",
   "execution_count": 233,
   "id": "8b6457e8",
   "metadata": {
    "ExecuteTime": {
     "end_time": "2022-12-20T06:09:11.473182Z",
     "start_time": "2022-12-20T06:09:11.256549Z"
    }
   },
   "outputs": [
    {
     "data": {
      "text/plain": [
       "<AxesSubplot: >"
      ]
     },
     "execution_count": 233,
     "metadata": {},
     "output_type": "execute_result"
    },
    {
     "data": {
      "image/png": "[encoded data removed]",
      "text/plain": [
       "<Figure size 720x576 with 1 Axes>"
      ]
     },
     "metadata": {
      "needs_background": "light"
     },
     "output_type": "display_data"
    }
   ],
   "source": [
    "# 상위 10개 년도, 영화들 만든 횟수\n",
    "year_data.groupby('year').item.count().sort_values()[::-1][10:].hist(bins=15, figsize=(10,8))"
   ]
  },
  {
   "cell_type": "code",
   "execution_count": 234,
   "id": "b7f222bd",
   "metadata": {
    "ExecuteTime": {
     "end_time": "2022-12-20T06:09:18.702715Z",
     "start_time": "2022-12-20T06:09:18.334104Z"
    }
   },
   "outputs": [
    {
     "data": {
      "text/plain": [
       "<AxesSubplot: >"
      ]
     },
     "execution_count": 234,
     "metadata": {},
     "output_type": "execute_result"
    },
    {
     "data": {
      "image/png": "[encoded data removed]",
      "text/plain": [
       "<Figure size 720x576 with 1 Axes>"
      ]
     },
     "metadata": {
      "needs_background": "light"
     },
     "output_type": "display_data"
    }
   ],
   "source": [
    "# 관객들이 많이 본 상위 70개 년도들의 seen count\n",
    "year_df.year.value_counts()[:70].hist(bins=100, figsize=(10,8))"
   ]
  },
  {
   "cell_type": "code",
   "execution_count": 235,
   "id": "0eaa339e",
   "metadata": {
    "ExecuteTime": {
     "end_time": "2022-12-20T06:09:23.551623Z",
     "start_time": "2022-12-20T06:09:23.176149Z"
    }
   },
   "outputs": [
    {
     "data": {
      "text/plain": [
       "<AxesSubplot: >"
      ]
     },
     "execution_count": 235,
     "metadata": {},
     "output_type": "execute_result"
    },
    {
     "data": {
      "image/png": "[encoded data removed]",
      "text/plain": [
       "<Figure size 720x576 with 1 Axes>"
      ]
     },
     "metadata": {
      "needs_background": "light"
     },
     "output_type": "display_data"
    }
   ],
   "source": [
    "# 그 외 년도들의 seen count\n",
    "year_df.year.value_counts()[70:].hist(bins=100, figsize=(10,8))"
   ]
  },
  {
   "cell_type": "markdown",
   "id": "9fd53230",
   "metadata": {},
   "source": [
    "## 장르별 영화 개수, 관객수 시각화"
   ]
  },
  {
   "cell_type": "code",
   "execution_count": 240,
   "id": "08dd90fc",
   "metadata": {
    "ExecuteTime": {
     "end_time": "2022-12-20T06:11:18.954715Z",
     "start_time": "2022-12-20T06:11:08.151413Z"
    }
   },
   "outputs": [
    {
     "data": {
      "text/plain": [
       "genre\n",
       "Drama          3490\n",
       "Comedy         2408\n",
       "Thriller       1466\n",
       "Romance        1251\n",
       "Action         1246\n",
       "Crime           924\n",
       "Adventure       891\n",
       "Sci-Fi          653\n",
       "Horror          602\n",
       "Fantasy         557\n",
       "Mystery         471\n",
       "Children        432\n",
       "Animation       355\n",
       "War             346\n",
       "Documentary     323\n",
       "Musical         282\n",
       "Western         139\n",
       "Film-Noir        97\n",
       "Name: item, dtype: int64"
      ]
     },
     "execution_count": 240,
     "metadata": {},
     "output_type": "execute_result"
    },
    {
     "data": {
      "text/plain": [
       "<AxesSubplot: ylabel='Density'>"
      ]
     },
     "execution_count": 240,
     "metadata": {},
     "output_type": "execute_result"
    },
    {
     "data": {
      "text/plain": [
       "genre\n",
       "Drama        3490\n",
       "Comedy       2408\n",
       "Thriller     1466\n",
       "Romance      1251\n",
       "Action       1246\n",
       "Crime         924\n",
       "Adventure     891\n",
       "Sci-Fi        653\n",
       "Horror        602\n",
       "Fantasy       557\n",
       "Name: item, dtype: int64"
      ]
     },
     "execution_count": 240,
     "metadata": {},
     "output_type": "execute_result"
    },
    {
     "name": "stdout",
     "output_type": "stream",
     "text": [
      "Drama      장르 - 3490개 영화 - 관객수: 2,511,407\n",
      "Comedy     장르 - 2408개 영화 - 관객수: 1,719,017\n",
      "Thriller   장르 - 1466개 영화 - 관객수: 1,435,678\n",
      "Romance    장르 - 1251개 영화 - 관객수: 893,843\n",
      "Action     장르 - 1246개 영화 - 관객수: 1,504,902\n",
      "Crime      장르 - 924개 영화 - 관객수: 1,014,480\n",
      "Adventure  장르 - 891개 영화 - 관객수: 1,203,283\n",
      "Sci-Fi     장르 - 653개 영화 - 관객수: 857,851\n",
      "Horror     장르 - 602개 영화 - 관객수: 343,730\n",
      "Fantasy    장르 - 557개 영화 - 관객수: 617,807\n"
     ]
    },
    {
     "data": {
      "image/png": "[encoded data removed]",
      "text/plain": [
       "<Figure size 720x576 with 1 Axes>"
      ]
     },
     "metadata": {
      "needs_background": "light"
     },
     "output_type": "display_data"
    }
   ],
   "source": [
    "genre_data.groupby('genre').item.count().sort_values()[::-1]\n",
    "\n",
    "# 장르들이 영화 만든 것들의 분포 (0개 ~ 40개)\n",
    "genre_data.groupby('genre').item.count().sort_values()[::-1].plot(kind='kde', figsize=(10,8))\n",
    "\n",
    "# 상위 10명이 만든 영화 개수\n",
    "top_genres = genre_data.groupby('genre').item.count().sort_values()[::-1][:10]\n",
    "top_genres\n",
    "\n",
    "for genre, nmovie in top_genres.iteritems():\n",
    "    print(f\"{genre:<10} 장르 - {nmovie}개 영화 - 관객수: {genre_df[genre_df.genre == genre].shape[0]:,}\")"
   ]
  },
  {
   "cell_type": "code",
   "execution_count": 241,
   "id": "7e1c68c4",
   "metadata": {
    "ExecuteTime": {
     "end_time": "2022-12-20T06:11:31.626881Z",
     "start_time": "2022-12-20T06:11:30.407113Z"
    }
   },
   "outputs": [
    {
     "data": {
      "text/html": [
       "<div>\n",
       "<style scoped>\n",
       "    .dataframe tbody tr th:only-of-type {\n",
       "        vertical-align: middle;\n",
       "    }\n",
       "\n",
       "    .dataframe tbody tr th {\n",
       "        vertical-align: top;\n",
       "    }\n",
       "\n",
       "    .dataframe thead th {\n",
       "        text-align: right;\n",
       "    }\n",
       "</style>\n",
       "<table border=\"1\" class=\"dataframe\">\n",
       "  <thead>\n",
       "    <tr style=\"text-align: right;\">\n",
       "      <th></th>\n",
       "      <th>genre</th>\n",
       "      <th>seen_count</th>\n",
       "      <th>movie_count</th>\n",
       "    </tr>\n",
       "  </thead>\n",
       "  <tbody>\n",
       "    <tr>\n",
       "      <th>0</th>\n",
       "      <td>Drama</td>\n",
       "      <td>2511407</td>\n",
       "      <td>3490</td>\n",
       "    </tr>\n",
       "    <tr>\n",
       "      <th>1</th>\n",
       "      <td>Comedy</td>\n",
       "      <td>1719017</td>\n",
       "      <td>2408</td>\n",
       "    </tr>\n",
       "    <tr>\n",
       "      <th>2</th>\n",
       "      <td>Action</td>\n",
       "      <td>1504902</td>\n",
       "      <td>1246</td>\n",
       "    </tr>\n",
       "    <tr>\n",
       "      <th>3</th>\n",
       "      <td>Thriller</td>\n",
       "      <td>1435678</td>\n",
       "      <td>1466</td>\n",
       "    </tr>\n",
       "    <tr>\n",
       "      <th>4</th>\n",
       "      <td>Adventure</td>\n",
       "      <td>1203283</td>\n",
       "      <td>891</td>\n",
       "    </tr>\n",
       "    <tr>\n",
       "      <th>5</th>\n",
       "      <td>Crime</td>\n",
       "      <td>1014480</td>\n",
       "      <td>924</td>\n",
       "    </tr>\n",
       "    <tr>\n",
       "      <th>6</th>\n",
       "      <td>Romance</td>\n",
       "      <td>893843</td>\n",
       "      <td>1251</td>\n",
       "    </tr>\n",
       "    <tr>\n",
       "      <th>7</th>\n",
       "      <td>Sci-Fi</td>\n",
       "      <td>857851</td>\n",
       "      <td>653</td>\n",
       "    </tr>\n",
       "    <tr>\n",
       "      <th>8</th>\n",
       "      <td>Fantasy</td>\n",
       "      <td>617807</td>\n",
       "      <td>557</td>\n",
       "    </tr>\n",
       "    <tr>\n",
       "      <th>9</th>\n",
       "      <td>Mystery</td>\n",
       "      <td>493005</td>\n",
       "      <td>471</td>\n",
       "    </tr>\n",
       "  </tbody>\n",
       "</table>\n",
       "</div>"
      ],
      "text/plain": [
       "       genre  seen_count  movie_count\n",
       "0      Drama     2511407         3490\n",
       "1     Comedy     1719017         2408\n",
       "2     Action     1504902         1246\n",
       "3   Thriller     1435678         1466\n",
       "4  Adventure     1203283          891\n",
       "5      Crime     1014480          924\n",
       "6    Romance      893843         1251\n",
       "7     Sci-Fi      857851          653\n",
       "8    Fantasy      617807          557\n",
       "9    Mystery      493005          471"
      ]
     },
     "execution_count": 241,
     "metadata": {},
     "output_type": "execute_result"
    },
    {
     "data": {
      "text/html": [
       "<div>\n",
       "<style scoped>\n",
       "    .dataframe tbody tr th:only-of-type {\n",
       "        vertical-align: middle;\n",
       "    }\n",
       "\n",
       "    .dataframe tbody tr th {\n",
       "        vertical-align: top;\n",
       "    }\n",
       "\n",
       "    .dataframe thead th {\n",
       "        text-align: right;\n",
       "    }\n",
       "</style>\n",
       "<table border=\"1\" class=\"dataframe\">\n",
       "  <thead>\n",
       "    <tr style=\"text-align: right;\">\n",
       "      <th></th>\n",
       "      <th>index</th>\n",
       "      <th>seen_count</th>\n",
       "    </tr>\n",
       "  </thead>\n",
       "  <tbody>\n",
       "    <tr>\n",
       "      <th>0</th>\n",
       "      <td>0</td>\n",
       "      <td>2511407</td>\n",
       "    </tr>\n",
       "    <tr>\n",
       "      <th>1</th>\n",
       "      <td>1</td>\n",
       "      <td>1719017</td>\n",
       "    </tr>\n",
       "  </tbody>\n",
       "</table>\n",
       "</div>"
      ],
      "text/plain": [
       "   index  seen_count\n",
       "0      0     2511407\n",
       "1      1     1719017"
      ]
     },
     "execution_count": 241,
     "metadata": {},
     "output_type": "execute_result"
    },
    {
     "data": {
      "text/plain": [
       "array([[0.        , 1.        ],\n",
       "       [0.05882353, 0.6753837 ]])"
      ]
     },
     "execution_count": 241,
     "metadata": {},
     "output_type": "execute_result"
    }
   ],
   "source": [
    "genre_movie_count = dict(genre_data.groupby('genre').item.count())\n",
    "genre_item = genre_df.groupby('genre').item.count().sort_values()[::-1].reset_index()\n",
    "genre_item['movie_count'] = genre_item.genre.map(genre_movie_count)\n",
    "genre_item.columns = ['genre', 'seen_count', 'movie_count']\n",
    "\n",
    "genre_item[:10]\n",
    "\n",
    "genre_item.seen_count[:70].reset_index()[:2]\n",
    "\n",
    "std.fit_transform(genre_item.seen_count[:70].reset_index())[:2]"
   ]
  },
  {
   "cell_type": "code",
   "execution_count": 242,
   "id": "c12a95ae",
   "metadata": {
    "ExecuteTime": {
     "end_time": "2022-12-20T06:11:32.141711Z",
     "start_time": "2022-12-20T06:11:31.834149Z"
    }
   },
   "outputs": [
    {
     "data": {
      "text/plain": [
       "<AxesSubplot: >"
      ]
     },
     "execution_count": 242,
     "metadata": {},
     "output_type": "execute_result"
    },
    {
     "data": {
      "text/plain": [
       "<AxesSubplot: >"
      ]
     },
     "execution_count": 242,
     "metadata": {},
     "output_type": "execute_result"
    },
    {
     "data": {
      "image/png": "[encoded data removed]",
      "text/plain": [
       "<Figure size 864x576 with 1 Axes>"
      ]
     },
     "metadata": {
      "needs_background": "light"
     },
     "output_type": "display_data"
    }
   ],
   "source": [
    "# 파란색은 만든 횟수\n",
    "# 초록색은 본 횟수\n",
    "from sklearn.preprocessing import MinMaxScaler\n",
    "std = MinMaxScaler()\n",
    "pd.Series(std.fit_transform(genre_item.seen_count[:70].reset_index())[:,1]).plot(kind='bar',color='green', figsize=(12,8), alpha=0.5)\n",
    "pd.Series(std.fit_transform(genre_item.movie_count[:70].reset_index())[:,1]).plot(kind='bar', figsize=(12,8), alpha=0.5)"
   ]
  },
  {
   "cell_type": "code",
   "execution_count": 243,
   "id": "1b35b42c",
   "metadata": {
    "ExecuteTime": {
     "end_time": "2022-12-20T06:11:38.252086Z",
     "start_time": "2022-12-20T06:11:38.025288Z"
    }
   },
   "outputs": [
    {
     "data": {
      "text/plain": [
       "<AxesSubplot: >"
      ]
     },
     "execution_count": 243,
     "metadata": {},
     "output_type": "execute_result"
    },
    {
     "data": {
      "image/png": "[encoded data removed]",
      "text/plain": [
       "<Figure size 720x576 with 1 Axes>"
      ]
     },
     "metadata": {
      "needs_background": "light"
     },
     "output_type": "display_data"
    }
   ],
   "source": [
    "# 장르별, 영화 개수\n",
    "genre_data.groupby('genre').item.count().sort_values()[::-1][10:].hist(bins=15, figsize=(10,8))"
   ]
  },
  {
   "cell_type": "code",
   "execution_count": 249,
   "id": "ad3edd07",
   "metadata": {
    "ExecuteTime": {
     "end_time": "2022-12-20T06:13:31.932543Z",
     "start_time": "2022-12-20T06:13:31.325605Z"
    }
   },
   "outputs": [
    {
     "data": {
      "text/plain": [
       "Drama          2511407\n",
       "Comedy         1719017\n",
       "Action         1504902\n",
       "Thriller       1435678\n",
       "Adventure      1203283\n",
       "Crime          1014480\n",
       "Romance         893843\n",
       "Sci-Fi          857851\n",
       "Fantasy         617807\n",
       "Mystery         493005\n",
       "Children        397929\n",
       "Animation       370761\n",
       "Horror          343730\n",
       "War             307170\n",
       "Musical         199635\n",
       "Western          95374\n",
       "Documentary      90050\n",
       "Film-Noir        70402\n",
       "Name: genre, dtype: int64"
      ]
     },
     "execution_count": 249,
     "metadata": {},
     "output_type": "execute_result"
    }
   ],
   "source": [
    "# 장르별 seen count\n",
    "genre_df.genre.value_counts()"
   ]
  },
  {
   "cell_type": "code",
   "execution_count": 248,
   "id": "fc2b3bed",
   "metadata": {
    "ExecuteTime": {
     "end_time": "2022-12-20T06:13:23.024829Z",
     "start_time": "2022-12-20T06:13:22.194249Z"
    }
   },
   "outputs": [
    {
     "data": {
      "text/plain": [
       "<AxesSubplot: >"
      ]
     },
     "execution_count": 248,
     "metadata": {},
     "output_type": "execute_result"
    },
    {
     "data": {
      "image/png": "[encoded data removed]",
      "text/plain": [
       "<Figure size 720x576 with 1 Axes>"
      ]
     },
     "metadata": {
      "needs_background": "light"
     },
     "output_type": "display_data"
    }
   ],
   "source": [
    "genre_df.genre.value_counts().hist(bins=18, figsize=(10,8))"
   ]
  },
  {
   "cell_type": "markdown",
   "id": "353d18e4",
   "metadata": {},
   "source": [
    "## 영화별"
   ]
  },
  {
   "cell_type": "code",
   "execution_count": 257,
   "id": "d375dcf1",
   "metadata": {
    "ExecuteTime": {
     "end_time": "2022-12-20T06:15:53.211518Z",
     "start_time": "2022-12-20T06:15:52.638806Z"
    }
   },
   "outputs": [
    {
     "data": {
      "text/plain": [
       "<AxesSubplot: >"
      ]
     },
     "execution_count": 257,
     "metadata": {},
     "output_type": "execute_result"
    },
    {
     "data": {
      "image/png": "[encoded data removed]",
      "text/plain": [
       "<Figure size 720x576 with 1 Axes>"
      ]
     },
     "metadata": {
      "needs_background": "light"
     },
     "output_type": "display_data"
    }
   ],
   "source": [
    "# 관객들이 많이 본 상위 700개 영화들의 seen count\n",
    "title_df.title.value_counts()[:700].hist(bins=100, figsize=(10,8))"
   ]
  },
  {
   "cell_type": "code",
   "execution_count": 258,
   "id": "8efaaf98",
   "metadata": {
    "ExecuteTime": {
     "end_time": "2022-12-20T06:16:04.443307Z",
     "start_time": "2022-12-20T06:16:03.880126Z"
    }
   },
   "outputs": [
    {
     "data": {
      "text/plain": [
       "<AxesSubplot: >"
      ]
     },
     "execution_count": 258,
     "metadata": {},
     "output_type": "execute_result"
    },
    {
     "data": {
      "image/png": "[encoded data removed]",
      "text/plain": [
       "<Figure size 720x576 with 1 Axes>"
      ]
     },
     "metadata": {
      "needs_background": "light"
     },
     "output_type": "display_data"
    }
   ],
   "source": [
    "# 그 외 영화들의 seen count\n",
    "title_df.title.value_counts()[700:].hist(bins=100, figsize=(10,8))"
   ]
  },
  {
   "cell_type": "markdown",
   "id": "0AtyZxnjJDyJ",
   "metadata": {
    "id": "0AtyZxnjJDyJ"
   },
   "source": [
    "### **콘텐츠 라이선스**\n",
    "\n",
    "<font color='red'><b>**WARNING**</b></font> : **본 교육 콘텐츠의 지식재산권은 재단법인 네이버커넥트에 귀속됩니다. 본 콘텐츠를 어떠한 경로로든 외부로 유출 및 수정하는 행위를 엄격히 금합니다.** 다만, 비영리적 교육 및 연구활동에 한정되어 사용할 수 있으나 재단의 허락을 받아야 합니다. 이를 위반하는 경우, 관련 법률에 따라 책임을 질 수 있습니다.\n",
    "\n"
   ]
  }
 ],
 "metadata": {
  "colab": {
   "provenance": []
  },
  "kernelspec": {
   "display_name": "Python 3 (ipykernel)",
   "language": "python",
   "name": "python3"
  },
  "language_info": {
   "codemirror_mode": {
    "name": "ipython",
    "version": 3
   },
   "file_extension": ".py",
   "mimetype": "text/x-python",
   "name": "python",
   "nbconvert_exporter": "python",
   "pygments_lexer": "ipython3",
   "version": "3.8.5"
  },
  "toc": {
   "base_numbering": 1,
   "nav_menu": {},
   "number_sections": false,
   "sideBar": true,
   "skip_h1_title": false,
   "title_cell": "Table of Contents",
   "title_sidebar": "Contents",
   "toc_cell": true,
   "toc_position": {
    "height": "calc(100% - 180px)",
    "left": "10px",
    "top": "150px",
    "width": "249.391px"
   },
   "toc_section_display": true,
   "toc_window_display": true
  }
 },
 "nbformat": 4,
 "nbformat_minor": 5
}

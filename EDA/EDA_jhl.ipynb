{
 "cells": [
  {
   "cell_type": "markdown",
   "id": "7434f7af",
   "metadata": {
    "toc": true
   },
   "source": [
    "<h1>Table of Contents<span class=\"tocSkip\"></span></h1>\n",
    "<div class=\"toc\"><ul class=\"toc-item\"><li><span><a href=\"#Movie-Recommendation---Mission-1\" data-toc-modified-id=\"Movie-Recommendation---Mission-1-1\">Movie Recommendation - Mission 1</a></span><ul class=\"toc-item\"><li><ul class=\"toc-item\"><li><span><a href=\"#Movielense-Dataset-EDA\" data-toc-modified-id=\"Movielense-Dataset-EDA-1.0.1\">Movielense Dataset EDA</a></span></li></ul></li><li><span><a href=\"#대회-데이터셋-구성\" data-toc-modified-id=\"대회-데이터셋-구성-1.1\">대회 데이터셋 구성</a></span><ul class=\"toc-item\"><li><span><a href=\"#data\" data-toc-modified-id=\"data-1.1.1\">data</a></span></li></ul></li><li><span><a href=\"#train/test-데이터셋-알아보기\" data-toc-modified-id=\"train/test-데이터셋-알아보기-1.2\">train/test 데이터셋 알아보기</a></span></li><li><span><a href=\"#데이터-다운로드\" data-toc-modified-id=\"데이터-다운로드-1.3\">데이터 다운로드</a></span></li><li><span><a href=\"#Side-Information(year,-writer,-title,-genre,-director)-알아보기\" data-toc-modified-id=\"Side-Information(year,-writer,-title,-genre,-director)-알아보기-1.4\">Side Information(year, writer, title, genre, director) 알아보기</a></span></li><li><span><a href=\"#데이터-시각화-해보기\" data-toc-modified-id=\"데이터-시각화-해보기-1.5\">데이터 시각화 해보기</a></span></li><li><span><a href=\"#마치며\" data-toc-modified-id=\"마치며-1.6\">마치며</a></span></li></ul></li></ul></div>"
   ]
  },
  {
   "cell_type": "markdown",
   "id": "45053aa1",
   "metadata": {
    "id": "45053aa1"
   },
   "source": [
    "# Movie Recommendation - Mission 1\n",
    "\n",
    "### Movielense Dataset EDA\n",
    "\n",
    "\n",
    "EDA(Exploratory Data Analysis)는 데이터셋을 다양한 각도에서 관찰하고 인사이트를 얻을 수 있는 중요한 데이터 분석 과정입니다. 이를 잘 수행하여 데이터의 특징과 분포에 대해 깊은 이해도를 가진다면, 모델의 성능에도 큰 영향을 끼칠 수 있습니다.\n",
    "\n",
    "본 미션에서는 Movie Recommendation 대회\b를 위해 제공되는 [movielens](https://grouplens.org/datasets/movielens/) 를 재구성한 대회 데이터셋에 대한 EDA를 진행하고, 학습 데이터에 더불어 영화의 side-information 데이터에 대해 이해하는 시간을 가져보겠습니다!"
   ]
  },
  {
   "cell_type": "markdown",
   "id": "b28aa9ba",
   "metadata": {
    "id": "b28aa9ba"
   },
   "source": [
    "## 대회 데이터셋 구성\n",
    "먼저 데이터셋의 구성을 살펴봅니다.\n",
    "\n",
    "### data\n",
    "    ├── directors.tsv\n",
    "    ├── genres.tsv\n",
    "    ├── titles.tsv\n",
    "    ├── train_ratings.csv\n",
    "    ├── writers.tsv\n",
    "    └── years.tsv\n",
    "    \n",
    "1. *train_ratings.csv* : 전체 훈련 데이터.\n",
    "2. *directors.tsv*, *genres.tsv*, *writers.tsv*, *years.tsv*, *titles.tsv* : 영화의 side-information 데이터."
   ]
  },
  {
   "cell_type": "markdown",
   "id": "5ded44aa",
   "metadata": {
    "id": "5ded44aa"
   },
   "source": [
    "## train/test 데이터셋 알아보기"
   ]
  },
  {
   "cell_type": "markdown",
   "id": "1ae0ba40",
   "metadata": {
    "id": "1ae0ba40"
   },
   "source": [
    "Pandas를 이용하여 train 데이터를 로드하고 데이터 구성을 알아봅니다. 이어지는 코드를 실행하면 데이터셋의 간략한 정보와 샘플을 확인할 수 있습니다.\n",
    "\n",
    "train 데이터셋은 *user, item, time* 세개의 column으로 구성된 반면, test 데이터셋은 *user* column과 비어있는 *item* column으로 구성되어 있음을 참고해 주세요. 대회 진행시, 각각의 사용자에게 10개의 영화를 추천하게 됩니다.\n",
    "\n",
    "각 column은 다음을 나타냅니다.\n",
    "- *user*: 사용자 id.\n",
    "- *item*: 영화 id.\n",
    "- *time*: 사용자가 해당 영화와 interact한 시간. (UNIX시간의 초 단위)\n",
    "\n",
    "영화 id는 *directors.tsv, genres.tsv, writers.tsv, years.tsv, titles.tsv*에서도 일관적으로 사용됩니다. 즉, 동일한 영화 id는 side information 데이터셋에서 동일한 영화를 나타냅니다.\n",
    "\n",
    "이어지는 cell들을 실행해서 직접 관찰해보세요!"
   ]
  },
  {
   "cell_type": "markdown",
   "id": "HBz2c1NDjzNx",
   "metadata": {
    "id": "HBz2c1NDjzNx"
   },
   "source": [
    "## 데이터 다운로드\n",
    "이곳에 대회 사이트(AI Stages)에 있는 data의 URL을 입력해주세요. \n",
    "- 데이터 URL은 변경될 수 있습니다.\n",
    "- 예) `!wget https://aistages-prod-server-public.s3.amazonaws.com/app/Competitions/000176/data/data.tar.gz`"
   ]
  },
  {
   "cell_type": "code",
   "execution_count": 1,
   "id": "063a71d8",
   "metadata": {
    "ExecuteTime": {
     "end_time": "2022-12-12T06:42:35.461575Z",
     "start_time": "2022-12-12T06:42:34.016776Z"
    },
    "id": "063a71d8"
   },
   "outputs": [],
   "source": [
    "import pandas as pd\n",
    "import numpy as np\n",
    "import os"
   ]
  },
  {
   "cell_type": "code",
   "execution_count": 2,
   "id": "2395a275",
   "metadata": {
    "ExecuteTime": {
     "end_time": "2022-12-12T06:42:35.990020Z",
     "start_time": "2022-12-12T06:42:35.462511Z"
    },
    "id": "2395a275"
   },
   "outputs": [],
   "source": [
    "data_path = '../../data/train'\n",
    "train_df = pd.read_csv(os.path.join(data_path, 'train_ratings.csv')) # 전체 학습 데이터"
   ]
  },
  {
   "cell_type": "code",
   "execution_count": 3,
   "id": "d82cb038",
   "metadata": {
    "ExecuteTime": {
     "end_time": "2022-12-12T06:45:26.958769Z",
     "start_time": "2022-12-12T06:45:26.934783Z"
    },
    "id": "d82cb038"
   },
   "outputs": [
    {
     "name": "stdout",
     "output_type": "stream",
     "text": [
      "<class 'pandas.core.frame.DataFrame'>\n",
      "RangeIndex: 5154471 entries, 0 to 5154470\n",
      "Data columns (total 3 columns):\n",
      " #   Column  Dtype\n",
      "---  ------  -----\n",
      " 0   user    int64\n",
      " 1   item    int64\n",
      " 2   time    int64\n",
      "dtypes: int64(3)\n",
      "memory usage: 118.0 MB\n"
     ]
    },
    {
     "data": {
      "text/html": [
       "<div>\n",
       "<style scoped>\n",
       "    .dataframe tbody tr th:only-of-type {\n",
       "        vertical-align: middle;\n",
       "    }\n",
       "\n",
       "    .dataframe tbody tr th {\n",
       "        vertical-align: top;\n",
       "    }\n",
       "\n",
       "    .dataframe thead th {\n",
       "        text-align: right;\n",
       "    }\n",
       "</style>\n",
       "<table border=\"1\" class=\"dataframe\">\n",
       "  <thead>\n",
       "    <tr style=\"text-align: right;\">\n",
       "      <th></th>\n",
       "      <th>user</th>\n",
       "      <th>item</th>\n",
       "      <th>time</th>\n",
       "    </tr>\n",
       "  </thead>\n",
       "  <tbody>\n",
       "    <tr>\n",
       "      <th>0</th>\n",
       "      <td>11</td>\n",
       "      <td>4643</td>\n",
       "      <td>1230782529</td>\n",
       "    </tr>\n",
       "    <tr>\n",
       "      <th>1</th>\n",
       "      <td>11</td>\n",
       "      <td>170</td>\n",
       "      <td>1230782534</td>\n",
       "    </tr>\n",
       "    <tr>\n",
       "      <th>2</th>\n",
       "      <td>11</td>\n",
       "      <td>531</td>\n",
       "      <td>1230782539</td>\n",
       "    </tr>\n",
       "    <tr>\n",
       "      <th>3</th>\n",
       "      <td>11</td>\n",
       "      <td>616</td>\n",
       "      <td>1230782542</td>\n",
       "    </tr>\n",
       "    <tr>\n",
       "      <th>4</th>\n",
       "      <td>11</td>\n",
       "      <td>2140</td>\n",
       "      <td>1230782563</td>\n",
       "    </tr>\n",
       "  </tbody>\n",
       "</table>\n",
       "</div>"
      ],
      "text/plain": [
       "   user  item        time\n",
       "0    11  4643  1230782529\n",
       "1    11   170  1230782534\n",
       "2    11   531  1230782539\n",
       "3    11   616  1230782542\n",
       "4    11  2140  1230782563"
      ]
     },
     "execution_count": 3,
     "metadata": {},
     "output_type": "execute_result"
    }
   ],
   "source": [
    "train_df.info()\n",
    "train_df.head(5)"
   ]
  },
  {
   "cell_type": "code",
   "execution_count": 4,
   "id": "ade4818e",
   "metadata": {
    "ExecuteTime": {
     "end_time": "2022-12-12T06:46:52.370431Z",
     "start_time": "2022-12-12T06:46:52.321414Z"
    },
    "id": "ade4818e"
   },
   "outputs": [
    {
     "name": "stdout",
     "output_type": "stream",
     "text": [
      "Number of unique train users:  31360\n",
      "Number of unique train items:  6807\n"
     ]
    }
   ],
   "source": [
    "num_train_users = train_df['user'].nunique()\n",
    "num_train_items = train_df['item'].nunique()\n",
    "\n",
    "print (\"Number of unique train users: \", num_train_users)\n",
    "print (\"Number of unique train items: \", num_train_items)"
   ]
  },
  {
   "cell_type": "code",
   "execution_count": 5,
   "id": "e70feca4",
   "metadata": {
    "ExecuteTime": {
     "end_time": "2022-12-12T06:47:04.448426Z",
     "start_time": "2022-12-12T06:47:04.443630Z"
    },
    "id": "e70feca4"
   },
   "outputs": [
    {
     "name": "stdout",
     "output_type": "stream",
     "text": [
      "Data sparsity ratio:  0.9758536052697853\n"
     ]
    }
   ],
   "source": [
    "print(\"Data sparsity ratio: \", 1 - len(train_df) / (num_train_users * num_train_items))"
   ]
  },
  {
   "cell_type": "markdown",
   "id": "0c59f9d8",
   "metadata": {
    "id": "0c59f9d8"
   },
   "source": [
    "데이터의 sparsity ratio는 약 97.6%로 일반적인 추천 시스템 데이터셋에 비해 굉장히 dense한 (행렬 상 이력의 많은 부분이 채워져 있는) 데이터임을 알 수 있습니다."
   ]
  },
  {
   "attachments": {},
   "cell_type": "markdown",
   "id": "50a4fb6c",
   "metadata": {},
   "source": [
    "## user와 item 탐구"
   ]
  },
  {
   "attachments": {},
   "cell_type": "markdown",
   "id": "9042eb3d",
   "metadata": {},
   "source": [
    "### user"
   ]
  },
  {
   "cell_type": "code",
   "execution_count": 6,
   "id": "14a01477",
   "metadata": {},
   "outputs": [
    {
     "name": "stdout",
     "output_type": "stream",
     "text": [
      "len(user) : 31360\n",
      "max(user) : 138493\n"
     ]
    }
   ],
   "source": [
    "print(\"len(user) :\", train_df['user'].nunique())\n",
    "print(\"max(user) :\", max(train_df['user']))"
   ]
  },
  {
   "cell_type": "code",
   "execution_count": 7,
   "id": "f6d3a1b2",
   "metadata": {},
   "outputs": [
    {
     "data": {
      "text/plain": [
       "8405      2912\n",
       "54465     1980\n",
       "24219     1842\n",
       "32514     1830\n",
       "91349     1795\n",
       "          ... \n",
       "11211       32\n",
       "128756      28\n",
       "105578      22\n",
       "68606       19\n",
       "53188       16\n",
       "Name: user, Length: 31360, dtype: int64"
      ]
     },
     "execution_count": 7,
     "metadata": {},
     "output_type": "execute_result"
    }
   ],
   "source": [
    "train_df['user'].value_counts()"
   ]
  },
  {
   "cell_type": "code",
   "execution_count": 8,
   "id": "4f9c29be",
   "metadata": {},
   "outputs": [
    {
     "name": "stderr",
     "output_type": "stream",
     "text": [
      "/tmp/ipykernel_10960/2010132485.py:1: FutureWarning: The behavior of `series[i:j]` with an integer-dtype index is deprecated. In a future version, this will be treated as *label-based* indexing, consistent with e.g. `series[i]` lookups. To retain the old behavior, use `series.iloc[i:j]`. To get the future behavior, use `series.loc[i:j]`.\n",
      "  train_df['user'].value_counts()[100:].hist(bins=100)\n"
     ]
    },
    {
     "data": {
      "text/plain": [
       "<AxesSubplot: >"
      ]
     },
     "execution_count": 8,
     "metadata": {},
     "output_type": "execute_result"
    },
    {
     "data": {
      "image/png": "[encoded data removed]",
      "text/plain": [
       "<Figure size 640x480 with 1 Axes>"
      ]
     },
     "metadata": {},
     "output_type": "display_data"
    }
   ],
   "source": [
    "train_df['user'].value_counts()[100:].hist(bins=100)"
   ]
  },
  {
   "attachments": {},
   "cell_type": "markdown",
   "id": "f1c6a9a3",
   "metadata": {},
   "source": [
    "### item"
   ]
  },
  {
   "cell_type": "code",
   "execution_count": 9,
   "id": "250196fd",
   "metadata": {},
   "outputs": [
    {
     "name": "stdout",
     "output_type": "stream",
     "text": [
      "len(item) : 6807\n",
      "max(item) : 119145\n"
     ]
    }
   ],
   "source": [
    "print(\"len(item) :\", train_df['item'].nunique())\n",
    "print(\"max(item) :\", max(train_df['item']))"
   ]
  },
  {
   "cell_type": "code",
   "execution_count": 10,
   "id": "fcd9e209",
   "metadata": {},
   "outputs": [
    {
     "data": {
      "text/plain": [
       "2571     19699\n",
       "2959     18437\n",
       "296      18202\n",
       "318      18168\n",
       "356      17339\n",
       "         ...  \n",
       "7259        38\n",
       "126         36\n",
       "4241        34\n",
       "2555        34\n",
       "51372       27\n",
       "Name: item, Length: 6807, dtype: int64"
      ]
     },
     "execution_count": 10,
     "metadata": {},
     "output_type": "execute_result"
    }
   ],
   "source": [
    "train_df['item'].value_counts()"
   ]
  },
  {
   "cell_type": "code",
   "execution_count": 11,
   "id": "65669603",
   "metadata": {},
   "outputs": [
    {
     "name": "stderr",
     "output_type": "stream",
     "text": [
      "/tmp/ipykernel_10960/2195794959.py:1: FutureWarning: The behavior of `series[i:j]` with an integer-dtype index is deprecated. In a future version, this will be treated as *label-based* indexing, consistent with e.g. `series[i]` lookups. To retain the old behavior, use `series.iloc[i:j]`. To get the future behavior, use `series.loc[i:j]`.\n",
      "  train_df['item'].value_counts()[100:].hist(bins=100)\n"
     ]
    },
    {
     "data": {
      "text/plain": [
       "<AxesSubplot: >"
      ]
     },
     "execution_count": 11,
     "metadata": {},
     "output_type": "execute_result"
    },
    {
     "data": {
      "image/png": "[encoded data removed]",
      "text/plain": [
       "<Figure size 640x480 with 1 Axes>"
      ]
     },
     "metadata": {},
     "output_type": "display_data"
    }
   ],
   "source": [
    "train_df['item'].value_counts()[100:].hist(bins=100)"
   ]
  },
  {
   "attachments": {},
   "cell_type": "markdown",
   "id": "8a883e28",
   "metadata": {},
   "source": [
    "## time 탐구"
   ]
  },
  {
   "cell_type": "code",
   "execution_count": 12,
   "id": "dd665df4",
   "metadata": {},
   "outputs": [
    {
     "data": {
      "text/plain": [
       "2008    679269\n",
       "2006    647240\n",
       "2007    589945\n",
       "2005    572894\n",
       "2009    517366\n",
       "2010    510385\n",
       "2011    427103\n",
       "2012    421942\n",
       "2013    338109\n",
       "2014    308281\n",
       "2015    141937\n",
       "Name: year, dtype: int64"
      ]
     },
     "execution_count": 12,
     "metadata": {},
     "output_type": "execute_result"
    }
   ],
   "source": [
    "import time\n",
    "from time import localtime\n",
    "\n",
    "time_df = pd.DataFrame()\n",
    "time_df['year'] = train_df['time'].apply(lambda x : localtime(x).tm_year)\n",
    "time_df['year'].value_counts()"
   ]
  },
  {
   "cell_type": "code",
   "execution_count": 13,
   "id": "56fbd9d2",
   "metadata": {},
   "outputs": [
    {
     "data": {
      "image/png": "[encoded data removed]",
      "text/plain": [
       "<Figure size 640x480 with 1 Axes>"
      ]
     },
     "metadata": {},
     "output_type": "display_data"
    }
   ],
   "source": [
    "import matplotlib.pyplot as plt\n",
    "plt.bar(time_df['year'].value_counts().index, time_df['year'].value_counts().values)\n",
    "plt.xticks(time_df['year'].unique())\n",
    "plt.show()"
   ]
  },
  {
   "cell_type": "code",
   "execution_count": 14,
   "id": "0cf89bfd",
   "metadata": {},
   "outputs": [
    {
     "data": {
      "text/plain": [
       "1     508889\n",
       "11    444009\n",
       "10    442310\n",
       "7     440935\n",
       "5     439160\n",
       "3     432249\n",
       "12    431259\n",
       "2     417357\n",
       "6     414722\n",
       "4     406257\n",
       "9     390955\n",
       "8     386369\n",
       "Name: month, dtype: int64"
      ]
     },
     "execution_count": 14,
     "metadata": {},
     "output_type": "execute_result"
    }
   ],
   "source": [
    "time_df['month'] = train_df['time'].apply(lambda x : localtime(x).tm_mon)\n",
    "time_df['month'].value_counts()"
   ]
  },
  {
   "cell_type": "code",
   "execution_count": 15,
   "id": "e0f1faea",
   "metadata": {},
   "outputs": [
    {
     "data": {
      "image/png": "[encoded data removed]",
      "text/plain": [
       "<Figure size 640x480 with 1 Axes>"
      ]
     },
     "metadata": {},
     "output_type": "display_data"
    }
   ],
   "source": [
    "import matplotlib.pyplot as plt\n",
    "plt.bar(time_df['month'].value_counts().index, time_df['month'].value_counts().values)\n",
    "plt.xticks(time_df['month'].unique())\n",
    "plt.show()"
   ]
  },
  {
   "cell_type": "code",
   "execution_count": 16,
   "id": "7204b0c8",
   "metadata": {},
   "outputs": [
    {
     "data": {
      "text/plain": [
       "29    190565\n",
       "28    188988\n",
       "7     176616\n",
       "21    175851\n",
       "20    175640\n",
       "8     175150\n",
       "4     174203\n",
       "6     173887\n",
       "17    172275\n",
       "23    171040\n",
       "18    168668\n",
       "27    168330\n",
       "3     168230\n",
       "10    168135\n",
       "26    167557\n",
       "16    167322\n",
       "11    166518\n",
       "9     166393\n",
       "15    166355\n",
       "22    164570\n",
       "24    164436\n",
       "25    164273\n",
       "5     164120\n",
       "19    161716\n",
       "13    161340\n",
       "14    160471\n",
       "2     160317\n",
       "12    159489\n",
       "30    158238\n",
       "1     157269\n",
       "31     96509\n",
       "Name: day, dtype: int64"
      ]
     },
     "execution_count": 16,
     "metadata": {},
     "output_type": "execute_result"
    }
   ],
   "source": [
    "time_df['day'] = train_df['time'].apply(lambda x : localtime(x).tm_mday)\n",
    "time_df['day'].value_counts()"
   ]
  },
  {
   "cell_type": "code",
   "execution_count": 17,
   "id": "070ef9e4",
   "metadata": {},
   "outputs": [
    {
     "data": {
      "image/png": "[encoded data removed]",
      "text/plain": [
       "<Figure size 800x600 with 1 Axes>"
      ]
     },
     "metadata": {},
     "output_type": "display_data"
    }
   ],
   "source": [
    "import matplotlib.pyplot as plt\n",
    "plt.figure(figsize=(8, 6))\n",
    "plt.bar(time_df['day'].value_counts().index, time_df['day'].value_counts().values)\n",
    "plt.xticks(time_df['day'].unique())\n",
    "plt.show()"
   ]
  },
  {
   "cell_type": "code",
   "execution_count": 18,
   "id": "d05b5cc8",
   "metadata": {},
   "outputs": [
    {
     "data": {
      "text/plain": [
       "21    314571\n",
       "20    311435\n",
       "19    300987\n",
       "22    292308\n",
       "23    272292\n",
       "18    272171\n",
       "0     260333\n",
       "2     248449\n",
       "1     247278\n",
       "17    247125\n",
       "3     245660\n",
       "16    225104\n",
       "15    208895\n",
       "4     194326\n",
       "14    184949\n",
       "5     181742\n",
       "6     163859\n",
       "13    163815\n",
       "12    149108\n",
       "7     142462\n",
       "8     136983\n",
       "11    132765\n",
       "9     129500\n",
       "10    128354\n",
       "Name: hour, dtype: int64"
      ]
     },
     "execution_count": 18,
     "metadata": {},
     "output_type": "execute_result"
    }
   ],
   "source": [
    "time_df['hour'] = train_df['time'].apply(lambda x : localtime(x).tm_hour)\n",
    "time_df['hour'].value_counts()"
   ]
  },
  {
   "cell_type": "code",
   "execution_count": 19,
   "id": "83ab5712",
   "metadata": {},
   "outputs": [
    {
     "data": {
      "image/png": "[encoded data removed]",
      "text/plain": [
       "<Figure size 800x600 with 1 Axes>"
      ]
     },
     "metadata": {},
     "output_type": "display_data"
    }
   ],
   "source": [
    "import matplotlib.pyplot as plt\n",
    "plt.figure(figsize=(8, 6))\n",
    "plt.bar(time_df['hour'].value_counts().index, time_df['hour'].value_counts().values)\n",
    "plt.xticks(time_df['hour'].unique())\n",
    "plt.show()"
   ]
  },
  {
   "cell_type": "code",
   "execution_count": 20,
   "id": "c9a86e1b",
   "metadata": {},
   "outputs": [
    {
     "data": {
      "text/plain": [
       "6    827494\n",
       "0    779835\n",
       "1    760619\n",
       "2    725169\n",
       "5    708024\n",
       "3    681803\n",
       "4    671527\n",
       "Name: dayname, dtype: int64"
      ]
     },
     "execution_count": 20,
     "metadata": {},
     "output_type": "execute_result"
    }
   ],
   "source": [
    "time_df['dayname'] = train_df['time'].apply(lambda x : localtime(x).tm_wday) # 요일(월요일~일요일, 0~6)\n",
    "time_df['dayname'].value_counts()"
   ]
  },
  {
   "cell_type": "code",
   "execution_count": 21,
   "id": "84ea4c04",
   "metadata": {},
   "outputs": [
    {
     "data": {
      "image/png": "[encoded data removed]",
      "text/plain": [
       "<Figure size 640x480 with 1 Axes>"
      ]
     },
     "metadata": {},
     "output_type": "display_data"
    }
   ],
   "source": [
    "import matplotlib.pyplot as plt\n",
    "plt.bar(time_df['dayname'].value_counts().index, time_df['dayname'].value_counts().values)\n",
    "plt.xticks(time_df['dayname'].unique())\n",
    "plt.show()"
   ]
  },
  {
   "cell_type": "code",
   "execution_count": 22,
   "id": "3c9ac0a8",
   "metadata": {},
   "outputs": [],
   "source": [
    "time_df['year_month'] = train_df['time'].apply(lambda x : time.strftime('%Y-%m', localtime(x)))"
   ]
  },
  {
   "cell_type": "code",
   "execution_count": 23,
   "id": "feb4a949",
   "metadata": {},
   "outputs": [
    {
     "data": {
      "text/plain": [
       "2008-10    97398\n",
       "2005-05    85051\n",
       "2008-11    82306\n",
       "2005-06    78259\n",
       "2006-01    70201\n",
       "           ...  \n",
       "2014-08    21629\n",
       "2014-06    21204\n",
       "2014-04    20075\n",
       "2013-10    19435\n",
       "2014-09    17756\n",
       "Name: year_month, Length: 120, dtype: int64"
      ]
     },
     "execution_count": 23,
     "metadata": {},
     "output_type": "execute_result"
    }
   ],
   "source": [
    "time_df['year_month'].value_counts()"
   ]
  },
  {
   "cell_type": "code",
   "execution_count": 24,
   "id": "08f26368",
   "metadata": {},
   "outputs": [
    {
     "data": {
      "text/plain": [
       "<AxesSubplot: >"
      ]
     },
     "execution_count": 24,
     "metadata": {},
     "output_type": "execute_result"
    },
    {
     "data": {
      "image/png": "[encoded data removed]",
      "text/plain": [
       "<Figure size 2000x800 with 1 Axes>"
      ]
     },
     "metadata": {},
     "output_type": "display_data"
    }
   ],
   "source": [
    "time_df['year_month'].value_counts().plot(kind = 'bar', figsize = (20,8))"
   ]
  },
  {
   "cell_type": "code",
   "execution_count": 25,
   "id": "d6a36504",
   "metadata": {},
   "outputs": [
    {
     "data": {
      "text/html": [
       "<div>\n",
       "<style scoped>\n",
       "    .dataframe tbody tr th:only-of-type {\n",
       "        vertical-align: middle;\n",
       "    }\n",
       "\n",
       "    .dataframe tbody tr th {\n",
       "        vertical-align: top;\n",
       "    }\n",
       "\n",
       "    .dataframe thead th {\n",
       "        text-align: right;\n",
       "    }\n",
       "</style>\n",
       "<table border=\"1\" class=\"dataframe\">\n",
       "  <thead>\n",
       "    <tr style=\"text-align: right;\">\n",
       "      <th></th>\n",
       "      <th>year</th>\n",
       "      <th>month</th>\n",
       "      <th>day</th>\n",
       "      <th>hour</th>\n",
       "      <th>dayname</th>\n",
       "      <th>year_month</th>\n",
       "    </tr>\n",
       "  </thead>\n",
       "  <tbody>\n",
       "    <tr>\n",
       "      <th>3014332</th>\n",
       "      <td>2013</td>\n",
       "      <td>1</td>\n",
       "      <td>26</td>\n",
       "      <td>20</td>\n",
       "      <td>5</td>\n",
       "      <td>2013-01</td>\n",
       "    </tr>\n",
       "    <tr>\n",
       "      <th>3085725</th>\n",
       "      <td>2013</td>\n",
       "      <td>2</td>\n",
       "      <td>21</td>\n",
       "      <td>18</td>\n",
       "      <td>3</td>\n",
       "      <td>2013-02</td>\n",
       "    </tr>\n",
       "    <tr>\n",
       "      <th>3732449</th>\n",
       "      <td>2012</td>\n",
       "      <td>1</td>\n",
       "      <td>24</td>\n",
       "      <td>23</td>\n",
       "      <td>1</td>\n",
       "      <td>2012-01</td>\n",
       "    </tr>\n",
       "    <tr>\n",
       "      <th>885188</th>\n",
       "      <td>2006</td>\n",
       "      <td>1</td>\n",
       "      <td>17</td>\n",
       "      <td>19</td>\n",
       "      <td>1</td>\n",
       "      <td>2006-01</td>\n",
       "    </tr>\n",
       "    <tr>\n",
       "      <th>1972364</th>\n",
       "      <td>2014</td>\n",
       "      <td>11</td>\n",
       "      <td>20</td>\n",
       "      <td>16</td>\n",
       "      <td>3</td>\n",
       "      <td>2014-11</td>\n",
       "    </tr>\n",
       "    <tr>\n",
       "      <th>2657771</th>\n",
       "      <td>2012</td>\n",
       "      <td>1</td>\n",
       "      <td>11</td>\n",
       "      <td>5</td>\n",
       "      <td>2</td>\n",
       "      <td>2012-01</td>\n",
       "    </tr>\n",
       "  </tbody>\n",
       "</table>\n",
       "</div>"
      ],
      "text/plain": [
       "         year  month  day  hour  dayname year_month\n",
       "3014332  2013      1   26    20        5    2013-01\n",
       "3085725  2013      2   21    18        3    2013-02\n",
       "3732449  2012      1   24    23        1    2012-01\n",
       "885188   2006      1   17    19        1    2006-01\n",
       "1972364  2014     11   20    16        3    2014-11\n",
       "2657771  2012      1   11     5        2    2012-01"
      ]
     },
     "execution_count": 25,
     "metadata": {},
     "output_type": "execute_result"
    }
   ],
   "source": [
    "time_df.sample(6)"
   ]
  },
  {
   "attachments": {},
   "cell_type": "markdown",
   "id": "4951e8e4",
   "metadata": {},
   "source": [
    "- user 11의 item 리뷰 time 분석"
   ]
  },
  {
   "cell_type": "code",
   "execution_count": 26,
   "id": "759e32cc",
   "metadata": {},
   "outputs": [
    {
     "data": {
      "text/html": [
       "<div>\n",
       "<style scoped>\n",
       "    .dataframe tbody tr th:only-of-type {\n",
       "        vertical-align: middle;\n",
       "    }\n",
       "\n",
       "    .dataframe tbody tr th {\n",
       "        vertical-align: top;\n",
       "    }\n",
       "\n",
       "    .dataframe thead th {\n",
       "        text-align: right;\n",
       "    }\n",
       "</style>\n",
       "<table border=\"1\" class=\"dataframe\">\n",
       "  <thead>\n",
       "    <tr style=\"text-align: right;\">\n",
       "      <th></th>\n",
       "      <th>user</th>\n",
       "      <th>item</th>\n",
       "      <th>time</th>\n",
       "    </tr>\n",
       "  </thead>\n",
       "  <tbody>\n",
       "    <tr>\n",
       "      <th>0</th>\n",
       "      <td>11</td>\n",
       "      <td>4643</td>\n",
       "      <td>1230782529</td>\n",
       "    </tr>\n",
       "    <tr>\n",
       "      <th>1</th>\n",
       "      <td>11</td>\n",
       "      <td>170</td>\n",
       "      <td>1230782534</td>\n",
       "    </tr>\n",
       "    <tr>\n",
       "      <th>2</th>\n",
       "      <td>11</td>\n",
       "      <td>531</td>\n",
       "      <td>1230782539</td>\n",
       "    </tr>\n",
       "    <tr>\n",
       "      <th>3</th>\n",
       "      <td>11</td>\n",
       "      <td>616</td>\n",
       "      <td>1230782542</td>\n",
       "    </tr>\n",
       "    <tr>\n",
       "      <th>4</th>\n",
       "      <td>11</td>\n",
       "      <td>2140</td>\n",
       "      <td>1230782563</td>\n",
       "    </tr>\n",
       "    <tr>\n",
       "      <th>...</th>\n",
       "      <td>...</td>\n",
       "      <td>...</td>\n",
       "      <td>...</td>\n",
       "    </tr>\n",
       "    <tr>\n",
       "      <th>371</th>\n",
       "      <td>11</td>\n",
       "      <td>48738</td>\n",
       "      <td>1294796106</td>\n",
       "    </tr>\n",
       "    <tr>\n",
       "      <th>372</th>\n",
       "      <td>11</td>\n",
       "      <td>6291</td>\n",
       "      <td>1294796113</td>\n",
       "    </tr>\n",
       "    <tr>\n",
       "      <th>373</th>\n",
       "      <td>11</td>\n",
       "      <td>46578</td>\n",
       "      <td>1294796119</td>\n",
       "    </tr>\n",
       "    <tr>\n",
       "      <th>374</th>\n",
       "      <td>11</td>\n",
       "      <td>7153</td>\n",
       "      <td>1294796132</td>\n",
       "    </tr>\n",
       "    <tr>\n",
       "      <th>375</th>\n",
       "      <td>11</td>\n",
       "      <td>4226</td>\n",
       "      <td>1294796159</td>\n",
       "    </tr>\n",
       "  </tbody>\n",
       "</table>\n",
       "<p>376 rows × 3 columns</p>\n",
       "</div>"
      ],
      "text/plain": [
       "     user   item        time\n",
       "0      11   4643  1230782529\n",
       "1      11    170  1230782534\n",
       "2      11    531  1230782539\n",
       "3      11    616  1230782542\n",
       "4      11   2140  1230782563\n",
       "..    ...    ...         ...\n",
       "371    11  48738  1294796106\n",
       "372    11   6291  1294796113\n",
       "373    11  46578  1294796119\n",
       "374    11   7153  1294796132\n",
       "375    11   4226  1294796159\n",
       "\n",
       "[376 rows x 3 columns]"
      ]
     },
     "execution_count": 26,
     "metadata": {},
     "output_type": "execute_result"
    }
   ],
   "source": [
    "train_df[train_df['user'] == 11]"
   ]
  },
  {
   "cell_type": "code",
   "execution_count": 27,
   "id": "69414fbc",
   "metadata": {},
   "outputs": [
    {
     "name": "stderr",
     "output_type": "stream",
     "text": [
      "/tmp/ipykernel_10960/2221578818.py:2: SettingWithCopyWarning: \n",
      "A value is trying to be set on a copy of a slice from a DataFrame.\n",
      "Try using .loc[row_indexer,col_indexer] = value instead\n",
      "\n",
      "See the caveats in the documentation: https://pandas.pydata.org/pandas-docs/stable/user_guide/indexing.html#returning-a-view-versus-a-copy\n",
      "  eleven_user_df['time2'] = eleven_user_df['time'].apply(lambda x : time.strftime('%Y-%m-%d %H:%M:%S', localtime(x)))\n"
     ]
    },
    {
     "data": {
      "text/html": [
       "<div>\n",
       "<style scoped>\n",
       "    .dataframe tbody tr th:only-of-type {\n",
       "        vertical-align: middle;\n",
       "    }\n",
       "\n",
       "    .dataframe tbody tr th {\n",
       "        vertical-align: top;\n",
       "    }\n",
       "\n",
       "    .dataframe thead th {\n",
       "        text-align: right;\n",
       "    }\n",
       "</style>\n",
       "<table border=\"1\" class=\"dataframe\">\n",
       "  <thead>\n",
       "    <tr style=\"text-align: right;\">\n",
       "      <th></th>\n",
       "      <th>user</th>\n",
       "      <th>item</th>\n",
       "      <th>time</th>\n",
       "      <th>time2</th>\n",
       "    </tr>\n",
       "  </thead>\n",
       "  <tbody>\n",
       "    <tr>\n",
       "      <th>0</th>\n",
       "      <td>11</td>\n",
       "      <td>4643</td>\n",
       "      <td>1230782529</td>\n",
       "      <td>2009-01-01 04:02:09</td>\n",
       "    </tr>\n",
       "    <tr>\n",
       "      <th>1</th>\n",
       "      <td>11</td>\n",
       "      <td>170</td>\n",
       "      <td>1230782534</td>\n",
       "      <td>2009-01-01 04:02:14</td>\n",
       "    </tr>\n",
       "    <tr>\n",
       "      <th>2</th>\n",
       "      <td>11</td>\n",
       "      <td>531</td>\n",
       "      <td>1230782539</td>\n",
       "      <td>2009-01-01 04:02:19</td>\n",
       "    </tr>\n",
       "    <tr>\n",
       "      <th>3</th>\n",
       "      <td>11</td>\n",
       "      <td>616</td>\n",
       "      <td>1230782542</td>\n",
       "      <td>2009-01-01 04:02:22</td>\n",
       "    </tr>\n",
       "    <tr>\n",
       "      <th>4</th>\n",
       "      <td>11</td>\n",
       "      <td>2140</td>\n",
       "      <td>1230782563</td>\n",
       "      <td>2009-01-01 04:02:43</td>\n",
       "    </tr>\n",
       "    <tr>\n",
       "      <th>...</th>\n",
       "      <td>...</td>\n",
       "      <td>...</td>\n",
       "      <td>...</td>\n",
       "      <td>...</td>\n",
       "    </tr>\n",
       "    <tr>\n",
       "      <th>371</th>\n",
       "      <td>11</td>\n",
       "      <td>48738</td>\n",
       "      <td>1294796106</td>\n",
       "      <td>2011-01-12 01:35:06</td>\n",
       "    </tr>\n",
       "    <tr>\n",
       "      <th>372</th>\n",
       "      <td>11</td>\n",
       "      <td>6291</td>\n",
       "      <td>1294796113</td>\n",
       "      <td>2011-01-12 01:35:13</td>\n",
       "    </tr>\n",
       "    <tr>\n",
       "      <th>373</th>\n",
       "      <td>11</td>\n",
       "      <td>46578</td>\n",
       "      <td>1294796119</td>\n",
       "      <td>2011-01-12 01:35:19</td>\n",
       "    </tr>\n",
       "    <tr>\n",
       "      <th>374</th>\n",
       "      <td>11</td>\n",
       "      <td>7153</td>\n",
       "      <td>1294796132</td>\n",
       "      <td>2011-01-12 01:35:32</td>\n",
       "    </tr>\n",
       "    <tr>\n",
       "      <th>375</th>\n",
       "      <td>11</td>\n",
       "      <td>4226</td>\n",
       "      <td>1294796159</td>\n",
       "      <td>2011-01-12 01:35:59</td>\n",
       "    </tr>\n",
       "  </tbody>\n",
       "</table>\n",
       "<p>376 rows × 4 columns</p>\n",
       "</div>"
      ],
      "text/plain": [
       "     user   item        time                time2\n",
       "0      11   4643  1230782529  2009-01-01 04:02:09\n",
       "1      11    170  1230782534  2009-01-01 04:02:14\n",
       "2      11    531  1230782539  2009-01-01 04:02:19\n",
       "3      11    616  1230782542  2009-01-01 04:02:22\n",
       "4      11   2140  1230782563  2009-01-01 04:02:43\n",
       "..    ...    ...         ...                  ...\n",
       "371    11  48738  1294796106  2011-01-12 01:35:06\n",
       "372    11   6291  1294796113  2011-01-12 01:35:13\n",
       "373    11  46578  1294796119  2011-01-12 01:35:19\n",
       "374    11   7153  1294796132  2011-01-12 01:35:32\n",
       "375    11   4226  1294796159  2011-01-12 01:35:59\n",
       "\n",
       "[376 rows x 4 columns]"
      ]
     },
     "execution_count": 27,
     "metadata": {},
     "output_type": "execute_result"
    }
   ],
   "source": [
    "eleven_user_df = train_df[train_df['user'] == 11]\n",
    "eleven_user_df['time2'] = eleven_user_df['time'].apply(lambda x : time.strftime('%Y-%m-%d %H:%M:%S', localtime(x)))\n",
    "eleven_user_df"
   ]
  },
  {
   "attachments": {},
   "cell_type": "markdown",
   "id": "b1274584",
   "metadata": {},
   "source": [
    "-> 추가 idea\n",
    "\n",
    "사용자가 활동한 연도까지의 영화 중 추천을 해보자.\n",
    "\n",
    "결국 interaction history에서 비어있는 interaction을 알아맞추는 대회니까."
   ]
  },
  {
   "cell_type": "markdown",
   "id": "88d60816",
   "metadata": {
    "id": "88d60816"
   },
   "source": [
    "## Side Information(year, writer, title, genre, director) 알아보기"
   ]
  },
  {
   "cell_type": "markdown",
   "id": "55547258",
   "metadata": {
    "id": "55547258"
   },
   "source": [
    "다음은 side information 데이터를 알아봅니다. 일반적으로 추천시스템에서는 side information을 더욱 잘 활용할수록 더 좋은 추천 결과를 얻을 수 있게 됩니다.\n",
    "\n",
    "주어진 year, writer, title, genre, director 데이터를 불러옵니다. 마찬가지로 각 데이터의 간략한 정보를 확인하고 샘플을 미리 저장해보겠습니다. 샘플된 데이터는 뒤에서도 계속 사용할 예정인 점을 참고해주세요! 그럼 다음 코드를 실행해보겠습니다."
   ]
  },
  {
   "cell_type": "code",
   "execution_count": 28,
   "id": "b20edc66",
   "metadata": {
    "ExecuteTime": {
     "end_time": "2022-12-12T06:47:51.172373Z",
     "start_time": "2022-12-12T06:47:51.141248Z"
    },
    "id": "b20edc66"
   },
   "outputs": [],
   "source": [
    "year_data = pd.read_csv(os.path.join(data_path, 'years.tsv'), sep='\\t')\n",
    "writer_data = pd.read_csv(os.path.join(data_path, 'writers.tsv'), sep='\\t')\n",
    "title_data = pd.read_csv(os.path.join(data_path, 'titles.tsv'), sep='\\t')\n",
    "genre_data = pd.read_csv(os.path.join(data_path, 'genres.tsv'), sep='\\t')\n",
    "director_data = pd.read_csv(os.path.join(data_path, 'directors.tsv'), sep='\\t')"
   ]
  },
  {
   "attachments": {},
   "cell_type": "markdown",
   "id": "c14c458a",
   "metadata": {},
   "source": [
    "### year"
   ]
  },
  {
   "cell_type": "markdown",
   "id": "ca522257",
   "metadata": {
    "id": "ca522257"
   },
   "source": [
    "그러면 먼저 *years.tsv* 데이터를 알아보겠습니다. \n",
    "각 column은 다음과 같은 정보를 담고 있습니다:\n",
    "- *item* : 영화 id.\n",
    "- *year* : 해당 영화가 개봉한 연도.\n",
    "\n",
    "다음 코드를 실행하여 각 column의 data type과 같은 정보를 파악하고, 샘플 데이터를 출력해봅니다.\n",
    "\n",
    "그리고 바로 이어지는 cell을 실행하여 추가적인 통계도 확인합니다. 데이터셋에 한 번 이상 출현하는 영화 작품은 총 6799편이며 평균 개봉 연도는 1992년인 등의 정보를 파악할 수 있습니다."
   ]
  },
  {
   "cell_type": "code",
   "execution_count": 29,
   "id": "49f7373b",
   "metadata": {
    "ExecuteTime": {
     "end_time": "2022-12-12T06:47:53.473253Z",
     "start_time": "2022-12-12T06:47:53.458148Z"
    },
    "id": "49f7373b"
   },
   "outputs": [
    {
     "name": "stdout",
     "output_type": "stream",
     "text": [
      "<class 'pandas.core.frame.DataFrame'>\n",
      "RangeIndex: 6799 entries, 0 to 6798\n",
      "Data columns (total 2 columns):\n",
      " #   Column  Non-Null Count  Dtype\n",
      "---  ------  --------------  -----\n",
      " 0   item    6799 non-null   int64\n",
      " 1   year    6799 non-null   int64\n",
      "dtypes: int64(2)\n",
      "memory usage: 106.4 KB\n"
     ]
    },
    {
     "data": {
      "text/html": [
       "<div>\n",
       "<style scoped>\n",
       "    .dataframe tbody tr th:only-of-type {\n",
       "        vertical-align: middle;\n",
       "    }\n",
       "\n",
       "    .dataframe tbody tr th {\n",
       "        vertical-align: top;\n",
       "    }\n",
       "\n",
       "    .dataframe thead th {\n",
       "        text-align: right;\n",
       "    }\n",
       "</style>\n",
       "<table border=\"1\" class=\"dataframe\">\n",
       "  <thead>\n",
       "    <tr style=\"text-align: right;\">\n",
       "      <th></th>\n",
       "      <th>item</th>\n",
       "      <th>year</th>\n",
       "    </tr>\n",
       "  </thead>\n",
       "  <tbody>\n",
       "    <tr>\n",
       "      <th>0</th>\n",
       "      <td>1348</td>\n",
       "      <td>1922</td>\n",
       "    </tr>\n",
       "    <tr>\n",
       "      <th>1</th>\n",
       "      <td>44587</td>\n",
       "      <td>1922</td>\n",
       "    </tr>\n",
       "    <tr>\n",
       "      <th>2</th>\n",
       "      <td>4768</td>\n",
       "      <td>1922</td>\n",
       "    </tr>\n",
       "    <tr>\n",
       "      <th>3</th>\n",
       "      <td>8235</td>\n",
       "      <td>1923</td>\n",
       "    </tr>\n",
       "    <tr>\n",
       "      <th>4</th>\n",
       "      <td>8609</td>\n",
       "      <td>1923</td>\n",
       "    </tr>\n",
       "  </tbody>\n",
       "</table>\n",
       "</div>"
      ],
      "text/plain": [
       "    item  year\n",
       "0   1348  1922\n",
       "1  44587  1922\n",
       "2   4768  1922\n",
       "3   8235  1923\n",
       "4   8609  1923"
      ]
     },
     "execution_count": 29,
     "metadata": {},
     "output_type": "execute_result"
    }
   ],
   "source": [
    "year_data.info()\n",
    "year_data.head(5)"
   ]
  },
  {
   "cell_type": "code",
   "execution_count": 30,
   "id": "b3a7219e",
   "metadata": {
    "ExecuteTime": {
     "end_time": "2022-12-12T06:47:58.374692Z",
     "start_time": "2022-12-12T06:47:58.359942Z"
    },
    "id": "b3a7219e"
   },
   "outputs": [
    {
     "name": "stdout",
     "output_type": "stream",
     "text": [
      "Year data shape:  (6799, 2)\n",
      "Number of unique items in year_df:  6799\n",
      "Number of unique years:  93\n",
      "\n",
      "Statistics of year data: \n"
     ]
    },
    {
     "data": {
      "text/plain": [
       "count    6799.000000\n",
       "mean     1992.174732\n",
       "std        19.052568\n",
       "min      1922.000000\n",
       "25%      1985.000000\n",
       "50%      1999.000000\n",
       "75%      2006.000000\n",
       "max      2014.000000\n",
       "Name: year, dtype: float64"
      ]
     },
     "execution_count": 30,
     "metadata": {},
     "output_type": "execute_result"
    }
   ],
   "source": [
    "print (\"Year data shape: \", year_data.shape)\n",
    "print(\"Number of unique items in year_df: \", year_data['item'].nunique())\n",
    "print(\"Number of unique years: \", year_data['year'].nunique())\n",
    "print (\"\\nStatistics of year data: \")\n",
    "year_data['year'].describe()"
   ]
  },
  {
   "cell_type": "code",
   "execution_count": 31,
   "id": "1b8f101d",
   "metadata": {},
   "outputs": [
    {
     "data": {
      "text/plain": [
       "user       0\n",
       "item       0\n",
       "time       0\n",
       "year    1832\n",
       "dtype: int64"
      ]
     },
     "execution_count": 31,
     "metadata": {},
     "output_type": "execute_result"
    }
   ],
   "source": [
    "# train_df에서의 year data 결측치 확인\n",
    "pd.merge(train_df, year_data, on='item', how='left').isnull().sum()"
   ]
  },
  {
   "cell_type": "code",
   "execution_count": 32,
   "id": "55a77452",
   "metadata": {},
   "outputs": [
    {
     "data": {
      "text/html": [
       "<div>\n",
       "<style scoped>\n",
       "    .dataframe tbody tr th:only-of-type {\n",
       "        vertical-align: middle;\n",
       "    }\n",
       "\n",
       "    .dataframe tbody tr th {\n",
       "        vertical-align: top;\n",
       "    }\n",
       "\n",
       "    .dataframe thead th {\n",
       "        text-align: right;\n",
       "    }\n",
       "</style>\n",
       "<table border=\"1\" class=\"dataframe\">\n",
       "  <thead>\n",
       "    <tr style=\"text-align: right;\">\n",
       "      <th></th>\n",
       "      <th>user</th>\n",
       "      <th>item</th>\n",
       "      <th>time</th>\n",
       "      <th>year</th>\n",
       "    </tr>\n",
       "  </thead>\n",
       "  <tbody>\n",
       "    <tr>\n",
       "      <th>3486</th>\n",
       "      <td>132</td>\n",
       "      <td>6987</td>\n",
       "      <td>1114010962</td>\n",
       "      <td>NaN</td>\n",
       "    </tr>\n",
       "    <tr>\n",
       "      <th>13645</th>\n",
       "      <td>413</td>\n",
       "      <td>6987</td>\n",
       "      <td>1128709337</td>\n",
       "      <td>NaN</td>\n",
       "    </tr>\n",
       "    <tr>\n",
       "      <th>14766</th>\n",
       "      <td>425</td>\n",
       "      <td>3310</td>\n",
       "      <td>1418071653</td>\n",
       "      <td>NaN</td>\n",
       "    </tr>\n",
       "    <tr>\n",
       "      <th>15678</th>\n",
       "      <td>448</td>\n",
       "      <td>6987</td>\n",
       "      <td>1128537722</td>\n",
       "      <td>NaN</td>\n",
       "    </tr>\n",
       "    <tr>\n",
       "      <th>19598</th>\n",
       "      <td>563</td>\n",
       "      <td>6987</td>\n",
       "      <td>1171575158</td>\n",
       "      <td>NaN</td>\n",
       "    </tr>\n",
       "    <tr>\n",
       "      <th>...</th>\n",
       "      <td>...</td>\n",
       "      <td>...</td>\n",
       "      <td>...</td>\n",
       "      <td>...</td>\n",
       "    </tr>\n",
       "    <tr>\n",
       "      <th>5147569</th>\n",
       "      <td>138325</td>\n",
       "      <td>8511</td>\n",
       "      <td>1268938902</td>\n",
       "      <td>NaN</td>\n",
       "    </tr>\n",
       "    <tr>\n",
       "      <th>5147629</th>\n",
       "      <td>138325</td>\n",
       "      <td>7065</td>\n",
       "      <td>1279124995</td>\n",
       "      <td>NaN</td>\n",
       "    </tr>\n",
       "    <tr>\n",
       "      <th>5150507</th>\n",
       "      <td>138406</td>\n",
       "      <td>3310</td>\n",
       "      <td>1139933369</td>\n",
       "      <td>NaN</td>\n",
       "    </tr>\n",
       "    <tr>\n",
       "      <th>5150755</th>\n",
       "      <td>138406</td>\n",
       "      <td>32898</td>\n",
       "      <td>1372717892</td>\n",
       "      <td>NaN</td>\n",
       "    </tr>\n",
       "    <tr>\n",
       "      <th>5153857</th>\n",
       "      <td>138475</td>\n",
       "      <td>6987</td>\n",
       "      <td>1126812019</td>\n",
       "      <td>NaN</td>\n",
       "    </tr>\n",
       "  </tbody>\n",
       "</table>\n",
       "<p>1832 rows × 4 columns</p>\n",
       "</div>"
      ],
      "text/plain": [
       "           user   item        time  year\n",
       "3486        132   6987  1114010962   NaN\n",
       "13645       413   6987  1128709337   NaN\n",
       "14766       425   3310  1418071653   NaN\n",
       "15678       448   6987  1128537722   NaN\n",
       "19598       563   6987  1171575158   NaN\n",
       "...         ...    ...         ...   ...\n",
       "5147569  138325   8511  1268938902   NaN\n",
       "5147629  138325   7065  1279124995   NaN\n",
       "5150507  138406   3310  1139933369   NaN\n",
       "5150755  138406  32898  1372717892   NaN\n",
       "5153857  138475   6987  1126812019   NaN\n",
       "\n",
       "[1832 rows x 4 columns]"
      ]
     },
     "execution_count": 32,
     "metadata": {},
     "output_type": "execute_result"
    }
   ],
   "source": [
    "year_df = pd.merge(train_df, year_data, on='item', how='left')\n",
    "year_df[year_df['year'].isnull()]"
   ]
  },
  {
   "cell_type": "code",
   "execution_count": 33,
   "id": "672d463f",
   "metadata": {},
   "outputs": [
    {
     "data": {
      "text/plain": [
       "8"
      ]
     },
     "execution_count": 33,
     "metadata": {},
     "output_type": "execute_result"
    }
   ],
   "source": [
    "year_df[year_df['year'].isnull()]['item'].nunique()"
   ]
  },
  {
   "attachments": {},
   "cell_type": "markdown",
   "id": "45f0e0fb",
   "metadata": {},
   "source": [
    "8개의 item의 year(개봉 연도) data가 누락되어있고, 해당 아이템을 전체 train_df로 보면 총 1832개의 결측치가 있는 셈이다."
   ]
  },
  {
   "attachments": {},
   "cell_type": "markdown",
   "id": "76e4d27d",
   "metadata": {},
   "source": [
    "혹시 item이 똑같은 영화라도 다른 연도에 개봉한 영화가 있나? \n",
    "\n",
    "-> 없다!"
   ]
  },
  {
   "cell_type": "code",
   "execution_count": 34,
   "id": "c1d4f81e",
   "metadata": {},
   "outputs": [
    {
     "name": "stdout",
     "output_type": "stream",
     "text": [
      "[nan]\n",
      "[nan]\n",
      "[nan]\n",
      "[nan]\n",
      "[nan]\n",
      "[nan]\n",
      "[nan]\n",
      "[nan]\n"
     ]
    }
   ],
   "source": [
    "null_year_list = year_df[year_df['year'].isnull()]['item'].unique()\n",
    "for year in null_year_list:\n",
    "    print(year_df[year_df['item'] == year]['year'].unique())"
   ]
  },
  {
   "attachments": {},
   "cell_type": "markdown",
   "id": "538cdeed",
   "metadata": {},
   "source": [
    "### writer"
   ]
  },
  {
   "cell_type": "markdown",
   "id": "b3c7ccda",
   "metadata": {
    "id": "b3c7ccda"
   },
   "source": [
    "다음은 *writers.tsv* 데이터입니다. \n",
    "각 column은 다음과 같은 정보를 담고 있습니다:\n",
    "- *item* : 영화 id.\n",
    "- *writer* : 영화의 각본가. (익명화)\n",
    "\n",
    "다음 코드를 실행하여 각 column의 data type과 같은 정보를 파악하고, 샘플 데이터를 출력해봅니다."
   ]
  },
  {
   "cell_type": "code",
   "execution_count": 35,
   "id": "25f596a7",
   "metadata": {
    "ExecuteTime": {
     "end_time": "2022-12-12T06:48:24.246727Z",
     "start_time": "2022-12-12T06:48:24.235810Z"
    },
    "id": "25f596a7"
   },
   "outputs": [
    {
     "name": "stdout",
     "output_type": "stream",
     "text": [
      "<class 'pandas.core.frame.DataFrame'>\n",
      "RangeIndex: 11306 entries, 0 to 11305\n",
      "Data columns (total 2 columns):\n",
      " #   Column  Non-Null Count  Dtype \n",
      "---  ------  --------------  ----- \n",
      " 0   item    11306 non-null  int64 \n",
      " 1   writer  11306 non-null  object\n",
      "dtypes: int64(1), object(1)\n",
      "memory usage: 176.8+ KB\n"
     ]
    },
    {
     "data": {
      "text/html": [
       "<div>\n",
       "<style scoped>\n",
       "    .dataframe tbody tr th:only-of-type {\n",
       "        vertical-align: middle;\n",
       "    }\n",
       "\n",
       "    .dataframe tbody tr th {\n",
       "        vertical-align: top;\n",
       "    }\n",
       "\n",
       "    .dataframe thead th {\n",
       "        text-align: right;\n",
       "    }\n",
       "</style>\n",
       "<table border=\"1\" class=\"dataframe\">\n",
       "  <thead>\n",
       "    <tr style=\"text-align: right;\">\n",
       "      <th></th>\n",
       "      <th>item</th>\n",
       "      <th>writer</th>\n",
       "    </tr>\n",
       "  </thead>\n",
       "  <tbody>\n",
       "    <tr>\n",
       "      <th>0</th>\n",
       "      <td>1237</td>\n",
       "      <td>nm0000005</td>\n",
       "    </tr>\n",
       "    <tr>\n",
       "      <th>1</th>\n",
       "      <td>5147</td>\n",
       "      <td>nm0000005</td>\n",
       "    </tr>\n",
       "  </tbody>\n",
       "</table>\n",
       "</div>"
      ],
      "text/plain": [
       "   item     writer\n",
       "0  1237  nm0000005\n",
       "1  5147  nm0000005"
      ]
     },
     "execution_count": 35,
     "metadata": {},
     "output_type": "execute_result"
    }
   ],
   "source": [
    "writer_data.info()\n",
    "writer_data.head(2)"
   ]
  },
  {
   "cell_type": "code",
   "execution_count": 36,
   "id": "83539785",
   "metadata": {},
   "outputs": [
    {
     "name": "stdout",
     "output_type": "stream",
     "text": [
      "writer data shape:  (11306, 2)\n",
      "Number of unique items in writer_df:  5648\n",
      "Number of unique writers:  2989\n"
     ]
    }
   ],
   "source": [
    "print (\"writer data shape: \", writer_data.shape)\n",
    "print(\"Number of unique items in writer_df: \", writer_data['item'].nunique())\n",
    "print(\"Number of unique writers: \", writer_data['writer'].nunique())"
   ]
  },
  {
   "cell_type": "code",
   "execution_count": 37,
   "id": "229e6e0a",
   "metadata": {},
   "outputs": [
    {
     "data": {
      "text/plain": [
       "user           0\n",
       "item           0\n",
       "time           0\n",
       "writer    312692\n",
       "dtype: int64"
      ]
     },
     "execution_count": 37,
     "metadata": {},
     "output_type": "execute_result"
    }
   ],
   "source": [
    "# train_df에서의 writer data 결측치 확인\n",
    "pd.merge(train_df, writer_data, on='item', how='left').isnull().sum()"
   ]
  },
  {
   "cell_type": "code",
   "execution_count": 38,
   "id": "6f97d4cc",
   "metadata": {},
   "outputs": [
    {
     "data": {
      "text/html": [
       "<div>\n",
       "<style scoped>\n",
       "    .dataframe tbody tr th:only-of-type {\n",
       "        vertical-align: middle;\n",
       "    }\n",
       "\n",
       "    .dataframe tbody tr th {\n",
       "        vertical-align: top;\n",
       "    }\n",
       "\n",
       "    .dataframe thead th {\n",
       "        text-align: right;\n",
       "    }\n",
       "</style>\n",
       "<table border=\"1\" class=\"dataframe\">\n",
       "  <thead>\n",
       "    <tr style=\"text-align: right;\">\n",
       "      <th></th>\n",
       "      <th>user</th>\n",
       "      <th>item</th>\n",
       "      <th>time</th>\n",
       "      <th>writer</th>\n",
       "    </tr>\n",
       "  </thead>\n",
       "  <tbody>\n",
       "    <tr>\n",
       "      <th>4</th>\n",
       "      <td>11</td>\n",
       "      <td>170</td>\n",
       "      <td>1230782534</td>\n",
       "      <td>NaN</td>\n",
       "    </tr>\n",
       "    <tr>\n",
       "      <th>58</th>\n",
       "      <td>11</td>\n",
       "      <td>5151</td>\n",
       "      <td>1230783478</td>\n",
       "      <td>NaN</td>\n",
       "    </tr>\n",
       "    <tr>\n",
       "      <th>61</th>\n",
       "      <td>11</td>\n",
       "      <td>33585</td>\n",
       "      <td>1230783564</td>\n",
       "      <td>NaN</td>\n",
       "    </tr>\n",
       "    <tr>\n",
       "      <th>120</th>\n",
       "      <td>11</td>\n",
       "      <td>1225</td>\n",
       "      <td>1230784460</td>\n",
       "      <td>NaN</td>\n",
       "    </tr>\n",
       "    <tr>\n",
       "      <th>122</th>\n",
       "      <td>11</td>\n",
       "      <td>59418</td>\n",
       "      <td>1230784666</td>\n",
       "      <td>NaN</td>\n",
       "    </tr>\n",
       "    <tr>\n",
       "      <th>...</th>\n",
       "      <td>...</td>\n",
       "      <td>...</td>\n",
       "      <td>...</td>\n",
       "      <td>...</td>\n",
       "    </tr>\n",
       "    <tr>\n",
       "      <th>11591191</th>\n",
       "      <td>138493</td>\n",
       "      <td>8905</td>\n",
       "      <td>1255856919</td>\n",
       "      <td>NaN</td>\n",
       "    </tr>\n",
       "    <tr>\n",
       "      <th>11591192</th>\n",
       "      <td>138493</td>\n",
       "      <td>52579</td>\n",
       "      <td>1255856957</td>\n",
       "      <td>NaN</td>\n",
       "    </tr>\n",
       "    <tr>\n",
       "      <th>11591475</th>\n",
       "      <td>138493</td>\n",
       "      <td>1429</td>\n",
       "      <td>1256854805</td>\n",
       "      <td>NaN</td>\n",
       "    </tr>\n",
       "    <tr>\n",
       "      <th>11591494</th>\n",
       "      <td>138493</td>\n",
       "      <td>1298</td>\n",
       "      <td>1258134713</td>\n",
       "      <td>NaN</td>\n",
       "    </tr>\n",
       "    <tr>\n",
       "      <th>11591499</th>\n",
       "      <td>138493</td>\n",
       "      <td>3020</td>\n",
       "      <td>1258134998</td>\n",
       "      <td>NaN</td>\n",
       "    </tr>\n",
       "  </tbody>\n",
       "</table>\n",
       "<p>312692 rows × 4 columns</p>\n",
       "</div>"
      ],
      "text/plain": [
       "            user   item        time writer\n",
       "4             11    170  1230782534    NaN\n",
       "58            11   5151  1230783478    NaN\n",
       "61            11  33585  1230783564    NaN\n",
       "120           11   1225  1230784460    NaN\n",
       "122           11  59418  1230784666    NaN\n",
       "...          ...    ...         ...    ...\n",
       "11591191  138493   8905  1255856919    NaN\n",
       "11591192  138493  52579  1255856957    NaN\n",
       "11591475  138493   1429  1256854805    NaN\n",
       "11591494  138493   1298  1258134713    NaN\n",
       "11591499  138493   3020  1258134998    NaN\n",
       "\n",
       "[312692 rows x 4 columns]"
      ]
     },
     "execution_count": 38,
     "metadata": {},
     "output_type": "execute_result"
    }
   ],
   "source": [
    "writer_df = pd.merge(train_df, writer_data, on='item', how='left')\n",
    "writer_df[writer_df['writer'].isnull()]"
   ]
  },
  {
   "cell_type": "code",
   "execution_count": 39,
   "id": "f0698ad3",
   "metadata": {},
   "outputs": [
    {
     "data": {
      "text/plain": [
       "1159"
      ]
     },
     "execution_count": 39,
     "metadata": {},
     "output_type": "execute_result"
    }
   ],
   "source": [
    "writer_df[writer_df['writer'].isnull()]['item'].nunique()"
   ]
  },
  {
   "attachments": {},
   "cell_type": "markdown",
   "id": "49762ef2",
   "metadata": {},
   "source": [
    "1159개의 item에 대해 writer(각본가)가 누락되었으며, 전체 train_df에 대해 결측치가 총 312692개 있다. (약 6%)"
   ]
  },
  {
   "cell_type": "code",
   "execution_count": 40,
   "id": "96cfb6e0",
   "metadata": {},
   "outputs": [
    {
     "name": "stdout",
     "output_type": "stream",
     "text": [
      "Number of all unique movie writers:  2989\n",
      "\n",
      "top 10 movie writers: \n",
      " Index(['nm0000184', 'nm0000233', 'nm0634240', 'nm0001392', 'nm0909638',\n",
      "       'nm0004056', 'nm0744429', 'nm0101991', 'nm0254645', 'nm0000175'],\n",
      "      dtype='object', name='writer')\n",
      "\n",
      "sample of top 10 user-writer data: \n",
      "           user  item        time     writer\n",
      "656670    7724  1089  1211575256  nm0000233\n",
      "5317283  62862  4993  1298764325  nm0101991\n",
      "4730613  55798  4993  1135768058  nm0001392\n",
      "6031546  71671  2193  1181495368  nm0000184\n",
      "2287398  26835  4993  1156952378  nm0909638\n",
      "\n",
      "shape of the data:  (651286, 4)\n"
     ]
    }
   ],
   "source": [
    "writer_id = writer_df.value_counts('writer').index[:10]\n",
    "\n",
    "\n",
    "side_df = []\n",
    "for writer in writer_id:\n",
    "    side_df.append(writer_df.loc[writer_df['writer'] == writer])\n",
    "\n",
    "writer_top = pd.concat(side_df) \n",
    "\n",
    "print (\"Number of all unique movie writers: \", writer_df['writer'].nunique())\n",
    "print (\"\\ntop 10 movie writers: \\n\", writer_id)\n",
    "print (\"\\nsample of top 10 user-writer data: \\n\", writer_top.sample(5))\n",
    "print (\"\\nshape of the data: \", writer_top.shape)"
   ]
  },
  {
   "cell_type": "code",
   "execution_count": 41,
   "id": "e4ad14e6",
   "metadata": {},
   "outputs": [
    {
     "data": {
      "text/plain": [
       "nm0000095    47\n",
       "nm0000636    35\n",
       "nm0000175    32\n",
       "nm0372942    30\n",
       "nm0000108    29\n",
       "             ..\n",
       "nm0414893     2\n",
       "nm0414448     2\n",
       "nm0414117     2\n",
       "nm0414047     2\n",
       "nm5927608     2\n",
       "Name: writer, Length: 2989, dtype: int64"
      ]
     },
     "execution_count": 41,
     "metadata": {},
     "output_type": "execute_result"
    }
   ],
   "source": [
    "writer_data['writer'].value_counts()"
   ]
  },
  {
   "cell_type": "code",
   "execution_count": 42,
   "id": "25ff6fb9",
   "metadata": {},
   "outputs": [
    {
     "data": {
      "text/plain": [
       "count    2989.000000\n",
       "mean        3.782536\n",
       "std         2.993783\n",
       "min         2.000000\n",
       "25%         2.000000\n",
       "50%         3.000000\n",
       "75%         4.000000\n",
       "max        47.000000\n",
       "Name: writer, dtype: float64"
      ]
     },
     "execution_count": 42,
     "metadata": {},
     "output_type": "execute_result"
    }
   ],
   "source": [
    "writer_data['writer'].value_counts().describe()"
   ]
  },
  {
   "cell_type": "code",
   "execution_count": 43,
   "id": "e73feb29",
   "metadata": {},
   "outputs": [
    {
     "data": {
      "text/plain": [
       "<AxesSubplot: >"
      ]
     },
     "execution_count": 43,
     "metadata": {},
     "output_type": "execute_result"
    },
    {
     "data": {
      "image/png": "[encoded data removed]",
      "text/plain": [
       "<Figure size 640x480 with 1 Axes>"
      ]
     },
     "metadata": {},
     "output_type": "display_data"
    }
   ],
   "source": [
    "writer_data['writer'].value_counts().hist(bins=100)"
   ]
  },
  {
   "attachments": {},
   "cell_type": "markdown",
   "id": "fdb7a2a5",
   "metadata": {},
   "source": [
    "### title"
   ]
  },
  {
   "cell_type": "markdown",
   "id": "8395305b",
   "metadata": {
    "id": "8395305b"
   },
   "source": [
    "다음은 *titles.tsv* 데이터입니다. \n",
    "각 column은 다음과 같은 정보를 담고 있습니다:\n",
    "- *item* : 영화 id.\n",
    "- *titles* : 영화 제목.\n",
    "\n",
    "다음 코드를 실행하여 각 column의 data type과 같은 정보를 파악하고, 샘플 데이터를 출력해봅니다."
   ]
  },
  {
   "cell_type": "code",
   "execution_count": 44,
   "id": "f37c6d5c",
   "metadata": {},
   "outputs": [
    {
     "name": "stdout",
     "output_type": "stream",
     "text": [
      "<class 'pandas.core.frame.DataFrame'>\n",
      "RangeIndex: 6807 entries, 0 to 6806\n",
      "Data columns (total 2 columns):\n",
      " #   Column  Non-Null Count  Dtype \n",
      "---  ------  --------------  ----- \n",
      " 0   item    6807 non-null   int64 \n",
      " 1   title   6807 non-null   object\n",
      "dtypes: int64(1), object(1)\n",
      "memory usage: 106.5+ KB\n"
     ]
    },
    {
     "data": {
      "text/html": [
       "<div>\n",
       "<style scoped>\n",
       "    .dataframe tbody tr th:only-of-type {\n",
       "        vertical-align: middle;\n",
       "    }\n",
       "\n",
       "    .dataframe tbody tr th {\n",
       "        vertical-align: top;\n",
       "    }\n",
       "\n",
       "    .dataframe thead th {\n",
       "        text-align: right;\n",
       "    }\n",
       "</style>\n",
       "<table border=\"1\" class=\"dataframe\">\n",
       "  <thead>\n",
       "    <tr style=\"text-align: right;\">\n",
       "      <th></th>\n",
       "      <th>item</th>\n",
       "      <th>title</th>\n",
       "    </tr>\n",
       "  </thead>\n",
       "  <tbody>\n",
       "    <tr>\n",
       "      <th>0</th>\n",
       "      <td>318</td>\n",
       "      <td>Shawshank Redemption, The (1994)</td>\n",
       "    </tr>\n",
       "    <tr>\n",
       "      <th>1</th>\n",
       "      <td>2571</td>\n",
       "      <td>Matrix, The (1999)</td>\n",
       "    </tr>\n",
       "    <tr>\n",
       "      <th>2</th>\n",
       "      <td>2959</td>\n",
       "      <td>Fight Club (1999)</td>\n",
       "    </tr>\n",
       "    <tr>\n",
       "      <th>3</th>\n",
       "      <td>296</td>\n",
       "      <td>Pulp Fiction (1994)</td>\n",
       "    </tr>\n",
       "    <tr>\n",
       "      <th>4</th>\n",
       "      <td>356</td>\n",
       "      <td>Forrest Gump (1994)</td>\n",
       "    </tr>\n",
       "  </tbody>\n",
       "</table>\n",
       "</div>"
      ],
      "text/plain": [
       "   item                             title\n",
       "0   318  Shawshank Redemption, The (1994)\n",
       "1  2571                Matrix, The (1999)\n",
       "2  2959                 Fight Club (1999)\n",
       "3   296               Pulp Fiction (1994)\n",
       "4   356               Forrest Gump (1994)"
      ]
     },
     "execution_count": 44,
     "metadata": {},
     "output_type": "execute_result"
    }
   ],
   "source": [
    "title_data.info()\n",
    "title_data.head(5)"
   ]
  },
  {
   "cell_type": "code",
   "execution_count": 45,
   "id": "753af9f4",
   "metadata": {},
   "outputs": [
    {
     "name": "stdout",
     "output_type": "stream",
     "text": [
      "title data shape:  (6807, 2)\n",
      "Number of unique items in title_df:  6807\n",
      "Number of unique titles:  6806\n"
     ]
    }
   ],
   "source": [
    "print (\"title data shape: \", title_data.shape)\n",
    "print(\"Number of unique items in title_df: \", title_data['item'].nunique())\n",
    "print(\"Number of unique titles: \", title_data['title'].nunique())"
   ]
  },
  {
   "cell_type": "code",
   "execution_count": 46,
   "id": "a64602f4",
   "metadata": {},
   "outputs": [
    {
     "data": {
      "text/plain": [
       "user     0\n",
       "item     0\n",
       "time     0\n",
       "title    0\n",
       "dtype: int64"
      ]
     },
     "execution_count": 46,
     "metadata": {},
     "output_type": "execute_result"
    }
   ],
   "source": [
    "title_df = pd.merge(train_df, title_data, on='item', how='left')\n",
    "title_df.isnull().sum() # title은 결측치 데이터가 없다."
   ]
  },
  {
   "cell_type": "code",
   "execution_count": 47,
   "id": "0f489a0e",
   "metadata": {},
   "outputs": [
    {
     "data": {
      "text/plain": [
       "Matrix, The (1999)                   19699\n",
       "Fight Club (1999)                    18437\n",
       "Pulp Fiction (1994)                  18202\n",
       "Shawshank Redemption, The (1994)     18168\n",
       "Forrest Gump (1994)                  17339\n",
       "                                     ...  \n",
       "You Got Served (2004)                   38\n",
       "NeverEnding Story III, The (1994)       36\n",
       "Baby Geniuses (1999)                    34\n",
       "Pokémon 3: The Movie (2001)             34\n",
       "\"Great Performances\" Cats (1998)        27\n",
       "Name: title, Length: 6806, dtype: int64"
      ]
     },
     "execution_count": 47,
     "metadata": {},
     "output_type": "execute_result"
    }
   ],
   "source": [
    "title_df['title'].value_counts()"
   ]
  },
  {
   "cell_type": "code",
   "execution_count": 48,
   "id": "966b92c3",
   "metadata": {},
   "outputs": [
    {
     "data": {
      "text/plain": [
       "(5154471, 4)"
      ]
     },
     "execution_count": 48,
     "metadata": {},
     "output_type": "execute_result"
    }
   ],
   "source": [
    "title_df.shape"
   ]
  },
  {
   "attachments": {},
   "cell_type": "markdown",
   "id": "88c770c2",
   "metadata": {},
   "source": [
    "혹시 title이 같은데 item이 다른 영화가 있나?"
   ]
  },
  {
   "cell_type": "code",
   "execution_count": 49,
   "id": "c82e0507",
   "metadata": {},
   "outputs": [
    {
     "data": {
      "text/html": [
       "<div>\n",
       "<style scoped>\n",
       "    .dataframe tbody tr th:only-of-type {\n",
       "        vertical-align: middle;\n",
       "    }\n",
       "\n",
       "    .dataframe tbody tr th {\n",
       "        vertical-align: top;\n",
       "    }\n",
       "\n",
       "    .dataframe thead th {\n",
       "        text-align: right;\n",
       "    }\n",
       "</style>\n",
       "<table border=\"1\" class=\"dataframe\">\n",
       "  <thead>\n",
       "    <tr style=\"text-align: right;\">\n",
       "      <th></th>\n",
       "      <th>item</th>\n",
       "      <th>title</th>\n",
       "    </tr>\n",
       "  </thead>\n",
       "  <tbody>\n",
       "    <tr>\n",
       "      <th>1926</th>\n",
       "      <td>64997</td>\n",
       "      <td>War of the Worlds (2005)</td>\n",
       "    </tr>\n",
       "  </tbody>\n",
       "</table>\n",
       "</div>"
      ],
      "text/plain": [
       "       item                     title\n",
       "1926  64997  War of the Worlds (2005)"
      ]
     },
     "execution_count": 49,
     "metadata": {},
     "output_type": "execute_result"
    }
   ],
   "source": [
    "title_data[title_data.duplicated(['title'])]"
   ]
  },
  {
   "cell_type": "code",
   "execution_count": 50,
   "id": "9db50896",
   "metadata": {},
   "outputs": [
    {
     "data": {
      "text/html": [
       "<div>\n",
       "<style scoped>\n",
       "    .dataframe tbody tr th:only-of-type {\n",
       "        vertical-align: middle;\n",
       "    }\n",
       "\n",
       "    .dataframe tbody tr th {\n",
       "        vertical-align: top;\n",
       "    }\n",
       "\n",
       "    .dataframe thead th {\n",
       "        text-align: right;\n",
       "    }\n",
       "</style>\n",
       "<table border=\"1\" class=\"dataframe\">\n",
       "  <thead>\n",
       "    <tr style=\"text-align: right;\">\n",
       "      <th></th>\n",
       "      <th>item</th>\n",
       "      <th>title</th>\n",
       "    </tr>\n",
       "  </thead>\n",
       "  <tbody>\n",
       "    <tr>\n",
       "      <th>349</th>\n",
       "      <td>34048</td>\n",
       "      <td>War of the Worlds (2005)</td>\n",
       "    </tr>\n",
       "    <tr>\n",
       "      <th>1926</th>\n",
       "      <td>64997</td>\n",
       "      <td>War of the Worlds (2005)</td>\n",
       "    </tr>\n",
       "  </tbody>\n",
       "</table>\n",
       "</div>"
      ],
      "text/plain": [
       "       item                     title\n",
       "349   34048  War of the Worlds (2005)\n",
       "1926  64997  War of the Worlds (2005)"
      ]
     },
     "execution_count": 50,
     "metadata": {},
     "output_type": "execute_result"
    }
   ],
   "source": [
    "title_data[title_data['title'] == 'War of the Worlds (2005)']"
   ]
  },
  {
   "cell_type": "code",
   "execution_count": 51,
   "id": "3ad290c6",
   "metadata": {},
   "outputs": [
    {
     "data": {
      "text/plain": [
       "item   title                   \n",
       "34048  War of the Worlds (2005)    3022\n",
       "64997  War of the Worlds (2005)     178\n",
       "dtype: int64"
      ]
     },
     "execution_count": 51,
     "metadata": {},
     "output_type": "execute_result"
    }
   ],
   "source": [
    "title_df[title_df['title'] == 'War of the Worlds (2005)'][['item', 'title']].value_counts()"
   ]
  },
  {
   "attachments": {},
   "cell_type": "markdown",
   "id": "55c19b1a",
   "metadata": {},
   "source": [
    "### genre"
   ]
  },
  {
   "cell_type": "markdown",
   "id": "ca0f3a93",
   "metadata": {
    "id": "ca0f3a93"
   },
   "source": [
    "다음은 *genres.tsv* 데이터입니다. \n",
    "각 column은 다음과 같은 정보를 담고 있습니다:\n",
    "- *item* : 영화 id.\n",
    "- *genre* : 영화의 장르.\n",
    "\n",
    "하나의 영화는 여러 개의 장르를 가질 수 있습니다.\n",
    "다음 코드를 실행하여 각 column의 data type과 같은 정보를 파악하고, 샘플 데이터를 출력해봅니다."
   ]
  },
  {
   "cell_type": "code",
   "execution_count": 52,
   "id": "6280af9c",
   "metadata": {
    "ExecuteTime": {
     "end_time": "2022-12-12T06:48:36.363622Z",
     "start_time": "2022-12-12T06:48:36.338470Z"
    },
    "id": "6280af9c"
   },
   "outputs": [
    {
     "name": "stdout",
     "output_type": "stream",
     "text": [
      "<class 'pandas.core.frame.DataFrame'>\n",
      "RangeIndex: 15933 entries, 0 to 15932\n",
      "Data columns (total 2 columns):\n",
      " #   Column  Non-Null Count  Dtype \n",
      "---  ------  --------------  ----- \n",
      " 0   item    15933 non-null  int64 \n",
      " 1   genre   15933 non-null  object\n",
      "dtypes: int64(1), object(1)\n",
      "memory usage: 249.1+ KB\n"
     ]
    },
    {
     "data": {
      "text/html": [
       "<div>\n",
       "<style scoped>\n",
       "    .dataframe tbody tr th:only-of-type {\n",
       "        vertical-align: middle;\n",
       "    }\n",
       "\n",
       "    .dataframe tbody tr th {\n",
       "        vertical-align: top;\n",
       "    }\n",
       "\n",
       "    .dataframe thead th {\n",
       "        text-align: right;\n",
       "    }\n",
       "</style>\n",
       "<table border=\"1\" class=\"dataframe\">\n",
       "  <thead>\n",
       "    <tr style=\"text-align: right;\">\n",
       "      <th></th>\n",
       "      <th>item</th>\n",
       "      <th>genre</th>\n",
       "    </tr>\n",
       "  </thead>\n",
       "  <tbody>\n",
       "    <tr>\n",
       "      <th>0</th>\n",
       "      <td>318</td>\n",
       "      <td>Crime</td>\n",
       "    </tr>\n",
       "    <tr>\n",
       "      <th>1</th>\n",
       "      <td>318</td>\n",
       "      <td>Drama</td>\n",
       "    </tr>\n",
       "    <tr>\n",
       "      <th>2</th>\n",
       "      <td>2571</td>\n",
       "      <td>Action</td>\n",
       "    </tr>\n",
       "    <tr>\n",
       "      <th>3</th>\n",
       "      <td>2571</td>\n",
       "      <td>Sci-Fi</td>\n",
       "    </tr>\n",
       "    <tr>\n",
       "      <th>4</th>\n",
       "      <td>2571</td>\n",
       "      <td>Thriller</td>\n",
       "    </tr>\n",
       "  </tbody>\n",
       "</table>\n",
       "</div>"
      ],
      "text/plain": [
       "   item     genre\n",
       "0   318     Crime\n",
       "1   318     Drama\n",
       "2  2571    Action\n",
       "3  2571    Sci-Fi\n",
       "4  2571  Thriller"
      ]
     },
     "execution_count": 52,
     "metadata": {},
     "output_type": "execute_result"
    }
   ],
   "source": [
    "genre_data.info()\n",
    "genre_data.head(5)"
   ]
  },
  {
   "cell_type": "code",
   "execution_count": 53,
   "id": "32451444",
   "metadata": {},
   "outputs": [
    {
     "name": "stdout",
     "output_type": "stream",
     "text": [
      "genre data shape:  (15933, 2)\n",
      "Number of unique items in genre_df:  6807\n",
      "Number of unique genres:  18\n"
     ]
    }
   ],
   "source": [
    "print (\"genre data shape: \", genre_data.shape)\n",
    "print(\"Number of unique items in genre_df: \", genre_data['item'].nunique())\n",
    "print(\"Number of unique genres: \", genre_data['genre'].nunique())"
   ]
  },
  {
   "cell_type": "code",
   "execution_count": 54,
   "id": "159ef273",
   "metadata": {},
   "outputs": [
    {
     "data": {
      "text/plain": [
       "user     0\n",
       "item     0\n",
       "time     0\n",
       "genre    0\n",
       "dtype: int64"
      ]
     },
     "execution_count": 54,
     "metadata": {},
     "output_type": "execute_result"
    }
   ],
   "source": [
    "pd.merge(train_df, genre_data, on='item', how='left').isnull().sum() # genre는 결측치 데이터가 없다."
   ]
  },
  {
   "cell_type": "code",
   "execution_count": 55,
   "id": "4ea1a34c",
   "metadata": {},
   "outputs": [
    {
     "data": {
      "text/html": [
       "<div>\n",
       "<style scoped>\n",
       "    .dataframe tbody tr th:only-of-type {\n",
       "        vertical-align: middle;\n",
       "    }\n",
       "\n",
       "    .dataframe tbody tr th {\n",
       "        vertical-align: top;\n",
       "    }\n",
       "\n",
       "    .dataframe thead th {\n",
       "        text-align: right;\n",
       "    }\n",
       "</style>\n",
       "<table border=\"1\" class=\"dataframe\">\n",
       "  <thead>\n",
       "    <tr style=\"text-align: right;\">\n",
       "      <th></th>\n",
       "      <th>item</th>\n",
       "      <th>genre</th>\n",
       "    </tr>\n",
       "  </thead>\n",
       "  <tbody>\n",
       "    <tr>\n",
       "      <th>0</th>\n",
       "      <td>318</td>\n",
       "      <td>Crime</td>\n",
       "    </tr>\n",
       "    <tr>\n",
       "      <th>1</th>\n",
       "      <td>318</td>\n",
       "      <td>Drama</td>\n",
       "    </tr>\n",
       "    <tr>\n",
       "      <th>2</th>\n",
       "      <td>2571</td>\n",
       "      <td>Action</td>\n",
       "    </tr>\n",
       "    <tr>\n",
       "      <th>3</th>\n",
       "      <td>2571</td>\n",
       "      <td>Sci-Fi</td>\n",
       "    </tr>\n",
       "    <tr>\n",
       "      <th>4</th>\n",
       "      <td>2571</td>\n",
       "      <td>Thriller</td>\n",
       "    </tr>\n",
       "  </tbody>\n",
       "</table>\n",
       "</div>"
      ],
      "text/plain": [
       "   item     genre\n",
       "0   318     Crime\n",
       "1   318     Drama\n",
       "2  2571    Action\n",
       "3  2571    Sci-Fi\n",
       "4  2571  Thriller"
      ]
     },
     "execution_count": 55,
     "metadata": {},
     "output_type": "execute_result"
    }
   ],
   "source": [
    "genre_data.head() # 결측치는 없는데, item이 같아도 genre가 다를 수 있음."
   ]
  },
  {
   "cell_type": "code",
   "execution_count": 56,
   "id": "0750b4e4",
   "metadata": {},
   "outputs": [
    {
     "data": {
      "text/plain": [
       "item\n",
       "1         5\n",
       "2         3\n",
       "3         2\n",
       "4         3\n",
       "5         1\n",
       "         ..\n",
       "118700    1\n",
       "118900    1\n",
       "118997    4\n",
       "119141    2\n",
       "119145    4\n",
       "Name: genre, Length: 6807, dtype: int64"
      ]
     },
     "execution_count": 56,
     "metadata": {},
     "output_type": "execute_result"
    }
   ],
   "source": [
    "genre_data.groupby('item')['genre'].count()"
   ]
  },
  {
   "cell_type": "code",
   "execution_count": 57,
   "id": "039c6c57",
   "metadata": {},
   "outputs": [
    {
     "data": {
      "text/plain": [
       "2     2280\n",
       "3     1786\n",
       "1     1756\n",
       "4      726\n",
       "5      212\n",
       "6       38\n",
       "7        7\n",
       "8        1\n",
       "10       1\n",
       "Name: genre, dtype: int64"
      ]
     },
     "execution_count": 57,
     "metadata": {},
     "output_type": "execute_result"
    }
   ],
   "source": [
    "genre_data.groupby('item')['genre'].count().value_counts()"
   ]
  },
  {
   "cell_type": "code",
   "execution_count": 58,
   "id": "bf146826",
   "metadata": {},
   "outputs": [
    {
     "data": {
      "text/plain": [
       "<AxesSubplot: >"
      ]
     },
     "execution_count": 58,
     "metadata": {},
     "output_type": "execute_result"
    },
    {
     "data": {
      "image/png": "[encoded data removed]",
      "text/plain": [
       "<Figure size 640x480 with 1 Axes>"
      ]
     },
     "metadata": {},
     "output_type": "display_data"
    }
   ],
   "source": [
    "genre_data.groupby('item')['genre'].count().hist(bins=100)"
   ]
  },
  {
   "attachments": {},
   "cell_type": "markdown",
   "id": "102883bf",
   "metadata": {},
   "source": [
    "### director"
   ]
  },
  {
   "cell_type": "markdown",
   "id": "97ba8644",
   "metadata": {
    "id": "97ba8644"
   },
   "source": [
    "마지막으로 *directors.tsv* 데이터입니다. \n",
    "각 column은 다음과 같은 정보를 담고 있습니다:\n",
    "- *item* : 영화 id.\n",
    "- *director* : 영화 감독. (익명화)\n",
    "\n",
    "하나의 영화는 여러 명의 감독을 가질 수 있습니다. 다음 코드를 실행하여 각 column의 data type과 같은 정보를 파악하고, 샘플 데이터를 출력해봅니다."
   ]
  },
  {
   "cell_type": "code",
   "execution_count": 59,
   "id": "4b93f747",
   "metadata": {
    "ExecuteTime": {
     "end_time": "2022-12-12T06:48:43.958357Z",
     "start_time": "2022-12-12T06:48:43.938437Z"
    },
    "id": "4b93f747"
   },
   "outputs": [
    {
     "name": "stdout",
     "output_type": "stream",
     "text": [
      "<class 'pandas.core.frame.DataFrame'>\n",
      "RangeIndex: 5905 entries, 0 to 5904\n",
      "Data columns (total 2 columns):\n",
      " #   Column    Non-Null Count  Dtype \n",
      "---  ------    --------------  ----- \n",
      " 0   item      5905 non-null   int64 \n",
      " 1   director  5905 non-null   object\n",
      "dtypes: int64(1), object(1)\n",
      "memory usage: 92.4+ KB\n"
     ]
    },
    {
     "data": {
      "text/html": [
       "<div>\n",
       "<style scoped>\n",
       "    .dataframe tbody tr th:only-of-type {\n",
       "        vertical-align: middle;\n",
       "    }\n",
       "\n",
       "    .dataframe tbody tr th {\n",
       "        vertical-align: top;\n",
       "    }\n",
       "\n",
       "    .dataframe thead th {\n",
       "        text-align: right;\n",
       "    }\n",
       "</style>\n",
       "<table border=\"1\" class=\"dataframe\">\n",
       "  <thead>\n",
       "    <tr style=\"text-align: right;\">\n",
       "      <th></th>\n",
       "      <th>item</th>\n",
       "      <th>director</th>\n",
       "    </tr>\n",
       "  </thead>\n",
       "  <tbody>\n",
       "    <tr>\n",
       "      <th>0</th>\n",
       "      <td>1237</td>\n",
       "      <td>nm0000005</td>\n",
       "    </tr>\n",
       "    <tr>\n",
       "      <th>1</th>\n",
       "      <td>5147</td>\n",
       "      <td>nm0000005</td>\n",
       "    </tr>\n",
       "    <tr>\n",
       "      <th>2</th>\n",
       "      <td>7327</td>\n",
       "      <td>nm0000005</td>\n",
       "    </tr>\n",
       "    <tr>\n",
       "      <th>3</th>\n",
       "      <td>2068</td>\n",
       "      <td>nm0000005</td>\n",
       "    </tr>\n",
       "    <tr>\n",
       "      <th>4</th>\n",
       "      <td>7396</td>\n",
       "      <td>nm0000005</td>\n",
       "    </tr>\n",
       "  </tbody>\n",
       "</table>\n",
       "</div>"
      ],
      "text/plain": [
       "   item   director\n",
       "0  1237  nm0000005\n",
       "1  5147  nm0000005\n",
       "2  7327  nm0000005\n",
       "3  2068  nm0000005\n",
       "4  7396  nm0000005"
      ]
     },
     "execution_count": 59,
     "metadata": {},
     "output_type": "execute_result"
    }
   ],
   "source": [
    "director_data.info()\n",
    "director_data.head(5)"
   ]
  },
  {
   "cell_type": "code",
   "execution_count": 60,
   "id": "fe1c7d32",
   "metadata": {},
   "outputs": [
    {
     "name": "stdout",
     "output_type": "stream",
     "text": [
      "director data shape:  (5905, 2)\n",
      "Number of unique items in director_df:  5503\n",
      "Number of unique directors:  1340\n"
     ]
    }
   ],
   "source": [
    "print (\"director data shape: \", director_data.shape)\n",
    "print(\"Number of unique items in director_df: \", director_data['item'].nunique())\n",
    "print(\"Number of unique directors: \", director_data['director'].nunique())"
   ]
  },
  {
   "cell_type": "code",
   "execution_count": 61,
   "id": "6dce6b40",
   "metadata": {},
   "outputs": [
    {
     "data": {
      "text/plain": [
       "user             0\n",
       "item             0\n",
       "time             0\n",
       "director    301445\n",
       "dtype: int64"
      ]
     },
     "execution_count": 61,
     "metadata": {},
     "output_type": "execute_result"
    }
   ],
   "source": [
    "# train_df에서의 director data 결측치 확인\n",
    "pd.merge(train_df, director_data, on='item', how='left').isnull().sum()"
   ]
  },
  {
   "cell_type": "code",
   "execution_count": 62,
   "id": "1924d264",
   "metadata": {},
   "outputs": [
    {
     "data": {
      "text/plain": [
       "item\n",
       "50912     13\n",
       "1282       9\n",
       "27002      7\n",
       "71823      6\n",
       "596        6\n",
       "          ..\n",
       "5377       1\n",
       "5444       1\n",
       "5574       1\n",
       "5636       1\n",
       "119141     1\n",
       "Length: 283, dtype: int64"
      ]
     },
     "execution_count": 62,
     "metadata": {},
     "output_type": "execute_result"
    }
   ],
   "source": [
    "director_data[director_data.duplicated(['item'])].value_counts('item')"
   ]
  },
  {
   "attachments": {},
   "cell_type": "markdown",
   "id": "4713e2bf",
   "metadata": {},
   "source": [
    "## 5개의 추가 정보를 다 merge 해줬을 때"
   ]
  },
  {
   "attachments": {},
   "cell_type": "markdown",
   "id": "7c99871f",
   "metadata": {},
   "source": [
    "먼저 5개의 추가 정보들의 고유값 개수를 다시 한눈에 비교해보자"
   ]
  },
  {
   "cell_type": "code",
   "execution_count": 63,
   "id": "bd0580eb",
   "metadata": {},
   "outputs": [
    {
     "name": "stdout",
     "output_type": "stream",
     "text": [
      "year : 93\n",
      "writer : 2989\n",
      "title : 6806\n",
      "genre : 18\n",
      "director : 1340\n"
     ]
    }
   ],
   "source": [
    "print(\"year :\", year_data['year'].nunique())\n",
    "print(\"writer :\", writer_data['writer'].nunique())\n",
    "print(\"title :\", title_data['title'].nunique())\n",
    "print(\"genre :\", genre_data['genre'].nunique())\n",
    "print(\"director :\", director_data['director'].nunique())"
   ]
  },
  {
   "attachments": {},
   "cell_type": "markdown",
   "id": "975835c6",
   "metadata": {},
   "source": [
    "중복 데이터는 첫번째 데이터만 남기고 나머지는 제거 후, left로 merge 해보자."
   ]
  },
  {
   "cell_type": "code",
   "execution_count": 64,
   "id": "23155266",
   "metadata": {},
   "outputs": [
    {
     "data": {
      "text/html": [
       "<div>\n",
       "<style scoped>\n",
       "    .dataframe tbody tr th:only-of-type {\n",
       "        vertical-align: middle;\n",
       "    }\n",
       "\n",
       "    .dataframe tbody tr th {\n",
       "        vertical-align: top;\n",
       "    }\n",
       "\n",
       "    .dataframe thead th {\n",
       "        text-align: right;\n",
       "    }\n",
       "</style>\n",
       "<table border=\"1\" class=\"dataframe\">\n",
       "  <thead>\n",
       "    <tr style=\"text-align: right;\">\n",
       "      <th></th>\n",
       "      <th>user</th>\n",
       "      <th>item</th>\n",
       "      <th>time</th>\n",
       "      <th>year</th>\n",
       "      <th>writer</th>\n",
       "      <th>title</th>\n",
       "      <th>genre</th>\n",
       "      <th>director</th>\n",
       "    </tr>\n",
       "  </thead>\n",
       "  <tbody>\n",
       "    <tr>\n",
       "      <th>0</th>\n",
       "      <td>11</td>\n",
       "      <td>4643</td>\n",
       "      <td>1230782529</td>\n",
       "      <td>2001.0</td>\n",
       "      <td>nm0099541</td>\n",
       "      <td>Planet of the Apes (2001)</td>\n",
       "      <td>Action</td>\n",
       "      <td>nm0000318</td>\n",
       "    </tr>\n",
       "    <tr>\n",
       "      <th>1</th>\n",
       "      <td>11</td>\n",
       "      <td>170</td>\n",
       "      <td>1230782534</td>\n",
       "      <td>1995.0</td>\n",
       "      <td>NaN</td>\n",
       "      <td>Hackers (1995)</td>\n",
       "      <td>Action</td>\n",
       "      <td>nm0812200</td>\n",
       "    </tr>\n",
       "    <tr>\n",
       "      <th>2</th>\n",
       "      <td>11</td>\n",
       "      <td>531</td>\n",
       "      <td>1230782539</td>\n",
       "      <td>1993.0</td>\n",
       "      <td>nm0003031</td>\n",
       "      <td>Secret Garden, The (1993)</td>\n",
       "      <td>Children</td>\n",
       "      <td>nm0002140</td>\n",
       "    </tr>\n",
       "    <tr>\n",
       "      <th>3</th>\n",
       "      <td>11</td>\n",
       "      <td>616</td>\n",
       "      <td>1230782542</td>\n",
       "      <td>1970.0</td>\n",
       "      <td>nm0027011</td>\n",
       "      <td>Aristocats, The (1970)</td>\n",
       "      <td>Animation</td>\n",
       "      <td>nm0718627</td>\n",
       "    </tr>\n",
       "    <tr>\n",
       "      <th>4</th>\n",
       "      <td>11</td>\n",
       "      <td>2140</td>\n",
       "      <td>1230782563</td>\n",
       "      <td>1982.0</td>\n",
       "      <td>nm0001345</td>\n",
       "      <td>Dark Crystal, The (1982)</td>\n",
       "      <td>Adventure</td>\n",
       "      <td>nm0000568</td>\n",
       "    </tr>\n",
       "  </tbody>\n",
       "</table>\n",
       "</div>"
      ],
      "text/plain": [
       "   user  item        time    year     writer                      title  \\\n",
       "0    11  4643  1230782529  2001.0  nm0099541  Planet of the Apes (2001)   \n",
       "1    11   170  1230782534  1995.0        NaN             Hackers (1995)   \n",
       "2    11   531  1230782539  1993.0  nm0003031  Secret Garden, The (1993)   \n",
       "3    11   616  1230782542  1970.0  nm0027011     Aristocats, The (1970)   \n",
       "4    11  2140  1230782563  1982.0  nm0001345   Dark Crystal, The (1982)   \n",
       "\n",
       "       genre   director  \n",
       "0     Action  nm0000318  \n",
       "1     Action  nm0812200  \n",
       "2   Children  nm0002140  \n",
       "3  Animation  nm0718627  \n",
       "4  Adventure  nm0000568  "
      ]
     },
     "execution_count": 64,
     "metadata": {},
     "output_type": "execute_result"
    }
   ],
   "source": [
    "df_merge = pd.merge(train_df, year_data.drop_duplicates(subset=['item']), on='item', how='left')\n",
    "df_merge = pd.merge(df_merge, writer_data.drop_duplicates(subset=['item']), on='item', how='left')\n",
    "df_merge = pd.merge(df_merge, title_data.drop_duplicates(subset=['item']), on='item', how='left')\n",
    "df_merge = pd.merge(df_merge, genre_data.drop_duplicates(subset=['item']), on='item', how='left')\n",
    "df_merge = pd.merge(df_merge, director_data.drop_duplicates(subset=['item']), on='item', how='left')\n",
    "\n",
    "df_merge.head()"
   ]
  },
  {
   "cell_type": "code",
   "execution_count": 65,
   "id": "59e5d1f0",
   "metadata": {},
   "outputs": [
    {
     "name": "stdout",
     "output_type": "stream",
     "text": [
      "<class 'pandas.core.frame.DataFrame'>\n",
      "Int64Index: 5154471 entries, 0 to 5154470\n",
      "Data columns (total 8 columns):\n",
      " #   Column    Dtype  \n",
      "---  ------    -----  \n",
      " 0   user      int64  \n",
      " 1   item      int64  \n",
      " 2   time      int64  \n",
      " 3   year      float64\n",
      " 4   writer    object \n",
      " 5   title     object \n",
      " 6   genre     object \n",
      " 7   director  object \n",
      "dtypes: float64(1), int64(3), object(4)\n",
      "memory usage: 353.9+ MB\n"
     ]
    }
   ],
   "source": [
    "df_merge.info()"
   ]
  },
  {
   "cell_type": "code",
   "execution_count": 66,
   "id": "efafd207",
   "metadata": {},
   "outputs": [
    {
     "data": {
      "text/html": [
       "<div>\n",
       "<style scoped>\n",
       "    .dataframe tbody tr th:only-of-type {\n",
       "        vertical-align: middle;\n",
       "    }\n",
       "\n",
       "    .dataframe tbody tr th {\n",
       "        vertical-align: top;\n",
       "    }\n",
       "\n",
       "    .dataframe thead th {\n",
       "        text-align: right;\n",
       "    }\n",
       "</style>\n",
       "<table border=\"1\" class=\"dataframe\">\n",
       "  <thead>\n",
       "    <tr style=\"text-align: right;\">\n",
       "      <th></th>\n",
       "      <th>user</th>\n",
       "      <th>item</th>\n",
       "      <th>time</th>\n",
       "      <th>year</th>\n",
       "      <th>writer</th>\n",
       "      <th>title</th>\n",
       "      <th>genre</th>\n",
       "      <th>director</th>\n",
       "    </tr>\n",
       "  </thead>\n",
       "  <tbody>\n",
       "    <tr>\n",
       "      <th>3486</th>\n",
       "      <td>132</td>\n",
       "      <td>6987</td>\n",
       "      <td>1114010962</td>\n",
       "      <td>NaN</td>\n",
       "      <td>nm0562346</td>\n",
       "      <td>Cabinet of Dr. Caligari, The (Cabinet des Dr. ...</td>\n",
       "      <td>Crime</td>\n",
       "      <td>NaN</td>\n",
       "    </tr>\n",
       "    <tr>\n",
       "      <th>13645</th>\n",
       "      <td>413</td>\n",
       "      <td>6987</td>\n",
       "      <td>1128709337</td>\n",
       "      <td>NaN</td>\n",
       "      <td>nm0562346</td>\n",
       "      <td>Cabinet of Dr. Caligari, The (Cabinet des Dr. ...</td>\n",
       "      <td>Crime</td>\n",
       "      <td>NaN</td>\n",
       "    </tr>\n",
       "    <tr>\n",
       "      <th>14766</th>\n",
       "      <td>425</td>\n",
       "      <td>3310</td>\n",
       "      <td>1418071653</td>\n",
       "      <td>NaN</td>\n",
       "      <td>nm0000122</td>\n",
       "      <td>Kid, The (1921)</td>\n",
       "      <td>Comedy</td>\n",
       "      <td>nm0000122</td>\n",
       "    </tr>\n",
       "    <tr>\n",
       "      <th>15678</th>\n",
       "      <td>448</td>\n",
       "      <td>6987</td>\n",
       "      <td>1128537722</td>\n",
       "      <td>NaN</td>\n",
       "      <td>nm0562346</td>\n",
       "      <td>Cabinet of Dr. Caligari, The (Cabinet des Dr. ...</td>\n",
       "      <td>Crime</td>\n",
       "      <td>NaN</td>\n",
       "    </tr>\n",
       "    <tr>\n",
       "      <th>19598</th>\n",
       "      <td>563</td>\n",
       "      <td>6987</td>\n",
       "      <td>1171575158</td>\n",
       "      <td>NaN</td>\n",
       "      <td>nm0562346</td>\n",
       "      <td>Cabinet of Dr. Caligari, The (Cabinet des Dr. ...</td>\n",
       "      <td>Crime</td>\n",
       "      <td>NaN</td>\n",
       "    </tr>\n",
       "    <tr>\n",
       "      <th>...</th>\n",
       "      <td>...</td>\n",
       "      <td>...</td>\n",
       "      <td>...</td>\n",
       "      <td>...</td>\n",
       "      <td>...</td>\n",
       "      <td>...</td>\n",
       "      <td>...</td>\n",
       "      <td>...</td>\n",
       "    </tr>\n",
       "    <tr>\n",
       "      <th>5147569</th>\n",
       "      <td>138325</td>\n",
       "      <td>8511</td>\n",
       "      <td>1268938902</td>\n",
       "      <td>NaN</td>\n",
       "      <td>nm0000122</td>\n",
       "      <td>Immigrant, The (1917)</td>\n",
       "      <td>Comedy</td>\n",
       "      <td>nm0000122</td>\n",
       "    </tr>\n",
       "    <tr>\n",
       "      <th>5147629</th>\n",
       "      <td>138325</td>\n",
       "      <td>7065</td>\n",
       "      <td>1279124995</td>\n",
       "      <td>NaN</td>\n",
       "      <td>nm0000428</td>\n",
       "      <td>Birth of a Nation, The (1915)</td>\n",
       "      <td>Drama</td>\n",
       "      <td>nm0000428</td>\n",
       "    </tr>\n",
       "    <tr>\n",
       "      <th>5150507</th>\n",
       "      <td>138406</td>\n",
       "      <td>3310</td>\n",
       "      <td>1139933369</td>\n",
       "      <td>NaN</td>\n",
       "      <td>nm0000122</td>\n",
       "      <td>Kid, The (1921)</td>\n",
       "      <td>Comedy</td>\n",
       "      <td>nm0000122</td>\n",
       "    </tr>\n",
       "    <tr>\n",
       "      <th>5150755</th>\n",
       "      <td>138406</td>\n",
       "      <td>32898</td>\n",
       "      <td>1372717892</td>\n",
       "      <td>NaN</td>\n",
       "      <td>nm0894523</td>\n",
       "      <td>Trip to the Moon, A (Voyage dans la lune, Le) ...</td>\n",
       "      <td>Action</td>\n",
       "      <td>NaN</td>\n",
       "    </tr>\n",
       "    <tr>\n",
       "      <th>5153857</th>\n",
       "      <td>138475</td>\n",
       "      <td>6987</td>\n",
       "      <td>1126812019</td>\n",
       "      <td>NaN</td>\n",
       "      <td>nm0562346</td>\n",
       "      <td>Cabinet of Dr. Caligari, The (Cabinet des Dr. ...</td>\n",
       "      <td>Crime</td>\n",
       "      <td>NaN</td>\n",
       "    </tr>\n",
       "  </tbody>\n",
       "</table>\n",
       "<p>1832 rows × 8 columns</p>\n",
       "</div>"
      ],
      "text/plain": [
       "           user   item        time  year     writer  \\\n",
       "3486        132   6987  1114010962   NaN  nm0562346   \n",
       "13645       413   6987  1128709337   NaN  nm0562346   \n",
       "14766       425   3310  1418071653   NaN  nm0000122   \n",
       "15678       448   6987  1128537722   NaN  nm0562346   \n",
       "19598       563   6987  1171575158   NaN  nm0562346   \n",
       "...         ...    ...         ...   ...        ...   \n",
       "5147569  138325   8511  1268938902   NaN  nm0000122   \n",
       "5147629  138325   7065  1279124995   NaN  nm0000428   \n",
       "5150507  138406   3310  1139933369   NaN  nm0000122   \n",
       "5150755  138406  32898  1372717892   NaN  nm0894523   \n",
       "5153857  138475   6987  1126812019   NaN  nm0562346   \n",
       "\n",
       "                                                     title   genre   director  \n",
       "3486     Cabinet of Dr. Caligari, The (Cabinet des Dr. ...   Crime        NaN  \n",
       "13645    Cabinet of Dr. Caligari, The (Cabinet des Dr. ...   Crime        NaN  \n",
       "14766                                      Kid, The (1921)  Comedy  nm0000122  \n",
       "15678    Cabinet of Dr. Caligari, The (Cabinet des Dr. ...   Crime        NaN  \n",
       "19598    Cabinet of Dr. Caligari, The (Cabinet des Dr. ...   Crime        NaN  \n",
       "...                                                    ...     ...        ...  \n",
       "5147569                              Immigrant, The (1917)  Comedy  nm0000122  \n",
       "5147629                      Birth of a Nation, The (1915)   Drama  nm0000428  \n",
       "5150507                                    Kid, The (1921)  Comedy  nm0000122  \n",
       "5150755  Trip to the Moon, A (Voyage dans la lune, Le) ...  Action        NaN  \n",
       "5153857  Cabinet of Dr. Caligari, The (Cabinet des Dr. ...   Crime        NaN  \n",
       "\n",
       "[1832 rows x 8 columns]"
      ]
     },
     "execution_count": 66,
     "metadata": {},
     "output_type": "execute_result"
    }
   ],
   "source": [
    "# 전체 train_df에서 year 정보가 NaN 값인 행 확인\n",
    "df_merge[df_merge['year'].isnull()]"
   ]
  },
  {
   "cell_type": "code",
   "execution_count": 71,
   "id": "5c1df290",
   "metadata": {},
   "outputs": [
    {
     "data": {
      "text/plain": [
       "<AxesSubplot: >"
      ]
     },
     "execution_count": 71,
     "metadata": {},
     "output_type": "execute_result"
    },
    {
     "data": {
      "image/png": "[encoded data removed]",
      "text/plain": [
       "<Figure size 2400x1000 with 3 Axes>"
      ]
     },
     "metadata": {},
     "output_type": "display_data"
    }
   ],
   "source": [
    "import missingno\n",
    "missingno.bar(df_merge)"
   ]
  },
  {
   "attachments": {},
   "cell_type": "markdown",
   "id": "7dc348f2",
   "metadata": {},
   "source": [
    "위의 missingno 결측치 시각화 그래프를 보아,\n",
    "\n",
    "year, writer, director 컬럼에 결측치가 있음을 확인할 수 있다."
   ]
  },
  {
   "attachments": {},
   "cell_type": "markdown",
   "id": "fa3a9237",
   "metadata": {},
   "source": [
    "### 위 조건에서 결측치는 제외하고 inner merge 해줬을 때"
   ]
  },
  {
   "cell_type": "code",
   "execution_count": 67,
   "id": "634e6d40",
   "metadata": {},
   "outputs": [
    {
     "data": {
      "text/html": [
       "<div>\n",
       "<style scoped>\n",
       "    .dataframe tbody tr th:only-of-type {\n",
       "        vertical-align: middle;\n",
       "    }\n",
       "\n",
       "    .dataframe tbody tr th {\n",
       "        vertical-align: top;\n",
       "    }\n",
       "\n",
       "    .dataframe thead th {\n",
       "        text-align: right;\n",
       "    }\n",
       "</style>\n",
       "<table border=\"1\" class=\"dataframe\">\n",
       "  <thead>\n",
       "    <tr style=\"text-align: right;\">\n",
       "      <th></th>\n",
       "      <th>user</th>\n",
       "      <th>item</th>\n",
       "      <th>time</th>\n",
       "      <th>year</th>\n",
       "      <th>writer</th>\n",
       "      <th>title</th>\n",
       "      <th>genre</th>\n",
       "      <th>director</th>\n",
       "    </tr>\n",
       "  </thead>\n",
       "  <tbody>\n",
       "    <tr>\n",
       "      <th>0</th>\n",
       "      <td>11</td>\n",
       "      <td>4643</td>\n",
       "      <td>1230782529</td>\n",
       "      <td>2001</td>\n",
       "      <td>nm0099541</td>\n",
       "      <td>Planet of the Apes (2001)</td>\n",
       "      <td>Action</td>\n",
       "      <td>nm0000318</td>\n",
       "    </tr>\n",
       "    <tr>\n",
       "      <th>1</th>\n",
       "      <td>189</td>\n",
       "      <td>4643</td>\n",
       "      <td>1302945016</td>\n",
       "      <td>2001</td>\n",
       "      <td>nm0099541</td>\n",
       "      <td>Planet of the Apes (2001)</td>\n",
       "      <td>Action</td>\n",
       "      <td>nm0000318</td>\n",
       "    </tr>\n",
       "    <tr>\n",
       "      <th>2</th>\n",
       "      <td>294</td>\n",
       "      <td>4643</td>\n",
       "      <td>1288437662</td>\n",
       "      <td>2001</td>\n",
       "      <td>nm0099541</td>\n",
       "      <td>Planet of the Apes (2001)</td>\n",
       "      <td>Action</td>\n",
       "      <td>nm0000318</td>\n",
       "    </tr>\n",
       "    <tr>\n",
       "      <th>3</th>\n",
       "      <td>383</td>\n",
       "      <td>4643</td>\n",
       "      <td>1261996844</td>\n",
       "      <td>2001</td>\n",
       "      <td>nm0099541</td>\n",
       "      <td>Planet of the Apes (2001)</td>\n",
       "      <td>Action</td>\n",
       "      <td>nm0000318</td>\n",
       "    </tr>\n",
       "    <tr>\n",
       "      <th>4</th>\n",
       "      <td>421</td>\n",
       "      <td>4643</td>\n",
       "      <td>1190624541</td>\n",
       "      <td>2001</td>\n",
       "      <td>nm0099541</td>\n",
       "      <td>Planet of the Apes (2001)</td>\n",
       "      <td>Action</td>\n",
       "      <td>nm0000318</td>\n",
       "    </tr>\n",
       "  </tbody>\n",
       "</table>\n",
       "</div>"
      ],
      "text/plain": [
       "   user  item        time  year     writer                      title   genre  \\\n",
       "0    11  4643  1230782529  2001  nm0099541  Planet of the Apes (2001)  Action   \n",
       "1   189  4643  1302945016  2001  nm0099541  Planet of the Apes (2001)  Action   \n",
       "2   294  4643  1288437662  2001  nm0099541  Planet of the Apes (2001)  Action   \n",
       "3   383  4643  1261996844  2001  nm0099541  Planet of the Apes (2001)  Action   \n",
       "4   421  4643  1190624541  2001  nm0099541  Planet of the Apes (2001)  Action   \n",
       "\n",
       "    director  \n",
       "0  nm0000318  \n",
       "1  nm0000318  \n",
       "2  nm0000318  \n",
       "3  nm0000318  \n",
       "4  nm0000318  "
      ]
     },
     "execution_count": 67,
     "metadata": {},
     "output_type": "execute_result"
    }
   ],
   "source": [
    "df_merge2 = pd.merge(train_df, year_data.drop_duplicates(subset=['item']), on='item', how='inner')\n",
    "df_merge2 = pd.merge(df_merge2, writer_data.drop_duplicates(subset=['item']), on='item', how='inner')\n",
    "df_merge2 = pd.merge(df_merge2, title_data.drop_duplicates(subset=['item']), on='item', how='inner')\n",
    "df_merge2 = pd.merge(df_merge2, genre_data.drop_duplicates(subset=['item']), on='item', how='inner')\n",
    "df_merge2 = pd.merge(df_merge2, director_data.drop_duplicates(subset=['item']), on='item', how='inner')\n",
    "\n",
    "df_merge2.head()"
   ]
  },
  {
   "attachments": {},
   "cell_type": "markdown",
   "id": "215ee326",
   "metadata": {},
   "source": [
    "inner join 시, left join보다 merge한 전체 데이터 개수가 적어지는 것을 확인할 수 있다.\n",
    "\n",
    "5154471  ->  4658299"
   ]
  },
  {
   "cell_type": "code",
   "execution_count": 68,
   "id": "18538118",
   "metadata": {},
   "outputs": [
    {
     "name": "stdout",
     "output_type": "stream",
     "text": [
      "<class 'pandas.core.frame.DataFrame'>\n",
      "Int64Index: 4658299 entries, 0 to 4658298\n",
      "Data columns (total 8 columns):\n",
      " #   Column    Dtype \n",
      "---  ------    ----- \n",
      " 0   user      int64 \n",
      " 1   item      int64 \n",
      " 2   time      int64 \n",
      " 3   year      int64 \n",
      " 4   writer    object\n",
      " 5   title     object\n",
      " 6   genre     object\n",
      " 7   director  object\n",
      "dtypes: int64(4), object(4)\n",
      "memory usage: 319.9+ MB\n"
     ]
    }
   ],
   "source": [
    "df_merge2.info() #  5154471  ->  4658299"
   ]
  },
  {
   "cell_type": "code",
   "execution_count": 73,
   "id": "50edb623",
   "metadata": {},
   "outputs": [
    {
     "name": "stdout",
     "output_type": "stream",
     "text": [
      "df_merge : 31360\n",
      "df_merge2 : 31360\n"
     ]
    }
   ],
   "source": [
    "# 유저 수 변화 확인\n",
    "print(\"df_merge :\", df_merge['user'].nunique())\n",
    "print(\"df_merge2 :\", df_merge2['user'].nunique())"
   ]
  },
  {
   "cell_type": "code",
   "execution_count": 72,
   "id": "ebea53d0",
   "metadata": {},
   "outputs": [
    {
     "data": {
      "text/plain": [
       "<AxesSubplot: >"
      ]
     },
     "execution_count": 72,
     "metadata": {},
     "output_type": "execute_result"
    },
    {
     "data": {
      "image/png": "[encoded data removed]",
      "text/plain": [
       "<Figure size 2500x1000 with 2 Axes>"
      ]
     },
     "metadata": {},
     "output_type": "display_data"
    }
   ],
   "source": [
    "missingno.matrix(df_merge2)"
   ]
  },
  {
   "cell_type": "markdown",
   "id": "0886c0de",
   "metadata": {
    "id": "0886c0de"
   },
   "source": [
    "## 데이터 시각화 해보기\n",
    "앞에서 주어진 데이터셋을 먼저 간단히 살펴보았습니다. 이제부터는 다수의 파일을 merge하여 시각화하고, 데이터에 대해 좀 더 깊은 이해를 해보겠습니다."
   ]
  },
  {
   "cell_type": "markdown",
   "id": "76a40230",
   "metadata": {
    "id": "76a40230"
   },
   "source": [
    "먼저 효율적인 데이터 시각화를 위해, 데이터셋에서 빈도수가 높은 movie, user 데이터의 id를 미리 저장하겠습니다.\n",
    "train 데이터에서 데이터의 출현 빈도 순으로 *active_user_ids*와 *popular_movie_ids*에 top 10을 각각 저장합니다.\n",
    "\n",
    "대회 데이터셋에서 빈도수가 높을수록 유명한 영화를 나타내는 것은 아니지만, 편의상 *popular_movie_id* 변수명을 사용하는 점을 당부드립니다.\n",
    "\n",
    "다음 코드를 실행해주세요."
   ]
  },
  {
   "cell_type": "code",
   "execution_count": 111,
   "id": "d4ea74ed",
   "metadata": {
    "ExecuteTime": {
     "end_time": "2022-12-12T06:56:54.294637Z",
     "start_time": "2022-12-12T06:56:54.275304Z"
    }
   },
   "outputs": [
    {
     "data": {
      "text/html": [
       "<div>\n",
       "<style scoped>\n",
       "    .dataframe tbody tr th:only-of-type {\n",
       "        vertical-align: middle;\n",
       "    }\n",
       "\n",
       "    .dataframe tbody tr th {\n",
       "        vertical-align: top;\n",
       "    }\n",
       "\n",
       "    .dataframe thead th {\n",
       "        text-align: right;\n",
       "    }\n",
       "</style>\n",
       "<table border=\"1\" class=\"dataframe\">\n",
       "  <thead>\n",
       "    <tr style=\"text-align: right;\">\n",
       "      <th></th>\n",
       "      <th>user</th>\n",
       "      <th>item</th>\n",
       "      <th>time</th>\n",
       "    </tr>\n",
       "  </thead>\n",
       "  <tbody>\n",
       "    <tr>\n",
       "      <th>0</th>\n",
       "      <td>11</td>\n",
       "      <td>4643</td>\n",
       "      <td>1230782529</td>\n",
       "    </tr>\n",
       "    <tr>\n",
       "      <th>1</th>\n",
       "      <td>11</td>\n",
       "      <td>170</td>\n",
       "      <td>1230782534</td>\n",
       "    </tr>\n",
       "  </tbody>\n",
       "</table>\n",
       "</div>"
      ],
      "text/plain": [
       "   user  item        time\n",
       "0    11  4643  1230782529\n",
       "1    11   170  1230782534"
      ]
     },
     "execution_count": 111,
     "metadata": {},
     "output_type": "execute_result"
    }
   ],
   "source": [
    "train_df[:2]"
   ]
  },
  {
   "cell_type": "code",
   "execution_count": 112,
   "id": "3318b7e8",
   "metadata": {
    "ExecuteTime": {
     "end_time": "2022-12-12T06:48:49.710413Z",
     "start_time": "2022-12-12T06:48:49.592308Z"
    },
    "id": "3318b7e8"
   },
   "outputs": [
    {
     "name": "stdout",
     "output_type": "stream",
     "text": [
      "active user ids:  Int64Index([8405, 54465, 24219, 32514, 91349, 131904, 34576, 99754, 31122,\n",
      "            118754],\n",
      "           dtype='int64', name='user')\n",
      "\n",
      "popular movie ids:  Int64Index([2571, 2959, 296, 318, 356, 4993, 7153, 5952, 593, 2858], dtype='int64', name='item')\n"
     ]
    }
   ],
   "source": [
    "active_user_ids = train_df.value_counts('user').index[:10]\n",
    "popular_movie_ids = train_df.value_counts('item').index[:10]\n",
    "\n",
    "print (\"active user ids: \", active_user_ids)\n",
    "print (\"\\npopular movie ids: \", popular_movie_ids)"
   ]
  },
  {
   "cell_type": "markdown",
   "id": "f6536b69",
   "metadata": {
    "id": "f6536b69"
   },
   "source": [
    "*active_user_ids*와 *popular_movie_ids*에 각각 빈도가 높은 영화와 사용자 id들을 저장했습니다. 뒤에서도 계속 사용할 예정이니 참고해 주세요.\n",
    "\n",
    "이제부터는 train 데이터와 side information 데이터를 merge하고, side information 별 user-item 빈도수가 높은 데이터 샘플을 미리 저장합니다. 위에서 저장한 active user id와 popular movie id와 다르게 여기서는 바로 Pandas Dataframe의 형태로 샘플을 저장합니다. 빈도가 가장 높은 10개 side information data가 해당하는 모든 user-item interaction를 저장할 것이므로, 각 side information 데이터 샘플의 크기는 상이합니다.\n",
    "\n",
    "이어지는 코드 cell들을 실행해보고, 출력된 결과를 충분히 관찰해보시기 바랍니다."
   ]
  },
  {
   "cell_type": "code",
   "execution_count": 113,
   "id": "9c6d680e",
   "metadata": {
    "ExecuteTime": {
     "end_time": "2022-12-12T06:54:12.124541Z",
     "start_time": "2022-12-12T06:54:09.883819Z"
    },
    "id": "9c6d680e"
   },
   "outputs": [
    {
     "name": "stdout",
     "output_type": "stream",
     "text": [
      "Number of all unique director ids:  1340\n",
      "\n",
      "top 10 director ids: \n",
      " Index(['nm0000229', 'nm0000233', 'nm0634240', 'nm0000709', 'nm0001392',\n",
      "       'nm0000217', 'nm0001054', 'nm0000116', 'nm0000399', 'nm0000631'],\n",
      "      dtype='object', name='director')\n",
      "\n",
      "sample of top 10 user-director data: \n",
      "            user   item        time   director\n",
      "1264562  131126   1387  1166046536  nm0000229\n",
      "1538251   20834   7153  1144277776  nm0001392\n",
      "3794311   54291  74458  1381029522  nm0000217\n",
      "1358877    7899  58559  1328409641  nm0634240\n",
      "2636714    1644  32587  1417850569  nm0000233\n",
      "\n",
      "shape of the data:  (672019, 4)\n"
     ]
    }
   ],
   "source": [
    "director_df = pd.merge(train_df, director_data, on=['item'])\n",
    "director_id = director_df.value_counts('director').index[:10]\n",
    "\n",
    "side_df = []\n",
    "for director in director_id:\n",
    "    side_df.append(director_df.loc[director_df['director'] == director])\n",
    "\n",
    "director_top = pd.concat(side_df) # 상위 감독 10명의 영화(item)에 대한 평점 데이터 - 67만개\n",
    "\n",
    "print (\"Number of all unique director ids: \", director_df['director'].nunique())\n",
    "print (\"\\ntop 10 director ids: \\n\", director_id)\n",
    "print (\"\\nsample of top 10 user-director data: \\n\", director_top.sample(5))\n",
    "print (\"\\nshape of the data: \", director_top.shape)"
   ]
  },
  {
   "cell_type": "code",
   "execution_count": 114,
   "id": "8eb01464",
   "metadata": {
    "ExecuteTime": {
     "end_time": "2022-12-12T06:59:40.643529Z",
     "start_time": "2022-12-12T06:59:36.114969Z"
    },
    "id": "8eb01464"
   },
   "outputs": [
    {
     "name": "stdout",
     "output_type": "stream",
     "text": [
      "Number of all unique writer ids:  2989\n",
      "\n",
      "top 10 writer ids: \n",
      " Index(['nm0000184', 'nm0000233', 'nm0634240', 'nm0001392', 'nm0909638',\n",
      "       'nm0004056', 'nm0744429', 'nm0101991', 'nm0254645', 'nm0000175'],\n",
      "      dtype='object', name='writer')\n",
      "\n",
      "sample of top 10 user-writer data: \n",
      "            user   item        time     writer\n",
      "4434471   45628   2115  1319299279  nm0000184\n",
      "1672322   78689   6874  1215971089  nm0000233\n",
      "1725033  105343   6539  1126007502  nm0254645\n",
      "2077648   17435    296  1364337490  nm0000233\n",
      "5309084   51241  86880  1376938686  nm0254645\n",
      "\n",
      "shape of the data:  (651286, 4)\n"
     ]
    }
   ],
   "source": [
    "writer_df = pd.merge(train_df, writer_data, on=['item'])\n",
    "writer_id = writer_df.value_counts('writer').index[:10]\n",
    "\n",
    "side_df = []\n",
    "for writer in writer_id:\n",
    "    side_df.append(writer_df.loc[writer_df['writer'] == writer])\n",
    "\n",
    "writer_top = pd.concat(side_df) # 상위 writer 10명의 영화(item)에 대한 평점 데이터 - 65만개\n",
    "\n",
    "print (\"Number of all unique writer ids: \", writer_df['writer'].nunique())\n",
    "print (\"\\ntop 10 writer ids: \\n\", writer_id)\n",
    "print (\"\\nsample of top 10 user-writer data: \\n\", writer_top.sample(5))\n",
    "print (\"\\nshape of the data: \", writer_top.shape)"
   ]
  },
  {
   "cell_type": "code",
   "execution_count": 115,
   "id": "2491c124",
   "metadata": {
    "ExecuteTime": {
     "end_time": "2022-12-12T06:59:51.855853Z",
     "start_time": "2022-12-12T06:59:49.775452Z"
    },
    "id": "2491c124"
   },
   "outputs": [
    {
     "name": "stdout",
     "output_type": "stream",
     "text": [
      "Number of all unique movie titles:  6806\n",
      "\n",
      "top 10 movie titles: \n",
      " Index(['Matrix, The (1999)', 'Fight Club (1999)', 'Pulp Fiction (1994)',\n",
      "       'Shawshank Redemption, The (1994)', 'Forrest Gump (1994)',\n",
      "       'Lord of the Rings: The Fellowship of the Ring, The (2001)',\n",
      "       'Lord of the Rings: The Return of the King, The (2003)',\n",
      "       'Lord of the Rings: The Two Towers, The (2002)',\n",
      "       'Silence of the Lambs, The (1991)', 'American Beauty (1999)'],\n",
      "      dtype='object', name='title')\n",
      "\n",
      "sample of top 10 user-title data: \n",
      "            user  item        time  \\\n",
      "879970   108420   593  1152747986   \n",
      "1079869   81657  5952  1128613102   \n",
      "1370735   30134  7153  1284065552   \n",
      "1079344   77433  5952  1127235164   \n",
      "586027    18528  4993  1264456567   \n",
      "\n",
      "                                                     title  \n",
      "879970                    Silence of the Lambs, The (1991)  \n",
      "1079869      Lord of the Rings: The Two Towers, The (2002)  \n",
      "1370735  Lord of the Rings: The Return of the King, The...  \n",
      "1079344      Lord of the Rings: The Two Towers, The (2002)  \n",
      "586027   Lord of the Rings: The Fellowship of the Ring,...  \n",
      "\n",
      "shape of the data:  (173185, 4)\n"
     ]
    }
   ],
   "source": [
    "title_df = pd.merge(train_df, title_data, on=['item'])\n",
    "title_id = title_df.value_counts('title').index[:10]\n",
    "\n",
    "\n",
    "side_df = []\n",
    "for title in title_id:\n",
    "    side_df.append(title_df.loc[title_df['title'] == title])\n",
    "\n",
    "title_top = pd.concat(side_df) # 상위 영화(item) 10개에 대한 평점 데이터 - 17만개\n",
    "\n",
    "print (\"Number of all unique movie titles: \", title_df['title'].nunique())\n",
    "print (\"\\ntop 10 movie titles: \\n\", title_id)\n",
    "print (\"\\nsample of top 10 user-title data: \\n\", title_top.sample(5))\n",
    "print (\"\\nshape of the data: \", title_top.shape)"
   ]
  },
  {
   "cell_type": "code",
   "execution_count": 116,
   "id": "4b19e5d4",
   "metadata": {
    "ExecuteTime": {
     "end_time": "2022-12-12T07:00:19.250761Z",
     "start_time": "2022-12-12T07:00:18.805199Z"
    },
    "id": "4b19e5d4"
   },
   "outputs": [
    {
     "name": "stdout",
     "output_type": "stream",
     "text": [
      "All unique years: \n",
      " [1922 1923 1924 1925 1926 1927 1928 1929 1930 1931 1932 1933 1934 1935\n",
      " 1936 1937 1938 1939 1940 1941 1942 1943 1944 1945 1946 1947 1948 1949\n",
      " 1950 1951 1952 1953 1954 1955 1956 1957 1958 1959 1960 1961 1962 1963\n",
      " 1964 1965 1966 1967 1968 1969 1970 1971 1972 1973 1974 1975 1976 1977\n",
      " 1978 1979 1980 1981 1982 1983 1984 1985 1986 1987 1988 1989 1990 1991\n",
      " 1992 1993 1994 1995 1996 1997 1998 1999 2000 2001 2002 2003 2004 2005\n",
      " 2006 2007 2008 2009 2010 2011 2012 2013 2014]\n",
      "\n",
      "Number of all unique years:  93\n",
      "\n",
      "top 10 years: \n",
      " Int64Index([2004, 1999, 2001, 2002, 2006, 2003, 2000, 2005, 1995, 2007], dtype='int64', name='year')\n",
      "\n",
      "sample of top 10 user-year data: \n",
      "           user  item        time  year\n",
      "3820230  35378  5668  1161503647  2002\n",
      "1661785   2158  3175  1171632313  1999\n",
      "124574   43019  2706  1407385013  1999\n",
      "1226318  40523  8972  1342410326  2004\n",
      "2541147  32555    34  1146906482  1995\n",
      "\n",
      "shape of the data:  (2173226, 4)\n"
     ]
    }
   ],
   "source": [
    "year_df = pd.merge(train_df, year_data, on=['item'])\n",
    "year_id = year_df.value_counts('year').index[:10]\n",
    "\n",
    "side_df = []\n",
    "for year in year_id:\n",
    "    side_df.append(year_df.loc[year_df['year'] == year])\n",
    "\n",
    "year_top = pd.concat(side_df) # 상위 년도 10개의 영화(item)에 대한 평점 데이터 - 21만개\n",
    "\n",
    "print (\"All unique years: \\n\", np.sort(year_df['year'].unique())) \n",
    "print (\"\\nNumber of all unique years: \", year_df['year'].nunique())\n",
    "print (\"\\ntop 10 years: \\n\", year_id)\n",
    "print (\"\\nsample of top 10 user-year data: \\n\", year_top.sample(5))\n",
    "print (\"\\nshape of the data: \", year_top.shape)"
   ]
  },
  {
   "cell_type": "markdown",
   "id": "4d516fdd",
   "metadata": {
    "id": "4d516fdd"
   },
   "source": [
    "여기까지 director, writer, title, year 데이터를 확인해 보았는데요. 이어서 genre 데이터도 관찰해보겠습니다. 데이터셋에서 genre의 수가 총 18개밖에 없으므로 빈도수가 높은 genre를 따로 저장할 필요 없이, train 데이터와의 merge를 바로 진행하겠습니다.\n",
    "\n",
    "다음 코드를 실행하고 genre 데이터의 형태도 관찰해보세요."
   ]
  },
  {
   "cell_type": "code",
   "execution_count": 117,
   "id": "d7260a11",
   "metadata": {
    "ExecuteTime": {
     "end_time": "2022-12-12T07:00:37.487694Z",
     "start_time": "2022-12-12T07:00:36.261832Z"
    },
    "id": "d7260a11"
   },
   "outputs": [
    {
     "name": "stdout",
     "output_type": "stream",
     "text": [
      "All unique genres: \n",
      " ['Action' 'Adventure' 'Animation' 'Children' 'Comedy' 'Crime'\n",
      " 'Documentary' 'Drama' 'Fantasy' 'Film-Noir' 'Horror' 'Musical' 'Mystery'\n",
      " 'Romance' 'Sci-Fi' 'Thriller' 'War' 'Western']\n",
      "\n",
      "Number of all unique genres:  18\n",
      "\n",
      "sample of user-genre data: \n",
      "             user   item        time      genre\n",
      "5897383    25594   1517  1146062588  Adventure\n",
      "2303728    78161  54001  1285809104      Drama\n",
      "13646886   60044   1614  1390079396     Comedy\n",
      "2978126   116067    165  1292191090   Thriller\n",
      "13778245  133700   5367  1138234620    Romance\n",
      "\n",
      "shape of the data:  (14126324, 4)\n"
     ]
    }
   ],
   "source": [
    "genre_df = pd.merge(train_df, genre_data, on=['item'])\n",
    "\n",
    "genre_top = genre_df # 장르 18개의 영화(item)에 대한 평점 데이터 - 65만개\n",
    "\n",
    "print (\"All unique genres: \\n\", np.sort(genre_df['genre'].unique())) \n",
    "print (\"\\nNumber of all unique genres: \", genre_df['genre'].nunique())\n",
    "print (\"\\nsample of user-genre data: \\n\", genre_top.sample(5))\n",
    "print (\"\\nshape of the data: \", genre_top.shape)"
   ]
  },
  {
   "cell_type": "markdown",
   "id": "ef9ab59e",
   "metadata": {
    "id": "ef9ab59e"
   },
   "source": [
    "여기까지 오셨으면 side information 데이터의 형태를 충분히 파악하셨을 것으로 생각됩니다! 이제\n",
    "matplotlib library를 사용하여 샘플한 데이터를 그래프로 시각화해봅니다. "
   ]
  },
  {
   "cell_type": "code",
   "execution_count": 118,
   "id": "b32deb81",
   "metadata": {
    "id": "b32deb81"
   },
   "outputs": [],
   "source": [
    "import matplotlib.pyplot as plt"
   ]
  },
  {
   "cell_type": "code",
   "execution_count": 119,
   "id": "c55623fa",
   "metadata": {
    "id": "c55623fa"
   },
   "outputs": [
    {
     "data": {
      "text/plain": [
       "<function matplotlib.pyplot.show(close=None, block=None)>"
      ]
     },
     "execution_count": 119,
     "metadata": {},
     "output_type": "execute_result"
    },
    {
     "data": {
      "image/png": "[encoded data removed]",
      "text/plain": [
       "<Figure size 800x700 with 1 Axes>"
      ]
     },
     "metadata": {},
     "output_type": "display_data"
    }
   ],
   "source": [
    "genre_top['genre'].value_counts().plot(kind = 'bar', figsize = (8,7))\n",
    "plt.xlabel('genre')\n",
    "plt.ylabel('# of users')\n",
    "plt.title('Visualization of genre distribution over all training data')\n",
    "plt.show"
   ]
  },
  {
   "cell_type": "markdown",
   "id": "381aee8a",
   "metadata": {
    "id": "381aee8a"
   },
   "source": [
    "데이터셋에서 가장 많이 출현하는 장르가 *Drama*, 가장 적게 출현하는 장르가 *Film-Noir*임을 확인할 수 있었습니다.\n",
    "\n",
    "그러면 전체 training 데이터에서의 genre 분포 뿐만 아니라, genre 데이터 단독의 분포를 출력하면 어떤지 비교해 봅니다. 코드를 실행해주세요."
   ]
  },
  {
   "cell_type": "code",
   "execution_count": 120,
   "id": "82547687",
   "metadata": {
    "id": "82547687"
   },
   "outputs": [
    {
     "data": {
      "image/png": "[encoded data removed]",
      "text/plain": [
       "<Figure size 640x480 with 2 Axes>"
      ]
     },
     "metadata": {},
     "output_type": "display_data"
    }
   ],
   "source": [
    "plt.subplot(2,1,1)\n",
    "genre_data['genre'].value_counts().plot(kind = 'bar')\n",
    "plt.xlabel('genre')\n",
    "plt.ylabel('# of users')\n",
    "plt.title('Visualization of genre distribution over all movies')\n",
    "\n",
    "plt.subplot(2,1,2)\n",
    "genre_top['genre'].value_counts().plot(kind = 'bar')\n",
    "plt.xlabel('genre')\n",
    "plt.ylabel('# of users')\n",
    "plt.title('Visualization of genre distribution over all training data')\n",
    "\n",
    "plt.subplots_adjust(hspace=2.0, top=1.0)"
   ]
  },
  {
   "cell_type": "markdown",
   "id": "2e2103de",
   "metadata": {
    "id": "2e2103de"
   },
   "source": [
    "두 개의 그래프를 확인하면 거의 비슷해보이지만, 두 분포 사이에 작은 차이가 있음을 확인할 수 있습니다. 가령, *Romance* 장르의 영화가 전체 훈련 데이터에서는 7위를 차지하지만, 모든 6807개의 영화 중에서는 4위를 차지합니다. 이는 *Romance* 장르에 해당하는 영화의 갯수에 비해 실제 사용자들이 시청할 확률이 더 높았다는 것을 뜻합니다.\n",
    "\n",
    "다음은 사용자 한명이 시청한 영화 리스트를 확인하고, 해당 사용자가 가장 선호하는 장르를 순위별로 차트로 알아보겠습니다. 다음 코드에서는 데이터가 가장 많은 사용자의 id인 `active_user_ids[0]`를 사용하겠습니다.\n",
    "그럼 코드를 실행해보세요!"
   ]
  },
  {
   "cell_type": "code",
   "execution_count": 121,
   "id": "7322b72f",
   "metadata": {
    "id": "7322b72f"
   },
   "outputs": [
    {
     "data": {
      "text/plain": [
       "<AxesSubplot: >"
      ]
     },
     "execution_count": 121,
     "metadata": {},
     "output_type": "execute_result"
    },
    {
     "data": {
      "image/png": "[encoded data removed]",
      "text/plain": [
       "<Figure size 800x700 with 1 Axes>"
      ]
     },
     "metadata": {},
     "output_type": "display_data"
    }
   ],
   "source": [
    "user_id = active_user_ids[0] # specific user id\n",
    "genre_user = genre_top[genre_top['user'] == user_id]\n",
    "\n",
    "genre_user['genre'].value_counts().plot(kind = 'bar', figsize = (8,7))"
   ]
  },
  {
   "cell_type": "markdown",
   "id": "d268df37",
   "metadata": {
    "id": "d268df37"
   },
   "source": [
    "`active_user_ids[0]`에 해당하는 사용자의 시청영화 장르 분포는 전체 데이터의 장르 분포와 크게 차이가 나지 않습니다. 그렇다면 `active_user_ids[1]`에 해당하는 사용자는 어떨까요? 다양한 사용자들의 장르 분포도 한번 비교해 보시기 바랍니다.\n",
    "\n",
    "\n",
    "다음은 사용자가 주로 언제 영화를 시청했는지 알아보려고 합니다.\n",
    "그 전에 먼저 간단히 알고 넘어가면 좋은 내용이 있는데요. train 데이터를 보시면 timestamp column은 유닉스 시간(Unix time)을 초 단위로 표시한 것입니다. 통계를 위해 이것을 우리가 알아볼 수 있는 단위로 변환하는 방법을 알아보겠습니다. 다음 코드를 실행해보세요."
   ]
  },
  {
   "cell_type": "code",
   "execution_count": 122,
   "id": "0c3d80f1",
   "metadata": {
    "id": "0c3d80f1"
   },
   "outputs": [
    {
     "name": "stdout",
     "output_type": "stream",
     "text": [
      "initial unix-based timestamp: 1230782529\n",
      "converted time: 2009-01-01 04:02:09\n"
     ]
    }
   ],
   "source": [
    "import time\n",
    "unix_time = 1230782529 # some random timestamp from dataset\n",
    "converted_time = time.strftime('%Y-%m-%d %H:%M:%S', time.localtime(unix_time))\n",
    "\n",
    "print (\"initial unix-based timestamp: %s\\nconverted time: %s\"%(unix_time, converted_time))"
   ]
  },
  {
   "cell_type": "markdown",
   "id": "81646dc3",
   "metadata": {
    "id": "81646dc3"
   },
   "source": [
    "파이썬의 time 라이브러리를 사용하여 연-월-일 시간-분-초 단위까지 잘 변환이 되는 것을 확인했습니다. \n",
    "하지만 우리 데이터셋의 영화 연도 분포와 task를 고려했을때 시간-분-초 단위는 크게 중요하지 않을 것 같습니다. 일 단위도 빼고, 연-월 단위만 가지고 사용자의 시청 연-월 그래프를 확인해보겠습니다.\n",
    "\n",
    "즉, 위와 같은 방법으로 timestamp를 변환하여 `active_user_ids[0]`에 해당하는 사용자가 어느 시기에 가장 많은 interaction 활동을 했는지 알아봅니다. 다음 코드를 실행하여 그래프를 확인해봅니다."
   ]
  },
  {
   "cell_type": "code",
   "execution_count": 123,
   "id": "1da11a31",
   "metadata": {
    "id": "1da11a31"
   },
   "outputs": [
    {
     "name": "stderr",
     "output_type": "stream",
     "text": [
      "/tmp/ipykernel_127645/3998196915.py:6: SettingWithCopyWarning: \n",
      "A value is trying to be set on a copy of a slice from a DataFrame.\n",
      "Try using .loc[row_indexer,col_indexer] = value instead\n",
      "\n",
      "See the caveats in the documentation: https://pandas.pydata.org/pandas-docs/stable/user_guide/indexing.html#returning-a-view-versus-a-copy\n",
      "  converted_df['time'] = old_df['time'].replace([old_time], new_time) # replace the time column\n"
     ]
    },
    {
     "data": {
      "text/plain": [
       "Text(0.5, 1.0, 'Statistics of user activity')"
      ]
     },
     "execution_count": 123,
     "metadata": {},
     "output_type": "execute_result"
    },
    {
     "data": {
      "image/png": "[encoded data removed]",
      "text/plain": [
       "<Figure size 800x700 with 1 Axes>"
      ]
     },
     "metadata": {},
     "output_type": "display_data"
    }
   ],
   "source": [
    "old_df = train_df[train_df['user'] == active_user_ids[0]] # Specific user id\n",
    "converted_df = old_df\n",
    "\n",
    "for old_time in old_df['time']:\n",
    "    new_time = time.strftime('%Y-%m', time.localtime(old_time))\n",
    "    converted_df['time'] = old_df['time'].replace([old_time], new_time) # replace the time column\n",
    "\n",
    "converted_df['time'].value_counts().plot(kind = 'bar', figsize = (8,7))\n",
    "plt.xlabel('year-month')\n",
    "plt.ylabel('# of movies')\n",
    "plt.title('Statistics of user activity')"
   ]
  },
  {
   "cell_type": "markdown",
   "id": "0cd8606f",
   "metadata": {
    "id": "0cd8606f"
   },
   "source": [
    "해당 사용자는 대략 2007년 전후로 영화 시청을 가장 많이 했고, 시간이 지나면서 시청 기록이 점점 줄어드는 확인할 수 있습니다.\n",
    "\n",
    "이어서 사용자가 처음으로 또는 마지막으로 영화 시청을 한 시기도 직접 출력해볼 수 있겠습니다. 또, 다른 사용자들의 분포는 얼마나 다를까요?\n",
    "혹은, 어떤 영화가 어떤 연도에 가장 많이 소비되었을까요?\n",
    "\n",
    "눈치 채셨을지 모르겠지만, 앞서 저장했던 *popular_movie_id* 변수는 시각화에 사용되지 않았는데요. 선택 과제로 활용해보시기 바랍니다!"
   ]
  },
  {
   "cell_type": "markdown",
   "id": "bfd772c1",
   "metadata": {
    "id": "bfd772c1"
   },
   "source": [
    "## 마치며\n",
    "\n",
    "여기까지 오시느라 모두 수고 많으셨습니다. 본 미션에서는 여러 데이터를 관찰하고, 또 분포를 출력해보면서 데이터에 대해 이해하는 시간을 가져보았는데요.\n",
    "미션에서 제공된 정보 외에도 다른 분석들을 추가로 해보시면 대회를 준비하는데 더 도움이 될 것입니다.\n",
    "많은 인사이트를 얻어가셔서 대회에 충분히 활용하시길 바라겠습니다!"
   ]
  },
  {
   "cell_type": "markdown",
   "id": "0AtyZxnjJDyJ",
   "metadata": {
    "id": "0AtyZxnjJDyJ"
   },
   "source": [
    "###**콘텐츠 라이선스**\n",
    "\n",
    "<font color='red'><b>**WARNING**</b></font> : **본 교육 콘텐츠의 지식재산권은 재단법인 네이버커넥트에 귀속됩니다. 본 콘텐츠를 어떠한 경로로든 외부로 유출 및 수정하는 행위를 엄격히 금합니다.** 다만, 비영리적 교육 및 연구활동에 한정되어 사용할 수 있으나 재단의 허락을 받아야 합니다. 이를 위반하는 경우, 관련 법률에 따라 책임을 질 수 있습니다.\n",
    "\n"
   ]
  }
 ],
 "metadata": {
  "colab": {
   "provenance": []
  },
  "kernelspec": {
   "display_name": "movie_rec",
   "language": "python",
   "name": "python3"
  },
  "language_info": {
   "codemirror_mode": {
    "name": "ipython",
    "version": 3
   },
   "file_extension": ".py",
   "mimetype": "text/x-python",
   "name": "python",
   "nbconvert_exporter": "python",
   "pygments_lexer": "ipython3",
   "version": "3.10.8"
  },
  "toc": {
   "base_numbering": 1,
   "nav_menu": {},
   "number_sections": false,
   "sideBar": true,
   "skip_h1_title": false,
   "title_cell": "Table of Contents",
   "title_sidebar": "Contents",
   "toc_cell": true,
   "toc_position": {},
   "toc_section_display": true,
   "toc_window_display": true
  },
  "vscode": {
   "interpreter": {
    "hash": "3d4ebc8f5be3b9760b7b8c89820e25f6cc4c8c3873d1ecd46134e38c918e05a9"
   }
  }
 },
 "nbformat": 4,
 "nbformat_minor": 5
}

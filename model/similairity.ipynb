{
 "cells": [
  {
   "cell_type": "markdown",
   "id": "938a19d6-cce1-4442-89cf-e07ae4bb9dd3",
   "metadata": {},
   "source": [
    "# 제출 전 파일확인"
   ]
  },
  {
   "cell_type": "code",
   "execution_count": 1,
   "id": "1055f9c1-d3f4-461e-9d0f-e75d990b1ca0",
   "metadata": {
    "ExecuteTime": {
     "end_time": "2023-01-03T13:15:49.759360Z",
     "start_time": "2023-01-03T13:15:46.680485Z"
    }
   },
   "outputs": [],
   "source": [
    "from IPython.core.interactiveshell import InteractiveShell\n",
    "InteractiveShell.ast_node_interactivity = 'all'\n",
    "\n",
    "import pandas as pd\n",
    "import numpy as np\n",
    "import os\n",
    "import random\n",
    "from tqdm import tqdm\n",
    "import torch\n",
    "from sklearn.model_selection import train_test_split\n",
    "\n",
    "import lightgbm as lgb\n",
    "# from sklearn.metrics import roc_auc_score\n",
    "# from sklearn.metrics import accuracy_score\n",
    "from sklearn.metrics import mean_squared_error"
   ]
  },
  {
   "cell_type": "markdown",
   "id": "f9a67a67-28df-4786-acdf-22113cadef6d",
   "metadata": {},
   "source": [
    "### 내 모델 결과와 가장 성능이 잘나온 모델 결과 비교\n",
    "여기선 lgbm_result가 확인하고자하는 파일이고, ease_result가 가장 성능 잘나온 모델의 결과 파일입니다!"
   ]
  },
  {
   "cell_type": "code",
   "execution_count": 7,
   "id": "2e11230b",
   "metadata": {
    "ExecuteTime": {
     "end_time": "2023-01-03T13:28:09.027868Z",
     "start_time": "2023-01-03T13:28:08.886276Z"
    }
   },
   "outputs": [
    {
     "name": "stdout",
     "output_type": "stream",
     "text": [
      "/opt/ml/input/code/Recbole/EASE_1_0_Top20_remove_review_after_movie.csv\r\n"
     ]
    }
   ],
   "source": [
    "!readlink -ef ../Recbole/EASE_1_0_Top20_remove_review_after_movie.csv"
   ]
  },
  {
   "cell_type": "code",
   "execution_count": 8,
   "id": "3703f36a",
   "metadata": {
    "ExecuteTime": {
     "end_time": "2023-01-03T13:28:25.751179Z",
     "start_time": "2023-01-03T13:28:25.601948Z"
    }
   },
   "outputs": [
    {
     "name": "stdout",
     "output_type": "stream",
     "text": [
      "/opt/ml/input/code/Recbole/EASE_99_01.csv\r\n"
     ]
    }
   ],
   "source": [
    "!readlink -ef ../Recbole/EASE_99_01.csv"
   ]
  },
  {
   "cell_type": "code",
   "execution_count": 9,
   "id": "c6f5bc3b-9ee8-4dbf-8b5f-f7369364cefb",
   "metadata": {
    "ExecuteTime": {
     "end_time": "2023-01-03T13:29:19.032678Z",
     "start_time": "2023-01-03T13:29:18.947892Z"
    }
   },
   "outputs": [],
   "source": [
    "# 확인하고자하는 결과파일\n",
    "df1 = pd.read_csv('/opt/ml/input/code/Recbole/EASE_1_0_Top20_remove_review_after_movie.csv')"
   ]
  },
  {
   "cell_type": "code",
   "execution_count": 10,
   "id": "64b5c6e5-3139-4f3d-95aa-db2a6db8cbce",
   "metadata": {
    "ExecuteTime": {
     "end_time": "2023-01-03T13:29:19.640029Z",
     "start_time": "2023-01-03T13:29:19.486359Z"
    }
   },
   "outputs": [],
   "source": [
    "# 가장 성능 잘나온 모델 결과 <- aistage에서 다운받아도 됩니다!\n",
    "df2 = pd.read_csv('/opt/ml/input/code/Recbole/EASE_99_01.csv')"
   ]
  },
  {
   "cell_type": "code",
   "execution_count": 20,
   "id": "ad6ad3af-5c4a-48b4-a94f-8a949e89c87c",
   "metadata": {
    "ExecuteTime": {
     "end_time": "2023-01-03T13:32:22.733179Z",
     "start_time": "2023-01-03T13:32:22.042217Z"
    }
   },
   "outputs": [],
   "source": [
    "# lgbm - ease 결과 차집합 구하기\n",
    "sm1 = pd.concat([df1, df2, df2]).drop_duplicates(subset=['user', 'item'], keep=False)"
   ]
  },
  {
   "cell_type": "code",
   "execution_count": 21,
   "id": "b92a9e1a",
   "metadata": {
    "ExecuteTime": {
     "end_time": "2023-01-03T13:32:22.949742Z",
     "start_time": "2023-01-03T13:32:22.738338Z"
    }
   },
   "outputs": [],
   "source": [
    "# lgbm - ease 결과 차집합 구하기\n",
    "sm2 = pd.concat([df1, df2]).drop_duplicates(subset=['user', 'item'], keep=False)"
   ]
  },
  {
   "cell_type": "code",
   "execution_count": 25,
   "id": "7fc5499b",
   "metadata": {
    "ExecuteTime": {
     "end_time": "2023-01-03T13:33:18.334416Z",
     "start_time": "2023-01-03T13:33:18.188643Z"
    }
   },
   "outputs": [
    {
     "data": {
      "text/html": [
       "<div>\n",
       "<style scoped>\n",
       "    .dataframe tbody tr th:only-of-type {\n",
       "        vertical-align: middle;\n",
       "    }\n",
       "\n",
       "    .dataframe tbody tr th {\n",
       "        vertical-align: top;\n",
       "    }\n",
       "\n",
       "    .dataframe thead th {\n",
       "        text-align: right;\n",
       "    }\n",
       "</style>\n",
       "<table border=\"1\" class=\"dataframe\">\n",
       "  <thead>\n",
       "    <tr style=\"text-align: right;\">\n",
       "      <th></th>\n",
       "      <th>user</th>\n",
       "      <th>item</th>\n",
       "    </tr>\n",
       "  </thead>\n",
       "  <tbody>\n",
       "    <tr>\n",
       "      <th>0</th>\n",
       "      <td>11</td>\n",
       "      <td>4370</td>\n",
       "    </tr>\n",
       "    <tr>\n",
       "      <th>1</th>\n",
       "      <td>11</td>\n",
       "      <td>4886</td>\n",
       "    </tr>\n",
       "    <tr>\n",
       "      <th>2</th>\n",
       "      <td>11</td>\n",
       "      <td>47</td>\n",
       "    </tr>\n",
       "    <tr>\n",
       "      <th>3</th>\n",
       "      <td>11</td>\n",
       "      <td>32587</td>\n",
       "    </tr>\n",
       "    <tr>\n",
       "      <th>4</th>\n",
       "      <td>11</td>\n",
       "      <td>40815</td>\n",
       "    </tr>\n",
       "    <tr>\n",
       "      <th>...</th>\n",
       "      <td>...</td>\n",
       "      <td>...</td>\n",
       "    </tr>\n",
       "    <tr>\n",
       "      <th>288562</th>\n",
       "      <td>138493</td>\n",
       "      <td>8970</td>\n",
       "    </tr>\n",
       "    <tr>\n",
       "      <th>288563</th>\n",
       "      <td>138493</td>\n",
       "      <td>5349</td>\n",
       "    </tr>\n",
       "    <tr>\n",
       "      <th>288564</th>\n",
       "      <td>138493</td>\n",
       "      <td>4022</td>\n",
       "    </tr>\n",
       "    <tr>\n",
       "      <th>288565</th>\n",
       "      <td>138493</td>\n",
       "      <td>32587</td>\n",
       "    </tr>\n",
       "    <tr>\n",
       "      <th>288566</th>\n",
       "      <td>138493</td>\n",
       "      <td>53125</td>\n",
       "    </tr>\n",
       "  </tbody>\n",
       "</table>\n",
       "<p>288567 rows × 2 columns</p>\n",
       "</div>"
      ],
      "text/plain": [
       "          user   item\n",
       "0           11   4370\n",
       "1           11   4886\n",
       "2           11     47\n",
       "3           11  32587\n",
       "4           11  40815\n",
       "...        ...    ...\n",
       "288562  138493   8970\n",
       "288563  138493   5349\n",
       "288564  138493   4022\n",
       "288565  138493  32587\n",
       "288566  138493  53125\n",
       "\n",
       "[288567 rows x 2 columns]"
      ]
     },
     "execution_count": 25,
     "metadata": {},
     "output_type": "execute_result"
    }
   ],
   "source": [
    "df1.merge(df2,on=['user','item'])"
   ]
  },
  {
   "cell_type": "code",
   "execution_count": null,
   "id": "eb0a310a",
   "metadata": {},
   "outputs": [],
   "source": []
  },
  {
   "cell_type": "code",
   "execution_count": 22,
   "id": "845f58ae",
   "metadata": {
    "ExecuteTime": {
     "end_time": "2023-01-03T13:32:25.014475Z",
     "start_time": "2023-01-03T13:32:24.993471Z"
    }
   },
   "outputs": [
    {
     "data": {
      "text/html": [
       "<div>\n",
       "<style scoped>\n",
       "    .dataframe tbody tr th:only-of-type {\n",
       "        vertical-align: middle;\n",
       "    }\n",
       "\n",
       "    .dataframe tbody tr th {\n",
       "        vertical-align: top;\n",
       "    }\n",
       "\n",
       "    .dataframe thead th {\n",
       "        text-align: right;\n",
       "    }\n",
       "</style>\n",
       "<table border=\"1\" class=\"dataframe\">\n",
       "  <thead>\n",
       "    <tr style=\"text-align: right;\">\n",
       "      <th></th>\n",
       "      <th>user</th>\n",
       "      <th>item</th>\n",
       "    </tr>\n",
       "  </thead>\n",
       "  <tbody>\n",
       "    <tr>\n",
       "      <th>8</th>\n",
       "      <td>11</td>\n",
       "      <td>8961</td>\n",
       "    </tr>\n",
       "    <tr>\n",
       "      <th>19</th>\n",
       "      <td>14</td>\n",
       "      <td>1035</td>\n",
       "    </tr>\n",
       "    <tr>\n",
       "      <th>59</th>\n",
       "      <td>35</td>\n",
       "      <td>48516</td>\n",
       "    </tr>\n",
       "    <tr>\n",
       "      <th>98</th>\n",
       "      <td>60</td>\n",
       "      <td>50</td>\n",
       "    </tr>\n",
       "    <tr>\n",
       "      <th>107</th>\n",
       "      <td>61</td>\n",
       "      <td>6711</td>\n",
       "    </tr>\n",
       "    <tr>\n",
       "      <th>...</th>\n",
       "      <td>...</td>\n",
       "      <td>...</td>\n",
       "    </tr>\n",
       "    <tr>\n",
       "      <th>313563</th>\n",
       "      <td>138475</td>\n",
       "      <td>8228</td>\n",
       "    </tr>\n",
       "    <tr>\n",
       "      <th>313569</th>\n",
       "      <td>138475</td>\n",
       "      <td>1223</td>\n",
       "    </tr>\n",
       "    <tr>\n",
       "      <th>313579</th>\n",
       "      <td>138486</td>\n",
       "      <td>6539</td>\n",
       "    </tr>\n",
       "    <tr>\n",
       "      <th>313587</th>\n",
       "      <td>138492</td>\n",
       "      <td>1265</td>\n",
       "    </tr>\n",
       "    <tr>\n",
       "      <th>313595</th>\n",
       "      <td>138493</td>\n",
       "      <td>8961</td>\n",
       "    </tr>\n",
       "  </tbody>\n",
       "</table>\n",
       "<p>25033 rows × 2 columns</p>\n",
       "</div>"
      ],
      "text/plain": [
       "          user   item\n",
       "8           11   8961\n",
       "19          14   1035\n",
       "59          35  48516\n",
       "98          60     50\n",
       "107         61   6711\n",
       "...        ...    ...\n",
       "313563  138475   8228\n",
       "313569  138475   1223\n",
       "313579  138486   6539\n",
       "313587  138492   1265\n",
       "313595  138493   8961\n",
       "\n",
       "[25033 rows x 2 columns]"
      ]
     },
     "execution_count": 22,
     "metadata": {},
     "output_type": "execute_result"
    }
   ],
   "source": [
    "sm1"
   ]
  },
  {
   "cell_type": "code",
   "execution_count": 23,
   "id": "06ca082a-f4cf-441e-94a7-879b64157cef",
   "metadata": {
    "ExecuteTime": {
     "end_time": "2023-01-03T13:32:34.749433Z",
     "start_time": "2023-01-03T13:32:34.737111Z"
    }
   },
   "outputs": [
    {
     "data": {
      "text/html": [
       "<div>\n",
       "<style scoped>\n",
       "    .dataframe tbody tr th:only-of-type {\n",
       "        vertical-align: middle;\n",
       "    }\n",
       "\n",
       "    .dataframe tbody tr th {\n",
       "        vertical-align: top;\n",
       "    }\n",
       "\n",
       "    .dataframe thead th {\n",
       "        text-align: right;\n",
       "    }\n",
       "</style>\n",
       "<table border=\"1\" class=\"dataframe\">\n",
       "  <thead>\n",
       "    <tr style=\"text-align: right;\">\n",
       "      <th></th>\n",
       "      <th>user</th>\n",
       "      <th>item</th>\n",
       "    </tr>\n",
       "  </thead>\n",
       "  <tbody>\n",
       "    <tr>\n",
       "      <th>8</th>\n",
       "      <td>11</td>\n",
       "      <td>8961</td>\n",
       "    </tr>\n",
       "    <tr>\n",
       "      <th>19</th>\n",
       "      <td>14</td>\n",
       "      <td>1035</td>\n",
       "    </tr>\n",
       "    <tr>\n",
       "      <th>59</th>\n",
       "      <td>35</td>\n",
       "      <td>48516</td>\n",
       "    </tr>\n",
       "    <tr>\n",
       "      <th>98</th>\n",
       "      <td>60</td>\n",
       "      <td>50</td>\n",
       "    </tr>\n",
       "    <tr>\n",
       "      <th>107</th>\n",
       "      <td>61</td>\n",
       "      <td>6711</td>\n",
       "    </tr>\n",
       "    <tr>\n",
       "      <th>...</th>\n",
       "      <td>...</td>\n",
       "      <td>...</td>\n",
       "    </tr>\n",
       "    <tr>\n",
       "      <th>313567</th>\n",
       "      <td>138475</td>\n",
       "      <td>3334</td>\n",
       "    </tr>\n",
       "    <tr>\n",
       "      <th>313569</th>\n",
       "      <td>138475</td>\n",
       "      <td>4432</td>\n",
       "    </tr>\n",
       "    <tr>\n",
       "      <th>313579</th>\n",
       "      <td>138486</td>\n",
       "      <td>1219</td>\n",
       "    </tr>\n",
       "    <tr>\n",
       "      <th>313589</th>\n",
       "      <td>138492</td>\n",
       "      <td>3421</td>\n",
       "    </tr>\n",
       "    <tr>\n",
       "      <th>313599</th>\n",
       "      <td>138493</td>\n",
       "      <td>48394</td>\n",
       "    </tr>\n",
       "  </tbody>\n",
       "</table>\n",
       "<p>50066 rows × 2 columns</p>\n",
       "</div>"
      ],
      "text/plain": [
       "          user   item\n",
       "8           11   8961\n",
       "19          14   1035\n",
       "59          35  48516\n",
       "98          60     50\n",
       "107         61   6711\n",
       "...        ...    ...\n",
       "313567  138475   3334\n",
       "313569  138475   4432\n",
       "313579  138486   1219\n",
       "313589  138492   3421\n",
       "313599  138493  48394\n",
       "\n",
       "[50066 rows x 2 columns]"
      ]
     },
     "execution_count": 23,
     "metadata": {},
     "output_type": "execute_result"
    }
   ],
   "source": [
    "sm2"
   ]
  },
  {
   "cell_type": "code",
   "execution_count": 15,
   "id": "7b38f26b-01df-4d89-a7e4-be76e46696e8",
   "metadata": {
    "ExecuteTime": {
     "end_time": "2023-01-03T13:31:14.249277Z",
     "start_time": "2023-01-03T13:31:14.246744Z"
    }
   },
   "outputs": [],
   "source": [
    "dup_cnt = 313600 - sm.shape[0]\n",
    "dup_ratio = dup_cnt / 313600"
   ]
  },
  {
   "cell_type": "code",
   "execution_count": 16,
   "id": "4f7585d8-e7bf-4f18-b058-14c076966322",
   "metadata": {
    "ExecuteTime": {
     "end_time": "2023-01-03T13:31:16.584833Z",
     "start_time": "2023-01-03T13:31:16.579465Z"
    }
   },
   "outputs": [
    {
     "name": "stdout",
     "output_type": "stream",
     "text": [
      "겹치는 결과 개수: 313600 - 25033 = 288567\n",
      "\n",
      "겁치는 결과 비율: 288567 / 313600 = 0.92018\n",
      "\n"
     ]
    }
   ],
   "source": [
    "# 가장 잘나온 모델의 결과와 내 결과 비교\n",
    "print(f'겹치는 결과 개수: 313600 - {sm.shape[0]} = {dup_cnt}\\n')\n",
    "print(f'겁치는 결과 비율: {dup_cnt} / 313600 = {dup_ratio:.5f}\\n')"
   ]
  },
  {
   "cell_type": "markdown",
   "id": "d5b37a2b-bd4b-4c29-9f24-7f616caa59d8",
   "metadata": {},
   "source": [
    "### 내 모델의 결과파일 아이템번호 분포확인\n",
    "여기선 기준이 10000입니다."
   ]
  },
  {
   "cell_type": "code",
   "execution_count": 65,
   "id": "b936e4f6-baeb-48fd-8a1a-0940362b7dbb",
   "metadata": {},
   "outputs": [
    {
     "name": "stdout",
     "output_type": "stream",
     "text": [
      "EASE 결과 item 중 item번호가 10000 미만 item 개수: 252359\n",
      "\n",
      "EASE 결과 item 중 item번호가 10000 이상 item 개수: 61241\n",
      "\n",
      "LGBM 결과 item 중 item번호가 10000 미만 item 개수: 263040\n",
      "\n",
      "LGBM 결과 item 중 item번호가 10000 이상 item 개수: 50560\n",
      "\n"
     ]
    }
   ],
   "source": [
    "print(f\"EASE 결과 item 중 item번호가 10000 미만 item 개수: {len(ease_result.loc[(ease_result['item'] < 10000)])}\\n\")\n",
    "print(f\"EASE 결과 item 중 item번호가 10000 이상 item 개수: {len(ease_result.loc[(ease_result['item'] >= 10000)])}\\n\")\n",
    "print(f\"LGBM 결과 item 중 item번호가 10000 미만 item 개수: {len(lgbm_result.loc[(lgbm_result['item'] < 10000)])}\\n\")\n",
    "print(f\"LGBM 결과 item 중 item번호가 10000 이상 item 개수: {len(lgbm_result.loc[(lgbm_result['item'] >= 10000)])}\\n\")"
   ]
  },
  {
   "cell_type": "code",
   "execution_count": null,
   "id": "0f22c362-7eaa-41ef-aef0-ea43bd0b0e0f",
   "metadata": {},
   "outputs": [],
   "source": []
  },
  {
   "cell_type": "code",
   "execution_count": null,
   "id": "ebb28a53-c873-4b88-b102-d67e12559ae6",
   "metadata": {},
   "outputs": [],
   "source": []
  }
 ],
 "metadata": {
  "kernelspec": {
   "display_name": "Python 3 (ipykernel)",
   "language": "python",
   "name": "python3"
  },
  "language_info": {
   "codemirror_mode": {
    "name": "ipython",
    "version": 3
   },
   "file_extension": ".py",
   "mimetype": "text/x-python",
   "name": "python",
   "nbconvert_exporter": "python",
   "pygments_lexer": "ipython3",
   "version": "3.8.5"
  },
  "toc": {
   "base_numbering": 1,
   "nav_menu": {},
   "number_sections": true,
   "sideBar": true,
   "skip_h1_title": false,
   "title_cell": "Table of Contents",
   "title_sidebar": "Contents",
   "toc_cell": false,
   "toc_position": {},
   "toc_section_display": true,
   "toc_window_display": false
  }
 },
 "nbformat": 4,
 "nbformat_minor": 5
}

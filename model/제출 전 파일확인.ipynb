{
 "cells": [
  {
   "cell_type": "markdown",
   "id": "938a19d6-cce1-4442-89cf-e07ae4bb9dd3",
   "metadata": {},
   "source": [
    "# 제출 전 파일확인"
   ]
  },
  {
   "cell_type": "code",
   "execution_count": 46,
   "id": "1055f9c1-d3f4-461e-9d0f-e75d990b1ca0",
   "metadata": {},
   "outputs": [],
   "source": [
    "from IPython.core.interactiveshell import InteractiveShell\n",
    "InteractiveShell.ast_node_interactivity = 'all'\n",
    "\n",
    "import pandas as pd\n",
    "import numpy as np\n",
    "import os\n",
    "import random\n",
    "from tqdm import tqdm\n",
    "import torch\n",
    "from sklearn.model_selection import train_test_split\n",
    "\n",
    "import lightgbm as lgb\n",
    "# from sklearn.metrics import roc_auc_score\n",
    "# from sklearn.metrics import accuracy_score\n",
    "from sklearn.metrics import mean_squared_error"
   ]
  },
  {
   "cell_type": "markdown",
   "id": "f9a67a67-28df-4786-acdf-22113cadef6d",
   "metadata": {},
   "source": [
    "### 내 모델 결과와 가장 성능이 잘나온 모델 결과 비교\n",
    "여기선 lgbm_result가 확인하고자하는 파일이고, ease_result가 가장 성능 잘나온 모델의 결과 파일입니다!"
   ]
  },
  {
   "cell_type": "code",
   "execution_count": 48,
   "id": "c6f5bc3b-9ee8-4dbf-8b5f-f7369364cefb",
   "metadata": {},
   "outputs": [],
   "source": [
    "# 확인하고자하는 결과파일\n",
    "lgbm_result = pd.read_csv('/opt/ml/input/fighting/model/EASE_LGBM_20_0.12093.csv')"
   ]
  },
  {
   "cell_type": "code",
   "execution_count": 51,
   "id": "64b5c6e5-3139-4f3d-95aa-db2a6db8cbce",
   "metadata": {},
   "outputs": [],
   "source": [
    "# 가장 성능 잘나온 모델 결과 <- aistage에서 다운받아도 됩니다!\n",
    "ease_result = pd.read_csv('/opt/ml/input/fighting/Recbole/EASE_best_10.csv')"
   ]
  },
  {
   "cell_type": "code",
   "execution_count": 52,
   "id": "ad6ad3af-5c4a-48b4-a94f-8a949e89c87c",
   "metadata": {},
   "outputs": [],
   "source": [
    "# lgbm - ease 결과 차집합 구하기\n",
    "lgbm_ease = pd.concat([lgbm_result, ease_result, ease_result]).drop_duplicates(lgbm_resultset=['user', 'item'], keep=False)\n"
   ]
  },
  {
   "cell_type": "code",
   "execution_count": 53,
   "id": "06ca082a-f4cf-441e-94a7-879b64157cef",
   "metadata": {},
   "outputs": [
    {
     "data": {
      "text/html": [
       "<div>\n",
       "<style scoped>\n",
       "    .dataframe tbody tr th:only-of-type {\n",
       "        vertical-align: middle;\n",
       "    }\n",
       "\n",
       "    .dataframe tbody tr th {\n",
       "        vertical-align: top;\n",
       "    }\n",
       "\n",
       "    .dataframe thead th {\n",
       "        text-align: right;\n",
       "    }\n",
       "</style>\n",
       "<table border=\"1\" class=\"dataframe\">\n",
       "  <thead>\n",
       "    <tr style=\"text-align: right;\">\n",
       "      <th></th>\n",
       "      <th>user</th>\n",
       "      <th>item</th>\n",
       "    </tr>\n",
       "  </thead>\n",
       "  <tbody>\n",
       "    <tr>\n",
       "      <th>6</th>\n",
       "      <td>11</td>\n",
       "      <td>3996</td>\n",
       "    </tr>\n",
       "    <tr>\n",
       "      <th>8</th>\n",
       "      <td>11</td>\n",
       "      <td>2987</td>\n",
       "    </tr>\n",
       "    <tr>\n",
       "      <th>9</th>\n",
       "      <td>11</td>\n",
       "      <td>2</td>\n",
       "    </tr>\n",
       "    <tr>\n",
       "      <th>13</th>\n",
       "      <td>14</td>\n",
       "      <td>6539</td>\n",
       "    </tr>\n",
       "    <tr>\n",
       "      <th>15</th>\n",
       "      <td>14</td>\n",
       "      <td>588</td>\n",
       "    </tr>\n",
       "    <tr>\n",
       "      <th>...</th>\n",
       "      <td>...</td>\n",
       "      <td>...</td>\n",
       "    </tr>\n",
       "    <tr>\n",
       "      <th>313583</th>\n",
       "      <td>138492</td>\n",
       "      <td>1270</td>\n",
       "    </tr>\n",
       "    <tr>\n",
       "      <th>313584</th>\n",
       "      <td>138492</td>\n",
       "      <td>1291</td>\n",
       "    </tr>\n",
       "    <tr>\n",
       "      <th>313591</th>\n",
       "      <td>138493</td>\n",
       "      <td>4963</td>\n",
       "    </tr>\n",
       "    <tr>\n",
       "      <th>313596</th>\n",
       "      <td>138493</td>\n",
       "      <td>293</td>\n",
       "    </tr>\n",
       "    <tr>\n",
       "      <th>313597</th>\n",
       "      <td>138493</td>\n",
       "      <td>48394</td>\n",
       "    </tr>\n",
       "  </tbody>\n",
       "</table>\n",
       "<p>128971 rows × 2 columns</p>\n",
       "</div>"
      ],
      "text/plain": [
       "          user   item\n",
       "6           11   3996\n",
       "8           11   2987\n",
       "9           11      2\n",
       "13          14   6539\n",
       "15          14    588\n",
       "...        ...    ...\n",
       "313583  138492   1270\n",
       "313584  138492   1291\n",
       "313591  138493   4963\n",
       "313596  138493    293\n",
       "313597  138493  48394\n",
       "\n",
       "[128971 rows x 2 columns]"
      ]
     },
     "execution_count": 53,
     "metadata": {},
     "output_type": "execute_result"
    }
   ],
   "source": [
    "lgbm_ease"
   ]
  },
  {
   "cell_type": "code",
   "execution_count": 54,
   "id": "a6fa8cce-53a8-44ab-9f80-cc542bcd58fc",
   "metadata": {},
   "outputs": [
    {
     "data": {
      "text/plain": [
       "(313600, 2)"
      ]
     },
     "execution_count": 54,
     "metadata": {},
     "output_type": "execute_result"
    }
   ],
   "source": [
    "# 내 결과파일 행수 확인\n",
    "lgbm_result.shape"
   ]
  },
  {
   "cell_type": "code",
   "execution_count": 55,
   "id": "7b38f26b-01df-4d89-a7e4-be76e46696e8",
   "metadata": {},
   "outputs": [],
   "source": [
    "dup_cnt = 313600 - lgbm_ease.shape[0]\n",
    "dup_ratio = dup_cnt / 313600"
   ]
  },
  {
   "cell_type": "code",
   "execution_count": 56,
   "id": "4f7585d8-e7bf-4f18-b058-14c076966322",
   "metadata": {},
   "outputs": [
    {
     "name": "stdout",
     "output_type": "stream",
     "text": [
      "겹치는 결과 개수: 313600 - 128971 = 184629\n",
      "\n",
      "겁치는 결과 비율: 184629 / 313600 = 0.58874\n",
      "\n"
     ]
    }
   ],
   "source": [
    "# 가장 잘나온 모델의 결과와 내 결과 비교\n",
    "print(f'겹치는 결과 개수: 313600 - {lgbm_ease.shape[0]} = {dup_cnt}\\n')\n",
    "print(f'겁치는 결과 비율: {dup_cnt} / 313600 = {dup_ratio:.5f}\\n')"
   ]
  },
  {
   "cell_type": "code",
   "execution_count": 57,
   "id": "93ed8e17-1e4e-4223-aec6-7929ce075fe3",
   "metadata": {},
   "outputs": [],
   "source": []
  },
  {
   "cell_type": "markdown",
   "id": "d5b37a2b-bd4b-4c29-9f24-7f616caa59d8",
   "metadata": {},
   "source": [
    "### 내 모델의 결과파일 아이템번호 분포확인\n",
    "여기선 기준이 10000입니다."
   ]
  },
  {
   "cell_type": "code",
   "execution_count": 65,
   "id": "b936e4f6-baeb-48fd-8a1a-0940362b7dbb",
   "metadata": {},
   "outputs": [
    {
     "name": "stdout",
     "output_type": "stream",
     "text": [
      "EASE 결과 item 중 item번호가 10000 미만 item 개수: 252359\n",
      "\n",
      "EASE 결과 item 중 item번호가 10000 이상 item 개수: 61241\n",
      "\n",
      "LGBM 결과 item 중 item번호가 10000 미만 item 개수: 263040\n",
      "\n",
      "LGBM 결과 item 중 item번호가 10000 이상 item 개수: 50560\n",
      "\n"
     ]
    }
   ],
   "source": [
    "print(f\"EASE 결과 item 중 item번호가 10000 미만 item 개수: {len(ease_result.loc[(ease_result['item'] < 10000)])}\\n\")\n",
    "print(f\"EASE 결과 item 중 item번호가 10000 이상 item 개수: {len(ease_result.loc[(ease_result['item'] >= 10000)])}\\n\")\n",
    "print(f\"LGBM 결과 item 중 item번호가 10000 미만 item 개수: {len(lgbm_result.loc[(lgbm_result['item'] < 10000)])}\\n\")\n",
    "print(f\"LGBM 결과 item 중 item번호가 10000 이상 item 개수: {len(lgbm_result.loc[(lgbm_result['item'] >= 10000)])}\\n\")"
   ]
  },
  {
   "cell_type": "code",
   "execution_count": null,
   "id": "0f22c362-7eaa-41ef-aef0-ea43bd0b0e0f",
   "metadata": {},
   "outputs": [],
   "source": []
  },
  {
   "cell_type": "code",
   "execution_count": null,
   "id": "ebb28a53-c873-4b88-b102-d67e12559ae6",
   "metadata": {},
   "outputs": [],
   "source": []
  }
 ],
 "metadata": {
  "kernelspec": {
   "display_name": "Python 3 (ipykernel)",
   "language": "python",
   "name": "python3"
  },
  "language_info": {
   "codemirror_mode": {
    "name": "ipython",
    "version": 3
   },
   "file_extension": ".py",
   "mimetype": "text/x-python",
   "name": "python",
   "nbconvert_exporter": "python",
   "pygments_lexer": "ipython3",
   "version": "3.8.5"
  }
 },
 "nbformat": 4,
 "nbformat_minor": 5
}

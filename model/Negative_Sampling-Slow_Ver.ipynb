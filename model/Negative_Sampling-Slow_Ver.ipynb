{
 "cells": [
  {
   "cell_type": "code",
   "execution_count": 74,
   "id": "e2e08b60",
   "metadata": {
    "ExecuteTime": {
     "end_time": "2023-01-05T04:57:20.210058Z",
     "start_time": "2023-01-05T04:57:20.206683Z"
    }
   },
   "outputs": [],
   "source": [
    "import warnings\n",
    "warnings.filterwarnings('ignore')"
   ]
  },
  {
   "cell_type": "code",
   "execution_count": 75,
   "id": "b7c4d331",
   "metadata": {
    "ExecuteTime": {
     "end_time": "2023-01-05T04:57:21.994859Z",
     "start_time": "2023-01-05T04:57:20.451859Z"
    }
   },
   "outputs": [
    {
     "data": {
      "text/plain": [
       "['EASE@500.csv',\n",
       " 'FFM@500.csv',\n",
       " 'GRU4RecF@500.csv',\n",
       " 'ItemKNN@500.csv',\n",
       " 'NeuMF@500.csv',\n",
       " 'Pop@500.csv',\n",
       " 'SLIMElastic@500.csv']"
      ]
     },
     "execution_count": 75,
     "metadata": {},
     "output_type": "execute_result"
    }
   ],
   "source": [
    "import pandas as pd\n",
    "import numpy as np\n",
    "from tqdm import tqdm\n",
    "import random\n",
    "\n",
    "train=pd.read_csv(\"/opt/ml/input/data/train/train_ratings.csv\")\n",
    "\n",
    "csv_list = !ls *.csv\n",
    "csv_list"
   ]
  },
  {
   "cell_type": "code",
   "execution_count": 76,
   "id": "ac18dcad",
   "metadata": {
    "ExecuteTime": {
     "end_time": "2023-01-05T04:57:50.156455Z",
     "start_time": "2023-01-05T04:57:21.997790Z"
    }
   },
   "outputs": [
    {
     "data": {
      "text/plain": [
       "(109487086, 2)"
      ]
     },
     "execution_count": 76,
     "metadata": {},
     "output_type": "execute_result"
    }
   ],
   "source": [
    "df=pd.DataFrame()\n",
    "\n",
    "for csv in csv_list:\n",
    "    file = pd.read_csv(csv)\n",
    "    df = pd.concat([df,file])\n",
    "\n",
    "df.shape"
   ]
  },
  {
   "cell_type": "code",
   "execution_count": 77,
   "id": "e6458381",
   "metadata": {
    "ExecuteTime": {
     "end_time": "2023-01-05T04:58:11.226866Z",
     "start_time": "2023-01-05T04:57:50.158268Z"
    }
   },
   "outputs": [
    {
     "data": {
      "text/plain": [
       "(34713290, 2)"
      ]
     },
     "execution_count": 77,
     "metadata": {},
     "output_type": "execute_result"
    }
   ],
   "source": [
    "df.drop_duplicates(subset=['user','item'],inplace=True)\n",
    "df.shape"
   ]
  },
  {
   "cell_type": "code",
   "execution_count": 78,
   "id": "7cf863da",
   "metadata": {
    "ExecuteTime": {
     "end_time": "2023-01-05T04:58:12.236163Z",
     "start_time": "2023-01-05T04:58:11.229567Z"
    }
   },
   "outputs": [
    {
     "data": {
      "text/plain": [
       "(39867761, 2)"
      ]
     },
     "execution_count": 78,
     "metadata": {},
     "output_type": "execute_result"
    }
   ],
   "source": [
    "df = pd.concat([df,train[['user','item']]])\n",
    "df.shape"
   ]
  },
  {
   "cell_type": "code",
   "execution_count": 79,
   "id": "a03cf081",
   "metadata": {
    "ExecuteTime": {
     "end_time": "2023-01-05T04:58:12.774950Z",
     "start_time": "2023-01-05T04:58:12.237915Z"
    }
   },
   "outputs": [],
   "source": [
    "# Get a list of all unique users and items\n",
    "users = df['user'].unique()\n",
    "items = df['item'].unique()"
   ]
  },
  {
   "cell_type": "code",
   "execution_count": null,
   "id": "14402e2e",
   "metadata": {},
   "outputs": [],
   "source": []
  },
  {
   "cell_type": "code",
   "execution_count": null,
   "id": "9590ebc4",
   "metadata": {},
   "outputs": [],
   "source": []
  },
  {
   "cell_type": "code",
   "execution_count": null,
   "id": "3a33d15b",
   "metadata": {},
   "outputs": [],
   "source": []
  },
  {
   "cell_type": "code",
   "execution_count": 54,
   "id": "19983e23",
   "metadata": {
    "ExecuteTime": {
     "end_time": "2023-01-05T02:53:21.072449Z",
     "start_time": "2023-01-05T02:53:18.942323Z"
    }
   },
   "outputs": [],
   "source": [
    "user2idx = {k:v for v,k in enumerate(sorted(set(train.user)))}\n",
    "\n",
    "uidx2id = {v:k for v,k in enumerate(sorted(set(train.user)))}\n",
    "\n",
    "item2idx = {k:v for v,k in enumerate(sorted(set(train.item)))}\n",
    "\n",
    "itemidx2id = {v:k for v,k in enumerate(sorted(set(train.item)))}"
   ]
  },
  {
   "cell_type": "code",
   "execution_count": 32,
   "id": "8e5f5f3a",
   "metadata": {
    "ExecuteTime": {
     "end_time": "2023-01-04T18:39:30.949541Z",
     "start_time": "2023-01-04T18:39:30.945262Z"
    }
   },
   "outputs": [
    {
     "data": {
      "text/plain": [
       "array([ 4370,  4886,    47, ...,  6430,  5423, 43934])"
      ]
     },
     "execution_count": 32,
     "metadata": {},
     "output_type": "execute_result"
    }
   ],
   "source": [
    "items"
   ]
  },
  {
   "cell_type": "code",
   "execution_count": 7,
   "id": "9ca017b7",
   "metadata": {
    "ExecuteTime": {
     "end_time": "2023-01-05T02:58:42.817336Z",
     "start_time": "2023-01-05T02:58:42.812059Z"
    }
   },
   "outputs": [],
   "source": [
    "# Create a new dataframe to hold the negative samples\n",
    "negative_samples = pd.DataFrame(columns=['user', 'item'])"
   ]
  },
  {
   "cell_type": "code",
   "execution_count": 8,
   "id": "b555136a",
   "metadata": {
    "ExecuteTime": {
     "end_time": "2023-01-05T02:58:45.589201Z",
     "start_time": "2023-01-05T02:58:45.586217Z"
    }
   },
   "outputs": [],
   "source": [
    "negative_dict = dict()"
   ]
  },
  {
   "cell_type": "code",
   "execution_count": 11,
   "id": "646faaa8",
   "metadata": {
    "ExecuteTime": {
     "end_time": "2023-01-05T02:59:07.083669Z",
     "start_time": "2023-01-05T02:59:07.079068Z"
    }
   },
   "outputs": [
    {
     "data": {
      "text/plain": [
       "(31360, 6807)"
      ]
     },
     "execution_count": 11,
     "metadata": {},
     "output_type": "execute_result"
    }
   ],
   "source": [
    "len(users),len(items)"
   ]
  },
  {
   "cell_type": "code",
   "execution_count": 91,
   "id": "19f30537",
   "metadata": {
    "ExecuteTime": {
     "end_time": "2023-01-05T05:00:10.106134Z",
     "start_time": "2023-01-05T05:00:10.020127Z"
    }
   },
   "outputs": [],
   "source": [
    "user_items = df[df['user'] == 11]['item']"
   ]
  },
  {
   "cell_type": "code",
   "execution_count": 97,
   "id": "25d0506c",
   "metadata": {
    "ExecuteTime": {
     "end_time": "2023-01-05T05:00:44.886336Z",
     "start_time": "2023-01-05T05:00:44.882529Z"
    }
   },
   "outputs": [
    {
     "data": {
      "text/plain": [
       "True"
      ]
     },
     "execution_count": 97,
     "metadata": {},
     "output_type": "execute_result"
    }
   ],
   "source": [
    "2428 in user_items.to_list()"
   ]
  },
  {
   "cell_type": "code",
   "execution_count": 98,
   "id": "f8407897",
   "metadata": {
    "ExecuteTime": {
     "end_time": "2023-01-05T05:00:52.201434Z",
     "start_time": "2023-01-05T05:00:50.596467Z"
    }
   },
   "outputs": [
    {
     "data": {
      "text/plain": [
       "False"
      ]
     },
     "execution_count": 98,
     "metadata": {},
     "output_type": "execute_result"
    }
   ],
   "source": [
    "2428 in [item for item in items if item not in user_items.to_list()]"
   ]
  },
  {
   "cell_type": "code",
   "execution_count": 12,
   "id": "7ed0937a",
   "metadata": {
    "ExecuteTime": {
     "end_time": "2023-01-05T04:01:19.214081Z",
     "start_time": "2023-01-05T02:59:32.214450Z"
    }
   },
   "outputs": [
    {
     "name": "stderr",
     "output_type": "stream",
     "text": [
      "100%|██████████████████████████████████████████████████████| 31360/31360 [1:01:46<00:00,  8.46it/s]\n"
     ]
    }
   ],
   "source": [
    "# Iterate through the list of users\n",
    "for user in tqdm(users):\n",
    "    # Get all the items that the user has interacted with\n",
    "    user_items = df[df['user'] == user]['item']\n",
    "    user_items_num = train[train.user==user].shape[0]\n",
    "    random.shuffle(items)\n",
    "    negative_items = [item for item in items if item not in user_items][:user_items_num]\n",
    "    negative_dict[user]=negative_items"
   ]
  },
  {
   "cell_type": "code",
   "execution_count": 88,
   "id": "7428e801",
   "metadata": {
    "ExecuteTime": {
     "end_time": "2023-01-05T04:59:37.045253Z",
     "start_time": "2023-01-05T04:59:37.041617Z"
    }
   },
   "outputs": [
    {
     "data": {
      "text/plain": [
       "True"
      ]
     },
     "execution_count": 88,
     "metadata": {},
     "output_type": "execute_result"
    }
   ],
   "source": [
    "2428 in negative_dict[11]"
   ]
  },
  {
   "cell_type": "code",
   "execution_count": 13,
   "id": "6b7a9638",
   "metadata": {
    "ExecuteTime": {
     "end_time": "2023-01-05T04:23:43.777604Z",
     "start_time": "2023-01-05T04:23:43.773631Z"
    }
   },
   "outputs": [
    {
     "data": {
      "text/plain": [
       "31360"
      ]
     },
     "execution_count": 13,
     "metadata": {},
     "output_type": "execute_result"
    }
   ],
   "source": [
    "len(negative_dict)"
   ]
  },
  {
   "cell_type": "code",
   "execution_count": 34,
   "id": "d24244b8",
   "metadata": {
    "ExecuteTime": {
     "end_time": "2023-01-05T04:35:21.893314Z",
     "start_time": "2023-01-05T04:35:21.888595Z"
    }
   },
   "outputs": [],
   "source": [
    "result = pd.DataFrame(columns=['user','item'])"
   ]
  },
  {
   "cell_type": "code",
   "execution_count": 35,
   "id": "101019b0",
   "metadata": {
    "ExecuteTime": {
     "end_time": "2023-01-05T04:36:10.052649Z",
     "start_time": "2023-01-05T04:35:22.416016Z"
    }
   },
   "outputs": [
    {
     "name": "stderr",
     "output_type": "stream",
     "text": [
      "100%|███████████████████████████████████████████████████████| 31360/31360 [00:47<00:00, 658.41it/s]\n"
     ]
    }
   ],
   "source": [
    "for u,i_li in tqdm(negative_dict.items()):\n",
    "    result.loc[len(result),:]=(u,\" \".join(map(str,i_li)))"
   ]
  },
  {
   "cell_type": "code",
   "execution_count": 36,
   "id": "8f214bd6",
   "metadata": {
    "ExecuteTime": {
     "end_time": "2023-01-05T04:36:12.063950Z",
     "start_time": "2023-01-05T04:36:12.054769Z"
    }
   },
   "outputs": [
    {
     "data": {
      "text/html": [
       "<div>\n",
       "<style scoped>\n",
       "    .dataframe tbody tr th:only-of-type {\n",
       "        vertical-align: middle;\n",
       "    }\n",
       "\n",
       "    .dataframe tbody tr th {\n",
       "        vertical-align: top;\n",
       "    }\n",
       "\n",
       "    .dataframe thead th {\n",
       "        text-align: right;\n",
       "    }\n",
       "</style>\n",
       "<table border=\"1\" class=\"dataframe\">\n",
       "  <thead>\n",
       "    <tr style=\"text-align: right;\">\n",
       "      <th></th>\n",
       "      <th>user</th>\n",
       "      <th>item</th>\n",
       "    </tr>\n",
       "  </thead>\n",
       "  <tbody>\n",
       "    <tr>\n",
       "      <th>0</th>\n",
       "      <td>11</td>\n",
       "      <td>97328 3480 3718 5389 1185 45517 7564 7234 9356...</td>\n",
       "    </tr>\n",
       "    <tr>\n",
       "      <th>1</th>\n",
       "      <td>14</td>\n",
       "      <td>3734 6382 4368 2131 89780 3182 5398 55820 4931...</td>\n",
       "    </tr>\n",
       "    <tr>\n",
       "      <th>2</th>\n",
       "      <td>18</td>\n",
       "      <td>479 1831 2790 25929 53550 4040 65585 3668 6967...</td>\n",
       "    </tr>\n",
       "    <tr>\n",
       "      <th>3</th>\n",
       "      <td>25</td>\n",
       "      <td>78729 32022 46974 85354 4415 849 1227 94953 55...</td>\n",
       "    </tr>\n",
       "    <tr>\n",
       "      <th>4</th>\n",
       "      <td>31</td>\n",
       "      <td>1280 52967 4356 41014 26578 1961 56012 87192 2...</td>\n",
       "    </tr>\n",
       "    <tr>\n",
       "      <th>...</th>\n",
       "      <td>...</td>\n",
       "      <td>...</td>\n",
       "    </tr>\n",
       "    <tr>\n",
       "      <th>31355</th>\n",
       "      <td>138473</td>\n",
       "      <td>2580 5417 27032 849 89 3747 955 946 7218 1441 ...</td>\n",
       "    </tr>\n",
       "    <tr>\n",
       "      <th>31356</th>\n",
       "      <td>138475</td>\n",
       "      <td>27831 1379 61071 3521 3196 2539 45440 6619 32 ...</td>\n",
       "    </tr>\n",
       "    <tr>\n",
       "      <th>31357</th>\n",
       "      <td>138486</td>\n",
       "      <td>1721 7265 1588 55805 12 7482 4148 27005 2353 4...</td>\n",
       "    </tr>\n",
       "    <tr>\n",
       "      <th>31358</th>\n",
       "      <td>138492</td>\n",
       "      <td>1231 84944 2090 55814 33836 26578 880 80939 51...</td>\n",
       "    </tr>\n",
       "    <tr>\n",
       "      <th>31359</th>\n",
       "      <td>138493</td>\n",
       "      <td>55805 59369 313 4776 7502 66097 6288 80748 591...</td>\n",
       "    </tr>\n",
       "  </tbody>\n",
       "</table>\n",
       "<p>31360 rows × 2 columns</p>\n",
       "</div>"
      ],
      "text/plain": [
       "         user                                               item\n",
       "0          11  97328 3480 3718 5389 1185 45517 7564 7234 9356...\n",
       "1          14  3734 6382 4368 2131 89780 3182 5398 55820 4931...\n",
       "2          18  479 1831 2790 25929 53550 4040 65585 3668 6967...\n",
       "3          25  78729 32022 46974 85354 4415 849 1227 94953 55...\n",
       "4          31  1280 52967 4356 41014 26578 1961 56012 87192 2...\n",
       "...       ...                                                ...\n",
       "31355  138473  2580 5417 27032 849 89 3747 955 946 7218 1441 ...\n",
       "31356  138475  27831 1379 61071 3521 3196 2539 45440 6619 32 ...\n",
       "31357  138486  1721 7265 1588 55805 12 7482 4148 27005 2353 4...\n",
       "31358  138492  1231 84944 2090 55814 33836 26578 880 80939 51...\n",
       "31359  138493  55805 59369 313 4776 7502 66097 6288 80748 591...\n",
       "\n",
       "[31360 rows x 2 columns]"
      ]
     },
     "execution_count": 36,
     "metadata": {},
     "output_type": "execute_result"
    }
   ],
   "source": [
    "result"
   ]
  },
  {
   "cell_type": "code",
   "execution_count": 37,
   "id": "42cde47e",
   "metadata": {
    "ExecuteTime": {
     "end_time": "2023-01-05T04:36:30.438097Z",
     "start_time": "2023-01-05T04:36:19.113442Z"
    }
   },
   "outputs": [],
   "source": [
    "b_flat = pd.DataFrame([[i, x] \n",
    "               for i, y in result['item'].apply(lambda x: x.split()).iteritems() \n",
    "                    for x in y], columns=list('IB'))\n",
    "b_flat = b_flat.set_index('I')\n",
    "\n",
    "result2 = result[['user']].merge(b_flat, left_index=True, right_index=True)"
   ]
  },
  {
   "cell_type": "code",
   "execution_count": 39,
   "id": "e1233dfe",
   "metadata": {
    "ExecuteTime": {
     "end_time": "2023-01-05T04:36:40.489273Z",
     "start_time": "2023-01-05T04:36:40.486035Z"
    }
   },
   "outputs": [],
   "source": [
    "result2.columns=['user','item']"
   ]
  },
  {
   "cell_type": "code",
   "execution_count": 42,
   "id": "0f332272",
   "metadata": {
    "ExecuteTime": {
     "end_time": "2023-01-05T04:37:06.599305Z",
     "start_time": "2023-01-05T04:37:06.574804Z"
    }
   },
   "outputs": [],
   "source": [
    "train2 = train[['user','item']]"
   ]
  },
  {
   "cell_type": "code",
   "execution_count": 43,
   "id": "fb1238a4",
   "metadata": {
    "ExecuteTime": {
     "end_time": "2023-01-05T04:37:14.808676Z",
     "start_time": "2023-01-05T04:37:14.800241Z"
    }
   },
   "outputs": [],
   "source": [
    "train2['label']=1"
   ]
  },
  {
   "cell_type": "code",
   "execution_count": 44,
   "id": "b1345d4c",
   "metadata": {
    "ExecuteTime": {
     "end_time": "2023-01-05T04:37:20.090821Z",
     "start_time": "2023-01-05T04:37:20.081998Z"
    }
   },
   "outputs": [],
   "source": [
    "result2['label']=0"
   ]
  },
  {
   "cell_type": "code",
   "execution_count": 85,
   "id": "43e4f1a8",
   "metadata": {
    "ExecuteTime": {
     "end_time": "2023-01-05T04:59:07.464011Z",
     "start_time": "2023-01-05T04:59:07.178768Z"
    }
   },
   "outputs": [
    {
     "data": {
      "text/html": [
       "<div>\n",
       "<style scoped>\n",
       "    .dataframe tbody tr th:only-of-type {\n",
       "        vertical-align: middle;\n",
       "    }\n",
       "\n",
       "    .dataframe tbody tr th {\n",
       "        vertical-align: top;\n",
       "    }\n",
       "\n",
       "    .dataframe thead th {\n",
       "        text-align: right;\n",
       "    }\n",
       "</style>\n",
       "<table border=\"1\" class=\"dataframe\">\n",
       "  <thead>\n",
       "    <tr style=\"text-align: right;\">\n",
       "      <th></th>\n",
       "      <th>user</th>\n",
       "      <th>item</th>\n",
       "    </tr>\n",
       "  </thead>\n",
       "  <tbody>\n",
       "    <tr>\n",
       "      <th>8</th>\n",
       "      <td>11</td>\n",
       "      <td>2428</td>\n",
       "    </tr>\n",
       "  </tbody>\n",
       "</table>\n",
       "</div>"
      ],
      "text/plain": [
       "   user  item\n",
       "8    11  2428"
      ]
     },
     "execution_count": 85,
     "metadata": {},
     "output_type": "execute_result"
    }
   ],
   "source": [
    "df[(df.user==11) & (df.item==2428)]"
   ]
  },
  {
   "cell_type": "code",
   "execution_count": 63,
   "id": "d1be8590",
   "metadata": {
    "ExecuteTime": {
     "end_time": "2023-01-05T04:52:03.621432Z",
     "start_time": "2023-01-05T04:52:03.611311Z"
    }
   },
   "outputs": [
    {
     "name": "stdout",
     "output_type": "stream",
     "text": [
      "<class 'pandas.core.frame.DataFrame'>\n",
      "RangeIndex: 5154471 entries, 0 to 5154470\n",
      "Data columns (total 3 columns):\n",
      " #   Column  Dtype\n",
      "---  ------  -----\n",
      " 0   user    int64\n",
      " 1   item    int64\n",
      " 2   time    int64\n",
      "dtypes: int64(3)\n",
      "memory usage: 118.0 MB\n"
     ]
    }
   ],
   "source": [
    "train.info()"
   ]
  },
  {
   "cell_type": "code",
   "execution_count": 67,
   "id": "31c6eb28",
   "metadata": {
    "ExecuteTime": {
     "end_time": "2023-01-05T04:52:42.668559Z",
     "start_time": "2023-01-05T04:52:41.675648Z"
    }
   },
   "outputs": [],
   "source": [
    "result2.user = result2.user.astype(int)\n",
    "result2.item = result2.item.astype(int)"
   ]
  },
  {
   "cell_type": "code",
   "execution_count": 70,
   "id": "b1ef4bf5",
   "metadata": {
    "ExecuteTime": {
     "end_time": "2023-01-05T04:53:21.736810Z",
     "start_time": "2023-01-05T04:53:21.709626Z"
    }
   },
   "outputs": [
    {
     "data": {
      "text/html": [
       "<div>\n",
       "<style scoped>\n",
       "    .dataframe tbody tr th:only-of-type {\n",
       "        vertical-align: middle;\n",
       "    }\n",
       "\n",
       "    .dataframe tbody tr th {\n",
       "        vertical-align: top;\n",
       "    }\n",
       "\n",
       "    .dataframe thead th {\n",
       "        text-align: right;\n",
       "    }\n",
       "</style>\n",
       "<table border=\"1\" class=\"dataframe\">\n",
       "  <thead>\n",
       "    <tr style=\"text-align: right;\">\n",
       "      <th></th>\n",
       "      <th>user</th>\n",
       "      <th>item</th>\n",
       "      <th>time</th>\n",
       "    </tr>\n",
       "  </thead>\n",
       "  <tbody>\n",
       "    <tr>\n",
       "      <th>8</th>\n",
       "      <td>11</td>\n",
       "      <td>2428</td>\n",
       "      <td>1230782694</td>\n",
       "    </tr>\n",
       "  </tbody>\n",
       "</table>\n",
       "</div>"
      ],
      "text/plain": [
       "   user  item        time\n",
       "8    11  2428  1230782694"
      ]
     },
     "execution_count": 70,
     "metadata": {},
     "output_type": "execute_result"
    }
   ],
   "source": [
    "train[(train.user==11) & (train.item==2428)]"
   ]
  },
  {
   "cell_type": "code",
   "execution_count": 72,
   "id": "56af76aa",
   "metadata": {
    "ExecuteTime": {
     "end_time": "2023-01-05T04:53:40.768567Z",
     "start_time": "2023-01-05T04:53:40.742212Z"
    }
   },
   "outputs": [
    {
     "data": {
      "text/html": [
       "<div>\n",
       "<style scoped>\n",
       "    .dataframe tbody tr th:only-of-type {\n",
       "        vertical-align: middle;\n",
       "    }\n",
       "\n",
       "    .dataframe tbody tr th {\n",
       "        vertical-align: top;\n",
       "    }\n",
       "\n",
       "    .dataframe thead th {\n",
       "        text-align: right;\n",
       "    }\n",
       "</style>\n",
       "<table border=\"1\" class=\"dataframe\">\n",
       "  <thead>\n",
       "    <tr style=\"text-align: right;\">\n",
       "      <th></th>\n",
       "      <th>user</th>\n",
       "      <th>item</th>\n",
       "      <th>label</th>\n",
       "    </tr>\n",
       "  </thead>\n",
       "  <tbody>\n",
       "    <tr>\n",
       "      <th>0</th>\n",
       "      <td>11</td>\n",
       "      <td>2428</td>\n",
       "      <td>0</td>\n",
       "    </tr>\n",
       "  </tbody>\n",
       "</table>\n",
       "</div>"
      ],
      "text/plain": [
       "   user  item  label\n",
       "0    11  2428      0"
      ]
     },
     "execution_count": 72,
     "metadata": {},
     "output_type": "execute_result"
    }
   ],
   "source": [
    "result2[(result2.user==11) & (result2.item==2428)]"
   ]
  },
  {
   "cell_type": "code",
   "execution_count": 68,
   "id": "49b28d39",
   "metadata": {
    "ExecuteTime": {
     "end_time": "2023-01-05T04:52:48.185356Z",
     "start_time": "2023-01-05T04:52:44.362365Z"
    }
   },
   "outputs": [
    {
     "data": {
      "text/html": [
       "<div>\n",
       "<style scoped>\n",
       "    .dataframe tbody tr th:only-of-type {\n",
       "        vertical-align: middle;\n",
       "    }\n",
       "\n",
       "    .dataframe tbody tr th {\n",
       "        vertical-align: top;\n",
       "    }\n",
       "\n",
       "    .dataframe thead th {\n",
       "        text-align: right;\n",
       "    }\n",
       "</style>\n",
       "<table border=\"1\" class=\"dataframe\">\n",
       "  <thead>\n",
       "    <tr style=\"text-align: right;\">\n",
       "      <th></th>\n",
       "      <th>user</th>\n",
       "      <th>item</th>\n",
       "    </tr>\n",
       "  </thead>\n",
       "  <tbody>\n",
       "    <tr>\n",
       "      <th>0</th>\n",
       "      <td>11</td>\n",
       "      <td>2428</td>\n",
       "    </tr>\n",
       "    <tr>\n",
       "      <th>1</th>\n",
       "      <td>11</td>\n",
       "      <td>33585</td>\n",
       "    </tr>\n",
       "    <tr>\n",
       "      <th>2</th>\n",
       "      <td>11</td>\n",
       "      <td>2124</td>\n",
       "    </tr>\n",
       "    <tr>\n",
       "      <th>3</th>\n",
       "      <td>11</td>\n",
       "      <td>7173</td>\n",
       "    </tr>\n",
       "    <tr>\n",
       "      <th>4</th>\n",
       "      <td>11</td>\n",
       "      <td>1321</td>\n",
       "    </tr>\n",
       "    <tr>\n",
       "      <th>...</th>\n",
       "      <td>...</td>\n",
       "      <td>...</td>\n",
       "    </tr>\n",
       "    <tr>\n",
       "      <th>227160</th>\n",
       "      <td>138493</td>\n",
       "      <td>1203</td>\n",
       "    </tr>\n",
       "    <tr>\n",
       "      <th>227161</th>\n",
       "      <td>138493</td>\n",
       "      <td>3034</td>\n",
       "    </tr>\n",
       "    <tr>\n",
       "      <th>227162</th>\n",
       "      <td>138493</td>\n",
       "      <td>4874</td>\n",
       "    </tr>\n",
       "    <tr>\n",
       "      <th>227163</th>\n",
       "      <td>138493</td>\n",
       "      <td>224</td>\n",
       "    </tr>\n",
       "    <tr>\n",
       "      <th>227164</th>\n",
       "      <td>138493</td>\n",
       "      <td>4343</td>\n",
       "    </tr>\n",
       "  </tbody>\n",
       "</table>\n",
       "<p>227165 rows × 2 columns</p>\n",
       "</div>"
      ],
      "text/plain": [
       "          user   item\n",
       "0           11   2428\n",
       "1           11  33585\n",
       "2           11   2124\n",
       "3           11   7173\n",
       "4           11   1321\n",
       "...        ...    ...\n",
       "227160  138493   1203\n",
       "227161  138493   3034\n",
       "227162  138493   4874\n",
       "227163  138493    224\n",
       "227164  138493   4343\n",
       "\n",
       "[227165 rows x 2 columns]"
      ]
     },
     "execution_count": 68,
     "metadata": {},
     "output_type": "execute_result"
    }
   ],
   "source": [
    "train[['user','item']].merge(result2[['user','item']], on=['user','item'])"
   ]
  },
  {
   "cell_type": "code",
   "execution_count": 58,
   "id": "83f451fb",
   "metadata": {
    "ExecuteTime": {
     "end_time": "2023-01-05T04:50:52.949123Z",
     "start_time": "2023-01-05T04:50:49.721119Z"
    }
   },
   "outputs": [],
   "source": [
    "result2[['user','item']].to_pickle(\"Neg_Sample.pkl\")"
   ]
  },
  {
   "cell_type": "code",
   "execution_count": 46,
   "id": "4de3af75",
   "metadata": {
    "ExecuteTime": {
     "end_time": "2023-01-05T04:37:56.024037Z",
     "start_time": "2023-01-05T04:37:55.303595Z"
    }
   },
   "outputs": [],
   "source": [
    "all_df = pd.concat([train2,result2])"
   ]
  },
  {
   "cell_type": "code",
   "execution_count": 47,
   "id": "fb2c247b",
   "metadata": {
    "ExecuteTime": {
     "end_time": "2023-01-05T04:38:13.684055Z",
     "start_time": "2023-01-05T04:38:13.680408Z"
    }
   },
   "outputs": [
    {
     "data": {
      "text/plain": [
       "(10308942, 3)"
      ]
     },
     "execution_count": 47,
     "metadata": {},
     "output_type": "execute_result"
    }
   ],
   "source": [
    "all_df.shape"
   ]
  },
  {
   "cell_type": "code",
   "execution_count": 48,
   "id": "6faed035",
   "metadata": {
    "ExecuteTime": {
     "end_time": "2023-01-05T04:38:39.187968Z",
     "start_time": "2023-01-05T04:38:36.123766Z"
    }
   },
   "outputs": [],
   "source": [
    "all_df.to_pickle('All_Pos_Neg_Interaction.pkl')"
   ]
  },
  {
   "cell_type": "code",
   "execution_count": 50,
   "id": "16dcdd5b",
   "metadata": {
    "ExecuteTime": {
     "end_time": "2023-01-05T04:38:56.000686Z",
     "start_time": "2023-01-05T04:38:53.770798Z"
    }
   },
   "outputs": [],
   "source": [
    "tt = pd.read_pickle('All_Pos_Neg_Interaction.pkl')"
   ]
  },
  {
   "cell_type": "code",
   "execution_count": 56,
   "id": "2722f040",
   "metadata": {
    "ExecuteTime": {
     "end_time": "2023-01-05T04:42:11.898081Z",
     "start_time": "2023-01-05T04:42:11.668497Z"
    }
   },
   "outputs": [
    {
     "name": "stdout",
     "output_type": "stream",
     "text": [
      "-recsys8: No such file or directory\r\n"
     ]
    }
   ],
   "source": [
    "scp -P 2240 All_Pos_Neg_Interaction.pkl root@27.96.131.55:~\n",
    "\n",
    "scp -P 2226 All_Pos_Neg_Interaction.pkl root@101.101.216.53:~"
   ]
  }
 ],
 "metadata": {
  "kernelspec": {
   "display_name": "Python 3 (ipykernel)",
   "language": "python",
   "name": "python3"
  },
  "language_info": {
   "codemirror_mode": {
    "name": "ipython",
    "version": 3
   },
   "file_extension": ".py",
   "mimetype": "text/x-python",
   "name": "python",
   "nbconvert_exporter": "python",
   "pygments_lexer": "ipython3",
   "version": "3.8.5"
  },
  "toc": {
   "base_numbering": 1,
   "nav_menu": {},
   "number_sections": true,
   "sideBar": true,
   "skip_h1_title": false,
   "title_cell": "Table of Contents",
   "title_sidebar": "Contents",
   "toc_cell": false,
   "toc_position": {},
   "toc_section_display": true,
   "toc_window_display": false
  }
 },
 "nbformat": 4,
 "nbformat_minor": 5
}

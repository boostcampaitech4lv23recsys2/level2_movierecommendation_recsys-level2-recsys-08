{
 "cells": [
  {
   "cell_type": "code",
   "execution_count": 23,
   "id": "da9eb567",
   "metadata": {
    "ExecuteTime": {
     "end_time": "2023-01-05T02:19:04.799821Z",
     "start_time": "2023-01-05T02:19:02.875507Z"
    }
   },
   "outputs": [
    {
     "data": {
      "text/plain": [
       "['EASE@500.csv',\n",
       " 'FFM@500.csv',\n",
       " 'GRU4RecF@500.csv',\n",
       " 'ItemKNN@500.csv',\n",
       " 'NeuMF@500.csv',\n",
       " 'Pop@500.csv',\n",
       " 'SLIMElastic@500.csv']"
      ]
     },
     "execution_count": 23,
     "metadata": {},
     "output_type": "execute_result"
    }
   ],
   "source": [
    "import pandas as pd\n",
    "import numpy as np\n",
    "from tqdm import tqdm\n",
    "import random\n",
    "\n",
    "train=pd.read_csv(\"/opt/ml/input/data/train/train_ratings.csv\")\n",
    "\n",
    "csv_list = !ls *.csv\n",
    "csv_list"
   ]
  },
  {
   "cell_type": "code",
   "execution_count": 2,
   "id": "45210739",
   "metadata": {
    "ExecuteTime": {
     "end_time": "2023-01-05T02:04:39.147633Z",
     "start_time": "2023-01-05T02:04:10.167009Z"
    }
   },
   "outputs": [
    {
     "data": {
      "text/plain": [
       "(109487086, 2)"
      ]
     },
     "execution_count": 2,
     "metadata": {},
     "output_type": "execute_result"
    }
   ],
   "source": [
    "df=pd.DataFrame()\n",
    "\n",
    "for csv in csv_list:\n",
    "    file = pd.read_csv(csv)\n",
    "    df = pd.concat([df,file])\n",
    "\n",
    "df.shape"
   ]
  },
  {
   "cell_type": "code",
   "execution_count": 3,
   "id": "77f31e96",
   "metadata": {
    "ExecuteTime": {
     "end_time": "2023-01-05T02:05:00.427966Z",
     "start_time": "2023-01-05T02:04:39.150027Z"
    }
   },
   "outputs": [
    {
     "data": {
      "text/plain": [
       "(34713290, 2)"
      ]
     },
     "execution_count": 3,
     "metadata": {},
     "output_type": "execute_result"
    }
   ],
   "source": [
    "df.drop_duplicates(subset=['user','item'],inplace=True)\n",
    "df.shape"
   ]
  },
  {
   "cell_type": "code",
   "execution_count": 4,
   "id": "53ee3f4f",
   "metadata": {
    "ExecuteTime": {
     "end_time": "2023-01-05T02:05:01.504457Z",
     "start_time": "2023-01-05T02:05:00.430214Z"
    }
   },
   "outputs": [
    {
     "data": {
      "text/plain": [
       "(39867761, 2)"
      ]
     },
     "execution_count": 4,
     "metadata": {},
     "output_type": "execute_result"
    }
   ],
   "source": [
    "df = pd.concat([df,train[['user','item']]])\n",
    "df.shape"
   ]
  },
  {
   "cell_type": "code",
   "execution_count": 5,
   "id": "dc7c763e",
   "metadata": {
    "ExecuteTime": {
     "end_time": "2023-01-05T02:05:02.041093Z",
     "start_time": "2023-01-05T02:05:01.507283Z"
    }
   },
   "outputs": [],
   "source": [
    "# Get a list of all unique users and items\n",
    "users = df['user'].unique()\n",
    "items = df['item'].unique()"
   ]
  },
  {
   "cell_type": "code",
   "execution_count": 54,
   "id": "481cb976",
   "metadata": {
    "ExecuteTime": {
     "end_time": "2023-01-05T02:53:21.072449Z",
     "start_time": "2023-01-05T02:53:18.942323Z"
    }
   },
   "outputs": [],
   "source": [
    "user2idx = {k:v for v,k in enumerate(sorted(set(train.user)))}\n",
    "uidx2id = {v:k for v,k in enumerate(sorted(set(train.user)))}\n",
    "item2idx = {k:v for v,k in enumerate(sorted(set(train.item)))}\n",
    "itemidx2id = {v:k for v,k in enumerate(sorted(set(train.item)))}"
   ]
  },
  {
   "cell_type": "code",
   "execution_count": 6,
   "id": "25707065",
   "metadata": {
    "ExecuteTime": {
     "end_time": "2023-01-05T02:05:02.047322Z",
     "start_time": "2023-01-05T02:05:02.043043Z"
    }
   },
   "outputs": [
    {
     "data": {
      "text/plain": [
       "(31360, 6807)"
      ]
     },
     "execution_count": 6,
     "metadata": {},
     "output_type": "execute_result"
    }
   ],
   "source": [
    "len(users), len(items)"
   ]
  },
  {
   "cell_type": "code",
   "execution_count": 7,
   "id": "304da705",
   "metadata": {
    "ExecuteTime": {
     "end_time": "2023-01-05T02:05:20.004614Z",
     "start_time": "2023-01-05T02:05:02.049160Z"
    }
   },
   "outputs": [],
   "source": [
    "num_users = df['user'].nunique()\n",
    "num_items = df['item'].nunique()\n",
    "\n",
    "# Create a 2D array of all possible user-item pairs\n",
    "pairs = np.array(np.meshgrid(np.arange(num_users), np.arange(num_items))).T.reshape(-1, 2)"
   ]
  },
  {
   "cell_type": "code",
   "execution_count": 8,
   "id": "19cd79fc",
   "metadata": {
    "ExecuteTime": {
     "end_time": "2023-01-05T02:05:22.616718Z",
     "start_time": "2023-01-05T02:05:20.006852Z"
    }
   },
   "outputs": [],
   "source": [
    "# Convert the user and item columns to categorical data\n",
    "df['user'] = pd.Categorical(df['user'])\n",
    "df['item'] = pd.Categorical(df['item'])\n",
    "\n",
    "# Get the categorical codes for the user and item columns\n",
    "user_codes = df['user'].cat.codes\n",
    "item_codes = df['item'].cat.codes"
   ]
  },
  {
   "cell_type": "code",
   "execution_count": 73,
   "id": "84af485a",
   "metadata": {
    "ExecuteTime": {
     "end_time": "2023-01-05T05:03:32.171029Z",
     "start_time": "2023-01-05T05:03:32.164276Z"
    }
   },
   "outputs": [
    {
     "data": {
      "text/plain": [
       "(0    0\n",
       " 1    0\n",
       " 2    0\n",
       " 3    0\n",
       " dtype: int16,\n",
       " 5154467    31359\n",
       " 5154468    31359\n",
       " 5154469    31359\n",
       " 5154470    31359\n",
       " dtype: int16)"
      ]
     },
     "execution_count": 73,
     "metadata": {},
     "output_type": "execute_result"
    }
   ],
   "source": [
    "user_codes[:4], user_codes[-4:]"
   ]
  },
  {
   "cell_type": "code",
   "execution_count": 64,
   "id": "c7fd1892",
   "metadata": {
    "ExecuteTime": {
     "end_time": "2023-01-05T03:00:38.139593Z",
     "start_time": "2023-01-05T03:00:38.128864Z"
    }
   },
   "outputs": [
    {
     "data": {
      "text/html": [
       "<div>\n",
       "<style scoped>\n",
       "    .dataframe tbody tr th:only-of-type {\n",
       "        vertical-align: middle;\n",
       "    }\n",
       "\n",
       "    .dataframe tbody tr th {\n",
       "        vertical-align: top;\n",
       "    }\n",
       "\n",
       "    .dataframe thead th {\n",
       "        text-align: right;\n",
       "    }\n",
       "</style>\n",
       "<table border=\"1\" class=\"dataframe\">\n",
       "  <thead>\n",
       "    <tr style=\"text-align: right;\">\n",
       "      <th></th>\n",
       "      <th>user</th>\n",
       "      <th>item</th>\n",
       "    </tr>\n",
       "  </thead>\n",
       "  <tbody>\n",
       "    <tr>\n",
       "      <th>0</th>\n",
       "      <td>11</td>\n",
       "      <td>4370</td>\n",
       "    </tr>\n",
       "    <tr>\n",
       "      <th>1</th>\n",
       "      <td>11</td>\n",
       "      <td>4886</td>\n",
       "    </tr>\n",
       "    <tr>\n",
       "      <th>2</th>\n",
       "      <td>11</td>\n",
       "      <td>47</td>\n",
       "    </tr>\n",
       "    <tr>\n",
       "      <th>3</th>\n",
       "      <td>11</td>\n",
       "      <td>32587</td>\n",
       "    </tr>\n",
       "    <tr>\n",
       "      <th>4</th>\n",
       "      <td>11</td>\n",
       "      <td>40815</td>\n",
       "    </tr>\n",
       "    <tr>\n",
       "      <th>...</th>\n",
       "      <td>...</td>\n",
       "      <td>...</td>\n",
       "    </tr>\n",
       "    <tr>\n",
       "      <th>5154466</th>\n",
       "      <td>138493</td>\n",
       "      <td>44022</td>\n",
       "    </tr>\n",
       "    <tr>\n",
       "      <th>5154467</th>\n",
       "      <td>138493</td>\n",
       "      <td>4958</td>\n",
       "    </tr>\n",
       "    <tr>\n",
       "      <th>5154468</th>\n",
       "      <td>138493</td>\n",
       "      <td>68319</td>\n",
       "    </tr>\n",
       "    <tr>\n",
       "      <th>5154469</th>\n",
       "      <td>138493</td>\n",
       "      <td>40819</td>\n",
       "    </tr>\n",
       "    <tr>\n",
       "      <th>5154470</th>\n",
       "      <td>138493</td>\n",
       "      <td>27311</td>\n",
       "    </tr>\n",
       "  </tbody>\n",
       "</table>\n",
       "<p>39867761 rows × 2 columns</p>\n",
       "</div>"
      ],
      "text/plain": [
       "           user   item\n",
       "0            11   4370\n",
       "1            11   4886\n",
       "2            11     47\n",
       "3            11  32587\n",
       "4            11  40815\n",
       "...         ...    ...\n",
       "5154466  138493  44022\n",
       "5154467  138493   4958\n",
       "5154468  138493  68319\n",
       "5154469  138493  40819\n",
       "5154470  138493  27311\n",
       "\n",
       "[39867761 rows x 2 columns]"
      ]
     },
     "execution_count": 64,
     "metadata": {},
     "output_type": "execute_result"
    }
   ],
   "source": [
    "df"
   ]
  },
  {
   "cell_type": "code",
   "execution_count": 87,
   "id": "105d5007",
   "metadata": {
    "ExecuteTime": {
     "end_time": "2023-01-05T05:07:07.078008Z",
     "start_time": "2023-01-05T05:07:05.317086Z"
    }
   },
   "outputs": [
    {
     "data": {
      "text/plain": [
       "True"
      ]
     },
     "execution_count": 87,
     "metadata": {},
     "output_type": "execute_result"
    }
   ],
   "source": [
    "df.item.astype(int).equals(item_codes.map(itemidx2id))"
   ]
  },
  {
   "cell_type": "code",
   "execution_count": 58,
   "id": "6e33cbf8",
   "metadata": {
    "ExecuteTime": {
     "end_time": "2023-01-05T02:54:02.567014Z",
     "start_time": "2023-01-05T02:54:02.562234Z"
    }
   },
   "outputs": [
    {
     "data": {
      "text/plain": [
       "False"
      ]
     },
     "execution_count": 58,
     "metadata": {},
     "output_type": "execute_result"
    }
   ],
   "source": [
    "user_codes.equals(user_codes2)"
   ]
  },
  {
   "cell_type": "code",
   "execution_count": 9,
   "id": "e630f587",
   "metadata": {
    "ExecuteTime": {
     "end_time": "2023-01-05T02:05:22.763104Z",
     "start_time": "2023-01-05T02:05:22.618770Z"
    }
   },
   "outputs": [],
   "source": [
    "# Convert the codes to a 2D array of shape (num_interactions, 2)\n",
    "interactions = np.column_stack((user_codes, item_codes))"
   ]
  },
  {
   "cell_type": "code",
   "execution_count": 11,
   "id": "902d6b03",
   "metadata": {
    "ExecuteTime": {
     "end_time": "2023-01-05T02:05:45.950772Z",
     "start_time": "2023-01-05T02:05:45.947009Z"
    }
   },
   "outputs": [],
   "source": [
    "nrows, ncols = pairs.shape\n",
    "dtype={'names':['f{}'.format(i) for i in range(ncols)],\n",
    "       'formats':ncols * [pairs.dtype]}"
   ]
  },
  {
   "cell_type": "code",
   "execution_count": 12,
   "id": "50fd9fd7",
   "metadata": {
    "ExecuteTime": {
     "end_time": "2023-01-05T02:07:24.428484Z",
     "start_time": "2023-01-05T02:05:48.337098Z"
    }
   },
   "outputs": [],
   "source": [
    "C = np.setdiff1d(pairs.view(dtype), interactions.astype(np.int64).view(dtype), assume_unique=True)"
   ]
  },
  {
   "cell_type": "code",
   "execution_count": 14,
   "id": "c7eb0ab2",
   "metadata": {
    "ExecuteTime": {
     "end_time": "2023-01-05T02:08:33.473533Z",
     "start_time": "2023-01-05T02:08:33.470322Z"
    }
   },
   "outputs": [],
   "source": [
    "# This lpairsst interactionsit is optionpairsl if you're okpairsy with \"C\" interactionseing pairs structured pairsrrpairsy...\n",
    "negative_samples = C.view(pairs.dtype).reshape(-1, ncols)"
   ]
  },
  {
   "cell_type": "code",
   "execution_count": 18,
   "id": "c880fba1",
   "metadata": {
    "ExecuteTime": {
     "end_time": "2023-01-05T02:12:56.359194Z",
     "start_time": "2023-01-05T02:12:56.355141Z"
    }
   },
   "outputs": [
    {
     "data": {
      "text/plain": [
       "173599759"
      ]
     },
     "execution_count": 18,
     "metadata": {},
     "output_type": "execute_result"
    }
   ],
   "source": [
    "len(negative_samples)"
   ]
  },
  {
   "cell_type": "code",
   "execution_count": 21,
   "id": "0389fe69",
   "metadata": {
    "ExecuteTime": {
     "end_time": "2023-01-05T02:18:39.176390Z",
     "start_time": "2023-01-05T02:13:33.169496Z"
    }
   },
   "outputs": [
    {
     "name": "stderr",
     "output_type": "stream",
     "text": [
      "100%|████████████████████████████████████████████| 173599759/173599759 [05:05<00:00, 567366.38it/s]\n"
     ]
    }
   ],
   "source": [
    "# Group the negative samples by user\n",
    "negative_samples_by_user = {}\n",
    "for user, item in tqdm(negative_samples):\n",
    "    if user not in negative_samples_by_user:\n",
    "        negative_samples_by_user[user] = []\n",
    "    negative_samples_by_user[user].append(item)"
   ]
  },
  {
   "cell_type": "code",
   "execution_count": 75,
   "id": "565f6994",
   "metadata": {
    "ExecuteTime": {
     "end_time": "2023-01-05T05:04:43.722518Z",
     "start_time": "2023-01-05T05:04:43.718948Z"
    }
   },
   "outputs": [
    {
     "data": {
      "text/plain": [
       "31360"
      ]
     },
     "execution_count": 75,
     "metadata": {},
     "output_type": "execute_result"
    }
   ],
   "source": [
    "negative_samples_by_user"
   ]
  },
  {
   "cell_type": "code",
   "execution_count": 24,
   "id": "cd95ed5c",
   "metadata": {
    "ExecuteTime": {
     "end_time": "2023-01-05T02:20:39.041993Z",
     "start_time": "2023-01-05T02:20:39.036280Z"
    }
   },
   "outputs": [],
   "source": [
    "random.seed(13)"
   ]
  },
  {
   "cell_type": "code",
   "execution_count": 93,
   "id": "4f89a594",
   "metadata": {
    "ExecuteTime": {
     "end_time": "2023-01-05T05:12:47.721096Z",
     "start_time": "2023-01-05T05:12:47.635184Z"
    }
   },
   "outputs": [],
   "source": [
    "train.user = train.user.map(user2idx)\n",
    "train.item = train.item.map(item2idx)"
   ]
  },
  {
   "cell_type": "code",
   "execution_count": 109,
   "id": "df924a3f",
   "metadata": {
    "ExecuteTime": {
     "end_time": "2023-01-05T05:17:02.786467Z",
     "start_time": "2023-01-05T05:17:02.781221Z"
    }
   },
   "outputs": [],
   "source": [
    "neg_df = pd.DataFrame(columns=['user','item'])"
   ]
  },
  {
   "cell_type": "code",
   "execution_count": 110,
   "id": "dc78b861",
   "metadata": {
    "ExecuteTime": {
     "end_time": "2023-01-05T05:20:33.852116Z",
     "start_time": "2023-01-05T05:17:05.314448Z"
    }
   },
   "outputs": [
    {
     "name": "stderr",
     "output_type": "stream",
     "text": [
      "100%|███████████████████████████████████████████████████████| 31360/31360 [03:28<00:00, 150.39it/s]\n"
     ]
    }
   ],
   "source": [
    "for user, items in tqdm(negative_samples_by_user.items()):\n",
    "    num_items = train[train['user'] == user]['item'].nunique()\n",
    "    if num_items >= len(items):\n",
    "        item_list = items\n",
    "    else:\n",
    "        item_list = random.sample(items, num_items)\n",
    "    neg_df.loc[len(neg_df),:]=(user, \" \".join(map(str,item_list)))"
   ]
  },
  {
   "cell_type": "code",
   "execution_count": 112,
   "id": "b38933b0",
   "metadata": {
    "ExecuteTime": {
     "end_time": "2023-01-05T05:21:25.322541Z",
     "start_time": "2023-01-05T05:20:46.771260Z"
    }
   },
   "outputs": [],
   "source": [
    "b_flat = pd.DataFrame([[i, x] \n",
    "               for i, y in neg_df['item'].apply(lambda x: x.split()).iteritems() \n",
    "                    for x in y], columns=list('IB'))\n",
    "b_flat = b_flat.set_index('I')\n",
    "\n",
    "neg_df2 = neg_df[['user']].merge(b_flat, left_index=True, right_index=True)"
   ]
  },
  {
   "cell_type": "code",
   "execution_count": 113,
   "id": "6eea439f",
   "metadata": {
    "ExecuteTime": {
     "end_time": "2023-01-05T05:21:45.502450Z",
     "start_time": "2023-01-05T05:21:44.617314Z"
    }
   },
   "outputs": [],
   "source": [
    "neg_df2.columns=['user','item']\n",
    "neg_df2.user = neg_df2.user.astype(int)\n",
    "neg_df2.item = neg_df2.item.astype(int)"
   ]
  },
  {
   "cell_type": "code",
   "execution_count": 123,
   "id": "450c9f1a",
   "metadata": {
    "ExecuteTime": {
     "end_time": "2023-01-05T05:23:16.960056Z",
     "start_time": "2023-01-05T05:23:16.728651Z"
    }
   },
   "outputs": [],
   "source": [
    "neg_set=neg_df2.copy()"
   ]
  },
  {
   "cell_type": "code",
   "execution_count": 124,
   "id": "48697143",
   "metadata": {
    "ExecuteTime": {
     "end_time": "2023-01-05T05:23:17.848822Z",
     "start_time": "2023-01-05T05:23:17.505557Z"
    }
   },
   "outputs": [],
   "source": [
    "neg_set.user = neg_set.user.map(uidx2id)\n",
    "neg_set.item = neg_set.item.map(itemidx2id)"
   ]
  },
  {
   "cell_type": "code",
   "execution_count": 132,
   "id": "c93794d8",
   "metadata": {
    "ExecuteTime": {
     "end_time": "2023-01-05T05:24:32.510662Z",
     "start_time": "2023-01-05T05:24:32.502076Z"
    }
   },
   "outputs": [
    {
     "data": {
      "text/html": [
       "<div>\n",
       "<style scoped>\n",
       "    .dataframe tbody tr th:only-of-type {\n",
       "        vertical-align: middle;\n",
       "    }\n",
       "\n",
       "    .dataframe tbody tr th {\n",
       "        vertical-align: top;\n",
       "    }\n",
       "\n",
       "    .dataframe thead th {\n",
       "        text-align: right;\n",
       "    }\n",
       "</style>\n",
       "<table border=\"1\" class=\"dataframe\">\n",
       "  <thead>\n",
       "    <tr style=\"text-align: right;\">\n",
       "      <th></th>\n",
       "      <th>user</th>\n",
       "      <th>item</th>\n",
       "    </tr>\n",
       "  </thead>\n",
       "  <tbody>\n",
       "    <tr>\n",
       "      <th>0</th>\n",
       "      <td>11</td>\n",
       "      <td>97860</td>\n",
       "    </tr>\n",
       "    <tr>\n",
       "      <th>0</th>\n",
       "      <td>11</td>\n",
       "      <td>73323</td>\n",
       "    </tr>\n",
       "    <tr>\n",
       "      <th>0</th>\n",
       "      <td>11</td>\n",
       "      <td>80864</td>\n",
       "    </tr>\n",
       "    <tr>\n",
       "      <th>0</th>\n",
       "      <td>11</td>\n",
       "      <td>4863</td>\n",
       "    </tr>\n",
       "    <tr>\n",
       "      <th>0</th>\n",
       "      <td>11</td>\n",
       "      <td>2819</td>\n",
       "    </tr>\n",
       "    <tr>\n",
       "      <th>...</th>\n",
       "      <td>...</td>\n",
       "      <td>...</td>\n",
       "    </tr>\n",
       "    <tr>\n",
       "      <th>31359</th>\n",
       "      <td>138493</td>\n",
       "      <td>108188</td>\n",
       "    </tr>\n",
       "    <tr>\n",
       "      <th>31359</th>\n",
       "      <td>138493</td>\n",
       "      <td>66427</td>\n",
       "    </tr>\n",
       "    <tr>\n",
       "      <th>31359</th>\n",
       "      <td>138493</td>\n",
       "      <td>4238</td>\n",
       "    </tr>\n",
       "    <tr>\n",
       "      <th>31359</th>\n",
       "      <td>138493</td>\n",
       "      <td>75341</td>\n",
       "    </tr>\n",
       "    <tr>\n",
       "      <th>31359</th>\n",
       "      <td>138493</td>\n",
       "      <td>5383</td>\n",
       "    </tr>\n",
       "  </tbody>\n",
       "</table>\n",
       "<p>5154021 rows × 2 columns</p>\n",
       "</div>"
      ],
      "text/plain": [
       "         user    item\n",
       "0          11   97860\n",
       "0          11   73323\n",
       "0          11   80864\n",
       "0          11    4863\n",
       "0          11    2819\n",
       "...       ...     ...\n",
       "31359  138493  108188\n",
       "31359  138493   66427\n",
       "31359  138493    4238\n",
       "31359  138493   75341\n",
       "31359  138493    5383\n",
       "\n",
       "[5154021 rows x 2 columns]"
      ]
     },
     "execution_count": 132,
     "metadata": {},
     "output_type": "execute_result"
    }
   ],
   "source": [
    "neg_set"
   ]
  },
  {
   "cell_type": "code",
   "execution_count": 126,
   "id": "ddd88026",
   "metadata": {
    "ExecuteTime": {
     "end_time": "2023-01-05T05:23:24.497509Z",
     "start_time": "2023-01-05T05:23:23.105950Z"
    }
   },
   "outputs": [],
   "source": [
    "train=pd.read_csv(\"/opt/ml/input/data/train/train_ratings.csv\")"
   ]
  },
  {
   "cell_type": "code",
   "execution_count": 135,
   "id": "43b02377",
   "metadata": {
    "ExecuteTime": {
     "end_time": "2023-01-05T05:25:31.233768Z",
     "start_time": "2023-01-05T05:25:31.230524Z"
    }
   },
   "outputs": [],
   "source": [
    "neg_set.reset_index(drop=True, inplace=True)"
   ]
  },
  {
   "cell_type": "code",
   "execution_count": 137,
   "id": "540abc31",
   "metadata": {
    "ExecuteTime": {
     "end_time": "2023-01-05T05:25:44.752764Z",
     "start_time": "2023-01-05T05:25:44.407145Z"
    }
   },
   "outputs": [],
   "source": [
    "neg_set.to_pickle('Neg_Sample.pkl')"
   ]
  },
  {
   "cell_type": "code",
   "execution_count": 138,
   "id": "eebc731a",
   "metadata": {
    "ExecuteTime": {
     "end_time": "2023-01-05T05:25:53.850980Z",
     "start_time": "2023-01-05T05:25:53.779670Z"
    }
   },
   "outputs": [
    {
     "data": {
      "text/html": [
       "<div>\n",
       "<style scoped>\n",
       "    .dataframe tbody tr th:only-of-type {\n",
       "        vertical-align: middle;\n",
       "    }\n",
       "\n",
       "    .dataframe tbody tr th {\n",
       "        vertical-align: top;\n",
       "    }\n",
       "\n",
       "    .dataframe thead th {\n",
       "        text-align: right;\n",
       "    }\n",
       "</style>\n",
       "<table border=\"1\" class=\"dataframe\">\n",
       "  <thead>\n",
       "    <tr style=\"text-align: right;\">\n",
       "      <th></th>\n",
       "      <th>user</th>\n",
       "      <th>item</th>\n",
       "    </tr>\n",
       "  </thead>\n",
       "  <tbody>\n",
       "    <tr>\n",
       "      <th>0</th>\n",
       "      <td>11</td>\n",
       "      <td>97860</td>\n",
       "    </tr>\n",
       "    <tr>\n",
       "      <th>1</th>\n",
       "      <td>11</td>\n",
       "      <td>73323</td>\n",
       "    </tr>\n",
       "    <tr>\n",
       "      <th>2</th>\n",
       "      <td>11</td>\n",
       "      <td>80864</td>\n",
       "    </tr>\n",
       "    <tr>\n",
       "      <th>3</th>\n",
       "      <td>11</td>\n",
       "      <td>4863</td>\n",
       "    </tr>\n",
       "    <tr>\n",
       "      <th>4</th>\n",
       "      <td>11</td>\n",
       "      <td>2819</td>\n",
       "    </tr>\n",
       "    <tr>\n",
       "      <th>...</th>\n",
       "      <td>...</td>\n",
       "      <td>...</td>\n",
       "    </tr>\n",
       "    <tr>\n",
       "      <th>5154016</th>\n",
       "      <td>138493</td>\n",
       "      <td>108188</td>\n",
       "    </tr>\n",
       "    <tr>\n",
       "      <th>5154017</th>\n",
       "      <td>138493</td>\n",
       "      <td>66427</td>\n",
       "    </tr>\n",
       "    <tr>\n",
       "      <th>5154018</th>\n",
       "      <td>138493</td>\n",
       "      <td>4238</td>\n",
       "    </tr>\n",
       "    <tr>\n",
       "      <th>5154019</th>\n",
       "      <td>138493</td>\n",
       "      <td>75341</td>\n",
       "    </tr>\n",
       "    <tr>\n",
       "      <th>5154020</th>\n",
       "      <td>138493</td>\n",
       "      <td>5383</td>\n",
       "    </tr>\n",
       "  </tbody>\n",
       "</table>\n",
       "<p>5154021 rows × 2 columns</p>\n",
       "</div>"
      ],
      "text/plain": [
       "           user    item\n",
       "0            11   97860\n",
       "1            11   73323\n",
       "2            11   80864\n",
       "3            11    4863\n",
       "4            11    2819\n",
       "...         ...     ...\n",
       "5154016  138493  108188\n",
       "5154017  138493   66427\n",
       "5154018  138493    4238\n",
       "5154019  138493   75341\n",
       "5154020  138493    5383\n",
       "\n",
       "[5154021 rows x 2 columns]"
      ]
     },
     "execution_count": 138,
     "metadata": {},
     "output_type": "execute_result"
    }
   ],
   "source": [
    "pd.read_pickle(\"Neg_Sample.pkl\")"
   ]
  },
  {
   "cell_type": "code",
   "execution_count": 128,
   "id": "7ab45ae5",
   "metadata": {
    "ExecuteTime": {
     "end_time": "2023-01-05T05:23:35.512197Z",
     "start_time": "2023-01-05T05:23:35.502521Z"
    }
   },
   "outputs": [
    {
     "name": "stdout",
     "output_type": "stream",
     "text": [
      "<class 'pandas.core.frame.DataFrame'>\n",
      "Int64Index: 5154021 entries, 0 to 31359\n",
      "Data columns (total 2 columns):\n",
      " #   Column  Dtype\n",
      "---  ------  -----\n",
      " 0   user    int64\n",
      " 1   item    int64\n",
      "dtypes: int64(2)\n",
      "memory usage: 118.0 MB\n"
     ]
    }
   ],
   "source": [
    "neg_set.info()"
   ]
  },
  {
   "cell_type": "code",
   "execution_count": 129,
   "id": "54c2dfa4",
   "metadata": {
    "ExecuteTime": {
     "end_time": "2023-01-05T05:23:35.644905Z",
     "start_time": "2023-01-05T05:23:35.637115Z"
    }
   },
   "outputs": [
    {
     "name": "stdout",
     "output_type": "stream",
     "text": [
      "<class 'pandas.core.frame.DataFrame'>\n",
      "RangeIndex: 5154471 entries, 0 to 5154470\n",
      "Data columns (total 3 columns):\n",
      " #   Column  Dtype\n",
      "---  ------  -----\n",
      " 0   user    int64\n",
      " 1   item    int64\n",
      " 2   time    int64\n",
      "dtypes: int64(3)\n",
      "memory usage: 118.0 MB\n"
     ]
    }
   ],
   "source": [
    "train.info()"
   ]
  },
  {
   "cell_type": "code",
   "execution_count": 130,
   "id": "5238254b",
   "metadata": {
    "ExecuteTime": {
     "end_time": "2023-01-05T05:23:56.126890Z",
     "start_time": "2023-01-05T05:23:52.459039Z"
    }
   },
   "outputs": [
    {
     "data": {
      "text/html": [
       "<div>\n",
       "<style scoped>\n",
       "    .dataframe tbody tr th:only-of-type {\n",
       "        vertical-align: middle;\n",
       "    }\n",
       "\n",
       "    .dataframe tbody tr th {\n",
       "        vertical-align: top;\n",
       "    }\n",
       "\n",
       "    .dataframe thead th {\n",
       "        text-align: right;\n",
       "    }\n",
       "</style>\n",
       "<table border=\"1\" class=\"dataframe\">\n",
       "  <thead>\n",
       "    <tr style=\"text-align: right;\">\n",
       "      <th></th>\n",
       "      <th>user</th>\n",
       "      <th>item</th>\n",
       "    </tr>\n",
       "  </thead>\n",
       "  <tbody>\n",
       "  </tbody>\n",
       "</table>\n",
       "</div>"
      ],
      "text/plain": [
       "Empty DataFrame\n",
       "Columns: [user, item]\n",
       "Index: []"
      ]
     },
     "execution_count": 130,
     "metadata": {},
     "output_type": "execute_result"
    }
   ],
   "source": [
    "train[['user','item']].merge(neg_set, on=['user','item'])"
   ]
  },
  {
   "cell_type": "code",
   "execution_count": 139,
   "id": "a570bee0",
   "metadata": {
    "ExecuteTime": {
     "end_time": "2023-01-05T05:26:07.984158Z",
     "start_time": "2023-01-05T05:26:07.638758Z"
    }
   },
   "outputs": [],
   "source": [
    "train2 = train.copy()\n",
    "neg_set2 = neg_set.copy()"
   ]
  },
  {
   "cell_type": "code",
   "execution_count": 140,
   "id": "c52968e0",
   "metadata": {
    "ExecuteTime": {
     "end_time": "2023-01-05T05:26:10.090270Z",
     "start_time": "2023-01-05T05:26:10.034837Z"
    }
   },
   "outputs": [],
   "source": [
    "train2['label']=1\n",
    "neg_set2['label']=0"
   ]
  },
  {
   "cell_type": "code",
   "execution_count": 143,
   "id": "29cacfb1",
   "metadata": {
    "ExecuteTime": {
     "end_time": "2023-01-05T05:26:36.919352Z",
     "start_time": "2023-01-05T05:26:36.513811Z"
    }
   },
   "outputs": [],
   "source": [
    "train2=train2[['user','item','label']]"
   ]
  },
  {
   "cell_type": "code",
   "execution_count": 145,
   "id": "a0cf6242",
   "metadata": {
    "ExecuteTime": {
     "end_time": "2023-01-05T05:26:44.476141Z",
     "start_time": "2023-01-05T05:26:44.169443Z"
    }
   },
   "outputs": [],
   "source": [
    "all_df = pd.concat([train2,neg_set2])"
   ]
  },
  {
   "cell_type": "code",
   "execution_count": 148,
   "id": "87cd127f",
   "metadata": {
    "ExecuteTime": {
     "end_time": "2023-01-05T05:27:20.483012Z",
     "start_time": "2023-01-05T05:27:20.476782Z"
    }
   },
   "outputs": [],
   "source": [
    "all_df.reset_index(drop=True, inplace=True)"
   ]
  },
  {
   "cell_type": "code",
   "execution_count": 149,
   "id": "38a232f7",
   "metadata": {
    "ExecuteTime": {
     "end_time": "2023-01-05T05:27:23.081676Z",
     "start_time": "2023-01-05T05:27:21.924972Z"
    }
   },
   "outputs": [],
   "source": [
    "all_df.to_pickle(\"All_Pos_Neg_Interaction.pkl\")"
   ]
  },
  {
   "cell_type": "code",
   "execution_count": 150,
   "id": "d902ddad",
   "metadata": {
    "ExecuteTime": {
     "end_time": "2023-01-05T05:27:23.757044Z",
     "start_time": "2023-01-05T05:27:23.581210Z"
    }
   },
   "outputs": [
    {
     "data": {
      "text/html": [
       "<div>\n",
       "<style scoped>\n",
       "    .dataframe tbody tr th:only-of-type {\n",
       "        vertical-align: middle;\n",
       "    }\n",
       "\n",
       "    .dataframe tbody tr th {\n",
       "        vertical-align: top;\n",
       "    }\n",
       "\n",
       "    .dataframe thead th {\n",
       "        text-align: right;\n",
       "    }\n",
       "</style>\n",
       "<table border=\"1\" class=\"dataframe\">\n",
       "  <thead>\n",
       "    <tr style=\"text-align: right;\">\n",
       "      <th></th>\n",
       "      <th>user</th>\n",
       "      <th>item</th>\n",
       "      <th>label</th>\n",
       "    </tr>\n",
       "  </thead>\n",
       "  <tbody>\n",
       "    <tr>\n",
       "      <th>0</th>\n",
       "      <td>11</td>\n",
       "      <td>4643</td>\n",
       "      <td>1</td>\n",
       "    </tr>\n",
       "    <tr>\n",
       "      <th>1</th>\n",
       "      <td>11</td>\n",
       "      <td>170</td>\n",
       "      <td>1</td>\n",
       "    </tr>\n",
       "    <tr>\n",
       "      <th>2</th>\n",
       "      <td>11</td>\n",
       "      <td>531</td>\n",
       "      <td>1</td>\n",
       "    </tr>\n",
       "    <tr>\n",
       "      <th>3</th>\n",
       "      <td>11</td>\n",
       "      <td>616</td>\n",
       "      <td>1</td>\n",
       "    </tr>\n",
       "    <tr>\n",
       "      <th>4</th>\n",
       "      <td>11</td>\n",
       "      <td>2140</td>\n",
       "      <td>1</td>\n",
       "    </tr>\n",
       "    <tr>\n",
       "      <th>...</th>\n",
       "      <td>...</td>\n",
       "      <td>...</td>\n",
       "      <td>...</td>\n",
       "    </tr>\n",
       "    <tr>\n",
       "      <th>10308487</th>\n",
       "      <td>138493</td>\n",
       "      <td>108188</td>\n",
       "      <td>0</td>\n",
       "    </tr>\n",
       "    <tr>\n",
       "      <th>10308488</th>\n",
       "      <td>138493</td>\n",
       "      <td>66427</td>\n",
       "      <td>0</td>\n",
       "    </tr>\n",
       "    <tr>\n",
       "      <th>10308489</th>\n",
       "      <td>138493</td>\n",
       "      <td>4238</td>\n",
       "      <td>0</td>\n",
       "    </tr>\n",
       "    <tr>\n",
       "      <th>10308490</th>\n",
       "      <td>138493</td>\n",
       "      <td>75341</td>\n",
       "      <td>0</td>\n",
       "    </tr>\n",
       "    <tr>\n",
       "      <th>10308491</th>\n",
       "      <td>138493</td>\n",
       "      <td>5383</td>\n",
       "      <td>0</td>\n",
       "    </tr>\n",
       "  </tbody>\n",
       "</table>\n",
       "<p>10308492 rows × 3 columns</p>\n",
       "</div>"
      ],
      "text/plain": [
       "            user    item  label\n",
       "0             11    4643      1\n",
       "1             11     170      1\n",
       "2             11     531      1\n",
       "3             11     616      1\n",
       "4             11    2140      1\n",
       "...          ...     ...    ...\n",
       "10308487  138493  108188      0\n",
       "10308488  138493   66427      0\n",
       "10308489  138493    4238      0\n",
       "10308490  138493   75341      0\n",
       "10308491  138493    5383      0\n",
       "\n",
       "[10308492 rows x 3 columns]"
      ]
     },
     "execution_count": 150,
     "metadata": {},
     "output_type": "execute_result"
    }
   ],
   "source": [
    "pd.read_pickle('All_Pos_Neg_Interaction.pkl')"
   ]
  },
  {
   "cell_type": "code",
   "execution_count": 151,
   "id": "5b088a4d",
   "metadata": {
    "ExecuteTime": {
     "end_time": "2023-01-05T05:27:47.059046Z",
     "start_time": "2023-01-05T05:27:44.489855Z"
    }
   },
   "outputs": [
    {
     "data": {
      "text/plain": [
       "(10308492, 3)"
      ]
     },
     "execution_count": 151,
     "metadata": {},
     "output_type": "execute_result"
    }
   ],
   "source": [
    "all_df.drop_duplicates(subset=['user','item']).shape"
   ]
  },
  {
   "cell_type": "code",
   "execution_count": null,
   "id": "7b85deda",
   "metadata": {},
   "outputs": [],
   "source": [
    "scp -P 2240 All_Pos_Neg_Interaction2.pkl root@27.96.131.55:~\n",
    "scp -P 2226 All_Pos_Neg_Interaction2.pkl root@101.101.216.53:~"
   ]
  }
 ],
 "metadata": {
  "kernelspec": {
   "display_name": "Python 3 (ipykernel)",
   "language": "python",
   "name": "python3"
  },
  "language_info": {
   "codemirror_mode": {
    "name": "ipython",
    "version": 3
   },
   "file_extension": ".py",
   "mimetype": "text/x-python",
   "name": "python",
   "nbconvert_exporter": "python",
   "pygments_lexer": "ipython3",
   "version": "3.8.5"
  },
  "toc": {
   "base_numbering": 1,
   "nav_menu": {},
   "number_sections": true,
   "sideBar": true,
   "skip_h1_title": false,
   "title_cell": "Table of Contents",
   "title_sidebar": "Contents",
   "toc_cell": false,
   "toc_position": {},
   "toc_section_display": true,
   "toc_window_display": false
  }
 },
 "nbformat": 4,
 "nbformat_minor": 5
}

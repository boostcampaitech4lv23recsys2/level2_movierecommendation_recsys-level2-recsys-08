{
 "cells": [
  {
   "cell_type": "code",
   "execution_count": 1,
   "id": "494b11b9",
   "metadata": {
    "ExecuteTime": {
     "end_time": "2023-01-05T05:30:00.218199Z",
     "start_time": "2023-01-05T05:29:58.501549Z"
    }
   },
   "outputs": [
    {
     "data": {
      "text/plain": [
       "['EASE@500.csv',\n",
       " 'FFM@500.csv',\n",
       " 'GRU4RecF@500.csv',\n",
       " 'ItemKNN@500.csv',\n",
       " 'NeuMF@500.csv',\n",
       " 'Pop@500.csv',\n",
       " 'SLIMElastic@500.csv']"
      ]
     },
     "execution_count": 1,
     "metadata": {},
     "output_type": "execute_result"
    }
   ],
   "source": [
    "import pandas as pd\n",
    "import numpy as np\n",
    "from tqdm import tqdm\n",
    "import random\n",
    "\n",
    "train=pd.read_csv(\"/opt/ml/input/data/train/train_ratings.csv\")\n",
    "\n",
    "csv_list = !ls *.csv\n",
    "csv_list"
   ]
  },
  {
   "cell_type": "code",
   "execution_count": 11,
   "id": "7cf5f63e",
   "metadata": {
    "ExecuteTime": {
     "end_time": "2023-01-05T06:41:54.384054Z",
     "start_time": "2023-01-05T06:41:54.379406Z"
    }
   },
   "outputs": [
    {
     "data": {
      "text/plain": [
       "['EASE', 'FFM', 'GRU4RecF', 'ItemKNN', 'NeuMF', 'Pop', 'SLIMElastic']"
      ]
     },
     "execution_count": 11,
     "metadata": {},
     "output_type": "execute_result"
    }
   ],
   "source": [
    "model_list = [i.split('@')[0] for i in csv_list]\n",
    "model_list"
   ]
  },
  {
   "cell_type": "code",
   "execution_count": 13,
   "id": "8dbf5717",
   "metadata": {
    "ExecuteTime": {
     "end_time": "2023-01-05T06:44:12.908630Z",
     "start_time": "2023-01-05T06:43:28.539737Z"
    }
   },
   "outputs": [
    {
     "name": "stderr",
     "output_type": "stream",
     "text": [
      "100%|████████████████████████████████████████████████████████████████| 7/7 [00:44<00:00,  6.34s/it]\n"
     ]
    }
   ],
   "source": [
    "for model in tqdm(model_list):\n",
    "    df = pd.read_csv(f\"{model}@500.csv\")\n",
    "\n",
    "    # extract Top K\n",
    "    K=15\n",
    "    users = df.groupby('user').user.head(K).reset_index(drop=True)\n",
    "    items = df.groupby('user').item.head(K).reset_index(drop=True)\n",
    "    df = pd.concat([users,items],axis=1)\n",
    "\n",
    "    df.to_csv(f\"../Ensemble/{model}@{K}.csv\",index=False)"
   ]
  }
 ],
 "metadata": {
  "kernelspec": {
   "display_name": "Python 3 (ipykernel)",
   "language": "python",
   "name": "python3"
  },
  "language_info": {
   "codemirror_mode": {
    "name": "ipython",
    "version": 3
   },
   "file_extension": ".py",
   "mimetype": "text/x-python",
   "name": "python",
   "nbconvert_exporter": "python",
   "pygments_lexer": "ipython3",
   "version": "3.8.5"
  },
  "toc": {
   "base_numbering": 1,
   "nav_menu": {},
   "number_sections": true,
   "sideBar": true,
   "skip_h1_title": false,
   "title_cell": "Table of Contents",
   "title_sidebar": "Contents",
   "toc_cell": false,
   "toc_position": {},
   "toc_section_display": true,
   "toc_window_display": false
  }
 },
 "nbformat": 4,
 "nbformat_minor": 5
}

{
 "cells": [
  {
   "cell_type": "markdown",
   "id": "938a19d6-cce1-4442-89cf-e07ae4bb9dd3",
   "metadata": {},
   "source": [
    "# LGBM 결과와 EASE 결과 중복 확인"
   ]
  },
  {
   "cell_type": "code",
   "execution_count": 1,
   "id": "1055f9c1-d3f4-461e-9d0f-e75d990b1ca0",
   "metadata": {},
   "outputs": [],
   "source": [
    "from IPython.core.interactiveshell import InteractiveShell\n",
    "InteractiveShell.ast_node_interactivity = 'all'\n",
    "\n",
    "import pandas as pd\n",
    "import numpy as np\n",
    "import os\n",
    "import random\n",
    "from tqdm import tqdm\n",
    "import torch\n",
    "from sklearn.model_selection import train_test_split\n",
    "\n",
    "import lightgbm as lgb\n",
    "# from sklearn.metrics import roc_auc_score\n",
    "# from sklearn.metrics import accuracy_score\n",
    "from sklearn.metrics import mean_squared_error"
   ]
  },
  {
   "cell_type": "code",
   "execution_count": 38,
   "id": "c6f5bc3b-9ee8-4dbf-8b5f-f7369364cefb",
   "metadata": {},
   "outputs": [],
   "source": [
    "lgbm_result = pd.read_csv('/opt/ml/input/fighting/model/EASE_LGBM_50_0.35198_lambdarank.csv')"
   ]
  },
  {
   "cell_type": "code",
   "execution_count": 39,
   "id": "64b5c6e5-3139-4f3d-95aa-db2a6db8cbce",
   "metadata": {},
   "outputs": [],
   "source": [
    "ease_result = pd.read_csv('/opt/ml/input/fighting/Recbole/EASE_result.csv')"
   ]
  },
  {
   "cell_type": "code",
   "execution_count": 40,
   "id": "ad6ad3af-5c4a-48b4-a94f-8a949e89c87c",
   "metadata": {},
   "outputs": [],
   "source": [
    "# lgbm - ease 결과 차집합 구하기\n",
    "lgbm_ease = pd.concat([lgbm_result, ease_result, ease_result]).drop_duplicates(subset=['user', 'item'], keep=False)\n"
   ]
  },
  {
   "cell_type": "code",
   "execution_count": 41,
   "id": "06ca082a-f4cf-441e-94a7-879b64157cef",
   "metadata": {},
   "outputs": [
    {
     "data": {
      "text/html": [
       "<div>\n",
       "<style scoped>\n",
       "    .dataframe tbody tr th:only-of-type {\n",
       "        vertical-align: middle;\n",
       "    }\n",
       "\n",
       "    .dataframe tbody tr th {\n",
       "        vertical-align: top;\n",
       "    }\n",
       "\n",
       "    .dataframe thead th {\n",
       "        text-align: right;\n",
       "    }\n",
       "</style>\n",
       "<table border=\"1\" class=\"dataframe\">\n",
       "  <thead>\n",
       "    <tr style=\"text-align: right;\">\n",
       "      <th></th>\n",
       "      <th>user</th>\n",
       "      <th>item</th>\n",
       "    </tr>\n",
       "  </thead>\n",
       "  <tbody>\n",
       "    <tr>\n",
       "      <th>3</th>\n",
       "      <td>11</td>\n",
       "      <td>1265</td>\n",
       "    </tr>\n",
       "    <tr>\n",
       "      <th>4</th>\n",
       "      <td>11</td>\n",
       "      <td>1682</td>\n",
       "    </tr>\n",
       "    <tr>\n",
       "      <th>5</th>\n",
       "      <td>11</td>\n",
       "      <td>1704</td>\n",
       "    </tr>\n",
       "    <tr>\n",
       "      <th>9</th>\n",
       "      <td>11</td>\n",
       "      <td>3996</td>\n",
       "    </tr>\n",
       "    <tr>\n",
       "      <th>10</th>\n",
       "      <td>14</td>\n",
       "      <td>2762</td>\n",
       "    </tr>\n",
       "    <tr>\n",
       "      <th>...</th>\n",
       "      <td>...</td>\n",
       "      <td>...</td>\n",
       "    </tr>\n",
       "    <tr>\n",
       "      <th>313591</th>\n",
       "      <td>138493</td>\n",
       "      <td>2762</td>\n",
       "    </tr>\n",
       "    <tr>\n",
       "      <th>313593</th>\n",
       "      <td>138493</td>\n",
       "      <td>4963</td>\n",
       "    </tr>\n",
       "    <tr>\n",
       "      <th>313596</th>\n",
       "      <td>138493</td>\n",
       "      <td>589</td>\n",
       "    </tr>\n",
       "    <tr>\n",
       "      <th>313597</th>\n",
       "      <td>138493</td>\n",
       "      <td>4995</td>\n",
       "    </tr>\n",
       "    <tr>\n",
       "      <th>313598</th>\n",
       "      <td>138493</td>\n",
       "      <td>1704</td>\n",
       "    </tr>\n",
       "  </tbody>\n",
       "</table>\n",
       "<p>199711 rows × 2 columns</p>\n",
       "</div>"
      ],
      "text/plain": [
       "          user  item\n",
       "3           11  1265\n",
       "4           11  1682\n",
       "5           11  1704\n",
       "9           11  3996\n",
       "10          14  2762\n",
       "...        ...   ...\n",
       "313591  138493  2762\n",
       "313593  138493  4963\n",
       "313596  138493   589\n",
       "313597  138493  4995\n",
       "313598  138493  1704\n",
       "\n",
       "[199711 rows x 2 columns]"
      ]
     },
     "execution_count": 41,
     "metadata": {},
     "output_type": "execute_result"
    }
   ],
   "source": [
    "lgbm_ease"
   ]
  },
  {
   "cell_type": "code",
   "execution_count": 42,
   "id": "a6fa8cce-53a8-44ab-9f80-cc542bcd58fc",
   "metadata": {},
   "outputs": [
    {
     "data": {
      "text/plain": [
       "(313600, 2)"
      ]
     },
     "execution_count": 42,
     "metadata": {},
     "output_type": "execute_result"
    }
   ],
   "source": [
    "lgbm_result.shape"
   ]
  },
  {
   "cell_type": "code",
   "execution_count": 43,
   "id": "7b38f26b-01df-4d89-a7e4-be76e46696e8",
   "metadata": {},
   "outputs": [],
   "source": [
    "dup_cnt = 313600 - lgbm_ease.shape[0]\n",
    "dup_ratio = dup_cnt / 313600"
   ]
  },
  {
   "cell_type": "code",
   "execution_count": 44,
   "id": "4f7585d8-e7bf-4f18-b058-14c076966322",
   "metadata": {},
   "outputs": [
    {
     "name": "stdout",
     "output_type": "stream",
     "text": [
      "겹치는 결과 개수: 313600 - 199711 = 113889\n",
      "\n",
      "겁치는 결과 비율: 113889 / 313600 = 0.36317\n",
      "\n"
     ]
    }
   ],
   "source": [
    "print(f'겹치는 결과 개수: 313600 - {lgbm_ease.shape[0]} = {dup_cnt}\\n')\n",
    "print(f'겁치는 결과 비율: {dup_cnt} / 313600 = {dup_ratio:.5f}\\n')"
   ]
  },
  {
   "cell_type": "code",
   "execution_count": 45,
   "id": "93ed8e17-1e4e-4223-aec6-7929ce075fe3",
   "metadata": {},
   "outputs": [],
   "source": [
    "# # 313600 - 197387 = 116213\n",
    "# 즉 116213개는 겹친다. 전체중 약 37%"
   ]
  },
  {
   "cell_type": "code",
   "execution_count": null,
   "id": "b936e4f6-baeb-48fd-8a1a-0940362b7dbb",
   "metadata": {},
   "outputs": [],
   "source": []
  },
  {
   "cell_type": "code",
   "execution_count": null,
   "id": "0f22c362-7eaa-41ef-aef0-ea43bd0b0e0f",
   "metadata": {},
   "outputs": [],
   "source": []
  }
 ],
 "metadata": {
  "kernelspec": {
   "display_name": "Python 3 (ipykernel)",
   "language": "python",
   "name": "python3"
  },
  "language_info": {
   "codemirror_mode": {
    "name": "ipython",
    "version": 3
   },
   "file_extension": ".py",
   "mimetype": "text/x-python",
   "name": "python",
   "nbconvert_exporter": "python",
   "pygments_lexer": "ipython3",
   "version": "3.8.5"
  }
 },
 "nbformat": 4,
 "nbformat_minor": 5
}

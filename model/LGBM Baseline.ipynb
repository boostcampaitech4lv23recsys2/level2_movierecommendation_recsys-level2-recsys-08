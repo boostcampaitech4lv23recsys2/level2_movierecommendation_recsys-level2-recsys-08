{
 "cells": [
  {
   "cell_type": "markdown",
   "metadata": {
    "id": "yt7sDAqHhfQp"
   },
   "source": [
    "# LGBM을 활용한 베이스라인"
   ]
  },
  {
   "cell_type": "code",
   "execution_count": 2,
   "metadata": {
    "ExecuteTime": {
     "end_time": "2022-11-18T13:38:15.702936Z",
     "start_time": "2022-11-18T13:38:15.431102Z"
    }
   },
   "outputs": [],
   "source": [
    "from IPython.core.interactiveshell import InteractiveShell\n",
    "InteractiveShell.ast_node_interactivity = 'all'\n",
    "\n",
    "import pandas as pd\n",
    "import numpy as np\n",
    "import os\n",
    "import random\n",
    "from tqdm import tqdm\n",
    "import torch\n",
    "from sklearn.model_selection import train_test_split\n",
    "\n",
    "import lightgbm as lgb\n",
    "# from sklearn.metrics import roc_auc_score\n",
    "# from sklearn.metrics import accuracy_score\n",
    "from sklearn.metrics import mean_squared_error"
   ]
  },
  {
   "cell_type": "markdown",
   "metadata": {
    "id": "QZlm5HSmhfQv"
   },
   "source": [
    "## 1. 데이터 로딩"
   ]
  },
  {
   "cell_type": "code",
   "execution_count": 137,
   "metadata": {
    "ExecuteTime": {
     "end_time": "2022-11-18T13:38:18.365525Z",
     "start_time": "2022-11-18T13:38:15.931173Z"
    },
    "id": "s6qgJ8MLhfQw"
   },
   "outputs": [],
   "source": [
    "main_df = pd.read_csv(\"/opt/ml/input/data/train/train_ratings.csv\")"
   ]
  },
  {
   "cell_type": "markdown",
   "metadata": {},
   "source": [
    "## 2. 데이터셋 만들기"
   ]
  },
  {
   "cell_type": "code",
   "execution_count": null,
   "metadata": {
    "tags": []
   },
   "outputs": [],
   "source": [
    "# set(list(main_df.groupby('user')['item'])[0][1]) #11번 유저가 본 아이템들"
   ]
  },
  {
   "cell_type": "code",
   "execution_count": 138,
   "metadata": {},
   "outputs": [],
   "source": [
    "main_df['rating'] = 1\n",
    "main_df = main_df.drop(columns='time', axis=1)"
   ]
  },
  {
   "cell_type": "code",
   "execution_count": 151,
   "metadata": {},
   "outputs": [
    {
     "data": {
      "text/html": [
       "<div>\n",
       "<style scoped>\n",
       "    .dataframe tbody tr th:only-of-type {\n",
       "        vertical-align: middle;\n",
       "    }\n",
       "\n",
       "    .dataframe tbody tr th {\n",
       "        vertical-align: top;\n",
       "    }\n",
       "\n",
       "    .dataframe thead th {\n",
       "        text-align: right;\n",
       "    }\n",
       "</style>\n",
       "<table border=\"1\" class=\"dataframe\">\n",
       "  <thead>\n",
       "    <tr style=\"text-align: right;\">\n",
       "      <th></th>\n",
       "      <th>user</th>\n",
       "      <th>item</th>\n",
       "      <th>rating</th>\n",
       "    </tr>\n",
       "  </thead>\n",
       "  <tbody>\n",
       "    <tr>\n",
       "      <th>0</th>\n",
       "      <td>11</td>\n",
       "      <td>4643</td>\n",
       "      <td>1</td>\n",
       "    </tr>\n",
       "    <tr>\n",
       "      <th>1</th>\n",
       "      <td>11</td>\n",
       "      <td>170</td>\n",
       "      <td>1</td>\n",
       "    </tr>\n",
       "    <tr>\n",
       "      <th>2</th>\n",
       "      <td>11</td>\n",
       "      <td>531</td>\n",
       "      <td>1</td>\n",
       "    </tr>\n",
       "  </tbody>\n",
       "</table>\n",
       "</div>"
      ],
      "text/plain": [
       "   user  item  rating\n",
       "0    11  4643       1\n",
       "1    11   170       1\n",
       "2    11   531       1"
      ]
     },
     "execution_count": 151,
     "metadata": {},
     "output_type": "execute_result"
    }
   ],
   "source": [
    "main_df.head(3)"
   ]
  },
  {
   "cell_type": "code",
   "execution_count": 152,
   "metadata": {},
   "outputs": [
    {
     "name": "stdout",
     "output_type": "stream",
     "text": [
      "Create Nagetive instances\n"
     ]
    },
    {
     "name": "stderr",
     "output_type": "stream",
     "text": [
      "100%|██████████| 31360/31360 [16:34<00:00, 31.52it/s]\n"
     ]
    },
    {
     "data": {
      "text/plain": [
       "user      0\n",
       "item      0\n",
       "rating    0\n",
       "dtype: int64"
      ]
     },
     "execution_count": 152,
     "metadata": {},
     "output_type": "execute_result"
    }
   ],
   "source": [
    "# 3. Negative instance 생성 : 각 유저별 true:false = 5:5, 20분정도 소요\n",
    "print(\"Create Nagetive instances\")\n",
    "# num_negative = 50\n",
    "user_group_dfs = list(main_df.groupby('user')['item'])\n",
    "\n",
    "first_row = True\n",
    "items = set(main_df.loc[:, 'item'])\n",
    "\n",
    "for u, u_items in tqdm(user_group_dfs):\n",
    "    u_items = set(u_items)                 #해당 유저가 본 아이템\n",
    "    i_user_neg_item = np.random.choice(list(items - u_items), len(u_items), replace=False)\n",
    "    \n",
    "    i_user_neg_df = pd.DataFrame({'user': [u]*len(u_items), 'item': i_user_neg_item, 'rating': [0]*len(u_items)})\n",
    "    if first_row == True:\n",
    "        user_neg_dfs = i_user_neg_df\n",
    "        first_row = False\n",
    "    else:\n",
    "        user_neg_dfs = pd.concat([user_neg_dfs, i_user_neg_df], axis = 0, sort=False)\n",
    "\n",
    "result = pd.concat([main_df, user_neg_dfs], axis = 0, sort=False)\n",
    "result.to_csv(\"user_direct_neg_sampling.csv\", index=False)\n",
    "result.isna().sum()"
   ]
  },
  {
   "cell_type": "code",
   "execution_count": 153,
   "metadata": {},
   "outputs": [],
   "source": [
    "neg_train_result = result"
   ]
  },
  {
   "cell_type": "code",
   "execution_count": 165,
   "metadata": {},
   "outputs": [
    {
     "data": {
      "text/plain": [
       "(10308942, 3)"
      ]
     },
     "execution_count": 165,
     "metadata": {},
     "output_type": "execute_result"
    }
   ],
   "source": [
    "neg_train_result.shape"
   ]
  },
  {
   "cell_type": "code",
   "execution_count": 148,
   "metadata": {},
   "outputs": [],
   "source": [
    "# # 만약 user_direct_neg_sampling.csv가 있다면 neg_sampling 과정 안해도 된다.\n",
    "# neg_train_result = pd.read_csv('/opt/ml/input/fighting/model/user_direct_neg_sampling.csv')"
   ]
  },
  {
   "cell_type": "code",
   "execution_count": 163,
   "metadata": {},
   "outputs": [],
   "source": [
    "ease_result = pd.read_csv('/opt/ml/input/fighting/Recbole/EASE_best.csv')"
   ]
  },
  {
   "cell_type": "code",
   "execution_count": 164,
   "metadata": {},
   "outputs": [
    {
     "data": {
      "text/plain": [
       "(1568000, 2)"
      ]
     },
     "execution_count": 164,
     "metadata": {},
     "output_type": "execute_result"
    }
   ],
   "source": [
    "ease_result.shape"
   ]
  },
  {
   "cell_type": "code",
   "execution_count": 166,
   "metadata": {
    "tags": []
   },
   "outputs": [],
   "source": [
    "# 차집합 구하기\n",
    "lgbm_train_df = pd.concat([neg_train_result, ease_result, ease_result]).drop_duplicates(subset=['user', 'item'], keep=False)\n"
   ]
  },
  {
   "cell_type": "code",
   "execution_count": 167,
   "metadata": {},
   "outputs": [
    {
     "data": {
      "text/plain": [
       "(10269161, 3)"
      ]
     },
     "execution_count": 167,
     "metadata": {},
     "output_type": "execute_result"
    }
   ],
   "source": [
    "lgbm_train_df.shape"
   ]
  },
  {
   "cell_type": "code",
   "execution_count": 169,
   "metadata": {},
   "outputs": [],
   "source": [
    "lgbm_train_df.to_csv(\"lgbm_train_df_50.csv\", index=False)"
   ]
  },
  {
   "cell_type": "code",
   "execution_count": 60,
   "metadata": {},
   "outputs": [],
   "source": [
    "# 10308942 - 10070694 = 약 23만 8천"
   ]
  },
  {
   "cell_type": "code",
   "execution_count": 170,
   "metadata": {},
   "outputs": [],
   "source": [
    "lgbm_inference_df = ease_result"
   ]
  },
  {
   "cell_type": "code",
   "execution_count": null,
   "metadata": {},
   "outputs": [],
   "source": []
  },
  {
   "cell_type": "markdown",
   "metadata": {},
   "source": [
    "## 3. Feature Engineering\n",
    "모듈화 한 피처들을 merge하면 된다."
   ]
  },
  {
   "cell_type": "code",
   "execution_count": 3,
   "metadata": {},
   "outputs": [],
   "source": [
    "# lgbm_train_df = pd.read_csv(\"/opt/ml/input/fighting/model/lgbm_train_df.csv\")\n",
    "# lgbm_inference_df = pd.read_csv(\"/opt/ml/input/fighting/Recbole/EASE_best.csv\")"
   ]
  },
  {
   "cell_type": "code",
   "execution_count": 4,
   "metadata": {},
   "outputs": [],
   "source": [
    "year_df = pd.read_csv(\"/opt/ml/input/fighting/FE/year/year_missingno.csv\")\n",
    "genre_df = pd.read_csv(\"/opt/ml/input/fighting/FE/genre/genre_bert_fe.csv\")\n",
    "director_inter_cnt = pd.read_csv(\"/opt/ml/input/fighting/FE/director/director_inter_cnt.csv\")\n",
    "writer_inter_cnt = pd.read_csv(\"/opt/ml/input/fighting/FE/writer/writer_inter_cnt.csv\")\n",
    "item_interaction = pd.read_csv(\"/opt/ml/input/fighting/FE/item/item_interaction_cnt.csv\")\n",
    "item_popular_dir_max_sum_cnt = pd.read_csv(\"/opt/ml/input/fighting/FE/director/item_popular_dir_max_sum_cnt.csv\")\n",
    "item_popular_wri_max_sum_cnt = pd.read_csv(\"/opt/ml/input/fighting/FE/writer/item_popular_wri_max_sum_cnt.csv\")\n",
    "user_seen_item_statistic = pd.read_csv(\"/opt/ml/input/fighting/FE/user/user_seen_item_statistic.csv\")"
   ]
  },
  {
   "cell_type": "code",
   "execution_count": 5,
   "metadata": {},
   "outputs": [],
   "source": [
    "train_df = lgbm_train_df.merge(year_df, how='left', on='item')\n",
    "train_df = train_df.merge(genre_df, how='left', on='item')\n",
    "train_df = train_df.merge(director_inter_cnt, how='left', on='item')\n",
    "train_df = train_df.merge(writer_inter_cnt, how='left', on='item')\n",
    "train_df = train_df.merge(item_interaction, how='left', on='item')\n",
    "train_df = train_df.merge(item_popular_dir_max_sum_cnt, how='left', on='item')\n",
    "train_df = train_df.merge(item_popular_wri_max_sum_cnt, how='left', on='item')\n",
    "train_df = train_df.merge(user_seen_item_statistic, how='left', on='user')"
   ]
  },
  {
   "cell_type": "code",
   "execution_count": 6,
   "metadata": {},
   "outputs": [
    {
     "data": {
      "text/plain": [
       "(10269161, 14)"
      ]
     },
     "execution_count": 6,
     "metadata": {},
     "output_type": "execute_result"
    }
   ],
   "source": [
    "train_df.shape"
   ]
  },
  {
   "cell_type": "code",
   "execution_count": 7,
   "metadata": {},
   "outputs": [
    {
     "data": {
      "text/html": [
       "<div>\n",
       "<style scoped>\n",
       "    .dataframe tbody tr th:only-of-type {\n",
       "        vertical-align: middle;\n",
       "    }\n",
       "\n",
       "    .dataframe tbody tr th {\n",
       "        vertical-align: top;\n",
       "    }\n",
       "\n",
       "    .dataframe thead th {\n",
       "        text-align: right;\n",
       "    }\n",
       "</style>\n",
       "<table border=\"1\" class=\"dataframe\">\n",
       "  <thead>\n",
       "    <tr style=\"text-align: right;\">\n",
       "      <th></th>\n",
       "      <th>user</th>\n",
       "      <th>item</th>\n",
       "      <th>rating</th>\n",
       "      <th>year</th>\n",
       "      <th>genre_embedding</th>\n",
       "      <th>director_info</th>\n",
       "      <th>writer_info</th>\n",
       "      <th>item_cnt</th>\n",
       "      <th>dir_max_cnt</th>\n",
       "      <th>dir_sum_cnt</th>\n",
       "      <th>wri_max_cnt</th>\n",
       "      <th>wri_sum_cnt</th>\n",
       "      <th>seen_item_inter_mean</th>\n",
       "      <th>seen_item_inter_std</th>\n",
       "    </tr>\n",
       "  </thead>\n",
       "  <tbody>\n",
       "    <tr>\n",
       "      <th>0</th>\n",
       "      <td>11</td>\n",
       "      <td>4643</td>\n",
       "      <td>1.0</td>\n",
       "      <td>2001.0</td>\n",
       "      <td>-0.010404</td>\n",
       "      <td>2859.444444</td>\n",
       "      <td>4146.333333</td>\n",
       "      <td>1122</td>\n",
       "      <td>7743</td>\n",
       "      <td>51470</td>\n",
       "      <td>8936</td>\n",
       "      <td>21339</td>\n",
       "      <td>3719.351064</td>\n",
       "      <td>4316.497874</td>\n",
       "    </tr>\n",
       "    <tr>\n",
       "      <th>1</th>\n",
       "      <td>11</td>\n",
       "      <td>170</td>\n",
       "      <td>1.0</td>\n",
       "      <td>1995.0</td>\n",
       "      <td>-0.010290</td>\n",
       "      <td>583.714286</td>\n",
       "      <td>269.562069</td>\n",
       "      <td>1107</td>\n",
       "      <td>2092</td>\n",
       "      <td>4086</td>\n",
       "      <td>1107</td>\n",
       "      <td>1107</td>\n",
       "      <td>3719.351064</td>\n",
       "      <td>4316.497874</td>\n",
       "    </tr>\n",
       "    <tr>\n",
       "      <th>2</th>\n",
       "      <td>11</td>\n",
       "      <td>531</td>\n",
       "      <td>1.0</td>\n",
       "      <td>1993.0</td>\n",
       "      <td>-0.010649</td>\n",
       "      <td>430.333333</td>\n",
       "      <td>5684.000000</td>\n",
       "      <td>966</td>\n",
       "      <td>966</td>\n",
       "      <td>1291</td>\n",
       "      <td>7743</td>\n",
       "      <td>19336</td>\n",
       "      <td>3719.351064</td>\n",
       "      <td>4316.497874</td>\n",
       "    </tr>\n",
       "  </tbody>\n",
       "</table>\n",
       "</div>"
      ],
      "text/plain": [
       "   user  item  rating    year  genre_embedding  director_info  writer_info  \\\n",
       "0    11  4643     1.0  2001.0        -0.010404    2859.444444  4146.333333   \n",
       "1    11   170     1.0  1995.0        -0.010290     583.714286   269.562069   \n",
       "2    11   531     1.0  1993.0        -0.010649     430.333333  5684.000000   \n",
       "\n",
       "   item_cnt  dir_max_cnt  dir_sum_cnt  wri_max_cnt  wri_sum_cnt  \\\n",
       "0      1122         7743        51470         8936        21339   \n",
       "1      1107         2092         4086         1107         1107   \n",
       "2       966          966         1291         7743        19336   \n",
       "\n",
       "   seen_item_inter_mean  seen_item_inter_std  \n",
       "0           3719.351064          4316.497874  \n",
       "1           3719.351064          4316.497874  \n",
       "2           3719.351064          4316.497874  "
      ]
     },
     "execution_count": 7,
     "metadata": {},
     "output_type": "execute_result"
    }
   ],
   "source": [
    "train_df.head(3)"
   ]
  },
  {
   "cell_type": "code",
   "execution_count": 8,
   "metadata": {},
   "outputs": [],
   "source": [
    "inference_df = lgbm_inference_df.merge(year_df, how='left', on='item')\n",
    "inference_df = inference_df.merge(genre_df, how='left', on='item')"
   ]
  },
  {
   "cell_type": "code",
   "execution_count": 9,
   "metadata": {},
   "outputs": [],
   "source": [
    "inference_df = lgbm_inference_df.merge(year_df, how='left', on='item')\n",
    "inference_df = inference_df.merge(genre_df, how='left', on='item')\n",
    "inference_df = inference_df.merge(director_inter_cnt, how='left', on='item')\n",
    "inference_df = inference_df.merge(writer_inter_cnt, how='left', on='item')\n",
    "inference_df = inference_df.merge(item_interaction, how='left', on='item')\n",
    "inference_df = inference_df.merge(item_popular_dir_max_sum_cnt, how='left', on='item')\n",
    "inference_df = inference_df.merge(item_popular_wri_max_sum_cnt, how='left', on='item')\n",
    "inference_df = inference_df.merge(user_seen_item_statistic, how='left', on='user')"
   ]
  },
  {
   "cell_type": "code",
   "execution_count": 10,
   "metadata": {},
   "outputs": [
    {
     "data": {
      "text/plain": [
       "(1568000, 13)"
      ]
     },
     "execution_count": 10,
     "metadata": {},
     "output_type": "execute_result"
    }
   ],
   "source": [
    "inference_df.shape"
   ]
  },
  {
   "cell_type": "code",
   "execution_count": 11,
   "metadata": {},
   "outputs": [
    {
     "data": {
      "text/html": [
       "<div>\n",
       "<style scoped>\n",
       "    .dataframe tbody tr th:only-of-type {\n",
       "        vertical-align: middle;\n",
       "    }\n",
       "\n",
       "    .dataframe tbody tr th {\n",
       "        vertical-align: top;\n",
       "    }\n",
       "\n",
       "    .dataframe thead th {\n",
       "        text-align: right;\n",
       "    }\n",
       "</style>\n",
       "<table border=\"1\" class=\"dataframe\">\n",
       "  <thead>\n",
       "    <tr style=\"text-align: right;\">\n",
       "      <th></th>\n",
       "      <th>user</th>\n",
       "      <th>item</th>\n",
       "      <th>year</th>\n",
       "      <th>genre_embedding</th>\n",
       "      <th>director_info</th>\n",
       "      <th>writer_info</th>\n",
       "      <th>item_cnt</th>\n",
       "      <th>dir_max_cnt</th>\n",
       "      <th>dir_sum_cnt</th>\n",
       "      <th>wri_max_cnt</th>\n",
       "      <th>wri_sum_cnt</th>\n",
       "      <th>seen_item_inter_mean</th>\n",
       "      <th>seen_item_inter_std</th>\n",
       "    </tr>\n",
       "  </thead>\n",
       "  <tbody>\n",
       "    <tr>\n",
       "      <th>0</th>\n",
       "      <td>11</td>\n",
       "      <td>4370</td>\n",
       "      <td>2001.0</td>\n",
       "      <td>-0.010420</td>\n",
       "      <td>4369.500000</td>\n",
       "      <td>5626.166667</td>\n",
       "      <td>3173</td>\n",
       "      <td>14224</td>\n",
       "      <td>130434</td>\n",
       "      <td>3734</td>\n",
       "      <td>11878</td>\n",
       "      <td>3719.351064</td>\n",
       "      <td>4316.497874</td>\n",
       "    </tr>\n",
       "    <tr>\n",
       "      <th>1</th>\n",
       "      <td>11</td>\n",
       "      <td>4886</td>\n",
       "      <td>2001.0</td>\n",
       "      <td>-0.010383</td>\n",
       "      <td>16267.000000</td>\n",
       "      <td>33020.428571</td>\n",
       "      <td>10826</td>\n",
       "      <td>12105</td>\n",
       "      <td>33840</td>\n",
       "      <td>12217</td>\n",
       "      <td>60006</td>\n",
       "      <td>3719.351064</td>\n",
       "      <td>4316.497874</td>\n",
       "    </tr>\n",
       "    <tr>\n",
       "      <th>2</th>\n",
       "      <td>11</td>\n",
       "      <td>47</td>\n",
       "      <td>1995.0</td>\n",
       "      <td>-0.010262</td>\n",
       "      <td>4853.181818</td>\n",
       "      <td>4527.200000</td>\n",
       "      <td>13857</td>\n",
       "      <td>18437</td>\n",
       "      <td>53385</td>\n",
       "      <td>13857</td>\n",
       "      <td>18569</td>\n",
       "      <td>3719.351064</td>\n",
       "      <td>4316.497874</td>\n",
       "    </tr>\n",
       "  </tbody>\n",
       "</table>\n",
       "</div>"
      ],
      "text/plain": [
       "   user  item    year  genre_embedding  director_info   writer_info  item_cnt  \\\n",
       "0    11  4370  2001.0        -0.010420    4369.500000   5626.166667      3173   \n",
       "1    11  4886  2001.0        -0.010383   16267.000000  33020.428571     10826   \n",
       "2    11    47  1995.0        -0.010262    4853.181818   4527.200000     13857   \n",
       "\n",
       "   dir_max_cnt  dir_sum_cnt  wri_max_cnt  wri_sum_cnt  seen_item_inter_mean  \\\n",
       "0        14224       130434         3734        11878           3719.351064   \n",
       "1        12105        33840        12217        60006           3719.351064   \n",
       "2        18437        53385        13857        18569           3719.351064   \n",
       "\n",
       "   seen_item_inter_std  \n",
       "0          4316.497874  \n",
       "1          4316.497874  \n",
       "2          4316.497874  "
      ]
     },
     "execution_count": 11,
     "metadata": {},
     "output_type": "execute_result"
    }
   ],
   "source": [
    "inference_df.head(3)"
   ]
  },
  {
   "cell_type": "code",
   "execution_count": null,
   "metadata": {},
   "outputs": [],
   "source": []
  },
  {
   "cell_type": "markdown",
   "metadata": {
    "id": "5VZzei3DhfQy"
   },
   "source": [
    "## 4. LGBM Train/Test 데이터 셋"
   ]
  },
  {
   "cell_type": "code",
   "execution_count": 108,
   "metadata": {
    "tags": []
   },
   "outputs": [],
   "source": [
    "# user별 interaction을 8:2로 split code\n",
    "# 하루종일 걸릴 것 같다.. (예상시간 12시간 넘었음)\n",
    "\n",
    "# import random\n",
    "\n",
    "# def custom_train_test_split(df, ratio=0.8):\n",
    "#     # user별 interaction을 8:2로 split\n",
    "#     user_group_dfs = list(df.groupby('user')['item'])\n",
    "\n",
    "#     first_row = True\n",
    "#     items = set(df.loc[:, 'item']) #아이템 개수 6807\n",
    "\n",
    "#     for u, u_items in tqdm(user_group_dfs):\n",
    "        \n",
    "#         random.shuffle(list(u_items))\n",
    "#         u_items = list(u_items)\n",
    "\n",
    "#         train_size = int(ratio * len(u_items))\n",
    "#         train_set_item = u_items[:train_size]\n",
    "#         test_set_item = u_items[train_size:]\n",
    "\n",
    "#         train_mask = df['item'].isin(train_set_item)\n",
    "#         test_mask = df['item'].isin(test_set_item)\n",
    "\n",
    "#         # Use the boolean masks to create the training and test sets\n",
    "#         train_set = df[train_mask]\n",
    "#         test_set = df[test_mask]\n",
    "\n",
    "#         if first_row == True:\n",
    "#             train = train_set\n",
    "#             test = test_set\n",
    "#             first_row = False\n",
    "#         else:\n",
    "#             train = pd.concat([train, train_set], axis=0, sort=False)\n",
    "#             test = pd.concat([test, test_set], axis=0, sort=False)\n",
    "#     return train, test\n",
    "\n",
    "# train_set, test_set = custom_train_test_split(train_df)"
   ]
  },
  {
   "cell_type": "code",
   "execution_count": 12,
   "metadata": {
    "tags": []
   },
   "outputs": [],
   "source": [
    "train_set, test_set = train_test_split(train_df, test_size=0.2, random_state=42)"
   ]
  },
  {
   "cell_type": "code",
   "execution_count": 13,
   "metadata": {},
   "outputs": [
    {
     "data": {
      "text/plain": [
       "Index(['user', 'item', 'rating', 'year', 'genre_embedding', 'director_info',\n",
       "       'writer_info', 'item_cnt', 'dir_max_cnt', 'dir_sum_cnt', 'wri_max_cnt',\n",
       "       'wri_sum_cnt', 'seen_item_inter_mean', 'seen_item_inter_std'],\n",
       "      dtype='object')"
      ]
     },
     "execution_count": 13,
     "metadata": {},
     "output_type": "execute_result"
    }
   ],
   "source": [
    "train_set.columns"
   ]
  },
  {
   "cell_type": "code",
   "execution_count": 14,
   "metadata": {},
   "outputs": [],
   "source": [
    "# X, y 값 분리\n",
    "FEATS = ['user', 'item', 'year', 'genre_embedding', 'item_cnt', 'seen_item_inter_mean', 'seen_item_inter_std', 'dir_max_cnt', 'dir_sum_cnt', 'wri_max_cnt',\n",
    "       'wri_sum_cnt', 'director_info', 'writer_info']\n",
    "\n",
    "y_train = train_set['rating']\n",
    "train = train_set.drop(['rating'], axis=1)\n",
    "\n",
    "y_test = test_set['rating']\n",
    "test = test_set.drop(['rating'], axis=1)"
   ]
  },
  {
   "cell_type": "code",
   "execution_count": 15,
   "metadata": {
    "ExecuteTime": {
     "end_time": "2022-11-17T06:06:04.281234Z",
     "start_time": "2022-11-17T06:06:04.265620Z"
    }
   },
   "outputs": [
    {
     "data": {
      "text/plain": [
       "((8215328, 13), (2053833, 13))"
      ]
     },
     "execution_count": 15,
     "metadata": {},
     "output_type": "execute_result"
    }
   ],
   "source": [
    "train.shape, test.shape"
   ]
  },
  {
   "cell_type": "code",
   "execution_count": 16,
   "metadata": {},
   "outputs": [],
   "source": [
    "# !python -m pip install lightgbm"
   ]
  },
  {
   "cell_type": "code",
   "execution_count": 17,
   "metadata": {},
   "outputs": [],
   "source": [
    "categorical_features = ['user','item','year']"
   ]
  },
  {
   "cell_type": "code",
   "execution_count": 18,
   "metadata": {
    "ExecuteTime": {
     "end_time": "2022-11-17T06:06:06.806072Z",
     "start_time": "2022-11-17T06:06:06.781239Z"
    },
    "id": "o59GhDdVhfQ1"
   },
   "outputs": [],
   "source": [
    "lgb_train = lgb.Dataset(train[FEATS], y_train, categorical_feature=categorical_features, free_raw_data=False)\n",
    "lgb_test = lgb.Dataset(test[FEATS], y_test, categorical_feature=categorical_features, free_raw_data=False)"
   ]
  },
  {
   "cell_type": "markdown",
   "metadata": {
    "id": "KiHss_BBhfQ2"
   },
   "source": [
    "## 5. 훈련 및 검증"
   ]
  },
  {
   "cell_type": "code",
   "execution_count": 40,
   "metadata": {
    "ExecuteTime": {
     "end_time": "2022-11-16T14:32:15.011774Z",
     "start_time": "2022-11-16T14:32:04.894300Z"
    },
    "id": "-6FZfjA_hfQ2"
   },
   "outputs": [
    {
     "name": "stderr",
     "output_type": "stream",
     "text": [
      "/opt/conda/lib/python3.8/site-packages/lightgbm/engine.py:181: UserWarning: 'early_stopping_rounds' argument is deprecated and will be removed in a future release of LightGBM. Pass 'early_stopping()' callback via 'callbacks' argument instead.\n",
      "  _log_warning(\"'early_stopping_rounds' argument is deprecated and will be removed in a future release of LightGBM. \"\n",
      "/opt/conda/lib/python3.8/site-packages/lightgbm/basic.py:2065: UserWarning: Using categorical_feature in Dataset.\n",
      "  _log_warning('Using categorical_feature in Dataset.')\n",
      "/opt/conda/lib/python3.8/site-packages/lightgbm/engine.py:239: UserWarning: 'verbose_eval' argument is deprecated and will be removed in a future release of LightGBM. Pass 'log_evaluation()' callback via 'callbacks' argument instead.\n",
      "  _log_warning(\"'verbose_eval' argument is deprecated and will be removed in a future release of LightGBM. \"\n"
     ]
    },
    {
     "name": "stdout",
     "output_type": "stream",
     "text": [
      "[LightGBM] [Warning] Unknown parameter: category_feat\n",
      "[LightGBM] [Warning] Unknown parameter: category_feat\n",
      "[LightGBM] [Warning] Unknown parameter: category_feat\n",
      "[LightGBM] [Warning] Unknown parameter: category_feat\n",
      "[LightGBM] [Warning] Unknown parameter: category_feat\n",
      "[LightGBM] [Info] Number of positive: 4123011, number of negative: 4092317\n",
      "[LightGBM] [Warning] Auto-choosing col-wise multi-threading, the overhead of testing was 0.209789 seconds.\n",
      "You can set `force_col_wise=true` to remove the overhead.\n",
      "[LightGBM] [Info] Total Bins 32410\n",
      "[LightGBM] [Info] Number of data points in the train set: 8215328, number of used features: 13\n",
      "[LightGBM] [Info] [binary:BoostFromScore]: pavg=0.501868 -> initscore=0.007472\n",
      "[LightGBM] [Info] Start training from score 0.007472\n",
      "Training until validation scores don't improve for 100 rounds\n",
      "[100]\tvalid_0's binary_logloss: 0.408181\n",
      "[200]\tvalid_0's binary_logloss: 0.406219\n",
      "[300]\tvalid_0's binary_logloss: 0.405001\n",
      "[400]\tvalid_0's binary_logloss: 0.403883\n",
      "[500]\tvalid_0's binary_logloss: 0.401745\n",
      "[600]\tvalid_0's binary_logloss: 0.399758\n",
      "[700]\tvalid_0's binary_logloss: 0.397643\n",
      "[800]\tvalid_0's binary_logloss: 0.397161\n",
      "[900]\tvalid_0's binary_logloss: 0.396881\n",
      "[1000]\tvalid_0's binary_logloss: 0.396156\n",
      "[1100]\tvalid_0's binary_logloss: 0.395985\n",
      "[1200]\tvalid_0's binary_logloss: 0.395699\n",
      "[1300]\tvalid_0's binary_logloss: 0.39525\n",
      "[1400]\tvalid_0's binary_logloss: 0.395131\n",
      "[1500]\tvalid_0's binary_logloss: 0.39498\n",
      "[1600]\tvalid_0's binary_logloss: 0.394679\n",
      "[1700]\tvalid_0's binary_logloss: 0.394314\n",
      "[1800]\tvalid_0's binary_logloss: 0.394085\n",
      "[1900]\tvalid_0's binary_logloss: 0.393264\n",
      "[2000]\tvalid_0's binary_logloss: 0.392959\n",
      "[2100]\tvalid_0's binary_logloss: 0.392509\n",
      "[2200]\tvalid_0's binary_logloss: 0.392234\n",
      "[2300]\tvalid_0's binary_logloss: 0.392068\n",
      "[2400]\tvalid_0's binary_logloss: 0.391898\n",
      "[2500]\tvalid_0's binary_logloss: 0.391687\n",
      "[2600]\tvalid_0's binary_logloss: 0.391584\n",
      "[2700]\tvalid_0's binary_logloss: 0.391317\n",
      "[2800]\tvalid_0's binary_logloss: 0.391173\n",
      "[2900]\tvalid_0's binary_logloss: 0.39109\n",
      "[3000]\tvalid_0's binary_logloss: 0.390905\n",
      "[3100]\tvalid_0's binary_logloss: 0.390514\n",
      "[3200]\tvalid_0's binary_logloss: 0.390415\n",
      "[3300]\tvalid_0's binary_logloss: 0.390278\n",
      "[3400]\tvalid_0's binary_logloss: 0.390153\n",
      "[3500]\tvalid_0's binary_logloss: 0.390063\n",
      "[3600]\tvalid_0's binary_logloss: 0.388003\n",
      "[3700]\tvalid_0's binary_logloss: 0.386946\n",
      "[3800]\tvalid_0's binary_logloss: 0.386356\n",
      "[3900]\tvalid_0's binary_logloss: 0.385763\n",
      "[4000]\tvalid_0's binary_logloss: 0.385178\n",
      "[4100]\tvalid_0's binary_logloss: 0.38477\n",
      "[4200]\tvalid_0's binary_logloss: 0.384386\n",
      "[4300]\tvalid_0's binary_logloss: 0.383914\n",
      "[4400]\tvalid_0's binary_logloss: 0.383535\n",
      "[4500]\tvalid_0's binary_logloss: 0.383097\n",
      "[4600]\tvalid_0's binary_logloss: 0.382748\n",
      "[4700]\tvalid_0's binary_logloss: 0.382352\n",
      "[4800]\tvalid_0's binary_logloss: 0.381972\n",
      "[4900]\tvalid_0's binary_logloss: 0.381654\n",
      "[5000]\tvalid_0's binary_logloss: 0.381377\n",
      "[5100]\tvalid_0's binary_logloss: 0.381083\n",
      "[5200]\tvalid_0's binary_logloss: 0.380756\n",
      "[5300]\tvalid_0's binary_logloss: 0.380492\n",
      "[5400]\tvalid_0's binary_logloss: 0.380369\n",
      "[5500]\tvalid_0's binary_logloss: 0.380249\n",
      "[5600]\tvalid_0's binary_logloss: 0.380067\n",
      "[5700]\tvalid_0's binary_logloss: 0.379689\n",
      "[5800]\tvalid_0's binary_logloss: 0.37947\n",
      "[5900]\tvalid_0's binary_logloss: 0.379152\n",
      "[6000]\tvalid_0's binary_logloss: 0.378843\n",
      "[6100]\tvalid_0's binary_logloss: 0.378722\n",
      "[6200]\tvalid_0's binary_logloss: 0.378621\n",
      "[6300]\tvalid_0's binary_logloss: 0.378514\n",
      "[6400]\tvalid_0's binary_logloss: 0.378425\n",
      "[6500]\tvalid_0's binary_logloss: 0.378344\n",
      "[6600]\tvalid_0's binary_logloss: 0.378223\n",
      "[6700]\tvalid_0's binary_logloss: 0.377911\n",
      "[6800]\tvalid_0's binary_logloss: 0.37759\n",
      "[6900]\tvalid_0's binary_logloss: 0.37721\n",
      "[7000]\tvalid_0's binary_logloss: 0.377068\n",
      "[7100]\tvalid_0's binary_logloss: 0.376965\n",
      "[7200]\tvalid_0's binary_logloss: 0.376909\n",
      "[7300]\tvalid_0's binary_logloss: 0.376788\n",
      "[7400]\tvalid_0's binary_logloss: 0.376637\n",
      "[7500]\tvalid_0's binary_logloss: 0.376567\n",
      "[7600]\tvalid_0's binary_logloss: 0.376461\n",
      "[7700]\tvalid_0's binary_logloss: 0.376374\n",
      "[7800]\tvalid_0's binary_logloss: 0.37634\n",
      "[7900]\tvalid_0's binary_logloss: 0.3763\n",
      "[8000]\tvalid_0's binary_logloss: 0.376137\n",
      "Did not meet early stopping. Best iteration is:\n",
      "[7999]\tvalid_0's binary_logloss: 0.376136\n",
      "RMSE : 0.11965\n",
      "\n"
     ]
    }
   ],
   "source": [
    "model = lgb.train(\n",
    "    {'objective': 'binary',\n",
    "     'category_feat':categorical_features}, \n",
    "    lgb_train,\n",
    "    valid_sets=[lgb_test],\n",
    "    verbose_eval=100,\n",
    "    num_boost_round=8000,\n",
    "    early_stopping_rounds=100,\n",
    ")\n",
    "\n",
    "preds = model.predict(test[FEATS])\n",
    "rmse = mean_squared_error(y_test, preds)\n",
    "\n",
    "print(f'RMSE : {rmse:.5f}\\n')"
   ]
  },
  {
   "cell_type": "code",
   "execution_count": 41,
   "metadata": {
    "ExecuteTime": {
     "end_time": "2022-11-16T14:32:25.767046Z",
     "start_time": "2022-11-16T14:32:25.331822Z"
    },
    "id": "CKRjM0rxhfQ2"
   },
   "outputs": [
    {
     "data": {
      "image/png": "[encoded data removed]",
      "text/plain": [
       "<Figure size 432x288 with 1 Axes>"
      ]
     },
     "metadata": {
      "needs_background": "light"
     },
     "output_type": "display_data"
    }
   ],
   "source": [
    "# INSTALL MATPLOTLIB IN ADVANCE\n",
    "_ = lgb.plot_importance(model)"
   ]
  },
  {
   "cell_type": "markdown",
   "metadata": {
    "id": "8Bsff1ZVhfQ3"
   },
   "source": [
    "## 6. Inference"
   ]
  },
  {
   "cell_type": "code",
   "execution_count": 42,
   "metadata": {},
   "outputs": [],
   "source": [
    "tmp = pd.read_csv('/opt/ml/input/data/eval/sample_submission.csv')\n",
    "lst = list(tmp['user'].values)\n",
    "user_list = list(set(tmp['user'].values))\n",
    "user_list = sorted(user_list)"
   ]
  },
  {
   "cell_type": "code",
   "execution_count": 63,
   "metadata": {
    "tags": []
   },
   "outputs": [],
   "source": [
    "# user_list"
   ]
  },
  {
   "cell_type": "code",
   "execution_count": 43,
   "metadata": {},
   "outputs": [
    {
     "name": "stderr",
     "output_type": "stream",
     "text": [
      "/tmp/ipykernel_60401/1018259541.py:3: SettingWithCopyWarning: \n",
      "A value is trying to be set on a copy of a slice from a DataFrame.\n",
      "Try using .loc[row_indexer,col_indexer] = value instead\n",
      "\n",
      "See the caveats in the documentation: https://pandas.pydata.org/pandas-docs/stable/user_guide/indexing.html#returning-a-view-versus-a-copy\n",
      "  inference_df['user_last_year'] = inference_df['user'].map(user_last_year)\n"
     ]
    }
   ],
   "source": [
    "#유저의 마지막 interaction 연도보다 더 늦게 나온 영화는 없애준다.\n",
    "user_last_year = pd.read_pickle('/opt/ml/input/fighting/Recbole/baseline/index/userid2lastyear.pickle')\n",
    "inference_df['user_last_year'] = inference_df['user'].map(user_last_year)\n",
    "# inference_df = inference_df.merge(year_df, how='left', on='item') # 컬럼에 'year'이 없다면\n",
    "inference_df = inference_df[inference_df['user_last_year'] >= inference_df['year']]"
   ]
  },
  {
   "cell_type": "code",
   "execution_count": 44,
   "metadata": {},
   "outputs": [
    {
     "data": {
      "text/html": [
       "<div>\n",
       "<style scoped>\n",
       "    .dataframe tbody tr th:only-of-type {\n",
       "        vertical-align: middle;\n",
       "    }\n",
       "\n",
       "    .dataframe tbody tr th {\n",
       "        vertical-align: top;\n",
       "    }\n",
       "\n",
       "    .dataframe thead th {\n",
       "        text-align: right;\n",
       "    }\n",
       "</style>\n",
       "<table border=\"1\" class=\"dataframe\">\n",
       "  <thead>\n",
       "    <tr style=\"text-align: right;\">\n",
       "      <th></th>\n",
       "      <th>user</th>\n",
       "      <th>item</th>\n",
       "      <th>year</th>\n",
       "      <th>genre_embedding</th>\n",
       "      <th>director_info</th>\n",
       "      <th>writer_info</th>\n",
       "      <th>item_cnt</th>\n",
       "      <th>dir_max_cnt</th>\n",
       "      <th>dir_sum_cnt</th>\n",
       "      <th>wri_max_cnt</th>\n",
       "      <th>wri_sum_cnt</th>\n",
       "      <th>seen_item_inter_mean</th>\n",
       "      <th>seen_item_inter_std</th>\n",
       "      <th>user_last_year</th>\n",
       "    </tr>\n",
       "  </thead>\n",
       "  <tbody>\n",
       "    <tr>\n",
       "      <th>0</th>\n",
       "      <td>11</td>\n",
       "      <td>4370</td>\n",
       "      <td>2001.0</td>\n",
       "      <td>-0.010420</td>\n",
       "      <td>4369.500000</td>\n",
       "      <td>5626.166667</td>\n",
       "      <td>3173</td>\n",
       "      <td>14224</td>\n",
       "      <td>130434</td>\n",
       "      <td>3734</td>\n",
       "      <td>11878</td>\n",
       "      <td>3719.351064</td>\n",
       "      <td>4316.497874</td>\n",
       "      <td>2011</td>\n",
       "    </tr>\n",
       "    <tr>\n",
       "      <th>1</th>\n",
       "      <td>11</td>\n",
       "      <td>4886</td>\n",
       "      <td>2001.0</td>\n",
       "      <td>-0.010383</td>\n",
       "      <td>16267.000000</td>\n",
       "      <td>33020.428571</td>\n",
       "      <td>10826</td>\n",
       "      <td>12105</td>\n",
       "      <td>33840</td>\n",
       "      <td>12217</td>\n",
       "      <td>60006</td>\n",
       "      <td>3719.351064</td>\n",
       "      <td>4316.497874</td>\n",
       "      <td>2011</td>\n",
       "    </tr>\n",
       "    <tr>\n",
       "      <th>2</th>\n",
       "      <td>11</td>\n",
       "      <td>47</td>\n",
       "      <td>1995.0</td>\n",
       "      <td>-0.010262</td>\n",
       "      <td>4853.181818</td>\n",
       "      <td>4527.200000</td>\n",
       "      <td>13857</td>\n",
       "      <td>18437</td>\n",
       "      <td>53385</td>\n",
       "      <td>13857</td>\n",
       "      <td>18569</td>\n",
       "      <td>3719.351064</td>\n",
       "      <td>4316.497874</td>\n",
       "      <td>2011</td>\n",
       "    </tr>\n",
       "    <tr>\n",
       "      <th>3</th>\n",
       "      <td>11</td>\n",
       "      <td>32587</td>\n",
       "      <td>2005.0</td>\n",
       "      <td>-0.010371</td>\n",
       "      <td>9632.166667</td>\n",
       "      <td>5124.250000</td>\n",
       "      <td>10774</td>\n",
       "      <td>18202</td>\n",
       "      <td>81880</td>\n",
       "      <td>10774</td>\n",
       "      <td>21692</td>\n",
       "      <td>3719.351064</td>\n",
       "      <td>4316.497874</td>\n",
       "      <td>2011</td>\n",
       "    </tr>\n",
       "    <tr>\n",
       "      <th>4</th>\n",
       "      <td>11</td>\n",
       "      <td>40815</td>\n",
       "      <td>2005.0</td>\n",
       "      <td>-0.010360</td>\n",
       "      <td>1669.666667</td>\n",
       "      <td>8387.333333</td>\n",
       "      <td>6494</td>\n",
       "      <td>6494</td>\n",
       "      <td>15027</td>\n",
       "      <td>7050</td>\n",
       "      <td>37743</td>\n",
       "      <td>3719.351064</td>\n",
       "      <td>4316.497874</td>\n",
       "      <td>2011</td>\n",
       "    </tr>\n",
       "    <tr>\n",
       "      <th>...</th>\n",
       "      <td>...</td>\n",
       "      <td>...</td>\n",
       "      <td>...</td>\n",
       "      <td>...</td>\n",
       "      <td>...</td>\n",
       "      <td>...</td>\n",
       "      <td>...</td>\n",
       "      <td>...</td>\n",
       "      <td>...</td>\n",
       "      <td>...</td>\n",
       "      <td>...</td>\n",
       "      <td>...</td>\n",
       "      <td>...</td>\n",
       "      <td>...</td>\n",
       "    </tr>\n",
       "    <tr>\n",
       "      <th>1567995</th>\n",
       "      <td>138493</td>\n",
       "      <td>41569</td>\n",
       "      <td>2005.0</td>\n",
       "      <td>-0.010388</td>\n",
       "      <td>4062.533333</td>\n",
       "      <td>27810.222222</td>\n",
       "      <td>3105</td>\n",
       "      <td>17237</td>\n",
       "      <td>60938</td>\n",
       "      <td>17237</td>\n",
       "      <td>60938</td>\n",
       "      <td>3701.936306</td>\n",
       "      <td>4167.737972</td>\n",
       "      <td>2009</td>\n",
       "    </tr>\n",
       "    <tr>\n",
       "      <th>1567996</th>\n",
       "      <td>138493</td>\n",
       "      <td>45499</td>\n",
       "      <td>2006.0</td>\n",
       "      <td>-0.010408</td>\n",
       "      <td>1092.100000</td>\n",
       "      <td>5575.363636</td>\n",
       "      <td>3436</td>\n",
       "      <td>3436</td>\n",
       "      <td>10411</td>\n",
       "      <td>7045</td>\n",
       "      <td>17524</td>\n",
       "      <td>3701.936306</td>\n",
       "      <td>4167.737972</td>\n",
       "      <td>2009</td>\n",
       "    </tr>\n",
       "    <tr>\n",
       "      <th>1567997</th>\n",
       "      <td>138493</td>\n",
       "      <td>589</td>\n",
       "      <td>1991.0</td>\n",
       "      <td>-0.010423</td>\n",
       "      <td>6703.000000</td>\n",
       "      <td>11354.300000</td>\n",
       "      <td>11796</td>\n",
       "      <td>11796</td>\n",
       "      <td>53624</td>\n",
       "      <td>11796</td>\n",
       "      <td>55140</td>\n",
       "      <td>3701.936306</td>\n",
       "      <td>4167.737972</td>\n",
       "      <td>2009</td>\n",
       "    </tr>\n",
       "    <tr>\n",
       "      <th>1567998</th>\n",
       "      <td>138493</td>\n",
       "      <td>2687</td>\n",
       "      <td>1999.0</td>\n",
       "      <td>-0.010482</td>\n",
       "      <td>849.500000</td>\n",
       "      <td>61895.285714</td>\n",
       "      <td>967</td>\n",
       "      <td>1330</td>\n",
       "      <td>2793</td>\n",
       "      <td>9568</td>\n",
       "      <td>30496</td>\n",
       "      <td>3701.936306</td>\n",
       "      <td>4167.737972</td>\n",
       "      <td>2009</td>\n",
       "    </tr>\n",
       "    <tr>\n",
       "      <th>1567999</th>\n",
       "      <td>138493</td>\n",
       "      <td>7323</td>\n",
       "      <td>2003.0</td>\n",
       "      <td>-0.010281</td>\n",
       "      <td>230.992337</td>\n",
       "      <td>882.000000</td>\n",
       "      <td>2588</td>\n",
       "      <td>2588</td>\n",
       "      <td>2588</td>\n",
       "      <td>2588</td>\n",
       "      <td>2646</td>\n",
       "      <td>3701.936306</td>\n",
       "      <td>4167.737972</td>\n",
       "      <td>2009</td>\n",
       "    </tr>\n",
       "  </tbody>\n",
       "</table>\n",
       "<p>1563447 rows × 14 columns</p>\n",
       "</div>"
      ],
      "text/plain": [
       "           user   item    year  genre_embedding  director_info   writer_info  \\\n",
       "0            11   4370  2001.0        -0.010420    4369.500000   5626.166667   \n",
       "1            11   4886  2001.0        -0.010383   16267.000000  33020.428571   \n",
       "2            11     47  1995.0        -0.010262    4853.181818   4527.200000   \n",
       "3            11  32587  2005.0        -0.010371    9632.166667   5124.250000   \n",
       "4            11  40815  2005.0        -0.010360    1669.666667   8387.333333   \n",
       "...         ...    ...     ...              ...            ...           ...   \n",
       "1567995  138493  41569  2005.0        -0.010388    4062.533333  27810.222222   \n",
       "1567996  138493  45499  2006.0        -0.010408    1092.100000   5575.363636   \n",
       "1567997  138493    589  1991.0        -0.010423    6703.000000  11354.300000   \n",
       "1567998  138493   2687  1999.0        -0.010482     849.500000  61895.285714   \n",
       "1567999  138493   7323  2003.0        -0.010281     230.992337    882.000000   \n",
       "\n",
       "         item_cnt  dir_max_cnt  dir_sum_cnt  wri_max_cnt  wri_sum_cnt  \\\n",
       "0            3173        14224       130434         3734        11878   \n",
       "1           10826        12105        33840        12217        60006   \n",
       "2           13857        18437        53385        13857        18569   \n",
       "3           10774        18202        81880        10774        21692   \n",
       "4            6494         6494        15027         7050        37743   \n",
       "...           ...          ...          ...          ...          ...   \n",
       "1567995      3105        17237        60938        17237        60938   \n",
       "1567996      3436         3436        10411         7045        17524   \n",
       "1567997     11796        11796        53624        11796        55140   \n",
       "1567998       967         1330         2793         9568        30496   \n",
       "1567999      2588         2588         2588         2588         2646   \n",
       "\n",
       "         seen_item_inter_mean  seen_item_inter_std  user_last_year  \n",
       "0                 3719.351064          4316.497874            2011  \n",
       "1                 3719.351064          4316.497874            2011  \n",
       "2                 3719.351064          4316.497874            2011  \n",
       "3                 3719.351064          4316.497874            2011  \n",
       "4                 3719.351064          4316.497874            2011  \n",
       "...                       ...                  ...             ...  \n",
       "1567995           3701.936306          4167.737972            2009  \n",
       "1567996           3701.936306          4167.737972            2009  \n",
       "1567997           3701.936306          4167.737972            2009  \n",
       "1567998           3701.936306          4167.737972            2009  \n",
       "1567999           3701.936306          4167.737972            2009  \n",
       "\n",
       "[1563447 rows x 14 columns]"
      ]
     },
     "execution_count": 44,
     "metadata": {},
     "output_type": "execute_result"
    }
   ],
   "source": [
    "inference_df"
   ]
  },
  {
   "cell_type": "code",
   "execution_count": 45,
   "metadata": {},
   "outputs": [
    {
     "name": "stderr",
     "output_type": "stream",
     "text": [
      "100%|██████████| 31360/31360 [09:06<00:00, 57.38it/s]\n"
     ]
    },
    {
     "name": "stdout",
     "output_type": "stream",
     "text": [
      "dataframe으로 만드는 중\n",
      "csv 파일로 내보내는 중\n",
      "csv 파일로 내보내기 완료!\n"
     ]
    }
   ],
   "source": [
    "# Top 300개를 뽑았을 때 약 13분정도 소요\n",
    "# Top 50개를 뽑았을 때 약 5분정도 소요\n",
    "first_row = True\n",
    "\n",
    "for user in tqdm(user_list):\n",
    "    user_df = inference_df[inference_df['user']==user][FEATS]\n",
    "    \n",
    "    y = model.predict(user_df) #FEATS에는 item의 year 컬럼이 꼭 있어야합니다.\n",
    "    y = torch.from_numpy(y)\n",
    "    _, indices = torch.topk(y, 10)\n",
    "    \n",
    "    user_rec = user_df.iloc[indices,:]\n",
    "    \n",
    "    if first_row == True:\n",
    "        result = user_rec\n",
    "        first_row = False\n",
    "    else:\n",
    "        result = pd.concat([result, user_rec], axis=0, sort=False)\n",
    "\n",
    "print(\"dataframe으로 만드는 중\")\n",
    "sub = pd.DataFrame(result, columns=[\"user\",\"item\"])\n",
    "print(\"csv 파일로 내보내는 중\")\n",
    "sub.to_csv(f\"EASE_LGBM_50_{rmse:.5f}_{FEATS}.csv\", index=False)\n",
    "print(\"csv 파일로 내보내기 완료!\")"
   ]
  },
  {
   "cell_type": "code",
   "execution_count": 46,
   "metadata": {},
   "outputs": [
    {
     "name": "stdout",
     "output_type": "stream",
     "text": [
      "EASE 결과 item 중 item번호가 10000 미만 item 개수: 1212425\n",
      "\n",
      "EASE 결과 item 중 item번호가 10000 이상 item 개수: 351022\n",
      "\n",
      "LGBM 결과 item 중 item번호가 10000 미만 item 개수: 271702\n",
      "\n",
      "LGBM 결과 item 중 item번호가 10000 이상 item 개수: 41898\n",
      "\n",
      "비율이 좀 이상한 것 같다..\n"
     ]
    }
   ],
   "source": [
    "print(f\"EASE 결과 item 중 item번호가 10000 미만 item 개수: {len(inference_df.loc[(inference_df['item'] < 10000)])}\\n\")\n",
    "print(f\"EASE 결과 item 중 item번호가 10000 이상 item 개수: {len(inference_df.loc[(inference_df['item'] >= 10000)])}\\n\")\n",
    "print(f\"LGBM 결과 item 중 item번호가 10000 미만 item 개수: {len(sub.loc[(sub['item'] < 10000)])}\\n\")\n",
    "print(f\"LGBM 결과 item 중 item번호가 10000 이상 item 개수: {len(sub.loc[(sub['item'] >= 10000)])}\\n\")\n",
    "print(\"비율이 좀 이상한 것 같다..\")"
   ]
  },
  {
   "cell_type": "code",
   "execution_count": 230,
   "metadata": {},
   "outputs": [],
   "source": [
    "# 대신 예측한 아이템 300개 내에선 10개 추출은 잘 되는 것 같다.\n",
    "inf_res = set(inference_df.loc[(inference_df['user'] == 11)]['item'].values)"
   ]
  },
  {
   "cell_type": "code",
   "execution_count": 231,
   "metadata": {},
   "outputs": [],
   "source": [
    "sub_res = set(sub.loc[(sub['user'] == 11)]['item'].values)"
   ]
  },
  {
   "cell_type": "code",
   "execution_count": 232,
   "metadata": {},
   "outputs": [
    {
     "data": {
      "text/plain": [
       "set()"
      ]
     },
     "execution_count": 232,
     "metadata": {},
     "output_type": "execute_result"
    }
   ],
   "source": [
    "sub_res - inf_res"
   ]
  },
  {
   "cell_type": "code",
   "execution_count": null,
   "metadata": {},
   "outputs": [],
   "source": []
  }
 ],
 "metadata": {
  "colab": {
   "collapsed_sections": [],
   "provenance": []
  },
  "kernelspec": {
   "display_name": "Python 3 (ipykernel)",
   "language": "python",
   "name": "python3"
  },
  "language_info": {
   "codemirror_mode": {
    "name": "ipython",
    "version": 3
   },
   "file_extension": ".py",
   "mimetype": "text/x-python",
   "name": "python",
   "nbconvert_exporter": "python",
   "pygments_lexer": "ipython3",
   "version": "3.8.5"
  },
  "toc": {
   "base_numbering": 1,
   "nav_menu": {},
   "number_sections": false,
   "sideBar": true,
   "skip_h1_title": false,
   "title_cell": "Table of Contents",
   "title_sidebar": "Contents",
   "toc_cell": false,
   "toc_position": {},
   "toc_section_display": true,
   "toc_window_display": true
  }
 },
 "nbformat": 4,
 "nbformat_minor": 4
}

{
 "cells": [
  {
   "cell_type": "markdown",
   "metadata": {
    "id": "yt7sDAqHhfQp"
   },
   "source": [
    "# LGBM을 활용한 베이스라인"
   ]
  },
  {
   "cell_type": "code",
   "execution_count": 29,
   "metadata": {
    "ExecuteTime": {
     "end_time": "2022-11-18T13:38:15.702936Z",
     "start_time": "2022-11-18T13:38:15.431102Z"
    }
   },
   "outputs": [],
   "source": [
    "from IPython.core.interactiveshell import InteractiveShell\n",
    "InteractiveShell.ast_node_interactivity = 'all'\n",
    "\n",
    "import pandas as pd\n",
    "import numpy as np\n",
    "import os\n",
    "import random\n",
    "from tqdm import tqdm\n",
    "from sklearn.model_selection import train_test_split\n",
    "\n",
    "import lightgbm as lgb\n",
    "# from sklearn.metrics import roc_auc_score\n",
    "# from sklearn.metrics import accuracy_score\n",
    "from sklearn.metrics import mean_squared_error"
   ]
  },
  {
   "cell_type": "markdown",
   "metadata": {
    "id": "QZlm5HSmhfQv"
   },
   "source": [
    "## 1. 데이터 로딩"
   ]
  },
  {
   "cell_type": "code",
   "execution_count": 184,
   "metadata": {
    "ExecuteTime": {
     "end_time": "2022-11-18T13:38:18.365525Z",
     "start_time": "2022-11-18T13:38:15.931173Z"
    },
    "id": "s6qgJ8MLhfQw"
   },
   "outputs": [],
   "source": [
    "main_df = pd.read_csv(\"/opt/ml/input/data/train/train_ratings.csv\")"
   ]
  },
  {
   "cell_type": "markdown",
   "metadata": {},
   "source": [
    "## 2. 데이터셋 만들기"
   ]
  },
  {
   "cell_type": "code",
   "execution_count": null,
   "metadata": {
    "tags": []
   },
   "outputs": [],
   "source": [
    "# set(list(main_df.groupby('user')['item'])[0][1]) #11번 유저가 본 아이템들"
   ]
  },
  {
   "cell_type": "code",
   "execution_count": 43,
   "metadata": {},
   "outputs": [],
   "source": [
    "main_df['rating'] = 1\n",
    "main_df = main_df.drop(columns='time', axis=1)"
   ]
  },
  {
   "cell_type": "code",
   "execution_count": 45,
   "metadata": {},
   "outputs": [
    {
     "data": {
      "text/html": [
       "<div>\n",
       "<style scoped>\n",
       "    .dataframe tbody tr th:only-of-type {\n",
       "        vertical-align: middle;\n",
       "    }\n",
       "\n",
       "    .dataframe tbody tr th {\n",
       "        vertical-align: top;\n",
       "    }\n",
       "\n",
       "    .dataframe thead th {\n",
       "        text-align: right;\n",
       "    }\n",
       "</style>\n",
       "<table border=\"1\" class=\"dataframe\">\n",
       "  <thead>\n",
       "    <tr style=\"text-align: right;\">\n",
       "      <th></th>\n",
       "      <th>user</th>\n",
       "      <th>item</th>\n",
       "      <th>rating</th>\n",
       "    </tr>\n",
       "  </thead>\n",
       "  <tbody>\n",
       "    <tr>\n",
       "      <th>0</th>\n",
       "      <td>11</td>\n",
       "      <td>4643</td>\n",
       "      <td>1</td>\n",
       "    </tr>\n",
       "    <tr>\n",
       "      <th>1</th>\n",
       "      <td>11</td>\n",
       "      <td>170</td>\n",
       "      <td>1</td>\n",
       "    </tr>\n",
       "    <tr>\n",
       "      <th>2</th>\n",
       "      <td>11</td>\n",
       "      <td>531</td>\n",
       "      <td>1</td>\n",
       "    </tr>\n",
       "  </tbody>\n",
       "</table>\n",
       "</div>"
      ],
      "text/plain": [
       "   user  item  rating\n",
       "0    11  4643       1\n",
       "1    11   170       1\n",
       "2    11   531       1"
      ]
     },
     "execution_count": 45,
     "metadata": {},
     "output_type": "execute_result"
    }
   ],
   "source": [
    "main_df.head(3)"
   ]
  },
  {
   "cell_type": "code",
   "execution_count": 46,
   "metadata": {},
   "outputs": [
    {
     "name": "stdout",
     "output_type": "stream",
     "text": [
      "Create Nagetive instances\n"
     ]
    },
    {
     "name": "stderr",
     "output_type": "stream",
     "text": [
      "100%|██████████| 31360/31360 [20:40<00:00, 25.27it/s]\n"
     ]
    },
    {
     "data": {
      "text/plain": [
       "user      0\n",
       "item      0\n",
       "rating    0\n",
       "dtype: int64"
      ]
     },
     "execution_count": 46,
     "metadata": {},
     "output_type": "execute_result"
    }
   ],
   "source": [
    "# 3. Negative instance 생성 : 각 유저별 true:false = 5:5, 20분정도 소요\n",
    "print(\"Create Nagetive instances\")\n",
    "# num_negative = 50\n",
    "user_group_dfs = list(main_df.groupby('user')['item'])\n",
    "\n",
    "first_row = True\n",
    "items = set(main_df.loc[:, 'item'])\n",
    "\n",
    "for u, u_items in tqdm(user_group_dfs):\n",
    "    u_items = set(u_items)                 #해당 유저가 본 아이템\n",
    "    i_user_neg_item = np.random.choice(list(items - u_items), len(u_items), replace=False)\n",
    "    \n",
    "    i_user_neg_df = pd.DataFrame({'user': [u]*len(u_items), 'item': i_user_neg_item, 'rating': [0]*len(u_items)})\n",
    "    if first_row == True:\n",
    "        user_neg_dfs = i_user_neg_df\n",
    "        first_row = False\n",
    "    else:\n",
    "        user_neg_dfs = pd.concat([user_neg_dfs, i_user_neg_df], axis = 0, sort=False)\n",
    "\n",
    "result = pd.concat([main_df, user_neg_dfs], axis = 0, sort=False)\n",
    "result.to_csv(\"user_direct_neg_sampling.csv\", index=False)\n",
    "result.isna().sum()"
   ]
  },
  {
   "cell_type": "code",
   "execution_count": 47,
   "metadata": {},
   "outputs": [],
   "source": [
    "result.to_csv(\"user_item_rating_neg_sampling.csv\", index=False)"
   ]
  },
  {
   "cell_type": "code",
   "execution_count": 56,
   "metadata": {},
   "outputs": [],
   "source": [
    "neg_train_result = result"
   ]
  },
  {
   "cell_type": "code",
   "execution_count": 57,
   "metadata": {},
   "outputs": [
    {
     "data": {
      "text/plain": [
       "(10308942, 3)"
      ]
     },
     "execution_count": 57,
     "metadata": {},
     "output_type": "execute_result"
    }
   ],
   "source": [
    "neg_train_result.shape"
   ]
  },
  {
   "cell_type": "code",
   "execution_count": 52,
   "metadata": {},
   "outputs": [],
   "source": [
    "ease_result = pd.read_csv('/opt/ml/input/fighting/Recbole/EASE_best.csv')"
   ]
  },
  {
   "cell_type": "code",
   "execution_count": 54,
   "metadata": {},
   "outputs": [
    {
     "data": {
      "text/plain": [
       "(9408000, 2)"
      ]
     },
     "execution_count": 54,
     "metadata": {},
     "output_type": "execute_result"
    }
   ],
   "source": [
    "ease_result.shape"
   ]
  },
  {
   "cell_type": "code",
   "execution_count": 58,
   "metadata": {
    "tags": []
   },
   "outputs": [],
   "source": [
    "# 차집합 구하기\n",
    "lgbm_train_df = pd.concat([neg_train_result, ease_result, ease_result]).drop_duplicates(subset=['user', 'item'], keep=False)\n"
   ]
  },
  {
   "cell_type": "code",
   "execution_count": 64,
   "metadata": {},
   "outputs": [
    {
     "data": {
      "text/plain": [
       "(10070694, 3)"
      ]
     },
     "execution_count": 64,
     "metadata": {},
     "output_type": "execute_result"
    }
   ],
   "source": [
    "lgbm_train_df.shape"
   ]
  },
  {
   "cell_type": "code",
   "execution_count": 62,
   "metadata": {},
   "outputs": [],
   "source": [
    "lgbm_train_df.to_csv(\"lgbm_train_df.csv\", index=False)"
   ]
  },
  {
   "cell_type": "code",
   "execution_count": 60,
   "metadata": {},
   "outputs": [],
   "source": [
    "# 10308942 - 10070694 = 약 23만 8천"
   ]
  },
  {
   "cell_type": "code",
   "execution_count": 63,
   "metadata": {},
   "outputs": [],
   "source": [
    "lgbm_inference_df = ease_result"
   ]
  },
  {
   "cell_type": "code",
   "execution_count": null,
   "metadata": {},
   "outputs": [],
   "source": []
  },
  {
   "cell_type": "markdown",
   "metadata": {},
   "source": [
    "## 3. Feature Engineering\n",
    "모듈화 한 피처들을 merge하면 된다."
   ]
  },
  {
   "cell_type": "code",
   "execution_count": 67,
   "metadata": {},
   "outputs": [],
   "source": [
    "year_df = pd.read_csv(\"/opt/ml/input/fighting/FE/year/year_missingno.csv\")\n",
    "genre_df = pd.read_csv(\"/opt/ml/input/fighting/FE/genre/genre_bert_fe.csv\")"
   ]
  },
  {
   "cell_type": "code",
   "execution_count": 74,
   "metadata": {},
   "outputs": [],
   "source": [
    "train_df = lgbm_train_df.merge(year_df, how='left', on='item')\n",
    "train_df = train_df.merge(genre_df, how='left', on='item')"
   ]
  },
  {
   "cell_type": "code",
   "execution_count": 75,
   "metadata": {},
   "outputs": [
    {
     "data": {
      "text/plain": [
       "(10070694, 5)"
      ]
     },
     "execution_count": 75,
     "metadata": {},
     "output_type": "execute_result"
    }
   ],
   "source": [
    "train_df.shape"
   ]
  },
  {
   "cell_type": "code",
   "execution_count": 76,
   "metadata": {},
   "outputs": [
    {
     "data": {
      "text/html": [
       "<div>\n",
       "<style scoped>\n",
       "    .dataframe tbody tr th:only-of-type {\n",
       "        vertical-align: middle;\n",
       "    }\n",
       "\n",
       "    .dataframe tbody tr th {\n",
       "        vertical-align: top;\n",
       "    }\n",
       "\n",
       "    .dataframe thead th {\n",
       "        text-align: right;\n",
       "    }\n",
       "</style>\n",
       "<table border=\"1\" class=\"dataframe\">\n",
       "  <thead>\n",
       "    <tr style=\"text-align: right;\">\n",
       "      <th></th>\n",
       "      <th>user</th>\n",
       "      <th>item</th>\n",
       "      <th>rating</th>\n",
       "      <th>year</th>\n",
       "      <th>genre_embedding</th>\n",
       "    </tr>\n",
       "  </thead>\n",
       "  <tbody>\n",
       "    <tr>\n",
       "      <th>0</th>\n",
       "      <td>11</td>\n",
       "      <td>4643</td>\n",
       "      <td>1.0</td>\n",
       "      <td>2001.0</td>\n",
       "      <td>-0.010404</td>\n",
       "    </tr>\n",
       "    <tr>\n",
       "      <th>1</th>\n",
       "      <td>11</td>\n",
       "      <td>170</td>\n",
       "      <td>1.0</td>\n",
       "      <td>1995.0</td>\n",
       "      <td>-0.010290</td>\n",
       "    </tr>\n",
       "    <tr>\n",
       "      <th>2</th>\n",
       "      <td>11</td>\n",
       "      <td>531</td>\n",
       "      <td>1.0</td>\n",
       "      <td>1993.0</td>\n",
       "      <td>-0.010649</td>\n",
       "    </tr>\n",
       "  </tbody>\n",
       "</table>\n",
       "</div>"
      ],
      "text/plain": [
       "   user  item  rating    year  genre_embedding\n",
       "0    11  4643     1.0  2001.0        -0.010404\n",
       "1    11   170     1.0  1995.0        -0.010290\n",
       "2    11   531     1.0  1993.0        -0.010649"
      ]
     },
     "execution_count": 76,
     "metadata": {},
     "output_type": "execute_result"
    }
   ],
   "source": [
    "train_df.head(3)"
   ]
  },
  {
   "cell_type": "code",
   "execution_count": 77,
   "metadata": {},
   "outputs": [],
   "source": [
    "inference_df = lgbm_inference_df.merge(year_df, how='left', on='item')\n",
    "inference_df = inference_df.merge(genre_df, how='left', on='item')"
   ]
  },
  {
   "cell_type": "code",
   "execution_count": 78,
   "metadata": {},
   "outputs": [
    {
     "data": {
      "text/plain": [
       "(9408000, 4)"
      ]
     },
     "execution_count": 78,
     "metadata": {},
     "output_type": "execute_result"
    }
   ],
   "source": [
    "inference_df.shape"
   ]
  },
  {
   "cell_type": "code",
   "execution_count": 79,
   "metadata": {},
   "outputs": [
    {
     "data": {
      "text/html": [
       "<div>\n",
       "<style scoped>\n",
       "    .dataframe tbody tr th:only-of-type {\n",
       "        vertical-align: middle;\n",
       "    }\n",
       "\n",
       "    .dataframe tbody tr th {\n",
       "        vertical-align: top;\n",
       "    }\n",
       "\n",
       "    .dataframe thead th {\n",
       "        text-align: right;\n",
       "    }\n",
       "</style>\n",
       "<table border=\"1\" class=\"dataframe\">\n",
       "  <thead>\n",
       "    <tr style=\"text-align: right;\">\n",
       "      <th></th>\n",
       "      <th>user</th>\n",
       "      <th>item</th>\n",
       "      <th>year</th>\n",
       "      <th>genre_embedding</th>\n",
       "    </tr>\n",
       "  </thead>\n",
       "  <tbody>\n",
       "    <tr>\n",
       "      <th>0</th>\n",
       "      <td>11</td>\n",
       "      <td>4370</td>\n",
       "      <td>2001.0</td>\n",
       "      <td>-0.010420</td>\n",
       "    </tr>\n",
       "    <tr>\n",
       "      <th>1</th>\n",
       "      <td>11</td>\n",
       "      <td>4886</td>\n",
       "      <td>2001.0</td>\n",
       "      <td>-0.010383</td>\n",
       "    </tr>\n",
       "    <tr>\n",
       "      <th>2</th>\n",
       "      <td>11</td>\n",
       "      <td>47</td>\n",
       "      <td>1995.0</td>\n",
       "      <td>-0.010262</td>\n",
       "    </tr>\n",
       "  </tbody>\n",
       "</table>\n",
       "</div>"
      ],
      "text/plain": [
       "   user  item    year  genre_embedding\n",
       "0    11  4370  2001.0        -0.010420\n",
       "1    11  4886  2001.0        -0.010383\n",
       "2    11    47  1995.0        -0.010262"
      ]
     },
     "execution_count": 79,
     "metadata": {},
     "output_type": "execute_result"
    }
   ],
   "source": [
    "inference_df.head(3)"
   ]
  },
  {
   "cell_type": "code",
   "execution_count": 94,
   "metadata": {},
   "outputs": [],
   "source": [
    "inference_df = test_df"
   ]
  },
  {
   "cell_type": "code",
   "execution_count": null,
   "metadata": {},
   "outputs": [],
   "source": []
  },
  {
   "cell_type": "markdown",
   "metadata": {
    "id": "5VZzei3DhfQy"
   },
   "source": [
    "## 4. LGBM Train/Test 데이터 셋"
   ]
  },
  {
   "cell_type": "code",
   "execution_count": 108,
   "metadata": {
    "tags": []
   },
   "outputs": [],
   "source": [
    "# user별 interaction을 8:2로 split code\n",
    "# 하루종일 걸릴 것 같다.. (예상시간 12시간 넘었음)\n",
    "\n",
    "# import random\n",
    "\n",
    "# def custom_train_test_split(df, ratio=0.8):\n",
    "#     # user별 interaction을 8:2로 split\n",
    "#     user_group_dfs = list(df.groupby('user')['item'])\n",
    "\n",
    "#     first_row = True\n",
    "#     items = set(df.loc[:, 'item']) #아이템 개수 6807\n",
    "\n",
    "#     for u, u_items in tqdm(user_group_dfs):\n",
    "        \n",
    "#         random.shuffle(list(u_items))\n",
    "#         u_items = list(u_items)\n",
    "\n",
    "#         train_size = int(ratio * len(u_items))\n",
    "#         train_set_item = u_items[:train_size]\n",
    "#         test_set_item = u_items[train_size:]\n",
    "\n",
    "#         train_mask = df['item'].isin(train_set_item)\n",
    "#         test_mask = df['item'].isin(test_set_item)\n",
    "\n",
    "#         # Use the boolean masks to create the training and test sets\n",
    "#         train_set = df[train_mask]\n",
    "#         test_set = df[test_mask]\n",
    "\n",
    "#         if first_row == True:\n",
    "#             train = train_set\n",
    "#             test = test_set\n",
    "#             first_row = False\n",
    "#         else:\n",
    "#             train = pd.concat([train, train_set], axis=0, sort=False)\n",
    "#             test = pd.concat([test, test_set], axis=0, sort=False)\n",
    "#     return train, test\n",
    "\n",
    "# train_set, test_set = custom_train_test_split(train_df)"
   ]
  },
  {
   "cell_type": "code",
   "execution_count": 111,
   "metadata": {
    "tags": []
   },
   "outputs": [],
   "source": [
    "train_set, test_set = train_test_split(train_df, test_size=0.2, random_state=42)"
   ]
  },
  {
   "cell_type": "code",
   "execution_count": 119,
   "metadata": {},
   "outputs": [
    {
     "data": {
      "text/plain": [
       "Index(['user', 'item', 'rating', 'year', 'genre_embedding'], dtype='object')"
      ]
     },
     "execution_count": 119,
     "metadata": {},
     "output_type": "execute_result"
    }
   ],
   "source": [
    "train_set.columns"
   ]
  },
  {
   "cell_type": "code",
   "execution_count": 124,
   "metadata": {},
   "outputs": [],
   "source": [
    "# X, y 값 분리\n",
    "FEATS = ['user', 'item', 'year', 'genre_embedding']\n",
    "\n",
    "y_train = train_set['rating']\n",
    "train = train_set.drop(['rating'], axis=1)\n",
    "\n",
    "y_test = test_set['rating']\n",
    "test = test_set.drop(['rating'], axis=1)"
   ]
  },
  {
   "cell_type": "code",
   "execution_count": 121,
   "metadata": {
    "ExecuteTime": {
     "end_time": "2022-11-17T06:06:04.281234Z",
     "start_time": "2022-11-17T06:06:04.265620Z"
    }
   },
   "outputs": [
    {
     "data": {
      "text/plain": [
       "((8056555, 4), (2014139, 4))"
      ]
     },
     "execution_count": 121,
     "metadata": {},
     "output_type": "execute_result"
    }
   ],
   "source": [
    "train.shape, test.shape"
   ]
  },
  {
   "cell_type": "code",
   "execution_count": 117,
   "metadata": {},
   "outputs": [],
   "source": [
    "# !python -m pip install lightgbm"
   ]
  },
  {
   "cell_type": "code",
   "execution_count": 125,
   "metadata": {
    "ExecuteTime": {
     "end_time": "2022-11-17T06:06:06.806072Z",
     "start_time": "2022-11-17T06:06:06.781239Z"
    },
    "id": "o59GhDdVhfQ1"
   },
   "outputs": [],
   "source": [
    "lgb_train = lgb.Dataset(train[FEATS], y_train)\n",
    "lgb_test = lgb.Dataset(test[FEATS], y_test)"
   ]
  },
  {
   "cell_type": "markdown",
   "metadata": {
    "id": "KiHss_BBhfQ2"
   },
   "source": [
    "## 5. 훈련 및 검증"
   ]
  },
  {
   "cell_type": "code",
   "execution_count": 130,
   "metadata": {
    "ExecuteTime": {
     "end_time": "2022-11-16T14:32:15.011774Z",
     "start_time": "2022-11-16T14:32:04.894300Z"
    },
    "id": "-6FZfjA_hfQ2"
   },
   "outputs": [
    {
     "name": "stderr",
     "output_type": "stream",
     "text": [
      "/opt/conda/lib/python3.8/site-packages/lightgbm/engine.py:181: UserWarning: 'early_stopping_rounds' argument is deprecated and will be removed in a future release of LightGBM. Pass 'early_stopping()' callback via 'callbacks' argument instead.\n",
      "  _log_warning(\"'early_stopping_rounds' argument is deprecated and will be removed in a future release of LightGBM. \"\n",
      "/opt/conda/lib/python3.8/site-packages/lightgbm/engine.py:239: UserWarning: 'verbose_eval' argument is deprecated and will be removed in a future release of LightGBM. Pass 'log_evaluation()' callback via 'callbacks' argument instead.\n",
      "  _log_warning(\"'verbose_eval' argument is deprecated and will be removed in a future release of LightGBM. \"\n"
     ]
    },
    {
     "name": "stdout",
     "output_type": "stream",
     "text": [
      "[LightGBM] [Info] Number of positive: 4123632, number of negative: 3932923\n",
      "[LightGBM] [Warning] Auto-choosing row-wise multi-threading, the overhead of testing was 0.028919 seconds.\n",
      "You can set `force_row_wise=true` to remove the overhead.\n",
      "And if memory is not enough, you can set `force_col_wise=true`.\n",
      "[LightGBM] [Info] Total Bins 844\n",
      "[LightGBM] [Info] Number of data points in the train set: 8056555, number of used features: 4\n",
      "[LightGBM] [Info] [binary:BoostFromScore]: pavg=0.511836 -> initscore=0.047351\n",
      "[LightGBM] [Info] Start training from score 0.047351\n",
      "Training until validation scores don't improve for 100 rounds\n",
      "[100]\tvalid_0's binary_logloss: 0.538235\n",
      "[200]\tvalid_0's binary_logloss: 0.508717\n",
      "[300]\tvalid_0's binary_logloss: 0.490801\n",
      "[400]\tvalid_0's binary_logloss: 0.478499\n",
      "[500]\tvalid_0's binary_logloss: 0.470085\n",
      "Did not meet early stopping. Best iteration is:\n",
      "[500]\tvalid_0's binary_logloss: 0.470085\n",
      "RMSE : 0.15249595525126708\n",
      "\n"
     ]
    }
   ],
   "source": [
    "model = lgb.train(\n",
    "    {'objective': 'binary'}, \n",
    "    lgb_train,\n",
    "    valid_sets=[lgb_test],\n",
    "    verbose_eval=100,\n",
    "    num_boost_round=500,\n",
    "    early_stopping_rounds=100\n",
    ")\n",
    "\n",
    "preds = model.predict(test[FEATS])\n",
    "rmse = mean_squared_error(y_test, preds)\n",
    "\n",
    "print(f'RMSE : {rmse}\\n')"
   ]
  },
  {
   "cell_type": "code",
   "execution_count": 131,
   "metadata": {
    "ExecuteTime": {
     "end_time": "2022-11-16T14:32:25.767046Z",
     "start_time": "2022-11-16T14:32:25.331822Z"
    },
    "id": "CKRjM0rxhfQ2"
   },
   "outputs": [
    {
     "data": {
      "image/png": "[encoded data removed]",
      "text/plain": [
       "<Figure size 432x288 with 1 Axes>"
      ]
     },
     "metadata": {
      "needs_background": "light"
     },
     "output_type": "display_data"
    }
   ],
   "source": [
    "# INSTALL MATPLOTLIB IN ADVANCE\n",
    "_ = lgb.plot_importance(model)"
   ]
  },
  {
   "cell_type": "markdown",
   "metadata": {
    "id": "8Bsff1ZVhfQ3"
   },
   "source": [
    "## 6. Inference"
   ]
  },
  {
   "cell_type": "code",
   "execution_count": 156,
   "metadata": {},
   "outputs": [],
   "source": [
    "tmp = pd.read_csv('/opt/ml/input/data/eval/sample_submission.csv')\n",
    "lst = list(tmp['user'].values)\n",
    "user_list = []\n",
    "\n",
    "for x in tqdm(lst):\n",
    "    if x not in user_list:\n",
    "        user_list.append(x)"
   ]
  },
  {
   "cell_type": "code",
   "execution_count": 181,
   "metadata": {
    "collapsed": true,
    "jupyter": {
     "outputs_hidden": true
    },
    "tags": []
   },
   "outputs": [
    {
     "data": {
      "text/html": [
       "<div>\n",
       "<style scoped>\n",
       "    .dataframe tbody tr th:only-of-type {\n",
       "        vertical-align: middle;\n",
       "    }\n",
       "\n",
       "    .dataframe tbody tr th {\n",
       "        vertical-align: top;\n",
       "    }\n",
       "\n",
       "    .dataframe thead th {\n",
       "        text-align: right;\n",
       "    }\n",
       "</style>\n",
       "<table border=\"1\" class=\"dataframe\">\n",
       "  <thead>\n",
       "    <tr style=\"text-align: right;\">\n",
       "      <th></th>\n",
       "      <th>user</th>\n",
       "      <th>item</th>\n",
       "      <th>year</th>\n",
       "      <th>genre_embedding</th>\n",
       "    </tr>\n",
       "  </thead>\n",
       "  <tbody>\n",
       "    <tr>\n",
       "      <th>319</th>\n",
       "      <td>14</td>\n",
       "      <td>52435</td>\n",
       "      <td>1966.0</td>\n",
       "      <td>-0.010442</td>\n",
       "    </tr>\n",
       "    <tr>\n",
       "      <th>322</th>\n",
       "      <td>14</td>\n",
       "      <td>33004</td>\n",
       "      <td>2005.0</td>\n",
       "      <td>-0.010269</td>\n",
       "    </tr>\n",
       "    <tr>\n",
       "      <th>332</th>\n",
       "      <td>14</td>\n",
       "      <td>33615</td>\n",
       "      <td>2005.0</td>\n",
       "      <td>-0.010369</td>\n",
       "    </tr>\n",
       "    <tr>\n",
       "      <th>334</th>\n",
       "      <td>14</td>\n",
       "      <td>59784</td>\n",
       "      <td>2008.0</td>\n",
       "      <td>-0.010392</td>\n",
       "    </tr>\n",
       "    <tr>\n",
       "      <th>336</th>\n",
       "      <td>14</td>\n",
       "      <td>32031</td>\n",
       "      <td>2005.0</td>\n",
       "      <td>-0.010401</td>\n",
       "    </tr>\n",
       "    <tr>\n",
       "      <th>347</th>\n",
       "      <td>14</td>\n",
       "      <td>56152</td>\n",
       "      <td>2007.0</td>\n",
       "      <td>-0.010486</td>\n",
       "    </tr>\n",
       "    <tr>\n",
       "      <th>356</th>\n",
       "      <td>14</td>\n",
       "      <td>68954</td>\n",
       "      <td>2009.0</td>\n",
       "      <td>-0.010482</td>\n",
       "    </tr>\n",
       "    <tr>\n",
       "      <th>358</th>\n",
       "      <td>14</td>\n",
       "      <td>30793</td>\n",
       "      <td>2005.0</td>\n",
       "      <td>-0.010387</td>\n",
       "    </tr>\n",
       "    <tr>\n",
       "      <th>368</th>\n",
       "      <td>14</td>\n",
       "      <td>53322</td>\n",
       "      <td>2007.0</td>\n",
       "      <td>-0.010271</td>\n",
       "    </tr>\n",
       "    <tr>\n",
       "      <th>375</th>\n",
       "      <td>14</td>\n",
       "      <td>31193</td>\n",
       "      <td>1977.0</td>\n",
       "      <td>-0.010688</td>\n",
       "    </tr>\n",
       "    <tr>\n",
       "      <th>376</th>\n",
       "      <td>14</td>\n",
       "      <td>34072</td>\n",
       "      <td>2005.0</td>\n",
       "      <td>-0.011301</td>\n",
       "    </tr>\n",
       "    <tr>\n",
       "      <th>400</th>\n",
       "      <td>14</td>\n",
       "      <td>47099</td>\n",
       "      <td>2006.0</td>\n",
       "      <td>-0.010508</td>\n",
       "    </tr>\n",
       "    <tr>\n",
       "      <th>401</th>\n",
       "      <td>14</td>\n",
       "      <td>59501</td>\n",
       "      <td>2008.0</td>\n",
       "      <td>-0.010498</td>\n",
       "    </tr>\n",
       "    <tr>\n",
       "      <th>405</th>\n",
       "      <td>14</td>\n",
       "      <td>33660</td>\n",
       "      <td>2005.0</td>\n",
       "      <td>-0.010545</td>\n",
       "    </tr>\n",
       "    <tr>\n",
       "      <th>413</th>\n",
       "      <td>14</td>\n",
       "      <td>43396</td>\n",
       "      <td>2005.0</td>\n",
       "      <td>-0.010508</td>\n",
       "    </tr>\n",
       "    <tr>\n",
       "      <th>431</th>\n",
       "      <td>14</td>\n",
       "      <td>42734</td>\n",
       "      <td>2005.0</td>\n",
       "      <td>-0.010404</td>\n",
       "    </tr>\n",
       "    <tr>\n",
       "      <th>436</th>\n",
       "      <td>14</td>\n",
       "      <td>49274</td>\n",
       "      <td>2006.0</td>\n",
       "      <td>-0.010369</td>\n",
       "    </tr>\n",
       "    <tr>\n",
       "      <th>438</th>\n",
       "      <td>14</td>\n",
       "      <td>50601</td>\n",
       "      <td>2007.0</td>\n",
       "      <td>-0.010498</td>\n",
       "    </tr>\n",
       "    <tr>\n",
       "      <th>440</th>\n",
       "      <td>14</td>\n",
       "      <td>31685</td>\n",
       "      <td>2005.0</td>\n",
       "      <td>-0.010319</td>\n",
       "    </tr>\n",
       "    <tr>\n",
       "      <th>442</th>\n",
       "      <td>14</td>\n",
       "      <td>42730</td>\n",
       "      <td>2006.0</td>\n",
       "      <td>-0.010508</td>\n",
       "    </tr>\n",
       "    <tr>\n",
       "      <th>443</th>\n",
       "      <td>14</td>\n",
       "      <td>46948</td>\n",
       "      <td>2006.0</td>\n",
       "      <td>-0.010436</td>\n",
       "    </tr>\n",
       "    <tr>\n",
       "      <th>452</th>\n",
       "      <td>14</td>\n",
       "      <td>33493</td>\n",
       "      <td>2005.0</td>\n",
       "      <td>-0.010369</td>\n",
       "    </tr>\n",
       "    <tr>\n",
       "      <th>454</th>\n",
       "      <td>14</td>\n",
       "      <td>33794</td>\n",
       "      <td>2005.0</td>\n",
       "      <td>-0.010260</td>\n",
       "    </tr>\n",
       "    <tr>\n",
       "      <th>459</th>\n",
       "      <td>14</td>\n",
       "      <td>58299</td>\n",
       "      <td>2008.0</td>\n",
       "      <td>-0.010369</td>\n",
       "    </tr>\n",
       "    <tr>\n",
       "      <th>460</th>\n",
       "      <td>14</td>\n",
       "      <td>34405</td>\n",
       "      <td>2005.0</td>\n",
       "      <td>-0.010369</td>\n",
       "    </tr>\n",
       "    <tr>\n",
       "      <th>468</th>\n",
       "      <td>14</td>\n",
       "      <td>40819</td>\n",
       "      <td>2005.0</td>\n",
       "      <td>-0.010666</td>\n",
       "    </tr>\n",
       "    <tr>\n",
       "      <th>479</th>\n",
       "      <td>14</td>\n",
       "      <td>40815</td>\n",
       "      <td>2005.0</td>\n",
       "      <td>-0.010360</td>\n",
       "    </tr>\n",
       "    <tr>\n",
       "      <th>481</th>\n",
       "      <td>14</td>\n",
       "      <td>47644</td>\n",
       "      <td>2006.0</td>\n",
       "      <td>-0.010508</td>\n",
       "    </tr>\n",
       "    <tr>\n",
       "      <th>491</th>\n",
       "      <td>14</td>\n",
       "      <td>46972</td>\n",
       "      <td>2006.0</td>\n",
       "      <td>-0.010283</td>\n",
       "    </tr>\n",
       "    <tr>\n",
       "      <th>501</th>\n",
       "      <td>14</td>\n",
       "      <td>48780</td>\n",
       "      <td>2006.0</td>\n",
       "      <td>-0.010381</td>\n",
       "    </tr>\n",
       "    <tr>\n",
       "      <th>502</th>\n",
       "      <td>14</td>\n",
       "      <td>43560</td>\n",
       "      <td>2005.0</td>\n",
       "      <td>-0.010429</td>\n",
       "    </tr>\n",
       "    <tr>\n",
       "      <th>513</th>\n",
       "      <td>14</td>\n",
       "      <td>34332</td>\n",
       "      <td>2005.0</td>\n",
       "      <td>-0.010365</td>\n",
       "    </tr>\n",
       "    <tr>\n",
       "      <th>514</th>\n",
       "      <td>14</td>\n",
       "      <td>55820</td>\n",
       "      <td>2007.0</td>\n",
       "      <td>-0.010337</td>\n",
       "    </tr>\n",
       "    <tr>\n",
       "      <th>519</th>\n",
       "      <td>14</td>\n",
       "      <td>26528</td>\n",
       "      <td>1985.0</td>\n",
       "      <td>-0.010649</td>\n",
       "    </tr>\n",
       "    <tr>\n",
       "      <th>520</th>\n",
       "      <td>14</td>\n",
       "      <td>37741</td>\n",
       "      <td>2005.0</td>\n",
       "      <td>-0.010337</td>\n",
       "    </tr>\n",
       "    <tr>\n",
       "      <th>525</th>\n",
       "      <td>14</td>\n",
       "      <td>32598</td>\n",
       "      <td>2005.0</td>\n",
       "      <td>-0.010319</td>\n",
       "    </tr>\n",
       "    <tr>\n",
       "      <th>533</th>\n",
       "      <td>14</td>\n",
       "      <td>78499</td>\n",
       "      <td>2010.0</td>\n",
       "      <td>-0.010383</td>\n",
       "    </tr>\n",
       "    <tr>\n",
       "      <th>534</th>\n",
       "      <td>14</td>\n",
       "      <td>30816</td>\n",
       "      <td>2004.0</td>\n",
       "      <td>-0.010666</td>\n",
       "    </tr>\n",
       "    <tr>\n",
       "      <th>539</th>\n",
       "      <td>14</td>\n",
       "      <td>56367</td>\n",
       "      <td>2007.0</td>\n",
       "      <td>-0.010382</td>\n",
       "    </tr>\n",
       "    <tr>\n",
       "      <th>547</th>\n",
       "      <td>14</td>\n",
       "      <td>37729</td>\n",
       "      <td>2005.0</td>\n",
       "      <td>-0.010470</td>\n",
       "    </tr>\n",
       "    <tr>\n",
       "      <th>561</th>\n",
       "      <td>14</td>\n",
       "      <td>49910</td>\n",
       "      <td>2007.0</td>\n",
       "      <td>-0.010508</td>\n",
       "    </tr>\n",
       "    <tr>\n",
       "      <th>571</th>\n",
       "      <td>14</td>\n",
       "      <td>51084</td>\n",
       "      <td>2007.0</td>\n",
       "      <td>-0.010319</td>\n",
       "    </tr>\n",
       "    <tr>\n",
       "      <th>574</th>\n",
       "      <td>14</td>\n",
       "      <td>58347</td>\n",
       "      <td>2006.0</td>\n",
       "      <td>-0.010359</td>\n",
       "    </tr>\n",
       "    <tr>\n",
       "      <th>583</th>\n",
       "      <td>14</td>\n",
       "      <td>54259</td>\n",
       "      <td>2007.0</td>\n",
       "      <td>-0.010335</td>\n",
       "    </tr>\n",
       "    <tr>\n",
       "      <th>585</th>\n",
       "      <td>14</td>\n",
       "      <td>55765</td>\n",
       "      <td>2007.0</td>\n",
       "      <td>-0.010350</td>\n",
       "    </tr>\n",
       "    <tr>\n",
       "      <th>588</th>\n",
       "      <td>14</td>\n",
       "      <td>27808</td>\n",
       "      <td>2004.0</td>\n",
       "      <td>-0.010382</td>\n",
       "    </tr>\n",
       "  </tbody>\n",
       "</table>\n",
       "</div>"
      ],
      "text/plain": [
       "     user   item    year  genre_embedding\n",
       "319    14  52435  1966.0        -0.010442\n",
       "322    14  33004  2005.0        -0.010269\n",
       "332    14  33615  2005.0        -0.010369\n",
       "334    14  59784  2008.0        -0.010392\n",
       "336    14  32031  2005.0        -0.010401\n",
       "347    14  56152  2007.0        -0.010486\n",
       "356    14  68954  2009.0        -0.010482\n",
       "358    14  30793  2005.0        -0.010387\n",
       "368    14  53322  2007.0        -0.010271\n",
       "375    14  31193  1977.0        -0.010688\n",
       "376    14  34072  2005.0        -0.011301\n",
       "400    14  47099  2006.0        -0.010508\n",
       "401    14  59501  2008.0        -0.010498\n",
       "405    14  33660  2005.0        -0.010545\n",
       "413    14  43396  2005.0        -0.010508\n",
       "431    14  42734  2005.0        -0.010404\n",
       "436    14  49274  2006.0        -0.010369\n",
       "438    14  50601  2007.0        -0.010498\n",
       "440    14  31685  2005.0        -0.010319\n",
       "442    14  42730  2006.0        -0.010508\n",
       "443    14  46948  2006.0        -0.010436\n",
       "452    14  33493  2005.0        -0.010369\n",
       "454    14  33794  2005.0        -0.010260\n",
       "459    14  58299  2008.0        -0.010369\n",
       "460    14  34405  2005.0        -0.010369\n",
       "468    14  40819  2005.0        -0.010666\n",
       "479    14  40815  2005.0        -0.010360\n",
       "481    14  47644  2006.0        -0.010508\n",
       "491    14  46972  2006.0        -0.010283\n",
       "501    14  48780  2006.0        -0.010381\n",
       "502    14  43560  2005.0        -0.010429\n",
       "513    14  34332  2005.0        -0.010365\n",
       "514    14  55820  2007.0        -0.010337\n",
       "519    14  26528  1985.0        -0.010649\n",
       "520    14  37741  2005.0        -0.010337\n",
       "525    14  32598  2005.0        -0.010319\n",
       "533    14  78499  2010.0        -0.010383\n",
       "534    14  30816  2004.0        -0.010666\n",
       "539    14  56367  2007.0        -0.010382\n",
       "547    14  37729  2005.0        -0.010470\n",
       "561    14  49910  2007.0        -0.010508\n",
       "571    14  51084  2007.0        -0.010319\n",
       "574    14  58347  2006.0        -0.010359\n",
       "583    14  54259  2007.0        -0.010335\n",
       "585    14  55765  2007.0        -0.010350\n",
       "588    14  27808  2004.0        -0.010382"
      ]
     },
     "execution_count": 181,
     "metadata": {},
     "output_type": "execute_result"
    }
   ],
   "source": [
    "test_df.loc[(test_df['user'] == 14) & (test_df['item'] > 10000)]"
   ]
  },
  {
   "cell_type": "code",
   "execution_count": 183,
   "metadata": {},
   "outputs": [
    {
     "data": {
      "text/html": [
       "<div>\n",
       "<style scoped>\n",
       "    .dataframe tbody tr th:only-of-type {\n",
       "        vertical-align: middle;\n",
       "    }\n",
       "\n",
       "    .dataframe tbody tr th {\n",
       "        vertical-align: top;\n",
       "    }\n",
       "\n",
       "    .dataframe thead th {\n",
       "        text-align: right;\n",
       "    }\n",
       "</style>\n",
       "<table border=\"1\" class=\"dataframe\">\n",
       "  <thead>\n",
       "    <tr style=\"text-align: right;\">\n",
       "      <th></th>\n",
       "      <th>user</th>\n",
       "      <th>item</th>\n",
       "    </tr>\n",
       "  </thead>\n",
       "  <tbody>\n",
       "    <tr>\n",
       "      <th>23411</th>\n",
       "      <td>359</td>\n",
       "      <td>32587</td>\n",
       "    </tr>\n",
       "    <tr>\n",
       "      <th>50714</th>\n",
       "      <td>741</td>\n",
       "      <td>47610</td>\n",
       "    </tr>\n",
       "    <tr>\n",
       "      <th>94929</th>\n",
       "      <td>1376</td>\n",
       "      <td>32587</td>\n",
       "    </tr>\n",
       "    <tr>\n",
       "      <th>94845</th>\n",
       "      <td>1376</td>\n",
       "      <td>33794</td>\n",
       "    </tr>\n",
       "    <tr>\n",
       "      <th>119707</th>\n",
       "      <td>1741</td>\n",
       "      <td>33794</td>\n",
       "    </tr>\n",
       "    <tr>\n",
       "      <th>...</th>\n",
       "      <td>...</td>\n",
       "      <td>...</td>\n",
       "    </tr>\n",
       "    <tr>\n",
       "      <th>9355541</th>\n",
       "      <td>137791</td>\n",
       "      <td>48516</td>\n",
       "    </tr>\n",
       "    <tr>\n",
       "      <th>9397005</th>\n",
       "      <td>138325</td>\n",
       "      <td>47610</td>\n",
       "    </tr>\n",
       "    <tr>\n",
       "      <th>9400618</th>\n",
       "      <td>138406</td>\n",
       "      <td>32587</td>\n",
       "    </tr>\n",
       "    <tr>\n",
       "      <th>9400515</th>\n",
       "      <td>138406</td>\n",
       "      <td>48516</td>\n",
       "    </tr>\n",
       "    <tr>\n",
       "      <th>9403231</th>\n",
       "      <td>138437</td>\n",
       "      <td>49272</td>\n",
       "    </tr>\n",
       "  </tbody>\n",
       "</table>\n",
       "<p>866 rows × 2 columns</p>\n",
       "</div>"
      ],
      "text/plain": [
       "           user   item\n",
       "23411       359  32587\n",
       "50714       741  47610\n",
       "94929      1376  32587\n",
       "94845      1376  33794\n",
       "119707     1741  33794\n",
       "...         ...    ...\n",
       "9355541  137791  48516\n",
       "9397005  138325  47610\n",
       "9400618  138406  32587\n",
       "9400515  138406  48516\n",
       "9403231  138437  49272\n",
       "\n",
       "[866 rows x 2 columns]"
      ]
     },
     "execution_count": 183,
     "metadata": {},
     "output_type": "execute_result"
    }
   ],
   "source": [
    "sub.loc[(sub['item'] > 10000)]"
   ]
  },
  {
   "cell_type": "code",
   "execution_count": 174,
   "metadata": {
    "tags": []
   },
   "outputs": [],
   "source": [
    "#user_list"
   ]
  },
  {
   "cell_type": "code",
   "execution_count": 185,
   "metadata": {},
   "outputs": [
    {
     "name": "stderr",
     "output_type": "stream",
     "text": [
      "100%|██████████| 31360/31360 [11:43<00:00, 44.59it/s]\n"
     ]
    },
    {
     "name": "stdout",
     "output_type": "stream",
     "text": [
      "dataframe으로 만드는 중\n",
      "csv 파일로 내보내는 중\n",
      "csv 파일로 내보내기 완료!\n"
     ]
    }
   ],
   "source": [
    "first_row = True\n",
    "\n",
    "for user in tqdm(user_list):\n",
    "    user_df = inference_df[inference_df['user']==user]\n",
    "    \n",
    "    y = model.predict(user_df[FEATS])\n",
    "    y = torch.from_numpy(y)\n",
    "    _, indices = torch.topk(y, 10)\n",
    "    \n",
    "    user_rec = user_df.iloc[indices,:]\n",
    "    \n",
    "    if first_row == True:\n",
    "        result = user_rec\n",
    "        first_row = False\n",
    "    else:\n",
    "        result = pd.concat([result, user_rec], axis=0, sort=False)\n",
    "\n",
    "print(\"dataframe으로 만드는 중\")\n",
    "sub = pd.DataFrame(result, columns=[\"user\",\"item\"])\n",
    "print(\"csv 파일로 내보내는 중\")\n",
    "sub.to_csv(\"EASE_LGBM.csv\", index=False)\n",
    "print(\"csv 파일로 내보내기 완료!\")"
   ]
  },
  {
   "cell_type": "code",
   "execution_count": 212,
   "metadata": {},
   "outputs": [
    {
     "name": "stdout",
     "output_type": "stream",
     "text": [
      "EASE 결과 item 중 item번호가 10000 미만 item 개수: 7038430\n",
      "\n",
      "EASE 결과 item 중 item번호가 10000 이상 item 개수: 2369570\n",
      "\n",
      "LGBM 결과 item 중 item번호가 10000 미만 item 개수: 312734\n",
      "\n",
      "LGBM 결과 item 중 item번호가 10000 이상 item 개수: 866\n",
      "\n",
      "비율이 좀 이상한 것 같다..\n"
     ]
    }
   ],
   "source": [
    "print(f\"EASE 결과 item 중 item번호가 10000 미만 item 개수: {len(inference_df.loc[(inference_df['item'] < 10000)])}\\n\")\n",
    "print(f\"EASE 결과 item 중 item번호가 10000 이상 item 개수: {len(inference_df.loc[(inference_df['item'] >= 10000)])}\\n\")\n",
    "print(f\"LGBM 결과 item 중 item번호가 10000 미만 item 개수: {len(sub.loc[(sub['item'] < 10000)])}\\n\")\n",
    "print(f\"LGBM 결과 item 중 item번호가 10000 이상 item 개수: {len(sub.loc[(sub['item'] >= 10000)])}\\n\")\n",
    "print(\"비율이 좀 이상한 것 같다..\")"
   ]
  },
  {
   "cell_type": "code",
   "execution_count": 230,
   "metadata": {},
   "outputs": [],
   "source": [
    "# 대신 예측한 아이템 300개 내에선 10개 추출은 잘 되는 것 같다.\n",
    "inf_res = set(inference_df.loc[(inference_df['user'] == 11)]['item'].values)"
   ]
  },
  {
   "cell_type": "code",
   "execution_count": 231,
   "metadata": {},
   "outputs": [],
   "source": [
    "sub_res = set(sub.loc[(sub['user'] == 11)]['item'].values)"
   ]
  },
  {
   "cell_type": "code",
   "execution_count": 232,
   "metadata": {},
   "outputs": [
    {
     "data": {
      "text/plain": [
       "set()"
      ]
     },
     "execution_count": 232,
     "metadata": {},
     "output_type": "execute_result"
    }
   ],
   "source": [
    "sub_res - inf_res"
   ]
  },
  {
   "cell_type": "code",
   "execution_count": null,
   "metadata": {},
   "outputs": [],
   "source": []
  },
  {
   "cell_type": "code",
   "execution_count": null,
   "metadata": {},
   "outputs": [],
   "source": []
  }
 ],
 "metadata": {
  "colab": {
   "collapsed_sections": [],
   "provenance": []
  },
  "kernelspec": {
   "display_name": "Python 3 (ipykernel)",
   "language": "python",
   "name": "python3"
  },
  "language_info": {
   "codemirror_mode": {
    "name": "ipython",
    "version": 3
   },
   "file_extension": ".py",
   "mimetype": "text/x-python",
   "name": "python",
   "nbconvert_exporter": "python",
   "pygments_lexer": "ipython3",
   "version": "3.8.5"
  },
  "toc": {
   "base_numbering": 1,
   "nav_menu": {},
   "number_sections": false,
   "sideBar": true,
   "skip_h1_title": false,
   "title_cell": "Table of Contents",
   "title_sidebar": "Contents",
   "toc_cell": false,
   "toc_position": {},
   "toc_section_display": true,
   "toc_window_display": true
  }
 },
 "nbformat": 4,
 "nbformat_minor": 4
}

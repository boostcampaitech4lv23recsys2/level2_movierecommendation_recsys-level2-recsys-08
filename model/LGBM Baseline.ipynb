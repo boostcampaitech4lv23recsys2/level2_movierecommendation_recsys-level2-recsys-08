{
 "cells": [
  {
   "cell_type": "markdown",
   "metadata": {
    "id": "yt7sDAqHhfQp"
   },
   "source": [
    "# LGBM을 활용한 베이스라인"
   ]
  },
  {
   "cell_type": "code",
   "execution_count": 2,
   "metadata": {
    "ExecuteTime": {
     "end_time": "2022-11-18T13:38:15.702936Z",
     "start_time": "2022-11-18T13:38:15.431102Z"
    }
   },
   "outputs": [],
   "source": [
    "from IPython.core.interactiveshell import InteractiveShell\n",
    "InteractiveShell.ast_node_interactivity = 'all'\n",
    "\n",
    "import pandas as pd\n",
    "import numpy as np\n",
    "import os\n",
    "import random\n",
    "from tqdm import tqdm\n",
    "import torch\n",
    "from sklearn.model_selection import train_test_split\n",
    "\n",
    "import lightgbm as lgb\n",
    "# from sklearn.metrics import roc_auc_score\n",
    "# from sklearn.metrics import accuracy_score\n",
    "from sklearn.metrics import mean_squared_error"
   ]
  },
  {
   "cell_type": "markdown",
   "metadata": {
    "id": "QZlm5HSmhfQv"
   },
   "source": [
    "## 1. 데이터 로딩"
   ]
  },
  {
   "cell_type": "code",
   "execution_count": 137,
   "metadata": {
    "ExecuteTime": {
     "end_time": "2022-11-18T13:38:18.365525Z",
     "start_time": "2022-11-18T13:38:15.931173Z"
    },
    "id": "s6qgJ8MLhfQw"
   },
   "outputs": [],
   "source": [
    "main_df = pd.read_csv(\"/opt/ml/input/data/train/train_ratings.csv\")"
   ]
  },
  {
   "cell_type": "markdown",
   "metadata": {},
   "source": [
    "## 2. 데이터셋 만들기"
   ]
  },
  {
   "cell_type": "code",
   "execution_count": null,
   "metadata": {
    "tags": []
   },
   "outputs": [],
   "source": [
    "# set(list(main_df.groupby('user')['item'])[0][1]) #11번 유저가 본 아이템들"
   ]
  },
  {
   "cell_type": "code",
   "execution_count": 138,
   "metadata": {},
   "outputs": [],
   "source": [
    "main_df['rating'] = 1\n",
    "main_df = main_df.drop(columns='time', axis=1)"
   ]
  },
  {
   "cell_type": "code",
   "execution_count": 151,
   "metadata": {},
   "outputs": [
    {
     "data": {
      "text/html": [
       "<div>\n",
       "<style scoped>\n",
       "    .dataframe tbody tr th:only-of-type {\n",
       "        vertical-align: middle;\n",
       "    }\n",
       "\n",
       "    .dataframe tbody tr th {\n",
       "        vertical-align: top;\n",
       "    }\n",
       "\n",
       "    .dataframe thead th {\n",
       "        text-align: right;\n",
       "    }\n",
       "</style>\n",
       "<table border=\"1\" class=\"dataframe\">\n",
       "  <thead>\n",
       "    <tr style=\"text-align: right;\">\n",
       "      <th></th>\n",
       "      <th>user</th>\n",
       "      <th>item</th>\n",
       "      <th>rating</th>\n",
       "    </tr>\n",
       "  </thead>\n",
       "  <tbody>\n",
       "    <tr>\n",
       "      <th>0</th>\n",
       "      <td>11</td>\n",
       "      <td>4643</td>\n",
       "      <td>1</td>\n",
       "    </tr>\n",
       "    <tr>\n",
       "      <th>1</th>\n",
       "      <td>11</td>\n",
       "      <td>170</td>\n",
       "      <td>1</td>\n",
       "    </tr>\n",
       "    <tr>\n",
       "      <th>2</th>\n",
       "      <td>11</td>\n",
       "      <td>531</td>\n",
       "      <td>1</td>\n",
       "    </tr>\n",
       "  </tbody>\n",
       "</table>\n",
       "</div>"
      ],
      "text/plain": [
       "   user  item  rating\n",
       "0    11  4643       1\n",
       "1    11   170       1\n",
       "2    11   531       1"
      ]
     },
     "execution_count": 151,
     "metadata": {},
     "output_type": "execute_result"
    }
   ],
   "source": [
    "main_df.head(3)"
   ]
  },
  {
   "cell_type": "code",
   "execution_count": 152,
   "metadata": {},
   "outputs": [
    {
     "name": "stdout",
     "output_type": "stream",
     "text": [
      "Create Nagetive instances\n"
     ]
    },
    {
     "name": "stderr",
     "output_type": "stream",
     "text": [
      "100%|██████████| 31360/31360 [16:34<00:00, 31.52it/s]\n"
     ]
    },
    {
     "data": {
      "text/plain": [
       "user      0\n",
       "item      0\n",
       "rating    0\n",
       "dtype: int64"
      ]
     },
     "execution_count": 152,
     "metadata": {},
     "output_type": "execute_result"
    }
   ],
   "source": [
    "# 3. Negative instance 생성 : 각 유저별 true:false = 5:5, 20분정도 소요\n",
    "print(\"Create Nagetive instances\")\n",
    "# num_negative = 50\n",
    "user_group_dfs = list(main_df.groupby('user')['item'])\n",
    "\n",
    "first_row = True\n",
    "items = set(main_df.loc[:, 'item'])\n",
    "\n",
    "for u, u_items in tqdm(user_group_dfs):\n",
    "    u_items = set(u_items)                 #해당 유저가 본 아이템\n",
    "    i_user_neg_item = np.random.choice(list(items - u_items), len(u_items), replace=False)\n",
    "    \n",
    "    i_user_neg_df = pd.DataFrame({'user': [u]*len(u_items), 'item': i_user_neg_item, 'rating': [0]*len(u_items)})\n",
    "    if first_row == True:\n",
    "        user_neg_dfs = i_user_neg_df\n",
    "        first_row = False\n",
    "    else:\n",
    "        user_neg_dfs = pd.concat([user_neg_dfs, i_user_neg_df], axis = 0, sort=False)\n",
    "\n",
    "result = pd.concat([main_df, user_neg_dfs], axis = 0, sort=False)\n",
    "result.to_csv(\"user_direct_neg_sampling.csv\", index=False)\n",
    "result.isna().sum()"
   ]
  },
  {
   "cell_type": "code",
   "execution_count": 153,
   "metadata": {},
   "outputs": [],
   "source": [
    "neg_train_result = result"
   ]
  },
  {
   "cell_type": "code",
   "execution_count": 165,
   "metadata": {},
   "outputs": [
    {
     "data": {
      "text/plain": [
       "(10308942, 3)"
      ]
     },
     "execution_count": 165,
     "metadata": {},
     "output_type": "execute_result"
    }
   ],
   "source": [
    "neg_train_result.shape"
   ]
  },
  {
   "cell_type": "code",
   "execution_count": 148,
   "metadata": {},
   "outputs": [],
   "source": [
    "# # 만약 user_direct_neg_sampling.csv가 있다면 neg_sampling 과정 안해도 된다.\n",
    "# neg_train_result = pd.read_csv('/opt/ml/input/fighting/model/user_direct_neg_sampling.csv')"
   ]
  },
  {
   "cell_type": "code",
   "execution_count": 163,
   "metadata": {},
   "outputs": [],
   "source": [
    "ease_result = pd.read_csv('/opt/ml/input/fighting/Recbole/EASE_best.csv')"
   ]
  },
  {
   "cell_type": "code",
   "execution_count": 164,
   "metadata": {},
   "outputs": [
    {
     "data": {
      "text/plain": [
       "(1568000, 2)"
      ]
     },
     "execution_count": 164,
     "metadata": {},
     "output_type": "execute_result"
    }
   ],
   "source": [
    "ease_result.shape"
   ]
  },
  {
   "cell_type": "code",
   "execution_count": 166,
   "metadata": {
    "tags": []
   },
   "outputs": [],
   "source": [
    "# 차집합 구하기\n",
    "lgbm_train_df = pd.concat([neg_train_result, ease_result, ease_result]).drop_duplicates(subset=['user', 'item'], keep=False)\n"
   ]
  },
  {
   "cell_type": "code",
   "execution_count": 167,
   "metadata": {},
   "outputs": [
    {
     "data": {
      "text/plain": [
       "(10269161, 3)"
      ]
     },
     "execution_count": 167,
     "metadata": {},
     "output_type": "execute_result"
    }
   ],
   "source": [
    "lgbm_train_df.shape"
   ]
  },
  {
   "cell_type": "code",
   "execution_count": 169,
   "metadata": {},
   "outputs": [],
   "source": [
    "lgbm_train_df.to_csv(\"lgbm_train_df_50.csv\", index=False)"
   ]
  },
  {
   "cell_type": "code",
   "execution_count": 60,
   "metadata": {},
   "outputs": [],
   "source": [
    "# 10308942 - 10070694 = 약 23만 8천"
   ]
  },
  {
   "cell_type": "code",
   "execution_count": 170,
   "metadata": {},
   "outputs": [],
   "source": [
    "lgbm_inference_df = ease_result"
   ]
  },
  {
   "cell_type": "code",
   "execution_count": null,
   "metadata": {},
   "outputs": [],
   "source": []
  },
  {
   "cell_type": "markdown",
   "metadata": {},
   "source": [
    "## 3. Feature Engineering\n",
    "모듈화 한 피처들을 merge하면 된다."
   ]
  },
  {
   "cell_type": "code",
   "execution_count": 3,
   "metadata": {},
   "outputs": [],
   "source": [
    "# lgbm_train_df = pd.read_csv(\"/opt/ml/input/fighting/model/lgbm_train_df.csv\")\n",
    "# lgbm_inference_df = pd.read_csv(\"/opt/ml/input/fighting/Recbole/EASE_best.csv\")"
   ]
  },
  {
   "cell_type": "code",
   "execution_count": 4,
   "metadata": {},
   "outputs": [],
   "source": [
    "year_df = pd.read_csv(\"/opt/ml/input/fighting/FE/year/year_missingno.csv\")\n",
    "genre_df = pd.read_csv(\"/opt/ml/input/fighting/FE/genre/genre_bert_fe.csv\")\n",
    "director_inter_cnt = pd.read_csv(\"/opt/ml/input/fighting/FE/director/director_inter_cnt.csv\")\n",
    "writer_inter_cnt = pd.read_csv(\"/opt/ml/input/fighting/FE/writer/writer_inter_cnt.csv\")\n",
    "item_interaction = pd.read_csv(\"/opt/ml/input/fighting/FE/item/item_interaction_cnt.csv\")\n",
    "item_popular_dir_max_sum_cnt = pd.read_csv(\"/opt/ml/input/fighting/FE/director/item_popular_dir_max_sum_cnt.csv\")\n",
    "item_popular_wri_max_sum_cnt = pd.read_csv(\"/opt/ml/input/fighting/FE/writer/item_popular_wri_max_sum_cnt.csv\")\n",
    "user_seen_item_statistic = pd.read_csv(\"/opt/ml/input/fighting/FE/user/user_seen_item_statistic.csv\")"
   ]
  },
  {
   "cell_type": "code",
   "execution_count": 5,
   "metadata": {},
   "outputs": [],
   "source": [
    "train_df = lgbm_train_df.merge(year_df, how='left', on='item')\n",
    "train_df = train_df.merge(genre_df, how='left', on='item')\n",
    "train_df = train_df.merge(director_inter_cnt, how='left', on='item')\n",
    "train_df = train_df.merge(writer_inter_cnt, how='left', on='item')\n",
    "train_df = train_df.merge(item_interaction, how='left', on='item')\n",
    "train_df = train_df.merge(item_popular_dir_max_sum_cnt, how='left', on='item')\n",
    "train_df = train_df.merge(item_popular_wri_max_sum_cnt, how='left', on='item')\n",
    "train_df = train_df.merge(user_seen_item_statistic, how='left', on='user')"
   ]
  },
  {
   "cell_type": "code",
   "execution_count": 6,
   "metadata": {},
   "outputs": [
    {
     "data": {
      "text/plain": [
       "(10269161, 14)"
      ]
     },
     "execution_count": 6,
     "metadata": {},
     "output_type": "execute_result"
    }
   ],
   "source": [
    "train_df.shape"
   ]
  },
  {
   "cell_type": "code",
   "execution_count": 7,
   "metadata": {},
   "outputs": [
    {
     "data": {
      "text/html": [
       "<div>\n",
       "<style scoped>\n",
       "    .dataframe tbody tr th:only-of-type {\n",
       "        vertical-align: middle;\n",
       "    }\n",
       "\n",
       "    .dataframe tbody tr th {\n",
       "        vertical-align: top;\n",
       "    }\n",
       "\n",
       "    .dataframe thead th {\n",
       "        text-align: right;\n",
       "    }\n",
       "</style>\n",
       "<table border=\"1\" class=\"dataframe\">\n",
       "  <thead>\n",
       "    <tr style=\"text-align: right;\">\n",
       "      <th></th>\n",
       "      <th>user</th>\n",
       "      <th>item</th>\n",
       "      <th>rating</th>\n",
       "      <th>year</th>\n",
       "      <th>genre_embedding</th>\n",
       "      <th>director_info</th>\n",
       "      <th>writer_info</th>\n",
       "      <th>item_cnt</th>\n",
       "      <th>dir_max_cnt</th>\n",
       "      <th>dir_sum_cnt</th>\n",
       "      <th>wri_max_cnt</th>\n",
       "      <th>wri_sum_cnt</th>\n",
       "      <th>seen_item_inter_mean</th>\n",
       "      <th>seen_item_inter_std</th>\n",
       "    </tr>\n",
       "  </thead>\n",
       "  <tbody>\n",
       "    <tr>\n",
       "      <th>0</th>\n",
       "      <td>11</td>\n",
       "      <td>4643</td>\n",
       "      <td>1.0</td>\n",
       "      <td>2001.0</td>\n",
       "      <td>-0.010404</td>\n",
       "      <td>2859.444444</td>\n",
       "      <td>4146.333333</td>\n",
       "      <td>1122</td>\n",
       "      <td>7743</td>\n",
       "      <td>51470</td>\n",
       "      <td>8936</td>\n",
       "      <td>21339</td>\n",
       "      <td>3719.351064</td>\n",
       "      <td>4316.497874</td>\n",
       "    </tr>\n",
       "    <tr>\n",
       "      <th>1</th>\n",
       "      <td>11</td>\n",
       "      <td>170</td>\n",
       "      <td>1.0</td>\n",
       "      <td>1995.0</td>\n",
       "      <td>-0.010290</td>\n",
       "      <td>583.714286</td>\n",
       "      <td>269.562069</td>\n",
       "      <td>1107</td>\n",
       "      <td>2092</td>\n",
       "      <td>4086</td>\n",
       "      <td>1107</td>\n",
       "      <td>1107</td>\n",
       "      <td>3719.351064</td>\n",
       "      <td>4316.497874</td>\n",
       "    </tr>\n",
       "    <tr>\n",
       "      <th>2</th>\n",
       "      <td>11</td>\n",
       "      <td>531</td>\n",
       "      <td>1.0</td>\n",
       "      <td>1993.0</td>\n",
       "      <td>-0.010649</td>\n",
       "      <td>430.333333</td>\n",
       "      <td>5684.000000</td>\n",
       "      <td>966</td>\n",
       "      <td>966</td>\n",
       "      <td>1291</td>\n",
       "      <td>7743</td>\n",
       "      <td>19336</td>\n",
       "      <td>3719.351064</td>\n",
       "      <td>4316.497874</td>\n",
       "    </tr>\n",
       "  </tbody>\n",
       "</table>\n",
       "</div>"
      ],
      "text/plain": [
       "   user  item  rating    year  genre_embedding  director_info  writer_info  \\\n",
       "0    11  4643     1.0  2001.0        -0.010404    2859.444444  4146.333333   \n",
       "1    11   170     1.0  1995.0        -0.010290     583.714286   269.562069   \n",
       "2    11   531     1.0  1993.0        -0.010649     430.333333  5684.000000   \n",
       "\n",
       "   item_cnt  dir_max_cnt  dir_sum_cnt  wri_max_cnt  wri_sum_cnt  \\\n",
       "0      1122         7743        51470         8936        21339   \n",
       "1      1107         2092         4086         1107         1107   \n",
       "2       966          966         1291         7743        19336   \n",
       "\n",
       "   seen_item_inter_mean  seen_item_inter_std  \n",
       "0           3719.351064          4316.497874  \n",
       "1           3719.351064          4316.497874  \n",
       "2           3719.351064          4316.497874  "
      ]
     },
     "execution_count": 7,
     "metadata": {},
     "output_type": "execute_result"
    }
   ],
   "source": [
    "train_df.head(3)"
   ]
  },
  {
   "cell_type": "code",
   "execution_count": 8,
   "metadata": {},
   "outputs": [],
   "source": [
    "inference_df = lgbm_inference_df.merge(year_df, how='left', on='item')\n",
    "inference_df = inference_df.merge(genre_df, how='left', on='item')"
   ]
  },
  {
   "cell_type": "code",
   "execution_count": 9,
   "metadata": {},
   "outputs": [],
   "source": [
    "inference_df = lgbm_inference_df.merge(year_df, how='left', on='item')\n",
    "inference_df = inference_df.merge(genre_df, how='left', on='item')\n",
    "inference_df = inference_df.merge(director_inter_cnt, how='left', on='item')\n",
    "inference_df = inference_df.merge(writer_inter_cnt, how='left', on='item')\n",
    "inference_df = inference_df.merge(item_interaction, how='left', on='item')\n",
    "inference_df = inference_df.merge(item_popular_dir_max_sum_cnt, how='left', on='item')\n",
    "inference_df = inference_df.merge(item_popular_wri_max_sum_cnt, how='left', on='item')\n",
    "inference_df = inference_df.merge(user_seen_item_statistic, how='left', on='user')"
   ]
  },
  {
   "cell_type": "code",
   "execution_count": 10,
   "metadata": {},
   "outputs": [
    {
     "data": {
      "text/plain": [
       "(1568000, 13)"
      ]
     },
     "execution_count": 10,
     "metadata": {},
     "output_type": "execute_result"
    }
   ],
   "source": [
    "inference_df.shape"
   ]
  },
  {
   "cell_type": "code",
   "execution_count": 11,
   "metadata": {},
   "outputs": [
    {
     "data": {
      "text/html": [
       "<div>\n",
       "<style scoped>\n",
       "    .dataframe tbody tr th:only-of-type {\n",
       "        vertical-align: middle;\n",
       "    }\n",
       "\n",
       "    .dataframe tbody tr th {\n",
       "        vertical-align: top;\n",
       "    }\n",
       "\n",
       "    .dataframe thead th {\n",
       "        text-align: right;\n",
       "    }\n",
       "</style>\n",
       "<table border=\"1\" class=\"dataframe\">\n",
       "  <thead>\n",
       "    <tr style=\"text-align: right;\">\n",
       "      <th></th>\n",
       "      <th>user</th>\n",
       "      <th>item</th>\n",
       "      <th>year</th>\n",
       "      <th>genre_embedding</th>\n",
       "      <th>director_info</th>\n",
       "      <th>writer_info</th>\n",
       "      <th>item_cnt</th>\n",
       "      <th>dir_max_cnt</th>\n",
       "      <th>dir_sum_cnt</th>\n",
       "      <th>wri_max_cnt</th>\n",
       "      <th>wri_sum_cnt</th>\n",
       "      <th>seen_item_inter_mean</th>\n",
       "      <th>seen_item_inter_std</th>\n",
       "    </tr>\n",
       "  </thead>\n",
       "  <tbody>\n",
       "    <tr>\n",
       "      <th>0</th>\n",
       "      <td>11</td>\n",
       "      <td>4370</td>\n",
       "      <td>2001.0</td>\n",
       "      <td>-0.010420</td>\n",
       "      <td>4369.500000</td>\n",
       "      <td>5626.166667</td>\n",
       "      <td>3173</td>\n",
       "      <td>14224</td>\n",
       "      <td>130434</td>\n",
       "      <td>3734</td>\n",
       "      <td>11878</td>\n",
       "      <td>3719.351064</td>\n",
       "      <td>4316.497874</td>\n",
       "    </tr>\n",
       "    <tr>\n",
       "      <th>1</th>\n",
       "      <td>11</td>\n",
       "      <td>4886</td>\n",
       "      <td>2001.0</td>\n",
       "      <td>-0.010383</td>\n",
       "      <td>16267.000000</td>\n",
       "      <td>33020.428571</td>\n",
       "      <td>10826</td>\n",
       "      <td>12105</td>\n",
       "      <td>33840</td>\n",
       "      <td>12217</td>\n",
       "      <td>60006</td>\n",
       "      <td>3719.351064</td>\n",
       "      <td>4316.497874</td>\n",
       "    </tr>\n",
       "    <tr>\n",
       "      <th>2</th>\n",
       "      <td>11</td>\n",
       "      <td>47</td>\n",
       "      <td>1995.0</td>\n",
       "      <td>-0.010262</td>\n",
       "      <td>4853.181818</td>\n",
       "      <td>4527.200000</td>\n",
       "      <td>13857</td>\n",
       "      <td>18437</td>\n",
       "      <td>53385</td>\n",
       "      <td>13857</td>\n",
       "      <td>18569</td>\n",
       "      <td>3719.351064</td>\n",
       "      <td>4316.497874</td>\n",
       "    </tr>\n",
       "  </tbody>\n",
       "</table>\n",
       "</div>"
      ],
      "text/plain": [
       "   user  item    year  genre_embedding  director_info   writer_info  item_cnt  \\\n",
       "0    11  4370  2001.0        -0.010420    4369.500000   5626.166667      3173   \n",
       "1    11  4886  2001.0        -0.010383   16267.000000  33020.428571     10826   \n",
       "2    11    47  1995.0        -0.010262    4853.181818   4527.200000     13857   \n",
       "\n",
       "   dir_max_cnt  dir_sum_cnt  wri_max_cnt  wri_sum_cnt  seen_item_inter_mean  \\\n",
       "0        14224       130434         3734        11878           3719.351064   \n",
       "1        12105        33840        12217        60006           3719.351064   \n",
       "2        18437        53385        13857        18569           3719.351064   \n",
       "\n",
       "   seen_item_inter_std  \n",
       "0          4316.497874  \n",
       "1          4316.497874  \n",
       "2          4316.497874  "
      ]
     },
     "execution_count": 11,
     "metadata": {},
     "output_type": "execute_result"
    }
   ],
   "source": [
    "inference_df.head(3)"
   ]
  },
  {
   "cell_type": "code",
   "execution_count": null,
   "metadata": {},
   "outputs": [],
   "source": []
  },
  {
   "cell_type": "markdown",
   "metadata": {
    "id": "5VZzei3DhfQy"
   },
   "source": [
    "## 4. LGBM Train/Test 데이터 셋"
   ]
  },
  {
   "cell_type": "code",
   "execution_count": 108,
   "metadata": {
    "tags": []
   },
   "outputs": [],
   "source": [
    "# user별 interaction을 8:2로 split code\n",
    "# 하루종일 걸릴 것 같다.. (예상시간 12시간 넘었음)\n",
    "\n",
    "# import random\n",
    "\n",
    "# def custom_train_test_split(df, ratio=0.8):\n",
    "#     # user별 interaction을 8:2로 split\n",
    "#     user_group_dfs = list(df.groupby('user')['item'])\n",
    "\n",
    "#     first_row = True\n",
    "#     items = set(df.loc[:, 'item']) #아이템 개수 6807\n",
    "\n",
    "#     for u, u_items in tqdm(user_group_dfs):\n",
    "        \n",
    "#         random.shuffle(list(u_items))\n",
    "#         u_items = list(u_items)\n",
    "\n",
    "#         train_size = int(ratio * len(u_items))\n",
    "#         train_set_item = u_items[:train_size]\n",
    "#         test_set_item = u_items[train_size:]\n",
    "\n",
    "#         train_mask = df['item'].isin(train_set_item)\n",
    "#         test_mask = df['item'].isin(test_set_item)\n",
    "\n",
    "#         # Use the boolean masks to create the training and test sets\n",
    "#         train_set = df[train_mask]\n",
    "#         test_set = df[test_mask]\n",
    "\n",
    "#         if first_row == True:\n",
    "#             train = train_set\n",
    "#             test = test_set\n",
    "#             first_row = False\n",
    "#         else:\n",
    "#             train = pd.concat([train, train_set], axis=0, sort=False)\n",
    "#             test = pd.concat([test, test_set], axis=0, sort=False)\n",
    "#     return train, test\n",
    "\n",
    "# train_set, test_set = custom_train_test_split(train_df)"
   ]
  },
  {
   "cell_type": "code",
   "execution_count": 12,
   "metadata": {
    "tags": []
   },
   "outputs": [],
   "source": [
    "train_set, test_set = train_test_split(train_df, test_size=0.2, random_state=42)"
   ]
  },
  {
   "cell_type": "code",
   "execution_count": 13,
   "metadata": {},
   "outputs": [
    {
     "data": {
      "text/plain": [
       "Index(['user', 'item', 'rating', 'year', 'genre_embedding', 'director_info',\n",
       "       'writer_info', 'item_cnt', 'dir_max_cnt', 'dir_sum_cnt', 'wri_max_cnt',\n",
       "       'wri_sum_cnt', 'seen_item_inter_mean', 'seen_item_inter_std'],\n",
       "      dtype='object')"
      ]
     },
     "execution_count": 13,
     "metadata": {},
     "output_type": "execute_result"
    }
   ],
   "source": [
    "train_set.columns"
   ]
  },
  {
   "cell_type": "code",
   "execution_count": 53,
   "metadata": {},
   "outputs": [],
   "source": [
    "train_set = train_set.sort_values(by='user')\n",
    "test_set = test_set.sort_values(by='user')"
   ]
  },
  {
   "cell_type": "code",
   "execution_count": 57,
   "metadata": {},
   "outputs": [],
   "source": [
    "# X, y 값 분리\n",
    "FEATS = ['user', 'item', 'year', 'genre_embedding', 'item_cnt', 'seen_item_inter_mean', 'seen_item_inter_std', 'dir_max_cnt', 'dir_sum_cnt', 'wri_max_cnt',\n",
    "       'wri_sum_cnt', 'director_info', 'writer_info']\n",
    "\n",
    "y_train = train_set['rating']\n",
    "train = train_set.drop(['rating'], axis=1)\n",
    "\n",
    "y_test = test_set['rating']\n",
    "test = test_set.drop(['rating'], axis=1)"
   ]
  },
  {
   "cell_type": "code",
   "execution_count": 58,
   "metadata": {
    "ExecuteTime": {
     "end_time": "2022-11-17T06:06:04.281234Z",
     "start_time": "2022-11-17T06:06:04.265620Z"
    }
   },
   "outputs": [
    {
     "data": {
      "text/plain": [
       "((8215328, 13), (2053833, 13))"
      ]
     },
     "execution_count": 58,
     "metadata": {},
     "output_type": "execute_result"
    }
   ],
   "source": [
    "train.shape, test.shape"
   ]
  },
  {
   "cell_type": "code",
   "execution_count": 59,
   "metadata": {},
   "outputs": [],
   "source": [
    "# !python -m pip install lightgbm"
   ]
  },
  {
   "cell_type": "code",
   "execution_count": 336,
   "metadata": {},
   "outputs": [],
   "source": [
    "train_queries = train['user'].value_counts().sort_index().values"
   ]
  },
  {
   "cell_type": "code",
   "execution_count": 82,
   "metadata": {},
   "outputs": [],
   "source": [
    "test_queries = test['user'].value_counts().sort_index().values"
   ]
  },
  {
   "cell_type": "code",
   "execution_count": 80,
   "metadata": {},
   "outputs": [
    {
     "data": {
      "text/plain": [
       "8215328"
      ]
     },
     "execution_count": 80,
     "metadata": {},
     "output_type": "execute_result"
    }
   ],
   "source": [
    "sum(queries)"
   ]
  },
  {
   "cell_type": "code",
   "execution_count": 85,
   "metadata": {},
   "outputs": [
    {
     "data": {
      "text/plain": [
       "8215328"
      ]
     },
     "execution_count": 85,
     "metadata": {},
     "output_type": "execute_result"
    }
   ],
   "source": [
    "len(train)"
   ]
  },
  {
   "cell_type": "code",
   "execution_count": 17,
   "metadata": {},
   "outputs": [],
   "source": [
    "categorical_features = ['user','item','year']"
   ]
  },
  {
   "cell_type": "code",
   "execution_count": 90,
   "metadata": {
    "ExecuteTime": {
     "end_time": "2022-11-17T06:06:06.806072Z",
     "start_time": "2022-11-17T06:06:06.781239Z"
    },
    "id": "o59GhDdVhfQ1"
   },
   "outputs": [],
   "source": [
    "lgb_train = lgb.Dataset(train[FEATS], y_train, group=train_queries, categorical_feature=categorical_features, free_raw_data=False)\n",
    "lgb_test = lgb.Dataset(test[FEATS], y_test, group=test_queries, categorical_feature=categorical_features, free_raw_data=False, reference=lgb_train)"
   ]
  },
  {
   "cell_type": "markdown",
   "metadata": {
    "id": "KiHss_BBhfQ2"
   },
   "source": [
    "## 5. 훈련 및 검증"
   ]
  },
  {
   "cell_type": "code",
   "execution_count": 141,
   "metadata": {},
   "outputs": [],
   "source": [
    "from lightgbm.sklearn import LGBMRanker"
   ]
  },
  {
   "cell_type": "code",
   "execution_count": 416,
   "metadata": {},
   "outputs": [],
   "source": [
    "ranker = LGBMRanker(\n",
    "    objective=\"lambdarank\",\n",
    "    metric=\"ndcg@10\",\n",
    "    boosting_type=\"dart\",\n",
    "    num_leaves = 100,\n",
    "    max_depth = 8,\n",
    "    learning_rate = 0.1,\n",
    "    n_estimators=20,\n",
    "    importance_type='gain',\n",
    ")"
   ]
  },
  {
   "cell_type": "code",
   "execution_count": 417,
   "metadata": {},
   "outputs": [],
   "source": [
    "ranker = ranker.fit(\n",
    "    train_set[FEATS],\n",
    "    train_set['rating'],\n",
    "    group=train_queries,\n",
    ")"
   ]
  },
  {
   "cell_type": "code",
   "execution_count": 418,
   "metadata": {},
   "outputs": [],
   "source": [
    "scores = ranker.predict(test_set[FEATS])"
   ]
  },
  {
   "cell_type": "code",
   "execution_count": 419,
   "metadata": {},
   "outputs": [
    {
     "data": {
      "text/plain": [
       "(2.174302505813953, -2.0998046596538686)"
      ]
     },
     "execution_count": 419,
     "metadata": {},
     "output_type": "execute_result"
    }
   ],
   "source": [
    "max(scores), min(scores) #std(scores)"
   ]
  },
  {
   "cell_type": "code",
   "execution_count": 420,
   "metadata": {},
   "outputs": [
    {
     "data": {
      "text/plain": [
       "3.199700483110799"
      ]
     },
     "execution_count": 420,
     "metadata": {},
     "output_type": "execute_result"
    }
   ],
   "source": [
    "rmse = mean_squared_error(test_set['rating'], scores)\n",
    "rmse"
   ]
  },
  {
   "cell_type": "code",
   "execution_count": 421,
   "metadata": {},
   "outputs": [],
   "source": [
    "# scores = list(scores)"
   ]
  },
  {
   "cell_type": "code",
   "execution_count": 422,
   "metadata": {},
   "outputs": [],
   "source": [
    "scores = [1 if x > 1 else 0 if x < 0 else x for x in scores] #1이상이면 1, 0이하면 0으로"
   ]
  },
  {
   "cell_type": "code",
   "execution_count": 423,
   "metadata": {},
   "outputs": [
    {
     "data": {
      "text/plain": [
       "0.35198161216785684"
      ]
     },
     "execution_count": 423,
     "metadata": {},
     "output_type": "execute_result"
    }
   ],
   "source": [
    "rmse = mean_squared_error(test_set['rating'], scores)\n",
    "rmse"
   ]
  },
  {
   "cell_type": "code",
   "execution_count": null,
   "metadata": {},
   "outputs": [],
   "source": []
  },
  {
   "cell_type": "code",
   "execution_count": null,
   "metadata": {},
   "outputs": [],
   "source": []
  },
  {
   "cell_type": "code",
   "execution_count": null,
   "metadata": {
    "ExecuteTime": {
     "end_time": "2022-11-16T14:32:15.011774Z",
     "start_time": "2022-11-16T14:32:04.894300Z"
    },
    "collapsed": true,
    "id": "-6FZfjA_hfQ2",
    "jupyter": {
     "outputs_hidden": true
    },
    "tags": []
   },
   "outputs": [
    {
     "name": "stdout",
     "output_type": "stream",
     "text": [
      "[LightGBM] [Warning] Unknown parameter: is_unbalanced\n",
      "[LightGBM] [Warning] Unknown parameter: category_feat\n",
      "[LightGBM] [Warning] Unknown parameter: is_unbalanced\n",
      "[LightGBM] [Warning] Unknown parameter: category_feat\n",
      "[LightGBM] [Warning] Unknown parameter: is_unbalanced\n",
      "[LightGBM] [Warning] Unknown parameter: category_feat\n",
      "[LightGBM] [Warning] Unknown parameter: is_unbalanced\n",
      "[LightGBM] [Warning] Unknown parameter: category_feat\n",
      "[LightGBM] [Warning] Unknown parameter: is_unbalanced\n",
      "[LightGBM] [Warning] Unknown parameter: category_feat\n",
      "[LightGBM] [Info] Total groups: 31360, total data: 8215328\n",
      "[LightGBM] [Warning] Auto-choosing row-wise multi-threading, the overhead of testing was 0.075329 seconds.\n",
      "You can set `force_row_wise=true` to remove the overhead.\n",
      "And if memory is not enough, you can set `force_col_wise=true`.\n",
      "[LightGBM] [Info] Total Bins 32531\n",
      "[LightGBM] [Info] Number of data points in the train set: 8215328, number of used features: 13\n",
      "[LightGBM] [Info] Total groups: 31360, total data: 2053833\n",
      "Training until validation scores don't improve for 100 rounds\n",
      "[100]\tvalid_0's map@1: 0.97838\tvalid_0's map@2: 0.969212\tvalid_0's map@3: 0.961198\tvalid_0's map@4: 0.953392\tvalid_0's map@5: 0.945506\n",
      "Early stopping, best iteration is:\n",
      "[61]\tvalid_0's map@1: 0.978348\tvalid_0's map@2: 0.96875\tvalid_0's map@3: 0.961099\tvalid_0's map@4: 0.953342\tvalid_0's map@5: 0.945619\n",
      "RMSE : 8.10134\n",
      "\n"
     ]
    }
   ],
   "source": [
    "# model = lgb.train(\n",
    "#     {'objective': 'lambdarank',\n",
    "#      'category_feat':categorical_features,\n",
    "#      'metric': 'map',\n",
    "#      'is_unbalanced':True}, \n",
    "#     lgb_train,\n",
    "#     valid_sets=[lgb_test],\n",
    "#     verbose_eval=100,\n",
    "#     num_boost_round=8000,\n",
    "#     early_stopping_rounds=100,\n",
    "# )\n",
    "\n",
    "# preds = model.predict(test[FEATS])\n",
    "# rmse = mean_squared_error(y_test, preds)\n",
    "\n",
    "# print(f'RMSE : {rmse:.5f}\\n')"
   ]
  },
  {
   "cell_type": "code",
   "execution_count": 41,
   "metadata": {
    "ExecuteTime": {
     "end_time": "2022-11-16T14:32:25.767046Z",
     "start_time": "2022-11-16T14:32:25.331822Z"
    },
    "collapsed": true,
    "id": "CKRjM0rxhfQ2",
    "jupyter": {
     "outputs_hidden": true
    },
    "tags": []
   },
   "outputs": [
    {
     "ename": "AttributeError",
     "evalue": "'LGBMRanker' object has no attribute 'plot_importance'",
     "output_type": "error",
     "traceback": [
      "\u001b[0;31m---------------------------------------------------------------------------\u001b[0m",
      "\u001b[0;31mAttributeError\u001b[0m                            Traceback (most recent call last)",
      "Input \u001b[0;32mIn [140]\u001b[0m, in \u001b[0;36m<cell line: 2>\u001b[0;34m()\u001b[0m\n\u001b[1;32m      1\u001b[0m \u001b[38;5;66;03m# INSTALL MATPLOTLIB IN ADVANCE\u001b[39;00m\n\u001b[0;32m----> 2\u001b[0m _ \u001b[38;5;241m=\u001b[39m \u001b[43mranker\u001b[49m\u001b[38;5;241;43m.\u001b[39;49m\u001b[43mplot_importance\u001b[49m(model)\n",
      "\u001b[0;31mAttributeError\u001b[0m: 'LGBMRanker' object has no attribute 'plot_importance'"
     ]
    }
   ],
   "source": [
    "# # INSTALL MATPLOTLIB IN ADVANCE\n",
    "# _ = lgb.plot_importance(model)"
   ]
  },
  {
   "cell_type": "markdown",
   "metadata": {
    "id": "8Bsff1ZVhfQ3"
   },
   "source": [
    "## 6. Inference"
   ]
  },
  {
   "cell_type": "code",
   "execution_count": 151,
   "metadata": {},
   "outputs": [],
   "source": [
    "tmp = pd.read_csv('/opt/ml/input/data/eval/sample_submission.csv')\n",
    "lst = list(tmp['user'].values)\n",
    "user_list = list(set(tmp['user'].values))\n",
    "user_list = sorted(user_list)"
   ]
  },
  {
   "cell_type": "code",
   "execution_count": 63,
   "metadata": {
    "tags": []
   },
   "outputs": [],
   "source": [
    "# user_list"
   ]
  },
  {
   "cell_type": "code",
   "execution_count": 152,
   "metadata": {},
   "outputs": [],
   "source": [
    "#유저의 마지막 interaction 연도보다 더 늦게 나온 영화는 없애준다.\n",
    "user_last_year = pd.read_pickle('/opt/ml/input/fighting/Recbole/baseline/index/userid2lastyear.pickle')\n",
    "inference_df['user_last_year'] = inference_df['user'].map(user_last_year)\n",
    "# inference_df = inference_df.merge(year_df, how='left', on='item') # 컬럼에 'year'이 없다면\n",
    "inference_df = inference_df[inference_df['user_last_year'] >= inference_df['year']]"
   ]
  },
  {
   "cell_type": "code",
   "execution_count": 153,
   "metadata": {},
   "outputs": [
    {
     "data": {
      "text/html": [
       "<div>\n",
       "<style scoped>\n",
       "    .dataframe tbody tr th:only-of-type {\n",
       "        vertical-align: middle;\n",
       "    }\n",
       "\n",
       "    .dataframe tbody tr th {\n",
       "        vertical-align: top;\n",
       "    }\n",
       "\n",
       "    .dataframe thead th {\n",
       "        text-align: right;\n",
       "    }\n",
       "</style>\n",
       "<table border=\"1\" class=\"dataframe\">\n",
       "  <thead>\n",
       "    <tr style=\"text-align: right;\">\n",
       "      <th></th>\n",
       "      <th>user</th>\n",
       "      <th>item</th>\n",
       "      <th>year</th>\n",
       "      <th>genre_embedding</th>\n",
       "      <th>director_info</th>\n",
       "      <th>writer_info</th>\n",
       "      <th>item_cnt</th>\n",
       "      <th>dir_max_cnt</th>\n",
       "      <th>dir_sum_cnt</th>\n",
       "      <th>wri_max_cnt</th>\n",
       "      <th>wri_sum_cnt</th>\n",
       "      <th>seen_item_inter_mean</th>\n",
       "      <th>seen_item_inter_std</th>\n",
       "      <th>user_last_year</th>\n",
       "    </tr>\n",
       "  </thead>\n",
       "  <tbody>\n",
       "    <tr>\n",
       "      <th>0</th>\n",
       "      <td>11</td>\n",
       "      <td>4370</td>\n",
       "      <td>2001.0</td>\n",
       "      <td>-0.010420</td>\n",
       "      <td>4369.500000</td>\n",
       "      <td>5626.166667</td>\n",
       "      <td>3173</td>\n",
       "      <td>14224</td>\n",
       "      <td>130434</td>\n",
       "      <td>3734</td>\n",
       "      <td>11878</td>\n",
       "      <td>3719.351064</td>\n",
       "      <td>4316.497874</td>\n",
       "      <td>2011</td>\n",
       "    </tr>\n",
       "    <tr>\n",
       "      <th>1</th>\n",
       "      <td>11</td>\n",
       "      <td>4886</td>\n",
       "      <td>2001.0</td>\n",
       "      <td>-0.010383</td>\n",
       "      <td>16267.000000</td>\n",
       "      <td>33020.428571</td>\n",
       "      <td>10826</td>\n",
       "      <td>12105</td>\n",
       "      <td>33840</td>\n",
       "      <td>12217</td>\n",
       "      <td>60006</td>\n",
       "      <td>3719.351064</td>\n",
       "      <td>4316.497874</td>\n",
       "      <td>2011</td>\n",
       "    </tr>\n",
       "    <tr>\n",
       "      <th>2</th>\n",
       "      <td>11</td>\n",
       "      <td>47</td>\n",
       "      <td>1995.0</td>\n",
       "      <td>-0.010262</td>\n",
       "      <td>4853.181818</td>\n",
       "      <td>4527.200000</td>\n",
       "      <td>13857</td>\n",
       "      <td>18437</td>\n",
       "      <td>53385</td>\n",
       "      <td>13857</td>\n",
       "      <td>18569</td>\n",
       "      <td>3719.351064</td>\n",
       "      <td>4316.497874</td>\n",
       "      <td>2011</td>\n",
       "    </tr>\n",
       "    <tr>\n",
       "      <th>3</th>\n",
       "      <td>11</td>\n",
       "      <td>32587</td>\n",
       "      <td>2005.0</td>\n",
       "      <td>-0.010371</td>\n",
       "      <td>9632.166667</td>\n",
       "      <td>5124.250000</td>\n",
       "      <td>10774</td>\n",
       "      <td>18202</td>\n",
       "      <td>81880</td>\n",
       "      <td>10774</td>\n",
       "      <td>21692</td>\n",
       "      <td>3719.351064</td>\n",
       "      <td>4316.497874</td>\n",
       "      <td>2011</td>\n",
       "    </tr>\n",
       "    <tr>\n",
       "      <th>4</th>\n",
       "      <td>11</td>\n",
       "      <td>40815</td>\n",
       "      <td>2005.0</td>\n",
       "      <td>-0.010360</td>\n",
       "      <td>1669.666667</td>\n",
       "      <td>8387.333333</td>\n",
       "      <td>6494</td>\n",
       "      <td>6494</td>\n",
       "      <td>15027</td>\n",
       "      <td>7050</td>\n",
       "      <td>37743</td>\n",
       "      <td>3719.351064</td>\n",
       "      <td>4316.497874</td>\n",
       "      <td>2011</td>\n",
       "    </tr>\n",
       "    <tr>\n",
       "      <th>...</th>\n",
       "      <td>...</td>\n",
       "      <td>...</td>\n",
       "      <td>...</td>\n",
       "      <td>...</td>\n",
       "      <td>...</td>\n",
       "      <td>...</td>\n",
       "      <td>...</td>\n",
       "      <td>...</td>\n",
       "      <td>...</td>\n",
       "      <td>...</td>\n",
       "      <td>...</td>\n",
       "      <td>...</td>\n",
       "      <td>...</td>\n",
       "      <td>...</td>\n",
       "    </tr>\n",
       "    <tr>\n",
       "      <th>1567995</th>\n",
       "      <td>138493</td>\n",
       "      <td>41569</td>\n",
       "      <td>2005.0</td>\n",
       "      <td>-0.010388</td>\n",
       "      <td>4062.533333</td>\n",
       "      <td>27810.222222</td>\n",
       "      <td>3105</td>\n",
       "      <td>17237</td>\n",
       "      <td>60938</td>\n",
       "      <td>17237</td>\n",
       "      <td>60938</td>\n",
       "      <td>3701.936306</td>\n",
       "      <td>4167.737972</td>\n",
       "      <td>2009</td>\n",
       "    </tr>\n",
       "    <tr>\n",
       "      <th>1567996</th>\n",
       "      <td>138493</td>\n",
       "      <td>45499</td>\n",
       "      <td>2006.0</td>\n",
       "      <td>-0.010408</td>\n",
       "      <td>1092.100000</td>\n",
       "      <td>5575.363636</td>\n",
       "      <td>3436</td>\n",
       "      <td>3436</td>\n",
       "      <td>10411</td>\n",
       "      <td>7045</td>\n",
       "      <td>17524</td>\n",
       "      <td>3701.936306</td>\n",
       "      <td>4167.737972</td>\n",
       "      <td>2009</td>\n",
       "    </tr>\n",
       "    <tr>\n",
       "      <th>1567997</th>\n",
       "      <td>138493</td>\n",
       "      <td>589</td>\n",
       "      <td>1991.0</td>\n",
       "      <td>-0.010423</td>\n",
       "      <td>6703.000000</td>\n",
       "      <td>11354.300000</td>\n",
       "      <td>11796</td>\n",
       "      <td>11796</td>\n",
       "      <td>53624</td>\n",
       "      <td>11796</td>\n",
       "      <td>55140</td>\n",
       "      <td>3701.936306</td>\n",
       "      <td>4167.737972</td>\n",
       "      <td>2009</td>\n",
       "    </tr>\n",
       "    <tr>\n",
       "      <th>1567998</th>\n",
       "      <td>138493</td>\n",
       "      <td>2687</td>\n",
       "      <td>1999.0</td>\n",
       "      <td>-0.010482</td>\n",
       "      <td>849.500000</td>\n",
       "      <td>61895.285714</td>\n",
       "      <td>967</td>\n",
       "      <td>1330</td>\n",
       "      <td>2793</td>\n",
       "      <td>9568</td>\n",
       "      <td>30496</td>\n",
       "      <td>3701.936306</td>\n",
       "      <td>4167.737972</td>\n",
       "      <td>2009</td>\n",
       "    </tr>\n",
       "    <tr>\n",
       "      <th>1567999</th>\n",
       "      <td>138493</td>\n",
       "      <td>7323</td>\n",
       "      <td>2003.0</td>\n",
       "      <td>-0.010281</td>\n",
       "      <td>230.992337</td>\n",
       "      <td>882.000000</td>\n",
       "      <td>2588</td>\n",
       "      <td>2588</td>\n",
       "      <td>2588</td>\n",
       "      <td>2588</td>\n",
       "      <td>2646</td>\n",
       "      <td>3701.936306</td>\n",
       "      <td>4167.737972</td>\n",
       "      <td>2009</td>\n",
       "    </tr>\n",
       "  </tbody>\n",
       "</table>\n",
       "<p>1563447 rows × 14 columns</p>\n",
       "</div>"
      ],
      "text/plain": [
       "           user   item    year  genre_embedding  director_info   writer_info  \\\n",
       "0            11   4370  2001.0        -0.010420    4369.500000   5626.166667   \n",
       "1            11   4886  2001.0        -0.010383   16267.000000  33020.428571   \n",
       "2            11     47  1995.0        -0.010262    4853.181818   4527.200000   \n",
       "3            11  32587  2005.0        -0.010371    9632.166667   5124.250000   \n",
       "4            11  40815  2005.0        -0.010360    1669.666667   8387.333333   \n",
       "...         ...    ...     ...              ...            ...           ...   \n",
       "1567995  138493  41569  2005.0        -0.010388    4062.533333  27810.222222   \n",
       "1567996  138493  45499  2006.0        -0.010408    1092.100000   5575.363636   \n",
       "1567997  138493    589  1991.0        -0.010423    6703.000000  11354.300000   \n",
       "1567998  138493   2687  1999.0        -0.010482     849.500000  61895.285714   \n",
       "1567999  138493   7323  2003.0        -0.010281     230.992337    882.000000   \n",
       "\n",
       "         item_cnt  dir_max_cnt  dir_sum_cnt  wri_max_cnt  wri_sum_cnt  \\\n",
       "0            3173        14224       130434         3734        11878   \n",
       "1           10826        12105        33840        12217        60006   \n",
       "2           13857        18437        53385        13857        18569   \n",
       "3           10774        18202        81880        10774        21692   \n",
       "4            6494         6494        15027         7050        37743   \n",
       "...           ...          ...          ...          ...          ...   \n",
       "1567995      3105        17237        60938        17237        60938   \n",
       "1567996      3436         3436        10411         7045        17524   \n",
       "1567997     11796        11796        53624        11796        55140   \n",
       "1567998       967         1330         2793         9568        30496   \n",
       "1567999      2588         2588         2588         2588         2646   \n",
       "\n",
       "         seen_item_inter_mean  seen_item_inter_std  user_last_year  \n",
       "0                 3719.351064          4316.497874            2011  \n",
       "1                 3719.351064          4316.497874            2011  \n",
       "2                 3719.351064          4316.497874            2011  \n",
       "3                 3719.351064          4316.497874            2011  \n",
       "4                 3719.351064          4316.497874            2011  \n",
       "...                       ...                  ...             ...  \n",
       "1567995           3701.936306          4167.737972            2009  \n",
       "1567996           3701.936306          4167.737972            2009  \n",
       "1567997           3701.936306          4167.737972            2009  \n",
       "1567998           3701.936306          4167.737972            2009  \n",
       "1567999           3701.936306          4167.737972            2009  \n",
       "\n",
       "[1563447 rows x 14 columns]"
      ]
     },
     "execution_count": 153,
     "metadata": {},
     "output_type": "execute_result"
    }
   ],
   "source": [
    "inference_df"
   ]
  },
  {
   "cell_type": "code",
   "execution_count": 424,
   "metadata": {},
   "outputs": [
    {
     "name": "stderr",
     "output_type": "stream",
     "text": [
      "100%|██████████| 31360/31360 [06:15<00:00, 83.48it/s] \n"
     ]
    },
    {
     "name": "stdout",
     "output_type": "stream",
     "text": [
      "dataframe으로 만드는 중\n",
      "csv 파일로 내보내는 중\n",
      "csv 파일로 내보내기 완료!\n"
     ]
    }
   ],
   "source": [
    "# Top 300개를 뽑았을 때 약 13분정도 소요\n",
    "# Top 50개를 뽑았을 때 약 5분정도 소요\n",
    "first_row = True\n",
    "\n",
    "for user in tqdm(user_list):\n",
    "    user_df = inference_df[inference_df['user']==user][FEATS]\n",
    "    \n",
    "    y = ranker.predict(user_df[FEATS])\n",
    "    y = torch.from_numpy(y)\n",
    "    _, indices = torch.topk(y, 10)\n",
    "    \n",
    "    user_rec = user_df.iloc[indices,:]\n",
    "    \n",
    "    if first_row == True:\n",
    "        result = user_rec\n",
    "        first_row = False\n",
    "    else:\n",
    "        result = pd.concat([result, user_rec], axis=0, sort=False)\n",
    "\n",
    "print(\"dataframe으로 만드는 중\")\n",
    "sub = pd.DataFrame(result, columns=[\"user\",\"item\"])\n",
    "print(\"csv 파일로 내보내는 중\")\n",
    "sub.to_csv(f\"EASE_LGBM_50_{rmse:.5f}_{FEATS}.csv\", index=False)\n",
    "print(\"csv 파일로 내보내기 완료!\")"
   ]
  },
  {
   "cell_type": "code",
   "execution_count": 425,
   "metadata": {},
   "outputs": [
    {
     "name": "stdout",
     "output_type": "stream",
     "text": [
      "EASE 결과 item 중 item번호가 10000 미만 item 개수: 1212425\n",
      "\n",
      "EASE 결과 item 중 item번호가 10000 이상 item 개수: 351022\n",
      "\n",
      "LGBM 결과 item 중 item번호가 10000 미만 item 개수: 278106\n",
      "\n",
      "LGBM 결과 item 중 item번호가 10000 이상 item 개수: 35494\n",
      "\n",
      "비율이 좀 이상한 것 같다..\n"
     ]
    }
   ],
   "source": [
    "print(f\"EASE 결과 item 중 item번호가 10000 미만 item 개수: {len(inference_df.loc[(inference_df['item'] < 10000)])}\\n\")\n",
    "print(f\"EASE 결과 item 중 item번호가 10000 이상 item 개수: {len(inference_df.loc[(inference_df['item'] >= 10000)])}\\n\")\n",
    "print(f\"LGBM 결과 item 중 item번호가 10000 미만 item 개수: {len(sub.loc[(sub['item'] < 10000)])}\\n\")\n",
    "print(f\"LGBM 결과 item 중 item번호가 10000 이상 item 개수: {len(sub.loc[(sub['item'] >= 10000)])}\\n\")\n",
    "print(\"비율이 좀 이상한 것 같다..\")"
   ]
  },
  {
   "cell_type": "code",
   "execution_count": 230,
   "metadata": {},
   "outputs": [],
   "source": [
    "# 대신 예측한 아이템 300개 내에선 10개 추출은 잘 되는 것 같다.\n",
    "inf_res = set(inference_df.loc[(inference_df['user'] == 11)]['item'].values)"
   ]
  },
  {
   "cell_type": "code",
   "execution_count": 231,
   "metadata": {},
   "outputs": [],
   "source": [
    "sub_res = set(sub.loc[(sub['user'] == 11)]['item'].values)"
   ]
  },
  {
   "cell_type": "code",
   "execution_count": 232,
   "metadata": {},
   "outputs": [
    {
     "data": {
      "text/plain": [
       "set()"
      ]
     },
     "execution_count": 232,
     "metadata": {},
     "output_type": "execute_result"
    }
   ],
   "source": [
    "sub_res - inf_res"
   ]
  },
  {
   "cell_type": "code",
   "execution_count": null,
   "metadata": {},
   "outputs": [],
   "source": []
  }
 ],
 "metadata": {
  "colab": {
   "collapsed_sections": [],
   "provenance": []
  },
  "kernelspec": {
   "display_name": "Python 3 (ipykernel)",
   "language": "python",
   "name": "python3"
  },
  "language_info": {
   "codemirror_mode": {
    "name": "ipython",
    "version": 3
   },
   "file_extension": ".py",
   "mimetype": "text/x-python",
   "name": "python",
   "nbconvert_exporter": "python",
   "pygments_lexer": "ipython3",
   "version": "3.8.5"
  },
  "toc": {
   "base_numbering": 1,
   "nav_menu": {},
   "number_sections": false,
   "sideBar": true,
   "skip_h1_title": false,
   "title_cell": "Table of Contents",
   "title_sidebar": "Contents",
   "toc_cell": false,
   "toc_position": {},
   "toc_section_display": true,
   "toc_window_display": true
  }
 },
 "nbformat": 4,
 "nbformat_minor": 4
}

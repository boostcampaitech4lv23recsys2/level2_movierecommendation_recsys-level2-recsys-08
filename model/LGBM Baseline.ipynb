{
 "cells": [
  {
   "cell_type": "markdown",
   "metadata": {
    "id": "yt7sDAqHhfQp"
   },
   "source": [
    "# LGBM을 활용한 베이스라인"
   ]
  },
  {
   "cell_type": "code",
   "execution_count": 39,
   "metadata": {
    "ExecuteTime": {
     "end_time": "2022-11-18T13:38:15.702936Z",
     "start_time": "2022-11-18T13:38:15.431102Z"
    }
   },
   "outputs": [],
   "source": [
    "from IPython.core.interactiveshell import InteractiveShell\n",
    "InteractiveShell.ast_node_interactivity = 'all'\n",
    "\n",
    "import pandas as pd\n",
    "import numpy as np\n",
    "import os\n",
    "import random\n",
    "from tqdm import tqdm\n",
    "import torch\n",
    "from sklearn.model_selection import train_test_split\n",
    "\n",
    "import lightgbm as lgb\n",
    "# from sklearn.metrics import roc_auc_score\n",
    "# from sklearn.metrics import accuracy_score\n",
    "from sklearn.metrics import mean_squared_error"
   ]
  },
  {
   "cell_type": "markdown",
   "metadata": {
    "id": "QZlm5HSmhfQv"
   },
   "source": [
    "## 1. 데이터 로딩"
   ]
  },
  {
   "cell_type": "code",
   "execution_count": 184,
   "metadata": {
    "ExecuteTime": {
     "end_time": "2022-11-18T13:38:18.365525Z",
     "start_time": "2022-11-18T13:38:15.931173Z"
    },
    "id": "s6qgJ8MLhfQw"
   },
   "outputs": [],
   "source": [
    "main_df = pd.read_csv(\"/opt/ml/input/data/train/train_ratings.csv\")"
   ]
  },
  {
   "cell_type": "markdown",
   "metadata": {},
   "source": [
    "## 2. 데이터셋 만들기"
   ]
  },
  {
   "cell_type": "code",
   "execution_count": null,
   "metadata": {
    "tags": []
   },
   "outputs": [],
   "source": [
    "# set(list(main_df.groupby('user')['item'])[0][1]) #11번 유저가 본 아이템들"
   ]
  },
  {
   "cell_type": "code",
   "execution_count": 43,
   "metadata": {},
   "outputs": [],
   "source": [
    "main_df['rating'] = 1\n",
    "main_df = main_df.drop(columns='time', axis=1)"
   ]
  },
  {
   "cell_type": "code",
   "execution_count": 45,
   "metadata": {},
   "outputs": [
    {
     "data": {
      "text/html": [
       "<div>\n",
       "<style scoped>\n",
       "    .dataframe tbody tr th:only-of-type {\n",
       "        vertical-align: middle;\n",
       "    }\n",
       "\n",
       "    .dataframe tbody tr th {\n",
       "        vertical-align: top;\n",
       "    }\n",
       "\n",
       "    .dataframe thead th {\n",
       "        text-align: right;\n",
       "    }\n",
       "</style>\n",
       "<table border=\"1\" class=\"dataframe\">\n",
       "  <thead>\n",
       "    <tr style=\"text-align: right;\">\n",
       "      <th></th>\n",
       "      <th>user</th>\n",
       "      <th>item</th>\n",
       "      <th>rating</th>\n",
       "    </tr>\n",
       "  </thead>\n",
       "  <tbody>\n",
       "    <tr>\n",
       "      <th>0</th>\n",
       "      <td>11</td>\n",
       "      <td>4643</td>\n",
       "      <td>1</td>\n",
       "    </tr>\n",
       "    <tr>\n",
       "      <th>1</th>\n",
       "      <td>11</td>\n",
       "      <td>170</td>\n",
       "      <td>1</td>\n",
       "    </tr>\n",
       "    <tr>\n",
       "      <th>2</th>\n",
       "      <td>11</td>\n",
       "      <td>531</td>\n",
       "      <td>1</td>\n",
       "    </tr>\n",
       "  </tbody>\n",
       "</table>\n",
       "</div>"
      ],
      "text/plain": [
       "   user  item  rating\n",
       "0    11  4643       1\n",
       "1    11   170       1\n",
       "2    11   531       1"
      ]
     },
     "execution_count": 45,
     "metadata": {},
     "output_type": "execute_result"
    }
   ],
   "source": [
    "main_df.head(3)"
   ]
  },
  {
   "cell_type": "code",
   "execution_count": 46,
   "metadata": {},
   "outputs": [
    {
     "name": "stdout",
     "output_type": "stream",
     "text": [
      "Create Nagetive instances\n"
     ]
    },
    {
     "name": "stderr",
     "output_type": "stream",
     "text": [
      "100%|██████████| 31360/31360 [20:40<00:00, 25.27it/s]\n"
     ]
    },
    {
     "data": {
      "text/plain": [
       "user      0\n",
       "item      0\n",
       "rating    0\n",
       "dtype: int64"
      ]
     },
     "execution_count": 46,
     "metadata": {},
     "output_type": "execute_result"
    }
   ],
   "source": [
    "# 3. Negative instance 생성 : 각 유저별 true:false = 5:5, 20분정도 소요\n",
    "print(\"Create Nagetive instances\")\n",
    "# num_negative = 50\n",
    "user_group_dfs = list(main_df.groupby('user')['item'])\n",
    "\n",
    "first_row = True\n",
    "items = set(main_df.loc[:, 'item'])\n",
    "\n",
    "for u, u_items in tqdm(user_group_dfs):\n",
    "    u_items = set(u_items)                 #해당 유저가 본 아이템\n",
    "    i_user_neg_item = np.random.choice(list(items - u_items), len(u_items), replace=False)\n",
    "    \n",
    "    i_user_neg_df = pd.DataFrame({'user': [u]*len(u_items), 'item': i_user_neg_item, 'rating': [0]*len(u_items)})\n",
    "    if first_row == True:\n",
    "        user_neg_dfs = i_user_neg_df\n",
    "        first_row = False\n",
    "    else:\n",
    "        user_neg_dfs = pd.concat([user_neg_dfs, i_user_neg_df], axis = 0, sort=False)\n",
    "\n",
    "result = pd.concat([main_df, user_neg_dfs], axis = 0, sort=False)\n",
    "result.to_csv(\"user_direct_neg_sampling.csv\", index=False)\n",
    "result.isna().sum()"
   ]
  },
  {
   "cell_type": "code",
   "execution_count": 47,
   "metadata": {},
   "outputs": [],
   "source": [
    "result.to_csv(\"user_item_rating_neg_sampling.csv\", index=False)"
   ]
  },
  {
   "cell_type": "code",
   "execution_count": 56,
   "metadata": {},
   "outputs": [],
   "source": [
    "neg_train_result = result"
   ]
  },
  {
   "cell_type": "code",
   "execution_count": 57,
   "metadata": {},
   "outputs": [
    {
     "data": {
      "text/plain": [
       "(10308942, 3)"
      ]
     },
     "execution_count": 57,
     "metadata": {},
     "output_type": "execute_result"
    }
   ],
   "source": [
    "neg_train_result.shape"
   ]
  },
  {
   "cell_type": "code",
   "execution_count": 52,
   "metadata": {},
   "outputs": [],
   "source": [
    "ease_result = pd.read_csv('/opt/ml/input/fighting/Recbole/EASE_best.csv')"
   ]
  },
  {
   "cell_type": "code",
   "execution_count": 54,
   "metadata": {},
   "outputs": [
    {
     "data": {
      "text/plain": [
       "(9408000, 2)"
      ]
     },
     "execution_count": 54,
     "metadata": {},
     "output_type": "execute_result"
    }
   ],
   "source": [
    "ease_result.shape"
   ]
  },
  {
   "cell_type": "code",
   "execution_count": 58,
   "metadata": {
    "tags": []
   },
   "outputs": [],
   "source": [
    "# 차집합 구하기\n",
    "lgbm_train_df = pd.concat([neg_train_result, ease_result, ease_result]).drop_duplicates(subset=['user', 'item'], keep=False)\n"
   ]
  },
  {
   "cell_type": "code",
   "execution_count": 64,
   "metadata": {},
   "outputs": [
    {
     "data": {
      "text/plain": [
       "(10070694, 3)"
      ]
     },
     "execution_count": 64,
     "metadata": {},
     "output_type": "execute_result"
    }
   ],
   "source": [
    "lgbm_train_df.shape"
   ]
  },
  {
   "cell_type": "code",
   "execution_count": 62,
   "metadata": {},
   "outputs": [],
   "source": [
    "lgbm_train_df.to_csv(\"lgbm_train_df.csv\", index=False)"
   ]
  },
  {
   "cell_type": "code",
   "execution_count": 60,
   "metadata": {},
   "outputs": [],
   "source": [
    "# 10308942 - 10070694 = 약 23만 8천"
   ]
  },
  {
   "cell_type": "code",
   "execution_count": 63,
   "metadata": {},
   "outputs": [],
   "source": [
    "lgbm_inference_df = ease_result"
   ]
  },
  {
   "cell_type": "code",
   "execution_count": null,
   "metadata": {},
   "outputs": [],
   "source": []
  },
  {
   "cell_type": "markdown",
   "metadata": {},
   "source": [
    "## 3. Feature Engineering\n",
    "모듈화 한 피처들을 merge하면 된다."
   ]
  },
  {
   "cell_type": "code",
   "execution_count": 40,
   "metadata": {},
   "outputs": [],
   "source": [
    "# lgbm_train_df = pd.read_csv(\"/opt/ml/input/fighting/model/lgbm_train_df.csv\")\n",
    "# lgbm_inference_df = pd.read_csv(\"/opt/ml/input/fighting/Recbole/EASE_best.csv\")"
   ]
  },
  {
   "cell_type": "code",
   "execution_count": 44,
   "metadata": {},
   "outputs": [],
   "source": [
    "year_df = pd.read_csv(\"/opt/ml/input/fighting/FE/year/year_missingno.csv\")\n",
    "genre_df = pd.read_csv(\"/opt/ml/input/fighting/FE/genre/genre_bert_fe.csv\")\n",
    "director_inter_cnt = pd.read_csv(\"/opt/ml/input/fighting/FE/director/director_inter_cnt.csv\")\n",
    "writer_inter_cnt = pd.read_csv(\"/opt/ml/input/fighting/FE/writer/writer_inter_cnt.csv\")\n",
    "item_interaction = pd.read_csv(\"/opt/ml/input/fighting/FE/item/item_interaction_cnt.csv\")\n",
    "item_popular_dir_max_sum_cnt = pd.read_csv(\"/opt/ml/input/fighting/FE/director/item_popular_dir_max_sum_cnt.csv\")\n",
    "item_popular_wri_max_sum_cnt = pd.read_csv(\"/opt/ml/input/fighting/FE/writer/item_popular_wri_max_sum_cnt.csv\")\n",
    "user_seen_item_statistic = pd.read_csv(\"/opt/ml/input/fighting/FE/user/user_seen_item_statistic.csv\")"
   ]
  },
  {
   "cell_type": "code",
   "execution_count": 46,
   "metadata": {},
   "outputs": [],
   "source": [
    "train_df = lgbm_train_df.merge(year_df, how='left', on='item')\n",
    "train_df = train_df.merge(genre_df, how='left', on='item')\n",
    "train_df = train_df.merge(director_inter_cnt, how='left', on='item')\n",
    "train_df = train_df.merge(writer_inter_cnt, how='left', on='item')\n",
    "train_df = train_df.merge(item_interaction, how='left', on='item')\n",
    "train_df = train_df.merge(item_popular_dir_max_sum_cnt, how='left', on='item')\n",
    "train_df = train_df.merge(item_popular_wri_max_sum_cnt, how='left', on='item')\n",
    "train_df = train_df.merge(user_seen_item_statistic, how='left', on='user')"
   ]
  },
  {
   "cell_type": "code",
   "execution_count": 47,
   "metadata": {},
   "outputs": [
    {
     "data": {
      "text/plain": [
       "(10070694, 14)"
      ]
     },
     "execution_count": 47,
     "metadata": {},
     "output_type": "execute_result"
    }
   ],
   "source": [
    "train_df.shape"
   ]
  },
  {
   "cell_type": "code",
   "execution_count": 48,
   "metadata": {},
   "outputs": [
    {
     "data": {
      "text/html": [
       "<div>\n",
       "<style scoped>\n",
       "    .dataframe tbody tr th:only-of-type {\n",
       "        vertical-align: middle;\n",
       "    }\n",
       "\n",
       "    .dataframe tbody tr th {\n",
       "        vertical-align: top;\n",
       "    }\n",
       "\n",
       "    .dataframe thead th {\n",
       "        text-align: right;\n",
       "    }\n",
       "</style>\n",
       "<table border=\"1\" class=\"dataframe\">\n",
       "  <thead>\n",
       "    <tr style=\"text-align: right;\">\n",
       "      <th></th>\n",
       "      <th>user</th>\n",
       "      <th>item</th>\n",
       "      <th>rating</th>\n",
       "      <th>year</th>\n",
       "      <th>genre_embedding</th>\n",
       "      <th>director_info</th>\n",
       "      <th>writer_info</th>\n",
       "      <th>item_cnt</th>\n",
       "      <th>dir_max_cnt</th>\n",
       "      <th>dir_sum_cnt</th>\n",
       "      <th>wri_max_cnt</th>\n",
       "      <th>wri_sum_cnt</th>\n",
       "      <th>seen_item_inter_mean</th>\n",
       "      <th>seen_item_inter_std</th>\n",
       "    </tr>\n",
       "  </thead>\n",
       "  <tbody>\n",
       "    <tr>\n",
       "      <th>0</th>\n",
       "      <td>11</td>\n",
       "      <td>4643</td>\n",
       "      <td>1.0</td>\n",
       "      <td>2001.0</td>\n",
       "      <td>-0.010404</td>\n",
       "      <td>2859.444444</td>\n",
       "      <td>4146.333333</td>\n",
       "      <td>1122</td>\n",
       "      <td>7743</td>\n",
       "      <td>51470</td>\n",
       "      <td>8936</td>\n",
       "      <td>21339</td>\n",
       "      <td>3719.351064</td>\n",
       "      <td>4316.497874</td>\n",
       "    </tr>\n",
       "    <tr>\n",
       "      <th>1</th>\n",
       "      <td>11</td>\n",
       "      <td>170</td>\n",
       "      <td>1.0</td>\n",
       "      <td>1995.0</td>\n",
       "      <td>-0.010290</td>\n",
       "      <td>583.714286</td>\n",
       "      <td>269.562069</td>\n",
       "      <td>1107</td>\n",
       "      <td>2092</td>\n",
       "      <td>4086</td>\n",
       "      <td>1107</td>\n",
       "      <td>1107</td>\n",
       "      <td>3719.351064</td>\n",
       "      <td>4316.497874</td>\n",
       "    </tr>\n",
       "    <tr>\n",
       "      <th>2</th>\n",
       "      <td>11</td>\n",
       "      <td>531</td>\n",
       "      <td>1.0</td>\n",
       "      <td>1993.0</td>\n",
       "      <td>-0.010649</td>\n",
       "      <td>430.333333</td>\n",
       "      <td>5684.000000</td>\n",
       "      <td>966</td>\n",
       "      <td>966</td>\n",
       "      <td>1291</td>\n",
       "      <td>7743</td>\n",
       "      <td>19336</td>\n",
       "      <td>3719.351064</td>\n",
       "      <td>4316.497874</td>\n",
       "    </tr>\n",
       "  </tbody>\n",
       "</table>\n",
       "</div>"
      ],
      "text/plain": [
       "   user  item  rating    year  genre_embedding  director_info  writer_info  \\\n",
       "0    11  4643     1.0  2001.0        -0.010404    2859.444444  4146.333333   \n",
       "1    11   170     1.0  1995.0        -0.010290     583.714286   269.562069   \n",
       "2    11   531     1.0  1993.0        -0.010649     430.333333  5684.000000   \n",
       "\n",
       "   item_cnt  dir_max_cnt  dir_sum_cnt  wri_max_cnt  wri_sum_cnt  \\\n",
       "0      1122         7743        51470         8936        21339   \n",
       "1      1107         2092         4086         1107         1107   \n",
       "2       966          966         1291         7743        19336   \n",
       "\n",
       "   seen_item_inter_mean  seen_item_inter_std  \n",
       "0           3719.351064          4316.497874  \n",
       "1           3719.351064          4316.497874  \n",
       "2           3719.351064          4316.497874  "
      ]
     },
     "execution_count": 48,
     "metadata": {},
     "output_type": "execute_result"
    }
   ],
   "source": [
    "train_df.head(3)"
   ]
  },
  {
   "cell_type": "code",
   "execution_count": 77,
   "metadata": {},
   "outputs": [],
   "source": [
    "inference_df = lgbm_inference_df.merge(year_df, how='left', on='item')\n",
    "inference_df = inference_df.merge(genre_df, how='left', on='item')"
   ]
  },
  {
   "cell_type": "code",
   "execution_count": 49,
   "metadata": {},
   "outputs": [],
   "source": [
    "inference_df = lgbm_inference_df.merge(year_df, how='left', on='item')\n",
    "inference_df = inference_df.merge(genre_df, how='left', on='item')\n",
    "inference_df = inference_df.merge(director_inter_cnt, how='left', on='item')\n",
    "inference_df = inference_df.merge(writer_inter_cnt, how='left', on='item')\n",
    "inference_df = inference_df.merge(item_interaction, how='left', on='item')\n",
    "inference_df = inference_df.merge(item_popular_dir_max_sum_cnt, how='left', on='item')\n",
    "inference_df = inference_df.merge(item_popular_wri_max_sum_cnt, how='left', on='item')\n",
    "inference_df = inference_df.merge(user_seen_item_statistic, how='left', on='user')"
   ]
  },
  {
   "cell_type": "code",
   "execution_count": 50,
   "metadata": {},
   "outputs": [
    {
     "data": {
      "text/plain": [
       "(9408000, 13)"
      ]
     },
     "execution_count": 50,
     "metadata": {},
     "output_type": "execute_result"
    }
   ],
   "source": [
    "inference_df.shape"
   ]
  },
  {
   "cell_type": "code",
   "execution_count": 51,
   "metadata": {},
   "outputs": [
    {
     "data": {
      "text/html": [
       "<div>\n",
       "<style scoped>\n",
       "    .dataframe tbody tr th:only-of-type {\n",
       "        vertical-align: middle;\n",
       "    }\n",
       "\n",
       "    .dataframe tbody tr th {\n",
       "        vertical-align: top;\n",
       "    }\n",
       "\n",
       "    .dataframe thead th {\n",
       "        text-align: right;\n",
       "    }\n",
       "</style>\n",
       "<table border=\"1\" class=\"dataframe\">\n",
       "  <thead>\n",
       "    <tr style=\"text-align: right;\">\n",
       "      <th></th>\n",
       "      <th>user</th>\n",
       "      <th>item</th>\n",
       "      <th>year</th>\n",
       "      <th>genre_embedding</th>\n",
       "      <th>director_info</th>\n",
       "      <th>writer_info</th>\n",
       "      <th>item_cnt</th>\n",
       "      <th>dir_max_cnt</th>\n",
       "      <th>dir_sum_cnt</th>\n",
       "      <th>wri_max_cnt</th>\n",
       "      <th>wri_sum_cnt</th>\n",
       "      <th>seen_item_inter_mean</th>\n",
       "      <th>seen_item_inter_std</th>\n",
       "    </tr>\n",
       "  </thead>\n",
       "  <tbody>\n",
       "    <tr>\n",
       "      <th>0</th>\n",
       "      <td>11</td>\n",
       "      <td>4370</td>\n",
       "      <td>2001.0</td>\n",
       "      <td>-0.010420</td>\n",
       "      <td>4369.500000</td>\n",
       "      <td>5626.166667</td>\n",
       "      <td>3173</td>\n",
       "      <td>14224</td>\n",
       "      <td>130434</td>\n",
       "      <td>3734</td>\n",
       "      <td>11878</td>\n",
       "      <td>3719.351064</td>\n",
       "      <td>4316.497874</td>\n",
       "    </tr>\n",
       "    <tr>\n",
       "      <th>1</th>\n",
       "      <td>11</td>\n",
       "      <td>4886</td>\n",
       "      <td>2001.0</td>\n",
       "      <td>-0.010383</td>\n",
       "      <td>16267.000000</td>\n",
       "      <td>33020.428571</td>\n",
       "      <td>10826</td>\n",
       "      <td>12105</td>\n",
       "      <td>33840</td>\n",
       "      <td>12217</td>\n",
       "      <td>60006</td>\n",
       "      <td>3719.351064</td>\n",
       "      <td>4316.497874</td>\n",
       "    </tr>\n",
       "    <tr>\n",
       "      <th>2</th>\n",
       "      <td>11</td>\n",
       "      <td>47</td>\n",
       "      <td>1995.0</td>\n",
       "      <td>-0.010262</td>\n",
       "      <td>4853.181818</td>\n",
       "      <td>4527.200000</td>\n",
       "      <td>13857</td>\n",
       "      <td>18437</td>\n",
       "      <td>53385</td>\n",
       "      <td>13857</td>\n",
       "      <td>18569</td>\n",
       "      <td>3719.351064</td>\n",
       "      <td>4316.497874</td>\n",
       "    </tr>\n",
       "  </tbody>\n",
       "</table>\n",
       "</div>"
      ],
      "text/plain": [
       "   user  item    year  genre_embedding  director_info   writer_info  item_cnt  \\\n",
       "0    11  4370  2001.0        -0.010420    4369.500000   5626.166667      3173   \n",
       "1    11  4886  2001.0        -0.010383   16267.000000  33020.428571     10826   \n",
       "2    11    47  1995.0        -0.010262    4853.181818   4527.200000     13857   \n",
       "\n",
       "   dir_max_cnt  dir_sum_cnt  wri_max_cnt  wri_sum_cnt  seen_item_inter_mean  \\\n",
       "0        14224       130434         3734        11878           3719.351064   \n",
       "1        12105        33840        12217        60006           3719.351064   \n",
       "2        18437        53385        13857        18569           3719.351064   \n",
       "\n",
       "   seen_item_inter_std  \n",
       "0          4316.497874  \n",
       "1          4316.497874  \n",
       "2          4316.497874  "
      ]
     },
     "execution_count": 51,
     "metadata": {},
     "output_type": "execute_result"
    }
   ],
   "source": [
    "inference_df.head(3)"
   ]
  },
  {
   "cell_type": "code",
   "execution_count": null,
   "metadata": {},
   "outputs": [],
   "source": []
  },
  {
   "cell_type": "markdown",
   "metadata": {
    "id": "5VZzei3DhfQy"
   },
   "source": [
    "## 4. LGBM Train/Test 데이터 셋"
   ]
  },
  {
   "cell_type": "code",
   "execution_count": 108,
   "metadata": {
    "tags": []
   },
   "outputs": [],
   "source": [
    "# user별 interaction을 8:2로 split code\n",
    "# 하루종일 걸릴 것 같다.. (예상시간 12시간 넘었음)\n",
    "\n",
    "# import random\n",
    "\n",
    "# def custom_train_test_split(df, ratio=0.8):\n",
    "#     # user별 interaction을 8:2로 split\n",
    "#     user_group_dfs = list(df.groupby('user')['item'])\n",
    "\n",
    "#     first_row = True\n",
    "#     items = set(df.loc[:, 'item']) #아이템 개수 6807\n",
    "\n",
    "#     for u, u_items in tqdm(user_group_dfs):\n",
    "        \n",
    "#         random.shuffle(list(u_items))\n",
    "#         u_items = list(u_items)\n",
    "\n",
    "#         train_size = int(ratio * len(u_items))\n",
    "#         train_set_item = u_items[:train_size]\n",
    "#         test_set_item = u_items[train_size:]\n",
    "\n",
    "#         train_mask = df['item'].isin(train_set_item)\n",
    "#         test_mask = df['item'].isin(test_set_item)\n",
    "\n",
    "#         # Use the boolean masks to create the training and test sets\n",
    "#         train_set = df[train_mask]\n",
    "#         test_set = df[test_mask]\n",
    "\n",
    "#         if first_row == True:\n",
    "#             train = train_set\n",
    "#             test = test_set\n",
    "#             first_row = False\n",
    "#         else:\n",
    "#             train = pd.concat([train, train_set], axis=0, sort=False)\n",
    "#             test = pd.concat([test, test_set], axis=0, sort=False)\n",
    "#     return train, test\n",
    "\n",
    "# train_set, test_set = custom_train_test_split(train_df)"
   ]
  },
  {
   "cell_type": "code",
   "execution_count": 52,
   "metadata": {
    "tags": []
   },
   "outputs": [],
   "source": [
    "train_set, test_set = train_test_split(train_df, test_size=0.2, random_state=42)"
   ]
  },
  {
   "cell_type": "code",
   "execution_count": 53,
   "metadata": {},
   "outputs": [
    {
     "data": {
      "text/plain": [
       "Index(['user', 'item', 'rating', 'year', 'genre_embedding', 'director_info',\n",
       "       'writer_info', 'item_cnt', 'dir_max_cnt', 'dir_sum_cnt', 'wri_max_cnt',\n",
       "       'wri_sum_cnt', 'seen_item_inter_mean', 'seen_item_inter_std'],\n",
       "      dtype='object')"
      ]
     },
     "execution_count": 53,
     "metadata": {},
     "output_type": "execute_result"
    }
   ],
   "source": [
    "train_set.columns"
   ]
  },
  {
   "cell_type": "code",
   "execution_count": 104,
   "metadata": {},
   "outputs": [],
   "source": [
    "# X, y 값 분리\n",
    "FEATS = ['user', 'item', 'year', 'genre_embedding', 'item_cnt', 'seen_item_inter_mean', 'seen_item_inter_std', 'dir_max_cnt', 'dir_sum_cnt', 'wri_max_cnt',\n",
    "       'wri_sum_cnt', 'director_info', 'writer_info']\n",
    "\n",
    "y_train = train_set['rating']\n",
    "train = train_set.drop(['rating'], axis=1)\n",
    "\n",
    "y_test = test_set['rating']\n",
    "test = test_set.drop(['rating'], axis=1)"
   ]
  },
  {
   "cell_type": "code",
   "execution_count": 105,
   "metadata": {
    "ExecuteTime": {
     "end_time": "2022-11-17T06:06:04.281234Z",
     "start_time": "2022-11-17T06:06:04.265620Z"
    }
   },
   "outputs": [
    {
     "data": {
      "text/plain": [
       "((8056555, 13), (2014139, 13))"
      ]
     },
     "execution_count": 105,
     "metadata": {},
     "output_type": "execute_result"
    }
   ],
   "source": [
    "train.shape, test.shape"
   ]
  },
  {
   "cell_type": "code",
   "execution_count": 106,
   "metadata": {},
   "outputs": [],
   "source": [
    "# !python -m pip install lightgbm"
   ]
  },
  {
   "cell_type": "code",
   "execution_count": 107,
   "metadata": {},
   "outputs": [],
   "source": [
    "categorical_features = ['user','item','year']"
   ]
  },
  {
   "cell_type": "code",
   "execution_count": 108,
   "metadata": {
    "ExecuteTime": {
     "end_time": "2022-11-17T06:06:06.806072Z",
     "start_time": "2022-11-17T06:06:06.781239Z"
    },
    "id": "o59GhDdVhfQ1"
   },
   "outputs": [],
   "source": [
    "lgb_train = lgb.Dataset(train[FEATS], y_train, categorical_feature=categorical_features)\n",
    "lgb_test = lgb.Dataset(test[FEATS], y_test, categorical_feature=categorical_features)"
   ]
  },
  {
   "cell_type": "markdown",
   "metadata": {
    "id": "KiHss_BBhfQ2"
   },
   "source": [
    "## 5. 훈련 및 검증"
   ]
  },
  {
   "cell_type": "code",
   "execution_count": 109,
   "metadata": {
    "ExecuteTime": {
     "end_time": "2022-11-16T14:32:15.011774Z",
     "start_time": "2022-11-16T14:32:04.894300Z"
    },
    "id": "-6FZfjA_hfQ2"
   },
   "outputs": [
    {
     "name": "stderr",
     "output_type": "stream",
     "text": [
      "/opt/conda/lib/python3.8/site-packages/lightgbm/engine.py:181: UserWarning: 'early_stopping_rounds' argument is deprecated and will be removed in a future release of LightGBM. Pass 'early_stopping()' callback via 'callbacks' argument instead.\n",
      "  _log_warning(\"'early_stopping_rounds' argument is deprecated and will be removed in a future release of LightGBM. \"\n",
      "/opt/conda/lib/python3.8/site-packages/lightgbm/basic.py:2065: UserWarning: Using categorical_feature in Dataset.\n",
      "  _log_warning('Using categorical_feature in Dataset.')\n",
      "/opt/conda/lib/python3.8/site-packages/lightgbm/engine.py:239: UserWarning: 'verbose_eval' argument is deprecated and will be removed in a future release of LightGBM. Pass 'log_evaluation()' callback via 'callbacks' argument instead.\n",
      "  _log_warning(\"'verbose_eval' argument is deprecated and will be removed in a future release of LightGBM. \"\n"
     ]
    },
    {
     "name": "stdout",
     "output_type": "stream",
     "text": [
      "[LightGBM] [Warning] Unknown parameter: category_feat\n",
      "[LightGBM] [Warning] Unknown parameter: category_feat\n",
      "[LightGBM] [Info] Number of positive: 4123632, number of negative: 3932923\n",
      "[LightGBM] [Warning] Auto-choosing row-wise multi-threading, the overhead of testing was 0.059575 seconds.\n",
      "You can set `force_row_wise=true` to remove the overhead.\n",
      "And if memory is not enough, you can set `force_col_wise=true`.\n",
      "[LightGBM] [Info] Total Bins 32618\n",
      "[LightGBM] [Info] Number of data points in the train set: 8056555, number of used features: 13\n"
     ]
    },
    {
     "name": "stderr",
     "output_type": "stream",
     "text": [
      "/opt/conda/lib/python3.8/site-packages/lightgbm/basic.py:1780: UserWarning: Overriding the parameters from Reference Dataset.\n",
      "  _log_warning('Overriding the parameters from Reference Dataset.')\n",
      "/opt/conda/lib/python3.8/site-packages/lightgbm/basic.py:1513: UserWarning: categorical_column in param dict is overridden.\n",
      "  _log_warning(f'{cat_alias} in param dict is overridden.')\n"
     ]
    },
    {
     "name": "stdout",
     "output_type": "stream",
     "text": [
      "[LightGBM] [Warning] Unknown parameter: category_feat\n",
      "[LightGBM] [Info] [binary:BoostFromScore]: pavg=0.511836 -> initscore=0.047351\n",
      "[LightGBM] [Info] Start training from score 0.047351\n",
      "Training until validation scores don't improve for 100 rounds\n",
      "[100]\tvalid_0's binary_logloss: 0.383564\n",
      "[200]\tvalid_0's binary_logloss: 0.380419\n",
      "[300]\tvalid_0's binary_logloss: 0.377739\n",
      "[400]\tvalid_0's binary_logloss: 0.376208\n",
      "[500]\tvalid_0's binary_logloss: 0.375157\n",
      "Did not meet early stopping. Best iteration is:\n",
      "[500]\tvalid_0's binary_logloss: 0.375157\n",
      "RMSE : 0.11955\n",
      "\n"
     ]
    }
   ],
   "source": [
    "model = lgb.train(\n",
    "    {'objective': 'binary',\n",
    "     'category_feat':categorical_features}, \n",
    "    lgb_train,\n",
    "    valid_sets=[lgb_test],\n",
    "    verbose_eval=100,\n",
    "    num_boost_round=500,\n",
    "    early_stopping_rounds=100,\n",
    ")\n",
    "\n",
    "preds = model.predict(test[FEATS])\n",
    "rmse = mean_squared_error(y_test, preds)\n",
    "\n",
    "print(f'RMSE : {rmse:.5f}\\n')"
   ]
  },
  {
   "cell_type": "code",
   "execution_count": 110,
   "metadata": {
    "ExecuteTime": {
     "end_time": "2022-11-16T14:32:25.767046Z",
     "start_time": "2022-11-16T14:32:25.331822Z"
    },
    "id": "CKRjM0rxhfQ2"
   },
   "outputs": [
    {
     "data": {
      "image/png": "[encoded data removed]",
      "text/plain": [
       "<Figure size 432x288 with 1 Axes>"
      ]
     },
     "metadata": {
      "needs_background": "light"
     },
     "output_type": "display_data"
    }
   ],
   "source": [
    "# INSTALL MATPLOTLIB IN ADVANCE\n",
    "_ = lgb.plot_importance(model)"
   ]
  },
  {
   "cell_type": "markdown",
   "metadata": {
    "id": "8Bsff1ZVhfQ3"
   },
   "source": [
    "## 6. Inference"
   ]
  },
  {
   "cell_type": "code",
   "execution_count": 61,
   "metadata": {},
   "outputs": [],
   "source": [
    "tmp = pd.read_csv('/opt/ml/input/data/eval/sample_submission.csv')\n",
    "lst = list(tmp['user'].values)\n",
    "user_list = list(set(tmp['user'].values))\n",
    "user_list = sorted(user_list)"
   ]
  },
  {
   "cell_type": "code",
   "execution_count": 63,
   "metadata": {
    "tags": []
   },
   "outputs": [],
   "source": [
    "# user_list"
   ]
  },
  {
   "cell_type": "code",
   "execution_count": 111,
   "metadata": {},
   "outputs": [
    {
     "name": "stderr",
     "output_type": "stream",
     "text": [
      "100%|██████████| 31360/31360 [12:25<00:00, 42.07it/s]\n"
     ]
    },
    {
     "name": "stdout",
     "output_type": "stream",
     "text": [
      "dataframe으로 만드는 중\n",
      "csv 파일로 내보내는 중\n",
      "csv 파일로 내보내기 완료!\n"
     ]
    }
   ],
   "source": [
    "# Top 300개를 뽑았을 때 약 13분정도 소요\n",
    "first_row = True\n",
    "\n",
    "for user in tqdm(user_list):\n",
    "    user_df = inference_df[inference_df['user']==user][FEATS]\n",
    "    \n",
    "    y = model.predict(user_df)\n",
    "    y = torch.from_numpy(y)\n",
    "    _, indices = torch.topk(y, 10)\n",
    "    \n",
    "    user_rec = user_df.iloc[indices,:]\n",
    "    \n",
    "    if first_row == True:\n",
    "        result = user_rec\n",
    "        first_row = False\n",
    "    else:\n",
    "        result = pd.concat([result, user_rec], axis=0, sort=False)\n",
    "\n",
    "print(\"dataframe으로 만드는 중\")\n",
    "sub = pd.DataFrame(result, columns=[\"user\",\"item\"])\n",
    "print(\"csv 파일로 내보내는 중\")\n",
    "sub.to_csv(f\"EASE_LGBM_{rmse:.5f}_{FEATS}.csv\", index=False)\n",
    "print(\"csv 파일로 내보내기 완료!\")"
   ]
  },
  {
   "cell_type": "code",
   "execution_count": 112,
   "metadata": {},
   "outputs": [
    {
     "name": "stdout",
     "output_type": "stream",
     "text": [
      "EASE 결과 item 중 item번호가 10000 미만 item 개수: 7038430\n",
      "\n",
      "EASE 결과 item 중 item번호가 10000 이상 item 개수: 2369570\n",
      "\n",
      "LGBM 결과 item 중 item번호가 10000 미만 item 개수: 282194\n",
      "\n",
      "LGBM 결과 item 중 item번호가 10000 이상 item 개수: 31406\n",
      "\n",
      "비율이 좀 이상한 것 같다..\n"
     ]
    }
   ],
   "source": [
    "print(f\"EASE 결과 item 중 item번호가 10000 미만 item 개수: {len(inference_df.loc[(inference_df['item'] < 10000)])}\\n\")\n",
    "print(f\"EASE 결과 item 중 item번호가 10000 이상 item 개수: {len(inference_df.loc[(inference_df['item'] >= 10000)])}\\n\")\n",
    "print(f\"LGBM 결과 item 중 item번호가 10000 미만 item 개수: {len(sub.loc[(sub['item'] < 10000)])}\\n\")\n",
    "print(f\"LGBM 결과 item 중 item번호가 10000 이상 item 개수: {len(sub.loc[(sub['item'] >= 10000)])}\\n\")\n",
    "print(\"비율이 좀 이상한 것 같다..\")"
   ]
  },
  {
   "cell_type": "code",
   "execution_count": 230,
   "metadata": {},
   "outputs": [],
   "source": [
    "# 대신 예측한 아이템 300개 내에선 10개 추출은 잘 되는 것 같다.\n",
    "inf_res = set(inference_df.loc[(inference_df['user'] == 11)]['item'].values)"
   ]
  },
  {
   "cell_type": "code",
   "execution_count": 231,
   "metadata": {},
   "outputs": [],
   "source": [
    "sub_res = set(sub.loc[(sub['user'] == 11)]['item'].values)"
   ]
  },
  {
   "cell_type": "code",
   "execution_count": 232,
   "metadata": {},
   "outputs": [
    {
     "data": {
      "text/plain": [
       "set()"
      ]
     },
     "execution_count": 232,
     "metadata": {},
     "output_type": "execute_result"
    }
   ],
   "source": [
    "sub_res - inf_res"
   ]
  },
  {
   "cell_type": "code",
   "execution_count": null,
   "metadata": {},
   "outputs": [],
   "source": [
    "# year "
   ]
  },
  {
   "cell_type": "code",
   "execution_count": null,
   "metadata": {},
   "outputs": [],
   "source": []
  }
 ],
 "metadata": {
  "colab": {
   "collapsed_sections": [],
   "provenance": []
  },
  "kernelspec": {
   "display_name": "Python 3 (ipykernel)",
   "language": "python",
   "name": "python3"
  },
  "language_info": {
   "codemirror_mode": {
    "name": "ipython",
    "version": 3
   },
   "file_extension": ".py",
   "mimetype": "text/x-python",
   "name": "python",
   "nbconvert_exporter": "python",
   "pygments_lexer": "ipython3",
   "version": "3.8.5"
  },
  "toc": {
   "base_numbering": 1,
   "nav_menu": {},
   "number_sections": false,
   "sideBar": true,
   "skip_h1_title": false,
   "title_cell": "Table of Contents",
   "title_sidebar": "Contents",
   "toc_cell": false,
   "toc_position": {},
   "toc_section_display": true,
   "toc_window_display": true
  }
 },
 "nbformat": 4,
 "nbformat_minor": 4
}

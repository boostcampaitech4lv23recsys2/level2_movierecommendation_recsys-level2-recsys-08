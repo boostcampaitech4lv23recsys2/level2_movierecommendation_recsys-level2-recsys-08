{
 "cells": [
  {
   "cell_type": "code",
   "execution_count": 20,
   "id": "b905440b",
   "metadata": {
    "ExecuteTime": {
     "end_time": "2023-01-05T09:23:11.910588Z",
     "start_time": "2023-01-05T09:23:11.907705Z"
    }
   },
   "outputs": [],
   "source": [
    "import sys\n",
    "import pandas as pd\n",
    "from collections import defaultdict\n",
    "from tqdm import tqdm"
   ]
  },
  {
   "cell_type": "code",
   "execution_count": 78,
   "id": "8d1a30b9",
   "metadata": {
    "ExecuteTime": {
     "end_time": "2023-01-05T11:11:49.188020Z",
     "start_time": "2023-01-05T11:11:49.164077Z"
    }
   },
   "outputs": [
    {
     "data": {
      "text/plain": [
       "['ADMM@20.csv',\n",
       " 'CDAE@20.csv',\n",
       " 'EASE@20.csv',\n",
       " 'FFM@20.csv',\n",
       " 'GRU4RecF@20.csv',\n",
       " 'ItemKNN@20.csv',\n",
       " 'LGCN@20.csv',\n",
       " 'MultiDAE@20.csv',\n",
       " 'NeuMF@20.csv',\n",
       " 'Pop@20.csv',\n",
       " 'RecVAE@20.csv',\n",
       " 'SLIMElastic@20.csv']"
      ]
     },
     "execution_count": 78,
     "metadata": {},
     "output_type": "execute_result"
    }
   ],
   "source": [
    "filepaths=!ls *.csv\n",
    "filepaths=[i for i in filepaths if '@20' in i]\n",
    "filepaths"
   ]
  },
  {
   "cell_type": "code",
   "execution_count": 79,
   "id": "0f614411",
   "metadata": {
    "ExecuteTime": {
     "end_time": "2023-01-05T11:11:49.392305Z",
     "start_time": "2023-01-05T11:11:49.387580Z"
    }
   },
   "outputs": [],
   "source": [
    "ratios=[1,0.2,1,0.5,0.1,0.4,0.1,0.6,0.6,0.1,1,0.3,0.6]"
   ]
  },
  {
   "cell_type": "code",
   "execution_count": 80,
   "id": "3de8799a",
   "metadata": {
    "ExecuteTime": {
     "end_time": "2023-01-05T11:11:50.035705Z",
     "start_time": "2023-01-05T11:11:50.030842Z"
    }
   },
   "outputs": [
    {
     "data": {
      "text/plain": [
       "{'ADMM@20.csv': 1,\n",
       " 'CDAE@20.csv': 0.2,\n",
       " 'EASE@20.csv': 1,\n",
       " 'FFM@20.csv': 0.5,\n",
       " 'GRU4RecF@20.csv': 0.1,\n",
       " 'ItemKNN@20.csv': 0.4,\n",
       " 'LGCN@20.csv': 0.1,\n",
       " 'MultiDAE@20.csv': 0.6,\n",
       " 'NeuMF@20.csv': 0.6,\n",
       " 'Pop@20.csv': 0.1,\n",
       " 'RecVAE@20.csv': 1,\n",
       " 'SLIMElastic@20.csv': 0.3}"
      ]
     },
     "execution_count": 80,
     "metadata": {},
     "output_type": "execute_result"
    }
   ],
   "source": [
    "w_dict = dict(zip(filepaths,ratios))\n",
    "w_dict"
   ]
  },
  {
   "cell_type": "code",
   "execution_count": 81,
   "id": "c88dcd05",
   "metadata": {
    "ExecuteTime": {
     "end_time": "2023-01-05T11:11:53.329296Z",
     "start_time": "2023-01-05T11:11:52.203058Z"
    }
   },
   "outputs": [
    {
     "name": "stdout",
     "output_type": "stream",
     "text": [
      "순위별 가중치값 입력(ex: 1 0.9 0.8 ...)\n",
      "앙상블 모델 개수: 12\n"
     ]
    }
   ],
   "source": [
    "dataframe_list = []\n",
    "\n",
    "print('순위별 가중치값 입력(ex: 1 0.9 0.8 ...)')\n",
    "rank_ratio = [1 for _ in range(10)] + [0.3 for _ in range(5)]\n",
    "rank_len = len(rank_ratio)\n",
    "\n",
    "print(f\"앙상블 모델 개수: {len(filepaths)}\")\n",
    "\n",
    "for i in range(len(filepaths)):\n",
    "    dataframe_list.append(pd.read_csv(filepaths[i]))\n",
    "\n",
    "user_list = dataframe_list[0]['user'].unique()\n",
    "dataframe_len = len(dataframe_list)"
   ]
  },
  {
   "cell_type": "code",
   "execution_count": 68,
   "id": "a0996824",
   "metadata": {
    "ExecuteTime": {
     "end_time": "2023-01-05T09:54:25.159087Z",
     "start_time": "2023-01-05T09:54:25.155451Z"
    }
   },
   "outputs": [
    {
     "data": {
      "text/plain": [
       "31360"
      ]
     },
     "execution_count": 68,
     "metadata": {},
     "output_type": "execute_result"
    }
   ],
   "source": [
    "len(user_list)"
   ]
  },
  {
   "cell_type": "code",
   "execution_count": 69,
   "id": "4c24e700",
   "metadata": {
    "ExecuteTime": {
     "end_time": "2023-01-05T10:00:25.992905Z",
     "start_time": "2023-01-05T09:54:25.718530Z"
    }
   },
   "outputs": [
    {
     "name": "stderr",
     "output_type": "stream",
     "text": [
      "Ensemble: 100%|██████████████████████████████████████████████| 31360/31360 [06:00<00:00, 87.05it/s]\n"
     ]
    }
   ],
   "source": [
    "ratios = list(w_dict.values())\n",
    "K=10\n",
    "result = []\n",
    "tbar = tqdm(user_list, desc='Ensemble')\n",
    "for user in tbar:\n",
    "    temp = defaultdict(float)\n",
    "    for df_idx in range(dataframe_len):\n",
    "        items = dataframe_list[df_idx][dataframe_list[df_idx]['user'] == user]['item'].values\n",
    "        max_rank = min(len(items), rank_len)\n",
    "        for rank_idx in range(max_rank):\n",
    "            temp[items[rank_idx]] += rank_ratio[rank_idx] * ratios[df_idx]\n",
    "\n",
    "    for key, _ in sorted(temp.items(), key=lambda x: x[1], reverse=True)[:K]:\n",
    "        result.append((user, key))"
   ]
  },
  {
   "cell_type": "code",
   "execution_count": 82,
   "id": "8d138ab8",
   "metadata": {
    "ExecuteTime": {
     "end_time": "2023-01-05T11:11:57.726307Z",
     "start_time": "2023-01-05T11:11:57.721425Z"
    }
   },
   "outputs": [
    {
     "data": {
      "text/plain": [
       "'ADMM_1--CDAE_0.2--EASE_1--FFM_0.5--GRU4RecF_0.1--ItemKNN_0.4--LGCN_0.1--MultiDAE_0.6--NeuMF_0.6--Pop_0.1--RecVAE_1'"
      ]
     },
     "execution_count": 82,
     "metadata": {},
     "output_type": "execute_result"
    }
   ],
   "source": [
    "filename=\"--\".join([f\"{m.split('@')[0]}_{r}\" for m,r in zip(filepaths[:-1],ratios[:-1]) if \"@\" in m])\n",
    "filename"
   ]
  },
  {
   "cell_type": "code",
   "execution_count": 71,
   "id": "81df7db1",
   "metadata": {
    "ExecuteTime": {
     "end_time": "2023-01-05T10:00:26.643602Z",
     "start_time": "2023-01-05T10:00:26.000555Z"
    }
   },
   "outputs": [],
   "source": [
    "submission = pd.DataFrame(result, columns=['user', 'item'])\n",
    "submission.to_csv(f'{filename}.csv', index=False)"
   ]
  }
 ],
 "metadata": {
  "kernelspec": {
   "display_name": "Python 3 (ipykernel)",
   "language": "python",
   "name": "python3"
  },
  "language_info": {
   "codemirror_mode": {
    "name": "ipython",
    "version": 3
   },
   "file_extension": ".py",
   "mimetype": "text/x-python",
   "name": "python",
   "nbconvert_exporter": "python",
   "pygments_lexer": "ipython3",
   "version": "3.8.5"
  },
  "toc": {
   "base_numbering": 1,
   "nav_menu": {},
   "number_sections": true,
   "sideBar": true,
   "skip_h1_title": false,
   "title_cell": "Table of Contents",
   "title_sidebar": "Contents",
   "toc_cell": false,
   "toc_position": {},
   "toc_section_display": true,
   "toc_window_display": false
  }
 },
 "nbformat": 4,
 "nbformat_minor": 5
}

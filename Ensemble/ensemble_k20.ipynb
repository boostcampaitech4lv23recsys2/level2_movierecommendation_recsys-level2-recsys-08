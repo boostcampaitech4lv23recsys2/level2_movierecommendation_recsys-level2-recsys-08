{
 "cells": [
  {
   "cell_type": "code",
   "execution_count": 12,
   "id": "b905440b",
   "metadata": {
    "ExecuteTime": {
     "end_time": "2023-01-05T08:23:26.067920Z",
     "start_time": "2023-01-05T08:23:25.670681Z"
    }
   },
   "outputs": [],
   "source": [
    "import sys\n",
    "import pandas as pd\n",
    "from collections import defaultdict\n",
    "from tqdm import tqdm"
   ]
  },
  {
   "cell_type": "code",
   "execution_count": 1,
   "id": "f28512ce",
   "metadata": {
    "ExecuteTime": {
     "end_time": "2023-01-05T07:15:59.367300Z",
     "start_time": "2023-01-05T07:15:59.342352Z"
    }
   },
   "outputs": [
    {
     "data": {
      "text/plain": [
       "['ADMM@20.csv',\n",
       " 'EASE@20.csv',\n",
       " 'FFM@20.csv',\n",
       " 'GRU4RecF@20.csv',\n",
       " 'ItemKNN@20.csv',\n",
       " 'LGCN@20.csv',\n",
       " 'NeuMF@20.csv',\n",
       " 'Pop@20.csv',\n",
       " 'SLIMElastic@20.csv']"
      ]
     },
     "execution_count": 1,
     "metadata": {},
     "output_type": "execute_result"
    }
   ],
   "source": [
    "filepaths=!ls *.csv\n",
    "filepaths=[i for i in filepaths if '@20' in i]\n",
    "filepaths"
   ]
  },
  {
   "cell_type": "code",
   "execution_count": 33,
   "id": "b80c843b",
   "metadata": {
    "ExecuteTime": {
     "end_time": "2023-01-05T08:50:16.665332Z",
     "start_time": "2023-01-05T08:50:16.641981Z"
    }
   },
   "outputs": [
    {
     "data": {
      "text/plain": [
       "['ADMM@20.csv',\n",
       " 'CDAE@20.csv',\n",
       " 'EASE@20.csv',\n",
       " 'FFM@20.csv',\n",
       " 'GRU4RecF@20.csv',\n",
       " 'ItemKNN@20.csv',\n",
       " 'LGCN@20.csv',\n",
       " 'NeuMF@20.csv',\n",
       " 'Pop@20.csv',\n",
       " 'RecVAE@20.csv',\n",
       " 'SLIMElastic@20.csv']"
      ]
     },
     "execution_count": 33,
     "metadata": {},
     "output_type": "execute_result"
    }
   ],
   "source": [
    "filepaths=!ls *.csv\n",
    "filepaths=[i for i in filepaths if '@20' in i]\n",
    "filepaths"
   ]
  },
  {
   "cell_type": "code",
   "execution_count": 7,
   "id": "972fe99e",
   "metadata": {
    "ExecuteTime": {
     "end_time": "2023-01-05T08:22:26.364013Z",
     "start_time": "2023-01-05T08:22:26.361155Z"
    }
   },
   "outputs": [],
   "source": [
    "filepaths.append('../EASE_20.csv')"
   ]
  },
  {
   "cell_type": "code",
   "execution_count": 8,
   "id": "0f614411",
   "metadata": {
    "ExecuteTime": {
     "end_time": "2023-01-05T08:22:49.722967Z",
     "start_time": "2023-01-05T08:22:49.719909Z"
    }
   },
   "outputs": [],
   "source": [
    "ratios=[1,1,0.7,0.5,0.7,0.5,0.3,0.2,0.3,0.35]"
   ]
  },
  {
   "cell_type": "code",
   "execution_count": 10,
   "id": "604e7ffe",
   "metadata": {
    "ExecuteTime": {
     "end_time": "2023-01-05T08:22:57.163145Z",
     "start_time": "2023-01-05T08:22:57.159143Z"
    }
   },
   "outputs": [
    {
     "data": {
      "text/plain": [
       "{'ADMM@20.csv': 1,\n",
       " 'EASE@20.csv': 1,\n",
       " 'FFM@20.csv': 0.7,\n",
       " 'GRU4RecF@20.csv': 0.5,\n",
       " 'ItemKNN@20.csv': 0.7,\n",
       " 'LGCN@20.csv': 0.5,\n",
       " 'NeuMF@20.csv': 0.3,\n",
       " 'Pop@20.csv': 0.2,\n",
       " 'SLIMElastic@20.csv': 0.3,\n",
       " '../EASE_20.csv': 0.35}"
      ]
     },
     "execution_count": 10,
     "metadata": {},
     "output_type": "execute_result"
    }
   ],
   "source": [
    "w_dict = dict(zip(filepaths,ratios))\n",
    "w_dict"
   ]
  },
  {
   "cell_type": "code",
   "execution_count": 32,
   "id": "09796fee",
   "metadata": {
    "ExecuteTime": {
     "end_time": "2023-01-05T08:43:51.046791Z",
     "start_time": "2023-01-05T08:43:51.043418Z"
    }
   },
   "outputs": [
    {
     "name": "stdout",
     "output_type": "stream",
     "text": [
      "[1, 1, 1, 1, 1, 1, 1, 1, 1, 1, 0.3, 0.3, 0.3, 0.3, 0.3, 0.3, 0.3, 0.3, 0.3, 0.3]\n"
     ]
    }
   ],
   "source": [
    "print(rank_ratio)"
   ]
  },
  {
   "cell_type": "code",
   "execution_count": 22,
   "id": "c88dcd05",
   "metadata": {
    "ExecuteTime": {
     "end_time": "2023-01-05T08:32:53.776235Z",
     "start_time": "2023-01-05T08:32:52.882080Z"
    }
   },
   "outputs": [
    {
     "name": "stdout",
     "output_type": "stream",
     "text": [
      "순위별 가중치값 입력(ex: 1 0.9 0.8 ...)\n",
      "앙상블 모델 개수: 10\n"
     ]
    }
   ],
   "source": [
    "dataframe_list = []\n",
    "\n",
    "print('순위별 가중치값 입력(ex: 1 0.9 0.8 ...)')\n",
    "rank_ratio = [1 for _ in range(10)] + [0.3 for _ in range(5)]\n",
    "rank_len = len(rank_ratio)\n",
    "\n",
    "print(f\"앙상블 모델 개수: {len(filepaths)}\")\n",
    "\n",
    "for i in range(len(filepaths)):\n",
    "    dataframe_list.append(pd.read_csv(filepaths[i]))\n",
    "\n",
    "user_list = dataframe_list[0]['user'].unique()\n",
    "dataframe_len = len(dataframe_list)"
   ]
  },
  {
   "cell_type": "code",
   "execution_count": 23,
   "id": "a0996824",
   "metadata": {
    "ExecuteTime": {
     "end_time": "2023-01-05T08:32:53.851604Z",
     "start_time": "2023-01-05T08:32:53.847345Z"
    }
   },
   "outputs": [
    {
     "data": {
      "text/plain": [
       "31360"
      ]
     },
     "execution_count": 23,
     "metadata": {},
     "output_type": "execute_result"
    }
   ],
   "source": [
    "len(user_list)"
   ]
  },
  {
   "cell_type": "code",
   "execution_count": 24,
   "id": "59cbf6ea",
   "metadata": {
    "ExecuteTime": {
     "end_time": "2023-01-05T08:39:35.918890Z",
     "start_time": "2023-01-05T08:32:57.979841Z"
    }
   },
   "outputs": [
    {
     "name": "stderr",
     "output_type": "stream",
     "text": [
      "Ensemble: 100%|██████████████████████████████████████████████| 31360/31360 [06:37<00:00, 78.81it/s]\n"
     ]
    }
   ],
   "source": [
    "ratios = list(w_dict.values())\n",
    "K=10\n",
    "result = []\n",
    "tbar = tqdm(user_list, desc='Ensemble')\n",
    "for user in tbar:\n",
    "    temp = defaultdict(float)\n",
    "    for df_idx in range(dataframe_len):\n",
    "        items = dataframe_list[df_idx][dataframe_list[df_idx]['user'] == user]['item'].values\n",
    "        max_rank = min(len(items), rank_len)\n",
    "        for rank_idx in range(max_rank):\n",
    "            temp[items[rank_idx]] += rank_ratio[rank_idx] * ratios[df_idx]\n",
    "\n",
    "    for key, _ in sorted(temp.items(), key=lambda x: x[1], reverse=True)[:K]:\n",
    "        result.append((user, key))"
   ]
  },
  {
   "cell_type": "code",
   "execution_count": 17,
   "id": "8d138ab8",
   "metadata": {
    "ExecuteTime": {
     "end_time": "2023-01-05T08:31:38.656239Z",
     "start_time": "2023-01-05T08:31:38.650866Z"
    }
   },
   "outputs": [
    {
     "data": {
      "text/plain": [
       "'ADMM_1--EASE_1--FFM_0.7--GRU4RecF_0.5--ItemKNN_0.7--LGCN_0.5--NeuMF_0.3--Pop_0.2--SLIMElastic_0.3'"
      ]
     },
     "execution_count": 17,
     "metadata": {},
     "output_type": "execute_result"
    }
   ],
   "source": [
    "filename=\"--\".join([f\"{m.split('@')[0]}_{r}\" for m,r in zip(filepaths[:-1],ratios[:-1]) if \"@\" in m])\n",
    "filename"
   ]
  },
  {
   "cell_type": "code",
   "execution_count": 30,
   "id": "81df7db1",
   "metadata": {
    "ExecuteTime": {
     "end_time": "2023-01-05T08:41:46.140126Z",
     "start_time": "2023-01-05T08:41:45.483000Z"
    }
   },
   "outputs": [],
   "source": [
    "submission = pd.DataFrame(result, columns=['user', 'item'])\n",
    "submission.to_csv(f'{filename}.csv', index=False)"
   ]
  },
  {
   "cell_type": "code",
   "execution_count": 26,
   "id": "fddf53a0",
   "metadata": {
    "ExecuteTime": {
     "end_time": "2023-01-05T07:12:54.562630Z",
     "start_time": "2023-01-05T07:12:54.438408Z"
    }
   },
   "outputs": [
    {
     "name": "stdout",
     "output_type": "stream",
     "text": [
      "ADMM@20.csv\t\t\t\t    ItemKNN@20.csv\r\n",
      "EASE@10_1595.csv\t\t\t    LGCN@20.csv\r\n",
      "EASE@15.csv\t\t\t\t    Make_Retrieval_Set.ipynb\r\n",
      "EASE@20.csv\t\t\t\t    NeuMF@10_1048.csv\r\n",
      "EASE_1--FFM_0.6--NeuMF_0.6--RecVAE_0.9.csv  NeuMF@15.csv\r\n",
      "EASE_1--FFM_0.7--NeuMF_0.7--RecVAE_1.csv    NeuMF@20.csv\r\n",
      "EASE_1--FFM_1--NeuMF_1--RecVAE_1.csv\t    Pop@15.csv\r\n",
      "EASE_1--NeuMF_1--RecVAE_1.csv\t\t    Pop@20.csv\r\n",
      "Ensemble_1747.csv\t\t\t    RecVAE@10_1279.csv\r\n",
      "Ensemble_test.csv\t\t\t    SLIMElastic@15.csv\r\n",
      "Ensemble_test2.csv\t\t\t    SLIMElastic@20.csv\r\n",
      "FFM@10_1079.csv\t\t\t\t    Slim@10.csv\r\n",
      "FFM@15.csv\t\t\t\t    cust_blend.ipynb\r\n",
      "FFM@20.csv\t\t\t\t    ensemble.ipynb\r\n",
      "GRU4RecF@15.csv\t\t\t\t    ensemble_k15.ipynb\r\n",
      "GRU4RecF@20.csv\t\t\t\t    ensemble_test.csv\r\n",
      "ItemKNN@15.csv\r\n"
     ]
    }
   ],
   "source": [
    "!ls"
   ]
  },
  {
   "cell_type": "code",
   "execution_count": 15,
   "id": "5990dc2d",
   "metadata": {
    "ExecuteTime": {
     "end_time": "2023-01-05T07:05:23.949082Z",
     "start_time": "2023-01-05T07:05:23.826900Z"
    }
   },
   "outputs": [
    {
     "name": "stdout",
     "output_type": "stream",
     "text": [
      "/opt/ml/input/code/Ensemble/EASE_1--FFM_0.6--NeuMF_0.6--RecVAE_0.9.csv\r\n"
     ]
    }
   ],
   "source": [
    "!readlink -ef EASE_1--FFM_0.6--NeuMF_0.6--RecVAE_0.9.csv"
   ]
  },
  {
   "cell_type": "code",
   "execution_count": 26,
   "id": "9b52ce4f",
   "metadata": {
    "ExecuteTime": {
     "end_time": "2023-01-05T08:40:13.553033Z",
     "start_time": "2023-01-05T08:40:13.460675Z"
    }
   },
   "outputs": [],
   "source": [
    "file=pd.read_csv('SLIMElastic@15.csv')"
   ]
  },
  {
   "cell_type": "code",
   "execution_count": 27,
   "id": "4d066926",
   "metadata": {
    "ExecuteTime": {
     "end_time": "2023-01-05T08:40:23.409813Z",
     "start_time": "2023-01-05T08:40:23.327122Z"
    }
   },
   "outputs": [],
   "source": [
    "users = file.groupby('user').user.head(10).reset_index(drop=True)\n",
    "items = file.groupby('user').item.head(10).reset_index(drop=True)\n",
    "file = pd.concat([users,items],axis=1)"
   ]
  },
  {
   "cell_type": "code",
   "execution_count": 29,
   "id": "8031188a",
   "metadata": {
    "ExecuteTime": {
     "end_time": "2023-01-05T08:40:39.819709Z",
     "start_time": "2023-01-05T08:40:39.365794Z"
    }
   },
   "outputs": [],
   "source": [
    "file.to_csv(\"SLIMElastic@10.csv\",index=False)"
   ]
  },
  {
   "cell_type": "code",
   "execution_count": null,
   "id": "c606593a",
   "metadata": {},
   "outputs": [],
   "source": []
  },
  {
   "cell_type": "code",
   "execution_count": null,
   "id": "c0feb787",
   "metadata": {},
   "outputs": [],
   "source": []
  },
  {
   "cell_type": "code",
   "execution_count": null,
   "id": "fc5fe9a0",
   "metadata": {},
   "outputs": [],
   "source": []
  },
  {
   "cell_type": "code",
   "execution_count": null,
   "id": "d016b8bf",
   "metadata": {},
   "outputs": [],
   "source": []
  },
  {
   "cell_type": "code",
   "execution_count": null,
   "id": "697e9c5a",
   "metadata": {},
   "outputs": [],
   "source": [
    "ratios = []\n",
    "dataframe_list = []\n",
    "\n",
    "print('순위별 가중치값 입력(ex: 1 0.9 0.8 ...)')\n",
    "rank_ratio = list(map(float, sys.stdin.readline().split()))\n",
    "rank_len = len(rank_ratio)\n",
    "\n",
    "num = int(input('앙상블할 모델 결과 개수: '))\n",
    "\n",
    "for i in range(num):\n",
    "    filepath = input(f'{i+1}번째 파일 경로: ')\n",
    "    ratio = float(input(f'{i+1}번째 파일 가중치(0~1 사이 실수): '))\n",
    "    dataframe_list.append(pd.read_csv(filepath))\n",
    "    ratios.append(ratio)\n",
    "\n",
    "user_list = dataframe_list[0]['user'].unique()\n",
    "dataframe_len = len(dataframe_list)\n",
    "\n",
    "result = []\n",
    "tbar = tqdm(user_list, desc='Ensemble')\n",
    "for user in tbar:\n",
    "    temp = defaultdict(float)\n",
    "    for df_idx in range(dataframe_len):\n",
    "        items = dataframe_list[df_idx][dataframe_list[df_idx]['user'] == user]['item'].values\n",
    "        max_rank = min(len(items), rank_len)\n",
    "        for rank_idx in range(max_rank):\n",
    "            temp[items[rank_idx]] += rank_ratio[rank_idx] * ratios[df_idx]\n",
    "\n",
    "    for key, _ in sorted(temp.items(), key=lambda x: x[1], reverse=True)[:10]:\n",
    "        result.append((user, key))\n",
    "\n",
    "submission = pd.DataFrame(result, columns=['user', 'item'])\n",
    "submission.to_csv(f'ensemble({num})-file.csv', index=False)"
   ]
  }
 ],
 "metadata": {
  "kernelspec": {
   "display_name": "Python 3 (ipykernel)",
   "language": "python",
   "name": "python3"
  },
  "language_info": {
   "codemirror_mode": {
    "name": "ipython",
    "version": 3
   },
   "file_extension": ".py",
   "mimetype": "text/x-python",
   "name": "python",
   "nbconvert_exporter": "python",
   "pygments_lexer": "ipython3",
   "version": "3.8.5"
  },
  "toc": {
   "base_numbering": 1,
   "nav_menu": {},
   "number_sections": true,
   "sideBar": true,
   "skip_h1_title": false,
   "title_cell": "Table of Contents",
   "title_sidebar": "Contents",
   "toc_cell": false,
   "toc_position": {},
   "toc_section_display": true,
   "toc_window_display": false
  }
 },
 "nbformat": 4,
 "nbformat_minor": 5
}

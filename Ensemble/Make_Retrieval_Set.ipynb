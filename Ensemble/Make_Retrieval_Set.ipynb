{
 "cells": [
  {
   "cell_type": "code",
   "execution_count": 1,
   "id": "ed1f1b6e",
   "metadata": {
    "ExecuteTime": {
     "end_time": "2023-01-05T06:44:26.330451Z",
     "start_time": "2023-01-05T06:44:26.019294Z"
    }
   },
   "outputs": [],
   "source": [
    "import sys\n",
    "import pandas as pd\n",
    "from collections import defaultdict\n",
    "from tqdm import tqdm"
   ]
  },
  {
   "cell_type": "code",
   "execution_count": 72,
   "id": "4dbbd3c1",
   "metadata": {
    "ExecuteTime": {
     "end_time": "2023-01-05T07:47:50.149907Z",
     "start_time": "2023-01-05T07:47:48.044002Z"
    }
   },
   "outputs": [
    {
     "data": {
      "text/plain": [
       "313600"
      ]
     },
     "execution_count": 72,
     "metadata": {},
     "output_type": "execute_result"
    }
   ],
   "source": [
    "train=pd.read_csv(\"/opt/ml/input/data/train/train_ratings.csv\")\n",
    "len(set(train.user))*10"
   ]
  },
  {
   "cell_type": "code",
   "execution_count": 3,
   "id": "e4440bcc",
   "metadata": {
    "ExecuteTime": {
     "end_time": "2023-01-05T06:44:58.783507Z",
     "start_time": "2023-01-05T06:44:58.767766Z"
    }
   },
   "outputs": [
    {
     "data": {
      "text/plain": [
       "['EASE@10_1595.csv',\n",
       " 'FFM@10_1079.csv',\n",
       " 'NeuMF@10_1048.csv',\n",
       " 'RecVAE@10_1279.csv',\n",
       " 'Slim@10.csv']"
      ]
     },
     "execution_count": 3,
     "metadata": {},
     "output_type": "execute_result"
    }
   ],
   "source": [
    "filepaths=!ls *.csv\n",
    "filepaths=[i for i in filepaths if '@10' in i]\n",
    "filepaths"
   ]
  },
  {
   "cell_type": "code",
   "execution_count": 4,
   "id": "376747d0",
   "metadata": {
    "ExecuteTime": {
     "end_time": "2023-01-05T06:45:04.361726Z",
     "start_time": "2023-01-05T06:45:04.346774Z"
    }
   },
   "outputs": [
    {
     "data": {
      "text/plain": [
       "['EASE@15.csv',\n",
       " 'FFM@15.csv',\n",
       " 'GRU4RecF@15.csv',\n",
       " 'ItemKNN@15.csv',\n",
       " 'NeuMF@15.csv',\n",
       " 'Pop@15.csv',\n",
       " 'SLIMElastic@15.csv']"
      ]
     },
     "execution_count": 4,
     "metadata": {},
     "output_type": "execute_result"
    }
   ],
   "source": [
    "filepaths=!ls *.csv\n",
    "filepaths=[i for i in filepaths if '@15' in i]\n",
    "filepaths"
   ]
  },
  {
   "cell_type": "code",
   "execution_count": 24,
   "id": "f35fb256",
   "metadata": {
    "ExecuteTime": {
     "end_time": "2023-01-05T07:29:45.823157Z",
     "start_time": "2023-01-05T07:29:45.799197Z"
    }
   },
   "outputs": [
    {
     "data": {
      "text/plain": [
       "['ADMM@20.csv',\n",
       " 'EASE@20.csv',\n",
       " 'FFM@20.csv',\n",
       " 'GRU4RecF@20.csv',\n",
       " 'ItemKNN@20.csv',\n",
       " 'LGCN@20.csv',\n",
       " 'NeuMF@20.csv',\n",
       " 'Pop@20.csv',\n",
       " 'SLIMElastic@20.csv']"
      ]
     },
     "execution_count": 24,
     "metadata": {},
     "output_type": "execute_result"
    }
   ],
   "source": [
    "filepaths=!ls *.csv\n",
    "filepaths=[i for i in filepaths if '@20' in i]\n",
    "filepaths"
   ]
  },
  {
   "cell_type": "code",
   "execution_count": 37,
   "id": "0b50adc6",
   "metadata": {
    "ExecuteTime": {
     "end_time": "2023-01-05T07:41:09.073247Z",
     "start_time": "2023-01-05T07:41:09.070316Z"
    }
   },
   "outputs": [],
   "source": [
    "weight1=[20, 20, 10, 5, 10, 10, 10, 10, 15]"
   ]
  },
  {
   "cell_type": "code",
   "execution_count": 44,
   "id": "f94e1da7",
   "metadata": {
    "ExecuteTime": {
     "end_time": "2023-01-05T07:43:01.389056Z",
     "start_time": "2023-01-05T07:43:01.384952Z"
    }
   },
   "outputs": [],
   "source": [
    "weight2=[20, 20, 10, 5, 10, 5, 10, 5, 15]"
   ]
  },
  {
   "cell_type": "code",
   "execution_count": 49,
   "id": "893355b9",
   "metadata": {
    "ExecuteTime": {
     "end_time": "2023-01-05T07:43:48.299367Z",
     "start_time": "2023-01-05T07:43:48.295592Z"
    }
   },
   "outputs": [],
   "source": [
    "weight3=[20, 20, 5, 5, 10, 5, 10, 5, 15]"
   ]
  },
  {
   "cell_type": "code",
   "execution_count": 54,
   "id": "ea202c1d",
   "metadata": {
    "ExecuteTime": {
     "end_time": "2023-01-05T07:44:24.567339Z",
     "start_time": "2023-01-05T07:44:24.563738Z"
    }
   },
   "outputs": [],
   "source": [
    "weight4=[20, 20, 5, 5, 10, 5, 5, 5, 15]"
   ]
  },
  {
   "cell_type": "code",
   "execution_count": 59,
   "id": "cb8a235f",
   "metadata": {
    "ExecuteTime": {
     "end_time": "2023-01-05T07:45:20.036052Z",
     "start_time": "2023-01-05T07:45:20.032086Z"
    }
   },
   "outputs": [],
   "source": [
    "weight5=[20, 20, 5, 5, 10, 5, 5, 5, 10]"
   ]
  },
  {
   "cell_type": "code",
   "execution_count": 65,
   "id": "04899043",
   "metadata": {
    "ExecuteTime": {
     "end_time": "2023-01-05T07:46:25.341879Z",
     "start_time": "2023-01-05T07:46:25.337955Z"
    }
   },
   "outputs": [],
   "source": [
    "weight6=[15, 20, 5, 5, 10, 5, 5, 5, 10]"
   ]
  },
  {
   "cell_type": "code",
   "execution_count": 73,
   "id": "e09d6858",
   "metadata": {
    "ExecuteTime": {
     "end_time": "2023-01-05T07:48:11.160284Z",
     "start_time": "2023-01-05T07:48:11.157051Z"
    }
   },
   "outputs": [],
   "source": [
    "weight7=[15, 20, 5, 5, 10, 5, 5, 5, 5]"
   ]
  },
  {
   "cell_type": "code",
   "execution_count": 79,
   "id": "37dcceda",
   "metadata": {
    "ExecuteTime": {
     "end_time": "2023-01-05T07:49:09.088865Z",
     "start_time": "2023-01-05T07:49:09.085072Z"
    }
   },
   "outputs": [],
   "source": [
    "weight8=[15, 20, 5, 5, 5, 5, 5, 5, 5]"
   ]
  },
  {
   "cell_type": "code",
   "execution_count": 85,
   "id": "0caf6e7d",
   "metadata": {
    "ExecuteTime": {
     "end_time": "2023-01-05T07:50:16.016951Z",
     "start_time": "2023-01-05T07:50:16.013756Z"
    }
   },
   "outputs": [],
   "source": [
    "weight9=[13, 20, 5, 3, 5, 5, 5, 5, 5]"
   ]
  },
  {
   "cell_type": "code",
   "execution_count": 90,
   "id": "e67d9994",
   "metadata": {
    "ExecuteTime": {
     "end_time": "2023-01-05T07:51:06.929191Z",
     "start_time": "2023-01-05T07:51:06.925107Z"
    }
   },
   "outputs": [],
   "source": [
    "weight10=[10, 20, 3, 3, 5, 3, 3, 5, 5]"
   ]
  },
  {
   "cell_type": "code",
   "execution_count": 96,
   "id": "5abd582f",
   "metadata": {
    "ExecuteTime": {
     "end_time": "2023-01-05T07:52:12.441368Z",
     "start_time": "2023-01-05T07:52:12.437389Z"
    }
   },
   "outputs": [],
   "source": [
    "weight11=[10, 20, 1, 1, 3, 1, 2, 2, 3]"
   ]
  },
  {
   "cell_type": "code",
   "execution_count": 103,
   "id": "c96a1f3b",
   "metadata": {
    "ExecuteTime": {
     "end_time": "2023-01-05T07:53:24.173581Z",
     "start_time": "2023-01-05T07:53:24.169496Z"
    }
   },
   "outputs": [],
   "source": [
    "weight12=[1, 20, 1, 1, 1, 1, 1, 1, 1]"
   ]
  },
  {
   "cell_type": "code",
   "execution_count": 104,
   "id": "af3374e5",
   "metadata": {
    "ExecuteTime": {
     "end_time": "2023-01-05T07:53:24.757259Z",
     "start_time": "2023-01-05T07:53:24.753904Z"
    }
   },
   "outputs": [
    {
     "name": "stdout",
     "output_type": "stream",
     "text": [
      "['ADMM@20.csv', 'EASE@20.csv', 'FFM@20.csv', 'GRU4RecF@20.csv', 'ItemKNN@20.csv', 'LGCN@20.csv', 'NeuMF@20.csv', 'Pop@20.csv', 'SLIMElastic@20.csv']\n"
     ]
    }
   ],
   "source": [
    "print(filepaths)"
   ]
  },
  {
   "cell_type": "code",
   "execution_count": 105,
   "id": "1a296da5",
   "metadata": {
    "ExecuteTime": {
     "end_time": "2023-01-05T07:53:29.242427Z",
     "start_time": "2023-01-05T07:53:27.685020Z"
    }
   },
   "outputs": [
    {
     "data": {
      "text/plain": [
       "(878080, 2)"
      ]
     },
     "execution_count": 105,
     "metadata": {},
     "output_type": "execute_result"
    }
   ],
   "source": [
    "df=pd.DataFrame()\n",
    "\n",
    "for i in range(len(filepaths)):\n",
    "    csv=filepaths[i]\n",
    "    file = pd.read_csv(csv)\n",
    "    K=weight12[i]\n",
    "    users = file.groupby('user').user.head(K).reset_index(drop=True)\n",
    "    items = file.groupby('user').item.head(K).reset_index(drop=True)\n",
    "    file = pd.concat([users,items],axis=1)\n",
    "    df = pd.concat([df,file])\n",
    "\n",
    "df.shape"
   ]
  },
  {
   "cell_type": "code",
   "execution_count": 142,
   "id": "84054a71",
   "metadata": {
    "ExecuteTime": {
     "end_time": "2023-01-05T08:05:18.449864Z",
     "start_time": "2023-01-05T08:05:17.347099Z"
    }
   },
   "outputs": [],
   "source": [
    "df.to_csv(\"Retrieval_set_w14.csv\",index=False)"
   ]
  },
  {
   "cell_type": "code",
   "execution_count": 144,
   "id": "5f01a5fc",
   "metadata": {
    "ExecuteTime": {
     "end_time": "2023-01-05T11:14:14.349135Z",
     "start_time": "2023-01-05T11:14:12.298158Z"
    }
   },
   "outputs": [
    {
     "name": "stdout",
     "output_type": "stream",
     "text": [
      "731967 Retrieval_set_w14.csv\n",
      "겹치는 결과 개수: 278707\n",
      "겁치는 결과 비율: 278707 / 731966 = 38.08%\n",
      "\n",
      "겹치는 결과 개수: 342276\n",
      "겁치는 결과 비율: 342276 / 731966 = 46.76%\n",
      "\n"
     ]
    }
   ],
   "source": [
    "!wc -l Retrieval_set_w14.csv\n",
    "!/opt/ml/input/code/utils/similarity.py -a Retrieval_set_w14.csv -b Ensemble_1747.csv\n",
    "!/opt/ml/input/code/utils/similarity.py -a Retrieval_set_w14.csv -b Ensemble\\@13.csv"
   ]
  },
  {
   "cell_type": "code",
   "execution_count": 145,
   "id": "e6bb5285",
   "metadata": {
    "ExecuteTime": {
     "end_time": "2023-01-05T11:14:16.393971Z",
     "start_time": "2023-01-05T11:14:14.351967Z"
    }
   },
   "outputs": [
    {
     "name": "stdout",
     "output_type": "stream",
     "text": [
      "714323 Retrieval_set_w13.csv\n",
      "겹치는 결과 개수: 278192\n",
      "겁치는 결과 비율: 278192 / 714322 = 38.94%\n",
      "\n",
      "겹치는 결과 개수: 341131\n",
      "겁치는 결과 비율: 341131 / 714322 = 47.76%\n",
      "\n"
     ]
    }
   ],
   "source": [
    "!wc -l Retrieval_set_w13.csv\n",
    "\n",
    "!/opt/ml/input/code/utils/similarity.py -a Retrieval_set_w13.csv -b Ensemble_1747.csv\n",
    "!/opt/ml/input/code/utils/similarity.py -a Retrieval_set_w13.csv -b Ensemble\\@13.csv"
   ]
  },
  {
   "cell_type": "code",
   "execution_count": 161,
   "id": "41de557d",
   "metadata": {
    "ExecuteTime": {
     "end_time": "2023-01-05T11:15:05.188701Z",
     "start_time": "2023-01-05T11:15:03.178079Z"
    }
   },
   "outputs": [
    {
     "name": "stdout",
     "output_type": "stream",
     "text": [
      "694125 Retrieval_set_w12.csv\n",
      "겹치는 결과 개수: 277522\n",
      "겁치는 결과 비율: 277522 / 694124 = 39.98%\n",
      "\n",
      "겹치는 결과 개수: 339711\n",
      "겁치는 결과 비율: 339711 / 694124 = 48.94%\n",
      "\n"
     ]
    }
   ],
   "source": [
    "!wc -l Retrieval_set_w12.csv\n",
    "!/opt/ml/input/code/utils/similarity.py -a Retrieval_set_w12.csv -b Ensemble_1747.csv\n",
    "!/opt/ml/input/code/utils/similarity.py -a Retrieval_set_w12.csv -b Ensemble\\@13.csv"
   ]
  },
  {
   "cell_type": "code",
   "execution_count": 162,
   "id": "2474bdb7",
   "metadata": {
    "ExecuteTime": {
     "end_time": "2023-01-05T11:15:07.319999Z",
     "start_time": "2023-01-05T11:15:05.191125Z"
    }
   },
   "outputs": [
    {
     "name": "stdout",
     "output_type": "stream",
     "text": [
      "769423 Retrieval_set_w11.csv\n",
      "겹치는 결과 개수: 289204\n",
      "겁치는 결과 비율: 289204 / 769422 = 37.59%\n",
      "\n",
      "겹치는 결과 개수: 357702\n",
      "겁치는 결과 비율: 357702 / 769422 = 46.49%\n",
      "\n"
     ]
    }
   ],
   "source": [
    "!wc -l Retrieval_set_w11.csv\n",
    "!/opt/ml/input/code/utils/similarity.py -a Retrieval_set_w11.csv -b Ensemble_1747.csv\n",
    "!/opt/ml/input/code/utils/similarity.py -a Retrieval_set_w11.csv -b Ensemble\\@13.csv"
   ]
  },
  {
   "cell_type": "code",
   "execution_count": 163,
   "id": "b929148f",
   "metadata": {
    "ExecuteTime": {
     "end_time": "2023-01-05T11:15:09.620102Z",
     "start_time": "2023-01-05T11:15:07.323047Z"
    }
   },
   "outputs": [
    {
     "name": "stdout",
     "output_type": "stream",
     "text": [
      "921965 Retrieval_set_w10.csv\n",
      "겹치는 결과 개수: 300498\n",
      "겁치는 결과 비율: 300498 / 921964 = 32.59%\n",
      "\n",
      "407681 Ensemble@13.csv\n",
      "겹치는 결과 개수: 376995\n",
      "겁치는 결과 비율: 376995 / 921964 = 40.89%\n",
      "\n"
     ]
    }
   ],
   "source": [
    "!wc -l Retrieval_set_w10.csv\n",
    "!/opt/ml/input/code/utils/similarity.py -a Retrieval_set_w10.csv -b Ensemble_1747.csv\n",
    "!wc -l Ensemble@13.csv\n",
    "!/opt/ml/input/code/utils/similarity.py -a Retrieval_set_w10.csv -b Ensemble\\@13.csv"
   ]
  },
  {
   "cell_type": "code",
   "execution_count": 164,
   "id": "869e2676",
   "metadata": {
    "ExecuteTime": {
     "end_time": "2023-01-05T11:15:11.873479Z",
     "start_time": "2023-01-05T11:15:09.622472Z"
    }
   },
   "outputs": [
    {
     "name": "stdout",
     "output_type": "stream",
     "text": [
      "998105 Retrieval_set_w9.csv\n",
      "겹치는 결과 개수: 306860\n",
      "겁치는 결과 비율: 306860 / 998104 = 30.74%\n",
      "\n",
      "겹치는 결과 개수: 390361\n",
      "겁치는 결과 비율: 390361 / 998104 = 39.11%\n",
      "\n"
     ]
    }
   ],
   "source": [
    "!wc -l Retrieval_set_w9.csv\n",
    "!/opt/ml/input/code/utils/similarity.py -a Retrieval_set_w9.csv -b Ensemble_1747.csv\n",
    "!/opt/ml/input/code/utils/similarity.py -a Retrieval_set_w9.csv -b Ensemble\\@13.csv"
   ]
  },
  {
   "cell_type": "code",
   "execution_count": 165,
   "id": "fc0033e9",
   "metadata": {
    "ExecuteTime": {
     "end_time": "2023-01-05T11:15:14.208614Z",
     "start_time": "2023-01-05T11:15:11.935249Z"
    }
   },
   "outputs": [
    {
     "name": "stdout",
     "output_type": "stream",
     "text": [
      "1070370 Retrieval_set_w8.csv\n",
      "겹치는 결과 개수: 307370\n",
      "겁치는 결과 비율: 307370 / 1070369 = 28.72%\n",
      "\n",
      "겹치는 결과 개수: 391402\n",
      "겁치는 결과 비율: 391402 / 1070369 = 36.57%\n",
      "\n"
     ]
    }
   ],
   "source": [
    "!wc -l Retrieval_set_w8.csv\n",
    "!/opt/ml/input/code/utils/similarity.py -a Retrieval_set_w8.csv -b Ensemble_1747.csv\n",
    "!/opt/ml/input/code/utils/similarity.py -a Retrieval_set_w8.csv -b Ensemble\\@13.csv"
   ]
  },
  {
   "cell_type": "code",
   "execution_count": 166,
   "id": "7f2dfca9",
   "metadata": {
    "ExecuteTime": {
     "end_time": "2023-01-05T11:15:16.670155Z",
     "start_time": "2023-01-05T11:15:14.352619Z"
    }
   },
   "outputs": [
    {
     "name": "stdout",
     "output_type": "stream",
     "text": [
      "1118608 Retrieval_set_w7.csv\n",
      "겹치는 결과 개수: 308692\n",
      "겁치는 결과 비율: 308692 / 1118607 = 27.60%\n",
      "\n",
      "겹치는 결과 개수: 393963\n",
      "겁치는 결과 비율: 393963 / 1118607 = 35.22%\n",
      "\n"
     ]
    }
   ],
   "source": [
    "!wc -l Retrieval_set_w7.csv\n",
    "!/opt/ml/input/code/utils/similarity.py -a Retrieval_set_w7.csv -b Ensemble_1747.csv\n",
    "!/opt/ml/input/code/utils/similarity.py -a Retrieval_set_w7.csv -b Ensemble\\@13.csv"
   ]
  },
  {
   "cell_type": "code",
   "execution_count": 167,
   "id": "1c37bd72",
   "metadata": {
    "ExecuteTime": {
     "end_time": "2023-01-05T11:15:20.014398Z",
     "start_time": "2023-01-05T11:15:17.669846Z"
    }
   },
   "outputs": [
    {
     "name": "stdout",
     "output_type": "stream",
     "text": [
      "1134256 Retrieval_set_w6.csv\n",
      "겹치는 결과 개수: 310316\n",
      "겁치는 결과 비율: 310316 / 1134255 = 27.36%\n",
      "\n",
      "겹치는 결과 개수: 396467\n",
      "겁치는 결과 비율: 396467 / 1134255 = 34.95%\n",
      "\n"
     ]
    }
   ],
   "source": [
    "!wc -l Retrieval_set_w6.csv\n",
    "!/opt/ml/input/code/utils/similarity.py -a Retrieval_set_w6.csv -b Ensemble_1747.csv\n",
    "!/opt/ml/input/code/utils/similarity.py -a Retrieval_set_w6.csv -b Ensemble\\@13.csv"
   ]
  },
  {
   "cell_type": "code",
   "execution_count": 168,
   "id": "0085c729",
   "metadata": {
    "ExecuteTime": {
     "end_time": "2023-01-05T11:15:22.392049Z",
     "start_time": "2023-01-05T11:15:20.017451Z"
    }
   },
   "outputs": [
    {
     "name": "stdout",
     "output_type": "stream",
     "text": [
      "1195951 Retrieval_set_w5.csv\n",
      "겹치는 결과 개수: 310316\n",
      "겁치는 결과 비율: 310316 / 1134255 = 27.36%\n",
      "\n",
      "겹치는 결과 개수: 397234\n",
      "겁치는 결과 비율: 397234 / 1195950 = 33.21%\n",
      "\n"
     ]
    }
   ],
   "source": [
    "!wc -l Retrieval_set_w5.csv\n",
    "!/opt/ml/input/code/utils/similarity.py -a Retrieval_set_w6.csv -b Ensemble_1747.csv\n",
    "!/opt/ml/input/code/utils/similarity.py -a Retrieval_set_w5.csv -b Ensemble\\@13.csv"
   ]
  },
  {
   "cell_type": "code",
   "execution_count": 169,
   "id": "6483f3a0",
   "metadata": {
    "ExecuteTime": {
     "end_time": "2023-01-05T11:15:23.721923Z",
     "start_time": "2023-01-05T11:15:22.394693Z"
    }
   },
   "outputs": [
    {
     "name": "stdout",
     "output_type": "stream",
     "text": [
      "1230534 Retrieval_set_W4.csv\n",
      "겹치는 결과 개수: 397739\n",
      "겁치는 결과 비율: 397739 / 1230533 = 32.32%\n",
      "\n"
     ]
    }
   ],
   "source": [
    "!wc -l Retrieval_set_W4.csv\n",
    "!/opt/ml/input/code/utils/similarity.py -a Retrieval_set_W4.csv -b Ensemble\\@13.csv"
   ]
  },
  {
   "cell_type": "code",
   "execution_count": 170,
   "id": "74506307",
   "metadata": {
    "ExecuteTime": {
     "end_time": "2023-01-05T11:15:25.959952Z",
     "start_time": "2023-01-05T11:15:24.605500Z"
    }
   },
   "outputs": [
    {
     "name": "stdout",
     "output_type": "stream",
     "text": [
      "1294605 Retrieval_set_W3.csv\n",
      "겹치는 결과 개수: 406231\n",
      "겁치는 결과 비율: 406231 / 1294604 = 31.38%\n",
      "\n"
     ]
    }
   ],
   "source": [
    "!wc -l Retrieval_set_W3.csv\n",
    "!/opt/ml/input/code/utils/similarity.py -a Retrieval_set_W3.csv -b Ensemble\\@13.csv"
   ]
  },
  {
   "cell_type": "code",
   "execution_count": 171,
   "id": "de0d193f",
   "metadata": {
    "ExecuteTime": {
     "end_time": "2023-01-05T11:15:28.577998Z",
     "start_time": "2023-01-05T11:15:27.242890Z"
    }
   },
   "outputs": [
    {
     "name": "stdout",
     "output_type": "stream",
     "text": [
      "1339545 Retrieval_set_W2.csv\n",
      "겹치는 결과 개수: 407680\n",
      "겁치는 결과 비율: 407680 / 1339544 = 30.43%\n",
      "\n"
     ]
    }
   ],
   "source": [
    "!wc -l Retrieval_set_W2.csv\n",
    "!/opt/ml/input/code/utils/similarity.py -a Retrieval_set_W2.csv -b Ensemble\\@13.csv"
   ]
  },
  {
   "cell_type": "code",
   "execution_count": 172,
   "id": "bf1c6a9b",
   "metadata": {
    "ExecuteTime": {
     "end_time": "2023-01-05T11:15:32.757978Z",
     "start_time": "2023-01-05T11:15:31.357279Z"
    }
   },
   "outputs": [
    {
     "name": "stdout",
     "output_type": "stream",
     "text": [
      "1544434 Retrieval_set_W1.csv\n",
      "겹치는 결과 개수: 407680\n",
      "겁치는 결과 비율: 407680 / 1544433 = 26.40%\n",
      "\n"
     ]
    }
   ],
   "source": [
    "!wc -l Retrieval_set_W1.csv\n",
    "!/opt/ml/input/code/utils/similarity.py -a Retrieval_set_W1.csv -b Ensemble\\@13.csv"
   ]
  },
  {
   "cell_type": "code",
   "execution_count": 173,
   "id": "6070e35b",
   "metadata": {
    "ExecuteTime": {
     "end_time": "2023-01-05T11:15:35.910174Z",
     "start_time": "2023-01-05T11:15:34.492606Z"
    }
   },
   "outputs": [
    {
     "name": "stdout",
     "output_type": "stream",
     "text": [
      "1544434 Retrieval_set_W1.csv\n",
      "겹치는 결과 개수: 407680\n",
      "겁치는 결과 비율: 407680 / 1544433 = 26.40%\n",
      "\n"
     ]
    }
   ],
   "source": [
    "!wc -l Retrieval_set_W1.csv\n",
    "!/opt/ml/input/code/utils/similarity.py -a Retrieval_set_W1.csv -b Ensemble\\@13.csv"
   ]
  },
  {
   "cell_type": "code",
   "execution_count": 174,
   "id": "6f5fbe76",
   "metadata": {
    "ExecuteTime": {
     "end_time": "2023-01-05T11:15:38.707396Z",
     "start_time": "2023-01-05T11:15:37.091441Z"
    }
   },
   "outputs": [
    {
     "name": "stdout",
     "output_type": "stream",
     "text": [
      "1807531 Retrieval_set_15.csv\n",
      "겹치는 결과 개수: 407680\n",
      "겁치는 결과 비율: 407680 / 1807530 = 22.55%\n",
      "\n"
     ]
    }
   ],
   "source": [
    "!wc -l Retrieval_set_15.csv\n",
    "!/opt/ml/input/code/utils/similarity.py -a Retrieval_set_15.csv -b Ensemble\\@13.csv"
   ]
  },
  {
   "cell_type": "code",
   "execution_count": 175,
   "id": "a0e4a0ec",
   "metadata": {
    "ExecuteTime": {
     "end_time": "2023-01-05T11:15:40.381762Z",
     "start_time": "2023-01-05T11:15:39.055249Z"
    }
   },
   "outputs": [
    {
     "name": "stdout",
     "output_type": "stream",
     "text": [
      "1274604 Retrieval_set_10.csv\n",
      "겹치는 결과 개수: 407679\n",
      "겁치는 결과 비율: 407679 / 1274603 = 31.98%\n",
      "\n"
     ]
    }
   ],
   "source": [
    "!wc -l Retrieval_set_10.csv\n",
    "!/opt/ml/input/code/utils/similarity.py -a Retrieval_set_10.csv -b Ensemble\\@13.csv"
   ]
  },
  {
   "cell_type": "code",
   "execution_count": null,
   "id": "5dc8ab3f",
   "metadata": {},
   "outputs": [],
   "source": [
    "scp -P 2240 Retrieval_set.csv root@27.96.131.55:~\n",
    "scp -P 2226 Retrieval_set.csv root@101.101.216.53:~"
   ]
  }
 ],
 "metadata": {
  "kernelspec": {
   "display_name": "Python 3 (ipykernel)",
   "language": "python",
   "name": "python3"
  },
  "language_info": {
   "codemirror_mode": {
    "name": "ipython",
    "version": 3
   },
   "file_extension": ".py",
   "mimetype": "text/x-python",
   "name": "python",
   "nbconvert_exporter": "python",
   "pygments_lexer": "ipython3",
   "version": "3.8.5"
  },
  "toc": {
   "base_numbering": 1,
   "nav_menu": {},
   "number_sections": true,
   "sideBar": true,
   "skip_h1_title": false,
   "title_cell": "Table of Contents",
   "title_sidebar": "Contents",
   "toc_cell": false,
   "toc_position": {},
   "toc_section_display": true,
   "toc_window_display": false
  }
 },
 "nbformat": 4,
 "nbformat_minor": 5
}

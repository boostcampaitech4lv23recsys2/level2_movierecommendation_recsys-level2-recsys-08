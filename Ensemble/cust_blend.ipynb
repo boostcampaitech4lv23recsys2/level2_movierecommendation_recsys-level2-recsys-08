{
 "cells": [
  {
   "cell_type": "code",
   "execution_count": 76,
   "id": "d81012ba",
   "metadata": {
    "ExecuteTime": {
     "end_time": "2023-01-03T17:37:54.507442Z",
     "start_time": "2023-01-03T17:37:54.504551Z"
    }
   },
   "outputs": [],
   "source": [
    "from tqdm import tqdm\n",
    "import pandas as pd"
   ]
  },
  {
   "cell_type": "code",
   "execution_count": 1,
   "id": "1095e7b2",
   "metadata": {
    "ExecuteTime": {
     "end_time": "2023-01-03T17:16:15.022327Z",
     "start_time": "2023-01-03T17:16:14.999195Z"
    }
   },
   "outputs": [],
   "source": [
    "filepaths = !ls *.csv"
   ]
  },
  {
   "cell_type": "code",
   "execution_count": 4,
   "id": "947a5e65",
   "metadata": {
    "ExecuteTime": {
     "end_time": "2023-01-03T17:17:00.049155Z",
     "start_time": "2023-01-03T17:17:00.046548Z"
    }
   },
   "outputs": [],
   "source": [
    "filepaths=[i for i in filepaths if '@' in i]"
   ]
  },
  {
   "cell_type": "code",
   "execution_count": 59,
   "id": "81a49f9e",
   "metadata": {
    "ExecuteTime": {
     "end_time": "2023-01-03T17:31:50.563806Z",
     "start_time": "2023-01-03T17:31:50.558296Z"
    }
   },
   "outputs": [],
   "source": [
    "def add(sub,i):\n",
    "    df = pd.read_csv(filepaths[i])\n",
    "    df = df.groupby('user').item.apply(list).reset_index()\n",
    "    df[f'prediction{i}'] = df.item.map(lambda x: \" \".join(map(str,x)))\n",
    "    sub = sub.merge(df[['user',f'prediction{i}']],on='user',how='left')\n",
    "    return sub"
   ]
  },
  {
   "cell_type": "code",
   "execution_count": 60,
   "id": "6dd8a473",
   "metadata": {
    "ExecuteTime": {
     "end_time": "2023-01-03T17:31:52.489790Z",
     "start_time": "2023-01-03T17:31:52.315211Z"
    }
   },
   "outputs": [],
   "source": [
    "sub = pd.read_csv(filepaths[0])\n",
    "user_list=sorted(set(sub.user))\n",
    "sub = pd.DataFrame(user_list, columns=['user'])"
   ]
  },
  {
   "cell_type": "code",
   "execution_count": 61,
   "id": "30ee7447",
   "metadata": {
    "ExecuteTime": {
     "end_time": "2023-01-03T17:31:58.562250Z",
     "start_time": "2023-01-03T17:31:54.095586Z"
    }
   },
   "outputs": [],
   "source": [
    "for i in range(len(filepaths)):\n",
    "    sub = add(sub,i)"
   ]
  },
  {
   "cell_type": "code",
   "execution_count": 115,
   "id": "ddd2f91b",
   "metadata": {
    "ExecuteTime": {
     "end_time": "2023-01-04T08:14:56.997604Z",
     "start_time": "2023-01-04T08:14:56.982826Z"
    }
   },
   "outputs": [
    {
     "data": {
      "text/html": [
       "<div>\n",
       "<style scoped>\n",
       "    .dataframe tbody tr th:only-of-type {\n",
       "        vertical-align: middle;\n",
       "    }\n",
       "\n",
       "    .dataframe tbody tr th {\n",
       "        vertical-align: top;\n",
       "    }\n",
       "\n",
       "    .dataframe thead th {\n",
       "        text-align: right;\n",
       "    }\n",
       "</style>\n",
       "<table border=\"1\" class=\"dataframe\">\n",
       "  <thead>\n",
       "    <tr style=\"text-align: right;\">\n",
       "      <th></th>\n",
       "      <th>user</th>\n",
       "      <th>prediction0</th>\n",
       "      <th>prediction1</th>\n",
       "      <th>prediction2</th>\n",
       "      <th>prediction3</th>\n",
       "      <th>predction</th>\n",
       "      <th>prediction</th>\n",
       "    </tr>\n",
       "  </thead>\n",
       "  <tbody>\n",
       "    <tr>\n",
       "      <th>0</th>\n",
       "      <td>11</td>\n",
       "      <td>4370 4886 47 32587 40815 7373 33004 7438 8961 ...</td>\n",
       "      <td>2 3081 4370 1682 37729 5218 2617 2115 4886 8360</td>\n",
       "      <td>4370 37386 4886 2 32587 5218 8961 8861 8360 2617</td>\n",
       "      <td>8961 4886 47 40815 4963 32587 50 2115 1265 7438</td>\n",
       "      <td>4370 4886 8961 2 47 32587 40815 3081 37386 7438</td>\n",
       "      <td>4370 4886 8961 2 47 32587 40815 3081 37386 7438</td>\n",
       "    </tr>\n",
       "    <tr>\n",
       "      <th>1</th>\n",
       "      <td>14</td>\n",
       "      <td>1198 2011 1223 4857 919 1907 1073 4963 2398 1035</td>\n",
       "      <td>1028 919 2080 914 2565 40815 8368 588 2096 1198</td>\n",
       "      <td>1028 8368 1035 2080 40815 1907 4857 914 4802 1198</td>\n",
       "      <td>1198 588 6539 919 2011 2918 2762 1073 4963 2571</td>\n",
       "      <td>1198 1028 919 2011 588 8368 2080 4857 1223 1035</td>\n",
       "      <td>1198 1028 919 2011 588 8368 2080 4857 1223 1035</td>\n",
       "    </tr>\n",
       "    <tr>\n",
       "      <th>2</th>\n",
       "      <td>18</td>\n",
       "      <td>1193 296 4235 2324 5995 8873 2571 2692 46578 50</td>\n",
       "      <td>41285 8973 30707 6870 39183 46578 296 5995 423...</td>\n",
       "      <td>41285 34437 60950 46578 47629 39183 46723 5581...</td>\n",
       "      <td>296 1193 4226 50 2959 1213 47 111 5995 2571</td>\n",
       "      <td>296 1193 41285 4235 5995 46578 50 8973 34437 4226</td>\n",
       "      <td>296 1193 41285 4235 5995 46578 50 8973 34437 4226</td>\n",
       "    </tr>\n",
       "    <tr>\n",
       "      <th>3</th>\n",
       "      <td>25</td>\n",
       "      <td>1270 7153 2762 1073 47 1259 2997 1 1923 2329</td>\n",
       "      <td>47 7361 2329 2762 2997 1270 4226 608 4995 597</td>\n",
       "      <td>2762 47 4226 2329 1270 7361 608 2997 4973 2291</td>\n",
       "      <td>7153 2762 1270 47 4226 1 608 2329 1196 260</td>\n",
       "      <td>2762 1270 7153 47 2329 4226 7361 2997 608 1</td>\n",
       "      <td>2762 1270 7153 47 2329 4226 7361 2997 608 1</td>\n",
       "    </tr>\n",
       "    <tr>\n",
       "      <th>4</th>\n",
       "      <td>31</td>\n",
       "      <td>6377 34405 8360 91542 79132 68358 2628 68954 3...</td>\n",
       "      <td>8644 6541 34405 68358 79132 5349 52722 60040 6...</td>\n",
       "      <td>68954 68358 33679 63859 49272 8644 78499 4369 ...</td>\n",
       "      <td>6377 79132 68358 5349 68954 8636 8360 49272 26...</td>\n",
       "      <td>6377 68954 68358 79132 34405 8644 8360 5349 65...</td>\n",
       "      <td>6377 68954 68358 79132 34405 8644 8360 5349 65...</td>\n",
       "    </tr>\n",
       "    <tr>\n",
       "      <th>...</th>\n",
       "      <td>...</td>\n",
       "      <td>...</td>\n",
       "      <td>...</td>\n",
       "      <td>...</td>\n",
       "      <td>...</td>\n",
       "      <td>...</td>\n",
       "      <td>...</td>\n",
       "    </tr>\n",
       "    <tr>\n",
       "      <th>31355</th>\n",
       "      <td>138473</td>\n",
       "      <td>5952 7438 778 48394 593 7361 356 318 50 111</td>\n",
       "      <td>7438 7361 5952 44191 33794 318 48394 46578 593...</td>\n",
       "      <td>7361 48394 593 48780 356 5952 318 33794 44191 ...</td>\n",
       "      <td>5952 7438 7361 593 318 50 48394 778 356 4973</td>\n",
       "      <td>5952 7438 7361 48394 593 318 778 356 50 44191</td>\n",
       "      <td>5952 7438 7361 48394 593 318 778 356 50 44191</td>\n",
       "    </tr>\n",
       "    <tr>\n",
       "      <th>31356</th>\n",
       "      <td>138475</td>\n",
       "      <td>930 2203 2726 8228 942 3307 8491 5291 1945 1223</td>\n",
       "      <td>908 904 903 930 8491 965 2203 5291 1333 910</td>\n",
       "      <td>908 5291 904 3739 2937 8609 8044 8228 930 25805</td>\n",
       "      <td>904 908 903 750 1203 5291 1193 1230 1208 1247</td>\n",
       "      <td>908 904 930 5291 2203 903 2726 8228 8491 750</td>\n",
       "      <td>908 904 930 5291 2203 903 2726 8228 8491 750</td>\n",
       "    </tr>\n",
       "    <tr>\n",
       "      <th>31357</th>\n",
       "      <td>138486</td>\n",
       "      <td>1097 8368 8957 5679 589 588 377 1265 8636 6539</td>\n",
       "      <td>4993 5952 589 8636 7153 8957 592 260 5679 1200</td>\n",
       "      <td>5952 1200 4993 2571 1214 260 589 2959 5679 7153</td>\n",
       "      <td>6539 1097 8368 588 589 8636 4963 2571 1265 377</td>\n",
       "      <td>1097 6539 5952 8368 4993 589 8957 8636 588 5679</td>\n",
       "      <td>1097 6539 5952 8368 4993 589 8957 8636 588 5679</td>\n",
       "    </tr>\n",
       "    <tr>\n",
       "      <th>31358</th>\n",
       "      <td>138492</td>\n",
       "      <td>260 296 3897 2502 608 2918 8961 1265 5618 1221</td>\n",
       "      <td>2395 608 2502 1673 4979 1394 296 223 2918 1449</td>\n",
       "      <td>2502 223 2918 2395 296 608 1449 1060 3421 50</td>\n",
       "      <td>296 260 2918 2959 2502 1291 1265 3897 608 4226</td>\n",
       "      <td>296 260 2502 2395 2918 608 3897 223 1265 2959</td>\n",
       "      <td>296 260 2502 2395 2918 608 3897 223 1265 2959</td>\n",
       "    </tr>\n",
       "    <tr>\n",
       "      <th>31359</th>\n",
       "      <td>138493</td>\n",
       "      <td>551 2628 110 1270 8970 8961 5349 4022 32587 53125</td>\n",
       "      <td>1270 2011 32587 593 2012 8368 4370 551 40815 3...</td>\n",
       "      <td>4370 33615 2011 2012 2294 551 1270 46723 2003 ...</td>\n",
       "      <td>8961 1270 318 2762 593 5349 4226 33794 3578 58559</td>\n",
       "      <td>1270 551 8961 4370 2628 2011 33615 110 593 32587</td>\n",
       "      <td>1270 551 8961 4370 2628 2011 33615 110 593 32587</td>\n",
       "    </tr>\n",
       "  </tbody>\n",
       "</table>\n",
       "<p>31360 rows × 7 columns</p>\n",
       "</div>"
      ],
      "text/plain": [
       "         user                                        prediction0  \\\n",
       "0          11  4370 4886 47 32587 40815 7373 33004 7438 8961 ...   \n",
       "1          14   1198 2011 1223 4857 919 1907 1073 4963 2398 1035   \n",
       "2          18    1193 296 4235 2324 5995 8873 2571 2692 46578 50   \n",
       "3          25       1270 7153 2762 1073 47 1259 2997 1 1923 2329   \n",
       "4          31  6377 34405 8360 91542 79132 68358 2628 68954 3...   \n",
       "...       ...                                                ...   \n",
       "31355  138473        5952 7438 778 48394 593 7361 356 318 50 111   \n",
       "31356  138475    930 2203 2726 8228 942 3307 8491 5291 1945 1223   \n",
       "31357  138486     1097 8368 8957 5679 589 588 377 1265 8636 6539   \n",
       "31358  138492     260 296 3897 2502 608 2918 8961 1265 5618 1221   \n",
       "31359  138493  551 2628 110 1270 8970 8961 5349 4022 32587 53125   \n",
       "\n",
       "                                             prediction1  \\\n",
       "0        2 3081 4370 1682 37729 5218 2617 2115 4886 8360   \n",
       "1        1028 919 2080 914 2565 40815 8368 588 2096 1198   \n",
       "2      41285 8973 30707 6870 39183 46578 296 5995 423...   \n",
       "3          47 7361 2329 2762 2997 1270 4226 608 4995 597   \n",
       "4      8644 6541 34405 68358 79132 5349 52722 60040 6...   \n",
       "...                                                  ...   \n",
       "31355  7438 7361 5952 44191 33794 318 48394 46578 593...   \n",
       "31356        908 904 903 930 8491 965 2203 5291 1333 910   \n",
       "31357     4993 5952 589 8636 7153 8957 592 260 5679 1200   \n",
       "31358     2395 608 2502 1673 4979 1394 296 223 2918 1449   \n",
       "31359  1270 2011 32587 593 2012 8368 4370 551 40815 3...   \n",
       "\n",
       "                                             prediction2  \\\n",
       "0       4370 37386 4886 2 32587 5218 8961 8861 8360 2617   \n",
       "1      1028 8368 1035 2080 40815 1907 4857 914 4802 1198   \n",
       "2      41285 34437 60950 46578 47629 39183 46723 5581...   \n",
       "3         2762 47 4226 2329 1270 7361 608 2997 4973 2291   \n",
       "4      68954 68358 33679 63859 49272 8644 78499 4369 ...   \n",
       "...                                                  ...   \n",
       "31355  7361 48394 593 48780 356 5952 318 33794 44191 ...   \n",
       "31356    908 5291 904 3739 2937 8609 8044 8228 930 25805   \n",
       "31357    5952 1200 4993 2571 1214 260 589 2959 5679 7153   \n",
       "31358       2502 223 2918 2395 296 608 1449 1060 3421 50   \n",
       "31359  4370 33615 2011 2012 2294 551 1270 46723 2003 ...   \n",
       "\n",
       "                                             prediction3  \\\n",
       "0        8961 4886 47 40815 4963 32587 50 2115 1265 7438   \n",
       "1        1198 588 6539 919 2011 2918 2762 1073 4963 2571   \n",
       "2            296 1193 4226 50 2959 1213 47 111 5995 2571   \n",
       "3             7153 2762 1270 47 4226 1 608 2329 1196 260   \n",
       "4      6377 79132 68358 5349 68954 8636 8360 49272 26...   \n",
       "...                                                  ...   \n",
       "31355       5952 7438 7361 593 318 50 48394 778 356 4973   \n",
       "31356      904 908 903 750 1203 5291 1193 1230 1208 1247   \n",
       "31357     6539 1097 8368 588 589 8636 4963 2571 1265 377   \n",
       "31358     296 260 2918 2959 2502 1291 1265 3897 608 4226   \n",
       "31359  8961 1270 318 2762 593 5349 4226 33794 3578 58559   \n",
       "\n",
       "                                               predction  \\\n",
       "0        4370 4886 8961 2 47 32587 40815 3081 37386 7438   \n",
       "1        1198 1028 919 2011 588 8368 2080 4857 1223 1035   \n",
       "2      296 1193 41285 4235 5995 46578 50 8973 34437 4226   \n",
       "3            2762 1270 7153 47 2329 4226 7361 2997 608 1   \n",
       "4      6377 68954 68358 79132 34405 8644 8360 5349 65...   \n",
       "...                                                  ...   \n",
       "31355      5952 7438 7361 48394 593 318 778 356 50 44191   \n",
       "31356       908 904 930 5291 2203 903 2726 8228 8491 750   \n",
       "31357    1097 6539 5952 8368 4993 589 8957 8636 588 5679   \n",
       "31358      296 260 2502 2395 2918 608 3897 223 1265 2959   \n",
       "31359   1270 551 8961 4370 2628 2011 33615 110 593 32587   \n",
       "\n",
       "                                              prediction  \n",
       "0        4370 4886 8961 2 47 32587 40815 3081 37386 7438  \n",
       "1        1198 1028 919 2011 588 8368 2080 4857 1223 1035  \n",
       "2      296 1193 41285 4235 5995 46578 50 8973 34437 4226  \n",
       "3            2762 1270 7153 47 2329 4226 7361 2997 608 1  \n",
       "4      6377 68954 68358 79132 34405 8644 8360 5349 65...  \n",
       "...                                                  ...  \n",
       "31355      5952 7438 7361 48394 593 318 778 356 50 44191  \n",
       "31356       908 904 930 5291 2203 903 2726 8228 8491 750  \n",
       "31357    1097 6539 5952 8368 4993 589 8957 8636 588 5679  \n",
       "31358      296 260 2502 2395 2918 608 3897 223 1265 2959  \n",
       "31359   1270 551 8961 4370 2628 2011 33615 110 593 32587  \n",
       "\n",
       "[31360 rows x 7 columns]"
      ]
     },
     "execution_count": 115,
     "metadata": {},
     "output_type": "execute_result"
    }
   ],
   "source": [
    "sub"
   ]
  },
  {
   "cell_type": "code",
   "execution_count": 62,
   "id": "736d7352",
   "metadata": {
    "ExecuteTime": {
     "end_time": "2023-01-03T17:32:00.601906Z",
     "start_time": "2023-01-03T17:32:00.593211Z"
    }
   },
   "outputs": [],
   "source": [
    "def cust_blend(dt, W = [1,0.6,0.6,0.9]):\n",
    "    #Global ensemble weights\n",
    "    #W = [1.15,0.95,0.85]\n",
    "    \n",
    "    #Create a list of all model predictions\n",
    "    REC = []\n",
    "    REC.append(dt['prediction0'].split())\n",
    "    REC.append(dt['prediction1'].split())\n",
    "    REC.append(dt['prediction2'].split())\n",
    "    REC.append(dt['prediction3'].split())\n",
    "\n",
    "    #Create a dictionary of items recommended. \n",
    "    #Assign a weight according the order of appearance and multiply by global weights\n",
    "    res = {}\n",
    "    for M in range(len(REC)):\n",
    "        for n, v in enumerate(REC[M]):\n",
    "            if v in res:\n",
    "                res[v] += (W[M]/(n+1))\n",
    "            else:\n",
    "                res[v] = (W[M]/(n+1))\n",
    "    \n",
    "    # Sort dictionary by item weights\n",
    "    res = list(dict(sorted(res.items(), key=lambda item: -item[1])).keys())\n",
    "    \n",
    "    # Return the top 12 itens only\n",
    "    return ' '.join(res[:10])"
   ]
  },
  {
   "cell_type": "code",
   "execution_count": 69,
   "id": "294b7703",
   "metadata": {
    "ExecuteTime": {
     "end_time": "2023-01-03T17:35:53.426990Z",
     "start_time": "2023-01-03T17:35:51.468012Z"
    }
   },
   "outputs": [],
   "source": [
    "sub['prediction'] = sub.apply(cust_blend, W = [1,0.6,0.6,0.9], axis=1)"
   ]
  },
  {
   "cell_type": "code",
   "execution_count": 105,
   "id": "addd8cda",
   "metadata": {
    "ExecuteTime": {
     "end_time": "2023-01-03T17:43:26.506649Z",
     "start_time": "2023-01-03T17:43:25.577560Z"
    }
   },
   "outputs": [],
   "source": [
    "b_flat = pd.DataFrame([[i, x] \n",
    "               for i, y in sub['prediction'].apply(lambda x: x.split()).iteritems() \n",
    "                    for x in y], columns=list('IB'))\n",
    "b_flat = b_flat.set_index('I')"
   ]
  },
  {
   "cell_type": "code",
   "execution_count": 108,
   "id": "81e944b2",
   "metadata": {
    "ExecuteTime": {
     "end_time": "2023-01-03T17:43:59.723404Z",
     "start_time": "2023-01-03T17:43:59.700248Z"
    }
   },
   "outputs": [],
   "source": [
    "ensemble = sub[['user']].merge(b_flat, left_index=True, right_index=True)"
   ]
  },
  {
   "cell_type": "code",
   "execution_count": 114,
   "id": "04061165",
   "metadata": {
    "ExecuteTime": {
     "end_time": "2023-01-04T01:40:12.207557Z",
     "start_time": "2023-01-04T01:40:12.201629Z"
    }
   },
   "outputs": [],
   "source": [
    "ensemble.columns=['user','item']"
   ]
  },
  {
   "cell_type": "code",
   "execution_count": 110,
   "id": "ffda2665",
   "metadata": {
    "ExecuteTime": {
     "end_time": "2023-01-03T17:45:46.580463Z",
     "start_time": "2023-01-03T17:45:46.435011Z"
    }
   },
   "outputs": [
    {
     "name": "stdout",
     "output_type": "stream",
     "text": [
      "EASE@10_1595.csv\t\t\t    RecVAE@10_1279.csv\r\n",
      "EASE_1--FFM_0.6--NeuMF_0.6--RecVAE_0.9.csv  cust_blend.ipynb\r\n",
      "EASE_1--FFM_0.7--NeuMF_0.7--RecVAE_1.csv    ensemble.ipynb\r\n",
      "FFM@10_1079.csv\t\t\t\t    ensemble.py\r\n",
      "NeuMF@10_1048.csv\r\n"
     ]
    }
   ],
   "source": [
    "!ls"
   ]
  },
  {
   "cell_type": "code",
   "execution_count": 111,
   "id": "397c6387",
   "metadata": {
    "ExecuteTime": {
     "end_time": "2023-01-03T17:45:58.947095Z",
     "start_time": "2023-01-03T17:45:58.407050Z"
    }
   },
   "outputs": [],
   "source": [
    "ensemble.to_csv(\"ensemble_test.csv\",index=False)"
   ]
  }
 ],
 "metadata": {
  "kernelspec": {
   "display_name": "Python 3 (ipykernel)",
   "language": "python",
   "name": "python3"
  },
  "language_info": {
   "codemirror_mode": {
    "name": "ipython",
    "version": 3
   },
   "file_extension": ".py",
   "mimetype": "text/x-python",
   "name": "python",
   "nbconvert_exporter": "python",
   "pygments_lexer": "ipython3",
   "version": "3.8.5"
  },
  "toc": {
   "base_numbering": 1,
   "nav_menu": {},
   "number_sections": true,
   "sideBar": true,
   "skip_h1_title": false,
   "title_cell": "Table of Contents",
   "title_sidebar": "Contents",
   "toc_cell": false,
   "toc_position": {},
   "toc_section_display": true,
   "toc_window_display": false
  }
 },
 "nbformat": 4,
 "nbformat_minor": 5
}

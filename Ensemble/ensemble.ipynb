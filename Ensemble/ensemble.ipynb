{
 "cells": [
  {
   "cell_type": "code",
   "execution_count": 11,
   "id": "b905440b",
   "metadata": {
    "ExecuteTime": {
     "end_time": "2023-01-05T07:03:04.125344Z",
     "start_time": "2023-01-05T07:03:03.784165Z"
    }
   },
   "outputs": [],
   "source": [
    "import sys\n",
    "import pandas as pd\n",
    "from collections import defaultdict\n",
    "from tqdm import tqdm"
   ]
  },
  {
   "cell_type": "code",
   "execution_count": 43,
   "id": "f28512ce",
   "metadata": {
    "ExecuteTime": {
     "end_time": "2023-01-05T11:16:48.503614Z",
     "start_time": "2023-01-05T11:16:48.480325Z"
    }
   },
   "outputs": [
    {
     "data": {
      "text/plain": [
       "['ADMM@20.csv',\n",
       " 'CDAE@20.csv',\n",
       " 'EASE@20.csv',\n",
       " 'FFM@20.csv',\n",
       " 'GRU4RecF@20.csv',\n",
       " 'ItemKNN@20.csv',\n",
       " 'LGCN@20.csv',\n",
       " 'MultiDAE@20.csv',\n",
       " 'NeuMF@20.csv',\n",
       " 'Pop@20.csv',\n",
       " 'RecVAE@20.csv',\n",
       " 'SLIMElastic@20.csv']"
      ]
     },
     "execution_count": 43,
     "metadata": {},
     "output_type": "execute_result"
    }
   ],
   "source": [
    "filepaths=!ls *.csv\n",
    "filepaths=[i for i in filepaths if '@20' in i]\n",
    "filepaths"
   ]
  },
  {
   "cell_type": "code",
   "execution_count": 5,
   "id": "affefcde",
   "metadata": {
    "ExecuteTime": {
     "end_time": "2023-01-05T06:59:31.225083Z",
     "start_time": "2023-01-05T06:59:31.221634Z"
    }
   },
   "outputs": [],
   "source": [
    "filepaths=[i for i in filepaths if '@' in i]"
   ]
  },
  {
   "cell_type": "code",
   "execution_count": 36,
   "id": "0f614411",
   "metadata": {
    "ExecuteTime": {
     "end_time": "2023-01-05T07:21:35.059214Z",
     "start_time": "2023-01-05T07:21:35.055586Z"
    }
   },
   "outputs": [],
   "source": [
    "ratios=[1,0.7,0.7,0.9,0.35]"
   ]
  },
  {
   "cell_type": "code",
   "execution_count": 37,
   "id": "c88dcd05",
   "metadata": {
    "ExecuteTime": {
     "end_time": "2023-01-05T07:21:35.645607Z",
     "start_time": "2023-01-05T07:21:35.338066Z"
    }
   },
   "outputs": [
    {
     "name": "stdout",
     "output_type": "stream",
     "text": [
      "순위별 가중치값 입력(ex: 1 0.9 0.8 ...)\n",
      "앙상블 모델 개수: 5\n"
     ]
    }
   ],
   "source": [
    "dataframe_list = []\n",
    "\n",
    "print('순위별 가중치값 입력(ex: 1 0.9 0.8 ...)')\n",
    "rank_ratio = [1 for i in range(15)]\n",
    "rank_len = len(rank_ratio)\n",
    "\n",
    "print(f\"앙상블 모델 개수: {len(filepaths)}\")\n",
    "\n",
    "for i in range(len(filepaths)):\n",
    "    dataframe_list.append(pd.read_csv(filepaths[i]))\n",
    "\n",
    "user_list = dataframe_list[0]['user'].unique()\n",
    "dataframe_len = len(dataframe_list)"
   ]
  },
  {
   "cell_type": "code",
   "execution_count": 38,
   "id": "a0996824",
   "metadata": {
    "ExecuteTime": {
     "end_time": "2023-01-05T07:21:35.653389Z",
     "start_time": "2023-01-05T07:21:35.648827Z"
    }
   },
   "outputs": [
    {
     "data": {
      "text/plain": [
       "31360"
      ]
     },
     "execution_count": 38,
     "metadata": {},
     "output_type": "execute_result"
    }
   ],
   "source": [
    "len(user_list)"
   ]
  },
  {
   "cell_type": "code",
   "execution_count": 39,
   "id": "e9d7b3dc",
   "metadata": {
    "ExecuteTime": {
     "end_time": "2023-01-05T07:23:51.907253Z",
     "start_time": "2023-01-05T07:21:36.955102Z"
    }
   },
   "outputs": [
    {
     "name": "stderr",
     "output_type": "stream",
     "text": [
      "Ensemble: 100%|█████████████████████████████████████████████| 31360/31360 [02:14<00:00, 232.47it/s]\n"
     ]
    }
   ],
   "source": [
    "K=13\n",
    "result = []\n",
    "tbar = tqdm(user_list, desc='Ensemble')\n",
    "for user in tbar:\n",
    "    temp = defaultdict(float)\n",
    "    for df_idx in range(dataframe_len):\n",
    "        items = dataframe_list[df_idx][dataframe_list[df_idx]['user'] == user]['item'].values\n",
    "        max_rank = min(len(items), rank_len)\n",
    "        for rank_idx in range(max_rank):\n",
    "            temp[items[rank_idx]] += rank_ratio[rank_idx] * ratios[df_idx]\n",
    "\n",
    "    for key, _ in sorted(temp.items(), key=lambda x: x[1], reverse=True)[:K]:\n",
    "        result.append((user, key))"
   ]
  },
  {
   "cell_type": "code",
   "execution_count": 44,
   "id": "8d138ab8",
   "metadata": {
    "ExecuteTime": {
     "end_time": "2023-01-05T11:17:01.605911Z",
     "start_time": "2023-01-05T11:17:01.600844Z"
    }
   },
   "outputs": [
    {
     "data": {
      "text/plain": [
       "'ADMM_1--CDAE_0.7--EASE_0.7--FFM_0.9--GRU4RecF_0.35'"
      ]
     },
     "execution_count": 44,
     "metadata": {},
     "output_type": "execute_result"
    }
   ],
   "source": [
    "filename=\"--\".join([f\"{m.split('@')[0]}_{r}\" for m,r in zip(filepaths,ratios) if \"@\" in m])\n",
    "filename"
   ]
  },
  {
   "cell_type": "code",
   "execution_count": 41,
   "id": "9432c82e",
   "metadata": {
    "ExecuteTime": {
     "end_time": "2023-01-05T07:24:37.278365Z",
     "start_time": "2023-01-05T07:24:37.275557Z"
    }
   },
   "outputs": [],
   "source": [
    "filename=\"Ensemble@13\""
   ]
  },
  {
   "cell_type": "code",
   "execution_count": 42,
   "id": "81df7db1",
   "metadata": {
    "ExecuteTime": {
     "end_time": "2023-01-05T07:24:38.565963Z",
     "start_time": "2023-01-05T07:24:37.714831Z"
    }
   },
   "outputs": [],
   "source": [
    "submission = pd.DataFrame(result, columns=['user', 'item'])\n",
    "submission.to_csv(f'{filename}.csv', index=False)"
   ]
  },
  {
   "cell_type": "code",
   "execution_count": null,
   "id": "615cf255",
   "metadata": {},
   "outputs": [],
   "source": []
  },
  {
   "cell_type": "code",
   "execution_count": null,
   "id": "bf203ac5",
   "metadata": {},
   "outputs": [],
   "source": []
  },
  {
   "cell_type": "code",
   "execution_count": null,
   "id": "33ab03bc",
   "metadata": {},
   "outputs": [],
   "source": []
  },
  {
   "cell_type": "code",
   "execution_count": null,
   "id": "e05ebbca",
   "metadata": {},
   "outputs": [],
   "source": []
  },
  {
   "cell_type": "code",
   "execution_count": null,
   "id": "591bc9ad",
   "metadata": {},
   "outputs": [],
   "source": []
  },
  {
   "cell_type": "code",
   "execution_count": null,
   "id": "00ff80c0",
   "metadata": {},
   "outputs": [],
   "source": []
  },
  {
   "cell_type": "code",
   "execution_count": null,
   "id": "697e9c5a",
   "metadata": {},
   "outputs": [],
   "source": [
    "ratios = []\n",
    "dataframe_list = []\n",
    "\n",
    "print('순위별 가중치값 입력(ex: 1 0.9 0.8 ...)')\n",
    "rank_ratio = list(map(float, sys.stdin.readline().split()))\n",
    "rank_len = len(rank_ratio)\n",
    "\n",
    "num = int(input('앙상블할 모델 결과 개수: '))\n",
    "\n",
    "for i in range(num):\n",
    "    filepath = input(f'{i+1}번째 파일 경로: ')\n",
    "    ratio = float(input(f'{i+1}번째 파일 가중치(0~1 사이 실수): '))\n",
    "    dataframe_list.append(pd.read_csv(filepath))\n",
    "    ratios.append(ratio)\n",
    "\n",
    "user_list = dataframe_list[0]['user'].unique()\n",
    "dataframe_len = len(dataframe_list)\n",
    "\n",
    "result = []\n",
    "tbar = tqdm(user_list, desc='Ensemble')\n",
    "for user in tbar:\n",
    "    temp = defaultdict(float)\n",
    "    for df_idx in range(dataframe_len):\n",
    "        items = dataframe_list[df_idx][dataframe_list[df_idx]['user'] == user]['item'].values\n",
    "        max_rank = min(len(items), rank_len)\n",
    "        for rank_idx in range(max_rank):\n",
    "            temp[items[rank_idx]] += rank_ratio[rank_idx] * ratios[df_idx]\n",
    "\n",
    "    for key, _ in sorted(temp.items(), key=lambda x: x[1], reverse=True)[:10]:\n",
    "        result.append((user, key))\n",
    "\n",
    "submission = pd.DataFrame(result, columns=['user', 'item'])\n",
    "submission.to_csv(f'ensemble({num})-file.csv', index=False)"
   ]
  }
 ],
 "metadata": {
  "kernelspec": {
   "display_name": "Python 3 (ipykernel)",
   "language": "python",
   "name": "python3"
  },
  "language_info": {
   "codemirror_mode": {
    "name": "ipython",
    "version": 3
   },
   "file_extension": ".py",
   "mimetype": "text/x-python",
   "name": "python",
   "nbconvert_exporter": "python",
   "pygments_lexer": "ipython3",
   "version": "3.8.5"
  },
  "toc": {
   "base_numbering": 1,
   "nav_menu": {},
   "number_sections": true,
   "sideBar": true,
   "skip_h1_title": false,
   "title_cell": "Table of Contents",
   "title_sidebar": "Contents",
   "toc_cell": false,
   "toc_position": {},
   "toc_section_display": true,
   "toc_window_display": false
  }
 },
 "nbformat": 4,
 "nbformat_minor": 5
}

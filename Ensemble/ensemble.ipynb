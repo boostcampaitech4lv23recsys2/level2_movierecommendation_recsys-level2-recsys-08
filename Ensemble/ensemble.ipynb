{
 "cells": [
  {
   "cell_type": "code",
   "execution_count": 19,
   "id": "b905440b",
   "metadata": {
    "ExecuteTime": {
     "end_time": "2023-01-03T15:45:16.154939Z",
     "start_time": "2023-01-03T15:45:15.620450Z"
    }
   },
   "outputs": [],
   "source": [
    "import sys\n",
    "import pandas as pd\n",
    "from collections import defaultdict\n",
    "from tqdm import tqdm"
   ]
  },
  {
   "cell_type": "code",
   "execution_count": null,
   "id": "697e9c5a",
   "metadata": {},
   "outputs": [],
   "source": [
    "ratios = []\n",
    "dataframe_list = []\n",
    "\n",
    "print('순위별 가중치값 입력(ex: 1 0.9 0.8 ...)')\n",
    "rank_ratio = list(map(float, sys.stdin.readline().split()))\n",
    "rank_len = len(rank_ratio)\n",
    "\n",
    "num = int(input('앙상블할 모델 결과 개수: '))\n",
    "\n",
    "for i in range(num):\n",
    "    filepath = input(f'{i+1}번째 파일 경로: ')\n",
    "    ratio = float(input(f'{i+1}번째 파일 가중치(0~1 사이 실수): '))\n",
    "    dataframe_list.append(pd.read_csv(filepath))\n",
    "    ratios.append(ratio)\n",
    "\n",
    "user_list = dataframe_list[0]['user'].unique()\n",
    "dataframe_len = len(dataframe_list)\n",
    "\n",
    "result = []\n",
    "tbar = tqdm(user_list, desc='Ensemble')\n",
    "for user in tbar:\n",
    "    temp = defaultdict(float)\n",
    "    for df_idx in range(dataframe_len):\n",
    "        items = dataframe_list[df_idx][dataframe_list[df_idx]['user'] == user]['item'].values\n",
    "        max_rank = min(len(items), rank_len)\n",
    "        for rank_idx in range(max_rank):\n",
    "            temp[items[rank_idx]] += rank_ratio[rank_idx] * ratios[df_idx]\n",
    "\n",
    "    for key, _ in sorted(temp.items(), key=lambda x: x[1], reverse=True)[:10]:\n",
    "        result.append((user, key))\n",
    "\n",
    "submission = pd.DataFrame(result, columns=['user', 'item'])\n",
    "submission.to_csv(f'ensemble({num})-file.csv', index=False)"
   ]
  },
  {
   "cell_type": "code",
   "execution_count": 9,
   "id": "0ce063e0",
   "metadata": {
    "ExecuteTime": {
     "end_time": "2023-01-03T15:42:43.642375Z",
     "start_time": "2023-01-03T15:42:43.525632Z"
    }
   },
   "outputs": [
    {
     "name": "stdout",
     "output_type": "stream",
     "text": [
      "EASE@10_1595.csv  FFM@10_1079.csv  NeuMF@10_1048.csv  RecVAE@10_1279.csv\r\n"
     ]
    }
   ],
   "source": [
    "!ls *.csv"
   ]
  },
  {
   "cell_type": "code",
   "execution_count": 58,
   "id": "f28512ce",
   "metadata": {
    "ExecuteTime": {
     "end_time": "2023-01-03T17:15:48.646840Z",
     "start_time": "2023-01-03T17:15:48.618753Z"
    }
   },
   "outputs": [],
   "source": [
    "filepaths=!ls *.csv"
   ]
  },
  {
   "cell_type": "code",
   "execution_count": 80,
   "id": "affefcde",
   "metadata": {
    "ExecuteTime": {
     "end_time": "2023-01-04T05:39:49.967178Z",
     "start_time": "2023-01-04T05:39:49.961657Z"
    }
   },
   "outputs": [],
   "source": [
    "filepaths=[i for i in filepaths if '@' in i]"
   ]
  },
  {
   "cell_type": "code",
   "execution_count": 81,
   "id": "806061d6",
   "metadata": {
    "ExecuteTime": {
     "end_time": "2023-01-04T05:39:50.275989Z",
     "start_time": "2023-01-04T05:39:50.268304Z"
    }
   },
   "outputs": [
    {
     "data": {
      "text/plain": [
       "['EASE@10_1595.csv',\n",
       " 'FFM@10_1079.csv',\n",
       " 'NeuMF@10_1048.csv',\n",
       " 'RecVAE@10_1279.csv']"
      ]
     },
     "execution_count": 81,
     "metadata": {},
     "output_type": "execute_result"
    }
   ],
   "source": [
    "filepaths"
   ]
  },
  {
   "cell_type": "code",
   "execution_count": 84,
   "id": "0f614411",
   "metadata": {
    "ExecuteTime": {
     "end_time": "2023-01-04T05:40:15.935258Z",
     "start_time": "2023-01-04T05:40:15.932390Z"
    }
   },
   "outputs": [],
   "source": [
    "ratios=[1,1,1,1]"
   ]
  },
  {
   "cell_type": "code",
   "execution_count": 83,
   "id": "c88dcd05",
   "metadata": {
    "ExecuteTime": {
     "end_time": "2023-01-04T05:40:00.553721Z",
     "start_time": "2023-01-04T05:40:00.332476Z"
    }
   },
   "outputs": [
    {
     "name": "stdout",
     "output_type": "stream",
     "text": [
      "순위별 가중치값 입력(ex: 1 0.9 0.8 ...)\n",
      "앙상블 모델 개수: 4\n"
     ]
    }
   ],
   "source": [
    "dataframe_list = []\n",
    "\n",
    "print('순위별 가중치값 입력(ex: 1 0.9 0.8 ...)')\n",
    "rank_ratio = [1 for i in range(15)]\n",
    "rank_len = len(rank_ratio)\n",
    "\n",
    "print(f\"앙상블 모델 개수: {len(filepaths)}\")\n",
    "\n",
    "for i in range(len(filepaths)):\n",
    "    dataframe_list.append(pd.read_csv(filepaths[i]))\n",
    "\n",
    "user_list = dataframe_list[0]['user'].unique()\n",
    "dataframe_len = len(dataframe_list)"
   ]
  },
  {
   "cell_type": "code",
   "execution_count": 68,
   "id": "a0996824",
   "metadata": {
    "ExecuteTime": {
     "end_time": "2023-01-03T19:48:17.589301Z",
     "start_time": "2023-01-03T19:48:17.585330Z"
    }
   },
   "outputs": [
    {
     "data": {
      "text/plain": [
       "31360"
      ]
     },
     "execution_count": 68,
     "metadata": {},
     "output_type": "execute_result"
    }
   ],
   "source": [
    "len(user_list)"
   ]
  },
  {
   "cell_type": "code",
   "execution_count": 69,
   "id": "e9d7b3dc",
   "metadata": {
    "ExecuteTime": {
     "end_time": "2023-01-03T19:50:28.561125Z",
     "start_time": "2023-01-03T19:48:18.428716Z"
    }
   },
   "outputs": [
    {
     "name": "stderr",
     "output_type": "stream",
     "text": [
      "Ensemble: 100%|█████████████████████████████████████████████| 31360/31360 [02:10<00:00, 241.00it/s]\n"
     ]
    }
   ],
   "source": [
    "result = []\n",
    "tbar = tqdm(user_list, desc='Ensemble')\n",
    "for user in tbar:\n",
    "    temp = defaultdict(float)\n",
    "    for df_idx in range(dataframe_len):\n",
    "        items = dataframe_list[df_idx][dataframe_list[df_idx]['user'] == user]['item'].values\n",
    "        max_rank = min(len(items), rank_len)\n",
    "        for rank_idx in range(max_rank):\n",
    "            temp[items[rank_idx]] += rank_ratio[rank_idx] * ratios[df_idx]\n",
    "\n",
    "    for key, _ in sorted(temp.items(), key=lambda x: x[1], reverse=True)[:10]:\n",
    "        result.append((user, key))"
   ]
  },
  {
   "cell_type": "code",
   "execution_count": 85,
   "id": "8d138ab8",
   "metadata": {
    "ExecuteTime": {
     "end_time": "2023-01-04T05:40:19.393630Z",
     "start_time": "2023-01-04T05:40:19.388985Z"
    }
   },
   "outputs": [
    {
     "data": {
      "text/plain": [
       "'EASE_1--FFM_1--NeuMF_1--RecVAE_1'"
      ]
     },
     "execution_count": 85,
     "metadata": {},
     "output_type": "execute_result"
    }
   ],
   "source": [
    "filename=\"--\".join([f\"{m.split('@')[0]}_{r}\" for m,r in zip(filepaths,ratios) if \"@\" in m])\n",
    "filename"
   ]
  },
  {
   "cell_type": "code",
   "execution_count": 78,
   "id": "81df7db1",
   "metadata": {
    "ExecuteTime": {
     "end_time": "2023-01-03T19:52:06.836411Z",
     "start_time": "2023-01-03T19:52:06.172212Z"
    }
   },
   "outputs": [],
   "source": [
    "submission = pd.DataFrame(result, columns=['user', 'item'])\n",
    "submission.to_csv(f'{filename}.csv', index=False)"
   ]
  },
  {
   "cell_type": "code",
   "execution_count": 79,
   "id": "fddf53a0",
   "metadata": {
    "ExecuteTime": {
     "end_time": "2023-01-03T19:52:07.469722Z",
     "start_time": "2023-01-03T19:52:07.334811Z"
    }
   },
   "outputs": [
    {
     "name": "stdout",
     "output_type": "stream",
     "text": [
      "EASE@10_1595.csv\t\t\t    NeuMF@10_1048.csv\r\n",
      "EASE_1--FFM_0.6--NeuMF_0.6--RecVAE_0.9.csv  RecVAE@10_1279.csv\r\n",
      "EASE_1--FFM_0.7--NeuMF_0.7--RecVAE_1.csv    cust_blend.ipynb\r\n",
      "EASE_1--FFM_1--NeuMF_1--RecVAE_1.csv\t    ensemble.ipynb\r\n",
      "EASE_1--NeuMF_1--RecVAE_1.csv\t\t    ensemble.py\r\n",
      "FFM@10_1079.csv\t\t\t\t    ensemble_test.csv\r\n"
     ]
    }
   ],
   "source": [
    "!ls"
   ]
  }
 ],
 "metadata": {
  "kernelspec": {
   "display_name": "Python 3 (ipykernel)",
   "language": "python",
   "name": "python3"
  },
  "language_info": {
   "codemirror_mode": {
    "name": "ipython",
    "version": 3
   },
   "file_extension": ".py",
   "mimetype": "text/x-python",
   "name": "python",
   "nbconvert_exporter": "python",
   "pygments_lexer": "ipython3",
   "version": "3.8.5"
  },
  "toc": {
   "base_numbering": 1,
   "nav_menu": {},
   "number_sections": true,
   "sideBar": true,
   "skip_h1_title": false,
   "title_cell": "Table of Contents",
   "title_sidebar": "Contents",
   "toc_cell": false,
   "toc_position": {},
   "toc_section_display": true,
   "toc_window_display": false
  }
 },
 "nbformat": 4,
 "nbformat_minor": 5
}
